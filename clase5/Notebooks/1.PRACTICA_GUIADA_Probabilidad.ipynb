{
 "cells": [
  {
   "cell_type": "markdown",
   "metadata": {
    "colab_type": "text",
    "id": "N7I_syqz8d16"
   },
   "source": [
    "# Probabilidad y distribuciones estadísticas\n",
    "## Muestras con NumPy"
   ]
  },
  {
   "cell_type": "code",
   "execution_count": 1,
   "metadata": {
    "colab": {},
    "colab_type": "code",
    "id": "4iW6qALE8d1_"
   },
   "outputs": [
    {
     "ename": "ModuleNotFoundError",
     "evalue": "No module named 'numpy'",
     "output_type": "error",
     "traceback": [
      "\u001b[0;31m---------------------------------------------------------------------------\u001b[0m",
      "\u001b[0;31mModuleNotFoundError\u001b[0m                       Traceback (most recent call last)",
      "\u001b[0;32m<ipython-input-1-13db426559a2>\u001b[0m in \u001b[0;36m<module>\u001b[0;34m\u001b[0m\n\u001b[0;32m----> 1\u001b[0;31m \u001b[0;32mimport\u001b[0m \u001b[0mnumpy\u001b[0m \u001b[0;32mas\u001b[0m \u001b[0mnp\u001b[0m\u001b[0;34m\u001b[0m\u001b[0;34m\u001b[0m\u001b[0m\n\u001b[0m\u001b[1;32m      2\u001b[0m \u001b[0;32mfrom\u001b[0m \u001b[0mscipy\u001b[0m \u001b[0;32mimport\u001b[0m \u001b[0mstats\u001b[0m\u001b[0;34m\u001b[0m\u001b[0;34m\u001b[0m\u001b[0m\n\u001b[1;32m      3\u001b[0m \u001b[0;34m\u001b[0m\u001b[0m\n\u001b[1;32m      4\u001b[0m \u001b[0;32mimport\u001b[0m \u001b[0mmatplotlib\u001b[0m\u001b[0;34m.\u001b[0m\u001b[0mpyplot\u001b[0m \u001b[0;32mas\u001b[0m \u001b[0mplt\u001b[0m\u001b[0;34m\u001b[0m\u001b[0;34m\u001b[0m\u001b[0m\n\u001b[1;32m      5\u001b[0m \u001b[0;32mimport\u001b[0m \u001b[0mseaborn\u001b[0m \u001b[0;32mas\u001b[0m \u001b[0msns\u001b[0m\u001b[0;34m\u001b[0m\u001b[0;34m\u001b[0m\u001b[0m\n",
      "\u001b[0;31mModuleNotFoundError\u001b[0m: No module named 'numpy'"
     ]
    }
   ],
   "source": [
    "import numpy as np\n",
    "from scipy import stats\n",
    "\n",
    "import matplotlib.pyplot as plt\n",
    "import seaborn as sns\n",
    "%matplotlib inline"
   ]
  },
  {
   "cell_type": "markdown",
   "metadata": {
    "colab_type": "text",
    "id": "MKgkM8Kk8d2L"
   },
   "source": [
    "El submódulo **random** de **NumPy** ofrece un conjunto de funciones que generan valores aleatorios que pueden provenir de diversas clases de distribuciones estadísticas y brindan un set de datos pertenecientes a los valores del espacio muestral de dichas distribuciones.\n",
    "\n",
    "En la práctica si requerimos un conjunto de 100 datos que sigan una distribución normal, tendríamos que realizar un llamado a la función normal indicándole la media y el desvío:\n",
    "\n",
    "```python\n",
    "    >> media = 0\n",
    "    >> desvio = 1\n",
    "    >> numpy.random.normal(media, desvio, 100)\n",
    "```\n",
    "\n",
    "Vamos trabajar con datos provenientes de distintas distribuciones (dadas por **numpy.random**). Vamos a emplear una gran cantidad de datos para poder apreciar correctamente el comportamiento estadístico de las variables a partir de visualizaciones. Su forma gráfica constituye una primera aproximación al modelado y/o su predicción. Muchas veces es posible tener una idea de cómo éstos se comportan matemáticamente solo con visualizarlos en un gráfico."
   ]
  },
  {
   "cell_type": "markdown",
   "metadata": {
    "colab_type": "text",
    "id": "uGPia_CB8d2N"
   },
   "source": [
    "### 1. Distribución uniforme discreta\n",
    "Se dice que una variable sigue una distribución uniforme discreta (se escribe **_X_ ~ ** _unif_ {$x_1, x_2, ... x_n$}) si la probabilidad de aparicion de los valores en cada ensayo es constante e igual: \n",
    "\n",
    "\\begin{equation*}\n",
    "P(x_i)= \\dfrac{1}{n}\n",
    "\\end{equation*}\n",
    "\n",
    "Donde **_P_** es la probabilidad, **_x_** representa los valores dentro del espacio muestral y **_n_** la cantidad de elementos del espacio muestral.\n",
    "\n",
    "A continuación vamos a realizar un llamado a la función **```randint``` ** que ajusta a valores provenientes de una distribución uniforme discreta, con la motivación de simular el tiro de un dado equilibrado 4.500 veces..."
   ]
  },
  {
   "cell_type": "code",
   "execution_count": null,
   "metadata": {
    "colab": {},
    "colab_type": "code",
    "id": "SAlW3iDx8d2O",
    "outputId": "0bdb2004-2349-4b2a-dd3c-c2bf0e6f351b"
   },
   "outputs": [],
   "source": [
    "# Definimos el dominio del dado, donde sumamos 1 al valor máximo... ¿por qué?\n",
    "valor_min = 1\n",
    "valor_max = 6 + 1\n",
    "\n",
    "# Definimos la cantidad de lanzamientos del dado.\n",
    "lanzamientos = 4500\n",
    "\n",
    "# Hacemos un llamado a la función randint, que devuelve el resultado de cada lanzamiento\n",
    "np.random.seed(123)\n",
    "samples_uniforme = np.random.randint(low = valor_min, high = valor_max, size = lanzamientos)\n",
    "\n",
    "# Graficamos los resultados\n",
    "eje_x = 'número obtenido'\n",
    "sns.set_style('white')\n",
    "sns.distplot(samples_uniforme, axlabel = eje_x, kde=False, color='g' );"
   ]
  },
  {
   "cell_type": "markdown",
   "metadata": {
    "colab_type": "text",
    "id": "9ttcp72a8d2W"
   },
   "source": [
    "### 2.Distribución de Bernoulli"
   ]
  },
  {
   "cell_type": "code",
   "execution_count": null,
   "metadata": {
    "colab": {},
    "colab_type": "code",
    "id": "amQ49bAG8d2X",
    "outputId": "45504a68-a737-4cb3-a9ab-15cfd94fb958"
   },
   "outputs": [],
   "source": [
    "from scipy.stats import bernoulli\n",
    "bern = bernoulli.rvs(p=0.7, size=1000)\n",
    "\n",
    "plt.title('Bernoulli: variables dicotómica')\n",
    "plt.hist(bern, color='m');"
   ]
  },
  {
   "cell_type": "markdown",
   "metadata": {
    "colab_type": "text",
    "id": "1Ttop5ZN8d2f"
   },
   "source": [
    "### 3. Distribución binomial\n",
    "\n",
    "Mide el número de éxitos en una secuencia de _**n**_ ensayos independientes entre sí, con una probabilidad fija **_p_** de ocurrencia del éxito entre los ensayos.\n",
    "\n",
    "Cuando una variable **_X_** sigue una distribución binomial se escribe **_X ~ B (n, p)_** . Donde **_p_** es la probabilidad de éxito (que es fija), y _**n**_ el número de ensayos. \n",
    "\n",
    "La función de probabilidad es:\n",
    "\n",
    "\\begin{equation*}\n",
    "f(x)=  \\binom {n}{x} (p)^x (1-p)^{(n-x)}\n",
    "\\end{equation*}\n",
    "\n",
    "Donde **_x_** es la cantidad de aciertos, **_p_** la probabilidad de éxito, **_n_** la cantidad de ensayos.\n",
    "\n",
    "\n",
    "\n",
    "En este caso vamos a simular el lanzamiento de una moneda 8 veces por ensayo,  en donde la probabilidad de tener éxito (obtener cara) será de 0,5. A continuación la función de distribución para el caso:\n",
    "\n",
    "\\begin{equation*}\n",
    "f(x)=  \\binom {8}{x} (0,5)^x (1-0,5)^{(8-x)}\n",
    "\\end{equation*}\n",
    "\n",
    "Vamos a realizar un llamado a la función **```binomial``` ** que ajusta a valores provenientes de una distribución binomial y vamos a realizar 10.000 ensayos para armar la distribución.\n"
   ]
  },
  {
   "cell_type": "code",
   "execution_count": null,
   "metadata": {
    "colab": {},
    "colab_type": "code",
    "id": "npNW66058d2g",
    "outputId": "c5244e3e-defe-4bfb-df6a-2561d43b0b67"
   },
   "outputs": [],
   "source": [
    "# definimos la cantidad de ensayos.\n",
    "cantidad_ensayos = 1000\n",
    "\n",
    "# definimos la cantidad de lanzamientos por ensayo.\n",
    "lanzamientos = 8\n",
    "\n",
    "# definimos la probabilidad de obtener cara en cada lanzamiento.\n",
    "probabilidad_exito = 0.5\n",
    "\n",
    "# binomial devuelve el número de éxitos de cada vez que se realizo un ensayo de 8 lanzamientos.\n",
    "samples_binomial = np.random.binomial(n = lanzamientos, p = probabilidad_exito, size = cantidad_ensayos)\n",
    "\n",
    "# construímos un gráfico.\n",
    "eje_x = 'Número de aciertos por ensayo de 8 lanzamientos'\n",
    "sns.distplot(samples_binomial, axlabel = eje_x, kde = False, color='c');"
   ]
  },
  {
   "cell_type": "markdown",
   "metadata": {
    "colab_type": "text",
    "id": "86TtXtEz8d2o"
   },
   "source": [
    "### 4. Distribución de Poisson\n",
    "\n",
    "La distribución de poisson modela la ocurrencia de un evento sobre un continuo, por ejemplo, el número de clientes que entran a un banco durante la mañana, o la cantidad de fallos de un automovil durante un recorrido...\n",
    "\n",
    "Esta distribución tiene como parámetro $\\lambda$, que siempre es mayor que cero, este parámetro indica el número promedio de ocurrencias de un evento por unidad continua  (como tiempo o espacio).\n",
    "\n",
    "Cuando una variable **_X_** sigue una distribución de Poisson se escribe **_X ~ Poisson ($\\lambda$)_** y la función de probabilidad es:\n",
    "\n",
    "\\begin{equation*}\n",
    "f(x)= e^{-\\lambda} \\dfrac{\\lambda^x}{x!}\n",
    "\\end{equation*}\n",
    "\n",
    "\n",
    "Se propone el ejemplo de un tren donde ocurren en promedio 1.5 fallos por día, por lo tanto $\\lambda = 1.5 $ y nuestra función de probabilidades: \n",
    "\n",
    "\\begin{equation*}\n",
    "f(x)= e^{-1.5} \\dfrac{1.5^x}{x!}\n",
    "\\end{equation*}\n",
    "\n",
    "Vamos a obtener un conjunto de datos provenientes de una distribución de poisson a través del llamado a la función **```poisson```**, con la motivación de modelar el problema presentado.\n",
    "\n"
   ]
  },
  {
   "cell_type": "code",
   "execution_count": null,
   "metadata": {
    "colab": {},
    "colab_type": "code",
    "id": "T-XL4O-j8d2p",
    "outputId": "1852aedb-185b-476d-be2d-561b9f450419"
   },
   "outputs": [],
   "source": [
    "# Definimos los parámetros para la distribucion (no utilizamos la palabra lambda porque se encuentra reservada)\n",
    "parametro_lambda = 1.5\n",
    "\n",
    "# Definimos la cantidad de días donde contamos cuantos fallos hubieron.\n",
    "dias_contados = 365\n",
    "\n",
    "# poisson devuelve la cantidad de fallos por dia.\n",
    "samples_poisson = np.random.poisson(lam = parametro_lambda, size = dias_contados)\n",
    "\n",
    "# construímos el gráfico\n",
    "eje_x = 'Cantidad de fallos del tren por día'\n",
    "sns.distplot(samples_poisson, axlabel = eje_x, kde=False, color='red');"
   ]
  },
  {
   "cell_type": "markdown",
   "metadata": {},
   "source": [
    "###### Ejemplo\n",
    "\n",
    "El responsable de una línea de producción asegura que solamente se producen 2 productos defectuosos por días. ¿Si el númer de productos defectuosos sigue una distribución de Poisson, qué probabilidades hay de que se observen 5 productos defectuosos?"
   ]
  },
  {
   "cell_type": "code",
   "execution_count": null,
   "metadata": {},
   "outputs": [],
   "source": [
    "mu=2\n",
    "q= 5\n",
    "\n",
    "stats.poisson.pmf(q, mu)"
   ]
  },
  {
   "cell_type": "markdown",
   "metadata": {},
   "source": [
    "¿Y la probabilidad de que se verifiquen 5 o más productos defectuosos?"
   ]
  },
  {
   "cell_type": "code",
   "execution_count": null,
   "metadata": {},
   "outputs": [],
   "source": [
    "q=4\n",
    "stats.poisson.cdf(q, mu)\n",
    "\n",
    "1 - stats.poisson.cdf(q, mu)"
   ]
  },
  {
   "cell_type": "markdown",
   "metadata": {
    "colab_type": "text",
    "id": "K_Sua1MD8d20"
   },
   "source": [
    "### 5. Distribución Normal\n",
    "\n",
    "La distribución normal modela una gran cantidad de variables observadas en la naturaleza, como la estatura o peso de una población.\n",
    "\n",
    "Además en condiciones determidas, algunas distribuciones se comportan como la normal, esto se conoce como el teorema central del límite.\n",
    "\n",
    "Es posible ajustar una distribución de poisson a una normal cuando $\\lambda$ es un valor de gran magnitud: se propone como ejemplo modificar el valor de parametro_lambda a 15, y dias_contados a 3000 en la función de poisson de la celda anterior.\n",
    "\n",
    "También es posible ajustar una binomial a una distribución normal, para eso se propone como ejemplo agregar el argumento ```fit=stats.norm``` a la construcción del gráfico.\n",
    "\n",
    "Decimos que una variable aleatoria _**X**_ sigue una distribución normal **_X ~ N ( $\\mu$, $\\sigma$)_** si su distribución de probabilidades esta dada por:\n",
    "\n",
    "\\begin{equation*}\n",
    "p(x)= \\dfrac{1}{\\sqrt{2 \\pi \\sigma^²}} e^ \\dfrac{-(x-\\mu)^2}{2 \\sigma^2}\n",
    "\\end{equation*}\n",
    "\n",
    "Supongamos un ejemplo en donde tenemos una población de animales cuyo peso sigue una distribución normal, con $\\mu = 342.73 $ kg y $\\sigma = 45.78 $ kg\n",
    "\n",
    "A continuación vamos a tomar un conjunto de muestras que provienen de una distribución normal, llamando a la función ```normal``` de numpy con los parámetros propuestos."
   ]
  },
  {
   "cell_type": "code",
   "execution_count": null,
   "metadata": {
    "colab": {},
    "colab_type": "code",
    "id": "-BKcb6Zs8d21",
    "outputId": "be4baac9-31b8-4b0f-8f23-cc405cc1f929"
   },
   "outputs": [],
   "source": [
    "# definimos la media\n",
    "media = 342.73\n",
    "\n",
    "# definimos el desvío estandar\n",
    "desvio_estandar = 45.78\n",
    "\n",
    "# cantidad de muestras en la población\n",
    "n_muestras = 3000\n",
    "\n",
    "# llamamos a la función normal\n",
    "samples_normal = np.random.normal(loc = media, scale = desvio_estandar, size = n_muestras)\n",
    "\n",
    "# construímos el gráfico\n",
    "eje_x = 'Peso'\n",
    "plt.figure(figsize=(10,8))\n",
    "sns.distplot(samples_normal, axlabel = eje_x, color='darkblue');"
   ]
  },
  {
   "cell_type": "code",
   "execution_count": null,
   "metadata": {},
   "outputs": [],
   "source": [
    "# Podemos calcular la probabilidad de que un determinado animal pese hasta 400 kg \n",
    "\n",
    "stats.norm.cdf(400, loc = media, scale = desvio_estandar)"
   ]
  },
  {
   "cell_type": "code",
   "execution_count": null,
   "metadata": {},
   "outputs": [],
   "source": []
  }
 ],
 "metadata": {
  "accelerator": "GPU",
  "colab": {
   "collapsed_sections": [],
   "name": "2.PRACTICA_GUIADA_Probabilidad.ipynb",
   "provenance": [],
   "version": "0.3.2"
  },
  "kernelspec": {
   "display_name": "Python 3",
   "language": "python",
   "name": "python3"
  },
  "language_info": {
   "codemirror_mode": {
    "name": "ipython",
    "version": 3
   },
   "file_extension": ".py",
   "mimetype": "text/x-python",
   "name": "python",
   "nbconvert_exporter": "python",
   "pygments_lexer": "ipython3",
   "version": "3.6.7"
  }
 },
 "nbformat": 4,
 "nbformat_minor": 1
}
