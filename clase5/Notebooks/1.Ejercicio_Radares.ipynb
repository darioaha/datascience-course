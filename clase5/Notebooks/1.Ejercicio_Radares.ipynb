{
 "cells": [
  {
   "cell_type": "markdown",
   "metadata": {
    "colab_type": "text",
    "id": "f_7MIt7J8KmW"
   },
   "source": [
    "# Ejercicio Radares"
   ]
  },
  {
   "cell_type": "code",
   "execution_count": 1,
   "metadata": {
    "colab": {},
    "colab_type": "code",
    "id": "zcddOJPp8KmY"
   },
   "outputs": [],
   "source": [
    "ningunR = 0.15**3\n",
    "unR = 0.15**2 * 0.85\n",
    "dosR = 0.15 * 0.85**2\n",
    "tresR = 0.85**3"
   ]
  },
  {
   "cell_type": "code",
   "execution_count": 2,
   "metadata": {
    "colab": {},
    "colab_type": "code",
    "id": "9SzxeW158Kme",
    "outputId": "52b93bb3-7ee4-4901-e4eb-31f6b531e7c5"
   },
   "outputs": [
    {
     "data": {
      "text/plain": [
       "(0.0033749999999999995, 0.019125, 0.10837499999999999, 0.6141249999999999)"
      ]
     },
     "execution_count": 2,
     "metadata": {},
     "output_type": "execute_result"
    }
   ],
   "source": [
    "ningunR, unR, dosR, tresR"
   ]
  },
  {
   "cell_type": "code",
   "execution_count": 3,
   "metadata": {
    "colab": {},
    "colab_type": "code",
    "id": "0hn6kvgz8Kml",
    "outputId": "8ad661f4-8e85-4fc0-a752-bd67415d42f4"
   },
   "outputs": [
    {
     "data": {
      "text/plain": [
       "0.9999999999999999"
      ]
     },
     "execution_count": 3,
     "metadata": {},
     "output_type": "execute_result"
    }
   ],
   "source": [
    "ningunR + unR*3 + dosR*3 + tresR"
   ]
  },
  {
   "cell_type": "code",
   "execution_count": 4,
   "metadata": {
    "colab": {},
    "colab_type": "code",
    "id": "Ouj9vVFI8Kmq",
    "outputId": "83913cb0-d3af-4fab-e10e-0286c9ea5af5"
   },
   "outputs": [
    {
     "name": "stdout",
     "output_type": "stream",
     "text": [
      "Combinaciones posibles\n",
      "Radares con visión: 0 _ 1.0\n",
      "Radares con visión: 1 _ 3.0\n",
      "Radares con visión: 2 _ 3.0\n",
      "Radares con visión: 3 _ 1.0\n"
     ]
    }
   ],
   "source": [
    "from math import factorial\n",
    "\n",
    "print('Combinaciones posibles')\n",
    "for i in range(4):\n",
    "    print('Radares con visión: %i _' %i, factorial(3)/(factorial(i)*factorial(3-i)))"
   ]
  },
  {
   "cell_type": "code",
   "execution_count": 5,
   "metadata": {
    "colab": {},
    "colab_type": "code",
    "id": "PwHId6EP8Kmx",
    "outputId": "9e82c5cb-a8a9-4ce0-b40d-52c88c79b052"
   },
   "outputs": [
    {
     "name": "stderr",
     "output_type": "stream",
     "text": [
      "/Library/Frameworks/Python.framework/Versions/3.6/lib/python3.6/site-packages/matplotlib/axes/_axes.py:6462: UserWarning: The 'normed' kwarg is deprecated, and has been replaced by the 'density' kwarg.\n",
      "  warnings.warn(\"The 'normed' kwarg is deprecated, and has been \"\n"
     ]
    },
    {
     "data": {
      "image/png": "[encoded data removed]",
      "text/plain": [
       "<Figure size 432x288 with 1 Axes>"
      ]
     },
     "metadata": {},
     "output_type": "display_data"
    }
   ],
   "source": [
    "import numpy as np\n",
    "import matplotlib.pyplot as plt\n",
    "import seaborn as sns\n",
    "%matplotlib inline\n",
    "\n",
    "cantidad_ensayos = 1000\n",
    "radares = 3\n",
    "probabilidad_exito = 0.85 # visión de radares\n",
    "\n",
    "# binomial devuelve el número de éxitos de cada vez que se realizo un ensayo \n",
    "samples_binomial = np.random.binomial(n = radares, p = probabilidad_exito, size = cantidad_ensayos)\n",
    "sns.distplot(samples_binomial, axlabel = 'radares con señal', color='c');"
   ]
  },
  {
   "cell_type": "markdown",
   "metadata": {
    "colab_type": "text",
    "id": "Fs237So-8Km2"
   },
   "source": [
    "http://www.zipcon.net/~swhite/docs/math/probability/counting.html"
   ]
  },
  {
   "cell_type": "code",
   "execution_count": 6,
   "metadata": {
    "colab": {},
    "colab_type": "code",
    "id": "qYb98qbF8Km3",
    "outputId": "f34a0bd1-dbd1-4639-e864-f22225c186da"
   },
   "outputs": [
    {
     "name": "stdout",
     "output_type": "stream",
     "text": [
      "Radares con visión: 0 _ 0.001\n",
      "Radares con visión: 1 _ 0.05\n",
      "Radares con visión: 2 _ 0.323\n",
      "Radares con visión: 3 _ 0.626\n"
     ]
    }
   ],
   "source": [
    "for i in range(4):\n",
    "    print('Radares con visión: %i _' %i, sum(samples_binomial == i)/cantidad_ensayos)"
   ]
  },
  {
   "cell_type": "code",
   "execution_count": 0,
   "metadata": {
    "colab": {},
    "colab_type": "code",
    "id": "FTszzH0e8Km7"
   },
   "outputs": [],
   "source": []
  }
 ],
 "metadata": {
  "colab": {
   "name": "1.Ejercicio_Radares.ipynb",
   "provenance": [],
   "version": "0.3.2"
  },
  "kernelspec": {
   "display_name": "Python 3",
   "language": "python",
   "name": "python3"
  },
  "language_info": {
   "codemirror_mode": {
    "name": "ipython",
    "version": 3
   },
   "file_extension": ".py",
   "mimetype": "text/x-python",
   "name": "python",
   "nbconvert_exporter": "python",
   "pygments_lexer": "ipython3",
   "version": "3.6.7"
  }
 },
 "nbformat": 4,
 "nbformat_minor": 1
}
