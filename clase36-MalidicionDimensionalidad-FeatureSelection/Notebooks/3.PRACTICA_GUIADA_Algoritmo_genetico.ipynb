{
 "cells": [
  {
   "cell_type": "markdown",
   "metadata": {
    "colab_type": "text",
    "id": "kBHG84LKdG5J"
   },
   "source": [
    "## Algoritmo Evolutivo"
   ]
  },
  {
   "cell_type": "markdown",
   "metadata": {
    "colab_type": "text",
    "id": "YDOLCg3IdG5K"
   },
   "source": [
    "#### Para traer desde el repo: pip install sklearn-deap"
   ]
  },
  {
   "cell_type": "code",
   "execution_count": 1,
   "metadata": {
    "colab": {},
    "colab_type": "code",
    "id": "WAEI5ssKdG5L",
    "scrolled": false
   },
   "outputs": [],
   "source": [
    "import sklearn.datasets\n",
    "import numpy as np\n",
    "import pandas as pd\n",
    "\n",
    "from evolutionary_search import EvolutionaryAlgorithmSearchCV"
   ]
  },
  {
   "cell_type": "code",
   "execution_count": 2,
   "metadata": {
    "colab": {
     "base_uri": "https://localhost:8080/",
     "height": 34
    },
    "colab_type": "code",
    "executionInfo": {
     "elapsed": 811,
     "status": "ok",
     "timestamp": 1562000198010,
     "user": {
      "displayName": "Paolo Donizetti",
      "photoUrl": "",
      "userId": "08312466892382139071"
     },
     "user_tz": 180
    },
    "id": "H0yhBDCSdG5O",
    "outputId": "dd109bb0-bec1-4518-e92a-e69acae5a58a"
   },
   "outputs": [
    {
     "data": {
      "text/plain": [
       "((1797, 64), (1797,))"
      ]
     },
     "execution_count": 2,
     "metadata": {},
     "output_type": "execute_result"
    }
   ],
   "source": [
    "data = sklearn.datasets.load_digits()\n",
    "X = data[\"data\"]\n",
    "y = data[\"target\"]\n",
    "\n",
    "y = np.array([1 if yy == 5 else 0 for yy in y])\n",
    "\n",
    "X.shape, y.shape"
   ]
  },
  {
   "cell_type": "code",
   "execution_count": 3,
   "metadata": {
    "colab": {},
    "colab_type": "code",
    "id": "HGQGFTJ4dG5S"
   },
   "outputs": [],
   "source": [
    "from sklearn.model_selection import StratifiedKFold, GridSearchCV, RandomizedSearchCV\n",
    "from sklearn.svm import SVC"
   ]
  },
  {
   "cell_type": "markdown",
   "metadata": {
    "colab_type": "text",
    "id": "_OcFG8fBdG5U"
   },
   "source": [
    "## Train an SVM with RBF kernel"
   ]
  },
  {
   "cell_type": "markdown",
   "metadata": {
    "colab_type": "text",
    "id": "VmDGbecpdG5U"
   },
   "source": [
    "### Using conventional GridSearchCV"
   ]
  },
  {
   "cell_type": "markdown",
   "metadata": {
    "colab_type": "text",
    "id": "IjIJ8OHcdG5V"
   },
   "source": [
    "Parameter grid: 625 parameter combinations"
   ]
  },
  {
   "cell_type": "code",
   "execution_count": 4,
   "metadata": {
    "colab": {
     "base_uri": "https://localhost:8080/",
     "height": 34
    },
    "colab_type": "code",
    "executionInfo": {
     "elapsed": 749,
     "status": "ok",
     "timestamp": 1562000203643,
     "user": {
      "displayName": "Paolo Donizetti",
      "photoUrl": "",
      "userId": "08312466892382139071"
     },
     "user_tz": 180
    },
    "id": "8glgz0G3dG5W",
    "outputId": "69dd3cf2-2b19-49e7-c062-fcc13f007232"
   },
   "outputs": [
    {
     "name": "stdout",
     "output_type": "stream",
     "text": [
      "Size:  625\n"
     ]
    }
   ],
   "source": [
    "paramgrid = {\"kernel\": [\"rbf\"],\n",
    "             \"C\"     : np.logspace(-9, 9, num=25, base=10),\n",
    "             \"gamma\" : np.logspace(-9, 9, num=25, base=10)}\n",
    "\n",
    "print(\"Size: \", len(paramgrid[\"kernel\"])*len(paramgrid[\"C\"])*len(paramgrid[\"gamma\"]))"
   ]
  },
  {
   "cell_type": "markdown",
   "metadata": {
    "colab_type": "text",
    "id": "ptztF1m9dG5Y"
   },
   "source": [
    "### Grid Search"
   ]
  },
  {
   "cell_type": "code",
   "execution_count": 5,
   "metadata": {
    "colab": {
     "base_uri": "https://localhost:8080/",
     "height": 289
    },
    "colab_type": "code",
    "executionInfo": {
     "elapsed": 678,
     "status": "ok",
     "timestamp": 1562000206509,
     "user": {
      "displayName": "Paolo Donizetti",
      "photoUrl": "",
      "userId": "08312466892382139071"
     },
     "user_tz": 180
    },
    "id": "nd7-g9s7dG5Z",
    "outputId": "336631a9-542e-48ae-a4d9-6b9de44f7ced"
   },
   "outputs": [
    {
     "data": {
      "text/plain": [
       "GridSearchCV(cv=StratifiedKFold(n_splits=2, random_state=None, shuffle=False),\n",
       "             error_score='raise-deprecating',\n",
       "             estimator=SVC(C=1.0, cache_size=200, class_weight=None, coef0=0.0,\n",
       "                           decision_function_shape='ovr', degree=3,\n",
       "                           gamma='auto_deprecated', kernel='rbf', max_iter=-1,\n",
       "                           probability=False, random_state=None, shrinking=True,\n",
       "                           tol=0.001, verbose=False),\n",
       "             iid='warn', n_jo...\n",
       "       1.00000000e-03, 5.62341325e-03, 3.16227766e-02, 1.77827941e-01,\n",
       "       1.00000000e+00, 5.62341325e+00, 3.16227766e+01, 1.77827941e+02,\n",
       "       1.00000000e+03, 5.62341325e+03, 3.16227766e+04, 1.77827941e+05,\n",
       "       1.00000000e+06, 5.62341325e+06, 3.16227766e+07, 1.77827941e+08,\n",
       "       1.00000000e+09]),\n",
       "                         'kernel': ['rbf']},\n",
       "             pre_dispatch='2*n_jobs', refit=True, return_train_score=False,\n",
       "             scoring='accuracy', verbose=1)"
      ]
     },
     "execution_count": 5,
     "metadata": {},
     "output_type": "execute_result"
    }
   ],
   "source": [
    "grid_cv = GridSearchCV( estimator = SVC(),\n",
    "                        param_grid = paramgrid,\n",
    "                        scoring = \"accuracy\",\n",
    "                        cv = StratifiedKFold(n_splits=2),\n",
    "                        verbose = 1 )\n",
    "grid_cv"
   ]
  },
  {
   "cell_type": "code",
   "execution_count": 6,
   "metadata": {
    "colab": {
     "base_uri": "https://localhost:8080/",
     "height": 409
    },
    "colab_type": "code",
    "executionInfo": {
     "elapsed": 99641,
     "status": "error",
     "timestamp": 1562000310389,
     "user": {
      "displayName": "Paolo Donizetti",
      "photoUrl": "",
      "userId": "08312466892382139071"
     },
     "user_tz": 180
    },
    "id": "PlPEUK2HdG5c",
    "outputId": "b9138486-9a7c-4e27-dadc-7a2a4641dc5f"
   },
   "outputs": [
    {
     "name": "stdout",
     "output_type": "stream",
     "text": [
      "Fitting 2 folds for each of 625 candidates, totalling 1250 fits\n"
     ]
    },
    {
     "name": "stderr",
     "output_type": "stream",
     "text": [
      "[Parallel(n_jobs=1)]: Using backend SequentialBackend with 1 concurrent workers.\n"
     ]
    },
    {
     "name": "stdout",
     "output_type": "stream",
     "text": [
      "Wall time: 2min 14s\n"
     ]
    },
    {
     "name": "stderr",
     "output_type": "stream",
     "text": [
      "[Parallel(n_jobs=1)]: Done 1250 out of 1250 | elapsed:  2.2min finished\n"
     ]
    },
    {
     "data": {
      "text/plain": [
       "GridSearchCV(cv=StratifiedKFold(n_splits=2, random_state=None, shuffle=False),\n",
       "             error_score='raise-deprecating',\n",
       "             estimator=SVC(C=1.0, cache_size=200, class_weight=None, coef0=0.0,\n",
       "                           decision_function_shape='ovr', degree=3,\n",
       "                           gamma='auto_deprecated', kernel='rbf', max_iter=-1,\n",
       "                           probability=False, random_state=None, shrinking=True,\n",
       "                           tol=0.001, verbose=False),\n",
       "             iid='warn', n_jo...\n",
       "       1.00000000e-03, 5.62341325e-03, 3.16227766e-02, 1.77827941e-01,\n",
       "       1.00000000e+00, 5.62341325e+00, 3.16227766e+01, 1.77827941e+02,\n",
       "       1.00000000e+03, 5.62341325e+03, 3.16227766e+04, 1.77827941e+05,\n",
       "       1.00000000e+06, 5.62341325e+06, 3.16227766e+07, 1.77827941e+08,\n",
       "       1.00000000e+09]),\n",
       "                         'kernel': ['rbf']},\n",
       "             pre_dispatch='2*n_jobs', refit=True, return_train_score=False,\n",
       "             scoring='accuracy', verbose=1)"
      ]
     },
     "execution_count": 6,
     "metadata": {},
     "output_type": "execute_result"
    }
   ],
   "source": [
    "%time grid_cv.fit(X, y)"
   ]
  },
  {
   "cell_type": "markdown",
   "metadata": {
    "colab_type": "text",
    "id": "qsoeQMk9dG5e"
   },
   "source": [
    "### Resultados"
   ]
  },
  {
   "cell_type": "code",
   "execution_count": 7,
   "metadata": {
    "colab": {},
    "colab_type": "code",
    "id": "whLf5shzdG5f",
    "outputId": "5b07b467-e6f0-4fc3-8b26-a0359298c5cc"
   },
   "outputs": [
    {
     "data": {
      "text/plain": [
       "(0.9894268224819143, {'C': 1.0, 'gamma': 0.001, 'kernel': 'rbf'})"
      ]
     },
     "execution_count": 7,
     "metadata": {},
     "output_type": "execute_result"
    }
   ],
   "source": [
    "grid_cv.best_score_, grid_cv.best_params_"
   ]
  },
  {
   "cell_type": "markdown",
   "metadata": {
    "colab_type": "text",
    "id": "oFWwvcOwdG5h"
   },
   "source": [
    "###  RandomizedSearchCV"
   ]
  },
  {
   "cell_type": "markdown",
   "metadata": {
    "colab_type": "text",
    "id": "pIZaoKVHdG5i"
   },
   "source": [
    "#### Mismo espacio de hiperparametros pero solo testea 250"
   ]
  },
  {
   "cell_type": "code",
   "execution_count": 8,
   "metadata": {
    "colab": {},
    "colab_type": "code",
    "id": "MuLmmgdydG5j",
    "scrolled": false
   },
   "outputs": [
    {
     "data": {
      "text/plain": [
       "RandomizedSearchCV(cv=StratifiedKFold(n_splits=2, random_state=None, shuffle=False),\n",
       "                   error_score='raise-deprecating',\n",
       "                   estimator=SVC(C=1.0, cache_size=200, class_weight=None,\n",
       "                                 coef0=0.0, decision_function_shape='ovr',\n",
       "                                 degree=3, gamma='auto_deprecated',\n",
       "                                 kernel='rbf', max_iter=-1, probability=False,\n",
       "                                 random_state=None, shrinking=True, tol=0.001,\n",
       "                                 verbose=False),\n",
       "                   iid='warn...\n",
       "       1.00000000e-03, 5.62341325e-03, 3.16227766e-02, 1.77827941e-01,\n",
       "       1.00000000e+00, 5.62341325e+00, 3.16227766e+01, 1.77827941e+02,\n",
       "       1.00000000e+03, 5.62341325e+03, 3.16227766e+04, 1.77827941e+05,\n",
       "       1.00000000e+06, 5.62341325e+06, 3.16227766e+07, 1.77827941e+08,\n",
       "       1.00000000e+09]),\n",
       "                                        'kernel': ['rbf']},\n",
       "                   pre_dispatch='2*n_jobs', random_state=None, refit=True,\n",
       "                   return_train_score=False, scoring='accuracy', verbose=1)"
      ]
     },
     "execution_count": 8,
     "metadata": {},
     "output_type": "execute_result"
    }
   ],
   "source": [
    "rand_cv = RandomizedSearchCV(   estimator=SVC(),\n",
    "                                param_distributions =paramgrid,\n",
    "                                n_iter = 250,\n",
    "                                scoring = \"accuracy\",\n",
    "                                cv = StratifiedKFold(n_splits=2),\n",
    "                                verbose=1)\n",
    "rand_cv"
   ]
  },
  {
   "cell_type": "code",
   "execution_count": 9,
   "metadata": {
    "colab": {},
    "colab_type": "code",
    "id": "VVwXt_wXdG5l"
   },
   "outputs": [
    {
     "name": "stderr",
     "output_type": "stream",
     "text": [
      "[Parallel(n_jobs=1)]: Using backend SequentialBackend with 1 concurrent workers.\n"
     ]
    },
    {
     "name": "stdout",
     "output_type": "stream",
     "text": [
      "Fitting 2 folds for each of 250 candidates, totalling 500 fits\n",
      "Wall time: 53.8 s\n"
     ]
    },
    {
     "name": "stderr",
     "output_type": "stream",
     "text": [
      "[Parallel(n_jobs=1)]: Done 500 out of 500 | elapsed:   53.6s finished\n"
     ]
    },
    {
     "data": {
      "text/plain": [
       "RandomizedSearchCV(cv=StratifiedKFold(n_splits=2, random_state=None, shuffle=False),\n",
       "                   error_score='raise-deprecating',\n",
       "                   estimator=SVC(C=1.0, cache_size=200, class_weight=None,\n",
       "                                 coef0=0.0, decision_function_shape='ovr',\n",
       "                                 degree=3, gamma='auto_deprecated',\n",
       "                                 kernel='rbf', max_iter=-1, probability=False,\n",
       "                                 random_state=None, shrinking=True, tol=0.001,\n",
       "                                 verbose=False),\n",
       "                   iid='warn...\n",
       "       1.00000000e-03, 5.62341325e-03, 3.16227766e-02, 1.77827941e-01,\n",
       "       1.00000000e+00, 5.62341325e+00, 3.16227766e+01, 1.77827941e+02,\n",
       "       1.00000000e+03, 5.62341325e+03, 3.16227766e+04, 1.77827941e+05,\n",
       "       1.00000000e+06, 5.62341325e+06, 3.16227766e+07, 1.77827941e+08,\n",
       "       1.00000000e+09]),\n",
       "                                        'kernel': ['rbf']},\n",
       "                   pre_dispatch='2*n_jobs', random_state=None, refit=True,\n",
       "                   return_train_score=False, scoring='accuracy', verbose=1)"
      ]
     },
     "execution_count": 9,
     "metadata": {},
     "output_type": "execute_result"
    }
   ],
   "source": [
    "%time rand_cv.fit(X, y)"
   ]
  },
  {
   "cell_type": "markdown",
   "metadata": {
    "colab_type": "text",
    "id": "Na8UuyBLdG5m"
   },
   "source": [
    "### Resultados"
   ]
  },
  {
   "cell_type": "code",
   "execution_count": 10,
   "metadata": {
    "colab": {},
    "colab_type": "code",
    "id": "o7yht0v2dG5n"
   },
   "outputs": [
    {
     "data": {
      "text/plain": [
       "(0.9894268224819143, {'kernel': 'rbf', 'gamma': 0.001, 'C': 1.0})"
      ]
     },
     "execution_count": 10,
     "metadata": {},
     "output_type": "execute_result"
    }
   ],
   "source": [
    "rand_cv.best_score_, rand_cv.best_params_"
   ]
  },
  {
   "cell_type": "markdown",
   "metadata": {
    "colab_type": "text",
    "id": "6_1Xk9XVdG5p"
   },
   "source": [
    "### EvolutionaryAlgorithmSearchCV"
   ]
  },
  {
   "cell_type": "code",
   "execution_count": 11,
   "metadata": {
    "colab": {
     "base_uri": "https://localhost:8080/",
     "height": 371
    },
    "colab_type": "code",
    "executionInfo": {
     "elapsed": 851,
     "status": "error",
     "timestamp": 1562000322815,
     "user": {
      "displayName": "Paolo Donizetti",
      "photoUrl": "",
      "userId": "08312466892382139071"
     },
     "user_tz": 180
    },
    "id": "Y1qEEJysdG5q",
    "outputId": "9efd03ad-5503-40de-bc52-14bb8383f6d9"
   },
   "outputs": [
    {
     "name": "stdout",
     "output_type": "stream",
     "text": [
      "Types [1, 2, 2] and maxint [0, 24, 24] detected\n",
      "--- Evolve in 625 possible combinations ---\n",
      "gen\tnevals\tavg     \tmin    \tmax     \tstd      \n",
      "0  \t50    \t0.911497\t0.89872\t0.984975\t0.0293401\n",
      "1  \t29    \t0.929405\t0.89872\t0.984975\t0.0377837\n",
      "2  \t32    \t0.95645 \t0.89872\t0.984975\t0.0352351\n",
      "3  \t26    \t0.976873\t0.89872\t0.984975\t0.018252 \n",
      "4  \t33    \t0.983784\t0.980523\t0.984975\t0.00124438\n",
      "5  \t32    \t0.981625\t0.89872 \t0.984975\t0.0146572 \n",
      "6  \t38    \t0.984975\t0.984975\t0.984975\t1.11022e-16\n",
      "7  \t24    \t0.98325 \t0.89872 \t0.984975\t0.0120757  \n",
      "8  \t31    \t0.982014\t0.89872 \t0.984975\t0.0147086  \n",
      "9  \t38    \t0.981525\t0.89872 \t0.984975\t0.0169024  \n",
      "10 \t36    \t0.983261\t0.89872 \t0.985531\t0.0120775  \n",
      "11 \t32    \t0.980312\t0.89872 \t0.985531\t0.0187662  \n",
      "12 \t33    \t0.984942\t0.98108 \t0.985531\t0.000571961\n",
      "13 \t34    \t0.979844\t0.89872 \t0.985531\t0.0204962  \n",
      "14 \t31    \t0.983884\t0.923205\t0.985531\t0.00867183 \n",
      "15 \t30    \t0.984652\t0.952142\t0.985531\t0.004652   \n",
      "16 \t26    \t0.981992\t0.89872 \t0.985531\t0.0169988  \n",
      "17 \t28    \t0.981747\t0.89872 \t0.985531\t0.0170778  \n",
      "18 \t27    \t0.980323\t0.89872 \t0.985531\t0.0206166  \n",
      "19 \t29    \t0.983784\t0.89872 \t0.985531\t0.0121522  \n",
      "20 \t28    \t0.982059\t0.89872 \t0.985531\t0.0170115  \n",
      "21 \t33    \t0.982059\t0.89872 \t0.985531\t0.0170115  \n",
      "22 \t25    \t0.982059\t0.89872 \t0.985531\t0.0170115  \n",
      "23 \t24    \t0.983795\t0.89872 \t0.985531\t0.0121536  \n",
      "24 \t34    \t0.982048\t0.89872 \t0.985531\t0.0170094  \n",
      "25 \t25    \t0.983795\t0.89872 \t0.985531\t0.0121536  \n",
      "26 \t34    \t0.983784\t0.89872 \t0.985531\t0.0121522  \n",
      "27 \t27    \t0.985531\t0.985531\t0.985531\t1.11022e-16\n",
      "28 \t27    \t0.983795\t0.89872 \t0.985531\t0.0121536  \n",
      "29 \t33    \t0.979076\t0.89872 \t0.985531\t0.0220951  \n",
      "30 \t20    \t0.985531\t0.985531\t0.985531\t1.11022e-16\n",
      "31 \t23    \t0.980323\t0.89872 \t0.985531\t0.0206166  \n",
      "32 \t35    \t0.985531\t0.985531\t0.985531\t1.11022e-16\n",
      "33 \t33    \t0.983795\t0.89872 \t0.985531\t0.0121536  \n",
      "34 \t30    \t0.985531\t0.985531\t0.985531\t1.11022e-16\n",
      "35 \t27    \t0.985531\t0.985531\t0.985531\t1.11022e-16\n",
      "36 \t26    \t0.983795\t0.89872 \t0.985531\t0.0121536  \n",
      "37 \t25    \t0.983795\t0.89872 \t0.985531\t0.0121536  \n",
      "38 \t28    \t0.985231\t0.970506\t0.985531\t0.00210351 \n",
      "39 \t30    \t0.983495\t0.89872 \t0.985531\t0.0122919  \n",
      "40 \t21    \t0.985531\t0.985531\t0.985531\t1.11022e-16\n",
      "41 \t32    \t0.98552 \t0.984975\t0.985531\t7.79076e-05\n",
      "42 \t34    \t0.982048\t0.89872 \t0.985531\t0.0170094  \n",
      "43 \t27    \t0.985531\t0.985531\t0.985531\t1.11022e-16\n",
      "44 \t34    \t0.983205\t0.89872 \t0.989427\t0.0129581  \n",
      "45 \t29    \t0.984263\t0.89872 \t0.989427\t0.0122856  \n",
      "46 \t30    \t0.987012\t0.985531\t0.989427\t0.00189077 \n",
      "47 \t34    \t0.986299\t0.89872 \t0.989427\t0.0128676  \n",
      "48 \t36    \t0.986155\t0.89872 \t0.989427\t0.0160787  \n",
      "49 \t26    \t0.985776\t0.89872 \t0.989427\t0.0177706  \n",
      "50 \t33    \t0.989427\t0.989427\t0.989427\t2.22045e-16\n",
      "51 \t25    \t0.989427\t0.989427\t0.989427\t2.22045e-16\n",
      "52 \t34    \t0.985799\t0.89872 \t0.989427\t0.0177748  \n",
      "53 \t32    \t0.985799\t0.89872 \t0.989427\t0.0177748  \n",
      "54 \t21    \t0.989427\t0.989427\t0.989427\t2.22045e-16\n",
      "55 \t24    \t0.987602\t0.89872 \t0.989427\t0.0126976  \n",
      "56 \t33    \t0.98798 \t0.917084\t0.989427\t0.010128   \n",
      "57 \t33    \t0.985787\t0.89872 \t0.989427\t0.0177727  \n",
      "58 \t35    \t0.987613\t0.89872 \t0.989427\t0.0126989  \n",
      "59 \t32    \t0.985799\t0.89872 \t0.989427\t0.0177748  \n",
      "60 \t32    \t0.985799\t0.89872 \t0.989427\t0.0177748  \n",
      "61 \t24    \t0.985799\t0.89872 \t0.989427\t0.0177748  \n",
      "62 \t22    \t0.989427\t0.989427\t0.989427\t2.22045e-16\n",
      "63 \t34    \t0.980356\t0.89872 \t0.989427\t0.027212   \n",
      "64 \t26    \t0.989349\t0.985531\t0.989427\t0.000545353\n",
      "65 \t35    \t0.984352\t0.89872 \t0.989427\t0.0201995  \n",
      "66 \t32    \t0.983984\t0.89872 \t0.989427\t0.0215417  \n",
      "67 \t36    \t0.985787\t0.89872 \t0.989427\t0.0177727  \n",
      "68 \t35    \t0.989427\t0.989427\t0.989427\t2.22045e-16\n",
      "69 \t31    \t0.989416\t0.98887 \t0.989427\t7.79076e-05\n",
      "70 \t36    \t0.985799\t0.89872 \t0.989427\t0.0177748  \n",
      "71 \t24    \t0.989416\t0.98887 \t0.989427\t7.79076e-05\n",
      "72 \t31    \t0.98542 \t0.89872 \t0.989427\t0.0178945  \n",
      "73 \t28    \t0.989427\t0.989427\t0.989427\t2.22045e-16\n",
      "74 \t36    \t0.987613\t0.89872 \t0.989427\t0.0126989  \n",
      "75 \t23    \t0.987613\t0.89872 \t0.989427\t0.0126989  \n",
      "76 \t40    \t0.985799\t0.89872 \t0.989427\t0.0177748  \n",
      "77 \t36    \t0.989427\t0.989427\t0.989427\t2.22045e-16\n",
      "78 \t32    \t0.987234\t0.89872 \t0.989427\t0.0129192  \n",
      "79 \t33    \t0.987613\t0.89872 \t0.989427\t0.0126989  \n",
      "80 \t30    \t0.987613\t0.89872 \t0.989427\t0.0126989  \n",
      "81 \t26    \t0.983228\t0.89872 \t0.989427\t0.0216691  \n",
      "82 \t29    \t0.989427\t0.989427\t0.989427\t2.22045e-16\n",
      "83 \t27    \t0.989416\t0.98887 \t0.989427\t7.79076e-05\n",
      "84 \t33    \t0.986166\t0.89872 \t0.989427\t0.0160807  \n",
      "85 \t33    \t0.987613\t0.89872 \t0.989427\t0.0126989  \n",
      "86 \t29    \t0.985776\t0.89872 \t0.989427\t0.0177706  \n",
      "87 \t32    \t0.985799\t0.89872 \t0.989427\t0.0177748  \n",
      "88 \t33    \t0.987613\t0.89872 \t0.989427\t0.0126989  \n",
      "89 \t31    \t0.989405\t0.98887 \t0.989427\t0.000109048\n",
      "90 \t38    \t0.987602\t0.89872 \t0.989427\t0.0126976  \n",
      "91 \t27    \t0.987613\t0.89872 \t0.989427\t0.0126989  \n",
      "92 \t38    \t0.987613\t0.89872 \t0.989427\t0.0126989  \n",
      "93 \t38    \t0.983984\t0.89872 \t0.989427\t0.0215417  \n",
      "94 \t20    \t0.985721\t0.89872 \t0.989427\t0.0177673  \n",
      "95 \t36    \t0.985776\t0.89872 \t0.989427\t0.0177706  \n",
      "96 \t28    \t0.987613\t0.89872 \t0.989427\t0.0126989  \n",
      "97 \t38    \t0.985787\t0.89872 \t0.989427\t0.0177727  \n",
      "98 \t34    \t0.983984\t0.89872 \t0.989427\t0.0215417  \n",
      "99 \t21    \t0.989427\t0.989427\t0.989427\t2.22045e-16\n",
      "100\t30    \t0.98217 \t0.89872 \t0.989427\t0.0246081  \n",
      "Best individual is: {'kernel': 'rbf', 'C': 1.0, 'gamma': 0.001}\n",
      "with fitness: 0.9894268224819143\n",
      "Wall time: 24.1 s\n"
     ]
    }
   ],
   "source": [
    "gen_cv = EvolutionaryAlgorithmSearchCV(estimator=SVC(),\n",
    "                                       params=paramgrid,\n",
    "                                       scoring=\"accuracy\",\n",
    "                                       cv=StratifiedKFold(n_splits=2),\n",
    "                                       verbose=True,\n",
    "                                       population_size=50,\n",
    "                                       gene_mutation_prob=0.10,\n",
    "                                       tournament_size=3,\n",
    "                                       generations_number=100)\n",
    "\n",
    "%time gen_cv.fit(X, y)"
   ]
  },
  {
   "cell_type": "markdown",
   "metadata": {
    "colab_type": "text",
    "id": "JUpUEZg8dG5s"
   },
   "source": [
    "### Best score + params"
   ]
  },
  {
   "cell_type": "code",
   "execution_count": 12,
   "metadata": {
    "colab": {},
    "colab_type": "code",
    "id": "H5RC3WdPdG5s"
   },
   "outputs": [
    {
     "data": {
      "text/plain": [
       "(0.9894268224819143, {'kernel': 'rbf', 'C': 1.0, 'gamma': 0.001})"
      ]
     },
     "execution_count": 12,
     "metadata": {},
     "output_type": "execute_result"
    }
   ],
   "source": [
    "gen_cv.best_score_, gen_cv.best_params_"
   ]
  }
 ],
 "metadata": {
  "accelerator": "GPU",
  "colab": {
   "name": "1.Algoritmo_genetico.ipynb",
   "provenance": [],
   "version": "0.3.2"
  },
  "kernelspec": {
   "display_name": "Python 3",
   "language": "python",
   "name": "python3"
  },
  "language_info": {
   "codemirror_mode": {
    "name": "ipython",
    "version": 3
   },
   "file_extension": ".py",
   "mimetype": "text/x-python",
   "name": "python",
   "nbconvert_exporter": "python",
   "pygments_lexer": "ipython3",
   "version": "3.6.7"
  }
 },
 "nbformat": 4,
 "nbformat_minor": 1
}
