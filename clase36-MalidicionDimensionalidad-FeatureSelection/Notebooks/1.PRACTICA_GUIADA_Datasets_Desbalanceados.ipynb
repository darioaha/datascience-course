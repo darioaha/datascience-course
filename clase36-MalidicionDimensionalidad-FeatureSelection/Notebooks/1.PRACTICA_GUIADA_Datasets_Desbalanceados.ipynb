{
 "cells": [
  {
   "cell_type": "markdown",
   "metadata": {
    "colab_type": "text",
    "id": "epAlo2Q3K8OF"
   },
   "source": [
    "# Práctica Guiada - Técnicas para datasets desbalanceados"
   ]
  },
  {
   "cell_type": "markdown",
   "metadata": {
    "colab_type": "text",
    "id": "puQ9YKZCK8OH"
   },
   "source": [
    "El problema de los datasets desbalanceados se encuentra en una amplia variedad de problemas de Machine Learning como la detección de comentarios hechos a través de bots, el diagnóstico de enfermedades o la búsqueda de transacciones fraudulentas en un sistema.\n",
    "\n",
    "Existen dos grandes enfoques para abordar datasets que se encuentran desbalanceados:\n",
    "\n",
    "1.  Hacer un resampling de la muestra, para entrenar al algoritmo con proporciones similares\n",
    "2.  Incorporar el desbalance a la función de costos del algoritmo para que tenga incentivos a elegir los parámetros que mejor discriminan la clase minoritaria."
   ]
  },
  {
   "cell_type": "markdown",
   "metadata": {
    "colab_type": "text",
    "id": "6S6sXmsSK8OJ"
   },
   "source": [
    "## Clasificación sobre datos desbalanceados\n",
    "\n",
    "A continuación presentamos un dataset de la empresa americana Lending Club, que se dedica a proveer servicios financieros para distintos segmentos. \n",
    "\n",
    "A continuación vamos a utilizar información abierta del portal de la empresa para intentar predecir cuáles de los créditos terminan en default. Para más información sobre el datset pueden ingresar <a href='https://www.lendingclub.com/info/download-data.action'> aquí </a>"
   ]
  },
  {
   "cell_type": "code",
   "execution_count": 1,
   "metadata": {
    "colab": {},
    "colab_type": "code",
    "id": "p2PHSRoPK8OK"
   },
   "outputs": [],
   "source": [
    "import numpy as np\n",
    "import pandas as pd\n",
    "from sklearn.model_selection import train_test_split"
   ]
  },
  {
   "cell_type": "code",
   "execution_count": 2,
   "metadata": {
    "colab": {},
    "colab_type": "code",
    "id": "Ylvmz7hrK8OR"
   },
   "outputs": [],
   "source": [
    "loans = pd.read_csv('../Data/loans.csv',low_memory=False)"
   ]
  },
  {
   "cell_type": "code",
   "execution_count": 3,
   "metadata": {
    "scrolled": true
   },
   "outputs": [
    {
     "data": {
      "text/html": [
       "<div>\n",
       "<style scoped>\n",
       "    .dataframe tbody tr th:only-of-type {\n",
       "        vertical-align: middle;\n",
       "    }\n",
       "\n",
       "    .dataframe tbody tr th {\n",
       "        vertical-align: top;\n",
       "    }\n",
       "\n",
       "    .dataframe thead th {\n",
       "        text-align: right;\n",
       "    }\n",
       "</style>\n",
       "<table border=\"1\" class=\"dataframe\">\n",
       "  <thead>\n",
       "    <tr style=\"text-align: right;\">\n",
       "      <th></th>\n",
       "      <th>grade</th>\n",
       "      <th>home_ownership</th>\n",
       "      <th>emp_length_num</th>\n",
       "      <th>sub_grade</th>\n",
       "      <th>short_emp</th>\n",
       "      <th>dti</th>\n",
       "      <th>term</th>\n",
       "      <th>purpose</th>\n",
       "      <th>int_rate</th>\n",
       "      <th>last_delinq_none</th>\n",
       "      <th>last_major_derog_none</th>\n",
       "      <th>revol_util</th>\n",
       "      <th>total_rec_late_fee</th>\n",
       "      <th>payment_inc_ratio</th>\n",
       "      <th>bad_loans</th>\n",
       "    </tr>\n",
       "  </thead>\n",
       "  <tbody>\n",
       "    <tr>\n",
       "      <th>0</th>\n",
       "      <td>B</td>\n",
       "      <td>RENT</td>\n",
       "      <td>11</td>\n",
       "      <td>B2</td>\n",
       "      <td>0</td>\n",
       "      <td>27.65</td>\n",
       "      <td>36 months</td>\n",
       "      <td>credit_card</td>\n",
       "      <td>10.65</td>\n",
       "      <td>1</td>\n",
       "      <td>1</td>\n",
       "      <td>83.7</td>\n",
       "      <td>0.00</td>\n",
       "      <td>8.14350</td>\n",
       "      <td>0</td>\n",
       "    </tr>\n",
       "    <tr>\n",
       "      <th>1</th>\n",
       "      <td>C</td>\n",
       "      <td>RENT</td>\n",
       "      <td>1</td>\n",
       "      <td>C4</td>\n",
       "      <td>1</td>\n",
       "      <td>1.00</td>\n",
       "      <td>60 months</td>\n",
       "      <td>car</td>\n",
       "      <td>15.27</td>\n",
       "      <td>1</td>\n",
       "      <td>1</td>\n",
       "      <td>9.4</td>\n",
       "      <td>0.00</td>\n",
       "      <td>2.39320</td>\n",
       "      <td>1</td>\n",
       "    </tr>\n",
       "    <tr>\n",
       "      <th>2</th>\n",
       "      <td>C</td>\n",
       "      <td>RENT</td>\n",
       "      <td>11</td>\n",
       "      <td>C5</td>\n",
       "      <td>0</td>\n",
       "      <td>8.72</td>\n",
       "      <td>36 months</td>\n",
       "      <td>small_business</td>\n",
       "      <td>15.96</td>\n",
       "      <td>1</td>\n",
       "      <td>1</td>\n",
       "      <td>98.5</td>\n",
       "      <td>0.00</td>\n",
       "      <td>8.25955</td>\n",
       "      <td>0</td>\n",
       "    </tr>\n",
       "    <tr>\n",
       "      <th>3</th>\n",
       "      <td>C</td>\n",
       "      <td>RENT</td>\n",
       "      <td>11</td>\n",
       "      <td>C1</td>\n",
       "      <td>0</td>\n",
       "      <td>20.00</td>\n",
       "      <td>36 months</td>\n",
       "      <td>other</td>\n",
       "      <td>13.49</td>\n",
       "      <td>0</td>\n",
       "      <td>1</td>\n",
       "      <td>21.0</td>\n",
       "      <td>16.97</td>\n",
       "      <td>8.27585</td>\n",
       "      <td>0</td>\n",
       "    </tr>\n",
       "    <tr>\n",
       "      <th>4</th>\n",
       "      <td>A</td>\n",
       "      <td>RENT</td>\n",
       "      <td>4</td>\n",
       "      <td>A4</td>\n",
       "      <td>0</td>\n",
       "      <td>11.20</td>\n",
       "      <td>36 months</td>\n",
       "      <td>wedding</td>\n",
       "      <td>7.90</td>\n",
       "      <td>1</td>\n",
       "      <td>1</td>\n",
       "      <td>28.3</td>\n",
       "      <td>0.00</td>\n",
       "      <td>5.21533</td>\n",
       "      <td>0</td>\n",
       "    </tr>\n",
       "  </tbody>\n",
       "</table>\n",
       "</div>"
      ],
      "text/plain": [
       "  grade home_ownership  emp_length_num sub_grade  short_emp    dti  \\\n",
       "0     B           RENT              11        B2          0  27.65   \n",
       "1     C           RENT               1        C4          1   1.00   \n",
       "2     C           RENT              11        C5          0   8.72   \n",
       "3     C           RENT              11        C1          0  20.00   \n",
       "4     A           RENT               4        A4          0  11.20   \n",
       "\n",
       "         term         purpose  int_rate  last_delinq_none  \\\n",
       "0   36 months     credit_card     10.65                 1   \n",
       "1   60 months             car     15.27                 1   \n",
       "2   36 months  small_business     15.96                 1   \n",
       "3   36 months           other     13.49                 0   \n",
       "4   36 months         wedding      7.90                 1   \n",
       "\n",
       "   last_major_derog_none  revol_util  total_rec_late_fee  payment_inc_ratio  \\\n",
       "0                      1        83.7                0.00            8.14350   \n",
       "1                      1         9.4                0.00            2.39320   \n",
       "2                      1        98.5                0.00            8.25955   \n",
       "3                      1        21.0               16.97            8.27585   \n",
       "4                      1        28.3                0.00            5.21533   \n",
       "\n",
       "   bad_loans  \n",
       "0          0  \n",
       "1          1  \n",
       "2          0  \n",
       "3          0  \n",
       "4          0  "
      ]
     },
     "execution_count": 3,
     "metadata": {},
     "output_type": "execute_result"
    }
   ],
   "source": [
    "loans.head()"
   ]
  },
  {
   "cell_type": "markdown",
   "metadata": {
    "colab_type": "text",
    "id": "aYvvW3HlK8OW"
   },
   "source": [
    "## Análisis exploratorio\n",
    "\n",
    "#### Balanceo de la clase\n",
    "\n",
    "La clase que vamos a intentar predecir es \"bad loans\" que indica si el préstamo fue pagado a tiempo o no. Observamos que la clase está desbalanceada, la mayoría de los préstamos se pagan a tiempo."
   ]
  },
  {
   "cell_type": "code",
   "execution_count": 4,
   "metadata": {
    "colab": {},
    "colab_type": "code",
    "id": "BlIfUosgK8OY"
   },
   "outputs": [
    {
     "data": {
      "text/plain": [
       "0    0.811185\n",
       "1    0.188815\n",
       "Name: bad_loans, dtype: float64"
      ]
     },
     "execution_count": 4,
     "metadata": {},
     "output_type": "execute_result"
    }
   ],
   "source": [
    "loans['bad_loans'].value_counts(normalize=True)"
   ]
  },
  {
   "cell_type": "markdown",
   "metadata": {
    "colab_type": "text",
    "id": "dinDuG-NVXZR"
   },
   "source": [
    "#### Valores faltantes\n",
    "\n",
    "Inspeccionamos los valores faltantes"
   ]
  },
  {
   "cell_type": "code",
   "execution_count": 5,
   "metadata": {
    "colab": {},
    "colab_type": "code",
    "id": "CKTjtKNkK8O3"
   },
   "outputs": [
    {
     "data": {
      "text/plain": [
       "grade                    0\n",
       "home_ownership           0\n",
       "emp_length_num           0\n",
       "sub_grade                0\n",
       "short_emp                0\n",
       "dti                      0\n",
       "term                     0\n",
       "purpose                  0\n",
       "int_rate                 0\n",
       "last_delinq_none         0\n",
       "last_major_derog_none    0\n",
       "revol_util               0\n",
       "total_rec_late_fee       0\n",
       "payment_inc_ratio        4\n",
       "bad_loans                0\n",
       "dtype: int64"
      ]
     },
     "execution_count": 5,
     "metadata": {},
     "output_type": "execute_result"
    }
   ],
   "source": [
    "loans.isnull().sum()"
   ]
  },
  {
   "cell_type": "markdown",
   "metadata": {},
   "source": [
    "Notamos que la variable payment_inc_ratio tiene sólo 4 valores nulos y muestra una correlación importante con la clase.\n",
    "Además sabemos que la relación cuota/ingreso es importante a al hora de evaluar la capacidad de repago. \n",
    "Eliminamos, entonces, los valores con payment_inc_ratio desconocido."
   ]
  },
  {
   "cell_type": "code",
   "execution_count": 6,
   "metadata": {
    "colab": {},
    "colab_type": "code",
    "id": "F45nRKCWK8O_"
   },
   "outputs": [],
   "source": [
    "loans = loans[loans.payment_inc_ratio.notnull()]"
   ]
  },
  {
   "cell_type": "code",
   "execution_count": 7,
   "metadata": {
    "colab": {},
    "colab_type": "code",
    "id": "XdbbOUHSK8PI"
   },
   "outputs": [
    {
     "data": {
      "text/html": [
       "<div>\n",
       "<style scoped>\n",
       "    .dataframe tbody tr th:only-of-type {\n",
       "        vertical-align: middle;\n",
       "    }\n",
       "\n",
       "    .dataframe tbody tr th {\n",
       "        vertical-align: top;\n",
       "    }\n",
       "\n",
       "    .dataframe thead th {\n",
       "        text-align: right;\n",
       "    }\n",
       "</style>\n",
       "<table border=\"1\" class=\"dataframe\">\n",
       "  <thead>\n",
       "    <tr style=\"text-align: right;\">\n",
       "      <th></th>\n",
       "      <th>grade</th>\n",
       "      <th>home_ownership</th>\n",
       "      <th>emp_length_num</th>\n",
       "      <th>sub_grade</th>\n",
       "      <th>short_emp</th>\n",
       "      <th>dti</th>\n",
       "      <th>term</th>\n",
       "      <th>purpose</th>\n",
       "      <th>int_rate</th>\n",
       "      <th>last_delinq_none</th>\n",
       "      <th>last_major_derog_none</th>\n",
       "      <th>revol_util</th>\n",
       "      <th>total_rec_late_fee</th>\n",
       "      <th>payment_inc_ratio</th>\n",
       "      <th>bad_loans</th>\n",
       "    </tr>\n",
       "  </thead>\n",
       "  <tbody>\n",
       "    <tr>\n",
       "      <th>36702</th>\n",
       "      <td>E</td>\n",
       "      <td>RENT</td>\n",
       "      <td>2</td>\n",
       "      <td>E5</td>\n",
       "      <td>0</td>\n",
       "      <td>2.05</td>\n",
       "      <td>36 months</td>\n",
       "      <td>home_improvement</td>\n",
       "      <td>17.74</td>\n",
       "      <td>0</td>\n",
       "      <td>1</td>\n",
       "      <td>47.1</td>\n",
       "      <td>0.0</td>\n",
       "      <td>3.72667</td>\n",
       "      <td>0</td>\n",
       "    </tr>\n",
       "    <tr>\n",
       "      <th>47450</th>\n",
       "      <td>C</td>\n",
       "      <td>MORTGAGE</td>\n",
       "      <td>3</td>\n",
       "      <td>C5</td>\n",
       "      <td>0</td>\n",
       "      <td>23.04</td>\n",
       "      <td>60 months</td>\n",
       "      <td>home_improvement</td>\n",
       "      <td>17.10</td>\n",
       "      <td>0</td>\n",
       "      <td>0</td>\n",
       "      <td>52.1</td>\n",
       "      <td>0.0</td>\n",
       "      <td>13.39690</td>\n",
       "      <td>0</td>\n",
       "    </tr>\n",
       "    <tr>\n",
       "      <th>46734</th>\n",
       "      <td>C</td>\n",
       "      <td>MORTGAGE</td>\n",
       "      <td>6</td>\n",
       "      <td>C5</td>\n",
       "      <td>0</td>\n",
       "      <td>25.34</td>\n",
       "      <td>60 months</td>\n",
       "      <td>debt_consolidation</td>\n",
       "      <td>17.10</td>\n",
       "      <td>1</td>\n",
       "      <td>1</td>\n",
       "      <td>94.8</td>\n",
       "      <td>0.0</td>\n",
       "      <td>6.70605</td>\n",
       "      <td>1</td>\n",
       "    </tr>\n",
       "    <tr>\n",
       "      <th>30220</th>\n",
       "      <td>B</td>\n",
       "      <td>RENT</td>\n",
       "      <td>2</td>\n",
       "      <td>B5</td>\n",
       "      <td>0</td>\n",
       "      <td>22.74</td>\n",
       "      <td>36 months</td>\n",
       "      <td>wedding</td>\n",
       "      <td>12.53</td>\n",
       "      <td>1</td>\n",
       "      <td>1</td>\n",
       "      <td>67.1</td>\n",
       "      <td>0.0</td>\n",
       "      <td>11.45030</td>\n",
       "      <td>0</td>\n",
       "    </tr>\n",
       "    <tr>\n",
       "      <th>344</th>\n",
       "      <td>A</td>\n",
       "      <td>RENT</td>\n",
       "      <td>1</td>\n",
       "      <td>A4</td>\n",
       "      <td>1</td>\n",
       "      <td>1.68</td>\n",
       "      <td>60 months</td>\n",
       "      <td>debt_consolidation</td>\n",
       "      <td>7.90</td>\n",
       "      <td>1</td>\n",
       "      <td>1</td>\n",
       "      <td>10.0</td>\n",
       "      <td>0.0</td>\n",
       "      <td>4.84164</td>\n",
       "      <td>1</td>\n",
       "    </tr>\n",
       "    <tr>\n",
       "      <th>83720</th>\n",
       "      <td>B</td>\n",
       "      <td>MORTGAGE</td>\n",
       "      <td>11</td>\n",
       "      <td>B2</td>\n",
       "      <td>0</td>\n",
       "      <td>28.29</td>\n",
       "      <td>36 months</td>\n",
       "      <td>debt_consolidation</td>\n",
       "      <td>11.14</td>\n",
       "      <td>0</td>\n",
       "      <td>1</td>\n",
       "      <td>46.7</td>\n",
       "      <td>0.0</td>\n",
       "      <td>11.47720</td>\n",
       "      <td>0</td>\n",
       "    </tr>\n",
       "    <tr>\n",
       "      <th>43438</th>\n",
       "      <td>E</td>\n",
       "      <td>MORTGAGE</td>\n",
       "      <td>7</td>\n",
       "      <td>E1</td>\n",
       "      <td>0</td>\n",
       "      <td>18.60</td>\n",
       "      <td>36 months</td>\n",
       "      <td>other</td>\n",
       "      <td>21.00</td>\n",
       "      <td>0</td>\n",
       "      <td>1</td>\n",
       "      <td>67.2</td>\n",
       "      <td>0.0</td>\n",
       "      <td>3.76760</td>\n",
       "      <td>1</td>\n",
       "    </tr>\n",
       "    <tr>\n",
       "      <th>117781</th>\n",
       "      <td>B</td>\n",
       "      <td>RENT</td>\n",
       "      <td>3</td>\n",
       "      <td>B5</td>\n",
       "      <td>0</td>\n",
       "      <td>19.82</td>\n",
       "      <td>36 months</td>\n",
       "      <td>credit_card</td>\n",
       "      <td>12.99</td>\n",
       "      <td>0</td>\n",
       "      <td>0</td>\n",
       "      <td>72.0</td>\n",
       "      <td>0.0</td>\n",
       "      <td>4.97569</td>\n",
       "      <td>0</td>\n",
       "    </tr>\n",
       "    <tr>\n",
       "      <th>30881</th>\n",
       "      <td>C</td>\n",
       "      <td>MORTGAGE</td>\n",
       "      <td>2</td>\n",
       "      <td>C5</td>\n",
       "      <td>0</td>\n",
       "      <td>13.68</td>\n",
       "      <td>36 months</td>\n",
       "      <td>credit_card</td>\n",
       "      <td>14.26</td>\n",
       "      <td>1</td>\n",
       "      <td>1</td>\n",
       "      <td>80.8</td>\n",
       "      <td>0.0</td>\n",
       "      <td>11.76210</td>\n",
       "      <td>0</td>\n",
       "    </tr>\n",
       "    <tr>\n",
       "      <th>1310</th>\n",
       "      <td>B</td>\n",
       "      <td>RENT</td>\n",
       "      <td>2</td>\n",
       "      <td>B3</td>\n",
       "      <td>0</td>\n",
       "      <td>19.82</td>\n",
       "      <td>36 months</td>\n",
       "      <td>debt_consolidation</td>\n",
       "      <td>11.71</td>\n",
       "      <td>1</td>\n",
       "      <td>1</td>\n",
       "      <td>88.0</td>\n",
       "      <td>0.0</td>\n",
       "      <td>5.67017</td>\n",
       "      <td>0</td>\n",
       "    </tr>\n",
       "  </tbody>\n",
       "</table>\n",
       "</div>"
      ],
      "text/plain": [
       "       grade home_ownership  emp_length_num sub_grade  short_emp    dti  \\\n",
       "36702      E           RENT               2        E5          0   2.05   \n",
       "47450      C       MORTGAGE               3        C5          0  23.04   \n",
       "46734      C       MORTGAGE               6        C5          0  25.34   \n",
       "30220      B           RENT               2        B5          0  22.74   \n",
       "344        A           RENT               1        A4          1   1.68   \n",
       "83720      B       MORTGAGE              11        B2          0  28.29   \n",
       "43438      E       MORTGAGE               7        E1          0  18.60   \n",
       "117781     B           RENT               3        B5          0  19.82   \n",
       "30881      C       MORTGAGE               2        C5          0  13.68   \n",
       "1310       B           RENT               2        B3          0  19.82   \n",
       "\n",
       "              term             purpose  int_rate  last_delinq_none  \\\n",
       "36702    36 months    home_improvement     17.74                 0   \n",
       "47450    60 months    home_improvement     17.10                 0   \n",
       "46734    60 months  debt_consolidation     17.10                 1   \n",
       "30220    36 months             wedding     12.53                 1   \n",
       "344      60 months  debt_consolidation      7.90                 1   \n",
       "83720    36 months  debt_consolidation     11.14                 0   \n",
       "43438    36 months               other     21.00                 0   \n",
       "117781   36 months         credit_card     12.99                 0   \n",
       "30881    36 months         credit_card     14.26                 1   \n",
       "1310     36 months  debt_consolidation     11.71                 1   \n",
       "\n",
       "        last_major_derog_none  revol_util  total_rec_late_fee  \\\n",
       "36702                       1        47.1                 0.0   \n",
       "47450                       0        52.1                 0.0   \n",
       "46734                       1        94.8                 0.0   \n",
       "30220                       1        67.1                 0.0   \n",
       "344                         1        10.0                 0.0   \n",
       "83720                       1        46.7                 0.0   \n",
       "43438                       1        67.2                 0.0   \n",
       "117781                      0        72.0                 0.0   \n",
       "30881                       1        80.8                 0.0   \n",
       "1310                        1        88.0                 0.0   \n",
       "\n",
       "        payment_inc_ratio  bad_loans  \n",
       "36702             3.72667          0  \n",
       "47450            13.39690          0  \n",
       "46734             6.70605          1  \n",
       "30220            11.45030          0  \n",
       "344               4.84164          1  \n",
       "83720            11.47720          0  \n",
       "43438             3.76760          1  \n",
       "117781            4.97569          0  \n",
       "30881            11.76210          0  \n",
       "1310              5.67017          0  "
      ]
     },
     "execution_count": 7,
     "metadata": {},
     "output_type": "execute_result"
    }
   ],
   "source": [
    "loans.sample(10)"
   ]
  },
  {
   "cell_type": "markdown",
   "metadata": {
    "colab_type": "text",
    "id": "89F7zV-_K8PT"
   },
   "source": [
    "## Modelo Predictivo: regresión logística\n",
    "\n",
    "Vamos a utilizar Regresión Logística para predecir la clase bad_loans. "
   ]
  },
  {
   "cell_type": "code",
   "execution_count": 8,
   "metadata": {
    "colab": {},
    "colab_type": "code",
    "id": "zv5V3VJ8K8PV"
   },
   "outputs": [],
   "source": [
    "# Generamos las variables dummies para los datos categóricos.\n",
    "loans_enconded = pd.get_dummies(loans)"
   ]
  },
  {
   "cell_type": "code",
   "execution_count": 9,
   "metadata": {
    "colab": {},
    "colab_type": "code",
    "id": "qLH7JTwoK8PZ"
   },
   "outputs": [],
   "source": [
    "training_features, test_features, training_target, test_target \\\n",
    "                            = train_test_split(loans_enconded.drop(['bad_loans'], axis=1),\\\n",
    "                                    loans_enconded['bad_loans'],\\\n",
    "                                    test_size = .1, stratify = loans_enconded['bad_loans'],\\\n",
    "                                    random_state=12)\n",
    "\n",
    "# This stratify parameter makes a split so that the proportion of values in the sample produced will be the same as \n",
    "# the proportion of values provided to parameter stratify.\n",
    "# For example, if variable y is a binary categorical variable with values 0 and 1 and there are 25% of zeros and 75% of ones, \n",
    "# stratify=y will make sure that your random split has 25% of 0's and 75% of 1's."
   ]
  },
  {
   "cell_type": "code",
   "execution_count": 10,
   "metadata": {},
   "outputs": [
    {
     "data": {
      "text/plain": [
       "(array([0, 1], dtype=int64), array([89507, 20835], dtype=int64))"
      ]
     },
     "execution_count": 10,
     "metadata": {},
     "output_type": "execute_result"
    }
   ],
   "source": [
    "# Vemos la cantidad de observaciones en el set de entrenamiento para cada clase:\n",
    "\n",
    "np.unique(training_target, return_counts=True)"
   ]
  },
  {
   "cell_type": "code",
   "execution_count": 11,
   "metadata": {
    "colab": {},
    "colab_type": "code",
    "id": "I1iubjcnTpkz"
   },
   "outputs": [],
   "source": [
    "from sklearn.preprocessing import StandardScaler\n",
    "\n",
    "scaler = StandardScaler()\n",
    "\n",
    "training_features = scaler.fit_transform(training_features)\n",
    "\n"
   ]
  },
  {
   "cell_type": "code",
   "execution_count": 12,
   "metadata": {
    "colab": {},
    "colab_type": "code",
    "id": "2-E5MeukK8Pd"
   },
   "outputs": [],
   "source": [
    "from sklearn.linear_model import LogisticRegression\n",
    "from sklearn.metrics import roc_auc_score, classification_report, confusion_matrix"
   ]
  },
  {
   "cell_type": "code",
   "execution_count": 13,
   "metadata": {
    "colab": {},
    "colab_type": "code",
    "id": "6Q8SAfBoK8Pg"
   },
   "outputs": [
    {
     "data": {
      "text/plain": [
       "LogisticRegression(C=10000000000.0, class_weight=None, dual=False,\n",
       "                   fit_intercept=True, intercept_scaling=1, l1_ratio=None,\n",
       "                   max_iter=100, multi_class='warn', n_jobs=None, penalty='l2',\n",
       "                   random_state=None, solver='lbfgs', tol=0.0001, verbose=0,\n",
       "                   warm_start=False)"
      ]
     },
     "execution_count": 13,
     "metadata": {},
     "output_type": "execute_result"
    }
   ],
   "source": [
    "model = LogisticRegression(C=1e10, solver='lbfgs')\n",
    "model.fit(training_features,training_target)"
   ]
  },
  {
   "cell_type": "code",
   "execution_count": 14,
   "metadata": {
    "colab": {},
    "colab_type": "code",
    "id": "OzL72KYJK8Pl"
   },
   "outputs": [],
   "source": [
    "# Normalizamos las features de testeo:\n",
    "test_features = scaler.transform(test_features)\n",
    "\n",
    "# Calculamos las predicciones del modelo en el set de testeo:\n",
    "y_pred = model.predict(test_features)\n"
   ]
  },
  {
   "cell_type": "code",
   "execution_count": 15,
   "metadata": {
    "colab": {},
    "colab_type": "code",
    "id": "BWlPD3EvK8Pq"
   },
   "outputs": [
    {
     "data": {
      "text/plain": [
       "0.5099668881506572"
      ]
     },
     "execution_count": 15,
     "metadata": {},
     "output_type": "execute_result"
    }
   ],
   "source": [
    "# Calculamos el área debajo de la curva ROC:\n",
    "\n",
    "roc_auc_score(test_target,y_pred)"
   ]
  },
  {
   "cell_type": "code",
   "execution_count": 16,
   "metadata": {
    "colab": {},
    "colab_type": "code",
    "id": "udWPL7IuK8Pv"
   },
   "outputs": [
    {
     "name": "stdout",
     "output_type": "stream",
     "text": [
      "              precision    recall  f1-score   support\n",
      "\n",
      "           0       0.81      0.99      0.89      9946\n",
      "           1       0.45      0.03      0.05      2315\n",
      "\n",
      "    accuracy                           0.81     12261\n",
      "   macro avg       0.63      0.51      0.47     12261\n",
      "weighted avg       0.74      0.81      0.74     12261\n",
      "\n"
     ]
    }
   ],
   "source": [
    "# Observamos el reporte de clasificación:\n",
    "\n",
    "print(classification_report(test_target,y_pred))"
   ]
  },
  {
   "cell_type": "code",
   "execution_count": 17,
   "metadata": {},
   "outputs": [
    {
     "name": "stdout",
     "output_type": "stream",
     "text": [
      "[[9865   81]\n",
      " [2250   65]]\n"
     ]
    }
   ],
   "source": [
    "# Observamos la matriz de confusión:\n",
    "\n",
    "print(confusion_matrix(test_target,y_pred))"
   ]
  },
  {
   "cell_type": "markdown",
   "metadata": {
    "colab_type": "text",
    "id": "X4jIoxaqK8P0"
   },
   "source": [
    "Cuando evaluamos el modelo sobre datos no observados, el área debajo de la curva es muy cercana a 0.5. Especificamente, el recall a la hora de encontrar los \"malos créditos\" es  muy malo. Uno de los problemas que tenemos para hacer un buen modelo es el desbalanceo de los datos. \n",
    "\n",
    "Vamos a intentar dos posibles soluciones."
   ]
  },
  {
   "cell_type": "markdown",
   "metadata": {
    "colab_type": "text",
    "id": "DuW5s9npK8P1"
   },
   "source": [
    "## Oversampling"
   ]
  },
  {
   "cell_type": "markdown",
   "metadata": {
    "colab_type": "text",
    "id": "ckQn2V47K8P3"
   },
   "source": [
    "Para aumentar la representación de la clase minoritaria vamos a hacer un oversampling utilizando el algoritmo SMOTE (Synthetic Minority Oversample) del paquete imblearn.\n",
    "\n",
    "Este algoritmo genera nuevos datos utilizando la técnica de los K vecinos más cercanos.\n",
    "Para generar un nuevo punto:\n",
    "\n",
    "1. Se elige un punto al azar de la clase minoritaria y sus K vecinos más cercanos.\n",
    "2. Se elige al azar uno de esos vecinos.\n",
    "3. Se calcula el vector entre el punto seleccionado y el vecino seleccionado al azar y se lo multiplica por un número aleatorio entre 0 y 1.\n",
    "4. El punto aleatorio dentro del vector es el nuevo dato para el oversampling.\n"
   ]
  },
  {
   "cell_type": "code",
   "execution_count": 18,
   "metadata": {
    "colab": {},
    "colab_type": "code",
    "id": "8lBbIR1IK8P4"
   },
   "outputs": [],
   "source": [
    "from imblearn.over_sampling import SMOTE\n",
    "\n",
    "# Instanciamos la clase SMOTE y realizamos el oversampling:\n",
    "\n",
    "sm = SMOTE(random_state=12)\n",
    "\n",
    "x_train_res, y_train_res = sm.fit_sample(training_features, training_target)\n",
    "\n",
    "x_train_res = scaler.fit_transform(x_train_res)\n"
   ]
  },
  {
   "cell_type": "code",
   "execution_count": 19,
   "metadata": {},
   "outputs": [
    {
     "data": {
      "text/plain": [
       "(array([0, 1], dtype=int64), array([89507, 89507], dtype=int64))"
      ]
     },
     "execution_count": 19,
     "metadata": {},
     "output_type": "execute_result"
    }
   ],
   "source": [
    "# Vemos la cantidad de observaciones en el set de entrenamiento resampleado para cada clase:\n",
    "\n",
    "np.unique(y_train_res, return_counts=True)"
   ]
  },
  {
   "cell_type": "code",
   "execution_count": 20,
   "metadata": {
    "colab": {},
    "colab_type": "code",
    "id": "F4urupT7K8P7"
   },
   "outputs": [
    {
     "data": {
      "text/plain": [
       "LogisticRegression(C=10000000000.0, class_weight=None, dual=False,\n",
       "                   fit_intercept=True, intercept_scaling=1, l1_ratio=None,\n",
       "                   max_iter=100, multi_class='warn', n_jobs=None, penalty='l2',\n",
       "                   random_state=None, solver='lbfgs', tol=0.0001, verbose=0,\n",
       "                   warm_start=False)"
      ]
     },
     "execution_count": 20,
     "metadata": {},
     "output_type": "execute_result"
    }
   ],
   "source": [
    "# Entrenamos la regresión logística con los nuevos datos rebalanceados:\n",
    "\n",
    "model.fit(x_train_res,y_train_res)"
   ]
  },
  {
   "cell_type": "code",
   "execution_count": 21,
   "metadata": {
    "colab": {},
    "colab_type": "code",
    "id": "04xYqKmiK8QB"
   },
   "outputs": [],
   "source": [
    "# Normalizamos los datos del set de testeo y hacemos las predicciones:\n",
    "\n",
    "test_features = scaler.transform(test_features)\n",
    "y_pred = model.predict(test_features)"
   ]
  },
  {
   "cell_type": "code",
   "execution_count": 22,
   "metadata": {
    "colab": {},
    "colab_type": "code",
    "id": "yPb4npU6K8QH"
   },
   "outputs": [
    {
     "data": {
      "text/plain": [
       "0.6294048336177344"
      ]
     },
     "execution_count": 22,
     "metadata": {},
     "output_type": "execute_result"
    }
   ],
   "source": [
    "# Calculamos el área debajo de la curva ROC:\n",
    "\n",
    "roc_auc_score(test_target,y_pred)"
   ]
  },
  {
   "cell_type": "code",
   "execution_count": 23,
   "metadata": {
    "colab": {},
    "colab_type": "code",
    "id": "dB_qIn66K8QL"
   },
   "outputs": [
    {
     "name": "stdout",
     "output_type": "stream",
     "text": [
      "              precision    recall  f1-score   support\n",
      "\n",
      "           0       0.88      0.63      0.73      9946\n",
      "           1       0.28      0.63      0.39      2315\n",
      "\n",
      "    accuracy                           0.63     12261\n",
      "   macro avg       0.58      0.63      0.56     12261\n",
      "weighted avg       0.77      0.63      0.67     12261\n",
      "\n"
     ]
    }
   ],
   "source": [
    "# Observamos el reporte de clasificación:\n",
    "\n",
    "print(classification_report(test_target,y_pred))"
   ]
  },
  {
   "cell_type": "code",
   "execution_count": 24,
   "metadata": {},
   "outputs": [
    {
     "name": "stdout",
     "output_type": "stream",
     "text": [
      "[[6226 3720]\n",
      " [ 850 1465]]\n"
     ]
    }
   ],
   "source": [
    "# Observamos la matriz de confusión:\n",
    "\n",
    "print(confusion_matrix(test_target,y_pred))"
   ]
  },
  {
   "cell_type": "markdown",
   "metadata": {
    "colab_type": "text",
    "id": "GBiqvT9QK8QQ"
   },
   "source": [
    "# Class Weights\n",
    "\n",
    "La otra técnica que podemos utilizar para corregir el desbalance de los datos es incorporar en la función de costos del algoritmo un mayor peso para los errores de entrenamiento cometidos sobre los puntos de la clase minoritaria.\n",
    "\n",
    "Implementamos la Regresión Logística con un parámetro que cambie la ponderación de las clases. <br />\n",
    "\n",
    "¿Tiene sentido aplicar esta corrección junto con el algoritmo SMOTE?\n",
    "<strong />"
   ]
  },
  {
   "cell_type": "code",
   "execution_count": 25,
   "metadata": {
    "colab": {},
    "colab_type": "code",
    "id": "j8ZXAmXcK8QR"
   },
   "outputs": [],
   "source": [
    "model = LogisticRegression(C=1e10, class_weight = 'balanced', solver='lbfgs')\n",
    "\n",
    "# class_weight : dict or ‘balanced’, optional (default=None)\n",
    "# Weights associated with classes in the form {class_label: weight}. \n",
    "# If not given, all classes are supposed to have weight one.\n",
    "# The “balanced” mode uses the values of y to automatically adjust weights \n",
    "# inversely proportional to class frequencies in the \n",
    "# input data as n_samples / (n_classes * np.bincount(y)).\n",
    "# Note that these weights will be multiplied with sample_weight (passed through the fit method) \n",
    "# if sample_weight is specified."
   ]
  },
  {
   "cell_type": "code",
   "execution_count": 26,
   "metadata": {
    "colab": {},
    "colab_type": "code",
    "id": "1gNmZuSAK8QW"
   },
   "outputs": [
    {
     "data": {
      "text/plain": [
       "LogisticRegression(C=10000000000.0, class_weight='balanced', dual=False,\n",
       "                   fit_intercept=True, intercept_scaling=1, l1_ratio=None,\n",
       "                   max_iter=100, multi_class='warn', n_jobs=None, penalty='l2',\n",
       "                   random_state=None, solver='lbfgs', tol=0.0001, verbose=0,\n",
       "                   warm_start=False)"
      ]
     },
     "execution_count": 26,
     "metadata": {},
     "output_type": "execute_result"
    }
   ],
   "source": [
    "model.fit(training_features,training_target)"
   ]
  },
  {
   "cell_type": "code",
   "execution_count": 27,
   "metadata": {
    "colab": {},
    "colab_type": "code",
    "id": "bCrumdZWK8Qd"
   },
   "outputs": [],
   "source": [
    "y_pred = model.predict(test_features)"
   ]
  },
  {
   "cell_type": "code",
   "execution_count": 28,
   "metadata": {
    "colab": {},
    "colab_type": "code",
    "id": "teHiAJa-K8Qh"
   },
   "outputs": [
    {
     "data": {
      "text/plain": [
       "0.6292872439901168"
      ]
     },
     "execution_count": 28,
     "metadata": {},
     "output_type": "execute_result"
    }
   ],
   "source": [
    "# Calculamos el área debajo de la curva ROC:\n",
    "\n",
    "roc_auc_score(test_target,y_pred)"
   ]
  },
  {
   "cell_type": "code",
   "execution_count": 29,
   "metadata": {
    "colab": {},
    "colab_type": "code",
    "id": "wVk99MUYK8Qm"
   },
   "outputs": [
    {
     "name": "stdout",
     "output_type": "stream",
     "text": [
      "              precision    recall  f1-score   support\n",
      "\n",
      "           0       0.87      0.70      0.78      9946\n",
      "           1       0.30      0.56      0.39      2315\n",
      "\n",
      "    accuracy                           0.68     12261\n",
      "   macro avg       0.59      0.63      0.59     12261\n",
      "weighted avg       0.76      0.68      0.71     12261\n",
      "\n"
     ]
    }
   ],
   "source": [
    "# Observamos el reporte de clasificación:\n",
    "\n",
    "print(classification_report(test_target,y_pred))"
   ]
  },
  {
   "cell_type": "code",
   "execution_count": 30,
   "metadata": {},
   "outputs": [
    {
     "name": "stdout",
     "output_type": "stream",
     "text": [
      "[[6997 2949]\n",
      " [1030 1285]]\n"
     ]
    }
   ],
   "source": [
    "# Observamos la matriz de confusión:\n",
    "\n",
    "print(confusion_matrix(test_target,y_pred))"
   ]
  },
  {
   "cell_type": "code",
   "execution_count": null,
   "metadata": {},
   "outputs": [],
   "source": []
  }
 ],
 "metadata": {
  "colab": {
   "collapsed_sections": [],
   "name": "2.Practica_Guiada_Datasets_Desbalanceados.ipynb",
   "provenance": [],
   "version": "0.3.2"
  },
  "kernelspec": {
   "display_name": "Python 3",
   "language": "python",
   "name": "python3"
  },
  "language_info": {
   "codemirror_mode": {
    "name": "ipython",
    "version": 3
   },
   "file_extension": ".py",
   "mimetype": "text/x-python",
   "name": "python",
   "nbconvert_exporter": "python",
   "pygments_lexer": "ipython3",
   "version": "3.6.6"
  }
 },
 "nbformat": 4,
 "nbformat_minor": 1
}
