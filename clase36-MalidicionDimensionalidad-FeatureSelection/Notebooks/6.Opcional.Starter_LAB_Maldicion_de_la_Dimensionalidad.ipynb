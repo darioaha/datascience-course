{
 "cells": [
  {
   "cell_type": "markdown",
   "metadata": {},
   "source": [
    "## LAB: La maldición de la dimensionalidad\n",
    "\n",
    "Para entender el efecto de la cantidad de dimensiones en la capacidad predictiva del modelo vamos a trabajar en un clasificador de noticias de dos diarios argentinos para intentar distinguir entre uno y otro a partir del vocabulario que utilizan. <br />\n",
    "\n",
    "Para esto vamos a implementar un modelo de tipo Naïve Bayes con vectorización de tipo TF-IDF."
   ]
  },
  {
   "cell_type": "code",
   "execution_count": 1,
   "metadata": {},
   "outputs": [],
   "source": [
    "import pandas as pd\n",
    "df_clarin = pd.read_csv('../Data/clarin.csv')\n",
    "df_clarin['class'] = 0"
   ]
  },
  {
   "cell_type": "code",
   "execution_count": 2,
   "metadata": {},
   "outputs": [],
   "source": [
    "df_p12 = pd.read_csv('../Data/pagina12.csv')\n",
    "df_p12['class'] = 1"
   ]
  },
  {
   "cell_type": "code",
   "execution_count": 3,
   "metadata": {},
   "outputs": [],
   "source": [
    "df = pd.concat([df_clarin,df_p12])"
   ]
  },
  {
   "cell_type": "code",
   "execution_count": 4,
   "metadata": {},
   "outputs": [
    {
     "data": {
      "text/html": [
       "<div>\n",
       "<style scoped>\n",
       "    .dataframe tbody tr th:only-of-type {\n",
       "        vertical-align: middle;\n",
       "    }\n",
       "\n",
       "    .dataframe tbody tr th {\n",
       "        vertical-align: top;\n",
       "    }\n",
       "\n",
       "    .dataframe thead th {\n",
       "        text-align: right;\n",
       "    }\n",
       "</style>\n",
       "<table border=\"1\" class=\"dataframe\">\n",
       "  <thead>\n",
       "    <tr style=\"text-align: right;\">\n",
       "      <th></th>\n",
       "      <th>Unnamed: 0</th>\n",
       "      <th>cuerpo</th>\n",
       "      <th>fecha_hora</th>\n",
       "      <th>imagen</th>\n",
       "      <th>resumen</th>\n",
       "      <th>suplemento</th>\n",
       "      <th>titulo</th>\n",
       "      <th>url</th>\n",
       "      <th>class</th>\n",
       "    </tr>\n",
       "  </thead>\n",
       "  <tbody>\n",
       "    <tr>\n",
       "      <th>151</th>\n",
       "      <td>151</td>\n",
       "      <td>Varias especialistas en género criticaron al G...</td>\n",
       "      <td>10 de octubre de 2017</td>\n",
       "      <td>https://images.pagina12.com.ar/styles/focal_16...</td>\n",
       "      <td>En la presentación del Observatorio de Igualda...</td>\n",
       "      <td>Sociedad</td>\n",
       "      <td>“No hay igualdad sin cambio”</td>\n",
       "      <td>https://www.pagina12.com.ar/68145-no-hay-igual...</td>\n",
       "      <td>1</td>\n",
       "    </tr>\n",
       "    <tr>\n",
       "      <th>125</th>\n",
       "      <td>125</td>\n",
       "      <td>El repudio a la cosificación de la mujer y a l...</td>\n",
       "      <td>10 de octubre de 2017</td>\n",
       "      <td>https://images.pagina12.com.ar/styles/width960...</td>\n",
       "      <td>NaN</td>\n",
       "      <td>NaN</td>\n",
       "      <td>BAILARINAS</td>\n",
       "      <td>https://www.pagina12.com.ar/68094-bailarinas</td>\n",
       "      <td>1</td>\n",
       "    </tr>\n",
       "    <tr>\n",
       "      <th>126</th>\n",
       "      <td>126</td>\n",
       "      <td>Ya pasaron veinte años desde la noche de 199...</td>\n",
       "      <td>06/10/2017</td>\n",
       "      <td>NaN</td>\n",
       "      <td>Para empezar a festejar, la historia de un cer...</td>\n",
       "      <td>/revista-enie/</td>\n",
       "      <td>Los veinte años de un clásico</td>\n",
       "      <td>http://www.clarin.com/revista-enie/literatura/...</td>\n",
       "      <td>0</td>\n",
       "    </tr>\n",
       "    <tr>\n",
       "      <th>80</th>\n",
       "      <td>80</td>\n",
       "      <td>Una de las filminas más impactantes que presen...</td>\n",
       "      <td>09 de octubre de 2017</td>\n",
       "      <td>https://images.pagina12.com.ar/styles/width960...</td>\n",
       "      <td>NaN</td>\n",
       "      <td>El país</td>\n",
       "      <td>Deuda: nos están avisando</td>\n",
       "      <td>https://www.pagina12.com.ar/67973-deuda-nos-es...</td>\n",
       "      <td>1</td>\n",
       "    </tr>\n",
       "    <tr>\n",
       "      <th>310</th>\n",
       "      <td>310</td>\n",
       "      <td>Fui a ver Zama con gran expectativa sobre qu...</td>\n",
       "      <td>06/10/2017</td>\n",
       "      <td>NaN</td>\n",
       "      <td>NaN</td>\n",
       "      <td>/espectaculos/musica/</td>\n",
       "      <td>\"Zama\" y los sonidos de la mente</td>\n",
       "      <td>http://www.clarin.com/espectaculos/musica/zama...</td>\n",
       "      <td>0</td>\n",
       "    </tr>\n",
       "    <tr>\n",
       "      <th>131</th>\n",
       "      <td>131</td>\n",
       "      <td>El Banco de Suecia anunció ayer el premio Nobe...</td>\n",
       "      <td>10 de octubre de 2017</td>\n",
       "      <td>https://images.pagina12.com.ar/styles/focal_16...</td>\n",
       "      <td>El investigador estadounidense se alzó con el ...</td>\n",
       "      <td>Economía</td>\n",
       "      <td>Nobel a la teoría de moda</td>\n",
       "      <td>https://www.pagina12.com.ar/68134-nobel-a-la-t...</td>\n",
       "      <td>1</td>\n",
       "    </tr>\n",
       "    <tr>\n",
       "      <th>217</th>\n",
       "      <td>217</td>\n",
       "      <td>En la conferencia de prensa brindada hoy por l...</td>\n",
       "      <td>10 de octubre de 2017</td>\n",
       "      <td>https://images.pagina12.com.ar/styles/focal_16...</td>\n",
       "      <td>La ex presidenta fue crítica con el gobierno d...</td>\n",
       "      <td>El país</td>\n",
       "      <td>\"España está ante una encrucijada\"</td>\n",
       "      <td>https://www.pagina12.com.ar/68237-espana-esta-...</td>\n",
       "      <td>1</td>\n",
       "    </tr>\n",
       "    <tr>\n",
       "      <th>130</th>\n",
       "      <td>130</td>\n",
       "      <td>Las jubilaciones, el salario mínimo y la Asign...</td>\n",
       "      <td>10 de octubre de 2017</td>\n",
       "      <td>https://images.pagina12.com.ar/styles/width960...</td>\n",
       "      <td>NaN</td>\n",
       "      <td>Economía</td>\n",
       "      <td>Ingresos devaluados</td>\n",
       "      <td>https://www.pagina12.com.ar/68135-ingresos-dev...</td>\n",
       "      <td>1</td>\n",
       "    </tr>\n",
       "    <tr>\n",
       "      <th>162</th>\n",
       "      <td>162</td>\n",
       "      <td>Son más de 35 chicos y jóvenes, de ambos sex...</td>\n",
       "      <td>28/09/2017</td>\n",
       "      <td>//images.clarin.com/2017/09/24/HJPbK5HjW_930x5...</td>\n",
       "      <td>En el club de Villa Crespo funciona una escuel...</td>\n",
       "      <td>/deportes/ascenso/</td>\n",
       "      <td>Querido Ascenso: En Atlanta saben tirar parede...</td>\n",
       "      <td>http://www.clarin.com/deportes/ascenso/querido...</td>\n",
       "      <td>0</td>\n",
       "    </tr>\n",
       "    <tr>\n",
       "      <th>18</th>\n",
       "      <td>18</td>\n",
       "      <td>Tras cinco días de bloqueo, crece la tensión...</td>\n",
       "      <td>10/10/2017</td>\n",
       "      <td>//images.clarin.com/2017/10/10/rJd2TE9hZ_930x5...</td>\n",
       "      <td>Es la cooperativa Cotar, que por el conflicto ...</td>\n",
       "      <td>/politica/</td>\n",
       "      <td>Crece la tensión en la planta bloqueada por Ca...</td>\n",
       "      <td>http://www.clarin.com/politica/camioneros-llev...</td>\n",
       "      <td>0</td>\n",
       "    </tr>\n",
       "  </tbody>\n",
       "</table>\n",
       "</div>"
      ],
      "text/plain": [
       "     Unnamed: 0                                             cuerpo  \\\n",
       "151         151  Varias especialistas en género criticaron al G...   \n",
       "125         125  El repudio a la cosificación de la mujer y a l...   \n",
       "126         126    Ya pasaron veinte años desde la noche de 199...   \n",
       "80           80  Una de las filminas más impactantes que presen...   \n",
       "310         310    Fui a ver Zama con gran expectativa sobre qu...   \n",
       "131         131  El Banco de Suecia anunció ayer el premio Nobe...   \n",
       "217         217  En la conferencia de prensa brindada hoy por l...   \n",
       "130         130  Las jubilaciones, el salario mínimo y la Asign...   \n",
       "162         162    Son más de 35 chicos y jóvenes, de ambos sex...   \n",
       "18           18    Tras cinco días de bloqueo, crece la tensión...   \n",
       "\n",
       "                fecha_hora                                             imagen  \\\n",
       "151  10 de octubre de 2017  https://images.pagina12.com.ar/styles/focal_16...   \n",
       "125  10 de octubre de 2017  https://images.pagina12.com.ar/styles/width960...   \n",
       "126            06/10/2017                                                 NaN   \n",
       "80   09 de octubre de 2017  https://images.pagina12.com.ar/styles/width960...   \n",
       "310            06/10/2017                                                 NaN   \n",
       "131  10 de octubre de 2017  https://images.pagina12.com.ar/styles/focal_16...   \n",
       "217  10 de octubre de 2017  https://images.pagina12.com.ar/styles/focal_16...   \n",
       "130  10 de octubre de 2017  https://images.pagina12.com.ar/styles/width960...   \n",
       "162            28/09/2017   //images.clarin.com/2017/09/24/HJPbK5HjW_930x5...   \n",
       "18             10/10/2017   //images.clarin.com/2017/10/10/rJd2TE9hZ_930x5...   \n",
       "\n",
       "                                               resumen             suplemento  \\\n",
       "151  En la presentación del Observatorio de Igualda...               Sociedad   \n",
       "125                                                NaN                    NaN   \n",
       "126  Para empezar a festejar, la historia de un cer...         /revista-enie/   \n",
       "80                                                 NaN                El país   \n",
       "310                                                NaN  /espectaculos/musica/   \n",
       "131  El investigador estadounidense se alzó con el ...               Economía   \n",
       "217  La ex presidenta fue crítica con el gobierno d...                El país   \n",
       "130                                                NaN               Economía   \n",
       "162  En el club de Villa Crespo funciona una escuel...     /deportes/ascenso/   \n",
       "18   Es la cooperativa Cotar, que por el conflicto ...             /politica/   \n",
       "\n",
       "                                                titulo  \\\n",
       "151                       “No hay igualdad sin cambio”   \n",
       "125                                         BAILARINAS   \n",
       "126                      Los veinte años de un clásico   \n",
       "80                           Deuda: nos están avisando   \n",
       "310                   \"Zama\" y los sonidos de la mente   \n",
       "131                          Nobel a la teoría de moda   \n",
       "217                 \"España está ante una encrucijada\"   \n",
       "130                                Ingresos devaluados   \n",
       "162  Querido Ascenso: En Atlanta saben tirar parede...   \n",
       "18   Crece la tensión en la planta bloqueada por Ca...   \n",
       "\n",
       "                                                   url  class  \n",
       "151  https://www.pagina12.com.ar/68145-no-hay-igual...      1  \n",
       "125       https://www.pagina12.com.ar/68094-bailarinas      1  \n",
       "126  http://www.clarin.com/revista-enie/literatura/...      0  \n",
       "80   https://www.pagina12.com.ar/67973-deuda-nos-es...      1  \n",
       "310  http://www.clarin.com/espectaculos/musica/zama...      0  \n",
       "131  https://www.pagina12.com.ar/68134-nobel-a-la-t...      1  \n",
       "217  https://www.pagina12.com.ar/68237-espana-esta-...      1  \n",
       "130  https://www.pagina12.com.ar/68135-ingresos-dev...      1  \n",
       "162  http://www.clarin.com/deportes/ascenso/querido...      0  \n",
       "18   http://www.clarin.com/politica/camioneros-llev...      0  "
      ]
     },
     "execution_count": 4,
     "metadata": {},
     "output_type": "execute_result"
    }
   ],
   "source": [
    "df.sample(10)"
   ]
  },
  {
   "cell_type": "markdown",
   "metadata": {},
   "source": [
    "### 1. Limpieza\n",
    "\n",
    "#### 1.1 Faltantes\n",
    "\n",
    "A partir del dataset observamos que los campos que probablemente contengan el vocabulario relevante son \"cuerpo\", \"título\" y \"resumen\".\n",
    "Sacar del análisis los registros que no tienen cuerpo o título disponible y completar los resúmenes faltantes con una campo en blanco\n"
   ]
  },
  {
   "cell_type": "code",
   "execution_count": null,
   "metadata": {},
   "outputs": [],
   "source": []
  },
  {
   "cell_type": "code",
   "execution_count": null,
   "metadata": {},
   "outputs": [],
   "source": []
  },
  {
   "cell_type": "code",
   "execution_count": null,
   "metadata": {},
   "outputs": [],
   "source": []
  },
  {
   "cell_type": "markdown",
   "metadata": {},
   "source": [
    "#### 1.2 Suplementos relevantes\n",
    "\n",
    "Para mejorar la clasificación es conveniente retirar las secciones donde los dos diarios utilizan un vocabulario similar y muy específico del dominio como, por ejemplo, las relacionadas a deportes."
   ]
  },
  {
   "cell_type": "code",
   "execution_count": null,
   "metadata": {},
   "outputs": [],
   "source": []
  },
  {
   "cell_type": "code",
   "execution_count": null,
   "metadata": {},
   "outputs": [],
   "source": []
  },
  {
   "cell_type": "markdown",
   "metadata": {},
   "source": [
    "#### 1.3 Corpus\n",
    "\n",
    "Construir la columna sobre la cual vamos a predecir concatenando el título, resumen y cuerpo de las distintas noticias."
   ]
  },
  {
   "cell_type": "code",
   "execution_count": null,
   "metadata": {},
   "outputs": [],
   "source": []
  },
  {
   "cell_type": "code",
   "execution_count": null,
   "metadata": {},
   "outputs": [],
   "source": []
  },
  {
   "cell_type": "markdown",
   "metadata": {},
   "source": [
    "#### 1.4 Normalización del texto\n",
    "\n",
    "Primero es conveniente pasar todo el corpus a letras minúsculas.\n",
    "\n",
    "Para mejorar el clasificador es importante sacar todos los acentos que pueden generar diferencias artificiales entre palabras según estén o no puestos. Hint: Utilizar el módulo unidecode\n",
    "\n",
    "Una vez retirados los acentos, quitar todos los signos de puntuación para dejar únicamente palabras. Hint: utilizar una expresión regular, por ejemplo, r'([^\\s\\w]|_)+' para reemplazar todo lo que no sean palabras."
   ]
  },
  {
   "cell_type": "code",
   "execution_count": null,
   "metadata": {},
   "outputs": [],
   "source": []
  },
  {
   "cell_type": "code",
   "execution_count": null,
   "metadata": {},
   "outputs": [],
   "source": []
  },
  {
   "cell_type": "markdown",
   "metadata": {},
   "source": [
    "## 2. Modelo\n",
    "\n",
    "Vectorizar el corpus resultante con TF-IDF y aplicar un modelo Naive Bayes con un split simple entre train y test. \n",
    "<br />\n",
    "¿Cuál es la dimensión de la matriz de features? ¿Cuál es el accuracy obtenido? <br />\n",
    "Dibujar la matriz de confusión."
   ]
  },
  {
   "cell_type": "code",
   "execution_count": null,
   "metadata": {},
   "outputs": [],
   "source": []
  },
  {
   "cell_type": "code",
   "execution_count": null,
   "metadata": {},
   "outputs": [],
   "source": []
  },
  {
   "cell_type": "markdown",
   "metadata": {},
   "source": [
    "## 3. Reducción de la dimensionalidad\n",
    "\n",
    "¿Cuál es la relación entre la cantidad de features y la cantidad de casos de entrenamiento? De acuerdo a la maldición de la dimensionalidad esta relación es un problema.<br/>\n",
    "Una de las técnicas más comunes para reducir dimensiones es utilizar \"stopwords\", una lista con las palabras de cada idioma que no tienen un peso semántico importante. <br />\n",
    "Entrenen nuevamente el modelo quitando las stopwords del español que se encuentran en el archivo \"stopwords.csv\". <br />\n",
    "¿Qué pasa con la cantidad de dimensiones de la matriz de features? ¿Y con el accuracy?"
   ]
  },
  {
   "cell_type": "code",
   "execution_count": null,
   "metadata": {},
   "outputs": [],
   "source": []
  },
  {
   "cell_type": "code",
   "execution_count": null,
   "metadata": {},
   "outputs": [],
   "source": []
  },
  {
   "cell_type": "markdown",
   "metadata": {},
   "source": [
    "## 4. Avanzando en la reducción de dimensiones\n",
    "\n",
    "El modelo mejora cuando quitamos las stopwords pero todavía tenemos una cantidad de dimensiones demasiado alta para \n",
    "la cantidad de datos que tenemos.\n",
    "\n",
    "Pensemos lo siguiente ¿Qué valor tienen las palabras que aparecen una o dos veces en todo el corpus a la hora de discriminar? Para remover del análisis las palabras que ocurren menos de determinada cantidad de veces, la clase TfidfVectorizer tiene un parámetro min_df. \n",
    "\n",
    "Prueben setear el parámetro min_df en 6 y volver a correr el modelo.\n",
    "<br />\n",
    "<strong>\n",
    "¿A cuánto se reduce la dimensión de la matriz de features?\n",
    "<br />\n",
    "¿Cuánto mejora la performance del algoritmo?\n",
    "<strong />"
   ]
  },
  {
   "cell_type": "code",
   "execution_count": null,
   "metadata": {},
   "outputs": [],
   "source": []
  }
 ],
 "metadata": {
  "kernelspec": {
   "display_name": "Python 3",
   "language": "python",
   "name": "python3"
  },
  "language_info": {
   "codemirror_mode": {
    "name": "ipython",
    "version": 3
   },
   "file_extension": ".py",
   "mimetype": "text/x-python",
   "name": "python",
   "nbconvert_exporter": "python",
   "pygments_lexer": "ipython3",
   "version": "3.6.7"
  }
 },
 "nbformat": 4,
 "nbformat_minor": 2
}
