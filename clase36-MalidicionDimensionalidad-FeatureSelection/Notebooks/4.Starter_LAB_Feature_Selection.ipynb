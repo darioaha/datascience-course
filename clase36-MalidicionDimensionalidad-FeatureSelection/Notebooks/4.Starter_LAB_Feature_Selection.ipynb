{
 "cells": [
  {
   "cell_type": "markdown",
   "metadata": {},
   "source": [
    "# LAB: Feature Selection\n",
    "\n",
    "En este lab vamos a explorar selección de características. Seguiremos trabajando sobre el dataset de Titanic.\n",
    "\n",
    "Ante que nada, carguemos algunas cosas:\n",
    "\n",
    "- Paquetes estándar\n",
    "- El dataset"
   ]
  },
  {
   "cell_type": "code",
   "execution_count": 1,
   "metadata": {},
   "outputs": [],
   "source": [
    "import pandas as pd\n",
    "import numpy as np\n",
    "%matplotlib inline\n",
    "import matplotlib.pyplot as plt\n",
    "\n",
    "df = pd.read_csv('../Data/Titanic.csv')"
   ]
  },
  {
   "cell_type": "code",
   "execution_count": null,
   "metadata": {
    "collapsed": true
   },
   "outputs": [],
   "source": []
  },
  {
   "cell_type": "markdown",
   "metadata": {
    "collapsed": true
   },
   "source": [
    "## 1. Preprocesamiento\n",
    "\n",
    "Va a ser necesario realizar algunas tareas de preprocesamiento para este dataset:\n",
    "\n",
    "1. Estandarizar la edad (`age`) y la tarifa (`fare`)\n",
    "2. Construir algunas variables dummies para algunas variables relevantes (tales como `P_class`, `Embarked`, `Male`)"
   ]
  },
  {
   "cell_type": "code",
   "execution_count": null,
   "metadata": {
    "collapsed": true
   },
   "outputs": [],
   "source": []
  },
  {
   "cell_type": "markdown",
   "metadata": {},
   "source": [
    "## 2. Feature selection\n",
    "\n",
    "Utilicemos el método \"SelectKBest\" de scikit learn a ver cuáles son las top 5 características.\n",
    "\n",
    "Cuáles son?\n",
    "\n",
    "\n",
    "Guardémoslas en una variable llamada \"kbest_columns\""
   ]
  },
  {
   "cell_type": "code",
   "execution_count": null,
   "metadata": {
    "collapsed": true
   },
   "outputs": [],
   "source": []
  },
  {
   "cell_type": "markdown",
   "metadata": {},
   "source": [
    "## 3. Eliminación recursiva de características\n",
    "\n",
    "En Scikit Learn también vamos a encontrar una clase para realizar una eliminación recursiva de características. La misma se llama \"RFECV\". Usémosla en combinación de un modelo de regresión logística para ver qué características serán conservadas con este método.\n",
    "\n",
    "Guardémoslas en una variable llamada \"rfecv_columns\""
   ]
  },
  {
   "cell_type": "code",
   "execution_count": null,
   "metadata": {
    "collapsed": true
   },
   "outputs": [],
   "source": []
  },
  {
   "cell_type": "markdown",
   "metadata": {},
   "source": [
    "## 4. Coeficientes de Regresión Logística\n",
    "\n",
    "Veamos si los coeficientes de una RL se condicen.\n",
    "\n",
    "- Creá un modelo de regresión logística\n",
    "- Ejecutá un grid search sobre los parámetros \"penalty type\" y \"C strength\" para encontrar la mejor combinación\n",
    "- Ordená los coeficientes obtenidos por valor absoluto (módulo). El top 5 coincide con los de arriba? Por qué/Por qué no? (Pista: Están todos los valores en la misma escala?)\n",
    "\n",
    "Guardemos las que querramos mantener en una variable llamada \"lr_columns\""
   ]
  },
  {
   "cell_type": "code",
   "execution_count": null,
   "metadata": {
    "collapsed": true
   },
   "outputs": [],
   "source": []
  },
  {
   "cell_type": "markdown",
   "metadata": {},
   "source": [
    "## 5. Comparar sets de características\n",
    "\n",
    "Usá el \"best estimator\" del punto anterior sobre los sets de características obtenidos:\n",
    "\n",
    "- \"kbest_columns\"\n",
    "- \"rfecv_columns\"\n",
    "- \"lr_columns\"\n",
    "- \"all_columns\"\n",
    "\n",
    "Usá validación cruzada (cross_val_score) para evaluar los modelos \n",
    "Preguntas:\n",
    "\n",
    "- Cuál obtuvo mejores resultados?\n",
    "- Hay diferencias signigicativas?\n",
    "- Cuál es la mejor opción? Por qué?"
   ]
  },
  {
   "cell_type": "code",
   "execution_count": null,
   "metadata": {
    "collapsed": true
   },
   "outputs": [],
   "source": []
  },
  {
   "cell_type": "markdown",
   "metadata": {},
   "source": [
    "## Bonus\n",
    "\n",
    "Crea un gráfico de barras para mostrar los coeficientes de la regresión logística."
   ]
  },
  {
   "cell_type": "code",
   "execution_count": null,
   "metadata": {
    "collapsed": true
   },
   "outputs": [],
   "source": []
  }
 ],
 "metadata": {
  "kernelspec": {
   "display_name": "Python 3",
   "language": "python",
   "name": "python3"
  },
  "language_info": {
   "codemirror_mode": {
    "name": "ipython",
    "version": 3
   },
   "file_extension": ".py",
   "mimetype": "text/x-python",
   "name": "python",
   "nbconvert_exporter": "python",
   "pygments_lexer": "ipython3",
   "version": "3.6.7"
  }
 },
 "nbformat": 4,
 "nbformat_minor": 1
}
