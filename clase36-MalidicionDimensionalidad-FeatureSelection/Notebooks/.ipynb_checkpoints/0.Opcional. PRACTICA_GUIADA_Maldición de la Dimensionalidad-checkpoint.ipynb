{
 "cells": [
  {
   "cell_type": "markdown",
   "metadata": {},
   "source": [
    "# Práctica Guiada: Maldición de la Dimensionalidad"
   ]
  },
  {
   "cell_type": "code",
   "execution_count": 1,
   "metadata": {},
   "outputs": [
    {
     "name": "stdout",
     "output_type": "stream",
     "text": [
      "Populating the interactive namespace from numpy and matplotlib\n"
     ]
    }
   ],
   "source": [
    "%pylab inline\n",
    "import seaborn as sns\n",
    "import pandas as pd"
   ]
  },
  {
   "cell_type": "markdown",
   "metadata": {},
   "source": [
    "## Proporción de outliers\n",
    "\n",
    "Si tenemos una variable distribuida uniformemente en un hipercubo de $d$ dimensiones, ¿qué propoción de outliers encontramos? \n",
    "\n",
    "Podemos definir outliers como aquellos puntos que toman valores extremos en alguna de las $d$ dimensiones. \n",
    "\n",
    "Por ejemplo, si pensamos en dos dimensiones, se nos forma un cuadrado."
   ]
  },
  {
   "cell_type": "markdown",
   "metadata": {},
   "source": [
    "**Nota:** Este código sirve para generar un dataset artificial. No es fundamental entenderlo en profundidad."
   ]
  },
  {
   "cell_type": "code",
   "execution_count": 2,
   "metadata": {},
   "outputs": [
    {
     "name": "stdout",
     "output_type": "stream",
     "text": [
      "Outliers  22 de 500\n"
     ]
    },
    {
     "data": {
      "image/png": "[encoded data removed]",
      "text/plain": [
       "<Figure size 432x288 with 1 Axes>"
      ]
     },
     "metadata": {},
     "output_type": "display_data"
    }
   ],
   "source": [
    "m = 500\n",
    "xs = uniform(0.0,1.0,m)\n",
    "ys = uniform(0.0,1.0,m)\n",
    "X = c_[xs,ys]\n",
    "plot(xs,ys,'o',ms=2);\n",
    "x = [0.0,1.0]\n",
    "p = 0.01 # 1%\n",
    "fill_between(x,0,p,alpha=0.2,color='k')\n",
    "fill_between(x,1-p,1,alpha=0.2,color='k')\n",
    "fill_betweenx(x,0,p,alpha=0.2,color='k')\n",
    "fill_betweenx(x,1-p,1,alpha=0.2,color='k',label='Region de outliers');\n",
    "legend();\n",
    "print('Outliers ',sum([any([(d < .01 or d > .99) for d in p]) for p in X]),'de',m)"
   ]
  },
  {
   "cell_type": "markdown",
   "metadata": {},
   "source": [
    "Ahora bien, ¿qué pasa a medida que aumentamos la dimensionalidad del dataset? Dado que no podemos graficar en más de tres dimensiones, lo que haremos será graficar la evolución de la proporción de outliers para cada nivel de dimensionalidad."
   ]
  },
  {
   "cell_type": "code",
   "execution_count": null,
   "metadata": {},
   "outputs": [],
   "source": [
    "def sample_(d, N=1000):\n",
    "    '''Genera una muestra de 1000 puntos en d dimensiones'''\n",
    "    return [[uniform(0., 1.) for i in range(d)] for _ in range(N)]\n",
    "\n",
    "def corner_count(points):\n",
    "    '''Cuenta la cantidad de puntos que son outliers en alguna de las d dimensiones.'''\n",
    "    return mean([any([(d < .01 or d > .99) for d in p]) for p in points])\n",
    "\n",
    "Ds=arange(1,200)\n",
    "plot(Ds, array([corner_count(sample_(d)) for d in Ds])*100);\n",
    "xlabel('Proporcion')\n",
    "ylabel('Dimensiones');"
   ]
  },
  {
   "cell_type": "markdown",
   "metadata": {},
   "source": [
    "* ¿Qué observan?\n",
    "* ¿Qué sucede con la proporción de outliers a medida que el espacio de predictores se incrementa en dimensionalidad?\n",
    "* ¿Por qué puede deberse esto?"
   ]
  },
  {
   "cell_type": "markdown",
   "metadata": {},
   "source": [
    "## Retomemos el ejemplo de regresion logística\n",
    "\n",
    "A continuación vamos a ver qué sucede con la performance de una regresión logística sin regularización a medida que aumenta la cantidad de dimensiones.\n",
    "\n",
    "La regresión deberá predecir datos simulados a través de distribuciones normales multivariadas.\n",
    "\n",
    "* La clase 0 tendrá media 0 y las varianzas de todas las dimensiones valdrán 0.5\n",
    "* La clase 1 tendrá media 1 y las varianzas de todas las dimensiones valdrán 0.5"
   ]
  },
  {
   "cell_type": "markdown",
   "metadata": {},
   "source": [
    "### Regresión logística sobre datos de distintas dimensiones\n",
    "\n",
    "Generamos una lista de posibles dimensiones y para cada uno de estos valores generamos un dataset simulado con las características descriptas arriba.\n",
    "\n",
    "Sobre estos datos corremos y evaluamos una regresión logística para cada dimensionalidad. La métrica de evaluación será el promedio del score de test, utilizando cross validation con una partición de 5 folds en todos los casos. "
   ]
  },
  {
   "cell_type": "code",
   "execution_count": 4,
   "metadata": {},
   "outputs": [],
   "source": [
    "from sklearn.model_selection import cross_val_score, KFold\n",
    "from sklearn.linear_model  import LogisticRegression\n",
    "score = []\n",
    "# Evaluamos el modelo en todas estas dimensiones\n",
    "ds = [1,3,6,40,50,60,120,180]\n",
    "\n",
    "for d  in ds:\n",
    "\n",
    "    size0 = 40; size1 = 40;\n",
    "    \n",
    "    loc0 = ones(d); loc1 = zeros(d)\n",
    "    \n",
    "    sigma0 = 0.5; sigma1 = 0.5; C0 = sigma0*diag(ones(d)); C1 = sigma1*diag(ones(d))\n",
    "\n",
    "    #Generamos datos multivariados\n",
    "    x = c_[multivariate_normal(loc0,C0,size0),zeros(size0)]\n",
    "    y = c_[multivariate_normal(loc1,C1,size1),ones(size1)]\n",
    "    X = r_[x,y]\n",
    "\n",
    "    #Creamos la matriz de features\n",
    "    dfX = pd.DataFrame(X)\n",
    "    dfX.columns = ['dim'+str(i) for i in range(d)]+['class']\n",
    "    X = dfX.drop('class',axis=1)\n",
    "    y = dfX['class']\n",
    "    \n",
    "    # Guardamos la media del score de cross-validation\n",
    "    model = LogisticRegression(C = 1e10,n_jobs=4, solver='lbfgs')\n",
    "    kf = KFold(5, shuffle=True, random_state=0)\n",
    "    score.append(np.mean(cross_val_score(model,X,y,cv=kf)))"
   ]
  },
  {
   "cell_type": "markdown",
   "metadata": {},
   "source": [
    "Observamos que a partir de cierta cantidad de dimensiones, la performance empieza a caer fuertemente debido al exceso de dimensiones en relación a la cantidad de datos disponibles"
   ]
  },
  {
   "cell_type": "code",
   "execution_count": 5,
   "metadata": {},
   "outputs": [
    {
     "data": {
      "text/plain": [
       "[0.7625, 0.875, 0.9875, 0.9875, 1.0, 0.9875, 0.975, 0.925]"
      ]
     },
     "execution_count": 5,
     "metadata": {},
     "output_type": "execute_result"
    }
   ],
   "source": [
    "score"
   ]
  },
  {
   "cell_type": "code",
   "execution_count": 6,
   "metadata": {},
   "outputs": [
    {
     "data": {
      "image/png": "[encoded data removed]",
      "text/plain": [
       "<Figure size 432x288 with 1 Axes>"
      ]
     },
     "metadata": {
      "needs_background": "light"
     },
     "output_type": "display_data"
    }
   ],
   "source": [
    "plt.plot(ds,score,'o-');\n",
    "ylabel('Accuracy')\n",
    "xlabel('Dimensions');"
   ]
  },
  {
   "cell_type": "markdown",
   "metadata": {},
   "source": [
    "Si el volumen de datos aumenta, la cantidad óptima de dimensiones también aumenta. "
   ]
  },
  {
   "cell_type": "code",
   "execution_count": 7,
   "metadata": {},
   "outputs": [],
   "source": [
    "score = []\n",
    "# Evaluamos el modelo en todas estas dimensiones\n",
    "ds = [1,3,6,40,50,60,120,180]\n",
    "\n",
    "for d  in ds:\n",
    "\n",
    "    size0 = 4000; size1 = 4000;\n",
    "    \n",
    "    loc0 = ones(d); loc1 = zeros(d)\n",
    "    \n",
    "    sigma0 = 0.5; sigma1 = 0.5; C0 = sigma0*diag(ones(d)); C1 = sigma1*diag(ones(d))\n",
    "\n",
    "    #Generamos datos multivariados\n",
    "    x = c_[multivariate_normal(loc0,C0,size0),zeros(size0)]\n",
    "    y = c_[multivariate_normal(loc1,C1,size1),ones(size1)]\n",
    "    X = r_[x,y]\n",
    "\n",
    "    #Creamos la matriz de features\n",
    "    dfX = pd.DataFrame(X)\n",
    "    dfX.columns = ['dim'+str(i) for i in range(d)]+['class']\n",
    "    X = dfX.drop('class',axis=1)\n",
    "    y = dfX['class']\n",
    "    \n",
    "    # Guardamos la media del score de cross-validation\n",
    "    model = LogisticRegression(C = 1e10, n_jobs=4, solver='lbfgs')\n",
    "    kf = KFold(5, shuffle=True, random_state=0)\n",
    "    score.append(np.mean(cross_val_score(model,X,y,cv=kf)))"
   ]
  },
  {
   "cell_type": "code",
   "execution_count": 8,
   "metadata": {},
   "outputs": [
    {
     "data": {
      "image/png": "[encoded data removed]",
      "text/plain": [
       "<Figure size 432x288 with 1 Axes>"
      ]
     },
     "metadata": {
      "needs_background": "light"
     },
     "output_type": "display_data"
    }
   ],
   "source": [
    "plt.plot(ds,score,'o-');\n",
    "ylabel('Accuracy')\n",
    "xlabel('Dimensions');"
   ]
  }
 ],
 "metadata": {
  "kernelspec": {
   "display_name": "Python 3",
   "language": "python",
   "name": "python3"
  },
  "language_info": {
   "codemirror_mode": {
    "name": "ipython",
    "version": 3
   },
   "file_extension": ".py",
   "mimetype": "text/x-python",
   "name": "python",
   "nbconvert_exporter": "python",
   "pygments_lexer": "ipython3",
   "version": "3.6.6"
  }
 },
 "nbformat": 4,
 "nbformat_minor": 2
}
