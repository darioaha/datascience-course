{
 "cells": [
  {
   "cell_type": "markdown",
   "metadata": {
    "colab_type": "text",
    "id": "56inNt2udvTp"
   },
   "source": [
    "# PRACTICA GUIADA: Introducción al proceso de Feature Selection en SciKit Learn"
   ]
  },
  {
   "cell_type": "markdown",
   "metadata": {
    "colab_type": "text",
    "id": "wK-A8_HXdvTr"
   },
   "source": [
    "## 1. Introducción\n",
    "\n",
    "El objetivo de esta práctica es introducir algunos de los métodos para la selección de features implementados en Scikit-Learn. Nos concentraremos en algunos de los más comunes. Tal y como se ha mencionado en la exposición teórica, existen muchos más métodos. Pueden consultar sus características en la [documentación oficial del Scikit-Learn dedicada al tema](http://scikit-learn.org/stable/modules/feature_selection.html#univariate-feature-selection).\n",
    "\n",
    "\n",
    "## 2. \"Familias\" de técnicas y métodos de feature selection\n",
    "\n",
    "Existen diferentes \"familias\" de técnicas de feature selection. Veamos.\n",
    "\n",
    "\n",
    "### 2.1 Filter Methods\n",
    "\n",
    "#### 2.1.1 Features con baja varianza\n",
    "\n",
    "Un primer caso (casi trivial) sería la remoción de aquellos features o características que no aporten \"información\" a nuestro dataset. Una forma de lograr la información es a través de la varianza. \n",
    "\n",
    "Entonces, lo que haremos será remover todos aquellos features que tengan baja varianza (es decir, baja variabilidad). Esto haremos definiendo un `threshold` por debajo del cual eliminaremos los features.\n"
   ]
  },
  {
   "cell_type": "code",
   "execution_count": 1,
   "metadata": {
    "colab": {
     "autoexec": {
      "startup": false,
      "wait_interval": 0
     }
    },
    "colab_type": "code",
    "id": "6qlaKSr6dvTt"
   },
   "outputs": [],
   "source": [
    "import pandas as pd\n",
    "from scipy import random\n",
    "import numpy as np\n",
    "from sklearn import datasets"
   ]
  },
  {
   "cell_type": "code",
   "execution_count": 2,
   "metadata": {
    "colab": {
     "autoexec": {
      "startup": false,
      "wait_interval": 0
     }
    },
    "colab_type": "code",
    "id": "83AWFa4KdvTz"
   },
   "outputs": [],
   "source": [
    "# Importamos los datasets Iris y Boston, que ya conocemos:\n",
    "\n",
    "iris = datasets.load_iris()\n",
    "boston = datasets.load_boston()\n"
   ]
  },
  {
   "cell_type": "code",
   "execution_count": 3,
   "metadata": {},
   "outputs": [],
   "source": [
    "# Empecemos a trabajar con el dataset Iris. Creamos un DataFrame con los datos:\n",
    "\n",
    "df1 = pd.DataFrame(np.concatenate((iris.data, iris.target.reshape(-1,1)),1),\n",
    "                  columns = iris.feature_names + ['species'])"
   ]
  },
  {
   "cell_type": "markdown",
   "metadata": {
    "colab_type": "text",
    "id": "CL2fjVZ8dvT5"
   },
   "source": [
    "* Si aplicásemos un `threshold = 0.5` la única variable que debería ser excluida sería `sepal_width`:"
   ]
  },
  {
   "cell_type": "code",
   "execution_count": 4,
   "metadata": {
    "colab": {
     "autoexec": {
      "startup": false,
      "wait_interval": 0
     }
    },
    "colab_type": "code",
    "id": "Ud7e8YjFdvT5"
   },
   "outputs": [
    {
     "data": {
      "text/plain": [
       "sepal length (cm)    0.681122\n",
       "sepal width (cm)     0.188713\n",
       "petal length (cm)    3.095503\n",
       "petal width (cm)     0.577133\n",
       "species              0.666667\n",
       "dtype: float64"
      ]
     },
     "execution_count": 4,
     "metadata": {},
     "output_type": "execute_result"
    }
   ],
   "source": [
    "df1.apply(np.var)"
   ]
  },
  {
   "cell_type": "code",
   "execution_count": 5,
   "metadata": {
    "colab": {
     "autoexec": {
      "startup": false,
      "wait_interval": 0
     }
    },
    "colab_type": "code",
    "id": "WQJ4aiyodvT_"
   },
   "outputs": [
    {
     "data": {
      "text/plain": [
       "VarianceThreshold(threshold=0.5)"
      ]
     },
     "execution_count": 5,
     "metadata": {},
     "output_type": "execute_result"
    }
   ],
   "source": [
    "from sklearn.feature_selection import VarianceThreshold\n",
    "\n",
    "# Instanciamos la clase VarianceThreshold definiendo un threshold=0.5\n",
    "\n",
    "fet_sel = VarianceThreshold(threshold=0.5)\n",
    "\n",
    "# Fiteamos a fet_sel con nuestro df1:\n",
    "\n",
    "fet_sel.fit(df1)"
   ]
  },
  {
   "cell_type": "markdown",
   "metadata": {
    "colab_type": "text",
    "id": "xXOE60fhdvUD"
   },
   "source": [
    "* Usando el método `get_support` podemos consultar un array booleano que marca las variables que no han sido excluidas."
   ]
  },
  {
   "cell_type": "code",
   "execution_count": 6,
   "metadata": {
    "colab": {
     "autoexec": {
      "startup": false,
      "wait_interval": 0
     }
    },
    "colab_type": "code",
    "id": "gYWwDl2NdvUF"
   },
   "outputs": [
    {
     "data": {
      "text/plain": [
       "array([ True, False,  True,  True,  True])"
      ]
     },
     "execution_count": 6,
     "metadata": {},
     "output_type": "execute_result"
    }
   ],
   "source": [
    "fet_sel.get_support()"
   ]
  },
  {
   "cell_type": "code",
   "execution_count": 7,
   "metadata": {
    "colab": {
     "autoexec": {
      "startup": false,
      "wait_interval": 0
     }
    },
    "colab_type": "code",
    "id": "SymDbDskdvUK"
   },
   "outputs": [
    {
     "data": {
      "text/plain": [
       "Index(['sepal length (cm)', 'petal length (cm)', 'petal width (cm)',\n",
       "       'species'],\n",
       "      dtype='object')"
      ]
     },
     "execution_count": 7,
     "metadata": {},
     "output_type": "execute_result"
    }
   ],
   "source": [
    "# Podemos filtrar las columnas que no superen el umbral de varianza:\n",
    "\n",
    "df1.columns[fet_sel.get_support()]"
   ]
  },
  {
   "cell_type": "markdown",
   "metadata": {
    "colab_type": "text",
    "id": "vaOAcVSCdvUO"
   },
   "source": [
    "* Si quisiéramos generar un nuevo array con los datos, simplemente podemos llamar al método `.transform(X)`"
   ]
  },
  {
   "cell_type": "code",
   "execution_count": 8,
   "metadata": {
    "colab": {
     "autoexec": {
      "startup": false,
      "wait_interval": 0
     }
    },
    "colab_type": "code",
    "id": "BtolyYwgdvUQ"
   },
   "outputs": [
    {
     "data": {
      "text/html": [
       "<div>\n",
       "<style scoped>\n",
       "    .dataframe tbody tr th:only-of-type {\n",
       "        vertical-align: middle;\n",
       "    }\n",
       "\n",
       "    .dataframe tbody tr th {\n",
       "        vertical-align: top;\n",
       "    }\n",
       "\n",
       "    .dataframe thead th {\n",
       "        text-align: right;\n",
       "    }\n",
       "</style>\n",
       "<table border=\"1\" class=\"dataframe\">\n",
       "  <thead>\n",
       "    <tr style=\"text-align: right;\">\n",
       "      <th></th>\n",
       "      <th>sepal length (cm)</th>\n",
       "      <th>petal length (cm)</th>\n",
       "      <th>petal width (cm)</th>\n",
       "      <th>species</th>\n",
       "    </tr>\n",
       "  </thead>\n",
       "  <tbody>\n",
       "    <tr>\n",
       "      <th>0</th>\n",
       "      <td>5.1</td>\n",
       "      <td>1.4</td>\n",
       "      <td>0.2</td>\n",
       "      <td>0.0</td>\n",
       "    </tr>\n",
       "    <tr>\n",
       "      <th>1</th>\n",
       "      <td>4.9</td>\n",
       "      <td>1.4</td>\n",
       "      <td>0.2</td>\n",
       "      <td>0.0</td>\n",
       "    </tr>\n",
       "    <tr>\n",
       "      <th>2</th>\n",
       "      <td>4.7</td>\n",
       "      <td>1.3</td>\n",
       "      <td>0.2</td>\n",
       "      <td>0.0</td>\n",
       "    </tr>\n",
       "    <tr>\n",
       "      <th>3</th>\n",
       "      <td>4.6</td>\n",
       "      <td>1.5</td>\n",
       "      <td>0.2</td>\n",
       "      <td>0.0</td>\n",
       "    </tr>\n",
       "    <tr>\n",
       "      <th>4</th>\n",
       "      <td>5.0</td>\n",
       "      <td>1.4</td>\n",
       "      <td>0.2</td>\n",
       "      <td>0.0</td>\n",
       "    </tr>\n",
       "  </tbody>\n",
       "</table>\n",
       "</div>"
      ],
      "text/plain": [
       "   sepal length (cm)  petal length (cm)  petal width (cm)  species\n",
       "0                5.1                1.4               0.2      0.0\n",
       "1                4.9                1.4               0.2      0.0\n",
       "2                4.7                1.3               0.2      0.0\n",
       "3                4.6                1.5               0.2      0.0\n",
       "4                5.0                1.4               0.2      0.0"
      ]
     },
     "execution_count": 8,
     "metadata": {},
     "output_type": "execute_result"
    }
   ],
   "source": [
    "df1_reduced = pd.DataFrame(fet_sel.transform(df1), columns = df1.columns[fet_sel.get_support()])\n",
    "df1_reduced.head()"
   ]
  },
  {
   "cell_type": "markdown",
   "metadata": {
    "colab_type": "text",
    "id": "PFnLX4jXdvUU"
   },
   "source": [
    "#### 2.1.2 Feature selection univariada\n",
    "\n",
    "Tal y como lo indica el nombre, estos métodos buscan seleccionar features, generalmente comparándolas con el target, y utilizando diferente pruebas univariadas. Existen diferentes métodos que realizan esto.\n",
    "\n",
    "#### `SelectKBest`\n",
    "\n",
    "El primero que veremos (en un contexto de regresión) es `SelectKBest`. Este método toma dos argumentos:\n",
    "\n",
    "* `score_func`: una función que devuelve algún score entre $X$ y $Y$:\n",
    "\n",
    "    * Para regresión: f_regression, mutual_info_regression\n",
    "    * Para clasificación: f_classif, mutual_info_classif\n",
    "\n",
    "\n",
    "* `k`: la cantidad de \"mejores\" features que serán seleccionadas\n",
    "\n",
    "Para facilitar el desarrollo hemos generado una función que ejecuta los métodos para regresion, extrae los atributos e imprime los resultados. \n",
    "\n",
    "* La función toma un dataframe como input\n",
    "* Luego instancia el método `SelectKBest` con los parámetro `score_func=f_regression` y `k=2`\n",
    "* Realiza el `.fit` del método\n",
    "* Guarda los resultados (`scores`, `pvalues`, `get_support` y las columnas) en un dataframe y lo retorna. \n"
   ]
  },
  {
   "cell_type": "code",
   "execution_count": 9,
   "metadata": {
    "colab": {
     "autoexec": {
      "startup": false,
      "wait_interval": 0
     }
    },
    "colab_type": "code",
    "id": "GZ48vN81dvUX"
   },
   "outputs": [
    {
     "data": {
      "text/html": [
       "<div>\n",
       "<style scoped>\n",
       "    .dataframe tbody tr th:only-of-type {\n",
       "        vertical-align: middle;\n",
       "    }\n",
       "\n",
       "    .dataframe tbody tr th {\n",
       "        vertical-align: top;\n",
       "    }\n",
       "\n",
       "    .dataframe thead th {\n",
       "        text-align: right;\n",
       "    }\n",
       "</style>\n",
       "<table border=\"1\" class=\"dataframe\">\n",
       "  <thead>\n",
       "    <tr style=\"text-align: right;\">\n",
       "      <th></th>\n",
       "      <th>F Score</th>\n",
       "      <th>P Value</th>\n",
       "      <th>Support</th>\n",
       "      <th>Attribute</th>\n",
       "    </tr>\n",
       "  </thead>\n",
       "  <tbody>\n",
       "    <tr>\n",
       "      <th>12</th>\n",
       "      <td>601.617871</td>\n",
       "      <td>5.081103e-88</td>\n",
       "      <td>True</td>\n",
       "      <td>LSTAT</td>\n",
       "    </tr>\n",
       "    <tr>\n",
       "      <th>5</th>\n",
       "      <td>471.846740</td>\n",
       "      <td>2.487229e-74</td>\n",
       "      <td>True</td>\n",
       "      <td>RM</td>\n",
       "    </tr>\n",
       "    <tr>\n",
       "      <th>10</th>\n",
       "      <td>175.105543</td>\n",
       "      <td>1.609509e-34</td>\n",
       "      <td>True</td>\n",
       "      <td>PTRATIO</td>\n",
       "    </tr>\n",
       "    <tr>\n",
       "      <th>2</th>\n",
       "      <td>153.954883</td>\n",
       "      <td>4.900260e-31</td>\n",
       "      <td>True</td>\n",
       "      <td>INDUS</td>\n",
       "    </tr>\n",
       "    <tr>\n",
       "      <th>9</th>\n",
       "      <td>141.761357</td>\n",
       "      <td>5.637734e-29</td>\n",
       "      <td>False</td>\n",
       "      <td>TAX</td>\n",
       "    </tr>\n",
       "    <tr>\n",
       "      <th>4</th>\n",
       "      <td>112.591480</td>\n",
       "      <td>7.065042e-24</td>\n",
       "      <td>False</td>\n",
       "      <td>NOX</td>\n",
       "    </tr>\n",
       "    <tr>\n",
       "      <th>0</th>\n",
       "      <td>89.486115</td>\n",
       "      <td>1.173987e-19</td>\n",
       "      <td>False</td>\n",
       "      <td>CRIM</td>\n",
       "    </tr>\n",
       "    <tr>\n",
       "      <th>8</th>\n",
       "      <td>85.914278</td>\n",
       "      <td>5.465933e-19</td>\n",
       "      <td>False</td>\n",
       "      <td>RAD</td>\n",
       "    </tr>\n",
       "    <tr>\n",
       "      <th>6</th>\n",
       "      <td>83.477459</td>\n",
       "      <td>1.569982e-18</td>\n",
       "      <td>False</td>\n",
       "      <td>AGE</td>\n",
       "    </tr>\n",
       "    <tr>\n",
       "      <th>1</th>\n",
       "      <td>75.257642</td>\n",
       "      <td>5.713584e-17</td>\n",
       "      <td>False</td>\n",
       "      <td>ZN</td>\n",
       "    </tr>\n",
       "    <tr>\n",
       "      <th>11</th>\n",
       "      <td>63.054229</td>\n",
       "      <td>1.318113e-14</td>\n",
       "      <td>False</td>\n",
       "      <td>B</td>\n",
       "    </tr>\n",
       "    <tr>\n",
       "      <th>7</th>\n",
       "      <td>33.579570</td>\n",
       "      <td>1.206612e-08</td>\n",
       "      <td>False</td>\n",
       "      <td>DIS</td>\n",
       "    </tr>\n",
       "    <tr>\n",
       "      <th>3</th>\n",
       "      <td>15.971512</td>\n",
       "      <td>7.390623e-05</td>\n",
       "      <td>False</td>\n",
       "      <td>CHAS</td>\n",
       "    </tr>\n",
       "  </tbody>\n",
       "</table>\n",
       "</div>"
      ],
      "text/plain": [
       "       F Score       P Value  Support Attribute\n",
       "12  601.617871  5.081103e-88     True     LSTAT\n",
       "5   471.846740  2.487229e-74     True        RM\n",
       "10  175.105543  1.609509e-34     True   PTRATIO\n",
       "2   153.954883  4.900260e-31     True     INDUS\n",
       "9   141.761357  5.637734e-29    False       TAX\n",
       "4   112.591480  7.065042e-24    False       NOX\n",
       "0    89.486115  1.173987e-19    False      CRIM\n",
       "8    85.914278  5.465933e-19    False       RAD\n",
       "6    83.477459  1.569982e-18    False       AGE\n",
       "1    75.257642  5.713584e-17    False        ZN\n",
       "11   63.054229  1.318113e-14    False         B\n",
       "7    33.579570  1.206612e-08    False       DIS\n",
       "3    15.971512  7.390623e-05    False      CHAS"
      ]
     },
     "execution_count": 9,
     "metadata": {},
     "output_type": "execute_result"
    }
   ],
   "source": [
    "from sklearn.feature_selection import SelectKBest, f_classif, f_regression\n",
    "\n",
    "df2 = pd.DataFrame(np.concatenate((boston.data, boston.target.reshape(-1,1)),1),\n",
    "                  columns = list(boston.feature_names) + ['price'])\n",
    "\n",
    "def select_kbest_reg(data_frame, target, k=2):\n",
    "    \"\"\"\n",
    "    Seleccionado K-Best features para regresión\n",
    "    :param data_frame: Un dataframe con datos\n",
    "    :param target: target en el dataframe\n",
    "    :param k: cantidad deseada de features\n",
    "    :devuelve un dataframe llamado feature_scores con los scores para cada feature\n",
    "    \"\"\"\n",
    "    feat_selector = SelectKBest(f_regression, k=k)\n",
    "    _ = feat_selector.fit(data_frame.drop(target, axis=1), data_frame[target])\n",
    "    \n",
    "    feat_scores = pd.DataFrame()\n",
    "    feat_scores[\"F Score\"] = feat_selector.scores_\n",
    "    feat_scores[\"P Value\"] = feat_selector.pvalues_\n",
    "    feat_scores[\"Support\"] = feat_selector.get_support()\n",
    "    feat_scores[\"Attribute\"] = data_frame.drop(target, axis=1).columns\n",
    "    \n",
    "    return feat_scores\n",
    "\n",
    "kbest_feat = select_kbest_reg(df2, \"price\", k=4)\n",
    "kbest_feat = kbest_feat.sort_values([\"F Score\", \"P Value\"], ascending=[False, False])\n",
    "kbest_feat"
   ]
  },
  {
   "cell_type": "markdown",
   "metadata": {
    "colab_type": "text",
    "id": "xh93hk0odvUc"
   },
   "source": [
    "* Puede verse entonces que si quisiéramos seleccionar las mejores 4 variables estas serían `LSTAT`,`RM`, `PTRATIO` e `INDUS`.\n",
    "\n",
    "* Hasta aquí solamente ordenamos e imprimimos los resultados del `SelectKBest` ¿Cómo podríamos hacer para realizar efectivamente la selección?"
   ]
  },
  {
   "cell_type": "code",
   "execution_count": 10,
   "metadata": {
    "colab": {
     "autoexec": {
      "startup": false,
      "wait_interval": 0
     }
    },
    "colab_type": "code",
    "id": "EuGvA8hhdvUe"
   },
   "outputs": [
    {
     "data": {
      "text/html": [
       "<div>\n",
       "<style scoped>\n",
       "    .dataframe tbody tr th:only-of-type {\n",
       "        vertical-align: middle;\n",
       "    }\n",
       "\n",
       "    .dataframe tbody tr th {\n",
       "        vertical-align: top;\n",
       "    }\n",
       "\n",
       "    .dataframe thead th {\n",
       "        text-align: right;\n",
       "    }\n",
       "</style>\n",
       "<table border=\"1\" class=\"dataframe\">\n",
       "  <thead>\n",
       "    <tr style=\"text-align: right;\">\n",
       "      <th></th>\n",
       "      <th>LSTAT</th>\n",
       "      <th>RM</th>\n",
       "      <th>PTRATIO</th>\n",
       "      <th>INDUS</th>\n",
       "    </tr>\n",
       "  </thead>\n",
       "  <tbody>\n",
       "    <tr>\n",
       "      <th>0</th>\n",
       "      <td>4.98</td>\n",
       "      <td>6.575</td>\n",
       "      <td>15.3</td>\n",
       "      <td>2.31</td>\n",
       "    </tr>\n",
       "    <tr>\n",
       "      <th>1</th>\n",
       "      <td>9.14</td>\n",
       "      <td>6.421</td>\n",
       "      <td>17.8</td>\n",
       "      <td>7.07</td>\n",
       "    </tr>\n",
       "    <tr>\n",
       "      <th>2</th>\n",
       "      <td>4.03</td>\n",
       "      <td>7.185</td>\n",
       "      <td>17.8</td>\n",
       "      <td>7.07</td>\n",
       "    </tr>\n",
       "    <tr>\n",
       "      <th>3</th>\n",
       "      <td>2.94</td>\n",
       "      <td>6.998</td>\n",
       "      <td>18.7</td>\n",
       "      <td>2.18</td>\n",
       "    </tr>\n",
       "    <tr>\n",
       "      <th>4</th>\n",
       "      <td>5.33</td>\n",
       "      <td>7.147</td>\n",
       "      <td>18.7</td>\n",
       "      <td>2.18</td>\n",
       "    </tr>\n",
       "  </tbody>\n",
       "</table>\n",
       "</div>"
      ],
      "text/plain": [
       "   LSTAT     RM  PTRATIO  INDUS\n",
       "0   4.98  6.575     15.3   2.31\n",
       "1   9.14  6.421     17.8   7.07\n",
       "2   4.03  7.185     17.8   7.07\n",
       "3   2.94  6.998     18.7   2.18\n",
       "4   5.33  7.147     18.7   2.18"
      ]
     },
     "execution_count": 10,
     "metadata": {},
     "output_type": "execute_result"
    }
   ],
   "source": [
    "select = kbest_feat.loc[kbest_feat['Support'] == True,'Attribute']\n",
    "df2_reduced = df2[select]\n",
    "df2_reduced.head()"
   ]
  },
  {
   "cell_type": "markdown",
   "metadata": {
    "colab_type": "text",
    "id": "vWxN6Z5odvUi"
   },
   "source": [
    "* Si quisiéramos trabajar con un problema de clasificación podríamos simplemente cambiar el `score_func` a alguna función de scoring adecuada: `f_classif`, `mutual_info_classif`."
   ]
  },
  {
   "cell_type": "markdown",
   "metadata": {
    "colab_type": "text",
    "id": "lL_7ojUVdvUj"
   },
   "source": [
    "#### `SelectKPercentile`\n",
    "\n",
    "\n",
    "Este método selecciona features en base a los percentiles (definidos por el usuario) de los scores máximos.\n"
   ]
  },
  {
   "cell_type": "code",
   "execution_count": 11,
   "metadata": {
    "colab": {
     "autoexec": {
      "startup": false,
      "wait_interval": 0
     }
    },
    "colab_type": "code",
    "id": "T29lVT5YdvUk"
   },
   "outputs": [],
   "source": [
    "import pandas as pd\n",
    "from sklearn.feature_selection import SelectPercentile, f_regression\n",
    "\n",
    "def select_percentile(data_frame, target, percentile=15):\n",
    "\n",
    "    feat_selector = SelectPercentile(f_regression, percentile=percentile)\n",
    "    _ = feat_selector.fit(data_frame.drop(target, axis=1), data_frame[target])\n",
    "    \n",
    "    feat_scores = pd.DataFrame()\n",
    "    feat_scores[\"F Score\"] = feat_selector.scores_\n",
    "    feat_scores[\"P Value\"] = feat_selector.pvalues_\n",
    "    feat_scores[\"Support\"] = feat_selector.get_support()\n",
    "    feat_scores[\"Attribute\"] = data_frame.drop(target, axis=1).columns\n",
    "    \n",
    "    return feat_scores"
   ]
  },
  {
   "cell_type": "code",
   "execution_count": 12,
   "metadata": {
    "colab": {
     "autoexec": {
      "startup": false,
      "wait_interval": 0
     }
    },
    "colab_type": "code",
    "id": "kdZ57AWodvUp"
   },
   "outputs": [
    {
     "data": {
      "text/html": [
       "<div>\n",
       "<style scoped>\n",
       "    .dataframe tbody tr th:only-of-type {\n",
       "        vertical-align: middle;\n",
       "    }\n",
       "\n",
       "    .dataframe tbody tr th {\n",
       "        vertical-align: top;\n",
       "    }\n",
       "\n",
       "    .dataframe thead th {\n",
       "        text-align: right;\n",
       "    }\n",
       "</style>\n",
       "<table border=\"1\" class=\"dataframe\">\n",
       "  <thead>\n",
       "    <tr style=\"text-align: right;\">\n",
       "      <th></th>\n",
       "      <th>F Score</th>\n",
       "      <th>P Value</th>\n",
       "      <th>Support</th>\n",
       "      <th>Attribute</th>\n",
       "    </tr>\n",
       "  </thead>\n",
       "  <tbody>\n",
       "    <tr>\n",
       "      <th>12</th>\n",
       "      <td>601.617871</td>\n",
       "      <td>5.081103e-88</td>\n",
       "      <td>True</td>\n",
       "      <td>LSTAT</td>\n",
       "    </tr>\n",
       "    <tr>\n",
       "      <th>5</th>\n",
       "      <td>471.846740</td>\n",
       "      <td>2.487229e-74</td>\n",
       "      <td>True</td>\n",
       "      <td>RM</td>\n",
       "    </tr>\n",
       "    <tr>\n",
       "      <th>10</th>\n",
       "      <td>175.105543</td>\n",
       "      <td>1.609509e-34</td>\n",
       "      <td>True</td>\n",
       "      <td>PTRATIO</td>\n",
       "    </tr>\n",
       "    <tr>\n",
       "      <th>2</th>\n",
       "      <td>153.954883</td>\n",
       "      <td>4.900260e-31</td>\n",
       "      <td>False</td>\n",
       "      <td>INDUS</td>\n",
       "    </tr>\n",
       "    <tr>\n",
       "      <th>9</th>\n",
       "      <td>141.761357</td>\n",
       "      <td>5.637734e-29</td>\n",
       "      <td>False</td>\n",
       "      <td>TAX</td>\n",
       "    </tr>\n",
       "    <tr>\n",
       "      <th>4</th>\n",
       "      <td>112.591480</td>\n",
       "      <td>7.065042e-24</td>\n",
       "      <td>False</td>\n",
       "      <td>NOX</td>\n",
       "    </tr>\n",
       "    <tr>\n",
       "      <th>0</th>\n",
       "      <td>89.486115</td>\n",
       "      <td>1.173987e-19</td>\n",
       "      <td>False</td>\n",
       "      <td>CRIM</td>\n",
       "    </tr>\n",
       "    <tr>\n",
       "      <th>8</th>\n",
       "      <td>85.914278</td>\n",
       "      <td>5.465933e-19</td>\n",
       "      <td>False</td>\n",
       "      <td>RAD</td>\n",
       "    </tr>\n",
       "    <tr>\n",
       "      <th>6</th>\n",
       "      <td>83.477459</td>\n",
       "      <td>1.569982e-18</td>\n",
       "      <td>False</td>\n",
       "      <td>AGE</td>\n",
       "    </tr>\n",
       "    <tr>\n",
       "      <th>1</th>\n",
       "      <td>75.257642</td>\n",
       "      <td>5.713584e-17</td>\n",
       "      <td>False</td>\n",
       "      <td>ZN</td>\n",
       "    </tr>\n",
       "    <tr>\n",
       "      <th>11</th>\n",
       "      <td>63.054229</td>\n",
       "      <td>1.318113e-14</td>\n",
       "      <td>False</td>\n",
       "      <td>B</td>\n",
       "    </tr>\n",
       "    <tr>\n",
       "      <th>7</th>\n",
       "      <td>33.579570</td>\n",
       "      <td>1.206612e-08</td>\n",
       "      <td>False</td>\n",
       "      <td>DIS</td>\n",
       "    </tr>\n",
       "    <tr>\n",
       "      <th>3</th>\n",
       "      <td>15.971512</td>\n",
       "      <td>7.390623e-05</td>\n",
       "      <td>False</td>\n",
       "      <td>CHAS</td>\n",
       "    </tr>\n",
       "  </tbody>\n",
       "</table>\n",
       "</div>"
      ],
      "text/plain": [
       "       F Score       P Value  Support Attribute\n",
       "12  601.617871  5.081103e-88     True     LSTAT\n",
       "5   471.846740  2.487229e-74     True        RM\n",
       "10  175.105543  1.609509e-34     True   PTRATIO\n",
       "2   153.954883  4.900260e-31    False     INDUS\n",
       "9   141.761357  5.637734e-29    False       TAX\n",
       "4   112.591480  7.065042e-24    False       NOX\n",
       "0    89.486115  1.173987e-19    False      CRIM\n",
       "8    85.914278  5.465933e-19    False       RAD\n",
       "6    83.477459  1.569982e-18    False       AGE\n",
       "1    75.257642  5.713584e-17    False        ZN\n",
       "11   63.054229  1.318113e-14    False         B\n",
       "7    33.579570  1.206612e-08    False       DIS\n",
       "3    15.971512  7.390623e-05    False      CHAS"
      ]
     },
     "execution_count": 12,
     "metadata": {},
     "output_type": "execute_result"
    }
   ],
   "source": [
    "per_feat = select_percentile(df2, \"price\", percentile=20)\n",
    "per_feat = per_feat.sort_values([\"F Score\", \"P Value\"], ascending=[False, False])\n",
    "per_feat"
   ]
  },
  {
   "cell_type": "markdown",
   "metadata": {
    "colab_type": "text",
    "id": "AHXm1ChidvUu"
   },
   "source": [
    "### 2.2 Wrapper Methods \n",
    "\n",
    "#### 2.2.1 Eliminación Recursiva de Features (RFE)\n",
    "\n",
    "Este método toma como input un estimador externo para tratar de cuantificar el peso (la importancia) de cada feature. El método va eliminando features sucesivamente para ir quedándose con sets cada vez más pequeño de features.\n",
    "\n",
    "En primera instancia, el método entrena el estimador sobre el total de features y se cuantifica la importancia de cada feature a través de algún atributo del tipo `coef_` o `feature_importance`. El feature menos importante  se elimina del set y se vuelve a entrenar con los restantes. El proceso se repite de forma recursiva hasta que se llega al número de features definido previamente.\n",
    "\n",
    "El método `RFE()` toma los siguientes argumentos:\n",
    "\n",
    "* `estimator`: el estimador sobre el cual se va a realizar la selección (podría ser cualquier método supervisado que tenga un `.fit` que provea como importancia de cada feature un método `coef_` o `feature_importance`)\n",
    "* `n_features_to_select`: la cantidad de features que se busca seleccionar\n",
    "* `steps`: la cantidad de features que se elimina en cada iteración (puede pasarse en relativo o en absoluto)."
   ]
  },
  {
   "cell_type": "code",
   "execution_count": 13,
   "metadata": {},
   "outputs": [],
   "source": [
    "from sklearn.model_selection import train_test_split\n",
    "from sklearn.preprocessing import StandardScaler\n",
    "\n",
    "X_train, X_test, y_train, y_test = train_test_split(df2.drop('price',axis = 1),df2['price'])\n",
    "    \n",
    "scaler = StandardScaler()\n",
    "    \n",
    "X_train = scaler.fit_transform(X_train)\n",
    "X_test  = scaler.transform(X_test)"
   ]
  },
  {
   "cell_type": "code",
   "execution_count": 14,
   "metadata": {},
   "outputs": [
    {
     "name": "stdout",
     "output_type": "stream",
     "text": [
      "   Attribute Name  Ranking  Support\n",
      "0            CRIM        6    False\n",
      "1              ZN        5    False\n",
      "2           INDUS        9    False\n",
      "3            CHAS        7    False\n",
      "4             NOX        1     True\n",
      "5              RM        1     True\n",
      "6             AGE        8    False\n",
      "7             DIS        1     True\n",
      "8             RAD        3    False\n",
      "9             TAX        2    False\n",
      "10        PTRATIO        1     True\n",
      "11              B        4    False\n",
      "12          LSTAT        1     True\n"
     ]
    }
   ],
   "source": [
    "from sklearn.linear_model import LinearRegression\n",
    "from sklearn.feature_selection import RFE\n",
    "\n",
    "estimator = LinearRegression()\n",
    "selector = RFE(estimator, n_features_to_select=5, step = 1)\n",
    "_ = selector.fit(X_train, y_train)\n",
    "\n",
    "scores = pd.DataFrame()\n",
    "scores[\"Attribute Name\"] = df2.drop('price',axis = 1).columns\n",
    "scores[\"Ranking\"] = selector.ranking_\n",
    "scores[\"Support\"] = selector.support_\n",
    "\n",
    "print(scores)"
   ]
  },
  {
   "cell_type": "markdown",
   "metadata": {
    "colab_type": "text",
    "id": "VXu_okzedvU9"
   },
   "source": [
    "* Ahora bien... ¿cuántos features tenemos que seleccionar? Ese es un problema que podemos resolver con... CrossValidation. "
   ]
  },
  {
   "cell_type": "markdown",
   "metadata": {
    "colab_type": "text",
    "id": "fLR0Qa1fdvU_"
   },
   "source": [
    "#### 2.2.2 Eliminación Recursiva de Features con Cross Validation (RFECV)"
   ]
  },
  {
   "cell_type": "markdown",
   "metadata": {
    "colab_type": "text",
    "id": "JjWh4zLSdvVA"
   },
   "source": [
    "Por suerte, hay un método que nos permite seleccionar mediante CrossValidation la cantidad de features a retener.\n",
    "\n",
    "El método `RFECV()` toma los siguientes argumentos:\n",
    "   * `estimator`: análogo a `RFE`, un estimador de aprendizaje supervisado con un atributo `coef_` o `feature_selection` \n",
    "   * `steps`: la cantidad de features que se elimina en cada iteración (puede pasarse en relativo o en absoluto).\n",
    "   * `cv`: determina el método de valdiación cruzada. Puede pasarse un iterador."
   ]
  },
  {
   "cell_type": "code",
   "execution_count": 15,
   "metadata": {
    "colab": {
     "autoexec": {
      "startup": false,
      "wait_interval": 0
     }
    },
    "colab_type": "code",
    "id": "O-7OlAPjdvVC"
   },
   "outputs": [],
   "source": [
    "from sklearn.feature_selection import RFECV\n",
    "from sklearn.model_selection import KFold"
   ]
  },
  {
   "cell_type": "code",
   "execution_count": 16,
   "metadata": {
    "colab": {
     "autoexec": {
      "startup": false,
      "wait_interval": 0
     }
    },
    "colab_type": "code",
    "id": "lbMsTVUpdvVI"
   },
   "outputs": [
    {
     "name": "stdout",
     "output_type": "stream",
     "text": [
      "Fitting estimator with 13 features.\n",
      "Fitting estimator with 12 features.\n",
      "Fitting estimator with 11 features.\n",
      "Fitting estimator with 10 features.\n",
      "Fitting estimator with 9 features.\n",
      "Fitting estimator with 8 features.\n",
      "Fitting estimator with 7 features.\n",
      "Fitting estimator with 6 features.\n",
      "Fitting estimator with 5 features.\n",
      "Fitting estimator with 4 features.\n",
      "Fitting estimator with 3 features.\n",
      "Fitting estimator with 2 features.\n",
      "Fitting estimator with 13 features.\n",
      "Fitting estimator with 12 features.\n",
      "Fitting estimator with 11 features.\n",
      "Fitting estimator with 10 features.\n",
      "Fitting estimator with 9 features.\n",
      "Fitting estimator with 8 features.\n",
      "Fitting estimator with 7 features.\n",
      "Fitting estimator with 6 features.\n",
      "Fitting estimator with 5 features.\n",
      "Fitting estimator with 4 features.\n",
      "Fitting estimator with 3 features.\n",
      "Fitting estimator with 2 features.\n",
      "Fitting estimator with 13 features.\n",
      "Fitting estimator with 12 features.\n",
      "Fitting estimator with 11 features.\n",
      "Fitting estimator with 10 features.\n",
      "Fitting estimator with 9 features.\n",
      "Fitting estimator with 8 features.\n",
      "Fitting estimator with 7 features.\n",
      "Fitting estimator with 6 features.\n",
      "Fitting estimator with 5 features.\n",
      "Fitting estimator with 4 features.\n",
      "Fitting estimator with 3 features.\n",
      "Fitting estimator with 2 features.\n",
      "Fitting estimator with 13 features.\n",
      "Fitting estimator with 12 features.\n",
      "Fitting estimator with 11 features.\n",
      "Fitting estimator with 10 features.\n",
      "Fitting estimator with 9 features.\n",
      "Fitting estimator with 8 features.\n",
      "Fitting estimator with 7 features.\n",
      "Fitting estimator with 6 features.\n",
      "Fitting estimator with 5 features.\n",
      "Fitting estimator with 4 features.\n",
      "Fitting estimator with 3 features.\n",
      "Fitting estimator with 2 features.\n",
      "Fitting estimator with 13 features.\n",
      "Fitting estimator with 12 features.\n",
      "Fitting estimator with 11 features.\n",
      "Fitting estimator with 10 features.\n",
      "Fitting estimator with 9 features.\n",
      "Fitting estimator with 8 features.\n",
      "Fitting estimator with 7 features.\n",
      "Fitting estimator with 6 features.\n",
      "Fitting estimator with 5 features.\n",
      "Fitting estimator with 4 features.\n",
      "Fitting estimator with 3 features.\n",
      "Fitting estimator with 2 features.\n"
     ]
    },
    {
     "data": {
      "text/plain": [
       "RFECV(cv=KFold(n_splits=5, random_state=None, shuffle=True),\n",
       "      estimator=LinearRegression(copy_X=True, fit_intercept=True, n_jobs=None,\n",
       "                                 normalize=False),\n",
       "      min_features_to_select=1, n_jobs=None, scoring='neg_mean_squared_error',\n",
       "      step=1, verbose=2)"
      ]
     },
     "execution_count": 16,
     "metadata": {},
     "output_type": "execute_result"
    }
   ],
   "source": [
    "kf = KFold(n_splits=5, shuffle = True)\n",
    "estimator = LinearRegression()\n",
    "selector = RFECV(estimator, step = 1, cv=kf, scoring = 'neg_mean_squared_error', verbose=2)\n",
    "selector.fit(X_train, y_train)"
   ]
  },
  {
   "cell_type": "markdown",
   "metadata": {
    "colab_type": "text",
    "id": "iaVWfvRddvVN"
   },
   "source": [
    "* Podemos conocer cuáles son las variables seleccionadas luego del proceso de validación cruzada:"
   ]
  },
  {
   "cell_type": "code",
   "execution_count": 17,
   "metadata": {
    "colab": {
     "autoexec": {
      "startup": false,
      "wait_interval": 0
     }
    },
    "colab_type": "code",
    "id": "Iii7_flmdvVP"
   },
   "outputs": [
    {
     "data": {
      "text/plain": [
       "Index(['CRIM', 'ZN', 'INDUS', 'CHAS', 'NOX', 'RM', 'AGE', 'DIS', 'RAD', 'TAX',\n",
       "       'PTRATIO', 'B', 'LSTAT'],\n",
       "      dtype='object')"
      ]
     },
     "execution_count": 17,
     "metadata": {},
     "output_type": "execute_result"
    }
   ],
   "source": [
    "df2.drop('price', axis=1).loc[:,selector.support_].columns"
   ]
  },
  {
   "cell_type": "markdown",
   "metadata": {
    "colab_type": "text",
    "id": "4Kro7FlEdvVY"
   },
   "source": [
    "## 3. Feature Selection como parte de un pipeline\n",
    "\n",
    "\n",
    "\n",
    "La introducción de un proceso de selección de features dentro de un pipeline es directa:"
   ]
  },
  {
   "cell_type": "code",
   "execution_count": 18,
   "metadata": {
    "colab": {
     "autoexec": {
      "startup": false,
      "wait_interval": 0
     }
    },
    "colab_type": "code",
    "id": "oKgM29mhdvVa"
   },
   "outputs": [],
   "source": [
    "from sklearn.pipeline import Pipeline\n",
    "from sklearn.model_selection import GridSearchCV"
   ]
  },
  {
   "cell_type": "code",
   "execution_count": 19,
   "metadata": {
    "colab": {
     "autoexec": {
      "startup": false,
      "wait_interval": 0
     }
    },
    "colab_type": "code",
    "id": "i72zKME6dvVe"
   },
   "outputs": [
    {
     "name": "stdout",
     "output_type": "stream",
     "text": [
      "Fitting 3 folds for each of 13 candidates, totalling 39 fits\n"
     ]
    },
    {
     "name": "stderr",
     "output_type": "stream",
     "text": [
      "[Parallel(n_jobs=3)]: Using backend LokyBackend with 3 concurrent workers.\n",
      "[Parallel(n_jobs=3)]: Done  34 out of  39 | elapsed:    1.8s remaining:    0.3s\n",
      "[Parallel(n_jobs=3)]: Done  39 out of  39 | elapsed:    1.8s finished\n"
     ]
    },
    {
     "data": {
      "text/plain": [
       "GridSearchCV(cv=KFold(n_splits=3, random_state=None, shuffle=True),\n",
       "             error_score='raise-deprecating',\n",
       "             estimator=Pipeline(memory=None,\n",
       "                                steps=[('feat_sel',\n",
       "                                        RFE(estimator=LinearRegression(copy_X=True,\n",
       "                                                                       fit_intercept=True,\n",
       "                                                                       n_jobs=None,\n",
       "                                                                       normalize=False),\n",
       "                                            n_features_to_select=None, step=1,\n",
       "                                            verbose=1)),\n",
       "                                       ('reg',\n",
       "                                        LinearRegression(copy_X=True,\n",
       "                                                         fit_intercept=True,\n",
       "                                                         n_jobs=None,\n",
       "                                                         normalize=False))],\n",
       "                                verbose=False),\n",
       "             iid='warn', n_jobs=3,\n",
       "             param_grid={'feat_sel__n_features_to_select': array([ 1,  2,  3,  4,  5,  6,  7,  8,  9, 10, 11, 12, 13])},\n",
       "             pre_dispatch='2*n_jobs', refit=True, return_train_score=False,\n",
       "             scoring=None, verbose=1)"
      ]
     },
     "execution_count": 19,
     "metadata": {},
     "output_type": "execute_result"
    }
   ],
   "source": [
    "kf = KFold(n_splits=3, shuffle = True)\n",
    "estim = LinearRegression()\n",
    "select = RFE(estim, step = 1, verbose = 1)\n",
    "\n",
    "pipe = Pipeline([\n",
    "  ('feat_sel', select),\n",
    "  ('reg', estim)])\n",
    "\n",
    "param_grid = {'feat_sel__n_features_to_select' : np.arange(1,len(df2.columns)) }\n",
    "\n",
    "gridcv = GridSearchCV(pipe, param_grid, cv=kf, verbose=1, n_jobs = 3)\n",
    "\n",
    "gridcv.fit(X_train, y_train)"
   ]
  },
  {
   "cell_type": "code",
   "execution_count": 20,
   "metadata": {
    "colab": {
     "autoexec": {
      "startup": false,
      "wait_interval": 0
     }
    },
    "colab_type": "code",
    "id": "0Ux0S7qSdvVi"
   },
   "outputs": [
    {
     "data": {
      "text/html": [
       "<div>\n",
       "<style scoped>\n",
       "    .dataframe tbody tr th:only-of-type {\n",
       "        vertical-align: middle;\n",
       "    }\n",
       "\n",
       "    .dataframe tbody tr th {\n",
       "        vertical-align: top;\n",
       "    }\n",
       "\n",
       "    .dataframe thead th {\n",
       "        text-align: right;\n",
       "    }\n",
       "</style>\n",
       "<table border=\"1\" class=\"dataframe\">\n",
       "  <thead>\n",
       "    <tr style=\"text-align: right;\">\n",
       "      <th></th>\n",
       "      <th>mean_fit_time</th>\n",
       "      <th>std_fit_time</th>\n",
       "      <th>mean_score_time</th>\n",
       "      <th>std_score_time</th>\n",
       "      <th>param_feat_sel__n_features_to_select</th>\n",
       "      <th>params</th>\n",
       "      <th>split0_test_score</th>\n",
       "      <th>split1_test_score</th>\n",
       "      <th>split2_test_score</th>\n",
       "      <th>mean_test_score</th>\n",
       "      <th>std_test_score</th>\n",
       "      <th>rank_test_score</th>\n",
       "    </tr>\n",
       "  </thead>\n",
       "  <tbody>\n",
       "    <tr>\n",
       "      <th>0</th>\n",
       "      <td>0.021210</td>\n",
       "      <td>0.000553</td>\n",
       "      <td>0.001171</td>\n",
       "      <td>0.000061</td>\n",
       "      <td>1</td>\n",
       "      <td>{'feat_sel__n_features_to_select': 1}</td>\n",
       "      <td>0.524493</td>\n",
       "      <td>0.549792</td>\n",
       "      <td>0.550835</td>\n",
       "      <td>0.541661</td>\n",
       "      <td>0.012195</td>\n",
       "      <td>13</td>\n",
       "    </tr>\n",
       "    <tr>\n",
       "      <th>1</th>\n",
       "      <td>0.014878</td>\n",
       "      <td>0.001204</td>\n",
       "      <td>0.001056</td>\n",
       "      <td>0.000087</td>\n",
       "      <td>2</td>\n",
       "      <td>{'feat_sel__n_features_to_select': 2}</td>\n",
       "      <td>0.650056</td>\n",
       "      <td>0.602361</td>\n",
       "      <td>0.688281</td>\n",
       "      <td>0.646907</td>\n",
       "      <td>0.035102</td>\n",
       "      <td>12</td>\n",
       "    </tr>\n",
       "    <tr>\n",
       "      <th>2</th>\n",
       "      <td>0.013581</td>\n",
       "      <td>0.000845</td>\n",
       "      <td>0.001144</td>\n",
       "      <td>0.000120</td>\n",
       "      <td>3</td>\n",
       "      <td>{'feat_sel__n_features_to_select': 3}</td>\n",
       "      <td>0.659762</td>\n",
       "      <td>0.649197</td>\n",
       "      <td>0.735322</td>\n",
       "      <td>0.681370</td>\n",
       "      <td>0.038318</td>\n",
       "      <td>11</td>\n",
       "    </tr>\n",
       "    <tr>\n",
       "      <th>3</th>\n",
       "      <td>0.013719</td>\n",
       "      <td>0.000405</td>\n",
       "      <td>0.001020</td>\n",
       "      <td>0.000057</td>\n",
       "      <td>4</td>\n",
       "      <td>{'feat_sel__n_features_to_select': 4}</td>\n",
       "      <td>0.660106</td>\n",
       "      <td>0.649424</td>\n",
       "      <td>0.735742</td>\n",
       "      <td>0.681700</td>\n",
       "      <td>0.038387</td>\n",
       "      <td>10</td>\n",
       "    </tr>\n",
       "    <tr>\n",
       "      <th>4</th>\n",
       "      <td>0.012320</td>\n",
       "      <td>0.000170</td>\n",
       "      <td>0.000926</td>\n",
       "      <td>0.000226</td>\n",
       "      <td>5</td>\n",
       "      <td>{'feat_sel__n_features_to_select': 5}</td>\n",
       "      <td>0.707770</td>\n",
       "      <td>0.646046</td>\n",
       "      <td>0.760037</td>\n",
       "      <td>0.704626</td>\n",
       "      <td>0.046529</td>\n",
       "      <td>8</td>\n",
       "    </tr>\n",
       "    <tr>\n",
       "      <th>5</th>\n",
       "      <td>0.012507</td>\n",
       "      <td>0.001134</td>\n",
       "      <td>0.001094</td>\n",
       "      <td>0.000059</td>\n",
       "      <td>6</td>\n",
       "      <td>{'feat_sel__n_features_to_select': 6}</td>\n",
       "      <td>0.699558</td>\n",
       "      <td>0.665311</td>\n",
       "      <td>0.736655</td>\n",
       "      <td>0.700505</td>\n",
       "      <td>0.029096</td>\n",
       "      <td>9</td>\n",
       "    </tr>\n",
       "    <tr>\n",
       "      <th>6</th>\n",
       "      <td>0.009921</td>\n",
       "      <td>0.000578</td>\n",
       "      <td>0.001152</td>\n",
       "      <td>0.000119</td>\n",
       "      <td>7</td>\n",
       "      <td>{'feat_sel__n_features_to_select': 7}</td>\n",
       "      <td>0.709140</td>\n",
       "      <td>0.685349</td>\n",
       "      <td>0.745620</td>\n",
       "      <td>0.713359</td>\n",
       "      <td>0.024755</td>\n",
       "      <td>6</td>\n",
       "    </tr>\n",
       "    <tr>\n",
       "      <th>7</th>\n",
       "      <td>0.010904</td>\n",
       "      <td>0.002264</td>\n",
       "      <td>0.001237</td>\n",
       "      <td>0.000232</td>\n",
       "      <td>8</td>\n",
       "      <td>{'feat_sel__n_features_to_select': 8}</td>\n",
       "      <td>0.718404</td>\n",
       "      <td>0.683344</td>\n",
       "      <td>0.757878</td>\n",
       "      <td>0.719871</td>\n",
       "      <td>0.030406</td>\n",
       "      <td>2</td>\n",
       "    </tr>\n",
       "    <tr>\n",
       "      <th>8</th>\n",
       "      <td>0.007862</td>\n",
       "      <td>0.000344</td>\n",
       "      <td>0.001072</td>\n",
       "      <td>0.000108</td>\n",
       "      <td>9</td>\n",
       "      <td>{'feat_sel__n_features_to_select': 9}</td>\n",
       "      <td>0.716076</td>\n",
       "      <td>0.664957</td>\n",
       "      <td>0.752732</td>\n",
       "      <td>0.711268</td>\n",
       "      <td>0.035949</td>\n",
       "      <td>7</td>\n",
       "    </tr>\n",
       "    <tr>\n",
       "      <th>9</th>\n",
       "      <td>0.006534</td>\n",
       "      <td>0.000395</td>\n",
       "      <td>0.000939</td>\n",
       "      <td>0.000108</td>\n",
       "      <td>10</td>\n",
       "      <td>{'feat_sel__n_features_to_select': 10}</td>\n",
       "      <td>0.725615</td>\n",
       "      <td>0.673008</td>\n",
       "      <td>0.751495</td>\n",
       "      <td>0.716730</td>\n",
       "      <td>0.032616</td>\n",
       "      <td>5</td>\n",
       "    </tr>\n",
       "    <tr>\n",
       "      <th>10</th>\n",
       "      <td>0.005449</td>\n",
       "      <td>0.000200</td>\n",
       "      <td>0.000893</td>\n",
       "      <td>0.000194</td>\n",
       "      <td>11</td>\n",
       "      <td>{'feat_sel__n_features_to_select': 11}</td>\n",
       "      <td>0.722977</td>\n",
       "      <td>0.678667</td>\n",
       "      <td>0.752169</td>\n",
       "      <td>0.717951</td>\n",
       "      <td>0.030179</td>\n",
       "      <td>4</td>\n",
       "    </tr>\n",
       "    <tr>\n",
       "      <th>11</th>\n",
       "      <td>0.002987</td>\n",
       "      <td>0.000587</td>\n",
       "      <td>0.000647</td>\n",
       "      <td>0.000019</td>\n",
       "      <td>12</td>\n",
       "      <td>{'feat_sel__n_features_to_select': 12}</td>\n",
       "      <td>0.739237</td>\n",
       "      <td>0.674437</td>\n",
       "      <td>0.743065</td>\n",
       "      <td>0.718966</td>\n",
       "      <td>0.031464</td>\n",
       "      <td>3</td>\n",
       "    </tr>\n",
       "    <tr>\n",
       "      <th>12</th>\n",
       "      <td>0.001550</td>\n",
       "      <td>0.000034</td>\n",
       "      <td>0.000591</td>\n",
       "      <td>0.000076</td>\n",
       "      <td>13</td>\n",
       "      <td>{'feat_sel__n_features_to_select': 13}</td>\n",
       "      <td>0.742846</td>\n",
       "      <td>0.674039</td>\n",
       "      <td>0.742945</td>\n",
       "      <td>0.720004</td>\n",
       "      <td>0.032438</td>\n",
       "      <td>1</td>\n",
       "    </tr>\n",
       "  </tbody>\n",
       "</table>\n",
       "</div>"
      ],
      "text/plain": [
       "    mean_fit_time  std_fit_time  mean_score_time  std_score_time  \\\n",
       "0        0.021210      0.000553         0.001171        0.000061   \n",
       "1        0.014878      0.001204         0.001056        0.000087   \n",
       "2        0.013581      0.000845         0.001144        0.000120   \n",
       "3        0.013719      0.000405         0.001020        0.000057   \n",
       "4        0.012320      0.000170         0.000926        0.000226   \n",
       "5        0.012507      0.001134         0.001094        0.000059   \n",
       "6        0.009921      0.000578         0.001152        0.000119   \n",
       "7        0.010904      0.002264         0.001237        0.000232   \n",
       "8        0.007862      0.000344         0.001072        0.000108   \n",
       "9        0.006534      0.000395         0.000939        0.000108   \n",
       "10       0.005449      0.000200         0.000893        0.000194   \n",
       "11       0.002987      0.000587         0.000647        0.000019   \n",
       "12       0.001550      0.000034         0.000591        0.000076   \n",
       "\n",
       "   param_feat_sel__n_features_to_select  \\\n",
       "0                                     1   \n",
       "1                                     2   \n",
       "2                                     3   \n",
       "3                                     4   \n",
       "4                                     5   \n",
       "5                                     6   \n",
       "6                                     7   \n",
       "7                                     8   \n",
       "8                                     9   \n",
       "9                                    10   \n",
       "10                                   11   \n",
       "11                                   12   \n",
       "12                                   13   \n",
       "\n",
       "                                    params  split0_test_score  \\\n",
       "0    {'feat_sel__n_features_to_select': 1}           0.524493   \n",
       "1    {'feat_sel__n_features_to_select': 2}           0.650056   \n",
       "2    {'feat_sel__n_features_to_select': 3}           0.659762   \n",
       "3    {'feat_sel__n_features_to_select': 4}           0.660106   \n",
       "4    {'feat_sel__n_features_to_select': 5}           0.707770   \n",
       "5    {'feat_sel__n_features_to_select': 6}           0.699558   \n",
       "6    {'feat_sel__n_features_to_select': 7}           0.709140   \n",
       "7    {'feat_sel__n_features_to_select': 8}           0.718404   \n",
       "8    {'feat_sel__n_features_to_select': 9}           0.716076   \n",
       "9   {'feat_sel__n_features_to_select': 10}           0.725615   \n",
       "10  {'feat_sel__n_features_to_select': 11}           0.722977   \n",
       "11  {'feat_sel__n_features_to_select': 12}           0.739237   \n",
       "12  {'feat_sel__n_features_to_select': 13}           0.742846   \n",
       "\n",
       "    split1_test_score  split2_test_score  mean_test_score  std_test_score  \\\n",
       "0            0.549792           0.550835         0.541661        0.012195   \n",
       "1            0.602361           0.688281         0.646907        0.035102   \n",
       "2            0.649197           0.735322         0.681370        0.038318   \n",
       "3            0.649424           0.735742         0.681700        0.038387   \n",
       "4            0.646046           0.760037         0.704626        0.046529   \n",
       "5            0.665311           0.736655         0.700505        0.029096   \n",
       "6            0.685349           0.745620         0.713359        0.024755   \n",
       "7            0.683344           0.757878         0.719871        0.030406   \n",
       "8            0.664957           0.752732         0.711268        0.035949   \n",
       "9            0.673008           0.751495         0.716730        0.032616   \n",
       "10           0.678667           0.752169         0.717951        0.030179   \n",
       "11           0.674437           0.743065         0.718966        0.031464   \n",
       "12           0.674039           0.742945         0.720004        0.032438   \n",
       "\n",
       "    rank_test_score  \n",
       "0                13  \n",
       "1                12  \n",
       "2                11  \n",
       "3                10  \n",
       "4                 8  \n",
       "5                 9  \n",
       "6                 6  \n",
       "7                 2  \n",
       "8                 7  \n",
       "9                 5  \n",
       "10                4  \n",
       "11                3  \n",
       "12                1  "
      ]
     },
     "execution_count": 20,
     "metadata": {},
     "output_type": "execute_result"
    }
   ],
   "source": [
    "pd.DataFrame(gridcv.cv_results_)"
   ]
  },
  {
   "cell_type": "code",
   "execution_count": 21,
   "metadata": {
    "colab": {
     "autoexec": {
      "startup": false,
      "wait_interval": 0
     }
    },
    "colab_type": "code",
    "id": "nyMomuoNdvVn"
   },
   "outputs": [
    {
     "data": {
      "text/plain": [
       "Pipeline(memory=None,\n",
       "         steps=[('feat_sel',\n",
       "                 RFE(estimator=LinearRegression(copy_X=True, fit_intercept=True,\n",
       "                                                n_jobs=None, normalize=False),\n",
       "                     n_features_to_select=13, step=1, verbose=1)),\n",
       "                ('reg',\n",
       "                 LinearRegression(copy_X=True, fit_intercept=True, n_jobs=None,\n",
       "                                  normalize=False))],\n",
       "         verbose=False)"
      ]
     },
     "execution_count": 21,
     "metadata": {},
     "output_type": "execute_result"
    }
   ],
   "source": [
    "gridcv.best_estimator_"
   ]
  },
  {
   "cell_type": "code",
   "execution_count": 22,
   "metadata": {},
   "outputs": [],
   "source": [
    "y_pred = gridcv.predict(X_test)"
   ]
  },
  {
   "cell_type": "code",
   "execution_count": 23,
   "metadata": {},
   "outputs": [
    {
     "data": {
      "text/plain": [
       "0.6753315195564333"
      ]
     },
     "execution_count": 23,
     "metadata": {},
     "output_type": "execute_result"
    }
   ],
   "source": [
    "from sklearn import metrics\n",
    "\n",
    "metrics.r2_score(y_test, y_pred)"
   ]
  },
  {
   "cell_type": "code",
   "execution_count": null,
   "metadata": {},
   "outputs": [],
   "source": []
  }
 ],
 "metadata": {
  "colab": {
   "default_view": {},
   "name": "PRACTICA GUIADA_Feature_Selection.ipynb",
   "provenance": [],
   "version": "0.3.2",
   "views": {}
  },
  "kernelspec": {
   "display_name": "Python 3",
   "language": "python",
   "name": "python3"
  },
  "language_info": {
   "codemirror_mode": {
    "name": "ipython",
    "version": 3
   },
   "file_extension": ".py",
   "mimetype": "text/x-python",
   "name": "python",
   "nbconvert_exporter": "python",
   "pygments_lexer": "ipython3",
   "version": "3.6.6"
  }
 },
 "nbformat": 4,
 "nbformat_minor": 1
}
