{
 "cells": [
  {
   "cell_type": "markdown",
   "metadata": {
    "colab_type": "text",
    "id": "QswOLcA04b5c"
   },
   "source": [
    "# LAB: Árboles de decisión y Bagging\n"
   ]
  },
  {
   "cell_type": "markdown",
   "metadata": {
    "colab_type": "text",
    "id": "0WrmFsCV4b5f"
   },
   "source": [
    "## Introducción\n",
    "\n",
    "En este lab compararemos el rendimiento de un clasificador de árbol de decisión simple con un clasificador de Bagging. Lo haremos en pocos datasets, empezando por los ofrecidos por Scikit Learn.\n",
    "\n",
    "Como ya hemos aprendido, el data science es un proceso iterativo. A menudo comenzamos con un modelo muy simple y luego tratamos de mejorar su rendimiento o encontrar mejores modelos para comparar con el inicial.\n",
    "\n",
    "Este es exactamente el proceso que seguiremos en este laboratorio. Comenzaremos con un modelo simple (Árbol de decisión) y luego compararemos su rendimiento con un modelo Ensamble más complejo.\n",
    "\n",
    "Usaremos dos datasets:\n",
    "\n",
    "- para clasificación utilizaremos el [dataset de Cáncer de mama](http://archive.ics.uci.edu/ml/datasets/Breast+Cancer+Wisconsin+(Diagnostic). Trataremos de diagnosticar un cáncer de mama a partir de pocas características del núcleo celular\n",
    "\n",
    "- para regressión utilizaremos el [dataset de Diabetes](http://web.stanford.edu/~hastie/Papers/LARS/LeastAngle_2002.pdf), donde trataremos de obtener una medida cuantitativa de la progresión de la enfermedad un año después de la línea de base de 10 variables basales."
   ]
  },
  {
   "cell_type": "markdown",
   "metadata": {
    "colab_type": "text",
    "id": "7DL-BZhV4b5g"
   },
   "source": [
    "## Ejercicio\n",
    "\n",
    "### Requisitos\n",
    "\n",
    "1. Usando el dataset de Cáncer de mama, inicializar un clasificador de árbol de decisión y utilizar cross_val_score para evaluar su rendimiento\n",
    "    - Compare el rendimiento con el clasificador de Bagging\n",
    "    - Usar pipelines y escalado para ver si el rendimiento mejora\n",
    "    - Explorar el espacio de parámetros con Grid Search\n",
    "- Usando el dataset de Diabetes, inicializar un Árbol de Regresión y compararlo con un Regresor de Bagging\n",
    "    - Comparación simple usando cross_val_score\n",
    "    - Explorar el espacio de parámetros con Grid Search\n",
    "\n",
    "**Extra:**\n",
    "\n",
    "- Repetir el análisis anterior para el dataset de IMDB"
   ]
  },
  {
   "cell_type": "markdown",
   "metadata": {
    "colab_type": "text",
    "id": "Z_GhbLL_4b5h"
   },
   "source": [
    "## Recursos Adicionales\n",
    "\n",
    "- [Validación cruzada en el ejemplo de Diabetes](http://scikit-learn.org/stable/auto_examples/exercises/plot_cv_diabetes.html)\n",
    "- [paper del dataset de Diabetes](http://web.stanford.edu/~hastie/Papers/LARS/LeastAngle_2002.pdf)\n",
    "- [Clasificador Bagging](http://scikit-learn.org/stable/modules/generated/sklearn.ensemble.BaggingClassifier.html)\n",
    "- [Grid Search](http://scikit-learn.org/stable/modules/grid_search.html)"
   ]
  },
  {
   "cell_type": "markdown",
   "metadata": {
    "colab_type": "text",
    "id": "GQd7w-M14b5j"
   },
   "source": [
    "## 1. Dataset de Cáncer de mama\n",
    "Comenzaremos la comparación con el dataset de cáncer de mama.\n",
    "Pueden leerlo directamente desde scikit-learn usando la función `load_breast_cancer`.\n",
    "\n",
    "### 1.a Comparación simple\n",
    "1. Leer los datos y crear X e y\n",
    "- Inicializar un árbol de clasificación y usar use cross_val_score para evaluar su rendimiento. Setear la validacion cruzada a 5-folds\n",
    "- Construir un clasificador de Bagging sobre un clasificador de árbol y usar cross_val_score para evaluar su rendimiento. Setear la validacion cruzada a 5-folds\n",
    "- ¿Qué resultado es mejor? ¿El resultado es significativamente diferente? ¿Cómo se puede interpretar eso?\n",
    "> Respuesta: usar el desvío estándar de los resultados de salida de cross_val_score"
   ]
  },
  {
   "cell_type": "code",
   "execution_count": 1,
   "metadata": {
    "colab": {},
    "colab_type": "code",
    "id": "w-lTCRa94b5l"
   },
   "outputs": [],
   "source": [
    "import pandas as pd\n",
    "import numpy as np\n",
    "import matplotlib.pyplot as plt\n",
    "%matplotlib inline"
   ]
  },
  {
   "cell_type": "code",
   "execution_count": 2,
   "metadata": {
    "colab": {},
    "colab_type": "code",
    "id": "bRyRMDWi4b5r"
   },
   "outputs": [],
   "source": [
    "from sklearn.datasets import load_breast_cancer"
   ]
  },
  {
   "cell_type": "code",
   "execution_count": 3,
   "metadata": {
    "colab": {},
    "colab_type": "code",
    "id": "8wGXQpa94b5w"
   },
   "outputs": [],
   "source": [
    "data = load_breast_cancer()"
   ]
  },
  {
   "cell_type": "code",
   "execution_count": 4,
   "metadata": {
    "colab": {},
    "colab_type": "code",
    "id": "h9me5SDM4b50",
    "outputId": "0c22486f-c395-4a8e-8310-38ecf26b6107"
   },
   "outputs": [
    {
     "data": {
      "text/plain": [
       "dict_keys(['data', 'target', 'target_names', 'DESCR', 'feature_names', 'filename'])"
      ]
     },
     "execution_count": 4,
     "metadata": {},
     "output_type": "execute_result"
    }
   ],
   "source": [
    "data.keys()"
   ]
  },
  {
   "cell_type": "code",
   "execution_count": 5,
   "metadata": {
    "colab": {},
    "colab_type": "code",
    "id": "bzHUbWV24b5_"
   },
   "outputs": [],
   "source": [
    "X = pd.DataFrame(data['data'], columns=data['feature_names'])\n",
    "y = pd.Series(data['target'])"
   ]
  },
  {
   "cell_type": "code",
   "execution_count": 6,
   "metadata": {
    "colab": {},
    "colab_type": "code",
    "id": "-ngDfxQV4b6E",
    "outputId": "1e723a20-0309-48a7-86f4-824adf6093e8"
   },
   "outputs": [
    {
     "data": {
      "text/html": [
       "<div>\n",
       "<style scoped>\n",
       "    .dataframe tbody tr th:only-of-type {\n",
       "        vertical-align: middle;\n",
       "    }\n",
       "\n",
       "    .dataframe tbody tr th {\n",
       "        vertical-align: top;\n",
       "    }\n",
       "\n",
       "    .dataframe thead th {\n",
       "        text-align: right;\n",
       "    }\n",
       "</style>\n",
       "<table border=\"1\" class=\"dataframe\">\n",
       "  <thead>\n",
       "    <tr style=\"text-align: right;\">\n",
       "      <th></th>\n",
       "      <th>mean radius</th>\n",
       "      <th>mean texture</th>\n",
       "      <th>mean perimeter</th>\n",
       "      <th>mean area</th>\n",
       "      <th>mean smoothness</th>\n",
       "      <th>mean compactness</th>\n",
       "      <th>mean concavity</th>\n",
       "      <th>mean concave points</th>\n",
       "      <th>mean symmetry</th>\n",
       "      <th>mean fractal dimension</th>\n",
       "      <th>...</th>\n",
       "      <th>worst radius</th>\n",
       "      <th>worst texture</th>\n",
       "      <th>worst perimeter</th>\n",
       "      <th>worst area</th>\n",
       "      <th>worst smoothness</th>\n",
       "      <th>worst compactness</th>\n",
       "      <th>worst concavity</th>\n",
       "      <th>worst concave points</th>\n",
       "      <th>worst symmetry</th>\n",
       "      <th>worst fractal dimension</th>\n",
       "    </tr>\n",
       "  </thead>\n",
       "  <tbody>\n",
       "    <tr>\n",
       "      <th>0</th>\n",
       "      <td>17.99</td>\n",
       "      <td>10.38</td>\n",
       "      <td>122.80</td>\n",
       "      <td>1001.0</td>\n",
       "      <td>0.11840</td>\n",
       "      <td>0.27760</td>\n",
       "      <td>0.3001</td>\n",
       "      <td>0.14710</td>\n",
       "      <td>0.2419</td>\n",
       "      <td>0.07871</td>\n",
       "      <td>...</td>\n",
       "      <td>25.38</td>\n",
       "      <td>17.33</td>\n",
       "      <td>184.60</td>\n",
       "      <td>2019.0</td>\n",
       "      <td>0.1622</td>\n",
       "      <td>0.6656</td>\n",
       "      <td>0.7119</td>\n",
       "      <td>0.2654</td>\n",
       "      <td>0.4601</td>\n",
       "      <td>0.11890</td>\n",
       "    </tr>\n",
       "    <tr>\n",
       "      <th>1</th>\n",
       "      <td>20.57</td>\n",
       "      <td>17.77</td>\n",
       "      <td>132.90</td>\n",
       "      <td>1326.0</td>\n",
       "      <td>0.08474</td>\n",
       "      <td>0.07864</td>\n",
       "      <td>0.0869</td>\n",
       "      <td>0.07017</td>\n",
       "      <td>0.1812</td>\n",
       "      <td>0.05667</td>\n",
       "      <td>...</td>\n",
       "      <td>24.99</td>\n",
       "      <td>23.41</td>\n",
       "      <td>158.80</td>\n",
       "      <td>1956.0</td>\n",
       "      <td>0.1238</td>\n",
       "      <td>0.1866</td>\n",
       "      <td>0.2416</td>\n",
       "      <td>0.1860</td>\n",
       "      <td>0.2750</td>\n",
       "      <td>0.08902</td>\n",
       "    </tr>\n",
       "    <tr>\n",
       "      <th>2</th>\n",
       "      <td>19.69</td>\n",
       "      <td>21.25</td>\n",
       "      <td>130.00</td>\n",
       "      <td>1203.0</td>\n",
       "      <td>0.10960</td>\n",
       "      <td>0.15990</td>\n",
       "      <td>0.1974</td>\n",
       "      <td>0.12790</td>\n",
       "      <td>0.2069</td>\n",
       "      <td>0.05999</td>\n",
       "      <td>...</td>\n",
       "      <td>23.57</td>\n",
       "      <td>25.53</td>\n",
       "      <td>152.50</td>\n",
       "      <td>1709.0</td>\n",
       "      <td>0.1444</td>\n",
       "      <td>0.4245</td>\n",
       "      <td>0.4504</td>\n",
       "      <td>0.2430</td>\n",
       "      <td>0.3613</td>\n",
       "      <td>0.08758</td>\n",
       "    </tr>\n",
       "    <tr>\n",
       "      <th>3</th>\n",
       "      <td>11.42</td>\n",
       "      <td>20.38</td>\n",
       "      <td>77.58</td>\n",
       "      <td>386.1</td>\n",
       "      <td>0.14250</td>\n",
       "      <td>0.28390</td>\n",
       "      <td>0.2414</td>\n",
       "      <td>0.10520</td>\n",
       "      <td>0.2597</td>\n",
       "      <td>0.09744</td>\n",
       "      <td>...</td>\n",
       "      <td>14.91</td>\n",
       "      <td>26.50</td>\n",
       "      <td>98.87</td>\n",
       "      <td>567.7</td>\n",
       "      <td>0.2098</td>\n",
       "      <td>0.8663</td>\n",
       "      <td>0.6869</td>\n",
       "      <td>0.2575</td>\n",
       "      <td>0.6638</td>\n",
       "      <td>0.17300</td>\n",
       "    </tr>\n",
       "    <tr>\n",
       "      <th>4</th>\n",
       "      <td>20.29</td>\n",
       "      <td>14.34</td>\n",
       "      <td>135.10</td>\n",
       "      <td>1297.0</td>\n",
       "      <td>0.10030</td>\n",
       "      <td>0.13280</td>\n",
       "      <td>0.1980</td>\n",
       "      <td>0.10430</td>\n",
       "      <td>0.1809</td>\n",
       "      <td>0.05883</td>\n",
       "      <td>...</td>\n",
       "      <td>22.54</td>\n",
       "      <td>16.67</td>\n",
       "      <td>152.20</td>\n",
       "      <td>1575.0</td>\n",
       "      <td>0.1374</td>\n",
       "      <td>0.2050</td>\n",
       "      <td>0.4000</td>\n",
       "      <td>0.1625</td>\n",
       "      <td>0.2364</td>\n",
       "      <td>0.07678</td>\n",
       "    </tr>\n",
       "  </tbody>\n",
       "</table>\n",
       "<p>5 rows × 30 columns</p>\n",
       "</div>"
      ],
      "text/plain": [
       "   mean radius  mean texture  mean perimeter  mean area  mean smoothness  \\\n",
       "0        17.99         10.38          122.80     1001.0          0.11840   \n",
       "1        20.57         17.77          132.90     1326.0          0.08474   \n",
       "2        19.69         21.25          130.00     1203.0          0.10960   \n",
       "3        11.42         20.38           77.58      386.1          0.14250   \n",
       "4        20.29         14.34          135.10     1297.0          0.10030   \n",
       "\n",
       "   mean compactness  mean concavity  mean concave points  mean symmetry  \\\n",
       "0           0.27760          0.3001              0.14710         0.2419   \n",
       "1           0.07864          0.0869              0.07017         0.1812   \n",
       "2           0.15990          0.1974              0.12790         0.2069   \n",
       "3           0.28390          0.2414              0.10520         0.2597   \n",
       "4           0.13280          0.1980              0.10430         0.1809   \n",
       "\n",
       "   mean fractal dimension           ...             worst radius  \\\n",
       "0                 0.07871           ...                    25.38   \n",
       "1                 0.05667           ...                    24.99   \n",
       "2                 0.05999           ...                    23.57   \n",
       "3                 0.09744           ...                    14.91   \n",
       "4                 0.05883           ...                    22.54   \n",
       "\n",
       "   worst texture  worst perimeter  worst area  worst smoothness  \\\n",
       "0          17.33           184.60      2019.0            0.1622   \n",
       "1          23.41           158.80      1956.0            0.1238   \n",
       "2          25.53           152.50      1709.0            0.1444   \n",
       "3          26.50            98.87       567.7            0.2098   \n",
       "4          16.67           152.20      1575.0            0.1374   \n",
       "\n",
       "   worst compactness  worst concavity  worst concave points  worst symmetry  \\\n",
       "0             0.6656           0.7119                0.2654          0.4601   \n",
       "1             0.1866           0.2416                0.1860          0.2750   \n",
       "2             0.4245           0.4504                0.2430          0.3613   \n",
       "3             0.8663           0.6869                0.2575          0.6638   \n",
       "4             0.2050           0.4000                0.1625          0.2364   \n",
       "\n",
       "   worst fractal dimension  \n",
       "0                  0.11890  \n",
       "1                  0.08902  \n",
       "2                  0.08758  \n",
       "3                  0.17300  \n",
       "4                  0.07678  \n",
       "\n",
       "[5 rows x 30 columns]"
      ]
     },
     "execution_count": 6,
     "metadata": {},
     "output_type": "execute_result"
    }
   ],
   "source": [
    "X.head()"
   ]
  },
  {
   "cell_type": "code",
   "execution_count": 7,
   "metadata": {
    "colab": {},
    "colab_type": "code",
    "id": "g6CEBGHN4b6L",
    "outputId": "09142d3f-c6a9-4a2f-d3f5-ec106b47a8b6"
   },
   "outputs": [
    {
     "data": {
      "text/plain": [
       "1    357\n",
       "0    212\n",
       "dtype: int64"
      ]
     },
     "execution_count": 7,
     "metadata": {},
     "output_type": "execute_result"
    }
   ],
   "source": [
    "y.value_counts()"
   ]
  },
  {
   "cell_type": "code",
   "execution_count": 8,
   "metadata": {
    "colab": {},
    "colab_type": "code",
    "id": "qW5jGEKN4b6T",
    "outputId": "28408b22-16ff-4590-a0f8-a978ead7df95"
   },
   "outputs": [
    {
     "data": {
      "text/plain": [
       "1    0.627417\n",
       "0    0.372583\n",
       "dtype: float64"
      ]
     },
     "execution_count": 8,
     "metadata": {},
     "output_type": "execute_result"
    }
   ],
   "source": [
    "y.value_counts()/y.count()"
   ]
  },
  {
   "cell_type": "code",
   "execution_count": 9,
   "metadata": {
    "colab": {},
    "colab_type": "code",
    "id": "0Yl53mwJ4b6a"
   },
   "outputs": [],
   "source": [
    "from sklearn.tree import DecisionTreeClassifier\n",
    "from sklearn.ensemble import BaggingClassifier\n",
    "from sklearn.model_selection import cross_val_score\n",
    "from sklearn.model_selection import train_test_split\n"
   ]
  },
  {
   "cell_type": "code",
   "execution_count": 10,
   "metadata": {
    "colab": {},
    "colab_type": "code",
    "id": "izZsNE6d4nVD"
   },
   "outputs": [],
   "source": [
    "# partimos en entrenamiento-prueba\n",
    "X_train, X_test, y_train, y_test = train_test_split(X, y, test_size=0.3, random_state=41)"
   ]
  },
  {
   "cell_type": "code",
   "execution_count": 11,
   "metadata": {
    "colab": {},
    "colab_type": "code",
    "id": "OcT65q2m4b6h"
   },
   "outputs": [],
   "source": [
    "dt = DecisionTreeClassifier()"
   ]
  },
  {
   "cell_type": "code",
   "execution_count": 12,
   "metadata": {
    "colab": {},
    "colab_type": "code",
    "id": "Sjo7SokX4b6n",
    "outputId": "743ca649-5749-4c83-dd51-14eef6fccbc2"
   },
   "outputs": [
    {
     "data": {
      "text/plain": [
       "(0.9069882012814501, 0.01738583150896301)"
      ]
     },
     "execution_count": 12,
     "metadata": {},
     "output_type": "execute_result"
    }
   ],
   "source": [
    "def do_cross_val(model):\n",
    "    scores = cross_val_score(model, X_train, y_train, cv=5, n_jobs=-1)\n",
    "    return scores.mean(), scores.std()\n",
    "\n",
    "do_cross_val(dt)"
   ]
  },
  {
   "cell_type": "code",
   "execution_count": 13,
   "metadata": {
    "colab": {},
    "colab_type": "code",
    "id": "kzIGDrVp4b6s"
   },
   "outputs": [],
   "source": [
    "bdt = BaggingClassifier(DecisionTreeClassifier())"
   ]
  },
  {
   "cell_type": "code",
   "execution_count": 14,
   "metadata": {
    "colab": {},
    "colab_type": "code",
    "id": "dhZRVLug4b6w",
    "outputId": "8d288113-1f31-4c58-c683-458543cf48f2"
   },
   "outputs": [
    {
     "data": {
      "text/plain": [
       "(0.9194889826535396, 0.03280172275490484)"
      ]
     },
     "execution_count": 14,
     "metadata": {},
     "output_type": "execute_result"
    }
   ],
   "source": [
    "do_cross_val(bdt)"
   ]
  },
  {
   "cell_type": "markdown",
   "metadata": {
    "colab_type": "text",
    "id": "AK-RFBSn4b7S"
   },
   "source": [
    "### 1.b Grid Search\n",
    "\n",
    "El Grid search es una excelente manera de mejorar el rendimiento de un clasificador. Vamos a explorar el espacio de parámetros de ambos modelos y ver si podemos mejorar su rendimiento.\n",
    "\n",
    "1. Inicializar un GridSearchCV con una validación cruzada de 5-fold para el árbol de decisión de clasificación\n",
    "- Buscar algunos valores de los parámetros para mejorar el resultado del clasificador\n",
    "- Utilizar todo el conjunto de datos X e y para la prueba\n",
    "- Comparar el best\\_score\\_ después de entrenarlo. ¿Es mejor que antes?\n",
    "> Sí\n",
    "- ¿Cómo se compara el resultado de la Grid Search del árbol de decisión con la del árbol de Bagging?\n",
    "> Respuesta: son los mismos (dentro del error), la Grid Search mejoró el resultado del árbol simple\n",
    "- Inicializar un GridSearchCV con validación cruzada de 5-fold para el clasificador de árbol de Bagging\n",
    "- Repetir la búsqueda\n",
    "    - Tener en cuenta que hay que cambiar los nombres de los parámetros para el base_estimator\n",
    "    - Tener en cuenta que también hay parámetros adicionales para cambiar\n",
    "    - Tener en cuenta que puede terminar con un espacio de búsqueda muy grande y demandará mucho tiempo\n",
    "    - Utilizar el parámetro n_jobs para acelerar la búsqueda\n",
    "\n",
    "- ¿Mejora el resultado para el clasificador de Bagging?\n",
    "> Sí\n",
    "- ¿Qué resultado es mejor? ¿El resultado es significativamente diferente? ¿Cómo se puede interpretar esto?\n",
    "> El clasificador de Bagging resultante del GridSearch es el mejor"
   ]
  },
  {
   "cell_type": "code",
   "execution_count": 15,
   "metadata": {
    "colab": {},
    "colab_type": "code",
    "id": "MkzNiCnd4b7U"
   },
   "outputs": [],
   "source": [
    "from sklearn.model_selection import GridSearchCV"
   ]
  },
  {
   "cell_type": "code",
   "execution_count": 16,
   "metadata": {
    "colab": {},
    "colab_type": "code",
    "id": "kTxzSR2H4b7Y"
   },
   "outputs": [],
   "source": [
    "params = {\"max_depth\": [3,10,None],\n",
    "          \"max_features\": [None, \"auto\"],\n",
    "          \"min_samples_leaf\": [1, 5, 10],\n",
    "          \"min_samples_split\": [2, 10]\n",
    "         }\n",
    "    \n",
    "\n",
    "gsdt = GridSearchCV(dt, params, n_jobs=-1, cv=5)"
   ]
  },
  {
   "cell_type": "code",
   "execution_count": 17,
   "metadata": {
    "colab": {},
    "colab_type": "code",
    "id": "mosRkW3Y4b7d",
    "outputId": "8ca8c772-7d59-493c-a6dc-50397cfddc8d"
   },
   "outputs": [
    {
     "name": "stderr",
     "output_type": "stream",
     "text": [
      "C:\\Users\\mbeati\\AppData\\Local\\Continuum\\anaconda3\\envs\\dsdh2\\lib\\site-packages\\sklearn\\model_selection\\_search.py:813: DeprecationWarning: The default of the `iid` parameter will change from True to False in version 0.22 and will be removed in 0.24. This will change numeric results when test-set sizes are unequal.\n",
      "  DeprecationWarning)\n"
     ]
    },
    {
     "data": {
      "text/plain": [
       "GridSearchCV(cv=5, error_score='raise-deprecating',\n",
       "             estimator=DecisionTreeClassifier(class_weight=None,\n",
       "                                              criterion='gini', max_depth=None,\n",
       "                                              max_features=None,\n",
       "                                              max_leaf_nodes=None,\n",
       "                                              min_impurity_decrease=0.0,\n",
       "                                              min_impurity_split=None,\n",
       "                                              min_samples_leaf=1,\n",
       "                                              min_samples_split=2,\n",
       "                                              min_weight_fraction_leaf=0.0,\n",
       "                                              presort=False, random_state=None,\n",
       "                                              splitter='best'),\n",
       "             iid='warn', n_jobs=-1,\n",
       "             param_grid={'max_depth': [3, 10, None],\n",
       "                         'max_features': [None, 'auto'],\n",
       "                         'min_samples_leaf': [1, 5, 10],\n",
       "                         'min_samples_split': [2, 10]},\n",
       "             pre_dispatch='2*n_jobs', refit=True, return_train_score=False,\n",
       "             scoring=None, verbose=0)"
      ]
     },
     "execution_count": 17,
     "metadata": {},
     "output_type": "execute_result"
    }
   ],
   "source": [
    "gsdt.fit(X_train, y_train)"
   ]
  },
  {
   "cell_type": "code",
   "execution_count": 18,
   "metadata": {
    "colab": {},
    "colab_type": "code",
    "id": "asOGwIeZ4b7m",
    "outputId": "a5b00279-d89d-473d-c6d1-5c42169351a7"
   },
   "outputs": [
    {
     "data": {
      "text/plain": [
       "{'max_depth': 3,\n",
       " 'max_features': 'auto',\n",
       " 'min_samples_leaf': 10,\n",
       " 'min_samples_split': 10}"
      ]
     },
     "execution_count": 18,
     "metadata": {},
     "output_type": "execute_result"
    }
   ],
   "source": [
    "gsdt.best_params_"
   ]
  },
  {
   "cell_type": "code",
   "execution_count": 19,
   "metadata": {
    "colab": {},
    "colab_type": "code",
    "id": "wi0F2N2-4b7w",
    "outputId": "6d7f432c-9ebd-45bc-aea4-ac544761756e"
   },
   "outputs": [
    {
     "data": {
      "text/plain": [
       "0.9221105527638191"
      ]
     },
     "execution_count": 19,
     "metadata": {},
     "output_type": "execute_result"
    }
   ],
   "source": [
    "gsdt.best_score_"
   ]
  },
  {
   "cell_type": "code",
   "execution_count": 20,
   "metadata": {
    "colab": {},
    "colab_type": "code",
    "id": "I3SkZ7Qk4b73",
    "outputId": "29ef2424-5854-4a8d-c3ec-318def5e54cd"
   },
   "outputs": [
    {
     "data": {
      "text/plain": [
       "{'base_estimator__class_weight': None,\n",
       " 'base_estimator__criterion': 'gini',\n",
       " 'base_estimator__max_depth': None,\n",
       " 'base_estimator__max_features': None,\n",
       " 'base_estimator__max_leaf_nodes': None,\n",
       " 'base_estimator__min_impurity_decrease': 0.0,\n",
       " 'base_estimator__min_impurity_split': None,\n",
       " 'base_estimator__min_samples_leaf': 1,\n",
       " 'base_estimator__min_samples_split': 2,\n",
       " 'base_estimator__min_weight_fraction_leaf': 0.0,\n",
       " 'base_estimator__presort': False,\n",
       " 'base_estimator__random_state': None,\n",
       " 'base_estimator__splitter': 'best',\n",
       " 'base_estimator': DecisionTreeClassifier(class_weight=None, criterion='gini', max_depth=None,\n",
       "                        max_features=None, max_leaf_nodes=None,\n",
       "                        min_impurity_decrease=0.0, min_impurity_split=None,\n",
       "                        min_samples_leaf=1, min_samples_split=2,\n",
       "                        min_weight_fraction_leaf=0.0, presort=False,\n",
       "                        random_state=None, splitter='best'),\n",
       " 'bootstrap': True,\n",
       " 'bootstrap_features': False,\n",
       " 'max_features': 1.0,\n",
       " 'max_samples': 1.0,\n",
       " 'n_estimators': 10,\n",
       " 'n_jobs': None,\n",
       " 'oob_score': False,\n",
       " 'random_state': None,\n",
       " 'verbose': 0,\n",
       " 'warm_start': False}"
      ]
     },
     "execution_count": 20,
     "metadata": {},
     "output_type": "execute_result"
    }
   ],
   "source": [
    "bdt.get_params()"
   ]
  },
  {
   "cell_type": "code",
   "execution_count": 21,
   "metadata": {
    "colab": {},
    "colab_type": "code",
    "id": "oNHdmuJk4b79"
   },
   "outputs": [],
   "source": [
    "params = {\"base_estimator__max_depth\": [3,10,None],\n",
    "          \"base_estimator__max_features\": [None, \"auto\"],\n",
    "          \"base_estimator__min_samples_leaf\": [1, 5, 10],\n",
    "          \"base_estimator__min_samples_split\": [2, 10],\n",
    "          'bootstrap_features': [False, True],\n",
    "          'max_features': [0.5, 1.0],\n",
    "          'max_samples': [0.5, 1.0],\n",
    "          'n_estimators': [5, 15, 40],\n",
    "         }\n",
    "    \n",
    "\n",
    "gsbdt = GridSearchCV(bdt, params, n_jobs=3, cv=5)"
   ]
  },
  {
   "cell_type": "code",
   "execution_count": 22,
   "metadata": {
    "colab": {},
    "colab_type": "code",
    "id": "6bpGgXIV4b8D",
    "outputId": "40ec2753-5703-426f-842d-963185cd5c71"
   },
   "outputs": [
    {
     "name": "stderr",
     "output_type": "stream",
     "text": [
      "C:\\Users\\mbeati\\AppData\\Local\\Continuum\\anaconda3\\envs\\dsdh2\\lib\\site-packages\\sklearn\\model_selection\\_search.py:813: DeprecationWarning: The default of the `iid` parameter will change from True to False in version 0.22 and will be removed in 0.24. This will change numeric results when test-set sizes are unequal.\n",
      "  DeprecationWarning)\n"
     ]
    },
    {
     "data": {
      "text/plain": [
       "GridSearchCV(cv=5, error_score='raise-deprecating',\n",
       "             estimator=BaggingClassifier(base_estimator=DecisionTreeClassifier(class_weight=None,\n",
       "                                                                               criterion='gini',\n",
       "                                                                               max_depth=None,\n",
       "                                                                               max_features=None,\n",
       "                                                                               max_leaf_nodes=None,\n",
       "                                                                               min_impurity_decrease=0.0,\n",
       "                                                                               min_impurity_split=None,\n",
       "                                                                               min_samples_leaf=1,\n",
       "                                                                               min_samples_split=2,\n",
       "                                                                               min_weight_fraction_leaf=0.0,\n",
       "                                                                               presort=False,\n",
       "                                                                               random_state=N...\n",
       "             param_grid={'base_estimator__max_depth': [3, 10, None],\n",
       "                         'base_estimator__max_features': [None, 'auto'],\n",
       "                         'base_estimator__min_samples_leaf': [1, 5, 10],\n",
       "                         'base_estimator__min_samples_split': [2, 10],\n",
       "                         'bootstrap_features': [False, True],\n",
       "                         'max_features': [0.5, 1.0], 'max_samples': [0.5, 1.0],\n",
       "                         'n_estimators': [5, 15, 40]},\n",
       "             pre_dispatch='2*n_jobs', refit=True, return_train_score=False,\n",
       "             scoring=None, verbose=0)"
      ]
     },
     "execution_count": 22,
     "metadata": {},
     "output_type": "execute_result"
    }
   ],
   "source": [
    "gsbdt.fit(X, y)"
   ]
  },
  {
   "cell_type": "code",
   "execution_count": 23,
   "metadata": {
    "colab": {},
    "colab_type": "code",
    "id": "8cyJ5YW54b8I",
    "outputId": "13900165-4e6b-4763-a192-687c465c5ab6"
   },
   "outputs": [
    {
     "data": {
      "text/plain": [
       "{'base_estimator__max_depth': 10,\n",
       " 'base_estimator__max_features': 'auto',\n",
       " 'base_estimator__min_samples_leaf': 1,\n",
       " 'base_estimator__min_samples_split': 2,\n",
       " 'bootstrap_features': True,\n",
       " 'max_features': 1.0,\n",
       " 'max_samples': 1.0,\n",
       " 'n_estimators': 15}"
      ]
     },
     "execution_count": 23,
     "metadata": {},
     "output_type": "execute_result"
    }
   ],
   "source": [
    "gsbdt.best_params_"
   ]
  },
  {
   "cell_type": "code",
   "execution_count": 24,
   "metadata": {
    "colab": {},
    "colab_type": "code",
    "id": "zSTF4lsV4b8M",
    "outputId": "d2d7b675-e11d-4a14-89ea-b632c665f4bb"
   },
   "outputs": [
    {
     "data": {
      "text/plain": [
       "0.968365553602812"
      ]
     },
     "execution_count": 24,
     "metadata": {},
     "output_type": "execute_result"
    }
   ],
   "source": [
    "gsbdt.best_score_"
   ]
  },
  {
   "cell_type": "markdown",
   "metadata": {
    "colab_type": "text",
    "id": "b8gYbrU84b8R"
   },
   "source": [
    "## 2 Diabetes y regresión\n",
    "\n",
    "Scikit Learn tiene un dataset de pacientes diabéticos obtenido de este estudio:\n",
    "\n",
    "http://www4.stat.ncsu.edu/~boos/var.select/diabetes.html\n",
    "http://web.stanford.edu/~hastie/Papers/LARS/LeastAngle_2002.pdf\n",
    "\n",
    "Se midieron 442 pacientes diabéticos en 10 variables basales: edad, sexo, índice de masa corporal, presión arterial media y seis mediciones del suero sanguíneo.\n",
    "\n",
    "El objetivo es una medida cuantitativa de la progresión de la enfermedad un año después de la línea de base.\n",
    "\n",
    "Repita la comparación anterior entre un DecisionTreeRegressor y una versión de Bagging del mismo."
   ]
  },
  {
   "cell_type": "markdown",
   "metadata": {
    "colab_type": "text",
    "id": "bZLWIoGH4b8S"
   },
   "source": [
    "### 2.a Comparación simple\n",
    "1. Leer los datos y crear X e y\n",
    "- Inicializar un Árbol de Regresión y utilizar cross_val_score para evaluar su rendimiento. Establecer la validación cruzada en 5-fold. ¿Qué medida de evaluación utilizará?\n",
    "> Respuesta: r2\n",
    "- Construir un Árbol de Regresión con Bagging y usar cross_val_score para evaluar su rendimiento. Establecer la validación cruzada en 5-fold.\n",
    "- ¿Qué resultado es mejor? ¿El resultado es significativamente diferente? ¿Cómo se puede interpretar esto?\n",
    "> El Árbol de Regresión con Bagging es mejor   \n",
    "> Respuesta: usar el desvío estándar de los resultados de la salida cross_val_score"
   ]
  },
  {
   "cell_type": "code",
   "execution_count": 25,
   "metadata": {
    "colab": {},
    "colab_type": "code",
    "id": "CxOCo89R4b8T"
   },
   "outputs": [],
   "source": [
    "from sklearn.datasets import load_diabetes\n",
    "\n",
    "data = load_diabetes()\n",
    "X_full = data['data']\n",
    "y_full = data['target']\n",
    "\n",
    "X_train, X_test, y_train, y_test = train_test_split( X_full, y_full, test_size=0.1, random_state=42)\n"
   ]
  },
  {
   "cell_type": "code",
   "execution_count": 26,
   "metadata": {
    "colab": {},
    "colab_type": "code",
    "id": "nKqCbQzZ4b8X"
   },
   "outputs": [],
   "source": [
    "from sklearn.tree import DecisionTreeRegressor\n",
    "from sklearn.ensemble import BaggingRegressor\n",
    "\n",
    "def do_cross_val(model):\n",
    "    scores = cross_val_score(model, X_train, y_train, cv=5, n_jobs=-1, scoring='r2')\n",
    "    return scores.mean(), scores.std()\n"
   ]
  },
  {
   "cell_type": "code",
   "execution_count": 27,
   "metadata": {
    "colab": {},
    "colab_type": "code",
    "id": "quRESIPU4b8b",
    "outputId": "120516ca-e76a-4339-fb1b-b541777885bc"
   },
   "outputs": [
    {
     "data": {
      "text/plain": [
       "(-0.11253127462120753, 0.14410340747657135)"
      ]
     },
     "execution_count": 27,
     "metadata": {},
     "output_type": "execute_result"
    }
   ],
   "source": [
    "dtr = DecisionTreeRegressor()\n",
    "do_cross_val(dtr)"
   ]
  },
  {
   "cell_type": "code",
   "execution_count": 28,
   "metadata": {
    "colab": {},
    "colab_type": "code",
    "id": "uvI1xQdy4b8f",
    "outputId": "b214489c-f982-4558-8df3-9dac2af798de"
   },
   "outputs": [
    {
     "data": {
      "text/plain": [
       "(0.3575449737221268, 0.10206075094502898)"
      ]
     },
     "execution_count": 28,
     "metadata": {},
     "output_type": "execute_result"
    }
   ],
   "source": [
    "bdtr = BaggingRegressor(DecisionTreeRegressor())\n",
    "do_cross_val(bdtr)"
   ]
  },
  {
   "cell_type": "markdown",
   "metadata": {
    "colab_type": "text",
    "id": "eJ0CYlgb4b8n"
   },
   "source": [
    "### 2.b Grid Search\n",
    "\n",
    "Repetir el Grid search como arriba:\n",
    "\n",
    "1. Inicializar un GridSearchCV con 5-fold de validación cruzada para el árbol de Regresión\n",
    "- Buscar unos pocos valores de los parámetros para mejorar el resultado del regresor\n",
    "- Utilizar todo el set de datos X e y para la prueba\n",
    "- Comparar el best\\_score\\_ después de entrenarlo. ¿Es mejor que antes?\n",
    "> Sí\n",
    "- ¿Cómo se compara el resultado del Grid Search del árbol de decisión con la del árbol de Bagging?\n",
    "> Respuesta: son los mismos (dentro del error), el Grid Search mejoró el resultado del árbol simple\n",
    "- Inicializar un GridSearchCV con validación cruzada de 5-fold para el árbol de Regresión de Bagging\n",
    "- Repetir la búsqueda\n",
    "\n",
    "    - Tener en cuenta que hay que cambiar los nombres de los parámetros para el base_estimator\n",
    "    - Tener en cuenta que también hay parámetros adicionales para probar\n",
    "    - Tener en cuenta que puede terminar con un espacio de búsqueda muy grande y demandará mucho tiempo\n",
    "    - Utilizar el parámetro n_jobs para acelerar la búsqueda\n",
    "\n",
    "- ¿Mejora el resultado para el Bagging de Regresión?\n",
    "> Sí\n",
    "- ¿Qué resultado es mejor? ¿El resultado es significativamente diferente? ¿Cómo se puede interpretar esto?\n",
    "> El Bagging de Regresión resultante del GridSearch es el mejor"
   ]
  },
  {
   "cell_type": "code",
   "execution_count": 29,
   "metadata": {
    "colab": {},
    "colab_type": "code",
    "id": "F_K2zfwx4b8p",
    "outputId": "7b83ed0d-1945-4350-9a67-a3e9f83b24cd"
   },
   "outputs": [
    {
     "data": {
      "text/plain": [
       "{'criterion': 'mse',\n",
       " 'max_depth': None,\n",
       " 'max_features': None,\n",
       " 'max_leaf_nodes': None,\n",
       " 'min_impurity_decrease': 0.0,\n",
       " 'min_impurity_split': None,\n",
       " 'min_samples_leaf': 1,\n",
       " 'min_samples_split': 2,\n",
       " 'min_weight_fraction_leaf': 0.0,\n",
       " 'presort': False,\n",
       " 'random_state': None,\n",
       " 'splitter': 'best'}"
      ]
     },
     "execution_count": 29,
     "metadata": {},
     "output_type": "execute_result"
    }
   ],
   "source": [
    "dtr=DecisionTreeRegressor()\n",
    "dtr.get_params()"
   ]
  },
  {
   "cell_type": "code",
   "execution_count": 30,
   "metadata": {
    "colab": {},
    "colab_type": "code",
    "id": "r04NvEEl4b8x"
   },
   "outputs": [],
   "source": [
    "params = {\"splitter\": ['best', 'random'],\n",
    "          \"max_depth\": [3,5,10,20],\n",
    "          \"max_features\": [None, \"auto\"],\n",
    "          \"min_samples_leaf\": [1, 3, 7, 10],\n",
    "          \"min_samples_split\": [2, 5, 7]\n",
    "         }\n",
    "    \n",
    "\n",
    "gsdtr = GridSearchCV(dtr, params, n_jobs=-1, cv=5, scoring='r2')"
   ]
  },
  {
   "cell_type": "code",
   "execution_count": 31,
   "metadata": {
    "colab": {},
    "colab_type": "code",
    "id": "EVcif6Rl4b88",
    "outputId": "bc0e2efc-fb67-4234-f74f-7b40a3b34a80"
   },
   "outputs": [
    {
     "name": "stderr",
     "output_type": "stream",
     "text": [
      "C:\\Users\\mbeati\\AppData\\Local\\Continuum\\anaconda3\\envs\\dsdh2\\lib\\site-packages\\sklearn\\model_selection\\_search.py:813: DeprecationWarning: The default of the `iid` parameter will change from True to False in version 0.22 and will be removed in 0.24. This will change numeric results when test-set sizes are unequal.\n",
      "  DeprecationWarning)\n"
     ]
    },
    {
     "data": {
      "text/plain": [
       "GridSearchCV(cv=5, error_score='raise-deprecating',\n",
       "             estimator=DecisionTreeRegressor(criterion='mse', max_depth=None,\n",
       "                                             max_features=None,\n",
       "                                             max_leaf_nodes=None,\n",
       "                                             min_impurity_decrease=0.0,\n",
       "                                             min_impurity_split=None,\n",
       "                                             min_samples_leaf=1,\n",
       "                                             min_samples_split=2,\n",
       "                                             min_weight_fraction_leaf=0.0,\n",
       "                                             presort=False, random_state=None,\n",
       "                                             splitter='best'),\n",
       "             iid='warn', n_jobs=-1,\n",
       "             param_grid={'max_depth': [3, 5, 10, 20],\n",
       "                         'max_features': [None, 'auto'],\n",
       "                         'min_samples_leaf': [1, 3, 7, 10],\n",
       "                         'min_samples_split': [2, 5, 7],\n",
       "                         'splitter': ['best', 'random']},\n",
       "             pre_dispatch='2*n_jobs', refit=True, return_train_score=False,\n",
       "             scoring='r2', verbose=0)"
      ]
     },
     "execution_count": 31,
     "metadata": {},
     "output_type": "execute_result"
    }
   ],
   "source": [
    "gsdtr.fit(X_train, y_train)"
   ]
  },
  {
   "cell_type": "code",
   "execution_count": 32,
   "metadata": {
    "colab": {},
    "colab_type": "code",
    "id": "Gs2bCU264b9B",
    "outputId": "d3b5468f-6ea4-4360-81b4-a8b1a0128d4a"
   },
   "outputs": [
    {
     "data": {
      "text/plain": [
       "{'max_depth': 5,\n",
       " 'max_features': None,\n",
       " 'min_samples_leaf': 10,\n",
       " 'min_samples_split': 5,\n",
       " 'splitter': 'random'}"
      ]
     },
     "execution_count": 32,
     "metadata": {},
     "output_type": "execute_result"
    }
   ],
   "source": [
    "gsdtr.best_params_"
   ]
  },
  {
   "cell_type": "code",
   "execution_count": 33,
   "metadata": {
    "colab": {},
    "colab_type": "code",
    "id": "qcllWYBx4b9N",
    "outputId": "b0084f14-0363-44ca-fa2f-9cf95e862a5b"
   },
   "outputs": [
    {
     "data": {
      "text/plain": [
       "0.34974152589115093"
      ]
     },
     "execution_count": 33,
     "metadata": {},
     "output_type": "execute_result"
    }
   ],
   "source": [
    "gsdtr.best_score_"
   ]
  },
  {
   "cell_type": "code",
   "execution_count": 34,
   "metadata": {
    "colab": {},
    "colab_type": "code",
    "id": "RQOCgveA4b9V"
   },
   "outputs": [],
   "source": [
    "params = {\"base_estimator__splitter\": ['best', 'random'],\n",
    "          \"base_estimator__max_depth\": [3,5,10,20],\n",
    "          \"base_estimator__max_features\": [None, \"auto\"],\n",
    "          \"base_estimator__min_samples_leaf\": [1, 3, 7, 10],\n",
    "          \"base_estimator__min_samples_split\": [2, 5, 7],\n",
    "          'bootstrap_features': [False, True],\n",
    "          'max_features': [0.5, 1.0],\n",
    "          'max_samples': [0.5, 1.0],\n",
    "          'n_estimators': [5, 15, 40],\n",
    "         }\n",
    "    \n",
    "\n",
    "gsbdtr = GridSearchCV(bdtr, params, n_jobs=-1, cv=5, scoring='r2')"
   ]
  },
  {
   "cell_type": "code",
   "execution_count": 35,
   "metadata": {
    "colab": {},
    "colab_type": "code",
    "id": "6_soMrpp4b9a",
    "outputId": "ca37dd77-ce42-4cd9-850d-1b187c9042f5"
   },
   "outputs": [
    {
     "name": "stderr",
     "output_type": "stream",
     "text": [
      "C:\\Users\\mbeati\\AppData\\Local\\Continuum\\anaconda3\\envs\\dsdh2\\lib\\site-packages\\sklearn\\model_selection\\_search.py:813: DeprecationWarning: The default of the `iid` parameter will change from True to False in version 0.22 and will be removed in 0.24. This will change numeric results when test-set sizes are unequal.\n",
      "  DeprecationWarning)\n"
     ]
    },
    {
     "data": {
      "text/plain": [
       "GridSearchCV(cv=5, error_score='raise-deprecating',\n",
       "             estimator=BaggingRegressor(base_estimator=DecisionTreeRegressor(criterion='mse',\n",
       "                                                                             max_depth=None,\n",
       "                                                                             max_features=None,\n",
       "                                                                             max_leaf_nodes=None,\n",
       "                                                                             min_impurity_decrease=0.0,\n",
       "                                                                             min_impurity_split=None,\n",
       "                                                                             min_samples_leaf=1,\n",
       "                                                                             min_samples_split=2,\n",
       "                                                                             min_weight_fraction_leaf=0.0,\n",
       "                                                                             presort=False,\n",
       "                                                                             random_state=None,\n",
       "                                                                             splitter='best'),...\n",
       "                         'base_estimator__max_features': [None, 'auto'],\n",
       "                         'base_estimator__min_samples_leaf': [1, 3, 7, 10],\n",
       "                         'base_estimator__min_samples_split': [2, 5, 7],\n",
       "                         'base_estimator__splitter': ['best', 'random'],\n",
       "                         'bootstrap_features': [False, True],\n",
       "                         'max_features': [0.5, 1.0], 'max_samples': [0.5, 1.0],\n",
       "                         'n_estimators': [5, 15, 40]},\n",
       "             pre_dispatch='2*n_jobs', refit=True, return_train_score=False,\n",
       "             scoring='r2', verbose=0)"
      ]
     },
     "execution_count": 35,
     "metadata": {},
     "output_type": "execute_result"
    }
   ],
   "source": [
    "gsbdtr.fit(X, y)"
   ]
  },
  {
   "cell_type": "code",
   "execution_count": 36,
   "metadata": {
    "colab": {},
    "colab_type": "code",
    "id": "hfNB0Mm24b9e",
    "outputId": "1e2057e6-b49e-4c3b-f38c-0d4c55136f40",
    "scrolled": true
   },
   "outputs": [
    {
     "data": {
      "text/plain": [
       "{'base_estimator__max_depth': 20,\n",
       " 'base_estimator__max_features': None,\n",
       " 'base_estimator__min_samples_leaf': 1,\n",
       " 'base_estimator__min_samples_split': 5,\n",
       " 'base_estimator__splitter': 'random',\n",
       " 'bootstrap_features': True,\n",
       " 'max_features': 1.0,\n",
       " 'max_samples': 1.0,\n",
       " 'n_estimators': 40}"
      ]
     },
     "execution_count": 36,
     "metadata": {},
     "output_type": "execute_result"
    }
   ],
   "source": [
    "gsbdtr.best_params_"
   ]
  },
  {
   "cell_type": "code",
   "execution_count": 37,
   "metadata": {
    "colab": {},
    "colab_type": "code",
    "id": "E-DTHOa84b9i",
    "outputId": "9be9714f-7801-4696-96da-a79b6428a6b2"
   },
   "outputs": [
    {
     "data": {
      "text/plain": [
       "0.8649924366819647"
      ]
     },
     "execution_count": 37,
     "metadata": {},
     "output_type": "execute_result"
    }
   ],
   "source": [
    "gsbdtr.best_score_"
   ]
  },
  {
   "cell_type": "markdown",
   "metadata": {
    "colab_type": "text",
    "id": "SBHjTY744b9o"
   },
   "source": [
    "Comparemos como performan los siguientes modelos:\n",
    "* El mejor Árbol de regresión obtenido con GridSearch\n",
    "* El mejor Bagging de árboles de regresión obtenido con GridSearch\n",
    "* Alguno de los Árboles de regresión base del Bagging de árboles\n"
   ]
  },
  {
   "cell_type": "code",
   "execution_count": 38,
   "metadata": {
    "colab": {},
    "colab_type": "code",
    "id": "HifR5nPw4b9t",
    "outputId": "f4f624c3-03f5-40be-fb9f-6e1f68f9d4d2"
   },
   "outputs": [
    {
     "name": "stdout",
     "output_type": "stream",
     "text": [
      "Mejor árbol de regresión: 0.44077821994049293\n",
      "Mejor Bagging de árboles de regresión: 0.5071448242614462\n",
      "Un árbol base del Bagging: 0.06427183634207367\n"
     ]
    }
   ],
   "source": [
    "from sklearn.metrics import r2_score\n",
    "\n",
    "def eval_score(legend,model):\n",
    "    model_fit = model.fit(X_train, y_train)\n",
    "    r2=r2_score(y_test,model_fit.predict(X_test))\n",
    "    print(legend,r2)\n",
    "\n",
    "eval_score(\"Mejor árbol de regresión:\",gsdtr.best_estimator_)\n",
    "eval_score(\"Mejor Bagging de árboles de regresión:\",gsbdtr.best_estimator_)\n",
    "eval_score(\"Un árbol base del Bagging:\",gsbdtr.best_estimator_.estimators_[0])"
   ]
  },
  {
   "cell_type": "code",
   "execution_count": null,
   "metadata": {
    "colab": {},
    "colab_type": "code",
    "id": "WoG58pZf4b90"
   },
   "outputs": [],
   "source": []
  }
 ],
 "metadata": {
  "colab": {
   "collapsed_sections": [],
   "name": "3.Solution_LAB_Ensamble_Bagging.ipynb",
   "provenance": [],
   "version": "0.3.2"
  },
  "kernelspec": {
   "display_name": "Python 3",
   "language": "python",
   "name": "python3"
  },
  "language_info": {
   "codemirror_mode": {
    "name": "ipython",
    "version": 3
   },
   "file_extension": ".py",
   "mimetype": "text/x-python",
   "name": "python",
   "nbconvert_exporter": "python",
   "pygments_lexer": "ipython3",
   "version": "3.6.7"
  }
 },
 "nbformat": 4,
 "nbformat_minor": 1
}
