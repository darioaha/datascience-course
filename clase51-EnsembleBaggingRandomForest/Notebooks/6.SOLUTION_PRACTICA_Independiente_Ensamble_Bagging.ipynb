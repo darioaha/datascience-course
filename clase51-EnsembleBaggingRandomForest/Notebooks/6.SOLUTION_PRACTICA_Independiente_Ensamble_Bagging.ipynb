{
 "cells": [
  {
   "cell_type": "markdown",
   "metadata": {
    "colab_type": "text",
    "id": "zrYmtwXn6qLu"
   },
   "source": [
    "# Práctica Independiente: El clasificador Bagging en Scikit Learn\n",
    "\n",
    "En scikit-learn, los métodos de bagging se ofrecen como un meta-estimador unificado de `BaggingClassifier` (respectivamente ` BaggingRegressor`), tomando como entrada un estimador de base definido por el usuario junto con parámetros que especifican la estrategia para construir subsets aleatorios.    \n",
    "En particular, `max_samples` y ` max_features` controlan el tamaño de los subsets (en términos de muestras y características), mientras que `bootstrap` y ` bootstrap_features` controlan si las muestras y características se toman con o sin reemplazo.   \n",
    "Cuando se utiliza un subset de las muestras disponibles, el error de generalización se puede estimar con las muestras fuera de bolsa (out-of-bag) poniendo `oob_score=True`.\n",
    "\n",
    "Como ejemplo, vamos a comparar el rendimiento de un clasificador KNN simple versus el clasificador de Bagging en el conjunto de datos de aceptabilidad de autos."
   ]
  },
  {
   "cell_type": "markdown",
   "metadata": {
    "colab_type": "text",
    "id": "_1YLuDsH6qLx"
   },
   "source": [
    "El primer paso es leer los datos en Pandas."
   ]
  },
  {
   "cell_type": "code",
   "execution_count": null,
   "metadata": {
    "colab": {},
    "colab_type": "code",
    "id": "qY6WfbFI6qLz"
   },
   "outputs": [],
   "source": [
    "import pandas as pd\n",
    "df = pd.read_csv('car.csv')\n",
    "df.head()"
   ]
  },
  {
   "cell_type": "code",
   "execution_count": null,
   "metadata": {
    "colab": {},
    "colab_type": "code",
    "id": "OPdx1Qvf6qL6"
   },
   "outputs": [],
   "source": [
    "df.shape"
   ]
  },
  {
   "cell_type": "markdown",
   "metadata": {
    "colab_type": "text",
    "id": "zAEwjxMN6qMB"
   },
   "source": [
    "### Preprocesamiento\n",
    "\n",
    "Cada una de las catgorías parece ser un nivel de la variable. Exploren la composición de cada serie con el método value_counts() ¿Cómo parecen haber sido generadas las categorías?\n",
    "\n",
    "#### Escalar las variables\n",
    "\n",
    "A continuación transformemos las categorías ordinales en niveles escalares para las variables buying, maint, lug_boot y safety."
   ]
  },
  {
   "cell_type": "code",
   "execution_count": null,
   "metadata": {
    "colab": {},
    "colab_type": "code",
    "id": "g25NnMj86qMD"
   },
   "outputs": [],
   "source": [
    "df.buying = df.buying.map({'low':1,'med':2,'high':3,'vhigh':4})"
   ]
  },
  {
   "cell_type": "code",
   "execution_count": null,
   "metadata": {
    "colab": {},
    "colab_type": "code",
    "id": "L7Fl2X1e6qMJ"
   },
   "outputs": [],
   "source": [
    "df.maint = df.maint.map({'low':1,'med':2,'high':3,'vhigh':4})"
   ]
  },
  {
   "cell_type": "code",
   "execution_count": null,
   "metadata": {
    "colab": {},
    "colab_type": "code",
    "id": "tdx5qDjs6qMP"
   },
   "outputs": [],
   "source": [
    "df.lug_boot = df.lug_boot.map({'small':1,'med':2,'big':3})"
   ]
  },
  {
   "cell_type": "code",
   "execution_count": null,
   "metadata": {
    "colab": {},
    "colab_type": "code",
    "id": "SV_ucGb26qMY"
   },
   "outputs": [],
   "source": [
    "df.safety = df.safety.map({'low':1,'med':2,'high':3})"
   ]
  },
  {
   "cell_type": "markdown",
   "metadata": {
    "colab_type": "text",
    "id": "JCdalMX86qMg"
   },
   "source": [
    "#### Calcular dummies\n",
    "\n",
    "Para las variables doors y persons calculamos dummis porque hay niveles que no se pueden recodificar."
   ]
  },
  {
   "cell_type": "code",
   "execution_count": null,
   "metadata": {
    "colab": {},
    "colab_type": "code",
    "id": "iQqZUQVr6qMj"
   },
   "outputs": [],
   "source": [
    "df_dum = pd.get_dummies(df[['doors','persons']],drop_first =True)"
   ]
  },
  {
   "cell_type": "code",
   "execution_count": null,
   "metadata": {
    "colab": {},
    "colab_type": "code",
    "id": "6E-g-iyz6qMq"
   },
   "outputs": [],
   "source": [
    "X = pd.concat([df_dum,df[['buying','maint','lug_boot','safety']]], axis=1)"
   ]
  },
  {
   "cell_type": "markdown",
   "metadata": {
    "colab_type": "text",
    "id": "o1bB5lxI6qM4"
   },
   "source": [
    "### Clasificación binaria\n",
    "\n",
    "Para simplificar, transformemos el problema en uno de clasificación binaria recodificando \"unnacceptable\" como 0 y todos los demás estados como 1. "
   ]
  },
  {
   "cell_type": "code",
   "execution_count": null,
   "metadata": {
    "colab": {},
    "colab_type": "code",
    "id": "WXRUsYyw6qM8"
   },
   "outputs": [],
   "source": [
    "y = df.acceptability.map({'unacc':0,'acc':1,'good':1,'vgood':1})"
   ]
  },
  {
   "cell_type": "markdown",
   "metadata": {
    "colab_type": "text",
    "id": "7pF5H7M96qNK"
   },
   "source": [
    "### Prueba de ensambles\n",
    "\n",
    "El siguiente paso es calcular el cross_val_score en los dos clasificadores:"
   ]
  },
  {
   "cell_type": "code",
   "execution_count": null,
   "metadata": {
    "colab": {},
    "colab_type": "code",
    "id": "0yIPPdFN6qNM"
   },
   "outputs": [],
   "source": [
    "from sklearn.model_selection import cross_val_score\n",
    "from sklearn.neighbors import KNeighborsClassifier\n",
    "from sklearn.ensemble import BaggingClassifier\n",
    "from sklearn.model_selection import StratifiedKFold\n",
    "from sklearn.model_selection import train_test_split\n",
    "# partimos en entrenamiento-prueba\n",
    "X_train, X_test, y_train, y_test = train_test_split(X, y, test_size=0.3, random_state=41)\n",
    "\n",
    "my_cv = StratifiedKFold(n_splits=5, random_state=1, shuffle=True)\n",
    "\n",
    "knn = KNeighborsClassifier()\n",
    "bagging = BaggingClassifier(knn, random_state=1)\n",
    "\n",
    "print (\"KNN Score:\\t\", cross_val_score(knn, X_train, y_train, cv=my_cv, n_jobs=-1).mean())\n",
    "print (\"Bagging Score:\\t\", cross_val_score(bagging, X_train, y_train, cv=my_cv, n_jobs=-1).mean())"
   ]
  }
 ],
 "metadata": {
  "colab": {
   "collapsed_sections": [],
   "name": "5.Solution_PRACTICA_Independiente_Ensamble_Bagging.ipynb",
   "provenance": [],
   "version": "0.3.2"
  },
  "kernelspec": {
   "display_name": "Python 3",
   "language": "python",
   "name": "python3"
  },
  "language_info": {
   "codemirror_mode": {
    "name": "ipython",
    "version": 3
   },
   "file_extension": ".py",
   "mimetype": "text/x-python",
   "name": "python",
   "nbconvert_exporter": "python",
   "pygments_lexer": "ipython3",
   "version": "3.6.7"
  }
 },
 "nbformat": 4,
 "nbformat_minor": 1
}
