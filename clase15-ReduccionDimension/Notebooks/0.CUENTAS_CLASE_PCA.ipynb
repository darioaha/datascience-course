{
 "cells": [
  {
   "cell_type": "markdown",
   "metadata": {},
   "source": [
    "# Arrestos en ciudades de USA \n",
    "\n",
    "(*An Introduction to Statistical Learning - with Applications in R* de Gareth James, Daniela Witten, Trevor Hastie y Robert Tibshirani.)"
   ]
  },
  {
   "cell_type": "markdown",
   "metadata": {},
   "source": [
    "El dataset contiene el número de arrestos cada 100.000 residentes para cada uno de los tres crimenes: ataque, asesinato, violación. UrbanPop es el porcentaje de la población en cada estado que vive en areas urbanas."
   ]
  },
  {
   "cell_type": "code",
   "execution_count": 1,
   "metadata": {},
   "outputs": [],
   "source": [
    "%matplotlib inline\n",
    "import numpy as np\n",
    "import pandas as pd\n",
    "import matplotlib.pyplot as plt\n",
    "import seaborn as sns\n"
   ]
  },
  {
   "cell_type": "code",
   "execution_count": 2,
   "metadata": {},
   "outputs": [
    {
     "name": "stdout",
     "output_type": "stream",
     "text": [
      "<class 'pandas.core.frame.DataFrame'>\n",
      "Index: 50 entries, Alabama to Wyoming\n",
      "Data columns (total 4 columns):\n",
      "Murder      50 non-null float64\n",
      "Assault     50 non-null int64\n",
      "UrbanPop    50 non-null int64\n",
      "Rape        50 non-null float64\n",
      "dtypes: float64(2), int64(2)\n",
      "memory usage: 2.0+ KB\n",
      "None\n"
     ]
    },
    {
     "data": {
      "text/html": [
       "<div>\n",
       "<style scoped>\n",
       "    .dataframe tbody tr th:only-of-type {\n",
       "        vertical-align: middle;\n",
       "    }\n",
       "\n",
       "    .dataframe tbody tr th {\n",
       "        vertical-align: top;\n",
       "    }\n",
       "\n",
       "    .dataframe thead th {\n",
       "        text-align: right;\n",
       "    }\n",
       "</style>\n",
       "<table border=\"1\" class=\"dataframe\">\n",
       "  <thead>\n",
       "    <tr style=\"text-align: right;\">\n",
       "      <th></th>\n",
       "      <th>Murder</th>\n",
       "      <th>Assault</th>\n",
       "      <th>UrbanPop</th>\n",
       "      <th>Rape</th>\n",
       "    </tr>\n",
       "  </thead>\n",
       "  <tbody>\n",
       "    <tr>\n",
       "      <th>Alabama</th>\n",
       "      <td>13.2</td>\n",
       "      <td>236</td>\n",
       "      <td>58</td>\n",
       "      <td>21.2</td>\n",
       "    </tr>\n",
       "    <tr>\n",
       "      <th>Alaska</th>\n",
       "      <td>10.0</td>\n",
       "      <td>263</td>\n",
       "      <td>48</td>\n",
       "      <td>44.5</td>\n",
       "    </tr>\n",
       "    <tr>\n",
       "      <th>Arizona</th>\n",
       "      <td>8.1</td>\n",
       "      <td>294</td>\n",
       "      <td>80</td>\n",
       "      <td>31.0</td>\n",
       "    </tr>\n",
       "    <tr>\n",
       "      <th>Arkansas</th>\n",
       "      <td>8.8</td>\n",
       "      <td>190</td>\n",
       "      <td>50</td>\n",
       "      <td>19.5</td>\n",
       "    </tr>\n",
       "    <tr>\n",
       "      <th>California</th>\n",
       "      <td>9.0</td>\n",
       "      <td>276</td>\n",
       "      <td>91</td>\n",
       "      <td>40.6</td>\n",
       "    </tr>\n",
       "  </tbody>\n",
       "</table>\n",
       "</div>"
      ],
      "text/plain": [
       "            Murder  Assault  UrbanPop  Rape\n",
       "Alabama       13.2      236        58  21.2\n",
       "Alaska        10.0      263        48  44.5\n",
       "Arizona        8.1      294        80  31.0\n",
       "Arkansas       8.8      190        50  19.5\n",
       "California     9.0      276        91  40.6"
      ]
     },
     "execution_count": 2,
     "metadata": {},
     "output_type": "execute_result"
    }
   ],
   "source": [
    "# Creamos un DataFrame de Pandas importando el archivo csv USArrests.csv\n",
    "\n",
    "df = pd.read_csv('../Data/USArrests.csv', index_col=0)\n",
    "print(df.info())\n",
    "df.head()\n"
   ]
  },
  {
   "cell_type": "code",
   "execution_count": 3,
   "metadata": {},
   "outputs": [
    {
     "data": {
      "text/html": [
       "<div>\n",
       "<style scoped>\n",
       "    .dataframe tbody tr th:only-of-type {\n",
       "        vertical-align: middle;\n",
       "    }\n",
       "\n",
       "    .dataframe tbody tr th {\n",
       "        vertical-align: top;\n",
       "    }\n",
       "\n",
       "    .dataframe thead th {\n",
       "        text-align: right;\n",
       "    }\n",
       "</style>\n",
       "<table border=\"1\" class=\"dataframe\">\n",
       "  <thead>\n",
       "    <tr style=\"text-align: right;\">\n",
       "      <th></th>\n",
       "      <th>Murder</th>\n",
       "      <th>Assault</th>\n",
       "      <th>UrbanPop</th>\n",
       "      <th>Rape</th>\n",
       "    </tr>\n",
       "  </thead>\n",
       "  <tbody>\n",
       "    <tr>\n",
       "      <th>Murder</th>\n",
       "      <td>1.000000</td>\n",
       "      <td>0.801873</td>\n",
       "      <td>0.069573</td>\n",
       "      <td>0.563579</td>\n",
       "    </tr>\n",
       "    <tr>\n",
       "      <th>Assault</th>\n",
       "      <td>0.801873</td>\n",
       "      <td>1.000000</td>\n",
       "      <td>0.258872</td>\n",
       "      <td>0.665241</td>\n",
       "    </tr>\n",
       "    <tr>\n",
       "      <th>UrbanPop</th>\n",
       "      <td>0.069573</td>\n",
       "      <td>0.258872</td>\n",
       "      <td>1.000000</td>\n",
       "      <td>0.411341</td>\n",
       "    </tr>\n",
       "    <tr>\n",
       "      <th>Rape</th>\n",
       "      <td>0.563579</td>\n",
       "      <td>0.665241</td>\n",
       "      <td>0.411341</td>\n",
       "      <td>1.000000</td>\n",
       "    </tr>\n",
       "  </tbody>\n",
       "</table>\n",
       "</div>"
      ],
      "text/plain": [
       "            Murder   Assault  UrbanPop      Rape\n",
       "Murder    1.000000  0.801873  0.069573  0.563579\n",
       "Assault   0.801873  1.000000  0.258872  0.665241\n",
       "UrbanPop  0.069573  0.258872  1.000000  0.411341\n",
       "Rape      0.563579  0.665241  0.411341  1.000000"
      ]
     },
     "execution_count": 3,
     "metadata": {},
     "output_type": "execute_result"
    }
   ],
   "source": [
    "df.corr()"
   ]
  },
  {
   "cell_type": "code",
   "execution_count": 5,
   "metadata": {},
   "outputs": [
    {
     "data": {
      "text/plain": [
       "Text(0.5, 1, 'Correlacion entre features')"
      ]
     },
     "execution_count": 5,
     "metadata": {},
     "output_type": "execute_result"
    },
    {
     "data": {
      "image/png": "[encoded data removed]",
      "text/plain": [
       "<Figure size 720x720 with 2 Axes>"
      ]
     },
     "metadata": {
      "needs_background": "light"
     },
     "output_type": "display_data"
    }
   ],
   "source": [
    "correlation = df.corr()\n",
    "plt.figure(figsize=(10,10))\n",
    "sns.heatmap(correlation, vmax=1, square=True,annot=True,cmap='cubehelix')\n",
    "\n",
    "plt.title('Correlacion entre features')"
   ]
  },
  {
   "cell_type": "markdown",
   "metadata": {},
   "source": [
    "Necesitamos variables con media 0 y varianza 1:"
   ]
  },
  {
   "cell_type": "code",
   "execution_count": 4,
   "metadata": {},
   "outputs": [
    {
     "name": "stdout",
     "output_type": "stream",
     "text": [
      "Media de las variables: \n",
      "Murder        7.788\n",
      "Assault     170.760\n",
      "UrbanPop     65.540\n",
      "Rape         21.232\n",
      "dtype: float64\n",
      "\n",
      "\n",
      "Varianza de las variables: \n",
      "Murder        18.970465\n",
      "Assault     6945.165714\n",
      "UrbanPop     209.518776\n",
      "Rape          87.729159\n",
      "dtype: float64\n"
     ]
    }
   ],
   "source": [
    "# Observamos la media de las variables\n",
    "print(\"Media de las variables: \")\n",
    "print(df.mean(axis=0))\n",
    "\n",
    "print('\\n')\n",
    "\n",
    "# Observamos la varianza de las variables:\n",
    "print(\"Varianza de las variables: \")\n",
    "print(df.var(axis=0))"
   ]
  },
  {
   "cell_type": "code",
   "execution_count": 5,
   "metadata": {},
   "outputs": [
    {
     "data": {
      "text/html": [
       "<div>\n",
       "<style scoped>\n",
       "    .dataframe tbody tr th:only-of-type {\n",
       "        vertical-align: middle;\n",
       "    }\n",
       "\n",
       "    .dataframe tbody tr th {\n",
       "        vertical-align: top;\n",
       "    }\n",
       "\n",
       "    .dataframe thead th {\n",
       "        text-align: right;\n",
       "    }\n",
       "</style>\n",
       "<table border=\"1\" class=\"dataframe\">\n",
       "  <thead>\n",
       "    <tr style=\"text-align: right;\">\n",
       "      <th></th>\n",
       "      <th>Murder</th>\n",
       "      <th>Assault</th>\n",
       "      <th>UrbanPop</th>\n",
       "      <th>Rape</th>\n",
       "    </tr>\n",
       "  </thead>\n",
       "  <tbody>\n",
       "    <tr>\n",
       "      <th>Alabama</th>\n",
       "      <td>1.255179</td>\n",
       "      <td>0.790787</td>\n",
       "      <td>-0.526195</td>\n",
       "      <td>-0.003451</td>\n",
       "    </tr>\n",
       "    <tr>\n",
       "      <th>Alaska</th>\n",
       "      <td>0.513019</td>\n",
       "      <td>1.118060</td>\n",
       "      <td>-1.224067</td>\n",
       "      <td>2.509424</td>\n",
       "    </tr>\n",
       "    <tr>\n",
       "      <th>Arizona</th>\n",
       "      <td>0.072361</td>\n",
       "      <td>1.493817</td>\n",
       "      <td>1.009122</td>\n",
       "      <td>1.053466</td>\n",
       "    </tr>\n",
       "    <tr>\n",
       "      <th>Arkansas</th>\n",
       "      <td>0.234708</td>\n",
       "      <td>0.233212</td>\n",
       "      <td>-1.084492</td>\n",
       "      <td>-0.186794</td>\n",
       "    </tr>\n",
       "    <tr>\n",
       "      <th>California</th>\n",
       "      <td>0.281093</td>\n",
       "      <td>1.275635</td>\n",
       "      <td>1.776781</td>\n",
       "      <td>2.088814</td>\n",
       "    </tr>\n",
       "  </tbody>\n",
       "</table>\n",
       "</div>"
      ],
      "text/plain": [
       "              Murder   Assault  UrbanPop      Rape\n",
       "Alabama     1.255179  0.790787 -0.526195 -0.003451\n",
       "Alaska      0.513019  1.118060 -1.224067  2.509424\n",
       "Arizona     0.072361  1.493817  1.009122  1.053466\n",
       "Arkansas    0.234708  0.233212 -1.084492 -0.186794\n",
       "California  0.281093  1.275635  1.776781  2.088814"
      ]
     },
     "execution_count": 5,
     "metadata": {},
     "output_type": "execute_result"
    }
   ],
   "source": [
    "# Normalizamos los datos utilizando el objeto StdSclr:\n",
    "\n",
    "from sklearn.preprocessing import StandardScaler\n",
    "# Instanciamos la clase, creando el objeto StdSclr.\n",
    "StdSclr = StandardScaler()\n",
    "\n",
    "df_std = pd.DataFrame(StdSclr.fit_transform(df), index=df.index, columns=df.columns)\n",
    "df_std.head()"
   ]
  },
  {
   "cell_type": "code",
   "execution_count": 6,
   "metadata": {},
   "outputs": [
    {
     "name": "stdout",
     "output_type": "stream",
     "text": [
      "Media de las variables: \n",
      "Murder     -8.437695e-17\n",
      "Assault     1.298961e-16\n",
      "UrbanPop   -4.263256e-16\n",
      "Rape        8.326673e-16\n",
      "dtype: float64\n",
      "\n",
      "\n",
      "Varianza de las variables: \n",
      "Murder      1.020408\n",
      "Assault     1.020408\n",
      "UrbanPop    1.020408\n",
      "Rape        1.020408\n",
      "dtype: float64\n"
     ]
    }
   ],
   "source": [
    "# Observamos nuevamente la media de las variables:\n",
    "print(\"Media de las variables: \")\n",
    "print(df_std.mean(axis=0))\n",
    "\n",
    "print('\\n')\n",
    "\n",
    "# Observamos nuevamente la varianza de las variables:\n",
    "print(\"Varianza de las variables: \")\n",
    "print(df_std.var(axis=0))"
   ]
  },
  {
   "cell_type": "code",
   "execution_count": 8,
   "metadata": {},
   "outputs": [
    {
     "data": {
      "text/plain": [
       "array([[1.02040816, 0.81823807, 0.07099247, 0.57508044],\n",
       "       [0.81823807, 1.02040816, 0.2641548 , 0.67881758],\n",
       "       [0.07099247, 0.2641548 , 1.02040816, 0.41973595],\n",
       "       [0.57508044, 0.67881758, 0.41973595, 1.02040816]])"
      ]
     },
     "metadata": {},
     "output_type": "display_data"
    },
    {
     "name": "stdout",
     "output_type": "stream",
     "text": [
      "Covariance matrix \n",
      "            Murder   Assault  UrbanPop      Rape\n",
      "Murder    1.020408  0.818238  0.070992  0.575080\n",
      "Assault   0.818238  1.020408  0.264155  0.678818\n",
      "UrbanPop  0.070992  0.264155  1.020408  0.419736\n",
      "Rape      0.575080  0.678818  0.419736  1.020408\n"
     ]
    }
   ],
   "source": [
    "# https://docs.scipy.org/doc/numpy/reference/generated/numpy.cov.html\n",
    "# If rowvar is True (default), then each row represents a variable, with observations in the columns. \n",
    "covarianzas = np.cov(df_std, rowvar = False)\n",
    "display(covarianzas)\n",
    "\n",
    "#otra forma de calcular la matriz de covarianzas:\n",
    "mean_vec = np.mean(df_std, axis=0)\n",
    "cov_mat = (df_std - mean_vec).T.dot((df_std - mean_vec)) / (df_std.shape[0]-1)\n",
    "print('Covariance matrix \\n%s' %cov_mat)"
   ]
  },
  {
   "cell_type": "code",
   "execution_count": 9,
   "metadata": {},
   "outputs": [
    {
     "data": {
      "text/plain": [
       "Text(0.5, 1.0, 'Correción entre features')"
      ]
     },
     "execution_count": 9,
     "metadata": {},
     "output_type": "execute_result"
    },
    {
     "data": {
      "image/png": "[encoded data removed]",
      "text/plain": [
       "<Figure size 576x576 with 2 Axes>"
      ]
     },
     "metadata": {},
     "output_type": "display_data"
    }
   ],
   "source": [
    "plt.figure(figsize=(8,8))\n",
    "sns.heatmap(cov_mat, vmax=1, square=True,annot=True,cmap='cubehelix')\n",
    "\n",
    "plt.title('Correción entre features')"
   ]
  },
  {
   "cell_type": "markdown",
   "metadata": {},
   "source": [
    "Entonces vemos que la covarianza de las variables estandarizadas es lo mismo que la correlación\n",
    "\n",
    "El análisis de componentes principales basado en la matriz de correlaciones es equivalente al análisis de componentes principales con las variables estandarizadas"
   ]
  },
  {
   "cell_type": "markdown",
   "metadata": {},
   "source": [
    "Descomposición en autovectores y autovalores:"
   ]
  },
  {
   "cell_type": "code",
   "execution_count": 11,
   "metadata": {},
   "outputs": [
    {
     "name": "stdout",
     "output_type": "stream",
     "text": [
      "Eigenvectors \n",
      "[[ 0.53589947  0.41818087  0.6492278  -0.34123273]\n",
      " [ 0.58318363  0.1879856  -0.74340748 -0.26814843]\n",
      " [ 0.27819087 -0.87280619  0.13387773 -0.37801579]\n",
      " [ 0.54343209 -0.16731864  0.08902432  0.81777791]]\n",
      "\n",
      "Eigenvalues \n",
      "[2.53085875 1.00996444 0.17696948 0.36383998]\n"
     ]
    }
   ],
   "source": [
    "eig_vals, eig_vecs = np.linalg.eig(cov_mat)\n",
    "\n",
    "print('Eigenvectors \\n%s' %eig_vecs)\n",
    "print('\\nEigenvalues \\n%s' %eig_vals)"
   ]
  },
  {
   "cell_type": "markdown",
   "metadata": {},
   "source": [
    "Ordeno los autovalores de mayor a menor:"
   ]
  },
  {
   "cell_type": "code",
   "execution_count": 12,
   "metadata": {},
   "outputs": [
    {
     "name": "stdout",
     "output_type": "stream",
     "text": [
      "Eigenvalues in descending order:\n",
      "2.5308587542341763\n",
      "1.0099644413671849\n",
      "0.36383998018452046\n",
      "0.17696947727534226\n"
     ]
    }
   ],
   "source": [
    "# Make a list of (eigenvalue, eigenvector) tuples\n",
    "eig_pairs = [(np.abs(eig_vals[i]), eig_vecs[:,i]) for i in range(len(eig_vals))]\n",
    "#eig_pairs\n",
    "# Sort the (eigenvalue, eigenvector) tuples from high to low\n",
    "#ordeno por el primer elemento de cada tupla: el autovalor\n",
    "eig_pairs.sort(key=lambda x: x[0], reverse=True)\n",
    "\n",
    "# Visually confirm that the list is correctly sorted by decreasing eigenvalues\n",
    "print('Eigenvalues in descending order:')\n",
    "for i in eig_pairs:\n",
    "    print(i[0])"
   ]
  },
  {
   "cell_type": "markdown",
   "metadata": {},
   "source": [
    "Varianza explicada:"
   ]
  },
  {
   "cell_type": "code",
   "execution_count": 14,
   "metadata": {},
   "outputs": [
    {
     "name": "stdout",
     "output_type": "stream",
     "text": [
      "4.081632653061224\n",
      "[62.00603947873733, 24.744128813496037, 8.914079514520754, 4.335752193245886]\n"
     ]
    }
   ],
   "source": [
    "tot = sum(eig_vals)\n",
    "var_exp = [(i / tot)*100 for i in sorted(eig_vals, reverse=True)]\n",
    "print(tot)\n",
    "print(var_exp)"
   ]
  },
  {
   "cell_type": "code",
   "execution_count": 15,
   "metadata": {},
   "outputs": [
    {
     "data": {
      "image/png": "[encoded data removed]",
      "text/plain": [
       "<Figure size 432x288 with 1 Axes>"
      ]
     },
     "metadata": {},
     "output_type": "display_data"
    }
   ],
   "source": [
    "plt.bar(range(4), var_exp, alpha=0.5, align='center', label='% varianza total explicada por cada componente')\n",
    "plt.ylabel('Explained variance ratio')\n",
    "plt.xlabel('Principal components')\n",
    "plt.legend(loc='best')\n",
    "plt.tight_layout()"
   ]
  },
  {
   "cell_type": "markdown",
   "metadata": {},
   "source": [
    "Me quedo con dos componentes:"
   ]
  },
  {
   "cell_type": "code",
   "execution_count": 16,
   "metadata": {},
   "outputs": [
    {
     "data": {
      "text/plain": [
       "array([[0.53589947],\n",
       "       [0.58318363],\n",
       "       [0.27819087],\n",
       "       [0.54343209]])"
      ]
     },
     "execution_count": 16,
     "metadata": {},
     "output_type": "execute_result"
    }
   ],
   "source": [
    "# tengo que armar una matriz donde cada autovector sea una columna\n",
    "# convierto el autovector de max autovalor (indice 0) en una columna\n",
    "eig_pairs[0][1].reshape(4,1)"
   ]
  },
  {
   "cell_type": "code",
   "execution_count": 18,
   "metadata": {},
   "outputs": [
    {
     "name": "stdout",
     "output_type": "stream",
     "text": [
      "Matrix W:\n",
      " [[ 0.53589947  0.41818087]\n",
      " [ 0.58318363  0.1879856 ]\n",
      " [ 0.27819087 -0.87280619]\n",
      " [ 0.54343209 -0.16731864]]\n"
     ]
    }
   ],
   "source": [
    "# https://docs.scipy.org/doc/numpy/reference/generated/numpy.hstack.html\n",
    "matrix_w = np.hstack((eig_pairs[0][1].reshape(4,1), \n",
    "                      eig_pairs[1][1].reshape(4,1)\n",
    "                    ))\n",
    "print('Matrix W:\\n', matrix_w)"
   ]
  },
  {
   "cell_type": "markdown",
   "metadata": {},
   "source": [
    "Calculo las coordenadas de las observaciones en el subespacio generado por los autovecotres:"
   ]
  },
  {
   "cell_type": "code",
   "execution_count": 19,
   "metadata": {},
   "outputs": [
    {
     "data": {
      "text/html": [
       "<div>\n",
       "<style scoped>\n",
       "    .dataframe tbody tr th:only-of-type {\n",
       "        vertical-align: middle;\n",
       "    }\n",
       "\n",
       "    .dataframe tbody tr th {\n",
       "        vertical-align: top;\n",
       "    }\n",
       "\n",
       "    .dataframe thead th {\n",
       "        text-align: right;\n",
       "    }\n",
       "</style>\n",
       "<table border=\"1\" class=\"dataframe\">\n",
       "  <thead>\n",
       "    <tr style=\"text-align: right;\">\n",
       "      <th></th>\n",
       "      <th>0</th>\n",
       "      <th>1</th>\n",
       "    </tr>\n",
       "  </thead>\n",
       "  <tbody>\n",
       "    <tr>\n",
       "      <th>Alabama</th>\n",
       "      <td>0.985566</td>\n",
       "      <td>1.133392</td>\n",
       "    </tr>\n",
       "    <tr>\n",
       "      <th>Alaska</th>\n",
       "      <td>1.950138</td>\n",
       "      <td>1.073213</td>\n",
       "    </tr>\n",
       "    <tr>\n",
       "      <th>Arizona</th>\n",
       "      <td>1.763164</td>\n",
       "      <td>-0.745957</td>\n",
       "    </tr>\n",
       "    <tr>\n",
       "      <th>Arkansas</th>\n",
       "      <td>-0.141420</td>\n",
       "      <td>1.119797</td>\n",
       "    </tr>\n",
       "    <tr>\n",
       "      <th>California</th>\n",
       "      <td>2.523980</td>\n",
       "      <td>-1.542934</td>\n",
       "    </tr>\n",
       "    <tr>\n",
       "      <th>Colorado</th>\n",
       "      <td>1.514563</td>\n",
       "      <td>-0.987555</td>\n",
       "    </tr>\n",
       "    <tr>\n",
       "      <th>Connecticut</th>\n",
       "      <td>-1.358647</td>\n",
       "      <td>-1.088928</td>\n",
       "    </tr>\n",
       "    <tr>\n",
       "      <th>Delaware</th>\n",
       "      <td>0.047709</td>\n",
       "      <td>-0.325359</td>\n",
       "    </tr>\n",
       "    <tr>\n",
       "      <th>Florida</th>\n",
       "      <td>3.013042</td>\n",
       "      <td>0.039229</td>\n",
       "    </tr>\n",
       "    <tr>\n",
       "      <th>Georgia</th>\n",
       "      <td>1.639283</td>\n",
       "      <td>1.278942</td>\n",
       "    </tr>\n",
       "    <tr>\n",
       "      <th>Hawaii</th>\n",
       "      <td>-0.912657</td>\n",
       "      <td>-1.570460</td>\n",
       "    </tr>\n",
       "    <tr>\n",
       "      <th>Idaho</th>\n",
       "      <td>-1.639800</td>\n",
       "      <td>0.210973</td>\n",
       "    </tr>\n",
       "    <tr>\n",
       "      <th>Illinois</th>\n",
       "      <td>1.378911</td>\n",
       "      <td>-0.681841</td>\n",
       "    </tr>\n",
       "    <tr>\n",
       "      <th>Indiana</th>\n",
       "      <td>-0.505461</td>\n",
       "      <td>-0.151563</td>\n",
       "    </tr>\n",
       "    <tr>\n",
       "      <th>Iowa</th>\n",
       "      <td>-2.253646</td>\n",
       "      <td>-0.104054</td>\n",
       "    </tr>\n",
       "    <tr>\n",
       "      <th>Kansas</th>\n",
       "      <td>-0.796881</td>\n",
       "      <td>-0.270165</td>\n",
       "    </tr>\n",
       "    <tr>\n",
       "      <th>Kentucky</th>\n",
       "      <td>-0.750859</td>\n",
       "      <td>0.958440</td>\n",
       "    </tr>\n",
       "    <tr>\n",
       "      <th>Louisiana</th>\n",
       "      <td>1.564818</td>\n",
       "      <td>0.871055</td>\n",
       "    </tr>\n",
       "    <tr>\n",
       "      <th>Maine</th>\n",
       "      <td>-2.396829</td>\n",
       "      <td>0.376392</td>\n",
       "    </tr>\n",
       "    <tr>\n",
       "      <th>Maryland</th>\n",
       "      <td>1.763369</td>\n",
       "      <td>0.427655</td>\n",
       "    </tr>\n",
       "    <tr>\n",
       "      <th>Massachusetts</th>\n",
       "      <td>-0.486166</td>\n",
       "      <td>-1.474496</td>\n",
       "    </tr>\n",
       "    <tr>\n",
       "      <th>Michigan</th>\n",
       "      <td>2.108441</td>\n",
       "      <td>-0.155397</td>\n",
       "    </tr>\n",
       "    <tr>\n",
       "      <th>Minnesota</th>\n",
       "      <td>-1.692682</td>\n",
       "      <td>-0.632261</td>\n",
       "    </tr>\n",
       "    <tr>\n",
       "      <th>Mississippi</th>\n",
       "      <td>0.996494</td>\n",
       "      <td>2.393796</td>\n",
       "    </tr>\n",
       "    <tr>\n",
       "      <th>Missouri</th>\n",
       "      <td>0.696787</td>\n",
       "      <td>-0.263355</td>\n",
       "    </tr>\n",
       "    <tr>\n",
       "      <th>Montana</th>\n",
       "      <td>-1.185452</td>\n",
       "      <td>0.536874</td>\n",
       "    </tr>\n",
       "    <tr>\n",
       "      <th>Nebraska</th>\n",
       "      <td>-1.265637</td>\n",
       "      <td>-0.193954</td>\n",
       "    </tr>\n",
       "    <tr>\n",
       "      <th>Nevada</th>\n",
       "      <td>2.874395</td>\n",
       "      <td>-0.775600</td>\n",
       "    </tr>\n",
       "    <tr>\n",
       "      <th>New Hampshire</th>\n",
       "      <td>-2.383915</td>\n",
       "      <td>-0.018082</td>\n",
       "    </tr>\n",
       "    <tr>\n",
       "      <th>New Jersey</th>\n",
       "      <td>0.181566</td>\n",
       "      <td>-1.449506</td>\n",
       "    </tr>\n",
       "    <tr>\n",
       "      <th>New Mexico</th>\n",
       "      <td>1.980024</td>\n",
       "      <td>0.142849</td>\n",
       "    </tr>\n",
       "    <tr>\n",
       "      <th>New York</th>\n",
       "      <td>1.682577</td>\n",
       "      <td>-0.823184</td>\n",
       "    </tr>\n",
       "    <tr>\n",
       "      <th>North Carolina</th>\n",
       "      <td>1.123379</td>\n",
       "      <td>2.228003</td>\n",
       "    </tr>\n",
       "    <tr>\n",
       "      <th>North Dakota</th>\n",
       "      <td>-2.992226</td>\n",
       "      <td>0.599119</td>\n",
       "    </tr>\n",
       "    <tr>\n",
       "      <th>Ohio</th>\n",
       "      <td>-0.225965</td>\n",
       "      <td>-0.742238</td>\n",
       "    </tr>\n",
       "    <tr>\n",
       "      <th>Oklahoma</th>\n",
       "      <td>-0.311783</td>\n",
       "      <td>-0.287854</td>\n",
       "    </tr>\n",
       "    <tr>\n",
       "      <th>Oregon</th>\n",
       "      <td>0.059122</td>\n",
       "      <td>-0.541411</td>\n",
       "    </tr>\n",
       "    <tr>\n",
       "      <th>Pennsylvania</th>\n",
       "      <td>-0.888416</td>\n",
       "      <td>-0.571100</td>\n",
       "    </tr>\n",
       "    <tr>\n",
       "      <th>Rhode Island</th>\n",
       "      <td>-0.863772</td>\n",
       "      <td>-1.491978</td>\n",
       "    </tr>\n",
       "    <tr>\n",
       "      <th>South Carolina</th>\n",
       "      <td>1.320724</td>\n",
       "      <td>1.933405</td>\n",
       "    </tr>\n",
       "    <tr>\n",
       "      <th>South Dakota</th>\n",
       "      <td>-1.987775</td>\n",
       "      <td>0.823343</td>\n",
       "    </tr>\n",
       "    <tr>\n",
       "      <th>Tennessee</th>\n",
       "      <td>0.999742</td>\n",
       "      <td>0.860251</td>\n",
       "    </tr>\n",
       "    <tr>\n",
       "      <th>Texas</th>\n",
       "      <td>1.355138</td>\n",
       "      <td>-0.412481</td>\n",
       "    </tr>\n",
       "    <tr>\n",
       "      <th>Utah</th>\n",
       "      <td>-0.550565</td>\n",
       "      <td>-1.471505</td>\n",
       "    </tr>\n",
       "    <tr>\n",
       "      <th>Vermont</th>\n",
       "      <td>-2.801412</td>\n",
       "      <td>1.402288</td>\n",
       "    </tr>\n",
       "    <tr>\n",
       "      <th>Virginia</th>\n",
       "      <td>-0.096335</td>\n",
       "      <td>0.199735</td>\n",
       "    </tr>\n",
       "    <tr>\n",
       "      <th>Washington</th>\n",
       "      <td>-0.216903</td>\n",
       "      <td>-0.970124</td>\n",
       "    </tr>\n",
       "    <tr>\n",
       "      <th>West Virginia</th>\n",
       "      <td>-2.108585</td>\n",
       "      <td>1.424847</td>\n",
       "    </tr>\n",
       "    <tr>\n",
       "      <th>Wisconsin</th>\n",
       "      <td>-2.079714</td>\n",
       "      <td>-0.611269</td>\n",
       "    </tr>\n",
       "    <tr>\n",
       "      <th>Wyoming</th>\n",
       "      <td>-0.629427</td>\n",
       "      <td>0.321013</td>\n",
       "    </tr>\n",
       "  </tbody>\n",
       "</table>\n",
       "</div>"
      ],
      "text/plain": [
       "                       0         1\n",
       "Alabama         0.985566  1.133392\n",
       "Alaska          1.950138  1.073213\n",
       "Arizona         1.763164 -0.745957\n",
       "Arkansas       -0.141420  1.119797\n",
       "California      2.523980 -1.542934\n",
       "Colorado        1.514563 -0.987555\n",
       "Connecticut    -1.358647 -1.088928\n",
       "Delaware        0.047709 -0.325359\n",
       "Florida         3.013042  0.039229\n",
       "Georgia         1.639283  1.278942\n",
       "Hawaii         -0.912657 -1.570460\n",
       "Idaho          -1.639800  0.210973\n",
       "Illinois        1.378911 -0.681841\n",
       "Indiana        -0.505461 -0.151563\n",
       "Iowa           -2.253646 -0.104054\n",
       "Kansas         -0.796881 -0.270165\n",
       "Kentucky       -0.750859  0.958440\n",
       "Louisiana       1.564818  0.871055\n",
       "Maine          -2.396829  0.376392\n",
       "Maryland        1.763369  0.427655\n",
       "Massachusetts  -0.486166 -1.474496\n",
       "Michigan        2.108441 -0.155397\n",
       "Minnesota      -1.692682 -0.632261\n",
       "Mississippi     0.996494  2.393796\n",
       "Missouri        0.696787 -0.263355\n",
       "Montana        -1.185452  0.536874\n",
       "Nebraska       -1.265637 -0.193954\n",
       "Nevada          2.874395 -0.775600\n",
       "New Hampshire  -2.383915 -0.018082\n",
       "New Jersey      0.181566 -1.449506\n",
       "New Mexico      1.980024  0.142849\n",
       "New York        1.682577 -0.823184\n",
       "North Carolina  1.123379  2.228003\n",
       "North Dakota   -2.992226  0.599119\n",
       "Ohio           -0.225965 -0.742238\n",
       "Oklahoma       -0.311783 -0.287854\n",
       "Oregon          0.059122 -0.541411\n",
       "Pennsylvania   -0.888416 -0.571100\n",
       "Rhode Island   -0.863772 -1.491978\n",
       "South Carolina  1.320724  1.933405\n",
       "South Dakota   -1.987775  0.823343\n",
       "Tennessee       0.999742  0.860251\n",
       "Texas           1.355138 -0.412481\n",
       "Utah           -0.550565 -1.471505\n",
       "Vermont        -2.801412  1.402288\n",
       "Virginia       -0.096335  0.199735\n",
       "Washington     -0.216903 -0.970124\n",
       "West Virginia  -2.108585  1.424847\n",
       "Wisconsin      -2.079714 -0.611269\n",
       "Wyoming        -0.629427  0.321013"
      ]
     },
     "execution_count": 19,
     "metadata": {},
     "output_type": "execute_result"
    }
   ],
   "source": [
    "Y = df_std.dot(matrix_w)\n",
    "Y"
   ]
  },
  {
   "cell_type": "markdown",
   "metadata": {},
   "source": [
    "Usando scikit-learn:\n"
   ]
  },
  {
   "cell_type": "code",
   "execution_count": 20,
   "metadata": {},
   "outputs": [
    {
     "name": "stdout",
     "output_type": "stream",
     "text": [
      "[[ 0.98556588  1.13339238]\n",
      " [ 1.95013775  1.07321326]\n",
      " [ 1.76316354 -0.74595678]\n",
      " [-0.14142029  1.11979678]\n",
      " [ 2.52398013 -1.54293399]\n",
      " [ 1.51456286 -0.98755509]\n",
      " [-1.35864746 -1.08892789]\n",
      " [ 0.04770931 -0.32535892]\n",
      " [ 3.01304227  0.03922851]\n",
      " [ 1.63928304  1.2789424 ]\n",
      " [-0.91265715 -1.57046001]\n",
      " [-1.63979985  0.21097292]\n",
      " [ 1.37891072 -0.68184119]\n",
      " [-0.50546136 -0.15156254]\n",
      " [-2.25364607 -0.10405407]\n",
      " [-0.79688112 -0.2701647 ]\n",
      " [-0.75085907  0.95844029]\n",
      " [ 1.56481798  0.87105466]\n",
      " [-2.39682949  0.37639158]\n",
      " [ 1.76336939  0.42765519]\n",
      " [-0.48616629 -1.4744965 ]\n",
      " [ 2.10844115 -0.15539682]\n",
      " [-1.69268181 -0.63226125]\n",
      " [ 0.99649446  2.39379599]\n",
      " [ 0.69678733 -0.26335479]\n",
      " [-1.18545191  0.53687437]\n",
      " [-1.26563654 -0.19395373]\n",
      " [ 2.87439454 -0.7756002 ]\n",
      " [-2.38391541 -0.01808229]\n",
      " [ 0.18156611 -1.44950571]\n",
      " [ 1.98002375  0.14284878]\n",
      " [ 1.68257738 -0.82318414]\n",
      " [ 1.12337861  2.22800338]\n",
      " [-2.99222562  0.59911882]\n",
      " [-0.22596542 -0.74223824]\n",
      " [-0.31178286 -0.28785421]\n",
      " [ 0.05912208 -0.54141145]\n",
      " [-0.88841582 -0.57110035]\n",
      " [-0.86377206 -1.49197842]\n",
      " [ 1.3207238   1.93340466]\n",
      " [-1.98777484  0.82334324]\n",
      " [ 0.99974168  0.8602513 ]\n",
      " [ 1.35513821 -0.41248082]\n",
      " [-0.55056526 -1.47150461]\n",
      " [-2.80141174  1.40228806]\n",
      " [-0.09633491  0.19973529]\n",
      " [-0.21690338 -0.97012418]\n",
      " [-2.10858541  1.4248467 ]\n",
      " [-2.07971417 -0.61126862]\n",
      " [-0.62942666  0.32101297]]\n"
     ]
    }
   ],
   "source": [
    "from sklearn.decomposition import PCA \n",
    "sklearn_pca = PCA(n_components=2)\n",
    "Y_sklearn = sklearn_pca.fit_transform(df_std)\n",
    "print(Y_sklearn)"
   ]
  }
 ],
 "metadata": {
  "kernelspec": {
   "display_name": "Python 3",
   "language": "python",
   "name": "python3"
  },
  "language_info": {
   "codemirror_mode": {
    "name": "ipython",
    "version": 3
   },
   "file_extension": ".py",
   "mimetype": "text/x-python",
   "name": "python",
   "nbconvert_exporter": "python",
   "pygments_lexer": "ipython3",
   "version": "3.6.6"
  }
 },
 "nbformat": 4,
 "nbformat_minor": 2
}
