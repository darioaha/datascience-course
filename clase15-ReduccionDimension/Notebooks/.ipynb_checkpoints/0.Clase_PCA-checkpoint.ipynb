{
 "cells": [
  {
   "cell_type": "markdown",
   "metadata": {},
   "source": [
    "# Arrestos en ciudades de USA \n",
    "\n",
    "(*An Introduction to Statistical Learning - with Applications in R* de Gareth James, Daniela Witten, Trevor Hastie y Robert Tibshirani.)"
   ]
  },
  {
   "cell_type": "markdown",
   "metadata": {},
   "source": [
    "El dataset contiene el número de arrestos cada 100.000 residentes para cada uno de los tres crimenes: ataque, asesinato, violación. UrbanPop es el porcentaje de la población en cada estado que vive en areas urbanas."
   ]
  },
  {
   "cell_type": "code",
   "execution_count": 3,
   "metadata": {},
   "outputs": [],
   "source": [
    "%matplotlib inline\n",
    "import numpy as np\n",
    "import pandas as pd\n",
    "import matplotlib.pyplot as plt"
   ]
  },
  {
   "cell_type": "code",
   "execution_count": 5,
   "metadata": {},
   "outputs": [
    {
     "name": "stdout",
     "output_type": "stream",
     "text": [
      "<class 'pandas.core.frame.DataFrame'>\n",
      "Index: 50 entries, Alabama to Wyoming\n",
      "Data columns (total 4 columns):\n",
      "Murder      50 non-null float64\n",
      "Assault     50 non-null int64\n",
      "UrbanPop    50 non-null int64\n",
      "Rape        50 non-null float64\n",
      "dtypes: float64(2), int64(2)\n",
      "memory usage: 2.0+ KB\n",
      "None\n"
     ]
    },
    {
     "data": {
      "text/html": [
       "<div>\n",
       "<style scoped>\n",
       "    .dataframe tbody tr th:only-of-type {\n",
       "        vertical-align: middle;\n",
       "    }\n",
       "\n",
       "    .dataframe tbody tr th {\n",
       "        vertical-align: top;\n",
       "    }\n",
       "\n",
       "    .dataframe thead th {\n",
       "        text-align: right;\n",
       "    }\n",
       "</style>\n",
       "<table border=\"1\" class=\"dataframe\">\n",
       "  <thead>\n",
       "    <tr style=\"text-align: right;\">\n",
       "      <th></th>\n",
       "      <th>Murder</th>\n",
       "      <th>Assault</th>\n",
       "      <th>UrbanPop</th>\n",
       "      <th>Rape</th>\n",
       "    </tr>\n",
       "  </thead>\n",
       "  <tbody>\n",
       "    <tr>\n",
       "      <th>Alabama</th>\n",
       "      <td>13.2</td>\n",
       "      <td>236</td>\n",
       "      <td>58</td>\n",
       "      <td>21.2</td>\n",
       "    </tr>\n",
       "    <tr>\n",
       "      <th>Alaska</th>\n",
       "      <td>10.0</td>\n",
       "      <td>263</td>\n",
       "      <td>48</td>\n",
       "      <td>44.5</td>\n",
       "    </tr>\n",
       "    <tr>\n",
       "      <th>Arizona</th>\n",
       "      <td>8.1</td>\n",
       "      <td>294</td>\n",
       "      <td>80</td>\n",
       "      <td>31.0</td>\n",
       "    </tr>\n",
       "    <tr>\n",
       "      <th>Arkansas</th>\n",
       "      <td>8.8</td>\n",
       "      <td>190</td>\n",
       "      <td>50</td>\n",
       "      <td>19.5</td>\n",
       "    </tr>\n",
       "    <tr>\n",
       "      <th>California</th>\n",
       "      <td>9.0</td>\n",
       "      <td>276</td>\n",
       "      <td>91</td>\n",
       "      <td>40.6</td>\n",
       "    </tr>\n",
       "  </tbody>\n",
       "</table>\n",
       "</div>"
      ],
      "text/plain": [
       "            Murder  Assault  UrbanPop  Rape\n",
       "Alabama       13.2      236        58  21.2\n",
       "Alaska        10.0      263        48  44.5\n",
       "Arizona        8.1      294        80  31.0\n",
       "Arkansas       8.8      190        50  19.5\n",
       "California     9.0      276        91  40.6"
      ]
     },
     "execution_count": 5,
     "metadata": {},
     "output_type": "execute_result"
    }
   ],
   "source": [
    "# Creamos un DataFrame de Pandas importando el archivo csv USArrests.csv\n",
    "\n",
    "df = pd.read_csv('../Data/USArrests.csv', index_col=0)\n",
    "print(df.info())\n",
    "df.head()\n"
   ]
  },
  {
   "cell_type": "markdown",
   "metadata": {},
   "source": [
    "Necesitamos variables con media 0 y varianza 1:"
   ]
  },
  {
   "cell_type": "code",
   "execution_count": 6,
   "metadata": {},
   "outputs": [
    {
     "name": "stdout",
     "output_type": "stream",
     "text": [
      "Media de las variables: \n",
      "Murder        7.788\n",
      "Assault     170.760\n",
      "UrbanPop     65.540\n",
      "Rape         21.232\n",
      "dtype: float64\n",
      "\n",
      "\n",
      "Varianza de las variables: \n",
      "Murder        18.970465\n",
      "Assault     6945.165714\n",
      "UrbanPop     209.518776\n",
      "Rape          87.729159\n",
      "dtype: float64\n"
     ]
    }
   ],
   "source": [
    "# Observamos la media de las variables\n",
    "print(\"Media de las variables: \")\n",
    "print(df.mean(axis=0))\n",
    "\n",
    "print('\\n')\n",
    "\n",
    "# Observamos la varianza de las variables:\n",
    "print(\"Varianza de las variables: \")\n",
    "print(df.var(axis=0))"
   ]
  },
  {
   "cell_type": "code",
   "execution_count": 8,
   "metadata": {},
   "outputs": [
    {
     "data": {
      "text/html": [
       "<div>\n",
       "<style scoped>\n",
       "    .dataframe tbody tr th:only-of-type {\n",
       "        vertical-align: middle;\n",
       "    }\n",
       "\n",
       "    .dataframe tbody tr th {\n",
       "        vertical-align: top;\n",
       "    }\n",
       "\n",
       "    .dataframe thead th {\n",
       "        text-align: right;\n",
       "    }\n",
       "</style>\n",
       "<table border=\"1\" class=\"dataframe\">\n",
       "  <thead>\n",
       "    <tr style=\"text-align: right;\">\n",
       "      <th></th>\n",
       "      <th>Murder</th>\n",
       "      <th>Assault</th>\n",
       "      <th>UrbanPop</th>\n",
       "      <th>Rape</th>\n",
       "    </tr>\n",
       "  </thead>\n",
       "  <tbody>\n",
       "    <tr>\n",
       "      <th>Alabama</th>\n",
       "      <td>1.255179</td>\n",
       "      <td>0.790787</td>\n",
       "      <td>-0.526195</td>\n",
       "      <td>-0.003451</td>\n",
       "    </tr>\n",
       "    <tr>\n",
       "      <th>Alaska</th>\n",
       "      <td>0.513019</td>\n",
       "      <td>1.118060</td>\n",
       "      <td>-1.224067</td>\n",
       "      <td>2.509424</td>\n",
       "    </tr>\n",
       "    <tr>\n",
       "      <th>Arizona</th>\n",
       "      <td>0.072361</td>\n",
       "      <td>1.493817</td>\n",
       "      <td>1.009122</td>\n",
       "      <td>1.053466</td>\n",
       "    </tr>\n",
       "    <tr>\n",
       "      <th>Arkansas</th>\n",
       "      <td>0.234708</td>\n",
       "      <td>0.233212</td>\n",
       "      <td>-1.084492</td>\n",
       "      <td>-0.186794</td>\n",
       "    </tr>\n",
       "    <tr>\n",
       "      <th>California</th>\n",
       "      <td>0.281093</td>\n",
       "      <td>1.275635</td>\n",
       "      <td>1.776781</td>\n",
       "      <td>2.088814</td>\n",
       "    </tr>\n",
       "  </tbody>\n",
       "</table>\n",
       "</div>"
      ],
      "text/plain": [
       "              Murder   Assault  UrbanPop      Rape\n",
       "Alabama     1.255179  0.790787 -0.526195 -0.003451\n",
       "Alaska      0.513019  1.118060 -1.224067  2.509424\n",
       "Arizona     0.072361  1.493817  1.009122  1.053466\n",
       "Arkansas    0.234708  0.233212 -1.084492 -0.186794\n",
       "California  0.281093  1.275635  1.776781  2.088814"
      ]
     },
     "execution_count": 8,
     "metadata": {},
     "output_type": "execute_result"
    }
   ],
   "source": [
    "# Normalizamos los datos utilizando el objeto StdSclr:\n",
    "\n",
    "from sklearn.preprocessing import StandardScaler\n",
    "# Instanciamos la clase, creando el objeto StdSclr.\n",
    "StdSclr = StandardScaler()\n",
    "\n",
    "df_std = pd.DataFrame(StdSclr.fit_transform(df), index=df.index, columns=df.columns)\n",
    "df_std.head()"
   ]
  },
  {
   "cell_type": "code",
   "execution_count": 9,
   "metadata": {},
   "outputs": [
    {
     "name": "stdout",
     "output_type": "stream",
     "text": [
      "Media de las variables: \n",
      "Murder     -8.437695e-17\n",
      "Assault     1.298961e-16\n",
      "UrbanPop   -4.263256e-16\n",
      "Rape        8.326673e-16\n",
      "dtype: float64\n",
      "\n",
      "\n",
      "Varianza de las variables: \n",
      "Murder      1.020408\n",
      "Assault     1.020408\n",
      "UrbanPop    1.020408\n",
      "Rape        1.020408\n",
      "dtype: float64\n"
     ]
    }
   ],
   "source": [
    "# Observamos nuevamente la media de las variables:\n",
    "print(\"Media de las variables: \")\n",
    "print(df_std.mean(axis=0))\n",
    "\n",
    "print('\\n')\n",
    "\n",
    "# Observamos nuevamente la varianza de las variables:\n",
    "print(\"Varianza de las variables: \")\n",
    "print(df_std.var(axis=0))"
   ]
  },
  {
   "cell_type": "code",
   "execution_count": 11,
   "metadata": {},
   "outputs": [
    {
     "data": {
      "text/plain": [
       "PCA(copy=True, iterated_power='auto', n_components=None, random_state=None,\n",
       "    svd_solver='auto', tol=0.0, whiten=False)"
      ]
     },
     "execution_count": 11,
     "metadata": {},
     "output_type": "execute_result"
    }
   ],
   "source": [
    "from sklearn.decomposition import PCA\n",
    "#https://scikit-learn.org/stable/modules/generated/sklearn.decomposition.PCA.html\n",
    "\n",
    "# Instanciamos la clase PCA:\n",
    "pca_arrests = PCA()\n",
    "\n",
    "# Al no especificar el número de componentes, PCA va a conservar todos los CP.\n",
    "\n",
    "# Calculamos los componentes principales con el método fit()\n",
    "pca_arrests.fit(df_std)\n",
    "pca_arrests"
   ]
  },
  {
   "cell_type": "markdown",
   "metadata": {},
   "source": [
    "Imprimo los componentes principales"
   ]
  },
  {
   "cell_type": "code",
   "execution_count": 13,
   "metadata": {},
   "outputs": [
    {
     "name": "stdout",
     "output_type": "stream",
     "text": [
      "[[ 0.53589947  0.58318363  0.27819087  0.54343209]\n",
      " [ 0.41818087  0.1879856  -0.87280619 -0.16731864]\n",
      " [-0.34123273 -0.26814843 -0.37801579  0.81777791]\n",
      " [ 0.6492278  -0.74340748  0.13387773  0.08902432]]\n"
     ]
    }
   ],
   "source": [
    "print(pca_arrests.components_)\n",
    "# cada registro de df_std puede escribirse en el subespacio de las componentes prinicpales como (coord1, coord2, coord3, coord4):\n",
    "# coord 1 = 0.53589947 * Murder + 0.58318363 * Assault + 0.27819087 * UrbanPop + 0.54343209 * Rape\n",
    "# coord 2 =  0.41818087 * Murder +   0.1879856 * Assault + (-0.87280619) * UrbanPop + (-0.16731864) * Rape\n",
    "# coord 3 = -0.34123273 * Murder +  (-0.26814843) * Assault +  (-0.37801579) * UrbanPop + 0.81777791 * Rape\n",
    "# coord 4 = 0.6492278 * Murder + (-0.74340748) * Assault +   0.13387773 * UrbanPop + 0.08902432 * Rape"
   ]
  },
  {
   "cell_type": "code",
   "execution_count": 15,
   "metadata": {},
   "outputs": [
    {
     "name": "stdout",
     "output_type": "stream",
     "text": [
      "[[ 0.53589947  0.58318363  0.27819087  0.54343209]\n",
      " [ 0.41818087  0.1879856  -0.87280619 -0.16731864]]\n"
     ]
    }
   ],
   "source": [
    "# si quisiera quedarme sólo con las primeras dos componenetes principales:\n",
    "pca_arrests_2 = PCA(n_components= 2)\n",
    "\n",
    "# Calculamos los componentes principales con el método fit()\n",
    "pca_arrests_2.fit(df_std)\n",
    "\n",
    "print(pca_arrests_2.components_)"
   ]
  },
  {
   "cell_type": "markdown",
   "metadata": {},
   "source": [
    "Veo que las componenetes principales son ortogonales, es decir que el producto interno de la matriz por la transpuesta da 1 en la diagonal y 0 todo el resto"
   ]
  },
  {
   "cell_type": "code",
   "execution_count": 23,
   "metadata": {},
   "outputs": [
    {
     "name": "stdout",
     "output_type": "stream",
     "text": [
      "[[ 0.53589947  0.58318363  0.27819087  0.54343209]\n",
      " [ 0.41818087  0.1879856  -0.87280619 -0.16731864]\n",
      " [-0.34123273 -0.26814843 -0.37801579  0.81777791]\n",
      " [ 0.6492278  -0.74340748  0.13387773  0.08902432]]\n",
      " \n",
      "[[ 0.53589947  0.41818087 -0.34123273  0.6492278 ]\n",
      " [ 0.58318363  0.1879856  -0.26814843 -0.74340748]\n",
      " [ 0.27819087 -0.87280619 -0.37801579  0.13387773]\n",
      " [ 0.54343209 -0.16731864  0.81777791  0.08902432]]\n",
      " \n",
      "[[ 1.00000000e+00  1.11022302e-16  5.55111512e-17  2.39391840e-16]\n",
      " [ 1.11022302e-16  1.00000000e+00  1.66533454e-16 -2.49800181e-16]\n",
      " [ 5.55111512e-17  1.66533454e-16  1.00000000e+00 -1.11022302e-16]\n",
      " [ 2.39391840e-16 -2.49800181e-16 -1.11022302e-16  1.00000000e+00]]\n"
     ]
    }
   ],
   "source": [
    "print(pca_arrests.components_)\n",
    "print(' ')\n",
    "print(pca_arrests.components_.T)\n",
    "print(' ')\n",
    "print(pca_arrests.components_.T.dot(pca_arrests.components_))"
   ]
  },
  {
   "cell_type": "markdown",
   "metadata": {},
   "source": [
    "Al observar los loadings, vemos que el PC1 está más relacionado con las variables 'Murder', 'Assault' y 'Rape', lo que podría representar el grado de criminalidad de cada Estado. \n",
    "\n",
    "Por otro lado, el peso de 'UrbanPop' es muy fuerte en el PC2, mientras que el peso de las demás variables es menor.\n",
    "\n",
    "(El orden de las variables es Murder, Assault, UrbanPop, Rape)\n",
    "\n",
    "La primera componenete es de tamaño (todos tienen el mismo signo).\n",
    "\n",
    "La segunda componente es de forma (hay algunos positivos y otros negativos)."
   ]
  },
  {
   "cell_type": "code",
   "execution_count": 24,
   "metadata": {},
   "outputs": [
    {
     "data": {
      "text/html": [
       "<div>\n",
       "<style scoped>\n",
       "    .dataframe tbody tr th:only-of-type {\n",
       "        vertical-align: middle;\n",
       "    }\n",
       "\n",
       "    .dataframe tbody tr th {\n",
       "        vertical-align: top;\n",
       "    }\n",
       "\n",
       "    .dataframe thead th {\n",
       "        text-align: right;\n",
       "    }\n",
       "</style>\n",
       "<table border=\"1\" class=\"dataframe\">\n",
       "  <thead>\n",
       "    <tr style=\"text-align: right;\">\n",
       "      <th></th>\n",
       "      <th>PC1</th>\n",
       "      <th>PC2</th>\n",
       "      <th>PC3</th>\n",
       "      <th>PC4</th>\n",
       "    </tr>\n",
       "  </thead>\n",
       "  <tbody>\n",
       "    <tr>\n",
       "      <th>Alabama</th>\n",
       "      <td>0.985566</td>\n",
       "      <td>1.133392</td>\n",
       "      <td>-0.444269</td>\n",
       "      <td>0.156267</td>\n",
       "    </tr>\n",
       "    <tr>\n",
       "      <th>Alaska</th>\n",
       "      <td>1.950138</td>\n",
       "      <td>1.073213</td>\n",
       "      <td>2.040003</td>\n",
       "      <td>-0.438583</td>\n",
       "    </tr>\n",
       "    <tr>\n",
       "      <th>Arizona</th>\n",
       "      <td>1.763164</td>\n",
       "      <td>-0.745957</td>\n",
       "      <td>0.054781</td>\n",
       "      <td>-0.834653</td>\n",
       "    </tr>\n",
       "    <tr>\n",
       "      <th>Arkansas</th>\n",
       "      <td>-0.141420</td>\n",
       "      <td>1.119797</td>\n",
       "      <td>0.114574</td>\n",
       "      <td>-0.182811</td>\n",
       "    </tr>\n",
       "    <tr>\n",
       "      <th>California</th>\n",
       "      <td>2.523980</td>\n",
       "      <td>-1.542934</td>\n",
       "      <td>0.598557</td>\n",
       "      <td>-0.341996</td>\n",
       "    </tr>\n",
       "  </tbody>\n",
       "</table>\n",
       "</div>"
      ],
      "text/plain": [
       "                 PC1       PC2       PC3       PC4\n",
       "Alabama     0.985566  1.133392 -0.444269  0.156267\n",
       "Alaska      1.950138  1.073213  2.040003 -0.438583\n",
       "Arizona     1.763164 -0.745957  0.054781 -0.834653\n",
       "Arkansas   -0.141420  1.119797  0.114574 -0.182811\n",
       "California  2.523980 -1.542934  0.598557 -0.341996"
      ]
     },
     "execution_count": 24,
     "metadata": {},
     "output_type": "execute_result"
    }
   ],
   "source": [
    "# Generamos un DataFrame expresando en términos de nuestros componentes principales:\n",
    "\n",
    "df_pca = pd.DataFrame(pca_arrests.fit_transform(df_std), columns=['PC1', 'PC2', 'PC3', 'PC4'],\\\n",
    "                      index=df_std.index)\n",
    "df_pca.head()"
   ]
  },
  {
   "cell_type": "code",
   "execution_count": 25,
   "metadata": {},
   "outputs": [
    {
     "name": "stdout",
     "output_type": "stream",
     "text": [
      "Media de los CP: \n",
      "PC1   -7.993606e-17\n",
      "PC2    0.000000e+00\n",
      "PC3   -3.497203e-17\n",
      "PC4   -6.106227e-18\n",
      "dtype: float64\n",
      "\n",
      "\n",
      "Varianza de los CPs: \n",
      "PC1    2.530859\n",
      "PC2    1.009964\n",
      "PC3    0.363840\n",
      "PC4    0.176969\n",
      "dtype: float64\n"
     ]
    }
   ],
   "source": [
    "# Observamos la media de las variables:\n",
    "print(\"Media de los CP: \")\n",
    "print(df_pca.mean(axis=0))\n",
    "\n",
    "print('\\n')\n",
    "\n",
    "# Observamos la varianza de las variables:\n",
    "print(\"Varianza de los CPs: \")\n",
    "print(df_pca.var(axis=0))"
   ]
  },
  {
   "cell_type": "code",
   "execution_count": 27,
   "metadata": {},
   "outputs": [
    {
     "name": "stdout",
     "output_type": "stream",
     "text": [
      "[[ 0.53589947  0.58318363  0.27819087  0.54343209]\n",
      " [ 0.41818087  0.1879856  -0.87280619 -0.16731864]\n",
      " [-0.34123273 -0.26814843 -0.37801579  0.81777791]\n",
      " [ 0.6492278  -0.74340748  0.13387773  0.08902432]]\n"
     ]
    },
    {
     "data": {
      "text/html": [
       "<div>\n",
       "<style scoped>\n",
       "    .dataframe tbody tr th:only-of-type {\n",
       "        vertical-align: middle;\n",
       "    }\n",
       "\n",
       "    .dataframe tbody tr th {\n",
       "        vertical-align: top;\n",
       "    }\n",
       "\n",
       "    .dataframe thead th {\n",
       "        text-align: right;\n",
       "    }\n",
       "</style>\n",
       "<table border=\"1\" class=\"dataframe\">\n",
       "  <thead>\n",
       "    <tr style=\"text-align: right;\">\n",
       "      <th></th>\n",
       "      <th>PC1</th>\n",
       "      <th>PC2</th>\n",
       "      <th>PC3</th>\n",
       "      <th>PC4</th>\n",
       "    </tr>\n",
       "  </thead>\n",
       "  <tbody>\n",
       "    <tr>\n",
       "      <th>Murder</th>\n",
       "      <td>0.535899</td>\n",
       "      <td>0.418181</td>\n",
       "      <td>-0.341233</td>\n",
       "      <td>0.649228</td>\n",
       "    </tr>\n",
       "    <tr>\n",
       "      <th>Assault</th>\n",
       "      <td>0.583184</td>\n",
       "      <td>0.187986</td>\n",
       "      <td>-0.268148</td>\n",
       "      <td>-0.743407</td>\n",
       "    </tr>\n",
       "    <tr>\n",
       "      <th>UrbanPop</th>\n",
       "      <td>0.278191</td>\n",
       "      <td>-0.872806</td>\n",
       "      <td>-0.378016</td>\n",
       "      <td>0.133878</td>\n",
       "    </tr>\n",
       "    <tr>\n",
       "      <th>Rape</th>\n",
       "      <td>0.543432</td>\n",
       "      <td>-0.167319</td>\n",
       "      <td>0.817778</td>\n",
       "      <td>0.089024</td>\n",
       "    </tr>\n",
       "  </tbody>\n",
       "</table>\n",
       "</div>"
      ],
      "text/plain": [
       "               PC1       PC2       PC3       PC4\n",
       "Murder    0.535899  0.418181 -0.341233  0.649228\n",
       "Assault   0.583184  0.187986 -0.268148 -0.743407\n",
       "UrbanPop  0.278191 -0.872806 -0.378016  0.133878\n",
       "Rape      0.543432 -0.167319  0.817778  0.089024"
      ]
     },
     "metadata": {},
     "output_type": "display_data"
    }
   ],
   "source": [
    "# Creamos un DataFRame con los loadings que vamos a usar para graficar\n",
    "\n",
    "pca_loadings = pd.DataFrame(pca_arrests.components_.T, index=df.columns,\\\n",
    "                            columns=['PC1', 'PC2', 'PC3', 'PC4'])\n",
    "print(pca_arrests.components_)\n",
    "display(pca_loadings)"
   ]
  },
  {
   "cell_type": "markdown",
   "metadata": {},
   "source": [
    "# Biplot"
   ]
  },
  {
   "cell_type": "code",
   "execution_count": 28,
   "metadata": {},
   "outputs": [
    {
     "data": {
      "image/png": "[encoded data removed]",
      "text/plain": [
       "<Figure size 648x504 with 3 Axes>"
      ]
     },
     "metadata": {},
     "output_type": "display_data"
    }
   ],
   "source": [
    "fig , ax1 = plt.subplots(figsize=(9,7))\n",
    "\n",
    "ax1.set_xlim(-3.5,3.5)\n",
    "ax1.set_ylim(-3.5,3.5)\n",
    "\n",
    "# Ploteamos a los Estados en el espacio de los Componentes Principales 1 y 2\n",
    "for i in df_pca.index:\n",
    "    ax1.annotate(i, (df_pca.PC1.loc[i], -df_pca.PC2.loc[i]), ha='center')\n",
    "\n",
    "# Ploteamos las líneas de referencia\n",
    "ax1.hlines(0,-3.5,3.5, linestyles='dotted', colors='grey')\n",
    "ax1.vlines(0,-3.5,3.5, linestyles='dotted', colors='grey')\n",
    "\n",
    "ax1.set_xlabel('Primer Componente Principal')\n",
    "ax1.set_ylabel('Segundo Componente Principal')\n",
    "    \n",
    "# Creamos ejes secundarios\n",
    "ax2 = ax1.twinx().twiny() \n",
    "\n",
    "ax2.set_ylim(-1,1)\n",
    "ax2.set_xlim(-1,1)\n",
    "ax2.tick_params(axis='y', colors='orange')\n",
    "ax2.set_xlabel('Vectores de loadings de los Componentes Principales', color='orange')\n",
    "\n",
    "# Ploteamos a las variables originales en relación a los Componentes Principales 1 y 2\n",
    "for i in pca_loadings[['PC1', 'PC2']].index:\n",
    "    ax2.annotate(i, (pca_loadings.PC1.loc[i], -pca_loadings.PC2.loc[i]), color='orange')\n",
    "\n",
    "# Plot vectors\n",
    "ax2.arrow(0,0,pca_loadings.PC1[0], -pca_loadings.PC2[0])\n",
    "ax2.arrow(0,0,pca_loadings.PC1[1], -pca_loadings.PC2[1])\n",
    "ax2.arrow(0,0,pca_loadings.PC1[2], -pca_loadings.PC2[2])\n",
    "ax2.arrow(0,0,pca_loadings.PC1[3], -pca_loadings.PC2[3]);"
   ]
  },
  {
   "cell_type": "markdown",
   "metadata": {},
   "source": [
    "Las variables relacionadas con los crimenes están ubicadas cerca una de otra. Esto indica que las variables relacionadas con crimenes están correlacionadas (estados con tasas de asesinato altas tienden a tener tasas de ataque y violación altas) y que la variable UrbanPop está menos correlacionada con las otras tres."
   ]
  },
  {
   "cell_type": "code",
   "execution_count": 29,
   "metadata": {},
   "outputs": [
    {
     "data": {
      "text/plain": [
       "array([2.53085875, 1.00996444, 0.36383998, 0.17696948])"
      ]
     },
     "execution_count": 29,
     "metadata": {},
     "output_type": "execute_result"
    }
   ],
   "source": [
    "# Vemos la varianza explicada de cada componente principal como atributo del modelo.\n",
    "\n",
    "pca_arrests.explained_variance_"
   ]
  },
  {
   "cell_type": "code",
   "execution_count": 30,
   "metadata": {},
   "outputs": [
    {
     "data": {
      "text/plain": [
       "array([0.62006039, 0.24744129, 0.0891408 , 0.04335752])"
      ]
     },
     "execution_count": 30,
     "metadata": {},
     "output_type": "execute_result"
    }
   ],
   "source": [
    "# Vemos el ratio la varianza explicada de cada componente principal como atributo del modelo.\n",
    "\n",
    "pca_arrests.explained_variance_ratio_"
   ]
  },
  {
   "cell_type": "code",
   "execution_count": 31,
   "metadata": {},
   "outputs": [
    {
     "data": {
      "image/png": "[encoded data removed]",
      "text/plain": [
       "<Figure size 504x360 with 1 Axes>"
      ]
     },
     "metadata": {
      "needs_background": "light"
     },
     "output_type": "display_data"
    }
   ],
   "source": [
    "# Ploteamos como incrementa el % de varianza explicada a medida que agregamos componentes:\n",
    "\n",
    "plt.figure(figsize=(7,5))\n",
    "\n",
    "plt.plot([1,2,3,4], pca_arrests.explained_variance_ratio_, '-o', label='Componente individual')\n",
    "plt.plot([1,2,3,4], np.cumsum(pca_arrests.explained_variance_ratio_), '-s', label='Acumulado')\n",
    "\n",
    "plt.ylabel('Porcentaje de Varianza Explicada')\n",
    "plt.xlabel('Componentes Principales')\n",
    "plt.xlim(0.75,4.25)\n",
    "plt.ylim(0,1.05)\n",
    "plt.xticks([1,2,3,4])\n",
    "plt.legend(loc=2);"
   ]
  }
 ],
 "metadata": {
  "kernelspec": {
   "display_name": "Python 3",
   "language": "python",
   "name": "python3"
  },
  "language_info": {
   "codemirror_mode": {
    "name": "ipython",
    "version": 3
   },
   "file_extension": ".py",
   "mimetype": "text/x-python",
   "name": "python",
   "nbconvert_exporter": "python",
   "pygments_lexer": "ipython3",
   "version": "3.6.8"
  }
 },
 "nbformat": 4,
 "nbformat_minor": 2
}
