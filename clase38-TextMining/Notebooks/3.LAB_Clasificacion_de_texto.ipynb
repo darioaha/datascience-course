{
 "cells": [
  {
   "cell_type": "markdown",
   "metadata": {},
   "source": [
    "## LAB: Clasificación de texto\n",
    "\n",
    "Para entender el efecto de la cantidad de dimensiones en la capacidad predictiva del modelo vamos a trabajar en un clasificador de noticias de dos diarios argentinos para intentar distinguir entre uno y otro a partir del vocabulario que utilizan. <br />\n",
    "\n",
    "Para esto vamos a implementar un modelo de tipo Naïve Bayes con vectorización de tipo TF-IDF."
   ]
  },
  {
   "cell_type": "code",
   "execution_count": 1,
   "metadata": {},
   "outputs": [],
   "source": [
    "import pandas as pd\n",
    "df_clarin = pd.read_csv('../Data/clarin.csv')\n",
    "df_clarin['class'] = 0"
   ]
  },
  {
   "cell_type": "code",
   "execution_count": 2,
   "metadata": {},
   "outputs": [],
   "source": [
    "df_p12 = pd.read_csv('../Data/pagina12.csv')\n",
    "df_p12['class'] = 1"
   ]
  },
  {
   "cell_type": "code",
   "execution_count": 3,
   "metadata": {},
   "outputs": [],
   "source": [
    "df = pd.concat([df_clarin,df_p12])"
   ]
  },
  {
   "cell_type": "code",
   "execution_count": 4,
   "metadata": {},
   "outputs": [
    {
     "data": {
      "text/html": [
       "<div>\n",
       "<style scoped>\n",
       "    .dataframe tbody tr th:only-of-type {\n",
       "        vertical-align: middle;\n",
       "    }\n",
       "\n",
       "    .dataframe tbody tr th {\n",
       "        vertical-align: top;\n",
       "    }\n",
       "\n",
       "    .dataframe thead th {\n",
       "        text-align: right;\n",
       "    }\n",
       "</style>\n",
       "<table border=\"1\" class=\"dataframe\">\n",
       "  <thead>\n",
       "    <tr style=\"text-align: right;\">\n",
       "      <th></th>\n",
       "      <th>Unnamed: 0</th>\n",
       "      <th>cuerpo</th>\n",
       "      <th>fecha_hora</th>\n",
       "      <th>imagen</th>\n",
       "      <th>resumen</th>\n",
       "      <th>suplemento</th>\n",
       "      <th>titulo</th>\n",
       "      <th>url</th>\n",
       "      <th>class</th>\n",
       "    </tr>\n",
       "  </thead>\n",
       "  <tbody>\n",
       "    <tr>\n",
       "      <th>6</th>\n",
       "      <td>6</td>\n",
       "      <td>“Síganlo buscando” fue la cínica respuesta de ...</td>\n",
       "      <td>08 de octubre de 2017</td>\n",
       "      <td>https://images.pagina12.com.ar/styles/focal_16...</td>\n",
       "      <td>Agentes de la Gendarmería ingresaron ayer a la...</td>\n",
       "      <td>El país</td>\n",
       "      <td>\"Síganlo buscando\"</td>\n",
       "      <td>https://www.pagina12.com.ar/67881-siganlo-busc...</td>\n",
       "      <td>1</td>\n",
       "    </tr>\n",
       "    <tr>\n",
       "      <th>112</th>\n",
       "      <td>112</td>\n",
       "      <td>NaN</td>\n",
       "      <td>NaN</td>\n",
       "      <td>NaN</td>\n",
       "      <td>NaN</td>\n",
       "      <td>/tecnologia/</td>\n",
       "      <td>NaN</td>\n",
       "      <td>http://www.clarin.com/tecnologia/frenan-produc...</td>\n",
       "      <td>0</td>\n",
       "    </tr>\n",
       "    <tr>\n",
       "      <th>183</th>\n",
       "      <td>183</td>\n",
       "      <td>Juan Martín Del Potro tuvo que esforzarse al m...</td>\n",
       "      <td>10 de octubre de 2017</td>\n",
       "      <td>https://images.pagina12.com.ar/styles/width960...</td>\n",
       "      <td>NaN</td>\n",
       "      <td>Deportes</td>\n",
       "      <td>Del Potro puso primera en Shanghai</td>\n",
       "      <td>https://www.pagina12.com.ar/68170-del-potro-pu...</td>\n",
       "      <td>1</td>\n",
       "    </tr>\n",
       "    <tr>\n",
       "      <th>157</th>\n",
       "      <td>157</td>\n",
       "      <td>Que la Selección esté en Rusia 2018 no es fá...</td>\n",
       "      <td>09/10/2017</td>\n",
       "      <td>//images.clarin.com/2017/10/09/rJJhWHYhb_930x5...</td>\n",
       "      <td>Si bien será determinante lo que suceda ante E...</td>\n",
       "      <td>/deportes/futbol/</td>\n",
       "      <td>Ecuador-Argentina: filtran la supuesta camiset...</td>\n",
       "      <td>http://www.clarin.com/deportes/futbol/ecuador-...</td>\n",
       "      <td>0</td>\n",
       "    </tr>\n",
       "    <tr>\n",
       "      <th>167</th>\n",
       "      <td>167</td>\n",
       "      <td>Con una nueva jornada de alegatos continúa hoy...</td>\n",
       "      <td>10 de octubre de 2017</td>\n",
       "      <td>https://images.pagina12.com.ar/styles/focal_16...</td>\n",
       "      <td>NaN</td>\n",
       "      <td>El país</td>\n",
       "      <td>Juicio a los jueces</td>\n",
       "      <td>https://www.pagina12.com.ar/68123-juicio-a-los...</td>\n",
       "      <td>1</td>\n",
       "    </tr>\n",
       "    <tr>\n",
       "      <th>69</th>\n",
       "      <td>69</td>\n",
       "      <td>El proyecto de presupuesto 2018 encendió las a...</td>\n",
       "      <td>09 de octubre de 2017</td>\n",
       "      <td>https://images.pagina12.com.ar/styles/focal_16...</td>\n",
       "      <td>Los fondos para el organismo serán 3102 millon...</td>\n",
       "      <td>Economía</td>\n",
       "      <td>Luces de alarma se encienden en la CNEA</td>\n",
       "      <td>https://www.pagina12.com.ar/67957-luces-de-ala...</td>\n",
       "      <td>1</td>\n",
       "    </tr>\n",
       "    <tr>\n",
       "      <th>367</th>\n",
       "      <td>367</td>\n",
       "      <td>La aerolínea neozelandesa Air New Zealand co...</td>\n",
       "      <td>09/10/2017</td>\n",
       "      <td>//images.clarin.com/2017/03/26/HkIm3HH3l_930x5...</td>\n",
       "      <td>Air New Zealand sumará frecuencias entre Bueno...</td>\n",
       "      <td>/viajes/</td>\n",
       "      <td>Más vuelos entre Argentina y Nueva Zelanda</td>\n",
       "      <td>http://www.clarin.com/viajes/vuelos-argentina-...</td>\n",
       "      <td>0</td>\n",
       "    </tr>\n",
       "    <tr>\n",
       "      <th>373</th>\n",
       "      <td>373</td>\n",
       "      <td>Ocho estudiantes de arquitectura de la Unive...</td>\n",
       "      <td>09/10/2017</td>\n",
       "      <td>//images.clarin.com/2017/10/09/SkYDoEtn-_930x5...</td>\n",
       "      <td>Estudiantes de la Universidad de Córdoba ganar...</td>\n",
       "      <td>/arq/</td>\n",
       "      <td>Cordobeses premiados en un certamen de arquite...</td>\n",
       "      <td>http://www.clarin.com/arq/arquitectura/cordobe...</td>\n",
       "      <td>0</td>\n",
       "    </tr>\n",
       "    <tr>\n",
       "      <th>339</th>\n",
       "      <td>339</td>\n",
       "      <td>AriesSigue la energía del Plenilunio operan...</td>\n",
       "      <td>09/10/2017</td>\n",
       "      <td>//images.clarin.com/2017/10/09/Hk3k3eFnW_930x5...</td>\n",
       "      <td>El ingreso de Júpiter a Escorpio es uno de los...</td>\n",
       "      <td>/entremujeres/</td>\n",
       "      <td>Horóscopo semanal: Júpiter ingresa a Escorpio ...</td>\n",
       "      <td>http://www.clarin.com/entremujeres/astrologia/...</td>\n",
       "      <td>0</td>\n",
       "    </tr>\n",
       "    <tr>\n",
       "      <th>227</th>\n",
       "      <td>227</td>\n",
       "      <td>El dueño de los Cavaliers, Dan Gilbert, dijo...</td>\n",
       "      <td>30/09/2017</td>\n",
       "      <td>//images.clarin.com/2017/09/30/rkucYd6iZ_930x5...</td>\n",
       "      <td>Los deportistas estadounidenses están enfrenta...</td>\n",
       "      <td>/deportes/basquet/</td>\n",
       "      <td>Insultos y amenazas al dueño de los Cavaliers ...</td>\n",
       "      <td>http://www.clarin.com/deportes/basquet/insulto...</td>\n",
       "      <td>0</td>\n",
       "    </tr>\n",
       "  </tbody>\n",
       "</table>\n",
       "</div>"
      ],
      "text/plain": [
       "     Unnamed: 0                                             cuerpo  \\\n",
       "6             6  “Síganlo buscando” fue la cínica respuesta de ...   \n",
       "112         112                                                NaN   \n",
       "183         183  Juan Martín Del Potro tuvo que esforzarse al m...   \n",
       "157         157    Que la Selección esté en Rusia 2018 no es fá...   \n",
       "167         167  Con una nueva jornada de alegatos continúa hoy...   \n",
       "69           69  El proyecto de presupuesto 2018 encendió las a...   \n",
       "367         367    La aerolínea neozelandesa Air New Zealand co...   \n",
       "373         373    Ocho estudiantes de arquitectura de la Unive...   \n",
       "339         339     AriesSigue la energía del Plenilunio operan...   \n",
       "227         227    El dueño de los Cavaliers, Dan Gilbert, dijo...   \n",
       "\n",
       "                fecha_hora                                             imagen  \\\n",
       "6    08 de octubre de 2017  https://images.pagina12.com.ar/styles/focal_16...   \n",
       "112                    NaN                                                NaN   \n",
       "183  10 de octubre de 2017  https://images.pagina12.com.ar/styles/width960...   \n",
       "157            09/10/2017   //images.clarin.com/2017/10/09/rJJhWHYhb_930x5...   \n",
       "167  10 de octubre de 2017  https://images.pagina12.com.ar/styles/focal_16...   \n",
       "69   09 de octubre de 2017  https://images.pagina12.com.ar/styles/focal_16...   \n",
       "367            09/10/2017   //images.clarin.com/2017/03/26/HkIm3HH3l_930x5...   \n",
       "373            09/10/2017   //images.clarin.com/2017/10/09/SkYDoEtn-_930x5...   \n",
       "339            09/10/2017   //images.clarin.com/2017/10/09/Hk3k3eFnW_930x5...   \n",
       "227            30/09/2017   //images.clarin.com/2017/09/30/rkucYd6iZ_930x5...   \n",
       "\n",
       "                                               resumen          suplemento  \\\n",
       "6    Agentes de la Gendarmería ingresaron ayer a la...             El país   \n",
       "112                                                NaN        /tecnologia/   \n",
       "183                                                NaN            Deportes   \n",
       "157  Si bien será determinante lo que suceda ante E...   /deportes/futbol/   \n",
       "167                                                NaN             El país   \n",
       "69   Los fondos para el organismo serán 3102 millon...            Economía   \n",
       "367  Air New Zealand sumará frecuencias entre Bueno...            /viajes/   \n",
       "373  Estudiantes de la Universidad de Córdoba ganar...               /arq/   \n",
       "339  El ingreso de Júpiter a Escorpio es uno de los...      /entremujeres/   \n",
       "227  Los deportistas estadounidenses están enfrenta...  /deportes/basquet/   \n",
       "\n",
       "                                                titulo  \\\n",
       "6                                   \"Síganlo buscando\"   \n",
       "112                                                NaN   \n",
       "183                 Del Potro puso primera en Shanghai   \n",
       "157  Ecuador-Argentina: filtran la supuesta camiset...   \n",
       "167                                Juicio a los jueces   \n",
       "69             Luces de alarma se encienden en la CNEA   \n",
       "367         Más vuelos entre Argentina y Nueva Zelanda   \n",
       "373  Cordobeses premiados en un certamen de arquite...   \n",
       "339  Horóscopo semanal: Júpiter ingresa a Escorpio ...   \n",
       "227  Insultos y amenazas al dueño de los Cavaliers ...   \n",
       "\n",
       "                                                   url  class  \n",
       "6    https://www.pagina12.com.ar/67881-siganlo-busc...      1  \n",
       "112  http://www.clarin.com/tecnologia/frenan-produc...      0  \n",
       "183  https://www.pagina12.com.ar/68170-del-potro-pu...      1  \n",
       "157  http://www.clarin.com/deportes/futbol/ecuador-...      0  \n",
       "167  https://www.pagina12.com.ar/68123-juicio-a-los...      1  \n",
       "69   https://www.pagina12.com.ar/67957-luces-de-ala...      1  \n",
       "367  http://www.clarin.com/viajes/vuelos-argentina-...      0  \n",
       "373  http://www.clarin.com/arq/arquitectura/cordobe...      0  \n",
       "339  http://www.clarin.com/entremujeres/astrologia/...      0  \n",
       "227  http://www.clarin.com/deportes/basquet/insulto...      0  "
      ]
     },
     "execution_count": 4,
     "metadata": {},
     "output_type": "execute_result"
    }
   ],
   "source": [
    "df.sample(10)"
   ]
  },
  {
   "cell_type": "markdown",
   "metadata": {},
   "source": [
    "### 1. Limpieza\n",
    "\n",
    "#### 1.1 Faltantes\n",
    "\n",
    "A partir del dataset observamos que los campos que probablemente contengan el vocabulario relevante son \"cuerpo\", \"título\" y \"resumen\".\n",
    "Sacar del análisis los registros que no tienen cuerpo o título disponible y completar los resúmenes faltantes con una campo en blanco\n"
   ]
  },
  {
   "cell_type": "code",
   "execution_count": null,
   "metadata": {
    "collapsed": true
   },
   "outputs": [],
   "source": []
  },
  {
   "cell_type": "code",
   "execution_count": null,
   "metadata": {
    "collapsed": true
   },
   "outputs": [],
   "source": []
  },
  {
   "cell_type": "code",
   "execution_count": null,
   "metadata": {
    "collapsed": true
   },
   "outputs": [],
   "source": []
  },
  {
   "cell_type": "markdown",
   "metadata": {},
   "source": [
    "#### 1.2 Suplementos relevantes\n",
    "\n",
    "Para mejorar la clasificación es conveniente retirar las secciones donde los dos diarios utilizan un vocabulario similar y muy específico del dominio como, por ejemplo, las relacionadas a deportes."
   ]
  },
  {
   "cell_type": "code",
   "execution_count": null,
   "metadata": {
    "collapsed": true
   },
   "outputs": [],
   "source": []
  },
  {
   "cell_type": "code",
   "execution_count": null,
   "metadata": {
    "collapsed": true
   },
   "outputs": [],
   "source": []
  },
  {
   "cell_type": "markdown",
   "metadata": {},
   "source": [
    "#### 1.3 Corpus\n",
    "\n",
    "Construir la columna sobre la cual vamos a predecir concatenando el título, resumen y cuerpo de las distintas noticias."
   ]
  },
  {
   "cell_type": "code",
   "execution_count": null,
   "metadata": {
    "collapsed": true
   },
   "outputs": [],
   "source": []
  },
  {
   "cell_type": "code",
   "execution_count": null,
   "metadata": {
    "collapsed": true
   },
   "outputs": [],
   "source": []
  },
  {
   "cell_type": "markdown",
   "metadata": {},
   "source": [
    "#### 1.4 Normalización del texto\n",
    "\n",
    "Primero es conveniente pasar todo el corpus a letras minúsculas.\n",
    "\n",
    "Para mejorar el clasificador es importante sacar todos los acentos que pueden generar diferencias artificiales entre palabras según estén o no puestos. Hint: Utilizar el módulo unidecode\n",
    "\n",
    "Una vez retirados los acentos, quitar todos los signos de puntuación para dejar únicamente palabras. Hint: utilizar una expresión regular, por ejemplo, r'([^\\s\\w]|_)+' para reemplazar todo lo que no sean palabras."
   ]
  },
  {
   "cell_type": "code",
   "execution_count": null,
   "metadata": {
    "collapsed": true
   },
   "outputs": [],
   "source": []
  },
  {
   "cell_type": "code",
   "execution_count": null,
   "metadata": {
    "collapsed": true
   },
   "outputs": [],
   "source": []
  },
  {
   "cell_type": "markdown",
   "metadata": {},
   "source": [
    "## 2. Modelo\n",
    "\n",
    "Vectorizar el corpus resultante con TF-IDF y aplicar un modelo Naive Bayes con un split simple entre train y test. \n",
    "<br />\n",
    "¿Cuál es la dimensión de la matriz de features? ¿Cuál es el accuracy obtenido? <br />\n",
    "Dibujar la matriz de confusión."
   ]
  },
  {
   "cell_type": "code",
   "execution_count": null,
   "metadata": {
    "collapsed": true
   },
   "outputs": [],
   "source": []
  },
  {
   "cell_type": "code",
   "execution_count": null,
   "metadata": {
    "collapsed": true
   },
   "outputs": [],
   "source": []
  },
  {
   "cell_type": "markdown",
   "metadata": {},
   "source": [
    "## 3. Reducción de la dimensionalidad\n",
    "\n",
    "¿Cuál es la relación entre la cantidad de features y la cantidad de casos de entrenamiento? De acuerdo a la maldición de la dimensionalidad esta relación es un problema.<br/>\n",
    "Una de las técnicas más comunes para reducir dimensiones es utilizar \"stopwords\", una lista con las palabras de cada idioma que no tienen un peso semántico importante. <br />\n",
    "Entrenen nuevamente el modelo quitando las stopwords del español que se encuentran en el archivo \"stopwords.csv\". <br />\n",
    "¿Qué pasa con la cantidad de dimensiones de la matriz de features? ¿Y con el accuracy?"
   ]
  },
  {
   "cell_type": "code",
   "execution_count": null,
   "metadata": {
    "collapsed": true
   },
   "outputs": [],
   "source": []
  },
  {
   "cell_type": "code",
   "execution_count": null,
   "metadata": {
    "collapsed": true
   },
   "outputs": [],
   "source": []
  },
  {
   "cell_type": "markdown",
   "metadata": {},
   "source": [
    "## 4. Avanzando en la reducción de dimensiones\n",
    "\n",
    "El modelo mejora cuando quitamos las stopwords pero todavía tenemos una cantidad de dimensiones demasiado alta para \n",
    "la cantidad de datos que tenemos.\n",
    "\n",
    "Pensemos lo siguiente ¿Qué valor tienen las palabras que aparecen una o dos veces en todo el corpus a la hora de discriminar? Para remover del análisis las palabras que ocurren menos de determinada cantidad de veces, la clase TfidfVectorizer tiene un parámetro min_df. \n",
    "\n",
    "Prueben setear el parámetro min_df en 6 y volver a correr el modelo.\n",
    "<br />\n",
    "<strong>\n",
    "¿A cuánto se reduce la dimensión de la matriz de features?\n",
    "<br />\n",
    "¿Cuánto mejora la performance del algoritmo?\n",
    "<strong />"
   ]
  },
  {
   "cell_type": "code",
   "execution_count": null,
   "metadata": {
    "collapsed": true
   },
   "outputs": [],
   "source": []
  }
 ],
 "metadata": {
  "kernelspec": {
   "display_name": "Python 3",
   "language": "python",
   "name": "python3"
  },
  "language_info": {
   "codemirror_mode": {
    "name": "ipython",
    "version": 3
   },
   "file_extension": ".py",
   "mimetype": "text/x-python",
   "name": "python",
   "nbconvert_exporter": "python",
   "pygments_lexer": "ipython3",
   "version": "3.6.7"
  }
 },
 "nbformat": 4,
 "nbformat_minor": 2
}
