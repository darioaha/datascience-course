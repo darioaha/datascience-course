{
 "cells": [
  {
   "cell_type": "markdown",
   "metadata": {},
   "source": [
    "## LAB: Clasificación de texto\n",
    "\n",
    "Para entender el efecto de la cantidad de dimensiones en la capacidad predictiva del modelo vamos a trabajar en un clasificador de noticias de dos diarios argentinos para intentar distinguir entre uno y otro a partir del vocabulario que utilizan. <br />\n",
    "\n",
    "Para esto vamos a implementar un modelo de tipo Naïve Bayes con vectorización de tipo TF-IDF."
   ]
  },
  {
   "cell_type": "code",
   "execution_count": 1,
   "metadata": {},
   "outputs": [],
   "source": [
    "import pandas as pd\n",
    "df_clarin = pd.read_csv('../Data/clarin.csv')\n",
    "df_clarin['class'] = 0"
   ]
  },
  {
   "cell_type": "code",
   "execution_count": 2,
   "metadata": {},
   "outputs": [],
   "source": [
    "df_p12 = pd.read_csv('../Data/pagina12.csv')\n",
    "df_p12['class'] = 1"
   ]
  },
  {
   "cell_type": "code",
   "execution_count": 3,
   "metadata": {},
   "outputs": [],
   "source": [
    "df = pd.concat([df_clarin,df_p12])"
   ]
  },
  {
   "cell_type": "code",
   "execution_count": 4,
   "metadata": {},
   "outputs": [
    {
     "data": {
      "text/html": [
       "<div>\n",
       "<style scoped>\n",
       "    .dataframe tbody tr th:only-of-type {\n",
       "        vertical-align: middle;\n",
       "    }\n",
       "\n",
       "    .dataframe tbody tr th {\n",
       "        vertical-align: top;\n",
       "    }\n",
       "\n",
       "    .dataframe thead th {\n",
       "        text-align: right;\n",
       "    }\n",
       "</style>\n",
       "<table border=\"1\" class=\"dataframe\">\n",
       "  <thead>\n",
       "    <tr style=\"text-align: right;\">\n",
       "      <th></th>\n",
       "      <th>Unnamed: 0</th>\n",
       "      <th>cuerpo</th>\n",
       "      <th>fecha_hora</th>\n",
       "      <th>imagen</th>\n",
       "      <th>resumen</th>\n",
       "      <th>suplemento</th>\n",
       "      <th>titulo</th>\n",
       "      <th>url</th>\n",
       "      <th>class</th>\n",
       "    </tr>\n",
       "  </thead>\n",
       "  <tbody>\n",
       "    <tr>\n",
       "      <th>53</th>\n",
       "      <td>53</td>\n",
       "      <td>\"Si volvés tarde, tomate un taxi\", es una fr...</td>\n",
       "      <td>10/10/2017</td>\n",
       "      <td>//images.clarin.com/2016/10/26/rkXGWlX7Z_930x5...</td>\n",
       "      <td>La creó una taxista de Rosario como opción par...</td>\n",
       "      <td>/ciudades/</td>\n",
       "      <td>Quieren que una app para pedir taxis conducido...</td>\n",
       "      <td>http://www.clarin.com/ciudades/quieren-app-ped...</td>\n",
       "      <td>0</td>\n",
       "    </tr>\n",
       "    <tr>\n",
       "      <th>109</th>\n",
       "      <td>109</td>\n",
       "      <td>“Queremos expresar nuestra severa preocupación...</td>\n",
       "      <td>09 de octubre de 2017</td>\n",
       "      <td>https://images.pagina12.com.ar/styles/focal_16...</td>\n",
       "      <td>Candidatos y representantes legales de Unidad ...</td>\n",
       "      <td>El país</td>\n",
       "      <td>Sin respuestas tras las maniobras de las PASO</td>\n",
       "      <td>https://www.pagina12.com.ar/68062-sin-respuest...</td>\n",
       "      <td>1</td>\n",
       "    </tr>\n",
       "    <tr>\n",
       "      <th>79</th>\n",
       "      <td>79</td>\n",
       "      <td>Desde el principio de los tiempos, se sabe q...</td>\n",
       "      <td>28/09/2017</td>\n",
       "      <td>//images.clarin.com/2017/09/28/rkyAzWiob_930x5...</td>\n",
       "      <td>OTRAS CARTAS. Reclama a los políticos que escu...</td>\n",
       "      <td>/cartas_al_pais/</td>\n",
       "      <td>Espero que el Papa no le haga daño al país y d...</td>\n",
       "      <td>http://www.clarin.com/cartas-al-pais/espero-pa...</td>\n",
       "      <td>0</td>\n",
       "    </tr>\n",
       "    <tr>\n",
       "      <th>311</th>\n",
       "      <td>311</td>\n",
       "      <td>\"Qué es la vida?: Una taza de café ¿Qué es e...</td>\n",
       "      <td>10/10/2017</td>\n",
       "      <td>//images.clarin.com/2017/10/05/SJQEDC72-_930x5...</td>\n",
       "      <td>\"Sobre Mirjana y los que la rodean\", la nueva ...</td>\n",
       "      <td>/espectaculos/teatro/</td>\n",
       "      <td>La insoportable levedad de la vida cotidiana</td>\n",
       "      <td>http://www.clarin.com/espectaculos/teatro/inso...</td>\n",
       "      <td>0</td>\n",
       "    </tr>\n",
       "    <tr>\n",
       "      <th>68</th>\n",
       "      <td>68</td>\n",
       "      <td>El presupuesto 2018 prevé destinar a ciencia y...</td>\n",
       "      <td>09 de octubre de 2017</td>\n",
       "      <td>https://images.pagina12.com.ar/styles/focal_16...</td>\n",
       "      <td>El presupuesto que reciben el Ministerio de Ci...</td>\n",
       "      <td>Economía</td>\n",
       "      <td>Un sector que no es prioridad</td>\n",
       "      <td>https://www.pagina12.com.ar/67958-un-sector-qu...</td>\n",
       "      <td>1</td>\n",
       "    </tr>\n",
       "    <tr>\n",
       "      <th>5</th>\n",
       "      <td>5</td>\n",
       "      <td>En un nuevo acto de campaña, esta vez en Malv...</td>\n",
       "      <td>08 de octubre de 2017</td>\n",
       "      <td>https://images.pagina12.com.ar/styles/focal_16...</td>\n",
       "      <td>La ex presidenta y candidata a senadora encabe...</td>\n",
       "      <td>El país</td>\n",
       "      <td>“Están a un pasito de volver a hablar de campa...</td>\n",
       "      <td>https://www.pagina12.com.ar/67879-estan-a-un-p...</td>\n",
       "      <td>1</td>\n",
       "    </tr>\n",
       "    <tr>\n",
       "      <th>200</th>\n",
       "      <td>200</td>\n",
       "      <td>Desde Cochabamba\\nLa conmemoración de los 50 a...</td>\n",
       "      <td>10 de octubre de 2017</td>\n",
       "      <td>https://images.pagina12.com.ar/styles/focal_16...</td>\n",
       "      <td>Ayer concluyeron los cinco días de homenaje a ...</td>\n",
       "      <td>El mundo</td>\n",
       "      <td>“Vamos a morir como antiimperialistas”</td>\n",
       "      <td>https://www.pagina12.com.ar/68125-vamos-a-mori...</td>\n",
       "      <td>1</td>\n",
       "    </tr>\n",
       "    <tr>\n",
       "      <th>66</th>\n",
       "      <td>66</td>\n",
       "      <td>El sistema de Cobertura Universal de Salud que...</td>\n",
       "      <td>09 de octubre de 2017</td>\n",
       "      <td>https://images.pagina12.com.ar/styles/focal_16...</td>\n",
       "      <td>El ex ministro advirtió que con el sistema de ...</td>\n",
       "      <td>Sociedad</td>\n",
       "      <td>“Un anuncio electoral”</td>\n",
       "      <td>https://www.pagina12.com.ar/67953-un-anuncio-e...</td>\n",
       "      <td>1</td>\n",
       "    </tr>\n",
       "    <tr>\n",
       "      <th>256</th>\n",
       "      <td>256</td>\n",
       "      <td>El seleccionado argentino masculino de hocke...</td>\n",
       "      <td>08/08/2017</td>\n",
       "      <td>//images.clarin.com/2017/08/08/ryepJFPPb_930x5...</td>\n",
       "      <td>Vencieron 12 a 0 a Venezuela y ganaron su grup...</td>\n",
       "      <td>/deportes/hockey/</td>\n",
       "      <td>Los Leones mantuvieron el ritmo arrollador y e...</td>\n",
       "      <td>http://www.clarin.com/deportes/hockey/leones-m...</td>\n",
       "      <td>0</td>\n",
       "    </tr>\n",
       "    <tr>\n",
       "      <th>195</th>\n",
       "      <td>195</td>\n",
       "      <td>La compañía de concesión de infraestructuras A...</td>\n",
       "      <td>10 de octubre de 2017</td>\n",
       "      <td>https://images.pagina12.com.ar/styles/focal_16...</td>\n",
       "      <td>El traslado de la sede social garantiza a las ...</td>\n",
       "      <td>El mundo</td>\n",
       "      <td>Las empresas desconfían y se van</td>\n",
       "      <td>https://www.pagina12.com.ar/68141-las-empresas...</td>\n",
       "      <td>1</td>\n",
       "    </tr>\n",
       "  </tbody>\n",
       "</table>\n",
       "</div>"
      ],
      "text/plain": [
       "     Unnamed: 0                                             cuerpo  \\\n",
       "53           53    \"Si volvés tarde, tomate un taxi\", es una fr...   \n",
       "109         109  “Queremos expresar nuestra severa preocupación...   \n",
       "79           79    Desde el principio de los tiempos, se sabe q...   \n",
       "311         311    \"Qué es la vida?: Una taza de café ¿Qué es e...   \n",
       "68           68  El presupuesto 2018 prevé destinar a ciencia y...   \n",
       "5             5   En un nuevo acto de campaña, esta vez en Malv...   \n",
       "200         200  Desde Cochabamba\\nLa conmemoración de los 50 a...   \n",
       "66           66  El sistema de Cobertura Universal de Salud que...   \n",
       "256         256    El seleccionado argentino masculino de hocke...   \n",
       "195         195  La compañía de concesión de infraestructuras A...   \n",
       "\n",
       "                fecha_hora                                             imagen  \\\n",
       "53             10/10/2017   //images.clarin.com/2016/10/26/rkXGWlX7Z_930x5...   \n",
       "109  09 de octubre de 2017  https://images.pagina12.com.ar/styles/focal_16...   \n",
       "79             28/09/2017   //images.clarin.com/2017/09/28/rkyAzWiob_930x5...   \n",
       "311            10/10/2017   //images.clarin.com/2017/10/05/SJQEDC72-_930x5...   \n",
       "68   09 de octubre de 2017  https://images.pagina12.com.ar/styles/focal_16...   \n",
       "5    08 de octubre de 2017  https://images.pagina12.com.ar/styles/focal_16...   \n",
       "200  10 de octubre de 2017  https://images.pagina12.com.ar/styles/focal_16...   \n",
       "66   09 de octubre de 2017  https://images.pagina12.com.ar/styles/focal_16...   \n",
       "256            08/08/2017   //images.clarin.com/2017/08/08/ryepJFPPb_930x5...   \n",
       "195  10 de octubre de 2017  https://images.pagina12.com.ar/styles/focal_16...   \n",
       "\n",
       "                                               resumen             suplemento  \\\n",
       "53   La creó una taxista de Rosario como opción par...             /ciudades/   \n",
       "109  Candidatos y representantes legales de Unidad ...                El país   \n",
       "79   OTRAS CARTAS. Reclama a los políticos que escu...       /cartas_al_pais/   \n",
       "311  \"Sobre Mirjana y los que la rodean\", la nueva ...  /espectaculos/teatro/   \n",
       "68   El presupuesto que reciben el Ministerio de Ci...               Economía   \n",
       "5    La ex presidenta y candidata a senadora encabe...                El país   \n",
       "200  Ayer concluyeron los cinco días de homenaje a ...               El mundo   \n",
       "66   El ex ministro advirtió que con el sistema de ...               Sociedad   \n",
       "256  Vencieron 12 a 0 a Venezuela y ganaron su grup...      /deportes/hockey/   \n",
       "195  El traslado de la sede social garantiza a las ...               El mundo   \n",
       "\n",
       "                                                titulo  \\\n",
       "53   Quieren que una app para pedir taxis conducido...   \n",
       "109      Sin respuestas tras las maniobras de las PASO   \n",
       "79   Espero que el Papa no le haga daño al país y d...   \n",
       "311       La insoportable levedad de la vida cotidiana   \n",
       "68                       Un sector que no es prioridad   \n",
       "5    “Están a un pasito de volver a hablar de campa...   \n",
       "200             “Vamos a morir como antiimperialistas”   \n",
       "66                              “Un anuncio electoral”   \n",
       "256  Los Leones mantuvieron el ritmo arrollador y e...   \n",
       "195                   Las empresas desconfían y se van   \n",
       "\n",
       "                                                   url  class  \n",
       "53   http://www.clarin.com/ciudades/quieren-app-ped...      0  \n",
       "109  https://www.pagina12.com.ar/68062-sin-respuest...      1  \n",
       "79   http://www.clarin.com/cartas-al-pais/espero-pa...      0  \n",
       "311  http://www.clarin.com/espectaculos/teatro/inso...      0  \n",
       "68   https://www.pagina12.com.ar/67958-un-sector-qu...      1  \n",
       "5    https://www.pagina12.com.ar/67879-estan-a-un-p...      1  \n",
       "200  https://www.pagina12.com.ar/68125-vamos-a-mori...      1  \n",
       "66   https://www.pagina12.com.ar/67953-un-anuncio-e...      1  \n",
       "256  http://www.clarin.com/deportes/hockey/leones-m...      0  \n",
       "195  https://www.pagina12.com.ar/68141-las-empresas...      1  "
      ]
     },
     "execution_count": 4,
     "metadata": {},
     "output_type": "execute_result"
    }
   ],
   "source": [
    "df.sample(10)"
   ]
  },
  {
   "cell_type": "markdown",
   "metadata": {},
   "source": [
    "### 1. Limpieza\n",
    "\n",
    "#### 1.1 Faltantes\n",
    "\n",
    "A partir del dataset observamos que los campos que probablemente contengan el vocabulario relevante son \"cuerpo\", \"título\" y \"resumen\".\n",
    "Sacar del análisis los registros que no tienen cuerpo o título disponible y completar los resúmenes faltantes con una campo en blanco\n"
   ]
  },
  {
   "cell_type": "code",
   "execution_count": null,
   "metadata": {
    "collapsed": true
   },
   "outputs": [],
   "source": []
  },
  {
   "cell_type": "code",
   "execution_count": null,
   "metadata": {
    "collapsed": true
   },
   "outputs": [],
   "source": []
  },
  {
   "cell_type": "code",
   "execution_count": null,
   "metadata": {
    "collapsed": true
   },
   "outputs": [],
   "source": []
  },
  {
   "cell_type": "markdown",
   "metadata": {},
   "source": [
    "#### 1.2 Suplementos relevantes\n",
    "\n",
    "Para mejorar la clasificación es conveniente retirar las secciones donde los dos diarios utilizan un vocabulario similar y muy específico del dominio como, por ejemplo, las relacionadas a deportes."
   ]
  },
  {
   "cell_type": "code",
   "execution_count": null,
   "metadata": {
    "collapsed": true
   },
   "outputs": [],
   "source": []
  },
  {
   "cell_type": "code",
   "execution_count": null,
   "metadata": {
    "collapsed": true
   },
   "outputs": [],
   "source": []
  },
  {
   "cell_type": "markdown",
   "metadata": {},
   "source": [
    "#### 1.3 Corpus\n",
    "\n",
    "Construir la columna sobre la cual vamos a predecir concatenando el título, resumen y cuerpo de las distintas noticias."
   ]
  },
  {
   "cell_type": "code",
   "execution_count": null,
   "metadata": {
    "collapsed": true
   },
   "outputs": [],
   "source": []
  },
  {
   "cell_type": "code",
   "execution_count": null,
   "metadata": {
    "collapsed": true
   },
   "outputs": [],
   "source": []
  },
  {
   "cell_type": "markdown",
   "metadata": {},
   "source": [
    "#### 1.4 Normalización del texto\n",
    "\n",
    "Primero es conveniente pasar todo el corpus a letras minúsculas.\n",
    "\n",
    "Para mejorar el clasificador es importante sacar todos los acentos que pueden generar diferencias artificiales entre palabras según estén o no puestos. Hint: Utilizar el módulo unidecode\n",
    "\n",
    "Una vez retirados los acentos, quitar todos los signos de puntuación para dejar únicamente palabras. Hint: utilizar una expresión regular, por ejemplo, r'([^\\s\\w]|_)+' para reemplazar todo lo que no sean palabras."
   ]
  },
  {
   "cell_type": "code",
   "execution_count": null,
   "metadata": {
    "collapsed": true
   },
   "outputs": [],
   "source": []
  },
  {
   "cell_type": "code",
   "execution_count": null,
   "metadata": {
    "collapsed": true
   },
   "outputs": [],
   "source": []
  },
  {
   "cell_type": "markdown",
   "metadata": {},
   "source": [
    "## 2. Modelo\n",
    "\n",
    "Vectorizar el corpus resultante con TF-IDF y aplicar un modelo Naive Bayes con un split simple entre train y test. \n",
    "<br />\n",
    "¿Cuál es la dimensión de la matriz de features? ¿Cuál es el accuracy obtenido? <br />\n",
    "Dibujar la matriz de confusión."
   ]
  },
  {
   "cell_type": "code",
   "execution_count": null,
   "metadata": {
    "collapsed": true
   },
   "outputs": [],
   "source": []
  },
  {
   "cell_type": "code",
   "execution_count": null,
   "metadata": {
    "collapsed": true
   },
   "outputs": [],
   "source": []
  },
  {
   "cell_type": "markdown",
   "metadata": {},
   "source": [
    "## 3. Reducción de la dimensionalidad\n",
    "\n",
    "¿Cuál es la relación entre la cantidad de features y la cantidad de casos de entrenamiento? De acuerdo a la maldición de la dimensionalidad esta relación es un problema.<br/>\n",
    "Una de las técnicas más comunes para reducir dimensiones es utilizar \"stopwords\", una lista con las palabras de cada idioma que no tienen un peso semántico importante. <br />\n",
    "Entrenen nuevamente el modelo quitando las stopwords del español que se encuentran en el archivo \"stopwords.csv\". <br />\n",
    "¿Qué pasa con la cantidad de dimensiones de la matriz de features? ¿Y con el accuracy?"
   ]
  },
  {
   "cell_type": "code",
   "execution_count": null,
   "metadata": {
    "collapsed": true
   },
   "outputs": [],
   "source": []
  },
  {
   "cell_type": "code",
   "execution_count": null,
   "metadata": {
    "collapsed": true
   },
   "outputs": [],
   "source": []
  },
  {
   "cell_type": "markdown",
   "metadata": {},
   "source": [
    "## 4. Avanzando en la reducción de dimensiones\n",
    "\n",
    "El modelo mejora cuando quitamos las stopwords pero todavía tenemos una cantidad de dimensiones demasiado alta para \n",
    "la cantidad de datos que tenemos.\n",
    "\n",
    "Pensemos lo siguiente ¿Qué valor tienen las palabras que aparecen una o dos veces en todo el corpus a la hora de discriminar? Para remover del análisis las palabras que ocurren menos de determinada cantidad de veces, la clase TfidfVectorizer tiene un parámetro min_df. \n",
    "\n",
    "Prueben setear el parámetro min_df en 6 y volver a correr el modelo.\n",
    "<br />\n",
    "<strong>\n",
    "¿A cuánto se reduce la dimensión de la matriz de features?\n",
    "<br />\n",
    "¿Cuánto mejora la performance del algoritmo?\n",
    "<strong />"
   ]
  },
  {
   "cell_type": "code",
   "execution_count": null,
   "metadata": {
    "collapsed": true
   },
   "outputs": [],
   "source": []
  }
 ],
 "metadata": {
  "kernelspec": {
   "display_name": "Python 3",
   "language": "python",
   "name": "python3"
  },
  "language_info": {
   "codemirror_mode": {
    "name": "ipython",
    "version": 3
   },
   "file_extension": ".py",
   "mimetype": "text/x-python",
   "name": "python",
   "nbconvert_exporter": "python",
   "pygments_lexer": "ipython3",
   "version": "3.6.6"
  }
 },
 "nbformat": 4,
 "nbformat_minor": 2
}
