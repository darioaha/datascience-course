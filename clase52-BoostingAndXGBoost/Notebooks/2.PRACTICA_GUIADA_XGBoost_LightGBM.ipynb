{
 "cells": [
  {
   "cell_type": "markdown",
   "metadata": {
    "colab_type": "text",
    "id": "KvPuvQ3dCfiM"
   },
   "source": [
    "Instalaciones"
   ]
  },
  {
   "cell_type": "code",
   "execution_count": 1,
   "metadata": {
    "colab": {},
    "colab_type": "code",
    "id": "cfGGupTCCfiP"
   },
   "outputs": [],
   "source": [
    "#!pip install xgboost"
   ]
  },
  {
   "cell_type": "code",
   "execution_count": 2,
   "metadata": {
    "colab": {},
    "colab_type": "code",
    "id": "5BVM7K4bCfiX"
   },
   "outputs": [],
   "source": [
    "#!pip install lightgbm"
   ]
  },
  {
   "cell_type": "code",
   "execution_count": 3,
   "metadata": {
    "colab": {},
    "colab_type": "code",
    "id": "c4BBayRFCfie"
   },
   "outputs": [],
   "source": [
    "#!conda config --add channels conda-forge\n",
    "#!conda install catboost -y"
   ]
  },
  {
   "cell_type": "code",
   "execution_count": 4,
   "metadata": {
    "colab": {},
    "colab_type": "code",
    "id": "ZXHF6THyCfil"
   },
   "outputs": [],
   "source": [
    "#!pip install scikit-plot"
   ]
  },
  {
   "cell_type": "markdown",
   "metadata": {
    "colab_type": "text",
    "id": "knzulYd1Cfir"
   },
   "source": [
    "## Prediciendo quiebra de empresas"
   ]
  },
  {
   "cell_type": "markdown",
   "metadata": {
    "colab_type": "text",
    "id": "961vNjYyCfis"
   },
   "source": [
    "En esta práctica guiada vamos a trabajar en predecir la quiebra de empresas en Polonia. La información fue obtenida del Servicio de Información de Mercados Emergentes (EMIS por sus siglas en inglés), que es una base de datos que contiene información de los mercados emergentes alrededor del mundo. Las compañías en bancarrota fueron analizadas en el período 2000-2012, mientras que las que continuan operando se evaluaron desde 2007 a 2013.\n",
    "\n",
    "En este caso sólo vamos a trabajar con el tercer año de los disponibles. Se puede consultar la página de UCI en donde se encuentra alojado <a href='https://archive.ics.uci.edu/ml/datasets/Polish+companies+bankruptcy+data'> aqui </a> \n",
    "\n",
    "El dataset empleado tiene datos de las empresas y su estatus tres años después."
   ]
  },
  {
   "cell_type": "code",
   "execution_count": 5,
   "metadata": {
    "colab": {},
    "colab_type": "code",
    "id": "be9V_LltCfiu"
   },
   "outputs": [],
   "source": [
    "import pandas as pd"
   ]
  },
  {
   "cell_type": "code",
   "execution_count": 6,
   "metadata": {
    "colab": {},
    "colab_type": "code",
    "id": "1wb2uNoLCfi1"
   },
   "outputs": [],
   "source": [
    "df = pd.read_csv(\"../Data/3year.csv\")"
   ]
  },
  {
   "cell_type": "code",
   "execution_count": 7,
   "metadata": {
    "colab": {},
    "colab_type": "code",
    "id": "Z-fgwsKVCfi6",
    "outputId": "8742bfa1-b1d4-490b-ecc2-e1781b4b53e4"
   },
   "outputs": [
    {
     "data": {
      "text/html": [
       "<div>\n",
       "<style scoped>\n",
       "    .dataframe tbody tr th:only-of-type {\n",
       "        vertical-align: middle;\n",
       "    }\n",
       "\n",
       "    .dataframe tbody tr th {\n",
       "        vertical-align: top;\n",
       "    }\n",
       "\n",
       "    .dataframe thead th {\n",
       "        text-align: right;\n",
       "    }\n",
       "</style>\n",
       "<table border=\"1\" class=\"dataframe\">\n",
       "  <thead>\n",
       "    <tr style=\"text-align: right;\">\n",
       "      <th></th>\n",
       "      <th>Unnamed: 0</th>\n",
       "      <th>Attr1</th>\n",
       "      <th>Attr2</th>\n",
       "      <th>Attr3</th>\n",
       "      <th>Attr4</th>\n",
       "      <th>Attr5</th>\n",
       "      <th>Attr6</th>\n",
       "      <th>Attr7</th>\n",
       "      <th>Attr8</th>\n",
       "      <th>Attr9</th>\n",
       "      <th>...</th>\n",
       "      <th>Attr56</th>\n",
       "      <th>Attr57</th>\n",
       "      <th>Attr58</th>\n",
       "      <th>Attr59</th>\n",
       "      <th>Attr60</th>\n",
       "      <th>Attr61</th>\n",
       "      <th>Attr62</th>\n",
       "      <th>Attr63</th>\n",
       "      <th>Attr64</th>\n",
       "      <th>class</th>\n",
       "    </tr>\n",
       "  </thead>\n",
       "  <tbody>\n",
       "    <tr>\n",
       "      <th>0</th>\n",
       "      <td>0</td>\n",
       "      <td>0.174190</td>\n",
       "      <td>0.41299</td>\n",
       "      <td>0.14371</td>\n",
       "      <td>1.3480</td>\n",
       "      <td>-28.9820</td>\n",
       "      <td>0.60383</td>\n",
       "      <td>0.219460</td>\n",
       "      <td>1.1225</td>\n",
       "      <td>1.1961</td>\n",
       "      <td>...</td>\n",
       "      <td>0.163960</td>\n",
       "      <td>0.375740</td>\n",
       "      <td>0.83604</td>\n",
       "      <td>0.000007</td>\n",
       "      <td>9.7145</td>\n",
       "      <td>6.2813</td>\n",
       "      <td>84.291</td>\n",
       "      <td>4.3303</td>\n",
       "      <td>4.0341</td>\n",
       "      <td>b'0'</td>\n",
       "    </tr>\n",
       "    <tr>\n",
       "      <th>1</th>\n",
       "      <td>1</td>\n",
       "      <td>0.146240</td>\n",
       "      <td>0.46038</td>\n",
       "      <td>0.28230</td>\n",
       "      <td>1.6294</td>\n",
       "      <td>2.5952</td>\n",
       "      <td>0.00000</td>\n",
       "      <td>0.171850</td>\n",
       "      <td>1.1721</td>\n",
       "      <td>1.6018</td>\n",
       "      <td>...</td>\n",
       "      <td>0.027516</td>\n",
       "      <td>0.271000</td>\n",
       "      <td>0.90108</td>\n",
       "      <td>0.000000</td>\n",
       "      <td>5.9882</td>\n",
       "      <td>4.1103</td>\n",
       "      <td>102.190</td>\n",
       "      <td>3.5716</td>\n",
       "      <td>5.9500</td>\n",
       "      <td>b'0'</td>\n",
       "    </tr>\n",
       "    <tr>\n",
       "      <th>2</th>\n",
       "      <td>2</td>\n",
       "      <td>0.000595</td>\n",
       "      <td>0.22612</td>\n",
       "      <td>0.48839</td>\n",
       "      <td>3.1599</td>\n",
       "      <td>84.8740</td>\n",
       "      <td>0.19114</td>\n",
       "      <td>0.004572</td>\n",
       "      <td>2.9881</td>\n",
       "      <td>1.0077</td>\n",
       "      <td>...</td>\n",
       "      <td>0.007639</td>\n",
       "      <td>0.000881</td>\n",
       "      <td>0.99236</td>\n",
       "      <td>0.000000</td>\n",
       "      <td>6.7742</td>\n",
       "      <td>3.7922</td>\n",
       "      <td>64.846</td>\n",
       "      <td>5.6287</td>\n",
       "      <td>4.4581</td>\n",
       "      <td>b'0'</td>\n",
       "    </tr>\n",
       "    <tr>\n",
       "      <th>3</th>\n",
       "      <td>3</td>\n",
       "      <td>0.024526</td>\n",
       "      <td>0.43236</td>\n",
       "      <td>0.27546</td>\n",
       "      <td>1.7833</td>\n",
       "      <td>-10.1050</td>\n",
       "      <td>0.56944</td>\n",
       "      <td>0.024526</td>\n",
       "      <td>1.3057</td>\n",
       "      <td>1.0509</td>\n",
       "      <td>...</td>\n",
       "      <td>0.048398</td>\n",
       "      <td>0.043445</td>\n",
       "      <td>0.95160</td>\n",
       "      <td>0.142980</td>\n",
       "      <td>4.2286</td>\n",
       "      <td>5.0528</td>\n",
       "      <td>98.783</td>\n",
       "      <td>3.6950</td>\n",
       "      <td>3.4844</td>\n",
       "      <td>b'0'</td>\n",
       "    </tr>\n",
       "    <tr>\n",
       "      <th>4</th>\n",
       "      <td>4</td>\n",
       "      <td>0.188290</td>\n",
       "      <td>0.41504</td>\n",
       "      <td>0.34231</td>\n",
       "      <td>1.9279</td>\n",
       "      <td>-58.2740</td>\n",
       "      <td>0.00000</td>\n",
       "      <td>0.233580</td>\n",
       "      <td>1.4094</td>\n",
       "      <td>1.3393</td>\n",
       "      <td>...</td>\n",
       "      <td>0.176480</td>\n",
       "      <td>0.321880</td>\n",
       "      <td>0.82635</td>\n",
       "      <td>0.073039</td>\n",
       "      <td>2.5912</td>\n",
       "      <td>7.0756</td>\n",
       "      <td>100.540</td>\n",
       "      <td>3.6303</td>\n",
       "      <td>4.6375</td>\n",
       "      <td>b'0'</td>\n",
       "    </tr>\n",
       "  </tbody>\n",
       "</table>\n",
       "<p>5 rows × 66 columns</p>\n",
       "</div>"
      ],
      "text/plain": [
       "   Unnamed: 0     Attr1    Attr2    Attr3   Attr4    Attr5    Attr6     Attr7  \\\n",
       "0           0  0.174190  0.41299  0.14371  1.3480 -28.9820  0.60383  0.219460   \n",
       "1           1  0.146240  0.46038  0.28230  1.6294   2.5952  0.00000  0.171850   \n",
       "2           2  0.000595  0.22612  0.48839  3.1599  84.8740  0.19114  0.004572   \n",
       "3           3  0.024526  0.43236  0.27546  1.7833 -10.1050  0.56944  0.024526   \n",
       "4           4  0.188290  0.41504  0.34231  1.9279 -58.2740  0.00000  0.233580   \n",
       "\n",
       "    Attr8   Attr9  ...      Attr56    Attr57   Attr58    Attr59  Attr60  \\\n",
       "0  1.1225  1.1961  ...    0.163960  0.375740  0.83604  0.000007  9.7145   \n",
       "1  1.1721  1.6018  ...    0.027516  0.271000  0.90108  0.000000  5.9882   \n",
       "2  2.9881  1.0077  ...    0.007639  0.000881  0.99236  0.000000  6.7742   \n",
       "3  1.3057  1.0509  ...    0.048398  0.043445  0.95160  0.142980  4.2286   \n",
       "4  1.4094  1.3393  ...    0.176480  0.321880  0.82635  0.073039  2.5912   \n",
       "\n",
       "   Attr61   Attr62  Attr63  Attr64  class  \n",
       "0  6.2813   84.291  4.3303  4.0341   b'0'  \n",
       "1  4.1103  102.190  3.5716  5.9500   b'0'  \n",
       "2  3.7922   64.846  5.6287  4.4581   b'0'  \n",
       "3  5.0528   98.783  3.6950  3.4844   b'0'  \n",
       "4  7.0756  100.540  3.6303  4.6375   b'0'  \n",
       "\n",
       "[5 rows x 66 columns]"
      ]
     },
     "execution_count": 7,
     "metadata": {},
     "output_type": "execute_result"
    }
   ],
   "source": [
    "df.head()"
   ]
  },
  {
   "cell_type": "code",
   "execution_count": 8,
   "metadata": {
    "colab": {},
    "colab_type": "code",
    "id": "DHpJ70GaCfjG"
   },
   "outputs": [],
   "source": [
    "df = df.drop(\"Unnamed: 0\", axis = 1)"
   ]
  },
  {
   "cell_type": "markdown",
   "metadata": {
    "colab_type": "text",
    "id": "6uEKVm-QCfjM"
   },
   "source": [
    "Acá hay una descripción de los atributos\n",
    "\n",
    "X1 net profit / total assets\n",
    "\n",
    "X2 total liabilities / total assets\n",
    "\n",
    "X3 working capital / total assets\n",
    "\n",
    "X4 current assets / short-term liabilities\n",
    "\n",
    "X5 [(cash + short-term securities + receivables - short-term liabilities) / (operating expenses - depreciation)] * 365\n",
    "\n",
    "X6 retained earnings / total assets\n",
    "\n",
    "X7 EBIT / total assets\n",
    "\n",
    "X8 book value of equity / total liabilities\n",
    "\n",
    "X9 sales / total assets\n",
    "\n",
    "X10 equity / total assets\n",
    "\n",
    "X11 (gross profit + extraordinary items + financial expenses) / total assets\n",
    "\n",
    "X12 gross profit / short-term liabilities\n",
    "\n",
    "X13 (gross profit + depreciation) / sales\n",
    "\n",
    "X14 (gross profit + interest) / total assets\n",
    "\n",
    "X15 (total liabilities * 365) / (gross profit + depreciation)\n",
    "\n",
    "X16 (gross profit + depreciation) / total liabilities\n",
    "\n",
    "X17 total assets / total liabilities\n",
    "\n",
    "X18 gross profit / total assets\n",
    "\n",
    "X19 gross profit / sales\n",
    "\n",
    "X20 (inventory * 365) / sales\n",
    "\n",
    "X21 sales (n) / sales (n-1)\n",
    "\n",
    "X22 profit on operating activities / total assets\n",
    "\n",
    "X23 net profit / sales\n",
    "\n",
    "X24 gross profit (in 3 years) / total assets\n",
    "\n",
    "X25 (equity - share capital) / total assets\n",
    "\n",
    "X26 (net profit + depreciation) / total liabilities\n",
    "\n",
    "X27 profit on operating activities / financial expenses\n",
    "\n",
    "X28 working capital / fixed assets\n",
    "\n",
    "X29 logarithm of total assets\n",
    "\n",
    "X30 (total liabilities - cash) / sales\n",
    "\n",
    "X31 (gross profit + interest) / sales\n",
    "\n",
    "X32 (current liabilities * 365) / cost of products sold\n",
    "\n",
    "X33 operating expenses / short-term liabilities\n",
    "\n",
    "X34 operating expenses / total liabilities\n",
    "\n",
    "X35 profit on sales / total assets\n",
    "\n",
    "X36 total sales / total assets\n",
    "\n",
    "X37 (current assets - inventories) / long-term liabilities\n",
    "\n",
    "X38 constant capital / total assets\n",
    "\n",
    "X39 profit on sales / sales\n",
    "\n",
    "X40 (current assets - inventory - receivables) / short-term liabilities\n",
    "\n",
    "X41 total liabilities / ((profit on operating activities + depreciation) * (12/365))\n",
    "\n",
    "X42 profit on operating activities / sales\n",
    "\n",
    "X43 rotation receivables + inventory turnover in days\n",
    "\n",
    "X44 (receivables * 365) / sales\n",
    "\n",
    "X45 net profit / inventory\n",
    "\n",
    "X46 (current assets - inventory) / short-term liabilities\n",
    "\n",
    "X47 (inventory * 365) / cost of products sold\n",
    "\n",
    "X48 EBITDA (profit on operating activities - depreciation) / total assets\n",
    "\n",
    "X49 EBITDA (profit on operating activities - depreciation) / sales\n",
    "\n",
    "X50 current assets / total liabilities\n",
    "\n",
    "X51 short-term liabilities / total assets\n",
    "\n",
    "X52 (short-term liabilities * 365) / cost of products sold)\n",
    "\n",
    "X53 equity / fixed assets\n",
    "\n",
    "X54 constant capital / fixed assets\n",
    "\n",
    "X55 working capital\n",
    "\n",
    "X56 (sales - cost of products sold) / sales\n",
    "\n",
    "X57 (current assets - inventory - short-term liabilities) / (sales - gross profit - depreciation)\n",
    "\n",
    "X58 total costs /total sales\n",
    "\n",
    "X59 long-term liabilities / equity\n",
    "\n",
    "X60 sales / inventory\n",
    "\n",
    "X61 sales / receivables\n",
    "\n",
    "X62 (short-term liabilities *365) / sales\n",
    "\n",
    "X63 sales / short-term liabilities\n",
    "\n",
    "X64 sales / fixed assets"
   ]
  },
  {
   "cell_type": "markdown",
   "metadata": {
    "colab_type": "text",
    "id": "CX2gyjuRCfjO"
   },
   "source": [
    "Transforme la clase en 0 y 1, para ello puede emplear LabelEncoder"
   ]
  },
  {
   "cell_type": "code",
   "execution_count": 9,
   "metadata": {
    "colab": {},
    "colab_type": "code",
    "id": "vlYFzjkxCfjQ"
   },
   "outputs": [],
   "source": [
    "y = df[\"class\"]\n",
    "X = df.drop(\"class\", axis = 1)"
   ]
  },
  {
   "cell_type": "code",
   "execution_count": 10,
   "metadata": {
    "colab": {},
    "colab_type": "code",
    "id": "HNxJ_6nICfjW",
    "outputId": "b7d71128-af01-41c5-a9b2-ff2f9048396c"
   },
   "outputs": [
    {
     "name": "stdout",
     "output_type": "stream",
     "text": [
      "el dataset tiene  10503  filas y  64  columnas\n"
     ]
    }
   ],
   "source": [
    "print(\"el dataset tiene \", X.shape[0], \" filas y \", X.shape[1], \" columnas\")"
   ]
  },
  {
   "cell_type": "code",
   "execution_count": 11,
   "metadata": {
    "colab": {},
    "colab_type": "code",
    "id": "kCvTLZwfCfjh"
   },
   "outputs": [],
   "source": [
    "from sklearn.preprocessing import LabelEncoder"
   ]
  },
  {
   "cell_type": "markdown",
   "metadata": {
    "colab_type": "text",
    "id": "4X_5GBCxCfjt"
   },
   "source": [
    "Usamos LabelEncoder para transformar la clase en un array de 0 y 1"
   ]
  },
  {
   "cell_type": "code",
   "execution_count": 12,
   "metadata": {
    "colab": {},
    "colab_type": "code",
    "id": "QjEdpqdHCfjz"
   },
   "outputs": [],
   "source": [
    "encoder = LabelEncoder()"
   ]
  },
  {
   "cell_type": "code",
   "execution_count": 13,
   "metadata": {
    "colab": {},
    "colab_type": "code",
    "id": "ZNBpDYuKCfj7",
    "outputId": "8a237e60-f330-49c7-d8ff-47249d350e17"
   },
   "outputs": [
    {
     "data": {
      "text/plain": [
       "0    b'0'\n",
       "1    b'0'\n",
       "2    b'0'\n",
       "3    b'0'\n",
       "4    b'0'\n",
       "Name: class, dtype: object"
      ]
     },
     "execution_count": 13,
     "metadata": {},
     "output_type": "execute_result"
    }
   ],
   "source": [
    "y.head()"
   ]
  },
  {
   "cell_type": "code",
   "execution_count": 14,
   "metadata": {
    "colab": {},
    "colab_type": "code",
    "id": "W_OGGsYeCfkJ"
   },
   "outputs": [],
   "source": [
    "y = encoder.fit_transform(y)"
   ]
  },
  {
   "cell_type": "code",
   "execution_count": 15,
   "metadata": {
    "colab": {},
    "colab_type": "code",
    "id": "huMAVxxmCfkT",
    "outputId": "4b3f73b9-86c4-4053-f80d-995ab06a89e6"
   },
   "outputs": [
    {
     "data": {
      "text/plain": [
       "array([0, 0, 0, ..., 1, 1, 1])"
      ]
     },
     "execution_count": 15,
     "metadata": {},
     "output_type": "execute_result"
    }
   ],
   "source": [
    "y"
   ]
  },
  {
   "cell_type": "markdown",
   "metadata": {
    "colab_type": "text",
    "id": "2WF1dvg8Cfkb"
   },
   "source": [
    "Hagamos un split en train y test."
   ]
  },
  {
   "cell_type": "code",
   "execution_count": 16,
   "metadata": {
    "colab": {},
    "colab_type": "code",
    "id": "1NbebhB0Cfkd"
   },
   "outputs": [],
   "source": [
    "from sklearn.model_selection import train_test_split"
   ]
  },
  {
   "cell_type": "markdown",
   "metadata": {
    "colab_type": "text",
    "id": "-qJQ0hoJCfkl"
   },
   "source": [
    "Con la información de train vamos a realizar la búsqueda de hiperparámetros y ajustar el mejor modelo."
   ]
  },
  {
   "cell_type": "code",
   "execution_count": 17,
   "metadata": {
    "colab": {},
    "colab_type": "code",
    "id": "14_X-cEfCfkn"
   },
   "outputs": [],
   "source": [
    "X_train, X_test, y_train, y_test = train_test_split(X,y)"
   ]
  },
  {
   "cell_type": "markdown",
   "metadata": {
    "colab_type": "text",
    "id": "p7-E7RT9Cfkt"
   },
   "source": [
    "## Knn - Benchmark"
   ]
  },
  {
   "cell_type": "markdown",
   "metadata": {
    "colab_type": "text",
    "id": "jc2LJlKvCfkx"
   },
   "source": [
    "Comencemos probando Knn, que será nuestro benchmark"
   ]
  },
  {
   "cell_type": "code",
   "execution_count": 18,
   "metadata": {
    "colab": {},
    "colab_type": "code",
    "id": "sz5h3tJHCfkz"
   },
   "outputs": [],
   "source": [
    "from sklearn.neighbors import KNeighborsClassifier\n",
    "from sklearn.model_selection import RandomizedSearchCV, GridSearchCV\n",
    "import time\n",
    "import numpy as np\n",
    "from scikitplot.metrics import plot_roc\n",
    "from sklearn.metrics import roc_auc_score\n",
    "from sklearn.preprocessing import StandardScaler"
   ]
  },
  {
   "cell_type": "code",
   "execution_count": 19,
   "metadata": {
    "colab": {},
    "colab_type": "code",
    "id": "8t7ByXWbCfk5"
   },
   "outputs": [],
   "source": [
    "model_knn = KNeighborsClassifier()"
   ]
  },
  {
   "cell_type": "code",
   "execution_count": 20,
   "metadata": {
    "colab": {},
    "colab_type": "code",
    "id": "tKFNI_pnCfk-"
   },
   "outputs": [],
   "source": [
    "params = {\"n_neighbors\":list(range(3,8))}"
   ]
  },
  {
   "cell_type": "code",
   "execution_count": 21,
   "metadata": {
    "colab": {},
    "colab_type": "code",
    "id": "u0PAYRaxCflD"
   },
   "outputs": [],
   "source": [
    "knn = GridSearchCV(model_knn, params, verbose= True)"
   ]
  },
  {
   "cell_type": "markdown",
   "metadata": {
    "colab_type": "text",
    "id": "89kALPaFCflI"
   },
   "source": [
    "Imputamos los NA con 0"
   ]
  },
  {
   "cell_type": "code",
   "execution_count": 22,
   "metadata": {
    "colab": {},
    "colab_type": "code",
    "id": "-CKnogyJCflJ"
   },
   "outputs": [],
   "source": [
    "X_train_na = X_train.fillna(0)\n",
    "X_test_na = X_test.fillna(0)"
   ]
  },
  {
   "cell_type": "code",
   "execution_count": 23,
   "metadata": {
    "colab": {},
    "colab_type": "code",
    "id": "rfnj6TSJCflR"
   },
   "outputs": [],
   "source": [
    "stds = StandardScaler()"
   ]
  },
  {
   "cell_type": "code",
   "execution_count": 24,
   "metadata": {
    "colab": {},
    "colab_type": "code",
    "id": "fCOp3pyiCflZ"
   },
   "outputs": [],
   "source": [
    "X_train_knn = stds.fit_transform(X_train_na)"
   ]
  },
  {
   "cell_type": "code",
   "execution_count": 25,
   "metadata": {
    "colab": {},
    "colab_type": "code",
    "id": "N1If7LgOCflj"
   },
   "outputs": [],
   "source": [
    "X_test_knn = stds.transform(X_test_na)"
   ]
  },
  {
   "cell_type": "code",
   "execution_count": 26,
   "metadata": {
    "colab": {},
    "colab_type": "code",
    "id": "5sGs5Ou2Cflr",
    "outputId": "246b620b-5146-4a2f-b66a-13881886d0ed"
   },
   "outputs": [
    {
     "name": "stderr",
     "output_type": "stream",
     "text": [
      "C:\\Users\\mbeati\\AppData\\Local\\Continuum\\anaconda3\\envs\\dsdh2\\lib\\site-packages\\sklearn\\model_selection\\_split.py:1978: FutureWarning: The default value of cv will change from 3 to 5 in version 0.22. Specify it explicitly to silence this warning.\n",
      "  warnings.warn(CV_WARNING, FutureWarning)\n",
      "[Parallel(n_jobs=1)]: Using backend SequentialBackend with 1 concurrent workers.\n"
     ]
    },
    {
     "name": "stdout",
     "output_type": "stream",
     "text": [
      "Fitting 3 folds for each of 5 candidates, totalling 15 fits\n",
      "La búsqueda con knn llevó:  21.761000633239746  segundos\n"
     ]
    },
    {
     "name": "stderr",
     "output_type": "stream",
     "text": [
      "[Parallel(n_jobs=1)]: Done  15 out of  15 | elapsed:   21.6s finished\n"
     ]
    }
   ],
   "source": [
    "start = time.time()\n",
    "knn.fit(X_train_knn, y_train)\n",
    "end = time.time()\n",
    "print(\"La búsqueda con knn llevó: \", end - start, \" segundos\")"
   ]
  },
  {
   "cell_type": "code",
   "execution_count": 27,
   "metadata": {
    "colab": {},
    "colab_type": "code",
    "id": "iMuFY9VLCfl5",
    "outputId": "b4d5177f-2a8b-4867-9ed5-7974478dc86b"
   },
   "outputs": [
    {
     "data": {
      "text/plain": [
       "KNeighborsClassifier(algorithm='auto', leaf_size=30, metric='minkowski',\n",
       "                     metric_params=None, n_jobs=None, n_neighbors=6, p=2,\n",
       "                     weights='uniform')"
      ]
     },
     "execution_count": 27,
     "metadata": {},
     "output_type": "execute_result"
    }
   ],
   "source": [
    "knn.best_estimator_"
   ]
  },
  {
   "cell_type": "code",
   "execution_count": 28,
   "metadata": {
    "colab": {},
    "colab_type": "code",
    "id": "RF1HPlhrCfmF",
    "outputId": "aaaa04fa-88af-4ce2-bb5f-b3d3e9a14668"
   },
   "outputs": [
    {
     "name": "stdout",
     "output_type": "stream",
     "text": [
      "El valor del AUC es:  0.606661285890919\n"
     ]
    }
   ],
   "source": [
    "y_predicted_knn = knn.predict_proba(X_test_knn)\n",
    "knn_auc = roc_auc_score(y_test, y_predicted_knn[:,1])\n",
    "print(\"El valor del AUC es: \", knn_auc)"
   ]
  },
  {
   "cell_type": "code",
   "execution_count": 29,
   "metadata": {
    "colab": {},
    "colab_type": "code",
    "id": "NTKaGpEvCfmW",
    "outputId": "dc5bb102-157b-4830-b057-38326bcd25d1"
   },
   "outputs": [
    {
     "data": {
      "image/png": "[encoded data removed]",
      "text/plain": [
       "<Figure size 432x288 with 1 Axes>"
      ]
     },
     "metadata": {
      "needs_background": "light"
     },
     "output_type": "display_data"
    }
   ],
   "source": [
    "%matplotlib inline\n",
    "plot_roc(y_test,y_predicted_knn, plot_micro = False, plot_macro= False);"
   ]
  },
  {
   "cell_type": "markdown",
   "metadata": {
    "colab_type": "text",
    "id": "I8oc4fO-Cfmm"
   },
   "source": [
    "## Random Forest"
   ]
  },
  {
   "cell_type": "code",
   "execution_count": 30,
   "metadata": {
    "colab": {},
    "colab_type": "code",
    "id": "6jGbrwx2Cfmo"
   },
   "outputs": [],
   "source": [
    "from sklearn.ensemble import RandomForestClassifier"
   ]
  },
  {
   "cell_type": "code",
   "execution_count": 31,
   "metadata": {
    "colab": {},
    "colab_type": "code",
    "id": "Ie7q1G05Cfmv"
   },
   "outputs": [],
   "source": [
    "model_rf = RandomForestClassifier()"
   ]
  },
  {
   "cell_type": "code",
   "execution_count": 32,
   "metadata": {
    "colab": {},
    "colab_type": "code",
    "id": "7AgkozMgCfm9"
   },
   "outputs": [],
   "source": [
    "import scipy.stats as st"
   ]
  },
  {
   "cell_type": "markdown",
   "metadata": {
    "colab_type": "text",
    "id": "8TasF9wBCfnD"
   },
   "source": [
    "A RandomizedSearchCV los hiperparámetros se los podemos pasar como una lista o también como una distribución de scipy."
   ]
  },
  {
   "cell_type": "code",
   "execution_count": 33,
   "metadata": {
    "colab": {},
    "colab_type": "code",
    "id": "A7gNEjPmCfnF"
   },
   "outputs": [],
   "source": [
    "params = {  \n",
    "    \"n_estimators\": st.randint(20,40), # Number of boosted trees to fit.\n",
    "    \"max_depth\": st.randint(3, 12)     # Maximum tree depth for base learners.\n",
    "}"
   ]
  },
  {
   "cell_type": "code",
   "execution_count": 34,
   "metadata": {
    "colab": {},
    "colab_type": "code",
    "id": "Hc3llpieCfnK"
   },
   "outputs": [],
   "source": [
    "rf = RandomizedSearchCV(model_rf,params, n_iter=25, verbose= True)"
   ]
  },
  {
   "cell_type": "code",
   "execution_count": 35,
   "metadata": {
    "colab": {},
    "colab_type": "code",
    "id": "Y1qHyv0bCfnP",
    "outputId": "8f5bcc72-2230-45dc-a011-970b97b8d91d"
   },
   "outputs": [
    {
     "name": "stderr",
     "output_type": "stream",
     "text": [
      "C:\\Users\\mbeati\\AppData\\Local\\Continuum\\anaconda3\\envs\\dsdh2\\lib\\site-packages\\sklearn\\model_selection\\_split.py:1978: FutureWarning: The default value of cv will change from 3 to 5 in version 0.22. Specify it explicitly to silence this warning.\n",
      "  warnings.warn(CV_WARNING, FutureWarning)\n",
      "[Parallel(n_jobs=1)]: Using backend SequentialBackend with 1 concurrent workers.\n"
     ]
    },
    {
     "name": "stdout",
     "output_type": "stream",
     "text": [
      "Fitting 3 folds for each of 25 candidates, totalling 75 fits\n"
     ]
    },
    {
     "name": "stderr",
     "output_type": "stream",
     "text": [
      "[Parallel(n_jobs=1)]: Done  75 out of  75 | elapsed:   38.1s finished\n"
     ]
    },
    {
     "name": "stdout",
     "output_type": "stream",
     "text": [
      "La búsqueda con Random Forest llevó:  39.42599821090698  segundos\n"
     ]
    }
   ],
   "source": [
    "start = time.time()\n",
    "rf.fit(X_train_na,y_train)\n",
    "end = time.time()\n",
    "print(\"La búsqueda con Random Forest llevó: \", end - start, \" segundos\")"
   ]
  },
  {
   "cell_type": "code",
   "execution_count": 36,
   "metadata": {},
   "outputs": [
    {
     "data": {
      "text/plain": [
       "RandomForestClassifier(bootstrap=True, class_weight=None, criterion='gini',\n",
       "                       max_depth=7, max_features='auto', max_leaf_nodes=None,\n",
       "                       min_impurity_decrease=0.0, min_impurity_split=None,\n",
       "                       min_samples_leaf=1, min_samples_split=2,\n",
       "                       min_weight_fraction_leaf=0.0, n_estimators=37,\n",
       "                       n_jobs=None, oob_score=False, random_state=None,\n",
       "                       verbose=0, warm_start=False)"
      ]
     },
     "execution_count": 36,
     "metadata": {},
     "output_type": "execute_result"
    }
   ],
   "source": [
    "rf.best_estimator_"
   ]
  },
  {
   "cell_type": "code",
   "execution_count": 37,
   "metadata": {
    "colab": {},
    "colab_type": "code",
    "id": "4cV7_FwtCfnU"
   },
   "outputs": [],
   "source": [
    "y_predicted_rf = rf.predict_proba(X_test_na)"
   ]
  },
  {
   "cell_type": "code",
   "execution_count": 38,
   "metadata": {
    "colab": {},
    "colab_type": "code",
    "id": "JE2mzUH6Cfna",
    "outputId": "f6512b79-5cee-4092-f83c-6ae5313633bf"
   },
   "outputs": [
    {
     "name": "stdout",
     "output_type": "stream",
     "text": [
      "El valor del AUC es:  0.8656443192746256\n"
     ]
    }
   ],
   "source": [
    "rf_auc = roc_auc_score(y_test,y_predicted_rf[:,1])\n",
    "print(\"El valor del AUC es: \", rf_auc)"
   ]
  },
  {
   "cell_type": "code",
   "execution_count": 39,
   "metadata": {},
   "outputs": [
    {
     "data": {
      "image/png": "[encoded data removed]",
      "text/plain": [
       "<Figure size 432x288 with 1 Axes>"
      ]
     },
     "metadata": {
      "needs_background": "light"
     },
     "output_type": "display_data"
    }
   ],
   "source": [
    "%matplotlib inline\n",
    "plot_roc(y_test,y_predicted_rf, plot_micro = False, plot_macro= False);"
   ]
  },
  {
   "cell_type": "markdown",
   "metadata": {
    "colab_type": "text",
    "id": "xrkS4Qa6Cfng"
   },
   "source": [
    "## Xgboost"
   ]
  },
  {
   "cell_type": "markdown",
   "metadata": {
    "colab_type": "text",
    "id": "4rYpczAKCfnj"
   },
   "source": [
    "Vamos a importar el clasificador XGBoost del módulo xgboost.sklearn que nos provee clases y métodos aceptados por la API de sklearn. La clase que contiene este clasificador se llama XGBClassifier"
   ]
  },
  {
   "cell_type": "code",
   "execution_count": 40,
   "metadata": {
    "colab": {},
    "colab_type": "code",
    "id": "Gmhx9Sy1Cfnk"
   },
   "outputs": [],
   "source": [
    "from xgboost.sklearn import XGBClassifier"
   ]
  },
  {
   "cell_type": "code",
   "execution_count": 41,
   "metadata": {
    "colab": {},
    "colab_type": "code",
    "id": "WFViwA_CCfnp"
   },
   "outputs": [],
   "source": [
    "model_xg = XGBClassifier(n_jobs=-1)"
   ]
  },
  {
   "cell_type": "markdown",
   "metadata": {
    "colab_type": "text",
    "id": "R6tDIBUkCfnt"
   },
   "source": [
    "Podemos partir del siguiente conjunto de hiperparámetros, que serán empleados también luego."
   ]
  },
  {
   "cell_type": "code",
   "execution_count": 42,
   "metadata": {
    "colab": {},
    "colab_type": "code",
    "id": "c3DDm2EwCfnu"
   },
   "outputs": [],
   "source": [
    "one_to_left = st.beta(10, 1) # Esta distribución nos dará valores entre 0 y 1 mayormente cercanos a 1"
   ]
  },
  {
   "cell_type": "code",
   "execution_count": 43,
   "metadata": {
    "colab": {},
    "colab_type": "code",
    "id": "cBQxwRbgCfny"
   },
   "outputs": [],
   "source": [
    "params = {  \n",
    "    \"n_estimators\": st.randint(20,40), # Number of boosted trees to fit.\n",
    "    \"max_depth\": st.randint(3, 12),     # Maximum tree depth for base learners.\n",
    "    \"learning_rate\": st.uniform(0.05, 0.4), #     Boosting learning rate (xgb’s “eta”)\n",
    "    \"colsample_bytree\": one_to_left, #     Subsample ratio of columns when constructing each tree.\n",
    "    \"subsample\": one_to_left,     # Subsample ratio of the training instance.\n",
    "    \"gamma\": st.uniform(0, 10), #     Minimum loss reduction required to make a further partition on a leaf node of the tree.\n",
    "    'reg_alpha': st.uniform(0.05,10),   # L1 regularization term on weights\n",
    "    \"min_child_weight\": st.uniform(1,20), #    Minimum sum of instance weight(hessian) needed in a child.\n",
    "}"
   ]
  },
  {
   "cell_type": "markdown",
   "metadata": {
    "colab_type": "text",
    "id": "YhuMPgwECfn3"
   },
   "source": [
    "Se puede consultar los parámetros <a = \"http://xgboost.readthedocs.io/en/latest/python/python_api.html\"> aquí </a> y <a = \"https://github.com/dmlc/xgboost/blob/master/doc/parameter.md\"> aquí </a>"
   ]
  },
  {
   "cell_type": "markdown",
   "metadata": {
    "colab_type": "text",
    "id": "o7uhuZDACfn4"
   },
   "source": [
    "Realizamos la búsqueda de hiperparámetrosRandomiezSearchCV con 25 iteraciones"
   ]
  },
  {
   "cell_type": "code",
   "execution_count": 44,
   "metadata": {
    "colab": {},
    "colab_type": "code",
    "id": "Oh4zsIulCfn6"
   },
   "outputs": [],
   "source": [
    "xgb = RandomizedSearchCV(model_xg,params, n_iter=25, verbose= True)"
   ]
  },
  {
   "cell_type": "markdown",
   "metadata": {
    "colab_type": "text",
    "id": "nR7UbFK-Cfn9"
   },
   "source": [
    "Busco el mejor set de hiperparámetros y calculamos el tiempo"
   ]
  },
  {
   "cell_type": "markdown",
   "metadata": {
    "colab_type": "text",
    "id": "AKgKeJf9maF8"
   },
   "source": [
    "¿Es necesario normalizar los features antes de aplicar XGBoost?"
   ]
  },
  {
   "cell_type": "code",
   "execution_count": 45,
   "metadata": {
    "colab": {},
    "colab_type": "code",
    "id": "IevW3viRCfn-",
    "outputId": "d1b30fc4-d0d6-4f87-fe2f-94ae5c424d28"
   },
   "outputs": [
    {
     "name": "stderr",
     "output_type": "stream",
     "text": [
      "C:\\Users\\mbeati\\AppData\\Local\\Continuum\\anaconda3\\envs\\dsdh2\\lib\\site-packages\\sklearn\\model_selection\\_split.py:1978: FutureWarning: The default value of cv will change from 3 to 5 in version 0.22. Specify it explicitly to silence this warning.\n",
      "  warnings.warn(CV_WARNING, FutureWarning)\n",
      "[Parallel(n_jobs=1)]: Using backend SequentialBackend with 1 concurrent workers.\n"
     ]
    },
    {
     "name": "stdout",
     "output_type": "stream",
     "text": [
      "Fitting 3 folds for each of 25 candidates, totalling 75 fits\n"
     ]
    },
    {
     "name": "stderr",
     "output_type": "stream",
     "text": [
      "[Parallel(n_jobs=1)]: Done  75 out of  75 | elapsed:   48.3s finished\n"
     ]
    },
    {
     "name": "stdout",
     "output_type": "stream",
     "text": [
      "La búsqueda con XGBoost llevó:  49.495996952056885  segundos\n"
     ]
    }
   ],
   "source": [
    "start = time.time()\n",
    "xgb.fit(X_train,y_train)\n",
    "end = time.time()\n",
    "print(\"La búsqueda con XGBoost llevó: \", end - start, \" segundos\")"
   ]
  },
  {
   "cell_type": "code",
   "execution_count": 46,
   "metadata": {
    "colab": {},
    "colab_type": "code",
    "id": "TWN_SYVkCfoM"
   },
   "outputs": [],
   "source": [
    "y_predicted_xgb = xgb.predict_proba(X_test)"
   ]
  },
  {
   "cell_type": "code",
   "execution_count": 47,
   "metadata": {
    "colab": {},
    "colab_type": "code",
    "id": "CoC30kJgCfoW",
    "outputId": "32a88e44-2471-4b9a-96f7-8294535dd7dc"
   },
   "outputs": [
    {
     "data": {
      "text/plain": [
       "(2626,)"
      ]
     },
     "execution_count": 47,
     "metadata": {},
     "output_type": "execute_result"
    }
   ],
   "source": [
    "y_predicted_xgb[:,0].shape"
   ]
  },
  {
   "cell_type": "code",
   "execution_count": 48,
   "metadata": {
    "colab": {},
    "colab_type": "code",
    "id": "iSPh4BliCfob",
    "outputId": "bbcae194-4930-4247-85de-2a8dfa40e9b1"
   },
   "outputs": [
    {
     "name": "stdout",
     "output_type": "stream",
     "text": [
      "El valor del AUC es:  0.9098244951229566\n"
     ]
    }
   ],
   "source": [
    "xgb_auc = roc_auc_score(y_test,y_predicted_xgb[:,1])\n",
    "print(\"El valor del AUC es: \", xgb_auc)"
   ]
  },
  {
   "cell_type": "markdown",
   "metadata": {
    "colab_type": "text",
    "id": "9ccsI2ZnCfog"
   },
   "source": [
    "Graficamos la curva ROC por clase"
   ]
  },
  {
   "cell_type": "code",
   "execution_count": 49,
   "metadata": {
    "colab": {},
    "colab_type": "code",
    "id": "ttPIpN_iCfoj",
    "outputId": "bddf28c8-dc31-4df9-a2e2-4b79c73ae726"
   },
   "outputs": [
    {
     "data": {
      "image/png": "[encoded data removed]",
      "text/plain": [
       "<Figure size 432x288 with 1 Axes>"
      ]
     },
     "metadata": {
      "needs_background": "light"
     },
     "output_type": "display_data"
    }
   ],
   "source": [
    "plot_roc(y_test,y_predicted_xgb, plot_micro = False, plot_macro= False);"
   ]
  },
  {
   "cell_type": "code",
   "execution_count": 50,
   "metadata": {
    "colab": {},
    "colab_type": "code",
    "id": "ZIV1v9ukCfor",
    "outputId": "d3530218-f0ce-46b4-8924-8a07665718d9"
   },
   "outputs": [
    {
     "data": {
      "image/png": "[encoded data removed]",
      "text/plain": [
       "<Figure size 432x288 with 1 Axes>"
      ]
     },
     "metadata": {
      "needs_background": "light"
     },
     "output_type": "display_data"
    }
   ],
   "source": [
    "from xgboost import plot_importance\n",
    "plot_importance(xgb.best_estimator_, height = 0.8,max_num_features=5);"
   ]
  },
  {
   "cell_type": "markdown",
   "metadata": {
    "colab_type": "text",
    "id": "edXmEQ96Cfo_"
   },
   "source": [
    "Entonces, los principales atributos son:\n",
    "- profit on operating activities / financial expenses\n",
    "- (current assets - inventory) / short-term liabilities\n",
    "- sales (n) / sales (n-1)\n",
    "- operating expenses / total liabilities\n",
    "- logarithm of total assets"
   ]
  },
  {
   "cell_type": "markdown",
   "metadata": {
    "colab_type": "text",
    "id": "kVbm1chpCfpB"
   },
   "source": [
    "También se pueden acceder los valores directamente con el atributo feature_importances_"
   ]
  },
  {
   "cell_type": "code",
   "execution_count": 51,
   "metadata": {
    "colab": {},
    "colab_type": "code",
    "id": "egdxmzMUCfpD",
    "outputId": "120ff983-5aa0-4357-cacd-605e7718295d"
   },
   "outputs": [
    {
     "name": "stdout",
     "output_type": "stream",
     "text": [
      "[0.         0.01778806 0.         0.01397901 0.02881471 0.02116011\n",
      " 0.         0.         0.01626058 0.         0.         0.\n",
      " 0.01931717 0.         0.01220524 0.03047964 0.         0.\n",
      " 0.01398675 0.         0.02727861 0.02749687 0.         0.01832783\n",
      " 0.03007279 0.03580766 0.03491632 0.         0.0195449  0.01370115\n",
      " 0.         0.06115788 0.04358184 0.06601632 0.01967025 0.01445844\n",
      " 0.         0.01788567 0.02141831 0.01712284 0.01261976 0.01779275\n",
      " 0.01667679 0.04614038 0.01308591 0.02497116 0.03029246 0.0075392\n",
      " 0.03434498 0.         0.01819137 0.         0.         0.\n",
      " 0.01511355 0.06144894 0.01509389 0.02123041 0.         0.00931572\n",
      " 0.01369377 0.         0.         0.        ]\n"
     ]
    }
   ],
   "source": [
    "print(xgb.best_estimator_.feature_importances_)"
   ]
  },
  {
   "cell_type": "markdown",
   "metadata": {
    "colab_type": "text",
    "id": "oPEjlew9CfpV"
   },
   "source": [
    "## LightGBM"
   ]
  },
  {
   "cell_type": "markdown",
   "metadata": {
    "colab_type": "text",
    "id": "qZrSv-AsCfpb"
   },
   "source": [
    "La librería lightgbm permite directamente interactuar con SciKitLearn"
   ]
  },
  {
   "cell_type": "code",
   "execution_count": 52,
   "metadata": {
    "colab": {},
    "colab_type": "code",
    "id": "BEQsZCsSCfpd"
   },
   "outputs": [],
   "source": [
    "import lightgbm as lgb"
   ]
  },
  {
   "cell_type": "code",
   "execution_count": 53,
   "metadata": {
    "colab": {},
    "colab_type": "code",
    "id": "9jWuKhk4Cfpi"
   },
   "outputs": [],
   "source": [
    "model_lgb = lgb.LGBMClassifier()"
   ]
  },
  {
   "cell_type": "markdown",
   "metadata": {
    "colab_type": "text",
    "id": "hgln7ACdlPPs"
   },
   "source": [
    " Usamos los mismos rangos de hiperparámetros que para XGBoost. La lista completa de hiperparámetros se puede consultar <a = \"https://github.com/Microsoft/LightGBM/blob/master/docs/Parameters.rst\"> aquí </a>"
   ]
  },
  {
   "cell_type": "markdown",
   "metadata": {
    "colab_type": "text",
    "id": "MEYvubeLmi6g"
   },
   "source": [
    "¿Es necesario normalizar los features antes de aplicar LightGBM?"
   ]
  },
  {
   "cell_type": "code",
   "execution_count": 54,
   "metadata": {
    "colab": {},
    "colab_type": "code",
    "id": "4h3wCHnRCfpq"
   },
   "outputs": [],
   "source": [
    "lgbm = RandomizedSearchCV(model_lgb, params, n_iter = 25, verbose= True)"
   ]
  },
  {
   "cell_type": "code",
   "execution_count": 55,
   "metadata": {
    "colab": {},
    "colab_type": "code",
    "id": "7KCPi2OXCfp1",
    "outputId": "e894107b-b848-4bc0-b764-2cd67da94cc5"
   },
   "outputs": [
    {
     "name": "stdout",
     "output_type": "stream",
     "text": [
      "Fitting 3 folds for each of 25 candidates, totalling 75 fits\n"
     ]
    },
    {
     "name": "stderr",
     "output_type": "stream",
     "text": [
      "C:\\Users\\mbeati\\AppData\\Local\\Continuum\\anaconda3\\envs\\dsdh2\\lib\\site-packages\\sklearn\\model_selection\\_split.py:1978: FutureWarning: The default value of cv will change from 3 to 5 in version 0.22. Specify it explicitly to silence this warning.\n",
      "  warnings.warn(CV_WARNING, FutureWarning)\n",
      "[Parallel(n_jobs=1)]: Using backend SequentialBackend with 1 concurrent workers.\n",
      "[Parallel(n_jobs=1)]: Done  75 out of  75 | elapsed:   15.3s finished\n"
     ]
    },
    {
     "name": "stdout",
     "output_type": "stream",
     "text": [
      "La búsqueda con LightGBM llevó:  15.73499608039856  segundos\n"
     ]
    }
   ],
   "source": [
    "start = time.time()\n",
    "lgbm.fit(X_train, y_train)\n",
    "end = time.time()\n",
    "print(\"La búsqueda con LightGBM llevó: \", end - start, \" segundos\")"
   ]
  },
  {
   "cell_type": "code",
   "execution_count": 56,
   "metadata": {
    "colab": {},
    "colab_type": "code",
    "id": "wUUDAp94Cfp_",
    "outputId": "f0305c43-1663-434a-b5ef-f53f2c3dea70"
   },
   "outputs": [
    {
     "name": "stdout",
     "output_type": "stream",
     "text": [
      "Best parameters found by grid search are: {'colsample_bytree': 0.9023115279537325, 'gamma': 3.3512110967960664, 'learning_rate': 0.2707170456509603, 'max_depth': 7, 'min_child_weight': 2.849619854468436, 'n_estimators': 36, 'reg_alpha': 7.2076512640795585, 'subsample': 0.9757268827165553}\n"
     ]
    }
   ],
   "source": [
    "print('Best parameters found by grid search are:', lgbm.best_params_)"
   ]
  },
  {
   "cell_type": "code",
   "execution_count": 57,
   "metadata": {
    "colab": {},
    "colab_type": "code",
    "id": "6ZkbfX1LCfqM"
   },
   "outputs": [],
   "source": [
    "opt_lgbm = lgbm.best_estimator_"
   ]
  },
  {
   "cell_type": "code",
   "execution_count": 58,
   "metadata": {
    "colab": {},
    "colab_type": "code",
    "id": "lhdX_Zl0CfqT"
   },
   "outputs": [],
   "source": [
    "y_predicted_lgbm = lgbm.predict_proba(X_test)"
   ]
  },
  {
   "cell_type": "code",
   "execution_count": 59,
   "metadata": {
    "colab": {},
    "colab_type": "code",
    "id": "OVeY3f68CfqY",
    "outputId": "ab63fcde-8ab5-4c9e-daf3-52c935b9bdb0"
   },
   "outputs": [
    {
     "name": "stdout",
     "output_type": "stream",
     "text": [
      "El valor del AUC es:  0.9157147272977058\n"
     ]
    }
   ],
   "source": [
    "lgbm_auc = roc_auc_score(y_test,y_predicted_lgbm[:,1])\n",
    "print(\"El valor del AUC es: \", lgbm_auc)"
   ]
  },
  {
   "cell_type": "code",
   "execution_count": 60,
   "metadata": {
    "colab": {},
    "colab_type": "code",
    "id": "VqwFGD2CCfqf",
    "outputId": "a2effc79-716a-48cd-e319-04e66c3ab8e8"
   },
   "outputs": [
    {
     "data": {
      "image/png": "[encoded data removed]",
      "text/plain": [
       "<Figure size 432x288 with 1 Axes>"
      ]
     },
     "metadata": {
      "needs_background": "light"
     },
     "output_type": "display_data"
    }
   ],
   "source": [
    "plot_roc(y_test,y_predicted_lgbm, plot_micro = False, plot_macro= False);"
   ]
  },
  {
   "cell_type": "code",
   "execution_count": 61,
   "metadata": {
    "colab": {},
    "colab_type": "code",
    "id": "qIqifpCOCfqm",
    "outputId": "2827dbcc-0b61-4a52-e812-a8e86708786d"
   },
   "outputs": [
    {
     "data": {
      "image/png": "[encoded data removed]",
      "text/plain": [
       "<Figure size 432x288 with 1 Axes>"
      ]
     },
     "metadata": {
      "needs_background": "light"
     },
     "output_type": "display_data"
    }
   ],
   "source": [
    "lgb.plot_importance(lgbm.best_estimator_, max_num_features=5);"
   ]
  },
  {
   "cell_type": "code",
   "execution_count": 62,
   "metadata": {},
   "outputs": [
    {
     "data": {
      "text/plain": [
       "array([ 1,  2,  6,  4, 46,  7,  1,  0, 20,  0,  3,  7, 11,  0,  7,  4,  0,\n",
       "        0,  4, 10, 27, 13,  4, 33,  9, 11, 46, 14, 34, 15,  2, 11, 10, 30,\n",
       "       13,  0, 18,  7, 16, 21, 17, 11,  5, 16, 15, 42, 18,  5,  9,  2,  4,\n",
       "        3,  3, 15, 11, 19, 11, 24, 12, 21, 23,  3,  4,  6])"
      ]
     },
     "execution_count": 62,
     "metadata": {},
     "output_type": "execute_result"
    }
   ],
   "source": [
    "lgbm.best_estimator_.feature_importances_"
   ]
  },
  {
   "cell_type": "markdown",
   "metadata": {
    "colab_type": "text",
    "id": "w7VFD-_5Cfqx"
   },
   "source": [
    "## CatBoost"
   ]
  },
  {
   "cell_type": "code",
   "execution_count": 63,
   "metadata": {
    "colab": {},
    "colab_type": "code",
    "id": "2dSTH5_8Cfqy"
   },
   "outputs": [],
   "source": [
    "from catboost import CatBoostClassifier"
   ]
  },
  {
   "cell_type": "code",
   "execution_count": 64,
   "metadata": {
    "colab": {},
    "colab_type": "code",
    "id": "McipTqbpCfq2"
   },
   "outputs": [],
   "source": [
    "model_cat = CatBoostClassifier()"
   ]
  },
  {
   "cell_type": "markdown",
   "metadata": {
    "colab_type": "text",
    "id": "upFaEVuBmq-E"
   },
   "source": [
    "¿Es necesario normalizar los features antes de aplicar CatBoost?"
   ]
  },
  {
   "cell_type": "markdown",
   "metadata": {
    "colab_type": "text",
    "id": "5fz2fRrZCfq5"
   },
   "source": [
    "Con CatBoost los resultados sin hacer una búsqueda de hiperparámetros ya son... ¡excelentes!"
   ]
  },
  {
   "cell_type": "code",
   "execution_count": 65,
   "metadata": {
    "colab": {},
    "colab_type": "code",
    "id": "Ots7C9sWCfq6",
    "outputId": "efdd7f68-733c-4069-a241-e27d24469913"
   },
   "outputs": [
    {
     "name": "stdout",
     "output_type": "stream",
     "text": [
      "Learning rate set to 0.030047\n",
      "0:\tlearn: 0.6421788\ttotal: 242ms\tremaining: 4m 2s\n",
      "1:\tlearn: 0.6034238\ttotal: 370ms\tremaining: 3m 4s\n",
      "2:\tlearn: 0.5682249\ttotal: 493ms\tremaining: 2m 43s\n",
      "3:\tlearn: 0.5353132\ttotal: 604ms\tremaining: 2m 30s\n",
      "4:\tlearn: 0.4977198\ttotal: 728ms\tremaining: 2m 24s\n",
      "5:\tlearn: 0.4686407\ttotal: 882ms\tremaining: 2m 26s\n",
      "6:\tlearn: 0.4444514\ttotal: 1.03s\tremaining: 2m 26s\n",
      "7:\tlearn: 0.4218354\ttotal: 1.18s\tremaining: 2m 26s\n",
      "8:\tlearn: 0.4010598\ttotal: 1.32s\tremaining: 2m 25s\n",
      "9:\tlearn: 0.3817539\ttotal: 1.47s\tremaining: 2m 25s\n",
      "10:\tlearn: 0.3645360\ttotal: 1.6s\tremaining: 2m 23s\n",
      "11:\tlearn: 0.3489776\ttotal: 1.71s\tremaining: 2m 20s\n",
      "12:\tlearn: 0.3339606\ttotal: 1.82s\tremaining: 2m 18s\n",
      "13:\tlearn: 0.3206434\ttotal: 1.94s\tremaining: 2m 16s\n",
      "14:\tlearn: 0.3055495\ttotal: 2.06s\tremaining: 2m 15s\n",
      "15:\tlearn: 0.2944909\ttotal: 2.19s\tremaining: 2m 14s\n",
      "16:\tlearn: 0.2844419\ttotal: 2.33s\tremaining: 2m 15s\n",
      "17:\tlearn: 0.2708729\ttotal: 2.47s\tremaining: 2m 14s\n",
      "18:\tlearn: 0.2581176\ttotal: 2.61s\tremaining: 2m 14s\n",
      "19:\tlearn: 0.2476141\ttotal: 2.73s\tremaining: 2m 13s\n",
      "20:\tlearn: 0.2372167\ttotal: 2.85s\tremaining: 2m 12s\n",
      "21:\tlearn: 0.2264872\ttotal: 2.97s\tremaining: 2m 12s\n",
      "22:\tlearn: 0.2181908\ttotal: 3.09s\tremaining: 2m 11s\n",
      "23:\tlearn: 0.2135395\ttotal: 3.2s\tremaining: 2m 10s\n",
      "24:\tlearn: 0.2053590\ttotal: 3.32s\tremaining: 2m 9s\n",
      "25:\tlearn: 0.1993676\ttotal: 3.43s\tremaining: 2m 8s\n",
      "26:\tlearn: 0.1953191\ttotal: 3.56s\tremaining: 2m 8s\n",
      "27:\tlearn: 0.1897698\ttotal: 3.71s\tremaining: 2m 8s\n",
      "28:\tlearn: 0.1846076\ttotal: 3.82s\tremaining: 2m 8s\n",
      "29:\tlearn: 0.1787775\ttotal: 3.97s\tremaining: 2m 8s\n",
      "30:\tlearn: 0.1759815\ttotal: 4.12s\tremaining: 2m 8s\n",
      "31:\tlearn: 0.1734926\ttotal: 4.23s\tremaining: 2m 7s\n",
      "32:\tlearn: 0.1707719\ttotal: 4.35s\tremaining: 2m 7s\n",
      "33:\tlearn: 0.1666010\ttotal: 4.46s\tremaining: 2m 6s\n",
      "34:\tlearn: 0.1631746\ttotal: 4.58s\tremaining: 2m 6s\n",
      "35:\tlearn: 0.1612209\ttotal: 4.69s\tremaining: 2m 5s\n",
      "36:\tlearn: 0.1585122\ttotal: 4.81s\tremaining: 2m 5s\n",
      "37:\tlearn: 0.1552920\ttotal: 4.93s\tremaining: 2m 4s\n",
      "38:\tlearn: 0.1535838\ttotal: 5.08s\tremaining: 2m 5s\n",
      "39:\tlearn: 0.1521242\ttotal: 5.24s\tremaining: 2m 5s\n",
      "40:\tlearn: 0.1499835\ttotal: 5.37s\tremaining: 2m 5s\n",
      "41:\tlearn: 0.1479073\ttotal: 5.47s\tremaining: 2m 4s\n",
      "42:\tlearn: 0.1460193\ttotal: 5.59s\tremaining: 2m 4s\n",
      "43:\tlearn: 0.1438981\ttotal: 5.7s\tremaining: 2m 3s\n",
      "44:\tlearn: 0.1427782\ttotal: 5.82s\tremaining: 2m 3s\n",
      "45:\tlearn: 0.1416300\ttotal: 5.92s\tremaining: 2m 2s\n",
      "46:\tlearn: 0.1401585\ttotal: 6.04s\tremaining: 2m 2s\n",
      "47:\tlearn: 0.1387345\ttotal: 6.17s\tremaining: 2m 2s\n",
      "48:\tlearn: 0.1376060\ttotal: 6.29s\tremaining: 2m 2s\n",
      "49:\tlearn: 0.1364547\ttotal: 6.4s\tremaining: 2m 1s\n",
      "50:\tlearn: 0.1354712\ttotal: 6.52s\tremaining: 2m 1s\n",
      "51:\tlearn: 0.1339807\ttotal: 6.63s\tremaining: 2m\n",
      "52:\tlearn: 0.1329823\ttotal: 6.74s\tremaining: 2m\n",
      "53:\tlearn: 0.1319111\ttotal: 6.85s\tremaining: 1m 59s\n",
      "54:\tlearn: 0.1310705\ttotal: 6.97s\tremaining: 1m 59s\n",
      "55:\tlearn: 0.1301145\ttotal: 7.08s\tremaining: 1m 59s\n",
      "56:\tlearn: 0.1289757\ttotal: 7.22s\tremaining: 1m 59s\n",
      "57:\tlearn: 0.1283172\ttotal: 7.38s\tremaining: 1m 59s\n",
      "58:\tlearn: 0.1273026\ttotal: 7.55s\tremaining: 2m\n",
      "59:\tlearn: 0.1260565\ttotal: 7.67s\tremaining: 2m\n",
      "60:\tlearn: 0.1246445\ttotal: 7.82s\tremaining: 2m\n",
      "61:\tlearn: 0.1235275\ttotal: 7.94s\tremaining: 2m\n",
      "62:\tlearn: 0.1227399\ttotal: 8.06s\tremaining: 1m 59s\n",
      "63:\tlearn: 0.1219333\ttotal: 8.17s\tremaining: 1m 59s\n",
      "64:\tlearn: 0.1213164\ttotal: 8.29s\tremaining: 1m 59s\n",
      "65:\tlearn: 0.1205453\ttotal: 8.44s\tremaining: 1m 59s\n",
      "66:\tlearn: 0.1197042\ttotal: 8.6s\tremaining: 1m 59s\n",
      "67:\tlearn: 0.1189637\ttotal: 8.78s\tremaining: 2m\n",
      "68:\tlearn: 0.1183248\ttotal: 8.94s\tremaining: 2m\n",
      "69:\tlearn: 0.1177213\ttotal: 9.09s\tremaining: 2m\n",
      "70:\tlearn: 0.1175100\ttotal: 9.22s\tremaining: 2m\n",
      "71:\tlearn: 0.1171719\ttotal: 9.34s\tremaining: 2m\n",
      "72:\tlearn: 0.1168629\ttotal: 9.48s\tremaining: 2m\n",
      "73:\tlearn: 0.1165349\ttotal: 9.62s\tremaining: 2m\n",
      "74:\tlearn: 0.1163060\ttotal: 9.78s\tremaining: 2m\n",
      "75:\tlearn: 0.1157302\ttotal: 9.96s\tremaining: 2m 1s\n",
      "76:\tlearn: 0.1154448\ttotal: 10.1s\tremaining: 2m 1s\n",
      "77:\tlearn: 0.1151252\ttotal: 10.3s\tremaining: 2m 1s\n",
      "78:\tlearn: 0.1149412\ttotal: 10.4s\tremaining: 2m 1s\n",
      "79:\tlearn: 0.1141801\ttotal: 10.5s\tremaining: 2m\n",
      "80:\tlearn: 0.1136702\ttotal: 10.6s\tremaining: 2m\n",
      "81:\tlearn: 0.1132591\ttotal: 10.7s\tremaining: 2m\n",
      "82:\tlearn: 0.1128478\ttotal: 10.9s\tremaining: 2m\n",
      "83:\tlearn: 0.1124410\ttotal: 11s\tremaining: 1m 59s\n",
      "84:\tlearn: 0.1121597\ttotal: 11.1s\tremaining: 1m 59s\n",
      "85:\tlearn: 0.1114853\ttotal: 11.2s\tremaining: 1m 59s\n",
      "86:\tlearn: 0.1109896\ttotal: 11.3s\tremaining: 1m 58s\n",
      "87:\tlearn: 0.1106801\ttotal: 11.4s\tremaining: 1m 58s\n",
      "88:\tlearn: 0.1102873\ttotal: 11.6s\tremaining: 1m 58s\n",
      "89:\tlearn: 0.1098091\ttotal: 11.7s\tremaining: 1m 58s\n",
      "90:\tlearn: 0.1093616\ttotal: 11.8s\tremaining: 1m 57s\n",
      "91:\tlearn: 0.1088701\ttotal: 11.9s\tremaining: 1m 57s\n",
      "92:\tlearn: 0.1086587\ttotal: 12s\tremaining: 1m 57s\n",
      "93:\tlearn: 0.1081680\ttotal: 12.1s\tremaining: 1m 57s\n",
      "94:\tlearn: 0.1075804\ttotal: 12.3s\tremaining: 1m 56s\n",
      "95:\tlearn: 0.1071078\ttotal: 12.4s\tremaining: 1m 56s\n",
      "96:\tlearn: 0.1066017\ttotal: 12.5s\tremaining: 1m 56s\n",
      "97:\tlearn: 0.1062034\ttotal: 12.6s\tremaining: 1m 56s\n",
      "98:\tlearn: 0.1058843\ttotal: 12.7s\tremaining: 1m 56s\n",
      "99:\tlearn: 0.1054819\ttotal: 12.9s\tremaining: 1m 55s\n",
      "100:\tlearn: 0.1050615\ttotal: 13s\tremaining: 1m 55s\n",
      "101:\tlearn: 0.1048098\ttotal: 13.1s\tremaining: 1m 55s\n",
      "102:\tlearn: 0.1046153\ttotal: 13.2s\tremaining: 1m 54s\n",
      "103:\tlearn: 0.1042231\ttotal: 13.3s\tremaining: 1m 54s\n",
      "104:\tlearn: 0.1040365\ttotal: 13.4s\tremaining: 1m 54s\n",
      "105:\tlearn: 0.1038902\ttotal: 13.5s\tremaining: 1m 54s\n",
      "106:\tlearn: 0.1036919\ttotal: 13.7s\tremaining: 1m 54s\n",
      "107:\tlearn: 0.1035181\ttotal: 13.8s\tremaining: 1m 53s\n",
      "108:\tlearn: 0.1031869\ttotal: 13.9s\tremaining: 1m 53s\n",
      "109:\tlearn: 0.1029784\ttotal: 14s\tremaining: 1m 53s\n",
      "110:\tlearn: 0.1027425\ttotal: 14.2s\tremaining: 1m 53s\n",
      "111:\tlearn: 0.1024386\ttotal: 14.3s\tremaining: 1m 53s\n",
      "112:\tlearn: 0.1022558\ttotal: 14.4s\tremaining: 1m 52s\n",
      "113:\tlearn: 0.1019004\ttotal: 14.5s\tremaining: 1m 52s\n",
      "114:\tlearn: 0.1015885\ttotal: 14.6s\tremaining: 1m 52s\n",
      "115:\tlearn: 0.1013674\ttotal: 14.7s\tremaining: 1m 52s\n",
      "116:\tlearn: 0.1011456\ttotal: 14.9s\tremaining: 1m 52s\n",
      "117:\tlearn: 0.1008435\ttotal: 15s\tremaining: 1m 51s\n",
      "118:\tlearn: 0.1006803\ttotal: 15.1s\tremaining: 1m 51s\n",
      "119:\tlearn: 0.1004716\ttotal: 15.2s\tremaining: 1m 51s\n",
      "120:\tlearn: 0.1000035\ttotal: 15.3s\tremaining: 1m 51s\n",
      "121:\tlearn: 0.0998517\ttotal: 15.4s\tremaining: 1m 50s\n",
      "122:\tlearn: 0.0994899\ttotal: 15.5s\tremaining: 1m 50s\n",
      "123:\tlearn: 0.0993301\ttotal: 15.6s\tremaining: 1m 50s\n",
      "124:\tlearn: 0.0990143\ttotal: 15.8s\tremaining: 1m 50s\n",
      "125:\tlearn: 0.0987929\ttotal: 15.9s\tremaining: 1m 50s\n",
      "126:\tlearn: 0.0984433\ttotal: 16s\tremaining: 1m 49s\n",
      "127:\tlearn: 0.0982820\ttotal: 16.1s\tremaining: 1m 49s\n",
      "128:\tlearn: 0.0980214\ttotal: 16.2s\tremaining: 1m 49s\n",
      "129:\tlearn: 0.0977570\ttotal: 16.3s\tremaining: 1m 49s\n",
      "130:\tlearn: 0.0975425\ttotal: 16.5s\tremaining: 1m 49s\n",
      "131:\tlearn: 0.0974055\ttotal: 16.6s\tremaining: 1m 48s\n",
      "132:\tlearn: 0.0972093\ttotal: 16.7s\tremaining: 1m 48s\n",
      "133:\tlearn: 0.0971015\ttotal: 16.8s\tremaining: 1m 48s\n",
      "134:\tlearn: 0.0968886\ttotal: 16.9s\tremaining: 1m 48s\n",
      "135:\tlearn: 0.0966833\ttotal: 17s\tremaining: 1m 48s\n",
      "136:\tlearn: 0.0965406\ttotal: 17.1s\tremaining: 1m 48s\n",
      "137:\tlearn: 0.0963230\ttotal: 17.3s\tremaining: 1m 47s\n",
      "138:\tlearn: 0.0961003\ttotal: 17.4s\tremaining: 1m 47s\n",
      "139:\tlearn: 0.0960132\ttotal: 17.5s\tremaining: 1m 47s\n",
      "140:\tlearn: 0.0957459\ttotal: 17.6s\tremaining: 1m 47s\n",
      "141:\tlearn: 0.0955514\ttotal: 17.7s\tremaining: 1m 47s\n",
      "142:\tlearn: 0.0954274\ttotal: 17.8s\tremaining: 1m 46s\n",
      "143:\tlearn: 0.0952711\ttotal: 17.9s\tremaining: 1m 46s\n",
      "144:\tlearn: 0.0949669\ttotal: 18.1s\tremaining: 1m 46s\n",
      "145:\tlearn: 0.0947981\ttotal: 18.2s\tremaining: 1m 46s\n",
      "146:\tlearn: 0.0946775\ttotal: 18.3s\tremaining: 1m 46s\n",
      "147:\tlearn: 0.0944521\ttotal: 18.4s\tremaining: 1m 45s\n",
      "148:\tlearn: 0.0942088\ttotal: 18.5s\tremaining: 1m 45s\n",
      "149:\tlearn: 0.0939609\ttotal: 18.6s\tremaining: 1m 45s\n",
      "150:\tlearn: 0.0937630\ttotal: 18.8s\tremaining: 1m 45s\n",
      "151:\tlearn: 0.0936207\ttotal: 18.9s\tremaining: 1m 45s\n",
      "152:\tlearn: 0.0933334\ttotal: 19s\tremaining: 1m 45s\n",
      "153:\tlearn: 0.0932469\ttotal: 19.1s\tremaining: 1m 44s\n",
      "154:\tlearn: 0.0931218\ttotal: 19.2s\tremaining: 1m 44s\n",
      "155:\tlearn: 0.0929110\ttotal: 19.3s\tremaining: 1m 44s\n",
      "156:\tlearn: 0.0927484\ttotal: 19.5s\tremaining: 1m 44s\n",
      "157:\tlearn: 0.0924983\ttotal: 19.6s\tremaining: 1m 44s\n",
      "158:\tlearn: 0.0924102\ttotal: 19.7s\tremaining: 1m 44s\n",
      "159:\tlearn: 0.0923012\ttotal: 19.8s\tremaining: 1m 43s\n"
     ]
    },
    {
     "name": "stdout",
     "output_type": "stream",
     "text": [
      "160:\tlearn: 0.0921428\ttotal: 19.9s\tremaining: 1m 43s\n",
      "161:\tlearn: 0.0920711\ttotal: 20s\tremaining: 1m 43s\n",
      "162:\tlearn: 0.0920009\ttotal: 20.2s\tremaining: 1m 43s\n",
      "163:\tlearn: 0.0918920\ttotal: 20.3s\tremaining: 1m 43s\n",
      "164:\tlearn: 0.0918012\ttotal: 20.4s\tremaining: 1m 43s\n",
      "165:\tlearn: 0.0917352\ttotal: 20.5s\tremaining: 1m 42s\n",
      "166:\tlearn: 0.0915932\ttotal: 20.6s\tremaining: 1m 42s\n",
      "167:\tlearn: 0.0913069\ttotal: 20.7s\tremaining: 1m 42s\n",
      "168:\tlearn: 0.0910718\ttotal: 20.8s\tremaining: 1m 42s\n",
      "169:\tlearn: 0.0907878\ttotal: 20.9s\tremaining: 1m 42s\n",
      "170:\tlearn: 0.0905640\ttotal: 21.1s\tremaining: 1m 42s\n",
      "171:\tlearn: 0.0904577\ttotal: 21.2s\tremaining: 1m 41s\n",
      "172:\tlearn: 0.0902691\ttotal: 21.3s\tremaining: 1m 41s\n",
      "173:\tlearn: 0.0900430\ttotal: 21.4s\tremaining: 1m 41s\n",
      "174:\tlearn: 0.0898848\ttotal: 21.5s\tremaining: 1m 41s\n",
      "175:\tlearn: 0.0896097\ttotal: 21.6s\tremaining: 1m 41s\n",
      "176:\tlearn: 0.0894697\ttotal: 21.7s\tremaining: 1m 41s\n",
      "177:\tlearn: 0.0893431\ttotal: 21.9s\tremaining: 1m 40s\n",
      "178:\tlearn: 0.0891806\ttotal: 22s\tremaining: 1m 40s\n",
      "179:\tlearn: 0.0889918\ttotal: 22.1s\tremaining: 1m 40s\n",
      "180:\tlearn: 0.0888529\ttotal: 22.2s\tremaining: 1m 40s\n",
      "181:\tlearn: 0.0886537\ttotal: 22.3s\tremaining: 1m 40s\n",
      "182:\tlearn: 0.0886109\ttotal: 22.4s\tremaining: 1m 40s\n",
      "183:\tlearn: 0.0885183\ttotal: 22.6s\tremaining: 1m 40s\n",
      "184:\tlearn: 0.0882870\ttotal: 22.7s\tremaining: 1m 39s\n",
      "185:\tlearn: 0.0880632\ttotal: 22.8s\tremaining: 1m 39s\n",
      "186:\tlearn: 0.0878197\ttotal: 22.9s\tremaining: 1m 39s\n",
      "187:\tlearn: 0.0876999\ttotal: 23s\tremaining: 1m 39s\n",
      "188:\tlearn: 0.0876384\ttotal: 23.1s\tremaining: 1m 39s\n",
      "189:\tlearn: 0.0875912\ttotal: 23.2s\tremaining: 1m 39s\n",
      "190:\tlearn: 0.0872704\ttotal: 23.4s\tremaining: 1m 38s\n",
      "191:\tlearn: 0.0871180\ttotal: 23.5s\tremaining: 1m 38s\n",
      "192:\tlearn: 0.0870729\ttotal: 23.6s\tremaining: 1m 38s\n",
      "193:\tlearn: 0.0869732\ttotal: 23.7s\tremaining: 1m 38s\n",
      "194:\tlearn: 0.0866797\ttotal: 23.8s\tremaining: 1m 38s\n",
      "195:\tlearn: 0.0865745\ttotal: 23.9s\tremaining: 1m 38s\n",
      "196:\tlearn: 0.0864381\ttotal: 24s\tremaining: 1m 37s\n",
      "197:\tlearn: 0.0863508\ttotal: 24.1s\tremaining: 1m 37s\n",
      "198:\tlearn: 0.0861175\ttotal: 24.3s\tremaining: 1m 37s\n",
      "199:\tlearn: 0.0860067\ttotal: 24.4s\tremaining: 1m 37s\n",
      "200:\tlearn: 0.0857169\ttotal: 24.5s\tremaining: 1m 37s\n",
      "201:\tlearn: 0.0854621\ttotal: 24.7s\tremaining: 1m 37s\n",
      "202:\tlearn: 0.0852875\ttotal: 24.8s\tremaining: 1m 37s\n",
      "203:\tlearn: 0.0852483\ttotal: 24.9s\tremaining: 1m 37s\n",
      "204:\tlearn: 0.0851398\ttotal: 25.1s\tremaining: 1m 37s\n",
      "205:\tlearn: 0.0850651\ttotal: 25.2s\tremaining: 1m 37s\n",
      "206:\tlearn: 0.0849000\ttotal: 25.4s\tremaining: 1m 37s\n",
      "207:\tlearn: 0.0848155\ttotal: 25.5s\tremaining: 1m 37s\n",
      "208:\tlearn: 0.0846778\ttotal: 25.7s\tremaining: 1m 37s\n",
      "209:\tlearn: 0.0843214\ttotal: 25.8s\tremaining: 1m 37s\n",
      "210:\tlearn: 0.0842263\ttotal: 25.9s\tremaining: 1m 36s\n",
      "211:\tlearn: 0.0840668\ttotal: 26s\tremaining: 1m 36s\n",
      "212:\tlearn: 0.0839958\ttotal: 26.2s\tremaining: 1m 36s\n",
      "213:\tlearn: 0.0838702\ttotal: 26.3s\tremaining: 1m 36s\n",
      "214:\tlearn: 0.0837444\ttotal: 26.4s\tremaining: 1m 36s\n",
      "215:\tlearn: 0.0835958\ttotal: 26.5s\tremaining: 1m 36s\n",
      "216:\tlearn: 0.0834689\ttotal: 26.6s\tremaining: 1m 36s\n",
      "217:\tlearn: 0.0833578\ttotal: 26.8s\tremaining: 1m 36s\n",
      "218:\tlearn: 0.0832793\ttotal: 26.9s\tremaining: 1m 35s\n",
      "219:\tlearn: 0.0831950\ttotal: 27s\tremaining: 1m 35s\n",
      "220:\tlearn: 0.0829921\ttotal: 27.1s\tremaining: 1m 35s\n",
      "221:\tlearn: 0.0828766\ttotal: 27.2s\tremaining: 1m 35s\n",
      "222:\tlearn: 0.0827151\ttotal: 27.3s\tremaining: 1m 35s\n",
      "223:\tlearn: 0.0825993\ttotal: 27.5s\tremaining: 1m 35s\n",
      "224:\tlearn: 0.0824866\ttotal: 27.6s\tremaining: 1m 35s\n",
      "225:\tlearn: 0.0823036\ttotal: 27.7s\tremaining: 1m 34s\n",
      "226:\tlearn: 0.0822195\ttotal: 27.9s\tremaining: 1m 34s\n",
      "227:\tlearn: 0.0821251\ttotal: 28s\tremaining: 1m 34s\n",
      "228:\tlearn: 0.0820845\ttotal: 28.2s\tremaining: 1m 34s\n",
      "229:\tlearn: 0.0819464\ttotal: 28.3s\tremaining: 1m 34s\n",
      "230:\tlearn: 0.0817704\ttotal: 28.4s\tremaining: 1m 34s\n",
      "231:\tlearn: 0.0815973\ttotal: 28.5s\tremaining: 1m 34s\n",
      "232:\tlearn: 0.0815509\ttotal: 28.6s\tremaining: 1m 34s\n",
      "233:\tlearn: 0.0814691\ttotal: 28.7s\tremaining: 1m 34s\n",
      "234:\tlearn: 0.0814393\ttotal: 28.8s\tremaining: 1m 33s\n",
      "235:\tlearn: 0.0813885\ttotal: 28.9s\tremaining: 1m 33s\n",
      "236:\tlearn: 0.0812425\ttotal: 29.1s\tremaining: 1m 33s\n",
      "237:\tlearn: 0.0811861\ttotal: 29.2s\tremaining: 1m 33s\n",
      "238:\tlearn: 0.0811183\ttotal: 29.3s\tremaining: 1m 33s\n",
      "239:\tlearn: 0.0810172\ttotal: 29.5s\tremaining: 1m 33s\n",
      "240:\tlearn: 0.0808829\ttotal: 29.6s\tremaining: 1m 33s\n",
      "241:\tlearn: 0.0806817\ttotal: 29.7s\tremaining: 1m 33s\n",
      "242:\tlearn: 0.0806222\ttotal: 29.9s\tremaining: 1m 33s\n",
      "243:\tlearn: 0.0805355\ttotal: 30s\tremaining: 1m 32s\n",
      "244:\tlearn: 0.0803979\ttotal: 30.1s\tremaining: 1m 32s\n",
      "245:\tlearn: 0.0803237\ttotal: 30.2s\tremaining: 1m 32s\n",
      "246:\tlearn: 0.0801940\ttotal: 30.4s\tremaining: 1m 32s\n",
      "247:\tlearn: 0.0801083\ttotal: 30.5s\tremaining: 1m 32s\n",
      "248:\tlearn: 0.0799563\ttotal: 30.6s\tremaining: 1m 32s\n",
      "249:\tlearn: 0.0798441\ttotal: 30.7s\tremaining: 1m 32s\n",
      "250:\tlearn: 0.0798248\ttotal: 30.8s\tremaining: 1m 31s\n",
      "251:\tlearn: 0.0797288\ttotal: 31s\tremaining: 1m 31s\n",
      "252:\tlearn: 0.0796012\ttotal: 31.1s\tremaining: 1m 31s\n",
      "253:\tlearn: 0.0794879\ttotal: 31.2s\tremaining: 1m 31s\n",
      "254:\tlearn: 0.0794342\ttotal: 31.4s\tremaining: 1m 31s\n",
      "255:\tlearn: 0.0793155\ttotal: 31.5s\tremaining: 1m 31s\n",
      "256:\tlearn: 0.0792355\ttotal: 31.6s\tremaining: 1m 31s\n",
      "257:\tlearn: 0.0791291\ttotal: 31.7s\tremaining: 1m 31s\n",
      "258:\tlearn: 0.0790682\ttotal: 31.9s\tremaining: 1m 31s\n",
      "259:\tlearn: 0.0789661\ttotal: 32s\tremaining: 1m 31s\n",
      "260:\tlearn: 0.0788497\ttotal: 32.2s\tremaining: 1m 31s\n",
      "261:\tlearn: 0.0785075\ttotal: 32.3s\tremaining: 1m 31s\n",
      "262:\tlearn: 0.0784465\ttotal: 32.4s\tremaining: 1m 30s\n",
      "263:\tlearn: 0.0783507\ttotal: 32.5s\tremaining: 1m 30s\n",
      "264:\tlearn: 0.0782247\ttotal: 32.7s\tremaining: 1m 30s\n",
      "265:\tlearn: 0.0781380\ttotal: 32.8s\tremaining: 1m 30s\n",
      "266:\tlearn: 0.0779653\ttotal: 32.9s\tremaining: 1m 30s\n",
      "267:\tlearn: 0.0777241\ttotal: 33.1s\tremaining: 1m 30s\n",
      "268:\tlearn: 0.0775009\ttotal: 33.3s\tremaining: 1m 30s\n",
      "269:\tlearn: 0.0774281\ttotal: 33.4s\tremaining: 1m 30s\n",
      "270:\tlearn: 0.0773389\ttotal: 33.5s\tremaining: 1m 30s\n",
      "271:\tlearn: 0.0770919\ttotal: 33.7s\tremaining: 1m 30s\n",
      "272:\tlearn: 0.0769542\ttotal: 33.8s\tremaining: 1m 30s\n",
      "273:\tlearn: 0.0767772\ttotal: 34s\tremaining: 1m 30s\n",
      "274:\tlearn: 0.0766509\ttotal: 34.1s\tremaining: 1m 29s\n",
      "275:\tlearn: 0.0765575\ttotal: 34.3s\tremaining: 1m 29s\n",
      "276:\tlearn: 0.0764750\ttotal: 34.4s\tremaining: 1m 29s\n",
      "277:\tlearn: 0.0763820\ttotal: 34.5s\tremaining: 1m 29s\n",
      "278:\tlearn: 0.0763271\ttotal: 34.7s\tremaining: 1m 29s\n",
      "279:\tlearn: 0.0762861\ttotal: 34.8s\tremaining: 1m 29s\n",
      "280:\tlearn: 0.0762622\ttotal: 34.9s\tremaining: 1m 29s\n",
      "281:\tlearn: 0.0761793\ttotal: 35.1s\tremaining: 1m 29s\n",
      "282:\tlearn: 0.0760742\ttotal: 35.2s\tremaining: 1m 29s\n",
      "283:\tlearn: 0.0759396\ttotal: 35.4s\tremaining: 1m 29s\n",
      "284:\tlearn: 0.0758272\ttotal: 35.5s\tremaining: 1m 29s\n",
      "285:\tlearn: 0.0757211\ttotal: 35.6s\tremaining: 1m 29s\n",
      "286:\tlearn: 0.0756558\ttotal: 35.8s\tremaining: 1m 28s\n",
      "287:\tlearn: 0.0755584\ttotal: 35.9s\tremaining: 1m 28s\n",
      "288:\tlearn: 0.0754866\ttotal: 36.1s\tremaining: 1m 28s\n",
      "289:\tlearn: 0.0753193\ttotal: 36.2s\tremaining: 1m 28s\n",
      "290:\tlearn: 0.0751195\ttotal: 36.3s\tremaining: 1m 28s\n",
      "291:\tlearn: 0.0750261\ttotal: 36.5s\tremaining: 1m 28s\n",
      "292:\tlearn: 0.0749262\ttotal: 36.6s\tremaining: 1m 28s\n",
      "293:\tlearn: 0.0749092\ttotal: 36.7s\tremaining: 1m 28s\n",
      "294:\tlearn: 0.0748409\ttotal: 36.8s\tremaining: 1m 28s\n",
      "295:\tlearn: 0.0747509\ttotal: 37s\tremaining: 1m 27s\n",
      "296:\tlearn: 0.0747054\ttotal: 37.1s\tremaining: 1m 27s\n",
      "297:\tlearn: 0.0745484\ttotal: 37.2s\tremaining: 1m 27s\n",
      "298:\tlearn: 0.0744633\ttotal: 37.4s\tremaining: 1m 27s\n",
      "299:\tlearn: 0.0743998\ttotal: 37.5s\tremaining: 1m 27s\n",
      "300:\tlearn: 0.0741993\ttotal: 37.6s\tremaining: 1m 27s\n",
      "301:\tlearn: 0.0740318\ttotal: 37.8s\tremaining: 1m 27s\n",
      "302:\tlearn: 0.0738635\ttotal: 37.9s\tremaining: 1m 27s\n",
      "303:\tlearn: 0.0736513\ttotal: 38s\tremaining: 1m 27s\n",
      "304:\tlearn: 0.0735679\ttotal: 38.1s\tremaining: 1m 26s\n",
      "305:\tlearn: 0.0735376\ttotal: 38.2s\tremaining: 1m 26s\n",
      "306:\tlearn: 0.0734907\ttotal: 38.3s\tremaining: 1m 26s\n",
      "307:\tlearn: 0.0733304\ttotal: 38.5s\tremaining: 1m 26s\n",
      "308:\tlearn: 0.0732028\ttotal: 38.6s\tremaining: 1m 26s\n",
      "309:\tlearn: 0.0731268\ttotal: 38.7s\tremaining: 1m 26s\n",
      "310:\tlearn: 0.0730990\ttotal: 38.8s\tremaining: 1m 26s\n",
      "311:\tlearn: 0.0729960\ttotal: 38.9s\tremaining: 1m 25s\n",
      "312:\tlearn: 0.0729225\ttotal: 39.1s\tremaining: 1m 25s\n",
      "313:\tlearn: 0.0728225\ttotal: 39.2s\tremaining: 1m 25s\n",
      "314:\tlearn: 0.0727106\ttotal: 39.4s\tremaining: 1m 25s\n",
      "315:\tlearn: 0.0726302\ttotal: 39.5s\tremaining: 1m 25s\n"
     ]
    },
    {
     "name": "stdout",
     "output_type": "stream",
     "text": [
      "316:\tlearn: 0.0725841\ttotal: 39.7s\tremaining: 1m 25s\n",
      "317:\tlearn: 0.0724579\ttotal: 39.8s\tremaining: 1m 25s\n",
      "318:\tlearn: 0.0723623\ttotal: 40s\tremaining: 1m 25s\n",
      "319:\tlearn: 0.0722055\ttotal: 40.2s\tremaining: 1m 25s\n",
      "320:\tlearn: 0.0721836\ttotal: 40.4s\tremaining: 1m 25s\n",
      "321:\tlearn: 0.0720771\ttotal: 40.5s\tremaining: 1m 25s\n",
      "322:\tlearn: 0.0720324\ttotal: 40.7s\tremaining: 1m 25s\n",
      "323:\tlearn: 0.0719215\ttotal: 40.9s\tremaining: 1m 25s\n",
      "324:\tlearn: 0.0716788\ttotal: 41s\tremaining: 1m 25s\n",
      "325:\tlearn: 0.0716224\ttotal: 41.2s\tremaining: 1m 25s\n",
      "326:\tlearn: 0.0715179\ttotal: 41.4s\tremaining: 1m 25s\n",
      "327:\tlearn: 0.0714986\ttotal: 41.5s\tremaining: 1m 25s\n",
      "328:\tlearn: 0.0714327\ttotal: 41.6s\tremaining: 1m 24s\n",
      "329:\tlearn: 0.0713382\ttotal: 41.8s\tremaining: 1m 24s\n",
      "330:\tlearn: 0.0711929\ttotal: 41.9s\tremaining: 1m 24s\n",
      "331:\tlearn: 0.0710911\ttotal: 42.1s\tremaining: 1m 24s\n",
      "332:\tlearn: 0.0709198\ttotal: 42.3s\tremaining: 1m 24s\n",
      "333:\tlearn: 0.0707043\ttotal: 42.4s\tremaining: 1m 24s\n",
      "334:\tlearn: 0.0705975\ttotal: 42.5s\tremaining: 1m 24s\n",
      "335:\tlearn: 0.0705172\ttotal: 42.6s\tremaining: 1m 24s\n",
      "336:\tlearn: 0.0703525\ttotal: 42.8s\tremaining: 1m 24s\n",
      "337:\tlearn: 0.0703030\ttotal: 42.9s\tremaining: 1m 24s\n",
      "338:\tlearn: 0.0702278\ttotal: 43s\tremaining: 1m 23s\n",
      "339:\tlearn: 0.0701840\ttotal: 43.1s\tremaining: 1m 23s\n",
      "340:\tlearn: 0.0700539\ttotal: 43.3s\tremaining: 1m 23s\n",
      "341:\tlearn: 0.0699364\ttotal: 43.5s\tremaining: 1m 23s\n",
      "342:\tlearn: 0.0698629\ttotal: 43.6s\tremaining: 1m 23s\n",
      "343:\tlearn: 0.0696929\ttotal: 43.8s\tremaining: 1m 23s\n",
      "344:\tlearn: 0.0696064\ttotal: 43.9s\tremaining: 1m 23s\n",
      "345:\tlearn: 0.0695577\ttotal: 44.1s\tremaining: 1m 23s\n",
      "346:\tlearn: 0.0694421\ttotal: 44.2s\tremaining: 1m 23s\n",
      "347:\tlearn: 0.0693889\ttotal: 44.4s\tremaining: 1m 23s\n",
      "348:\tlearn: 0.0693679\ttotal: 44.5s\tremaining: 1m 23s\n",
      "349:\tlearn: 0.0692169\ttotal: 44.7s\tremaining: 1m 23s\n",
      "350:\tlearn: 0.0690717\ttotal: 44.9s\tremaining: 1m 23s\n",
      "351:\tlearn: 0.0690359\ttotal: 45.1s\tremaining: 1m 22s\n",
      "352:\tlearn: 0.0689107\ttotal: 45.2s\tremaining: 1m 22s\n",
      "353:\tlearn: 0.0686811\ttotal: 45.4s\tremaining: 1m 22s\n",
      "354:\tlearn: 0.0685225\ttotal: 45.5s\tremaining: 1m 22s\n",
      "355:\tlearn: 0.0684641\ttotal: 45.7s\tremaining: 1m 22s\n",
      "356:\tlearn: 0.0684250\ttotal: 45.9s\tremaining: 1m 22s\n",
      "357:\tlearn: 0.0682831\ttotal: 46.1s\tremaining: 1m 22s\n",
      "358:\tlearn: 0.0682482\ttotal: 46.3s\tremaining: 1m 22s\n",
      "359:\tlearn: 0.0681066\ttotal: 46.4s\tremaining: 1m 22s\n",
      "360:\tlearn: 0.0680147\ttotal: 46.6s\tremaining: 1m 22s\n",
      "361:\tlearn: 0.0679420\ttotal: 46.7s\tremaining: 1m 22s\n",
      "362:\tlearn: 0.0678111\ttotal: 46.8s\tremaining: 1m 22s\n",
      "363:\tlearn: 0.0676747\ttotal: 46.9s\tremaining: 1m 21s\n",
      "364:\tlearn: 0.0675869\ttotal: 47s\tremaining: 1m 21s\n",
      "365:\tlearn: 0.0675535\ttotal: 47.2s\tremaining: 1m 21s\n",
      "366:\tlearn: 0.0674364\ttotal: 47.3s\tremaining: 1m 21s\n",
      "367:\tlearn: 0.0673442\ttotal: 47.4s\tremaining: 1m 21s\n",
      "368:\tlearn: 0.0672085\ttotal: 47.5s\tremaining: 1m 21s\n",
      "369:\tlearn: 0.0670426\ttotal: 47.7s\tremaining: 1m 21s\n",
      "370:\tlearn: 0.0669319\ttotal: 47.8s\tremaining: 1m 21s\n",
      "371:\tlearn: 0.0668303\ttotal: 47.9s\tremaining: 1m 20s\n",
      "372:\tlearn: 0.0668126\ttotal: 48s\tremaining: 1m 20s\n",
      "373:\tlearn: 0.0667323\ttotal: 48.1s\tremaining: 1m 20s\n",
      "374:\tlearn: 0.0664901\ttotal: 48.3s\tremaining: 1m 20s\n",
      "375:\tlearn: 0.0663586\ttotal: 48.4s\tremaining: 1m 20s\n",
      "376:\tlearn: 0.0662623\ttotal: 48.5s\tremaining: 1m 20s\n",
      "377:\tlearn: 0.0661995\ttotal: 48.6s\tremaining: 1m 20s\n",
      "378:\tlearn: 0.0661046\ttotal: 48.8s\tremaining: 1m 19s\n",
      "379:\tlearn: 0.0659731\ttotal: 48.9s\tremaining: 1m 19s\n",
      "380:\tlearn: 0.0658833\ttotal: 49.1s\tremaining: 1m 19s\n",
      "381:\tlearn: 0.0658562\ttotal: 49.2s\tremaining: 1m 19s\n",
      "382:\tlearn: 0.0657598\ttotal: 49.3s\tremaining: 1m 19s\n",
      "383:\tlearn: 0.0656376\ttotal: 49.5s\tremaining: 1m 19s\n",
      "384:\tlearn: 0.0655147\ttotal: 49.6s\tremaining: 1m 19s\n",
      "385:\tlearn: 0.0654385\ttotal: 49.8s\tremaining: 1m 19s\n",
      "386:\tlearn: 0.0653098\ttotal: 49.9s\tremaining: 1m 19s\n",
      "387:\tlearn: 0.0652484\ttotal: 50s\tremaining: 1m 18s\n",
      "388:\tlearn: 0.0652253\ttotal: 50.1s\tremaining: 1m 18s\n",
      "389:\tlearn: 0.0651398\ttotal: 50.2s\tremaining: 1m 18s\n",
      "390:\tlearn: 0.0650539\ttotal: 50.4s\tremaining: 1m 18s\n",
      "391:\tlearn: 0.0648958\ttotal: 50.5s\tremaining: 1m 18s\n",
      "392:\tlearn: 0.0648113\ttotal: 50.6s\tremaining: 1m 18s\n",
      "393:\tlearn: 0.0646776\ttotal: 50.8s\tremaining: 1m 18s\n",
      "394:\tlearn: 0.0646289\ttotal: 50.9s\tremaining: 1m 17s\n",
      "395:\tlearn: 0.0645788\ttotal: 51s\tremaining: 1m 17s\n",
      "396:\tlearn: 0.0644953\ttotal: 51.1s\tremaining: 1m 17s\n",
      "397:\tlearn: 0.0643652\ttotal: 51.3s\tremaining: 1m 17s\n",
      "398:\tlearn: 0.0642875\ttotal: 51.4s\tremaining: 1m 17s\n",
      "399:\tlearn: 0.0641402\ttotal: 51.6s\tremaining: 1m 17s\n",
      "400:\tlearn: 0.0640436\ttotal: 51.7s\tremaining: 1m 17s\n",
      "401:\tlearn: 0.0639502\ttotal: 51.8s\tremaining: 1m 17s\n",
      "402:\tlearn: 0.0638720\ttotal: 51.9s\tremaining: 1m 16s\n",
      "403:\tlearn: 0.0636799\ttotal: 52.1s\tremaining: 1m 16s\n",
      "404:\tlearn: 0.0636299\ttotal: 52.3s\tremaining: 1m 16s\n",
      "405:\tlearn: 0.0635392\ttotal: 52.5s\tremaining: 1m 16s\n",
      "406:\tlearn: 0.0634994\ttotal: 52.7s\tremaining: 1m 16s\n",
      "407:\tlearn: 0.0634564\ttotal: 52.8s\tremaining: 1m 16s\n",
      "408:\tlearn: 0.0633851\ttotal: 53s\tremaining: 1m 16s\n",
      "409:\tlearn: 0.0633257\ttotal: 53.1s\tremaining: 1m 16s\n",
      "410:\tlearn: 0.0632582\ttotal: 53.2s\tremaining: 1m 16s\n",
      "411:\tlearn: 0.0632024\ttotal: 53.4s\tremaining: 1m 16s\n",
      "412:\tlearn: 0.0631753\ttotal: 53.5s\tremaining: 1m 16s\n",
      "413:\tlearn: 0.0631430\ttotal: 53.7s\tremaining: 1m 15s\n",
      "414:\tlearn: 0.0630957\ttotal: 53.8s\tremaining: 1m 15s\n",
      "415:\tlearn: 0.0629877\ttotal: 53.9s\tremaining: 1m 15s\n",
      "416:\tlearn: 0.0629448\ttotal: 54.1s\tremaining: 1m 15s\n",
      "417:\tlearn: 0.0629022\ttotal: 54.2s\tremaining: 1m 15s\n",
      "418:\tlearn: 0.0628425\ttotal: 54.4s\tremaining: 1m 15s\n",
      "419:\tlearn: 0.0627990\ttotal: 54.5s\tremaining: 1m 15s\n",
      "420:\tlearn: 0.0627201\ttotal: 54.6s\tremaining: 1m 15s\n",
      "421:\tlearn: 0.0627139\ttotal: 54.7s\tremaining: 1m 14s\n",
      "422:\tlearn: 0.0626227\ttotal: 54.9s\tremaining: 1m 14s\n",
      "423:\tlearn: 0.0625703\ttotal: 55s\tremaining: 1m 14s\n",
      "424:\tlearn: 0.0624244\ttotal: 55.2s\tremaining: 1m 14s\n",
      "425:\tlearn: 0.0622802\ttotal: 55.3s\tremaining: 1m 14s\n",
      "426:\tlearn: 0.0622546\ttotal: 55.4s\tremaining: 1m 14s\n",
      "427:\tlearn: 0.0622003\ttotal: 55.6s\tremaining: 1m 14s\n",
      "428:\tlearn: 0.0621244\ttotal: 55.7s\tremaining: 1m 14s\n",
      "429:\tlearn: 0.0620569\ttotal: 55.8s\tremaining: 1m 13s\n",
      "430:\tlearn: 0.0619945\ttotal: 55.9s\tremaining: 1m 13s\n",
      "431:\tlearn: 0.0619007\ttotal: 56.1s\tremaining: 1m 13s\n",
      "432:\tlearn: 0.0618857\ttotal: 56.2s\tremaining: 1m 13s\n",
      "433:\tlearn: 0.0618463\ttotal: 56.4s\tremaining: 1m 13s\n",
      "434:\tlearn: 0.0617116\ttotal: 56.5s\tremaining: 1m 13s\n",
      "435:\tlearn: 0.0616902\ttotal: 56.7s\tremaining: 1m 13s\n",
      "436:\tlearn: 0.0616269\ttotal: 56.8s\tremaining: 1m 13s\n",
      "437:\tlearn: 0.0615876\ttotal: 57s\tremaining: 1m 13s\n",
      "438:\tlearn: 0.0615647\ttotal: 57.2s\tremaining: 1m 13s\n",
      "439:\tlearn: 0.0613555\ttotal: 57.4s\tremaining: 1m 12s\n",
      "440:\tlearn: 0.0612842\ttotal: 57.5s\tremaining: 1m 12s\n",
      "441:\tlearn: 0.0612428\ttotal: 57.7s\tremaining: 1m 12s\n",
      "442:\tlearn: 0.0611053\ttotal: 57.8s\tremaining: 1m 12s\n",
      "443:\tlearn: 0.0610723\ttotal: 58s\tremaining: 1m 12s\n",
      "444:\tlearn: 0.0610120\ttotal: 58.2s\tremaining: 1m 12s\n",
      "445:\tlearn: 0.0609495\ttotal: 58.4s\tremaining: 1m 12s\n",
      "446:\tlearn: 0.0608327\ttotal: 58.5s\tremaining: 1m 12s\n",
      "447:\tlearn: 0.0607561\ttotal: 58.7s\tremaining: 1m 12s\n",
      "448:\tlearn: 0.0607250\ttotal: 58.8s\tremaining: 1m 12s\n",
      "449:\tlearn: 0.0606566\ttotal: 59s\tremaining: 1m 12s\n",
      "450:\tlearn: 0.0605942\ttotal: 59.1s\tremaining: 1m 11s\n",
      "451:\tlearn: 0.0605362\ttotal: 59.3s\tremaining: 1m 11s\n",
      "452:\tlearn: 0.0604616\ttotal: 59.4s\tremaining: 1m 11s\n",
      "453:\tlearn: 0.0604239\ttotal: 59.5s\tremaining: 1m 11s\n",
      "454:\tlearn: 0.0603469\ttotal: 59.6s\tremaining: 1m 11s\n",
      "455:\tlearn: 0.0601967\ttotal: 59.7s\tremaining: 1m 11s\n",
      "456:\tlearn: 0.0601872\ttotal: 59.8s\tremaining: 1m 11s\n",
      "457:\tlearn: 0.0601091\ttotal: 60s\tremaining: 1m 10s\n",
      "458:\tlearn: 0.0599908\ttotal: 1m\tremaining: 1m 10s\n",
      "459:\tlearn: 0.0598842\ttotal: 1m\tremaining: 1m 10s\n",
      "460:\tlearn: 0.0598330\ttotal: 1m\tremaining: 1m 10s\n",
      "461:\tlearn: 0.0597627\ttotal: 1m\tremaining: 1m 10s\n",
      "462:\tlearn: 0.0597216\ttotal: 1m\tremaining: 1m 10s\n",
      "463:\tlearn: 0.0596708\ttotal: 1m\tremaining: 1m 10s\n",
      "464:\tlearn: 0.0594867\ttotal: 1m\tremaining: 1m 9s\n",
      "465:\tlearn: 0.0594422\ttotal: 1m\tremaining: 1m 9s\n",
      "466:\tlearn: 0.0594218\ttotal: 1m\tremaining: 1m 9s\n",
      "467:\tlearn: 0.0593621\ttotal: 1m 1s\tremaining: 1m 9s\n",
      "468:\tlearn: 0.0593204\ttotal: 1m 1s\tremaining: 1m 9s\n",
      "469:\tlearn: 0.0592436\ttotal: 1m 1s\tremaining: 1m 9s\n",
      "470:\tlearn: 0.0591627\ttotal: 1m 1s\tremaining: 1m 8s\n",
      "471:\tlearn: 0.0590864\ttotal: 1m 1s\tremaining: 1m 8s\n"
     ]
    },
    {
     "name": "stdout",
     "output_type": "stream",
     "text": [
      "472:\tlearn: 0.0589738\ttotal: 1m 1s\tremaining: 1m 8s\n",
      "473:\tlearn: 0.0588939\ttotal: 1m 1s\tremaining: 1m 8s\n",
      "474:\tlearn: 0.0588069\ttotal: 1m 1s\tremaining: 1m 8s\n",
      "475:\tlearn: 0.0586937\ttotal: 1m 1s\tremaining: 1m 8s\n",
      "476:\tlearn: 0.0586575\ttotal: 1m 2s\tremaining: 1m 8s\n",
      "477:\tlearn: 0.0585543\ttotal: 1m 2s\tremaining: 1m 7s\n",
      "478:\tlearn: 0.0584638\ttotal: 1m 2s\tremaining: 1m 7s\n",
      "479:\tlearn: 0.0583024\ttotal: 1m 2s\tremaining: 1m 7s\n",
      "480:\tlearn: 0.0582624\ttotal: 1m 2s\tremaining: 1m 7s\n",
      "481:\tlearn: 0.0582413\ttotal: 1m 2s\tremaining: 1m 7s\n",
      "482:\tlearn: 0.0581971\ttotal: 1m 2s\tremaining: 1m 7s\n",
      "483:\tlearn: 0.0581440\ttotal: 1m 2s\tremaining: 1m 7s\n",
      "484:\tlearn: 0.0580719\ttotal: 1m 3s\tremaining: 1m 6s\n",
      "485:\tlearn: 0.0580428\ttotal: 1m 3s\tremaining: 1m 6s\n",
      "486:\tlearn: 0.0579514\ttotal: 1m 3s\tremaining: 1m 6s\n",
      "487:\tlearn: 0.0579001\ttotal: 1m 3s\tremaining: 1m 6s\n",
      "488:\tlearn: 0.0578506\ttotal: 1m 3s\tremaining: 1m 6s\n",
      "489:\tlearn: 0.0577772\ttotal: 1m 3s\tremaining: 1m 6s\n",
      "490:\tlearn: 0.0576471\ttotal: 1m 3s\tremaining: 1m 6s\n",
      "491:\tlearn: 0.0576111\ttotal: 1m 3s\tremaining: 1m 5s\n",
      "492:\tlearn: 0.0575844\ttotal: 1m 3s\tremaining: 1m 5s\n",
      "493:\tlearn: 0.0574695\ttotal: 1m 4s\tremaining: 1m 5s\n",
      "494:\tlearn: 0.0574508\ttotal: 1m 4s\tremaining: 1m 5s\n",
      "495:\tlearn: 0.0574487\ttotal: 1m 4s\tremaining: 1m 5s\n",
      "496:\tlearn: 0.0574111\ttotal: 1m 4s\tremaining: 1m 5s\n",
      "497:\tlearn: 0.0573744\ttotal: 1m 4s\tremaining: 1m 5s\n",
      "498:\tlearn: 0.0573353\ttotal: 1m 4s\tremaining: 1m 4s\n",
      "499:\tlearn: 0.0572141\ttotal: 1m 4s\tremaining: 1m 4s\n",
      "500:\tlearn: 0.0571243\ttotal: 1m 4s\tremaining: 1m 4s\n",
      "501:\tlearn: 0.0570576\ttotal: 1m 4s\tremaining: 1m 4s\n",
      "502:\tlearn: 0.0570166\ttotal: 1m 5s\tremaining: 1m 4s\n",
      "503:\tlearn: 0.0569993\ttotal: 1m 5s\tremaining: 1m 4s\n",
      "504:\tlearn: 0.0569279\ttotal: 1m 5s\tremaining: 1m 3s\n",
      "505:\tlearn: 0.0568816\ttotal: 1m 5s\tremaining: 1m 3s\n",
      "506:\tlearn: 0.0568221\ttotal: 1m 5s\tremaining: 1m 3s\n",
      "507:\tlearn: 0.0567952\ttotal: 1m 5s\tremaining: 1m 3s\n",
      "508:\tlearn: 0.0567509\ttotal: 1m 5s\tremaining: 1m 3s\n",
      "509:\tlearn: 0.0566573\ttotal: 1m 5s\tremaining: 1m 3s\n",
      "510:\tlearn: 0.0565818\ttotal: 1m 5s\tremaining: 1m 3s\n",
      "511:\tlearn: 0.0565159\ttotal: 1m 6s\tremaining: 1m 2s\n",
      "512:\tlearn: 0.0564799\ttotal: 1m 6s\tremaining: 1m 2s\n",
      "513:\tlearn: 0.0564488\ttotal: 1m 6s\tremaining: 1m 2s\n",
      "514:\tlearn: 0.0564350\ttotal: 1m 6s\tremaining: 1m 2s\n",
      "515:\tlearn: 0.0563881\ttotal: 1m 6s\tremaining: 1m 2s\n",
      "516:\tlearn: 0.0563311\ttotal: 1m 6s\tremaining: 1m 2s\n",
      "517:\tlearn: 0.0563228\ttotal: 1m 6s\tremaining: 1m 2s\n",
      "518:\tlearn: 0.0561623\ttotal: 1m 6s\tremaining: 1m 1s\n",
      "519:\tlearn: 0.0560517\ttotal: 1m 6s\tremaining: 1m 1s\n",
      "520:\tlearn: 0.0560202\ttotal: 1m 7s\tremaining: 1m 1s\n",
      "521:\tlearn: 0.0559801\ttotal: 1m 7s\tremaining: 1m 1s\n",
      "522:\tlearn: 0.0559517\ttotal: 1m 7s\tremaining: 1m 1s\n",
      "523:\tlearn: 0.0558935\ttotal: 1m 7s\tremaining: 1m 1s\n",
      "524:\tlearn: 0.0558666\ttotal: 1m 7s\tremaining: 1m 1s\n",
      "525:\tlearn: 0.0557223\ttotal: 1m 7s\tremaining: 1m\n",
      "526:\tlearn: 0.0556787\ttotal: 1m 7s\tremaining: 1m\n",
      "527:\tlearn: 0.0556654\ttotal: 1m 7s\tremaining: 1m\n",
      "528:\tlearn: 0.0556074\ttotal: 1m 7s\tremaining: 1m\n",
      "529:\tlearn: 0.0555572\ttotal: 1m 8s\tremaining: 1m\n",
      "530:\tlearn: 0.0555230\ttotal: 1m 8s\tremaining: 1m\n",
      "531:\tlearn: 0.0554614\ttotal: 1m 8s\tremaining: 1m\n",
      "532:\tlearn: 0.0554469\ttotal: 1m 8s\tremaining: 60s\n",
      "533:\tlearn: 0.0554300\ttotal: 1m 8s\tremaining: 59.8s\n",
      "534:\tlearn: 0.0554012\ttotal: 1m 8s\tremaining: 59.7s\n",
      "535:\tlearn: 0.0553908\ttotal: 1m 8s\tremaining: 59.5s\n",
      "536:\tlearn: 0.0553625\ttotal: 1m 8s\tremaining: 59.4s\n",
      "537:\tlearn: 0.0552436\ttotal: 1m 9s\tremaining: 59.3s\n",
      "538:\tlearn: 0.0550859\ttotal: 1m 9s\tremaining: 59.1s\n",
      "539:\tlearn: 0.0550263\ttotal: 1m 9s\tremaining: 59s\n",
      "540:\tlearn: 0.0549665\ttotal: 1m 9s\tremaining: 58.9s\n",
      "541:\tlearn: 0.0548841\ttotal: 1m 9s\tremaining: 58.7s\n",
      "542:\tlearn: 0.0548428\ttotal: 1m 9s\tremaining: 58.6s\n",
      "543:\tlearn: 0.0547927\ttotal: 1m 9s\tremaining: 58.4s\n",
      "544:\tlearn: 0.0547798\ttotal: 1m 9s\tremaining: 58.3s\n",
      "545:\tlearn: 0.0547539\ttotal: 1m 9s\tremaining: 58.2s\n",
      "546:\tlearn: 0.0547325\ttotal: 1m 10s\tremaining: 58s\n",
      "547:\tlearn: 0.0545881\ttotal: 1m 10s\tremaining: 57.9s\n",
      "548:\tlearn: 0.0545094\ttotal: 1m 10s\tremaining: 57.7s\n",
      "549:\tlearn: 0.0543350\ttotal: 1m 10s\tremaining: 57.6s\n",
      "550:\tlearn: 0.0542892\ttotal: 1m 10s\tremaining: 57.5s\n",
      "551:\tlearn: 0.0542495\ttotal: 1m 10s\tremaining: 57.3s\n",
      "552:\tlearn: 0.0542162\ttotal: 1m 10s\tremaining: 57.2s\n",
      "553:\tlearn: 0.0541505\ttotal: 1m 10s\tremaining: 57s\n",
      "554:\tlearn: 0.0540820\ttotal: 1m 10s\tremaining: 56.9s\n",
      "555:\tlearn: 0.0540074\ttotal: 1m 11s\tremaining: 56.8s\n",
      "556:\tlearn: 0.0539699\ttotal: 1m 11s\tremaining: 56.6s\n",
      "557:\tlearn: 0.0538589\ttotal: 1m 11s\tremaining: 56.5s\n",
      "558:\tlearn: 0.0538193\ttotal: 1m 11s\tremaining: 56.3s\n",
      "559:\tlearn: 0.0537948\ttotal: 1m 11s\tremaining: 56.2s\n",
      "560:\tlearn: 0.0537272\ttotal: 1m 11s\tremaining: 56.1s\n",
      "561:\tlearn: 0.0536614\ttotal: 1m 11s\tremaining: 55.9s\n",
      "562:\tlearn: 0.0536350\ttotal: 1m 11s\tremaining: 55.8s\n",
      "563:\tlearn: 0.0535174\ttotal: 1m 11s\tremaining: 55.7s\n",
      "564:\tlearn: 0.0534879\ttotal: 1m 12s\tremaining: 55.5s\n",
      "565:\tlearn: 0.0534670\ttotal: 1m 12s\tremaining: 55.4s\n",
      "566:\tlearn: 0.0534609\ttotal: 1m 12s\tremaining: 55.3s\n",
      "567:\tlearn: 0.0533702\ttotal: 1m 12s\tremaining: 55.2s\n",
      "568:\tlearn: 0.0533475\ttotal: 1m 12s\tremaining: 55s\n",
      "569:\tlearn: 0.0532515\ttotal: 1m 12s\tremaining: 54.9s\n",
      "570:\tlearn: 0.0531996\ttotal: 1m 12s\tremaining: 54.8s\n",
      "571:\tlearn: 0.0531814\ttotal: 1m 13s\tremaining: 54.7s\n",
      "572:\tlearn: 0.0531646\ttotal: 1m 13s\tremaining: 54.6s\n",
      "573:\tlearn: 0.0531142\ttotal: 1m 13s\tremaining: 54.4s\n",
      "574:\tlearn: 0.0530865\ttotal: 1m 13s\tremaining: 54.3s\n",
      "575:\tlearn: 0.0530305\ttotal: 1m 13s\tremaining: 54.2s\n",
      "576:\tlearn: 0.0529809\ttotal: 1m 13s\tremaining: 54.1s\n",
      "577:\tlearn: 0.0529643\ttotal: 1m 13s\tremaining: 54s\n",
      "578:\tlearn: 0.0529243\ttotal: 1m 14s\tremaining: 53.8s\n",
      "579:\tlearn: 0.0528477\ttotal: 1m 14s\tremaining: 53.7s\n",
      "580:\tlearn: 0.0527753\ttotal: 1m 14s\tremaining: 53.6s\n",
      "581:\tlearn: 0.0527709\ttotal: 1m 14s\tremaining: 53.4s\n",
      "582:\tlearn: 0.0527088\ttotal: 1m 14s\tremaining: 53.3s\n",
      "583:\tlearn: 0.0526328\ttotal: 1m 14s\tremaining: 53.2s\n",
      "584:\tlearn: 0.0525901\ttotal: 1m 14s\tremaining: 53s\n",
      "585:\tlearn: 0.0525012\ttotal: 1m 14s\tremaining: 52.9s\n",
      "586:\tlearn: 0.0524771\ttotal: 1m 14s\tremaining: 52.7s\n",
      "587:\tlearn: 0.0523008\ttotal: 1m 15s\tremaining: 52.6s\n",
      "588:\tlearn: 0.0522876\ttotal: 1m 15s\tremaining: 52.5s\n",
      "589:\tlearn: 0.0522688\ttotal: 1m 15s\tremaining: 52.3s\n",
      "590:\tlearn: 0.0521650\ttotal: 1m 15s\tremaining: 52.2s\n",
      "591:\tlearn: 0.0521394\ttotal: 1m 15s\tremaining: 52.1s\n",
      "592:\tlearn: 0.0520857\ttotal: 1m 15s\tremaining: 52s\n",
      "593:\tlearn: 0.0520741\ttotal: 1m 15s\tremaining: 51.8s\n",
      "594:\tlearn: 0.0519839\ttotal: 1m 15s\tremaining: 51.7s\n",
      "595:\tlearn: 0.0519691\ttotal: 1m 16s\tremaining: 51.6s\n",
      "596:\tlearn: 0.0519238\ttotal: 1m 16s\tremaining: 51.4s\n",
      "597:\tlearn: 0.0517856\ttotal: 1m 16s\tremaining: 51.3s\n",
      "598:\tlearn: 0.0517340\ttotal: 1m 16s\tremaining: 51.2s\n",
      "599:\tlearn: 0.0517037\ttotal: 1m 16s\tremaining: 51s\n",
      "600:\tlearn: 0.0516522\ttotal: 1m 16s\tremaining: 50.9s\n",
      "601:\tlearn: 0.0515767\ttotal: 1m 16s\tremaining: 50.7s\n",
      "602:\tlearn: 0.0514107\ttotal: 1m 16s\tremaining: 50.6s\n",
      "603:\tlearn: 0.0513780\ttotal: 1m 16s\tremaining: 50.5s\n",
      "604:\tlearn: 0.0513134\ttotal: 1m 17s\tremaining: 50.3s\n",
      "605:\tlearn: 0.0512797\ttotal: 1m 17s\tremaining: 50.2s\n",
      "606:\tlearn: 0.0512515\ttotal: 1m 17s\tremaining: 50.1s\n",
      "607:\tlearn: 0.0512072\ttotal: 1m 17s\tremaining: 49.9s\n",
      "608:\tlearn: 0.0511331\ttotal: 1m 17s\tremaining: 49.8s\n",
      "609:\tlearn: 0.0510849\ttotal: 1m 17s\tremaining: 49.7s\n",
      "610:\tlearn: 0.0510770\ttotal: 1m 17s\tremaining: 49.5s\n",
      "611:\tlearn: 0.0510453\ttotal: 1m 17s\tremaining: 49.4s\n",
      "612:\tlearn: 0.0509974\ttotal: 1m 18s\tremaining: 49.2s\n",
      "613:\tlearn: 0.0509427\ttotal: 1m 18s\tremaining: 49.1s\n",
      "614:\tlearn: 0.0508365\ttotal: 1m 18s\tremaining: 49s\n",
      "615:\tlearn: 0.0508241\ttotal: 1m 18s\tremaining: 48.8s\n",
      "616:\tlearn: 0.0507240\ttotal: 1m 18s\tremaining: 48.7s\n",
      "617:\tlearn: 0.0506958\ttotal: 1m 18s\tremaining: 48.6s\n",
      "618:\tlearn: 0.0506782\ttotal: 1m 18s\tremaining: 48.4s\n",
      "619:\tlearn: 0.0506558\ttotal: 1m 18s\tremaining: 48.3s\n",
      "620:\tlearn: 0.0506259\ttotal: 1m 18s\tremaining: 48.2s\n",
      "621:\tlearn: 0.0506046\ttotal: 1m 19s\tremaining: 48s\n",
      "622:\tlearn: 0.0505651\ttotal: 1m 19s\tremaining: 47.9s\n",
      "623:\tlearn: 0.0505012\ttotal: 1m 19s\tremaining: 47.8s\n",
      "624:\tlearn: 0.0504730\ttotal: 1m 19s\tremaining: 47.7s\n",
      "625:\tlearn: 0.0504581\ttotal: 1m 19s\tremaining: 47.6s\n",
      "626:\tlearn: 0.0504345\ttotal: 1m 19s\tremaining: 47.4s\n",
      "627:\tlearn: 0.0503323\ttotal: 1m 19s\tremaining: 47.3s\n",
      "628:\tlearn: 0.0503002\ttotal: 1m 19s\tremaining: 47.2s\n",
      "629:\tlearn: 0.0502330\ttotal: 1m 20s\tremaining: 47s\n"
     ]
    },
    {
     "name": "stdout",
     "output_type": "stream",
     "text": [
      "630:\tlearn: 0.0501833\ttotal: 1m 20s\tremaining: 46.9s\n",
      "631:\tlearn: 0.0501648\ttotal: 1m 20s\tremaining: 46.8s\n",
      "632:\tlearn: 0.0501435\ttotal: 1m 20s\tremaining: 46.6s\n",
      "633:\tlearn: 0.0501052\ttotal: 1m 20s\tremaining: 46.5s\n",
      "634:\tlearn: 0.0500645\ttotal: 1m 20s\tremaining: 46.4s\n",
      "635:\tlearn: 0.0500158\ttotal: 1m 20s\tremaining: 46.2s\n",
      "636:\tlearn: 0.0499815\ttotal: 1m 20s\tremaining: 46.1s\n",
      "637:\tlearn: 0.0499445\ttotal: 1m 21s\tremaining: 46s\n",
      "638:\tlearn: 0.0499231\ttotal: 1m 21s\tremaining: 45.8s\n",
      "639:\tlearn: 0.0498939\ttotal: 1m 21s\tremaining: 45.7s\n",
      "640:\tlearn: 0.0498818\ttotal: 1m 21s\tremaining: 45.6s\n",
      "641:\tlearn: 0.0498608\ttotal: 1m 21s\tremaining: 45.4s\n",
      "642:\tlearn: 0.0498575\ttotal: 1m 21s\tremaining: 45.3s\n",
      "643:\tlearn: 0.0498058\ttotal: 1m 21s\tremaining: 45.2s\n",
      "644:\tlearn: 0.0497382\ttotal: 1m 21s\tremaining: 45.1s\n",
      "645:\tlearn: 0.0497243\ttotal: 1m 22s\tremaining: 44.9s\n",
      "646:\tlearn: 0.0496752\ttotal: 1m 22s\tremaining: 44.8s\n",
      "647:\tlearn: 0.0495896\ttotal: 1m 22s\tremaining: 44.7s\n",
      "648:\tlearn: 0.0495257\ttotal: 1m 22s\tremaining: 44.5s\n",
      "649:\tlearn: 0.0494386\ttotal: 1m 22s\tremaining: 44.4s\n",
      "650:\tlearn: 0.0493711\ttotal: 1m 22s\tremaining: 44.3s\n",
      "651:\tlearn: 0.0493502\ttotal: 1m 22s\tremaining: 44.1s\n",
      "652:\tlearn: 0.0493158\ttotal: 1m 22s\tremaining: 44s\n",
      "653:\tlearn: 0.0491524\ttotal: 1m 22s\tremaining: 43.9s\n",
      "654:\tlearn: 0.0490221\ttotal: 1m 23s\tremaining: 43.7s\n",
      "655:\tlearn: 0.0489847\ttotal: 1m 23s\tremaining: 43.6s\n",
      "656:\tlearn: 0.0489286\ttotal: 1m 23s\tremaining: 43.5s\n",
      "657:\tlearn: 0.0489013\ttotal: 1m 23s\tremaining: 43.3s\n",
      "658:\tlearn: 0.0488698\ttotal: 1m 23s\tremaining: 43.2s\n",
      "659:\tlearn: 0.0488268\ttotal: 1m 23s\tremaining: 43.1s\n",
      "660:\tlearn: 0.0487891\ttotal: 1m 23s\tremaining: 42.9s\n",
      "661:\tlearn: 0.0487482\ttotal: 1m 23s\tremaining: 42.8s\n",
      "662:\tlearn: 0.0486784\ttotal: 1m 23s\tremaining: 42.7s\n",
      "663:\tlearn: 0.0486184\ttotal: 1m 24s\tremaining: 42.6s\n",
      "664:\tlearn: 0.0484594\ttotal: 1m 24s\tremaining: 42.4s\n",
      "665:\tlearn: 0.0484084\ttotal: 1m 24s\tremaining: 42.3s\n",
      "666:\tlearn: 0.0483826\ttotal: 1m 24s\tremaining: 42.2s\n",
      "667:\tlearn: 0.0483264\ttotal: 1m 24s\tremaining: 42s\n",
      "668:\tlearn: 0.0482684\ttotal: 1m 24s\tremaining: 41.9s\n",
      "669:\tlearn: 0.0482066\ttotal: 1m 24s\tremaining: 41.8s\n",
      "670:\tlearn: 0.0481155\ttotal: 1m 24s\tremaining: 41.7s\n",
      "671:\tlearn: 0.0480915\ttotal: 1m 25s\tremaining: 41.5s\n",
      "672:\tlearn: 0.0480219\ttotal: 1m 25s\tremaining: 41.4s\n",
      "673:\tlearn: 0.0480147\ttotal: 1m 25s\tremaining: 41.3s\n",
      "674:\tlearn: 0.0480063\ttotal: 1m 25s\tremaining: 41.1s\n",
      "675:\tlearn: 0.0479448\ttotal: 1m 25s\tremaining: 41s\n",
      "676:\tlearn: 0.0479291\ttotal: 1m 25s\tremaining: 40.9s\n",
      "677:\tlearn: 0.0478875\ttotal: 1m 25s\tremaining: 40.7s\n",
      "678:\tlearn: 0.0478588\ttotal: 1m 25s\tremaining: 40.6s\n",
      "679:\tlearn: 0.0477643\ttotal: 1m 26s\tremaining: 40.5s\n",
      "680:\tlearn: 0.0476809\ttotal: 1m 26s\tremaining: 40.3s\n",
      "681:\tlearn: 0.0476437\ttotal: 1m 26s\tremaining: 40.2s\n",
      "682:\tlearn: 0.0476203\ttotal: 1m 26s\tremaining: 40.1s\n",
      "683:\tlearn: 0.0475386\ttotal: 1m 26s\tremaining: 39.9s\n",
      "684:\tlearn: 0.0475108\ttotal: 1m 26s\tremaining: 39.8s\n",
      "685:\tlearn: 0.0474467\ttotal: 1m 26s\tremaining: 39.7s\n",
      "686:\tlearn: 0.0474165\ttotal: 1m 26s\tremaining: 39.5s\n",
      "687:\tlearn: 0.0473782\ttotal: 1m 26s\tremaining: 39.4s\n",
      "688:\tlearn: 0.0473573\ttotal: 1m 27s\tremaining: 39.3s\n",
      "689:\tlearn: 0.0473331\ttotal: 1m 27s\tremaining: 39.1s\n",
      "690:\tlearn: 0.0471830\ttotal: 1m 27s\tremaining: 39s\n",
      "691:\tlearn: 0.0471375\ttotal: 1m 27s\tremaining: 38.9s\n",
      "692:\tlearn: 0.0471088\ttotal: 1m 27s\tremaining: 38.8s\n",
      "693:\tlearn: 0.0470754\ttotal: 1m 27s\tremaining: 38.6s\n",
      "694:\tlearn: 0.0470298\ttotal: 1m 27s\tremaining: 38.5s\n",
      "695:\tlearn: 0.0470128\ttotal: 1m 27s\tremaining: 38.4s\n",
      "696:\tlearn: 0.0469596\ttotal: 1m 28s\tremaining: 38.3s\n",
      "697:\tlearn: 0.0468375\ttotal: 1m 28s\tremaining: 38.2s\n",
      "698:\tlearn: 0.0468111\ttotal: 1m 28s\tremaining: 38.1s\n",
      "699:\tlearn: 0.0467906\ttotal: 1m 28s\tremaining: 37.9s\n",
      "700:\tlearn: 0.0467521\ttotal: 1m 28s\tremaining: 37.8s\n",
      "701:\tlearn: 0.0467374\ttotal: 1m 28s\tremaining: 37.7s\n",
      "702:\tlearn: 0.0466494\ttotal: 1m 28s\tremaining: 37.6s\n",
      "703:\tlearn: 0.0465935\ttotal: 1m 29s\tremaining: 37.5s\n",
      "704:\tlearn: 0.0465905\ttotal: 1m 29s\tremaining: 37.3s\n",
      "705:\tlearn: 0.0464441\ttotal: 1m 29s\tremaining: 37.2s\n",
      "706:\tlearn: 0.0463950\ttotal: 1m 29s\tremaining: 37.1s\n",
      "707:\tlearn: 0.0463672\ttotal: 1m 29s\tremaining: 37s\n",
      "708:\tlearn: 0.0463360\ttotal: 1m 29s\tremaining: 36.8s\n",
      "709:\tlearn: 0.0463063\ttotal: 1m 29s\tremaining: 36.7s\n",
      "710:\tlearn: 0.0462546\ttotal: 1m 29s\tremaining: 36.6s\n",
      "711:\tlearn: 0.0461941\ttotal: 1m 30s\tremaining: 36.4s\n",
      "712:\tlearn: 0.0461633\ttotal: 1m 30s\tremaining: 36.3s\n",
      "713:\tlearn: 0.0461428\ttotal: 1m 30s\tremaining: 36.2s\n",
      "714:\tlearn: 0.0461407\ttotal: 1m 30s\tremaining: 36.1s\n",
      "715:\tlearn: 0.0460856\ttotal: 1m 30s\tremaining: 35.9s\n",
      "716:\tlearn: 0.0460761\ttotal: 1m 30s\tremaining: 35.8s\n",
      "717:\tlearn: 0.0460595\ttotal: 1m 30s\tremaining: 35.7s\n",
      "718:\tlearn: 0.0460456\ttotal: 1m 30s\tremaining: 35.5s\n",
      "719:\tlearn: 0.0460082\ttotal: 1m 31s\tremaining: 35.4s\n",
      "720:\tlearn: 0.0459839\ttotal: 1m 31s\tremaining: 35.3s\n",
      "721:\tlearn: 0.0459740\ttotal: 1m 31s\tremaining: 35.1s\n",
      "722:\tlearn: 0.0459369\ttotal: 1m 31s\tremaining: 35s\n",
      "723:\tlearn: 0.0458669\ttotal: 1m 31s\tremaining: 34.9s\n",
      "724:\tlearn: 0.0458315\ttotal: 1m 31s\tremaining: 34.7s\n",
      "725:\tlearn: 0.0458147\ttotal: 1m 31s\tremaining: 34.6s\n",
      "726:\tlearn: 0.0457142\ttotal: 1m 31s\tremaining: 34.5s\n",
      "727:\tlearn: 0.0456599\ttotal: 1m 31s\tremaining: 34.3s\n",
      "728:\tlearn: 0.0456419\ttotal: 1m 32s\tremaining: 34.2s\n",
      "729:\tlearn: 0.0456215\ttotal: 1m 32s\tremaining: 34.1s\n",
      "730:\tlearn: 0.0455786\ttotal: 1m 32s\tremaining: 34s\n",
      "731:\tlearn: 0.0455592\ttotal: 1m 32s\tremaining: 33.8s\n",
      "732:\tlearn: 0.0454895\ttotal: 1m 32s\tremaining: 33.7s\n",
      "733:\tlearn: 0.0454539\ttotal: 1m 32s\tremaining: 33.6s\n",
      "734:\tlearn: 0.0454240\ttotal: 1m 32s\tremaining: 33.4s\n",
      "735:\tlearn: 0.0453545\ttotal: 1m 32s\tremaining: 33.3s\n",
      "736:\tlearn: 0.0453365\ttotal: 1m 32s\tremaining: 33.2s\n",
      "737:\tlearn: 0.0452986\ttotal: 1m 33s\tremaining: 33s\n",
      "738:\tlearn: 0.0451901\ttotal: 1m 33s\tremaining: 32.9s\n",
      "739:\tlearn: 0.0451336\ttotal: 1m 33s\tremaining: 32.8s\n",
      "740:\tlearn: 0.0450788\ttotal: 1m 33s\tremaining: 32.7s\n",
      "741:\tlearn: 0.0450330\ttotal: 1m 33s\tremaining: 32.5s\n",
      "742:\tlearn: 0.0450229\ttotal: 1m 33s\tremaining: 32.4s\n",
      "743:\tlearn: 0.0449078\ttotal: 1m 33s\tremaining: 32.3s\n",
      "744:\tlearn: 0.0448968\ttotal: 1m 33s\tremaining: 32.1s\n",
      "745:\tlearn: 0.0448072\ttotal: 1m 34s\tremaining: 32s\n",
      "746:\tlearn: 0.0447625\ttotal: 1m 34s\tremaining: 31.9s\n",
      "747:\tlearn: 0.0446750\ttotal: 1m 34s\tremaining: 31.8s\n",
      "748:\tlearn: 0.0446472\ttotal: 1m 34s\tremaining: 31.6s\n",
      "749:\tlearn: 0.0445982\ttotal: 1m 34s\tremaining: 31.5s\n",
      "750:\tlearn: 0.0445484\ttotal: 1m 34s\tremaining: 31.4s\n",
      "751:\tlearn: 0.0445066\ttotal: 1m 34s\tremaining: 31.2s\n",
      "752:\tlearn: 0.0444980\ttotal: 1m 34s\tremaining: 31.1s\n",
      "753:\tlearn: 0.0444368\ttotal: 1m 34s\tremaining: 31s\n",
      "754:\tlearn: 0.0444146\ttotal: 1m 35s\tremaining: 30.9s\n",
      "755:\tlearn: 0.0443824\ttotal: 1m 35s\tremaining: 30.7s\n",
      "756:\tlearn: 0.0442996\ttotal: 1m 35s\tremaining: 30.6s\n",
      "757:\tlearn: 0.0442504\ttotal: 1m 35s\tremaining: 30.5s\n",
      "758:\tlearn: 0.0441311\ttotal: 1m 35s\tremaining: 30.3s\n",
      "759:\tlearn: 0.0441160\ttotal: 1m 35s\tremaining: 30.2s\n",
      "760:\tlearn: 0.0440670\ttotal: 1m 35s\tremaining: 30.1s\n",
      "761:\tlearn: 0.0440408\ttotal: 1m 35s\tremaining: 29.9s\n",
      "762:\tlearn: 0.0440013\ttotal: 1m 36s\tremaining: 29.8s\n",
      "763:\tlearn: 0.0439800\ttotal: 1m 36s\tremaining: 29.7s\n",
      "764:\tlearn: 0.0439431\ttotal: 1m 36s\tremaining: 29.6s\n",
      "765:\tlearn: 0.0439065\ttotal: 1m 36s\tremaining: 29.4s\n",
      "766:\tlearn: 0.0438898\ttotal: 1m 36s\tremaining: 29.3s\n",
      "767:\tlearn: 0.0438216\ttotal: 1m 36s\tremaining: 29.2s\n",
      "768:\tlearn: 0.0437107\ttotal: 1m 36s\tremaining: 29s\n",
      "769:\tlearn: 0.0436939\ttotal: 1m 36s\tremaining: 28.9s\n",
      "770:\tlearn: 0.0436456\ttotal: 1m 36s\tremaining: 28.8s\n",
      "771:\tlearn: 0.0435937\ttotal: 1m 37s\tremaining: 28.7s\n",
      "772:\tlearn: 0.0435747\ttotal: 1m 37s\tremaining: 28.5s\n",
      "773:\tlearn: 0.0435393\ttotal: 1m 37s\tremaining: 28.4s\n",
      "774:\tlearn: 0.0434654\ttotal: 1m 37s\tremaining: 28.3s\n",
      "775:\tlearn: 0.0434088\ttotal: 1m 37s\tremaining: 28.1s\n",
      "776:\tlearn: 0.0434033\ttotal: 1m 37s\tremaining: 28s\n",
      "777:\tlearn: 0.0433830\ttotal: 1m 37s\tremaining: 27.9s\n",
      "778:\tlearn: 0.0433612\ttotal: 1m 37s\tremaining: 27.8s\n",
      "779:\tlearn: 0.0433163\ttotal: 1m 37s\tremaining: 27.6s\n",
      "780:\tlearn: 0.0432725\ttotal: 1m 38s\tremaining: 27.5s\n",
      "781:\tlearn: 0.0432301\ttotal: 1m 38s\tremaining: 27.4s\n",
      "782:\tlearn: 0.0431939\ttotal: 1m 38s\tremaining: 27.2s\n",
      "783:\tlearn: 0.0431607\ttotal: 1m 38s\tremaining: 27.1s\n",
      "784:\tlearn: 0.0431060\ttotal: 1m 38s\tremaining: 27s\n",
      "785:\tlearn: 0.0429612\ttotal: 1m 38s\tremaining: 26.9s\n"
     ]
    },
    {
     "name": "stdout",
     "output_type": "stream",
     "text": [
      "786:\tlearn: 0.0428615\ttotal: 1m 38s\tremaining: 26.7s\n",
      "787:\tlearn: 0.0428003\ttotal: 1m 38s\tremaining: 26.6s\n",
      "788:\tlearn: 0.0427452\ttotal: 1m 39s\tremaining: 26.5s\n",
      "789:\tlearn: 0.0427287\ttotal: 1m 39s\tremaining: 26.3s\n",
      "790:\tlearn: 0.0426740\ttotal: 1m 39s\tremaining: 26.2s\n",
      "791:\tlearn: 0.0426261\ttotal: 1m 39s\tremaining: 26.1s\n",
      "792:\tlearn: 0.0426090\ttotal: 1m 39s\tremaining: 26s\n",
      "793:\tlearn: 0.0425581\ttotal: 1m 39s\tremaining: 25.8s\n",
      "794:\tlearn: 0.0425364\ttotal: 1m 39s\tremaining: 25.7s\n",
      "795:\tlearn: 0.0425200\ttotal: 1m 39s\tremaining: 25.6s\n",
      "796:\tlearn: 0.0424852\ttotal: 1m 39s\tremaining: 25.4s\n",
      "797:\tlearn: 0.0423901\ttotal: 1m 40s\tremaining: 25.3s\n",
      "798:\tlearn: 0.0423736\ttotal: 1m 40s\tremaining: 25.2s\n",
      "799:\tlearn: 0.0423655\ttotal: 1m 40s\tremaining: 25.1s\n",
      "800:\tlearn: 0.0423568\ttotal: 1m 40s\tremaining: 24.9s\n",
      "801:\tlearn: 0.0422363\ttotal: 1m 40s\tremaining: 24.8s\n",
      "802:\tlearn: 0.0421170\ttotal: 1m 40s\tremaining: 24.7s\n",
      "803:\tlearn: 0.0421047\ttotal: 1m 40s\tremaining: 24.5s\n",
      "804:\tlearn: 0.0420927\ttotal: 1m 40s\tremaining: 24.4s\n",
      "805:\tlearn: 0.0420578\ttotal: 1m 40s\tremaining: 24.3s\n",
      "806:\tlearn: 0.0420479\ttotal: 1m 41s\tremaining: 24.2s\n",
      "807:\tlearn: 0.0420414\ttotal: 1m 41s\tremaining: 24s\n",
      "808:\tlearn: 0.0420182\ttotal: 1m 41s\tremaining: 23.9s\n",
      "809:\tlearn: 0.0419955\ttotal: 1m 41s\tremaining: 23.8s\n",
      "810:\tlearn: 0.0419802\ttotal: 1m 41s\tremaining: 23.7s\n",
      "811:\tlearn: 0.0418735\ttotal: 1m 41s\tremaining: 23.5s\n",
      "812:\tlearn: 0.0418698\ttotal: 1m 41s\tremaining: 23.4s\n",
      "813:\tlearn: 0.0418564\ttotal: 1m 41s\tremaining: 23.3s\n",
      "814:\tlearn: 0.0418164\ttotal: 1m 41s\tremaining: 23.1s\n",
      "815:\tlearn: 0.0417728\ttotal: 1m 42s\tremaining: 23s\n",
      "816:\tlearn: 0.0417366\ttotal: 1m 42s\tremaining: 22.9s\n",
      "817:\tlearn: 0.0417213\ttotal: 1m 42s\tremaining: 22.8s\n",
      "818:\tlearn: 0.0417149\ttotal: 1m 42s\tremaining: 22.6s\n",
      "819:\tlearn: 0.0417064\ttotal: 1m 42s\tremaining: 22.5s\n",
      "820:\tlearn: 0.0416921\ttotal: 1m 42s\tremaining: 22.4s\n",
      "821:\tlearn: 0.0416474\ttotal: 1m 42s\tremaining: 22.3s\n",
      "822:\tlearn: 0.0415955\ttotal: 1m 42s\tremaining: 22.1s\n",
      "823:\tlearn: 0.0415465\ttotal: 1m 43s\tremaining: 22s\n",
      "824:\tlearn: 0.0415174\ttotal: 1m 43s\tremaining: 21.9s\n",
      "825:\tlearn: 0.0414944\ttotal: 1m 43s\tremaining: 21.7s\n",
      "826:\tlearn: 0.0414789\ttotal: 1m 43s\tremaining: 21.6s\n",
      "827:\tlearn: 0.0414665\ttotal: 1m 43s\tremaining: 21.5s\n",
      "828:\tlearn: 0.0414619\ttotal: 1m 43s\tremaining: 21.4s\n",
      "829:\tlearn: 0.0413122\ttotal: 1m 43s\tremaining: 21.2s\n",
      "830:\tlearn: 0.0412304\ttotal: 1m 43s\tremaining: 21.1s\n",
      "831:\tlearn: 0.0411981\ttotal: 1m 44s\tremaining: 21s\n",
      "832:\tlearn: 0.0411752\ttotal: 1m 44s\tremaining: 20.9s\n",
      "833:\tlearn: 0.0410474\ttotal: 1m 44s\tremaining: 20.8s\n",
      "834:\tlearn: 0.0410099\ttotal: 1m 44s\tremaining: 20.6s\n",
      "835:\tlearn: 0.0409997\ttotal: 1m 44s\tremaining: 20.5s\n",
      "836:\tlearn: 0.0409793\ttotal: 1m 44s\tremaining: 20.4s\n",
      "837:\tlearn: 0.0409620\ttotal: 1m 44s\tremaining: 20.3s\n",
      "838:\tlearn: 0.0409425\ttotal: 1m 45s\tremaining: 20.2s\n",
      "839:\tlearn: 0.0409094\ttotal: 1m 45s\tremaining: 20s\n",
      "840:\tlearn: 0.0408651\ttotal: 1m 45s\tremaining: 19.9s\n",
      "841:\tlearn: 0.0408616\ttotal: 1m 45s\tremaining: 19.8s\n",
      "842:\tlearn: 0.0408133\ttotal: 1m 45s\tremaining: 19.7s\n",
      "843:\tlearn: 0.0407888\ttotal: 1m 45s\tremaining: 19.6s\n",
      "844:\tlearn: 0.0407367\ttotal: 1m 46s\tremaining: 19.4s\n",
      "845:\tlearn: 0.0407045\ttotal: 1m 46s\tremaining: 19.3s\n",
      "846:\tlearn: 0.0406853\ttotal: 1m 46s\tremaining: 19.2s\n",
      "847:\tlearn: 0.0406707\ttotal: 1m 46s\tremaining: 19.1s\n",
      "848:\tlearn: 0.0406403\ttotal: 1m 46s\tremaining: 18.9s\n",
      "849:\tlearn: 0.0406130\ttotal: 1m 46s\tremaining: 18.8s\n",
      "850:\tlearn: 0.0405931\ttotal: 1m 46s\tremaining: 18.7s\n",
      "851:\tlearn: 0.0405768\ttotal: 1m 46s\tremaining: 18.6s\n",
      "852:\tlearn: 0.0405529\ttotal: 1m 47s\tremaining: 18.5s\n",
      "853:\tlearn: 0.0405264\ttotal: 1m 47s\tremaining: 18.3s\n",
      "854:\tlearn: 0.0405125\ttotal: 1m 47s\tremaining: 18.2s\n",
      "855:\tlearn: 0.0404338\ttotal: 1m 47s\tremaining: 18.1s\n",
      "856:\tlearn: 0.0404220\ttotal: 1m 47s\tremaining: 18s\n",
      "857:\tlearn: 0.0403870\ttotal: 1m 47s\tremaining: 17.8s\n",
      "858:\tlearn: 0.0403303\ttotal: 1m 47s\tremaining: 17.7s\n",
      "859:\tlearn: 0.0403214\ttotal: 1m 47s\tremaining: 17.6s\n",
      "860:\tlearn: 0.0403100\ttotal: 1m 48s\tremaining: 17.5s\n",
      "861:\tlearn: 0.0402835\ttotal: 1m 48s\tremaining: 17.3s\n",
      "862:\tlearn: 0.0402015\ttotal: 1m 48s\tremaining: 17.2s\n",
      "863:\tlearn: 0.0401726\ttotal: 1m 48s\tremaining: 17.1s\n",
      "864:\tlearn: 0.0401539\ttotal: 1m 48s\tremaining: 16.9s\n",
      "865:\tlearn: 0.0400897\ttotal: 1m 48s\tremaining: 16.8s\n",
      "866:\tlearn: 0.0400758\ttotal: 1m 48s\tremaining: 16.7s\n",
      "867:\tlearn: 0.0400626\ttotal: 1m 48s\tremaining: 16.6s\n",
      "868:\tlearn: 0.0400562\ttotal: 1m 49s\tremaining: 16.4s\n",
      "869:\tlearn: 0.0400034\ttotal: 1m 49s\tremaining: 16.3s\n",
      "870:\tlearn: 0.0399851\ttotal: 1m 49s\tremaining: 16.2s\n",
      "871:\tlearn: 0.0398247\ttotal: 1m 49s\tremaining: 16.1s\n",
      "872:\tlearn: 0.0398040\ttotal: 1m 49s\tremaining: 15.9s\n",
      "873:\tlearn: 0.0397589\ttotal: 1m 49s\tremaining: 15.8s\n",
      "874:\tlearn: 0.0397417\ttotal: 1m 49s\tremaining: 15.7s\n",
      "875:\tlearn: 0.0397278\ttotal: 1m 49s\tremaining: 15.6s\n",
      "876:\tlearn: 0.0396953\ttotal: 1m 50s\tremaining: 15.4s\n",
      "877:\tlearn: 0.0396721\ttotal: 1m 50s\tremaining: 15.3s\n",
      "878:\tlearn: 0.0396042\ttotal: 1m 50s\tremaining: 15.2s\n",
      "879:\tlearn: 0.0395618\ttotal: 1m 50s\tremaining: 15.1s\n",
      "880:\tlearn: 0.0395021\ttotal: 1m 50s\tremaining: 14.9s\n",
      "881:\tlearn: 0.0394931\ttotal: 1m 50s\tremaining: 14.8s\n",
      "882:\tlearn: 0.0394752\ttotal: 1m 50s\tremaining: 14.7s\n",
      "883:\tlearn: 0.0394271\ttotal: 1m 50s\tremaining: 14.5s\n",
      "884:\tlearn: 0.0393634\ttotal: 1m 50s\tremaining: 14.4s\n",
      "885:\tlearn: 0.0392909\ttotal: 1m 51s\tremaining: 14.3s\n",
      "886:\tlearn: 0.0392618\ttotal: 1m 51s\tremaining: 14.2s\n",
      "887:\tlearn: 0.0392313\ttotal: 1m 51s\tremaining: 14s\n",
      "888:\tlearn: 0.0392157\ttotal: 1m 51s\tremaining: 13.9s\n",
      "889:\tlearn: 0.0391848\ttotal: 1m 51s\tremaining: 13.8s\n",
      "890:\tlearn: 0.0391518\ttotal: 1m 51s\tremaining: 13.7s\n",
      "891:\tlearn: 0.0390659\ttotal: 1m 51s\tremaining: 13.5s\n",
      "892:\tlearn: 0.0390382\ttotal: 1m 51s\tremaining: 13.4s\n",
      "893:\tlearn: 0.0390053\ttotal: 1m 52s\tremaining: 13.3s\n",
      "894:\tlearn: 0.0389978\ttotal: 1m 52s\tremaining: 13.2s\n",
      "895:\tlearn: 0.0389177\ttotal: 1m 52s\tremaining: 13s\n",
      "896:\tlearn: 0.0388588\ttotal: 1m 52s\tremaining: 12.9s\n",
      "897:\tlearn: 0.0388423\ttotal: 1m 52s\tremaining: 12.8s\n",
      "898:\tlearn: 0.0387846\ttotal: 1m 52s\tremaining: 12.6s\n",
      "899:\tlearn: 0.0387284\ttotal: 1m 52s\tremaining: 12.5s\n",
      "900:\tlearn: 0.0386745\ttotal: 1m 52s\tremaining: 12.4s\n",
      "901:\tlearn: 0.0386597\ttotal: 1m 52s\tremaining: 12.3s\n",
      "902:\tlearn: 0.0386170\ttotal: 1m 53s\tremaining: 12.1s\n",
      "903:\tlearn: 0.0386093\ttotal: 1m 53s\tremaining: 12s\n",
      "904:\tlearn: 0.0385477\ttotal: 1m 53s\tremaining: 11.9s\n",
      "905:\tlearn: 0.0384116\ttotal: 1m 53s\tremaining: 11.8s\n",
      "906:\tlearn: 0.0383744\ttotal: 1m 53s\tremaining: 11.6s\n",
      "907:\tlearn: 0.0383161\ttotal: 1m 53s\tremaining: 11.5s\n",
      "908:\tlearn: 0.0383019\ttotal: 1m 53s\tremaining: 11.4s\n",
      "909:\tlearn: 0.0382794\ttotal: 1m 53s\tremaining: 11.3s\n",
      "910:\tlearn: 0.0382291\ttotal: 1m 53s\tremaining: 11.1s\n",
      "911:\tlearn: 0.0382030\ttotal: 1m 54s\tremaining: 11s\n",
      "912:\tlearn: 0.0380702\ttotal: 1m 54s\tremaining: 10.9s\n",
      "913:\tlearn: 0.0380473\ttotal: 1m 54s\tremaining: 10.8s\n",
      "914:\tlearn: 0.0380074\ttotal: 1m 54s\tremaining: 10.6s\n",
      "915:\tlearn: 0.0379789\ttotal: 1m 54s\tremaining: 10.5s\n",
      "916:\tlearn: 0.0379549\ttotal: 1m 54s\tremaining: 10.4s\n",
      "917:\tlearn: 0.0379404\ttotal: 1m 54s\tremaining: 10.3s\n",
      "918:\tlearn: 0.0378560\ttotal: 1m 54s\tremaining: 10.1s\n",
      "919:\tlearn: 0.0378089\ttotal: 1m 54s\tremaining: 10s\n",
      "920:\tlearn: 0.0378015\ttotal: 1m 55s\tremaining: 9.87s\n",
      "921:\tlearn: 0.0377520\ttotal: 1m 55s\tremaining: 9.75s\n",
      "922:\tlearn: 0.0377248\ttotal: 1m 55s\tremaining: 9.62s\n",
      "923:\tlearn: 0.0377202\ttotal: 1m 55s\tremaining: 9.5s\n",
      "924:\tlearn: 0.0377125\ttotal: 1m 55s\tremaining: 9.37s\n",
      "925:\tlearn: 0.0376894\ttotal: 1m 55s\tremaining: 9.25s\n",
      "926:\tlearn: 0.0376530\ttotal: 1m 55s\tremaining: 9.12s\n",
      "927:\tlearn: 0.0376482\ttotal: 1m 55s\tremaining: 9s\n",
      "928:\tlearn: 0.0376076\ttotal: 1m 56s\tremaining: 8.87s\n",
      "929:\tlearn: 0.0375946\ttotal: 1m 56s\tremaining: 8.75s\n",
      "930:\tlearn: 0.0375620\ttotal: 1m 56s\tremaining: 8.63s\n",
      "931:\tlearn: 0.0375435\ttotal: 1m 56s\tremaining: 8.5s\n",
      "932:\tlearn: 0.0375111\ttotal: 1m 56s\tremaining: 8.38s\n",
      "933:\tlearn: 0.0374800\ttotal: 1m 56s\tremaining: 8.25s\n",
      "934:\tlearn: 0.0374540\ttotal: 1m 56s\tremaining: 8.13s\n",
      "935:\tlearn: 0.0374390\ttotal: 1m 57s\tremaining: 8s\n",
      "936:\tlearn: 0.0374179\ttotal: 1m 57s\tremaining: 7.88s\n",
      "937:\tlearn: 0.0373154\ttotal: 1m 57s\tremaining: 7.75s\n",
      "938:\tlearn: 0.0373037\ttotal: 1m 57s\tremaining: 7.63s\n",
      "939:\tlearn: 0.0372744\ttotal: 1m 57s\tremaining: 7.5s\n",
      "940:\tlearn: 0.0372628\ttotal: 1m 57s\tremaining: 7.38s\n",
      "941:\tlearn: 0.0372422\ttotal: 1m 57s\tremaining: 7.25s\n"
     ]
    },
    {
     "name": "stdout",
     "output_type": "stream",
     "text": [
      "942:\tlearn: 0.0372290\ttotal: 1m 57s\tremaining: 7.13s\n",
      "943:\tlearn: 0.0372241\ttotal: 1m 58s\tremaining: 7s\n",
      "944:\tlearn: 0.0371978\ttotal: 1m 58s\tremaining: 6.88s\n",
      "945:\tlearn: 0.0371856\ttotal: 1m 58s\tremaining: 6.75s\n",
      "946:\tlearn: 0.0371200\ttotal: 1m 58s\tremaining: 6.63s\n",
      "947:\tlearn: 0.0370851\ttotal: 1m 58s\tremaining: 6.5s\n",
      "948:\tlearn: 0.0370483\ttotal: 1m 58s\tremaining: 6.38s\n",
      "949:\tlearn: 0.0370263\ttotal: 1m 58s\tremaining: 6.25s\n",
      "950:\tlearn: 0.0370165\ttotal: 1m 58s\tremaining: 6.13s\n",
      "951:\tlearn: 0.0369911\ttotal: 1m 59s\tremaining: 6.01s\n",
      "952:\tlearn: 0.0369732\ttotal: 1m 59s\tremaining: 5.88s\n",
      "953:\tlearn: 0.0369466\ttotal: 1m 59s\tremaining: 5.76s\n",
      "954:\tlearn: 0.0369281\ttotal: 1m 59s\tremaining: 5.63s\n",
      "955:\tlearn: 0.0369196\ttotal: 1m 59s\tremaining: 5.51s\n",
      "956:\tlearn: 0.0369113\ttotal: 1m 59s\tremaining: 5.38s\n",
      "957:\tlearn: 0.0368875\ttotal: 2m\tremaining: 5.26s\n",
      "958:\tlearn: 0.0368317\ttotal: 2m\tremaining: 5.14s\n",
      "959:\tlearn: 0.0368240\ttotal: 2m\tremaining: 5.01s\n",
      "960:\tlearn: 0.0367537\ttotal: 2m\tremaining: 4.89s\n",
      "961:\tlearn: 0.0367464\ttotal: 2m\tremaining: 4.77s\n",
      "962:\tlearn: 0.0367340\ttotal: 2m\tremaining: 4.64s\n",
      "963:\tlearn: 0.0366991\ttotal: 2m\tremaining: 4.52s\n",
      "964:\tlearn: 0.0366493\ttotal: 2m 1s\tremaining: 4.39s\n",
      "965:\tlearn: 0.0366054\ttotal: 2m 1s\tremaining: 4.27s\n",
      "966:\tlearn: 0.0365855\ttotal: 2m 1s\tremaining: 4.14s\n",
      "967:\tlearn: 0.0365748\ttotal: 2m 1s\tremaining: 4.02s\n",
      "968:\tlearn: 0.0365594\ttotal: 2m 1s\tremaining: 3.89s\n",
      "969:\tlearn: 0.0365289\ttotal: 2m 1s\tremaining: 3.77s\n",
      "970:\tlearn: 0.0364622\ttotal: 2m 2s\tremaining: 3.64s\n",
      "971:\tlearn: 0.0364448\ttotal: 2m 2s\tremaining: 3.52s\n",
      "972:\tlearn: 0.0364201\ttotal: 2m 2s\tremaining: 3.39s\n",
      "973:\tlearn: 0.0363753\ttotal: 2m 2s\tremaining: 3.27s\n",
      "974:\tlearn: 0.0363542\ttotal: 2m 2s\tremaining: 3.14s\n",
      "975:\tlearn: 0.0362820\ttotal: 2m 2s\tremaining: 3.02s\n",
      "976:\tlearn: 0.0362535\ttotal: 2m 2s\tremaining: 2.89s\n",
      "977:\tlearn: 0.0362383\ttotal: 2m 2s\tremaining: 2.77s\n",
      "978:\tlearn: 0.0362196\ttotal: 2m 3s\tremaining: 2.64s\n",
      "979:\tlearn: 0.0361757\ttotal: 2m 3s\tremaining: 2.52s\n",
      "980:\tlearn: 0.0361591\ttotal: 2m 3s\tremaining: 2.39s\n",
      "981:\tlearn: 0.0361304\ttotal: 2m 3s\tremaining: 2.26s\n",
      "982:\tlearn: 0.0360958\ttotal: 2m 3s\tremaining: 2.14s\n",
      "983:\tlearn: 0.0360917\ttotal: 2m 3s\tremaining: 2.01s\n",
      "984:\tlearn: 0.0360349\ttotal: 2m 3s\tremaining: 1.89s\n",
      "985:\tlearn: 0.0360195\ttotal: 2m 4s\tremaining: 1.76s\n",
      "986:\tlearn: 0.0359819\ttotal: 2m 4s\tremaining: 1.64s\n",
      "987:\tlearn: 0.0359140\ttotal: 2m 4s\tremaining: 1.51s\n",
      "988:\tlearn: 0.0358764\ttotal: 2m 4s\tremaining: 1.38s\n",
      "989:\tlearn: 0.0358680\ttotal: 2m 4s\tremaining: 1.26s\n",
      "990:\tlearn: 0.0358645\ttotal: 2m 4s\tremaining: 1.13s\n",
      "991:\tlearn: 0.0358139\ttotal: 2m 4s\tremaining: 1.01s\n",
      "992:\tlearn: 0.0357548\ttotal: 2m 5s\tremaining: 882ms\n",
      "993:\tlearn: 0.0356687\ttotal: 2m 5s\tremaining: 756ms\n",
      "994:\tlearn: 0.0356543\ttotal: 2m 5s\tremaining: 630ms\n",
      "995:\tlearn: 0.0356263\ttotal: 2m 5s\tremaining: 504ms\n",
      "996:\tlearn: 0.0355861\ttotal: 2m 5s\tremaining: 378ms\n",
      "997:\tlearn: 0.0355566\ttotal: 2m 5s\tremaining: 252ms\n",
      "998:\tlearn: 0.0355414\ttotal: 2m 5s\tremaining: 126ms\n",
      "999:\tlearn: 0.0354991\ttotal: 2m 6s\tremaining: 0us\n"
     ]
    },
    {
     "data": {
      "text/plain": [
       "<catboost.core.CatBoostClassifier at 0x269291f23c8>"
      ]
     },
     "execution_count": 65,
     "metadata": {},
     "output_type": "execute_result"
    }
   ],
   "source": [
    "model_cat.fit(X_train, y_train)"
   ]
  },
  {
   "cell_type": "code",
   "execution_count": 66,
   "metadata": {
    "colab": {},
    "colab_type": "code",
    "id": "PO-Lgg1UCfrD"
   },
   "outputs": [],
   "source": [
    "y_predicted_cat = model_cat.predict_proba(X_test)"
   ]
  },
  {
   "cell_type": "code",
   "execution_count": 67,
   "metadata": {
    "colab": {},
    "colab_type": "code",
    "id": "cuieQuKuCfrG",
    "outputId": "9c2be831-e129-4b2b-8a7d-ef8f3dbeeaab"
   },
   "outputs": [
    {
     "name": "stdout",
     "output_type": "stream",
     "text": [
      "El valor del AUC es:  0.9269679901085313\n"
     ]
    }
   ],
   "source": [
    "cat_auc = roc_auc_score(y_test,y_predicted_cat[:,1])\n",
    "print(\"El valor del AUC es: \", cat_auc)"
   ]
  },
  {
   "cell_type": "markdown",
   "metadata": {
    "colab_type": "text",
    "id": "BtYEwKqGmfTE"
   },
   "source": [
    "La lista de hiperparámetros se puede consultar <a = \"https://tech.yandex.com/catboost/doc/dg/concepts/python-reference_parameters-list-docpage/\"> aquí </a>"
   ]
  },
  {
   "cell_type": "markdown",
   "metadata": {
    "colab_type": "text",
    "id": "V7mAF0tJCfrL"
   },
   "source": [
    "## Conclusiones"
   ]
  },
  {
   "cell_type": "code",
   "execution_count": 68,
   "metadata": {
    "colab": {},
    "colab_type": "code",
    "id": "U6bMCNvHCfrL",
    "outputId": "76baa7f1-ead7-4382-f179-fbe50a99e49c"
   },
   "outputs": [
    {
     "name": "stdout",
     "output_type": "stream",
     "text": [
      "Los resultados finales fueron:\n",
      " - AUC de knn: 0.606661285890919  \n",
      " - AUC de RF: 0.8656443192746256  \n",
      " - AUC de XGBoost: 0.9098244951229566 \n",
      " - AUC de LightGBM: 0.9157147272977058 \n",
      " - AUC de CatBoost: 0.9269679901085313\n"
     ]
    }
   ],
   "source": [
    "print(\"Los resultados finales fueron:\\n - AUC de knn:\", knn_auc,\" \\n - AUC de RF:\", rf_auc, \" \\n - AUC de XGBoost:\", xgb_auc,\n",
    "     \"\\n - AUC de LightGBM:\", lgbm_auc, \"\\n - AUC de CatBoost:\", cat_auc)"
   ]
  },
  {
   "cell_type": "markdown",
   "metadata": {
    "colab_type": "text",
    "id": "TeNhSanSCfrR"
   },
   "source": [
    "Otros resultados finales fueron:\n",
    " - AUC de knn: 0.611448533827  \n",
    " - AUC de RF: 0.861997410428  \n",
    " - AUC de XGBoost: 0.917590322258 \n",
    " - AUC de LightGBM: 0.926237865292 \n",
    " - AUC de CatBoost: 0.929962720176\n"
   ]
  },
  {
   "cell_type": "markdown",
   "metadata": {
    "colab_type": "text",
    "id": "bfjIvVr_CfrR"
   },
   "source": [
    "Otros resultados finales fueron:\n",
    " - AUC de knn: 0.637398382501  \n",
    " - AUC de RF: 0.860488951279  \n",
    " - AUC de XGBoost: 0.923338152308 \n",
    " - AUC de LightGBM: 0.941349941334 \n",
    " - AUC de CatBoost: 0.945510671583\n"
   ]
  },
  {
   "cell_type": "code",
   "execution_count": null,
   "metadata": {
    "colab": {},
    "colab_type": "code",
    "id": "fkfek4PQDz4d"
   },
   "outputs": [],
   "source": []
  }
 ],
 "metadata": {
  "colab": {
   "collapsed_sections": [],
   "name": "1.PRACTICA_GUIADA_XGBoost_LightGBM.ipynb",
   "provenance": [],
   "version": "0.3.2"
  },
  "kernelspec": {
   "display_name": "Python 3",
   "language": "python",
   "name": "python3"
  },
  "language_info": {
   "codemirror_mode": {
    "name": "ipython",
    "version": 3
   },
   "file_extension": ".py",
   "mimetype": "text/x-python",
   "name": "python",
   "nbconvert_exporter": "python",
   "pygments_lexer": "ipython3",
   "version": "3.6.7"
  }
 },
 "nbformat": 4,
 "nbformat_minor": 1
}
