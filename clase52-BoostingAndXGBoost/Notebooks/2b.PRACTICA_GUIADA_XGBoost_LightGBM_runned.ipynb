{
 "cells": [
  {
   "cell_type": "markdown",
   "metadata": {
    "colab_type": "text",
    "id": "KvPuvQ3dCfiM"
   },
   "source": [
    "Instalaciones"
   ]
  },
  {
   "cell_type": "code",
   "execution_count": 1,
   "metadata": {
    "colab": {},
    "colab_type": "code",
    "id": "cfGGupTCCfiP"
   },
   "outputs": [],
   "source": [
    "#!pip install xgboost"
   ]
  },
  {
   "cell_type": "code",
   "execution_count": 2,
   "metadata": {
    "colab": {},
    "colab_type": "code",
    "id": "5BVM7K4bCfiX"
   },
   "outputs": [],
   "source": [
    "#!pip install lightgbm"
   ]
  },
  {
   "cell_type": "code",
   "execution_count": 3,
   "metadata": {
    "colab": {},
    "colab_type": "code",
    "id": "c4BBayRFCfie"
   },
   "outputs": [],
   "source": [
    "#!conda config --add channels conda-forge\n",
    "#!conda install catboost -y"
   ]
  },
  {
   "cell_type": "code",
   "execution_count": 4,
   "metadata": {
    "colab": {},
    "colab_type": "code",
    "id": "ZXHF6THyCfil"
   },
   "outputs": [],
   "source": [
    "#!pip install scikit-plot"
   ]
  },
  {
   "cell_type": "markdown",
   "metadata": {
    "colab_type": "text",
    "id": "knzulYd1Cfir"
   },
   "source": [
    "## Prediciendo quiebra de empresas"
   ]
  },
  {
   "cell_type": "markdown",
   "metadata": {
    "colab_type": "text",
    "id": "961vNjYyCfis"
   },
   "source": [
    "En esta práctica guiada vamos a trabajar en predecir la quiebra de empresas en Polonia. La información fue obtenida del Servicio de Información de Mercados Emergentes (EMIS por sus siglas en inglés), que es una base de datos que contiene información de los mercados emergentes alrededor del mundo. Las compañías en bancarrota fueron analizadas en el período 2000-2012, mientras que las que continuan operando se evaluaron desde 2007 a 2013.\n",
    "\n",
    "En este caso sólo vamos a trabajar con el tercer año de los disponibles. Se puede consultar la página de UCI en donde se encuentra alojado <a href='https://archive.ics.uci.edu/ml/datasets/Polish+companies+bankruptcy+data'> aqui </a> \n",
    "\n",
    "El dataset empleado tiene datos de las empresas y su estatus tres años después."
   ]
  },
  {
   "cell_type": "code",
   "execution_count": 5,
   "metadata": {
    "colab": {},
    "colab_type": "code",
    "id": "be9V_LltCfiu"
   },
   "outputs": [],
   "source": [
    "import pandas as pd"
   ]
  },
  {
   "cell_type": "code",
   "execution_count": 6,
   "metadata": {
    "colab": {},
    "colab_type": "code",
    "id": "1wb2uNoLCfi1"
   },
   "outputs": [],
   "source": [
    "df = pd.read_csv(\"../Data/3year.csv\")"
   ]
  },
  {
   "cell_type": "code",
   "execution_count": 7,
   "metadata": {
    "colab": {},
    "colab_type": "code",
    "id": "Z-fgwsKVCfi6",
    "outputId": "8742bfa1-b1d4-490b-ecc2-e1781b4b53e4"
   },
   "outputs": [
    {
     "data": {
      "text/html": [
       "<div>\n",
       "<style scoped>\n",
       "    .dataframe tbody tr th:only-of-type {\n",
       "        vertical-align: middle;\n",
       "    }\n",
       "\n",
       "    .dataframe tbody tr th {\n",
       "        vertical-align: top;\n",
       "    }\n",
       "\n",
       "    .dataframe thead th {\n",
       "        text-align: right;\n",
       "    }\n",
       "</style>\n",
       "<table border=\"1\" class=\"dataframe\">\n",
       "  <thead>\n",
       "    <tr style=\"text-align: right;\">\n",
       "      <th></th>\n",
       "      <th>Unnamed: 0</th>\n",
       "      <th>Attr1</th>\n",
       "      <th>Attr2</th>\n",
       "      <th>Attr3</th>\n",
       "      <th>Attr4</th>\n",
       "      <th>Attr5</th>\n",
       "      <th>Attr6</th>\n",
       "      <th>Attr7</th>\n",
       "      <th>Attr8</th>\n",
       "      <th>Attr9</th>\n",
       "      <th>...</th>\n",
       "      <th>Attr56</th>\n",
       "      <th>Attr57</th>\n",
       "      <th>Attr58</th>\n",
       "      <th>Attr59</th>\n",
       "      <th>Attr60</th>\n",
       "      <th>Attr61</th>\n",
       "      <th>Attr62</th>\n",
       "      <th>Attr63</th>\n",
       "      <th>Attr64</th>\n",
       "      <th>class</th>\n",
       "    </tr>\n",
       "  </thead>\n",
       "  <tbody>\n",
       "    <tr>\n",
       "      <th>0</th>\n",
       "      <td>0</td>\n",
       "      <td>0.174190</td>\n",
       "      <td>0.41299</td>\n",
       "      <td>0.14371</td>\n",
       "      <td>1.3480</td>\n",
       "      <td>-28.9820</td>\n",
       "      <td>0.60383</td>\n",
       "      <td>0.219460</td>\n",
       "      <td>1.1225</td>\n",
       "      <td>1.1961</td>\n",
       "      <td>...</td>\n",
       "      <td>0.163960</td>\n",
       "      <td>0.375740</td>\n",
       "      <td>0.83604</td>\n",
       "      <td>0.000007</td>\n",
       "      <td>9.7145</td>\n",
       "      <td>6.2813</td>\n",
       "      <td>84.291</td>\n",
       "      <td>4.3303</td>\n",
       "      <td>4.0341</td>\n",
       "      <td>b'0'</td>\n",
       "    </tr>\n",
       "    <tr>\n",
       "      <th>1</th>\n",
       "      <td>1</td>\n",
       "      <td>0.146240</td>\n",
       "      <td>0.46038</td>\n",
       "      <td>0.28230</td>\n",
       "      <td>1.6294</td>\n",
       "      <td>2.5952</td>\n",
       "      <td>0.00000</td>\n",
       "      <td>0.171850</td>\n",
       "      <td>1.1721</td>\n",
       "      <td>1.6018</td>\n",
       "      <td>...</td>\n",
       "      <td>0.027516</td>\n",
       "      <td>0.271000</td>\n",
       "      <td>0.90108</td>\n",
       "      <td>0.000000</td>\n",
       "      <td>5.9882</td>\n",
       "      <td>4.1103</td>\n",
       "      <td>102.190</td>\n",
       "      <td>3.5716</td>\n",
       "      <td>5.9500</td>\n",
       "      <td>b'0'</td>\n",
       "    </tr>\n",
       "    <tr>\n",
       "      <th>2</th>\n",
       "      <td>2</td>\n",
       "      <td>0.000595</td>\n",
       "      <td>0.22612</td>\n",
       "      <td>0.48839</td>\n",
       "      <td>3.1599</td>\n",
       "      <td>84.8740</td>\n",
       "      <td>0.19114</td>\n",
       "      <td>0.004572</td>\n",
       "      <td>2.9881</td>\n",
       "      <td>1.0077</td>\n",
       "      <td>...</td>\n",
       "      <td>0.007639</td>\n",
       "      <td>0.000881</td>\n",
       "      <td>0.99236</td>\n",
       "      <td>0.000000</td>\n",
       "      <td>6.7742</td>\n",
       "      <td>3.7922</td>\n",
       "      <td>64.846</td>\n",
       "      <td>5.6287</td>\n",
       "      <td>4.4581</td>\n",
       "      <td>b'0'</td>\n",
       "    </tr>\n",
       "    <tr>\n",
       "      <th>3</th>\n",
       "      <td>3</td>\n",
       "      <td>0.024526</td>\n",
       "      <td>0.43236</td>\n",
       "      <td>0.27546</td>\n",
       "      <td>1.7833</td>\n",
       "      <td>-10.1050</td>\n",
       "      <td>0.56944</td>\n",
       "      <td>0.024526</td>\n",
       "      <td>1.3057</td>\n",
       "      <td>1.0509</td>\n",
       "      <td>...</td>\n",
       "      <td>0.048398</td>\n",
       "      <td>0.043445</td>\n",
       "      <td>0.95160</td>\n",
       "      <td>0.142980</td>\n",
       "      <td>4.2286</td>\n",
       "      <td>5.0528</td>\n",
       "      <td>98.783</td>\n",
       "      <td>3.6950</td>\n",
       "      <td>3.4844</td>\n",
       "      <td>b'0'</td>\n",
       "    </tr>\n",
       "    <tr>\n",
       "      <th>4</th>\n",
       "      <td>4</td>\n",
       "      <td>0.188290</td>\n",
       "      <td>0.41504</td>\n",
       "      <td>0.34231</td>\n",
       "      <td>1.9279</td>\n",
       "      <td>-58.2740</td>\n",
       "      <td>0.00000</td>\n",
       "      <td>0.233580</td>\n",
       "      <td>1.4094</td>\n",
       "      <td>1.3393</td>\n",
       "      <td>...</td>\n",
       "      <td>0.176480</td>\n",
       "      <td>0.321880</td>\n",
       "      <td>0.82635</td>\n",
       "      <td>0.073039</td>\n",
       "      <td>2.5912</td>\n",
       "      <td>7.0756</td>\n",
       "      <td>100.540</td>\n",
       "      <td>3.6303</td>\n",
       "      <td>4.6375</td>\n",
       "      <td>b'0'</td>\n",
       "    </tr>\n",
       "  </tbody>\n",
       "</table>\n",
       "<p>5 rows × 66 columns</p>\n",
       "</div>"
      ],
      "text/plain": [
       "   Unnamed: 0     Attr1    Attr2    Attr3   Attr4    Attr5    Attr6     Attr7  \\\n",
       "0           0  0.174190  0.41299  0.14371  1.3480 -28.9820  0.60383  0.219460   \n",
       "1           1  0.146240  0.46038  0.28230  1.6294   2.5952  0.00000  0.171850   \n",
       "2           2  0.000595  0.22612  0.48839  3.1599  84.8740  0.19114  0.004572   \n",
       "3           3  0.024526  0.43236  0.27546  1.7833 -10.1050  0.56944  0.024526   \n",
       "4           4  0.188290  0.41504  0.34231  1.9279 -58.2740  0.00000  0.233580   \n",
       "\n",
       "    Attr8   Attr9  ...      Attr56    Attr57   Attr58    Attr59  Attr60  \\\n",
       "0  1.1225  1.1961  ...    0.163960  0.375740  0.83604  0.000007  9.7145   \n",
       "1  1.1721  1.6018  ...    0.027516  0.271000  0.90108  0.000000  5.9882   \n",
       "2  2.9881  1.0077  ...    0.007639  0.000881  0.99236  0.000000  6.7742   \n",
       "3  1.3057  1.0509  ...    0.048398  0.043445  0.95160  0.142980  4.2286   \n",
       "4  1.4094  1.3393  ...    0.176480  0.321880  0.82635  0.073039  2.5912   \n",
       "\n",
       "   Attr61   Attr62  Attr63  Attr64  class  \n",
       "0  6.2813   84.291  4.3303  4.0341   b'0'  \n",
       "1  4.1103  102.190  3.5716  5.9500   b'0'  \n",
       "2  3.7922   64.846  5.6287  4.4581   b'0'  \n",
       "3  5.0528   98.783  3.6950  3.4844   b'0'  \n",
       "4  7.0756  100.540  3.6303  4.6375   b'0'  \n",
       "\n",
       "[5 rows x 66 columns]"
      ]
     },
     "execution_count": 7,
     "metadata": {},
     "output_type": "execute_result"
    }
   ],
   "source": [
    "df.head()"
   ]
  },
  {
   "cell_type": "code",
   "execution_count": 8,
   "metadata": {
    "colab": {},
    "colab_type": "code",
    "id": "DHpJ70GaCfjG"
   },
   "outputs": [],
   "source": [
    "df = df.drop(\"Unnamed: 0\", axis = 1)"
   ]
  },
  {
   "cell_type": "markdown",
   "metadata": {
    "colab_type": "text",
    "id": "6uEKVm-QCfjM"
   },
   "source": [
    "Acá hay una descripción de los atributos\n",
    "\n",
    "X1 net profit / total assets\n",
    "\n",
    "X2 total liabilities / total assets\n",
    "\n",
    "X3 working capital / total assets\n",
    "\n",
    "X4 current assets / short-term liabilities\n",
    "\n",
    "X5 [(cash + short-term securities + receivables - short-term liabilities) / (operating expenses - depreciation)] * 365\n",
    "\n",
    "X6 retained earnings / total assets\n",
    "\n",
    "X7 EBIT / total assets\n",
    "\n",
    "X8 book value of equity / total liabilities\n",
    "\n",
    "X9 sales / total assets\n",
    "\n",
    "X10 equity / total assets\n",
    "\n",
    "X11 (gross profit + extraordinary items + financial expenses) / total assets\n",
    "\n",
    "X12 gross profit / short-term liabilities\n",
    "\n",
    "X13 (gross profit + depreciation) / sales\n",
    "\n",
    "X14 (gross profit + interest) / total assets\n",
    "\n",
    "X15 (total liabilities * 365) / (gross profit + depreciation)\n",
    "\n",
    "X16 (gross profit + depreciation) / total liabilities\n",
    "\n",
    "X17 total assets / total liabilities\n",
    "\n",
    "X18 gross profit / total assets\n",
    "\n",
    "X19 gross profit / sales\n",
    "\n",
    "X20 (inventory * 365) / sales\n",
    "\n",
    "X21 sales (n) / sales (n-1)\n",
    "\n",
    "X22 profit on operating activities / total assets\n",
    "\n",
    "X23 net profit / sales\n",
    "\n",
    "X24 gross profit (in 3 years) / total assets\n",
    "\n",
    "X25 (equity - share capital) / total assets\n",
    "\n",
    "X26 (net profit + depreciation) / total liabilities\n",
    "\n",
    "X27 profit on operating activities / financial expenses\n",
    "\n",
    "X28 working capital / fixed assets\n",
    "\n",
    "X29 logarithm of total assets\n",
    "\n",
    "X30 (total liabilities - cash) / sales\n",
    "\n",
    "X31 (gross profit + interest) / sales\n",
    "\n",
    "X32 (current liabilities * 365) / cost of products sold\n",
    "\n",
    "X33 operating expenses / short-term liabilities\n",
    "\n",
    "X34 operating expenses / total liabilities\n",
    "\n",
    "X35 profit on sales / total assets\n",
    "\n",
    "X36 total sales / total assets\n",
    "\n",
    "X37 (current assets - inventories) / long-term liabilities\n",
    "\n",
    "X38 constant capital / total assets\n",
    "\n",
    "X39 profit on sales / sales\n",
    "\n",
    "X40 (current assets - inventory - receivables) / short-term liabilities\n",
    "\n",
    "X41 total liabilities / ((profit on operating activities + depreciation) * (12/365))\n",
    "\n",
    "X42 profit on operating activities / sales\n",
    "\n",
    "X43 rotation receivables + inventory turnover in days\n",
    "\n",
    "X44 (receivables * 365) / sales\n",
    "\n",
    "X45 net profit / inventory\n",
    "\n",
    "X46 (current assets - inventory) / short-term liabilities\n",
    "\n",
    "X47 (inventory * 365) / cost of products sold\n",
    "\n",
    "X48 EBITDA (profit on operating activities - depreciation) / total assets\n",
    "\n",
    "X49 EBITDA (profit on operating activities - depreciation) / sales\n",
    "\n",
    "X50 current assets / total liabilities\n",
    "\n",
    "X51 short-term liabilities / total assets\n",
    "\n",
    "X52 (short-term liabilities * 365) / cost of products sold)\n",
    "\n",
    "X53 equity / fixed assets\n",
    "\n",
    "X54 constant capital / fixed assets\n",
    "\n",
    "X55 working capital\n",
    "\n",
    "X56 (sales - cost of products sold) / sales\n",
    "\n",
    "X57 (current assets - inventory - short-term liabilities) / (sales - gross profit - depreciation)\n",
    "\n",
    "X58 total costs /total sales\n",
    "\n",
    "X59 long-term liabilities / equity\n",
    "\n",
    "X60 sales / inventory\n",
    "\n",
    "X61 sales / receivables\n",
    "\n",
    "X62 (short-term liabilities *365) / sales\n",
    "\n",
    "X63 sales / short-term liabilities\n",
    "\n",
    "X64 sales / fixed assets"
   ]
  },
  {
   "cell_type": "markdown",
   "metadata": {
    "colab_type": "text",
    "id": "CX2gyjuRCfjO"
   },
   "source": [
    "Transforme la clase en 0 y 1, para ello puede emplear LabelEncoder"
   ]
  },
  {
   "cell_type": "code",
   "execution_count": 9,
   "metadata": {
    "colab": {},
    "colab_type": "code",
    "id": "vlYFzjkxCfjQ"
   },
   "outputs": [],
   "source": [
    "y = df[\"class\"]\n",
    "X = df.drop(\"class\", axis = 1)"
   ]
  },
  {
   "cell_type": "code",
   "execution_count": 10,
   "metadata": {
    "colab": {},
    "colab_type": "code",
    "id": "HNxJ_6nICfjW",
    "outputId": "b7d71128-af01-41c5-a9b2-ff2f9048396c"
   },
   "outputs": [
    {
     "name": "stdout",
     "output_type": "stream",
     "text": [
      "el dataset tiene  10503  filas y  64  columnas\n"
     ]
    }
   ],
   "source": [
    "print(\"el dataset tiene \", X.shape[0], \" filas y \", X.shape[1], \" columnas\")"
   ]
  },
  {
   "cell_type": "code",
   "execution_count": 11,
   "metadata": {
    "colab": {},
    "colab_type": "code",
    "id": "kCvTLZwfCfjh"
   },
   "outputs": [],
   "source": [
    "from sklearn.preprocessing import LabelEncoder"
   ]
  },
  {
   "cell_type": "markdown",
   "metadata": {
    "colab_type": "text",
    "id": "4X_5GBCxCfjt"
   },
   "source": [
    "Usamos LabelEncoder para transformar la clase en un array de 0 y 1"
   ]
  },
  {
   "cell_type": "code",
   "execution_count": 12,
   "metadata": {
    "colab": {},
    "colab_type": "code",
    "id": "QjEdpqdHCfjz"
   },
   "outputs": [],
   "source": [
    "encoder = LabelEncoder()"
   ]
  },
  {
   "cell_type": "code",
   "execution_count": 13,
   "metadata": {
    "colab": {},
    "colab_type": "code",
    "id": "ZNBpDYuKCfj7",
    "outputId": "8a237e60-f330-49c7-d8ff-47249d350e17"
   },
   "outputs": [
    {
     "data": {
      "text/plain": [
       "0    b'0'\n",
       "1    b'0'\n",
       "2    b'0'\n",
       "3    b'0'\n",
       "4    b'0'\n",
       "Name: class, dtype: object"
      ]
     },
     "execution_count": 13,
     "metadata": {},
     "output_type": "execute_result"
    }
   ],
   "source": [
    "y.head()"
   ]
  },
  {
   "cell_type": "code",
   "execution_count": 14,
   "metadata": {
    "colab": {},
    "colab_type": "code",
    "id": "W_OGGsYeCfkJ"
   },
   "outputs": [],
   "source": [
    "y = encoder.fit_transform(y)"
   ]
  },
  {
   "cell_type": "code",
   "execution_count": 15,
   "metadata": {
    "colab": {},
    "colab_type": "code",
    "id": "huMAVxxmCfkT",
    "outputId": "4b3f73b9-86c4-4053-f80d-995ab06a89e6"
   },
   "outputs": [
    {
     "data": {
      "text/plain": [
       "array([0, 0, 0, ..., 1, 1, 1])"
      ]
     },
     "execution_count": 15,
     "metadata": {},
     "output_type": "execute_result"
    }
   ],
   "source": [
    "y"
   ]
  },
  {
   "cell_type": "markdown",
   "metadata": {
    "colab_type": "text",
    "id": "2WF1dvg8Cfkb"
   },
   "source": [
    "Hagamos un split en train y test."
   ]
  },
  {
   "cell_type": "code",
   "execution_count": 16,
   "metadata": {
    "colab": {},
    "colab_type": "code",
    "id": "1NbebhB0Cfkd"
   },
   "outputs": [],
   "source": [
    "from sklearn.model_selection import train_test_split"
   ]
  },
  {
   "cell_type": "markdown",
   "metadata": {
    "colab_type": "text",
    "id": "-qJQ0hoJCfkl"
   },
   "source": [
    "Con la información de train vamos a realizar la búsqueda de hiperparámetros y ajustar el mejor modelo."
   ]
  },
  {
   "cell_type": "code",
   "execution_count": 17,
   "metadata": {
    "colab": {},
    "colab_type": "code",
    "id": "14_X-cEfCfkn"
   },
   "outputs": [],
   "source": [
    "X_train, X_test, y_train, y_test = train_test_split(X,y)"
   ]
  },
  {
   "cell_type": "markdown",
   "metadata": {
    "colab_type": "text",
    "id": "p7-E7RT9Cfkt"
   },
   "source": [
    "## Knn - Benchmark"
   ]
  },
  {
   "cell_type": "markdown",
   "metadata": {
    "colab_type": "text",
    "id": "jc2LJlKvCfkx"
   },
   "source": [
    "Comencemos probando Knn, que será nuestro benchmark"
   ]
  },
  {
   "cell_type": "code",
   "execution_count": 18,
   "metadata": {
    "colab": {},
    "colab_type": "code",
    "id": "sz5h3tJHCfkz"
   },
   "outputs": [],
   "source": [
    "from sklearn.neighbors import KNeighborsClassifier\n",
    "from sklearn.model_selection import RandomizedSearchCV, GridSearchCV\n",
    "import time\n",
    "import numpy as np\n",
    "from scikitplot.metrics import plot_roc\n",
    "from sklearn.metrics import roc_auc_score\n",
    "from sklearn.preprocessing import StandardScaler"
   ]
  },
  {
   "cell_type": "code",
   "execution_count": 19,
   "metadata": {
    "colab": {},
    "colab_type": "code",
    "id": "8t7ByXWbCfk5"
   },
   "outputs": [],
   "source": [
    "model_knn = KNeighborsClassifier()"
   ]
  },
  {
   "cell_type": "code",
   "execution_count": 20,
   "metadata": {
    "colab": {},
    "colab_type": "code",
    "id": "tKFNI_pnCfk-"
   },
   "outputs": [],
   "source": [
    "params = {\"n_neighbors\":list(range(3,8))}"
   ]
  },
  {
   "cell_type": "code",
   "execution_count": 21,
   "metadata": {
    "colab": {},
    "colab_type": "code",
    "id": "u0PAYRaxCflD"
   },
   "outputs": [],
   "source": [
    "knn = GridSearchCV(model_knn, params, verbose= True)"
   ]
  },
  {
   "cell_type": "markdown",
   "metadata": {
    "colab_type": "text",
    "id": "89kALPaFCflI"
   },
   "source": [
    "Imputamos los NA con 0"
   ]
  },
  {
   "cell_type": "code",
   "execution_count": 22,
   "metadata": {
    "colab": {},
    "colab_type": "code",
    "id": "-CKnogyJCflJ"
   },
   "outputs": [],
   "source": [
    "X_train_na = X_train.fillna(0)\n",
    "X_test_na = X_test.fillna(0)"
   ]
  },
  {
   "cell_type": "code",
   "execution_count": 23,
   "metadata": {
    "colab": {},
    "colab_type": "code",
    "id": "rfnj6TSJCflR"
   },
   "outputs": [],
   "source": [
    "stds = StandardScaler()"
   ]
  },
  {
   "cell_type": "code",
   "execution_count": 24,
   "metadata": {
    "colab": {},
    "colab_type": "code",
    "id": "fCOp3pyiCflZ"
   },
   "outputs": [],
   "source": [
    "X_train_knn = stds.fit_transform(X_train_na)"
   ]
  },
  {
   "cell_type": "code",
   "execution_count": 25,
   "metadata": {
    "colab": {},
    "colab_type": "code",
    "id": "N1If7LgOCflj"
   },
   "outputs": [],
   "source": [
    "X_test_knn = stds.transform(X_test_na)"
   ]
  },
  {
   "cell_type": "code",
   "execution_count": 26,
   "metadata": {
    "colab": {},
    "colab_type": "code",
    "id": "5sGs5Ou2Cflr",
    "outputId": "246b620b-5146-4a2f-b66a-13881886d0ed"
   },
   "outputs": [
    {
     "name": "stderr",
     "output_type": "stream",
     "text": [
      "C:\\Users\\mbeati\\AppData\\Local\\Continuum\\anaconda3\\envs\\dsdh2\\lib\\site-packages\\sklearn\\model_selection\\_split.py:1978: FutureWarning: The default value of cv will change from 3 to 5 in version 0.22. Specify it explicitly to silence this warning.\n",
      "  warnings.warn(CV_WARNING, FutureWarning)\n",
      "[Parallel(n_jobs=1)]: Using backend SequentialBackend with 1 concurrent workers.\n"
     ]
    },
    {
     "name": "stdout",
     "output_type": "stream",
     "text": [
      "Fitting 3 folds for each of 5 candidates, totalling 15 fits\n",
      "La búsqueda con knn llevó:  23.825992107391357  segundos\n"
     ]
    },
    {
     "name": "stderr",
     "output_type": "stream",
     "text": [
      "[Parallel(n_jobs=1)]: Done  15 out of  15 | elapsed:   23.6s finished\n"
     ]
    }
   ],
   "source": [
    "start = time.time()\n",
    "knn.fit(X_train_knn, y_train)\n",
    "end = time.time()\n",
    "print(\"La búsqueda con knn llevó: \", end - start, \" segundos\")"
   ]
  },
  {
   "cell_type": "code",
   "execution_count": 27,
   "metadata": {
    "colab": {},
    "colab_type": "code",
    "id": "iMuFY9VLCfl5",
    "outputId": "b4d5177f-2a8b-4867-9ed5-7974478dc86b"
   },
   "outputs": [
    {
     "data": {
      "text/plain": [
       "KNeighborsClassifier(algorithm='auto', leaf_size=30, metric='minkowski',\n",
       "                     metric_params=None, n_jobs=None, n_neighbors=6, p=2,\n",
       "                     weights='uniform')"
      ]
     },
     "execution_count": 27,
     "metadata": {},
     "output_type": "execute_result"
    }
   ],
   "source": [
    "knn.best_estimator_"
   ]
  },
  {
   "cell_type": "code",
   "execution_count": 28,
   "metadata": {
    "colab": {},
    "colab_type": "code",
    "id": "RF1HPlhrCfmF",
    "outputId": "aaaa04fa-88af-4ce2-bb5f-b3d3e9a14668"
   },
   "outputs": [
    {
     "name": "stdout",
     "output_type": "stream",
     "text": [
      "El valor del AUC es:  0.6136149374116169\n"
     ]
    }
   ],
   "source": [
    "y_predicted_knn = knn.predict_proba(X_test_knn)\n",
    "knn_auc = roc_auc_score(y_test, y_predicted_knn[:,1])\n",
    "print(\"El valor del AUC es: \", knn_auc)"
   ]
  },
  {
   "cell_type": "code",
   "execution_count": 29,
   "metadata": {
    "colab": {},
    "colab_type": "code",
    "id": "NTKaGpEvCfmW",
    "outputId": "dc5bb102-157b-4830-b057-38326bcd25d1"
   },
   "outputs": [
    {
     "data": {
      "image/png": "[encoded data removed]",
      "text/plain": [
       "<Figure size 432x288 with 1 Axes>"
      ]
     },
     "metadata": {
      "needs_background": "light"
     },
     "output_type": "display_data"
    }
   ],
   "source": [
    "%matplotlib inline\n",
    "plot_roc(y_test,y_predicted_knn, plot_micro = False, plot_macro= False);"
   ]
  },
  {
   "cell_type": "markdown",
   "metadata": {
    "colab_type": "text",
    "id": "I8oc4fO-Cfmm"
   },
   "source": [
    "## Random Forest"
   ]
  },
  {
   "cell_type": "code",
   "execution_count": 30,
   "metadata": {
    "colab": {},
    "colab_type": "code",
    "id": "6jGbrwx2Cfmo"
   },
   "outputs": [],
   "source": [
    "from sklearn.ensemble import RandomForestClassifier"
   ]
  },
  {
   "cell_type": "code",
   "execution_count": 31,
   "metadata": {
    "colab": {},
    "colab_type": "code",
    "id": "Ie7q1G05Cfmv"
   },
   "outputs": [],
   "source": [
    "model_rf = RandomForestClassifier()"
   ]
  },
  {
   "cell_type": "code",
   "execution_count": 32,
   "metadata": {
    "colab": {},
    "colab_type": "code",
    "id": "7AgkozMgCfm9"
   },
   "outputs": [],
   "source": [
    "import scipy.stats as st"
   ]
  },
  {
   "cell_type": "markdown",
   "metadata": {
    "colab_type": "text",
    "id": "8TasF9wBCfnD"
   },
   "source": [
    "A RandomizedSearchCV los hiperparámetros se los podemos pasar como una lista o también como una distribución de scipy."
   ]
  },
  {
   "cell_type": "code",
   "execution_count": 33,
   "metadata": {
    "colab": {},
    "colab_type": "code",
    "id": "A7gNEjPmCfnF"
   },
   "outputs": [],
   "source": [
    "params = {  \n",
    "    \"n_estimators\": st.randint(20,40), # Number of boosted trees to fit.\n",
    "    \"max_depth\": st.randint(3, 12)     # Maximum tree depth for base learners.\n",
    "}"
   ]
  },
  {
   "cell_type": "code",
   "execution_count": 34,
   "metadata": {
    "colab": {},
    "colab_type": "code",
    "id": "Hc3llpieCfnK"
   },
   "outputs": [],
   "source": [
    "rf = RandomizedSearchCV(model_rf,params, n_iter=25, verbose= True)"
   ]
  },
  {
   "cell_type": "code",
   "execution_count": 35,
   "metadata": {
    "colab": {},
    "colab_type": "code",
    "id": "Y1qHyv0bCfnP",
    "outputId": "8f5bcc72-2230-45dc-a011-970b97b8d91d"
   },
   "outputs": [
    {
     "name": "stderr",
     "output_type": "stream",
     "text": [
      "C:\\Users\\mbeati\\AppData\\Local\\Continuum\\anaconda3\\envs\\dsdh2\\lib\\site-packages\\sklearn\\model_selection\\_split.py:1978: FutureWarning: The default value of cv will change from 3 to 5 in version 0.22. Specify it explicitly to silence this warning.\n",
      "  warnings.warn(CV_WARNING, FutureWarning)\n",
      "[Parallel(n_jobs=1)]: Using backend SequentialBackend with 1 concurrent workers.\n"
     ]
    },
    {
     "name": "stdout",
     "output_type": "stream",
     "text": [
      "Fitting 3 folds for each of 25 candidates, totalling 75 fits\n"
     ]
    },
    {
     "name": "stderr",
     "output_type": "stream",
     "text": [
      "[Parallel(n_jobs=1)]: Done  75 out of  75 | elapsed:   46.8s finished\n"
     ]
    },
    {
     "name": "stdout",
     "output_type": "stream",
     "text": [
      "La búsqueda con Random Forest llevó:  47.36099982261658  segundos\n"
     ]
    }
   ],
   "source": [
    "start = time.time()\n",
    "rf.fit(X_train_na,y_train)\n",
    "end = time.time()\n",
    "print(\"La búsqueda con Random Forest llevó: \", end - start, \" segundos\")"
   ]
  },
  {
   "cell_type": "code",
   "execution_count": 36,
   "metadata": {},
   "outputs": [
    {
     "data": {
      "text/plain": [
       "RandomForestClassifier(bootstrap=True, class_weight=None, criterion='gini',\n",
       "                       max_depth=3, max_features='auto', max_leaf_nodes=None,\n",
       "                       min_impurity_decrease=0.0, min_impurity_split=None,\n",
       "                       min_samples_leaf=1, min_samples_split=2,\n",
       "                       min_weight_fraction_leaf=0.0, n_estimators=31,\n",
       "                       n_jobs=None, oob_score=False, random_state=None,\n",
       "                       verbose=0, warm_start=False)"
      ]
     },
     "execution_count": 36,
     "metadata": {},
     "output_type": "execute_result"
    }
   ],
   "source": [
    "rf.best_estimator_"
   ]
  },
  {
   "cell_type": "code",
   "execution_count": 37,
   "metadata": {
    "colab": {},
    "colab_type": "code",
    "id": "4cV7_FwtCfnU"
   },
   "outputs": [],
   "source": [
    "y_predicted_rf = rf.predict_proba(X_test_na)"
   ]
  },
  {
   "cell_type": "code",
   "execution_count": 38,
   "metadata": {
    "colab": {},
    "colab_type": "code",
    "id": "JE2mzUH6Cfna",
    "outputId": "f6512b79-5cee-4092-f83c-6ae5313633bf"
   },
   "outputs": [
    {
     "name": "stdout",
     "output_type": "stream",
     "text": [
      "El valor del AUC es:  0.7861749070339914\n"
     ]
    }
   ],
   "source": [
    "rf_auc = roc_auc_score(y_test,y_predicted_rf[:,1])\n",
    "print(\"El valor del AUC es: \", rf_auc)"
   ]
  },
  {
   "cell_type": "code",
   "execution_count": 39,
   "metadata": {},
   "outputs": [
    {
     "data": {
      "image/png": "[encoded data removed]",
      "text/plain": [
       "<Figure size 432x288 with 1 Axes>"
      ]
     },
     "metadata": {
      "needs_background": "light"
     },
     "output_type": "display_data"
    }
   ],
   "source": [
    "%matplotlib inline\n",
    "plot_roc(y_test,y_predicted_rf, plot_micro = False, plot_macro= False);"
   ]
  },
  {
   "cell_type": "markdown",
   "metadata": {
    "colab_type": "text",
    "id": "xrkS4Qa6Cfng"
   },
   "source": [
    "## Xgboost"
   ]
  },
  {
   "cell_type": "markdown",
   "metadata": {
    "colab_type": "text",
    "id": "4rYpczAKCfnj"
   },
   "source": [
    "Vamos a importar el clasificador XGBoost del módulo xgboost.sklearn que nos provee clases y métodos aceptados por la API de sklearn. La clase que contiene este clasificador se llama XGBClassifier"
   ]
  },
  {
   "cell_type": "code",
   "execution_count": 40,
   "metadata": {
    "colab": {},
    "colab_type": "code",
    "id": "Gmhx9Sy1Cfnk"
   },
   "outputs": [],
   "source": [
    "from xgboost.sklearn import XGBClassifier"
   ]
  },
  {
   "cell_type": "code",
   "execution_count": 41,
   "metadata": {
    "colab": {},
    "colab_type": "code",
    "id": "WFViwA_CCfnp"
   },
   "outputs": [],
   "source": [
    "model_xg = XGBClassifier(n_jobs=-1)"
   ]
  },
  {
   "cell_type": "markdown",
   "metadata": {
    "colab_type": "text",
    "id": "R6tDIBUkCfnt"
   },
   "source": [
    "Podemos partir del siguiente conjunto de hiperparámetros, que serán empleados también luego."
   ]
  },
  {
   "cell_type": "code",
   "execution_count": 42,
   "metadata": {
    "colab": {},
    "colab_type": "code",
    "id": "c3DDm2EwCfnu"
   },
   "outputs": [],
   "source": [
    "one_to_left = st.beta(10, 1) # Esta distribución nos dará valores entre 0 y 1 mayormente cercanos a 1"
   ]
  },
  {
   "cell_type": "code",
   "execution_count": 43,
   "metadata": {
    "colab": {},
    "colab_type": "code",
    "id": "cBQxwRbgCfny"
   },
   "outputs": [],
   "source": [
    "params = {  \n",
    "    \"n_estimators\": st.randint(20,40), # Number of boosted trees to fit.\n",
    "    \"max_depth\": st.randint(3, 12),     # Maximum tree depth for base learners.\n",
    "    \"learning_rate\": st.uniform(0.05, 0.4), #     Boosting learning rate (xgb’s “eta”)\n",
    "    \"colsample_bytree\": one_to_left, #     Subsample ratio of columns when constructing each tree.\n",
    "    \"subsample\": one_to_left,     # Subsample ratio of the training instance.\n",
    "    \"gamma\": st.uniform(0, 10), #     Minimum loss reduction required to make a further partition on a leaf node of the tree.\n",
    "    'reg_alpha': st.uniform(0.05,10),   # L1 regularization term on weights\n",
    "    \"min_child_weight\": st.uniform(1,20), #    Minimum sum of instance weight(hessian) needed in a child.\n",
    "}"
   ]
  },
  {
   "cell_type": "markdown",
   "metadata": {
    "colab_type": "text",
    "id": "YhuMPgwECfn3"
   },
   "source": [
    "Se puede consultar los parámetros <a = \"http://xgboost.readthedocs.io/en/latest/python/python_api.html\"> aquí </a> y <a = \"https://github.com/dmlc/xgboost/blob/master/doc/parameter.md\"> aquí </a>"
   ]
  },
  {
   "cell_type": "markdown",
   "metadata": {
    "colab_type": "text",
    "id": "o7uhuZDACfn4"
   },
   "source": [
    "Realizamos la búsqueda de hiperparámetrosRandomiezSearchCV con 25 iteraciones"
   ]
  },
  {
   "cell_type": "code",
   "execution_count": 44,
   "metadata": {
    "colab": {},
    "colab_type": "code",
    "id": "Oh4zsIulCfn6"
   },
   "outputs": [],
   "source": [
    "xgb = RandomizedSearchCV(model_xg,params, n_iter=25, verbose= True)"
   ]
  },
  {
   "cell_type": "markdown",
   "metadata": {
    "colab_type": "text",
    "id": "nR7UbFK-Cfn9"
   },
   "source": [
    "Busco el mejor set de hiperparámetros y calculamos el tiempo"
   ]
  },
  {
   "cell_type": "markdown",
   "metadata": {
    "colab_type": "text",
    "id": "AKgKeJf9maF8"
   },
   "source": [
    "¿Es necesario normalizar los features antes de aplicar XGBoost?"
   ]
  },
  {
   "cell_type": "code",
   "execution_count": 45,
   "metadata": {
    "colab": {},
    "colab_type": "code",
    "id": "IevW3viRCfn-",
    "outputId": "d1b30fc4-d0d6-4f87-fe2f-94ae5c424d28"
   },
   "outputs": [
    {
     "name": "stderr",
     "output_type": "stream",
     "text": [
      "C:\\Users\\mbeati\\AppData\\Local\\Continuum\\anaconda3\\envs\\dsdh2\\lib\\site-packages\\sklearn\\model_selection\\_split.py:1978: FutureWarning: The default value of cv will change from 3 to 5 in version 0.22. Specify it explicitly to silence this warning.\n",
      "  warnings.warn(CV_WARNING, FutureWarning)\n",
      "[Parallel(n_jobs=1)]: Using backend SequentialBackend with 1 concurrent workers.\n"
     ]
    },
    {
     "name": "stdout",
     "output_type": "stream",
     "text": [
      "Fitting 3 folds for each of 25 candidates, totalling 75 fits\n"
     ]
    },
    {
     "name": "stderr",
     "output_type": "stream",
     "text": [
      "[Parallel(n_jobs=1)]: Done  75 out of  75 | elapsed:   48.0s finished\n"
     ]
    },
    {
     "name": "stdout",
     "output_type": "stream",
     "text": [
      "La búsqueda con XGBoost llevó:  49.61499261856079  segundos\n"
     ]
    }
   ],
   "source": [
    "start = time.time()\n",
    "xgb.fit(X_train,y_train)\n",
    "end = time.time()\n",
    "print(\"La búsqueda con XGBoost llevó: \", end - start, \" segundos\")"
   ]
  },
  {
   "cell_type": "code",
   "execution_count": 46,
   "metadata": {
    "colab": {},
    "colab_type": "code",
    "id": "TWN_SYVkCfoM"
   },
   "outputs": [],
   "source": [
    "y_predicted_xgb = xgb.predict_proba(X_test)"
   ]
  },
  {
   "cell_type": "code",
   "execution_count": 47,
   "metadata": {
    "colab": {},
    "colab_type": "code",
    "id": "CoC30kJgCfoW",
    "outputId": "32a88e44-2471-4b9a-96f7-8294535dd7dc"
   },
   "outputs": [
    {
     "data": {
      "text/plain": [
       "(2626,)"
      ]
     },
     "execution_count": 47,
     "metadata": {},
     "output_type": "execute_result"
    }
   ],
   "source": [
    "y_predicted_xgb[:,0].shape"
   ]
  },
  {
   "cell_type": "code",
   "execution_count": 48,
   "metadata": {
    "colab": {},
    "colab_type": "code",
    "id": "iSPh4BliCfob",
    "outputId": "bbcae194-4930-4247-85de-2a8dfa40e9b1"
   },
   "outputs": [
    {
     "name": "stdout",
     "output_type": "stream",
     "text": [
      "El valor del AUC es:  0.9201081548211386\n"
     ]
    }
   ],
   "source": [
    "xgb_auc = roc_auc_score(y_test,y_predicted_xgb[:,1])\n",
    "print(\"El valor del AUC es: \", xgb_auc)"
   ]
  },
  {
   "cell_type": "markdown",
   "metadata": {
    "colab_type": "text",
    "id": "9ccsI2ZnCfog"
   },
   "source": [
    "Graficamos la curva ROC por clase"
   ]
  },
  {
   "cell_type": "code",
   "execution_count": 49,
   "metadata": {
    "colab": {},
    "colab_type": "code",
    "id": "ttPIpN_iCfoj",
    "outputId": "bddf28c8-dc31-4df9-a2e2-4b79c73ae726"
   },
   "outputs": [
    {
     "data": {
      "image/png": "[encoded data removed]",
      "text/plain": [
       "<Figure size 432x288 with 1 Axes>"
      ]
     },
     "metadata": {
      "needs_background": "light"
     },
     "output_type": "display_data"
    }
   ],
   "source": [
    "plot_roc(y_test,y_predicted_xgb, plot_micro = False, plot_macro= False);"
   ]
  },
  {
   "cell_type": "code",
   "execution_count": 50,
   "metadata": {
    "colab": {},
    "colab_type": "code",
    "id": "ZIV1v9ukCfor",
    "outputId": "d3530218-f0ce-46b4-8924-8a07665718d9"
   },
   "outputs": [
    {
     "data": {
      "image/png": "[encoded data removed]",
      "text/plain": [
       "<Figure size 432x288 with 1 Axes>"
      ]
     },
     "metadata": {
      "needs_background": "light"
     },
     "output_type": "display_data"
    }
   ],
   "source": [
    "from xgboost import plot_importance\n",
    "plot_importance(xgb.best_estimator_, height = 0.8,max_num_features=5);"
   ]
  },
  {
   "cell_type": "markdown",
   "metadata": {
    "colab_type": "text",
    "id": "edXmEQ96Cfo_"
   },
   "source": [
    "Entonces, los principales atributos son:\n",
    "- profit on operating activities / financial expenses\n",
    "- (current assets - inventory) / short-term liabilities\n",
    "- sales (n) / sales (n-1)\n",
    "- operating expenses / total liabilities\n",
    "- logarithm of total assets"
   ]
  },
  {
   "cell_type": "markdown",
   "metadata": {
    "colab_type": "text",
    "id": "kVbm1chpCfpB"
   },
   "source": [
    "También se pueden acceder los valores directamente con el atributo feature_importances_"
   ]
  },
  {
   "cell_type": "code",
   "execution_count": 51,
   "metadata": {
    "colab": {},
    "colab_type": "code",
    "id": "egdxmzMUCfpD",
    "outputId": "120ff983-5aa0-4357-cacd-605e7718295d"
   },
   "outputs": [
    {
     "name": "stdout",
     "output_type": "stream",
     "text": [
      "[0.         0.01377757 0.01268567 0.00666913 0.02386755 0.01216832\n",
      " 0.         0.         0.03685123 0.         0.         0.0126286\n",
      " 0.02925308 0.         0.00447855 0.         0.         0.\n",
      " 0.01485881 0.01154834 0.04764086 0.01542207 0.01334813 0.02446721\n",
      " 0.02045832 0.03980226 0.04828335 0.01627046 0.01459391 0.0048957\n",
      " 0.00531153 0.         0.05843367 0.087778   0.01989351 0.01426281\n",
      " 0.01537346 0.02345572 0.02263133 0.01141132 0.00788866 0.02645748\n",
      " 0.00927461 0.01855372 0.01511354 0.01672816 0.01019831 0.01017035\n",
      " 0.01572751 0.         0.01243179 0.         0.01639626 0.01331652\n",
      " 0.01262627 0.03206414 0.020332   0.02009028 0.         0.0159089\n",
      " 0.03328991 0.         0.00558174 0.00532941]\n"
     ]
    }
   ],
   "source": [
    "print(xgb.best_estimator_.feature_importances_)"
   ]
  },
  {
   "cell_type": "markdown",
   "metadata": {
    "colab_type": "text",
    "id": "oPEjlew9CfpV"
   },
   "source": [
    "## LightGBM"
   ]
  },
  {
   "cell_type": "markdown",
   "metadata": {
    "colab_type": "text",
    "id": "qZrSv-AsCfpb"
   },
   "source": [
    "La librería lightgbm permite directamente interactuar con SciKitLearn"
   ]
  },
  {
   "cell_type": "code",
   "execution_count": 52,
   "metadata": {
    "colab": {},
    "colab_type": "code",
    "id": "BEQsZCsSCfpd"
   },
   "outputs": [],
   "source": [
    "import lightgbm as lgb"
   ]
  },
  {
   "cell_type": "code",
   "execution_count": 53,
   "metadata": {
    "colab": {},
    "colab_type": "code",
    "id": "9jWuKhk4Cfpi"
   },
   "outputs": [],
   "source": [
    "model_lgb = lgb.LGBMClassifier()"
   ]
  },
  {
   "cell_type": "markdown",
   "metadata": {
    "colab_type": "text",
    "id": "hgln7ACdlPPs"
   },
   "source": [
    " Usamos los mismos rangos de hiperparámetros que para XGBoost. La lista completa de hiperparámetros se puede consultar <a = \"https://github.com/Microsoft/LightGBM/blob/master/docs/Parameters.rst\"> aquí </a>"
   ]
  },
  {
   "cell_type": "markdown",
   "metadata": {
    "colab_type": "text",
    "id": "MEYvubeLmi6g"
   },
   "source": [
    "¿Es necesario normalizar los features antes de aplicar LightGBM?"
   ]
  },
  {
   "cell_type": "code",
   "execution_count": 54,
   "metadata": {
    "colab": {},
    "colab_type": "code",
    "id": "4h3wCHnRCfpq"
   },
   "outputs": [],
   "source": [
    "lgbm = RandomizedSearchCV(model_lgb, params, n_iter = 25, verbose= True)"
   ]
  },
  {
   "cell_type": "code",
   "execution_count": 55,
   "metadata": {
    "colab": {},
    "colab_type": "code",
    "id": "7KCPi2OXCfp1",
    "outputId": "e894107b-b848-4bc0-b764-2cd67da94cc5"
   },
   "outputs": [
    {
     "name": "stdout",
     "output_type": "stream",
     "text": [
      "Fitting 3 folds for each of 25 candidates, totalling 75 fits\n"
     ]
    },
    {
     "name": "stderr",
     "output_type": "stream",
     "text": [
      "C:\\Users\\mbeati\\AppData\\Local\\Continuum\\anaconda3\\envs\\dsdh2\\lib\\site-packages\\sklearn\\model_selection\\_split.py:1978: FutureWarning: The default value of cv will change from 3 to 5 in version 0.22. Specify it explicitly to silence this warning.\n",
      "  warnings.warn(CV_WARNING, FutureWarning)\n",
      "[Parallel(n_jobs=1)]: Using backend SequentialBackend with 1 concurrent workers.\n",
      "[Parallel(n_jobs=1)]: Done  75 out of  75 | elapsed:   15.9s finished\n"
     ]
    },
    {
     "name": "stdout",
     "output_type": "stream",
     "text": [
      "La búsqueda con LightGBM llevó:  16.385998010635376  segundos\n"
     ]
    }
   ],
   "source": [
    "start = time.time()\n",
    "lgbm.fit(X_train, y_train)\n",
    "end = time.time()\n",
    "print(\"La búsqueda con LightGBM llevó: \", end - start, \" segundos\")"
   ]
  },
  {
   "cell_type": "code",
   "execution_count": 56,
   "metadata": {
    "colab": {},
    "colab_type": "code",
    "id": "wUUDAp94Cfp_",
    "outputId": "f0305c43-1663-434a-b5ef-f53f2c3dea70"
   },
   "outputs": [
    {
     "name": "stdout",
     "output_type": "stream",
     "text": [
      "Best parameters found by grid search are: {'colsample_bytree': 0.9529759580360069, 'gamma': 2.1288570287140463, 'learning_rate': 0.3472294648622281, 'max_depth': 10, 'min_child_weight': 7.862100490407961, 'n_estimators': 24, 'reg_alpha': 0.5390165412239178, 'subsample': 0.905323401329691}\n"
     ]
    }
   ],
   "source": [
    "print('Best parameters found by grid search are:', lgbm.best_params_)"
   ]
  },
  {
   "cell_type": "code",
   "execution_count": 57,
   "metadata": {
    "colab": {},
    "colab_type": "code",
    "id": "6ZkbfX1LCfqM"
   },
   "outputs": [],
   "source": [
    "opt_lgbm = lgbm.best_estimator_"
   ]
  },
  {
   "cell_type": "code",
   "execution_count": 58,
   "metadata": {
    "colab": {},
    "colab_type": "code",
    "id": "lhdX_Zl0CfqT"
   },
   "outputs": [],
   "source": [
    "y_predicted_lgbm = lgbm.predict_proba(X_test)"
   ]
  },
  {
   "cell_type": "code",
   "execution_count": 59,
   "metadata": {
    "colab": {},
    "colab_type": "code",
    "id": "OVeY3f68CfqY",
    "outputId": "ab63fcde-8ab5-4c9e-daf3-52c935b9bdb0"
   },
   "outputs": [
    {
     "name": "stdout",
     "output_type": "stream",
     "text": [
      "El valor del AUC es:  0.921368433457288\n"
     ]
    }
   ],
   "source": [
    "lgbm_auc = roc_auc_score(y_test,y_predicted_lgbm[:,1])\n",
    "print(\"El valor del AUC es: \", lgbm_auc)"
   ]
  },
  {
   "cell_type": "code",
   "execution_count": 60,
   "metadata": {
    "colab": {},
    "colab_type": "code",
    "id": "VqwFGD2CCfqf",
    "outputId": "a2effc79-716a-48cd-e319-04e66c3ab8e8"
   },
   "outputs": [
    {
     "data": {
      "image/png": "[encoded data removed]",
      "text/plain": [
       "<Figure size 432x288 with 1 Axes>"
      ]
     },
     "metadata": {
      "needs_background": "light"
     },
     "output_type": "display_data"
    }
   ],
   "source": [
    "plot_roc(y_test,y_predicted_lgbm, plot_micro = False, plot_macro= False);"
   ]
  },
  {
   "cell_type": "code",
   "execution_count": 61,
   "metadata": {
    "colab": {},
    "colab_type": "code",
    "id": "qIqifpCOCfqm",
    "outputId": "2827dbcc-0b61-4a52-e812-a8e86708786d"
   },
   "outputs": [
    {
     "data": {
      "image/png": "[encoded data removed]",
      "text/plain": [
       "<Figure size 432x288 with 1 Axes>"
      ]
     },
     "metadata": {
      "needs_background": "light"
     },
     "output_type": "display_data"
    }
   ],
   "source": [
    "lgb.plot_importance(lgbm.best_estimator_, max_num_features=5);"
   ]
  },
  {
   "cell_type": "code",
   "execution_count": 62,
   "metadata": {},
   "outputs": [
    {
     "data": {
      "text/plain": [
       "array([ 2,  0,  4,  6, 23,  6,  2,  0,  9,  1,  7,  1, 15,  0,  2,  3,  1,\n",
       "        0,  5,  6, 17,  6,  4, 16,  6,  6, 25,  9, 13,  6,  2,  7,  6, 17,\n",
       "        8,  4,  8,  7,  8, 19, 11,  7,  2,  5,  6, 31, 16,  2, 10,  4,  0,\n",
       "        2,  5, 10,  6,  9,  7, 21,  1,  8,  4,  3,  0,  9])"
      ]
     },
     "execution_count": 62,
     "metadata": {},
     "output_type": "execute_result"
    }
   ],
   "source": [
    "lgbm.best_estimator_.feature_importances_"
   ]
  },
  {
   "cell_type": "markdown",
   "metadata": {
    "colab_type": "text",
    "id": "w7VFD-_5Cfqx"
   },
   "source": [
    "## CatBoost"
   ]
  },
  {
   "cell_type": "code",
   "execution_count": 63,
   "metadata": {
    "colab": {},
    "colab_type": "code",
    "id": "2dSTH5_8Cfqy"
   },
   "outputs": [],
   "source": [
    "from catboost import CatBoostClassifier"
   ]
  },
  {
   "cell_type": "code",
   "execution_count": 64,
   "metadata": {
    "colab": {},
    "colab_type": "code",
    "id": "McipTqbpCfq2"
   },
   "outputs": [],
   "source": [
    "model_cat = CatBoostClassifier()"
   ]
  },
  {
   "cell_type": "markdown",
   "metadata": {
    "colab_type": "text",
    "id": "upFaEVuBmq-E"
   },
   "source": [
    "¿Es necesario normalizar los features antes de aplicar CatBoost?"
   ]
  },
  {
   "cell_type": "markdown",
   "metadata": {
    "colab_type": "text",
    "id": "5fz2fRrZCfq5"
   },
   "source": [
    "Con CatBoost los resultados sin hacer una búsqueda de hiperparámetros ya son... ¡excelentes!"
   ]
  },
  {
   "cell_type": "code",
   "execution_count": 65,
   "metadata": {
    "colab": {},
    "colab_type": "code",
    "id": "Ots7C9sWCfq6",
    "outputId": "efdd7f68-733c-4069-a241-e27d24469913"
   },
   "outputs": [
    {
     "name": "stdout",
     "output_type": "stream",
     "text": [
      "Learning rate set to 0.030047\n",
      "0:\tlearn: 0.6441654\ttotal: 189ms\tremaining: 3m 8s\n",
      "1:\tlearn: 0.6052752\ttotal: 324ms\tremaining: 2m 41s\n",
      "2:\tlearn: 0.5696123\ttotal: 494ms\tremaining: 2m 44s\n",
      "3:\tlearn: 0.5280256\ttotal: 763ms\tremaining: 3m 10s\n",
      "4:\tlearn: 0.4959018\ttotal: 989ms\tremaining: 3m 16s\n",
      "5:\tlearn: 0.4647626\ttotal: 1.15s\tremaining: 3m 10s\n",
      "6:\tlearn: 0.4404592\ttotal: 1.36s\tremaining: 3m 12s\n",
      "7:\tlearn: 0.4178507\ttotal: 1.53s\tremaining: 3m 10s\n",
      "8:\tlearn: 0.3971200\ttotal: 1.72s\tremaining: 3m 9s\n",
      "9:\tlearn: 0.3779349\ttotal: 1.88s\tremaining: 3m 5s\n",
      "10:\tlearn: 0.3607403\ttotal: 2.04s\tremaining: 3m 3s\n",
      "11:\tlearn: 0.3452548\ttotal: 2.21s\tremaining: 3m 1s\n",
      "12:\tlearn: 0.3302534\ttotal: 2.41s\tremaining: 3m 3s\n",
      "13:\tlearn: 0.3177499\ttotal: 2.58s\tremaining: 3m 1s\n",
      "14:\tlearn: 0.3034607\ttotal: 2.79s\tremaining: 3m 3s\n",
      "15:\tlearn: 0.2926017\ttotal: 2.96s\tremaining: 3m 2s\n",
      "16:\tlearn: 0.2824187\ttotal: 3.11s\tremaining: 2m 59s\n",
      "17:\tlearn: 0.2718365\ttotal: 3.27s\tremaining: 2m 58s\n",
      "18:\tlearn: 0.2587900\ttotal: 3.44s\tremaining: 2m 57s\n",
      "19:\tlearn: 0.2485945\ttotal: 3.58s\tremaining: 2m 55s\n",
      "20:\tlearn: 0.2422024\ttotal: 3.73s\tremaining: 2m 53s\n",
      "21:\tlearn: 0.2327059\ttotal: 3.9s\tremaining: 2m 53s\n",
      "22:\tlearn: 0.2273824\ttotal: 4.07s\tremaining: 2m 52s\n",
      "23:\tlearn: 0.2225893\ttotal: 4.22s\tremaining: 2m 51s\n",
      "24:\tlearn: 0.2172585\ttotal: 4.35s\tremaining: 2m 49s\n",
      "25:\tlearn: 0.2103878\ttotal: 4.47s\tremaining: 2m 47s\n",
      "26:\tlearn: 0.2065129\ttotal: 4.59s\tremaining: 2m 45s\n",
      "27:\tlearn: 0.2004128\ttotal: 4.75s\tremaining: 2m 44s\n",
      "28:\tlearn: 0.1946227\ttotal: 4.96s\tremaining: 2m 45s\n",
      "29:\tlearn: 0.1897761\ttotal: 5.12s\tremaining: 2m 45s\n",
      "30:\tlearn: 0.1845324\ttotal: 5.27s\tremaining: 2m 44s\n",
      "31:\tlearn: 0.1792518\ttotal: 5.41s\tremaining: 2m 43s\n",
      "32:\tlearn: 0.1766900\ttotal: 5.58s\tremaining: 2m 43s\n",
      "33:\tlearn: 0.1721050\ttotal: 5.74s\tremaining: 2m 42s\n",
      "34:\tlearn: 0.1696014\ttotal: 5.88s\tremaining: 2m 42s\n",
      "35:\tlearn: 0.1673878\ttotal: 6.02s\tremaining: 2m 41s\n",
      "36:\tlearn: 0.1648706\ttotal: 6.15s\tremaining: 2m 40s\n",
      "37:\tlearn: 0.1616844\ttotal: 6.28s\tremaining: 2m 38s\n",
      "38:\tlearn: 0.1584449\ttotal: 6.4s\tremaining: 2m 37s\n",
      "39:\tlearn: 0.1568216\ttotal: 6.52s\tremaining: 2m 36s\n",
      "40:\tlearn: 0.1540972\ttotal: 6.68s\tremaining: 2m 36s\n",
      "41:\tlearn: 0.1515639\ttotal: 6.87s\tremaining: 2m 36s\n",
      "42:\tlearn: 0.1492403\ttotal: 7.07s\tremaining: 2m 37s\n",
      "43:\tlearn: 0.1466284\ttotal: 7.23s\tremaining: 2m 37s\n",
      "44:\tlearn: 0.1449389\ttotal: 7.39s\tremaining: 2m 36s\n",
      "45:\tlearn: 0.1430916\ttotal: 7.56s\tremaining: 2m 36s\n",
      "46:\tlearn: 0.1420920\ttotal: 7.73s\tremaining: 2m 36s\n",
      "47:\tlearn: 0.1405060\ttotal: 7.88s\tremaining: 2m 36s\n",
      "48:\tlearn: 0.1390333\ttotal: 8.04s\tremaining: 2m 36s\n",
      "49:\tlearn: 0.1381502\ttotal: 8.2s\tremaining: 2m 35s\n",
      "50:\tlearn: 0.1370094\ttotal: 8.35s\tremaining: 2m 35s\n",
      "51:\tlearn: 0.1357913\ttotal: 8.48s\tremaining: 2m 34s\n",
      "52:\tlearn: 0.1343119\ttotal: 8.61s\tremaining: 2m 33s\n",
      "53:\tlearn: 0.1328585\ttotal: 8.75s\tremaining: 2m 33s\n",
      "54:\tlearn: 0.1316325\ttotal: 8.89s\tremaining: 2m 32s\n",
      "55:\tlearn: 0.1306648\ttotal: 9.05s\tremaining: 2m 32s\n",
      "56:\tlearn: 0.1295508\ttotal: 9.2s\tremaining: 2m 32s\n",
      "57:\tlearn: 0.1288825\ttotal: 9.34s\tremaining: 2m 31s\n",
      "58:\tlearn: 0.1281684\ttotal: 9.48s\tremaining: 2m 31s\n",
      "59:\tlearn: 0.1275564\ttotal: 9.63s\tremaining: 2m 30s\n",
      "60:\tlearn: 0.1266255\ttotal: 9.83s\tremaining: 2m 31s\n",
      "61:\tlearn: 0.1258554\ttotal: 9.98s\tremaining: 2m 31s\n",
      "62:\tlearn: 0.1248229\ttotal: 10.1s\tremaining: 2m 30s\n",
      "63:\tlearn: 0.1240117\ttotal: 10.3s\tremaining: 2m 30s\n",
      "64:\tlearn: 0.1232603\ttotal: 10.4s\tremaining: 2m 30s\n",
      "65:\tlearn: 0.1229021\ttotal: 10.6s\tremaining: 2m 30s\n",
      "66:\tlearn: 0.1224377\ttotal: 10.8s\tremaining: 2m 30s\n",
      "67:\tlearn: 0.1219375\ttotal: 10.9s\tremaining: 2m 29s\n",
      "68:\tlearn: 0.1214296\ttotal: 11s\tremaining: 2m 29s\n",
      "69:\tlearn: 0.1208479\ttotal: 11.2s\tremaining: 2m 28s\n",
      "70:\tlearn: 0.1201224\ttotal: 11.3s\tremaining: 2m 27s\n",
      "71:\tlearn: 0.1192611\ttotal: 11.4s\tremaining: 2m 27s\n",
      "72:\tlearn: 0.1190638\ttotal: 11.6s\tremaining: 2m 27s\n",
      "73:\tlearn: 0.1186478\ttotal: 11.8s\tremaining: 2m 27s\n",
      "74:\tlearn: 0.1184105\ttotal: 11.9s\tremaining: 2m 26s\n",
      "75:\tlearn: 0.1180810\ttotal: 12.1s\tremaining: 2m 26s\n",
      "76:\tlearn: 0.1177513\ttotal: 12.2s\tremaining: 2m 26s\n",
      "77:\tlearn: 0.1173829\ttotal: 12.4s\tremaining: 2m 26s\n",
      "78:\tlearn: 0.1169572\ttotal: 12.5s\tremaining: 2m 26s\n",
      "79:\tlearn: 0.1162319\ttotal: 12.7s\tremaining: 2m 26s\n",
      "80:\tlearn: 0.1157214\ttotal: 12.9s\tremaining: 2m 26s\n",
      "81:\tlearn: 0.1150440\ttotal: 13s\tremaining: 2m 25s\n",
      "82:\tlearn: 0.1148137\ttotal: 13.2s\tremaining: 2m 25s\n",
      "83:\tlearn: 0.1145223\ttotal: 13.3s\tremaining: 2m 25s\n",
      "84:\tlearn: 0.1142368\ttotal: 13.4s\tremaining: 2m 24s\n",
      "85:\tlearn: 0.1140247\ttotal: 13.6s\tremaining: 2m 24s\n",
      "86:\tlearn: 0.1134003\ttotal: 13.7s\tremaining: 2m 24s\n",
      "87:\tlearn: 0.1132091\ttotal: 13.9s\tremaining: 2m 24s\n",
      "88:\tlearn: 0.1129993\ttotal: 14.1s\tremaining: 2m 24s\n",
      "89:\tlearn: 0.1123566\ttotal: 14.3s\tremaining: 2m 24s\n",
      "90:\tlearn: 0.1118631\ttotal: 14.4s\tremaining: 2m 23s\n",
      "91:\tlearn: 0.1115960\ttotal: 14.6s\tremaining: 2m 24s\n",
      "92:\tlearn: 0.1115153\ttotal: 14.9s\tremaining: 2m 25s\n",
      "93:\tlearn: 0.1110559\ttotal: 15.1s\tremaining: 2m 25s\n",
      "94:\tlearn: 0.1108166\ttotal: 15.3s\tremaining: 2m 25s\n",
      "95:\tlearn: 0.1102830\ttotal: 15.4s\tremaining: 2m 25s\n",
      "96:\tlearn: 0.1095756\ttotal: 15.6s\tremaining: 2m 25s\n",
      "97:\tlearn: 0.1093358\ttotal: 15.7s\tremaining: 2m 24s\n",
      "98:\tlearn: 0.1091560\ttotal: 15.8s\tremaining: 2m 24s\n",
      "99:\tlearn: 0.1089190\ttotal: 16s\tremaining: 2m 24s\n",
      "100:\tlearn: 0.1086441\ttotal: 16.2s\tremaining: 2m 23s\n",
      "101:\tlearn: 0.1085169\ttotal: 16.3s\tremaining: 2m 23s\n",
      "102:\tlearn: 0.1082594\ttotal: 16.4s\tremaining: 2m 23s\n",
      "103:\tlearn: 0.1081026\ttotal: 16.6s\tremaining: 2m 23s\n",
      "104:\tlearn: 0.1076750\ttotal: 16.8s\tremaining: 2m 22s\n",
      "105:\tlearn: 0.1074593\ttotal: 16.9s\tremaining: 2m 22s\n",
      "106:\tlearn: 0.1072435\ttotal: 17.1s\tremaining: 2m 22s\n",
      "107:\tlearn: 0.1069850\ttotal: 17.3s\tremaining: 2m 22s\n",
      "108:\tlearn: 0.1065291\ttotal: 17.4s\tremaining: 2m 22s\n",
      "109:\tlearn: 0.1058870\ttotal: 17.6s\tremaining: 2m 22s\n",
      "110:\tlearn: 0.1056726\ttotal: 17.8s\tremaining: 2m 22s\n",
      "111:\tlearn: 0.1053037\ttotal: 17.9s\tremaining: 2m 22s\n",
      "112:\tlearn: 0.1049424\ttotal: 18.1s\tremaining: 2m 22s\n",
      "113:\tlearn: 0.1045506\ttotal: 18.3s\tremaining: 2m 22s\n",
      "114:\tlearn: 0.1042072\ttotal: 18.5s\tremaining: 2m 22s\n",
      "115:\tlearn: 0.1040083\ttotal: 18.7s\tremaining: 2m 22s\n",
      "116:\tlearn: 0.1036862\ttotal: 18.8s\tremaining: 2m 22s\n",
      "117:\tlearn: 0.1034763\ttotal: 19s\tremaining: 2m 22s\n",
      "118:\tlearn: 0.1031724\ttotal: 19.2s\tremaining: 2m 22s\n",
      "119:\tlearn: 0.1029805\ttotal: 19.3s\tremaining: 2m 21s\n",
      "120:\tlearn: 0.1026957\ttotal: 19.5s\tremaining: 2m 21s\n",
      "121:\tlearn: 0.1025312\ttotal: 19.6s\tremaining: 2m 21s\n",
      "122:\tlearn: 0.1023835\ttotal: 19.8s\tremaining: 2m 21s\n",
      "123:\tlearn: 0.1021934\ttotal: 19.9s\tremaining: 2m 20s\n",
      "124:\tlearn: 0.1021233\ttotal: 20.1s\tremaining: 2m 20s\n",
      "125:\tlearn: 0.1019331\ttotal: 20.3s\tremaining: 2m 20s\n",
      "126:\tlearn: 0.1017754\ttotal: 20.5s\tremaining: 2m 20s\n",
      "127:\tlearn: 0.1015854\ttotal: 20.6s\tremaining: 2m 20s\n",
      "128:\tlearn: 0.1014730\ttotal: 20.7s\tremaining: 2m 20s\n",
      "129:\tlearn: 0.1013453\ttotal: 20.9s\tremaining: 2m 20s\n",
      "130:\tlearn: 0.1010547\ttotal: 21.1s\tremaining: 2m 19s\n",
      "131:\tlearn: 0.1009000\ttotal: 21.3s\tremaining: 2m 19s\n",
      "132:\tlearn: 0.1007588\ttotal: 21.4s\tremaining: 2m 19s\n",
      "133:\tlearn: 0.1006177\ttotal: 21.6s\tremaining: 2m 19s\n",
      "134:\tlearn: 0.1004714\ttotal: 21.7s\tremaining: 2m 19s\n",
      "135:\tlearn: 0.1002205\ttotal: 21.9s\tremaining: 2m 18s\n",
      "136:\tlearn: 0.1000142\ttotal: 22s\tremaining: 2m 18s\n",
      "137:\tlearn: 0.0998499\ttotal: 22.1s\tremaining: 2m 18s\n",
      "138:\tlearn: 0.0997482\ttotal: 22.3s\tremaining: 2m 17s\n",
      "139:\tlearn: 0.0996715\ttotal: 22.4s\tremaining: 2m 17s\n",
      "140:\tlearn: 0.0994507\ttotal: 22.5s\tremaining: 2m 17s\n",
      "141:\tlearn: 0.0991817\ttotal: 22.6s\tremaining: 2m 16s\n",
      "142:\tlearn: 0.0991243\ttotal: 22.8s\tremaining: 2m 16s\n",
      "143:\tlearn: 0.0990243\ttotal: 22.9s\tremaining: 2m 16s\n",
      "144:\tlearn: 0.0988689\ttotal: 23s\tremaining: 2m 15s\n",
      "145:\tlearn: 0.0986647\ttotal: 23.1s\tremaining: 2m 15s\n",
      "146:\tlearn: 0.0985040\ttotal: 23.3s\tremaining: 2m 14s\n",
      "147:\tlearn: 0.0983209\ttotal: 23.4s\tremaining: 2m 14s\n",
      "148:\tlearn: 0.0981005\ttotal: 23.5s\tremaining: 2m 14s\n",
      "149:\tlearn: 0.0980255\ttotal: 23.6s\tremaining: 2m 13s\n",
      "150:\tlearn: 0.0977093\ttotal: 23.8s\tremaining: 2m 13s\n",
      "151:\tlearn: 0.0975063\ttotal: 23.9s\tremaining: 2m 13s\n",
      "152:\tlearn: 0.0974381\ttotal: 24s\tremaining: 2m 12s\n",
      "153:\tlearn: 0.0972127\ttotal: 24.1s\tremaining: 2m 12s\n",
      "154:\tlearn: 0.0970857\ttotal: 24.2s\tremaining: 2m 12s\n",
      "155:\tlearn: 0.0969320\ttotal: 24.4s\tremaining: 2m 11s\n",
      "156:\tlearn: 0.0966888\ttotal: 24.5s\tremaining: 2m 11s\n",
      "157:\tlearn: 0.0965777\ttotal: 24.6s\tremaining: 2m 11s\n"
     ]
    },
    {
     "name": "stdout",
     "output_type": "stream",
     "text": [
      "158:\tlearn: 0.0961938\ttotal: 24.7s\tremaining: 2m 10s\n",
      "159:\tlearn: 0.0960540\ttotal: 24.9s\tremaining: 2m 10s\n",
      "160:\tlearn: 0.0959477\ttotal: 25s\tremaining: 2m 10s\n",
      "161:\tlearn: 0.0958442\ttotal: 25.1s\tremaining: 2m 10s\n",
      "162:\tlearn: 0.0956383\ttotal: 25.3s\tremaining: 2m 9s\n",
      "163:\tlearn: 0.0954833\ttotal: 25.4s\tremaining: 2m 9s\n",
      "164:\tlearn: 0.0954414\ttotal: 25.5s\tremaining: 2m 9s\n",
      "165:\tlearn: 0.0951979\ttotal: 25.7s\tremaining: 2m 8s\n",
      "166:\tlearn: 0.0950483\ttotal: 25.8s\tremaining: 2m 8s\n",
      "167:\tlearn: 0.0947373\ttotal: 25.9s\tremaining: 2m 8s\n",
      "168:\tlearn: 0.0946069\ttotal: 26.1s\tremaining: 2m 8s\n",
      "169:\tlearn: 0.0944636\ttotal: 26.2s\tremaining: 2m 7s\n",
      "170:\tlearn: 0.0941749\ttotal: 26.3s\tremaining: 2m 7s\n",
      "171:\tlearn: 0.0939901\ttotal: 26.5s\tremaining: 2m 7s\n",
      "172:\tlearn: 0.0938597\ttotal: 26.6s\tremaining: 2m 7s\n",
      "173:\tlearn: 0.0937148\ttotal: 26.7s\tremaining: 2m 6s\n",
      "174:\tlearn: 0.0935963\ttotal: 26.9s\tremaining: 2m 6s\n",
      "175:\tlearn: 0.0934823\ttotal: 27s\tremaining: 2m 6s\n",
      "176:\tlearn: 0.0933810\ttotal: 27.2s\tremaining: 2m 6s\n",
      "177:\tlearn: 0.0933273\ttotal: 27.3s\tremaining: 2m 5s\n",
      "178:\tlearn: 0.0930805\ttotal: 27.4s\tremaining: 2m 5s\n",
      "179:\tlearn: 0.0929519\ttotal: 27.5s\tremaining: 2m 5s\n",
      "180:\tlearn: 0.0928321\ttotal: 27.6s\tremaining: 2m 5s\n",
      "181:\tlearn: 0.0927197\ttotal: 27.8s\tremaining: 2m 4s\n",
      "182:\tlearn: 0.0925703\ttotal: 27.9s\tremaining: 2m 4s\n",
      "183:\tlearn: 0.0924355\ttotal: 28s\tremaining: 2m 4s\n",
      "184:\tlearn: 0.0923650\ttotal: 28.2s\tremaining: 2m 4s\n",
      "185:\tlearn: 0.0922111\ttotal: 28.3s\tremaining: 2m 4s\n",
      "186:\tlearn: 0.0921137\ttotal: 28.5s\tremaining: 2m 3s\n",
      "187:\tlearn: 0.0920550\ttotal: 28.6s\tremaining: 2m 3s\n",
      "188:\tlearn: 0.0919385\ttotal: 28.7s\tremaining: 2m 3s\n",
      "189:\tlearn: 0.0918263\ttotal: 28.8s\tremaining: 2m 2s\n",
      "190:\tlearn: 0.0915106\ttotal: 29s\tremaining: 2m 2s\n",
      "191:\tlearn: 0.0912911\ttotal: 29.1s\tremaining: 2m 2s\n",
      "192:\tlearn: 0.0912302\ttotal: 29.3s\tremaining: 2m 2s\n",
      "193:\tlearn: 0.0911802\ttotal: 29.4s\tremaining: 2m 2s\n",
      "194:\tlearn: 0.0910949\ttotal: 29.5s\tremaining: 2m 1s\n",
      "195:\tlearn: 0.0910138\ttotal: 29.6s\tremaining: 2m 1s\n",
      "196:\tlearn: 0.0908846\ttotal: 29.7s\tremaining: 2m 1s\n",
      "197:\tlearn: 0.0907292\ttotal: 29.9s\tremaining: 2m\n",
      "198:\tlearn: 0.0906444\ttotal: 30s\tremaining: 2m\n",
      "199:\tlearn: 0.0905623\ttotal: 30.1s\tremaining: 2m\n",
      "200:\tlearn: 0.0904023\ttotal: 30.2s\tremaining: 2m\n",
      "201:\tlearn: 0.0901916\ttotal: 30.3s\tremaining: 1m 59s\n",
      "202:\tlearn: 0.0901554\ttotal: 30.5s\tremaining: 1m 59s\n",
      "203:\tlearn: 0.0900897\ttotal: 30.6s\tremaining: 1m 59s\n",
      "204:\tlearn: 0.0899748\ttotal: 30.7s\tremaining: 1m 59s\n",
      "205:\tlearn: 0.0899371\ttotal: 30.9s\tremaining: 1m 58s\n",
      "206:\tlearn: 0.0899299\ttotal: 30.9s\tremaining: 1m 58s\n",
      "207:\tlearn: 0.0897720\ttotal: 31.1s\tremaining: 1m 58s\n",
      "208:\tlearn: 0.0895451\ttotal: 31.2s\tremaining: 1m 58s\n",
      "209:\tlearn: 0.0893623\ttotal: 31.4s\tremaining: 1m 58s\n",
      "210:\tlearn: 0.0893130\ttotal: 31.5s\tremaining: 1m 57s\n",
      "211:\tlearn: 0.0891124\ttotal: 31.6s\tremaining: 1m 57s\n",
      "212:\tlearn: 0.0888917\ttotal: 31.7s\tremaining: 1m 57s\n",
      "213:\tlearn: 0.0887501\ttotal: 31.9s\tremaining: 1m 57s\n",
      "214:\tlearn: 0.0886316\ttotal: 32.1s\tremaining: 1m 57s\n",
      "215:\tlearn: 0.0884765\ttotal: 32.2s\tremaining: 1m 56s\n",
      "216:\tlearn: 0.0880069\ttotal: 32.3s\tremaining: 1m 56s\n",
      "217:\tlearn: 0.0878442\ttotal: 32.5s\tremaining: 1m 56s\n",
      "218:\tlearn: 0.0877256\ttotal: 32.6s\tremaining: 1m 56s\n",
      "219:\tlearn: 0.0875017\ttotal: 32.7s\tremaining: 1m 56s\n",
      "220:\tlearn: 0.0872523\ttotal: 32.9s\tremaining: 1m 55s\n",
      "221:\tlearn: 0.0871766\ttotal: 33s\tremaining: 1m 55s\n",
      "222:\tlearn: 0.0870468\ttotal: 33.2s\tremaining: 1m 55s\n",
      "223:\tlearn: 0.0867475\ttotal: 33.3s\tremaining: 1m 55s\n",
      "224:\tlearn: 0.0865855\ttotal: 33.5s\tremaining: 1m 55s\n",
      "225:\tlearn: 0.0865025\ttotal: 33.6s\tremaining: 1m 55s\n",
      "226:\tlearn: 0.0863882\ttotal: 33.8s\tremaining: 1m 54s\n",
      "227:\tlearn: 0.0863073\ttotal: 33.9s\tremaining: 1m 54s\n",
      "228:\tlearn: 0.0862372\ttotal: 34.1s\tremaining: 1m 54s\n",
      "229:\tlearn: 0.0859871\ttotal: 34.3s\tremaining: 1m 54s\n",
      "230:\tlearn: 0.0859002\ttotal: 34.5s\tremaining: 1m 54s\n",
      "231:\tlearn: 0.0858344\ttotal: 34.6s\tremaining: 1m 54s\n",
      "232:\tlearn: 0.0857355\ttotal: 34.8s\tremaining: 1m 54s\n",
      "233:\tlearn: 0.0854301\ttotal: 34.9s\tremaining: 1m 54s\n",
      "234:\tlearn: 0.0852992\ttotal: 35s\tremaining: 1m 54s\n",
      "235:\tlearn: 0.0852238\ttotal: 35.2s\tremaining: 1m 53s\n",
      "236:\tlearn: 0.0851629\ttotal: 35.3s\tremaining: 1m 53s\n",
      "237:\tlearn: 0.0849510\ttotal: 35.5s\tremaining: 1m 53s\n",
      "238:\tlearn: 0.0849033\ttotal: 35.6s\tremaining: 1m 53s\n",
      "239:\tlearn: 0.0847854\ttotal: 35.8s\tremaining: 1m 53s\n",
      "240:\tlearn: 0.0846855\ttotal: 35.9s\tremaining: 1m 53s\n",
      "241:\tlearn: 0.0846313\ttotal: 36.1s\tremaining: 1m 52s\n",
      "242:\tlearn: 0.0845853\ttotal: 36.2s\tremaining: 1m 52s\n",
      "243:\tlearn: 0.0844448\ttotal: 36.3s\tremaining: 1m 52s\n",
      "244:\tlearn: 0.0843025\ttotal: 36.4s\tremaining: 1m 52s\n",
      "245:\tlearn: 0.0842560\ttotal: 36.5s\tremaining: 1m 51s\n",
      "246:\tlearn: 0.0841781\ttotal: 36.6s\tremaining: 1m 51s\n",
      "247:\tlearn: 0.0841065\ttotal: 36.8s\tremaining: 1m 51s\n",
      "248:\tlearn: 0.0840308\ttotal: 36.9s\tremaining: 1m 51s\n",
      "249:\tlearn: 0.0839457\ttotal: 37s\tremaining: 1m 50s\n",
      "250:\tlearn: 0.0839056\ttotal: 37.1s\tremaining: 1m 50s\n",
      "251:\tlearn: 0.0837668\ttotal: 37.2s\tremaining: 1m 50s\n",
      "252:\tlearn: 0.0836943\ttotal: 37.4s\tremaining: 1m 50s\n",
      "253:\tlearn: 0.0836005\ttotal: 37.5s\tremaining: 1m 50s\n",
      "254:\tlearn: 0.0835158\ttotal: 37.6s\tremaining: 1m 50s\n",
      "255:\tlearn: 0.0834351\ttotal: 37.8s\tremaining: 1m 49s\n",
      "256:\tlearn: 0.0833465\ttotal: 37.9s\tremaining: 1m 49s\n",
      "257:\tlearn: 0.0832263\ttotal: 38s\tremaining: 1m 49s\n",
      "258:\tlearn: 0.0831503\ttotal: 38.2s\tremaining: 1m 49s\n",
      "259:\tlearn: 0.0830849\ttotal: 38.3s\tremaining: 1m 48s\n",
      "260:\tlearn: 0.0829656\ttotal: 38.4s\tremaining: 1m 48s\n",
      "261:\tlearn: 0.0829107\ttotal: 38.5s\tremaining: 1m 48s\n",
      "262:\tlearn: 0.0828501\ttotal: 38.6s\tremaining: 1m 48s\n",
      "263:\tlearn: 0.0827537\ttotal: 38.8s\tremaining: 1m 48s\n",
      "264:\tlearn: 0.0826045\ttotal: 38.9s\tremaining: 1m 47s\n",
      "265:\tlearn: 0.0824941\ttotal: 39s\tremaining: 1m 47s\n",
      "266:\tlearn: 0.0823825\ttotal: 39.2s\tremaining: 1m 47s\n",
      "267:\tlearn: 0.0823459\ttotal: 39.3s\tremaining: 1m 47s\n",
      "268:\tlearn: 0.0822753\ttotal: 39.5s\tremaining: 1m 47s\n",
      "269:\tlearn: 0.0821496\ttotal: 39.6s\tremaining: 1m 47s\n",
      "270:\tlearn: 0.0820853\ttotal: 39.8s\tremaining: 1m 46s\n",
      "271:\tlearn: 0.0819761\ttotal: 39.9s\tremaining: 1m 46s\n",
      "272:\tlearn: 0.0818792\ttotal: 40.1s\tremaining: 1m 46s\n",
      "273:\tlearn: 0.0818191\ttotal: 40.2s\tremaining: 1m 46s\n",
      "274:\tlearn: 0.0817804\ttotal: 40.4s\tremaining: 1m 46s\n",
      "275:\tlearn: 0.0816774\ttotal: 40.6s\tremaining: 1m 46s\n",
      "276:\tlearn: 0.0815858\ttotal: 40.7s\tremaining: 1m 46s\n",
      "277:\tlearn: 0.0815467\ttotal: 40.8s\tremaining: 1m 46s\n",
      "278:\tlearn: 0.0814344\ttotal: 41s\tremaining: 1m 45s\n",
      "279:\tlearn: 0.0813501\ttotal: 41.1s\tremaining: 1m 45s\n",
      "280:\tlearn: 0.0813034\ttotal: 41.3s\tremaining: 1m 45s\n",
      "281:\tlearn: 0.0811489\ttotal: 41.4s\tremaining: 1m 45s\n",
      "282:\tlearn: 0.0810567\ttotal: 41.5s\tremaining: 1m 45s\n",
      "283:\tlearn: 0.0809962\ttotal: 41.6s\tremaining: 1m 44s\n",
      "284:\tlearn: 0.0809283\ttotal: 41.8s\tremaining: 1m 44s\n",
      "285:\tlearn: 0.0808601\ttotal: 41.9s\tremaining: 1m 44s\n",
      "286:\tlearn: 0.0808030\ttotal: 42.1s\tremaining: 1m 44s\n",
      "287:\tlearn: 0.0807586\ttotal: 42.2s\tremaining: 1m 44s\n",
      "288:\tlearn: 0.0806200\ttotal: 42.3s\tremaining: 1m 44s\n",
      "289:\tlearn: 0.0805818\ttotal: 42.4s\tremaining: 1m 43s\n",
      "290:\tlearn: 0.0804262\ttotal: 42.6s\tremaining: 1m 43s\n",
      "291:\tlearn: 0.0802519\ttotal: 42.7s\tremaining: 1m 43s\n",
      "292:\tlearn: 0.0801801\ttotal: 42.8s\tremaining: 1m 43s\n",
      "293:\tlearn: 0.0801246\ttotal: 43s\tremaining: 1m 43s\n",
      "294:\tlearn: 0.0800614\ttotal: 43.1s\tremaining: 1m 43s\n",
      "295:\tlearn: 0.0799728\ttotal: 43.3s\tremaining: 1m 42s\n",
      "296:\tlearn: 0.0799358\ttotal: 43.4s\tremaining: 1m 42s\n",
      "297:\tlearn: 0.0798254\ttotal: 43.5s\tremaining: 1m 42s\n",
      "298:\tlearn: 0.0797896\ttotal: 43.6s\tremaining: 1m 42s\n",
      "299:\tlearn: 0.0797587\ttotal: 43.8s\tremaining: 1m 42s\n",
      "300:\tlearn: 0.0797216\ttotal: 43.9s\tremaining: 1m 41s\n",
      "301:\tlearn: 0.0796791\ttotal: 44s\tremaining: 1m 41s\n",
      "302:\tlearn: 0.0795771\ttotal: 44.1s\tremaining: 1m 41s\n",
      "303:\tlearn: 0.0794598\ttotal: 44.3s\tremaining: 1m 41s\n",
      "304:\tlearn: 0.0793945\ttotal: 44.4s\tremaining: 1m 41s\n",
      "305:\tlearn: 0.0792579\ttotal: 44.5s\tremaining: 1m 41s\n",
      "306:\tlearn: 0.0792189\ttotal: 44.7s\tremaining: 1m 40s\n",
      "307:\tlearn: 0.0791596\ttotal: 44.8s\tremaining: 1m 40s\n",
      "308:\tlearn: 0.0790852\ttotal: 44.9s\tremaining: 1m 40s\n",
      "309:\tlearn: 0.0790125\ttotal: 45s\tremaining: 1m 40s\n",
      "310:\tlearn: 0.0789667\ttotal: 45.1s\tremaining: 1m 39s\n",
      "311:\tlearn: 0.0788707\ttotal: 45.2s\tremaining: 1m 39s\n",
      "312:\tlearn: 0.0787965\ttotal: 45.4s\tremaining: 1m 39s\n",
      "313:\tlearn: 0.0787135\ttotal: 45.5s\tremaining: 1m 39s\n",
      "314:\tlearn: 0.0785979\ttotal: 45.6s\tremaining: 1m 39s\n"
     ]
    },
    {
     "name": "stdout",
     "output_type": "stream",
     "text": [
      "315:\tlearn: 0.0784710\ttotal: 45.7s\tremaining: 1m 38s\n",
      "316:\tlearn: 0.0784311\ttotal: 45.8s\tremaining: 1m 38s\n",
      "317:\tlearn: 0.0784054\ttotal: 46s\tremaining: 1m 38s\n",
      "318:\tlearn: 0.0782244\ttotal: 46.1s\tremaining: 1m 38s\n",
      "319:\tlearn: 0.0782021\ttotal: 46.2s\tremaining: 1m 38s\n",
      "320:\tlearn: 0.0780759\ttotal: 46.3s\tremaining: 1m 37s\n",
      "321:\tlearn: 0.0777473\ttotal: 46.4s\tremaining: 1m 37s\n",
      "322:\tlearn: 0.0776505\ttotal: 46.6s\tremaining: 1m 37s\n",
      "323:\tlearn: 0.0775816\ttotal: 46.7s\tremaining: 1m 37s\n",
      "324:\tlearn: 0.0775271\ttotal: 46.8s\tremaining: 1m 37s\n",
      "325:\tlearn: 0.0774535\ttotal: 47s\tremaining: 1m 37s\n",
      "326:\tlearn: 0.0773589\ttotal: 47.1s\tremaining: 1m 36s\n",
      "327:\tlearn: 0.0773241\ttotal: 47.3s\tremaining: 1m 36s\n",
      "328:\tlearn: 0.0772614\ttotal: 47.4s\tremaining: 1m 36s\n",
      "329:\tlearn: 0.0772417\ttotal: 47.5s\tremaining: 1m 36s\n",
      "330:\tlearn: 0.0771558\ttotal: 47.7s\tremaining: 1m 36s\n",
      "331:\tlearn: 0.0770484\ttotal: 47.8s\tremaining: 1m 36s\n",
      "332:\tlearn: 0.0769200\ttotal: 47.9s\tremaining: 1m 35s\n",
      "333:\tlearn: 0.0768454\ttotal: 48s\tremaining: 1m 35s\n",
      "334:\tlearn: 0.0768001\ttotal: 48.1s\tremaining: 1m 35s\n",
      "335:\tlearn: 0.0766738\ttotal: 48.3s\tremaining: 1m 35s\n",
      "336:\tlearn: 0.0766504\ttotal: 48.4s\tremaining: 1m 35s\n",
      "337:\tlearn: 0.0762953\ttotal: 48.6s\tremaining: 1m 35s\n",
      "338:\tlearn: 0.0762340\ttotal: 48.8s\tremaining: 1m 35s\n",
      "339:\tlearn: 0.0761517\ttotal: 48.9s\tremaining: 1m 34s\n",
      "340:\tlearn: 0.0760690\ttotal: 49.1s\tremaining: 1m 34s\n",
      "341:\tlearn: 0.0760239\ttotal: 49.2s\tremaining: 1m 34s\n",
      "342:\tlearn: 0.0759971\ttotal: 49.3s\tremaining: 1m 34s\n",
      "343:\tlearn: 0.0758628\ttotal: 49.5s\tremaining: 1m 34s\n",
      "344:\tlearn: 0.0758144\ttotal: 49.6s\tremaining: 1m 34s\n",
      "345:\tlearn: 0.0757705\ttotal: 49.8s\tremaining: 1m 34s\n",
      "346:\tlearn: 0.0757079\ttotal: 49.9s\tremaining: 1m 33s\n",
      "347:\tlearn: 0.0756776\ttotal: 50s\tremaining: 1m 33s\n",
      "348:\tlearn: 0.0756194\ttotal: 50.2s\tremaining: 1m 33s\n",
      "349:\tlearn: 0.0756047\ttotal: 50.3s\tremaining: 1m 33s\n",
      "350:\tlearn: 0.0755640\ttotal: 50.4s\tremaining: 1m 33s\n",
      "351:\tlearn: 0.0752301\ttotal: 50.5s\tremaining: 1m 32s\n",
      "352:\tlearn: 0.0751930\ttotal: 50.6s\tremaining: 1m 32s\n",
      "353:\tlearn: 0.0750957\ttotal: 50.8s\tremaining: 1m 32s\n",
      "354:\tlearn: 0.0750097\ttotal: 50.9s\tremaining: 1m 32s\n",
      "355:\tlearn: 0.0748230\ttotal: 51s\tremaining: 1m 32s\n",
      "356:\tlearn: 0.0747906\ttotal: 51.2s\tremaining: 1m 32s\n",
      "357:\tlearn: 0.0747281\ttotal: 51.3s\tremaining: 1m 31s\n",
      "358:\tlearn: 0.0745572\ttotal: 51.4s\tremaining: 1m 31s\n",
      "359:\tlearn: 0.0745243\ttotal: 51.5s\tremaining: 1m 31s\n",
      "360:\tlearn: 0.0744650\ttotal: 51.7s\tremaining: 1m 31s\n",
      "361:\tlearn: 0.0744329\ttotal: 51.9s\tremaining: 1m 31s\n",
      "362:\tlearn: 0.0743538\ttotal: 52s\tremaining: 1m 31s\n",
      "363:\tlearn: 0.0742693\ttotal: 52.1s\tremaining: 1m 31s\n",
      "364:\tlearn: 0.0739889\ttotal: 52.3s\tremaining: 1m 30s\n",
      "365:\tlearn: 0.0739549\ttotal: 52.4s\tremaining: 1m 30s\n",
      "366:\tlearn: 0.0737727\ttotal: 52.5s\tremaining: 1m 30s\n",
      "367:\tlearn: 0.0736738\ttotal: 52.6s\tremaining: 1m 30s\n",
      "368:\tlearn: 0.0736112\ttotal: 52.7s\tremaining: 1m 30s\n",
      "369:\tlearn: 0.0735740\ttotal: 52.9s\tremaining: 1m 30s\n",
      "370:\tlearn: 0.0735264\ttotal: 53s\tremaining: 1m 29s\n",
      "371:\tlearn: 0.0733338\ttotal: 53.1s\tremaining: 1m 29s\n",
      "372:\tlearn: 0.0733048\ttotal: 53.2s\tremaining: 1m 29s\n",
      "373:\tlearn: 0.0732049\ttotal: 53.4s\tremaining: 1m 29s\n",
      "374:\tlearn: 0.0729085\ttotal: 53.5s\tremaining: 1m 29s\n",
      "375:\tlearn: 0.0728882\ttotal: 53.7s\tremaining: 1m 29s\n",
      "376:\tlearn: 0.0728537\ttotal: 53.8s\tremaining: 1m 28s\n",
      "377:\tlearn: 0.0728075\ttotal: 54s\tremaining: 1m 28s\n",
      "378:\tlearn: 0.0727526\ttotal: 54.1s\tremaining: 1m 28s\n",
      "379:\tlearn: 0.0727132\ttotal: 54.3s\tremaining: 1m 28s\n",
      "380:\tlearn: 0.0726298\ttotal: 54.4s\tremaining: 1m 28s\n",
      "381:\tlearn: 0.0725441\ttotal: 54.6s\tremaining: 1m 28s\n",
      "382:\tlearn: 0.0724620\ttotal: 54.7s\tremaining: 1m 28s\n",
      "383:\tlearn: 0.0723975\ttotal: 54.9s\tremaining: 1m 28s\n",
      "384:\tlearn: 0.0723112\ttotal: 55s\tremaining: 1m 27s\n",
      "385:\tlearn: 0.0722492\ttotal: 55.2s\tremaining: 1m 27s\n",
      "386:\tlearn: 0.0721357\ttotal: 55.3s\tremaining: 1m 27s\n",
      "387:\tlearn: 0.0719962\ttotal: 55.4s\tremaining: 1m 27s\n",
      "388:\tlearn: 0.0719082\ttotal: 55.6s\tremaining: 1m 27s\n",
      "389:\tlearn: 0.0718312\ttotal: 55.7s\tremaining: 1m 27s\n",
      "390:\tlearn: 0.0718113\ttotal: 55.8s\tremaining: 1m 26s\n",
      "391:\tlearn: 0.0717539\ttotal: 56s\tremaining: 1m 26s\n",
      "392:\tlearn: 0.0716602\ttotal: 56.2s\tremaining: 1m 26s\n",
      "393:\tlearn: 0.0716292\ttotal: 56.3s\tremaining: 1m 26s\n",
      "394:\tlearn: 0.0715357\ttotal: 56.5s\tremaining: 1m 26s\n",
      "395:\tlearn: 0.0714952\ttotal: 56.6s\tremaining: 1m 26s\n",
      "396:\tlearn: 0.0714169\ttotal: 56.7s\tremaining: 1m 26s\n",
      "397:\tlearn: 0.0713166\ttotal: 56.9s\tremaining: 1m 26s\n",
      "398:\tlearn: 0.0712241\ttotal: 57s\tremaining: 1m 25s\n",
      "399:\tlearn: 0.0712032\ttotal: 57.1s\tremaining: 1m 25s\n",
      "400:\tlearn: 0.0711325\ttotal: 57.3s\tremaining: 1m 25s\n",
      "401:\tlearn: 0.0711114\ttotal: 57.5s\tremaining: 1m 25s\n",
      "402:\tlearn: 0.0710216\ttotal: 57.6s\tremaining: 1m 25s\n",
      "403:\tlearn: 0.0709204\ttotal: 57.8s\tremaining: 1m 25s\n",
      "404:\tlearn: 0.0708945\ttotal: 57.9s\tremaining: 1m 25s\n",
      "405:\tlearn: 0.0708751\ttotal: 58.1s\tremaining: 1m 24s\n",
      "406:\tlearn: 0.0708026\ttotal: 58.2s\tremaining: 1m 24s\n",
      "407:\tlearn: 0.0706949\ttotal: 58.4s\tremaining: 1m 24s\n",
      "408:\tlearn: 0.0705259\ttotal: 58.5s\tremaining: 1m 24s\n",
      "409:\tlearn: 0.0704896\ttotal: 58.6s\tremaining: 1m 24s\n",
      "410:\tlearn: 0.0704189\ttotal: 58.8s\tremaining: 1m 24s\n",
      "411:\tlearn: 0.0703947\ttotal: 58.9s\tremaining: 1m 24s\n",
      "412:\tlearn: 0.0703276\ttotal: 59s\tremaining: 1m 23s\n",
      "413:\tlearn: 0.0702936\ttotal: 59.2s\tremaining: 1m 23s\n",
      "414:\tlearn: 0.0701134\ttotal: 59.3s\tremaining: 1m 23s\n",
      "415:\tlearn: 0.0700854\ttotal: 59.4s\tremaining: 1m 23s\n",
      "416:\tlearn: 0.0700263\ttotal: 59.6s\tremaining: 1m 23s\n",
      "417:\tlearn: 0.0699566\ttotal: 59.7s\tremaining: 1m 23s\n",
      "418:\tlearn: 0.0699390\ttotal: 59.9s\tremaining: 1m 23s\n",
      "419:\tlearn: 0.0698192\ttotal: 1m\tremaining: 1m 22s\n",
      "420:\tlearn: 0.0697618\ttotal: 1m\tremaining: 1m 22s\n",
      "421:\tlearn: 0.0696829\ttotal: 1m\tremaining: 1m 22s\n",
      "422:\tlearn: 0.0695671\ttotal: 1m\tremaining: 1m 22s\n",
      "423:\tlearn: 0.0695231\ttotal: 1m\tremaining: 1m 22s\n",
      "424:\tlearn: 0.0694776\ttotal: 1m\tremaining: 1m 22s\n",
      "425:\tlearn: 0.0694011\ttotal: 1m\tremaining: 1m 21s\n",
      "426:\tlearn: 0.0693103\ttotal: 1m\tremaining: 1m 21s\n",
      "427:\tlearn: 0.0692636\ttotal: 1m 1s\tremaining: 1m 21s\n",
      "428:\tlearn: 0.0691714\ttotal: 1m 1s\tremaining: 1m 21s\n",
      "429:\tlearn: 0.0690756\ttotal: 1m 1s\tremaining: 1m 21s\n",
      "430:\tlearn: 0.0690055\ttotal: 1m 1s\tremaining: 1m 21s\n",
      "431:\tlearn: 0.0688924\ttotal: 1m 1s\tremaining: 1m 21s\n",
      "432:\tlearn: 0.0688376\ttotal: 1m 1s\tremaining: 1m 21s\n",
      "433:\tlearn: 0.0688009\ttotal: 1m 2s\tremaining: 1m 20s\n",
      "434:\tlearn: 0.0686746\ttotal: 1m 2s\tremaining: 1m 20s\n",
      "435:\tlearn: 0.0686275\ttotal: 1m 2s\tremaining: 1m 20s\n",
      "436:\tlearn: 0.0684823\ttotal: 1m 2s\tremaining: 1m 20s\n",
      "437:\tlearn: 0.0684677\ttotal: 1m 2s\tremaining: 1m 20s\n",
      "438:\tlearn: 0.0684377\ttotal: 1m 2s\tremaining: 1m 20s\n",
      "439:\tlearn: 0.0683983\ttotal: 1m 2s\tremaining: 1m 20s\n",
      "440:\tlearn: 0.0683662\ttotal: 1m 3s\tremaining: 1m 19s\n",
      "441:\tlearn: 0.0682873\ttotal: 1m 3s\tremaining: 1m 19s\n",
      "442:\tlearn: 0.0682207\ttotal: 1m 3s\tremaining: 1m 19s\n",
      "443:\tlearn: 0.0681571\ttotal: 1m 3s\tremaining: 1m 19s\n",
      "444:\tlearn: 0.0680974\ttotal: 1m 3s\tremaining: 1m 19s\n",
      "445:\tlearn: 0.0680542\ttotal: 1m 3s\tremaining: 1m 19s\n",
      "446:\tlearn: 0.0679835\ttotal: 1m 3s\tremaining: 1m 19s\n",
      "447:\tlearn: 0.0678397\ttotal: 1m 4s\tremaining: 1m 18s\n",
      "448:\tlearn: 0.0677828\ttotal: 1m 4s\tremaining: 1m 18s\n",
      "449:\tlearn: 0.0676825\ttotal: 1m 4s\tremaining: 1m 18s\n",
      "450:\tlearn: 0.0675852\ttotal: 1m 4s\tremaining: 1m 18s\n",
      "451:\tlearn: 0.0674822\ttotal: 1m 4s\tremaining: 1m 18s\n",
      "452:\tlearn: 0.0674688\ttotal: 1m 4s\tremaining: 1m 18s\n",
      "453:\tlearn: 0.0674123\ttotal: 1m 5s\tremaining: 1m 18s\n",
      "454:\tlearn: 0.0673476\ttotal: 1m 5s\tremaining: 1m 18s\n",
      "455:\tlearn: 0.0673001\ttotal: 1m 5s\tremaining: 1m 18s\n",
      "456:\tlearn: 0.0672087\ttotal: 1m 5s\tremaining: 1m 17s\n",
      "457:\tlearn: 0.0671901\ttotal: 1m 5s\tremaining: 1m 17s\n",
      "458:\tlearn: 0.0671785\ttotal: 1m 5s\tremaining: 1m 17s\n",
      "459:\tlearn: 0.0671416\ttotal: 1m 6s\tremaining: 1m 17s\n",
      "460:\tlearn: 0.0670761\ttotal: 1m 6s\tremaining: 1m 17s\n",
      "461:\tlearn: 0.0670286\ttotal: 1m 6s\tremaining: 1m 17s\n",
      "462:\tlearn: 0.0669448\ttotal: 1m 6s\tremaining: 1m 17s\n",
      "463:\tlearn: 0.0668398\ttotal: 1m 6s\tremaining: 1m 17s\n",
      "464:\tlearn: 0.0667562\ttotal: 1m 6s\tremaining: 1m 16s\n",
      "465:\tlearn: 0.0667245\ttotal: 1m 6s\tremaining: 1m 16s\n",
      "466:\tlearn: 0.0666307\ttotal: 1m 7s\tremaining: 1m 16s\n",
      "467:\tlearn: 0.0665935\ttotal: 1m 7s\tremaining: 1m 16s\n",
      "468:\tlearn: 0.0665676\ttotal: 1m 7s\tremaining: 1m 16s\n",
      "469:\tlearn: 0.0665116\ttotal: 1m 7s\tremaining: 1m 16s\n",
      "470:\tlearn: 0.0664737\ttotal: 1m 7s\tremaining: 1m 16s\n",
      "471:\tlearn: 0.0664613\ttotal: 1m 7s\tremaining: 1m 15s\n"
     ]
    },
    {
     "name": "stdout",
     "output_type": "stream",
     "text": [
      "472:\tlearn: 0.0664421\ttotal: 1m 8s\tremaining: 1m 15s\n",
      "473:\tlearn: 0.0663623\ttotal: 1m 8s\tremaining: 1m 15s\n",
      "474:\tlearn: 0.0662975\ttotal: 1m 8s\tremaining: 1m 15s\n",
      "475:\tlearn: 0.0661750\ttotal: 1m 8s\tremaining: 1m 15s\n",
      "476:\tlearn: 0.0661544\ttotal: 1m 8s\tremaining: 1m 15s\n",
      "477:\tlearn: 0.0661374\ttotal: 1m 8s\tremaining: 1m 14s\n",
      "478:\tlearn: 0.0659444\ttotal: 1m 8s\tremaining: 1m 14s\n",
      "479:\tlearn: 0.0659208\ttotal: 1m 8s\tremaining: 1m 14s\n",
      "480:\tlearn: 0.0658984\ttotal: 1m 9s\tremaining: 1m 14s\n",
      "481:\tlearn: 0.0658127\ttotal: 1m 9s\tremaining: 1m 14s\n",
      "482:\tlearn: 0.0657517\ttotal: 1m 9s\tremaining: 1m 14s\n",
      "483:\tlearn: 0.0656591\ttotal: 1m 9s\tremaining: 1m 14s\n",
      "484:\tlearn: 0.0656374\ttotal: 1m 9s\tremaining: 1m 13s\n",
      "485:\tlearn: 0.0655898\ttotal: 1m 9s\tremaining: 1m 13s\n",
      "486:\tlearn: 0.0654424\ttotal: 1m 9s\tremaining: 1m 13s\n",
      "487:\tlearn: 0.0654131\ttotal: 1m 9s\tremaining: 1m 13s\n",
      "488:\tlearn: 0.0653625\ttotal: 1m 10s\tremaining: 1m 13s\n",
      "489:\tlearn: 0.0653112\ttotal: 1m 10s\tremaining: 1m 13s\n",
      "490:\tlearn: 0.0651472\ttotal: 1m 10s\tremaining: 1m 12s\n",
      "491:\tlearn: 0.0651019\ttotal: 1m 10s\tremaining: 1m 12s\n",
      "492:\tlearn: 0.0650324\ttotal: 1m 10s\tremaining: 1m 12s\n",
      "493:\tlearn: 0.0649445\ttotal: 1m 10s\tremaining: 1m 12s\n",
      "494:\tlearn: 0.0647520\ttotal: 1m 10s\tremaining: 1m 12s\n",
      "495:\tlearn: 0.0647251\ttotal: 1m 11s\tremaining: 1m 12s\n",
      "496:\tlearn: 0.0647111\ttotal: 1m 11s\tremaining: 1m 12s\n",
      "497:\tlearn: 0.0646325\ttotal: 1m 11s\tremaining: 1m 11s\n",
      "498:\tlearn: 0.0645676\ttotal: 1m 11s\tremaining: 1m 11s\n",
      "499:\tlearn: 0.0644639\ttotal: 1m 11s\tremaining: 1m 11s\n",
      "500:\tlearn: 0.0643916\ttotal: 1m 11s\tremaining: 1m 11s\n",
      "501:\tlearn: 0.0643348\ttotal: 1m 11s\tremaining: 1m 11s\n",
      "502:\tlearn: 0.0642802\ttotal: 1m 12s\tremaining: 1m 11s\n",
      "503:\tlearn: 0.0642222\ttotal: 1m 12s\tremaining: 1m 11s\n",
      "504:\tlearn: 0.0641926\ttotal: 1m 12s\tremaining: 1m 10s\n",
      "505:\tlearn: 0.0641223\ttotal: 1m 12s\tremaining: 1m 10s\n",
      "506:\tlearn: 0.0641114\ttotal: 1m 12s\tremaining: 1m 10s\n",
      "507:\tlearn: 0.0640806\ttotal: 1m 12s\tremaining: 1m 10s\n",
      "508:\tlearn: 0.0639785\ttotal: 1m 12s\tremaining: 1m 10s\n",
      "509:\tlearn: 0.0639415\ttotal: 1m 13s\tremaining: 1m 10s\n",
      "510:\tlearn: 0.0637196\ttotal: 1m 13s\tremaining: 1m 10s\n",
      "511:\tlearn: 0.0636751\ttotal: 1m 13s\tremaining: 1m 9s\n",
      "512:\tlearn: 0.0636434\ttotal: 1m 13s\tremaining: 1m 9s\n",
      "513:\tlearn: 0.0634744\ttotal: 1m 13s\tremaining: 1m 9s\n",
      "514:\tlearn: 0.0634273\ttotal: 1m 13s\tremaining: 1m 9s\n",
      "515:\tlearn: 0.0634052\ttotal: 1m 13s\tremaining: 1m 9s\n",
      "516:\tlearn: 0.0633558\ttotal: 1m 14s\tremaining: 1m 9s\n",
      "517:\tlearn: 0.0633430\ttotal: 1m 14s\tremaining: 1m 9s\n",
      "518:\tlearn: 0.0633161\ttotal: 1m 14s\tremaining: 1m 8s\n",
      "519:\tlearn: 0.0632303\ttotal: 1m 14s\tremaining: 1m 8s\n",
      "520:\tlearn: 0.0632038\ttotal: 1m 14s\tremaining: 1m 8s\n",
      "521:\tlearn: 0.0631420\ttotal: 1m 14s\tremaining: 1m 8s\n",
      "522:\tlearn: 0.0631270\ttotal: 1m 14s\tremaining: 1m 8s\n",
      "523:\tlearn: 0.0630240\ttotal: 1m 14s\tremaining: 1m 8s\n",
      "524:\tlearn: 0.0629953\ttotal: 1m 15s\tremaining: 1m 7s\n",
      "525:\tlearn: 0.0628964\ttotal: 1m 15s\tremaining: 1m 7s\n",
      "526:\tlearn: 0.0628181\ttotal: 1m 15s\tremaining: 1m 7s\n",
      "527:\tlearn: 0.0625717\ttotal: 1m 15s\tremaining: 1m 7s\n",
      "528:\tlearn: 0.0625436\ttotal: 1m 15s\tremaining: 1m 7s\n",
      "529:\tlearn: 0.0624780\ttotal: 1m 15s\tremaining: 1m 7s\n",
      "530:\tlearn: 0.0624525\ttotal: 1m 15s\tremaining: 1m 6s\n",
      "531:\tlearn: 0.0624341\ttotal: 1m 15s\tremaining: 1m 6s\n",
      "532:\tlearn: 0.0623523\ttotal: 1m 16s\tremaining: 1m 6s\n",
      "533:\tlearn: 0.0623316\ttotal: 1m 16s\tremaining: 1m 6s\n",
      "534:\tlearn: 0.0622835\ttotal: 1m 16s\tremaining: 1m 6s\n",
      "535:\tlearn: 0.0622334\ttotal: 1m 16s\tremaining: 1m 6s\n",
      "536:\tlearn: 0.0621874\ttotal: 1m 16s\tremaining: 1m 6s\n",
      "537:\tlearn: 0.0621590\ttotal: 1m 16s\tremaining: 1m 5s\n",
      "538:\tlearn: 0.0621209\ttotal: 1m 16s\tremaining: 1m 5s\n",
      "539:\tlearn: 0.0619429\ttotal: 1m 16s\tremaining: 1m 5s\n",
      "540:\tlearn: 0.0619250\ttotal: 1m 17s\tremaining: 1m 5s\n",
      "541:\tlearn: 0.0618993\ttotal: 1m 17s\tremaining: 1m 5s\n",
      "542:\tlearn: 0.0618750\ttotal: 1m 17s\tremaining: 1m 5s\n",
      "543:\tlearn: 0.0618424\ttotal: 1m 17s\tremaining: 1m 4s\n",
      "544:\tlearn: 0.0617497\ttotal: 1m 17s\tremaining: 1m 4s\n",
      "545:\tlearn: 0.0616360\ttotal: 1m 17s\tremaining: 1m 4s\n",
      "546:\tlearn: 0.0615796\ttotal: 1m 17s\tremaining: 1m 4s\n",
      "547:\tlearn: 0.0615257\ttotal: 1m 17s\tremaining: 1m 4s\n",
      "548:\tlearn: 0.0614596\ttotal: 1m 17s\tremaining: 1m 4s\n",
      "549:\tlearn: 0.0613658\ttotal: 1m 18s\tremaining: 1m 3s\n",
      "550:\tlearn: 0.0613087\ttotal: 1m 18s\tremaining: 1m 3s\n",
      "551:\tlearn: 0.0612904\ttotal: 1m 18s\tremaining: 1m 3s\n",
      "552:\tlearn: 0.0612662\ttotal: 1m 18s\tremaining: 1m 3s\n",
      "553:\tlearn: 0.0612046\ttotal: 1m 18s\tremaining: 1m 3s\n",
      "554:\tlearn: 0.0610427\ttotal: 1m 18s\tremaining: 1m 3s\n",
      "555:\tlearn: 0.0610183\ttotal: 1m 18s\tremaining: 1m 2s\n",
      "556:\tlearn: 0.0609872\ttotal: 1m 18s\tremaining: 1m 2s\n",
      "557:\tlearn: 0.0609148\ttotal: 1m 19s\tremaining: 1m 2s\n",
      "558:\tlearn: 0.0608409\ttotal: 1m 19s\tremaining: 1m 2s\n",
      "559:\tlearn: 0.0608210\ttotal: 1m 19s\tremaining: 1m 2s\n",
      "560:\tlearn: 0.0607355\ttotal: 1m 19s\tremaining: 1m 2s\n",
      "561:\tlearn: 0.0606807\ttotal: 1m 19s\tremaining: 1m 1s\n",
      "562:\tlearn: 0.0606295\ttotal: 1m 19s\tremaining: 1m 1s\n",
      "563:\tlearn: 0.0605910\ttotal: 1m 19s\tremaining: 1m 1s\n",
      "564:\tlearn: 0.0605431\ttotal: 1m 19s\tremaining: 1m 1s\n",
      "565:\tlearn: 0.0605266\ttotal: 1m 19s\tremaining: 1m 1s\n",
      "566:\tlearn: 0.0604647\ttotal: 1m 20s\tremaining: 1m 1s\n",
      "567:\tlearn: 0.0604541\ttotal: 1m 20s\tremaining: 1m\n",
      "568:\tlearn: 0.0604105\ttotal: 1m 20s\tremaining: 1m\n",
      "569:\tlearn: 0.0603539\ttotal: 1m 20s\tremaining: 1m\n",
      "570:\tlearn: 0.0603346\ttotal: 1m 20s\tremaining: 1m\n",
      "571:\tlearn: 0.0602744\ttotal: 1m 20s\tremaining: 1m\n",
      "572:\tlearn: 0.0601440\ttotal: 1m 20s\tremaining: 1m\n",
      "573:\tlearn: 0.0600867\ttotal: 1m 20s\tremaining: 1m\n",
      "574:\tlearn: 0.0600620\ttotal: 1m 21s\tremaining: 60s\n",
      "575:\tlearn: 0.0599852\ttotal: 1m 21s\tremaining: 59.8s\n",
      "576:\tlearn: 0.0599562\ttotal: 1m 21s\tremaining: 59.7s\n",
      "577:\tlearn: 0.0599438\ttotal: 1m 21s\tremaining: 59.6s\n",
      "578:\tlearn: 0.0598492\ttotal: 1m 21s\tremaining: 59.4s\n",
      "579:\tlearn: 0.0597659\ttotal: 1m 21s\tremaining: 59.3s\n",
      "580:\tlearn: 0.0596963\ttotal: 1m 21s\tremaining: 59.1s\n",
      "581:\tlearn: 0.0596863\ttotal: 1m 22s\tremaining: 58.9s\n",
      "582:\tlearn: 0.0596593\ttotal: 1m 22s\tremaining: 58.8s\n",
      "583:\tlearn: 0.0595783\ttotal: 1m 22s\tremaining: 58.6s\n",
      "584:\tlearn: 0.0595258\ttotal: 1m 22s\tremaining: 58.5s\n",
      "585:\tlearn: 0.0594165\ttotal: 1m 22s\tremaining: 58.4s\n",
      "586:\tlearn: 0.0594053\ttotal: 1m 22s\tremaining: 58.2s\n",
      "587:\tlearn: 0.0593453\ttotal: 1m 22s\tremaining: 58.1s\n",
      "588:\tlearn: 0.0591610\ttotal: 1m 23s\tremaining: 57.9s\n",
      "589:\tlearn: 0.0591219\ttotal: 1m 23s\tremaining: 57.8s\n",
      "590:\tlearn: 0.0590691\ttotal: 1m 23s\tremaining: 57.6s\n",
      "591:\tlearn: 0.0590437\ttotal: 1m 23s\tremaining: 57.5s\n",
      "592:\tlearn: 0.0589265\ttotal: 1m 23s\tremaining: 57.4s\n",
      "593:\tlearn: 0.0588994\ttotal: 1m 23s\tremaining: 57.2s\n",
      "594:\tlearn: 0.0588822\ttotal: 1m 23s\tremaining: 57.1s\n",
      "595:\tlearn: 0.0588507\ttotal: 1m 23s\tremaining: 56.9s\n",
      "596:\tlearn: 0.0588189\ttotal: 1m 24s\tremaining: 56.8s\n",
      "597:\tlearn: 0.0588021\ttotal: 1m 24s\tremaining: 56.6s\n",
      "598:\tlearn: 0.0587884\ttotal: 1m 24s\tremaining: 56.5s\n",
      "599:\tlearn: 0.0587426\ttotal: 1m 24s\tremaining: 56.4s\n",
      "600:\tlearn: 0.0586681\ttotal: 1m 24s\tremaining: 56.2s\n",
      "601:\tlearn: 0.0586105\ttotal: 1m 24s\tremaining: 56s\n",
      "602:\tlearn: 0.0585019\ttotal: 1m 24s\tremaining: 55.9s\n",
      "603:\tlearn: 0.0582709\ttotal: 1m 25s\tremaining: 55.8s\n",
      "604:\tlearn: 0.0582495\ttotal: 1m 25s\tremaining: 55.6s\n",
      "605:\tlearn: 0.0582165\ttotal: 1m 25s\tremaining: 55.5s\n",
      "606:\tlearn: 0.0581826\ttotal: 1m 25s\tremaining: 55.4s\n",
      "607:\tlearn: 0.0581240\ttotal: 1m 25s\tremaining: 55.3s\n",
      "608:\tlearn: 0.0581004\ttotal: 1m 25s\tremaining: 55.1s\n",
      "609:\tlearn: 0.0580352\ttotal: 1m 25s\tremaining: 54.9s\n",
      "610:\tlearn: 0.0579252\ttotal: 1m 26s\tremaining: 54.8s\n",
      "611:\tlearn: 0.0578223\ttotal: 1m 26s\tremaining: 54.6s\n",
      "612:\tlearn: 0.0577207\ttotal: 1m 26s\tremaining: 54.5s\n",
      "613:\tlearn: 0.0576865\ttotal: 1m 26s\tremaining: 54.3s\n",
      "614:\tlearn: 0.0576483\ttotal: 1m 26s\tremaining: 54.2s\n",
      "615:\tlearn: 0.0576334\ttotal: 1m 26s\tremaining: 54s\n",
      "616:\tlearn: 0.0575965\ttotal: 1m 26s\tremaining: 53.9s\n",
      "617:\tlearn: 0.0575929\ttotal: 1m 26s\tremaining: 53.7s\n",
      "618:\tlearn: 0.0573684\ttotal: 1m 26s\tremaining: 53.5s\n",
      "619:\tlearn: 0.0573623\ttotal: 1m 27s\tremaining: 53.4s\n",
      "620:\tlearn: 0.0573091\ttotal: 1m 27s\tremaining: 53.2s\n",
      "621:\tlearn: 0.0572767\ttotal: 1m 27s\tremaining: 53.1s\n",
      "622:\tlearn: 0.0572648\ttotal: 1m 27s\tremaining: 52.9s\n",
      "623:\tlearn: 0.0572587\ttotal: 1m 27s\tremaining: 52.8s\n",
      "624:\tlearn: 0.0572399\ttotal: 1m 27s\tremaining: 52.6s\n",
      "625:\tlearn: 0.0571995\ttotal: 1m 27s\tremaining: 52.5s\n",
      "626:\tlearn: 0.0571746\ttotal: 1m 28s\tremaining: 52.4s\n",
      "627:\tlearn: 0.0571539\ttotal: 1m 28s\tremaining: 52.2s\n"
     ]
    },
    {
     "name": "stdout",
     "output_type": "stream",
     "text": [
      "628:\tlearn: 0.0571218\ttotal: 1m 28s\tremaining: 52.1s\n",
      "629:\tlearn: 0.0570970\ttotal: 1m 28s\tremaining: 51.9s\n",
      "630:\tlearn: 0.0570303\ttotal: 1m 28s\tremaining: 51.8s\n",
      "631:\tlearn: 0.0569235\ttotal: 1m 28s\tremaining: 51.6s\n",
      "632:\tlearn: 0.0569113\ttotal: 1m 28s\tremaining: 51.5s\n",
      "633:\tlearn: 0.0568671\ttotal: 1m 28s\tremaining: 51.3s\n",
      "634:\tlearn: 0.0568184\ttotal: 1m 28s\tremaining: 51.1s\n",
      "635:\tlearn: 0.0567064\ttotal: 1m 29s\tremaining: 51s\n",
      "636:\tlearn: 0.0566574\ttotal: 1m 29s\tremaining: 50.8s\n",
      "637:\tlearn: 0.0566403\ttotal: 1m 29s\tremaining: 50.7s\n",
      "638:\tlearn: 0.0566148\ttotal: 1m 29s\tremaining: 50.5s\n",
      "639:\tlearn: 0.0565830\ttotal: 1m 29s\tremaining: 50.4s\n",
      "640:\tlearn: 0.0564635\ttotal: 1m 29s\tremaining: 50.2s\n",
      "641:\tlearn: 0.0564374\ttotal: 1m 29s\tremaining: 50.1s\n",
      "642:\tlearn: 0.0563962\ttotal: 1m 29s\tremaining: 49.9s\n",
      "643:\tlearn: 0.0563388\ttotal: 1m 30s\tremaining: 49.8s\n",
      "644:\tlearn: 0.0563105\ttotal: 1m 30s\tremaining: 49.6s\n",
      "645:\tlearn: 0.0562603\ttotal: 1m 30s\tremaining: 49.5s\n",
      "646:\tlearn: 0.0562371\ttotal: 1m 30s\tremaining: 49.3s\n",
      "647:\tlearn: 0.0561572\ttotal: 1m 30s\tremaining: 49.2s\n",
      "648:\tlearn: 0.0561389\ttotal: 1m 30s\tremaining: 49s\n",
      "649:\tlearn: 0.0560972\ttotal: 1m 30s\tremaining: 48.9s\n",
      "650:\tlearn: 0.0559989\ttotal: 1m 30s\tremaining: 48.8s\n",
      "651:\tlearn: 0.0558938\ttotal: 1m 31s\tremaining: 48.6s\n",
      "652:\tlearn: 0.0558889\ttotal: 1m 31s\tremaining: 48.5s\n",
      "653:\tlearn: 0.0558640\ttotal: 1m 31s\tremaining: 48.3s\n",
      "654:\tlearn: 0.0558571\ttotal: 1m 31s\tremaining: 48.2s\n",
      "655:\tlearn: 0.0557965\ttotal: 1m 31s\tremaining: 48s\n",
      "656:\tlearn: 0.0557916\ttotal: 1m 31s\tremaining: 47.9s\n",
      "657:\tlearn: 0.0557369\ttotal: 1m 31s\tremaining: 47.7s\n",
      "658:\tlearn: 0.0556376\ttotal: 1m 31s\tremaining: 47.6s\n",
      "659:\tlearn: 0.0556225\ttotal: 1m 32s\tremaining: 47.4s\n",
      "660:\tlearn: 0.0555401\ttotal: 1m 32s\tremaining: 47.3s\n",
      "661:\tlearn: 0.0554987\ttotal: 1m 32s\tremaining: 47.1s\n",
      "662:\tlearn: 0.0554048\ttotal: 1m 32s\tremaining: 47s\n",
      "663:\tlearn: 0.0553833\ttotal: 1m 32s\tremaining: 46.8s\n",
      "664:\tlearn: 0.0553334\ttotal: 1m 32s\tremaining: 46.7s\n",
      "665:\tlearn: 0.0553246\ttotal: 1m 32s\tremaining: 46.5s\n",
      "666:\tlearn: 0.0552113\ttotal: 1m 32s\tremaining: 46.4s\n",
      "667:\tlearn: 0.0551931\ttotal: 1m 32s\tremaining: 46.2s\n",
      "668:\tlearn: 0.0551857\ttotal: 1m 33s\tremaining: 46.1s\n",
      "669:\tlearn: 0.0551479\ttotal: 1m 33s\tremaining: 45.9s\n",
      "670:\tlearn: 0.0551434\ttotal: 1m 33s\tremaining: 45.7s\n",
      "671:\tlearn: 0.0551048\ttotal: 1m 33s\tremaining: 45.6s\n",
      "672:\tlearn: 0.0550152\ttotal: 1m 33s\tremaining: 45.4s\n",
      "673:\tlearn: 0.0549860\ttotal: 1m 33s\tremaining: 45.3s\n",
      "674:\tlearn: 0.0549731\ttotal: 1m 33s\tremaining: 45.1s\n",
      "675:\tlearn: 0.0549484\ttotal: 1m 33s\tremaining: 45s\n",
      "676:\tlearn: 0.0548728\ttotal: 1m 33s\tremaining: 44.8s\n",
      "677:\tlearn: 0.0548106\ttotal: 1m 34s\tremaining: 44.7s\n",
      "678:\tlearn: 0.0547636\ttotal: 1m 34s\tremaining: 44.5s\n",
      "679:\tlearn: 0.0547501\ttotal: 1m 34s\tremaining: 44.4s\n",
      "680:\tlearn: 0.0545613\ttotal: 1m 34s\tremaining: 44.2s\n",
      "681:\tlearn: 0.0545588\ttotal: 1m 34s\tremaining: 44.1s\n",
      "682:\tlearn: 0.0545260\ttotal: 1m 34s\tremaining: 43.9s\n",
      "683:\tlearn: 0.0544948\ttotal: 1m 34s\tremaining: 43.8s\n",
      "684:\tlearn: 0.0544916\ttotal: 1m 34s\tremaining: 43.6s\n",
      "685:\tlearn: 0.0544783\ttotal: 1m 35s\tremaining: 43.5s\n",
      "686:\tlearn: 0.0544560\ttotal: 1m 35s\tremaining: 43.3s\n",
      "687:\tlearn: 0.0544375\ttotal: 1m 35s\tremaining: 43.2s\n",
      "688:\tlearn: 0.0543197\ttotal: 1m 35s\tremaining: 43.1s\n",
      "689:\tlearn: 0.0541964\ttotal: 1m 35s\tremaining: 42.9s\n",
      "690:\tlearn: 0.0541825\ttotal: 1m 35s\tremaining: 42.8s\n",
      "691:\tlearn: 0.0541344\ttotal: 1m 35s\tremaining: 42.6s\n",
      "692:\tlearn: 0.0540984\ttotal: 1m 35s\tremaining: 42.5s\n",
      "693:\tlearn: 0.0540760\ttotal: 1m 36s\tremaining: 42.3s\n",
      "694:\tlearn: 0.0540522\ttotal: 1m 36s\tremaining: 42.2s\n",
      "695:\tlearn: 0.0540435\ttotal: 1m 36s\tremaining: 42.1s\n",
      "696:\tlearn: 0.0539401\ttotal: 1m 36s\tremaining: 41.9s\n",
      "697:\tlearn: 0.0539242\ttotal: 1m 36s\tremaining: 41.8s\n",
      "698:\tlearn: 0.0538618\ttotal: 1m 36s\tremaining: 41.6s\n",
      "699:\tlearn: 0.0538283\ttotal: 1m 36s\tremaining: 41.5s\n",
      "700:\tlearn: 0.0537998\ttotal: 1m 36s\tremaining: 41.4s\n",
      "701:\tlearn: 0.0537894\ttotal: 1m 37s\tremaining: 41.2s\n",
      "702:\tlearn: 0.0537304\ttotal: 1m 37s\tremaining: 41.1s\n",
      "703:\tlearn: 0.0535838\ttotal: 1m 37s\tremaining: 41s\n",
      "704:\tlearn: 0.0535791\ttotal: 1m 37s\tremaining: 40.8s\n",
      "705:\tlearn: 0.0535149\ttotal: 1m 37s\tremaining: 40.7s\n",
      "706:\tlearn: 0.0534904\ttotal: 1m 37s\tremaining: 40.5s\n",
      "707:\tlearn: 0.0534495\ttotal: 1m 37s\tremaining: 40.4s\n",
      "708:\tlearn: 0.0534267\ttotal: 1m 38s\tremaining: 40.2s\n",
      "709:\tlearn: 0.0534102\ttotal: 1m 38s\tremaining: 40.1s\n",
      "710:\tlearn: 0.0533668\ttotal: 1m 38s\tremaining: 39.9s\n",
      "711:\tlearn: 0.0533559\ttotal: 1m 38s\tremaining: 39.8s\n",
      "712:\tlearn: 0.0533391\ttotal: 1m 38s\tremaining: 39.6s\n",
      "713:\tlearn: 0.0532752\ttotal: 1m 38s\tremaining: 39.5s\n",
      "714:\tlearn: 0.0532138\ttotal: 1m 38s\tremaining: 39.4s\n",
      "715:\tlearn: 0.0531672\ttotal: 1m 38s\tremaining: 39.2s\n",
      "716:\tlearn: 0.0531526\ttotal: 1m 38s\tremaining: 39.1s\n",
      "717:\tlearn: 0.0531396\ttotal: 1m 39s\tremaining: 38.9s\n",
      "718:\tlearn: 0.0531101\ttotal: 1m 39s\tremaining: 38.8s\n",
      "719:\tlearn: 0.0531055\ttotal: 1m 39s\tremaining: 38.6s\n",
      "720:\tlearn: 0.0530405\ttotal: 1m 39s\tremaining: 38.5s\n",
      "721:\tlearn: 0.0530361\ttotal: 1m 39s\tremaining: 38.3s\n",
      "722:\tlearn: 0.0529580\ttotal: 1m 39s\tremaining: 38.2s\n",
      "723:\tlearn: 0.0529545\ttotal: 1m 39s\tremaining: 38s\n",
      "724:\tlearn: 0.0529311\ttotal: 1m 39s\tremaining: 37.9s\n",
      "725:\tlearn: 0.0529246\ttotal: 1m 39s\tremaining: 37.7s\n",
      "726:\tlearn: 0.0529214\ttotal: 1m 40s\tremaining: 37.6s\n",
      "727:\tlearn: 0.0528666\ttotal: 1m 40s\tremaining: 37.4s\n",
      "728:\tlearn: 0.0528353\ttotal: 1m 40s\tremaining: 37.3s\n",
      "729:\tlearn: 0.0528235\ttotal: 1m 40s\tremaining: 37.1s\n",
      "730:\tlearn: 0.0526908\ttotal: 1m 40s\tremaining: 37s\n",
      "731:\tlearn: 0.0526337\ttotal: 1m 40s\tremaining: 36.9s\n",
      "732:\tlearn: 0.0526210\ttotal: 1m 40s\tremaining: 36.7s\n",
      "733:\tlearn: 0.0525280\ttotal: 1m 40s\tremaining: 36.6s\n",
      "734:\tlearn: 0.0525049\ttotal: 1m 41s\tremaining: 36.4s\n",
      "735:\tlearn: 0.0525004\ttotal: 1m 41s\tremaining: 36.3s\n",
      "736:\tlearn: 0.0524766\ttotal: 1m 41s\tremaining: 36.1s\n",
      "737:\tlearn: 0.0524430\ttotal: 1m 41s\tremaining: 36s\n",
      "738:\tlearn: 0.0523989\ttotal: 1m 41s\tremaining: 35.8s\n",
      "739:\tlearn: 0.0523854\ttotal: 1m 41s\tremaining: 35.7s\n",
      "740:\tlearn: 0.0523237\ttotal: 1m 41s\tremaining: 35.6s\n",
      "741:\tlearn: 0.0522795\ttotal: 1m 41s\tremaining: 35.4s\n",
      "742:\tlearn: 0.0522486\ttotal: 1m 41s\tremaining: 35.3s\n",
      "743:\tlearn: 0.0521719\ttotal: 1m 42s\tremaining: 35.1s\n",
      "744:\tlearn: 0.0521566\ttotal: 1m 42s\tremaining: 35s\n",
      "745:\tlearn: 0.0521458\ttotal: 1m 42s\tremaining: 34.8s\n",
      "746:\tlearn: 0.0520978\ttotal: 1m 42s\tremaining: 34.7s\n",
      "747:\tlearn: 0.0520815\ttotal: 1m 42s\tremaining: 34.5s\n",
      "748:\tlearn: 0.0520131\ttotal: 1m 42s\tremaining: 34.4s\n",
      "749:\tlearn: 0.0520062\ttotal: 1m 42s\tremaining: 34.2s\n",
      "750:\tlearn: 0.0519664\ttotal: 1m 42s\tremaining: 34.1s\n",
      "751:\tlearn: 0.0519321\ttotal: 1m 42s\tremaining: 33.9s\n",
      "752:\tlearn: 0.0519131\ttotal: 1m 43s\tremaining: 33.8s\n",
      "753:\tlearn: 0.0518691\ttotal: 1m 43s\tremaining: 33.7s\n",
      "754:\tlearn: 0.0518487\ttotal: 1m 43s\tremaining: 33.5s\n",
      "755:\tlearn: 0.0518356\ttotal: 1m 43s\tremaining: 33.4s\n",
      "756:\tlearn: 0.0518258\ttotal: 1m 43s\tremaining: 33.2s\n",
      "757:\tlearn: 0.0518197\ttotal: 1m 43s\tremaining: 33.1s\n",
      "758:\tlearn: 0.0518067\ttotal: 1m 43s\tremaining: 32.9s\n",
      "759:\tlearn: 0.0518005\ttotal: 1m 43s\tremaining: 32.8s\n",
      "760:\tlearn: 0.0517366\ttotal: 1m 43s\tremaining: 32.6s\n",
      "761:\tlearn: 0.0516838\ttotal: 1m 44s\tremaining: 32.5s\n",
      "762:\tlearn: 0.0516672\ttotal: 1m 44s\tremaining: 32.4s\n",
      "763:\tlearn: 0.0516602\ttotal: 1m 44s\tremaining: 32.2s\n",
      "764:\tlearn: 0.0515753\ttotal: 1m 44s\tremaining: 32.1s\n",
      "765:\tlearn: 0.0515594\ttotal: 1m 44s\tremaining: 31.9s\n",
      "766:\tlearn: 0.0514596\ttotal: 1m 44s\tremaining: 31.8s\n",
      "767:\tlearn: 0.0514040\ttotal: 1m 44s\tremaining: 31.6s\n",
      "768:\tlearn: 0.0513626\ttotal: 1m 44s\tremaining: 31.5s\n",
      "769:\tlearn: 0.0513522\ttotal: 1m 44s\tremaining: 31.4s\n",
      "770:\tlearn: 0.0512520\ttotal: 1m 45s\tremaining: 31.2s\n",
      "771:\tlearn: 0.0512067\ttotal: 1m 45s\tremaining: 31.1s\n",
      "772:\tlearn: 0.0512035\ttotal: 1m 45s\tremaining: 30.9s\n",
      "773:\tlearn: 0.0511915\ttotal: 1m 45s\tremaining: 30.8s\n",
      "774:\tlearn: 0.0511710\ttotal: 1m 45s\tremaining: 30.6s\n",
      "775:\tlearn: 0.0510905\ttotal: 1m 45s\tremaining: 30.5s\n",
      "776:\tlearn: 0.0510784\ttotal: 1m 45s\tremaining: 30.4s\n",
      "777:\tlearn: 0.0510570\ttotal: 1m 45s\tremaining: 30.2s\n",
      "778:\tlearn: 0.0510450\ttotal: 1m 46s\tremaining: 30.1s\n",
      "779:\tlearn: 0.0510402\ttotal: 1m 46s\tremaining: 29.9s\n",
      "780:\tlearn: 0.0509940\ttotal: 1m 46s\tremaining: 29.8s\n",
      "781:\tlearn: 0.0509423\ttotal: 1m 46s\tremaining: 29.7s\n",
      "782:\tlearn: 0.0509403\ttotal: 1m 46s\tremaining: 29.5s\n",
      "783:\tlearn: 0.0508966\ttotal: 1m 46s\tremaining: 29.4s\n"
     ]
    },
    {
     "name": "stdout",
     "output_type": "stream",
     "text": [
      "784:\tlearn: 0.0508073\ttotal: 1m 46s\tremaining: 29.2s\n",
      "785:\tlearn: 0.0507864\ttotal: 1m 46s\tremaining: 29.1s\n",
      "786:\tlearn: 0.0507824\ttotal: 1m 46s\tremaining: 28.9s\n",
      "787:\tlearn: 0.0507570\ttotal: 1m 47s\tremaining: 28.8s\n",
      "788:\tlearn: 0.0507173\ttotal: 1m 47s\tremaining: 28.7s\n",
      "789:\tlearn: 0.0506959\ttotal: 1m 47s\tremaining: 28.5s\n",
      "790:\tlearn: 0.0506416\ttotal: 1m 47s\tremaining: 28.4s\n",
      "791:\tlearn: 0.0506351\ttotal: 1m 47s\tremaining: 28.2s\n",
      "792:\tlearn: 0.0505998\ttotal: 1m 47s\tremaining: 28.1s\n",
      "793:\tlearn: 0.0505686\ttotal: 1m 47s\tremaining: 27.9s\n",
      "794:\tlearn: 0.0505061\ttotal: 1m 47s\tremaining: 27.8s\n",
      "795:\tlearn: 0.0503856\ttotal: 1m 47s\tremaining: 27.7s\n",
      "796:\tlearn: 0.0503327\ttotal: 1m 48s\tremaining: 27.5s\n",
      "797:\tlearn: 0.0503186\ttotal: 1m 48s\tremaining: 27.4s\n",
      "798:\tlearn: 0.0502882\ttotal: 1m 48s\tremaining: 27.2s\n",
      "799:\tlearn: 0.0502833\ttotal: 1m 48s\tremaining: 27.1s\n",
      "800:\tlearn: 0.0502443\ttotal: 1m 48s\tremaining: 27s\n",
      "801:\tlearn: 0.0502159\ttotal: 1m 48s\tremaining: 26.8s\n",
      "802:\tlearn: 0.0502134\ttotal: 1m 48s\tremaining: 26.7s\n",
      "803:\tlearn: 0.0501334\ttotal: 1m 48s\tremaining: 26.5s\n",
      "804:\tlearn: 0.0501069\ttotal: 1m 48s\tremaining: 26.4s\n",
      "805:\tlearn: 0.0500219\ttotal: 1m 49s\tremaining: 26.3s\n",
      "806:\tlearn: 0.0499491\ttotal: 1m 49s\tremaining: 26.1s\n",
      "807:\tlearn: 0.0499089\ttotal: 1m 49s\tremaining: 26s\n",
      "808:\tlearn: 0.0498993\ttotal: 1m 49s\tremaining: 25.8s\n",
      "809:\tlearn: 0.0498828\ttotal: 1m 49s\tremaining: 25.7s\n",
      "810:\tlearn: 0.0498426\ttotal: 1m 49s\tremaining: 25.6s\n",
      "811:\tlearn: 0.0497889\ttotal: 1m 49s\tremaining: 25.4s\n",
      "812:\tlearn: 0.0497593\ttotal: 1m 49s\tremaining: 25.3s\n",
      "813:\tlearn: 0.0497212\ttotal: 1m 50s\tremaining: 25.1s\n",
      "814:\tlearn: 0.0496303\ttotal: 1m 50s\tremaining: 25s\n",
      "815:\tlearn: 0.0495835\ttotal: 1m 50s\tremaining: 24.9s\n",
      "816:\tlearn: 0.0495660\ttotal: 1m 50s\tremaining: 24.7s\n",
      "817:\tlearn: 0.0495124\ttotal: 1m 50s\tremaining: 24.6s\n",
      "818:\tlearn: 0.0494989\ttotal: 1m 50s\tremaining: 24.4s\n",
      "819:\tlearn: 0.0494837\ttotal: 1m 50s\tremaining: 24.3s\n",
      "820:\tlearn: 0.0494578\ttotal: 1m 50s\tremaining: 24.2s\n",
      "821:\tlearn: 0.0494499\ttotal: 1m 50s\tremaining: 24s\n",
      "822:\tlearn: 0.0494397\ttotal: 1m 51s\tremaining: 23.9s\n",
      "823:\tlearn: 0.0492782\ttotal: 1m 51s\tremaining: 23.7s\n",
      "824:\tlearn: 0.0492502\ttotal: 1m 51s\tremaining: 23.6s\n",
      "825:\tlearn: 0.0491497\ttotal: 1m 51s\tremaining: 23.5s\n",
      "826:\tlearn: 0.0491244\ttotal: 1m 51s\tremaining: 23.3s\n",
      "827:\tlearn: 0.0490119\ttotal: 1m 51s\tremaining: 23.2s\n",
      "828:\tlearn: 0.0490056\ttotal: 1m 51s\tremaining: 23s\n",
      "829:\tlearn: 0.0489795\ttotal: 1m 51s\tremaining: 22.9s\n",
      "830:\tlearn: 0.0489257\ttotal: 1m 51s\tremaining: 22.8s\n",
      "831:\tlearn: 0.0489201\ttotal: 1m 52s\tremaining: 22.6s\n",
      "832:\tlearn: 0.0488963\ttotal: 1m 52s\tremaining: 22.5s\n",
      "833:\tlearn: 0.0488782\ttotal: 1m 52s\tremaining: 22.4s\n",
      "834:\tlearn: 0.0488639\ttotal: 1m 52s\tremaining: 22.2s\n",
      "835:\tlearn: 0.0487978\ttotal: 1m 52s\tremaining: 22.1s\n",
      "836:\tlearn: 0.0487601\ttotal: 1m 52s\tremaining: 22s\n",
      "837:\tlearn: 0.0487073\ttotal: 1m 53s\tremaining: 21.8s\n",
      "838:\tlearn: 0.0486816\ttotal: 1m 53s\tremaining: 21.7s\n",
      "839:\tlearn: 0.0486714\ttotal: 1m 53s\tremaining: 21.6s\n",
      "840:\tlearn: 0.0485805\ttotal: 1m 53s\tremaining: 21.4s\n",
      "841:\tlearn: 0.0485673\ttotal: 1m 53s\tremaining: 21.3s\n",
      "842:\tlearn: 0.0485481\ttotal: 1m 53s\tremaining: 21.2s\n",
      "843:\tlearn: 0.0485349\ttotal: 1m 53s\tremaining: 21s\n",
      "844:\tlearn: 0.0484253\ttotal: 1m 53s\tremaining: 20.9s\n",
      "845:\tlearn: 0.0483715\ttotal: 1m 54s\tremaining: 20.8s\n",
      "846:\tlearn: 0.0483637\ttotal: 1m 54s\tremaining: 20.6s\n",
      "847:\tlearn: 0.0483474\ttotal: 1m 54s\tremaining: 20.5s\n",
      "848:\tlearn: 0.0483189\ttotal: 1m 54s\tremaining: 20.4s\n",
      "849:\tlearn: 0.0482535\ttotal: 1m 54s\tremaining: 20.2s\n",
      "850:\tlearn: 0.0482367\ttotal: 1m 54s\tremaining: 20.1s\n",
      "851:\tlearn: 0.0482303\ttotal: 1m 54s\tremaining: 19.9s\n",
      "852:\tlearn: 0.0482233\ttotal: 1m 54s\tremaining: 19.8s\n",
      "853:\tlearn: 0.0482114\ttotal: 1m 55s\tremaining: 19.7s\n",
      "854:\tlearn: 0.0482088\ttotal: 1m 55s\tremaining: 19.5s\n",
      "855:\tlearn: 0.0482025\ttotal: 1m 55s\tremaining: 19.4s\n",
      "856:\tlearn: 0.0481975\ttotal: 1m 55s\tremaining: 19.3s\n",
      "857:\tlearn: 0.0481891\ttotal: 1m 55s\tremaining: 19.1s\n",
      "858:\tlearn: 0.0481591\ttotal: 1m 55s\tremaining: 19s\n",
      "859:\tlearn: 0.0481422\ttotal: 1m 55s\tremaining: 18.8s\n",
      "860:\tlearn: 0.0481378\ttotal: 1m 55s\tremaining: 18.7s\n",
      "861:\tlearn: 0.0480201\ttotal: 1m 56s\tremaining: 18.6s\n",
      "862:\tlearn: 0.0479946\ttotal: 1m 56s\tremaining: 18.4s\n",
      "863:\tlearn: 0.0479709\ttotal: 1m 56s\tremaining: 18.3s\n",
      "864:\tlearn: 0.0478882\ttotal: 1m 56s\tremaining: 18.2s\n",
      "865:\tlearn: 0.0478512\ttotal: 1m 56s\tremaining: 18s\n",
      "866:\tlearn: 0.0478396\ttotal: 1m 56s\tremaining: 17.9s\n",
      "867:\tlearn: 0.0477999\ttotal: 1m 56s\tremaining: 17.8s\n",
      "868:\tlearn: 0.0477950\ttotal: 1m 56s\tremaining: 17.6s\n",
      "869:\tlearn: 0.0477710\ttotal: 1m 56s\tremaining: 17.5s\n",
      "870:\tlearn: 0.0477221\ttotal: 1m 57s\tremaining: 17.3s\n",
      "871:\tlearn: 0.0476927\ttotal: 1m 57s\tremaining: 17.2s\n",
      "872:\tlearn: 0.0476430\ttotal: 1m 57s\tremaining: 17.1s\n",
      "873:\tlearn: 0.0476252\ttotal: 1m 57s\tremaining: 16.9s\n",
      "874:\tlearn: 0.0476139\ttotal: 1m 57s\tremaining: 16.8s\n",
      "875:\tlearn: 0.0475970\ttotal: 1m 57s\tremaining: 16.7s\n",
      "876:\tlearn: 0.0475885\ttotal: 1m 57s\tremaining: 16.5s\n",
      "877:\tlearn: 0.0475836\ttotal: 1m 58s\tremaining: 16.4s\n",
      "878:\tlearn: 0.0475704\ttotal: 1m 58s\tremaining: 16.3s\n",
      "879:\tlearn: 0.0475443\ttotal: 1m 58s\tremaining: 16.1s\n",
      "880:\tlearn: 0.0474797\ttotal: 1m 58s\tremaining: 16s\n",
      "881:\tlearn: 0.0474760\ttotal: 1m 58s\tremaining: 15.9s\n",
      "882:\tlearn: 0.0474307\ttotal: 1m 58s\tremaining: 15.7s\n",
      "883:\tlearn: 0.0474188\ttotal: 1m 58s\tremaining: 15.6s\n",
      "884:\tlearn: 0.0474043\ttotal: 1m 59s\tremaining: 15.5s\n",
      "885:\tlearn: 0.0473912\ttotal: 1m 59s\tremaining: 15.3s\n",
      "886:\tlearn: 0.0473656\ttotal: 1m 59s\tremaining: 15.2s\n",
      "887:\tlearn: 0.0473619\ttotal: 1m 59s\tremaining: 15.1s\n",
      "888:\tlearn: 0.0472314\ttotal: 1m 59s\tremaining: 14.9s\n",
      "889:\tlearn: 0.0471380\ttotal: 1m 59s\tremaining: 14.8s\n",
      "890:\tlearn: 0.0471162\ttotal: 1m 59s\tremaining: 14.7s\n",
      "891:\tlearn: 0.0471138\ttotal: 2m\tremaining: 14.5s\n",
      "892:\tlearn: 0.0470993\ttotal: 2m\tremaining: 14.4s\n",
      "893:\tlearn: 0.0469902\ttotal: 2m\tremaining: 14.3s\n",
      "894:\tlearn: 0.0469839\ttotal: 2m\tremaining: 14.1s\n",
      "895:\tlearn: 0.0469622\ttotal: 2m\tremaining: 14s\n",
      "896:\tlearn: 0.0469570\ttotal: 2m\tremaining: 13.9s\n",
      "897:\tlearn: 0.0469414\ttotal: 2m 1s\tremaining: 13.7s\n",
      "898:\tlearn: 0.0469259\ttotal: 2m 1s\tremaining: 13.6s\n",
      "899:\tlearn: 0.0469026\ttotal: 2m 1s\tremaining: 13.5s\n",
      "900:\tlearn: 0.0469006\ttotal: 2m 1s\tremaining: 13.3s\n",
      "901:\tlearn: 0.0468925\ttotal: 2m 1s\tremaining: 13.2s\n",
      "902:\tlearn: 0.0468430\ttotal: 2m 1s\tremaining: 13.1s\n",
      "903:\tlearn: 0.0468382\ttotal: 2m 1s\tremaining: 12.9s\n",
      "904:\tlearn: 0.0467906\ttotal: 2m 2s\tremaining: 12.8s\n",
      "905:\tlearn: 0.0467764\ttotal: 2m 2s\tremaining: 12.7s\n",
      "906:\tlearn: 0.0466967\ttotal: 2m 2s\tremaining: 12.5s\n",
      "907:\tlearn: 0.0466574\ttotal: 2m 2s\tremaining: 12.4s\n",
      "908:\tlearn: 0.0466416\ttotal: 2m 2s\tremaining: 12.3s\n",
      "909:\tlearn: 0.0465184\ttotal: 2m 2s\tremaining: 12.1s\n",
      "910:\tlearn: 0.0463972\ttotal: 2m 2s\tremaining: 12s\n",
      "911:\tlearn: 0.0463908\ttotal: 2m 2s\tremaining: 11.9s\n",
      "912:\tlearn: 0.0463212\ttotal: 2m 3s\tremaining: 11.7s\n",
      "913:\tlearn: 0.0463107\ttotal: 2m 3s\tremaining: 11.6s\n",
      "914:\tlearn: 0.0462231\ttotal: 2m 3s\tremaining: 11.5s\n",
      "915:\tlearn: 0.0462189\ttotal: 2m 3s\tremaining: 11.3s\n",
      "916:\tlearn: 0.0461923\ttotal: 2m 3s\tremaining: 11.2s\n",
      "917:\tlearn: 0.0461844\ttotal: 2m 3s\tremaining: 11s\n",
      "918:\tlearn: 0.0461716\ttotal: 2m 3s\tremaining: 10.9s\n",
      "919:\tlearn: 0.0460900\ttotal: 2m 3s\tremaining: 10.8s\n",
      "920:\tlearn: 0.0460520\ttotal: 2m 4s\tremaining: 10.6s\n",
      "921:\tlearn: 0.0460486\ttotal: 2m 4s\tremaining: 10.5s\n",
      "922:\tlearn: 0.0460259\ttotal: 2m 4s\tremaining: 10.4s\n",
      "923:\tlearn: 0.0459537\ttotal: 2m 4s\tremaining: 10.2s\n",
      "924:\tlearn: 0.0459345\ttotal: 2m 4s\tremaining: 10.1s\n",
      "925:\tlearn: 0.0459304\ttotal: 2m 4s\tremaining: 9.96s\n",
      "926:\tlearn: 0.0459126\ttotal: 2m 4s\tremaining: 9.83s\n",
      "927:\tlearn: 0.0459057\ttotal: 2m 4s\tremaining: 9.69s\n",
      "928:\tlearn: 0.0458934\ttotal: 2m 5s\tremaining: 9.56s\n",
      "929:\tlearn: 0.0458740\ttotal: 2m 5s\tremaining: 9.42s\n",
      "930:\tlearn: 0.0458724\ttotal: 2m 5s\tremaining: 9.29s\n",
      "931:\tlearn: 0.0458368\ttotal: 2m 5s\tremaining: 9.15s\n",
      "932:\tlearn: 0.0458272\ttotal: 2m 5s\tremaining: 9.02s\n",
      "933:\tlearn: 0.0458098\ttotal: 2m 5s\tremaining: 8.89s\n",
      "934:\tlearn: 0.0457983\ttotal: 2m 5s\tremaining: 8.75s\n",
      "935:\tlearn: 0.0457819\ttotal: 2m 6s\tremaining: 8.62s\n",
      "936:\tlearn: 0.0457596\ttotal: 2m 6s\tremaining: 8.48s\n",
      "937:\tlearn: 0.0457411\ttotal: 2m 6s\tremaining: 8.36s\n",
      "938:\tlearn: 0.0456482\ttotal: 2m 6s\tremaining: 8.22s\n",
      "939:\tlearn: 0.0456452\ttotal: 2m 6s\tremaining: 8.09s\n",
      "940:\tlearn: 0.0455869\ttotal: 2m 6s\tremaining: 7.95s\n"
     ]
    },
    {
     "name": "stdout",
     "output_type": "stream",
     "text": [
      "941:\tlearn: 0.0455528\ttotal: 2m 6s\tremaining: 7.82s\n",
      "942:\tlearn: 0.0454624\ttotal: 2m 7s\tremaining: 7.68s\n",
      "943:\tlearn: 0.0454605\ttotal: 2m 7s\tremaining: 7.55s\n",
      "944:\tlearn: 0.0454318\ttotal: 2m 7s\tremaining: 7.41s\n",
      "945:\tlearn: 0.0454262\ttotal: 2m 7s\tremaining: 7.28s\n",
      "946:\tlearn: 0.0454121\ttotal: 2m 7s\tremaining: 7.14s\n",
      "947:\tlearn: 0.0453809\ttotal: 2m 7s\tremaining: 7.01s\n",
      "948:\tlearn: 0.0453707\ttotal: 2m 7s\tremaining: 6.87s\n",
      "949:\tlearn: 0.0453520\ttotal: 2m 8s\tremaining: 6.74s\n",
      "950:\tlearn: 0.0453117\ttotal: 2m 8s\tremaining: 6.61s\n",
      "951:\tlearn: 0.0453032\ttotal: 2m 8s\tremaining: 6.47s\n",
      "952:\tlearn: 0.0452944\ttotal: 2m 8s\tremaining: 6.34s\n",
      "953:\tlearn: 0.0452909\ttotal: 2m 8s\tremaining: 6.21s\n",
      "954:\tlearn: 0.0452683\ttotal: 2m 8s\tremaining: 6.07s\n",
      "955:\tlearn: 0.0452637\ttotal: 2m 9s\tremaining: 5.94s\n",
      "956:\tlearn: 0.0452281\ttotal: 2m 9s\tremaining: 5.8s\n",
      "957:\tlearn: 0.0451695\ttotal: 2m 9s\tremaining: 5.67s\n",
      "958:\tlearn: 0.0451572\ttotal: 2m 9s\tremaining: 5.54s\n",
      "959:\tlearn: 0.0451142\ttotal: 2m 9s\tremaining: 5.4s\n",
      "960:\tlearn: 0.0450838\ttotal: 2m 9s\tremaining: 5.27s\n",
      "961:\tlearn: 0.0450465\ttotal: 2m 10s\tremaining: 5.14s\n",
      "962:\tlearn: 0.0449820\ttotal: 2m 10s\tremaining: 5s\n",
      "963:\tlearn: 0.0449710\ttotal: 2m 10s\tremaining: 4.87s\n",
      "964:\tlearn: 0.0449693\ttotal: 2m 10s\tremaining: 4.73s\n",
      "965:\tlearn: 0.0449442\ttotal: 2m 10s\tremaining: 4.6s\n",
      "966:\tlearn: 0.0449349\ttotal: 2m 10s\tremaining: 4.46s\n",
      "967:\tlearn: 0.0448669\ttotal: 2m 10s\tremaining: 4.33s\n",
      "968:\tlearn: 0.0447369\ttotal: 2m 11s\tremaining: 4.19s\n",
      "969:\tlearn: 0.0447346\ttotal: 2m 11s\tremaining: 4.05s\n",
      "970:\tlearn: 0.0447321\ttotal: 2m 11s\tremaining: 3.92s\n",
      "971:\tlearn: 0.0447116\ttotal: 2m 11s\tremaining: 3.79s\n",
      "972:\tlearn: 0.0446726\ttotal: 2m 11s\tremaining: 3.65s\n",
      "973:\tlearn: 0.0446688\ttotal: 2m 11s\tremaining: 3.51s\n",
      "974:\tlearn: 0.0446562\ttotal: 2m 11s\tremaining: 3.38s\n",
      "975:\tlearn: 0.0446109\ttotal: 2m 11s\tremaining: 3.24s\n",
      "976:\tlearn: 0.0445534\ttotal: 2m 11s\tremaining: 3.11s\n",
      "977:\tlearn: 0.0445105\ttotal: 2m 12s\tremaining: 2.97s\n",
      "978:\tlearn: 0.0444508\ttotal: 2m 12s\tremaining: 2.84s\n",
      "979:\tlearn: 0.0444302\ttotal: 2m 12s\tremaining: 2.7s\n",
      "980:\tlearn: 0.0444290\ttotal: 2m 12s\tremaining: 2.56s\n",
      "981:\tlearn: 0.0443994\ttotal: 2m 12s\tremaining: 2.43s\n",
      "982:\tlearn: 0.0443904\ttotal: 2m 12s\tremaining: 2.29s\n",
      "983:\tlearn: 0.0443553\ttotal: 2m 12s\tremaining: 2.16s\n",
      "984:\tlearn: 0.0443427\ttotal: 2m 12s\tremaining: 2.02s\n",
      "985:\tlearn: 0.0443113\ttotal: 2m 13s\tremaining: 1.89s\n",
      "986:\tlearn: 0.0442953\ttotal: 2m 13s\tremaining: 1.75s\n",
      "987:\tlearn: 0.0442936\ttotal: 2m 13s\tremaining: 1.62s\n",
      "988:\tlearn: 0.0441944\ttotal: 2m 13s\tremaining: 1.48s\n",
      "989:\tlearn: 0.0441136\ttotal: 2m 13s\tremaining: 1.35s\n",
      "990:\tlearn: 0.0441089\ttotal: 2m 13s\tremaining: 1.21s\n",
      "991:\tlearn: 0.0440975\ttotal: 2m 13s\tremaining: 1.08s\n",
      "992:\tlearn: 0.0440934\ttotal: 2m 13s\tremaining: 944ms\n",
      "993:\tlearn: 0.0440917\ttotal: 2m 13s\tremaining: 809ms\n",
      "994:\tlearn: 0.0440391\ttotal: 2m 14s\tremaining: 674ms\n",
      "995:\tlearn: 0.0440091\ttotal: 2m 14s\tremaining: 539ms\n",
      "996:\tlearn: 0.0440024\ttotal: 2m 14s\tremaining: 404ms\n",
      "997:\tlearn: 0.0439915\ttotal: 2m 14s\tremaining: 269ms\n",
      "998:\tlearn: 0.0439400\ttotal: 2m 14s\tremaining: 135ms\n",
      "999:\tlearn: 0.0438925\ttotal: 2m 14s\tremaining: 0us\n"
     ]
    },
    {
     "data": {
      "text/plain": [
       "<catboost.core.CatBoostClassifier at 0x20568f5f4e0>"
      ]
     },
     "execution_count": 65,
     "metadata": {},
     "output_type": "execute_result"
    }
   ],
   "source": [
    "model_cat.fit(X_train, y_train)"
   ]
  },
  {
   "cell_type": "code",
   "execution_count": 66,
   "metadata": {
    "colab": {},
    "colab_type": "code",
    "id": "PO-Lgg1UCfrD"
   },
   "outputs": [],
   "source": [
    "y_predicted_cat = model_cat.predict_proba(X_test)"
   ]
  },
  {
   "cell_type": "code",
   "execution_count": 67,
   "metadata": {
    "colab": {},
    "colab_type": "code",
    "id": "cuieQuKuCfrG",
    "outputId": "9c2be831-e129-4b2b-8a7d-ef8f3dbeeaab"
   },
   "outputs": [
    {
     "name": "stdout",
     "output_type": "stream",
     "text": [
      "El valor del AUC es:  0.944439716126329\n"
     ]
    }
   ],
   "source": [
    "cat_auc = roc_auc_score(y_test,y_predicted_cat[:,1])\n",
    "print(\"El valor del AUC es: \", cat_auc)"
   ]
  },
  {
   "cell_type": "markdown",
   "metadata": {
    "colab_type": "text",
    "id": "BtYEwKqGmfTE"
   },
   "source": [
    "La lista de hiperparámetros se puede consultar <a = \"https://tech.yandex.com/catboost/doc/dg/concepts/python-reference_parameters-list-docpage/\"> aquí </a>"
   ]
  },
  {
   "cell_type": "markdown",
   "metadata": {
    "colab_type": "text",
    "id": "V7mAF0tJCfrL"
   },
   "source": [
    "## Conclusiones"
   ]
  },
  {
   "cell_type": "code",
   "execution_count": 68,
   "metadata": {
    "colab": {},
    "colab_type": "code",
    "id": "U6bMCNvHCfrL",
    "outputId": "76baa7f1-ead7-4382-f179-fbe50a99e49c"
   },
   "outputs": [
    {
     "name": "stdout",
     "output_type": "stream",
     "text": [
      "Los resultados finales fueron:\n",
      " - AUC de knn: 0.6136149374116169  \n",
      " - AUC de RF: 0.7861749070339914  \n",
      " - AUC de XGBoost: 0.9201081548211386 \n",
      " - AUC de LightGBM: 0.921368433457288 \n",
      " - AUC de CatBoost: 0.944439716126329\n"
     ]
    }
   ],
   "source": [
    "print(\"Los resultados finales fueron:\\n - AUC de knn:\", knn_auc,\" \\n - AUC de RF:\", rf_auc, \" \\n - AUC de XGBoost:\", xgb_auc,\n",
    "     \"\\n - AUC de LightGBM:\", lgbm_auc, \"\\n - AUC de CatBoost:\", cat_auc)"
   ]
  },
  {
   "cell_type": "markdown",
   "metadata": {
    "colab_type": "text",
    "id": "TeNhSanSCfrR"
   },
   "source": [
    "Otros resultados finales fueron:\n",
    " - AUC de knn: 0.611448533827  \n",
    " - AUC de RF: 0.861997410428  \n",
    " - AUC de XGBoost: 0.917590322258 \n",
    " - AUC de LightGBM: 0.926237865292 \n",
    " - AUC de CatBoost: 0.929962720176\n"
   ]
  },
  {
   "cell_type": "markdown",
   "metadata": {
    "colab_type": "text",
    "id": "bfjIvVr_CfrR"
   },
   "source": [
    "Otros resultados finales fueron:\n",
    " - AUC de knn: 0.637398382501  \n",
    " - AUC de RF: 0.860488951279  \n",
    " - AUC de XGBoost: 0.923338152308 \n",
    " - AUC de LightGBM: 0.941349941334 \n",
    " - AUC de CatBoost: 0.945510671583\n"
   ]
  },
  {
   "cell_type": "code",
   "execution_count": null,
   "metadata": {
    "colab": {},
    "colab_type": "code",
    "id": "fkfek4PQDz4d"
   },
   "outputs": [],
   "source": []
  }
 ],
 "metadata": {
  "colab": {
   "collapsed_sections": [],
   "name": "1.PRACTICA_GUIADA_XGBoost_LightGBM.ipynb",
   "provenance": [],
   "version": "0.3.2"
  },
  "kernelspec": {
   "display_name": "Python 3",
   "language": "python",
   "name": "python3"
  },
  "language_info": {
   "codemirror_mode": {
    "name": "ipython",
    "version": 3
   },
   "file_extension": ".py",
   "mimetype": "text/x-python",
   "name": "python",
   "nbconvert_exporter": "python",
   "pygments_lexer": "ipython3",
   "version": "3.6.7"
  }
 },
 "nbformat": 4,
 "nbformat_minor": 1
}
