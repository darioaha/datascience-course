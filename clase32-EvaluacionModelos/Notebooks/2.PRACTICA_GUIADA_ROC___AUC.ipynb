{
 "cells": [
  {
   "cell_type": "markdown",
   "metadata": {
    "colab_type": "text",
    "id": "RQDnImShn5U9"
   },
   "source": [
    "# PRÁCTICA GUIADA : Curva ROC y Area bajo la curva\n",
    "\n",
    "## 1. Introducción\n",
    "\n",
    "Seguimos trabajando sobre el dataset de RRHH. La variable dependiente es la misma ($P(left=1|X)$)"
   ]
  },
  {
   "cell_type": "code",
   "execution_count": 1,
   "metadata": {
    "colab": {},
    "colab_type": "code",
    "id": "IQfQM07Nn5U-"
   },
   "outputs": [],
   "source": [
    "from sklearn import preprocessing\n",
    "from sklearn.metrics import confusion_matrix, precision_score, recall_score, roc_curve, auc, accuracy_score\n",
    "from sklearn.model_selection import train_test_split\n",
    "from sklearn.datasets import make_classification\n",
    "from sklearn.linear_model import LogisticRegression\n",
    "import matplotlib.pyplot as plt\n",
    "import pandas as pd\n",
    "import numpy as np"
   ]
  },
  {
   "cell_type": "code",
   "execution_count": 2,
   "metadata": {
    "colab": {},
    "colab_type": "code",
    "id": "-aGzzVGUn5VE"
   },
   "outputs": [
    {
     "data": {
      "text/html": [
       "<div>\n",
       "<style scoped>\n",
       "    .dataframe tbody tr th:only-of-type {\n",
       "        vertical-align: middle;\n",
       "    }\n",
       "\n",
       "    .dataframe tbody tr th {\n",
       "        vertical-align: top;\n",
       "    }\n",
       "\n",
       "    .dataframe thead th {\n",
       "        text-align: right;\n",
       "    }\n",
       "</style>\n",
       "<table border=\"1\" class=\"dataframe\">\n",
       "  <thead>\n",
       "    <tr style=\"text-align: right;\">\n",
       "      <th></th>\n",
       "      <th>satisfaction_level</th>\n",
       "      <th>last_evaluation</th>\n",
       "      <th>number_project</th>\n",
       "      <th>average_montly_hours</th>\n",
       "      <th>time_spend_company</th>\n",
       "      <th>Work_accident</th>\n",
       "      <th>left</th>\n",
       "      <th>promotion_last_5years</th>\n",
       "      <th>sales</th>\n",
       "      <th>salary</th>\n",
       "    </tr>\n",
       "  </thead>\n",
       "  <tbody>\n",
       "    <tr>\n",
       "      <th>8509</th>\n",
       "      <td>0.60</td>\n",
       "      <td>0.98</td>\n",
       "      <td>4</td>\n",
       "      <td>192</td>\n",
       "      <td>3</td>\n",
       "      <td>0</td>\n",
       "      <td>0</td>\n",
       "      <td>0</td>\n",
       "      <td>technical</td>\n",
       "      <td>low</td>\n",
       "    </tr>\n",
       "    <tr>\n",
       "      <th>11100</th>\n",
       "      <td>0.96</td>\n",
       "      <td>0.85</td>\n",
       "      <td>4</td>\n",
       "      <td>247</td>\n",
       "      <td>3</td>\n",
       "      <td>0</td>\n",
       "      <td>0</td>\n",
       "      <td>0</td>\n",
       "      <td>sales</td>\n",
       "      <td>high</td>\n",
       "    </tr>\n",
       "    <tr>\n",
       "      <th>6038</th>\n",
       "      <td>0.53</td>\n",
       "      <td>0.62</td>\n",
       "      <td>3</td>\n",
       "      <td>185</td>\n",
       "      <td>3</td>\n",
       "      <td>0</td>\n",
       "      <td>0</td>\n",
       "      <td>0</td>\n",
       "      <td>marketing</td>\n",
       "      <td>medium</td>\n",
       "    </tr>\n",
       "    <tr>\n",
       "      <th>13886</th>\n",
       "      <td>0.17</td>\n",
       "      <td>0.61</td>\n",
       "      <td>6</td>\n",
       "      <td>154</td>\n",
       "      <td>10</td>\n",
       "      <td>1</td>\n",
       "      <td>0</td>\n",
       "      <td>0</td>\n",
       "      <td>sales</td>\n",
       "      <td>medium</td>\n",
       "    </tr>\n",
       "    <tr>\n",
       "      <th>8234</th>\n",
       "      <td>0.94</td>\n",
       "      <td>0.80</td>\n",
       "      <td>5</td>\n",
       "      <td>245</td>\n",
       "      <td>3</td>\n",
       "      <td>1</td>\n",
       "      <td>0</td>\n",
       "      <td>0</td>\n",
       "      <td>product_mng</td>\n",
       "      <td>medium</td>\n",
       "    </tr>\n",
       "    <tr>\n",
       "      <th>10639</th>\n",
       "      <td>0.75</td>\n",
       "      <td>0.83</td>\n",
       "      <td>4</td>\n",
       "      <td>133</td>\n",
       "      <td>4</td>\n",
       "      <td>0</td>\n",
       "      <td>0</td>\n",
       "      <td>0</td>\n",
       "      <td>hr</td>\n",
       "      <td>high</td>\n",
       "    </tr>\n",
       "    <tr>\n",
       "      <th>3721</th>\n",
       "      <td>0.91</td>\n",
       "      <td>0.65</td>\n",
       "      <td>5</td>\n",
       "      <td>174</td>\n",
       "      <td>2</td>\n",
       "      <td>0</td>\n",
       "      <td>0</td>\n",
       "      <td>0</td>\n",
       "      <td>technical</td>\n",
       "      <td>medium</td>\n",
       "    </tr>\n",
       "    <tr>\n",
       "      <th>42</th>\n",
       "      <td>0.40</td>\n",
       "      <td>0.46</td>\n",
       "      <td>2</td>\n",
       "      <td>127</td>\n",
       "      <td>3</td>\n",
       "      <td>0</td>\n",
       "      <td>1</td>\n",
       "      <td>0</td>\n",
       "      <td>technical</td>\n",
       "      <td>low</td>\n",
       "    </tr>\n",
       "    <tr>\n",
       "      <th>9210</th>\n",
       "      <td>0.91</td>\n",
       "      <td>0.88</td>\n",
       "      <td>5</td>\n",
       "      <td>223</td>\n",
       "      <td>3</td>\n",
       "      <td>0</td>\n",
       "      <td>0</td>\n",
       "      <td>0</td>\n",
       "      <td>support</td>\n",
       "      <td>low</td>\n",
       "    </tr>\n",
       "    <tr>\n",
       "      <th>14970</th>\n",
       "      <td>0.78</td>\n",
       "      <td>0.93</td>\n",
       "      <td>4</td>\n",
       "      <td>225</td>\n",
       "      <td>5</td>\n",
       "      <td>0</td>\n",
       "      <td>1</td>\n",
       "      <td>0</td>\n",
       "      <td>sales</td>\n",
       "      <td>medium</td>\n",
       "    </tr>\n",
       "  </tbody>\n",
       "</table>\n",
       "</div>"
      ],
      "text/plain": [
       "       satisfaction_level  last_evaluation  number_project  \\\n",
       "8509                 0.60             0.98               4   \n",
       "11100                0.96             0.85               4   \n",
       "6038                 0.53             0.62               3   \n",
       "13886                0.17             0.61               6   \n",
       "8234                 0.94             0.80               5   \n",
       "10639                0.75             0.83               4   \n",
       "3721                 0.91             0.65               5   \n",
       "42                   0.40             0.46               2   \n",
       "9210                 0.91             0.88               5   \n",
       "14970                0.78             0.93               4   \n",
       "\n",
       "       average_montly_hours  time_spend_company  Work_accident  left  \\\n",
       "8509                    192                   3              0     0   \n",
       "11100                   247                   3              0     0   \n",
       "6038                    185                   3              0     0   \n",
       "13886                   154                  10              1     0   \n",
       "8234                    245                   3              1     0   \n",
       "10639                   133                   4              0     0   \n",
       "3721                    174                   2              0     0   \n",
       "42                      127                   3              0     1   \n",
       "9210                    223                   3              0     0   \n",
       "14970                   225                   5              0     1   \n",
       "\n",
       "       promotion_last_5years        sales  salary  \n",
       "8509                       0    technical     low  \n",
       "11100                      0        sales    high  \n",
       "6038                       0    marketing  medium  \n",
       "13886                      0        sales  medium  \n",
       "8234                       0  product_mng  medium  \n",
       "10639                      0           hr    high  \n",
       "3721                       0    technical  medium  \n",
       "42                         0    technical     low  \n",
       "9210                       0      support     low  \n",
       "14970                      0        sales  medium  "
      ]
     },
     "execution_count": 2,
     "metadata": {},
     "output_type": "execute_result"
    }
   ],
   "source": [
    "df = pd.read_csv('../Data/HR_comma_sep.csv')\n",
    "df.sample(10)"
   ]
  },
  {
   "cell_type": "code",
   "execution_count": 3,
   "metadata": {
    "colab": {},
    "colab_type": "code",
    "id": "2lD2va4un5VI"
   },
   "outputs": [],
   "source": [
    "train_cols = ['satisfaction_level', 'last_evaluation', 'number_project', 'average_montly_hours', \n",
    "              'time_spend_company', 'Work_accident', 'promotion_last_5years']\n",
    "X = df[train_cols]\n",
    "y = df['left']"
   ]
  },
  {
   "cell_type": "code",
   "execution_count": 4,
   "metadata": {
    "colab": {},
    "colab_type": "code",
    "id": "Ve5GnDXCn5VN"
   },
   "outputs": [],
   "source": [
    "X_train, X_test, y_train, y_test = train_test_split(X, y, test_size=0.33, random_state=42)"
   ]
  },
  {
   "cell_type": "code",
   "execution_count": 5,
   "metadata": {
    "colab": {},
    "colab_type": "code",
    "id": "jsTS0g6QoMqg"
   },
   "outputs": [],
   "source": [
    "# Utilizamos sklearn para estandarizar la matriz de Features\n",
    "from sklearn.preprocessing import StandardScaler\n",
    "scaler = StandardScaler()\n",
    "X_train = scaler.fit_transform(X_train)"
   ]
  },
  {
   "cell_type": "markdown",
   "metadata": {
    "colab_type": "text",
    "id": "h0_8-Ib1n5VU"
   },
   "source": [
    "* Definimos y entrenamos el modelo (Regresión Logística)"
   ]
  },
  {
   "cell_type": "code",
   "execution_count": 6,
   "metadata": {
    "colab": {},
    "colab_type": "code",
    "id": "jYR6vPVEn5VV"
   },
   "outputs": [
    {
     "data": {
      "text/plain": [
       "LogisticRegression(C=10000000000.0, class_weight=None, dual=False,\n",
       "          fit_intercept=True, intercept_scaling=1, max_iter=100,\n",
       "          multi_class='ovr', n_jobs=1, penalty='l2', random_state=None,\n",
       "          solver='liblinear', tol=0.0001, verbose=0, warm_start=False)"
      ]
     },
     "execution_count": 6,
     "metadata": {},
     "output_type": "execute_result"
    }
   ],
   "source": [
    "clf = LogisticRegression(C=1e10)\n",
    "clf.fit(X_train, y_train)"
   ]
  },
  {
   "cell_type": "markdown",
   "metadata": {
    "colab_type": "text",
    "id": "1P5ZrFsSn5Vb"
   },
   "source": [
    "## 2. Ajustando los umbrales\n",
    "\n",
    "Hasta ahora siempre hemos trabajado asumiendo que si $p(y=1) > 0.5$, entonces, la predicción del modelo será que $y=1$. Ahora bien, ¿qué sucede si queremos maximizar o modificar la performance del modelo en alguna de las métricas que hemos visto antes (sentivity, recall, etc.)? ¿Cómo podemos lograr esto?\n",
    "\n",
    "Una forma es haciendo variar esa regla que habíamos definido más arriba: ajustar los umbrales.\n",
    "\n",
    "Veamos cómo funciona. En primer lugar, obtengamos las predicciones de probabilidad ($p(y=1)$) y no las predicciones de la clase de $y$."
   ]
  },
  {
   "cell_type": "code",
   "execution_count": 7,
   "metadata": {
    "colab": {},
    "colab_type": "code",
    "id": "qBHvwRfsoUNn"
   },
   "outputs": [],
   "source": [
    "X_test = scaler.transform(X_test)"
   ]
  },
  {
   "cell_type": "code",
   "execution_count": 8,
   "metadata": {
    "colab": {},
    "colab_type": "code",
    "id": "qMOR76fSn5Vc"
   },
   "outputs": [
    {
     "data": {
      "text/plain": [
       "array([0, 0, 0, ..., 0, 0, 1])"
      ]
     },
     "execution_count": 8,
     "metadata": {},
     "output_type": "execute_result"
    }
   ],
   "source": [
    "clf.predict(X_test)"
   ]
  },
  {
   "cell_type": "code",
   "execution_count": 9,
   "metadata": {
    "colab": {},
    "colab_type": "code",
    "id": "kRv16iGnn5Vg"
   },
   "outputs": [
    {
     "data": {
      "text/plain": [
       "array([[0.96331336, 0.03668664],\n",
       "       [0.93112383, 0.06887617],\n",
       "       [0.8126686 , 0.1873314 ],\n",
       "       ...,\n",
       "       [0.93393643, 0.06606357],\n",
       "       [0.7897889 , 0.2102111 ],\n",
       "       [0.28266285, 0.71733715]])"
      ]
     },
     "execution_count": 9,
     "metadata": {},
     "output_type": "execute_result"
    }
   ],
   "source": [
    "clf.predict_proba(X_test)"
   ]
  },
  {
   "cell_type": "markdown",
   "metadata": {
    "colab_type": "text",
    "id": "QjJIIdpOn5Vn"
   },
   "source": [
    "Notar que el método `predict_proba` nos devuelve una array en el cual aparecen dos probabilidades de cada instancia del test set: $p(y=0)$ y $p(y=1)$, en ese orden.\n",
    "\n",
    "`sklearn` realiza la predicción de la clase de $y$ eligiendo para cada clase la mayor probabilidad de este array."
   ]
  },
  {
   "cell_type": "code",
   "execution_count": 10,
   "metadata": {
    "colab": {},
    "colab_type": "code",
    "id": "M_9Key5tn5Vo"
   },
   "outputs": [
    {
     "name": "stdout",
     "output_type": "stream",
     "text": [
      "0.11878787878787879\n",
      "0.11878787878787879\n"
     ]
    }
   ],
   "source": [
    "print(np.mean(clf.predict_proba(X_test)[:,1] > 0.5))\n",
    "print(np.mean(clf.predict(X_test)))\n",
    "\n",
    "y_pred_orig = clf.predict(X_test)"
   ]
  },
  {
   "cell_type": "markdown",
   "metadata": {
    "colab_type": "text",
    "id": "ENQd3XASn5Vt"
   },
   "source": [
    "Guardemos las probabilidades de ambas clases en un array y $p(y=1)$ en otro:"
   ]
  },
  {
   "cell_type": "code",
   "execution_count": 11,
   "metadata": {
    "colab": {},
    "colab_type": "code",
    "id": "1oNYT0LKn5Vw"
   },
   "outputs": [],
   "source": [
    "y_probs_logit = clf.predict_proba(X_test)\n",
    "y_probs_logit_left = y_probs_logit[:,1]"
   ]
  },
  {
   "cell_type": "code",
   "execution_count": 12,
   "metadata": {},
   "outputs": [
    {
     "data": {
      "text/plain": [
       "array([0.03668664, 0.06887617, 0.1873314 , ..., 0.06606357, 0.2102111 ,\n",
       "       0.71733715])"
      ]
     },
     "execution_count": 12,
     "metadata": {},
     "output_type": "execute_result"
    }
   ],
   "source": [
    "y_probs_logit_left"
   ]
  },
  {
   "cell_type": "code",
   "execution_count": 13,
   "metadata": {
    "colab": {},
    "colab_type": "code",
    "id": "PPJ_ar_5n5V-"
   },
   "outputs": [
    {
     "data": {
      "image/png": "[encoded data removed]",
      "text/plain": [
       "<Figure size 432x288 with 1 Axes>"
      ]
     },
     "metadata": {},
     "output_type": "display_data"
    }
   ],
   "source": [
    "# 15 bins\n",
    "plt.hist(y_probs_logit_left, bins=15)\n",
    "\n",
    "# x-axis de 0 a 1\n",
    "plt.xlim(0,1)\n",
    "plt.title('Histograma de probabilidades estimadas')\n",
    "plt.xlabel('Probabilidad estimada de dejar la empresa')\n",
    "plt.ylabel('Frecuencia')\n",
    "plt.show()"
   ]
  },
  {
   "cell_type": "markdown",
   "metadata": {
    "colab_type": "text",
    "id": "jHyyhy82n5WH"
   },
   "source": [
    "* La gran mayoría de las probabilidades predichas van de 0.0 a 0.4\n",
    "* Hay un escaso número de probabilidades estimadas mayores a 0.5\n",
    "* La mayor parte de los casos van a ser predichos como $y=0$ es decir, que no se van de la empresa.\n",
    "\n",
    "Una posible solución es, entonces, variar el umbral -$y = 1$ si $p(y=1) > 0.5$-. \n",
    "\n",
    "En este caso, lo lógico sería bajar el umbral. Por lo tanto se incrementará la sensitivity. ¿Por qué?\n",
    "\n",
    "* Aumentaremos la cantidad de TP\n",
    "* El clasificador será más \"sensible\" a las instancias positivas"
   ]
  },
  {
   "cell_type": "code",
   "execution_count": 30,
   "metadata": {
    "colab": {},
    "colab_type": "code",
    "id": "xebrpnVkn5WI"
   },
   "outputs": [],
   "source": [
    "from sklearn.preprocessing import binarize\n",
    "y_pred_logit = binarize(y_probs_logit, 0.3)[:,1]\n",
    "\n",
    "# Otra forma\n",
    "#y_pred_logit = (y_probs_logit_left > 0.3)"
   ]
  },
  {
   "cell_type": "markdown",
   "metadata": {
    "colab_type": "text",
    "id": "3Px5LTvYn5WO"
   },
   "source": [
    "* Veamos la matriz de confusión con las predicciones basadas en el modelo original"
   ]
  },
  {
   "cell_type": "code",
   "execution_count": 32,
   "metadata": {
    "colab": {},
    "colab_type": "code",
    "id": "GK_nFN0jn5WP"
   },
   "outputs": [
    {
     "data": {
      "text/plain": [
       "array([[3464,  305],\n",
       "       [ 898,  283]])"
      ]
     },
     "execution_count": 32,
     "metadata": {},
     "output_type": "execute_result"
    }
   ],
   "source": [
    "confusion_matrix(y_test,y_pred_orig)"
   ]
  },
  {
   "cell_type": "markdown",
   "metadata": {
    "colab_type": "text",
    "id": "SNWN9dVSn5WW"
   },
   "source": [
    "* Veamos la matriz de confusión con las predicciones basadas en el modelo modificado"
   ]
  },
  {
   "cell_type": "code",
   "execution_count": 33,
   "metadata": {
    "colab": {},
    "colab_type": "code",
    "id": "N8X9qS8xn5WX"
   },
   "outputs": [
    {
     "data": {
      "text/plain": [
       "array([[3046,  723],\n",
       "       [ 358,  823]])"
      ]
     },
     "execution_count": 33,
     "metadata": {},
     "output_type": "execute_result"
    }
   ],
   "source": [
    "confusion_matrix(y_test,y_pred_logit)"
   ]
  },
  {
   "cell_type": "markdown",
   "metadata": {
    "colab_type": "text",
    "id": "XFmHOgDXn5Wc"
   },
   "source": [
    "* ¿Qué pasó con la sensitividad (o recall)? \n",
    "\n",
    "$\\large recall = \\frac{TP}{(FN + TP)}$"
   ]
  },
  {
   "cell_type": "code",
   "execution_count": 17,
   "metadata": {
    "colab": {},
    "colab_type": "code",
    "id": "KbtzAqS9n5We"
   },
   "outputs": [
    {
     "name": "stdout",
     "output_type": "stream",
     "text": [
      "Recall umbral 0.5= 0.23962743437764605\n",
      "Recall umbral 0.3= 0.6968670618120237\n"
     ]
    }
   ],
   "source": [
    "print('Recall umbral 0.5=', recall_score(y_test, y_pred_orig))\n",
    "print('Recall umbral 0.3=', recall_score(y_test, y_pred_logit))"
   ]
  },
  {
   "cell_type": "markdown",
   "metadata": {
    "colab_type": "text",
    "id": "fB25-JHSn5Wl"
   },
   "source": [
    "* ¿Qué pasó con la specificity? \n",
    "\n",
    "$\\large specificity = \\frac{TN}{(TN + FP)}$"
   ]
  },
  {
   "cell_type": "code",
   "execution_count": 18,
   "metadata": {
    "colab": {},
    "colab_type": "code",
    "id": "zu7SeYOSn5Wm"
   },
   "outputs": [],
   "source": [
    "def specificy(y_true, y_pred):\n",
    "    tn, fp, fn, tp = confusion_matrix(y_true, y_pred).ravel()\n",
    "    specificity = tn / (tn+fp)\n",
    "    return(specificity)"
   ]
  },
  {
   "cell_type": "code",
   "execution_count": 19,
   "metadata": {
    "colab": {},
    "colab_type": "code",
    "id": "pwQAsgVyn5Wq"
   },
   "outputs": [
    {
     "name": "stdout",
     "output_type": "stream",
     "text": [
      "Spec umbral 0.5 = 0.9190766781639692\n",
      "Spec umbral 0.3 = 0.8081719288936058\n"
     ]
    }
   ],
   "source": [
    "print('Spec umbral 0.5 =', specificy(y_test, y_pred_orig))\n",
    "print('Spec umbral 0.3 =', specificy(y_test, y_pred_logit))"
   ]
  },
  {
   "cell_type": "code",
   "execution_count": 20,
   "metadata": {
    "colab": {},
    "colab_type": "code",
    "id": "A9VAqqvwn5Ws"
   },
   "outputs": [
    {
     "name": "stdout",
     "output_type": "stream",
     "text": [
      "Acc umbral 0.5 = 0.756969696969697\n",
      "Acc umbral 0.3 = 0.7816161616161617\n"
     ]
    }
   ],
   "source": [
    "print('Acc umbral 0.5 =', accuracy_score(y_test, y_pred_orig))\n",
    "print('Acc umbral 0.3 =', accuracy_score(y_test, y_pred_logit))"
   ]
  },
  {
   "cell_type": "markdown",
   "metadata": {
    "colab_type": "text",
    "id": "0V5aLBWln5W0"
   },
   "source": [
    "* Se puede ajustar el umbral para las predicciones en clasificadores binarios\n",
    "* El ajuste de este umbral repercute sobre las diferentes medidas de performance.\n",
    "* Particularmente, sensitivity y specificity tiene una relación inversa\n",
    "    * siempre al mejorar uno, empeorará el otro"
   ]
  },
  {
   "cell_type": "markdown",
   "metadata": {
    "colab_type": "text",
    "id": "JjENaswEn5W3"
   },
   "source": [
    "## 3. Curvas ROC y área bajo la curva (AUC)\n",
    "\n",
    "Muy útil si queremos visualizar cómo se mueven sensitivity y specificity ante diversos umbrales. \n",
    "\n",
    "La curva ROC se basa en $TPR$ (tasa de verdaderos positivos) y $FPR$ (tasa de falsos negativos).\n",
    "\n",
    "* Definamos las metricas de True Positive Ratio y False Positive Rate y se las asignamos las los valores predichos vs los valores de test (observados vs esperados).\n",
    "* El método `roc_curve` toma como parámetros dos valores: los valores observados del target y un array de probabilidades (NO recibe las predicciones de la clase).\n",
    "* Devuelve tres elementos en forma de arrays: la tasa de falsos positivos ($FPR$), la tasa de verdaderos positivos ($TPR$) y los umbrales"
   ]
  },
  {
   "cell_type": "code",
   "execution_count": 34,
   "metadata": {
    "colab": {},
    "colab_type": "code",
    "id": "b1Ljih61n5W3"
   },
   "outputs": [],
   "source": [
    "fpr_log,tpr_log,thr_log = roc_curve(y_test, y_probs_logit[:,1])"
   ]
  },
  {
   "cell_type": "markdown",
   "metadata": {
    "colab_type": "text",
    "id": "oWMZP_bHn5W7"
   },
   "source": [
    "* Convertimos los valores en un objeto dataframe y graficamos la curva ROC"
   ]
  },
  {
   "cell_type": "code",
   "execution_count": 35,
   "metadata": {
    "colab": {},
    "colab_type": "code",
    "id": "ENaBIDsUn5W8"
   },
   "outputs": [],
   "source": [
    "df = pd.DataFrame(dict(fpr=fpr_log, tpr=tpr_log, thr = thr_log))"
   ]
  },
  {
   "cell_type": "code",
   "execution_count": 23,
   "metadata": {},
   "outputs": [
    {
     "data": {
      "text/html": [
       "<div>\n",
       "<style scoped>\n",
       "    .dataframe tbody tr th:only-of-type {\n",
       "        vertical-align: middle;\n",
       "    }\n",
       "\n",
       "    .dataframe tbody tr th {\n",
       "        vertical-align: top;\n",
       "    }\n",
       "\n",
       "    .dataframe thead th {\n",
       "        text-align: right;\n",
       "    }\n",
       "</style>\n",
       "<table border=\"1\" class=\"dataframe\">\n",
       "  <thead>\n",
       "    <tr style=\"text-align: right;\">\n",
       "      <th></th>\n",
       "      <th>fpr</th>\n",
       "      <th>tpr</th>\n",
       "      <th>thr</th>\n",
       "    </tr>\n",
       "  </thead>\n",
       "  <tbody>\n",
       "    <tr>\n",
       "      <th>0</th>\n",
       "      <td>0.000000</td>\n",
       "      <td>0.000000</td>\n",
       "      <td>1.915232</td>\n",
       "    </tr>\n",
       "    <tr>\n",
       "      <th>1</th>\n",
       "      <td>0.000531</td>\n",
       "      <td>0.000000</td>\n",
       "      <td>0.915232</td>\n",
       "    </tr>\n",
       "    <tr>\n",
       "      <th>2</th>\n",
       "      <td>0.001061</td>\n",
       "      <td>0.000000</td>\n",
       "      <td>0.856503</td>\n",
       "    </tr>\n",
       "    <tr>\n",
       "      <th>3</th>\n",
       "      <td>0.001061</td>\n",
       "      <td>0.000847</td>\n",
       "      <td>0.844004</td>\n",
       "    </tr>\n",
       "    <tr>\n",
       "      <th>4</th>\n",
       "      <td>0.002123</td>\n",
       "      <td>0.000847</td>\n",
       "      <td>0.825721</td>\n",
       "    </tr>\n",
       "    <tr>\n",
       "      <th>5</th>\n",
       "      <td>0.002653</td>\n",
       "      <td>0.000847</td>\n",
       "      <td>0.820730</td>\n",
       "    </tr>\n",
       "    <tr>\n",
       "      <th>6</th>\n",
       "      <td>0.003715</td>\n",
       "      <td>0.000847</td>\n",
       "      <td>0.806540</td>\n",
       "    </tr>\n",
       "    <tr>\n",
       "      <th>7</th>\n",
       "      <td>0.003715</td>\n",
       "      <td>0.001693</td>\n",
       "      <td>0.805941</td>\n",
       "    </tr>\n",
       "    <tr>\n",
       "      <th>8</th>\n",
       "      <td>0.004245</td>\n",
       "      <td>0.001693</td>\n",
       "      <td>0.800933</td>\n",
       "    </tr>\n",
       "    <tr>\n",
       "      <th>9</th>\n",
       "      <td>0.004776</td>\n",
       "      <td>0.001693</td>\n",
       "      <td>0.799475</td>\n",
       "    </tr>\n",
       "    <tr>\n",
       "      <th>10</th>\n",
       "      <td>0.009552</td>\n",
       "      <td>0.001693</td>\n",
       "      <td>0.778731</td>\n",
       "    </tr>\n",
       "    <tr>\n",
       "      <th>11</th>\n",
       "      <td>0.010082</td>\n",
       "      <td>0.001693</td>\n",
       "      <td>0.778183</td>\n",
       "    </tr>\n",
       "    <tr>\n",
       "      <th>12</th>\n",
       "      <td>0.010348</td>\n",
       "      <td>0.001693</td>\n",
       "      <td>0.776753</td>\n",
       "    </tr>\n",
       "    <tr>\n",
       "      <th>13</th>\n",
       "      <td>0.010348</td>\n",
       "      <td>0.003387</td>\n",
       "      <td>0.775788</td>\n",
       "    </tr>\n",
       "    <tr>\n",
       "      <th>14</th>\n",
       "      <td>0.011144</td>\n",
       "      <td>0.003387</td>\n",
       "      <td>0.769430</td>\n",
       "    </tr>\n",
       "    <tr>\n",
       "      <th>15</th>\n",
       "      <td>0.011674</td>\n",
       "      <td>0.003387</td>\n",
       "      <td>0.768724</td>\n",
       "    </tr>\n",
       "    <tr>\n",
       "      <th>16</th>\n",
       "      <td>0.011940</td>\n",
       "      <td>0.003387</td>\n",
       "      <td>0.766219</td>\n",
       "    </tr>\n",
       "    <tr>\n",
       "      <th>17</th>\n",
       "      <td>0.011940</td>\n",
       "      <td>0.004234</td>\n",
       "      <td>0.764149</td>\n",
       "    </tr>\n",
       "    <tr>\n",
       "      <th>18</th>\n",
       "      <td>0.011940</td>\n",
       "      <td>0.005927</td>\n",
       "      <td>0.764073</td>\n",
       "    </tr>\n",
       "    <tr>\n",
       "      <th>19</th>\n",
       "      <td>0.012205</td>\n",
       "      <td>0.005927</td>\n",
       "      <td>0.764060</td>\n",
       "    </tr>\n",
       "    <tr>\n",
       "      <th>20</th>\n",
       "      <td>0.012205</td>\n",
       "      <td>0.006774</td>\n",
       "      <td>0.762877</td>\n",
       "    </tr>\n",
       "    <tr>\n",
       "      <th>21</th>\n",
       "      <td>0.012470</td>\n",
       "      <td>0.006774</td>\n",
       "      <td>0.759944</td>\n",
       "    </tr>\n",
       "    <tr>\n",
       "      <th>22</th>\n",
       "      <td>0.012470</td>\n",
       "      <td>0.007621</td>\n",
       "      <td>0.759848</td>\n",
       "    </tr>\n",
       "    <tr>\n",
       "      <th>23</th>\n",
       "      <td>0.012735</td>\n",
       "      <td>0.007621</td>\n",
       "      <td>0.757630</td>\n",
       "    </tr>\n",
       "    <tr>\n",
       "      <th>24</th>\n",
       "      <td>0.012735</td>\n",
       "      <td>0.009314</td>\n",
       "      <td>0.757321</td>\n",
       "    </tr>\n",
       "    <tr>\n",
       "      <th>25</th>\n",
       "      <td>0.012735</td>\n",
       "      <td>0.011008</td>\n",
       "      <td>0.750980</td>\n",
       "    </tr>\n",
       "    <tr>\n",
       "      <th>26</th>\n",
       "      <td>0.013266</td>\n",
       "      <td>0.011008</td>\n",
       "      <td>0.749656</td>\n",
       "    </tr>\n",
       "    <tr>\n",
       "      <th>27</th>\n",
       "      <td>0.013266</td>\n",
       "      <td>0.011854</td>\n",
       "      <td>0.749278</td>\n",
       "    </tr>\n",
       "    <tr>\n",
       "      <th>28</th>\n",
       "      <td>0.014062</td>\n",
       "      <td>0.011854</td>\n",
       "      <td>0.745709</td>\n",
       "    </tr>\n",
       "    <tr>\n",
       "      <th>29</th>\n",
       "      <td>0.014062</td>\n",
       "      <td>0.013548</td>\n",
       "      <td>0.743830</td>\n",
       "    </tr>\n",
       "    <tr>\n",
       "      <th>...</th>\n",
       "      <td>...</td>\n",
       "      <td>...</td>\n",
       "      <td>...</td>\n",
       "    </tr>\n",
       "    <tr>\n",
       "      <th>1390</th>\n",
       "      <td>0.925710</td>\n",
       "      <td>0.996613</td>\n",
       "      <td>0.032120</td>\n",
       "    </tr>\n",
       "    <tr>\n",
       "      <th>1391</th>\n",
       "      <td>0.927036</td>\n",
       "      <td>0.996613</td>\n",
       "      <td>0.031588</td>\n",
       "    </tr>\n",
       "    <tr>\n",
       "      <th>1392</th>\n",
       "      <td>0.927036</td>\n",
       "      <td>0.997460</td>\n",
       "      <td>0.031540</td>\n",
       "    </tr>\n",
       "    <tr>\n",
       "      <th>1393</th>\n",
       "      <td>0.928363</td>\n",
       "      <td>0.997460</td>\n",
       "      <td>0.031108</td>\n",
       "    </tr>\n",
       "    <tr>\n",
       "      <th>1394</th>\n",
       "      <td>0.928894</td>\n",
       "      <td>0.997460</td>\n",
       "      <td>0.031093</td>\n",
       "    </tr>\n",
       "    <tr>\n",
       "      <th>1395</th>\n",
       "      <td>0.933404</td>\n",
       "      <td>0.997460</td>\n",
       "      <td>0.029754</td>\n",
       "    </tr>\n",
       "    <tr>\n",
       "      <th>1396</th>\n",
       "      <td>0.933404</td>\n",
       "      <td>0.998307</td>\n",
       "      <td>0.029731</td>\n",
       "    </tr>\n",
       "    <tr>\n",
       "      <th>1397</th>\n",
       "      <td>0.933935</td>\n",
       "      <td>0.998307</td>\n",
       "      <td>0.029523</td>\n",
       "    </tr>\n",
       "    <tr>\n",
       "      <th>1398</th>\n",
       "      <td>0.934465</td>\n",
       "      <td>0.998307</td>\n",
       "      <td>0.029521</td>\n",
       "    </tr>\n",
       "    <tr>\n",
       "      <th>1399</th>\n",
       "      <td>0.946140</td>\n",
       "      <td>0.998307</td>\n",
       "      <td>0.025535</td>\n",
       "    </tr>\n",
       "    <tr>\n",
       "      <th>1400</th>\n",
       "      <td>0.946140</td>\n",
       "      <td>0.999153</td>\n",
       "      <td>0.025509</td>\n",
       "    </tr>\n",
       "    <tr>\n",
       "      <th>1401</th>\n",
       "      <td>0.949589</td>\n",
       "      <td>0.999153</td>\n",
       "      <td>0.024017</td>\n",
       "    </tr>\n",
       "    <tr>\n",
       "      <th>1402</th>\n",
       "      <td>0.950119</td>\n",
       "      <td>0.999153</td>\n",
       "      <td>0.023957</td>\n",
       "    </tr>\n",
       "    <tr>\n",
       "      <th>1403</th>\n",
       "      <td>0.953834</td>\n",
       "      <td>0.999153</td>\n",
       "      <td>0.022557</td>\n",
       "    </tr>\n",
       "    <tr>\n",
       "      <th>1404</th>\n",
       "      <td>0.954365</td>\n",
       "      <td>0.999153</td>\n",
       "      <td>0.022514</td>\n",
       "    </tr>\n",
       "    <tr>\n",
       "      <th>1405</th>\n",
       "      <td>0.960202</td>\n",
       "      <td>0.999153</td>\n",
       "      <td>0.021210</td>\n",
       "    </tr>\n",
       "    <tr>\n",
       "      <th>1406</th>\n",
       "      <td>0.960732</td>\n",
       "      <td>0.999153</td>\n",
       "      <td>0.021172</td>\n",
       "    </tr>\n",
       "    <tr>\n",
       "      <th>1407</th>\n",
       "      <td>0.962059</td>\n",
       "      <td>0.999153</td>\n",
       "      <td>0.020491</td>\n",
       "    </tr>\n",
       "    <tr>\n",
       "      <th>1408</th>\n",
       "      <td>0.962590</td>\n",
       "      <td>0.999153</td>\n",
       "      <td>0.020490</td>\n",
       "    </tr>\n",
       "    <tr>\n",
       "      <th>1409</th>\n",
       "      <td>0.963386</td>\n",
       "      <td>0.999153</td>\n",
       "      <td>0.020163</td>\n",
       "    </tr>\n",
       "    <tr>\n",
       "      <th>1410</th>\n",
       "      <td>0.963916</td>\n",
       "      <td>0.999153</td>\n",
       "      <td>0.020054</td>\n",
       "    </tr>\n",
       "    <tr>\n",
       "      <th>1411</th>\n",
       "      <td>0.966039</td>\n",
       "      <td>0.999153</td>\n",
       "      <td>0.019283</td>\n",
       "    </tr>\n",
       "    <tr>\n",
       "      <th>1412</th>\n",
       "      <td>0.966569</td>\n",
       "      <td>0.999153</td>\n",
       "      <td>0.019251</td>\n",
       "    </tr>\n",
       "    <tr>\n",
       "      <th>1413</th>\n",
       "      <td>0.974264</td>\n",
       "      <td>0.999153</td>\n",
       "      <td>0.016237</td>\n",
       "    </tr>\n",
       "    <tr>\n",
       "      <th>1414</th>\n",
       "      <td>0.974794</td>\n",
       "      <td>0.999153</td>\n",
       "      <td>0.016220</td>\n",
       "    </tr>\n",
       "    <tr>\n",
       "      <th>1415</th>\n",
       "      <td>0.980101</td>\n",
       "      <td>0.999153</td>\n",
       "      <td>0.014858</td>\n",
       "    </tr>\n",
       "    <tr>\n",
       "      <th>1416</th>\n",
       "      <td>0.981162</td>\n",
       "      <td>0.999153</td>\n",
       "      <td>0.014704</td>\n",
       "    </tr>\n",
       "    <tr>\n",
       "      <th>1417</th>\n",
       "      <td>0.984081</td>\n",
       "      <td>0.999153</td>\n",
       "      <td>0.013443</td>\n",
       "    </tr>\n",
       "    <tr>\n",
       "      <th>1418</th>\n",
       "      <td>0.984081</td>\n",
       "      <td>1.000000</td>\n",
       "      <td>0.013182</td>\n",
       "    </tr>\n",
       "    <tr>\n",
       "      <th>1419</th>\n",
       "      <td>1.000000</td>\n",
       "      <td>1.000000</td>\n",
       "      <td>0.001349</td>\n",
       "    </tr>\n",
       "  </tbody>\n",
       "</table>\n",
       "<p>1420 rows × 3 columns</p>\n",
       "</div>"
      ],
      "text/plain": [
       "           fpr       tpr       thr\n",
       "0     0.000000  0.000000  1.915232\n",
       "1     0.000531  0.000000  0.915232\n",
       "2     0.001061  0.000000  0.856503\n",
       "3     0.001061  0.000847  0.844004\n",
       "4     0.002123  0.000847  0.825721\n",
       "5     0.002653  0.000847  0.820730\n",
       "6     0.003715  0.000847  0.806540\n",
       "7     0.003715  0.001693  0.805941\n",
       "8     0.004245  0.001693  0.800933\n",
       "9     0.004776  0.001693  0.799475\n",
       "10    0.009552  0.001693  0.778731\n",
       "11    0.010082  0.001693  0.778183\n",
       "12    0.010348  0.001693  0.776753\n",
       "13    0.010348  0.003387  0.775788\n",
       "14    0.011144  0.003387  0.769430\n",
       "15    0.011674  0.003387  0.768724\n",
       "16    0.011940  0.003387  0.766219\n",
       "17    0.011940  0.004234  0.764149\n",
       "18    0.011940  0.005927  0.764073\n",
       "19    0.012205  0.005927  0.764060\n",
       "20    0.012205  0.006774  0.762877\n",
       "21    0.012470  0.006774  0.759944\n",
       "22    0.012470  0.007621  0.759848\n",
       "23    0.012735  0.007621  0.757630\n",
       "24    0.012735  0.009314  0.757321\n",
       "25    0.012735  0.011008  0.750980\n",
       "26    0.013266  0.011008  0.749656\n",
       "27    0.013266  0.011854  0.749278\n",
       "28    0.014062  0.011854  0.745709\n",
       "29    0.014062  0.013548  0.743830\n",
       "...        ...       ...       ...\n",
       "1390  0.925710  0.996613  0.032120\n",
       "1391  0.927036  0.996613  0.031588\n",
       "1392  0.927036  0.997460  0.031540\n",
       "1393  0.928363  0.997460  0.031108\n",
       "1394  0.928894  0.997460  0.031093\n",
       "1395  0.933404  0.997460  0.029754\n",
       "1396  0.933404  0.998307  0.029731\n",
       "1397  0.933935  0.998307  0.029523\n",
       "1398  0.934465  0.998307  0.029521\n",
       "1399  0.946140  0.998307  0.025535\n",
       "1400  0.946140  0.999153  0.025509\n",
       "1401  0.949589  0.999153  0.024017\n",
       "1402  0.950119  0.999153  0.023957\n",
       "1403  0.953834  0.999153  0.022557\n",
       "1404  0.954365  0.999153  0.022514\n",
       "1405  0.960202  0.999153  0.021210\n",
       "1406  0.960732  0.999153  0.021172\n",
       "1407  0.962059  0.999153  0.020491\n",
       "1408  0.962590  0.999153  0.020490\n",
       "1409  0.963386  0.999153  0.020163\n",
       "1410  0.963916  0.999153  0.020054\n",
       "1411  0.966039  0.999153  0.019283\n",
       "1412  0.966569  0.999153  0.019251\n",
       "1413  0.974264  0.999153  0.016237\n",
       "1414  0.974794  0.999153  0.016220\n",
       "1415  0.980101  0.999153  0.014858\n",
       "1416  0.981162  0.999153  0.014704\n",
       "1417  0.984081  0.999153  0.013443\n",
       "1418  0.984081  1.000000  0.013182\n",
       "1419  1.000000  1.000000  0.001349\n",
       "\n",
       "[1420 rows x 3 columns]"
      ]
     },
     "execution_count": 23,
     "metadata": {},
     "output_type": "execute_result"
    }
   ],
   "source": [
    "df"
   ]
  },
  {
   "cell_type": "code",
   "execution_count": 24,
   "metadata": {
    "colab": {},
    "colab_type": "code",
    "id": "GaSYRElFn5W_"
   },
   "outputs": [
    {
     "data": {
      "image/png": "[encoded data removed]",
      "text/plain": [
       "<Figure size 432x288 with 1 Axes>"
      ]
     },
     "metadata": {},
     "output_type": "display_data"
    }
   ],
   "source": [
    "plt.axis([0, 1.01, 0, 1.01])\n",
    "plt.xlabel('1 - Specificty')\n",
    "plt.ylabel('TPR / Sensitivity')\n",
    "plt.title('ROC Curve')\n",
    "plt.plot(df['fpr'],df['tpr'])\n",
    "plt.plot(np.arange(0,1, step =0.01), np.arange(0,1, step =0.01))\n",
    "plt.show() "
   ]
  },
  {
   "cell_type": "markdown",
   "metadata": {
    "colab_type": "text",
    "id": "trttsypcn5XE"
   },
   "source": [
    "* Calculamos el área bajo la curva ROC"
   ]
  },
  {
   "cell_type": "code",
   "execution_count": 36,
   "metadata": {
    "colab": {},
    "colab_type": "code",
    "id": "nJ1ldxBMn5XL"
   },
   "outputs": [
    {
     "name": "stdout",
     "output_type": "stream",
     "text": [
      "AUC= 0.7999370505273985\n"
     ]
    }
   ],
   "source": [
    "print('AUC=', auc(fpr_log, tpr_log))"
   ]
  },
  {
   "cell_type": "markdown",
   "metadata": {
    "colab_type": "text",
    "id": "AfZB6yAkn5XP"
   },
   "source": [
    "## 4. Comparando modelos\n",
    "\n",
    "Evaluamos las medidas vistas en ambas prácticas para un clasificador Naïve Bayes."
   ]
  },
  {
   "cell_type": "code",
   "execution_count": 37,
   "metadata": {
    "colab": {},
    "colab_type": "code",
    "id": "6r2KyMVxn5XQ"
   },
   "outputs": [],
   "source": [
    "from sklearn.naive_bayes import GaussianNB\n",
    "\n",
    "nbc = GaussianNB()"
   ]
  },
  {
   "cell_type": "code",
   "execution_count": 38,
   "metadata": {
    "colab": {},
    "colab_type": "code",
    "id": "kC9jY8QDn5XT"
   },
   "outputs": [],
   "source": [
    "nbc.fit(X_train, y_train)\n",
    "y_preds_nb = nbc.predict(X_test)\n",
    "y_probs_nb = nbc.predict_proba(X_test)"
   ]
  },
  {
   "cell_type": "code",
   "execution_count": 39,
   "metadata": {
    "colab": {},
    "colab_type": "code",
    "id": "keelqxXCn5XV"
   },
   "outputs": [
    {
     "data": {
      "image/png": "[encoded data removed]",
      "text/plain": [
       "<Figure size 432x288 with 1 Axes>"
      ]
     },
     "metadata": {},
     "output_type": "display_data"
    }
   ],
   "source": [
    "fpr_nb,tpr_nb,thr_nb = roc_curve(y_test, y_probs_nb[:,1])\n",
    "fpr_log,tpr_log,thr_log = roc_curve(y_test, y_probs_logit[:,1])\n",
    "\n",
    "plt.axis([0, 1.01, 0, 1.01])\n",
    "plt.xlabel('1 - Specificty')\n",
    "plt.ylabel('TPR / Sensitivity')\n",
    "plt.title('ROC Curve')\n",
    "plt.plot(fpr_nb,tpr_nb)\n",
    "plt.plot(fpr_log,tpr_log)\n",
    "plt.plot(np.arange(0,1, step =0.01), np.arange(0,1, step =0.01))\n",
    "plt.legend(['NB','Logit'])\n",
    "plt.show() "
   ]
  },
  {
   "cell_type": "code",
   "execution_count": 40,
   "metadata": {
    "colab": {},
    "colab_type": "code",
    "id": "H2OIwV3Mn5XZ"
   },
   "outputs": [
    {
     "name": "stdout",
     "output_type": "stream",
     "text": [
      "AUC-NB= 0.8399519768762908\n",
      "AUC-Logit= 0.7999370505273985\n"
     ]
    }
   ],
   "source": [
    "print('AUC-NB=', auc(fpr_nb, tpr_nb))\n",
    "print('AUC-Logit=', auc(fpr_log, tpr_log))"
   ]
  },
  {
   "cell_type": "code",
   "execution_count": null,
   "metadata": {},
   "outputs": [],
   "source": []
  }
 ],
 "metadata": {
  "colab": {
   "collapsed_sections": [],
   "name": "2.PRACTICA_GUIADA_ROC_&_AUC.ipynb",
   "provenance": [],
   "version": "0.3.2"
  },
  "kernelspec": {
   "display_name": "Python 3",
   "language": "python",
   "name": "python3"
  },
  "language_info": {
   "codemirror_mode": {
    "name": "ipython",
    "version": 3
   },
   "file_extension": ".py",
   "mimetype": "text/x-python",
   "name": "python",
   "nbconvert_exporter": "python",
   "pygments_lexer": "ipython3",
   "version": "3.6.6"
  }
 },
 "nbformat": 4,
 "nbformat_minor": 1
}
