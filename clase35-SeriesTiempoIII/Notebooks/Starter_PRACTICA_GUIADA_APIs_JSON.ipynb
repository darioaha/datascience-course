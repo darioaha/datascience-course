{
 "cells": [
  {
   "cell_type": "markdown",
   "metadata": {},
   "source": [
    "## Práctica Guiada: Accediendo una API desde Python\n",
    "\n",
    "El objetivo de esta práctica es acceder a la API de search de *MercadoLibre.com* desde Python usando el modulo [`requests`](https://api.mercadolibre.com/sites/MLA/search?q=iphone+6+16gb&condition=new&limit=10), tal como vimos en la clase de webscraping. Seguiremos los siguientes puntos: \n",
    "\n",
    "1. Imprimir el status code de la respuesta\n",
    "2. Imprimir todos los headers de la respuesta\n",
    "3. Convertir el json de la respuesta a un diccionario utilizando json.loads(...)\n",
    "4. Imprimir el diccionario obtenido\n",
    "5. Identificar cómo acceder a los items de la respuesta (los que entre otras cosas tienen el precio).\n",
    "6. Imprimir cuántos resultados hay.\n",
    "7. Convertir los resultados en un dataframe de pandas e imprimirlo.\n",
    "8. Calcular la media y el desvío estándar del precio de los resultados obtenidos."
   ]
  },
  {
   "cell_type": "code",
   "execution_count": null,
   "metadata": {
    "collapsed": true
   },
   "outputs": [],
   "source": [
    "# Accedemos a la API de search de MercadoLibre.com desde Python usando el modulo requests\n",
    "# https://api.mercadolibre.com/sites/MLA/search?q=iphone+6+16gb&condition=new&limit=10\n",
    "\n",
    "import requests\n",
    "import json\n",
    "import pandas as pd\n",
    "\n",
    "url = \"https://api.mercadolibre.com/sites/MLA/search?q=iphone+6+16gb&condition=new&limit=201\"\n",
    "response = requests.get(url)"
   ]
  },
  {
   "cell_type": "code",
   "execution_count": null,
   "metadata": {},
   "outputs": [],
   "source": [
    "# 1. Imprimir el status code de la respuesta\n",
    "\n"
   ]
  },
  {
   "cell_type": "code",
   "execution_count": null,
   "metadata": {},
   "outputs": [],
   "source": [
    "# 2. Imprimir todos los headers de la respuesta\n",
    "\n"
   ]
  },
  {
   "cell_type": "code",
   "execution_count": null,
   "metadata": {},
   "outputs": [],
   "source": [
    "# 3. Convertir el json de la respuesta a un diccionario utilizando json.loads(...)\n",
    "\n",
    "\n",
    "\n",
    "# 4. Imprimir el diccionario obtenido\n",
    "\n"
   ]
  },
  {
   "cell_type": "code",
   "execution_count": null,
   "metadata": {},
   "outputs": [],
   "source": [
    "# 5. Identificar cómo acceder a los items de la respuesta (los que entre otras cosas tienen el precio)\n",
    "\n",
    "\n",
    "\n",
    "# 6. Imprimir cuántos resultados hay\n",
    "\n"
   ]
  },
  {
   "cell_type": "code",
   "execution_count": null,
   "metadata": {},
   "outputs": [],
   "source": [
    "# 7. Convertir los resultados en un dataframe de pandas e imprimirlo\n",
    "\n"
   ]
  },
  {
   "cell_type": "code",
   "execution_count": null,
   "metadata": {},
   "outputs": [],
   "source": [
    "# 8. Calcular la media y el desvío estándar del precio de los resultados obtenidos.\n",
    "\n"
   ]
  },
  {
   "cell_type": "code",
   "execution_count": null,
   "metadata": {
    "collapsed": true
   },
   "outputs": [],
   "source": []
  }
 ],
 "metadata": {
  "kernelspec": {
   "display_name": "Python 3",
   "language": "python",
   "name": "python3"
  },
  "language_info": {
   "codemirror_mode": {
    "name": "ipython",
    "version": 3
   },
   "file_extension": ".py",
   "mimetype": "text/x-python",
   "name": "python",
   "nbconvert_exporter": "python",
   "pygments_lexer": "ipython3",
   "version": "3.6.1"
  }
 },
 "nbformat": 4,
 "nbformat_minor": 1
}
