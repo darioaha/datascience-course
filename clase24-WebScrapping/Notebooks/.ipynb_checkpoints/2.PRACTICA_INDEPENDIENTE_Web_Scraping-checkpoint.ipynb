{
 "cells": [
  {
   "cell_type": "markdown",
   "metadata": {},
   "source": [
    "# Práctica Independiente - Web Scraping"
   ]
  },
  {
   "cell_type": "markdown",
   "metadata": {},
   "source": [
    "El objetivo de esta práctica independiente es construir una tabla que contenga todas las noticias de la página principal del diario [La Prensa](http://www.laprensa.com.ar/) del día de hoy. La tabla debe contener los siguientes campos: fecha, título, sección y URL al artículo. Para ello, pueden ir por pasos:\n",
    "\n",
    "1. Primero, extraigan un listado de URLs a cada noticia de la página del diario.\n",
    "2. Segundo, definan una función que recorra el listado de URLs, ingrese en cada nota y almacene la información requerida en un diccionario.\n",
    "3. Tercero, vuelquen los resultados en un DataFrame.\n",
    "\n",
    "Para parsear el HTML de la respuesta, pueden usar tanto regex como `BeautifulSoup`, según les convenga."
   ]
  },
  {
   "cell_type": "markdown",
   "metadata": {},
   "source": []
  }
 ],
 "metadata": {
  "kernelspec": {
   "display_name": "Python 3",
   "language": "python",
   "name": "python3"
  },
  "language_info": {
   "codemirror_mode": {
    "name": "ipython",
    "version": 3
   },
   "file_extension": ".py",
   "mimetype": "text/x-python",
   "name": "python",
   "nbconvert_exporter": "python",
   "pygments_lexer": "ipython3",
   "version": "3.6.8"
  }
 },
 "nbformat": 4,
 "nbformat_minor": 2
}
