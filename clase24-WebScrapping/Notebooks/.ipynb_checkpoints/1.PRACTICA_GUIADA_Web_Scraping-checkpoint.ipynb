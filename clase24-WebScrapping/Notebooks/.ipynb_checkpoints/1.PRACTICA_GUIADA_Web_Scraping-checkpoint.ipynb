{
 "cells": [
  {
   "cell_type": "markdown",
   "metadata": {
    "colab_type": "text",
    "id": "frSnEnMe99MT"
   },
   "source": [
    "# Práctica Guiada - Web Scraping"
   ]
  },
  {
   "cell_type": "markdown",
   "metadata": {},
   "source": [
    "### Primeros pasos en Web Scraping\n",
    "\n",
    "Utilizaremos la librería `Requests` para hacer peticiones de páginas."
   ]
  },
  {
   "cell_type": "code",
   "execution_count": 1,
   "metadata": {},
   "outputs": [],
   "source": [
    "# Importamos la librería Requests\n",
    "import requests"
   ]
  },
  {
   "cell_type": "markdown",
   "metadata": {},
   "source": [
    "Probemos a ver un ejemplo del libro *Web Scraping with Python* de Mitchell Ryan. Vamos a usar varios ejemplos de este libro en está práctica."
   ]
  },
  {
   "cell_type": "code",
   "execution_count": 2,
   "metadata": {},
   "outputs": [],
   "source": [
    "url = 'http://pythonscraping.com/pages/page1.html'\n",
    "resp = requests.get(url)"
   ]
  },
  {
   "cell_type": "code",
   "execution_count": 5,
   "metadata": {},
   "outputs": [
    {
     "data": {
      "text/plain": [
       "b'<html>\\n<head>\\n<title>A Useful Page</title>\\n</head>\\n<body>\\n<h1>An Interesting Title</h1>\\n<div>\\nLorem ipsum dolor sit amet, consectetur adipisicing elit, sed do eiusmod tempor incididunt ut labore et dolore magna aliqua. Ut enim ad minim veniam, quis nostrud exercitation ullamco laboris nisi ut aliquip ex ea commodo consequat. Duis aute irure dolor in reprehenderit in voluptate velit esse cillum dolore eu fugiat nulla pariatur. Excepteur sint occaecat cupidatat non proident, sunt in culpa qui officia deserunt mollit anim id est laborum.\\n</div>\\n</body>\\n</html>\\n'"
      ]
     },
     "execution_count": 5,
     "metadata": {},
     "output_type": "execute_result"
    }
   ],
   "source": [
    "resp.content"
   ]
  },
  {
   "cell_type": "markdown",
   "metadata": {},
   "source": [
    "Importemos ahora `BeautifulSoup`:"
   ]
  },
  {
   "cell_type": "code",
   "execution_count": 6,
   "metadata": {},
   "outputs": [
    {
     "name": "stderr",
     "output_type": "stream",
     "text": [
      "/opt/conda/lib/python3.6/site-packages/bs4/element.py:16: UserWarning: The soupsieve package is not installed. CSS selectors cannot be used.\n",
      "  'The soupsieve package is not installed. CSS selectors cannot be used.'\n"
     ]
    }
   ],
   "source": [
    "#!pip install bs4\n",
    "from bs4 import BeautifulSoup"
   ]
  },
  {
   "cell_type": "markdown",
   "metadata": {},
   "source": [
    "Transformamos el contenido del HTML en un objeto `BeautifulSoup`:"
   ]
  },
  {
   "cell_type": "code",
   "execution_count": 7,
   "metadata": {},
   "outputs": [],
   "source": [
    "bsObj = BeautifulSoup(resp.content, 'html.parser')"
   ]
  },
  {
   "cell_type": "code",
   "execution_count": 8,
   "metadata": {},
   "outputs": [
    {
     "data": {
      "text/plain": [
       "<html>\n",
       "<head>\n",
       "<title>A Useful Page</title>\n",
       "</head>\n",
       "<body>\n",
       "<h1>An Interesting Title</h1>\n",
       "<div>\n",
       "Lorem ipsum dolor sit amet, consectetur adipisicing elit, sed do eiusmod tempor incididunt ut labore et dolore magna aliqua. Ut enim ad minim veniam, quis nostrud exercitation ullamco laboris nisi ut aliquip ex ea commodo consequat. Duis aute irure dolor in reprehenderit in voluptate velit esse cillum dolore eu fugiat nulla pariatur. Excepteur sint occaecat cupidatat non proident, sunt in culpa qui officia deserunt mollit anim id est laborum.\n",
       "</div>\n",
       "</body>\n",
       "</html>"
      ]
     },
     "execution_count": 8,
     "metadata": {},
     "output_type": "execute_result"
    }
   ],
   "source": [
    "bsObj.html"
   ]
  },
  {
   "cell_type": "markdown",
   "metadata": {},
   "source": [
    "Podemos extraer un tag, por ejemplo h1:"
   ]
  },
  {
   "cell_type": "code",
   "execution_count": 7,
   "metadata": {},
   "outputs": [
    {
     "name": "stdout",
     "output_type": "stream",
     "text": [
      "<h1>An Interesting Title</h1>\n"
     ]
    }
   ],
   "source": [
    "print(bsObj.h1)"
   ]
  },
  {
   "cell_type": "markdown",
   "metadata": {},
   "source": [
    "Podemos quedarnos con el texto de h1:"
   ]
  },
  {
   "cell_type": "code",
   "execution_count": 8,
   "metadata": {},
   "outputs": [
    {
     "data": {
      "text/plain": [
       "'An Interesting Title'"
      ]
     },
     "execution_count": 8,
     "metadata": {},
     "output_type": "execute_result"
    }
   ],
   "source": [
    "bsObj.h1.get_text()"
   ]
  },
  {
   "cell_type": "markdown",
   "metadata": {},
   "source": [
    "#### Manejo de errores y excepciones"
   ]
  },
  {
   "cell_type": "markdown",
   "metadata": {},
   "source": [
    "En la web es habitual que los datos estén mal formateados, que los sitios web se caigan o que falten tags de cierre. Para evitar que la ejecución de nuestro código se interrumpa ante errores o formatos inesperados, es importante incluir un buen manejo de errores y excepciones.\n",
    "\n",
    "Como ejemplo vamos a definir una función que trae el titulo de una página web, anticipando posibles errores:"
   ]
  },
  {
   "cell_type": "code",
   "execution_count": 9,
   "metadata": {},
   "outputs": [],
   "source": [
    "def getTitle(url):\n",
    "    try:\n",
    "        resp = requests.get(url)\n",
    "    except requests.ConnectionError as e:\n",
    "        return None\n",
    "    try:\n",
    "        bsObj = BeautifulSoup(resp.content, 'html.parser')\n",
    "        title = bsObj.body.h1\n",
    "    except AttributeError as e:\n",
    "        return None\n",
    "    return title"
   ]
  },
  {
   "cell_type": "code",
   "execution_count": 10,
   "metadata": {},
   "outputs": [],
   "source": [
    "title = getTitle(\"http://www.pythonscraping.com/exercises/exercise1.html\")\n",
    "#title = getTitle(\"http://www.pythonnnnscraping.com/exercises/exercise1.html\")"
   ]
  },
  {
   "cell_type": "code",
   "execution_count": 11,
   "metadata": {},
   "outputs": [
    {
     "name": "stdout",
     "output_type": "stream",
     "text": [
      "<h1>An Interesting Title</h1>\n"
     ]
    }
   ],
   "source": [
    "if title == None:\n",
    "    print(\"Title could not be found\")\n",
    "else:\n",
    "    print(title)"
   ]
  },
  {
   "cell_type": "markdown",
   "metadata": {},
   "source": [
    "### Parseo avanzado de HTML"
   ]
  },
  {
   "cell_type": "code",
   "execution_count": 12,
   "metadata": {},
   "outputs": [],
   "source": [
    "url_wp = 'http://www.pythonscraping.com/pages/warandpeace.html'\n",
    "resp_wp = requests.get(url_wp)"
   ]
  },
  {
   "cell_type": "code",
   "execution_count": 13,
   "metadata": {},
   "outputs": [],
   "source": [
    "bsObjwp = BeautifulSoup(resp_wp.content, 'html.parser')"
   ]
  },
  {
   "cell_type": "code",
   "execution_count": 14,
   "metadata": {
    "scrolled": false
   },
   "outputs": [
    {
     "name": "stdout",
     "output_type": "stream",
     "text": [
      "Anna\n",
      "Pavlovna Scherer\n",
      "Empress Marya\n",
      "Fedorovna\n",
      "Prince Vasili Kuragin\n",
      "Anna Pavlovna\n",
      "St. Petersburg\n",
      "the prince\n",
      "Anna Pavlovna\n",
      "Anna Pavlovna\n",
      "the prince\n",
      "the prince\n",
      "the prince\n",
      "Prince Vasili\n",
      "Anna Pavlovna\n",
      "Anna Pavlovna\n",
      "the prince\n",
      "Wintzingerode\n",
      "King of Prussia\n",
      "le Vicomte de Mortemart\n",
      "Montmorencys\n",
      "Rohans\n",
      "Abbe Morio\n",
      "the Emperor\n",
      "the prince\n",
      "Prince Vasili\n",
      "Dowager Empress Marya Fedorovna\n",
      "the baron\n",
      "Anna Pavlovna\n",
      "the Empress\n",
      "the Empress\n",
      "Anna Pavlovna's\n",
      "Her Majesty\n",
      "Baron\n",
      "Funke\n",
      "The prince\n",
      "Anna\n",
      "Pavlovna\n",
      "the Empress\n",
      "The prince\n",
      "Anatole\n",
      "the prince\n",
      "The prince\n",
      "Anna\n",
      "Pavlovna\n",
      "Anna Pavlovna\n"
     ]
    }
   ],
   "source": [
    "# Usamos el método bsObj.findAll(tagName, tagAttributes) para \n",
    "# obtener una lista con todos los tags de la página, no solamente el primero. \n",
    " \n",
    "nameList = bsObjwp.findAll(\"span\", {\"class\":\"green\"})\n",
    "\n",
    "for name in nameList:\n",
    "    print(name.get_text())"
   ]
  },
  {
   "cell_type": "markdown",
   "metadata": {},
   "source": [
    "Analicemos al método `findAll()` :\n",
    "\n",
    "findAll(tag, attributes, recursive, text, limit, keywords)\n",
    "\n",
    " - **tag**: podemos pasar el nombre del tag como un string o una lista de tags y `findAll()` nos va a traer todos los tags de esa lista que encuentre en el documento\n",
    " - **attributes**: podemos pasar un diccionario con los valores de los atributos y `findAll()` nos va a traer los tags que contengan alguno de los atributos especificados. \n",
    " - **recursive**, por default True. Si recursive=True, va a buscar en los hijos y en los descendientes de los tags. Si recursive=False, va a buscar solamente en el nivel superior.\n",
    " - **text**: busca en función del contenido del tag y no de las propriedades del mismo. \n",
    " - **limit**: podemos definir un límite a la cantidad de elementos que trae `findAll()`. Por default es None. Un caso particular de `findAll()` es el método `find()`, que es equivalente a `findAll()` con limit=1: \n",
    "         . find(tag, attributes, recursive, text, keywords)\n",
    " - **keyword**: podemos traer tags que contienen un atributo en particular.  \n"
   ]
  },
  {
   "cell_type": "markdown",
   "metadata": {},
   "source": [
    "Ejemplos uso del argumento text:"
   ]
  },
  {
   "cell_type": "code",
   "execution_count": 15,
   "metadata": {},
   "outputs": [
    {
     "data": {
      "text/plain": [
       "7"
      ]
     },
     "execution_count": 15,
     "metadata": {},
     "output_type": "execute_result"
    }
   ],
   "source": [
    "# Supongamos que queremos saber cuántas veces aparece \"the prince\" en tags:\n",
    "\n",
    "nameList2 = bsObjwp.findAll(text='the prince')\n",
    "len(nameList2)"
   ]
  },
  {
   "cell_type": "markdown",
   "metadata": {},
   "source": [
    "Probemos un ejemplo con el argumento **keyword**:"
   ]
  },
  {
   "cell_type": "code",
   "execution_count": 16,
   "metadata": {
    "scrolled": true
   },
   "outputs": [
    {
     "name": "stdout",
     "output_type": "stream",
     "text": [
      "Anna\n",
      "Pavlovna Scherer\n",
      "Empress Marya\n",
      "Fedorovna\n",
      "Prince Vasili Kuragin\n",
      "Anna Pavlovna\n",
      "St. Petersburg\n",
      "the prince\n",
      "Anna Pavlovna\n",
      "Anna Pavlovna\n",
      "the prince\n",
      "the prince\n",
      "the prince\n",
      "Prince Vasili\n",
      "Anna Pavlovna\n",
      "Anna Pavlovna\n",
      "the prince\n",
      "Wintzingerode\n",
      "King of Prussia\n",
      "le Vicomte de Mortemart\n",
      "Montmorencys\n",
      "Rohans\n",
      "Abbe Morio\n",
      "the Emperor\n",
      "the prince\n",
      "Prince Vasili\n",
      "Dowager Empress Marya Fedorovna\n",
      "the baron\n",
      "Anna Pavlovna\n",
      "the Empress\n",
      "the Empress\n",
      "Anna Pavlovna's\n",
      "Her Majesty\n",
      "Baron\n",
      "Funke\n",
      "The prince\n",
      "Anna\n",
      "Pavlovna\n",
      "the Empress\n",
      "The prince\n",
      "Anatole\n",
      "the prince\n",
      "The prince\n",
      "Anna\n",
      "Pavlovna\n",
      "Anna Pavlovna\n"
     ]
    }
   ],
   "source": [
    "# Hay que prestar atención a que, como la palabra class está reservada en Python,\n",
    "# tenemos que agregar un guion bajo.\n",
    "\n",
    "class_green = bsObjwp.findAll(class_=\"green\")\n",
    "\n",
    "for name in class_green:\n",
    "    print(name.get_text())"
   ]
  },
  {
   "cell_type": "markdown",
   "metadata": {},
   "source": [
    "### Recorriendo los árboles"
   ]
  },
  {
   "cell_type": "code",
   "execution_count": 17,
   "metadata": {},
   "outputs": [],
   "source": [
    "url_gift = 'http://www.pythonscraping.com/pages/page3.html'\n",
    "resp_gift = requests.get(url_gift)\n",
    "bsObjgl = BeautifulSoup(resp_gift.content, 'html.parser')"
   ]
  },
  {
   "cell_type": "markdown",
   "metadata": {},
   "source": [
    "Podemos acceder a los hijos de un determinado `tag`de la siguiente manera:"
   ]
  },
  {
   "cell_type": "code",
   "execution_count": 18,
   "metadata": {},
   "outputs": [
    {
     "name": "stdout",
     "output_type": "stream",
     "text": [
      "\n",
      "\n",
      "<tr><th>\n",
      "Item Title\n",
      "</th><th>\n",
      "Description\n",
      "</th><th>\n",
      "Cost\n",
      "</th><th>\n",
      "Image\n",
      "</th></tr>\n",
      "\n",
      "\n",
      "<tr class=\"gift\" id=\"gift1\"><td>\n",
      "Vegetable Basket\n",
      "</td><td>\n",
      "This vegetable basket is the perfect gift for your health conscious (or overweight) friends!\n",
      "<span class=\"excitingNote\">Now with super-colorful bell peppers!</span>\n",
      "</td><td>\n",
      "$15.00\n",
      "</td><td>\n",
      "<img src=\"../img/gifts/img1.jpg\"/>\n",
      "</td></tr>\n",
      "\n",
      "\n",
      "<tr class=\"gift\" id=\"gift2\"><td>\n",
      "Russian Nesting Dolls\n",
      "</td><td>\n",
      "Hand-painted by trained monkeys, these exquisite dolls are priceless! And by \"priceless,\" we mean \"extremely expensive\"! <span class=\"excitingNote\">8 entire dolls per set! Octuple the presents!</span>\n",
      "</td><td>\n",
      "$10,000.52\n",
      "</td><td>\n",
      "<img src=\"../img/gifts/img2.jpg\"/>\n",
      "</td></tr>\n",
      "\n",
      "\n",
      "<tr class=\"gift\" id=\"gift3\"><td>\n",
      "Fish Painting\n",
      "</td><td>\n",
      "If something seems fishy about this painting, it's because it's a fish! <span class=\"excitingNote\">Also hand-painted by trained monkeys!</span>\n",
      "</td><td>\n",
      "$10,005.00\n",
      "</td><td>\n",
      "<img src=\"../img/gifts/img3.jpg\"/>\n",
      "</td></tr>\n",
      "\n",
      "\n",
      "<tr class=\"gift\" id=\"gift4\"><td>\n",
      "Dead Parrot\n",
      "</td><td>\n",
      "This is an ex-parrot! <span class=\"excitingNote\">Or maybe he's only resting?</span>\n",
      "</td><td>\n",
      "$0.50\n",
      "</td><td>\n",
      "<img src=\"../img/gifts/img4.jpg\"/>\n",
      "</td></tr>\n",
      "\n",
      "\n",
      "<tr class=\"gift\" id=\"gift5\"><td>\n",
      "Mystery Box\n",
      "</td><td>\n",
      "If you love suprises, this mystery box is for you! Do not place on light-colored surfaces. May cause oil staining. <span class=\"excitingNote\">Keep your friends guessing!</span>\n",
      "</td><td>\n",
      "$1.50\n",
      "</td><td>\n",
      "<img src=\"../img/gifts/img6.jpg\"/>\n",
      "</td></tr>\n",
      "\n",
      "\n"
     ]
    }
   ],
   "source": [
    "for child in bsObjgl.find('table', {'id': 'giftList'}).children:\n",
    "    print(child)"
   ]
  },
  {
   "cell_type": "markdown",
   "metadata": {},
   "source": [
    "Podemos traer a los hermanos de un `tag`:"
   ]
  },
  {
   "cell_type": "code",
   "execution_count": 19,
   "metadata": {},
   "outputs": [
    {
     "name": "stdout",
     "output_type": "stream",
     "text": [
      "\n",
      "\n",
      "<tr class=\"gift\" id=\"gift1\"><td>\n",
      "Vegetable Basket\n",
      "</td><td>\n",
      "This vegetable basket is the perfect gift for your health conscious (or overweight) friends!\n",
      "<span class=\"excitingNote\">Now with super-colorful bell peppers!</span>\n",
      "</td><td>\n",
      "$15.00\n",
      "</td><td>\n",
      "<img src=\"../img/gifts/img1.jpg\"/>\n",
      "</td></tr>\n",
      "\n",
      "\n",
      "<tr class=\"gift\" id=\"gift2\"><td>\n",
      "Russian Nesting Dolls\n",
      "</td><td>\n",
      "Hand-painted by trained monkeys, these exquisite dolls are priceless! And by \"priceless,\" we mean \"extremely expensive\"! <span class=\"excitingNote\">8 entire dolls per set! Octuple the presents!</span>\n",
      "</td><td>\n",
      "$10,000.52\n",
      "</td><td>\n",
      "<img src=\"../img/gifts/img2.jpg\"/>\n",
      "</td></tr>\n",
      "\n",
      "\n",
      "<tr class=\"gift\" id=\"gift3\"><td>\n",
      "Fish Painting\n",
      "</td><td>\n",
      "If something seems fishy about this painting, it's because it's a fish! <span class=\"excitingNote\">Also hand-painted by trained monkeys!</span>\n",
      "</td><td>\n",
      "$10,005.00\n",
      "</td><td>\n",
      "<img src=\"../img/gifts/img3.jpg\"/>\n",
      "</td></tr>\n",
      "\n",
      "\n",
      "<tr class=\"gift\" id=\"gift4\"><td>\n",
      "Dead Parrot\n",
      "</td><td>\n",
      "This is an ex-parrot! <span class=\"excitingNote\">Or maybe he's only resting?</span>\n",
      "</td><td>\n",
      "$0.50\n",
      "</td><td>\n",
      "<img src=\"../img/gifts/img4.jpg\"/>\n",
      "</td></tr>\n",
      "\n",
      "\n",
      "<tr class=\"gift\" id=\"gift5\"><td>\n",
      "Mystery Box\n",
      "</td><td>\n",
      "If you love suprises, this mystery box is for you! Do not place on light-colored surfaces. May cause oil staining. <span class=\"excitingNote\">Keep your friends guessing!</span>\n",
      "</td><td>\n",
      "$1.50\n",
      "</td><td>\n",
      "<img src=\"../img/gifts/img6.jpg\"/>\n",
      "</td></tr>\n",
      "\n",
      "\n"
     ]
    }
   ],
   "source": [
    "for sibling in bsObjgl.find('table', {'id': 'giftList'}).tr.next_siblings:\n",
    "    print(sibling)"
   ]
  },
  {
   "cell_type": "markdown",
   "metadata": {},
   "source": [
    "El output de este código trae todas las filas de productos de la tabla de productos, excepto la primera fila de título. ¿Por qué se salta la fila del título? Dos razones: primero, los objetos no pueden ser hermanos de si mismos. Cada vez que obtenga hermanos de un objeto, el objeto en sí no se incluirá en la lista. Segundo, esta función llama a los siguientes hermanos solamente. Si tuviéramos que seleccionar una fila en medio de la lista, por ejemplo, y llamar a `next_siblings` en ella, solo se devolverían los (siguientes) hermanos. Entonces, al seleccionar la fila del título y llamar a `next_siblings`, podemos seleccionar todas las filas de la tabla, sin seleccionar la fila del título.\n",
    "\n",
    "Alternativamente, podemos llamar a la función `previous_siblings` para traer a los hermanos anteriores.\n",
    "\n",
    "Finalmente las funciones `next_sibling` y `previous_sibling` funcionan igual a las que mencinamos recién pero solamente traen un hermano."
   ]
  },
  {
   "cell_type": "markdown",
   "metadata": {},
   "source": [
    "##### Accediendo al valor de los atributos:\n",
    "\n",
    "Podemos acceder al valor de los atributos. Veamos algunos ejemplos:"
   ]
  },
  {
   "cell_type": "code",
   "execution_count": 20,
   "metadata": {},
   "outputs": [
    {
     "data": {
      "text/plain": [
       "'giftList'"
      ]
     },
     "execution_count": 20,
     "metadata": {},
     "output_type": "execute_result"
    }
   ],
   "source": [
    "bsObjgl.table['id']"
   ]
  },
  {
   "cell_type": "code",
   "execution_count": 21,
   "metadata": {},
   "outputs": [
    {
     "data": {
      "text/plain": [
       "'gift1'"
      ]
     },
     "execution_count": 21,
     "metadata": {},
     "output_type": "execute_result"
    }
   ],
   "source": [
    "bsObjgl.find('tr', {'class':'gift'})['id']"
   ]
  },
  {
   "cell_type": "markdown",
   "metadata": {
    "colab_type": "text",
    "id": "jOLKsdmv5Yz1"
   },
   "source": [
    "## Obtención de una página"
   ]
  },
  {
   "cell_type": "code",
   "execution_count": 22,
   "metadata": {
    "colab": {},
    "colab_type": "code",
    "id": "XL9eH7t85Yz7"
   },
   "outputs": [],
   "source": [
    "# En este ejemplo, trabajaremos con el portal del diario La Prensa\n",
    "url_lp = 'http://www.laprensa.com.ar/'\n",
    "resp_lp = requests.get(url_lp)"
   ]
  },
  {
   "cell_type": "code",
   "execution_count": 23,
   "metadata": {
    "colab": {
     "base_uri": "https://localhost:8080/",
     "height": 34
    },
    "colab_type": "code",
    "executionInfo": {
     "elapsed": 668,
     "status": "ok",
     "timestamp": 1552746793959,
     "user": {
      "displayName": "Javy Belmonte",
      "photoUrl": "https://lh5.googleusercontent.com/-1jrKAsbSTUc/AAAAAAAAAAI/AAAAAAAACLM/cn0qo6TW7mg/s64/photo.jpg",
      "userId": "10585177979952319233"
     },
     "user_tz": 180
    },
    "id": "oTPTT0Sz5Y0B",
    "outputId": "74b7ba94-40f5-4f67-a03f-a02cf459a02e"
   },
   "outputs": [
    {
     "data": {
      "text/plain": [
       "True"
      ]
     },
     "execution_count": 23,
     "metadata": {},
     "output_type": "execute_result"
    }
   ],
   "source": [
    "# Corroboramos que el pedido se haya hecho correctamente\n",
    "resp_lp.ok"
   ]
  },
  {
   "cell_type": "code",
   "execution_count": 24,
   "metadata": {
    "colab": {
     "base_uri": "https://localhost:8080/",
     "height": 34
    },
    "colab_type": "code",
    "executionInfo": {
     "elapsed": 568,
     "status": "ok",
     "timestamp": 1552746808358,
     "user": {
      "displayName": "Javy Belmonte",
      "photoUrl": "https://lh5.googleusercontent.com/-1jrKAsbSTUc/AAAAAAAAAAI/AAAAAAAACLM/cn0qo6TW7mg/s64/photo.jpg",
      "userId": "10585177979952319233"
     },
     "user_tz": 180
    },
    "id": "zo_W_qo65Y0F",
    "outputId": "c4d60f33-8a50-4ee9-9be1-4f0d3442e4c1"
   },
   "outputs": [
    {
     "data": {
      "text/plain": [
       "200"
      ]
     },
     "execution_count": 24,
     "metadata": {},
     "output_type": "execute_result"
    }
   ],
   "source": [
    "# Verificamos el estado de la respuesta\n",
    "resp_lp.status_code"
   ]
  },
  {
   "cell_type": "markdown",
   "metadata": {
    "colab_type": "text",
    "id": "m9VgPxzD5Y0I"
   },
   "source": [
    "![title](HTTP_STATUS_CODE.jpg)"
   ]
  },
  {
   "cell_type": "code",
   "execution_count": 25,
   "metadata": {
    "colab": {
     "base_uri": "https://localhost:8080/",
     "height": 34
    },
    "colab_type": "code",
    "executionInfo": {
     "elapsed": 686,
     "status": "ok",
     "timestamp": 1552746820636,
     "user": {
      "displayName": "Javy Belmonte",
      "photoUrl": "https://lh5.googleusercontent.com/-1jrKAsbSTUc/AAAAAAAAAAI/AAAAAAAACLM/cn0qo6TW7mg/s64/photo.jpg",
      "userId": "10585177979952319233"
     },
     "user_tz": 180
    },
    "id": "XKQV45Z15Y0J",
    "outputId": "b904fa10-705f-4af9-b14c-2f211fde3414"
   },
   "outputs": [
    {
     "data": {
      "text/plain": [
       "'utf-8'"
      ]
     },
     "execution_count": 25,
     "metadata": {},
     "output_type": "execute_result"
    }
   ],
   "source": [
    "# Chequeamos el encoding de la respuesta\n",
    "resp_lp.encoding"
   ]
  },
  {
   "cell_type": "code",
   "execution_count": 26,
   "metadata": {
    "colab": {},
    "colab_type": "code",
    "id": "uhWOWH0p5Y0M"
   },
   "outputs": [
    {
     "data": {
      "text/plain": [
       "datetime.timedelta(0, 0, 818663)"
      ]
     },
     "execution_count": 26,
     "metadata": {},
     "output_type": "execute_result"
    }
   ],
   "source": [
    "# Consultamos el tiempo de demora entre el pedido y la respuesta\n",
    "resp_lp.elapsed"
   ]
  },
  {
   "cell_type": "code",
   "execution_count": 27,
   "metadata": {
    "colab": {},
    "colab_type": "code",
    "id": "YTijLKe35Y0P"
   },
   "outputs": [
    {
     "data": {
      "text/plain": [
       "{'Cache-Control': 'private, no-store', 'Pragma': 'no-cache', 'Content-Type': 'text/html; charset=utf-8', 'Content-Encoding': 'gzip', 'Expires': 'Mon, 02 Jul 2018 14:36:14 GMT', 'Vary': 'Accept-Encoding', 'Server': 'Microsoft-IIS/8.5', 'Set-Cookie': 'ASP.NET_SessionId=jp3vfuaimm50ysffzpeawkdu; path=/; HttpOnly', 'X-AspNet-Version': '4.0.30319', 'Date': 'Tue, 02 Jul 2019 14:36:13 GMT', 'Content-Length': '16055'}"
      ]
     },
     "execution_count": 27,
     "metadata": {},
     "output_type": "execute_result"
    }
   ],
   "source": [
    "# Inspeccionamos los headers\n",
    "resp_lp.headers"
   ]
  },
  {
   "cell_type": "markdown",
   "metadata": {
    "colab_type": "text",
    "id": "AU0EcM5p5Y0t"
   },
   "source": [
    "### Algunos elementos importantes enviados en la petición"
   ]
  },
  {
   "cell_type": "code",
   "execution_count": 28,
   "metadata": {
    "colab": {},
    "colab_type": "code",
    "id": "TlGNaEsu5Y01"
   },
   "outputs": [
    {
     "data": {
      "text/plain": [
       "'http://www.laprensa.com.ar/'"
      ]
     },
     "execution_count": 28,
     "metadata": {},
     "output_type": "execute_result"
    }
   ],
   "source": [
    "resp_lp.request.url"
   ]
  },
  {
   "cell_type": "code",
   "execution_count": 29,
   "metadata": {
    "colab": {},
    "colab_type": "code",
    "id": "PQcLYXTx5Y1W"
   },
   "outputs": [
    {
     "data": {
      "text/plain": [
       "{'User-Agent': 'python-requests/2.18.4', 'Accept-Encoding': 'gzip, deflate', 'Accept': '*/*', 'Connection': 'keep-alive'}"
      ]
     },
     "execution_count": 29,
     "metadata": {},
     "output_type": "execute_result"
    }
   ],
   "source": [
    "resp_lp.request.headers"
   ]
  },
  {
   "cell_type": "markdown",
   "metadata": {
    "colab_type": "text",
    "id": "P1yv92r_5Y1o"
   },
   "source": [
    "### Modificando headers"
   ]
  },
  {
   "cell_type": "code",
   "execution_count": 30,
   "metadata": {
    "colab": {},
    "colab_type": "code",
    "id": "Q8EUuh2499MY"
   },
   "outputs": [],
   "source": [
    "# Definimos un diccionario para setear los headers\n",
    "head = {'user-agent': 'Mozilla/5.0 (X11; Linux x86_64) AppleWebKit/537.36 (KHTML, like Gecko) '\n",
    "        'Chrome/59.0.3071.115 Safari/537.36'}\n",
    "\n",
    "# Volvemos a hacer el pedido cambiando los headers\n",
    "resp_lp = requests.get(url_lp, headers = head)"
   ]
  },
  {
   "cell_type": "code",
   "execution_count": 31,
   "metadata": {
    "colab": {},
    "colab_type": "code",
    "id": "guNNpEZI5Y2A"
   },
   "outputs": [
    {
     "data": {
      "text/plain": [
       "{'user-agent': 'Mozilla/5.0 (X11; Linux x86_64) AppleWebKit/537.36 (KHTML, like Gecko) Chrome/59.0.3071.115 Safari/537.36', 'Accept-Encoding': 'gzip, deflate', 'Accept': '*/*', 'Connection': 'keep-alive'}"
      ]
     },
     "execution_count": 31,
     "metadata": {},
     "output_type": "execute_result"
    }
   ],
   "source": [
    "# Volvemos a examinar los headers de la request\n",
    "resp_lp.request.headers"
   ]
  },
  {
   "cell_type": "code",
   "execution_count": 32,
   "metadata": {
    "colab": {},
    "colab_type": "code",
    "id": "U2Tos3-95Y2S"
   },
   "outputs": [
    {
     "data": {
      "text/plain": [
       "{'user-agent': 'Mozilla/5.0 (X11; Linux x86_64) AppleWebKit/537.36 (KHTML, like Gecko) Chrome/59.0.3071.115 Safari/537.36',\n",
       " 'Accept': 'text/plain, text/html'}"
      ]
     },
     "execution_count": 32,
     "metadata": {},
     "output_type": "execute_result"
    }
   ],
   "source": [
    "# Hacemos un update de los headers\n",
    "head.update({'Accept': 'text/plain, text/html'})\n",
    "head"
   ]
  },
  {
   "cell_type": "code",
   "execution_count": 33,
   "metadata": {
    "colab": {},
    "colab_type": "code",
    "id": "MM05WdGz99Mh"
   },
   "outputs": [
    {
     "data": {
      "text/plain": [
       "{'user-agent': 'Mozilla/5.0 (X11; Linux x86_64) AppleWebKit/537.36 (KHTML, like Gecko) Chrome/59.0.3071.115 Safari/537.36', 'Accept-Encoding': 'gzip, deflate', 'Accept': 'text/plain, text/html', 'Connection': 'keep-alive'}"
      ]
     },
     "execution_count": 33,
     "metadata": {},
     "output_type": "execute_result"
    }
   ],
   "source": [
    "# Chequeamos que se hayan modificado los headers\n",
    "resp_lp = requests.get(url_lp, headers = head)\n",
    "resp_lp.request.headers"
   ]
  },
  {
   "cell_type": "markdown",
   "metadata": {
    "colab_type": "text",
    "id": "eGieuuJP5Y2t"
   },
   "source": [
    "### Verificamos qué cosas admite la página que queremos consultar"
   ]
  },
  {
   "cell_type": "code",
   "execution_count": 34,
   "metadata": {
    "colab": {},
    "colab_type": "code",
    "id": "2uz-c0uR5Y21"
   },
   "outputs": [
    {
     "name": "stdout",
     "output_type": "stream",
     "text": [
      "##ACAP version=1.0\r\n",
      "\r\n",
      "User-Agent: *\r\n",
      "Disallow: /cgi-bin\r\n",
      "Disallow: /biblioteca\r\n",
      "Allow: /\r\n",
      "\r\n",
      "ACAP-crawler: *\r\n",
      "# User-Agent: *\r\n",
      "ACAP-disallow-crawl: /cgi-bin\r\n",
      "# Disallow: /cgi-bin\r\n",
      "ACAP-disallow-crawl: /biblioteca\r\n",
      "# Disallow: /biblioteca\r\n",
      "ACAP-allow-crawl: /\r\n",
      "# Allow: /\r\n",
      "\r\n",
      "\n"
     ]
    }
   ],
   "source": [
    "# robots.txt contiene información sobre qué cosas se les permite a los bots\n",
    "# y qué no en las distintas páginas web \n",
    "\n",
    "# https://www.promptcloud.com/blog/how-to-read-and-respect-robots-file/\n",
    "\n",
    "robots = url_lp + 'robots.txt'\n",
    "print(requests.get(robots).text)"
   ]
  },
  {
   "cell_type": "markdown",
   "metadata": {
    "colab_type": "text",
    "id": "Xp1t3jcG99Ml"
   },
   "source": [
    "### Los que nos interesan particularmente son resp.text y resp.content, que guardan el contenido de la página como string o bytes, respectivamente"
   ]
  },
  {
   "cell_type": "markdown",
   "metadata": {
    "colab_type": "text",
    "id": "2kEfscO999MU"
   },
   "source": [
    "Las Regular Expressions son una forma muy flexible de realizar búsquedas dentro de textos, por lo que suele ser muy útil para extraer información de páginas web."
   ]
  },
  {
   "cell_type": "code",
   "execution_count": 35,
   "metadata": {
    "colab": {},
    "colab_type": "code",
    "id": "FYqbZ_9h5Y3X"
   },
   "outputs": [],
   "source": [
    "# Importamos la librería re (por Regular Expressions)\n",
    "import re"
   ]
  },
  {
   "cell_type": "markdown",
   "metadata": {
    "colab_type": "text",
    "id": "CCWhmSyP99Mm"
   },
   "source": [
    "Para utilizar Regex en Python, usamos el módulo `re`. Las siguientes funciones nos proporcionan la mayor parte de la funcionalidad necesaria:\n",
    "\n",
    "    - re.findall(pattern, string)\n",
    "    Busca dentro de string utilizando pattern, devolviendo una lista con todos los resultados.\n",
    "    - re.search(pattern, string)\n",
    "    Busca la primera coincidencia con pattern dentro de string.\n",
    "    - re.sub(pattern, replace, string)\n",
    "    Reemplaza lo que coincida con pattern por replace, dentro de string."
   ]
  },
  {
   "cell_type": "code",
   "execution_count": 36,
   "metadata": {
    "colab": {},
    "colab_type": "code",
    "id": "1Nw1yEtU5Y31"
   },
   "outputs": [
    {
     "data": {
      "text/plain": [
       "'\\r\\n\\r\\n\\r\\n<!DOCTYPE html>\\r\\n<html>\\r\\n<head>\\r\\n<meta http-equiv=\"content-type\" content=\"text/html; charset=utf-8\" />\\r\\n<meta property=\"og:url\" content=\"http://www.laprensa.com.ar/default.aspx\" />\\r\\n<meta property=\"og:title\" content=\"La Prensa\" />\\r\\n<meta property=\"og:description\" content=\"laprensa.com.ar - Información actualizada diariamente. Noticias de Argentina y del mundo - ¡Ingresá ya!\" />\\r\\n<title>La Prensa</title>\\r\\n<meta name=\"description\" content=\"laprensa.com.ar - Información actualizada diariamente. Noticias de Argentina y del mundo - ¡Ingresá ya!\" />\\r\\n<meta name=\"keywords\" content=\"la prensa, diario, argentina, noticias, información, política, economía, finanzas, deportes, futbol, tenis, rugby, basquetbol, voleibol, formula 1, cultura, espectáculos, cine, teatro, juegos, internacional, exterior, ciencia, ultimas noticias\" />\\r\\n<meta name=\"copyright\" content=\"2019 La Prensa\" />\\r\\n<meta name=\"generator\" content=\"Civinext Groupware\">\\r\\n<script language=\"javascript\" type=\"text/javascript\" src=\"http://www.laprensa.com.ar/js/jquery.min.js?&v=4.0.7066.16411\"></script>\\r\\n<script language=\"javascript\" type=\"text/javascript\" src=\"http://www.laprensa.com.ar/ResourcesManager.aspx?Resource=Functions.js&v=4.0.7066.16411\"></script>\\r\\n<script language=\"javascript\" type=\"text/javascript\">\\r\\n<!--\\r\\nvar __CGW_Page=34849;__CGW_Note=0;__CGW_Section=0;__CGW_Auth=false;__CGW_PageBase=32;__CGW_Product=0;__CGW_Event=0;__CGW_Categories=null;__CGW_Ok=0;__CGW_PageName=\\'Home Principal\\';\\r\\n//-->\\r\\n</script>\\r\\n\\r\\n\\r\\n<meta name=\"viewport\" content=\"width=device-width, initial-scale=1, maximum-scale=1\">\\r\\n<link rel=\"shortcut icon\" href=\"/images/favicon.ico\">\\r\\n<!--[if lt IE 9]>\\r\\n<script type=\"text/javascript\" src=\"js/html5.js\"></script>\\r\\n<link rel=\"stylesheet\" href=\"style/ie.css\" type=\"text/css\" media=\"all\">\\r\\n<![endif]-->\\r\\n<link rel=\"stylesheet\" href=\"/style/font-awesome.min.css\">\\r\\n<link rel=\"stylesheet\" href=\"/style/base/jquery-ui-1.9.2.custom.min.css\">\\r\\n<link rel=\"stylesheet\" href=\"/style/style.css?v=1\" type=\"text/css\" media=\"all\">\\r\\n<link rel=\"stylesheet\" href=\"/style/responsive.css\" type=\"text/css\" media=\"all\">\\r\\n\\r\\n\\r\\n\\r\\n</head>\\r\\n<body style=\"cursor: auto;\" class=\"pattern-5 auto\">\\r\\n<!--[if lt IE 8]>\\r\\n<div class=\"sc_infobox sc_infobox_style_error\">\\r\\nIt looks like you\\'re using an old version of Internet Explorer. For the best web site experience, please <a href=\"http://windows.microsoft.com/en-us/internet-explorer/ie-10-worldwide-languages\">update your browser</a> or learn how to <a href=\"http://browsehappy.com\">browse happy</a>!\\r\\n</div>\\r\\n<![endif]-->\\r\\n<div id=\"fb-root\"></div>\\r\\n<script>(function(d, s, id) {\\r\\n  var js, fjs = d.getElementsByTagName(s)[0];\\r\\n  if (d.getElementById(id)) return;\\r\\n  js = d.createElement(s); js.id = id;\\r\\n  js.src = \"//connect.facebook.net/es_LA/sdk.js#xfbml=1&version=v2.8&appId=1875217336052816\";\\r\\n  fjs.parentNode.insertBefore(js, fjs);\\r\\n}(document, \\'script\\', \\'facebook-jssdk\\'));</script>\\r\\n<div id=\"page\"> \\r\\n\\t<!-- header begin -->\\r\\n<header role=\"banner\" class=\"site-header\" id=\"header\">\\r\\n<div>\\r\\n  <section class=\"section3\">\\r\\n\\t<div class=\"section-wrap clearboth\">\\r\\n\\t\\t<div class=\"date_top\">Martes, 02 de julio de 2019</div>\\r\\n\\t\\t<div class=\"name-and-slogan\">\\r\\n\\t\\t\\t<h1 class=\"site-title\"><a rel=\"home\" title=\"Inicio\" href=\"/\"> <img alt=\"logo\" src=\"/images/logo.png?v=1\"> </a></h1>\\r\\n\\t\\t</div>\\r\\n\\t\\t<div class=\"inner\">\\r\\n\\t\\t\\t<div class=\"block_social_top\">\\r\\n\\t\\t\\t\\t<div class=\"icons-label\">Seguinos en:</div>\\r\\n\\t\\t\\t\\t<ul>\\r\\n\\t\\t\\t\\t\\t<li><a href=\"https://twitter.com/LaPrensaAr\" title=\"Twitter\" target=\"_blank\" class=\"tw\"><i class=\"fa fa-twitter\" aria-hidden=\"true\"></i></a></li>\\r\\n\\t\\t\\t\\t\\t<li><a href=\"https://www.facebook.com//\" title=\"Facebook\" target=\"_blank\" class=\"fb\"><i class=\"fa fa-facebook\" aria-hidden=\"true\"></i></a></li>\\r\\n\\t\\t\\t\\t\\t<li><a href=\"https://www.youtube.com/channel/UCjFzzB-LuceYEMHhOc8PP7w\" title=\"YouTube\" target=\"_blank\" class=\"yt\"><i class=\"fa fa-youtube\" aria-hidden=\"true\"></i></a></li>\\r\\n\\t\\t\\t\\t\\t<li><a href=\"https://www.instagram.com/\" title=\"Instagram\" target=\"_blank\" class=\"in\"><i class=\"fa fa-instagram\" aria-hidden=\"true\"></i></a></li>\\r\\n\\t\\t\\t\\t</ul>\\r\\n\\t\\t\\t</div>\\r\\n\\t\\t\\t<div class=\"form_search\">\\r\\n\\t\\t\\t\\t<form role=\"search\" class=\"searchform\" id=\"searchform\" method=\"get\" action=\"search.aspx\">\\r\\n\\t\\t\\t\\t\\t<input type=\"search\" placeholder=\"Buscar...\" id=\"search\" name=\"allfields\" class=\"field\">\\r\\n\\t\\t\\t\\t\\t<input type=\"submit\" value=\"Search\" id=\"submit\" class=\"submit\">\\r\\n\\t\\t\\t\\t</form>\\r\\n\\t\\t\\t</div>\\r\\n\\t\\t</div>\\r\\n\\t</div>\\r\\n</section>\\r\\n<div class=\"headStyleMenu\">\\r\\n\\t<section class=\"section-nav\">\\r\\n\\t\\t<nav role=\"navigation\" class=\"navigation-main\">\\r\\n\\t\\t\\t<ul class=\"clearboth mainHeaderMenu\">\\r\\n\\t\\t\\t\\t<li class=\"home\"><a href=\"/\"></a></li>\\r\\n\\t\\t\\t\\t<li><a href=\"politica.aspx\">Política</a></li>\\r\\n\\t\\t\\t\\t<li class=\"dropdown\"><a href=\"javascript:;\">Economía</a>\\r\\n\\t\\t\\t\\t\\t<ul>\\r\\n\\t\\t\\t\\t\\t\\t<li><a href=\"economia.aspx\">Sección Economía</a></li>\\r\\n\\t\\t\\t\\t\\t\\t<li><a href=\"suplemento-economia.aspx\">Suplemento Económico</a></li>\\r\\n\\t\\t\\t\\t\\t\\t<li><a href=\"suplemento-campo.aspx\">Campo</a></li>\\r\\n\\t\\t\\t\\t\\t</ul>\\r\\n\\t\\t\\t\\t</li>\\r\\n\\t\\t\\t\\t<li class=\"dropdown\"><a href=\"javascript:;\">Opinión</a>\\r\\n\\t\\t\\t\\t\\t<ul>\\r\\n\\t\\t\\t\\t\\t\\t<li><a href=\"opinion.aspx\">Opinión</a></li>\\r\\n\\t\\t\\t\\t\\t\\t<li><a href=\"carta-de-lectores.aspx\">Carta de Lectores</a></li>\\r\\n\\t\\t\\t\\t\\t</ul>\\r\\n\\t\\t\\t\\t</li>\\r\\n\\t\\t\\t\\t<li><a href=\"el-mundo.aspx\">El mundo</a></li>\\r\\n\\t\\t\\t\\t<li><a href=\"actualidad.aspx\">Actualidad</a></li>\\r\\n\\t\\t\\t\\t<li><a href=\"deportes.aspx\">Deportes</a></li>\\r\\n\\t\\t\\t\\t<li><a href=\"espectaculos.aspx\">Espectáculos</a></li>\\r\\n\\t\\t\\t\\t<li><a href=\"suplemento-cultura.aspx\">Cultura</a></li>\\r\\n\\t\\t\\t\\t<li><a href=\"suplemento-ciencia-y-salud.aspx\">Ciencia y Salud</a></li>\\r\\n\\t\\t\\t\\t<li><a href=\"sugerencias-del-chef.aspx\">Chef</a></li>\\r\\n\\t\\t\\t</ul>\\r\\n\\t\\t</nav>\\r\\n\\t</section>\\r\\n\\t<!-- /#site-navigation --> \\r\\n\\t<!-- mobile menu -->\\r\\n\\t<section class=\"section-navMobile\">\\r\\n\\t\\t<div class=\"mobileMenuSelect\"><i class=\"material-icons\">&#xE5D2;</i></div>\\r\\n\\t\\t<ul class=\"clearboth mobileHeaderMenuDrop\">\\r\\n\\t\\t\\t<li><a href=\"/\">Inicio</a></li>\\r\\n\\t\\t\\t<li><a href=\"politica.aspx\">Política</a></li>\\r\\n\\t\\t\\t<li><a href=\"javascript:;\">Economía</a>\\r\\n\\t\\t\\t\\t<ul>\\r\\n\\t\\t\\t\\t\\t<li><a href=\"economia.aspx\">Sección Economía</a></li>\\r\\n\\t\\t\\t\\t\\t<li><a href=\"suplemento-economia.aspx\">Suplemento Económico</a></li>\\r\\n\\t\\t\\t\\t\\t<li><a href=\"suplemento-campo.aspx\">Campo</a></li>\\r\\n\\t\\t\\t\\t</ul>\\r\\n\\t\\t\\t</li>\\r\\n\\t\\t\\t<li><a href=\"javascript:;\">Opinión</a>\\r\\n\\t\\t\\t\\t<ul>\\r\\n\\t\\t\\t\\t\\t<li><a href=\"opinion.aspx\">Opinión</a></li>\\r\\n\\t\\t\\t\\t\\t<li><a href=\"carta-de-lectores.aspx\">Carta de Lectores</a></li>\\r\\n\\t\\t\\t\\t</ul>\\r\\n\\t\\t\\t</li>\\r\\n\\t\\t\\t<li><a href=\"el-mundo.aspx\">El mundo</a></li>\\r\\n\\t\\t\\t<li><a href=\"actualidad.aspx\">Actualidad</a></li>\\r\\n\\t\\t\\t<li><a href=\"deportes.aspx\">Deportes</a></li>\\r\\n\\t\\t\\t<li><a href=\"espectaculos.aspx\">Espectáculos</a></li>\\r\\n\\t\\t\\t<li><a href=\"suplemento-cultura.aspx\">Cultura</a></li>\\r\\n\\t\\t\\t<li><a href=\"suplemento-ciencia-y-salud.aspx\">Ciencia y Salud</a></li>\\r\\n\\t\\t\\t<li><a href=\"sugerencias-del-chef.aspx\">Chef</a></li>\\r\\n\\t\\t</ul>\\r\\n\\t</section>\\r\\n\\t<!-- /mobile menu --> \\r\\n  </div>\\r\\n</div>\\r\\n</header>\\r\\n<!-- / header  -->\\r\\n\\t<div class=\"right_sidebar\" id=\"main\">\\r\\n\\t\\t<div class=\"inner\">\\r\\n\\t\\t\\t<div class=\"general_content clearboth\">\\r\\n\\t\\t\\t\\t\\r\\n\\t\\t\\t\\t<div class=\"main_content\">\\r\\n\\t\\t\\t\\t\\t<div class=\"content-area\" id=\"primary\">\\r\\n\\t\\t\\t\\t\\t\\t<div role=\"main\" class=\"site-content\" id=\"content\"> \\r\\n\\t\\t\\t\\t\\t\\t\\t\\r\\n<div class=\"block_home_slider\" note=\"478201\">\\r\\n\\t<div class=\"post-image\"><a href=\"http://www.laprensa.com.ar/478201-Macri-sobre-el-acuerdo-con-la-UE-Muchas-empresas-se-van-a-animar-a-invertir-en-el-pais.note.aspx\" target=\"_self\" onclick=\"javascript:if(typeof(_gaq)!=\\'undefined\\'){_gaq.push([\\'_trackEvent\\', \\'Notas\\', \\'Política\\', \\'Macri sobre el acuerdo con la UE: \\\\&quot;Muchas empresas se van a animar a invertir en el país\\\\&quot;\\'])};\"><img width=\"620\" height=\"310\" src=\"http://www.laprensa.com.ar/Multimedios/Imgs/105534_620.jpg?v=1\" alt=\"Macri sobre el acuerdo con la UE: &quot;Muchas empresas se van a animar a invertir en el país&quot;\"></a></div>\\r\\n\\t<div class=\"post-content\">\\r\\n\\t\\t<div class=\"title\"><a href=\"http://www.laprensa.com.ar/478201-Macri-sobre-el-acuerdo-con-la-UE-Muchas-empresas-se-van-a-animar-a-invertir-en-el-pais.note.aspx\" target=\"_self\" onclick=\"javascript:if(typeof(_gaq)!=\\'undefined\\'){_gaq.push([\\'_trackEvent\\', \\'Notas\\', \\'Política\\', \\'Macri sobre el acuerdo con la UE: \\\\&quot;Muchas empresas se van a animar a invertir en el país\\\\&quot;\\'])};\">Macri sobre el acuerdo con la UE: \"Muchas empresas se van a animar a invertir en el país\"</a></div>\\r\\n\\t</div>\\r\\n\\t\\r\\n\\t<div class=\"post-body\">El Presidente recorrió la obra de la autopista en la ruta 3, que une los partidos bonaerenses de San Miguel del Monte y Las Flores, acompañado por la gobernadora María Eugenia Vidal.</div>\\r\\n\\t\\r\\n</div>\\r\\n\\r\\n\\r\\n\\t\\t\\t\\t\\t\\t<li comptempid=\"369\" compid=\"1\" class=\"CGW_NewItemDragged ui-draggable\" style=\"display: none; z-index: 1000 !important;\"><i class=\"fa fa-arrows btnDrag\" title=\"Mover\"></i>Nota Bomba<i class=\"fa fa-newspaper-o btnIcon\"></i></li></div>\\r\\n\\t\\t\\t\\t\\t\\t<div role=\"main\" class=\"site-content\" id=\"content2\"> \\r\\n\\t\\t\\t\\t\\t\\t\\t<div class=\"two_columns_news clearboth\"> \\r\\n\\t\\t\\t\\t\\t\\t\\t\\t\\r\\n<div class=\"home_category_news_small clearboth\" note=\"478195\">\\r\\n\\t<div class=\"items-wrap\">\\r\\n\\t\\t<div class=\"block_home_post first-post\">\\r\\n\\t\\t\\t<div class=\"post-image\"><a href=\"http://www.laprensa.com.ar/478195-Cristina-Kirchner-viajo-a-Cuba-para-visitar-a-su-hija-Florencia.note.aspx\" class=\"img-link img-wrap w_hover\" target=\"_self\" onclick=\"javascript:if(typeof(_gaq)!=\\'undefined\\'){_gaq.push([\\'_trackEvent\\', \\'Notas\\', \\'Política\\', \\'Cristina Kirchner viajó a Cuba para visitar a su hija Florencia\\'])};\"><img width=\"300\" height=\"150\" src=\"http://www.laprensa.com.ar/Multimedios/Imgs/82710_300.jpg?v=21\" alt=\"Cristina y Florencia Kirchner.\"></a></div>\\r\\n\\t\\t\\t<div class=\"post-content\">\\r\\n\\t\\t\\t\\t<div class=\"title\"><a href=\"http://www.laprensa.com.ar/478195-Cristina-Kirchner-viajo-a-Cuba-para-visitar-a-su-hija-Florencia.note.aspx\" target=\"_self\" onclick=\"javascript:if(typeof(_gaq)!=\\'undefined\\'){_gaq.push([\\'_trackEvent\\', \\'Notas\\', \\'Política\\', \\'Cristina Kirchner viajó a Cuba para visitar a su hija Florencia\\'])};\">Cristina Kirchner viajó a Cuba para visitar a su hija Florencia</a></div>\\r\\n\\t\\t\\t</div>\\r\\n\\t\\t\\t\\r\\n\\t\\t\\t<div class=\"post-body\">La ex presidenta y senadora fue autorizada a viajar entre el 2 y el 10 julio por el Tribunal Oral Federal (TOF) 2, que la juzga por el supuesto direccionamiento de la obra pública vial en Santa Cuz durante su gestión.</div>\\r\\n\\t\\t\\t\\r\\n\\t\\t</div>\\r\\n\\t</div>\\r\\n</div>\\r\\n\\r\\n\\r\\n<div class=\"home_category_news_small clearboth\" note=\"478202\">\\r\\n\\t<div class=\"items-wrap\">\\r\\n\\t\\t<div class=\"block_home_post first-post\">\\r\\n\\t\\t\\t<div class=\"post-image\"><a href=\"http://www.laprensa.com.ar/478202-Vidal-el-acuerdo-con-la-UE-generara-desarrollo-mas-trabajo-y-mas-dignidad.note.aspx\" class=\"img-link img-wrap w_hover\" target=\"_self\" onclick=\"javascript:if(typeof(_gaq)!=\\'undefined\\'){_gaq.push([\\'_trackEvent\\', \\'Notas\\', \\'Política\\', \\'Vidal: el acuerdo con la UE \\\\&quot;generará desarrollo, más trabajo y más dignidad\\\\&quot;\\'])};\"><img width=\"300\" height=\"150\" src=\"http://www.laprensa.com.ar/Multimedios/Imgs/105535_300.jpg?v=2\" alt=\"María Eugenia Vidal.\"></a></div>\\r\\n\\t\\t\\t<div class=\"post-content\">\\r\\n\\t\\t\\t\\t<div class=\"title\"><a href=\"http://www.laprensa.com.ar/478202-Vidal-el-acuerdo-con-la-UE-generara-desarrollo-mas-trabajo-y-mas-dignidad.note.aspx\" target=\"_self\" onclick=\"javascript:if(typeof(_gaq)!=\\'undefined\\'){_gaq.push([\\'_trackEvent\\', \\'Notas\\', \\'Política\\', \\'Vidal: el acuerdo con la UE \\\\&quot;generará desarrollo, más trabajo y más dignidad\\\\&quot;\\'])};\">Vidal: el acuerdo con la UE \"generará desarrollo, más trabajo y más dignidad\"</a></div>\\r\\n\\t\\t\\t</div>\\r\\n\\t\\t\\t\\r\\n\\t\\t\\t<div class=\"post-body\">La gobernadora precisó que a partir del acuerdo con la Unión Europea, \"miles de toneladas de carne vacuna, porcina y aviar se exportarán\" al Viejo Continente. </div>\\r\\n\\t\\t\\t\\r\\n\\t\\t</div>\\r\\n\\t</div>\\r\\n</div>\\r\\n\\r\\n\\r\\n\\t\\t\\t\\t\\t\\t\\t\\t\\r\\n\\t\\t\\t\\t\\t\\t\\t</div>\\r\\n\\t\\t\\t\\t\\t\\t</div>\\r\\n\\t\\t\\t\\t\\t\\t<div role=\"main\" class=\"site-content\" id=\"content3\">\\r\\n\\t\\t\\t\\t\\t\\t\\t\\r\\n\\t\\t\\t\\t\\t\\t\\t<div class=\"recent_news_home clearboth no-border\">\\r\\n\\t\\t\\t\\t\\t\\t\\t\\t\\r\\n\\t\\t\\t\\t\\t\\t\\t\\t\\r\\n<div class=\"block_home_post\" note=\"478078\">\\r\\n\\t<div class=\"post-image\"><a href=\"http://www.laprensa.com.ar/478078-La-lenta-recuperacion-economica-no-despeja-las-dudas-politicas.note.aspx\" class=\"img-link img-wrap w_hover\" target=\"_self\" onclick=\"javascript:if(typeof(_gaq)!=\\'undefined\\'){_gaq.push([\\'_trackEvent\\', \\'Notas\\', \\'Opinión\\', \\'La lenta recuperación económica no despeja las dudas políticas\\'])};\"><img width=\"300\" height=\"150\" src=\"http://www.laprensa.com.ar/Multimedios/Imgs/105458_300.jpg?v=3\" alt=\"La lenta recuperación económica no despeja las dudas políticas\"></a></div>\\r\\n\\t<div class=\"post-content\">\\r\\n\\t\\t<div class=\"title\"><a href=\"http://www.laprensa.com.ar/478078-La-lenta-recuperacion-economica-no-despeja-las-dudas-politicas.note.aspx\" target=\"_self\" onclick=\"javascript:if(typeof(_gaq)!=\\'undefined\\'){_gaq.push([\\'_trackEvent\\', \\'Notas\\', \\'Opinión\\', \\'La lenta recuperación económica no despeja las dudas políticas\\'])};\">La lenta recuperación económica no despeja las dudas políticas</a></div>\\r\\n\\t</div>\\r\\n\\t<div class=\"post-info\"><div class=\"post_author\"><em>Por </em>Sergio Crivelli</div></div>\\r\\n\\t\\r\\n</div>\\r\\n\\r\\n\\r\\n<div class=\"block_home_post\" note=\"478138\">\\r\\n\\t<div class=\"post-image\"><a href=\"http://www.laprensa.com.ar/478138-La-deslealtad-a-la-Constitucion.note.aspx\" class=\"img-link img-wrap w_hover\" target=\"_self\" onclick=\"javascript:if(typeof(_gaq)!=\\'undefined\\'){_gaq.push([\\'_trackEvent\\', \\'Notas\\', \\'Opinión\\', \\'La deslealtad a la Constitución\\'])};\"><img width=\"300\" height=\"150\" src=\"http://www.laprensa.com.ar/Multimedios/Imgs/105479_300.jpg?v=4\" alt=\"Aerolíneas como otras empresas estatales o dependientes de él, disimula con oportunidades prebendarías y subsidios su ineficiencia y sus pérdidas.\"></a></div>\\r\\n\\t<div class=\"post-content\">\\r\\n\\t\\t<div class=\"title\"><a href=\"http://www.laprensa.com.ar/478138-La-deslealtad-a-la-Constitucion.note.aspx\" target=\"_self\" onclick=\"javascript:if(typeof(_gaq)!=\\'undefined\\'){_gaq.push([\\'_trackEvent\\', \\'Notas\\', \\'Opinión\\', \\'La deslealtad a la Constitución\\'])};\">La deslealtad a la Constitución</a></div>\\r\\n\\t</div>\\r\\n\\t<div class=\"post-info\"><div class=\"post_author\"><em>Por </em>Elena Valero Narváez</div></div>\\r\\n\\t\\r\\n</div>\\r\\n\\r\\n\\r\\n<div class=\"block_home_post\" note=\"478075\">\\r\\n\\t<div class=\"post-image\"><a href=\"http://www.laprensa.com.ar/478075-Los-impuestos-el-lastre-que-frena-la-iniciativa-exportadora.note.aspx\" class=\"img-link img-wrap w_hover\" target=\"_self\" onclick=\"javascript:if(typeof(_gaq)!=\\'undefined\\'){_gaq.push([\\'_trackEvent\\', \\'Notas\\', \\'Economía\\', \\'Los impuestos, el lastre que frena la iniciativa exportadora\\'])};\"><img width=\"300\" height=\"150\" src=\"http://www.laprensa.com.ar/Multimedios/Imgs/105418_300.jpg?v=5\" alt=\"Argentina es exportador de aluminio para la industria, pero el alto nivel de impuestos hace poco probable la venta de productos finales.\"></a></div>\\r\\n\\t<div class=\"post-content\">\\r\\n\\t\\t<div class=\"title\"><a href=\"http://www.laprensa.com.ar/478075-Los-impuestos-el-lastre-que-frena-la-iniciativa-exportadora.note.aspx\" target=\"_self\" onclick=\"javascript:if(typeof(_gaq)!=\\'undefined\\'){_gaq.push([\\'_trackEvent\\', \\'Notas\\', \\'Economía\\', \\'Los impuestos, el lastre que frena la iniciativa exportadora\\'])};\">Los impuestos, el lastre que frena la iniciativa exportadora\\r\\n\\r\\n</a></div>\\r\\n\\t</div>\\r\\n\\t<div class=\"post-info\"><div class=\"post_author\"><em>Por </em>Iris Speroni </div></div>\\r\\n\\t\\r\\n</div>\\r\\n\\r\\n\\r\\n\\t\\t\\t\\t\\t\\t\\t\\t\\r\\n\\t\\t\\t\\t\\t\\t\\t</div>\\r\\n\\t\\t\\t\\t\\t\\t</div>\\r\\n\\t\\t\\t\\t\\t\\t<div role=\"main\" class=\"site-content\" id=\"content4\"> \\r\\n\\t\\t\\t\\t\\t\\t\\t<div class=\"two_columns_news clearboth\"> \\r\\n\\t\\t\\t\\t\\t\\t\\t\\t\\r\\n<div class=\"home_category_news_small clearboth\" note=\"478200\">\\r\\n\\t<div class=\"items-wrap\">\\r\\n\\t\\t<div class=\"block_home_post first-post\">\\r\\n\\t\\t\\t<div class=\"post-image\"><a href=\"http://www.laprensa.com.ar/478200-Dictan-conciliacion-obligatoria-para-impedir-despidos-de-trabajadores-de-Zanella-en-San-Luis.note.aspx\" class=\"img-link img-wrap w_hover\" target=\"_self\" onclick=\"javascript:if(typeof(_gaq)!=\\'undefined\\'){_gaq.push([\\'_trackEvent\\', \\'Notas\\', \\'Política\\', \\'Dictan conciliación obligatoria para impedir despidos de trabajadores de Zanella en San Luis\\'])};\"><img width=\"300\" height=\"150\" src=\"http://www.laprensa.com.ar/Multimedios/Imgs/105533_300.jpg?v=3\" alt=\"Dictan conciliación obligatoria para impedir despidos de trabajadores de Zanella en San Luis\"></a></div>\\r\\n\\t\\t\\t<div class=\"post-content\">\\r\\n\\t\\t\\t\\t<div class=\"title\"><a href=\"http://www.laprensa.com.ar/478200-Dictan-conciliacion-obligatoria-para-impedir-despidos-de-trabajadores-de-Zanella-en-San-Luis.note.aspx\" target=\"_self\" onclick=\"javascript:if(typeof(_gaq)!=\\'undefined\\'){_gaq.push([\\'_trackEvent\\', \\'Notas\\', \\'Política\\', \\'Dictan conciliación obligatoria para impedir despidos de trabajadores de Zanella en San Luis\\'])};\">Dictan conciliación obligatoria para impedir despidos de trabajadores de Zanella en San Luis</a></div>\\r\\n\\t\\t\\t</div>\\r\\n\\t\\t\\t\\r\\n\\t\\t\\t<div class=\"post-body\">Los empleados mantendrán una audiencia con funcionarios de la Secretaría de Trabajo de la Nación para negociar la situación de los 44 despedidos de su planta puntana.</div>\\r\\n\\t\\t\\t\\r\\n\\t\\t</div>\\r\\n\\t</div>\\r\\n</div>\\r\\n\\r\\n\\r\\n<div class=\"home_category_news_small clearboth\" note=\"478199\">\\r\\n\\t<div class=\"items-wrap\">\\r\\n\\t\\t<div class=\"block_home_post first-post\">\\r\\n\\t\\t\\t<div class=\"post-image\"><a href=\"http://www.laprensa.com.ar/478199-Difunden-las-identidades-de-las-15-victimas-fatales-del-accidente-de-omnibus-en-Tucuman.note.aspx\" class=\"img-link img-wrap w_hover\" target=\"_self\" onclick=\"javascript:if(typeof(_gaq)!=\\'undefined\\'){_gaq.push([\\'_trackEvent\\', \\'Notas\\', \\'Actualidad\\', \\'Difunden las identidades de las 15 víctimas fatales del accidente de ómnibus en Tucumán\\'])};\"><img width=\"300\" height=\"150\" src=\"http://www.laprensa.com.ar/Multimedios/Imgs/105503_300.jpg?v=8\" alt=\"El hecho se produjo alrededor de las 10 en los cruces de las rutas 157 y 308 en el sur de la provincia de Tucumán.\"></a></div>\\r\\n\\t\\t\\t<div class=\"post-content\">\\r\\n\\t\\t\\t\\t<div class=\"title\"><a href=\"http://www.laprensa.com.ar/478199-Difunden-las-identidades-de-las-15-victimas-fatales-del-accidente-de-omnibus-en-Tucuman.note.aspx\" target=\"_self\" onclick=\"javascript:if(typeof(_gaq)!=\\'undefined\\'){_gaq.push([\\'_trackEvent\\', \\'Notas\\', \\'Actualidad\\', \\'Difunden las identidades de las 15 víctimas fatales del accidente de ómnibus en Tucumán\\'])};\">Difunden las identidades de las 15 víctimas fatales del accidente de ómnibus en Tucumán</a></div>\\r\\n\\t\\t\\t</div>\\r\\n\\t\\t\\t\\r\\n\\t\\t\\t<div class=\"post-body\">La justicia identificó los fallecidos de la tragedia en La Madrid.</div>\\r\\n\\t\\t\\t\\r\\n\\t\\t</div>\\r\\n\\t</div>\\r\\n</div>\\r\\n\\r\\n\\r\\n<div class=\"home_category_news_small clearboth\" note=\"478086\">\\r\\n\\t<div class=\"items-wrap\">\\r\\n\\t\\t<div class=\"block_home_post first-post\">\\r\\n\\t\\t\\t<div class=\"post-image\"><a href=\"http://www.laprensa.com.ar/478086-Viaje-en-el-tiempo-a-los-sabores-de-Italia.note.aspx\" class=\"img-link img-wrap w_hover\" target=\"_self\" onclick=\"javascript:if(typeof(_gaq)!=\\'undefined\\'){_gaq.push([\\'_trackEvent\\', \\'Notas\\', \\'Actualidad\\', \\'Viaje en el tiempo a los sabores de Italia\\'])};\"><img width=\"300\" height=\"150\" src=\"http://www.laprensa.com.ar/Multimedios/Imgs/105425_300.jpg?v=3\" alt=\"En la panadería de San Cristóbal se elaboran los panes como en los tiempos de antaño.\"></a></div>\\r\\n\\t\\t\\t<div class=\"post-content\">\\r\\n\\t\\t\\t\\t<div class=\"title\"><a href=\"http://www.laprensa.com.ar/478086-Viaje-en-el-tiempo-a-los-sabores-de-Italia.note.aspx\" target=\"_self\" onclick=\"javascript:if(typeof(_gaq)!=\\'undefined\\'){_gaq.push([\\'_trackEvent\\', \\'Notas\\', \\'Actualidad\\', \\'Viaje en el tiempo a los sabores de Italia\\'])};\">Viaje en el tiempo a los sabores de Italia</a></div>\\r\\n\\t\\t\\t</div>\\r\\n\\t\\t\\t<div class=\"post-info\"><div class=\"post_author\"><em>Por </em>Sergio  Limiroski</div></div>\\r\\n\\t\\t\\t<div class=\"post-body\">Con casi cien años la panadería La Pompeya del barrio de San Cristóbal aún elabora como antaño productos de esta gran colectividad Conserva su viejo horno y antigua amasadora de la marca Siam. Máximo, quien fue muchos años empleados de la casa hoy está al frente del negocio. </div>\\r\\n\\t\\t\\t\\r\\n\\t\\t</div>\\r\\n\\t</div>\\r\\n</div>\\r\\n\\r\\n\\r\\n<div class=\"home_category_news_small clearboth\" note=\"478108\">\\r\\n\\t<div class=\"items-wrap\">\\r\\n\\t\\t<div class=\"block_home_post first-post\">\\r\\n\\t\\t\\t<div class=\"post-image\"><a href=\"http://www.laprensa.com.ar/478108-Pichetto-tiene-un-rol-estabilizador.note.aspx\" class=\"img-link img-wrap w_hover\" target=\"_self\" onclick=\"javascript:if(typeof(_gaq)!=\\'undefined\\'){_gaq.push([\\'_trackEvent\\', \\'Notas\\', \\'Política\\', \\'\\\\&quot;Pichetto tiene un rol estabilizador\\\\&quot;\\'])};\"><img width=\"300\" height=\"150\" src=\"http://www.laprensa.com.ar/Multimedios/Imgs/105461_300.jpg?v=6\" alt=\"Nunca ha habido tantos presos como ahora, tantos empresarios que tienen que dar explicaciones en Tribunales sin ningún tipo de privilegios, subrayó Iglesias.\"></a></div>\\r\\n\\t\\t\\t<div class=\"post-content\">\\r\\n\\t\\t\\t\\t<div class=\"title\"><a href=\"http://www.laprensa.com.ar/478108-Pichetto-tiene-un-rol-estabilizador.note.aspx\" target=\"_self\" onclick=\"javascript:if(typeof(_gaq)!=\\'undefined\\'){_gaq.push([\\'_trackEvent\\', \\'Notas\\', \\'Política\\', \\'\\\\&quot;Pichetto tiene un rol estabilizador\\\\&quot;\\'])};\">\"Pichetto tiene un rol estabilizador\"</a></div>\\r\\n\\t\\t\\t</div>\\r\\n\\t\\t\\t<div class=\"post-info\"><div class=\"post_author\"><em>Por </em>Carlos E. Hartmann</div></div>\\r\\n\\t\\t\\t<div class=\"post-body\">Los peronistas tienen abiertas las puertas de Juntos por el Cambio, señaló a La Prensa, el diputado Fernando Iglesias Admito que si \"el club del helicóptero\" no ganó, es porque hubo una gran parte del peronismo responsable que no apostó a tumbar al Gobierno, sostuvo el legislador, un reconocido crítico del universo pejotista.\\r\\n\\r\\n</div>\\r\\n\\t\\t\\t\\r\\n\\t\\t</div>\\r\\n\\t</div>\\r\\n</div>\\r\\n\\r\\n\\r\\n\\t\\t\\t\\t\\t\\t\\t\\t\\r\\n\\t\\t\\t\\t\\t\\t\\t</div>\\r\\n\\t\\t\\t\\t\\t\\t</div>\\r\\n\\t\\t\\t\\t\\t\\t<div role=\"main\" class=\"site-content\" id=\"content5\">\\r\\n\\t\\t\\t\\t\\t\\t\\t<h2 class=\"block-title block-verde\"><p>Suplemento Económico</p></h2>\\r\\n\\t\\t\\t\\t\\t\\t\\t<div class=\"recent_news_home clearboth no-border\">\\r\\n\\t\\t\\t\\t\\t\\t\\t\\t\\r\\n<div class=\"block_home_post\" note=\"478071\">\\r\\n\\t<div class=\"post-image\"><a href=\"http://www.laprensa.com.ar/478071-Hay-que-bajar-la-carga-tributaria-en-Argentina.note.aspx\" class=\"img-link img-wrap w_hover\" target=\"_self\" onclick=\"javascript:if(typeof(_gaq)!=\\'undefined\\'){_gaq.push([\\'_trackEvent\\', \\'Notas\\', \\'Economía\\', \\'\\\\&quot;Hay que bajar la carga tributaria en Argentina\\\\&quot;\\'])};\"><img width=\"300\" height=\"150\" src=\"http://www.laprensa.com.ar/Multimedios/Imgs/105413_300.jpg?v=4\" alt=\"La presión tributaria escalonada entre Nación, provincias y municipios, resulta asfixiante. &quot;Para un comercio mediano, el propietario tiene que estar al tanto de 47 normativas tributarias&quot;, enfatiza Nadin Argañaraz.\"></a></div>\\r\\n\\t<div class=\"post-content\">\\r\\n\\t\\t<div class=\"title\"><a href=\"http://www.laprensa.com.ar/478071-Hay-que-bajar-la-carga-tributaria-en-Argentina.note.aspx\" target=\"_self\" onclick=\"javascript:if(typeof(_gaq)!=\\'undefined\\'){_gaq.push([\\'_trackEvent\\', \\'Notas\\', \\'Economía\\', \\'\\\\&quot;Hay que bajar la carga tributaria en Argentina\\\\&quot;\\'])};\">\"Hay que bajar la carga tributaria en Argentina\"\\r\\n\\r\\n</a></div>\\r\\n\\t</div>\\r\\n\\t<div class=\"post-info\"><div class=\"post_author\"><em>Por </em>Gustavo García</div></div>\\r\\n\\t\\r\\n</div>\\r\\n\\r\\n\\r\\n<div class=\"block_home_post\" note=\"478072\">\\r\\n\\t<div class=\"post-image\"><a href=\"http://www.laprensa.com.ar/478072-Habra-un-nuevo-blanqueo.note.aspx\" class=\"img-link img-wrap w_hover\" target=\"_self\" onclick=\"javascript:if(typeof(_gaq)!=\\'undefined\\'){_gaq.push([\\'_trackEvent\\', \\'Notas\\', \\'Economía\\', \\'\\\\&quot;Habrá un nuevo blanqueo\\\\&quot;\\'])};\"><img width=\"300\" height=\"150\" src=\"http://www.laprensa.com.ar/Multimedios/Imgs/105414_300.jpg?v=3\" alt=\"&quot;Habrá un nuevo blanqueo&quot;\"></a></div>\\r\\n\\t<div class=\"post-content\">\\r\\n\\t\\t<div class=\"title\"><a href=\"http://www.laprensa.com.ar/478072-Habra-un-nuevo-blanqueo.note.aspx\" target=\"_self\" onclick=\"javascript:if(typeof(_gaq)!=\\'undefined\\'){_gaq.push([\\'_trackEvent\\', \\'Notas\\', \\'Economía\\', \\'\\\\&quot;Habrá un nuevo blanqueo\\\\&quot;\\'])};\">\"Habrá un nuevo blanqueo\"</a></div>\\r\\n\\t</div>\\r\\n\\t\\r\\n\\t\\r\\n</div>\\r\\n\\r\\n\\r\\n<div class=\"block_home_post\" note=\"478073\">\\r\\n\\t<div class=\"post-image\"><a href=\"http://www.laprensa.com.ar/478073-La-meta-fiscal-un-objetivo-muy-arduo.note.aspx\" class=\"img-link img-wrap w_hover\" target=\"_self\" onclick=\"javascript:if(typeof(_gaq)!=\\'undefined\\'){_gaq.push([\\'_trackEvent\\', \\'Notas\\', \\'Economía\\', \\'La meta fiscal, un objetivo muy arduo\\'])};\"><img width=\"300\" height=\"150\" src=\"http://www.laprensa.com.ar/Multimedios/Imgs/105415_300.jpg?v=4\" alt=\"El FMI, conducido por Christine Lagarde, marca de cerca a la Argentina.\"></a></div>\\r\\n\\t<div class=\"post-content\">\\r\\n\\t\\t<div class=\"title\"><a href=\"http://www.laprensa.com.ar/478073-La-meta-fiscal-un-objetivo-muy-arduo.note.aspx\" target=\"_self\" onclick=\"javascript:if(typeof(_gaq)!=\\'undefined\\'){_gaq.push([\\'_trackEvent\\', \\'Notas\\', \\'Economía\\', \\'La meta fiscal, un objetivo muy arduo\\'])};\">La meta fiscal, un objetivo muy arduo</a></div>\\r\\n\\t</div>\\r\\n\\t\\r\\n\\t\\r\\n</div>\\r\\n\\r\\n\\r\\n\\t\\t\\t\\t\\t\\t\\t\\t\\r\\n\\t\\t\\t\\t\\t\\t\\t\\t\\r\\n\\t\\t\\t\\t\\t\\t\\t</div>\\r\\n\\t\\t\\t\\t\\t\\t</div>\\r\\n\\t\\t\\t\\t\\t\\t<div role=\"main\" class=\"site-content\">\\r\\n\\t\\t\\t\\t\\t\\t\\t<h2 class=\"block-title block-celeste\"><p>Cultura</p></h2>\\r\\n\\t\\t\\t\\t\\t\\t\\t<div class=\"recent_news_home clearboth no-border\">\\r\\n\\t\\t\\t\\t\\t\\t\\t\\t\\r\\n<div class=\"block_home_post\" note=\"478063\">\\r\\n\\t<div class=\"post-image\"><a href=\"http://www.laprensa.com.ar/478063-Como-terminaron-sus-dias-los-ultimos-virreyes-del-Rio-de-la-Plata.note.aspx\" class=\"img-link img-wrap w_hover\" target=\"_self\" onclick=\"javascript:if(typeof(_gaq)!=\\'undefined\\'){_gaq.push([\\'_trackEvent\\', \\'Notas\\', \\'Cultura\\', \\'¿Cómo terminaron sus días los últimos virreyes del Río de  la Plata?\\'])};\"><img width=\"300\" height=\"150\" src=\"http://www.laprensa.com.ar/Multimedios/Imgs/105400_300.jpg?v=5\" alt=\"Baltazar de Cisneros murió en junio de 1830.\"></a></div>\\r\\n\\t<div class=\"post-content\">\\r\\n\\t\\t<div class=\"title\"><a href=\"http://www.laprensa.com.ar/478063-Como-terminaron-sus-dias-los-ultimos-virreyes-del-Rio-de-la-Plata.note.aspx\" target=\"_self\" onclick=\"javascript:if(typeof(_gaq)!=\\'undefined\\'){_gaq.push([\\'_trackEvent\\', \\'Notas\\', \\'Cultura\\', \\'¿Cómo terminaron sus días los últimos virreyes del Río de  la Plata?\\'])};\">¿Cómo terminaron sus días los últimos virreyes del Río de  la Plata?\\r\\n</a></div>\\r\\n\\t</div>\\r\\n\\t\\r\\n\\t\\r\\n</div>\\r\\n\\r\\n\\r\\n\\t\\t\\t\\t\\t\\t\\t\\t\\r\\n<div class=\"block_home_post\" note=\"478062\">\\r\\n\\t<div class=\"post-image\"><a href=\"http://www.laprensa.com.ar/478062-Marta-Minujin-sorprende-a-Nueva-York.note.aspx\" class=\"img-link img-wrap w_hover\" target=\"_self\" onclick=\"javascript:if(typeof(_gaq)!=\\'undefined\\'){_gaq.push([\\'_trackEvent\\', \\'Notas\\', \\'Cultura\\', \\'Marta Minujin sorprende a Nueva York\\'])};\"><img width=\"300\" height=\"150\" src=\"http://www.laprensa.com.ar/Multimedios/Imgs/105403_300.jpg?v=3\" alt=\"Marta Minujin sorprende a Nueva York\"></a></div>\\r\\n\\t<div class=\"post-content\">\\r\\n\\t\\t<div class=\"title\"><a href=\"http://www.laprensa.com.ar/478062-Marta-Minujin-sorprende-a-Nueva-York.note.aspx\" target=\"_self\" onclick=\"javascript:if(typeof(_gaq)!=\\'undefined\\'){_gaq.push([\\'_trackEvent\\', \\'Notas\\', \\'Cultura\\', \\'Marta Minujin sorprende a Nueva York\\'])};\">Marta Minujin sorprende a Nueva York</a></div>\\r\\n\\t</div>\\r\\n\\t\\r\\n\\t\\r\\n</div>\\r\\n\\r\\n\\r\\n\\t\\t\\t\\t\\t\\t\\t\\t\\r\\n<div class=\"block_home_post\" note=\"478064\">\\r\\n\\t<div class=\"post-image\"><a href=\"http://www.laprensa.com.ar/478064-Hemingway-y-su-inspiracion-cubana.note.aspx\" class=\"img-link img-wrap w_hover\" target=\"_self\" onclick=\"javascript:if(typeof(_gaq)!=\\'undefined\\'){_gaq.push([\\'_trackEvent\\', \\'Notas\\', \\'Cultura\\', \\'Hemingway y su inspiración cubana\\'])};\"><img width=\"300\" height=\"150\" src=\"http://www.laprensa.com.ar/Multimedios/Imgs/105402_300.jpg?v=5\" alt=\"El investigador Andrew Feldman afirma que Hemingway se inspiró para algunas de sus obras en los libros de Enrique Serpa.\"></a></div>\\r\\n\\t<div class=\"post-content\">\\r\\n\\t\\t<div class=\"title\"><a href=\"http://www.laprensa.com.ar/478064-Hemingway-y-su-inspiracion-cubana.note.aspx\" target=\"_self\" onclick=\"javascript:if(typeof(_gaq)!=\\'undefined\\'){_gaq.push([\\'_trackEvent\\', \\'Notas\\', \\'Cultura\\', \\'Hemingway y su inspiración cubana\\'])};\">Hemingway y su inspiración cubana</a></div>\\r\\n\\t</div>\\r\\n\\t\\r\\n\\t\\r\\n</div>\\r\\n\\r\\n\\r\\n\\t\\t\\t\\t\\t\\t\\t</div>\\r\\n\\t\\t\\t\\t\\t\\t</div>\\r\\n\\t\\t\\t\\t\\t\\t<div role=\"main\" class=\"site-content\">\\r\\n\\t\\t\\t\\t\\t\\t\\t<h2 class=\"block-title block-turquesa\"><p>Libros</p></h2>\\r\\n\\t\\t\\t\\t\\t\\t\\t<div class=\"recent_news_home clearboth no-border\">\\r\\n\\t\\t\\t\\t\\t\\t\\t\\t\\r\\n<div class=\"block_home_post\" note=\"478065\">\\r\\n\\t<div class=\"post-image\"><a href=\"http://www.laprensa.com.ar/478065-Sobre-la-caminata-y-la-lectura.note.aspx\" class=\"img-link img-wrap w_hover\" target=\"_self\" onclick=\"javascript:if(typeof(_gaq)!=\\'undefined\\'){_gaq.push([\\'_trackEvent\\', \\'Notas\\', \\'Cultura\\', \\'Sobre la caminata y la lectura\\'])};\"><img width=\"300\" height=\"150\" src=\"http://www.laprensa.com.ar/Multimedios/Imgs/105399_300.jpg?v=5\" alt=\"Edgardo Scott compone un original ensayo sobre la figura literaria de los caminantes en autores del siglo XIX y XX.\"></a></div>\\r\\n\\t<div class=\"post-content\">\\r\\n\\t\\t<div class=\"title\"><a href=\"http://www.laprensa.com.ar/478065-Sobre-la-caminata-y-la-lectura.note.aspx\" target=\"_self\" onclick=\"javascript:if(typeof(_gaq)!=\\'undefined\\'){_gaq.push([\\'_trackEvent\\', \\'Notas\\', \\'Cultura\\', \\'Sobre la caminata y la lectura\\'])};\">Sobre la caminata y la lectura</a></div>\\r\\n\\t</div>\\r\\n\\t<div class=\"post-info\"><div class=\"post_author\"><em>Por </em>Agustín De Beitia</div></div>\\r\\n\\t\\r\\n</div>\\r\\n\\r\\n\\r\\n\\t\\t\\t\\t\\t\\t\\t\\t\\r\\n<div class=\"block_home_post\" note=\"478066\">\\r\\n\\t<div class=\"post-image\"><a href=\"http://www.laprensa.com.ar/478066-Persecucion-e-intriga-en-la-ciudad-de-los-canales.note.aspx\" class=\"img-link img-wrap w_hover\" target=\"_self\" onclick=\"javascript:if(typeof(_gaq)!=\\'undefined\\'){_gaq.push([\\'_trackEvent\\', \\'Notas\\', \\'Cultura\\', \\'Persecución e intriga en la ciudad de los canales\\'])};\"><img width=\"300\" height=\"150\" src=\"http://www.laprensa.com.ar/Multimedios/Imgs/105401_300.jpg?v=5\" alt=\"Massimo Carlotto deja de lado la novela negra para incursionar en el &quot;thriller&quot;.\"></a></div>\\r\\n\\t<div class=\"post-content\">\\r\\n\\t\\t<div class=\"title\"><a href=\"http://www.laprensa.com.ar/478066-Persecucion-e-intriga-en-la-ciudad-de-los-canales.note.aspx\" target=\"_self\" onclick=\"javascript:if(typeof(_gaq)!=\\'undefined\\'){_gaq.push([\\'_trackEvent\\', \\'Notas\\', \\'Cultura\\', \\'Persecución e intriga en la ciudad de los canales\\'])};\">Persecución e intriga en la ciudad de los canales\\r\\n</a></div>\\r\\n\\t</div>\\r\\n\\t\\r\\n\\t\\r\\n</div>\\r\\n\\r\\n\\r\\n\\t\\t\\t\\t\\t\\t\\t\\t\\r\\n<div class=\"block_home_post\" note=\"477822\">\\r\\n\\t<div class=\"post-image\"><a href=\"http://www.laprensa.com.ar/477822-La-historia-de-lo-que-pudo-ser.note.aspx\" class=\"img-link img-wrap w_hover\" target=\"_self\" onclick=\"javascript:if(typeof(_gaq)!=\\'undefined\\'){_gaq.push([\\'_trackEvent\\', \\'Notas\\', \\'Cultura\\', \\'La historia de lo que pudo ser\\'])};\"><img width=\"300\" height=\"150\" src=\"http://www.laprensa.com.ar/Multimedios/Imgs/105172_300.jpg?v=3\" alt=\"La historia de lo que pudo ser\"></a></div>\\r\\n\\t<div class=\"post-content\">\\r\\n\\t\\t<div class=\"title\"><a href=\"http://www.laprensa.com.ar/477822-La-historia-de-lo-que-pudo-ser.note.aspx\" target=\"_self\" onclick=\"javascript:if(typeof(_gaq)!=\\'undefined\\'){_gaq.push([\\'_trackEvent\\', \\'Notas\\', \\'Cultura\\', \\'La historia de lo que pudo ser\\'])};\">La historia de lo que pudo ser</a></div>\\r\\n\\t</div>\\r\\n\\t<div class=\"post-info\"><div class=\"post_author\"><em>Por </em>Jorge Martínez</div></div>\\r\\n\\t\\r\\n</div>\\r\\n\\r\\n\\r\\n\\t\\t\\t\\t\\t\\t\\t</div>\\r\\n\\t\\t\\t\\t\\t\\t</div>\\r\\n\\t\\t\\t\\t\\t\\t<div role=\"main\" class=\"site-content\">\\r\\n\\t\\t\\t\\t\\t\\t\\t<h2 class=\"block-title block-bordo\"><p>Ciencia y Salud</p></h2>\\r\\n\\t\\t\\t\\t\\t\\t\\t<div class=\"recent_news_home clearboth no-border\">\\r\\n\\t\\t\\t\\t\\t\\t\\t\\t\\r\\n<div class=\"block_home_post\" note=\"478151\">\\r\\n\\t<div class=\"post-image\"><a href=\"http://www.laprensa.com.ar/478151-Adiccion-a-los-videojuegos-un-desafio-mayor-que-el-alcoholismo-y-la-drogadiccion.note.aspx\" class=\"img-link img-wrap w_hover\" target=\"_self\" onclick=\"javascript:if(typeof(_gaq)!=\\'undefined\\'){_gaq.push([\\'_trackEvent\\', \\'Notas\\', \\'Ciencia y Salud\\', \\'Adicción a los videojuegos: un desafío mayor que el alcoholismo y la drogadicción\\'])};\"><img width=\"300\" height=\"150\" src=\"http://www.laprensa.com.ar/Multimedios/Imgs/105422_300.jpg?v=4\" alt=\"Adicción a los videojuegos: un desafío mayor que el alcoholismo y la drogadicción \"></a></div>\\r\\n\\t<div class=\"post-content\">\\r\\n\\t\\t<div class=\"title\"><a href=\"http://www.laprensa.com.ar/478151-Adiccion-a-los-videojuegos-un-desafio-mayor-que-el-alcoholismo-y-la-drogadiccion.note.aspx\" target=\"_self\" onclick=\"javascript:if(typeof(_gaq)!=\\'undefined\\'){_gaq.push([\\'_trackEvent\\', \\'Notas\\', \\'Ciencia y Salud\\', \\'Adicción a los videojuegos: un desafío mayor que el alcoholismo y la drogadicción\\'])};\">Adicción a los videojuegos: un desafío mayor que el alcoholismo y la drogadicción\\r\\n</a></div>\\r\\n\\t</div>\\r\\n\\t<div class=\"post-info\"><div class=\"post_author\"><em>Por </em>Agustina Sucri</div></div>\\r\\n\\t\\r\\n</div>\\r\\n\\r\\n\\r\\n\\t\\t\\t\\t\\t\\t\\t\\t\\r\\n<div class=\"block_home_post\" note=\"478084\">\\r\\n\\t<div class=\"post-image\"><a href=\"http://www.laprensa.com.ar/478084-Dermatitis-atopica-una-enfermedad-que-empeora-con-el-frio.note.aspx\" class=\"img-link img-wrap w_hover\" target=\"_self\" onclick=\"javascript:if(typeof(_gaq)!=\\'undefined\\'){_gaq.push([\\'_trackEvent\\', \\'Notas\\', \\'Ciencia y Salud\\', \\'Dermatitis atópica, una enfermedad que empeora con el frío\\'])};\"><img width=\"300\" height=\"150\" src=\"http://www.laprensa.com.ar/Multimedios/Imgs/105421_300.jpg?v=3\" alt=\"Dermatitis atópica, una enfermedad que empeora con el frío\"></a></div>\\r\\n\\t<div class=\"post-content\">\\r\\n\\t\\t<div class=\"title\"><a href=\"http://www.laprensa.com.ar/478084-Dermatitis-atopica-una-enfermedad-que-empeora-con-el-frio.note.aspx\" target=\"_self\" onclick=\"javascript:if(typeof(_gaq)!=\\'undefined\\'){_gaq.push([\\'_trackEvent\\', \\'Notas\\', \\'Ciencia y Salud\\', \\'Dermatitis atópica, una enfermedad que empeora con el frío\\'])};\">Dermatitis atópica, una enfermedad que empeora con el frío</a></div>\\r\\n\\t</div>\\r\\n\\t\\r\\n\\t\\r\\n</div>\\r\\n\\r\\n\\r\\n\\t\\t\\t\\t\\t\\t\\t\\t\\r\\n<div class=\"block_home_post\" note=\"478083\">\\r\\n\\t<div class=\"post-image\"><a href=\"http://www.laprensa.com.ar/478083-Leche-de-vaca-de-soja-y-de-almendra-cual-es-mejor-.note.aspx\" class=\"img-link img-wrap w_hover\" target=\"_self\" onclick=\"javascript:if(typeof(_gaq)!=\\'undefined\\'){_gaq.push([\\'_trackEvent\\', \\'Notas\\', \\'Ciencia y Salud\\', \\'Leche de vaca, de soja y de almendra: ¿cuál es mejor? \\'])};\"><img width=\"300\" height=\"150\" src=\"http://www.laprensa.com.ar/Multimedios/Imgs/105419_300.jpg?v=4\" alt=\"Leche de vaca, de soja y de almendra: ¿cuál es mejor? \"></a></div>\\r\\n\\t<div class=\"post-content\">\\r\\n\\t\\t<div class=\"title\"><a href=\"http://www.laprensa.com.ar/478083-Leche-de-vaca-de-soja-y-de-almendra-cual-es-mejor-.note.aspx\" target=\"_self\" onclick=\"javascript:if(typeof(_gaq)!=\\'undefined\\'){_gaq.push([\\'_trackEvent\\', \\'Notas\\', \\'Ciencia y Salud\\', \\'Leche de vaca, de soja y de almendra: ¿cuál es mejor? \\'])};\">Leche de vaca, de soja y de almendra: ¿cuál es mejor? \\r\\n\\r\\n</a></div>\\r\\n\\t</div>\\r\\n\\t\\r\\n\\t\\r\\n</div>\\r\\n\\r\\n\\r\\n\\t\\t\\t\\t\\t\\t\\t</div>\\r\\n\\t\\t\\t\\t\\t\\t</div>\\r\\n\\t\\t\\t\\t\\t\\t<div role=\"main\" class=\"site-content\">\\r\\n\\t\\t\\t\\t\\t\\t\\t<h2 class=\"block-title block-rojo\"><p>Sobre Ruedas</p></h2>\\r\\n\\t\\t\\t\\t\\t\\t\\t<div class=\"recent_news_home clearboth no-border\">\\r\\n\\t\\t\\t\\t\\t\\t\\t\\t\\r\\n<div class=\"block_home_post\" note=\"478165\">\\r\\n\\t<div class=\"post-image\"><a href=\"http://www.laprensa.com.ar/478165-La-Raza-Fuerte-se-renovo.note.aspx\" class=\"img-link img-wrap w_hover\" target=\"_self\" onclick=\"javascript:if(typeof(_gaq)!=\\'undefined\\'){_gaq.push([\\'_trackEvent\\', \\'Notas\\', \\'Sobre Ruedas\\', \\'La Raza Fuerte se renovó\\'])};\"><img width=\"300\" height=\"150\" src=\"http://www.laprensa.com.ar/Multimedios/Imgs/105507_300.jpg?v=3\" alt=\"La Raza Fuerte se renovó \"></a></div>\\r\\n\\t<div class=\"post-content\">\\r\\n\\t\\t<div class=\"title\"><a href=\"http://www.laprensa.com.ar/478165-La-Raza-Fuerte-se-renovo.note.aspx\" target=\"_self\" onclick=\"javascript:if(typeof(_gaq)!=\\'undefined\\'){_gaq.push([\\'_trackEvent\\', \\'Notas\\', \\'Sobre Ruedas\\', \\'La Raza Fuerte se renovó\\'])};\">La Raza Fuerte se renovó\\r\\n</a></div>\\r\\n\\t</div>\\r\\n\\t\\r\\n\\t\\r\\n</div>\\r\\n\\r\\n\\r\\n\\t\\t\\t\\t\\t\\t\\t\\t\\r\\n<div class=\"block_home_post\" note=\"478166\">\\r\\n\\t<div class=\"post-image\"><a href=\"http://www.laprensa.com.ar/478166-El-T-Cross-llega-para-pelear-entre-los-SUV.note.aspx\" class=\"img-link img-wrap w_hover\" target=\"_self\" onclick=\"javascript:if(typeof(_gaq)!=\\'undefined\\'){_gaq.push([\\'_trackEvent\\', \\'Notas\\', \\'Sobre Ruedas\\', \\'El T-Cross llega para pelear entre los SUV\\'])};\"><img width=\"300\" height=\"150\" src=\"http://www.laprensa.com.ar/Multimedios/Imgs/105508_300.jpg?v=3\" alt=\"El T-Cross llega para pelear entre los SUV\"></a></div>\\r\\n\\t<div class=\"post-content\">\\r\\n\\t\\t<div class=\"title\"><a href=\"http://www.laprensa.com.ar/478166-El-T-Cross-llega-para-pelear-entre-los-SUV.note.aspx\" target=\"_self\" onclick=\"javascript:if(typeof(_gaq)!=\\'undefined\\'){_gaq.push([\\'_trackEvent\\', \\'Notas\\', \\'Sobre Ruedas\\', \\'El T-Cross llega para pelear entre los SUV\\'])};\">El T-Cross llega para pelear entre los SUV</a></div>\\r\\n\\t</div>\\r\\n\\t\\r\\n\\t\\r\\n</div>\\r\\n\\r\\n\\r\\n\\t\\t\\t\\t\\t\\t\\t\\t\\r\\n<div class=\"block_home_post\" note=\"477919\">\\r\\n\\t<div class=\"post-image\"><a href=\"http://www.laprensa.com.ar/477919-Este-es-el-nuevo-Peugeot-2008-que-se-produciria-en-el-pais.note.aspx\" class=\"img-link img-wrap w_hover\" target=\"_self\" onclick=\"javascript:if(typeof(_gaq)!=\\'undefined\\'){_gaq.push([\\'_trackEvent\\', \\'Notas\\', \\'Sobre Ruedas\\', \\'Este es el nuevo Peugeot 2008, que se produciría en el país\\'])};\"><img width=\"300\" height=\"150\" src=\"http://www.laprensa.com.ar/Multimedios/Imgs/105268_300.jpg?v=4\" alt=\"LA ESTETICA COINCIDE CON LA DE LOS SUV 3008 Y 5008.\"></a></div>\\r\\n\\t<div class=\"post-content\">\\r\\n\\t\\t<div class=\"title\"><a href=\"http://www.laprensa.com.ar/477919-Este-es-el-nuevo-Peugeot-2008-que-se-produciria-en-el-pais.note.aspx\" target=\"_self\" onclick=\"javascript:if(typeof(_gaq)!=\\'undefined\\'){_gaq.push([\\'_trackEvent\\', \\'Notas\\', \\'Sobre Ruedas\\', \\'Este es el nuevo Peugeot 2008, que se produciría en el país\\'])};\">Este es el nuevo Peugeot 2008, que se produciría en el país</a></div>\\r\\n\\t</div>\\r\\n\\t\\r\\n\\t\\r\\n</div>\\r\\n\\r\\n\\r\\n\\t\\t\\t\\t\\t\\t\\t</div>\\r\\n\\t\\t\\t\\t\\t\\t</div>\\r\\n\\t\\t\\t\\t\\t\\t<div role=\"main\" class=\"site-content\">\\r\\n\\t\\t\\t\\t\\t\\t\\t<h2 class=\"block-title block-naranja\"><p>Sugerencia del chef</p></h2>\\r\\n\\t\\t\\t\\t\\t\\t\\t<div class=\"recent_news_home clearboth no-border\">\\r\\n\\t\\t\\t\\t\\t\\t\\t\\t\\r\\n<div class=\"block_home_post\" note=\"477915\">\\r\\n\\t<div class=\"post-image\"><a href=\"http://www.laprensa.com.ar/477915-Bartolucci-la-primera-enologa-de-Chandon.note.aspx\" class=\"img-link img-wrap w_hover\" target=\"_self\" onclick=\"javascript:if(typeof(_gaq)!=\\'undefined\\'){_gaq.push([\\'_trackEvent\\', \\'Notas\\', \\'Sugerencias del Chef\\', \\'Bartolucci, la primera enóloga de Chandon\\'])};\"><img width=\"300\" height=\"150\" src=\"http://www.laprensa.com.ar/Multimedios/Imgs/105262_300.JPG?v=3\" alt=\"Con 28 años, Ana Paula Bartolucci es la primera enóloga que trabaja en Chandon.\"></a></div>\\r\\n\\t<div class=\"post-content\">\\r\\n\\t\\t<div class=\"title\"><a href=\"http://www.laprensa.com.ar/477915-Bartolucci-la-primera-enologa-de-Chandon.note.aspx\" target=\"_self\" onclick=\"javascript:if(typeof(_gaq)!=\\'undefined\\'){_gaq.push([\\'_trackEvent\\', \\'Notas\\', \\'Sugerencias del Chef\\', \\'Bartolucci, la primera enóloga de Chandon\\'])};\">Bartolucci, la primera enóloga de Chandon\\r\\n</a></div>\\r\\n\\t</div>\\r\\n\\t<div class=\"post-info\"><div class=\"post_author\"><em>Por </em>Silvina Rufrancos</div></div>\\r\\n\\t\\r\\n</div>\\r\\n\\r\\n\\r\\n<div class=\"block_home_post\" note=\"477913\">\\r\\n\\t<div class=\"post-image\"><a href=\"http://www.laprensa.com.ar/477913-Negroni-un-clasico-centenario.note.aspx\" class=\"img-link img-wrap w_hover\" target=\"_self\" onclick=\"javascript:if(typeof(_gaq)!=\\'undefined\\'){_gaq.push([\\'_trackEvent\\', \\'Notas\\', \\'Sugerencias del Chef\\', \\'Negroni, un clásico centenario\\'])};\"><img width=\"300\" height=\"150\" src=\"http://www.laprensa.com.ar/Multimedios/Imgs/105260_300.jpg?v=2\" alt=\"Negroni, un clásico centenario\"></a></div>\\r\\n\\t<div class=\"post-content\">\\r\\n\\t\\t<div class=\"title\"><a href=\"http://www.laprensa.com.ar/477913-Negroni-un-clasico-centenario.note.aspx\" target=\"_self\" onclick=\"javascript:if(typeof(_gaq)!=\\'undefined\\'){_gaq.push([\\'_trackEvent\\', \\'Notas\\', \\'Sugerencias del Chef\\', \\'Negroni, un clásico centenario\\'])};\">Negroni, un clásico centenario</a></div>\\r\\n\\t</div>\\r\\n\\t\\r\\n\\t\\r\\n</div>\\r\\n\\r\\n\\r\\n<div class=\"block_home_post\" note=\"477558\">\\r\\n\\t<div class=\"post-image\"><a href=\"http://www.laprensa.com.ar/477558-Los-finalistas-de-una-de-las-competencias-gastronomicas-mas-importantes-del-pais.note.aspx\" class=\"img-link img-wrap w_hover\" target=\"_self\" onclick=\"javascript:if(typeof(_gaq)!=\\'undefined\\'){_gaq.push([\\'_trackEvent\\', \\'Notas\\', \\'Sugerencias del Chef\\', \\'Los finalistas de una de las competencias gastronómicas más importantes del país\\'])};\"><img width=\"300\" height=\"150\" src=\"http://www.laprensa.com.ar/Multimedios/Imgs/104915_300.jpg?v=3\" alt=\"Santiago Blondel, chef de ‘Gaspasai Restó’ situado en las sierras de la localidad cordobesa de La Cumbre.\"></a></div>\\r\\n\\t<div class=\"post-content\">\\r\\n\\t\\t<div class=\"title\"><a href=\"http://www.laprensa.com.ar/477558-Los-finalistas-de-una-de-las-competencias-gastronomicas-mas-importantes-del-pais.note.aspx\" target=\"_self\" onclick=\"javascript:if(typeof(_gaq)!=\\'undefined\\'){_gaq.push([\\'_trackEvent\\', \\'Notas\\', \\'Sugerencias del Chef\\', \\'Los finalistas de una de las competencias gastronómicas más importantes del país\\'])};\">Los finalistas de una de las competencias gastronómicas más importantes del país\\r\\n</a></div>\\r\\n\\t</div>\\r\\n\\t\\r\\n\\t\\r\\n</div>\\r\\n\\r\\n\\r\\n\\t\\t\\t\\t\\t\\t\\t\\t\\r\\n\\t\\t\\t\\t\\t\\t\\t\\t\\r\\n\\t\\t\\t\\t\\t\\t\\t</div>\\r\\n\\t\\t\\t\\t\\t\\t</div>\\r\\n\\t\\t\\t\\t\\t\\t<div role=\"main\" class=\"site-content\" id=\"content6\"> \\r\\n\\t\\t\\t\\t\\t\\t\\t\\r\\n\\t\\t\\t\\t\\t\\t</div>\\r\\n\\t\\t\\t\\t\\t\\t<div role=\"main\" class=\"site-content\" id=\"content7\"> \\r\\n\\t\\t\\t\\t\\t\\t\\t<div class=\"two_columns_news clearboth\"> \\r\\n\\t\\t\\t\\t\\t\\t\\t\\t\\r\\n<div class=\"home_category_news_small clearboth\" note=\"478129\">\\r\\n\\t<div class=\"items-wrap\">\\r\\n\\t\\t<div class=\"block_home_post first-post\">\\r\\n\\t\\t\\t<div class=\"post-image\"><a href=\"http://www.laprensa.com.ar/478129-Una-historia-feroz-y-potente.note.aspx\" class=\"img-link img-wrap w_hover\" target=\"_self\" onclick=\"javascript:if(typeof(_gaq)!=\\'undefined\\'){_gaq.push([\\'_trackEvent\\', \\'Notas\\', \\'Espectáculos\\', \\'Una historia feroz y potente\\'])};\"><img width=\"300\" height=\"150\" src=\"http://www.laprensa.com.ar/Multimedios/Imgs/105484_300.jpg?v=2\" alt=\"Madre e hija en una relación de alta tensión, que se torna insoportable.\"></a></div>\\r\\n\\t\\t\\t<div class=\"post-content\">\\r\\n\\t\\t\\t\\t<div class=\"title\"><a href=\"http://www.laprensa.com.ar/478129-Una-historia-feroz-y-potente.note.aspx\" target=\"_self\" onclick=\"javascript:if(typeof(_gaq)!=\\'undefined\\'){_gaq.push([\\'_trackEvent\\', \\'Notas\\', \\'Espectáculos\\', \\'Una historia feroz y potente\\'])};\">Una historia feroz y potente</a></div>\\r\\n\\t\\t\\t</div>\\r\\n\\t\\t\\t\\r\\n\\t\\t\\t<div class=\"post-body\">De Martin McDonagh, \"La reina de la belleza\"</div>\\r\\n\\t\\t\\t\\r\\n\\t\\t</div>\\r\\n\\t</div>\\r\\n</div>\\r\\n\\r\\n\\r\\n<div class=\"home_category_news_small clearboth\" note=\"478133\">\\r\\n\\t<div class=\"items-wrap\">\\r\\n\\t\\t<div class=\"block_home_post first-post\">\\r\\n\\t\\t\\t<div class=\"post-image\"><a href=\"http://www.laprensa.com.ar/478133-De-la-tierra-al-cielo.note.aspx\" class=\"img-link img-wrap w_hover\" target=\"_self\" onclick=\"javascript:if(typeof(_gaq)!=\\'undefined\\'){_gaq.push([\\'_trackEvent\\', \\'Notas\\', \\'Espectáculos\\', \\'De la tierra al cielo\\'])};\"><img width=\"300\" height=\"150\" src=\"http://www.laprensa.com.ar/Multimedios/Imgs/105485_300.jpg?v=1\" alt=\"De la tierra al cielo\"></a></div>\\r\\n\\t\\t\\t<div class=\"post-content\">\\r\\n\\t\\t\\t\\t<div class=\"title\"><a href=\"http://www.laprensa.com.ar/478133-De-la-tierra-al-cielo.note.aspx\" target=\"_self\" onclick=\"javascript:if(typeof(_gaq)!=\\'undefined\\'){_gaq.push([\\'_trackEvent\\', \\'Notas\\', \\'Espectáculos\\', \\'De la tierra al cielo\\'])};\">De la tierra al cielo</a></div>\\r\\n\\t\\t\\t</div>\\r\\n\\t\\t\\t<div class=\"post-info\"><div class=\"post_author\"><em>Por </em>Daniel Sousa</div></div>\\r\\n\\t\\t\\t<div class=\"post-body\">\"Ovo\", del Cirque du Soleil.</div>\\r\\n\\t\\t\\t\\r\\n\\t\\t</div>\\r\\n\\t</div>\\r\\n</div>\\r\\n\\r\\n\\r\\n<div class=\"home_category_news_small clearboth\" note=\"478128\">\\r\\n\\t<div class=\"items-wrap\">\\r\\n\\t\\t<div class=\"block_home_post first-post\">\\r\\n\\t\\t\\t<div class=\"post-image\"><a href=\"http://www.laprensa.com.ar/478128-Gombrowicz-en-atrapante-puesta.note.aspx\" class=\"img-link img-wrap w_hover\" target=\"_self\" onclick=\"javascript:if(typeof(_gaq)!=\\'undefined\\'){_gaq.push([\\'_trackEvent\\', \\'Notas\\', \\'Espectáculos\\', \\'Gombrowicz en atrapante puesta\\'])};\"><img width=\"300\" height=\"150\" src=\"http://www.laprensa.com.ar/Multimedios/Imgs/105482_300.jpg?v=4\" alt=\"Como marionetas en un retablo desfilan los personajes ante un dispositivo escenográfico original que oficia de caja china.\"></a></div>\\r\\n\\t\\t\\t<div class=\"post-content\">\\r\\n\\t\\t\\t\\t<div class=\"title\"><a href=\"http://www.laprensa.com.ar/478128-Gombrowicz-en-atrapante-puesta.note.aspx\" target=\"_self\" onclick=\"javascript:if(typeof(_gaq)!=\\'undefined\\'){_gaq.push([\\'_trackEvent\\', \\'Notas\\', \\'Espectáculos\\', \\'Gombrowicz en atrapante puesta\\'])};\">Gombrowicz en atrapante puesta</a></div>\\r\\n\\t\\t\\t</div>\\r\\n\\t\\t\\t<div class=\"post-info\"><div class=\"post_author\"><em>Por </em>Isabel Croce</div></div>\\r\\n\\t\\t\\t<div class=\"post-body\">El espíritu del autor polaco, retratado en \"Bacacay, Un crimen premeditado\".</div>\\r\\n\\t\\t\\t\\r\\n\\t\\t</div>\\r\\n\\t</div>\\r\\n</div>\\r\\n\\r\\n\\r\\n<div class=\"home_category_news_small clearboth\" note=\"478148\">\\r\\n\\t<div class=\"items-wrap\">\\r\\n\\t\\t<div class=\"block_home_post first-post\">\\r\\n\\t\\t\\t<div class=\"post-image\"><a href=\"http://www.laprensa.com.ar/478148-Rocio-Igarzabal-una-artista-en-una-busqueda-constante.note.aspx\" class=\"img-link img-wrap w_hover\" target=\"_self\" onclick=\"javascript:if(typeof(_gaq)!=\\'undefined\\'){_gaq.push([\\'_trackEvent\\', \\'Notas\\', \\'Espectáculos\\', \\'Rocío Igarzábal, una artista en una búsqueda constante\\'])};\"><img width=\"300\" height=\"150\" src=\"http://www.laprensa.com.ar/Multimedios/Imgs/105490_300.JPG?v=4\" alt=\"Rocío Igarzábal ya comienza a recoger los frutos de su carrera como cantante.Crédito Sofía Racord (@SQ_RACCORD)\"></a></div>\\r\\n\\t\\t\\t<div class=\"post-content\">\\r\\n\\t\\t\\t\\t<div class=\"title\"><a href=\"http://www.laprensa.com.ar/478148-Rocio-Igarzabal-una-artista-en-una-busqueda-constante.note.aspx\" target=\"_self\" onclick=\"javascript:if(typeof(_gaq)!=\\'undefined\\'){_gaq.push([\\'_trackEvent\\', \\'Notas\\', \\'Espectáculos\\', \\'Rocío Igarzábal, una artista en una búsqueda constante\\'])};\">Rocío Igarzábal, una artista en una búsqueda constante</a></div>\\r\\n\\t\\t\\t</div>\\r\\n\\t\\t\\t<div class=\"post-info\"><div class=\"post_author\"><em>Por </em>Alberto E. Celaya</div></div>\\r\\n\\t\\t\\t<div class=\"post-body\">La cantante habló con  \"La Prensa\" sobre \"Sin tu querer\" -su último video-, el papel que jugó en su carrera Cris Morena y sus proyectos a futuro tanto musicales como actorales.</div>\\r\\n\\t\\t\\t\\r\\n\\t\\t</div>\\r\\n\\t</div>\\r\\n</div>\\r\\n\\r\\n\\r\\n\\t\\t\\t\\t\\t\\t\\t\\t\\r\\n\\t\\t\\t\\t\\t\\t\\t</div>\\r\\n\\t\\t\\t\\t\\t\\t</div>\\r\\n\\r\\n\\t\\t\\t\\t\\t\\t<script type=\"text/javascript\">\\r\\n<!--\\r\\n__CGW_Ad(9, 105619048);\\r\\n//-->\\r\\n</script>\\r\\n\\r\\n\\t\\t\\t\\t\\t</div>\\r\\n\\t\\t\\t\\t</div>\\r\\n\\t\\t\\t\\t<div role=\"complementary\" class=\"main_sidebar right_sidebar\" id=\"secondary\">\\r\\n\\t\\t\\t\\t\\t<aside class=\"widget home_category_news\">\\r\\n\\t\\t\\t\\t\\t\\t\\r\\n<div class=\"block_home_post bd-bot\" note=\"478193\">\\r\\n\\t<div class=\"post-image\"><a href=\"http://www.laprensa.com.ar/478193-Francia-dice-que-aun-no-esta-lista-para-ratificar-el-acuerdo-con-el-Mercosur.note.aspx\" class=\"img-link img-wrap w_hover\" target=\"_self\" onclick=\"javascript:if(typeof(_gaq)!=\\'undefined\\'){_gaq.push([\\'_trackEvent\\', \\'Notas\\', \\'El mundo\\', \\'Francia dice que aún no está lista para ratificar el acuerdo con el Mercosur\\'])};\"><img width=\"300\" height=\"150\" src=\"http://www.laprensa.com.ar/Multimedios/Imgs/89229_300.JPG?v=5\" alt=\"Macron.\"></a></div>\\r\\n\\t<div class=\"post-content\">\\r\\n\\t\\t<div class=\"title\"><a href=\"http://www.laprensa.com.ar/478193-Francia-dice-que-aun-no-esta-lista-para-ratificar-el-acuerdo-con-el-Mercosur.note.aspx\" target=\"_self\" onclick=\"javascript:if(typeof(_gaq)!=\\'undefined\\'){_gaq.push([\\'_trackEvent\\', \\'Notas\\', \\'El mundo\\', \\'Francia dice que aún no está lista para ratificar el acuerdo con el Mercosur\\'])};\">Francia dice que aún no está lista para ratificar el acuerdo con el Mercosur</a></div>\\r\\n\\t</div>\\r\\n\\t\\r\\n\\t<div class=\"post-body\">El gobierno de Macron anunció que pedirá \"garantías\" a los países del bloque latinoamericano. Su país ha sido uno de los más reacios al pacto porque teme que su influyente sector agrícola se vea afectado por la llegada masiva de productos sudamericanos al mercado.</div>\\r\\n\\t\\r\\n</div>\\r\\n\\r\\n\\r\\n<div class=\"block_home_post bd-bot\" note=\"478192\">\\r\\n\\t<div class=\"post-image\"><a href=\"http://www.laprensa.com.ar/478192-El-sueno-de-la-razon-engendra-monstruos.note.aspx\" class=\"img-link img-wrap w_hover\" target=\"_self\" onclick=\"javascript:if(typeof(_gaq)!=\\'undefined\\'){_gaq.push([\\'_trackEvent\\', \\'Notas\\', \\'Opinión\\', \\'El sueño de la razón engendra monstruos\\'])};\"><img width=\"300\" height=\"150\" src=\"http://www.laprensa.com.ar/Multimedios/Imgs/105531_300.jpg?v=1\" alt=\"El sueño de la razón engendra monstruos\"></a></div>\\r\\n\\t<div class=\"post-content\">\\r\\n\\t\\t<div class=\"title\"><a href=\"http://www.laprensa.com.ar/478192-El-sueno-de-la-razon-engendra-monstruos.note.aspx\" target=\"_self\" onclick=\"javascript:if(typeof(_gaq)!=\\'undefined\\'){_gaq.push([\\'_trackEvent\\', \\'Notas\\', \\'Opinión\\', \\'El sueño de la razón engendra monstruos\\'])};\">El sueño de la razón engendra monstruos</a></div>\\r\\n\\t</div>\\r\\n\\t<div class=\"post-info\"><div class=\"post_author\"><em>Por </em>Jorge A. Avila</div></div>\\r\\n\\t<div class=\"post-body\">Acuarelas Porteñas- El cierre de las listas para renovar autoridades en la ciudad, reflejó, una vez más, la ausencia casi absoluta de intelectuales y científicos entre los postulantes.</div>\\r\\n\\t\\r\\n</div>\\r\\n\\r\\n\\r\\n<div class=\"block_home_post bd-bot\" note=\"478197\">\\r\\n\\t<div class=\"post-image\"><a href=\"http://www.laprensa.com.ar/478197-Detienen-a-ocho-ninos-de-entre-11-y-16-anos-por-intentar-robar-una-moto-en-Recoleta.note.aspx\" class=\"img-link img-wrap w_hover\" target=\"_self\" onclick=\"javascript:if(typeof(_gaq)!=\\'undefined\\'){_gaq.push([\\'_trackEvent\\', \\'Notas\\', \\'Actualidad\\', \\'Detienen a ocho niños de entre 11 y 16 años por intentar robar una moto en Recoleta\\'])};\"><img width=\"300\" height=\"150\" src=\"http://www.laprensa.com.ar/Multimedios/Imgs/85295_300.jpg?v=45\" alt=\"Policía de la Ciudad.\"></a></div>\\r\\n\\t<div class=\"post-content\">\\r\\n\\t\\t<div class=\"title\"><a href=\"http://www.laprensa.com.ar/478197-Detienen-a-ocho-ninos-de-entre-11-y-16-anos-por-intentar-robar-una-moto-en-Recoleta.note.aspx\" target=\"_self\" onclick=\"javascript:if(typeof(_gaq)!=\\'undefined\\'){_gaq.push([\\'_trackEvent\\', \\'Notas\\', \\'Actualidad\\', \\'Detienen a ocho niños de entre 11 y 16 años por intentar robar una moto en Recoleta\\'])};\">Detienen a ocho niños de entre 11 y 16 años por intentar robar una moto en Recoleta</a></div>\\r\\n\\t</div>\\r\\n\\t\\r\\n\\t<div class=\"post-body\">El hecho ocurrió ayer a la madrugada en el cruce de Sánchez de Bustamante y Pacheco de Melo, donde un cuatriciclo y patrulleros de la comisaría vecinal 2A de la Policía de la Ciudad concurrieron ante un aviso de un robo en modalidad “piraña”.</div>\\r\\n\\t\\r\\n</div>\\r\\n\\r\\n\\r\\n<div class=\"block_home_post bd-bot\" note=\"478194\">\\r\\n\\t<div class=\"post-image\"><a href=\"http://www.laprensa.com.ar/478194-El-eclipse-solar-se-vera-en-todo-el-pais-precauciones-para-mirarlo.note.aspx\" class=\"img-link img-wrap w_hover\" target=\"_self\" onclick=\"javascript:if(typeof(_gaq)!=\\'undefined\\'){_gaq.push([\\'_trackEvent\\', \\'Notas\\', \\'Actualidad\\', \\'El eclipse solar se verá en todo el país: precauciones para mirarlo\\'])};\"><img width=\"300\" height=\"150\" src=\"http://www.laprensa.com.ar/Multimedios/Imgs/105532_300.jpg?v=2\" alt=\"Mirar directamente a un eclipse puede &quot;quemar el ojo y dejarnos ciegos&quot;, advierten especialistas\"></a></div>\\r\\n\\t<div class=\"post-content\">\\r\\n\\t\\t<div class=\"title\"><a href=\"http://www.laprensa.com.ar/478194-El-eclipse-solar-se-vera-en-todo-el-pais-precauciones-para-mirarlo.note.aspx\" target=\"_self\" onclick=\"javascript:if(typeof(_gaq)!=\\'undefined\\'){_gaq.push([\\'_trackEvent\\', \\'Notas\\', \\'Actualidad\\', \\'El eclipse solar se verá en todo el país: precauciones para mirarlo\\'])};\">El eclipse solar se verá en todo el país: precauciones para mirarlo</a></div>\\r\\n\\t</div>\\r\\n\\t\\r\\n\\t<div class=\"post-body\"></div>\\r\\n\\t\\r\\n</div>\\r\\n\\r\\n\\r\\n<div class=\"block_home_post bd-bot\" note=\"478198\">\\r\\n\\t<div class=\"post-image\"><a href=\"http://www.laprensa.com.ar/478198-Delbonis-fue-rapidamente-eliminado-en-Wimbledon.note.aspx\" class=\"img-link img-wrap w_hover\" target=\"_self\" onclick=\"javascript:if(typeof(_gaq)!=\\'undefined\\'){_gaq.push([\\'_trackEvent\\', \\'Notas\\', \\'Deportes\\', \\'Delbonis fue rápidamente eliminado en Wimbledon\\'])};\"><img width=\"300\" height=\"150\" src=\"http://www.laprensa.com.ar/Multimedios/Imgs/84406_300.JPG?v=4\" alt=\"Federico Delbonis.\"></a></div>\\r\\n\\t<div class=\"post-content\">\\r\\n\\t\\t<div class=\"title\"><a href=\"http://www.laprensa.com.ar/478198-Delbonis-fue-rapidamente-eliminado-en-Wimbledon.note.aspx\" target=\"_self\" onclick=\"javascript:if(typeof(_gaq)!=\\'undefined\\'){_gaq.push([\\'_trackEvent\\', \\'Notas\\', \\'Deportes\\', \\'Delbonis fue rápidamente eliminado en Wimbledon\\'])};\">Delbonis fue rápidamente eliminado en Wimbledon</a></div>\\r\\n\\t</div>\\r\\n\\t\\r\\n\\t<div class=\"post-body\">Pese a que intentó poner en apuros a Evans (61), no lo logró y perdió luego de dos horas y cuarto de juego.</div>\\r\\n\\t\\r\\n</div>\\r\\n\\r\\n\\r\\n<div class=\"block_home_post bd-bot\" note=\"478180\">\\r\\n\\t<div class=\"post-image\"><a href=\"http://www.laprensa.com.ar/478180-Conmebol-confirmo-a-la-Argentina-como-sede-de-inicio-para-la-Copa-America-2020.note.aspx\" class=\"img-link img-wrap w_hover\" target=\"_self\" onclick=\"javascript:if(typeof(_gaq)!=\\'undefined\\'){_gaq.push([\\'_trackEvent\\', \\'Notas\\', \\'Deportes\\', \\'Conmebol confirmó a la Argentina como sede de inicio para la Copa América 2020\\'])};\"><img width=\"300\" height=\"150\" src=\"http://www.laprensa.com.ar/Multimedios/Imgs/105522_300.jpg?v=1\" alt=\"Conmebol confirmó a la Argentina como sede de inicio para la Copa América 2020\"></a></div>\\r\\n\\t<div class=\"post-content\">\\r\\n\\t\\t<div class=\"title\"><a href=\"http://www.laprensa.com.ar/478180-Conmebol-confirmo-a-la-Argentina-como-sede-de-inicio-para-la-Copa-America-2020.note.aspx\" target=\"_self\" onclick=\"javascript:if(typeof(_gaq)!=\\'undefined\\'){_gaq.push([\\'_trackEvent\\', \\'Notas\\', \\'Deportes\\', \\'Conmebol confirmó a la Argentina como sede de inicio para la Copa América 2020\\'])};\">Conmebol confirmó a la Argentina como sede de inicio para la Copa América 2020</a></div>\\r\\n\\t</div>\\r\\n\\t\\r\\n\\t<div class=\"post-body\">La Copa América del próximo año tendrá por primera vez una doble sede \"con el objetivo de acercar el fútbol sudamericano a todos los aficionados del continente\".</div>\\r\\n\\t\\r\\n</div>\\r\\n\\r\\n\\r\\n<div class=\"block_home_post bd-bot\" note=\"478191\">\\r\\n\\t<div class=\"post-image\"><a href=\"http://www.laprensa.com.ar/478191-Dona-Flor-y-sus-dos-maridos.note.aspx\" class=\"img-link img-wrap w_hover\" target=\"_self\" onclick=\"javascript:if(typeof(_gaq)!=\\'undefined\\'){_gaq.push([\\'_trackEvent\\', \\'Notas\\', \\'Opinión\\', \\'Doña Flor y sus dos maridos\\'])};\"><img width=\"300\" height=\"150\" src=\"http://www.laprensa.com.ar/Multimedios/Imgs/105530_300.jpg?v=2\" alt=\"Una alianza defensiva con Massa seguramente está en los cálculos políticos de Alberto Fernández.\"></a></div>\\r\\n\\t<div class=\"post-content\">\\r\\n\\t\\t<div class=\"title\"><a href=\"http://www.laprensa.com.ar/478191-Dona-Flor-y-sus-dos-maridos.note.aspx\" target=\"_self\" onclick=\"javascript:if(typeof(_gaq)!=\\'undefined\\'){_gaq.push([\\'_trackEvent\\', \\'Notas\\', \\'Opinión\\', \\'Doña Flor y sus dos maridos\\'])};\">Doña Flor y sus dos maridos</a></div>\\r\\n\\t</div>\\r\\n\\t\\r\\n\\t<div class=\"post-body\">Como en vísperas de la Primera Guerra Mundial, el actual panorama político argentino, está dominado por una configuración de alianzas.</div>\\r\\n\\t\\r\\n</div>\\r\\n\\r\\n\\r\\n<div class=\"block_home_post bd-bot\" note=\"478187\">\\r\\n\\t<div class=\"post-image\"><a href=\"http://www.laprensa.com.ar/478187-La-perversa-ideologia-de-genero.note.aspx\" class=\"img-link img-wrap w_hover\" target=\"_self\" onclick=\"javascript:if(typeof(_gaq)!=\\'undefined\\'){_gaq.push([\\'_trackEvent\\', \\'Notas\\', \\'Opinión\\', \\'La perversa ideología de género\\'])};\"><img width=\"300\" height=\"150\" src=\"http://www.laprensa.com.ar/Multimedios/Imgs/105529_300.jpg?v=2\" alt=\"La primera vez que se utiliza el término &quot;género&quot; como una realidad distinta al sexo biológico es en un artículo publicado en 1955, recordó Muñoz Iturrieta.\"></a></div>\\r\\n\\t<div class=\"post-content\">\\r\\n\\t\\t<div class=\"title\"><a href=\"http://www.laprensa.com.ar/478187-La-perversa-ideologia-de-genero.note.aspx\" target=\"_self\" onclick=\"javascript:if(typeof(_gaq)!=\\'undefined\\'){_gaq.push([\\'_trackEvent\\', \\'Notas\\', \\'Opinión\\', \\'La perversa ideología de género\\'])};\">La perversa ideología de género</a></div>\\r\\n\\t</div>\\r\\n\\t<div class=\"post-info\"><div class=\"post_author\"><em>Por </em>Carlos Ialorenzi</div></div>\\r\\n\\t<div class=\"post-body\">\\r\\nEstá en el país el doctor Pablo Muñoz Iturrieta quien reside desde hace varios años en Canadá.</div>\\r\\n\\t\\r\\n</div>\\r\\n\\r\\n\\r\\n<div class=\"block_home_post bd-bot\" note=\"478146\">\\r\\n\\t<div class=\"post-image\"><a href=\"http://www.laprensa.com.ar/478146-Millennials-retos-de-una-generacion.note.aspx\" class=\"img-link img-wrap w_hover\" target=\"_self\" onclick=\"javascript:if(typeof(_gaq)!=\\'undefined\\'){_gaq.push([\\'_trackEvent\\', \\'Notas\\', \\'Actualidad\\', \\'Millennials: retos de una generación\\'])};\"><img width=\"300\" height=\"150\" src=\"http://www.laprensa.com.ar/Multimedios/Imgs/105491_300.jpg?v=2\" alt=\"La economista Karina Gao se convirtió en una influencer en Instagram a partir de sus recetas gourmet para bebes.\"></a></div>\\r\\n\\t<div class=\"post-content\">\\r\\n\\t\\t<div class=\"title\"><a href=\"http://www.laprensa.com.ar/478146-Millennials-retos-de-una-generacion.note.aspx\" target=\"_self\" onclick=\"javascript:if(typeof(_gaq)!=\\'undefined\\'){_gaq.push([\\'_trackEvent\\', \\'Notas\\', \\'Actualidad\\', \\'Millennials: retos de una generación\\'])};\">Millennials: retos de una generación</a></div>\\r\\n\\t</div>\\r\\n\\t<div class=\"post-info\"><div class=\"post_author\"><em>Por </em>Mariana Badeni</div></div>\\r\\n\\t<div class=\"post-body\">La búsqueda de nuevos horizontes plantea inquietud por encontrar un lugar en el mundo laboral y cultural en la Argentina. La tercera edición de \"Millennial - Desafíos de la vida profesional\" fue el marco de reflexión oranizado por la comunidad coreana para compartir experiencias que inspiren a todos los jóvenes que en la Ciudad de Buenos Aires.</div>\\r\\n\\t\\r\\n</div>\\r\\n\\r\\n\\r\\n<div class=\"block_home_post bd-bot\" note=\"478154\">\\r\\n\\t<div class=\"post-image\"><a href=\"http://www.laprensa.com.ar/478154-El-regreso-a-Tierra-Santa-en-la-voz-del-hincha.note.aspx\" class=\"img-link img-wrap w_hover\" target=\"_self\" onclick=\"javascript:if(typeof(_gaq)!=\\'undefined\\'){_gaq.push([\\'_trackEvent\\', \\'Notas\\', \\'Deportes\\', \\'El regreso a Tierra Santa en la voz del hincha\\'])};\"><img width=\"300\" height=\"150\" src=\"http://www.laprensa.com.ar/Multimedios/Imgs/105497_300.jpg?v=5\" alt=\"Una multitud acompañó el histórico regreso de San Lorenzo a Boedo.Gustavo Carabajal.\"></a></div>\\r\\n\\t<div class=\"post-content\">\\r\\n\\t\\t<div class=\"title\"><a href=\"http://www.laprensa.com.ar/478154-El-regreso-a-Tierra-Santa-en-la-voz-del-hincha.note.aspx\" target=\"_self\" onclick=\"javascript:if(typeof(_gaq)!=\\'undefined\\'){_gaq.push([\\'_trackEvent\\', \\'Notas\\', \\'Deportes\\', \\'El regreso a Tierra Santa en la voz del hincha\\'])};\">El regreso a Tierra Santa en la voz del hincha</a></div>\\r\\n\\t</div>\\r\\n\\t<div class=\"post-info\"><div class=\"post_author\"><em>Por </em>Carlos Viacava</div></div>\\r\\n\\t<div class=\"post-body\">San Lorenzo recuperó su lugar en avenida La Plata al 1700. Pablo y Carlos, simpatizantes azulgranas, le contaron a La Prensa cómo vivieron ese día histórico.</div>\\r\\n\\t\\r\\n</div>\\r\\n\\r\\n\\r\\n<aside class=\"widget widget_recent_blogposts widget_nota negra\">\\r\\n\\t<div note=\"478190\">\\r\\n\\t\\t<div class=\"widget_header\"><h3 class=\"widget_title\">DE QUE SE HABLA HOY </h3></div>\\r\\n\\t\\t<div class=\"widget_body\">\\r\\n\\t\\t\\t<div class=\"post-image\"><a href=\"http://www.laprensa.com.ar/478190-Hoy-la-mitad-del-pais-mirara-al-cielo-y-la-otra-mitad-el-televisor.note.aspx\" class=\"img-link img-wrap w_hover\" target=\"_self\" onclick=\"javascript:if(typeof(_gaq)!=\\'undefined\\'){_gaq.push([\\'_trackEvent\\', \\'Notas\\', \\'Opinión\\', \\'Hoy la mitad del país mirará al cielo y la otra mitad el televisor\\'])};\"><img width=\"300\" height=\"150\" src=\"http://www.laprensa.com.ar/Multimedios/Imgs/105527_300.jpg?v=1\" alt=\"Hoy la mitad del país mirará al cielo y la otra mitad el televisor\"></a></div>\\r\\n\\t\\t\\t<div class=\"post-content\">\\r\\n\\t\\t\\t\\t<div class=\"title\"><a href=\"http://www.laprensa.com.ar/478190-Hoy-la-mitad-del-pais-mirara-al-cielo-y-la-otra-mitad-el-televisor.note.aspx\" target=\"_self\" onclick=\"javascript:if(typeof(_gaq)!=\\'undefined\\'){_gaq.push([\\'_trackEvent\\', \\'Notas\\', \\'Opinión\\', \\'Hoy la mitad del país mirará al cielo y la otra mitad el televisor\\'])};\">Hoy la mitad del país mirará al cielo y la otra mitad el televisor</a></div>\\r\\n\\t\\t\\t</div>\\r\\n\\t\\t</div>\\r\\n\\t</div>\\r\\n</aside>\\r\\n\\r\\n\\r\\n<aside class=\"widget widget_recent_blogposts widget_nota bordo\">\\r\\n\\t<div note=\"478196\">\\r\\n\\t\\t<div class=\"widget_header\"><h3 class=\"widget_title\">Claves de las seguridad</h3></div>\\r\\n\\t\\t<div class=\"widget_body\">\\r\\n\\t\\t\\t<div class=\"post-image\"><a href=\"http://www.laprensa.com.ar/478196-No-sabemos-aun-lidiar-con-el-error-de-las-fuerzas-policiales.note.aspx\" class=\"img-link img-wrap w_hover\" target=\"_self\" onclick=\"javascript:if(typeof(_gaq)!=\\'undefined\\'){_gaq.push([\\'_trackEvent\\', \\'Notas\\', \\'Opinión\\', \\'No sabemos aún lidiar con el error de las fuerzas policiales\\'])};\"></a></div>\\r\\n\\t\\t\\t<div class=\"post-content\">\\r\\n\\t\\t\\t\\t<div class=\"title\"><a href=\"http://www.laprensa.com.ar/478196-No-sabemos-aun-lidiar-con-el-error-de-las-fuerzas-policiales.note.aspx\" target=\"_self\" onclick=\"javascript:if(typeof(_gaq)!=\\'undefined\\'){_gaq.push([\\'_trackEvent\\', \\'Notas\\', \\'Opinión\\', \\'No sabemos aún lidiar con el error de las fuerzas policiales\\'])};\">No sabemos aún lidiar con el error de las fuerzas policiales</a></div>\\r\\n\\t\\t\\t</div>\\r\\n\\t\\t</div>\\r\\n\\t</div>\\r\\n</aside>\\r\\n\\r\\n<aside class=\\'widget widget_recent_blogposts\\'>\\r\\n<div class=\\'widget_header\\'><h3 class=\\'widget_title\\'>Edición Nº 52.188</h3></div>\\r\\n<div class=\\'widget_body widget_tapa\\'>\\r\\n\\r\\n<a href=\"NoteListLastEdition.aspx\"><img width=\"276\" height=\"368\" src=\"http://www.laprensa.com.ar/Multimedios/imgs/105526_276.jpg?v=2\" /></a>\\r\\n\\r\\n\\r\\n<!--<div class=\"getEdition\"><a href=\"http://www.laprensa.com.ar/Multimedios/Otros/86399.pdf\" onclick=\"javascript:if(typeof(_gaq)!=&#39;undefined&#39;){_gaq.push([&#39;_trackEvent&#39;, &#39;Multimedia&#39;, &#39;Actualidad&#39;, &#39;null&#39;])};\"><i class=\"fa fa-file-pdf-o\" aria-hidden=\"true\"></i> Obtener Tapa</a> | <a href=\"EditionPdf.aspx\">Obtener Edición</a></div>-->\\r\\n</div>\\r\\n</aside>\\r\\n\\t\\t\\t\\t\\t\\t\\r\\n\\t\\t\\t\\t\\t</aside>\\r\\n\\t\\t\\t\\t\\t\\r\\n\\t\\t\\t\\t\\t<script type=\"text/javascript\">\\r\\n<!--\\r\\n__CGW_Ad(1, 105619048);\\r\\n//-->\\r\\n</script>\\r\\n\\t\\t\\t\\t\\t<script type=\"text/javascript\">\\r\\n<!--\\r\\n__CGW_Ad(2, 105619048);\\r\\n//-->\\r\\n</script>\\r\\n\\t\\t\\t\\t\\t\\r\\n\\t\\t\\t\\t\\t<script type=\"text/javascript\">\\r\\n<!--\\r\\n__CGW_Ad(3, 105619048);\\r\\n//-->\\r\\n</script>\\r\\n\\t\\t\\t\\t\\t\\r\\n\\t\\t\\t\\t\\t<script type=\"text/javascript\">\\r\\n<!--\\r\\n__CGW_Ad(4, 105619048);\\r\\n//-->\\r\\n</script>\\r\\n\\t\\t\\t\\t\\t\\r\\n\\t\\t\\t\\t\\t<script type=\"text/javascript\">\\r\\n<!--\\r\\n__CGW_Ad(5, 105619048);\\r\\n//-->\\r\\n</script>\\r\\n\\t\\t\\t\\t\\t\\r\\n\\t\\t\\t\\t\\t<script type=\"text/javascript\">\\r\\n<!--\\r\\n__CGW_Ad(6, 105619048);\\r\\n//-->\\r\\n</script>\\r\\n\\t\\t\\t\\t\\t\\r\\n\\t\\t\\t\\t\\t<script type=\"text/javascript\">\\r\\n<!--\\r\\n__CGW_Ad(7, 105619048);\\r\\n//-->\\r\\n</script>\\r\\n\\t\\t\\t\\t\\t<script type=\"text/javascript\">\\r\\n<!--\\r\\n__CGW_Ad(8, 105619048);\\r\\n//-->\\r\\n</script>\\r\\n\\t\\t\\t\\t\\t\\r\\n\\t\\t\\t\\t\\t\\r\\n\\t\\t\\t\\t\\t<aside class=\"widget home_category_news\">\\r\\n\\t\\t\\t\\t\\t\\t\\r\\n\\t\\t\\t\\t\\t</aside>\\r\\n\\t\\t\\t\\t</div>\\r\\n\\t\\t\\t</div>\\r\\n\\t\\t\\t<div class=\"general_content clearboth\">\\r\\n\\t\\t\\t\\t<div class=\"homepage_gallery\" id=\"home-gallery\">\\r\\n\\t<div class=\"border-top\"></div>\\r\\n\\t<h2>El día en fotos</h2>\\r\\n\\t<div id=\"home-gallery-wrapper\" class=\"es-carousel-wrapper\">\\r\\n\\t\\t<div class=\"es-carousel\">\\r\\n\\t\\t\\t<ul class=\"slides\"></ul>\\r\\n\\t\\t</div>\\r\\n\\t</div>\\r\\n</div>\\r\\n\\r\\n\\t\\t\\t</div>\\r\\n\\t\\t</div>\\r\\n\\t</div>\\r\\n\\t<footer role=\"contentinfo\" class=\"site-footer\" id=\"footer\">\\r\\n<section class=\"ft_section_1\">\\r\\n\\t<div class=\"footer-wrapper\">\\r\\n\\t\\t<div class=\"footer_text\">La Prensa Digital - All rights reserved - Fundada por José C. Paz el 18 de octubre de 1869.<br />\\r\\n\\t\\tDirector: Florencio Aldrey - Subdirector: Guillermo Belcore - Jefe de Redacción: Pablo S.Otero - Subjefe de Redacción: Daniel Sousa<br />Encargado de la Edición Digital: Fernando Bertoldi<br />\\r\\n\\t\\tPropiedad de Editorial La Capital S.A. - Azopardo 715, CABA, (C1107ADK) Buenos Aires, Argentina<br />\\r\\n\\t\\tPropiedad Intelectual: 18764279 - Edición Nº: 52.188</div>\\r\\n\\t</div>\\r\\n</section>\\r\\n<section class=\"ft_section_2\">\\r\\n  <div class=\"footer-wrapper\">\\r\\n\\t<ul id=\"footer_menu\">\\r\\n\\t\\t<li><a href=\"/\">Inicio</a></li>\\r\\n\\t\\t<li><a href=\"contacto.aspx\">Contacto</a></li>\\r\\n\\t</ul>\\r\\n\\t<div class=\"copyright\">\\r\\n\\t  <div class=\"footer_text\">&copy; 2019. Todos los derechos reservados. <a href=\"http://www.civinext.com/\" target=\"_blank\">Powered by Civinext </a></div>\\r\\n\\t</div>\\r\\n  </div>\\r\\n</section>\\r\\n</footer>\\r\\n\\r\\n<!-- PopUp -->\\r\\n<div id=\"overlay\"></div>\\r\\n\\r\\n\\r\\n<!-- go Top--> \\r\\n<a id=\"toTop\" href=\"#\"><span></span></a> \\r\\n\\r\\n\\r\\n</div>\\r\\n<script type=\"text/javascript\" src=\"/js/jquery-ui-1.9.2.custom.min.js\"></script> \\r\\n<script type=\"text/javascript\" src=\"/js/bootstrap-datepicker.es.min.js\"></script> \\r\\n<script type=\"text/javascript\" src=\"/js/superfish.js\"></script> \\r\\n<script type=\"text/javascript\" src=\"/js/jquery.jclock.js\"></script> \\r\\n<script type=\"text/javascript\" src=\"/js/jquery.flexslider-min.js\"></script> \\r\\n<script type=\"text/javascript\" src=\"/js/jquery.prettyPhoto.js\"></script> \\r\\n<script type=\"text/javascript\" src=\"/js/jquery.jcarousel.min.js\"></script> \\r\\n<script type=\"text/javascript\" src=\"/js/jquery.elastislide.js\"></script> \\r\\n<script type=\"text/javascript\" src=\"/js/googlemap_init.js\"></script> \\r\\n<script type=\"text/javascript\" src=\"/js/mediaelement.min.js\"></script> \\r\\n<script type=\"text/javascript\" src=\"/js/lib.js\"></script>\\r\\n<script type=\"text/javascript\" src=\"/js/functions.js?v=2\"></script>\\r\\n\\r\\n<script>\\r\\n  (function(i,s,o,g,r,a,m){i[\\'GoogleAnalyticsObject\\']=r;i[r]=i[r]||function(){\\r\\n  (i[r].q=i[r].q||[]).push(arguments)},i[r].l=1*new Date();a=s.createElement(o),\\r\\n  m=s.getElementsByTagName(o)[0];a.async=1;a.src=g;m.parentNode.insertBefore(a,m)\\r\\n  })(window,document,\\'script\\',\\'//www.google-analytics.com/analytics.js\\',\\'ga\\');\\r\\n\\r\\n  ga(\\'create\\', \\'UA-4968591-1\\', \\'auto\\');\\r\\n  ga(\\'send\\', \\'pageview\\');\\r\\n</script>\\r\\n\\r\\n<script language=\"javascript\" type=\"text/javascript\">\\r\\n<!--\\r\\n__CGW_SetHit(34849,20,0,0);\\r\\n//-->\\r\\n</script>\\r\\n\\r\\n</body>\\r\\n</html> \\r\\n\\r\\n<!--SCRIPT--><script language=\"javascript\" type=\"text/javascript\">\\r\\n<!--\\r\\n\\r\\nif(typeof(jsPageLoad)!=\"undefined\")\\r\\n\\tjsPageLoad(); \\r\\nvar IsPostback = false;\\r\\nif(typeof(ObtenerControl)!=\"undefined\") {\\r\\nvar TapasHomeNew = ObtenerControl(\"TapasHomeNew\");\\r\\nvar ImageNew2 = ObtenerControl(\"ImageNew2\");\\r\\n}\\r\\nif(typeof(LoadAll)!=\"undefined\"){LoadAll();}\\r\\n//-->\\r\\n</script>\\r\\n<!--/SCRIPT-->\\r\\n'"
      ]
     },
     "execution_count": 36,
     "metadata": {},
     "output_type": "execute_result"
    }
   ],
   "source": [
    "# Imprimimos el texto de la respuesta\n",
    "resp_lp.text"
   ]
  },
  {
   "cell_type": "code",
   "execution_count": 37,
   "metadata": {
    "colab": {},
    "colab_type": "code",
    "id": "Ze_1jnea99Mm"
   },
   "outputs": [],
   "source": [
    "# Usamos el navegador para identificar la estructura de los datos que queremos extraer y creamos el patrón de búsqueda\n",
    "pattern = 'class=\"title\".+?>(.+?\\s*)<'"
   ]
  },
  {
   "cell_type": "code",
   "execution_count": 38,
   "metadata": {
    "colab": {},
    "colab_type": "code",
    "id": "Ql8rBteY99Mp"
   },
   "outputs": [],
   "source": [
    "#Usamos findall para encontrar todas las coincidencias\n",
    "titles = [m for m in re.findall(pattern, resp_lp.text)]"
   ]
  },
  {
   "cell_type": "code",
   "execution_count": 39,
   "metadata": {
    "colab": {},
    "colab_type": "code",
    "id": "2MB6hlux99Mr"
   },
   "outputs": [
    {
     "data": {
      "text/plain": [
       "['Macri sobre el acuerdo con la UE: \"Muchas empresas se van a animar a invertir en el país\"',\n",
       " 'Cristina Kirchner viajó a Cuba para visitar a su hija Florencia',\n",
       " 'Vidal: el acuerdo con la UE \"generará desarrollo, más trabajo y más dignidad\"',\n",
       " 'La lenta recuperación económica no despeja las dudas políticas',\n",
       " 'La deslealtad a la Constitución',\n",
       " 'Los impuestos, el lastre que frena la iniciativa exportadora\\r\\n\\r\\n',\n",
       " 'Dictan conciliación obligatoria para impedir despidos de trabajadores de Zanella en San Luis',\n",
       " 'Difunden las identidades de las 15 víctimas fatales del accidente de ómnibus en Tucumán',\n",
       " 'Viaje en el tiempo a los sabores de Italia',\n",
       " '\"Pichetto tiene un rol estabilizador\"',\n",
       " '\"Hay que bajar la carga tributaria en Argentina\"\\r\\n\\r\\n',\n",
       " '\"Habrá un nuevo blanqueo\"',\n",
       " 'La meta fiscal, un objetivo muy arduo',\n",
       " '¿Cómo terminaron sus días los últimos virreyes del Río de  la Plata?\\r\\n',\n",
       " 'Marta Minujin sorprende a Nueva York',\n",
       " 'Hemingway y su inspiración cubana',\n",
       " 'Sobre la caminata y la lectura',\n",
       " 'Persecución e intriga en la ciudad de los canales\\r\\n',\n",
       " 'La historia de lo que pudo ser',\n",
       " 'Adicción a los videojuegos: un desafío mayor que el alcoholismo y la drogadicción\\r\\n',\n",
       " 'Dermatitis atópica, una enfermedad que empeora con el frío',\n",
       " 'Leche de vaca, de soja y de almendra: ¿cuál es mejor? \\r\\n\\r\\n',\n",
       " 'La Raza Fuerte se renovó\\r\\n',\n",
       " 'El T-Cross llega para pelear entre los SUV',\n",
       " 'Este es el nuevo Peugeot 2008, que se produciría en el país',\n",
       " 'Bartolucci, la primera enóloga de Chandon\\r\\n',\n",
       " 'Negroni, un clásico centenario',\n",
       " 'Los finalistas de una de las competencias gastronómicas más importantes del país\\r\\n',\n",
       " 'Una historia feroz y potente',\n",
       " 'De la tierra al cielo',\n",
       " 'Gombrowicz en atrapante puesta',\n",
       " 'Rocío Igarzábal, una artista en una búsqueda constante',\n",
       " 'Francia dice que aún no está lista para ratificar el acuerdo con el Mercosur',\n",
       " 'El sueño de la razón engendra monstruos',\n",
       " 'Detienen a ocho niños de entre 11 y 16 años por intentar robar una moto en Recoleta',\n",
       " 'El eclipse solar se verá en todo el país: precauciones para mirarlo',\n",
       " 'Delbonis fue rápidamente eliminado en Wimbledon',\n",
       " 'Conmebol confirmó a la Argentina como sede de inicio para la Copa América 2020',\n",
       " 'Doña Flor y sus dos maridos',\n",
       " 'La perversa ideología de género',\n",
       " 'Millennials: retos de una generación',\n",
       " 'El regreso a Tierra Santa en la voz del hincha',\n",
       " 'Hoy la mitad del país mirará al cielo y la otra mitad el televisor',\n",
       " 'No sabemos aún lidiar con el error de las fuerzas policiales']"
      ]
     },
     "execution_count": 39,
     "metadata": {},
     "output_type": "execute_result"
    }
   ],
   "source": [
    "titles"
   ]
  },
  {
   "cell_type": "markdown",
   "metadata": {
    "colab": {},
    "colab_type": "code",
    "id": "cK5-Q3F--fUp"
   },
   "source": [
    "## Utilizando Beautiful Soup"
   ]
  },
  {
   "cell_type": "markdown",
   "metadata": {
    "colab_type": "text",
    "id": "doahXhr55Y4m"
   },
   "source": [
    "En lugar de utilizar regex para parsear el contenido HTML de la respuesta, ahora vamos a repetir el mismo ejercicio de obtención de los títulos de las noticias utilizando la librería `BeautifulSoup`."
   ]
  },
  {
   "cell_type": "code",
   "execution_count": 40,
   "metadata": {
    "colab": {},
    "colab_type": "code",
    "id": "zr3aTSl55Y49"
   },
   "outputs": [],
   "source": [
    "# Instanciamos un objeto de tipo BeatifulSoup \n",
    "soup = BeautifulSoup(resp_lp.content, 'html.parser')"
   ]
  },
  {
   "cell_type": "code",
   "execution_count": 41,
   "metadata": {
    "colab": {},
    "colab_type": "code",
    "id": "FYjDMFVR5Y5F"
   },
   "outputs": [
    {
     "data": {
      "text/plain": [
       "bs4.BeautifulSoup"
      ]
     },
     "execution_count": 41,
     "metadata": {},
     "output_type": "execute_result"
    }
   ],
   "source": [
    "# Chequeamos el tipo del objeto\n",
    "type(soup)"
   ]
  },
  {
   "cell_type": "code",
   "execution_count": 42,
   "metadata": {
    "colab": {},
    "colab_type": "code",
    "id": "st7tuUyq5Y5O"
   },
   "outputs": [
    {
     "data": {
      "text/plain": [
       "<html>\n",
       "<head>\n",
       "<meta content=\"text/html; charset=utf-8\" http-equiv=\"content-type\"/>\n",
       "<meta content=\"http://www.laprensa.com.ar/default.aspx\" property=\"og:url\"/>\n",
       "<meta content=\"La Prensa\" property=\"og:title\"/>\n",
       "<meta content=\"laprensa.com.ar - Información actualizada diariamente. Noticias de Argentina y del mundo - ¡Ingresá ya!\" property=\"og:description\"/>\n",
       "<title>La Prensa</title>\n",
       "<meta content=\"laprensa.com.ar - Información actualizada diariamente. Noticias de Argentina y del mundo - ¡Ingresá ya!\" name=\"description\"/>\n",
       "<meta content=\"la prensa, diario, argentina, noticias, información, política, economía, finanzas, deportes, futbol, tenis, rugby, basquetbol, voleibol, formula 1, cultura, espectáculos, cine, teatro, juegos, internacional, exterior, ciencia, ultimas noticias\" name=\"keywords\"/>\n",
       "<meta content=\"2019 La Prensa\" name=\"copyright\"/>\n",
       "<meta content=\"Civinext Groupware\" name=\"generator\"/>\n",
       "<script language=\"javascript\" src=\"http://www.laprensa.com.ar/js/jquery.min.js?&amp;v=4.0.7066.16411\" type=\"text/javascript\"></script>\n",
       "<script language=\"javascript\" src=\"http://www.laprensa.com.ar/ResourcesManager.aspx?Resource=Functions.js&amp;v=4.0.7066.16411\" type=\"text/javascript\"></script>\n",
       "<script language=\"javascript\" type=\"text/javascript\">\n",
       "<!--\n",
       "var __CGW_Page=34849;__CGW_Note=0;__CGW_Section=0;__CGW_Auth=false;__CGW_PageBase=32;__CGW_Product=0;__CGW_Event=0;__CGW_Categories=null;__CGW_Ok=0;__CGW_PageName='Home Principal';\n",
       "//-->\n",
       "</script>\n",
       "<meta content=\"width=device-width, initial-scale=1, maximum-scale=1\" name=\"viewport\"/>\n",
       "<link href=\"/images/favicon.ico\" rel=\"shortcut icon\"/>\n",
       "<!--[if lt IE 9]>\n",
       "<script type=\"text/javascript\" src=\"js/html5.js\"></script>\n",
       "<link rel=\"stylesheet\" href=\"style/ie.css\" type=\"text/css\" media=\"all\">\n",
       "<![endif]-->\n",
       "<link href=\"/style/font-awesome.min.css\" rel=\"stylesheet\"/>\n",
       "<link href=\"/style/base/jquery-ui-1.9.2.custom.min.css\" rel=\"stylesheet\"/>\n",
       "<link href=\"/style/style.css?v=1\" media=\"all\" rel=\"stylesheet\" type=\"text/css\"/>\n",
       "<link href=\"/style/responsive.css\" media=\"all\" rel=\"stylesheet\" type=\"text/css\"/>\n",
       "</head>\n",
       "<body class=\"pattern-5 auto\" style=\"cursor: auto;\">\n",
       "<!--[if lt IE 8]>\n",
       "<div class=\"sc_infobox sc_infobox_style_error\">\n",
       "It looks like you're using an old version of Internet Explorer. For the best web site experience, please <a href=\"http://windows.microsoft.com/en-us/internet-explorer/ie-10-worldwide-languages\">update your browser</a> or learn how to <a href=\"http://browsehappy.com\">browse happy</a>!\n",
       "</div>\n",
       "<![endif]-->\n",
       "<div id=\"fb-root\"></div>\n",
       "<script>(function(d, s, id) {\n",
       "  var js, fjs = d.getElementsByTagName(s)[0];\n",
       "  if (d.getElementById(id)) return;\n",
       "  js = d.createElement(s); js.id = id;\n",
       "  js.src = \"//connect.facebook.net/es_LA/sdk.js#xfbml=1&version=v2.8&appId=1875217336052816\";\n",
       "  fjs.parentNode.insertBefore(js, fjs);\n",
       "}(document, 'script', 'facebook-jssdk'));</script>\n",
       "<div id=\"page\">\n",
       "<!-- header begin -->\n",
       "<header class=\"site-header\" id=\"header\" role=\"banner\">\n",
       "<div>\n",
       "<section class=\"section3\">\n",
       "<div class=\"section-wrap clearboth\">\n",
       "<div class=\"date_top\">Martes, 02 de julio de 2019</div>\n",
       "<div class=\"name-and-slogan\">\n",
       "<h1 class=\"site-title\"><a href=\"/\" rel=\"home\" title=\"Inicio\"> <img alt=\"logo\" src=\"/images/logo.png?v=1\"/> </a></h1>\n",
       "</div>\n",
       "<div class=\"inner\">\n",
       "<div class=\"block_social_top\">\n",
       "<div class=\"icons-label\">Seguinos en:</div>\n",
       "<ul>\n",
       "<li><a class=\"tw\" href=\"https://twitter.com/LaPrensaAr\" target=\"_blank\" title=\"Twitter\"><i aria-hidden=\"true\" class=\"fa fa-twitter\"></i></a></li>\n",
       "<li><a class=\"fb\" href=\"https://www.facebook.com//\" target=\"_blank\" title=\"Facebook\"><i aria-hidden=\"true\" class=\"fa fa-facebook\"></i></a></li>\n",
       "<li><a class=\"yt\" href=\"https://www.youtube.com/channel/UCjFzzB-LuceYEMHhOc8PP7w\" target=\"_blank\" title=\"YouTube\"><i aria-hidden=\"true\" class=\"fa fa-youtube\"></i></a></li>\n",
       "<li><a class=\"in\" href=\"https://www.instagram.com/\" target=\"_blank\" title=\"Instagram\"><i aria-hidden=\"true\" class=\"fa fa-instagram\"></i></a></li>\n",
       "</ul>\n",
       "</div>\n",
       "<div class=\"form_search\">\n",
       "<form action=\"search.aspx\" class=\"searchform\" id=\"searchform\" method=\"get\" role=\"search\">\n",
       "<input class=\"field\" id=\"search\" name=\"allfields\" placeholder=\"Buscar...\" type=\"search\"/>\n",
       "<input class=\"submit\" id=\"submit\" type=\"submit\" value=\"Search\"/>\n",
       "</form>\n",
       "</div>\n",
       "</div>\n",
       "</div>\n",
       "</section>\n",
       "<div class=\"headStyleMenu\">\n",
       "<section class=\"section-nav\">\n",
       "<nav class=\"navigation-main\" role=\"navigation\">\n",
       "<ul class=\"clearboth mainHeaderMenu\">\n",
       "<li class=\"home\"><a href=\"/\"></a></li>\n",
       "<li><a href=\"politica.aspx\">Política</a></li>\n",
       "<li class=\"dropdown\"><a href=\"javascript:;\">Economía</a>\n",
       "<ul>\n",
       "<li><a href=\"economia.aspx\">Sección Economía</a></li>\n",
       "<li><a href=\"suplemento-economia.aspx\">Suplemento Económico</a></li>\n",
       "<li><a href=\"suplemento-campo.aspx\">Campo</a></li>\n",
       "</ul>\n",
       "</li>\n",
       "<li class=\"dropdown\"><a href=\"javascript:;\">Opinión</a>\n",
       "<ul>\n",
       "<li><a href=\"opinion.aspx\">Opinión</a></li>\n",
       "<li><a href=\"carta-de-lectores.aspx\">Carta de Lectores</a></li>\n",
       "</ul>\n",
       "</li>\n",
       "<li><a href=\"el-mundo.aspx\">El mundo</a></li>\n",
       "<li><a href=\"actualidad.aspx\">Actualidad</a></li>\n",
       "<li><a href=\"deportes.aspx\">Deportes</a></li>\n",
       "<li><a href=\"espectaculos.aspx\">Espectáculos</a></li>\n",
       "<li><a href=\"suplemento-cultura.aspx\">Cultura</a></li>\n",
       "<li><a href=\"suplemento-ciencia-y-salud.aspx\">Ciencia y Salud</a></li>\n",
       "<li><a href=\"sugerencias-del-chef.aspx\">Chef</a></li>\n",
       "</ul>\n",
       "</nav>\n",
       "</section>\n",
       "<!-- /#site-navigation -->\n",
       "<!-- mobile menu -->\n",
       "<section class=\"section-navMobile\">\n",
       "<div class=\"mobileMenuSelect\"><i class=\"material-icons\"></i></div>\n",
       "<ul class=\"clearboth mobileHeaderMenuDrop\">\n",
       "<li><a href=\"/\">Inicio</a></li>\n",
       "<li><a href=\"politica.aspx\">Política</a></li>\n",
       "<li><a href=\"javascript:;\">Economía</a>\n",
       "<ul>\n",
       "<li><a href=\"economia.aspx\">Sección Economía</a></li>\n",
       "<li><a href=\"suplemento-economia.aspx\">Suplemento Económico</a></li>\n",
       "<li><a href=\"suplemento-campo.aspx\">Campo</a></li>\n",
       "</ul>\n",
       "</li>\n",
       "<li><a href=\"javascript:;\">Opinión</a>\n",
       "<ul>\n",
       "<li><a href=\"opinion.aspx\">Opinión</a></li>\n",
       "<li><a href=\"carta-de-lectores.aspx\">Carta de Lectores</a></li>\n",
       "</ul>\n",
       "</li>\n",
       "<li><a href=\"el-mundo.aspx\">El mundo</a></li>\n",
       "<li><a href=\"actualidad.aspx\">Actualidad</a></li>\n",
       "<li><a href=\"deportes.aspx\">Deportes</a></li>\n",
       "<li><a href=\"espectaculos.aspx\">Espectáculos</a></li>\n",
       "<li><a href=\"suplemento-cultura.aspx\">Cultura</a></li>\n",
       "<li><a href=\"suplemento-ciencia-y-salud.aspx\">Ciencia y Salud</a></li>\n",
       "<li><a href=\"sugerencias-del-chef.aspx\">Chef</a></li>\n",
       "</ul>\n",
       "</section>\n",
       "<!-- /mobile menu -->\n",
       "</div>\n",
       "</div>\n",
       "</header>\n",
       "<!-- / header  -->\n",
       "<div class=\"right_sidebar\" id=\"main\">\n",
       "<div class=\"inner\">\n",
       "<div class=\"general_content clearboth\">\n",
       "<div class=\"main_content\">\n",
       "<div class=\"content-area\" id=\"primary\">\n",
       "<div class=\"site-content\" id=\"content\" role=\"main\">\n",
       "<div class=\"block_home_slider\" note=\"478201\">\n",
       "<div class=\"post-image\"><a href=\"http://www.laprensa.com.ar/478201-Macri-sobre-el-acuerdo-con-la-UE-Muchas-empresas-se-van-a-animar-a-invertir-en-el-pais.note.aspx\" onclick=\"javascript:if(typeof(_gaq)!='undefined'){_gaq.push(['_trackEvent', 'Notas', 'Política', 'Macri sobre el acuerdo con la UE: \\&quot;Muchas empresas se van a animar a invertir en el país\\&quot;'])};\" target=\"_self\"><img alt='Macri sobre el acuerdo con la UE: \"Muchas empresas se van a animar a invertir en el país\"' height=\"310\" src=\"http://www.laprensa.com.ar/Multimedios/Imgs/105534_620.jpg?v=1\" width=\"620\"/></a></div>\n",
       "<div class=\"post-content\">\n",
       "<div class=\"title\"><a href=\"http://www.laprensa.com.ar/478201-Macri-sobre-el-acuerdo-con-la-UE-Muchas-empresas-se-van-a-animar-a-invertir-en-el-pais.note.aspx\" onclick=\"javascript:if(typeof(_gaq)!='undefined'){_gaq.push(['_trackEvent', 'Notas', 'Política', 'Macri sobre el acuerdo con la UE: \\&quot;Muchas empresas se van a animar a invertir en el país\\&quot;'])};\" target=\"_self\">Macri sobre el acuerdo con la UE: \"Muchas empresas se van a animar a invertir en el país\"</a></div>\n",
       "</div>\n",
       "<div class=\"post-body\">El Presidente recorrió la obra de la autopista en la ruta 3, que une los partidos bonaerenses de San Miguel del Monte y Las Flores, acompañado por la gobernadora María Eugenia Vidal.</div>\n",
       "</div>\n",
       "<li class=\"CGW_NewItemDragged ui-draggable\" compid=\"1\" comptempid=\"369\" style=\"display: none; z-index: 1000 !important;\"><i class=\"fa fa-arrows btnDrag\" title=\"Mover\"></i>Nota Bomba<i class=\"fa fa-newspaper-o btnIcon\"></i></li></div>\n",
       "<div class=\"site-content\" id=\"content2\" role=\"main\">\n",
       "<div class=\"two_columns_news clearboth\">\n",
       "<div class=\"home_category_news_small clearboth\" note=\"478195\">\n",
       "<div class=\"items-wrap\">\n",
       "<div class=\"block_home_post first-post\">\n",
       "<div class=\"post-image\"><a class=\"img-link img-wrap w_hover\" href=\"http://www.laprensa.com.ar/478195-Cristina-Kirchner-viajo-a-Cuba-para-visitar-a-su-hija-Florencia.note.aspx\" onclick=\"javascript:if(typeof(_gaq)!='undefined'){_gaq.push(['_trackEvent', 'Notas', 'Política', 'Cristina Kirchner viajó a Cuba para visitar a su hija Florencia'])};\" target=\"_self\"><img alt=\"Cristina y Florencia Kirchner.\" height=\"150\" src=\"http://www.laprensa.com.ar/Multimedios/Imgs/82710_300.jpg?v=21\" width=\"300\"/></a></div>\n",
       "<div class=\"post-content\">\n",
       "<div class=\"title\"><a href=\"http://www.laprensa.com.ar/478195-Cristina-Kirchner-viajo-a-Cuba-para-visitar-a-su-hija-Florencia.note.aspx\" onclick=\"javascript:if(typeof(_gaq)!='undefined'){_gaq.push(['_trackEvent', 'Notas', 'Política', 'Cristina Kirchner viajó a Cuba para visitar a su hija Florencia'])};\" target=\"_self\">Cristina Kirchner viajó a Cuba para visitar a su hija Florencia</a></div>\n",
       "</div>\n",
       "<div class=\"post-body\">La ex presidenta y senadora fue autorizada a viajar entre el 2 y el 10 julio por el Tribunal Oral Federal (TOF) 2, que la juzga por el supuesto direccionamiento de la obra pública vial en Santa Cuz durante su gestión.</div>\n",
       "</div>\n",
       "</div>\n",
       "</div>\n",
       "<div class=\"home_category_news_small clearboth\" note=\"478202\">\n",
       "<div class=\"items-wrap\">\n",
       "<div class=\"block_home_post first-post\">\n",
       "<div class=\"post-image\"><a class=\"img-link img-wrap w_hover\" href=\"http://www.laprensa.com.ar/478202-Vidal-el-acuerdo-con-la-UE-generara-desarrollo-mas-trabajo-y-mas-dignidad.note.aspx\" onclick=\"javascript:if(typeof(_gaq)!='undefined'){_gaq.push(['_trackEvent', 'Notas', 'Política', 'Vidal: el acuerdo con la UE \\&quot;generará desarrollo, más trabajo y más dignidad\\&quot;'])};\" target=\"_self\"><img alt=\"María Eugenia Vidal.\" height=\"150\" src=\"http://www.laprensa.com.ar/Multimedios/Imgs/105535_300.jpg?v=2\" width=\"300\"/></a></div>\n",
       "<div class=\"post-content\">\n",
       "<div class=\"title\"><a href=\"http://www.laprensa.com.ar/478202-Vidal-el-acuerdo-con-la-UE-generara-desarrollo-mas-trabajo-y-mas-dignidad.note.aspx\" onclick=\"javascript:if(typeof(_gaq)!='undefined'){_gaq.push(['_trackEvent', 'Notas', 'Política', 'Vidal: el acuerdo con la UE \\&quot;generará desarrollo, más trabajo y más dignidad\\&quot;'])};\" target=\"_self\">Vidal: el acuerdo con la UE \"generará desarrollo, más trabajo y más dignidad\"</a></div>\n",
       "</div>\n",
       "<div class=\"post-body\">La gobernadora precisó que a partir del acuerdo con la Unión Europea, \"miles de toneladas de carne vacuna, porcina y aviar se exportarán\" al Viejo Continente. </div>\n",
       "</div>\n",
       "</div>\n",
       "</div>\n",
       "</div>\n",
       "</div>\n",
       "<div class=\"site-content\" id=\"content3\" role=\"main\">\n",
       "<div class=\"recent_news_home clearboth no-border\">\n",
       "<div class=\"block_home_post\" note=\"478078\">\n",
       "<div class=\"post-image\"><a class=\"img-link img-wrap w_hover\" href=\"http://www.laprensa.com.ar/478078-La-lenta-recuperacion-economica-no-despeja-las-dudas-politicas.note.aspx\" onclick=\"javascript:if(typeof(_gaq)!='undefined'){_gaq.push(['_trackEvent', 'Notas', 'Opinión', 'La lenta recuperación económica no despeja las dudas políticas'])};\" target=\"_self\"><img alt=\"La lenta recuperación económica no despeja las dudas políticas\" height=\"150\" src=\"http://www.laprensa.com.ar/Multimedios/Imgs/105458_300.jpg?v=3\" width=\"300\"/></a></div>\n",
       "<div class=\"post-content\">\n",
       "<div class=\"title\"><a href=\"http://www.laprensa.com.ar/478078-La-lenta-recuperacion-economica-no-despeja-las-dudas-politicas.note.aspx\" onclick=\"javascript:if(typeof(_gaq)!='undefined'){_gaq.push(['_trackEvent', 'Notas', 'Opinión', 'La lenta recuperación económica no despeja las dudas políticas'])};\" target=\"_self\">La lenta recuperación económica no despeja las dudas políticas</a></div>\n",
       "</div>\n",
       "<div class=\"post-info\"><div class=\"post_author\"><em>Por </em>Sergio Crivelli</div></div>\n",
       "</div>\n",
       "<div class=\"block_home_post\" note=\"478138\">\n",
       "<div class=\"post-image\"><a class=\"img-link img-wrap w_hover\" href=\"http://www.laprensa.com.ar/478138-La-deslealtad-a-la-Constitucion.note.aspx\" onclick=\"javascript:if(typeof(_gaq)!='undefined'){_gaq.push(['_trackEvent', 'Notas', 'Opinión', 'La deslealtad a la Constitución'])};\" target=\"_self\"><img alt=\"Aerolíneas como otras empresas estatales o dependientes de él, disimula con oportunidades prebendarías y subsidios su ineficiencia y sus pérdidas.\" height=\"150\" src=\"http://www.laprensa.com.ar/Multimedios/Imgs/105479_300.jpg?v=4\" width=\"300\"/></a></div>\n",
       "<div class=\"post-content\">\n",
       "<div class=\"title\"><a href=\"http://www.laprensa.com.ar/478138-La-deslealtad-a-la-Constitucion.note.aspx\" onclick=\"javascript:if(typeof(_gaq)!='undefined'){_gaq.push(['_trackEvent', 'Notas', 'Opinión', 'La deslealtad a la Constitución'])};\" target=\"_self\">La deslealtad a la Constitución</a></div>\n",
       "</div>\n",
       "<div class=\"post-info\"><div class=\"post_author\"><em>Por </em>Elena Valero Narváez</div></div>\n",
       "</div>\n",
       "<div class=\"block_home_post\" note=\"478075\">\n",
       "<div class=\"post-image\"><a class=\"img-link img-wrap w_hover\" href=\"http://www.laprensa.com.ar/478075-Los-impuestos-el-lastre-que-frena-la-iniciativa-exportadora.note.aspx\" onclick=\"javascript:if(typeof(_gaq)!='undefined'){_gaq.push(['_trackEvent', 'Notas', 'Economía', 'Los impuestos, el lastre que frena la iniciativa exportadora'])};\" target=\"_self\"><img alt=\"Argentina es exportador de aluminio para la industria, pero el alto nivel de impuestos hace poco probable la venta de productos finales.\" height=\"150\" src=\"http://www.laprensa.com.ar/Multimedios/Imgs/105418_300.jpg?v=5\" width=\"300\"/></a></div>\n",
       "<div class=\"post-content\">\n",
       "<div class=\"title\"><a href=\"http://www.laprensa.com.ar/478075-Los-impuestos-el-lastre-que-frena-la-iniciativa-exportadora.note.aspx\" onclick=\"javascript:if(typeof(_gaq)!='undefined'){_gaq.push(['_trackEvent', 'Notas', 'Economía', 'Los impuestos, el lastre que frena la iniciativa exportadora'])};\" target=\"_self\">Los impuestos, el lastre que frena la iniciativa exportadora\n",
       "\n",
       "</a></div>\n",
       "</div>\n",
       "<div class=\"post-info\"><div class=\"post_author\"><em>Por </em>Iris Speroni </div></div>\n",
       "</div>\n",
       "</div>\n",
       "</div>\n",
       "<div class=\"site-content\" id=\"content4\" role=\"main\">\n",
       "<div class=\"two_columns_news clearboth\">\n",
       "<div class=\"home_category_news_small clearboth\" note=\"478200\">\n",
       "<div class=\"items-wrap\">\n",
       "<div class=\"block_home_post first-post\">\n",
       "<div class=\"post-image\"><a class=\"img-link img-wrap w_hover\" href=\"http://www.laprensa.com.ar/478200-Dictan-conciliacion-obligatoria-para-impedir-despidos-de-trabajadores-de-Zanella-en-San-Luis.note.aspx\" onclick=\"javascript:if(typeof(_gaq)!='undefined'){_gaq.push(['_trackEvent', 'Notas', 'Política', 'Dictan conciliación obligatoria para impedir despidos de trabajadores de Zanella en San Luis'])};\" target=\"_self\"><img alt=\"Dictan conciliación obligatoria para impedir despidos de trabajadores de Zanella en San Luis\" height=\"150\" src=\"http://www.laprensa.com.ar/Multimedios/Imgs/105533_300.jpg?v=3\" width=\"300\"/></a></div>\n",
       "<div class=\"post-content\">\n",
       "<div class=\"title\"><a href=\"http://www.laprensa.com.ar/478200-Dictan-conciliacion-obligatoria-para-impedir-despidos-de-trabajadores-de-Zanella-en-San-Luis.note.aspx\" onclick=\"javascript:if(typeof(_gaq)!='undefined'){_gaq.push(['_trackEvent', 'Notas', 'Política', 'Dictan conciliación obligatoria para impedir despidos de trabajadores de Zanella en San Luis'])};\" target=\"_self\">Dictan conciliación obligatoria para impedir despidos de trabajadores de Zanella en San Luis</a></div>\n",
       "</div>\n",
       "<div class=\"post-body\">Los empleados mantendrán una audiencia con funcionarios de la Secretaría de Trabajo de la Nación para negociar la situación de los 44 despedidos de su planta puntana.</div>\n",
       "</div>\n",
       "</div>\n",
       "</div>\n",
       "<div class=\"home_category_news_small clearboth\" note=\"478199\">\n",
       "<div class=\"items-wrap\">\n",
       "<div class=\"block_home_post first-post\">\n",
       "<div class=\"post-image\"><a class=\"img-link img-wrap w_hover\" href=\"http://www.laprensa.com.ar/478199-Difunden-las-identidades-de-las-15-victimas-fatales-del-accidente-de-omnibus-en-Tucuman.note.aspx\" onclick=\"javascript:if(typeof(_gaq)!='undefined'){_gaq.push(['_trackEvent', 'Notas', 'Actualidad', 'Difunden las identidades de las 15 víctimas fatales del accidente de ómnibus en Tucumán'])};\" target=\"_self\"><img alt=\"El hecho se produjo alrededor de las 10 en los cruces de las rutas 157 y 308 en el sur de la provincia de Tucumán.\" height=\"150\" src=\"http://www.laprensa.com.ar/Multimedios/Imgs/105503_300.jpg?v=8\" width=\"300\"/></a></div>\n",
       "<div class=\"post-content\">\n",
       "<div class=\"title\"><a href=\"http://www.laprensa.com.ar/478199-Difunden-las-identidades-de-las-15-victimas-fatales-del-accidente-de-omnibus-en-Tucuman.note.aspx\" onclick=\"javascript:if(typeof(_gaq)!='undefined'){_gaq.push(['_trackEvent', 'Notas', 'Actualidad', 'Difunden las identidades de las 15 víctimas fatales del accidente de ómnibus en Tucumán'])};\" target=\"_self\">Difunden las identidades de las 15 víctimas fatales del accidente de ómnibus en Tucumán</a></div>\n",
       "</div>\n",
       "<div class=\"post-body\">La justicia identificó los fallecidos de la tragedia en La Madrid.</div>\n",
       "</div>\n",
       "</div>\n",
       "</div>\n",
       "<div class=\"home_category_news_small clearboth\" note=\"478086\">\n",
       "<div class=\"items-wrap\">\n",
       "<div class=\"block_home_post first-post\">\n",
       "<div class=\"post-image\"><a class=\"img-link img-wrap w_hover\" href=\"http://www.laprensa.com.ar/478086-Viaje-en-el-tiempo-a-los-sabores-de-Italia.note.aspx\" onclick=\"javascript:if(typeof(_gaq)!='undefined'){_gaq.push(['_trackEvent', 'Notas', 'Actualidad', 'Viaje en el tiempo a los sabores de Italia'])};\" target=\"_self\"><img alt=\"En la panadería de San Cristóbal se elaboran los panes como en los tiempos de antaño.\" height=\"150\" src=\"http://www.laprensa.com.ar/Multimedios/Imgs/105425_300.jpg?v=3\" width=\"300\"/></a></div>\n",
       "<div class=\"post-content\">\n",
       "<div class=\"title\"><a href=\"http://www.laprensa.com.ar/478086-Viaje-en-el-tiempo-a-los-sabores-de-Italia.note.aspx\" onclick=\"javascript:if(typeof(_gaq)!='undefined'){_gaq.push(['_trackEvent', 'Notas', 'Actualidad', 'Viaje en el tiempo a los sabores de Italia'])};\" target=\"_self\">Viaje en el tiempo a los sabores de Italia</a></div>\n",
       "</div>\n",
       "<div class=\"post-info\"><div class=\"post_author\"><em>Por </em>Sergio  Limiroski</div></div>\n",
       "<div class=\"post-body\">Con casi cien años la panadería La Pompeya del barrio de San Cristóbal aún elabora como antaño productos de esta gran colectividad Conserva su viejo horno y antigua amasadora de la marca Siam. Máximo, quien fue muchos años empleados de la casa hoy está al frente del negocio. </div>\n",
       "</div>\n",
       "</div>\n",
       "</div>\n",
       "<div class=\"home_category_news_small clearboth\" note=\"478108\">\n",
       "<div class=\"items-wrap\">\n",
       "<div class=\"block_home_post first-post\">\n",
       "<div class=\"post-image\"><a class=\"img-link img-wrap w_hover\" href=\"http://www.laprensa.com.ar/478108-Pichetto-tiene-un-rol-estabilizador.note.aspx\" onclick=\"javascript:if(typeof(_gaq)!='undefined'){_gaq.push(['_trackEvent', 'Notas', 'Política', '\\&quot;Pichetto tiene un rol estabilizador\\&quot;'])};\" target=\"_self\"><img alt=\"Nunca ha habido tantos presos como ahora, tantos empresarios que tienen que dar explicaciones en Tribunales sin ningún tipo de privilegios, subrayó Iglesias.\" height=\"150\" src=\"http://www.laprensa.com.ar/Multimedios/Imgs/105461_300.jpg?v=6\" width=\"300\"/></a></div>\n",
       "<div class=\"post-content\">\n",
       "<div class=\"title\"><a href=\"http://www.laprensa.com.ar/478108-Pichetto-tiene-un-rol-estabilizador.note.aspx\" onclick=\"javascript:if(typeof(_gaq)!='undefined'){_gaq.push(['_trackEvent', 'Notas', 'Política', '\\&quot;Pichetto tiene un rol estabilizador\\&quot;'])};\" target=\"_self\">\"Pichetto tiene un rol estabilizador\"</a></div>\n",
       "</div>\n",
       "<div class=\"post-info\"><div class=\"post_author\"><em>Por </em>Carlos E. Hartmann</div></div>\n",
       "<div class=\"post-body\">Los peronistas tienen abiertas las puertas de Juntos por el Cambio, señaló a La Prensa, el diputado Fernando Iglesias Admito que si \"el club del helicóptero\" no ganó, es porque hubo una gran parte del peronismo responsable que no apostó a tumbar al Gobierno, sostuvo el legislador, un reconocido crítico del universo pejotista.\n",
       "\n",
       "</div>\n",
       "</div>\n",
       "</div>\n",
       "</div>\n",
       "</div>\n",
       "</div>\n",
       "<div class=\"site-content\" id=\"content5\" role=\"main\">\n",
       "<h2 class=\"block-title block-verde\"><p>Suplemento Económico</p></h2>\n",
       "<div class=\"recent_news_home clearboth no-border\">\n",
       "<div class=\"block_home_post\" note=\"478071\">\n",
       "<div class=\"post-image\"><a class=\"img-link img-wrap w_hover\" href=\"http://www.laprensa.com.ar/478071-Hay-que-bajar-la-carga-tributaria-en-Argentina.note.aspx\" onclick=\"javascript:if(typeof(_gaq)!='undefined'){_gaq.push(['_trackEvent', 'Notas', 'Economía', '\\&quot;Hay que bajar la carga tributaria en Argentina\\&quot;'])};\" target=\"_self\"><img alt='La presión tributaria escalonada entre Nación, provincias y municipios, resulta asfixiante. \"Para un comercio mediano, el propietario tiene que estar al tanto de 47 normativas tributarias\", enfatiza Nadin Argañaraz.' height=\"150\" src=\"http://www.laprensa.com.ar/Multimedios/Imgs/105413_300.jpg?v=4\" width=\"300\"/></a></div>\n",
       "<div class=\"post-content\">\n",
       "<div class=\"title\"><a href=\"http://www.laprensa.com.ar/478071-Hay-que-bajar-la-carga-tributaria-en-Argentina.note.aspx\" onclick=\"javascript:if(typeof(_gaq)!='undefined'){_gaq.push(['_trackEvent', 'Notas', 'Economía', '\\&quot;Hay que bajar la carga tributaria en Argentina\\&quot;'])};\" target=\"_self\">\"Hay que bajar la carga tributaria en Argentina\"\n",
       "\n",
       "</a></div>\n",
       "</div>\n",
       "<div class=\"post-info\"><div class=\"post_author\"><em>Por </em>Gustavo García</div></div>\n",
       "</div>\n",
       "<div class=\"block_home_post\" note=\"478072\">\n",
       "<div class=\"post-image\"><a class=\"img-link img-wrap w_hover\" href=\"http://www.laprensa.com.ar/478072-Habra-un-nuevo-blanqueo.note.aspx\" onclick=\"javascript:if(typeof(_gaq)!='undefined'){_gaq.push(['_trackEvent', 'Notas', 'Economía', '\\&quot;Habrá un nuevo blanqueo\\&quot;'])};\" target=\"_self\"><img alt='\"Habrá un nuevo blanqueo\"' height=\"150\" src=\"http://www.laprensa.com.ar/Multimedios/Imgs/105414_300.jpg?v=3\" width=\"300\"/></a></div>\n",
       "<div class=\"post-content\">\n",
       "<div class=\"title\"><a href=\"http://www.laprensa.com.ar/478072-Habra-un-nuevo-blanqueo.note.aspx\" onclick=\"javascript:if(typeof(_gaq)!='undefined'){_gaq.push(['_trackEvent', 'Notas', 'Economía', '\\&quot;Habrá un nuevo blanqueo\\&quot;'])};\" target=\"_self\">\"Habrá un nuevo blanqueo\"</a></div>\n",
       "</div>\n",
       "</div>\n",
       "<div class=\"block_home_post\" note=\"478073\">\n",
       "<div class=\"post-image\"><a class=\"img-link img-wrap w_hover\" href=\"http://www.laprensa.com.ar/478073-La-meta-fiscal-un-objetivo-muy-arduo.note.aspx\" onclick=\"javascript:if(typeof(_gaq)!='undefined'){_gaq.push(['_trackEvent', 'Notas', 'Economía', 'La meta fiscal, un objetivo muy arduo'])};\" target=\"_self\"><img alt=\"El FMI, conducido por Christine Lagarde, marca de cerca a la Argentina.\" height=\"150\" src=\"http://www.laprensa.com.ar/Multimedios/Imgs/105415_300.jpg?v=4\" width=\"300\"/></a></div>\n",
       "<div class=\"post-content\">\n",
       "<div class=\"title\"><a href=\"http://www.laprensa.com.ar/478073-La-meta-fiscal-un-objetivo-muy-arduo.note.aspx\" onclick=\"javascript:if(typeof(_gaq)!='undefined'){_gaq.push(['_trackEvent', 'Notas', 'Economía', 'La meta fiscal, un objetivo muy arduo'])};\" target=\"_self\">La meta fiscal, un objetivo muy arduo</a></div>\n",
       "</div>\n",
       "</div>\n",
       "</div>\n",
       "</div>\n",
       "<div class=\"site-content\" role=\"main\">\n",
       "<h2 class=\"block-title block-celeste\"><p>Cultura</p></h2>\n",
       "<div class=\"recent_news_home clearboth no-border\">\n",
       "<div class=\"block_home_post\" note=\"478063\">\n",
       "<div class=\"post-image\"><a class=\"img-link img-wrap w_hover\" href=\"http://www.laprensa.com.ar/478063-Como-terminaron-sus-dias-los-ultimos-virreyes-del-Rio-de-la-Plata.note.aspx\" onclick=\"javascript:if(typeof(_gaq)!='undefined'){_gaq.push(['_trackEvent', 'Notas', 'Cultura', '¿Cómo terminaron sus días los últimos virreyes del Río de  la Plata?'])};\" target=\"_self\"><img alt=\"Baltazar de Cisneros murió en junio de 1830.\" height=\"150\" src=\"http://www.laprensa.com.ar/Multimedios/Imgs/105400_300.jpg?v=5\" width=\"300\"/></a></div>\n",
       "<div class=\"post-content\">\n",
       "<div class=\"title\"><a href=\"http://www.laprensa.com.ar/478063-Como-terminaron-sus-dias-los-ultimos-virreyes-del-Rio-de-la-Plata.note.aspx\" onclick=\"javascript:if(typeof(_gaq)!='undefined'){_gaq.push(['_trackEvent', 'Notas', 'Cultura', '¿Cómo terminaron sus días los últimos virreyes del Río de  la Plata?'])};\" target=\"_self\">¿Cómo terminaron sus días los últimos virreyes del Río de  la Plata?\n",
       "</a></div>\n",
       "</div>\n",
       "</div>\n",
       "<div class=\"block_home_post\" note=\"478062\">\n",
       "<div class=\"post-image\"><a class=\"img-link img-wrap w_hover\" href=\"http://www.laprensa.com.ar/478062-Marta-Minujin-sorprende-a-Nueva-York.note.aspx\" onclick=\"javascript:if(typeof(_gaq)!='undefined'){_gaq.push(['_trackEvent', 'Notas', 'Cultura', 'Marta Minujin sorprende a Nueva York'])};\" target=\"_self\"><img alt=\"Marta Minujin sorprende a Nueva York\" height=\"150\" src=\"http://www.laprensa.com.ar/Multimedios/Imgs/105403_300.jpg?v=3\" width=\"300\"/></a></div>\n",
       "<div class=\"post-content\">\n",
       "<div class=\"title\"><a href=\"http://www.laprensa.com.ar/478062-Marta-Minujin-sorprende-a-Nueva-York.note.aspx\" onclick=\"javascript:if(typeof(_gaq)!='undefined'){_gaq.push(['_trackEvent', 'Notas', 'Cultura', 'Marta Minujin sorprende a Nueva York'])};\" target=\"_self\">Marta Minujin sorprende a Nueva York</a></div>\n",
       "</div>\n",
       "</div>\n",
       "<div class=\"block_home_post\" note=\"478064\">\n",
       "<div class=\"post-image\"><a class=\"img-link img-wrap w_hover\" href=\"http://www.laprensa.com.ar/478064-Hemingway-y-su-inspiracion-cubana.note.aspx\" onclick=\"javascript:if(typeof(_gaq)!='undefined'){_gaq.push(['_trackEvent', 'Notas', 'Cultura', 'Hemingway y su inspiración cubana'])};\" target=\"_self\"><img alt=\"El investigador Andrew Feldman afirma que Hemingway se inspiró para algunas de sus obras en los libros de Enrique Serpa.\" height=\"150\" src=\"http://www.laprensa.com.ar/Multimedios/Imgs/105402_300.jpg?v=5\" width=\"300\"/></a></div>\n",
       "<div class=\"post-content\">\n",
       "<div class=\"title\"><a href=\"http://www.laprensa.com.ar/478064-Hemingway-y-su-inspiracion-cubana.note.aspx\" onclick=\"javascript:if(typeof(_gaq)!='undefined'){_gaq.push(['_trackEvent', 'Notas', 'Cultura', 'Hemingway y su inspiración cubana'])};\" target=\"_self\">Hemingway y su inspiración cubana</a></div>\n",
       "</div>\n",
       "</div>\n",
       "</div>\n",
       "</div>\n",
       "<div class=\"site-content\" role=\"main\">\n",
       "<h2 class=\"block-title block-turquesa\"><p>Libros</p></h2>\n",
       "<div class=\"recent_news_home clearboth no-border\">\n",
       "<div class=\"block_home_post\" note=\"478065\">\n",
       "<div class=\"post-image\"><a class=\"img-link img-wrap w_hover\" href=\"http://www.laprensa.com.ar/478065-Sobre-la-caminata-y-la-lectura.note.aspx\" onclick=\"javascript:if(typeof(_gaq)!='undefined'){_gaq.push(['_trackEvent', 'Notas', 'Cultura', 'Sobre la caminata y la lectura'])};\" target=\"_self\"><img alt=\"Edgardo Scott compone un original ensayo sobre la figura literaria de los caminantes en autores del siglo XIX y XX.\" height=\"150\" src=\"http://www.laprensa.com.ar/Multimedios/Imgs/105399_300.jpg?v=5\" width=\"300\"/></a></div>\n",
       "<div class=\"post-content\">\n",
       "<div class=\"title\"><a href=\"http://www.laprensa.com.ar/478065-Sobre-la-caminata-y-la-lectura.note.aspx\" onclick=\"javascript:if(typeof(_gaq)!='undefined'){_gaq.push(['_trackEvent', 'Notas', 'Cultura', 'Sobre la caminata y la lectura'])};\" target=\"_self\">Sobre la caminata y la lectura</a></div>\n",
       "</div>\n",
       "<div class=\"post-info\"><div class=\"post_author\"><em>Por </em>Agustín De Beitia</div></div>\n",
       "</div>\n",
       "<div class=\"block_home_post\" note=\"478066\">\n",
       "<div class=\"post-image\"><a class=\"img-link img-wrap w_hover\" href=\"http://www.laprensa.com.ar/478066-Persecucion-e-intriga-en-la-ciudad-de-los-canales.note.aspx\" onclick=\"javascript:if(typeof(_gaq)!='undefined'){_gaq.push(['_trackEvent', 'Notas', 'Cultura', 'Persecución e intriga en la ciudad de los canales'])};\" target=\"_self\"><img alt='Massimo Carlotto deja de lado la novela negra para incursionar en el \"thriller\".' height=\"150\" src=\"http://www.laprensa.com.ar/Multimedios/Imgs/105401_300.jpg?v=5\" width=\"300\"/></a></div>\n",
       "<div class=\"post-content\">\n",
       "<div class=\"title\"><a href=\"http://www.laprensa.com.ar/478066-Persecucion-e-intriga-en-la-ciudad-de-los-canales.note.aspx\" onclick=\"javascript:if(typeof(_gaq)!='undefined'){_gaq.push(['_trackEvent', 'Notas', 'Cultura', 'Persecución e intriga en la ciudad de los canales'])};\" target=\"_self\">Persecución e intriga en la ciudad de los canales\n",
       "</a></div>\n",
       "</div>\n",
       "</div>\n",
       "<div class=\"block_home_post\" note=\"477822\">\n",
       "<div class=\"post-image\"><a class=\"img-link img-wrap w_hover\" href=\"http://www.laprensa.com.ar/477822-La-historia-de-lo-que-pudo-ser.note.aspx\" onclick=\"javascript:if(typeof(_gaq)!='undefined'){_gaq.push(['_trackEvent', 'Notas', 'Cultura', 'La historia de lo que pudo ser'])};\" target=\"_self\"><img alt=\"La historia de lo que pudo ser\" height=\"150\" src=\"http://www.laprensa.com.ar/Multimedios/Imgs/105172_300.jpg?v=3\" width=\"300\"/></a></div>\n",
       "<div class=\"post-content\">\n",
       "<div class=\"title\"><a href=\"http://www.laprensa.com.ar/477822-La-historia-de-lo-que-pudo-ser.note.aspx\" onclick=\"javascript:if(typeof(_gaq)!='undefined'){_gaq.push(['_trackEvent', 'Notas', 'Cultura', 'La historia de lo que pudo ser'])};\" target=\"_self\">La historia de lo que pudo ser</a></div>\n",
       "</div>\n",
       "<div class=\"post-info\"><div class=\"post_author\"><em>Por </em>Jorge Martínez</div></div>\n",
       "</div>\n",
       "</div>\n",
       "</div>\n",
       "<div class=\"site-content\" role=\"main\">\n",
       "<h2 class=\"block-title block-bordo\"><p>Ciencia y Salud</p></h2>\n",
       "<div class=\"recent_news_home clearboth no-border\">\n",
       "<div class=\"block_home_post\" note=\"478151\">\n",
       "<div class=\"post-image\"><a class=\"img-link img-wrap w_hover\" href=\"http://www.laprensa.com.ar/478151-Adiccion-a-los-videojuegos-un-desafio-mayor-que-el-alcoholismo-y-la-drogadiccion.note.aspx\" onclick=\"javascript:if(typeof(_gaq)!='undefined'){_gaq.push(['_trackEvent', 'Notas', 'Ciencia y Salud', 'Adicción a los videojuegos: un desafío mayor que el alcoholismo y la drogadicción'])};\" target=\"_self\"><img alt=\"Adicción a los videojuegos: un desafío mayor que el alcoholismo y la drogadicción \" height=\"150\" src=\"http://www.laprensa.com.ar/Multimedios/Imgs/105422_300.jpg?v=4\" width=\"300\"/></a></div>\n",
       "<div class=\"post-content\">\n",
       "<div class=\"title\"><a href=\"http://www.laprensa.com.ar/478151-Adiccion-a-los-videojuegos-un-desafio-mayor-que-el-alcoholismo-y-la-drogadiccion.note.aspx\" onclick=\"javascript:if(typeof(_gaq)!='undefined'){_gaq.push(['_trackEvent', 'Notas', 'Ciencia y Salud', 'Adicción a los videojuegos: un desafío mayor que el alcoholismo y la drogadicción'])};\" target=\"_self\">Adicción a los videojuegos: un desafío mayor que el alcoholismo y la drogadicción\n",
       "</a></div>\n",
       "</div>\n",
       "<div class=\"post-info\"><div class=\"post_author\"><em>Por </em>Agustina Sucri</div></div>\n",
       "</div>\n",
       "<div class=\"block_home_post\" note=\"478084\">\n",
       "<div class=\"post-image\"><a class=\"img-link img-wrap w_hover\" href=\"http://www.laprensa.com.ar/478084-Dermatitis-atopica-una-enfermedad-que-empeora-con-el-frio.note.aspx\" onclick=\"javascript:if(typeof(_gaq)!='undefined'){_gaq.push(['_trackEvent', 'Notas', 'Ciencia y Salud', 'Dermatitis atópica, una enfermedad que empeora con el frío'])};\" target=\"_self\"><img alt=\"Dermatitis atópica, una enfermedad que empeora con el frío\" height=\"150\" src=\"http://www.laprensa.com.ar/Multimedios/Imgs/105421_300.jpg?v=3\" width=\"300\"/></a></div>\n",
       "<div class=\"post-content\">\n",
       "<div class=\"title\"><a href=\"http://www.laprensa.com.ar/478084-Dermatitis-atopica-una-enfermedad-que-empeora-con-el-frio.note.aspx\" onclick=\"javascript:if(typeof(_gaq)!='undefined'){_gaq.push(['_trackEvent', 'Notas', 'Ciencia y Salud', 'Dermatitis atópica, una enfermedad que empeora con el frío'])};\" target=\"_self\">Dermatitis atópica, una enfermedad que empeora con el frío</a></div>\n",
       "</div>\n",
       "</div>\n",
       "<div class=\"block_home_post\" note=\"478083\">\n",
       "<div class=\"post-image\"><a class=\"img-link img-wrap w_hover\" href=\"http://www.laprensa.com.ar/478083-Leche-de-vaca-de-soja-y-de-almendra-cual-es-mejor-.note.aspx\" onclick=\"javascript:if(typeof(_gaq)!='undefined'){_gaq.push(['_trackEvent', 'Notas', 'Ciencia y Salud', 'Leche de vaca, de soja y de almendra: ¿cuál es mejor? '])};\" target=\"_self\"><img alt=\"Leche de vaca, de soja y de almendra: ¿cuál es mejor? \" height=\"150\" src=\"http://www.laprensa.com.ar/Multimedios/Imgs/105419_300.jpg?v=4\" width=\"300\"/></a></div>\n",
       "<div class=\"post-content\">\n",
       "<div class=\"title\"><a href=\"http://www.laprensa.com.ar/478083-Leche-de-vaca-de-soja-y-de-almendra-cual-es-mejor-.note.aspx\" onclick=\"javascript:if(typeof(_gaq)!='undefined'){_gaq.push(['_trackEvent', 'Notas', 'Ciencia y Salud', 'Leche de vaca, de soja y de almendra: ¿cuál es mejor? '])};\" target=\"_self\">Leche de vaca, de soja y de almendra: ¿cuál es mejor? \n",
       "\n",
       "</a></div>\n",
       "</div>\n",
       "</div>\n",
       "</div>\n",
       "</div>\n",
       "<div class=\"site-content\" role=\"main\">\n",
       "<h2 class=\"block-title block-rojo\"><p>Sobre Ruedas</p></h2>\n",
       "<div class=\"recent_news_home clearboth no-border\">\n",
       "<div class=\"block_home_post\" note=\"478165\">\n",
       "<div class=\"post-image\"><a class=\"img-link img-wrap w_hover\" href=\"http://www.laprensa.com.ar/478165-La-Raza-Fuerte-se-renovo.note.aspx\" onclick=\"javascript:if(typeof(_gaq)!='undefined'){_gaq.push(['_trackEvent', 'Notas', 'Sobre Ruedas', 'La Raza Fuerte se renovó'])};\" target=\"_self\"><img alt=\"La Raza Fuerte se renovó \" height=\"150\" src=\"http://www.laprensa.com.ar/Multimedios/Imgs/105507_300.jpg?v=3\" width=\"300\"/></a></div>\n",
       "<div class=\"post-content\">\n",
       "<div class=\"title\"><a href=\"http://www.laprensa.com.ar/478165-La-Raza-Fuerte-se-renovo.note.aspx\" onclick=\"javascript:if(typeof(_gaq)!='undefined'){_gaq.push(['_trackEvent', 'Notas', 'Sobre Ruedas', 'La Raza Fuerte se renovó'])};\" target=\"_self\">La Raza Fuerte se renovó\n",
       "</a></div>\n",
       "</div>\n",
       "</div>\n",
       "<div class=\"block_home_post\" note=\"478166\">\n",
       "<div class=\"post-image\"><a class=\"img-link img-wrap w_hover\" href=\"http://www.laprensa.com.ar/478166-El-T-Cross-llega-para-pelear-entre-los-SUV.note.aspx\" onclick=\"javascript:if(typeof(_gaq)!='undefined'){_gaq.push(['_trackEvent', 'Notas', 'Sobre Ruedas', 'El T-Cross llega para pelear entre los SUV'])};\" target=\"_self\"><img alt=\"El T-Cross llega para pelear entre los SUV\" height=\"150\" src=\"http://www.laprensa.com.ar/Multimedios/Imgs/105508_300.jpg?v=3\" width=\"300\"/></a></div>\n",
       "<div class=\"post-content\">\n",
       "<div class=\"title\"><a href=\"http://www.laprensa.com.ar/478166-El-T-Cross-llega-para-pelear-entre-los-SUV.note.aspx\" onclick=\"javascript:if(typeof(_gaq)!='undefined'){_gaq.push(['_trackEvent', 'Notas', 'Sobre Ruedas', 'El T-Cross llega para pelear entre los SUV'])};\" target=\"_self\">El T-Cross llega para pelear entre los SUV</a></div>\n",
       "</div>\n",
       "</div>\n",
       "<div class=\"block_home_post\" note=\"477919\">\n",
       "<div class=\"post-image\"><a class=\"img-link img-wrap w_hover\" href=\"http://www.laprensa.com.ar/477919-Este-es-el-nuevo-Peugeot-2008-que-se-produciria-en-el-pais.note.aspx\" onclick=\"javascript:if(typeof(_gaq)!='undefined'){_gaq.push(['_trackEvent', 'Notas', 'Sobre Ruedas', 'Este es el nuevo Peugeot 2008, que se produciría en el país'])};\" target=\"_self\"><img alt=\"LA ESTETICA COINCIDE CON LA DE LOS SUV 3008 Y 5008.\" height=\"150\" src=\"http://www.laprensa.com.ar/Multimedios/Imgs/105268_300.jpg?v=4\" width=\"300\"/></a></div>\n",
       "<div class=\"post-content\">\n",
       "<div class=\"title\"><a href=\"http://www.laprensa.com.ar/477919-Este-es-el-nuevo-Peugeot-2008-que-se-produciria-en-el-pais.note.aspx\" onclick=\"javascript:if(typeof(_gaq)!='undefined'){_gaq.push(['_trackEvent', 'Notas', 'Sobre Ruedas', 'Este es el nuevo Peugeot 2008, que se produciría en el país'])};\" target=\"_self\">Este es el nuevo Peugeot 2008, que se produciría en el país</a></div>\n",
       "</div>\n",
       "</div>\n",
       "</div>\n",
       "</div>\n",
       "<div class=\"site-content\" role=\"main\">\n",
       "<h2 class=\"block-title block-naranja\"><p>Sugerencia del chef</p></h2>\n",
       "<div class=\"recent_news_home clearboth no-border\">\n",
       "<div class=\"block_home_post\" note=\"477915\">\n",
       "<div class=\"post-image\"><a class=\"img-link img-wrap w_hover\" href=\"http://www.laprensa.com.ar/477915-Bartolucci-la-primera-enologa-de-Chandon.note.aspx\" onclick=\"javascript:if(typeof(_gaq)!='undefined'){_gaq.push(['_trackEvent', 'Notas', 'Sugerencias del Chef', 'Bartolucci, la primera enóloga de Chandon'])};\" target=\"_self\"><img alt=\"Con 28 años, Ana Paula Bartolucci es la primera enóloga que trabaja en Chandon.\" height=\"150\" src=\"http://www.laprensa.com.ar/Multimedios/Imgs/105262_300.JPG?v=3\" width=\"300\"/></a></div>\n",
       "<div class=\"post-content\">\n",
       "<div class=\"title\"><a href=\"http://www.laprensa.com.ar/477915-Bartolucci-la-primera-enologa-de-Chandon.note.aspx\" onclick=\"javascript:if(typeof(_gaq)!='undefined'){_gaq.push(['_trackEvent', 'Notas', 'Sugerencias del Chef', 'Bartolucci, la primera enóloga de Chandon'])};\" target=\"_self\">Bartolucci, la primera enóloga de Chandon\n",
       "</a></div>\n",
       "</div>\n",
       "<div class=\"post-info\"><div class=\"post_author\"><em>Por </em>Silvina Rufrancos</div></div>\n",
       "</div>\n",
       "<div class=\"block_home_post\" note=\"477913\">\n",
       "<div class=\"post-image\"><a class=\"img-link img-wrap w_hover\" href=\"http://www.laprensa.com.ar/477913-Negroni-un-clasico-centenario.note.aspx\" onclick=\"javascript:if(typeof(_gaq)!='undefined'){_gaq.push(['_trackEvent', 'Notas', 'Sugerencias del Chef', 'Negroni, un clásico centenario'])};\" target=\"_self\"><img alt=\"Negroni, un clásico centenario\" height=\"150\" src=\"http://www.laprensa.com.ar/Multimedios/Imgs/105260_300.jpg?v=2\" width=\"300\"/></a></div>\n",
       "<div class=\"post-content\">\n",
       "<div class=\"title\"><a href=\"http://www.laprensa.com.ar/477913-Negroni-un-clasico-centenario.note.aspx\" onclick=\"javascript:if(typeof(_gaq)!='undefined'){_gaq.push(['_trackEvent', 'Notas', 'Sugerencias del Chef', 'Negroni, un clásico centenario'])};\" target=\"_self\">Negroni, un clásico centenario</a></div>\n",
       "</div>\n",
       "</div>\n",
       "<div class=\"block_home_post\" note=\"477558\">\n",
       "<div class=\"post-image\"><a class=\"img-link img-wrap w_hover\" href=\"http://www.laprensa.com.ar/477558-Los-finalistas-de-una-de-las-competencias-gastronomicas-mas-importantes-del-pais.note.aspx\" onclick=\"javascript:if(typeof(_gaq)!='undefined'){_gaq.push(['_trackEvent', 'Notas', 'Sugerencias del Chef', 'Los finalistas de una de las competencias gastronómicas más importantes del país'])};\" target=\"_self\"><img alt=\"Santiago Blondel, chef de ‘Gaspasai Restó’ situado en las sierras de la localidad cordobesa de La Cumbre.\" height=\"150\" src=\"http://www.laprensa.com.ar/Multimedios/Imgs/104915_300.jpg?v=3\" width=\"300\"/></a></div>\n",
       "<div class=\"post-content\">\n",
       "<div class=\"title\"><a href=\"http://www.laprensa.com.ar/477558-Los-finalistas-de-una-de-las-competencias-gastronomicas-mas-importantes-del-pais.note.aspx\" onclick=\"javascript:if(typeof(_gaq)!='undefined'){_gaq.push(['_trackEvent', 'Notas', 'Sugerencias del Chef', 'Los finalistas de una de las competencias gastronómicas más importantes del país'])};\" target=\"_self\">Los finalistas de una de las competencias gastronómicas más importantes del país\n",
       "</a></div>\n",
       "</div>\n",
       "</div>\n",
       "</div>\n",
       "</div>\n",
       "<div class=\"site-content\" id=\"content6\" role=\"main\">\n",
       "</div>\n",
       "<div class=\"site-content\" id=\"content7\" role=\"main\">\n",
       "<div class=\"two_columns_news clearboth\">\n",
       "<div class=\"home_category_news_small clearboth\" note=\"478129\">\n",
       "<div class=\"items-wrap\">\n",
       "<div class=\"block_home_post first-post\">\n",
       "<div class=\"post-image\"><a class=\"img-link img-wrap w_hover\" href=\"http://www.laprensa.com.ar/478129-Una-historia-feroz-y-potente.note.aspx\" onclick=\"javascript:if(typeof(_gaq)!='undefined'){_gaq.push(['_trackEvent', 'Notas', 'Espectáculos', 'Una historia feroz y potente'])};\" target=\"_self\"><img alt=\"Madre e hija en una relación de alta tensión, que se torna insoportable.\" height=\"150\" src=\"http://www.laprensa.com.ar/Multimedios/Imgs/105484_300.jpg?v=2\" width=\"300\"/></a></div>\n",
       "<div class=\"post-content\">\n",
       "<div class=\"title\"><a href=\"http://www.laprensa.com.ar/478129-Una-historia-feroz-y-potente.note.aspx\" onclick=\"javascript:if(typeof(_gaq)!='undefined'){_gaq.push(['_trackEvent', 'Notas', 'Espectáculos', 'Una historia feroz y potente'])};\" target=\"_self\">Una historia feroz y potente</a></div>\n",
       "</div>\n",
       "<div class=\"post-body\">De Martin McDonagh, \"La reina de la belleza\"</div>\n",
       "</div>\n",
       "</div>\n",
       "</div>\n",
       "<div class=\"home_category_news_small clearboth\" note=\"478133\">\n",
       "<div class=\"items-wrap\">\n",
       "<div class=\"block_home_post first-post\">\n",
       "<div class=\"post-image\"><a class=\"img-link img-wrap w_hover\" href=\"http://www.laprensa.com.ar/478133-De-la-tierra-al-cielo.note.aspx\" onclick=\"javascript:if(typeof(_gaq)!='undefined'){_gaq.push(['_trackEvent', 'Notas', 'Espectáculos', 'De la tierra al cielo'])};\" target=\"_self\"><img alt=\"De la tierra al cielo\" height=\"150\" src=\"http://www.laprensa.com.ar/Multimedios/Imgs/105485_300.jpg?v=1\" width=\"300\"/></a></div>\n",
       "<div class=\"post-content\">\n",
       "<div class=\"title\"><a href=\"http://www.laprensa.com.ar/478133-De-la-tierra-al-cielo.note.aspx\" onclick=\"javascript:if(typeof(_gaq)!='undefined'){_gaq.push(['_trackEvent', 'Notas', 'Espectáculos', 'De la tierra al cielo'])};\" target=\"_self\">De la tierra al cielo</a></div>\n",
       "</div>\n",
       "<div class=\"post-info\"><div class=\"post_author\"><em>Por </em>Daniel Sousa</div></div>\n",
       "<div class=\"post-body\">\"Ovo\", del Cirque du Soleil.</div>\n",
       "</div>\n",
       "</div>\n",
       "</div>\n",
       "<div class=\"home_category_news_small clearboth\" note=\"478128\">\n",
       "<div class=\"items-wrap\">\n",
       "<div class=\"block_home_post first-post\">\n",
       "<div class=\"post-image\"><a class=\"img-link img-wrap w_hover\" href=\"http://www.laprensa.com.ar/478128-Gombrowicz-en-atrapante-puesta.note.aspx\" onclick=\"javascript:if(typeof(_gaq)!='undefined'){_gaq.push(['_trackEvent', 'Notas', 'Espectáculos', 'Gombrowicz en atrapante puesta'])};\" target=\"_self\"><img alt=\"Como marionetas en un retablo desfilan los personajes ante un dispositivo escenográfico original que oficia de caja china.\" height=\"150\" src=\"http://www.laprensa.com.ar/Multimedios/Imgs/105482_300.jpg?v=4\" width=\"300\"/></a></div>\n",
       "<div class=\"post-content\">\n",
       "<div class=\"title\"><a href=\"http://www.laprensa.com.ar/478128-Gombrowicz-en-atrapante-puesta.note.aspx\" onclick=\"javascript:if(typeof(_gaq)!='undefined'){_gaq.push(['_trackEvent', 'Notas', 'Espectáculos', 'Gombrowicz en atrapante puesta'])};\" target=\"_self\">Gombrowicz en atrapante puesta</a></div>\n",
       "</div>\n",
       "<div class=\"post-info\"><div class=\"post_author\"><em>Por </em>Isabel Croce</div></div>\n",
       "<div class=\"post-body\">El espíritu del autor polaco, retratado en \"Bacacay, Un crimen premeditado\".</div>\n",
       "</div>\n",
       "</div>\n",
       "</div>\n",
       "<div class=\"home_category_news_small clearboth\" note=\"478148\">\n",
       "<div class=\"items-wrap\">\n",
       "<div class=\"block_home_post first-post\">\n",
       "<div class=\"post-image\"><a class=\"img-link img-wrap w_hover\" href=\"http://www.laprensa.com.ar/478148-Rocio-Igarzabal-una-artista-en-una-busqueda-constante.note.aspx\" onclick=\"javascript:if(typeof(_gaq)!='undefined'){_gaq.push(['_trackEvent', 'Notas', 'Espectáculos', 'Rocío Igarzábal, una artista en una búsqueda constante'])};\" target=\"_self\"><img alt=\"Rocío Igarzábal ya comienza a recoger los frutos de su carrera como cantante.Crédito Sofía Racord (@SQ_RACCORD)\" height=\"150\" src=\"http://www.laprensa.com.ar/Multimedios/Imgs/105490_300.JPG?v=4\" width=\"300\"/></a></div>\n",
       "<div class=\"post-content\">\n",
       "<div class=\"title\"><a href=\"http://www.laprensa.com.ar/478148-Rocio-Igarzabal-una-artista-en-una-busqueda-constante.note.aspx\" onclick=\"javascript:if(typeof(_gaq)!='undefined'){_gaq.push(['_trackEvent', 'Notas', 'Espectáculos', 'Rocío Igarzábal, una artista en una búsqueda constante'])};\" target=\"_self\">Rocío Igarzábal, una artista en una búsqueda constante</a></div>\n",
       "</div>\n",
       "<div class=\"post-info\"><div class=\"post_author\"><em>Por </em>Alberto E. Celaya</div></div>\n",
       "<div class=\"post-body\">La cantante habló con  \"La Prensa\" sobre \"Sin tu querer\" -su último video-, el papel que jugó en su carrera Cris Morena y sus proyectos a futuro tanto musicales como actorales.</div>\n",
       "</div>\n",
       "</div>\n",
       "</div>\n",
       "</div>\n",
       "</div>\n",
       "<script type=\"text/javascript\">\n",
       "<!--\n",
       "__CGW_Ad(9, 105619048);\n",
       "//-->\n",
       "</script>\n",
       "</div>\n",
       "</div>\n",
       "<div class=\"main_sidebar right_sidebar\" id=\"secondary\" role=\"complementary\">\n",
       "<aside class=\"widget home_category_news\">\n",
       "<div class=\"block_home_post bd-bot\" note=\"478193\">\n",
       "<div class=\"post-image\"><a class=\"img-link img-wrap w_hover\" href=\"http://www.laprensa.com.ar/478193-Francia-dice-que-aun-no-esta-lista-para-ratificar-el-acuerdo-con-el-Mercosur.note.aspx\" onclick=\"javascript:if(typeof(_gaq)!='undefined'){_gaq.push(['_trackEvent', 'Notas', 'El mundo', 'Francia dice que aún no está lista para ratificar el acuerdo con el Mercosur'])};\" target=\"_self\"><img alt=\"Macron.\" height=\"150\" src=\"http://www.laprensa.com.ar/Multimedios/Imgs/89229_300.JPG?v=5\" width=\"300\"/></a></div>\n",
       "<div class=\"post-content\">\n",
       "<div class=\"title\"><a href=\"http://www.laprensa.com.ar/478193-Francia-dice-que-aun-no-esta-lista-para-ratificar-el-acuerdo-con-el-Mercosur.note.aspx\" onclick=\"javascript:if(typeof(_gaq)!='undefined'){_gaq.push(['_trackEvent', 'Notas', 'El mundo', 'Francia dice que aún no está lista para ratificar el acuerdo con el Mercosur'])};\" target=\"_self\">Francia dice que aún no está lista para ratificar el acuerdo con el Mercosur</a></div>\n",
       "</div>\n",
       "<div class=\"post-body\">El gobierno de Macron anunció que pedirá \"garantías\" a los países del bloque latinoamericano. Su país ha sido uno de los más reacios al pacto porque teme que su influyente sector agrícola se vea afectado por la llegada masiva de productos sudamericanos al mercado.</div>\n",
       "</div>\n",
       "<div class=\"block_home_post bd-bot\" note=\"478192\">\n",
       "<div class=\"post-image\"><a class=\"img-link img-wrap w_hover\" href=\"http://www.laprensa.com.ar/478192-El-sueno-de-la-razon-engendra-monstruos.note.aspx\" onclick=\"javascript:if(typeof(_gaq)!='undefined'){_gaq.push(['_trackEvent', 'Notas', 'Opinión', 'El sueño de la razón engendra monstruos'])};\" target=\"_self\"><img alt=\"El sueño de la razón engendra monstruos\" height=\"150\" src=\"http://www.laprensa.com.ar/Multimedios/Imgs/105531_300.jpg?v=1\" width=\"300\"/></a></div>\n",
       "<div class=\"post-content\">\n",
       "<div class=\"title\"><a href=\"http://www.laprensa.com.ar/478192-El-sueno-de-la-razon-engendra-monstruos.note.aspx\" onclick=\"javascript:if(typeof(_gaq)!='undefined'){_gaq.push(['_trackEvent', 'Notas', 'Opinión', 'El sueño de la razón engendra monstruos'])};\" target=\"_self\">El sueño de la razón engendra monstruos</a></div>\n",
       "</div>\n",
       "<div class=\"post-info\"><div class=\"post_author\"><em>Por </em>Jorge A. Avila</div></div>\n",
       "<div class=\"post-body\">Acuarelas Porteñas- El cierre de las listas para renovar autoridades en la ciudad, reflejó, una vez más, la ausencia casi absoluta de intelectuales y científicos entre los postulantes.</div>\n",
       "</div>\n",
       "<div class=\"block_home_post bd-bot\" note=\"478197\">\n",
       "<div class=\"post-image\"><a class=\"img-link img-wrap w_hover\" href=\"http://www.laprensa.com.ar/478197-Detienen-a-ocho-ninos-de-entre-11-y-16-anos-por-intentar-robar-una-moto-en-Recoleta.note.aspx\" onclick=\"javascript:if(typeof(_gaq)!='undefined'){_gaq.push(['_trackEvent', 'Notas', 'Actualidad', 'Detienen a ocho niños de entre 11 y 16 años por intentar robar una moto en Recoleta'])};\" target=\"_self\"><img alt=\"Policía de la Ciudad.\" height=\"150\" src=\"http://www.laprensa.com.ar/Multimedios/Imgs/85295_300.jpg?v=45\" width=\"300\"/></a></div>\n",
       "<div class=\"post-content\">\n",
       "<div class=\"title\"><a href=\"http://www.laprensa.com.ar/478197-Detienen-a-ocho-ninos-de-entre-11-y-16-anos-por-intentar-robar-una-moto-en-Recoleta.note.aspx\" onclick=\"javascript:if(typeof(_gaq)!='undefined'){_gaq.push(['_trackEvent', 'Notas', 'Actualidad', 'Detienen a ocho niños de entre 11 y 16 años por intentar robar una moto en Recoleta'])};\" target=\"_self\">Detienen a ocho niños de entre 11 y 16 años por intentar robar una moto en Recoleta</a></div>\n",
       "</div>\n",
       "<div class=\"post-body\">El hecho ocurrió ayer a la madrugada en el cruce de Sánchez de Bustamante y Pacheco de Melo, donde un cuatriciclo y patrulleros de la comisaría vecinal 2A de la Policía de la Ciudad concurrieron ante un aviso de un robo en modalidad “piraña”.</div>\n",
       "</div>\n",
       "<div class=\"block_home_post bd-bot\" note=\"478194\">\n",
       "<div class=\"post-image\"><a class=\"img-link img-wrap w_hover\" href=\"http://www.laprensa.com.ar/478194-El-eclipse-solar-se-vera-en-todo-el-pais-precauciones-para-mirarlo.note.aspx\" onclick=\"javascript:if(typeof(_gaq)!='undefined'){_gaq.push(['_trackEvent', 'Notas', 'Actualidad', 'El eclipse solar se verá en todo el país: precauciones para mirarlo'])};\" target=\"_self\"><img alt='Mirar directamente a un eclipse puede \"quemar el ojo y dejarnos ciegos\", advierten especialistas' height=\"150\" src=\"http://www.laprensa.com.ar/Multimedios/Imgs/105532_300.jpg?v=2\" width=\"300\"/></a></div>\n",
       "<div class=\"post-content\">\n",
       "<div class=\"title\"><a href=\"http://www.laprensa.com.ar/478194-El-eclipse-solar-se-vera-en-todo-el-pais-precauciones-para-mirarlo.note.aspx\" onclick=\"javascript:if(typeof(_gaq)!='undefined'){_gaq.push(['_trackEvent', 'Notas', 'Actualidad', 'El eclipse solar se verá en todo el país: precauciones para mirarlo'])};\" target=\"_self\">El eclipse solar se verá en todo el país: precauciones para mirarlo</a></div>\n",
       "</div>\n",
       "<div class=\"post-body\"></div>\n",
       "</div>\n",
       "<div class=\"block_home_post bd-bot\" note=\"478198\">\n",
       "<div class=\"post-image\"><a class=\"img-link img-wrap w_hover\" href=\"http://www.laprensa.com.ar/478198-Delbonis-fue-rapidamente-eliminado-en-Wimbledon.note.aspx\" onclick=\"javascript:if(typeof(_gaq)!='undefined'){_gaq.push(['_trackEvent', 'Notas', 'Deportes', 'Delbonis fue rápidamente eliminado en Wimbledon'])};\" target=\"_self\"><img alt=\"Federico Delbonis.\" height=\"150\" src=\"http://www.laprensa.com.ar/Multimedios/Imgs/84406_300.JPG?v=4\" width=\"300\"/></a></div>\n",
       "<div class=\"post-content\">\n",
       "<div class=\"title\"><a href=\"http://www.laprensa.com.ar/478198-Delbonis-fue-rapidamente-eliminado-en-Wimbledon.note.aspx\" onclick=\"javascript:if(typeof(_gaq)!='undefined'){_gaq.push(['_trackEvent', 'Notas', 'Deportes', 'Delbonis fue rápidamente eliminado en Wimbledon'])};\" target=\"_self\">Delbonis fue rápidamente eliminado en Wimbledon</a></div>\n",
       "</div>\n",
       "<div class=\"post-body\">Pese a que intentó poner en apuros a Evans (61), no lo logró y perdió luego de dos horas y cuarto de juego.</div>\n",
       "</div>\n",
       "<div class=\"block_home_post bd-bot\" note=\"478180\">\n",
       "<div class=\"post-image\"><a class=\"img-link img-wrap w_hover\" href=\"http://www.laprensa.com.ar/478180-Conmebol-confirmo-a-la-Argentina-como-sede-de-inicio-para-la-Copa-America-2020.note.aspx\" onclick=\"javascript:if(typeof(_gaq)!='undefined'){_gaq.push(['_trackEvent', 'Notas', 'Deportes', 'Conmebol confirmó a la Argentina como sede de inicio para la Copa América 2020'])};\" target=\"_self\"><img alt=\"Conmebol confirmó a la Argentina como sede de inicio para la Copa América 2020\" height=\"150\" src=\"http://www.laprensa.com.ar/Multimedios/Imgs/105522_300.jpg?v=1\" width=\"300\"/></a></div>\n",
       "<div class=\"post-content\">\n",
       "<div class=\"title\"><a href=\"http://www.laprensa.com.ar/478180-Conmebol-confirmo-a-la-Argentina-como-sede-de-inicio-para-la-Copa-America-2020.note.aspx\" onclick=\"javascript:if(typeof(_gaq)!='undefined'){_gaq.push(['_trackEvent', 'Notas', 'Deportes', 'Conmebol confirmó a la Argentina como sede de inicio para la Copa América 2020'])};\" target=\"_self\">Conmebol confirmó a la Argentina como sede de inicio para la Copa América 2020</a></div>\n",
       "</div>\n",
       "<div class=\"post-body\">La Copa América del próximo año tendrá por primera vez una doble sede \"con el objetivo de acercar el fútbol sudamericano a todos los aficionados del continente\".</div>\n",
       "</div>\n",
       "<div class=\"block_home_post bd-bot\" note=\"478191\">\n",
       "<div class=\"post-image\"><a class=\"img-link img-wrap w_hover\" href=\"http://www.laprensa.com.ar/478191-Dona-Flor-y-sus-dos-maridos.note.aspx\" onclick=\"javascript:if(typeof(_gaq)!='undefined'){_gaq.push(['_trackEvent', 'Notas', 'Opinión', 'Doña Flor y sus dos maridos'])};\" target=\"_self\"><img alt=\"Una alianza defensiva con Massa seguramente está en los cálculos políticos de Alberto Fernández.\" height=\"150\" src=\"http://www.laprensa.com.ar/Multimedios/Imgs/105530_300.jpg?v=2\" width=\"300\"/></a></div>\n",
       "<div class=\"post-content\">\n",
       "<div class=\"title\"><a href=\"http://www.laprensa.com.ar/478191-Dona-Flor-y-sus-dos-maridos.note.aspx\" onclick=\"javascript:if(typeof(_gaq)!='undefined'){_gaq.push(['_trackEvent', 'Notas', 'Opinión', 'Doña Flor y sus dos maridos'])};\" target=\"_self\">Doña Flor y sus dos maridos</a></div>\n",
       "</div>\n",
       "<div class=\"post-body\">Como en vísperas de la Primera Guerra Mundial, el actual panorama político argentino, está dominado por una configuración de alianzas.</div>\n",
       "</div>\n",
       "<div class=\"block_home_post bd-bot\" note=\"478187\">\n",
       "<div class=\"post-image\"><a class=\"img-link img-wrap w_hover\" href=\"http://www.laprensa.com.ar/478187-La-perversa-ideologia-de-genero.note.aspx\" onclick=\"javascript:if(typeof(_gaq)!='undefined'){_gaq.push(['_trackEvent', 'Notas', 'Opinión', 'La perversa ideología de género'])};\" target=\"_self\"><img alt='La primera vez que se utiliza el término \"género\" como una realidad distinta al sexo biológico es en un artículo publicado en 1955, recordó Muñoz Iturrieta.' height=\"150\" src=\"http://www.laprensa.com.ar/Multimedios/Imgs/105529_300.jpg?v=2\" width=\"300\"/></a></div>\n",
       "<div class=\"post-content\">\n",
       "<div class=\"title\"><a href=\"http://www.laprensa.com.ar/478187-La-perversa-ideologia-de-genero.note.aspx\" onclick=\"javascript:if(typeof(_gaq)!='undefined'){_gaq.push(['_trackEvent', 'Notas', 'Opinión', 'La perversa ideología de género'])};\" target=\"_self\">La perversa ideología de género</a></div>\n",
       "</div>\n",
       "<div class=\"post-info\"><div class=\"post_author\"><em>Por </em>Carlos Ialorenzi</div></div>\n",
       "<div class=\"post-body\">\n",
       "Está en el país el doctor Pablo Muñoz Iturrieta quien reside desde hace varios años en Canadá.</div>\n",
       "</div>\n",
       "<div class=\"block_home_post bd-bot\" note=\"478146\">\n",
       "<div class=\"post-image\"><a class=\"img-link img-wrap w_hover\" href=\"http://www.laprensa.com.ar/478146-Millennials-retos-de-una-generacion.note.aspx\" onclick=\"javascript:if(typeof(_gaq)!='undefined'){_gaq.push(['_trackEvent', 'Notas', 'Actualidad', 'Millennials: retos de una generación'])};\" target=\"_self\"><img alt=\"La economista Karina Gao se convirtió en una influencer en Instagram a partir de sus recetas gourmet para bebes.\" height=\"150\" src=\"http://www.laprensa.com.ar/Multimedios/Imgs/105491_300.jpg?v=2\" width=\"300\"/></a></div>\n",
       "<div class=\"post-content\">\n",
       "<div class=\"title\"><a href=\"http://www.laprensa.com.ar/478146-Millennials-retos-de-una-generacion.note.aspx\" onclick=\"javascript:if(typeof(_gaq)!='undefined'){_gaq.push(['_trackEvent', 'Notas', 'Actualidad', 'Millennials: retos de una generación'])};\" target=\"_self\">Millennials: retos de una generación</a></div>\n",
       "</div>\n",
       "<div class=\"post-info\"><div class=\"post_author\"><em>Por </em>Mariana Badeni</div></div>\n",
       "<div class=\"post-body\">La búsqueda de nuevos horizontes plantea inquietud por encontrar un lugar en el mundo laboral y cultural en la Argentina. La tercera edición de \"Millennial - Desafíos de la vida profesional\" fue el marco de reflexión oranizado por la comunidad coreana para compartir experiencias que inspiren a todos los jóvenes que en la Ciudad de Buenos Aires.</div>\n",
       "</div>\n",
       "<div class=\"block_home_post bd-bot\" note=\"478154\">\n",
       "<div class=\"post-image\"><a class=\"img-link img-wrap w_hover\" href=\"http://www.laprensa.com.ar/478154-El-regreso-a-Tierra-Santa-en-la-voz-del-hincha.note.aspx\" onclick=\"javascript:if(typeof(_gaq)!='undefined'){_gaq.push(['_trackEvent', 'Notas', 'Deportes', 'El regreso a Tierra Santa en la voz del hincha'])};\" target=\"_self\"><img alt=\"Una multitud acompañó el histórico regreso de San Lorenzo a Boedo.Gustavo Carabajal.\" height=\"150\" src=\"http://www.laprensa.com.ar/Multimedios/Imgs/105497_300.jpg?v=5\" width=\"300\"/></a></div>\n",
       "<div class=\"post-content\">\n",
       "<div class=\"title\"><a href=\"http://www.laprensa.com.ar/478154-El-regreso-a-Tierra-Santa-en-la-voz-del-hincha.note.aspx\" onclick=\"javascript:if(typeof(_gaq)!='undefined'){_gaq.push(['_trackEvent', 'Notas', 'Deportes', 'El regreso a Tierra Santa en la voz del hincha'])};\" target=\"_self\">El regreso a Tierra Santa en la voz del hincha</a></div>\n",
       "</div>\n",
       "<div class=\"post-info\"><div class=\"post_author\"><em>Por </em>Carlos Viacava</div></div>\n",
       "<div class=\"post-body\">San Lorenzo recuperó su lugar en avenida La Plata al 1700. Pablo y Carlos, simpatizantes azulgranas, le contaron a La Prensa cómo vivieron ese día histórico.</div>\n",
       "</div>\n",
       "<aside class=\"widget widget_recent_blogposts widget_nota negra\">\n",
       "<div note=\"478190\">\n",
       "<div class=\"widget_header\"><h3 class=\"widget_title\">DE QUE SE HABLA HOY </h3></div>\n",
       "<div class=\"widget_body\">\n",
       "<div class=\"post-image\"><a class=\"img-link img-wrap w_hover\" href=\"http://www.laprensa.com.ar/478190-Hoy-la-mitad-del-pais-mirara-al-cielo-y-la-otra-mitad-el-televisor.note.aspx\" onclick=\"javascript:if(typeof(_gaq)!='undefined'){_gaq.push(['_trackEvent', 'Notas', 'Opinión', 'Hoy la mitad del país mirará al cielo y la otra mitad el televisor'])};\" target=\"_self\"><img alt=\"Hoy la mitad del país mirará al cielo y la otra mitad el televisor\" height=\"150\" src=\"http://www.laprensa.com.ar/Multimedios/Imgs/105527_300.jpg?v=1\" width=\"300\"/></a></div>\n",
       "<div class=\"post-content\">\n",
       "<div class=\"title\"><a href=\"http://www.laprensa.com.ar/478190-Hoy-la-mitad-del-pais-mirara-al-cielo-y-la-otra-mitad-el-televisor.note.aspx\" onclick=\"javascript:if(typeof(_gaq)!='undefined'){_gaq.push(['_trackEvent', 'Notas', 'Opinión', 'Hoy la mitad del país mirará al cielo y la otra mitad el televisor'])};\" target=\"_self\">Hoy la mitad del país mirará al cielo y la otra mitad el televisor</a></div>\n",
       "</div>\n",
       "</div>\n",
       "</div>\n",
       "</aside>\n",
       "<aside class=\"widget widget_recent_blogposts widget_nota bordo\">\n",
       "<div note=\"478196\">\n",
       "<div class=\"widget_header\"><h3 class=\"widget_title\">Claves de las seguridad</h3></div>\n",
       "<div class=\"widget_body\">\n",
       "<div class=\"post-image\"><a class=\"img-link img-wrap w_hover\" href=\"http://www.laprensa.com.ar/478196-No-sabemos-aun-lidiar-con-el-error-de-las-fuerzas-policiales.note.aspx\" onclick=\"javascript:if(typeof(_gaq)!='undefined'){_gaq.push(['_trackEvent', 'Notas', 'Opinión', 'No sabemos aún lidiar con el error de las fuerzas policiales'])};\" target=\"_self\"></a></div>\n",
       "<div class=\"post-content\">\n",
       "<div class=\"title\"><a href=\"http://www.laprensa.com.ar/478196-No-sabemos-aun-lidiar-con-el-error-de-las-fuerzas-policiales.note.aspx\" onclick=\"javascript:if(typeof(_gaq)!='undefined'){_gaq.push(['_trackEvent', 'Notas', 'Opinión', 'No sabemos aún lidiar con el error de las fuerzas policiales'])};\" target=\"_self\">No sabemos aún lidiar con el error de las fuerzas policiales</a></div>\n",
       "</div>\n",
       "</div>\n",
       "</div>\n",
       "</aside>\n",
       "<aside class=\"widget widget_recent_blogposts\">\n",
       "<div class=\"widget_header\"><h3 class=\"widget_title\">Edición Nº 52.188</h3></div>\n",
       "<div class=\"widget_body widget_tapa\">\n",
       "<a href=\"NoteListLastEdition.aspx\"><img height=\"368\" src=\"http://www.laprensa.com.ar/Multimedios/imgs/105526_276.jpg?v=2\" width=\"276\"/></a>\n",
       "<!--<div class=\"getEdition\"><a href=\"http://www.laprensa.com.ar/Multimedios/Otros/86399.pdf\" onclick=\"javascript:if(typeof(_gaq)!=&#39;undefined&#39;){_gaq.push([&#39;_trackEvent&#39;, &#39;Multimedia&#39;, &#39;Actualidad&#39;, &#39;null&#39;])};\"><i class=\"fa fa-file-pdf-o\" aria-hidden=\"true\"></i> Obtener Tapa</a> | <a href=\"EditionPdf.aspx\">Obtener Edición</a></div>-->\n",
       "</div>\n",
       "</aside>\n",
       "</aside>\n",
       "<script type=\"text/javascript\">\n",
       "<!--\n",
       "__CGW_Ad(1, 105619048);\n",
       "//-->\n",
       "</script>\n",
       "<script type=\"text/javascript\">\n",
       "<!--\n",
       "__CGW_Ad(2, 105619048);\n",
       "//-->\n",
       "</script>\n",
       "<script type=\"text/javascript\">\n",
       "<!--\n",
       "__CGW_Ad(3, 105619048);\n",
       "//-->\n",
       "</script>\n",
       "<script type=\"text/javascript\">\n",
       "<!--\n",
       "__CGW_Ad(4, 105619048);\n",
       "//-->\n",
       "</script>\n",
       "<script type=\"text/javascript\">\n",
       "<!--\n",
       "__CGW_Ad(5, 105619048);\n",
       "//-->\n",
       "</script>\n",
       "<script type=\"text/javascript\">\n",
       "<!--\n",
       "__CGW_Ad(6, 105619048);\n",
       "//-->\n",
       "</script>\n",
       "<script type=\"text/javascript\">\n",
       "<!--\n",
       "__CGW_Ad(7, 105619048);\n",
       "//-->\n",
       "</script>\n",
       "<script type=\"text/javascript\">\n",
       "<!--\n",
       "__CGW_Ad(8, 105619048);\n",
       "//-->\n",
       "</script>\n",
       "<aside class=\"widget home_category_news\">\n",
       "</aside>\n",
       "</div>\n",
       "</div>\n",
       "<div class=\"general_content clearboth\">\n",
       "<div class=\"homepage_gallery\" id=\"home-gallery\">\n",
       "<div class=\"border-top\"></div>\n",
       "<h2>El día en fotos</h2>\n",
       "<div class=\"es-carousel-wrapper\" id=\"home-gallery-wrapper\">\n",
       "<div class=\"es-carousel\">\n",
       "<ul class=\"slides\"></ul>\n",
       "</div>\n",
       "</div>\n",
       "</div>\n",
       "</div>\n",
       "</div>\n",
       "</div>\n",
       "<footer class=\"site-footer\" id=\"footer\" role=\"contentinfo\">\n",
       "<section class=\"ft_section_1\">\n",
       "<div class=\"footer-wrapper\">\n",
       "<div class=\"footer_text\">La Prensa Digital - All rights reserved - Fundada por José C. Paz el 18 de octubre de 1869.<br/>\n",
       "\t\tDirector: Florencio Aldrey - Subdirector: Guillermo Belcore - Jefe de Redacción: Pablo S.Otero - Subjefe de Redacción: Daniel Sousa<br/>Encargado de la Edición Digital: Fernando Bertoldi<br/>\n",
       "\t\tPropiedad de Editorial La Capital S.A. - Azopardo 715, CABA, (C1107ADK) Buenos Aires, Argentina<br/>\n",
       "\t\tPropiedad Intelectual: 18764279 - Edición Nº: 52.188</div>\n",
       "</div>\n",
       "</section>\n",
       "<section class=\"ft_section_2\">\n",
       "<div class=\"footer-wrapper\">\n",
       "<ul id=\"footer_menu\">\n",
       "<li><a href=\"/\">Inicio</a></li>\n",
       "<li><a href=\"contacto.aspx\">Contacto</a></li>\n",
       "</ul>\n",
       "<div class=\"copyright\">\n",
       "<div class=\"footer_text\">© 2019. Todos los derechos reservados. <a href=\"http://www.civinext.com/\" target=\"_blank\">Powered by Civinext </a></div>\n",
       "</div>\n",
       "</div>\n",
       "</section>\n",
       "</footer>\n",
       "<!-- PopUp -->\n",
       "<div id=\"overlay\"></div>\n",
       "<!-- go Top-->\n",
       "<a href=\"#\" id=\"toTop\"><span></span></a>\n",
       "</div>\n",
       "<script src=\"/js/jquery-ui-1.9.2.custom.min.js\" type=\"text/javascript\"></script>\n",
       "<script src=\"/js/bootstrap-datepicker.es.min.js\" type=\"text/javascript\"></script>\n",
       "<script src=\"/js/superfish.js\" type=\"text/javascript\"></script>\n",
       "<script src=\"/js/jquery.jclock.js\" type=\"text/javascript\"></script>\n",
       "<script src=\"/js/jquery.flexslider-min.js\" type=\"text/javascript\"></script>\n",
       "<script src=\"/js/jquery.prettyPhoto.js\" type=\"text/javascript\"></script>\n",
       "<script src=\"/js/jquery.jcarousel.min.js\" type=\"text/javascript\"></script>\n",
       "<script src=\"/js/jquery.elastislide.js\" type=\"text/javascript\"></script>\n",
       "<script src=\"/js/googlemap_init.js\" type=\"text/javascript\"></script>\n",
       "<script src=\"/js/mediaelement.min.js\" type=\"text/javascript\"></script>\n",
       "<script src=\"/js/lib.js\" type=\"text/javascript\"></script>\n",
       "<script src=\"/js/functions.js?v=2\" type=\"text/javascript\"></script>\n",
       "<script>\n",
       "  (function(i,s,o,g,r,a,m){i['GoogleAnalyticsObject']=r;i[r]=i[r]||function(){\n",
       "  (i[r].q=i[r].q||[]).push(arguments)},i[r].l=1*new Date();a=s.createElement(o),\n",
       "  m=s.getElementsByTagName(o)[0];a.async=1;a.src=g;m.parentNode.insertBefore(a,m)\n",
       "  })(window,document,'script','//www.google-analytics.com/analytics.js','ga');\n",
       "\n",
       "  ga('create', 'UA-4968591-1', 'auto');\n",
       "  ga('send', 'pageview');\n",
       "</script>\n",
       "<script language=\"javascript\" type=\"text/javascript\">\n",
       "<!--\n",
       "__CGW_SetHit(34849,20,0,0);\n",
       "//-->\n",
       "</script>\n",
       "</body>\n",
       "</html>"
      ]
     },
     "execution_count": 42,
     "metadata": {},
     "output_type": "execute_result"
    }
   ],
   "source": [
    "# Imprimimos la respuesta en un formato conveniente\n",
    "soup.html"
   ]
  },
  {
   "cell_type": "code",
   "execution_count": 43,
   "metadata": {
    "colab": {},
    "colab_type": "code",
    "id": "hdG8m_jA5Y5h"
   },
   "outputs": [
    {
     "data": {
      "text/plain": [
       "<title>La Prensa</title>"
      ]
     },
     "execution_count": 43,
     "metadata": {},
     "output_type": "execute_result"
    }
   ],
   "source": [
    "# Leemos el title\n",
    "soup.title"
   ]
  },
  {
   "cell_type": "code",
   "execution_count": 44,
   "metadata": {},
   "outputs": [
    {
     "data": {
      "text/plain": [
       "'La Prensa'"
      ]
     },
     "execution_count": 44,
     "metadata": {},
     "output_type": "execute_result"
    }
   ],
   "source": [
    "# Extraemos el texto del title\n",
    "\n",
    "soup.title.get_text()"
   ]
  },
  {
   "cell_type": "code",
   "execution_count": 45,
   "metadata": {
    "colab": {},
    "colab_type": "code",
    "id": "9x_IlUdT5Y5x",
    "scrolled": true
   },
   "outputs": [
    {
     "data": {
      "text/plain": [
       "[<div class=\"title\"><a href=\"http://www.laprensa.com.ar/478201-Macri-sobre-el-acuerdo-con-la-UE-Muchas-empresas-se-van-a-animar-a-invertir-en-el-pais.note.aspx\" onclick=\"javascript:if(typeof(_gaq)!='undefined'){_gaq.push(['_trackEvent', 'Notas', 'Política', 'Macri sobre el acuerdo con la UE: \\&quot;Muchas empresas se van a animar a invertir en el país\\&quot;'])};\" target=\"_self\">Macri sobre el acuerdo con la UE: \"Muchas empresas se van a animar a invertir en el país\"</a></div>,\n",
       " <div class=\"title\"><a href=\"http://www.laprensa.com.ar/478195-Cristina-Kirchner-viajo-a-Cuba-para-visitar-a-su-hija-Florencia.note.aspx\" onclick=\"javascript:if(typeof(_gaq)!='undefined'){_gaq.push(['_trackEvent', 'Notas', 'Política', 'Cristina Kirchner viajó a Cuba para visitar a su hija Florencia'])};\" target=\"_self\">Cristina Kirchner viajó a Cuba para visitar a su hija Florencia</a></div>,\n",
       " <div class=\"title\"><a href=\"http://www.laprensa.com.ar/478202-Vidal-el-acuerdo-con-la-UE-generara-desarrollo-mas-trabajo-y-mas-dignidad.note.aspx\" onclick=\"javascript:if(typeof(_gaq)!='undefined'){_gaq.push(['_trackEvent', 'Notas', 'Política', 'Vidal: el acuerdo con la UE \\&quot;generará desarrollo, más trabajo y más dignidad\\&quot;'])};\" target=\"_self\">Vidal: el acuerdo con la UE \"generará desarrollo, más trabajo y más dignidad\"</a></div>,\n",
       " <div class=\"title\"><a href=\"http://www.laprensa.com.ar/478078-La-lenta-recuperacion-economica-no-despeja-las-dudas-politicas.note.aspx\" onclick=\"javascript:if(typeof(_gaq)!='undefined'){_gaq.push(['_trackEvent', 'Notas', 'Opinión', 'La lenta recuperación económica no despeja las dudas políticas'])};\" target=\"_self\">La lenta recuperación económica no despeja las dudas políticas</a></div>,\n",
       " <div class=\"title\"><a href=\"http://www.laprensa.com.ar/478138-La-deslealtad-a-la-Constitucion.note.aspx\" onclick=\"javascript:if(typeof(_gaq)!='undefined'){_gaq.push(['_trackEvent', 'Notas', 'Opinión', 'La deslealtad a la Constitución'])};\" target=\"_self\">La deslealtad a la Constitución</a></div>,\n",
       " <div class=\"title\"><a href=\"http://www.laprensa.com.ar/478075-Los-impuestos-el-lastre-que-frena-la-iniciativa-exportadora.note.aspx\" onclick=\"javascript:if(typeof(_gaq)!='undefined'){_gaq.push(['_trackEvent', 'Notas', 'Economía', 'Los impuestos, el lastre que frena la iniciativa exportadora'])};\" target=\"_self\">Los impuestos, el lastre que frena la iniciativa exportadora\n",
       " \n",
       " </a></div>,\n",
       " <div class=\"title\"><a href=\"http://www.laprensa.com.ar/478200-Dictan-conciliacion-obligatoria-para-impedir-despidos-de-trabajadores-de-Zanella-en-San-Luis.note.aspx\" onclick=\"javascript:if(typeof(_gaq)!='undefined'){_gaq.push(['_trackEvent', 'Notas', 'Política', 'Dictan conciliación obligatoria para impedir despidos de trabajadores de Zanella en San Luis'])};\" target=\"_self\">Dictan conciliación obligatoria para impedir despidos de trabajadores de Zanella en San Luis</a></div>,\n",
       " <div class=\"title\"><a href=\"http://www.laprensa.com.ar/478199-Difunden-las-identidades-de-las-15-victimas-fatales-del-accidente-de-omnibus-en-Tucuman.note.aspx\" onclick=\"javascript:if(typeof(_gaq)!='undefined'){_gaq.push(['_trackEvent', 'Notas', 'Actualidad', 'Difunden las identidades de las 15 víctimas fatales del accidente de ómnibus en Tucumán'])};\" target=\"_self\">Difunden las identidades de las 15 víctimas fatales del accidente de ómnibus en Tucumán</a></div>,\n",
       " <div class=\"title\"><a href=\"http://www.laprensa.com.ar/478086-Viaje-en-el-tiempo-a-los-sabores-de-Italia.note.aspx\" onclick=\"javascript:if(typeof(_gaq)!='undefined'){_gaq.push(['_trackEvent', 'Notas', 'Actualidad', 'Viaje en el tiempo a los sabores de Italia'])};\" target=\"_self\">Viaje en el tiempo a los sabores de Italia</a></div>,\n",
       " <div class=\"title\"><a href=\"http://www.laprensa.com.ar/478108-Pichetto-tiene-un-rol-estabilizador.note.aspx\" onclick=\"javascript:if(typeof(_gaq)!='undefined'){_gaq.push(['_trackEvent', 'Notas', 'Política', '\\&quot;Pichetto tiene un rol estabilizador\\&quot;'])};\" target=\"_self\">\"Pichetto tiene un rol estabilizador\"</a></div>,\n",
       " <div class=\"title\"><a href=\"http://www.laprensa.com.ar/478071-Hay-que-bajar-la-carga-tributaria-en-Argentina.note.aspx\" onclick=\"javascript:if(typeof(_gaq)!='undefined'){_gaq.push(['_trackEvent', 'Notas', 'Economía', '\\&quot;Hay que bajar la carga tributaria en Argentina\\&quot;'])};\" target=\"_self\">\"Hay que bajar la carga tributaria en Argentina\"\n",
       " \n",
       " </a></div>,\n",
       " <div class=\"title\"><a href=\"http://www.laprensa.com.ar/478072-Habra-un-nuevo-blanqueo.note.aspx\" onclick=\"javascript:if(typeof(_gaq)!='undefined'){_gaq.push(['_trackEvent', 'Notas', 'Economía', '\\&quot;Habrá un nuevo blanqueo\\&quot;'])};\" target=\"_self\">\"Habrá un nuevo blanqueo\"</a></div>,\n",
       " <div class=\"title\"><a href=\"http://www.laprensa.com.ar/478073-La-meta-fiscal-un-objetivo-muy-arduo.note.aspx\" onclick=\"javascript:if(typeof(_gaq)!='undefined'){_gaq.push(['_trackEvent', 'Notas', 'Economía', 'La meta fiscal, un objetivo muy arduo'])};\" target=\"_self\">La meta fiscal, un objetivo muy arduo</a></div>,\n",
       " <div class=\"title\"><a href=\"http://www.laprensa.com.ar/478063-Como-terminaron-sus-dias-los-ultimos-virreyes-del-Rio-de-la-Plata.note.aspx\" onclick=\"javascript:if(typeof(_gaq)!='undefined'){_gaq.push(['_trackEvent', 'Notas', 'Cultura', '¿Cómo terminaron sus días los últimos virreyes del Río de  la Plata?'])};\" target=\"_self\">¿Cómo terminaron sus días los últimos virreyes del Río de  la Plata?\n",
       " </a></div>,\n",
       " <div class=\"title\"><a href=\"http://www.laprensa.com.ar/478062-Marta-Minujin-sorprende-a-Nueva-York.note.aspx\" onclick=\"javascript:if(typeof(_gaq)!='undefined'){_gaq.push(['_trackEvent', 'Notas', 'Cultura', 'Marta Minujin sorprende a Nueva York'])};\" target=\"_self\">Marta Minujin sorprende a Nueva York</a></div>,\n",
       " <div class=\"title\"><a href=\"http://www.laprensa.com.ar/478064-Hemingway-y-su-inspiracion-cubana.note.aspx\" onclick=\"javascript:if(typeof(_gaq)!='undefined'){_gaq.push(['_trackEvent', 'Notas', 'Cultura', 'Hemingway y su inspiración cubana'])};\" target=\"_self\">Hemingway y su inspiración cubana</a></div>,\n",
       " <div class=\"title\"><a href=\"http://www.laprensa.com.ar/478065-Sobre-la-caminata-y-la-lectura.note.aspx\" onclick=\"javascript:if(typeof(_gaq)!='undefined'){_gaq.push(['_trackEvent', 'Notas', 'Cultura', 'Sobre la caminata y la lectura'])};\" target=\"_self\">Sobre la caminata y la lectura</a></div>,\n",
       " <div class=\"title\"><a href=\"http://www.laprensa.com.ar/478066-Persecucion-e-intriga-en-la-ciudad-de-los-canales.note.aspx\" onclick=\"javascript:if(typeof(_gaq)!='undefined'){_gaq.push(['_trackEvent', 'Notas', 'Cultura', 'Persecución e intriga en la ciudad de los canales'])};\" target=\"_self\">Persecución e intriga en la ciudad de los canales\n",
       " </a></div>,\n",
       " <div class=\"title\"><a href=\"http://www.laprensa.com.ar/477822-La-historia-de-lo-que-pudo-ser.note.aspx\" onclick=\"javascript:if(typeof(_gaq)!='undefined'){_gaq.push(['_trackEvent', 'Notas', 'Cultura', 'La historia de lo que pudo ser'])};\" target=\"_self\">La historia de lo que pudo ser</a></div>,\n",
       " <div class=\"title\"><a href=\"http://www.laprensa.com.ar/478151-Adiccion-a-los-videojuegos-un-desafio-mayor-que-el-alcoholismo-y-la-drogadiccion.note.aspx\" onclick=\"javascript:if(typeof(_gaq)!='undefined'){_gaq.push(['_trackEvent', 'Notas', 'Ciencia y Salud', 'Adicción a los videojuegos: un desafío mayor que el alcoholismo y la drogadicción'])};\" target=\"_self\">Adicción a los videojuegos: un desafío mayor que el alcoholismo y la drogadicción\n",
       " </a></div>,\n",
       " <div class=\"title\"><a href=\"http://www.laprensa.com.ar/478084-Dermatitis-atopica-una-enfermedad-que-empeora-con-el-frio.note.aspx\" onclick=\"javascript:if(typeof(_gaq)!='undefined'){_gaq.push(['_trackEvent', 'Notas', 'Ciencia y Salud', 'Dermatitis atópica, una enfermedad que empeora con el frío'])};\" target=\"_self\">Dermatitis atópica, una enfermedad que empeora con el frío</a></div>,\n",
       " <div class=\"title\"><a href=\"http://www.laprensa.com.ar/478083-Leche-de-vaca-de-soja-y-de-almendra-cual-es-mejor-.note.aspx\" onclick=\"javascript:if(typeof(_gaq)!='undefined'){_gaq.push(['_trackEvent', 'Notas', 'Ciencia y Salud', 'Leche de vaca, de soja y de almendra: ¿cuál es mejor? '])};\" target=\"_self\">Leche de vaca, de soja y de almendra: ¿cuál es mejor? \n",
       " \n",
       " </a></div>,\n",
       " <div class=\"title\"><a href=\"http://www.laprensa.com.ar/478165-La-Raza-Fuerte-se-renovo.note.aspx\" onclick=\"javascript:if(typeof(_gaq)!='undefined'){_gaq.push(['_trackEvent', 'Notas', 'Sobre Ruedas', 'La Raza Fuerte se renovó'])};\" target=\"_self\">La Raza Fuerte se renovó\n",
       " </a></div>,\n",
       " <div class=\"title\"><a href=\"http://www.laprensa.com.ar/478166-El-T-Cross-llega-para-pelear-entre-los-SUV.note.aspx\" onclick=\"javascript:if(typeof(_gaq)!='undefined'){_gaq.push(['_trackEvent', 'Notas', 'Sobre Ruedas', 'El T-Cross llega para pelear entre los SUV'])};\" target=\"_self\">El T-Cross llega para pelear entre los SUV</a></div>,\n",
       " <div class=\"title\"><a href=\"http://www.laprensa.com.ar/477919-Este-es-el-nuevo-Peugeot-2008-que-se-produciria-en-el-pais.note.aspx\" onclick=\"javascript:if(typeof(_gaq)!='undefined'){_gaq.push(['_trackEvent', 'Notas', 'Sobre Ruedas', 'Este es el nuevo Peugeot 2008, que se produciría en el país'])};\" target=\"_self\">Este es el nuevo Peugeot 2008, que se produciría en el país</a></div>,\n",
       " <div class=\"title\"><a href=\"http://www.laprensa.com.ar/477915-Bartolucci-la-primera-enologa-de-Chandon.note.aspx\" onclick=\"javascript:if(typeof(_gaq)!='undefined'){_gaq.push(['_trackEvent', 'Notas', 'Sugerencias del Chef', 'Bartolucci, la primera enóloga de Chandon'])};\" target=\"_self\">Bartolucci, la primera enóloga de Chandon\n",
       " </a></div>,\n",
       " <div class=\"title\"><a href=\"http://www.laprensa.com.ar/477913-Negroni-un-clasico-centenario.note.aspx\" onclick=\"javascript:if(typeof(_gaq)!='undefined'){_gaq.push(['_trackEvent', 'Notas', 'Sugerencias del Chef', 'Negroni, un clásico centenario'])};\" target=\"_self\">Negroni, un clásico centenario</a></div>,\n",
       " <div class=\"title\"><a href=\"http://www.laprensa.com.ar/477558-Los-finalistas-de-una-de-las-competencias-gastronomicas-mas-importantes-del-pais.note.aspx\" onclick=\"javascript:if(typeof(_gaq)!='undefined'){_gaq.push(['_trackEvent', 'Notas', 'Sugerencias del Chef', 'Los finalistas de una de las competencias gastronómicas más importantes del país'])};\" target=\"_self\">Los finalistas de una de las competencias gastronómicas más importantes del país\n",
       " </a></div>,\n",
       " <div class=\"title\"><a href=\"http://www.laprensa.com.ar/478129-Una-historia-feroz-y-potente.note.aspx\" onclick=\"javascript:if(typeof(_gaq)!='undefined'){_gaq.push(['_trackEvent', 'Notas', 'Espectáculos', 'Una historia feroz y potente'])};\" target=\"_self\">Una historia feroz y potente</a></div>,\n",
       " <div class=\"title\"><a href=\"http://www.laprensa.com.ar/478133-De-la-tierra-al-cielo.note.aspx\" onclick=\"javascript:if(typeof(_gaq)!='undefined'){_gaq.push(['_trackEvent', 'Notas', 'Espectáculos', 'De la tierra al cielo'])};\" target=\"_self\">De la tierra al cielo</a></div>,\n",
       " <div class=\"title\"><a href=\"http://www.laprensa.com.ar/478128-Gombrowicz-en-atrapante-puesta.note.aspx\" onclick=\"javascript:if(typeof(_gaq)!='undefined'){_gaq.push(['_trackEvent', 'Notas', 'Espectáculos', 'Gombrowicz en atrapante puesta'])};\" target=\"_self\">Gombrowicz en atrapante puesta</a></div>,\n",
       " <div class=\"title\"><a href=\"http://www.laprensa.com.ar/478148-Rocio-Igarzabal-una-artista-en-una-busqueda-constante.note.aspx\" onclick=\"javascript:if(typeof(_gaq)!='undefined'){_gaq.push(['_trackEvent', 'Notas', 'Espectáculos', 'Rocío Igarzábal, una artista en una búsqueda constante'])};\" target=\"_self\">Rocío Igarzábal, una artista en una búsqueda constante</a></div>,\n",
       " <div class=\"title\"><a href=\"http://www.laprensa.com.ar/478193-Francia-dice-que-aun-no-esta-lista-para-ratificar-el-acuerdo-con-el-Mercosur.note.aspx\" onclick=\"javascript:if(typeof(_gaq)!='undefined'){_gaq.push(['_trackEvent', 'Notas', 'El mundo', 'Francia dice que aún no está lista para ratificar el acuerdo con el Mercosur'])};\" target=\"_self\">Francia dice que aún no está lista para ratificar el acuerdo con el Mercosur</a></div>,\n",
       " <div class=\"title\"><a href=\"http://www.laprensa.com.ar/478192-El-sueno-de-la-razon-engendra-monstruos.note.aspx\" onclick=\"javascript:if(typeof(_gaq)!='undefined'){_gaq.push(['_trackEvent', 'Notas', 'Opinión', 'El sueño de la razón engendra monstruos'])};\" target=\"_self\">El sueño de la razón engendra monstruos</a></div>,\n",
       " <div class=\"title\"><a href=\"http://www.laprensa.com.ar/478197-Detienen-a-ocho-ninos-de-entre-11-y-16-anos-por-intentar-robar-una-moto-en-Recoleta.note.aspx\" onclick=\"javascript:if(typeof(_gaq)!='undefined'){_gaq.push(['_trackEvent', 'Notas', 'Actualidad', 'Detienen a ocho niños de entre 11 y 16 años por intentar robar una moto en Recoleta'])};\" target=\"_self\">Detienen a ocho niños de entre 11 y 16 años por intentar robar una moto en Recoleta</a></div>,\n",
       " <div class=\"title\"><a href=\"http://www.laprensa.com.ar/478194-El-eclipse-solar-se-vera-en-todo-el-pais-precauciones-para-mirarlo.note.aspx\" onclick=\"javascript:if(typeof(_gaq)!='undefined'){_gaq.push(['_trackEvent', 'Notas', 'Actualidad', 'El eclipse solar se verá en todo el país: precauciones para mirarlo'])};\" target=\"_self\">El eclipse solar se verá en todo el país: precauciones para mirarlo</a></div>,\n",
       " <div class=\"title\"><a href=\"http://www.laprensa.com.ar/478198-Delbonis-fue-rapidamente-eliminado-en-Wimbledon.note.aspx\" onclick=\"javascript:if(typeof(_gaq)!='undefined'){_gaq.push(['_trackEvent', 'Notas', 'Deportes', 'Delbonis fue rápidamente eliminado en Wimbledon'])};\" target=\"_self\">Delbonis fue rápidamente eliminado en Wimbledon</a></div>,\n",
       " <div class=\"title\"><a href=\"http://www.laprensa.com.ar/478180-Conmebol-confirmo-a-la-Argentina-como-sede-de-inicio-para-la-Copa-America-2020.note.aspx\" onclick=\"javascript:if(typeof(_gaq)!='undefined'){_gaq.push(['_trackEvent', 'Notas', 'Deportes', 'Conmebol confirmó a la Argentina como sede de inicio para la Copa América 2020'])};\" target=\"_self\">Conmebol confirmó a la Argentina como sede de inicio para la Copa América 2020</a></div>,\n",
       " <div class=\"title\"><a href=\"http://www.laprensa.com.ar/478191-Dona-Flor-y-sus-dos-maridos.note.aspx\" onclick=\"javascript:if(typeof(_gaq)!='undefined'){_gaq.push(['_trackEvent', 'Notas', 'Opinión', 'Doña Flor y sus dos maridos'])};\" target=\"_self\">Doña Flor y sus dos maridos</a></div>,\n",
       " <div class=\"title\"><a href=\"http://www.laprensa.com.ar/478187-La-perversa-ideologia-de-genero.note.aspx\" onclick=\"javascript:if(typeof(_gaq)!='undefined'){_gaq.push(['_trackEvent', 'Notas', 'Opinión', 'La perversa ideología de género'])};\" target=\"_self\">La perversa ideología de género</a></div>,\n",
       " <div class=\"title\"><a href=\"http://www.laprensa.com.ar/478146-Millennials-retos-de-una-generacion.note.aspx\" onclick=\"javascript:if(typeof(_gaq)!='undefined'){_gaq.push(['_trackEvent', 'Notas', 'Actualidad', 'Millennials: retos de una generación'])};\" target=\"_self\">Millennials: retos de una generación</a></div>,\n",
       " <div class=\"title\"><a href=\"http://www.laprensa.com.ar/478154-El-regreso-a-Tierra-Santa-en-la-voz-del-hincha.note.aspx\" onclick=\"javascript:if(typeof(_gaq)!='undefined'){_gaq.push(['_trackEvent', 'Notas', 'Deportes', 'El regreso a Tierra Santa en la voz del hincha'])};\" target=\"_self\">El regreso a Tierra Santa en la voz del hincha</a></div>,\n",
       " <div class=\"title\"><a href=\"http://www.laprensa.com.ar/478190-Hoy-la-mitad-del-pais-mirara-al-cielo-y-la-otra-mitad-el-televisor.note.aspx\" onclick=\"javascript:if(typeof(_gaq)!='undefined'){_gaq.push(['_trackEvent', 'Notas', 'Opinión', 'Hoy la mitad del país mirará al cielo y la otra mitad el televisor'])};\" target=\"_self\">Hoy la mitad del país mirará al cielo y la otra mitad el televisor</a></div>,\n",
       " <div class=\"title\"><a href=\"http://www.laprensa.com.ar/478196-No-sabemos-aun-lidiar-con-el-error-de-las-fuerzas-policiales.note.aspx\" onclick=\"javascript:if(typeof(_gaq)!='undefined'){_gaq.push(['_trackEvent', 'Notas', 'Opinión', 'No sabemos aún lidiar con el error de las fuerzas policiales'])};\" target=\"_self\">No sabemos aún lidiar con el error de las fuerzas policiales</a></div>]"
      ]
     },
     "execution_count": 45,
     "metadata": {},
     "output_type": "execute_result"
    }
   ],
   "source": [
    "# Almacenamos los títulos en una lista\n",
    "titles = soup.findAll('div', {'class':'title'})\n",
    "titles"
   ]
  },
  {
   "cell_type": "code",
   "execution_count": 46,
   "metadata": {
    "colab": {},
    "colab_type": "code",
    "id": "dd3k9KUX5Y57"
   },
   "outputs": [
    {
     "data": {
      "text/plain": [
       "['Macri sobre el acuerdo con la UE: \"Muchas empresas se van a animar a invertir en el país\"',\n",
       " 'Cristina Kirchner viajó a Cuba para visitar a su hija Florencia',\n",
       " 'Vidal: el acuerdo con la UE \"generará desarrollo, más trabajo y más dignidad\"',\n",
       " 'La lenta recuperación económica no despeja las dudas políticas',\n",
       " 'La deslealtad a la Constitución',\n",
       " 'Los impuestos, el lastre que frena la iniciativa exportadora\\r\\n\\r\\n',\n",
       " 'Dictan conciliación obligatoria para impedir despidos de trabajadores de Zanella en San Luis',\n",
       " 'Difunden las identidades de las 15 víctimas fatales del accidente de ómnibus en Tucumán',\n",
       " 'Viaje en el tiempo a los sabores de Italia',\n",
       " '\"Pichetto tiene un rol estabilizador\"',\n",
       " '\"Hay que bajar la carga tributaria en Argentina\"\\r\\n\\r\\n',\n",
       " '\"Habrá un nuevo blanqueo\"',\n",
       " 'La meta fiscal, un objetivo muy arduo',\n",
       " '¿Cómo terminaron sus días los últimos virreyes del Río de  la Plata?\\r\\n',\n",
       " 'Marta Minujin sorprende a Nueva York',\n",
       " 'Hemingway y su inspiración cubana',\n",
       " 'Sobre la caminata y la lectura',\n",
       " 'Persecución e intriga en la ciudad de los canales\\r\\n',\n",
       " 'La historia de lo que pudo ser',\n",
       " 'Adicción a los videojuegos: un desafío mayor que el alcoholismo y la drogadicción\\r\\n',\n",
       " 'Dermatitis atópica, una enfermedad que empeora con el frío',\n",
       " 'Leche de vaca, de soja y de almendra: ¿cuál es mejor? \\r\\n\\r\\n',\n",
       " 'La Raza Fuerte se renovó\\r\\n',\n",
       " 'El T-Cross llega para pelear entre los SUV',\n",
       " 'Este es el nuevo Peugeot 2008, que se produciría en el país',\n",
       " 'Bartolucci, la primera enóloga de Chandon\\r\\n',\n",
       " 'Negroni, un clásico centenario',\n",
       " 'Los finalistas de una de las competencias gastronómicas más importantes del país\\r\\n',\n",
       " 'Una historia feroz y potente',\n",
       " 'De la tierra al cielo',\n",
       " 'Gombrowicz en atrapante puesta',\n",
       " 'Rocío Igarzábal, una artista en una búsqueda constante',\n",
       " 'Francia dice que aún no está lista para ratificar el acuerdo con el Mercosur',\n",
       " 'El sueño de la razón engendra monstruos',\n",
       " 'Detienen a ocho niños de entre 11 y 16 años por intentar robar una moto en Recoleta',\n",
       " 'El eclipse solar se verá en todo el país: precauciones para mirarlo',\n",
       " 'Delbonis fue rápidamente eliminado en Wimbledon',\n",
       " 'Conmebol confirmó a la Argentina como sede de inicio para la Copa América 2020',\n",
       " 'Doña Flor y sus dos maridos',\n",
       " 'La perversa ideología de género',\n",
       " 'Millennials: retos de una generación',\n",
       " 'El regreso a Tierra Santa en la voz del hincha',\n",
       " 'Hoy la mitad del país mirará al cielo y la otra mitad el televisor',\n",
       " 'No sabemos aún lidiar con el error de las fuerzas policiales']"
      ]
     },
     "execution_count": 46,
     "metadata": {},
     "output_type": "execute_result"
    }
   ],
   "source": [
    "# Extraemos los títulos\n",
    "titulos = [title.text for title in titles]\n",
    "titulos"
   ]
  }
 ],
 "metadata": {
  "colab": {
   "name": "1.PRACTICA_GUIADA_Web_Scraping.ipynb",
   "provenance": [],
   "version": "0.3.2"
  },
  "kernelspec": {
   "display_name": "Python 3",
   "language": "python",
   "name": "python3"
  },
  "language_info": {
   "codemirror_mode": {
    "name": "ipython",
    "version": 3
   },
   "file_extension": ".py",
   "mimetype": "text/x-python",
   "name": "python",
   "nbconvert_exporter": "python",
   "pygments_lexer": "ipython3",
   "version": "3.6.8"
  }
 },
 "nbformat": 4,
 "nbformat_minor": 1
}
