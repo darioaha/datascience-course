{
 "cells": [
  {
   "cell_type": "markdown",
   "metadata": {
    "colab_type": "text",
    "id": "Mf7WBo5MhFj3"
   },
   "source": [
    "# PRÁCTICA GUIADA: Pipelines StumbleUpon Evergreen\n",
    "\n",
    "## 1. Introducción\n",
    "\n",
    "StambleUpon: construir un clasificador que categorice páginas web como perennes o efímeras\n",
    "\n",
    "Utilizaremos el dataset de StambleUpon para armar nuestro primer Pipeline. StambleUpon es un sitio web que recomienda páginas y contenido a sus usuarios basados en los intereses de estos últimos. Entre esas páginas recomendadas hay algunas que tienen períodos cortos de relevancia (noticias, recetas de cocina, etc.) y hay otras que matienen interés a lo largo del tiempo y pueden ser recomendadas a los usuarios mucho tiempo después de que han sido publicadas. Las páginas pueden ser clasificadas en \"ephemeral\" (efímeras) o \"evergreen\" (perennes).\n",
    "\n",
    "El objetivo es, entonces, poder construir un clasificador que clasifique las páginas en estas dos categorías para poder mejorar el sistema de recomendación del sitio.\n",
    "\n",
    "Para ello, trataremos de mostrar la utilidad que tiene los pipelines.\n",
    "\n",
    "**Nota:** esta práctica está basada en un [desafío de Kaggle](https://www.kaggle.com/c/stumbleupon)."
   ]
  },
  {
   "cell_type": "markdown",
   "metadata": {
    "colab_type": "text",
    "id": "LlHplHnJhFj5"
   },
   "source": [
    "## 2. Pipelines \"simples\""
   ]
  },
  {
   "cell_type": "markdown",
   "metadata": {
    "colab_type": "text",
    "id": "gOxubdeMhFj7"
   },
   "source": [
    "* Primero importaremos los datos, paquetes, etc."
   ]
  },
  {
   "cell_type": "code",
   "execution_count": 1,
   "metadata": {
    "colab": {},
    "colab_type": "code",
    "id": "haFbk1bJhFj8",
    "outputId": "69028846-b56c-40db-8106-7cc4e5064ad7",
    "scrolled": true
   },
   "outputs": [
    {
     "data": {
      "text/html": [
       "<div>\n",
       "<style scoped>\n",
       "    .dataframe tbody tr th:only-of-type {\n",
       "        vertical-align: middle;\n",
       "    }\n",
       "\n",
       "    .dataframe tbody tr th {\n",
       "        vertical-align: top;\n",
       "    }\n",
       "\n",
       "    .dataframe thead th {\n",
       "        text-align: right;\n",
       "    }\n",
       "</style>\n",
       "<table border=\"1\" class=\"dataframe\">\n",
       "  <thead>\n",
       "    <tr style=\"text-align: right;\">\n",
       "      <th></th>\n",
       "      <th>url</th>\n",
       "      <th>urlid</th>\n",
       "      <th>boilerplate</th>\n",
       "      <th>alchemy_category</th>\n",
       "      <th>alchemy_category_score</th>\n",
       "      <th>avglinksize</th>\n",
       "      <th>commonlinkratio_1</th>\n",
       "      <th>commonlinkratio_2</th>\n",
       "      <th>commonlinkratio_3</th>\n",
       "      <th>commonlinkratio_4</th>\n",
       "      <th>...</th>\n",
       "      <th>is_news</th>\n",
       "      <th>lengthyLinkDomain</th>\n",
       "      <th>linkwordscore</th>\n",
       "      <th>news_front_page</th>\n",
       "      <th>non_markup_alphanum_characters</th>\n",
       "      <th>numberOfLinks</th>\n",
       "      <th>numwords_in_url</th>\n",
       "      <th>parametrizedLinkRatio</th>\n",
       "      <th>spelling_errors_ratio</th>\n",
       "      <th>label</th>\n",
       "    </tr>\n",
       "  </thead>\n",
       "  <tbody>\n",
       "    <tr>\n",
       "      <th>0</th>\n",
       "      <td>http://www.bloomberg.com/news/2010-12-23/ibm-p...</td>\n",
       "      <td>4042</td>\n",
       "      <td>{\"title\":\"IBM Sees Holographic Calls Air Breat...</td>\n",
       "      <td>business</td>\n",
       "      <td>0.789131</td>\n",
       "      <td>2.055556</td>\n",
       "      <td>0.676471</td>\n",
       "      <td>0.205882</td>\n",
       "      <td>0.047059</td>\n",
       "      <td>0.023529</td>\n",
       "      <td>...</td>\n",
       "      <td>1</td>\n",
       "      <td>1</td>\n",
       "      <td>24</td>\n",
       "      <td>0</td>\n",
       "      <td>5424</td>\n",
       "      <td>170</td>\n",
       "      <td>8</td>\n",
       "      <td>0.152941</td>\n",
       "      <td>0.079130</td>\n",
       "      <td>0</td>\n",
       "    </tr>\n",
       "    <tr>\n",
       "      <th>1</th>\n",
       "      <td>http://www.popsci.com/technology/article/2012-...</td>\n",
       "      <td>8471</td>\n",
       "      <td>{\"title\":\"The Fully Electronic Futuristic Star...</td>\n",
       "      <td>recreation</td>\n",
       "      <td>0.574147</td>\n",
       "      <td>3.677966</td>\n",
       "      <td>0.508021</td>\n",
       "      <td>0.288770</td>\n",
       "      <td>0.213904</td>\n",
       "      <td>0.144385</td>\n",
       "      <td>...</td>\n",
       "      <td>1</td>\n",
       "      <td>1</td>\n",
       "      <td>40</td>\n",
       "      <td>0</td>\n",
       "      <td>4973</td>\n",
       "      <td>187</td>\n",
       "      <td>9</td>\n",
       "      <td>0.181818</td>\n",
       "      <td>0.125448</td>\n",
       "      <td>1</td>\n",
       "    </tr>\n",
       "    <tr>\n",
       "      <th>2</th>\n",
       "      <td>http://www.menshealth.com/health/flu-fighting-...</td>\n",
       "      <td>1164</td>\n",
       "      <td>{\"title\":\"Fruits that Fight the Flu fruits tha...</td>\n",
       "      <td>health</td>\n",
       "      <td>0.996526</td>\n",
       "      <td>2.382883</td>\n",
       "      <td>0.562016</td>\n",
       "      <td>0.321705</td>\n",
       "      <td>0.120155</td>\n",
       "      <td>0.042636</td>\n",
       "      <td>...</td>\n",
       "      <td>1</td>\n",
       "      <td>1</td>\n",
       "      <td>55</td>\n",
       "      <td>0</td>\n",
       "      <td>2240</td>\n",
       "      <td>258</td>\n",
       "      <td>11</td>\n",
       "      <td>0.166667</td>\n",
       "      <td>0.057613</td>\n",
       "      <td>1</td>\n",
       "    </tr>\n",
       "    <tr>\n",
       "      <th>3</th>\n",
       "      <td>http://www.dumblittleman.com/2007/12/10-foolpr...</td>\n",
       "      <td>6684</td>\n",
       "      <td>{\"title\":\"10 Foolproof Tips for Better Sleep \"...</td>\n",
       "      <td>health</td>\n",
       "      <td>0.801248</td>\n",
       "      <td>1.543103</td>\n",
       "      <td>0.400000</td>\n",
       "      <td>0.100000</td>\n",
       "      <td>0.016667</td>\n",
       "      <td>0.000000</td>\n",
       "      <td>...</td>\n",
       "      <td>1</td>\n",
       "      <td>0</td>\n",
       "      <td>24</td>\n",
       "      <td>0</td>\n",
       "      <td>2737</td>\n",
       "      <td>120</td>\n",
       "      <td>5</td>\n",
       "      <td>0.041667</td>\n",
       "      <td>0.100858</td>\n",
       "      <td>1</td>\n",
       "    </tr>\n",
       "    <tr>\n",
       "      <th>4</th>\n",
       "      <td>http://bleacherreport.com/articles/1205138-the...</td>\n",
       "      <td>9006</td>\n",
       "      <td>{\"title\":\"The 50 Coolest Jerseys You Didn t Kn...</td>\n",
       "      <td>sports</td>\n",
       "      <td>0.719157</td>\n",
       "      <td>2.676471</td>\n",
       "      <td>0.500000</td>\n",
       "      <td>0.222222</td>\n",
       "      <td>0.123457</td>\n",
       "      <td>0.043210</td>\n",
       "      <td>...</td>\n",
       "      <td>1</td>\n",
       "      <td>1</td>\n",
       "      <td>14</td>\n",
       "      <td>0</td>\n",
       "      <td>12032</td>\n",
       "      <td>162</td>\n",
       "      <td>10</td>\n",
       "      <td>0.098765</td>\n",
       "      <td>0.082569</td>\n",
       "      <td>0</td>\n",
       "    </tr>\n",
       "  </tbody>\n",
       "</table>\n",
       "<p>5 rows × 27 columns</p>\n",
       "</div>"
      ],
      "text/plain": [
       "                                                 url  urlid  \\\n",
       "0  http://www.bloomberg.com/news/2010-12-23/ibm-p...   4042   \n",
       "1  http://www.popsci.com/technology/article/2012-...   8471   \n",
       "2  http://www.menshealth.com/health/flu-fighting-...   1164   \n",
       "3  http://www.dumblittleman.com/2007/12/10-foolpr...   6684   \n",
       "4  http://bleacherreport.com/articles/1205138-the...   9006   \n",
       "\n",
       "                                         boilerplate alchemy_category  \\\n",
       "0  {\"title\":\"IBM Sees Holographic Calls Air Breat...         business   \n",
       "1  {\"title\":\"The Fully Electronic Futuristic Star...       recreation   \n",
       "2  {\"title\":\"Fruits that Fight the Flu fruits tha...           health   \n",
       "3  {\"title\":\"10 Foolproof Tips for Better Sleep \"...           health   \n",
       "4  {\"title\":\"The 50 Coolest Jerseys You Didn t Kn...           sports   \n",
       "\n",
       "  alchemy_category_score  avglinksize  commonlinkratio_1  commonlinkratio_2  \\\n",
       "0               0.789131     2.055556           0.676471           0.205882   \n",
       "1               0.574147     3.677966           0.508021           0.288770   \n",
       "2               0.996526     2.382883           0.562016           0.321705   \n",
       "3               0.801248     1.543103           0.400000           0.100000   \n",
       "4               0.719157     2.676471           0.500000           0.222222   \n",
       "\n",
       "   commonlinkratio_3  commonlinkratio_4  ...  is_news  lengthyLinkDomain  \\\n",
       "0           0.047059           0.023529  ...        1                  1   \n",
       "1           0.213904           0.144385  ...        1                  1   \n",
       "2           0.120155           0.042636  ...        1                  1   \n",
       "3           0.016667           0.000000  ...        1                  0   \n",
       "4           0.123457           0.043210  ...        1                  1   \n",
       "\n",
       "   linkwordscore  news_front_page  non_markup_alphanum_characters  \\\n",
       "0             24                0                            5424   \n",
       "1             40                0                            4973   \n",
       "2             55                0                            2240   \n",
       "3             24                0                            2737   \n",
       "4             14                0                           12032   \n",
       "\n",
       "   numberOfLinks  numwords_in_url parametrizedLinkRatio  \\\n",
       "0            170                8              0.152941   \n",
       "1            187                9              0.181818   \n",
       "2            258               11              0.166667   \n",
       "3            120                5              0.041667   \n",
       "4            162               10              0.098765   \n",
       "\n",
       "   spelling_errors_ratio  label  \n",
       "0               0.079130      0  \n",
       "1               0.125448      1  \n",
       "2               0.057613      1  \n",
       "3               0.100858      1  \n",
       "4               0.082569      0  \n",
       "\n",
       "[5 rows x 27 columns]"
      ]
     },
     "execution_count": 1,
     "metadata": {},
     "output_type": "execute_result"
    }
   ],
   "source": [
    "from sklearn.pipeline import Pipeline\n",
    "import pandas as pd\n",
    "import json\n",
    "\n",
    "data = pd.read_csv(\"../Data/stumbleupon.tsv\", sep='\\t')\n",
    "data.head()"
   ]
  },
  {
   "cell_type": "code",
   "execution_count": 2,
   "metadata": {},
   "outputs": [
    {
     "data": {
      "text/plain": [
       "array(['{\"title\":\"Knowing when to quit Buzz knowing when to quit\",\"body\":\"7 Athletes Don t Know When To Quit By Brian Wisniewski Like the Kenny Rogers song goes You ve got to know when to hold em know when to fold em know when to walk and know when to run Time and time again we see athletes in sports that simply don t know when that time is The most recent case being Chuck Liddell who came back for one more swan song at UFC 115 only to earn another beating and some more brain damage On that note here s a list of seven athletes that should have thrown in the towel folded hit the road or just simply retired much sooner 1 Chuck Liddell UFC Career 12 Years Should Have Retired After UFC 97 Chuck Liddell fought at UFC 17 and UFC 115 He s been around for nearly 100 UFC s and he looked like it in his latest knockout loss to Rich Franklin The Iceman was the face of the UFC and a big reason why the sport was able to adjust to the mainstream Not only was he one of the building blocks of the UFC he was also one of their best fighters Liddell is a UFC legend but he simply hung on too long He lost five of his last six fights and four of them were by vicious knockout Realistically the closest he should have been to the Octagon is through playing UFC Undisputed on Xbox 2 Jerry Rice NFL Career 21 Seasons Should Have Retired 2003 When you think of Jerry Rice you want to think of a man who was brilliant with both quarterbacks Joe Montana and Steve Young A man who played his best in big games particularly the 49ers Super Bowl wins You don t want to think of the guy who finished his career in a Seattle Seahawks jersey Upon leaving the 49ers Rice enjoyed a few good seasons with the Raiders However the image of Rice in a Seattle Seahawks jersey is a painful one His stats split between Oakland and Seattle in the 2004 season were horrendous totaling 30 catches for barely over 400 yards and not even catching a ball in his final game if you can believe it And let s not forget his ill fated attempt to play for Denver the next year calling it quits with them during training camp Rice should have walked away after his decent 2003 campaign in Oakland 3 Willie Mays MLB Career 22 Seasons Should Have Retired 1972 The Say Hey kid Willie Mays should have just said nay to his sad tenure with the New York Mets in the 1972 73 season While Mays will mostly be remembered for his dazzling over the shoulder catches and masterful accomplishments at the plate it is hard not to forget the 66 game stint with the Mets in which Mays hit a paltry 211 and only drove in 25 runs Seeing Mays in a Mets jersey is depressing and it s a vision we should have never had to endure 4 Evander Holyfield Boxing Career 26 Years Should Have Retired 2002 The Real Deal Evander Holyfield was and apparently still is considering he fought Francois Botha this year one of boxing s greats After all we re talking about a man who even sacrificed an ear in a fight against Mike Tyson The former world heavyweight champion however is still boxing to this day at the age of 50 To put it in perspective the state of New York banned him at the age of 42 yet he keeps going Can t he help George sell the grills or something He should probably consider it as his latest fight against Botha drew only 3 127 fans Even the Montreal Expos draw more fans nowadays Nobody wants to see a 50 year old man try and compete anymore Find a hobby and for our sake and his health s sake let s hope he retires soon 5 Michael Jordan NBA Career 15 Seasons Should Have Retired 1998 Michael Jordan may not have soiled his legacy but he should have retired sooner He is still the greatest basketball player to ever live with two three peats sandwiched in between a two year layoff However he should have never donned a Washington Wizards jersey Yes Jordan had a stake in the team at the point but the publicity stunt was not needed While many will remember his days in Chicago some will not forget his stint in Washington particularly when a 40 year old Jordan completely duffed a breakaway dunk in the All Star Game There was that 51 point game but Mike you are the best but the Washington experiment was a case of you staying around a bit too long even for our liking 6 Chris Chelios NHL Career 26 Seasons Should Have Retired 2008 09 Chris Chelios has spent 25 seasons in the NHL He is perhaps the greatest defensemen who has ever played the game but he man simply cannot quit After being benched in the playoffs in 2008 09 by Detroit Chelios signed on with the Chicago Wolves of the AHL Yes the AHL the minor leagues Sadly enough the Atlanta Thrashers gave Chelios a contract after that stint and he appeared in seven games with them without registering a single point It was sad to see a man of his caliber in the minor leagues but that s just a sign that Chelios clearly is holding on too long What more is there to prove 7 Ric Flair Wrestling Career 38 Years Should Have Retired 2008 If you haven t seen the movie The Wrestler just watch it play out in real life via the career of Ric Flair hopefully with a happier ending The Nature Boy Ric Flair a 16 time World Heavyweight Champion who has already had a tearful farewell in the WWE but the itch is back and he s signed a contract with TNA Even more amazing he is in a program against Hulk Hogan What is this the Champions Tour Both men are nearing 60 years of age and both were peak performers of professional wrestling decades ago Hulkster Naitch we love you guys but for god s sake unless you re play wrestling with your grandkids we don t want to see you wrestle anyone anymore let alone each other normal 0 false false false en-ca x-none x-none ...\",\"url\":\"thescore buzz articles 48693 knowing when to quit\"}'],\n",
       "      dtype=object)"
      ]
     },
     "execution_count": 2,
     "metadata": {},
     "output_type": "execute_result"
    }
   ],
   "source": [
    "data.sample()['boilerplate'].values"
   ]
  },
  {
   "cell_type": "markdown",
   "metadata": {
    "colab_type": "text",
    "id": "0nUVAFeKhFkG"
   },
   "source": [
    "* Tomamos del campo “boilerplate” los subcampos “title” y “body” y los agregamos a data\n",
    "* Rellenamos vacíos con ''\n",
    "\n",
    "* Verificamos los valores obtenidos en el vector"
   ]
  },
  {
   "cell_type": "code",
   "execution_count": 3,
   "metadata": {
    "colab": {},
    "colab_type": "code",
    "id": "N-JjL-E9hFkI",
    "outputId": "43e9df8e-8810-476a-8cc8-9fdfc0403d53",
    "scrolled": true
   },
   "outputs": [
    {
     "data": {
      "text/html": [
       "<div>\n",
       "<style scoped>\n",
       "    .dataframe tbody tr th:only-of-type {\n",
       "        vertical-align: middle;\n",
       "    }\n",
       "\n",
       "    .dataframe tbody tr th {\n",
       "        vertical-align: top;\n",
       "    }\n",
       "\n",
       "    .dataframe thead th {\n",
       "        text-align: right;\n",
       "    }\n",
       "</style>\n",
       "<table border=\"1\" class=\"dataframe\">\n",
       "  <thead>\n",
       "    <tr style=\"text-align: right;\">\n",
       "      <th></th>\n",
       "      <th>url</th>\n",
       "      <th>urlid</th>\n",
       "      <th>boilerplate</th>\n",
       "      <th>alchemy_category</th>\n",
       "      <th>alchemy_category_score</th>\n",
       "      <th>avglinksize</th>\n",
       "      <th>commonlinkratio_1</th>\n",
       "      <th>commonlinkratio_2</th>\n",
       "      <th>commonlinkratio_3</th>\n",
       "      <th>commonlinkratio_4</th>\n",
       "      <th>...</th>\n",
       "      <th>linkwordscore</th>\n",
       "      <th>news_front_page</th>\n",
       "      <th>non_markup_alphanum_characters</th>\n",
       "      <th>numberOfLinks</th>\n",
       "      <th>numwords_in_url</th>\n",
       "      <th>parametrizedLinkRatio</th>\n",
       "      <th>spelling_errors_ratio</th>\n",
       "      <th>label</th>\n",
       "      <th>title</th>\n",
       "      <th>body</th>\n",
       "    </tr>\n",
       "  </thead>\n",
       "  <tbody>\n",
       "    <tr>\n",
       "      <th>0</th>\n",
       "      <td>http://www.bloomberg.com/news/2010-12-23/ibm-p...</td>\n",
       "      <td>4042</td>\n",
       "      <td>{\"title\":\"IBM Sees Holographic Calls Air Breat...</td>\n",
       "      <td>business</td>\n",
       "      <td>0.789131</td>\n",
       "      <td>2.055556</td>\n",
       "      <td>0.676471</td>\n",
       "      <td>0.205882</td>\n",
       "      <td>0.047059</td>\n",
       "      <td>0.023529</td>\n",
       "      <td>...</td>\n",
       "      <td>24</td>\n",
       "      <td>0</td>\n",
       "      <td>5424</td>\n",
       "      <td>170</td>\n",
       "      <td>8</td>\n",
       "      <td>0.152941</td>\n",
       "      <td>0.079130</td>\n",
       "      <td>0</td>\n",
       "      <td>IBM Sees Holographic Calls Air Breathing Batte...</td>\n",
       "      <td>A sign stands outside the International Busine...</td>\n",
       "    </tr>\n",
       "    <tr>\n",
       "      <th>1</th>\n",
       "      <td>http://www.popsci.com/technology/article/2012-...</td>\n",
       "      <td>8471</td>\n",
       "      <td>{\"title\":\"The Fully Electronic Futuristic Star...</td>\n",
       "      <td>recreation</td>\n",
       "      <td>0.574147</td>\n",
       "      <td>3.677966</td>\n",
       "      <td>0.508021</td>\n",
       "      <td>0.288770</td>\n",
       "      <td>0.213904</td>\n",
       "      <td>0.144385</td>\n",
       "      <td>...</td>\n",
       "      <td>40</td>\n",
       "      <td>0</td>\n",
       "      <td>4973</td>\n",
       "      <td>187</td>\n",
       "      <td>9</td>\n",
       "      <td>0.181818</td>\n",
       "      <td>0.125448</td>\n",
       "      <td>1</td>\n",
       "      <td>The Fully Electronic Futuristic Starting Gun T...</td>\n",
       "      <td>And that can be carried on a plane without the...</td>\n",
       "    </tr>\n",
       "    <tr>\n",
       "      <th>2</th>\n",
       "      <td>http://www.menshealth.com/health/flu-fighting-...</td>\n",
       "      <td>1164</td>\n",
       "      <td>{\"title\":\"Fruits that Fight the Flu fruits tha...</td>\n",
       "      <td>health</td>\n",
       "      <td>0.996526</td>\n",
       "      <td>2.382883</td>\n",
       "      <td>0.562016</td>\n",
       "      <td>0.321705</td>\n",
       "      <td>0.120155</td>\n",
       "      <td>0.042636</td>\n",
       "      <td>...</td>\n",
       "      <td>55</td>\n",
       "      <td>0</td>\n",
       "      <td>2240</td>\n",
       "      <td>258</td>\n",
       "      <td>11</td>\n",
       "      <td>0.166667</td>\n",
       "      <td>0.057613</td>\n",
       "      <td>1</td>\n",
       "      <td>Fruits that Fight the Flu fruits that fight th...</td>\n",
       "      <td>Apples The most popular source of antioxidants...</td>\n",
       "    </tr>\n",
       "    <tr>\n",
       "      <th>3</th>\n",
       "      <td>http://www.dumblittleman.com/2007/12/10-foolpr...</td>\n",
       "      <td>6684</td>\n",
       "      <td>{\"title\":\"10 Foolproof Tips for Better Sleep \"...</td>\n",
       "      <td>health</td>\n",
       "      <td>0.801248</td>\n",
       "      <td>1.543103</td>\n",
       "      <td>0.400000</td>\n",
       "      <td>0.100000</td>\n",
       "      <td>0.016667</td>\n",
       "      <td>0.000000</td>\n",
       "      <td>...</td>\n",
       "      <td>24</td>\n",
       "      <td>0</td>\n",
       "      <td>2737</td>\n",
       "      <td>120</td>\n",
       "      <td>5</td>\n",
       "      <td>0.041667</td>\n",
       "      <td>0.100858</td>\n",
       "      <td>1</td>\n",
       "      <td>10 Foolproof Tips for Better Sleep</td>\n",
       "      <td>There was a period in my life when I had a lot...</td>\n",
       "    </tr>\n",
       "    <tr>\n",
       "      <th>4</th>\n",
       "      <td>http://bleacherreport.com/articles/1205138-the...</td>\n",
       "      <td>9006</td>\n",
       "      <td>{\"title\":\"The 50 Coolest Jerseys You Didn t Kn...</td>\n",
       "      <td>sports</td>\n",
       "      <td>0.719157</td>\n",
       "      <td>2.676471</td>\n",
       "      <td>0.500000</td>\n",
       "      <td>0.222222</td>\n",
       "      <td>0.123457</td>\n",
       "      <td>0.043210</td>\n",
       "      <td>...</td>\n",
       "      <td>14</td>\n",
       "      <td>0</td>\n",
       "      <td>12032</td>\n",
       "      <td>162</td>\n",
       "      <td>10</td>\n",
       "      <td>0.098765</td>\n",
       "      <td>0.082569</td>\n",
       "      <td>0</td>\n",
       "      <td>The 50 Coolest Jerseys You Didn t Know Existed...</td>\n",
       "      <td>Jersey sales is a curious business Whether you...</td>\n",
       "    </tr>\n",
       "  </tbody>\n",
       "</table>\n",
       "<p>5 rows × 29 columns</p>\n",
       "</div>"
      ],
      "text/plain": [
       "                                                 url  urlid  \\\n",
       "0  http://www.bloomberg.com/news/2010-12-23/ibm-p...   4042   \n",
       "1  http://www.popsci.com/technology/article/2012-...   8471   \n",
       "2  http://www.menshealth.com/health/flu-fighting-...   1164   \n",
       "3  http://www.dumblittleman.com/2007/12/10-foolpr...   6684   \n",
       "4  http://bleacherreport.com/articles/1205138-the...   9006   \n",
       "\n",
       "                                         boilerplate alchemy_category  \\\n",
       "0  {\"title\":\"IBM Sees Holographic Calls Air Breat...         business   \n",
       "1  {\"title\":\"The Fully Electronic Futuristic Star...       recreation   \n",
       "2  {\"title\":\"Fruits that Fight the Flu fruits tha...           health   \n",
       "3  {\"title\":\"10 Foolproof Tips for Better Sleep \"...           health   \n",
       "4  {\"title\":\"The 50 Coolest Jerseys You Didn t Kn...           sports   \n",
       "\n",
       "  alchemy_category_score  avglinksize  commonlinkratio_1  commonlinkratio_2  \\\n",
       "0               0.789131     2.055556           0.676471           0.205882   \n",
       "1               0.574147     3.677966           0.508021           0.288770   \n",
       "2               0.996526     2.382883           0.562016           0.321705   \n",
       "3               0.801248     1.543103           0.400000           0.100000   \n",
       "4               0.719157     2.676471           0.500000           0.222222   \n",
       "\n",
       "   commonlinkratio_3  commonlinkratio_4  ...  linkwordscore  news_front_page  \\\n",
       "0           0.047059           0.023529  ...             24                0   \n",
       "1           0.213904           0.144385  ...             40                0   \n",
       "2           0.120155           0.042636  ...             55                0   \n",
       "3           0.016667           0.000000  ...             24                0   \n",
       "4           0.123457           0.043210  ...             14                0   \n",
       "\n",
       "   non_markup_alphanum_characters  numberOfLinks  numwords_in_url  \\\n",
       "0                            5424            170                8   \n",
       "1                            4973            187                9   \n",
       "2                            2240            258               11   \n",
       "3                            2737            120                5   \n",
       "4                           12032            162               10   \n",
       "\n",
       "   parametrizedLinkRatio  spelling_errors_ratio label  \\\n",
       "0               0.152941               0.079130     0   \n",
       "1               0.181818               0.125448     1   \n",
       "2               0.166667               0.057613     1   \n",
       "3               0.041667               0.100858     1   \n",
       "4               0.098765               0.082569     0   \n",
       "\n",
       "                                               title  \\\n",
       "0  IBM Sees Holographic Calls Air Breathing Batte...   \n",
       "1  The Fully Electronic Futuristic Starting Gun T...   \n",
       "2  Fruits that Fight the Flu fruits that fight th...   \n",
       "3                10 Foolproof Tips for Better Sleep    \n",
       "4  The 50 Coolest Jerseys You Didn t Know Existed...   \n",
       "\n",
       "                                                body  \n",
       "0  A sign stands outside the International Busine...  \n",
       "1  And that can be carried on a plane without the...  \n",
       "2  Apples The most popular source of antioxidants...  \n",
       "3  There was a period in my life when I had a lot...  \n",
       "4  Jersey sales is a curious business Whether you...  \n",
       "\n",
       "[5 rows x 29 columns]"
      ]
     },
     "execution_count": 3,
     "metadata": {},
     "output_type": "execute_result"
    }
   ],
   "source": [
    "data['title'] = data.boilerplate.apply(lambda x: json.loads(x).get('title', ''))\n",
    "data['body'] = data.boilerplate.apply(lambda x: json.loads(x).get('body', ''))\n",
    "data.head()"
   ]
  },
  {
   "cell_type": "code",
   "execution_count": 4,
   "metadata": {},
   "outputs": [
    {
     "data": {
      "text/plain": [
       "17      {\"title\":null,\"body\":\"The annual Chap Olympiad...\n",
       "1222    {\"title\":null,\"body\":\"The only show at NYFW I ...\n",
       "1642    {\"title\":null,\"body\":\"When you wake up with yo...\n",
       "2111    {\"title\":null,\"body\":\"Stories of human flight ...\n",
       "3026    {\"title\":null,\"body\":\"Researchers at Volkswage...\n",
       "3753    {\"title\":null,\"body\":\"December 31 2008 12 01 a...\n",
       "3909    {\"title\":null,\"body\":\"Soft and chewy peanut bu...\n",
       "4142    {\"title\":null,\"body\":null,\"url\":\"icanhascheezb...\n",
       "5358    {\"title\":null,\"body\":\"18 Feb Like my play on w...\n",
       "6138    {\"title\":null,\"body\":\" discover fall's top bea...\n",
       "6941    {\"title\":null,\"body\":\"A new photograph analyzi...\n",
       "7029    {\"title\":null,\"body\":\"Today I have a recipe th...\n",
       "Name: boilerplate, dtype: object"
      ]
     },
     "execution_count": 4,
     "metadata": {},
     "output_type": "execute_result"
    }
   ],
   "source": [
    "data['boilerplate'][data['title'].isna()]"
   ]
  },
  {
   "cell_type": "markdown",
   "metadata": {
    "colab_type": "text",
    "id": "ThvJGiMdhFkl"
   },
   "source": [
    "#### Balanceo de la clase\n",
    "\n",
    "Verifiquemos cómo se encuentra balanceada la clase:"
   ]
  },
  {
   "cell_type": "code",
   "execution_count": 5,
   "metadata": {
    "colab": {},
    "colab_type": "code",
    "id": "Irc5HOWyhFkm",
    "outputId": "0892db5c-7f61-4bd4-a0a5-9d1d2a4e6149"
   },
   "outputs": [
    {
     "data": {
      "text/plain": [
       "1    3796\n",
       "0    3599\n",
       "Name: label, dtype: int64"
      ]
     },
     "execution_count": 5,
     "metadata": {},
     "output_type": "execute_result"
    }
   ],
   "source": [
    "data.label.value_counts()"
   ]
  },
  {
   "cell_type": "markdown",
   "metadata": {
    "colab_type": "text",
    "id": "N-JmT_J5hFk1"
   },
   "source": [
    "La clase parece bien balanceada, por lo tanto el accuracy será una buena medida de performance."
   ]
  },
  {
   "cell_type": "markdown",
   "metadata": {
    "colab_type": "text",
    "id": "yQWqn-jvhFk3"
   },
   "source": [
    "## Experimentación\n",
    "\n",
    "Antes de encarar la construcción de un pipeline tenemos que determinar qué posibles combinaciones de preprocesamiento y modelos vamos a explorar."
   ]
  },
  {
   "cell_type": "markdown",
   "metadata": {
    "colab_type": "text",
    "id": "jjJpKoqChFk3"
   },
   "source": [
    "* En el preprocesamiento, vamos a usar la clase `CountVectorizer` para extraer a partir de los títulos, un vector de palabras. (https://scikit-learn.org/stable/modules/generated/sklearn.feature_extraction.text.CountVectorizer.html)\n",
    "\n",
    "    **Parámetros:**\n",
    "\n",
    "    1. `max_features`: Sólo considera las primeras X características, ordenadas por frecuencia.\n",
    "    2. `ngram_range` : tuple (min_n, max_n): Va a tomar palabras de a una y de a dos.\n",
    "    3. `stop_words`: Va a descartar artículos y palabras sin poder predictivo del idioma inglés. Se pueden usar listas custom.\n",
    "    4. `binary`: Las posibilidades son 0 o 1 (booleano, no acumula).\n",
    "    \n",
    "    \n",
    "* Para el modelo de clasificación, por ser basado en texto vamos a utilizar MultinomialNB sin contemplar la exploración de los hiperparámetros vistos para regularizar, ya que NB carece de ellos. MultinomialNB tiene un hiperparámetro `alpha` que, a diferencia de regularización, remite a dejar algún grado de libertad para que el modelo tenga cierto margen de funcionamiento para operar frente a ciertas propabilidades (features) extrañas o no contempladas cuando fiteamos el modelo. Este `alpha` se denomina `alpha de Laplace` y, por default, se fija en 1. La fundamentación de este parámetro surge de un planteo sobre [la probabilidad de que el sol salga cada mañana](https://en.wikipedia.org/wiki/Sunrise_problem).\n",
    "\n",
    "\n",
    "Con estos pasos vamos a crear un pipeline que contenga:\n",
    "\n",
    "     1. El vectorizador de texto\n",
    "     2. El modelo de clasificación"
   ]
  },
  {
   "cell_type": "markdown",
   "metadata": {
    "colab_type": "text",
    "id": "F7KjJvPdhFk5"
   },
   "source": [
    "### Split train/test\n",
    "\n",
    "Para tener una estimación de la performance del modelo seleccionado sobre datos no observados, comenzamos por hacer un split train/test sobre los datos."
   ]
  },
  {
   "cell_type": "code",
   "execution_count": 6,
   "metadata": {
    "colab": {},
    "colab_type": "code",
    "id": "N7CFpy__hFk7"
   },
   "outputs": [],
   "source": [
    "X = data[['title','body']].fillna('')\n",
    "y = data['label']\n",
    "from sklearn.model_selection import train_test_split"
   ]
  },
  {
   "cell_type": "code",
   "execution_count": 7,
   "metadata": {
    "colab": {},
    "colab_type": "code",
    "id": "zcRmqM0ZhFlG"
   },
   "outputs": [],
   "source": [
    "X_train, X_test, y_train, y_test = train_test_split(\n",
    "    X, y, test_size=0.33, random_state=42)"
   ]
  },
  {
   "cell_type": "markdown",
   "metadata": {},
   "source": [
    "Breve repaso de CountVectorizer"
   ]
  },
  {
   "cell_type": "code",
   "execution_count": 8,
   "metadata": {},
   "outputs": [
    {
     "name": "stdout",
     "output_type": "stream",
     "text": [
      "['IBM Sees Holographic Calls Air Breathing Batteries ibm sees holographic calls, air-breathing batteries'\n",
      " 'The Fully Electronic Futuristic Starting Gun That Eliminates Advantages in Races the fully electronic, futuristic starting gun that eliminates advantages in races the fully electronic, futuristic starting gun that eliminates advantages in races'\n",
      " \"Fruits that Fight the Flu fruits that fight the flu | cold & flu | men's health\"\n",
      " '10 Foolproof Tips for Better Sleep '\n",
      " \"The 50 Coolest Jerseys You Didn t Know Existed coolest jerseys you haven't seen\"]\n"
     ]
    }
   ],
   "source": [
    "print(X.title[:5].values)"
   ]
  },
  {
   "cell_type": "code",
   "execution_count": 9,
   "metadata": {},
   "outputs": [
    {
     "data": {
      "text/plain": [
       "['10',\n",
       " '50',\n",
       " 'advantages',\n",
       " 'air',\n",
       " 'batteries',\n",
       " 'better',\n",
       " 'breathing',\n",
       " 'calls',\n",
       " 'cold',\n",
       " 'coolest',\n",
       " 'didn',\n",
       " 'electronic',\n",
       " 'eliminates',\n",
       " 'existed',\n",
       " 'fight',\n",
       " 'flu',\n",
       " 'foolproof',\n",
       " 'for',\n",
       " 'fruits',\n",
       " 'fully',\n",
       " 'futuristic',\n",
       " 'gun',\n",
       " 'haven',\n",
       " 'health',\n",
       " 'holographic',\n",
       " 'ibm',\n",
       " 'in',\n",
       " 'jerseys',\n",
       " 'know',\n",
       " 'men',\n",
       " 'races',\n",
       " 'seen',\n",
       " 'sees',\n",
       " 'sleep',\n",
       " 'starting',\n",
       " 'that',\n",
       " 'the',\n",
       " 'tips',\n",
       " 'you']"
      ]
     },
     "execution_count": 9,
     "metadata": {},
     "output_type": "execute_result"
    }
   ],
   "source": [
    "from sklearn.feature_extraction.text import CountVectorizer\n",
    "vectorizer = CountVectorizer()\n",
    "vectorizer.fit(X.title[:5])\n",
    "vectorizer.get_feature_names()"
   ]
  },
  {
   "cell_type": "code",
   "execution_count": 10,
   "metadata": {},
   "outputs": [
    {
     "data": {
      "text/plain": [
       "<5x39 sparse matrix of type '<class 'numpy.int64'>'\n",
       "\twith 42 stored elements in Compressed Sparse Row format>"
      ]
     },
     "execution_count": 10,
     "metadata": {},
     "output_type": "execute_result"
    }
   ],
   "source": [
    "title_vec = vectorizer.transform(X.title[:5])\n",
    "title_vec"
   ]
  },
  {
   "cell_type": "code",
   "execution_count": 11,
   "metadata": {},
   "outputs": [
    {
     "data": {
      "text/html": [
       "<div>\n",
       "<style scoped>\n",
       "    .dataframe tbody tr th:only-of-type {\n",
       "        vertical-align: middle;\n",
       "    }\n",
       "\n",
       "    .dataframe tbody tr th {\n",
       "        vertical-align: top;\n",
       "    }\n",
       "\n",
       "    .dataframe thead th {\n",
       "        text-align: right;\n",
       "    }\n",
       "</style>\n",
       "<table border=\"1\" class=\"dataframe\">\n",
       "  <thead>\n",
       "    <tr style=\"text-align: right;\">\n",
       "      <th></th>\n",
       "      <th>0</th>\n",
       "      <th>1</th>\n",
       "      <th>2</th>\n",
       "      <th>3</th>\n",
       "      <th>4</th>\n",
       "    </tr>\n",
       "  </thead>\n",
       "  <tbody>\n",
       "    <tr>\n",
       "      <th>10</th>\n",
       "      <td>0</td>\n",
       "      <td>0</td>\n",
       "      <td>0</td>\n",
       "      <td>1</td>\n",
       "      <td>0</td>\n",
       "    </tr>\n",
       "    <tr>\n",
       "      <th>50</th>\n",
       "      <td>0</td>\n",
       "      <td>0</td>\n",
       "      <td>0</td>\n",
       "      <td>0</td>\n",
       "      <td>1</td>\n",
       "    </tr>\n",
       "    <tr>\n",
       "      <th>advantages</th>\n",
       "      <td>0</td>\n",
       "      <td>3</td>\n",
       "      <td>0</td>\n",
       "      <td>0</td>\n",
       "      <td>0</td>\n",
       "    </tr>\n",
       "    <tr>\n",
       "      <th>air</th>\n",
       "      <td>2</td>\n",
       "      <td>0</td>\n",
       "      <td>0</td>\n",
       "      <td>0</td>\n",
       "      <td>0</td>\n",
       "    </tr>\n",
       "    <tr>\n",
       "      <th>batteries</th>\n",
       "      <td>2</td>\n",
       "      <td>0</td>\n",
       "      <td>0</td>\n",
       "      <td>0</td>\n",
       "      <td>0</td>\n",
       "    </tr>\n",
       "    <tr>\n",
       "      <th>better</th>\n",
       "      <td>0</td>\n",
       "      <td>0</td>\n",
       "      <td>0</td>\n",
       "      <td>1</td>\n",
       "      <td>0</td>\n",
       "    </tr>\n",
       "    <tr>\n",
       "      <th>breathing</th>\n",
       "      <td>2</td>\n",
       "      <td>0</td>\n",
       "      <td>0</td>\n",
       "      <td>0</td>\n",
       "      <td>0</td>\n",
       "    </tr>\n",
       "    <tr>\n",
       "      <th>calls</th>\n",
       "      <td>2</td>\n",
       "      <td>0</td>\n",
       "      <td>0</td>\n",
       "      <td>0</td>\n",
       "      <td>0</td>\n",
       "    </tr>\n",
       "    <tr>\n",
       "      <th>cold</th>\n",
       "      <td>0</td>\n",
       "      <td>0</td>\n",
       "      <td>1</td>\n",
       "      <td>0</td>\n",
       "      <td>0</td>\n",
       "    </tr>\n",
       "    <tr>\n",
       "      <th>coolest</th>\n",
       "      <td>0</td>\n",
       "      <td>0</td>\n",
       "      <td>0</td>\n",
       "      <td>0</td>\n",
       "      <td>2</td>\n",
       "    </tr>\n",
       "    <tr>\n",
       "      <th>didn</th>\n",
       "      <td>0</td>\n",
       "      <td>0</td>\n",
       "      <td>0</td>\n",
       "      <td>0</td>\n",
       "      <td>1</td>\n",
       "    </tr>\n",
       "    <tr>\n",
       "      <th>electronic</th>\n",
       "      <td>0</td>\n",
       "      <td>3</td>\n",
       "      <td>0</td>\n",
       "      <td>0</td>\n",
       "      <td>0</td>\n",
       "    </tr>\n",
       "    <tr>\n",
       "      <th>eliminates</th>\n",
       "      <td>0</td>\n",
       "      <td>3</td>\n",
       "      <td>0</td>\n",
       "      <td>0</td>\n",
       "      <td>0</td>\n",
       "    </tr>\n",
       "    <tr>\n",
       "      <th>existed</th>\n",
       "      <td>0</td>\n",
       "      <td>0</td>\n",
       "      <td>0</td>\n",
       "      <td>0</td>\n",
       "      <td>1</td>\n",
       "    </tr>\n",
       "    <tr>\n",
       "      <th>fight</th>\n",
       "      <td>0</td>\n",
       "      <td>0</td>\n",
       "      <td>2</td>\n",
       "      <td>0</td>\n",
       "      <td>0</td>\n",
       "    </tr>\n",
       "    <tr>\n",
       "      <th>flu</th>\n",
       "      <td>0</td>\n",
       "      <td>0</td>\n",
       "      <td>3</td>\n",
       "      <td>0</td>\n",
       "      <td>0</td>\n",
       "    </tr>\n",
       "    <tr>\n",
       "      <th>foolproof</th>\n",
       "      <td>0</td>\n",
       "      <td>0</td>\n",
       "      <td>0</td>\n",
       "      <td>1</td>\n",
       "      <td>0</td>\n",
       "    </tr>\n",
       "    <tr>\n",
       "      <th>for</th>\n",
       "      <td>0</td>\n",
       "      <td>0</td>\n",
       "      <td>0</td>\n",
       "      <td>1</td>\n",
       "      <td>0</td>\n",
       "    </tr>\n",
       "    <tr>\n",
       "      <th>fruits</th>\n",
       "      <td>0</td>\n",
       "      <td>0</td>\n",
       "      <td>2</td>\n",
       "      <td>0</td>\n",
       "      <td>0</td>\n",
       "    </tr>\n",
       "    <tr>\n",
       "      <th>fully</th>\n",
       "      <td>0</td>\n",
       "      <td>3</td>\n",
       "      <td>0</td>\n",
       "      <td>0</td>\n",
       "      <td>0</td>\n",
       "    </tr>\n",
       "    <tr>\n",
       "      <th>futuristic</th>\n",
       "      <td>0</td>\n",
       "      <td>3</td>\n",
       "      <td>0</td>\n",
       "      <td>0</td>\n",
       "      <td>0</td>\n",
       "    </tr>\n",
       "    <tr>\n",
       "      <th>gun</th>\n",
       "      <td>0</td>\n",
       "      <td>3</td>\n",
       "      <td>0</td>\n",
       "      <td>0</td>\n",
       "      <td>0</td>\n",
       "    </tr>\n",
       "    <tr>\n",
       "      <th>haven</th>\n",
       "      <td>0</td>\n",
       "      <td>0</td>\n",
       "      <td>0</td>\n",
       "      <td>0</td>\n",
       "      <td>1</td>\n",
       "    </tr>\n",
       "    <tr>\n",
       "      <th>health</th>\n",
       "      <td>0</td>\n",
       "      <td>0</td>\n",
       "      <td>1</td>\n",
       "      <td>0</td>\n",
       "      <td>0</td>\n",
       "    </tr>\n",
       "    <tr>\n",
       "      <th>holographic</th>\n",
       "      <td>2</td>\n",
       "      <td>0</td>\n",
       "      <td>0</td>\n",
       "      <td>0</td>\n",
       "      <td>0</td>\n",
       "    </tr>\n",
       "    <tr>\n",
       "      <th>ibm</th>\n",
       "      <td>2</td>\n",
       "      <td>0</td>\n",
       "      <td>0</td>\n",
       "      <td>0</td>\n",
       "      <td>0</td>\n",
       "    </tr>\n",
       "    <tr>\n",
       "      <th>in</th>\n",
       "      <td>0</td>\n",
       "      <td>3</td>\n",
       "      <td>0</td>\n",
       "      <td>0</td>\n",
       "      <td>0</td>\n",
       "    </tr>\n",
       "    <tr>\n",
       "      <th>jerseys</th>\n",
       "      <td>0</td>\n",
       "      <td>0</td>\n",
       "      <td>0</td>\n",
       "      <td>0</td>\n",
       "      <td>2</td>\n",
       "    </tr>\n",
       "    <tr>\n",
       "      <th>know</th>\n",
       "      <td>0</td>\n",
       "      <td>0</td>\n",
       "      <td>0</td>\n",
       "      <td>0</td>\n",
       "      <td>1</td>\n",
       "    </tr>\n",
       "    <tr>\n",
       "      <th>men</th>\n",
       "      <td>0</td>\n",
       "      <td>0</td>\n",
       "      <td>1</td>\n",
       "      <td>0</td>\n",
       "      <td>0</td>\n",
       "    </tr>\n",
       "    <tr>\n",
       "      <th>races</th>\n",
       "      <td>0</td>\n",
       "      <td>3</td>\n",
       "      <td>0</td>\n",
       "      <td>0</td>\n",
       "      <td>0</td>\n",
       "    </tr>\n",
       "    <tr>\n",
       "      <th>seen</th>\n",
       "      <td>0</td>\n",
       "      <td>0</td>\n",
       "      <td>0</td>\n",
       "      <td>0</td>\n",
       "      <td>1</td>\n",
       "    </tr>\n",
       "    <tr>\n",
       "      <th>sees</th>\n",
       "      <td>2</td>\n",
       "      <td>0</td>\n",
       "      <td>0</td>\n",
       "      <td>0</td>\n",
       "      <td>0</td>\n",
       "    </tr>\n",
       "    <tr>\n",
       "      <th>sleep</th>\n",
       "      <td>0</td>\n",
       "      <td>0</td>\n",
       "      <td>0</td>\n",
       "      <td>1</td>\n",
       "      <td>0</td>\n",
       "    </tr>\n",
       "    <tr>\n",
       "      <th>starting</th>\n",
       "      <td>0</td>\n",
       "      <td>3</td>\n",
       "      <td>0</td>\n",
       "      <td>0</td>\n",
       "      <td>0</td>\n",
       "    </tr>\n",
       "    <tr>\n",
       "      <th>that</th>\n",
       "      <td>0</td>\n",
       "      <td>3</td>\n",
       "      <td>2</td>\n",
       "      <td>0</td>\n",
       "      <td>0</td>\n",
       "    </tr>\n",
       "    <tr>\n",
       "      <th>the</th>\n",
       "      <td>0</td>\n",
       "      <td>3</td>\n",
       "      <td>2</td>\n",
       "      <td>0</td>\n",
       "      <td>1</td>\n",
       "    </tr>\n",
       "    <tr>\n",
       "      <th>tips</th>\n",
       "      <td>0</td>\n",
       "      <td>0</td>\n",
       "      <td>0</td>\n",
       "      <td>1</td>\n",
       "      <td>0</td>\n",
       "    </tr>\n",
       "    <tr>\n",
       "      <th>you</th>\n",
       "      <td>0</td>\n",
       "      <td>0</td>\n",
       "      <td>0</td>\n",
       "      <td>0</td>\n",
       "      <td>2</td>\n",
       "    </tr>\n",
       "  </tbody>\n",
       "</table>\n",
       "</div>"
      ],
      "text/plain": [
       "             0  1  2  3  4\n",
       "10           0  0  0  1  0\n",
       "50           0  0  0  0  1\n",
       "advantages   0  3  0  0  0\n",
       "air          2  0  0  0  0\n",
       "batteries    2  0  0  0  0\n",
       "better       0  0  0  1  0\n",
       "breathing    2  0  0  0  0\n",
       "calls        2  0  0  0  0\n",
       "cold         0  0  1  0  0\n",
       "coolest      0  0  0  0  2\n",
       "didn         0  0  0  0  1\n",
       "electronic   0  3  0  0  0\n",
       "eliminates   0  3  0  0  0\n",
       "existed      0  0  0  0  1\n",
       "fight        0  0  2  0  0\n",
       "flu          0  0  3  0  0\n",
       "foolproof    0  0  0  1  0\n",
       "for          0  0  0  1  0\n",
       "fruits       0  0  2  0  0\n",
       "fully        0  3  0  0  0\n",
       "futuristic   0  3  0  0  0\n",
       "gun          0  3  0  0  0\n",
       "haven        0  0  0  0  1\n",
       "health       0  0  1  0  0\n",
       "holographic  2  0  0  0  0\n",
       "ibm          2  0  0  0  0\n",
       "in           0  3  0  0  0\n",
       "jerseys      0  0  0  0  2\n",
       "know         0  0  0  0  1\n",
       "men          0  0  1  0  0\n",
       "races        0  3  0  0  0\n",
       "seen         0  0  0  0  1\n",
       "sees         2  0  0  0  0\n",
       "sleep        0  0  0  1  0\n",
       "starting     0  3  0  0  0\n",
       "that         0  3  2  0  0\n",
       "the          0  3  2  0  1\n",
       "tips         0  0  0  1  0\n",
       "you          0  0  0  0  2"
      ]
     },
     "execution_count": 11,
     "metadata": {},
     "output_type": "execute_result"
    }
   ],
   "source": [
    "pd.DataFrame(title_vec.todense(), columns=vectorizer.get_feature_names()).T"
   ]
  },
  {
   "cell_type": "markdown",
   "metadata": {
    "colab_type": "text",
    "id": "EsWCccgfhFlJ"
   },
   "source": [
    "### Pipeline simple sin Gridsearch"
   ]
  },
  {
   "cell_type": "markdown",
   "metadata": {
    "colab_type": "text",
    "id": "N_x3MbkLhFlK"
   },
   "source": [
    "Importamos y creamos el pipeline. Lo entrenamos con el set de entrenamiento y lo ejecutamos sobre el test."
   ]
  },
  {
   "cell_type": "code",
   "execution_count": 12,
   "metadata": {
    "colab": {},
    "colab_type": "code",
    "id": "0bxBmRplhFlL",
    "outputId": "27d8b118-96ee-4069-a27c-ecaf02e805c3"
   },
   "outputs": [
    {
     "data": {
      "text/plain": [
       "array([1, 1, 1, ..., 1, 1, 1])"
      ]
     },
     "execution_count": 12,
     "metadata": {},
     "output_type": "execute_result"
    }
   ],
   "source": [
    "from sklearn.pipeline import Pipeline\n",
    "from sklearn.feature_extraction.text import CountVectorizer\n",
    "from sklearn.naive_bayes import MultinomialNB\n",
    "\n",
    "vectorizer = CountVectorizer()\n",
    "model = MultinomialNB()\n",
    "\n",
    "pipeline = Pipeline([\n",
    "        ('vec', vectorizer),\n",
    "        ('model', model)   \n",
    "    ])\n",
    "\n",
    "# Vamos a ejecutar el pipeline sobre los títulos\n",
    "X_train_tit = X_train['title']\n",
    "X_test_tit = X_test['title']\n",
    "\n",
    "pipeline.fit(X_train_tit, y_train)\n",
    "pred = pipeline.predict(X_test_tit)\n",
    "pred"
   ]
  },
  {
   "cell_type": "markdown",
   "metadata": {
    "colab_type": "text",
    "id": "jwqt2vbOhFlT"
   },
   "source": [
    "* Comparemos la predicción con el label\n",
    "* Para eso, pasamos el array de predicciones a un boolean para comparar con los labels y ejecutamos el reporte de clasificación"
   ]
  },
  {
   "cell_type": "code",
   "execution_count": 13,
   "metadata": {
    "colab": {},
    "colab_type": "code",
    "id": "bOcfjYvrhFlV",
    "outputId": "b155804a-364f-4ae5-8c4f-d1098a674292"
   },
   "outputs": [
    {
     "name": "stdout",
     "output_type": "stream",
     "text": [
      "              precision    recall  f1-score   support\n",
      "\n",
      "           0       0.78      0.72      0.75      1198\n",
      "           1       0.75      0.81      0.78      1243\n",
      "\n",
      "    accuracy                           0.77      2441\n",
      "   macro avg       0.77      0.77      0.77      2441\n",
      "weighted avg       0.77      0.77      0.77      2441\n",
      "\n",
      "0.7668988119623106\n"
     ]
    }
   ],
   "source": [
    "#pred_bool=pred[:,0]<0.5\n",
    "from sklearn.metrics import classification_report\n",
    "from sklearn.metrics import accuracy_score\n",
    "print(classification_report(y_test, pred))\n",
    "print(accuracy_score(y_test, pred))"
   ]
  },
  {
   "cell_type": "markdown",
   "metadata": {
    "colab_type": "text",
    "id": "WwvqzCA6hFla"
   },
   "source": [
    "## 3. Combinando pipelines y GridSearchCV"
   ]
  },
  {
   "cell_type": "markdown",
   "metadata": {
    "colab_type": "text",
    "id": "iXiNNIxRhFlb"
   },
   "source": [
    "Veamos ahora como utilizar conjuntamente los pipelines junto con el tunning de hiperparámetros con `GridSearchCV`"
   ]
  },
  {
   "cell_type": "code",
   "execution_count": 14,
   "metadata": {
    "colab": {},
    "colab_type": "code",
    "id": "n9Jz8gcmhFle"
   },
   "outputs": [],
   "source": [
    "import numpy as np\n",
    "from sklearn.feature_extraction.text import TfidfTransformer\n",
    "from sklearn.model_selection import GridSearchCV\n",
    "from sklearn.metrics import classification_report"
   ]
  },
  {
   "cell_type": "markdown",
   "metadata": {
    "colab_type": "text",
    "id": "tGET5SvlhFlm"
   },
   "source": [
    "Generamos un pipeline que tiene tres etapas:\n",
    "\n",
    "1. Un vectorizador de texto: `CountVectorizer`\n",
    "2. Un transformador de la matriz original `TfidfTransformer`\n",
    "3. Un clasificador basado en Multinomial Naive Bayes\n",
    "\n",
    "Notar que en este caso no los instanciamos previamente."
   ]
  },
  {
   "cell_type": "code",
   "execution_count": 15,
   "metadata": {
    "colab": {},
    "colab_type": "code",
    "id": "1BJnbG_8hFlo"
   },
   "outputs": [],
   "source": [
    "pipeline = Pipeline([\n",
    "   ('vect', CountVectorizer()), \n",
    "   ('tfidf', TfidfTransformer()), \n",
    "   ('clf', MultinomialNB()), \n",
    "])"
   ]
  },
  {
   "cell_type": "markdown",
   "metadata": {
    "colab_type": "text",
    "id": "xClB4YeihFlt"
   },
   "source": [
    "#### Experimentación\n",
    "\n",
    "* Definimos los parámetros a buscar.\n",
    "  - Es importante notar la forma en que se pasan los parámetros: en general, se escriben `[nombre de la etapa]__[parametro]`.\n",
    "  En esta primera etapa queremos determinar si es beneficioso agregar al modelo nuevos n-gramas (combinaciones de dos palabras) como features y si tenemos que eliminar palabras que figuran menos de determinada cantidad de veces en el corpus\n",
    "* Entonces, los parámetros que usamos en el `GridSeachCV` son \n",
    "  - para `CountVectorizer` (llamado `vect` en el pipeline): `min_df` y `n_gram_range`\n"
   ]
  },
  {
   "cell_type": "code",
   "execution_count": 16,
   "metadata": {
    "colab": {},
    "colab_type": "code",
    "id": "SeG4opBlhFlv"
   },
   "outputs": [],
   "source": [
    "parameters = {\n",
    "    'vect__min_df': [1,2,3,4],\n",
    "    'vect__max_df': np.linspace(0.01,1,5),\n",
    "    'vect__ngram_range': ((1, 1), (1, 2)),\n",
    "}"
   ]
  },
  {
   "cell_type": "code",
   "execution_count": 17,
   "metadata": {
    "colab": {},
    "colab_type": "code",
    "id": "xYRvG5e5hFl1"
   },
   "outputs": [],
   "source": [
    "grid_search = GridSearchCV (pipeline, parameters, n_jobs = 2 , verbose = 2, cv=3)"
   ]
  },
  {
   "cell_type": "code",
   "execution_count": 18,
   "metadata": {
    "colab": {},
    "colab_type": "code",
    "id": "jNpJrlMbhFl4",
    "outputId": "3417db03-4e14-42ab-d2a4-b07430af9092"
   },
   "outputs": [
    {
     "name": "stdout",
     "output_type": "stream",
     "text": [
      "Performing grid search...\n",
      "Fitting 3 folds for each of 40 candidates, totalling 120 fits\n"
     ]
    },
    {
     "name": "stderr",
     "output_type": "stream",
     "text": [
      "[Parallel(n_jobs=2)]: Using backend LokyBackend with 2 concurrent workers.\n",
      "[Parallel(n_jobs=2)]: Done  37 tasks      | elapsed:    2.8s\n",
      "[Parallel(n_jobs=2)]: Done 120 out of 120 | elapsed:    8.2s finished\n"
     ]
    },
    {
     "data": {
      "text/plain": [
       "GridSearchCV(cv=3, error_score='raise-deprecating',\n",
       "             estimator=Pipeline(memory=None,\n",
       "                                steps=[('vect',\n",
       "                                        CountVectorizer(analyzer='word',\n",
       "                                                        binary=False,\n",
       "                                                        decode_error='strict',\n",
       "                                                        dtype=<class 'numpy.int64'>,\n",
       "                                                        encoding='utf-8',\n",
       "                                                        input='content',\n",
       "                                                        lowercase=True,\n",
       "                                                        max_df=1.0,\n",
       "                                                        max_features=None,\n",
       "                                                        min_df=1,\n",
       "                                                        ngram_range=(1, 1),\n",
       "                                                        preprocessor=None,\n",
       "                                                        stop_words=None,\n",
       "                                                        strip_accents=None,\n",
       "                                                        tok...\n",
       "                                                         smooth_idf=True,\n",
       "                                                         sublinear_tf=False,\n",
       "                                                         use_idf=True)),\n",
       "                                       ('clf',\n",
       "                                        MultinomialNB(alpha=1.0,\n",
       "                                                      class_prior=None,\n",
       "                                                      fit_prior=True))],\n",
       "                                verbose=False),\n",
       "             iid='warn', n_jobs=2,\n",
       "             param_grid={'vect__max_df': array([0.01  , 0.2575, 0.505 , 0.7525, 1.    ]),\n",
       "                         'vect__min_df': [1, 2, 3, 4],\n",
       "                         'vect__ngram_range': ((1, 1), (1, 2))},\n",
       "             pre_dispatch='2*n_jobs', refit=True, return_train_score=False,\n",
       "             scoring=None, verbose=2)"
      ]
     },
     "execution_count": 18,
     "metadata": {},
     "output_type": "execute_result"
    }
   ],
   "source": [
    "print(\"Performing grid search...\") \n",
    "grid_search.fit(X_train_tit, y_train)"
   ]
  },
  {
   "cell_type": "markdown",
   "metadata": {
    "colab_type": "text",
    "id": "LZ6GeklwhFl-"
   },
   "source": [
    "* E imprimimos los mejores parámetros"
   ]
  },
  {
   "cell_type": "code",
   "execution_count": 19,
   "metadata": {
    "colab": {},
    "colab_type": "code",
    "id": "80uqJjddhFl_",
    "outputId": "ddb96f2f-82d3-47ec-c253-72f63a41ba6e"
   },
   "outputs": [
    {
     "name": "stdout",
     "output_type": "stream",
     "text": [
      "Best score: 0.756\n",
      "Best parameters set:\n",
      "\t vect__max_df: 0.2575\n",
      "\t vect__min_df: 2\n",
      "\t vect__ngram_range: (1, 1)\n"
     ]
    }
   ],
   "source": [
    "print(\"Best score: %0.3f\" % grid_search.best_score_) \n",
    "print(\"Best parameters set:\" )\n",
    "best_parameters = grid_search.best_estimator_.get_params()\n",
    "for param_name in sorted (parameters . keys()): \n",
    "                    print(\"\\t %s: %r\" % (param_name, best_parameters[param_name])) "
   ]
  },
  {
   "cell_type": "markdown",
   "metadata": {
    "colab_type": "text",
    "id": "5-gsz-e7hFmE"
   },
   "source": [
    "#### Evaluando la performance de la búsqueda sobre datos no observados"
   ]
  },
  {
   "cell_type": "code",
   "execution_count": 20,
   "metadata": {
    "colab": {},
    "colab_type": "code",
    "id": "AQ8-uo7FhFmJ"
   },
   "outputs": [],
   "source": [
    "y_pred = grid_search.predict(X_test_tit)"
   ]
  },
  {
   "cell_type": "code",
   "execution_count": 21,
   "metadata": {
    "colab": {},
    "colab_type": "code",
    "id": "uKWrIlt7hFmL"
   },
   "outputs": [
    {
     "name": "stdout",
     "output_type": "stream",
     "text": [
      "              precision    recall  f1-score   support\n",
      "\n",
      "           0       0.77      0.74      0.75      1198\n",
      "           1       0.76      0.78      0.77      1243\n",
      "\n",
      "    accuracy                           0.76      2441\n",
      "   macro avg       0.76      0.76      0.76      2441\n",
      "weighted avg       0.76      0.76      0.76      2441\n",
      "\n",
      "0.7615731257681279\n"
     ]
    }
   ],
   "source": [
    "print(classification_report(y_test, y_pred))\n",
    "print(accuracy_score(y_test, y_pred))"
   ]
  },
  {
   "cell_type": "markdown",
   "metadata": {
    "colab_type": "text",
    "id": "7OjxMFV4hFmP"
   },
   "source": [
    "** BONUS:** ¿Qué tanto mejor es el tiempo de cómputo con `RandomizedSearchCV`?"
   ]
  },
  {
   "cell_type": "code",
   "execution_count": 22,
   "metadata": {
    "colab": {},
    "colab_type": "code",
    "id": "T1PXhy39hFmQ"
   },
   "outputs": [],
   "source": [
    "from sklearn.model_selection import RandomizedSearchCV\n",
    "rand_search = RandomizedSearchCV(pipeline, parameters, n_jobs = 3 , verbose = 2, n_iter=10, cv=3)"
   ]
  },
  {
   "cell_type": "code",
   "execution_count": 23,
   "metadata": {
    "colab": {},
    "colab_type": "code",
    "id": "5cESQiB3hFmV"
   },
   "outputs": [
    {
     "name": "stdout",
     "output_type": "stream",
     "text": [
      "Performing randomized search...\n",
      "Fitting 3 folds for each of 10 candidates, totalling 30 fits\n"
     ]
    },
    {
     "name": "stderr",
     "output_type": "stream",
     "text": [
      "[Parallel(n_jobs=3)]: Using backend LokyBackend with 3 concurrent workers.\n",
      "[Parallel(n_jobs=3)]: Done  30 out of  30 | elapsed:    1.5s finished\n"
     ]
    },
    {
     "data": {
      "text/plain": [
       "RandomizedSearchCV(cv=3, error_score='raise-deprecating',\n",
       "                   estimator=Pipeline(memory=None,\n",
       "                                      steps=[('vect',\n",
       "                                              CountVectorizer(analyzer='word',\n",
       "                                                              binary=False,\n",
       "                                                              decode_error='strict',\n",
       "                                                              dtype=<class 'numpy.int64'>,\n",
       "                                                              encoding='utf-8',\n",
       "                                                              input='content',\n",
       "                                                              lowercase=True,\n",
       "                                                              max_df=1.0,\n",
       "                                                              max_features=None,\n",
       "                                                              min_df=1,\n",
       "                                                              ngram_range=(1,\n",
       "                                                                           1),\n",
       "                                                              preprocessor=None,\n",
       "                                                              stop_words=None,\n",
       "                                                              strip_accents=No...\n",
       "                                                               use_idf=True)),\n",
       "                                             ('clf',\n",
       "                                              MultinomialNB(alpha=1.0,\n",
       "                                                            class_prior=None,\n",
       "                                                            fit_prior=True))],\n",
       "                                      verbose=False),\n",
       "                   iid='warn', n_iter=10, n_jobs=3,\n",
       "                   param_distributions={'vect__max_df': array([0.01  , 0.2575, 0.505 , 0.7525, 1.    ]),\n",
       "                                        'vect__min_df': [1, 2, 3, 4],\n",
       "                                        'vect__ngram_range': ((1, 1), (1, 2))},\n",
       "                   pre_dispatch='2*n_jobs', random_state=None, refit=True,\n",
       "                   return_train_score=False, scoring=None, verbose=2)"
      ]
     },
     "execution_count": 23,
     "metadata": {},
     "output_type": "execute_result"
    }
   ],
   "source": [
    "print(\"Performing randomized search...\") \n",
    "rand_search.fit(X_train_tit, y_train)"
   ]
  },
  {
   "cell_type": "markdown",
   "metadata": {
    "colab_type": "text",
    "id": "fh-7Zh3HhFmX"
   },
   "source": [
    "## 4. Pipelines y Gridsearch con funciones propias"
   ]
  },
  {
   "cell_type": "markdown",
   "metadata": {
    "colab_type": "text",
    "id": "Za09B0AbhFma"
   },
   "source": [
    "A veces las clases que existen en el módulo de preprocesamiento de sklearn pueden \"quedarnos chicas\". Es decir, puede ser que tengamos que definir alguna otra transformación para el preprocesamiento que no exista en el módulo.\n"
   ]
  },
  {
   "cell_type": "markdown",
   "metadata": {
    "colab_type": "text",
    "id": "KdNiN2RThFmb"
   },
   "source": [
    "### 4.1. Extender la BaseClass en Scikit-Learn. \n",
    "\n",
    "\n",
    "En este ejemplo creamos un transformador muy simple que devuelve el título + el cuerpo o sólo el cuerpo dependiendo del valor del parámetro __include_body__."
   ]
  },
  {
   "cell_type": "code",
   "execution_count": 24,
   "metadata": {
    "colab": {},
    "colab_type": "code",
    "id": "TfMYVh25hFmc"
   },
   "outputs": [],
   "source": [
    "from sklearn.base import BaseEstimator, TransformerMixin\n",
    "import numpy as np"
   ]
  },
  {
   "cell_type": "code",
   "execution_count": 25,
   "metadata": {
    "colab": {},
    "colab_type": "code",
    "id": "WTcA-FUnhFmk"
   },
   "outputs": [],
   "source": [
    "class BodyIncluder(BaseEstimator, TransformerMixin):\n",
    "    def __init__(self,include_body=False):\n",
    "        self.include_body = include_body\n",
    "    \n",
    "    def transform(self, X):\n",
    "        if (self.include_body):\n",
    "            \n",
    "            return X['title'].astype(str) + X['body'].astype(str)\n",
    "        else:\n",
    "            return X['title']\n",
    "    \n",
    "    def fit(self, *_):\n",
    "        return self"
   ]
  },
  {
   "cell_type": "code",
   "execution_count": 26,
   "metadata": {
    "colab": {},
    "colab_type": "code",
    "id": "nrROh9DnhFmq"
   },
   "outputs": [
    {
     "data": {
      "text/html": [
       "<div>\n",
       "<style scoped>\n",
       "    .dataframe tbody tr th:only-of-type {\n",
       "        vertical-align: middle;\n",
       "    }\n",
       "\n",
       "    .dataframe tbody tr th {\n",
       "        vertical-align: top;\n",
       "    }\n",
       "\n",
       "    .dataframe thead th {\n",
       "        text-align: right;\n",
       "    }\n",
       "</style>\n",
       "<table border=\"1\" class=\"dataframe\">\n",
       "  <thead>\n",
       "    <tr style=\"text-align: right;\">\n",
       "      <th></th>\n",
       "      <th>title</th>\n",
       "      <th>body</th>\n",
       "    </tr>\n",
       "  </thead>\n",
       "  <tbody>\n",
       "    <tr>\n",
       "      <th>2598</th>\n",
       "      <td>OpenDonor Bash s content Kwotes serving it</td>\n",
       "      <td>chat quote database - view tons of funny chat...</td>\n",
       "    </tr>\n",
       "    <tr>\n",
       "      <th>6554</th>\n",
       "      <td>ALEX AND CHLOE ONLINE SHOP</td>\n",
       "      <td>WICKEY NECKLACE MINI FOREVER AND NEVER COLLECT...</td>\n",
       "    </tr>\n",
       "    <tr>\n",
       "      <th>6952</th>\n",
       "      <td>You And Your Cholesterol Level by Mike Field H...</td>\n",
       "      <td>Hundreds of millions of Americans have high ch...</td>\n",
       "    </tr>\n",
       "    <tr>\n",
       "      <th>3542</th>\n",
       "      <td>Contagion TakePart News Culture Videos and Pho...</td>\n",
       "      <td></td>\n",
       "    </tr>\n",
       "    <tr>\n",
       "      <th>4614</th>\n",
       "      <td>UFC Ultimate Fictional Characters Fighting Ran...</td>\n",
       "      <td></td>\n",
       "    </tr>\n",
       "  </tbody>\n",
       "</table>\n",
       "</div>"
      ],
      "text/plain": [
       "                                                  title  \\\n",
       "2598        OpenDonor Bash s content Kwotes serving it    \n",
       "6554                        ALEX AND CHLOE ONLINE SHOP    \n",
       "6952  You And Your Cholesterol Level by Mike Field H...   \n",
       "3542  Contagion TakePart News Culture Videos and Pho...   \n",
       "4614  UFC Ultimate Fictional Characters Fighting Ran...   \n",
       "\n",
       "                                                   body  \n",
       "2598   chat quote database - view tons of funny chat...  \n",
       "6554  WICKEY NECKLACE MINI FOREVER AND NEVER COLLECT...  \n",
       "6952  Hundreds of millions of Americans have high ch...  \n",
       "3542                                                     \n",
       "4614                                                     "
      ]
     },
     "execution_count": 26,
     "metadata": {},
     "output_type": "execute_result"
    }
   ],
   "source": [
    "X_train.head()"
   ]
  },
  {
   "cell_type": "code",
   "execution_count": 27,
   "metadata": {
    "colab": {},
    "colab_type": "code",
    "id": "LwyvEM1vhFmt"
   },
   "outputs": [],
   "source": [
    "bi = BodyIncluder(include_body= False)"
   ]
  },
  {
   "cell_type": "code",
   "execution_count": 28,
   "metadata": {
    "colab": {},
    "colab_type": "code",
    "id": "HywNC3DwhFmy"
   },
   "outputs": [
    {
     "data": {
      "text/plain": [
       "array(['OpenDonor Bash s content Kwotes serving it ',\n",
       "       'ALEX AND CHLOE ONLINE SHOP ',\n",
       "       'You And Your Cholesterol Level by Mike Field Heart you and your cholesterol level by mike field - heart - insidershealth.com',\n",
       "       'Contagion TakePart News Culture Videos and Photos That Make the World Better ',\n",
       "       'UFC Ultimate Fictional Characters Fighting Random RR '],\n",
       "      dtype=object)"
      ]
     },
     "execution_count": 28,
     "metadata": {},
     "output_type": "execute_result"
    }
   ],
   "source": [
    "bi.transform(X_train).head().values"
   ]
  },
  {
   "cell_type": "code",
   "execution_count": 29,
   "metadata": {
    "colab": {},
    "colab_type": "code",
    "id": "KkzKVcFLhFm3"
   },
   "outputs": [],
   "source": [
    "bi = BodyIncluder(include_body=True)"
   ]
  },
  {
   "cell_type": "code",
   "execution_count": 30,
   "metadata": {
    "colab": {},
    "colab_type": "code",
    "id": "hhvKz0YRhFm6"
   },
   "outputs": [
    {
     "data": {
      "text/plain": [
       "array(['OpenDonor Bash s content Kwotes serving it  chat quote database - view tons of funny chat dialogs quotes, kwotes, chat dialogs, funny chats, humorous dialog, irc, chat history',\n",
       "       'ALEX AND CHLOE ONLINE SHOP WICKEY NECKLACE MINI FOREVER AND NEVER COLLECTIONPRICE 28 00 CHOOSE STYLE SIZE BLACKWHITECLASSIC CROSS UPSIDE DOWN NECKLACETHE TRINITY COLLECTIONPRICE 70 00 CHOOSE STYLE SIZE ANT BRASSANT SILVERGUNMETALCLASSIC CROSS NECKLACETHE TRINITY COLLECTIONPRICE 70 00 CHOOSE STYLE SIZE ANT BRASSANT SILVERGUNMETALCROSS UPSIDE DOWN NECKLACE MINI ACRYLIC THE TRINITY COLLECTIONPRICE 28 00 CHOOSE STYLE SIZE BLACK W ANT BRASSBLACK W GUNMETALWHITE W ANT BRASSWHITE W GUNMETALCROSS NECKLACE MINI ACRYLIC THE TRINITY COLLECTIONPRICE 28 00 CHOOSE STYLE SIZE BLACK W ANT BRASSBLACK W GUNMETALWHITE W ANT BRASSWHITE W GUNMETALCROWN OF THORNS NECKLACE WHITE HEMATITETHE TRINITY COLLECTIONPRICE 180 00 CHOOSE STYLE SIZE ANT BRASSANT SILVERGUNMETALCROWN OF THORNS RING ANT BRASS WITH BLACK ONYXTHE TRINITY COLLECTIONPRICE 120 00 CHOOSE STYLE SIZE 56789CROWN OF THORNS RING ANT BRASS WITH BLUE SODALITETHE TRINITY COLLECTIONPRICE 120 00 CHOOSE STYLE SIZE 56789CROWN OF THORNS RING ANT BRASS WITH EPIDOTE MARBLETHE TRINITY COLLECTIONPRICE 120 00 CHOOSE STYLE SIZE 4567891011CROWN OF THORNS RING ANT SILVER WITH PINK QUARTZTHE TRINITY COLLECTIONPRICE 120 00 CHOOSE STYLE SIZE 56789CROWN OF THORNS RING ANT SILVER WITH RED CORNELIANTHE TRINITY COLLECTIONPRICE 120 00 CHOOSE STYLE SIZE 56789CROWN OF THORNS RING ANT SILVER WITH SNOWFLAKE OBSIDIANTHE TRINITY COLLECTIONPRICE 120 00 CHOOSE STYLE SIZE 56789CROWN OF THORNS RING ANT SILVER WITH TURQUOISETHE TRINITY COLLECTIONPRICE 120 00 CHOOSE STYLE SIZE 56789CROWN OF THORNS RING GUNMETAL WITH PYRITETHE TRINITY COLLECTIONPRICE 120 00 CHOOSE STYLE SIZE 4567891011DREAMING THIN CROSS NECKLACETHE TRINITY COLLECTIONPRICE 44 00 CHOOSE STYLE SIZE BLACKWHITEDUELING CROSS NECKLACE MINI ACRYLIC THE TRINITY COLLECTIONPRICE 34 00 CHOOSE STYLE SIZE BLACK W ANT BRASSBLACK W GUNMETALWHITE W ANT BRASSWHITE W GUNMETALFALLEN THIN PYRAMID COLUMN NECKLACETHE TRINITY COLLECTIONPRICE 110 00 CHOOSE STYLE SIZE ANT BRASSANT SILVERGUNMETALKNEELING CROSS NECKLACE MINI ACRYLIC THE TRINITY COLLECTIONPRICE 28 00 CHOOSE STYLE SIZE BLACK W ANT BRASSBLACK W GUNMETALWHITE W ANT BRASSWHITE W GUNMETALTHIN CROSS PENDANT NECKLACETHE TRINITY COLLECTIONPRICE 44 00 CHOOSE STYLE SIZE BLACK W ANT BRASSBLACK W GUNMETALWHITE W ANT BRASSWHITE W GUNMETALLOVE SIGN NECKLACEENDLESS SUMMERPRICE 100 00 CHOOSE STYLE SIZE GUNMETALSTERLING SILVER ',\n",
       "       'You And Your Cholesterol Level by Mike Field Heart you and your cholesterol level by mike field - heart - insidershealth.comHundreds of millions of Americans have high cholesterol levels These people are at risk of suffering from risk of cardiovascular disease The good news is that having high cholesterol levels can be easily controlled People only need to follow some simple rules You don t even have to give up the simple pleasures of life in order to lower your cholesterol levels Some people think that the only way to lower cholesterol levels is to take medications This is not true While taking drugs can help it is not the best and certainly not the safest way to control ones cholesterol level Here in this article you will learn all about controlling your cholesterol level with safe and natural methods Avoid Heart DiseaseAs mentioned earlier high cholesterol level is one of the precursors to heart disease If you want to avoid getting a quadruple bypass later in your life you should start doing some measures now that will make your heart healthier The problem with having high cholesterol is that it often does not present any symptom You won t know that your cholesterol level is high already until you go to your doctor for a check up You could be as healthy as a horse and still have a high cholesterol level Age can be a factor but don t think that you are exempted from this condition if you are still young Natural Ways Do you know that you can lower your cholesterol level in as short as 30 days And you don t even have to take medications This is because there are natural ways of lowering your cholesterol level First of all you can change your diet This is probably the best method available There are foods that can help you with your goal One such food is oatmeal Eating oatmeal regularly is one of the best things that you can do for your heart and for your health This is because oatmeal is rich in fiber Other fiber rich foods include vegetables and fruits Make sure that you area eating at least five servings of fruits and vegetables on a daily basis As mentioned earlier you don t have to give up on the pleasures of life in order to lower your cholesterol level You can still eat your favorite burgers and pizzas but it would help your cause if you will minimize your consumption of these food items You could also go for healthier versions of your favorite food If you like eating meat for example then you can simply go for leaner cuts of meat ExerciseAnother great way to lower your cholesterol level is by being more active Exercise plays a big role in keeping your heart healthy You should do cardio workout routines for at least there times a week One fun and easy cardio workout that you can try is rebounding on a mini trampoline such as a needak rebounder You can start lowering your cholesterol level right now by making healthier choices Follow a healthy eating plan and don t forget to exercise an insidershealth.com article regarding heart - you and your cholesterol level by mike field. hundreds of millions of americans have high cholesterol levels. these people are at risk of suffering from risk of cardiovascular disease. heart, , alternative health, article, homeopathic, health, natural medicine, natural cures, community',\n",
       "       'Contagion TakePart News Culture Videos and Photos That Make the World Better  ',\n",
       "       'UFC Ultimate Fictional Characters Fighting Random RR  '],\n",
       "      dtype=object)"
      ]
     },
     "execution_count": 30,
     "metadata": {},
     "output_type": "execute_result"
    }
   ],
   "source": [
    "bi.transform(X_train).head().values"
   ]
  },
  {
   "cell_type": "markdown",
   "metadata": {
    "colab_type": "text",
    "id": "SvdEZeTQhFm7"
   },
   "source": [
    "* Supongamos que quisiéramos generar un transformador que extrajera el largo del cuerpo de los textos..."
   ]
  },
  {
   "cell_type": "markdown",
   "metadata": {
    "colab_type": "text",
    "id": "PtQ8mYWmhFm8"
   },
   "source": [
    "### 4.2. Experimentando en el pipeline con Body Includer\n",
    "\n",
    "Queremos probar aumentar la complejidad del modelo incluyendo el cuerpo de las páginas y no únicamente el título."
   ]
  },
  {
   "cell_type": "code",
   "execution_count": 31,
   "metadata": {
    "colab": {},
    "colab_type": "code",
    "id": "Fbdbb4TAhFm-"
   },
   "outputs": [],
   "source": [
    "pipeline = Pipeline([\n",
    "   ('bi', BodyIncluder()),  \n",
    "   ('vect', CountVectorizer()), \n",
    "   ('tfidf', TfidfTransformer()), \n",
    "   ('clf', MultinomialNB()), \n",
    "])"
   ]
  },
  {
   "cell_type": "code",
   "execution_count": 32,
   "metadata": {
    "colab": {},
    "colab_type": "code",
    "id": "PZML5CJehFnC"
   },
   "outputs": [],
   "source": [
    "parameters = {\n",
    "    'vect__min_df': [2,3,4],\n",
    "    #'vect__max_df': np.linspace(0.01,1,5),\n",
    "    'vect__ngram_range': ((1, 1), (1, 2)),\n",
    "    'vect__stop_words': ['english', None],\n",
    "    'bi__include_body': [True, False]\n",
    "}"
   ]
  },
  {
   "cell_type": "code",
   "execution_count": 33,
   "metadata": {
    "colab": {},
    "colab_type": "code",
    "id": "eN8trxU3hFnE"
   },
   "outputs": [],
   "source": [
    "grid_search = GridSearchCV (pipeline, parameters, n_jobs = 2 , verbose = 2 , cv=3)"
   ]
  },
  {
   "cell_type": "code",
   "execution_count": 34,
   "metadata": {
    "colab": {},
    "colab_type": "code",
    "id": "lb3rc7tahFnH"
   },
   "outputs": [
    {
     "name": "stdout",
     "output_type": "stream",
     "text": [
      "Performing grid search...\n",
      "Fitting 3 folds for each of 24 candidates, totalling 72 fits\n"
     ]
    },
    {
     "name": "stderr",
     "output_type": "stream",
     "text": [
      "[Parallel(n_jobs=2)]: Using backend LokyBackend with 2 concurrent workers.\n",
      "[Parallel(n_jobs=2)]: Done  37 tasks      | elapsed:  1.1min\n",
      "[Parallel(n_jobs=2)]: Done  72 out of  72 | elapsed:  1.2min finished\n"
     ]
    },
    {
     "data": {
      "text/plain": [
       "GridSearchCV(cv=3, error_score='raise-deprecating',\n",
       "             estimator=Pipeline(memory=None,\n",
       "                                steps=[('bi', BodyIncluder(include_body=False)),\n",
       "                                       ('vect',\n",
       "                                        CountVectorizer(analyzer='word',\n",
       "                                                        binary=False,\n",
       "                                                        decode_error='strict',\n",
       "                                                        dtype=<class 'numpy.int64'>,\n",
       "                                                        encoding='utf-8',\n",
       "                                                        input='content',\n",
       "                                                        lowercase=True,\n",
       "                                                        max_df=1.0,\n",
       "                                                        max_features=None,\n",
       "                                                        min_df=1,\n",
       "                                                        ngram_range=(1, 1),\n",
       "                                                        preprocessor=Non...\n",
       "                                                         sublinear_tf=False,\n",
       "                                                         use_idf=True)),\n",
       "                                       ('clf',\n",
       "                                        MultinomialNB(alpha=1.0,\n",
       "                                                      class_prior=None,\n",
       "                                                      fit_prior=True))],\n",
       "                                verbose=False),\n",
       "             iid='warn', n_jobs=2,\n",
       "             param_grid={'bi__include_body': [True, False],\n",
       "                         'vect__min_df': [2, 3, 4],\n",
       "                         'vect__ngram_range': ((1, 1), (1, 2)),\n",
       "                         'vect__stop_words': ['english', None]},\n",
       "             pre_dispatch='2*n_jobs', refit=True, return_train_score=False,\n",
       "             scoring=None, verbose=2)"
      ]
     },
     "execution_count": 34,
     "metadata": {},
     "output_type": "execute_result"
    }
   ],
   "source": [
    "print(\"Performing grid search...\") \n",
    "grid_search.fit(X_train, y_train)"
   ]
  },
  {
   "cell_type": "code",
   "execution_count": 35,
   "metadata": {
    "colab": {},
    "colab_type": "code",
    "id": "ktnuM2SfhFnL"
   },
   "outputs": [
    {
     "name": "stdout",
     "output_type": "stream",
     "text": [
      "Best score: 0.796\n",
      "Best parameters set:\n",
      "\t bi__include_body: True\n",
      "\t vect__min_df: 2\n",
      "\t vect__ngram_range: (1, 2)\n",
      "\t vect__stop_words: 'english'\n"
     ]
    }
   ],
   "source": [
    "print(\"Best score: %0.3f\" % grid_search . best_score_) \n",
    "print(\"Best parameters set:\" )\n",
    "best_parameters = grid_search.best_estimator_.get_params()\n",
    "for param_name in sorted (parameters . keys()): \n",
    "                    print(\"\\t %s: %r\" % (param_name, best_parameters[param_name])) "
   ]
  },
  {
   "cell_type": "markdown",
   "metadata": {
    "colab_type": "text",
    "id": "F86mJVVBhFnV"
   },
   "source": [
    "#### 4.3 Evaluamos el modelo sobre datos no observados"
   ]
  },
  {
   "cell_type": "code",
   "execution_count": 36,
   "metadata": {
    "colab": {},
    "colab_type": "code",
    "id": "MCadhMJMhFnX"
   },
   "outputs": [
    {
     "data": {
      "text/plain": [
       "Pipeline(memory=None,\n",
       "         steps=[('bi', BodyIncluder(include_body=True)),\n",
       "                ('vect',\n",
       "                 CountVectorizer(analyzer='word', binary=False,\n",
       "                                 decode_error='strict',\n",
       "                                 dtype=<class 'numpy.int64'>, encoding='utf-8',\n",
       "                                 input='content', lowercase=True, max_df=1.0,\n",
       "                                 max_features=None, min_df=2,\n",
       "                                 ngram_range=(1, 2), preprocessor=None,\n",
       "                                 stop_words='english', strip_accents=None,\n",
       "                                 token_pattern='(?u)\\\\b\\\\w\\\\w+\\\\b',\n",
       "                                 tokenizer=None, vocabulary=None)),\n",
       "                ('tfidf',\n",
       "                 TfidfTransformer(norm='l2', smooth_idf=True,\n",
       "                                  sublinear_tf=False, use_idf=True)),\n",
       "                ('clf',\n",
       "                 MultinomialNB(alpha=1.0, class_prior=None, fit_prior=True))],\n",
       "         verbose=False)"
      ]
     },
     "execution_count": 36,
     "metadata": {},
     "output_type": "execute_result"
    }
   ],
   "source": [
    "grid_search.best_estimator_.fit(X_train,y_train)"
   ]
  },
  {
   "cell_type": "code",
   "execution_count": 37,
   "metadata": {
    "colab": {},
    "colab_type": "code",
    "id": "J_cdoGG1hFnb"
   },
   "outputs": [],
   "source": [
    "y_pred = grid_search.predict(X_test)"
   ]
  },
  {
   "cell_type": "code",
   "execution_count": 38,
   "metadata": {
    "colab": {},
    "colab_type": "code",
    "id": "1hjoXToQhFnh"
   },
   "outputs": [
    {
     "name": "stdout",
     "output_type": "stream",
     "text": [
      "              precision    recall  f1-score   support\n",
      "\n",
      "           0       0.79      0.79      0.79      1198\n",
      "           1       0.80      0.80      0.80      1243\n",
      "\n",
      "    accuracy                           0.79      2441\n",
      "   macro avg       0.79      0.79      0.79      2441\n",
      "weighted avg       0.79      0.79      0.79      2441\n",
      "\n",
      "0.7935272429332241\n"
     ]
    }
   ],
   "source": [
    "print(classification_report(y_test, y_pred))\n",
    "print(accuracy_score(y_test, y_pred))"
   ]
  },
  {
   "cell_type": "markdown",
   "metadata": {
    "colab_type": "text",
    "id": "rfW6kEdAhFnk"
   },
   "source": [
    "### 5. Usando la función  FunctionTransformer del módulo de pre-procesamiento\n",
    "\n",
    "FunctionTransformer es otra manera de generar features con transformaciones definidas por el usuario.\n",
    "\n",
    "* Si queremos generar un paso que aplique transformaciones matemáticas puntuales a los features podemos utilizar FunctionTransformer()"
   ]
  },
  {
   "cell_type": "code",
   "execution_count": 39,
   "metadata": {
    "colab": {},
    "colab_type": "code",
    "id": "F7rAPLRvhFnk"
   },
   "outputs": [],
   "source": [
    "from sklearn.preprocessing import FunctionTransformer"
   ]
  },
  {
   "cell_type": "code",
   "execution_count": 40,
   "metadata": {
    "colab": {},
    "colab_type": "code",
    "id": "lh0aFqQrhFnu"
   },
   "outputs": [],
   "source": [
    "transformer = FunctionTransformer(np.log, validate=True)"
   ]
  },
  {
   "cell_type": "code",
   "execution_count": 41,
   "metadata": {
    "colab": {},
    "colab_type": "code",
    "id": "8E7V6A65hFn3"
   },
   "outputs": [],
   "source": [
    "X = np.array([[0.5,1],[2,3]])"
   ]
  },
  {
   "cell_type": "code",
   "execution_count": 42,
   "metadata": {
    "colab": {},
    "colab_type": "code",
    "id": "p9nkNlDKhFn7"
   },
   "outputs": [
    {
     "data": {
      "text/plain": [
       "array([[-0.69314718,  0.        ],\n",
       "       [ 0.69314718,  1.09861229]])"
      ]
     },
     "execution_count": 42,
     "metadata": {},
     "output_type": "execute_result"
    }
   ],
   "source": [
    "transformer.transform(X)"
   ]
  },
  {
   "cell_type": "code",
   "execution_count": null,
   "metadata": {
    "colab": {},
    "colab_type": "code",
    "id": "0c8aFyv0hFoL"
   },
   "outputs": [],
   "source": []
  }
 ],
 "metadata": {
  "colab": {
   "name": "3.PRACTICA_GUIADA_Pipelines.ipynb",
   "provenance": [],
   "version": "0.3.2"
  },
  "kernelspec": {
   "display_name": "Python [conda env:dhds] *",
   "language": "python",
   "name": "conda-env-dhds-py"
  },
  "language_info": {
   "codemirror_mode": {
    "name": "ipython",
    "version": 3
   },
   "file_extension": ".py",
   "mimetype": "text/x-python",
   "name": "python",
   "nbconvert_exporter": "python",
   "pygments_lexer": "ipython3",
   "version": "3.7.3"
  }
 },
 "nbformat": 4,
 "nbformat_minor": 1
}
