{
 "cells": [
  {
   "cell_type": "markdown",
   "metadata": {},
   "source": [
    "En este notebook vamos a ver cómo importar código en un notebook desde archivos externos (.py).\n"
   ]
  },
  {
   "cell_type": "markdown",
   "metadata": {},
   "source": [
    "Para importar como módulo:"
   ]
  },
  {
   "cell_type": "code",
   "execution_count": 1,
   "metadata": {},
   "outputs": [
    {
     "data": {
      "text/plain": [
       "'hola pepe'"
      ]
     },
     "execution_count": 1,
     "metadata": {},
     "output_type": "execute_result"
    }
   ],
   "source": [
    "from modulo_de_funciones import saludar\n",
    "saludar(\"pepe\")"
   ]
  },
  {
   "cell_type": "markdown",
   "metadata": {},
   "source": [
    "otra forma:\n",
    "\n",
    "para importar el archivo .py ejecuto:\n",
    "\n",
    "%load nombre_archivo.py\n",
    "\n",
    "ejemplo: %load modulo_de_funciones.py\n",
    "\n",
    "una vez que se carga en el notebook, la linea queda comentada"
   ]
  },
  {
   "cell_type": "code",
   "execution_count": 2,
   "metadata": {},
   "outputs": [],
   "source": [
    "# %load modulo_de_funciones.py\n",
    "def saludar(nombre):\n",
    "  result = \"hola \" + nombre\n",
    "  return result\n"
   ]
  },
  {
   "cell_type": "code",
   "execution_count": 3,
   "metadata": {},
   "outputs": [
    {
     "name": "stdout",
     "output_type": "stream",
     "text": [
      "hola paula\n",
      "hola juan\n"
     ]
    }
   ],
   "source": [
    "# %load modulo_de_llamadas.py\n",
    "\n",
    "print(saludar(\"paula\"))\n",
    "\n",
    "print(saludar(\"juan\"))\n"
   ]
  },
  {
   "cell_type": "code",
   "execution_count": 4,
   "metadata": {},
   "outputs": [
    {
     "name": "stdout",
     "output_type": "stream",
     "text": [
      "hola paula\n",
      "hola juan\n"
     ]
    }
   ],
   "source": [
    "# %load modulo_de_funciones_y_llamadas.py\n",
    "def saludar(nombre):\n",
    "  result = \"hola \" + nombre\n",
    "  return result\n",
    "\n",
    "print(saludar(\"paula\"))\n",
    "\n",
    "print(saludar(\"juan\"))\n"
   ]
  }
 ],
 "metadata": {
  "kernelspec": {
   "display_name": "Python 3",
   "language": "python",
   "name": "python3"
  },
  "language_info": {
   "codemirror_mode": {
    "name": "ipython",
    "version": 3
   },
   "file_extension": ".py",
   "mimetype": "text/x-python",
   "name": "python",
   "nbconvert_exporter": "python",
   "pygments_lexer": "ipython3",
   "version": "3.6.7"
  }
 },
 "nbformat": 4,
 "nbformat_minor": 2
}
