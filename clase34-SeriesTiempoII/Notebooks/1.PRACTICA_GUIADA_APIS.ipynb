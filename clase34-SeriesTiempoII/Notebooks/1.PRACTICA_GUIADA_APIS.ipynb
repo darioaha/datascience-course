{
 "cells": [
  {
   "cell_type": "markdown",
   "metadata": {
    "colab_type": "text",
    "id": "Yi8TjEqrCSuC"
   },
   "source": [
    "## Práctica Guiada: Accediendo a un par de APIs desde Python\n",
    "\n",
    "El objetivo de esta práctica es acceder a la API de search de *MercadoLibre.com* desde Python usando el modulo [`requests`](https://api.mercadolibre.com/sites/MLA/search?q=iphone+6+16gb&condition=new&limit=10), tal como vimos en la clase de webscraping. Seguiremos los siguientes puntos: \n",
    "\n",
    "1. Imprimir el status code de la respuesta\n",
    "2. Imprimir todos los headers de la respuesta\n",
    "3. Convertir el json de la respuesta a un diccionario utilizando json.loads(...)\n",
    "4. Imprimir el diccionario obtenido"
   ]
  },
  {
   "cell_type": "code",
   "execution_count": null,
   "metadata": {
    "colab": {
     "autoexec": {
      "startup": false,
      "wait_interval": 0
     }
    },
    "colab_type": "code",
    "id": "dYbWIrX4CSuD"
   },
   "outputs": [],
   "source": [
    "import requests\n",
    "import json\n",
    "import pandas as pd\n",
    "\n",
    "url = \"https://api.mercadolibre.com/sites/MLA/search?\"\n",
    "parametros = {'nickname':'Showsport'}\n",
    "response = requests.get(url, params=parametros)\n"
   ]
  },
  {
   "cell_type": "code",
   "execution_count": null,
   "metadata": {
    "colab": {
     "autoexec": {
      "startup": false,
      "wait_interval": 0
     },
     "output_extras": [
      {}
     ]
    },
    "colab_type": "code",
    "id": "brp_2rQxCSuG",
    "outputId": "63dbb281-9fd9-423a-ce65-b214125d8458"
   },
   "outputs": [],
   "source": [
    "# 1. Imprimir el status code de la respuesta\n",
    "\n",
    "print(\"Status Code:\", response.status_code)"
   ]
  },
  {
   "cell_type": "code",
   "execution_count": null,
   "metadata": {
    "colab": {
     "autoexec": {
      "startup": false,
      "wait_interval": 0
     },
     "output_extras": [
      {}
     ]
    },
    "colab_type": "code",
    "id": "8xwaG029CSuM",
    "outputId": "59113462-6678-44ab-ee6c-6f76a5dfb97e"
   },
   "outputs": [],
   "source": [
    "# 2. Imprimir todos los headers de la respuesta\n",
    "\n",
    "print(response.headers)"
   ]
  },
  {
   "cell_type": "code",
   "execution_count": null,
   "metadata": {
    "colab": {
     "autoexec": {
      "startup": false,
      "wait_interval": 0
     },
     "output_extras": [
      {}
     ]
    },
    "colab_type": "code",
    "id": "p0PuCIqzCSuQ",
    "outputId": "ada9a45b-2e8b-413e-9b5c-c88255dd9b6a"
   },
   "outputs": [],
   "source": [
    "# 3. Convertir el json de la respuesta a un diccionario utilizando json.loads(...)\n",
    "\n",
    "data = json.loads(response.text)\n",
    "\n",
    "\n",
    "# 4. Imprimir el diccionario obtenido\n",
    "\n",
    "print(json.dumps(data, indent=4))"
   ]
  },
  {
   "cell_type": "code",
   "execution_count": null,
   "metadata": {
    "colab": {
     "autoexec": {
      "startup": false,
      "wait_interval": 0
     },
     "output_extras": [
      {}
     ]
    },
    "colab_type": "code",
    "id": "b4tSX75OCSuT",
    "outputId": "5b8a8c77-8b5d-4ef2-d583-8a7abd4d5080"
   },
   "outputs": [],
   "source": [
    "# se observa una key primaria\n",
    "data['seller']"
   ]
  },
  {
   "cell_type": "code",
   "execution_count": null,
   "metadata": {
    "colab": {
     "autoexec": {
      "startup": false,
      "wait_interval": 0
     },
     "output_extras": [
      {}
     ]
    },
    "colab_type": "code",
    "id": "tSbTQ6nZCSuX",
    "outputId": "9186dec8-75fc-4927-93ce-c7403503b31e"
   },
   "outputs": [],
   "source": [
    "id_seller = data['seller']['id']\n",
    "type(id_seller), id_seller"
   ]
  },
  {
   "cell_type": "code",
   "execution_count": null,
   "metadata": {
    "colab": {
     "autoexec": {
      "startup": false,
      "wait_interval": 0
     },
     "output_extras": [
      {}
     ]
    },
    "colab_type": "code",
    "id": "yTjc227uCSuc",
    "outputId": "2434c14e-df61-4a0a-ebff-1be8a52fbd64"
   },
   "outputs": [],
   "source": [
    "url = 'https://api.mercadolibre.com/users/' + str(id_seller)\n",
    "\n",
    "response = requests.get(url)\n",
    "\n",
    "usr_data = json.loads(response.text)"
   ]
  },
  {
   "cell_type": "code",
   "execution_count": null,
   "metadata": {
    "colab": {
     "autoexec": {
      "startup": false,
      "wait_interval": 0
     }
    },
    "colab_type": "code",
    "id": "C_t_KoF-CSug"
   },
   "outputs": [],
   "source": [
    "usr_data"
   ]
  },
  {
   "cell_type": "code",
   "execution_count": null,
   "metadata": {},
   "outputs": [],
   "source": [
    "response = requests.get('https://api.mercadolibre.com/sites/MLA/categories')\n",
    "cat_data =  json.loads(response.text)\n",
    "cat_data"
   ]
  },
  {
   "cell_type": "code",
   "execution_count": null,
   "metadata": {},
   "outputs": [],
   "source": [
    "[x for x in cat_data if x['id'] == 'MLA1000']"
   ]
  },
  {
   "cell_type": "code",
   "execution_count": null,
   "metadata": {},
   "outputs": [],
   "source": [
    "url = \"https://api.mercadolibre.com/sites/MLA/search?\"\n",
    "\n",
    "params = {'q':'ardu', 'category' : 'MLA1000'}\n",
    "\n",
    "response = requests.get(url, params=params)"
   ]
  },
  {
   "cell_type": "code",
   "execution_count": null,
   "metadata": {},
   "outputs": [],
   "source": [
    "json.loads(response.text)"
   ]
  },
  {
   "cell_type": "markdown",
   "metadata": {},
   "source": [
    "### Accediendo a la api de localización de dirección de google"
   ]
  },
  {
   "cell_type": "code",
   "execution_count": null,
   "metadata": {},
   "outputs": [],
   "source": [
    "parametros = {'address':'MONROE+860+CABA+ARGENTINA'}\n",
    "response = requests.get('https://maps.googleapis.com/maps/api/geocode/json?', params=parametros)"
   ]
  },
  {
   "cell_type": "code",
   "execution_count": null,
   "metadata": {
    "scrolled": true
   },
   "outputs": [],
   "source": [
    "response.text"
   ]
  },
  {
   "cell_type": "code",
   "execution_count": null,
   "metadata": {
    "scrolled": true
   },
   "outputs": [],
   "source": [
    "print(response.text)"
   ]
  },
  {
   "cell_type": "code",
   "execution_count": null,
   "metadata": {},
   "outputs": [],
   "source": [
    "data = eval(response.text)"
   ]
  },
  {
   "cell_type": "code",
   "execution_count": null,
   "metadata": {},
   "outputs": [],
   "source": [
    "data['results'][0]['address_components']"
   ]
  },
  {
   "cell_type": "markdown",
   "metadata": {},
   "source": [
    "### API de space X"
   ]
  },
  {
   "cell_type": "code",
   "execution_count": null,
   "metadata": {},
   "outputs": [],
   "source": [
    "response = requests.get('https://api.spacexdata.com/v2/launches')"
   ]
  },
  {
   "cell_type": "code",
   "execution_count": null,
   "metadata": {},
   "outputs": [],
   "source": [
    "data_spaceX = json.loads(response.text)\n"
   ]
  },
  {
   "cell_type": "code",
   "execution_count": null,
   "metadata": {},
   "outputs": [],
   "source": [
    "for fligth in data_spaceX:\n",
    "    print(fligth.keys(), '\\n')"
   ]
  },
  {
   "cell_type": "code",
   "execution_count": null,
   "metadata": {
    "scrolled": true
   },
   "outputs": [],
   "source": [
    "for fligth in data_spaceX:\n",
    "    print(fligth['mission_name'], fligth['launch_year'])"
   ]
  },
  {
   "cell_type": "code",
   "execution_count": null,
   "metadata": {},
   "outputs": [],
   "source": [
    "import pandas as pd\n",
    "pd.DataFrame(data_spaceX)"
   ]
  },
  {
   "cell_type": "markdown",
   "metadata": {},
   "source": [
    "### Api de poblacion"
   ]
  },
  {
   "cell_type": "code",
   "execution_count": null,
   "metadata": {},
   "outputs": [],
   "source": [
    "response = requests.get('http://api.population.io/1.0/countries/')\n",
    "countries = json.loads(response.text)"
   ]
  },
  {
   "cell_type": "code",
   "execution_count": null,
   "metadata": {},
   "outputs": [],
   "source": [
    "countries['countries']"
   ]
  },
  {
   "cell_type": "code",
   "execution_count": null,
   "metadata": {},
   "outputs": [],
   "source": [
    "response = requests.get('http://api.population.io:80/1.0/wp-rank/1952-03-11/male/Australia/today/')\n",
    "data = json.loads(response.text)"
   ]
  },
  {
   "cell_type": "code",
   "execution_count": null,
   "metadata": {},
   "outputs": [],
   "source": [
    "data"
   ]
  },
  {
   "cell_type": "code",
   "execution_count": null,
   "metadata": {},
   "outputs": [],
   "source": [
    "data = []\n",
    "for country in countries['countries']:\n",
    "    url = 'http://api.population.io:80/1.0/wp-rank/1952-03-11/male/' + country + '/today/'\n",
    "    try:\n",
    "        response = requests.get(url)\n",
    "        data.append(json.loads(response.text))\n",
    "    except:\n",
    "        print(country)\n",
    "        continue"
   ]
  },
  {
   "cell_type": "code",
   "execution_count": null,
   "metadata": {},
   "outputs": [],
   "source": [
    "data"
   ]
  },
  {
   "cell_type": "code",
   "execution_count": null,
   "metadata": {},
   "outputs": [],
   "source": [
    "len( {'dob': '1952-03-11', 'country': 'Lebanon', 'rank': 2785386, 'sex': 'male'})"
   ]
  },
  {
   "cell_type": "code",
   "execution_count": null,
   "metadata": {},
   "outputs": [],
   "source": [
    "pd.DataFrame([x for x in data if len(x)==4])"
   ]
  },
  {
   "cell_type": "code",
   "execution_count": null,
   "metadata": {},
   "outputs": [],
   "source": []
  }
 ],
 "metadata": {
  "kernelspec": {
   "display_name": "Python 3",
   "language": "python",
   "name": "python3"
  },
  "language_info": {
   "codemirror_mode": {
    "name": "ipython",
    "version": 3
   },
   "file_extension": ".py",
   "mimetype": "text/x-python",
   "name": "python",
   "nbconvert_exporter": "python",
   "pygments_lexer": "ipython3",
   "version": "3.6.5"
  }
 },
 "nbformat": 4,
 "nbformat_minor": 2
}
