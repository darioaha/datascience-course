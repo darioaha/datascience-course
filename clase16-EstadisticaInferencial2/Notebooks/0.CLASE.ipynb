{
 "cells": [
  {
   "cell_type": "markdown",
   "metadata": {},
   "source": [
    "# Prueba de Hipótesis"
   ]
  },
  {
   "cell_type": "markdown",
   "metadata": {},
   "source": [
    "## Ejemplo de Test de Hipótesis para la Media Poblacional\n"
   ]
  },
  {
   "cell_type": "markdown",
   "metadata": {},
   "source": [
    "Un investigador de mercados y hábitos de comportamiento aﬁrma que el tiempo que los niños de tres a cinco años dedican a ver la televisión cada semana es en promedio **22 horas**. Frente a este estudio, una empresa de investigación de mercados cree que la media es mayor y para probar su hipótesis toma una **muestra de 64 observaciones** procedentes de la misma población, obteniendo como resultado una **media de 25** y **desvío estándar de 6 horas**. Veriﬁque si la aﬁrmación del investigador es realmente cierta utilizando un nivel de signiﬁcación del 5%.\n",
    "\n",
    "¿Qué sabemos? \n",
    "- Tenemos una hipótesis sobre la media poblacional\n",
    "- Tenemos una muestra\n",
    "- Queremos saber si la muestra nos puede proveer evidencia para rechazar nuestra hipótesis sobre la media poblacional."
   ]
  },
  {
   "cell_type": "markdown",
   "metadata": {},
   "source": [
    "H0: la media poblacional es 22 horas\n",
    "\n",
    "H1: la media poblacional es mayor a 22 horas"
   ]
  },
  {
   "cell_type": "markdown",
   "metadata": {},
   "source": [
    "Por TCLy suponiendo H0 verdadera, la media muestral tiene distribución normal con media 22 y sigma = 6 / sqrt(64)"
   ]
  },
  {
   "cell_type": "code",
   "execution_count": 11,
   "metadata": {},
   "outputs": [],
   "source": [
    "from math import sqrt\n",
    "import scipy.stats as st"
   ]
  },
  {
   "cell_type": "code",
   "execution_count": 9,
   "metadata": {},
   "outputs": [
    {
     "data": {
      "text/plain": [
       "4.0"
      ]
     },
     "execution_count": 9,
     "metadata": {},
     "output_type": "execute_result"
    }
   ],
   "source": [
    "media_muestral = 25\n",
    "media_H0 = 22\n",
    "S = 6\n",
    "n = 64\n",
    "Z = (media_muestral - media_H0 ) / (S/sqrt(n))\n",
    "Z"
   ]
  },
  {
   "cell_type": "markdown",
   "metadata": {},
   "source": [
    "Prob(Z >= 4) dado que Z es Normal(0,1) :"
   ]
  },
  {
   "cell_type": "code",
   "execution_count": 14,
   "metadata": {},
   "outputs": [
    {
     "data": {
      "text/plain": [
       "3.167124183311998e-05"
      ]
     },
     "execution_count": 14,
     "metadata": {},
     "output_type": "execute_result"
    }
   ],
   "source": [
    "1 - st.norm.cdf(Z)"
   ]
  },
  {
   "cell_type": "markdown",
   "metadata": {},
   "source": [
    "La probabilidad de encontrar una valor de Z = 4 o mayor asumiendo que la H0 es verdadera, es 3e-5 (MUY baja).\n",
    "\n",
    "Entonces rechazo H0."
   ]
  },
  {
   "cell_type": "markdown",
   "metadata": {},
   "source": [
    "## Tests para la media de una pobación normal con varianza conocida"
   ]
  },
  {
   "cell_type": "markdown",
   "metadata": {},
   "source": [
    "Fijamos nivel de signiﬁcación **(alpha) en 5%**. \n",
    "\n",
    "Se obtiene una muestra de **n=25** donde la **media muestral es 80.94**. Por otra parte, se sabe que el **desvío poblacional es  11.6**\n",
    "\n",
    "H0: mu = 85 \n",
    "\n",
    "H1: mu < 85 \n",
    "\n",
    "El valor del estadístico resulta:"
   ]
  },
  {
   "cell_type": "code",
   "execution_count": 29,
   "metadata": {},
   "outputs": [
    {
     "data": {
      "text/plain": [
       "-1.750000000000001"
      ]
     },
     "execution_count": 29,
     "metadata": {},
     "output_type": "execute_result"
    }
   ],
   "source": [
    "alpha = 0.05\n",
    "n = 25\n",
    "media_muestral = 80.94\n",
    "media_H0 = 85\n",
    "Sigma = 11.6\n",
    "\n",
    "Z = (media_muestral - media_H0) / (Sigma / sqrt(n))\n",
    "Z\n"
   ]
  },
  {
   "cell_type": "markdown",
   "metadata": {},
   "source": [
    "Busco un valor de z0 tal que prob(Z < z0) = alpha:"
   ]
  },
  {
   "cell_type": "code",
   "execution_count": 20,
   "metadata": {},
   "outputs": [
    {
     "data": {
      "text/plain": [
       "-1.6448536269514729"
      ]
     },
     "execution_count": 20,
     "metadata": {},
     "output_type": "execute_result"
    }
   ],
   "source": [
    "z0 = st.norm.ppf(alpha)\n",
    "z0"
   ]
  },
  {
   "cell_type": "markdown",
   "metadata": {},
   "source": [
    "Como Z < z0, entonces rechazo H0"
   ]
  },
  {
   "cell_type": "markdown",
   "metadata": {},
   "source": [
    "Otra forma de tomar la decisión es mediante el cálculo del p-value:"
   ]
  },
  {
   "cell_type": "markdown",
   "metadata": {},
   "source": [
    "En este enfoque rechazamos H0 si el p-value es menor que el nivel alpha = 0.05. \n",
    "\n",
    "En este caso, el p-value es Probabilidad(Z <= -1.75):"
   ]
  },
  {
   "cell_type": "code",
   "execution_count": 25,
   "metadata": {},
   "outputs": [
    {
     "data": {
      "text/plain": [
       "0.04005915686381699"
      ]
     },
     "execution_count": 25,
     "metadata": {},
     "output_type": "execute_result"
    }
   ],
   "source": [
    "p = st.norm.cdf(Z)\n",
    "p"
   ]
  },
  {
   "cell_type": "code",
   "execution_count": 26,
   "metadata": {},
   "outputs": [
    {
     "data": {
      "text/plain": [
       "True"
      ]
     },
     "execution_count": 26,
     "metadata": {},
     "output_type": "execute_result"
    }
   ],
   "source": [
    "p < alpha"
   ]
  },
  {
   "cell_type": "markdown",
   "metadata": {},
   "source": [
    "Como p < alpha, rechazo H0"
   ]
  },
  {
   "cell_type": "markdown",
   "metadata": {},
   "source": [
    "## Tests para la media de una población con varianza desconocida\n"
   ]
  },
  {
   "cell_type": "markdown",
   "metadata": {},
   "source": [
    "Si no conocemos la varianza poblacional y no podemos asegurar las condiciones de normalidad de la distribución de la media muestral, entonces utilizamos el estadístico de prueba **T-Student con n-1 grados de libertad**"
   ]
  },
  {
   "cell_type": "markdown",
   "metadata": {},
   "source": [
    "estadistico_T =  (media_muestral - media_poblacional) / (S / sqrt(n))"
   ]
  },
  {
   "cell_type": "markdown",
   "metadata": {},
   "source": [
    "- Muestra de n = 100 \n",
    "\n",
    "- Media muestral de 130.1 con una desviación estándar de 21.21.\n",
    "\n",
    "- Ho: media = 120        \n",
    "    \n",
    "- H1: **media != 120**\n",
    "\n",
    "- alpha = 0.05 \n",
    "    \n",
    "- El valor del estadístico resulta:"
   ]
  },
  {
   "cell_type": "code",
   "execution_count": 41,
   "metadata": {},
   "outputs": [
    {
     "data": {
      "text/plain": [
       "4.761904761904759"
      ]
     },
     "execution_count": 41,
     "metadata": {},
     "output_type": "execute_result"
    }
   ],
   "source": [
    "media_muestral = 130.1\n",
    "S = 21.21\n",
    "media_poblacional = 120\n",
    "n = 100\n",
    "T = (media_muestral - media_poblacional) / (S / sqrt(n))\n",
    "T"
   ]
  },
  {
   "cell_type": "markdown",
   "metadata": {},
   "source": [
    "Busco los valores críticos para este alpha:"
   ]
  },
  {
   "cell_type": "code",
   "execution_count": 40,
   "metadata": {},
   "outputs": [
    {
     "data": {
      "text/plain": [
       "(-1.9842169515086832, 1.9842169515086832)"
      ]
     },
     "execution_count": 40,
     "metadata": {},
     "output_type": "execute_result"
    }
   ],
   "source": [
    "alpha = 0.05\n",
    "gl = n -1\n",
    "tmin = st.t.ppf((alpha / 2), gl)\n",
    "tmax = -tmin\n",
    "tmin, tmax"
   ]
  },
  {
   "cell_type": "code",
   "execution_count": 42,
   "metadata": {},
   "outputs": [
    {
     "data": {
      "text/plain": [
       "True"
      ]
     },
     "execution_count": 42,
     "metadata": {},
     "output_type": "execute_result"
    }
   ],
   "source": [
    "(T > tmax) or (T < tmin)"
   ]
  },
  {
   "cell_type": "markdown",
   "metadata": {},
   "source": [
    "T > tmax entonces rechazo H0"
   ]
  },
  {
   "cell_type": "markdown",
   "metadata": {},
   "source": [
    "Hago lo mismo usando el p-value: calculo la probabilidad de encontrar un valor de T >= 4.76 dado que H0 es verdadera (multiplico por 2 porque tambien serviría el caso de los negativos)"
   ]
  },
  {
   "cell_type": "code",
   "execution_count": 47,
   "metadata": {},
   "outputs": [
    {
     "data": {
      "text/plain": [
       "6.562701817092176e-06"
      ]
     },
     "execution_count": 47,
     "metadata": {},
     "output_type": "execute_result"
    }
   ],
   "source": [
    "p = (1 - st.t.cdf(T, gl)) * 2\n",
    "p"
   ]
  },
  {
   "cell_type": "code",
   "execution_count": 48,
   "metadata": {},
   "outputs": [
    {
     "data": {
      "text/plain": [
       "True"
      ]
     },
     "execution_count": 48,
     "metadata": {},
     "output_type": "execute_result"
    }
   ],
   "source": [
    "p < alpha"
   ]
  },
  {
   "cell_type": "markdown",
   "metadata": {},
   "source": [
    "p < alpha entonces rechazo H0"
   ]
  },
  {
   "cell_type": "markdown",
   "metadata": {},
   "source": [
    "## Tests para la proporción\n"
   ]
  },
  {
   "cell_type": "markdown",
   "metadata": {},
   "source": [
    "Se tira un dado con 4 caras (tetraedro) **1000 veces** y se registra que salen **290 veces el número 4**.\n",
    "\n",
    "¿Hay evidencia para concluir que el dado está sesgado, es decir, que se observan más veces el número 4 que lo esperado?"
   ]
  },
  {
   "cell_type": "markdown",
   "metadata": {},
   "source": [
    "Si el dado está equilibrado, cada cara tiene probabilidad 0.25 de aparecer. \n",
    "\n",
    "Supongamos inicialmente que este es el caso:\n",
    "H0: p = 0.25\n",
    "\n",
    "En base  a la muestra la proporción observada resulta:"
   ]
  },
  {
   "cell_type": "code",
   "execution_count": 50,
   "metadata": {},
   "outputs": [
    {
     "data": {
      "text/plain": [
       "0.29"
      ]
     },
     "execution_count": 50,
     "metadata": {},
     "output_type": "execute_result"
    }
   ],
   "source": [
    "y = 290\n",
    "n = 1000\n",
    "prop = y / n\n",
    "prop"
   ]
  },
  {
   "cell_type": "markdown",
   "metadata": {},
   "source": [
    "Si X es una variable aleatoria con distribución bernoulli, la esperanza es p y la varianza es p * (1-p)\n",
    "\n",
    "p prob de éxio"
   ]
  },
  {
   "cell_type": "markdown",
   "metadata": {},
   "source": [
    "Según el Teorema Central del Límite, la proporción muestral tiene distribución asintóticamente normal con media (bajo H0)\n",
    "\n",
    "p0 = 0.25\n",
    "\n",
    "y desvío estándar (bajo H0)\n",
    "\n",
    "sqrt(p0 * (1 - p0) / n)"
   ]
  },
  {
   "cell_type": "code",
   "execution_count": 52,
   "metadata": {},
   "outputs": [
    {
     "data": {
      "text/plain": [
       "0.013693063937629153"
      ]
     },
     "execution_count": 52,
     "metadata": {},
     "output_type": "execute_result"
    }
   ],
   "source": [
    "p0 = 0.25\n",
    "n = 1000\n",
    "\n",
    "S = sqrt(p0 * (1 - p0) / n)\n",
    "S"
   ]
  },
  {
   "cell_type": "markdown",
   "metadata": {},
   "source": [
    "Si H0 es verdadera, este estadístico tiene distribución normal estándar (con media 0 y desvío 1): \n",
    "\n",
    "Z = (p_estimada - p0) / (S / sqrt(n))"
   ]
  },
  {
   "cell_type": "markdown",
   "metadata": {},
   "source": [
    "Buscamos testear H0 que la probabilidad, en la población, de obtener un 4 es igual igual a 0.25 versus \n",
    "\n",
    "H1, que esta probabilidad es mayor que 0.25. \n",
    "\n",
    "Si ﬁjamos el nivel de signiﬁcación en 0.05, entonces rechazamos si Z > 1.645"
   ]
  },
  {
   "cell_type": "code",
   "execution_count": 76,
   "metadata": {},
   "outputs": [
    {
     "data": {
      "text/plain": [
       "2.9211869733608844"
      ]
     },
     "execution_count": 76,
     "metadata": {},
     "output_type": "execute_result"
    }
   ],
   "source": [
    "p_estimada = prop\n",
    "Z = (p_estimada - p0) / S\n",
    "Z"
   ]
  },
  {
   "cell_type": "code",
   "execution_count": 77,
   "metadata": {},
   "outputs": [
    {
     "data": {
      "text/plain": [
       "1.6448536269514729"
      ]
     },
     "execution_count": 77,
     "metadata": {},
     "output_type": "execute_result"
    }
   ],
   "source": [
    "alpha = 0.05\n",
    "z_rechazo = - st.norm.ppf(alpha)\n",
    "z_rechazo"
   ]
  },
  {
   "cell_type": "code",
   "execution_count": 79,
   "metadata": {},
   "outputs": [
    {
     "data": {
      "text/plain": [
       "0.2725230858818877"
      ]
     },
     "execution_count": 79,
     "metadata": {},
     "output_type": "execute_result"
    }
   ],
   "source": [
    "p_rechazo = (z_rechazo * S) + p0\n",
    "p_rechazo"
   ]
  },
  {
   "cell_type": "markdown",
   "metadata": {},
   "source": [
    "Como p es 0.29, que es mayor que p_rechazo, entonces rechazo H0"
   ]
  },
  {
   "cell_type": "markdown",
   "metadata": {},
   "source": [
    "## Tirada de Monedas\n"
   ]
  },
  {
   "cell_type": "markdown",
   "metadata": {},
   "source": [
    "Tiramos la moneda 10 veces y obtenemos 7 caras"
   ]
  },
  {
   "cell_type": "markdown",
   "metadata": {},
   "source": [
    "alpha = 0.1\n",
    "\n",
    "H0: p = 0.5 \n",
    "    \n",
    "H1: p != 0.5\n",
    "    "
   ]
  },
  {
   "cell_type": "markdown",
   "metadata": {},
   "source": [
    "los puntos criticos son 1, que tiene una prob acumulada de 0.01 (menor que alpha /2)\n",
    "y 8 que tiene acumulada (por los mayores) 0.011 (menor que alpha /2)"
   ]
  },
  {
   "cell_type": "markdown",
   "metadata": {},
   "source": [
    "entonces 7 no está por debajo de 1 ni por encima de 8, por lo tanto no rechaza H0"
   ]
  },
  {
   "cell_type": "markdown",
   "metadata": {},
   "source": [
    "Otra forma:\n",
    "\n",
    "p-valor es la probabilidad de obtener un valor tan extremo v cuando H0 es veradera.\n",
    "\n",
    "prob(cantidadCaras >= 7) dado que las monedas no estan cargadas = 1 - 0.945 "
   ]
  },
  {
   "cell_type": "code",
   "execution_count": 83,
   "metadata": {},
   "outputs": [
    {
     "data": {
      "text/plain": [
       "False"
      ]
     },
     "execution_count": 83,
     "metadata": {},
     "output_type": "execute_result"
    }
   ],
   "source": [
    "(1 - 0.945) < (alpha/2)"
   ]
  },
  {
   "cell_type": "markdown",
   "metadata": {},
   "source": [
    "(1 - 0.945) no es menor que alpha/2, no rechazo H0"
   ]
  },
  {
   "cell_type": "markdown",
   "metadata": {},
   "source": [
    "prob(cantidadCaras >= 7) dado que las monedas no estan cargadas = 1 - 0.945 "
   ]
  },
  {
   "cell_type": "markdown",
   "metadata": {},
   "source": [
    "## A / B  Testing"
   ]
  },
  {
   "cell_type": "code",
   "execution_count": 90,
   "metadata": {},
   "outputs": [],
   "source": [
    "def estimated_parameter(N, n):\n",
    "    p = n / N\n",
    "    sigma = sqrt(p * (1-p) / N)\n",
    "    return p, sigma\n",
    "\n",
    "def a_b_test_statistic(N_A, n_A, N_B, n_B):\n",
    "    p_A, sigma_A = estimated_parameter(N_A, n_A)\n",
    "    p_B, sigma_B = estimated_parameter(N_B, n_B)\n",
    "    return (p_B - p_A) / sqrt(sigma_A ** 2 + sigma_B ** 2)"
   ]
  },
  {
   "cell_type": "code",
   "execution_count": 97,
   "metadata": {},
   "outputs": [],
   "source": [
    "# calcula la prob de ver un valor tan extremo como z si la H0 es verdadera\n",
    "def two_sided_p_value(z):\n",
    "    if z <= 0:\n",
    "        result = 2 * st.norm.cdf(z)\n",
    "    else:\n",
    "        result = 2 * (1 - st.norm.cdf(z))\n",
    "    return(result)\n",
    "    "
   ]
  },
  {
   "cell_type": "code",
   "execution_count": 98,
   "metadata": {},
   "outputs": [
    {
     "data": {
      "text/plain": [
       "0.254141976542236"
      ]
     },
     "execution_count": 98,
     "metadata": {},
     "output_type": "execute_result"
    }
   ],
   "source": [
    "z = a_b_test_statistic(1000, 200, 1000, 180)\n",
    "print(z)\n",
    "two_sided_p_value(z)"
   ]
  },
  {
   "cell_type": "markdown",
   "metadata": {},
   "source": [
    "0.25 es un valor alto, no rechazo H0"
   ]
  },
  {
   "cell_type": "code",
   "execution_count": 99,
   "metadata": {},
   "outputs": [
    {
     "name": "stdout",
     "output_type": "stream",
     "text": [
      "-2.948839123097944\n"
     ]
    },
    {
     "data": {
      "text/plain": [
       "0.0031896997062168583"
      ]
     },
     "execution_count": 99,
     "metadata": {},
     "output_type": "execute_result"
    }
   ],
   "source": [
    "z = a_b_test_statistic(1000, 200, 1000, 150)\n",
    "print(z)\n",
    "two_sided_p_value(z)"
   ]
  },
  {
   "cell_type": "markdown",
   "metadata": {},
   "source": [
    "0.003 es un valor bajo, rechazo H0"
   ]
  }
 ],
 "metadata": {
  "kernelspec": {
   "display_name": "Python 3",
   "language": "python",
   "name": "python3"
  },
  "language_info": {
   "codemirror_mode": {
    "name": "ipython",
    "version": 3
   },
   "file_extension": ".py",
   "mimetype": "text/x-python",
   "name": "python",
   "nbconvert_exporter": "python",
   "pygments_lexer": "ipython3",
   "version": "3.7.3"
  }
 },
 "nbformat": 4,
 "nbformat_minor": 2
}
