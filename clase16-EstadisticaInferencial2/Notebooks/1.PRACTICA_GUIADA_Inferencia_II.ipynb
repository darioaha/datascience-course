{
 "cells": [
  {
   "cell_type": "markdown",
   "metadata": {
    "colab_type": "text",
    "id": "2bZV50abcJiC"
   },
   "source": [
    "# Práctica Guiada: Inferencia II"
   ]
  },
  {
   "cell_type": "markdown",
   "metadata": {
    "colab_type": "text",
    "id": "cqni-Azact8t"
   },
   "source": [
    "## 1. Haciendo una prueba de hipótesis en `scipy`. Test sobre la media de los Klout Scores."
   ]
  },
  {
   "cell_type": "markdown",
   "metadata": {
    "colab_type": "text",
    "id": "acH_ab6xdJw6"
   },
   "source": [
    "Volvamos a los  [Klout Scores](https://klout.com/corp/score) que se adjunta en el archivo `klouts_scores.csv`.\n",
    "\n",
    "Imagine que tomamos como población las 1048 observaciones de Klout scores con las que contamos. "
   ]
  },
  {
   "cell_type": "code",
   "execution_count": 1,
   "metadata": {
    "colab": {},
    "colab_type": "code",
    "id": "A-pAOp8fda4q"
   },
   "outputs": [],
   "source": [
    "import pandas as pd\n",
    "import numpy as np\n",
    "import scipy.stats as st\n",
    "import matplotlib.pyplot as plt\n",
    "%matplotlib inline\n",
    "import os"
   ]
  },
  {
   "cell_type": "code",
   "execution_count": 3,
   "metadata": {
    "colab": {
     "base_uri": "https://localhost:8080/",
     "height": 882
    },
    "colab_type": "code",
    "executionInfo": {
     "elapsed": 976,
     "status": "error",
     "timestamp": 1534188168224,
     "user": {
      "displayName": "Demian Avendaño",
      "photoUrl": "https://lh3.googleusercontent.com/a/default-user=s128",
      "userId": "100645021322944877501"
     },
     "user_tz": 180
    },
    "id": "kaZQ4wwRdRDX",
    "outputId": "04a9c68e-5233-4c90-85e4-66b275917b93"
   },
   "outputs": [],
   "source": [
    "df = pd.read_csv('../Data/klout_scores.csv', header=None, decimal=\",\")\n",
    "df.columns = ['k_score']"
   ]
  },
  {
   "cell_type": "code",
   "execution_count": 4,
   "metadata": {},
   "outputs": [
    {
     "data": {
      "text/html": [
       "<div>\n",
       "<style scoped>\n",
       "    .dataframe tbody tr th:only-of-type {\n",
       "        vertical-align: middle;\n",
       "    }\n",
       "\n",
       "    .dataframe tbody tr th {\n",
       "        vertical-align: top;\n",
       "    }\n",
       "\n",
       "    .dataframe thead th {\n",
       "        text-align: right;\n",
       "    }\n",
       "</style>\n",
       "<table border=\"1\" class=\"dataframe\">\n",
       "  <thead>\n",
       "    <tr style=\"text-align: right;\">\n",
       "      <th></th>\n",
       "      <th>k_score</th>\n",
       "    </tr>\n",
       "  </thead>\n",
       "  <tbody>\n",
       "    <tr>\n",
       "      <th>0</th>\n",
       "      <td>25.104179</td>\n",
       "    </tr>\n",
       "    <tr>\n",
       "      <th>1</th>\n",
       "      <td>60.908747</td>\n",
       "    </tr>\n",
       "    <tr>\n",
       "      <th>2</th>\n",
       "      <td>23.222238</td>\n",
       "    </tr>\n",
       "    <tr>\n",
       "      <th>3</th>\n",
       "      <td>51.553491</td>\n",
       "    </tr>\n",
       "    <tr>\n",
       "      <th>4</th>\n",
       "      <td>22.629690</td>\n",
       "    </tr>\n",
       "  </tbody>\n",
       "</table>\n",
       "</div>"
      ],
      "text/plain": [
       "     k_score\n",
       "0  25.104179\n",
       "1  60.908747\n",
       "2  23.222238\n",
       "3  51.553491\n",
       "4  22.629690"
      ]
     },
     "execution_count": 4,
     "metadata": {},
     "output_type": "execute_result"
    }
   ],
   "source": [
    "df.head()"
   ]
  },
  {
   "cell_type": "code",
   "execution_count": 5,
   "metadata": {},
   "outputs": [
    {
     "data": {
      "text/plain": [
       "(1048, 1)"
      ]
     },
     "execution_count": 5,
     "metadata": {},
     "output_type": "execute_result"
    }
   ],
   "source": [
    "df.shape"
   ]
  },
  {
   "cell_type": "code",
   "execution_count": 6,
   "metadata": {},
   "outputs": [
    {
     "data": {
      "text/html": [
       "<div>\n",
       "<style scoped>\n",
       "    .dataframe tbody tr th:only-of-type {\n",
       "        vertical-align: middle;\n",
       "    }\n",
       "\n",
       "    .dataframe tbody tr th {\n",
       "        vertical-align: top;\n",
       "    }\n",
       "\n",
       "    .dataframe thead th {\n",
       "        text-align: right;\n",
       "    }\n",
       "</style>\n",
       "<table border=\"1\" class=\"dataframe\">\n",
       "  <thead>\n",
       "    <tr style=\"text-align: right;\">\n",
       "      <th></th>\n",
       "      <th>k_score</th>\n",
       "    </tr>\n",
       "  </thead>\n",
       "  <tbody>\n",
       "    <tr>\n",
       "      <th>count</th>\n",
       "      <td>1048.000000</td>\n",
       "    </tr>\n",
       "    <tr>\n",
       "      <th>mean</th>\n",
       "      <td>37.719055</td>\n",
       "    </tr>\n",
       "    <tr>\n",
       "      <th>std</th>\n",
       "      <td>16.044315</td>\n",
       "    </tr>\n",
       "    <tr>\n",
       "      <th>min</th>\n",
       "      <td>10.000000</td>\n",
       "    </tr>\n",
       "    <tr>\n",
       "      <th>25%</th>\n",
       "      <td>23.174620</td>\n",
       "    </tr>\n",
       "    <tr>\n",
       "      <th>50%</th>\n",
       "      <td>41.094683</td>\n",
       "    </tr>\n",
       "    <tr>\n",
       "      <th>75%</th>\n",
       "      <td>50.284432</td>\n",
       "    </tr>\n",
       "    <tr>\n",
       "      <th>max</th>\n",
       "      <td>87.247529</td>\n",
       "    </tr>\n",
       "  </tbody>\n",
       "</table>\n",
       "</div>"
      ],
      "text/plain": [
       "           k_score\n",
       "count  1048.000000\n",
       "mean     37.719055\n",
       "std      16.044315\n",
       "min      10.000000\n",
       "25%      23.174620\n",
       "50%      41.094683\n",
       "75%      50.284432\n",
       "max      87.247529"
      ]
     },
     "execution_count": 6,
     "metadata": {},
     "output_type": "execute_result"
    }
   ],
   "source": [
    "df.describe()"
   ]
  },
  {
   "cell_type": "markdown",
   "metadata": {
    "colab_type": "text",
    "id": "MwTEWWheceh1"
   },
   "source": [
    "### Consignas\n",
    "\n",
    "1. Ahora suponga que existe en una consultoría se plantea que la media del Klout Score poblacional es de 38.   Realice una prueba de hipótesis al respecto con un nivel de significación de 0.05. Plantee las hipótesis nula y alternativa. ¿A qué conclusión llega?\n",
    "2. Suponga que en lugar de definir un nivel de significación de 0.05, se define uno de 0.1. ¿Podría haber cambiado el resultado?\n",
    "3. ¿Y si la hipótesis nula fuera que la media es 42?"
   ]
  },
  {
   "cell_type": "code",
   "execution_count": 7,
   "metadata": {},
   "outputs": [],
   "source": [
    "def sampling(df, n, r = False):\n",
    "    index = np.random.choice(range(0,len(df)), size = n, replace = r)\n",
    "    df_s  = np.array(df.iloc[index,])\n",
    "    return(df_s)\n",
    "\n",
    "def samp_mean(df, n_i):\n",
    "    means = []\n",
    "    for reps in range(0,1000):\n",
    "        s_ = sampling(df, n_i, r = False)\n",
    "        m_ = s_.mean()\n",
    "        means.append(m_)\n",
    "    return(means)"
   ]
  },
  {
   "cell_type": "code",
   "execution_count": 8,
   "metadata": {},
   "outputs": [],
   "source": [
    "sample = sampling(df,200)"
   ]
  },
  {
   "cell_type": "code",
   "execution_count": 9,
   "metadata": {},
   "outputs": [
    {
     "data": {
      "text/plain": [
       "38.112010684996996"
      ]
     },
     "execution_count": 9,
     "metadata": {},
     "output_type": "execute_result"
    }
   ],
   "source": [
    "sample.mean()"
   ]
  },
  {
   "cell_type": "code",
   "execution_count": 10,
   "metadata": {},
   "outputs": [
    {
     "data": {
      "text/plain": [
       "<matplotlib.axes._subplots.AxesSubplot at 0x2951dd902b0>"
      ]
     },
     "execution_count": 10,
     "metadata": {},
     "output_type": "execute_result"
    },
    {
     "data": {
      "image/png": "[encoded data removed]",
      "text/plain": [
       "<Figure size 432x288 with 1 Axes>"
      ]
     },
     "metadata": {
      "needs_background": "light"
     },
     "output_type": "display_data"
    }
   ],
   "source": [
    "import seaborn as sns\n",
    "%matplotlib inline\n",
    "sns.distplot(sample)"
   ]
  },
  {
   "cell_type": "code",
   "execution_count": 11,
   "metadata": {
    "colab": {},
    "colab_type": "code",
    "id": "LaL-gfTVc7OP"
   },
   "outputs": [
    {
     "data": {
      "text/plain": [
       "Ttest_1sampResult(statistic=array([0.09541694]), pvalue=array([0.92407968]))"
      ]
     },
     "execution_count": 11,
     "metadata": {},
     "output_type": "execute_result"
    }
   ],
   "source": [
    "st.ttest_1samp(sample,38)"
   ]
  },
  {
   "cell_type": "markdown",
   "metadata": {
    "colab_type": "text",
    "id": "VBN-8u983JGU"
   },
   "source": [
    "Para responder la pregunta 2 no necesitamos volver a hacer un test, sólo comparamos el p-value contra un nivel de significación $\\alpha $ distinto"
   ]
  },
  {
   "cell_type": "code",
   "execution_count": 12,
   "metadata": {
    "colab": {},
    "colab_type": "code",
    "id": "CPqPsx9jc8PQ"
   },
   "outputs": [
    {
     "data": {
      "text/plain": [
       "Ttest_1sampResult(statistic=array([-3.31200586]), pvalue=array([0.00110009]))"
      ]
     },
     "execution_count": 12,
     "metadata": {},
     "output_type": "execute_result"
    }
   ],
   "source": [
    "st.ttest_1samp(sample,42)"
   ]
  },
  {
   "cell_type": "markdown",
   "metadata": {
    "colab_type": "text",
    "id": "ZdNoR2b8dvHX"
   },
   "source": [
    "## 2. Tests sobre una proporción"
   ]
  },
  {
   "cell_type": "markdown",
   "metadata": {
    "colab_type": "text",
    "id": "F6LUcwCScJiK"
   },
   "source": [
    "Fuimos contratados por una empresa de lotería para averiguar la proporción de clientes que compra determinado producto. La firma va a mantener su plan de marketing actual si su market share es de 50% o más pero va a triplicar su gasto en publicidad en caso contrario. "
   ]
  },
  {
   "cell_type": "code",
   "execution_count": 13,
   "metadata": {
    "colab": {},
    "colab_type": "code",
    "id": "gM6AYN-icJiE"
   },
   "outputs": [],
   "source": [
    "p = 0.4\n",
    "pruebas = 1\n",
    "obs  = 100"
   ]
  },
  {
   "cell_type": "code",
   "execution_count": 14,
   "metadata": {},
   "outputs": [
    {
     "data": {
      "text/html": [
       "<div>\n",
       "<style scoped>\n",
       "    .dataframe tbody tr th:only-of-type {\n",
       "        vertical-align: middle;\n",
       "    }\n",
       "\n",
       "    .dataframe tbody tr th {\n",
       "        vertical-align: top;\n",
       "    }\n",
       "\n",
       "    .dataframe thead th {\n",
       "        text-align: right;\n",
       "    }\n",
       "</style>\n",
       "<table border=\"1\" class=\"dataframe\">\n",
       "  <thead>\n",
       "    <tr style=\"text-align: right;\">\n",
       "      <th></th>\n",
       "      <th>compra o no</th>\n",
       "    </tr>\n",
       "  </thead>\n",
       "  <tbody>\n",
       "    <tr>\n",
       "      <th>0</th>\n",
       "      <td>1</td>\n",
       "    </tr>\n",
       "    <tr>\n",
       "      <th>1</th>\n",
       "      <td>0</td>\n",
       "    </tr>\n",
       "    <tr>\n",
       "      <th>2</th>\n",
       "      <td>1</td>\n",
       "    </tr>\n",
       "    <tr>\n",
       "      <th>3</th>\n",
       "      <td>1</td>\n",
       "    </tr>\n",
       "    <tr>\n",
       "      <th>4</th>\n",
       "      <td>0</td>\n",
       "    </tr>\n",
       "  </tbody>\n",
       "</table>\n",
       "</div>"
      ],
      "text/plain": [
       "   compra o no\n",
       "0            1\n",
       "1            0\n",
       "2            1\n",
       "3            1\n",
       "4            0"
      ]
     },
     "execution_count": 14,
     "metadata": {},
     "output_type": "execute_result"
    }
   ],
   "source": [
    "np.random.seed(10)\n",
    "data = [n for n in np.random.binomial(pruebas, p, obs)]\n",
    "df   = pd.DataFrame(data, columns= ['compra o no'])\n",
    "df.head()"
   ]
  },
  {
   "cell_type": "markdown",
   "metadata": {
    "colab_type": "text",
    "id": "GkK51qvGcJiM"
   },
   "source": [
    "### 1 ¿Cuál es la hipótesis nula y cuál es la alternativa?"
   ]
  },
  {
   "cell_type": "markdown",
   "metadata": {
    "colab_type": "text",
    "id": "7bevpFXQcJiN"
   },
   "source": [
    "En $H_{0}$ pondríamos la opción mas costosa en caso de rechazar $H_{0}$ cuando $H_{0}$ es verdadera. En este caso si le decimos a la firma que su market share es menos del 50% va a invertir mucho dinero en publicidad. Por lo que mantendríamos $H_{0}$ : que el market share es mayor o igual a 50% vs $H_{1}$ : el market share es menor de 50%. \n",
    "       "
   ]
  },
  {
   "cell_type": "markdown",
   "metadata": {
    "colab_type": "text",
    "id": "h51yP5AAcJiP"
   },
   "source": [
    "### 2 ¿Cuál es el valor empírico del estimador del market share?\n"
   ]
  },
  {
   "cell_type": "code",
   "execution_count": 15,
   "metadata": {
    "colab": {},
    "colab_type": "code",
    "id": "7XGNmxbIcJiR"
   },
   "outputs": [
    {
     "data": {
      "text/plain": [
       "compra o no    0.36\n",
       "dtype: float64"
      ]
     },
     "execution_count": 15,
     "metadata": {},
     "output_type": "execute_result"
    }
   ],
   "source": [
    "market_share_muestral = df.sum() / len(df)\n",
    "market_share_muestral"
   ]
  },
  {
   "cell_type": "markdown",
   "metadata": {
    "colab_type": "text",
    "id": "81aGuhc7cJiW"
   },
   "source": [
    "### 3 Conocemos la media y la desviación estándar poblacionales de cada observación. ¿Cuáles son?  "
   ]
  },
  {
   "cell_type": "markdown",
   "metadata": {
    "colab_type": "text",
    "id": "nY6XolIEcJiX"
   },
   "source": [
    "Bajo $H_{0}$  cada $X_i$ (cada variable que mide si una persona responde si o no a la pregunta de si compra el producto) tiene distribución Bernoulli. Bajo $H_{0}$ tomemos el valor del parámetro $p$ de la Bernoulli menos favorable a $H_{0}$ dentro de aquellos posibles asumiendo que $H_{0}$ es verdadera, esto es que $p>=0.5$. \n",
    "En este caso entonces $ E(X_i)=0.5 $  y $ V(X_i)=0.5*0.5 $  "
   ]
  },
  {
   "cell_type": "code",
   "execution_count": 16,
   "metadata": {
    "colab": {},
    "colab_type": "code",
    "id": "JURupnjrcJiY"
   },
   "outputs": [],
   "source": [
    "p_H0 = 0.5"
   ]
  },
  {
   "cell_type": "markdown",
   "metadata": {
    "colab_type": "text",
    "id": "9zURrjDIcJid"
   },
   "source": [
    "### 4  ¿Qué distribución tiene la proporción de clientes que compran determinado producto si asumimos que n es lo suficientemente grande?"
   ]
  },
  {
   "cell_type": "markdown",
   "metadata": {
    "colab_type": "text",
    "id": "TDpTlwI6cJie"
   },
   "source": [
    "La media muestral es una suma de variables Bernoulli (cada una con iguales parámetros e inpendientes entre sí) dividido el tamaño muestral. Si n fuera \"lo suficientemente grande\" la media muestral tendría distribución normal con media igual a $E(Xi)$ y  varianza igual a $ V(Xi)/n $. Sabemos que entonces asintóticamente la media muestral estandarizada tiene distribucion $N(0,1)$. "
   ]
  },
  {
   "cell_type": "markdown",
   "metadata": {
    "colab_type": "text",
    "id": "GpKC82PucJig"
   },
   "source": [
    "### 5 Encuentre un test de hipótesis (estadístico de prueba y regla de decisión) para sus hipótesis del la pregunta 1 con un nivel de significación de 0.05. "
   ]
  },
  {
   "cell_type": "markdown",
   "metadata": {
    "colab_type": "text",
    "id": "TJZgvkRZcJih"
   },
   "source": [
    "Usamos como estadístico de prueba la media muestral estandarizada del punto anterior. Buscamos una regla que deje probabilidad $ 0.05 $ de rechazar cuando $ H_0 $ es verdadera. Buscamos un valor $ z_{\\alpha} $ que deja área $ 0.05 $ en la cola izquierda de una distribución normal estándar (la distribución conocida del estadístico de prueba asumiendo que $ H_0 $ es verdadera). Rechazamos $ H_0 $ si el estadístico de prueba resulta por debajo de ese valor de corte. "
   ]
  },
  {
   "cell_type": "markdown",
   "metadata": {
    "colab_type": "text",
    "id": "dLznX-akcJij"
   },
   "source": [
    "### 6  ¿Qué decisión toma en base a la muestra?\n"
   ]
  },
  {
   "cell_type": "code",
   "execution_count": 17,
   "metadata": {},
   "outputs": [
    {
     "name": "stdout",
     "output_type": "stream",
     "text": [
      "estadístico prueba: -2.8000000000000003\n",
      "estadístico z     : -1.6448536269514729\n",
      "rechazo [ True]\n"
     ]
    }
   ],
   "source": [
    "#El valor de corte buscado es..\n",
    "import scipy.stats as st\n",
    "\n",
    "alpha=0.05\n",
    "z = st.norm.ppf(alpha)\n",
    "\n",
    "#El estadístico de prueba es \n",
    "estadistico_prueba = (market_share_muestral-p_H0)/(np.sqrt(p_H0*(1-p_H0)/obs))\n",
    "#La decisión es..\n",
    "rechazo = (estadistico_prueba < np.abs(z) )\n",
    "#decision\n",
    "print('estadístico prueba:', estadistico_prueba.values[0])\n",
    "print('estadístico z     :', z)\n",
    "print('rechazo', rechazo.values)"
   ]
  },
  {
   "cell_type": "markdown",
   "metadata": {
    "colab_type": "text",
    "id": "9oeI8mZncJio"
   },
   "source": [
    "### 7 ¿Cuál es el p-valor?\n"
   ]
  },
  {
   "cell_type": "code",
   "execution_count": 18,
   "metadata": {
    "colab": {},
    "colab_type": "code",
    "id": "iI5mePPXcJiq"
   },
   "outputs": [
    {
     "data": {
      "text/plain": [
       "0.002555130330427929"
      ]
     },
     "execution_count": 18,
     "metadata": {},
     "output_type": "execute_result"
    }
   ],
   "source": [
    "p_value = st.norm.cdf(estadistico_prueba[0])\n",
    "p_value"
   ]
  },
  {
   "cell_type": "markdown",
   "metadata": {
    "colab_type": "text",
    "id": "NahH1mkBcJi3"
   },
   "source": [
    "### 8 Construya un intervalo de confianza al 95% de confianza para el market share.  \n"
   ]
  },
  {
   "cell_type": "code",
   "execution_count": 19,
   "metadata": {
    "colab": {},
    "colab_type": "code",
    "id": "Nig7of_GcJi6",
    "outputId": "3871d42d-5e9f-49b0-a889-90516c0bbf6a"
   },
   "outputs": [
    {
     "name": "stdout",
     "output_type": "stream",
     "text": [
      "El límite inferior del IC al 95% de confianza para p es  0.26592172874207737\n",
      "El límite superior del IC al 95% de confianza para p es  0.4540782712579226\n"
     ]
    }
   ],
   "source": [
    "standard_error = np.sqrt(market_share_muestral*(1-market_share_muestral) / obs)\n",
    "\n",
    "z_nc95 = np.abs(st.norm.ppf(alpha/2))\n",
    "\n",
    "li = market_share_muestral-z_nc95*standard_error\n",
    "ls = market_share_muestral+z_nc95*standard_error\n",
    "\n",
    "print (\"El límite inferior del IC al 95% de confianza para p es \", li[0])\n",
    "print (\"El límite superior del IC al 95% de confianza para p es \", ls[0])"
   ]
  },
  {
   "cell_type": "markdown",
   "metadata": {
    "colab_type": "text",
    "id": "HxMzEpeT4WzA"
   },
   "source": [
    "### 9. Interpretando el $\\alpha$ de un test. \n",
    "Dado un nivel de significación hagamos mil repeticiones del test anterior. El nivel de significación indica la proporción de veces que nos vamos a equivocar , y rechazar $ H_0 $ cuando $ H_0 $ es verdadera, al sacar muestras de la misma población y aplicar nuestra regla de decisión dado un valor crítico (que fue elegido en base a un nivel de significación $\\alpha$ ). En este caso realizamos un test a dos colas."
   ]
  },
  {
   "cell_type": "code",
   "execution_count": 20,
   "metadata": {
    "colab": {},
    "colab_type": "code",
    "id": "SFg_wjja4FZi"
   },
   "outputs": [
    {
     "name": "stdout",
     "output_type": "stream",
     "text": [
      "0.051\n"
     ]
    }
   ],
   "source": [
    "#seteamos un valor de p para que H0 sea verdadera\n",
    "p=0.5\n",
    "pruebas=1\n",
    "p_H0 = 0.5\n",
    "alpha = 0.025\n",
    "z = np.abs(st.norm.ppf(alpha))\n",
    "decisiones=[]\n",
    "rep=1000\n",
    "\n",
    "for i in range(rep):\n",
    "    \n",
    "    df = pd.DataFrame([int(n) for n in np.random.binomial(pruebas, p, obs)], columns= ['compra o no'])\n",
    "    \n",
    "    p_muestral = df.sum() / len(df) \n",
    "    \n",
    "    estadistico_prueba = np.abs(p_muestral-p_H0)/ (np.sqrt((p_H0 * (1 - p_H0 )) / obs)) \n",
    "\n",
    "    rechazo = (estadistico_prueba > z )\n",
    "    \n",
    "    decisiones.append(int(rechazo[0]))\n",
    "\n",
    "print( sum(decisiones) / rep )\n"
   ]
  },
  {
   "cell_type": "markdown",
   "metadata": {},
   "source": [
    "## A/B Testing"
   ]
  },
  {
   "cell_type": "code",
   "execution_count": 21,
   "metadata": {},
   "outputs": [],
   "source": [
    "import math"
   ]
  },
  {
   "cell_type": "code",
   "execution_count": 22,
   "metadata": {},
   "outputs": [],
   "source": [
    "# Definimos una función que calcula los estimadores de los parámetros de una distribución de Bernoulli:\n",
    "\n",
    "def estimated_parameters(N, n):\n",
    "    p = n/N\n",
    "    sigma = math.sqrt(p*(1-p)/N)\n",
    "    return p, sigma"
   ]
  },
  {
   "cell_type": "code",
   "execution_count": 23,
   "metadata": {},
   "outputs": [],
   "source": [
    "# Definimos una función que calcula el estadístico de un A/B Test:\n",
    "\n",
    "def a_b_test_statistic(N_A,n_A,N_B,n_B):\n",
    "    p_A, sigma_A = estimated_parameters(N_A, n_A)\n",
    "    p_B, sigma_B = estimated_parameters(N_B, n_B)\n",
    "    return (p_B - p_A)/math.sqrt(sigma_A**2 + sigma_B**2)"
   ]
  },
  {
   "cell_type": "markdown",
   "metadata": {},
   "source": [
    "#### Probamos con un ejemplo. Se realiza un A/B test sobre 2 anuncios de un sitio web: A y B. "
   ]
  },
  {
   "cell_type": "code",
   "execution_count": 24,
   "metadata": {},
   "outputs": [
    {
     "data": {
      "text/plain": [
       "1.9599639845400545"
      ]
     },
     "execution_count": 24,
     "metadata": {},
     "output_type": "execute_result"
    }
   ],
   "source": [
    "## Definimos un nivel de significación del 5%. Vamos a hacer un test a dos colas:\n",
    "alpha=0.05\n",
    "z_crit = np.abs(st.norm.ppf(alpha/2))\n",
    "z_crit"
   ]
  },
  {
   "cell_type": "code",
   "execution_count": 25,
   "metadata": {},
   "outputs": [],
   "source": [
    "# Caso 1:\n",
    "z_est1 = a_b_test_statistic(1000,200,1000,180)"
   ]
  },
  {
   "cell_type": "code",
   "execution_count": 26,
   "metadata": {},
   "outputs": [
    {
     "data": {
      "text/plain": [
       "-1.1403464899034472"
      ]
     },
     "execution_count": 26,
     "metadata": {},
     "output_type": "execute_result"
    }
   ],
   "source": [
    "z_est1"
   ]
  },
  {
   "cell_type": "code",
   "execution_count": 27,
   "metadata": {},
   "outputs": [
    {
     "name": "stdout",
     "output_type": "stream",
     "text": [
      "No puedo rechazar H0\n"
     ]
    }
   ],
   "source": [
    "if np.abs(z_est1)>z_crit:\n",
    "    print('Rechazo H0')\n",
    "else:\n",
    "    print('No puedo rechazar H0')"
   ]
  },
  {
   "cell_type": "code",
   "execution_count": 28,
   "metadata": {},
   "outputs": [
    {
     "data": {
      "text/plain": [
       "0.254141976542236"
      ]
     },
     "execution_count": 28,
     "metadata": {},
     "output_type": "execute_result"
    }
   ],
   "source": [
    "p_value = 2*st.norm.cdf(z_est1)\n",
    "p_value"
   ]
  },
  {
   "cell_type": "code",
   "execution_count": 29,
   "metadata": {},
   "outputs": [],
   "source": [
    "# Caso 2:\n",
    "z_est2 = a_b_test_statistic(1000,200,1000,150)"
   ]
  },
  {
   "cell_type": "code",
   "execution_count": 30,
   "metadata": {},
   "outputs": [
    {
     "data": {
      "text/plain": [
       "-2.948839123097944"
      ]
     },
     "execution_count": 30,
     "metadata": {},
     "output_type": "execute_result"
    }
   ],
   "source": [
    "z_est2"
   ]
  },
  {
   "cell_type": "code",
   "execution_count": 31,
   "metadata": {},
   "outputs": [
    {
     "name": "stdout",
     "output_type": "stream",
     "text": [
      "Rechazo H0\n"
     ]
    }
   ],
   "source": [
    "if np.abs(z_est2)>z_crit:\n",
    "    print('Rechazo H0')\n",
    "else:\n",
    "    print('No puedo rechazar H0')"
   ]
  },
  {
   "cell_type": "code",
   "execution_count": 32,
   "metadata": {},
   "outputs": [
    {
     "data": {
      "text/plain": [
       "0.0031896997062168583"
      ]
     },
     "execution_count": 32,
     "metadata": {},
     "output_type": "execute_result"
    }
   ],
   "source": [
    "p_value = 2*st.norm.cdf(z_est2)\n",
    "p_value"
   ]
  },
  {
   "cell_type": "code",
   "execution_count": null,
   "metadata": {},
   "outputs": [],
   "source": []
  }
 ],
 "metadata": {
  "kernelspec": {
   "display_name": "Python 3",
   "language": "python",
   "name": "python3"
  },
  "language_info": {
   "codemirror_mode": {
    "name": "ipython",
    "version": 3
   },
   "file_extension": ".py",
   "mimetype": "text/x-python",
   "name": "python",
   "nbconvert_exporter": "python",
   "pygments_lexer": "ipython3",
   "version": "3.7.3"
  }
 },
 "nbformat": 4,
 "nbformat_minor": 2
}
