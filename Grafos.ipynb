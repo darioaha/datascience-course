{
 "cells": [
  {
   "cell_type": "markdown",
   "metadata": {
    "slideshow": {
     "slide_type": "slide"
    }
   },
   "source": [
    "# Grafos"
   ]
  },
  {
   "cell_type": "markdown",
   "metadata": {
    "slideshow": {
     "slide_type": "fragment"
    }
   },
   "source": [
    "* Matías Battocchia\n",
    "* Científico de datos en [Mutt Data](https://www.muttdata.ai)\n",
    "* Tesista en [CoCuCo Lab](https://www.cocucolab.com)\n",
    "* battox@gmail.com"
   ]
  },
  {
   "cell_type": "markdown",
   "metadata": {
    "slideshow": {
     "slide_type": "slide"
    }
   },
   "source": [
    "### ¿Qué es un grafo?"
   ]
  },
  {
   "cell_type": "markdown",
   "metadata": {
    "slideshow": {
     "slide_type": "fragment"
    }
   },
   "source": [
    "<img src=\"https://upload.wikimedia.org/wikipedia/commons/5/5b/6n-graf.svg\" width=200>"
   ]
  },
  {
   "cell_type": "markdown",
   "metadata": {
    "slideshow": {
     "slide_type": "fragment"
    }
   },
   "source": [
    "* Red — grafo, *graph*\n",
    "  * Nodos — vértices, *nodes*\n",
    "  * Conexiones — aristas, bordes, *edges*"
   ]
  },
  {
   "cell_type": "markdown",
   "metadata": {
    "slideshow": {
     "slide_type": "slide"
    }
   },
   "source": [
    "### ¿Para qué sirven?"
   ]
  },
  {
   "cell_type": "markdown",
   "metadata": {
    "slideshow": {
     "slide_type": "fragment"
    }
   },
   "source": [
    "Es una estructura de datos útil para representar:\n",
    "\n",
    "* redes sociales\n",
    "* máquinas de estado\n",
    "* moléculas\n",
    "* mapas conceptuales\n",
    "* estructura del lenguaje\n",
    "* redes de transporte\n",
    "* y mucho más..."
   ]
  },
  {
   "cell_type": "markdown",
   "metadata": {
    "slideshow": {
     "slide_type": "fragment"
    }
   },
   "source": [
    "Ver [glosario de teoría de grafos](https://es.wikipedia.org/wiki/Anexo:Glosario_de_teor%C3%ADa_de_grafos)."
   ]
  },
  {
   "cell_type": "markdown",
   "metadata": {
    "slideshow": {
     "slide_type": "slide"
    }
   },
   "source": [
    "## NetworkX"
   ]
  },
  {
   "cell_type": "markdown",
   "metadata": {
    "slideshow": {
     "slide_type": "fragment"
    }
   },
   "source": [
    "https://networkx.github.io\n",
    "\n",
    "NetworkX is a Python package for the creation, manipulation, and study of the structure, dynamics, and functions of complex networks."
   ]
  },
  {
   "cell_type": "code",
   "execution_count": null,
   "metadata": {
    "slideshow": {
     "slide_type": "fragment"
    }
   },
   "outputs": [],
   "source": [
    "!pip install networkx"
   ]
  },
  {
   "cell_type": "code",
   "execution_count": 23,
   "metadata": {
    "slideshow": {
     "slide_type": "fragment"
    }
   },
   "outputs": [],
   "source": [
    "%matplotlib inline\n",
    "\n",
    "import networkx as nx\n",
    "\n",
    "G = nx.Graph()"
   ]
  },
  {
   "cell_type": "code",
   "execution_count": 24,
   "metadata": {
    "slideshow": {
     "slide_type": "subslide"
    }
   },
   "outputs": [
    {
     "data": {
      "image/png": "[encoded data removed]",
      "text/plain": [
       "<Figure size 432x288 with 1 Axes>"
      ]
     },
     "metadata": {},
     "output_type": "display_data"
    }
   ],
   "source": [
    "G.add_node('Buenos Aires')\n",
    "G.add_node('Córdoba')\n",
    "G.add_node('Mendoza')\n",
    "\n",
    "nx.draw(G)"
   ]
  },
  {
   "cell_type": "code",
   "execution_count": 25,
   "metadata": {
    "slideshow": {
     "slide_type": "subslide"
    }
   },
   "outputs": [
    {
     "data": {
      "image/png": "[encoded data removed]",
      "text/plain": [
       "<Figure size 432x288 with 1 Axes>"
      ]
     },
     "metadata": {},
     "output_type": "display_data"
    }
   ],
   "source": [
    "G.add_edge('Buenos Aires', 'Córdoba', distancia=647)\n",
    "G.add_edge('Buenos Aires', 'Mendoza', distancia=948)\n",
    "G.add_edge('Córdoba',      'Mendoza', distancia=682)\n",
    "\n",
    "nx.draw(G)"
   ]
  },
  {
   "cell_type": "code",
   "execution_count": 26,
   "metadata": {
    "slideshow": {
     "slide_type": "subslide"
    }
   },
   "outputs": [
    {
     "data": {
      "image/png": "[encoded data removed]",
      "text/plain": [
       "<Figure size 432x288 with 1 Axes>"
      ]
     },
     "metadata": {},
     "output_type": "display_data"
    }
   ],
   "source": [
    "G.add_edge('Tucumán','Salta', distancia=227)\n",
    "\n",
    "nx.draw(G)"
   ]
  },
  {
   "cell_type": "markdown",
   "metadata": {
    "slideshow": {
     "slide_type": "fragment"
    }
   },
   "source": [
    "* **Subgrafo**: subconjunto de nodos y conexiones.\n",
    "* **Componente conectada**: *cluster* de nodos conectados."
   ]
  },
  {
   "cell_type": "code",
   "execution_count": 54,
   "metadata": {
    "slideshow": {
     "slide_type": "subslide"
    }
   },
   "outputs": [
    {
     "data": {
      "text/plain": [
       "NodeView(('Buenos Aires', 'Córdoba', 'Mendoza', 'Tucumán', 'Salta'))"
      ]
     },
     "execution_count": 54,
     "metadata": {},
     "output_type": "execute_result"
    }
   ],
   "source": [
    "G.nodes"
   ]
  },
  {
   "cell_type": "code",
   "execution_count": 55,
   "metadata": {
    "slideshow": {
     "slide_type": "fragment"
    }
   },
   "outputs": [
    {
     "data": {
      "text/plain": [
       "EdgeView([('Buenos Aires', 'Córdoba'), ('Buenos Aires', 'Mendoza'), ('Córdoba', 'Mendoza'), ('Tucumán', 'Salta')])"
      ]
     },
     "execution_count": 55,
     "metadata": {},
     "output_type": "execute_result"
    }
   ],
   "source": [
    "G.edges"
   ]
  },
  {
   "cell_type": "code",
   "execution_count": 57,
   "metadata": {
    "slideshow": {
     "slide_type": "fragment"
    }
   },
   "outputs": [
    {
     "data": {
      "text/plain": [
       "2"
      ]
     },
     "execution_count": 57,
     "metadata": {},
     "output_type": "execute_result"
    }
   ],
   "source": [
    "# grado de un nodo (cantidad de conexiones)\n",
    "G.degree['Mendoza']"
   ]
  },
  {
   "cell_type": "markdown",
   "metadata": {
    "slideshow": {
     "slide_type": "subslide"
    }
   },
   "source": [
    "### Graficando"
   ]
  },
  {
   "cell_type": "code",
   "execution_count": 53,
   "metadata": {
    "slideshow": {
     "slide_type": "fragment"
    }
   },
   "outputs": [
    {
     "data": {
      "image/png": "[encoded data removed]",
      "text/plain": [
       "<Figure size 432x288 with 1 Axes>"
      ]
     },
     "metadata": {},
     "output_type": "display_data"
    }
   ],
   "source": [
    "# posiciones de los nodos; elegir un *layout*\n",
    "pos=nx.planar_layout(G)\n",
    "\n",
    "# dibujar etiquetas\n",
    "nx.draw_networkx_labels(G, pos=pos)\n",
    "\n",
    "# dibujar nodos\n",
    "nx.draw_networkx_nodes(G, pos=pos)\n",
    "\n",
    "# dibujar conexiones\n",
    "nx.draw_networkx_edges(G, pos=pos);"
   ]
  },
  {
   "cell_type": "markdown",
   "metadata": {
    "slideshow": {
     "slide_type": "slide"
    }
   },
   "source": [
    "## Tipos de grafos"
   ]
  },
  {
   "cell_type": "markdown",
   "metadata": {
    "slideshow": {
     "slide_type": "subslide"
    }
   },
   "source": [
    "### Dirigido\n",
    "\n",
    "`nx.DiGraph`\n",
    "\n",
    "<img src=\"https://upload.wikimedia.org/wikipedia/commons/a/a2/Directed.svg\" width=200>"
   ]
  },
  {
   "cell_type": "markdown",
   "metadata": {
    "slideshow": {
     "slide_type": "subslide"
    }
   },
   "source": [
    "### Multigrafo\n",
    "\n",
    "`nx.MultiGraph`, `nx.MultiDiGraph`\n",
    "\n",
    "<img src=\"https://upload.wikimedia.org/wikipedia/commons/c/c9/Multi-pseudograph.svg\" width=200>"
   ]
  },
  {
   "cell_type": "markdown",
   "metadata": {
    "slideshow": {
     "slide_type": "slide"
    }
   },
   "source": [
    "## Algoritmos comunes"
   ]
  },
  {
   "cell_type": "markdown",
   "metadata": {
    "slideshow": {
     "slide_type": "subslide"
    }
   },
   "source": [
    "### Grafo de ejemplo: Familias florentinas"
   ]
  },
  {
   "cell_type": "code",
   "execution_count": 65,
   "metadata": {
    "slideshow": {
     "slide_type": "fragment"
    }
   },
   "outputs": [
    {
     "data": {
      "image/png": "[encoded data removed]",
      "text/plain": [
       "<Figure size 432x288 with 1 Axes>"
      ]
     },
     "metadata": {},
     "output_type": "display_data"
    }
   ],
   "source": [
    "G = nx.florentine_families_graph()\n",
    "\n",
    "nx.draw(G)"
   ]
  },
  {
   "cell_type": "markdown",
   "metadata": {
    "slideshow": {
     "slide_type": "subslide"
    }
   },
   "source": [
    "## Componentes conectadas\n",
    "\n",
    "https://en.wikipedia.org/wiki/Component_(graph_theory)\n",
    "\n",
    "<img src=\"https://upload.wikimedia.org/wikipedia/commons/8/85/Pseudoforest.svg\" width=200>"
   ]
  },
  {
   "cell_type": "code",
   "execution_count": 64,
   "metadata": {
    "slideshow": {
     "slide_type": "fragment"
    }
   },
   "outputs": [
    {
     "name": "stdout",
     "output_type": "stream",
     "text": [
      "{'Strozzi', 'Bischeri', 'Acciaiuoli', 'Salviati', 'Pazzi', 'Castellani', 'Ridolfi', 'Albizzi', 'Peruzzi', 'Medici', 'Ginori', 'Lamberteschi', 'Barbadori', 'Tornabuoni', 'Guadagni'}\n"
     ]
    }
   ],
   "source": [
    "# el grafo de ejemplo solo tiene una componente conectada\n",
    "for sub_graph in nx.connected_components(G):\n",
    "    print(sub_graph)"
   ]
  },
  {
   "cell_type": "markdown",
   "metadata": {
    "slideshow": {
     "slide_type": "subslide"
    }
   },
   "source": [
    "## El camino más corto\n",
    "\n",
    "https://en.wikipedia.org/wiki/Shortest_path_problem\n",
    "\n",
    "<img src=\"https://upload.wikimedia.org/wikipedia/commons/3/3b/Shortest_path_with_direct_weights.svg\" width=200>\n",
    "\n",
    "#### Aplicaciones\n",
    "\n",
    "* Google Maps\n",
    "* LinkedIn"
   ]
  },
  {
   "cell_type": "code",
   "execution_count": 67,
   "metadata": {
    "slideshow": {
     "slide_type": "fragment"
    }
   },
   "outputs": [
    {
     "data": {
      "text/plain": [
       "['Medici', 'Albizzi', 'Ginori']"
      ]
     },
     "execution_count": 67,
     "metadata": {},
     "output_type": "execute_result"
    }
   ],
   "source": [
    "nx.shortest_path(G, source='Medici', target='Ginori', weight=None)"
   ]
  },
  {
   "cell_type": "markdown",
   "metadata": {
    "slideshow": {
     "slide_type": "subslide"
    }
   },
   "source": [
    "## Árbol recubridor mínimo\n",
    "\n",
    "https://en.wikipedia.org/wiki/Minimum_spanning_tree\n",
    "\n",
    "<img src=\"https://upload.wikimedia.org/wikipedia/commons/d/d2/Minimum_spanning_tree.svg\" width=200>\n",
    "\n",
    "#### Aplicaciones\n",
    "\n",
    "* Tendido de redes"
   ]
  },
  {
   "cell_type": "code",
   "execution_count": 68,
   "metadata": {
    "slideshow": {
     "slide_type": "fragment"
    }
   },
   "outputs": [
    {
     "data": {
      "image/png": "[encoded data removed]",
      "text/plain": [
       "<Figure size 432x288 with 1 Axes>"
      ]
     },
     "metadata": {},
     "output_type": "display_data"
    }
   ],
   "source": [
    "mst = nx.minimum_spanning_tree(G, weight=None)\n",
    "\n",
    "nx.draw(mst)"
   ]
  },
  {
   "cell_type": "markdown",
   "metadata": {
    "slideshow": {
     "slide_type": "subslide"
    }
   },
   "source": [
    "## Pagerank\n",
    "\n",
    "https://en.wikipedia.org/wiki/PageRank\n",
    "\n",
    "<img src=\"https://upload.wikimedia.org/wikipedia/en/8/8b/PageRanks-Example.jpg\" width=200>\n",
    "\n",
    "https://towardsdatascience.com/investor-network-of-influence-f80f2a1af43f"
   ]
  },
  {
   "cell_type": "code",
   "execution_count": 60,
   "metadata": {
    "scrolled": false,
    "slideshow": {
     "slide_type": "fragment"
    }
   },
   "outputs": [
    {
     "data": {
      "text/plain": [
       "{'Acciaiuoli': 0.03065721480230426,\n",
       " 'Medici': 0.14581844065218275,\n",
       " 'Castellani': 0.06933028447008721,\n",
       " 'Peruzzi': 0.06787531774407572,\n",
       " 'Strozzi': 0.08809849082725613,\n",
       " 'Barbadori': 0.050300712744633685,\n",
       " 'Ridolfi': 0.069574170990148,\n",
       " 'Tornabuoni': 0.07127928374676082,\n",
       " 'Albizzi': 0.079121502380729,\n",
       " 'Salviati': 0.061302640987807314,\n",
       " 'Pazzi': 0.036054222996734095,\n",
       " 'Bischeri': 0.0688615381141211,\n",
       " 'Guadagni': 0.09839859717156552,\n",
       " 'Ginori': 0.032418257716596434,\n",
       " 'Lamberteschi': 0.03090932465499793}"
      ]
     },
     "execution_count": 60,
     "metadata": {},
     "output_type": "execute_result"
    }
   ],
   "source": [
    "nx.pagerank(G, weight=None)"
   ]
  },
  {
   "cell_type": "markdown",
   "metadata": {
    "slideshow": {
     "slide_type": "subslide"
    }
   },
   "source": [
    "## Intermediación\n",
    "\n",
    "https://en.wikipedia.org/wiki/Betweenness_centrality\n",
    "\n",
    "<img src=\"https://upload.wikimedia.org/wikipedia/commons/6/60/Graph_betweenness.svg\" width=200>"
   ]
  },
  {
   "cell_type": "code",
   "execution_count": 61,
   "metadata": {
    "slideshow": {
     "slide_type": "fragment"
    }
   },
   "outputs": [
    {
     "data": {
      "text/plain": [
       "{'Acciaiuoli': 0.0,\n",
       " 'Medici': 0.521978021978022,\n",
       " 'Castellani': 0.05494505494505495,\n",
       " 'Peruzzi': 0.02197802197802198,\n",
       " 'Strozzi': 0.10256410256410257,\n",
       " 'Barbadori': 0.09340659340659341,\n",
       " 'Ridolfi': 0.11355311355311355,\n",
       " 'Tornabuoni': 0.09157509157509157,\n",
       " 'Albizzi': 0.21245421245421245,\n",
       " 'Salviati': 0.14285714285714288,\n",
       " 'Pazzi': 0.0,\n",
       " 'Bischeri': 0.1043956043956044,\n",
       " 'Guadagni': 0.2545787545787546,\n",
       " 'Ginori': 0.0,\n",
       " 'Lamberteschi': 0.0}"
      ]
     },
     "execution_count": 61,
     "metadata": {},
     "output_type": "execute_result"
    }
   ],
   "source": [
    "nx.betweenness_centrality(G, weight=None)"
   ]
  },
  {
   "cell_type": "markdown",
   "metadata": {
    "slideshow": {
     "slide_type": "subslide"
    }
   },
   "source": [
    "### Modularidad\n",
    "\n",
    "https://en.wikipedia.org/wiki/Modularity_(networks)\n",
    "\n",
    "<img src=\"https://www.pnas.org/content/pnas/103/23/8577/F1.large.jpg\" width=200>"
   ]
  },
  {
   "cell_type": "code",
   "execution_count": 70,
   "metadata": {
    "slideshow": {
     "slide_type": "fragment"
    }
   },
   "outputs": [
    {
     "data": {
      "text/plain": [
       "[frozenset({'Acciaiuoli',\n",
       "            'Medici',\n",
       "            'Pazzi',\n",
       "            'Ridolfi',\n",
       "            'Salviati',\n",
       "            'Tornabuoni'}),\n",
       " frozenset({'Barbadori', 'Bischeri', 'Castellani', 'Peruzzi', 'Strozzi'}),\n",
       " frozenset({'Albizzi', 'Ginori', 'Guadagni', 'Lamberteschi'})]"
      ]
     },
     "execution_count": 70,
     "metadata": {},
     "output_type": "execute_result"
    }
   ],
   "source": [
    "nx.algorithms.community.modularity_max.greedy_modularity_communities(G)"
   ]
  },
  {
   "cell_type": "markdown",
   "metadata": {
    "slideshow": {
     "slide_type": "slide"
    }
   },
   "source": [
    "## Pandas"
   ]
  },
  {
   "cell_type": "code",
   "execution_count": 71,
   "metadata": {
    "slideshow": {
     "slide_type": "fragment"
    }
   },
   "outputs": [
    {
     "name": "stderr",
     "output_type": "stream",
     "text": [
      "/home/matias/.pyenv/versions/3.7.3/lib/python3.7/site-packages/IPython/core/interactiveshell.py:3049: DtypeWarning: Columns (0,4,6,7) have mixed types. Specify dtype option on import or set low_memory=False.\n",
      "  interactivity=interactivity, compiler=compiler, result=result)\n"
     ]
    }
   ],
   "source": [
    "import pandas as pd\n",
    "\n",
    "df = pd.read_csv('http://cdn.buenosaires.gob.ar/datosabiertos/datasets/bicicletas-publicas/recorridos-realizados-2019.csv')"
   ]
  },
  {
   "cell_type": "code",
   "execution_count": 72,
   "metadata": {
    "slideshow": {
     "slide_type": "fragment"
    }
   },
   "outputs": [
    {
     "data": {
      "text/html": [
       "<div>\n",
       "<style scoped>\n",
       "    .dataframe tbody tr th:only-of-type {\n",
       "        vertical-align: middle;\n",
       "    }\n",
       "\n",
       "    .dataframe tbody tr th {\n",
       "        vertical-align: top;\n",
       "    }\n",
       "\n",
       "    .dataframe thead th {\n",
       "        text-align: right;\n",
       "    }\n",
       "</style>\n",
       "<table border=\"1\" class=\"dataframe\">\n",
       "  <thead>\n",
       "    <tr style=\"text-align: right;\">\n",
       "      <th></th>\n",
       "      <th>bici_id_usuario</th>\n",
       "      <th>bici_fecha_hora_retiro</th>\n",
       "      <th>bici_tiempo_uso</th>\n",
       "      <th>bici_nombre_estacion_origen</th>\n",
       "      <th>bici_estacion_origen</th>\n",
       "      <th>bici_nombre_estacion_destino</th>\n",
       "      <th>bici_estacion_destino</th>\n",
       "      <th>bici_sexo</th>\n",
       "      <th>bici_edad</th>\n",
       "    </tr>\n",
       "  </thead>\n",
       "  <tbody>\n",
       "    <tr>\n",
       "      <th>0</th>\n",
       "      <td>115783_0</td>\n",
       "      <td>2019-01-01 00:01:16</td>\n",
       "      <td>00:07:02</td>\n",
       "      <td>Estados Unidos</td>\n",
       "      <td>168_0</td>\n",
       "      <td>9 de Julio</td>\n",
       "      <td>112_0</td>\n",
       "      <td>FEMENINO</td>\n",
       "      <td>36.0</td>\n",
       "    </tr>\n",
       "    <tr>\n",
       "      <th>1</th>\n",
       "      <td>345364_0</td>\n",
       "      <td>2019-01-01 00:04:32</td>\n",
       "      <td>00:05:33</td>\n",
       "      <td>Colegio Nacional Buenos Aires</td>\n",
       "      <td>47_0</td>\n",
       "      <td>Colegio Nacional Buenos Aires</td>\n",
       "      <td>47_0</td>\n",
       "      <td>MASCULINO</td>\n",
       "      <td>40.0</td>\n",
       "    </tr>\n",
       "    <tr>\n",
       "      <th>2</th>\n",
       "      <td>570578_0</td>\n",
       "      <td>2019-01-01 00:09:15</td>\n",
       "      <td>00:19:45</td>\n",
       "      <td>Pueyrredón</td>\n",
       "      <td>144_0</td>\n",
       "      <td>Ecoparque</td>\n",
       "      <td>44_0</td>\n",
       "      <td>FEMENINO</td>\n",
       "      <td>41.0</td>\n",
       "    </tr>\n",
       "    <tr>\n",
       "      <th>3</th>\n",
       "      <td>588687_0</td>\n",
       "      <td>2019-01-01 00:09:28</td>\n",
       "      <td>00:19:34</td>\n",
       "      <td>Pueyrredón</td>\n",
       "      <td>144_0</td>\n",
       "      <td>Ecoparque</td>\n",
       "      <td>44_0</td>\n",
       "      <td>MASCULINO</td>\n",
       "      <td>43.0</td>\n",
       "    </tr>\n",
       "    <tr>\n",
       "      <th>4</th>\n",
       "      <td>127201_0</td>\n",
       "      <td>2019-01-01 00:11:17</td>\n",
       "      <td>00:21:32</td>\n",
       "      <td>Legislatura</td>\n",
       "      <td>16_0</td>\n",
       "      <td>EEUU y Boedo</td>\n",
       "      <td>199_0</td>\n",
       "      <td>MASCULINO</td>\n",
       "      <td>33.0</td>\n",
       "    </tr>\n",
       "  </tbody>\n",
       "</table>\n",
       "</div>"
      ],
      "text/plain": [
       "  bici_id_usuario bici_fecha_hora_retiro bici_tiempo_uso  \\\n",
       "0        115783_0    2019-01-01 00:01:16        00:07:02   \n",
       "1        345364_0    2019-01-01 00:04:32        00:05:33   \n",
       "2        570578_0    2019-01-01 00:09:15        00:19:45   \n",
       "3        588687_0    2019-01-01 00:09:28        00:19:34   \n",
       "4        127201_0    2019-01-01 00:11:17        00:21:32   \n",
       "\n",
       "     bici_nombre_estacion_origen bici_estacion_origen  \\\n",
       "0                 Estados Unidos                168_0   \n",
       "1  Colegio Nacional Buenos Aires                 47_0   \n",
       "2                     Pueyrredón                144_0   \n",
       "3                     Pueyrredón                144_0   \n",
       "4                    Legislatura                 16_0   \n",
       "\n",
       "    bici_nombre_estacion_destino bici_estacion_destino  bici_sexo  bici_edad  \n",
       "0                     9 de Julio                 112_0   FEMENINO       36.0  \n",
       "1  Colegio Nacional Buenos Aires                  47_0  MASCULINO       40.0  \n",
       "2                      Ecoparque                  44_0   FEMENINO       41.0  \n",
       "3                      Ecoparque                  44_0  MASCULINO       43.0  \n",
       "4                   EEUU y Boedo                 199_0  MASCULINO       33.0  "
      ]
     },
     "execution_count": 72,
     "metadata": {},
     "output_type": "execute_result"
    }
   ],
   "source": [
    "df.head()"
   ]
  },
  {
   "cell_type": "code",
   "execution_count": 80,
   "metadata": {
    "slideshow": {
     "slide_type": "subslide"
    }
   },
   "outputs": [],
   "source": [
    "df['minutos_viaje'] = pd.to_timedelta(df.bici_tiempo_uso, unit='minute', errors='coerce')"
   ]
  },
  {
   "cell_type": "code",
   "execution_count": 82,
   "metadata": {
    "slideshow": {
     "slide_type": "fragment"
    }
   },
   "outputs": [],
   "source": [
    "pre_grafo = df.groupby(['bici_nombre_estacion_origen','bici_nombre_estacion_destino']) \\\n",
    "    .minutos_viaje \\\n",
    "    .agg(lambda x: x.mean())"
   ]
  },
  {
   "cell_type": "code",
   "execution_count": 89,
   "metadata": {
    "slideshow": {
     "slide_type": "fragment"
    }
   },
   "outputs": [
    {
     "data": {
      "text/html": [
       "<div>\n",
       "<style scoped>\n",
       "    .dataframe tbody tr th:only-of-type {\n",
       "        vertical-align: middle;\n",
       "    }\n",
       "\n",
       "    .dataframe tbody tr th {\n",
       "        vertical-align: top;\n",
       "    }\n",
       "\n",
       "    .dataframe thead th {\n",
       "        text-align: right;\n",
       "    }\n",
       "</style>\n",
       "<table border=\"1\" class=\"dataframe\">\n",
       "  <thead>\n",
       "    <tr style=\"text-align: right;\">\n",
       "      <th></th>\n",
       "      <th>bici_nombre_estacion_origen</th>\n",
       "      <th>bici_nombre_estacion_destino</th>\n",
       "      <th>minutos_viaje</th>\n",
       "    </tr>\n",
       "  </thead>\n",
       "  <tbody>\n",
       "    <tr>\n",
       "      <th>0</th>\n",
       "      <td>001 - Facultad De Derecho</td>\n",
       "      <td>001 - Facultad De Derecho</td>\n",
       "      <td>00:47:08.372451</td>\n",
       "    </tr>\n",
       "    <tr>\n",
       "      <th>1</th>\n",
       "      <td>001 - Facultad De Derecho</td>\n",
       "      <td>002 - Retiro I</td>\n",
       "      <td>00:15:24.335766</td>\n",
       "    </tr>\n",
       "    <tr>\n",
       "      <th>2</th>\n",
       "      <td>001 - Facultad De Derecho</td>\n",
       "      <td>003 - Aduana</td>\n",
       "      <td>00:27:46.038461</td>\n",
       "    </tr>\n",
       "    <tr>\n",
       "      <th>3</th>\n",
       "      <td>001 - Facultad De Derecho</td>\n",
       "      <td>004 - Plaza Roma</td>\n",
       "      <td>00:25:21.500000</td>\n",
       "    </tr>\n",
       "    <tr>\n",
       "      <th>4</th>\n",
       "      <td>001 - Facultad De Derecho</td>\n",
       "      <td>005 - Plaza Italia</td>\n",
       "      <td>00:40:21.257270</td>\n",
       "    </tr>\n",
       "  </tbody>\n",
       "</table>\n",
       "</div>"
      ],
      "text/plain": [
       "  bici_nombre_estacion_origen bici_nombre_estacion_destino   minutos_viaje\n",
       "0   001 - Facultad De Derecho    001 - Facultad De Derecho 00:47:08.372451\n",
       "1   001 - Facultad De Derecho               002 - Retiro I 00:15:24.335766\n",
       "2   001 - Facultad De Derecho                 003 - Aduana 00:27:46.038461\n",
       "3   001 - Facultad De Derecho             004 - Plaza Roma 00:25:21.500000\n",
       "4   001 - Facultad De Derecho           005 - Plaza Italia 00:40:21.257270"
      ]
     },
     "execution_count": 89,
     "metadata": {},
     "output_type": "execute_result"
    }
   ],
   "source": [
    "pre_grafo = pre_grafo.to_frame().reset_index()\n",
    "\n",
    "pre_grafo.head()"
   ]
  },
  {
   "cell_type": "markdown",
   "metadata": {
    "slideshow": {
     "slide_type": "subslide"
    }
   },
   "source": [
    "The Pandas DataFrame should contain at least two columns of node names and zero or more columns of edge attributes. **Each row will be processed as one edge instance**."
   ]
  },
  {
   "cell_type": "code",
   "execution_count": 94,
   "metadata": {
    "slideshow": {
     "slide_type": "fragment"
    }
   },
   "outputs": [],
   "source": [
    "estaciones = nx.convert_matrix.from_pandas_edgelist(\n",
    "    pre_grafo,\n",
    "    source='bici_nombre_estacion_origen',\n",
    "    target='bici_nombre_estacion_destino',\n",
    "    edge_attr='minutos_viaje'\n",
    ")"
   ]
  },
  {
   "cell_type": "code",
   "execution_count": 95,
   "metadata": {
    "slideshow": {
     "slide_type": "fragment"
    }
   },
   "outputs": [
    {
     "data": {
      "image/png": "[encoded data removed]",
      "text/plain": [
       "<Figure size 432x288 with 1 Axes>"
      ]
     },
     "metadata": {},
     "output_type": "display_data"
    }
   ],
   "source": [
    "nx.draw(estaciones)"
   ]
  },
  {
   "cell_type": "markdown",
   "metadata": {
    "slideshow": {
     "slide_type": "slide"
    }
   },
   "source": [
    "## Práctica\n",
    "\n",
    "### Dataset\n",
    "\n",
    "https://data.buenosaires.gob.ar/dataset/bicicletas-publicas"
   ]
  },
  {
   "cell_type": "markdown",
   "metadata": {
    "slideshow": {
     "slide_type": "subslide"
    }
   },
   "source": [
    "### Ideas\n",
    "\n",
    "* https://medium.com/@fcatalano/bicisendas-en-buenos-aires-a29f62bc9e7c — \"La red de bicicletas fue diagramada como un **grafo dirigido**. Esto, porque nos interesaba representar los recorridos realizados respetando el sentido de los viajes.\"\n",
    "\n",
    "  * Análisis exploratorio del dataset\n",
    "  * Análsis de *in-degree* y *out-degree*"
   ]
  },
  {
   "cell_type": "markdown",
   "metadata": {
    "slideshow": {
     "slide_type": "fragment"
    }
   },
   "source": [
    "* https://towardsdatascience.com/buenos-aires-bicycle-lanes-ii-1a40b13ccc25 — \"\\[...\\] we built a graph **where two users shared a link if and only if at least one of them had taken a bicycle at approximately the same time from the same station, and returned them together** (also to the same station).\"\n",
    "\n",
    "  * Distribución grados\n",
    "  * Análisis exploratorio del grafo"
   ]
  },
  {
   "cell_type": "markdown",
   "metadata": {
    "slideshow": {
     "slide_type": "fragment"
    }
   },
   "source": [
    "* https://medium.com/@martinpalazzo/buenos-aires-bicycle-lanes-iii-d0ca4539e767 — \"The first step to understand the communities of stations is to build a network where each node is a station and **each edge between station is the quantity of bicycle journeys**.\"\n",
    "\n",
    "  * Modularidad\n",
    "  * Clustering espectral"
   ]
  }
 ],
 "metadata": {
  "celltoolbar": "Slideshow",
  "kernelspec": {
   "display_name": "Python 3",
   "language": "python",
   "name": "python3"
  },
  "language_info": {
   "codemirror_mode": {
    "name": "ipython",
    "version": 3
   },
   "file_extension": ".py",
   "mimetype": "text/x-python",
   "name": "python",
   "nbconvert_exporter": "python",
   "pygments_lexer": "ipython3",
   "version": "3.7.3"
  }
 },
 "nbformat": 4,
 "nbformat_minor": 2
}
