{
 "cells": [
  {
   "cell_type": "markdown",
   "metadata": {},
   "source": [
    "# PRACTICA GUIADA: Topic Modeling con Latent Semantic Analysis (LSA)"
   ]
  },
  {
   "cell_type": "markdown",
   "metadata": {},
   "source": [
    "El análisis semántico latente (LSA) es una técnica en el procesamiento del lenguaje natural para analizar las relaciones entre un conjunto de documentos y los términos que contienen mediante la producción de un conjunto de conceptos relacionados con los documentos y términos. \n",
    "\n",
    "LSA asume que las palabras que tienen un significado cercano ocurrirán en piezas de texto similares. \n",
    "\n",
    "Se construye una matriz que contiene recuentos de palabras por párrafo/documento (las filas representan palabras únicas y las columnas representan cada párrafo/documento) a partir de un texto o un conjutno de documentos y se utiliza descomposición de valor singular (SVD) para reducir el número de filas mientras se preserva la estructura de similitud entre columnas.\n",
    "\n",
    "Los párrafos/documentos se comparan tomando el coseno del ángulo entre los dos vectores (o el producto escalar entre las normalizaciones de los dos vectores) formado por dos columnas cualesquiera. Los valores cercanos a 1 representan párrafos muy similares, mientras que los valores cercanos a 0 representan párrafos muy diferentes."
   ]
  },
  {
   "cell_type": "code",
   "execution_count": 1,
   "metadata": {},
   "outputs": [],
   "source": [
    "import numpy as np\n",
    "import matplotlib.pyplot as plt\n",
    "import matplotlib.patches as mpatches"
   ]
  },
  {
   "cell_type": "markdown",
   "metadata": {},
   "source": [
    "## Toy dataset"
   ]
  },
  {
   "cell_type": "code",
   "execution_count": 2,
   "metadata": {},
   "outputs": [],
   "source": [
    "t1 = \"el potro y el angel llegaron al cine por casualidad\" # En minúsculas, sin tildes, etc.\n",
    "t2 = \"el angel, el tanque del cine nacional, un paso más cerca del oscar\"\n",
    "t3 = \"final del mes del cine nacional: 'el angel', la unica cinta 'millonaria'\"\n",
    "t4 = \"juan martin del potro volvió a tandil: se dio el ultimo baño de masas con los suyos.\"\n",
    "t5 = \"juan martin del potro fue recibido por una multitud en tandil.\""
   ]
  },
  {
   "cell_type": "code",
   "execution_count": 3,
   "metadata": {},
   "outputs": [],
   "source": [
    "textos = [t1, t2, t3, t4, t5]\n",
    "terminos = [\"juan martin\", \"potro\", \"tandil\", \"multitud\",\n",
    "            \"masas\", \"suyos\", \"angel\", \"el angel\", \"cine\", \"oscar\"] # ¿Cómo eligirían estos terminos?"
   ]
  },
  {
   "cell_type": "markdown",
   "metadata": {},
   "source": [
    "Bag of words Model:\n",
    "\n",
    "En este modelo, un texto (una oración o un documento) se representa como una \"bolsa\" (multiset) de las palabras que lo componen, sin tener en cuenta la gramática y el orden pero conservando la multiplicidad (frecuencia).\n",
    "\n",
    "Este modelo se usa habitualmente en clasificación de documentos donde la frecuencia de ocurrencia de cada palabra sirve como feature para el entrenamiento del clasificador."
   ]
  },
  {
   "cell_type": "code",
   "execution_count": 4,
   "metadata": {},
   "outputs": [
    {
     "name": "stdout",
     "output_type": "stream",
     "text": [
      "[[0. 1. 0. 0. 0. 0. 1. 1. 1. 0.]\n",
      " [0. 0. 0. 0. 0. 0. 1. 1. 1. 1.]\n",
      " [0. 0. 0. 0. 0. 0. 1. 1. 1. 0.]\n",
      " [1. 1. 1. 0. 1. 1. 0. 0. 0. 0.]\n",
      " [1. 1. 1. 1. 0. 0. 0. 0. 0. 0.]]\n"
     ]
    }
   ],
   "source": [
    "A = np.zeros([len(textos),len(terminos)])\n",
    "# Llenamos la matriz A, nuestra Bag of Words\n",
    "for i in range(len(textos)):\n",
    "    for j in range(len(terminos)):\n",
    "        if terminos[j] in textos[i]:\n",
    "            A[i, j] = 1\n",
    "print(A)"
   ]
  },
  {
   "cell_type": "markdown",
   "metadata": {},
   "source": [
    "## SVD\n",
    "\n",
    "$A_{nxp}= U_{nxn} S_{nxp} V^T_{pxp} $\n",
    "\n",
    "Donde\n",
    "\n",
    "$ U^TU = I_{nxn} $\n",
    "\n",
    "$ V^TV = I_{pxp} $ \n",
    "\n",
    "(es decir U and V son ortogonales)\n",
    "\n",
    "Una matriz ortogonal es una matriz cuadrada cuya matriz inversa coincide con su matriz traspuesta. \n"
   ]
  },
  {
   "cell_type": "code",
   "execution_count": 5,
   "metadata": {},
   "outputs": [],
   "source": [
    "# Hacemos SVD (singular value decomposition)\n",
    "U, s, V = np.linalg.svd(A)\n",
    "S = np.diag(s)\n",
    "U = np.matrix(U)\n",
    "#print(s)\n",
    "#print(np.diag(s))\n",
    "#print(U)\n",
    "#print(np.matrix(U))"
   ]
  },
  {
   "cell_type": "code",
   "execution_count": 7,
   "metadata": {},
   "outputs": [
    {
     "data": {
      "text/plain": [
       "(5, 5)"
      ]
     },
     "execution_count": 7,
     "metadata": {},
     "output_type": "execute_result"
    }
   ],
   "source": [
    "# Matriz docs a tópicos\n",
    "\n",
    "U.shape"
   ]
  },
  {
   "cell_type": "code",
   "execution_count": 8,
   "metadata": {},
   "outputs": [
    {
     "data": {
      "text/plain": [
       "array([3.16179328, 2.72462342, 1.2124133 , 0.92251276, 0.50844337])"
      ]
     },
     "execution_count": 8,
     "metadata": {},
     "output_type": "execute_result"
    }
   ],
   "source": [
    "# Array de valores singulares\n",
    "\n",
    "s"
   ]
  },
  {
   "cell_type": "code",
   "execution_count": 8,
   "metadata": {},
   "outputs": [
    {
     "data": {
      "text/plain": [
       "(10, 10)"
      ]
     },
     "execution_count": 8,
     "metadata": {},
     "output_type": "execute_result"
    }
   ],
   "source": [
    "# Matriz de palabras a tópicos\n",
    "\n",
    "V.shape"
   ]
  },
  {
   "cell_type": "code",
   "execution_count": 9,
   "metadata": {},
   "outputs": [],
   "source": [
    "# Reducimos la dimensión\n",
    "dim = 2\n",
    "reduced_singular = S[0:dim,]\n",
    "#print(S)\n",
    "#print(reduced_singulars)\n",
    "\n",
    "P = U * np.transpose(reduced_singular)\n",
    "#print(U)\n",
    "#print(P)"
   ]
  },
  {
   "cell_type": "code",
   "execution_count": 10,
   "metadata": {},
   "outputs": [
    {
     "data": {
      "text/plain": [
       "matrix([[-1.88010955,  0.21077586],\n",
       "        [-1.71073085,  0.76396588],\n",
       "        [-1.53960535,  0.66105507],\n",
       "        [-0.80678116, -1.92669917],\n",
       "        [-0.71710829, -1.62675719]])"
      ]
     },
     "execution_count": 10,
     "metadata": {},
     "output_type": "execute_result"
    }
   ],
   "source": [
    "P"
   ]
  },
  {
   "cell_type": "code",
   "execution_count": 11,
   "metadata": {},
   "outputs": [
    {
     "data": {
      "image/png": "[encoded data removed]",
      "text/plain": [
       "<Figure size 432x288 with 1 Axes>"
      ]
     },
     "metadata": {
      "needs_background": "light"
     },
     "output_type": "display_data"
    }
   ],
   "source": [
    "# Gráfico\n",
    "color = ['m', 'g', 'r', 'c', 'b']\n",
    "plt.figure()\n",
    "patches = []\n",
    "\n",
    "for i, texto in enumerate(textos):\n",
    "    plt.plot(P[i, 0], P[i, 1], color[i] + \"o\")\n",
    "    patches.append(mpatches.Patch(color = color[i], label = 't' + str(i + 1)))\n",
    "\n",
    "plt.legend(handles=patches)\n",
    "plt.xlabel('Dimensión 1')\n",
    "plt.ylabel('Dimensión 2')\n",
    "plt.axis([-4, 4, -4, 4])\n",
    "plt.show()"
   ]
  },
  {
   "cell_type": "code",
   "execution_count": 12,
   "metadata": {},
   "outputs": [
    {
     "data": {
      "image/png": "[encoded data removed]",
      "text/plain": [
       "<Figure size 432x288 with 1 Axes>"
      ]
     },
     "metadata": {
      "needs_background": "light"
     },
     "output_type": "display_data"
    }
   ],
   "source": [
    "# Gráfico + clustering\n",
    "color = ['b' if p[0, 0] >-1 else 'r' for p in P] \n",
    "plt.figure()\n",
    "\n",
    "patches = []\n",
    "\n",
    "for i, texto in enumerate(textos):\n",
    "    plt.plot(P[i, 0], P[i, 1], color[i] + \"o\")\n",
    "    patches.append(mpatches.Patch(color = color[i], label='t' + str(i + 1)))\n",
    "\n",
    "plt.legend(handles=patches)\n",
    "plt.xlabel('Dimensión 1')\n",
    "plt.ylabel('Dimensión 2')\n",
    "plt.axis([-4, 4, -4, 4])\n",
    "plt.show()"
   ]
  },
  {
   "cell_type": "markdown",
   "metadata": {},
   "source": [
    "## 20newsgroups"
   ]
  },
  {
   "cell_type": "code",
   "execution_count": 13,
   "metadata": {},
   "outputs": [],
   "source": [
    "# Importamos librerías\n",
    "from sklearn.datasets import fetch_20newsgroups\n",
    "from sklearn.feature_extraction.text import TfidfVectorizer\n",
    "from sklearn.decomposition import TruncatedSVD\n",
    "from sklearn.preprocessing import Normalizer\n",
    "from sklearn.pipeline import make_pipeline"
   ]
  },
  {
   "cell_type": "code",
   "execution_count": 14,
   "metadata": {},
   "outputs": [
    {
     "name": "stdout",
     "output_type": "stream",
     "text": [
      "Cargando categorías:\n",
      "['talk.religion.misc', 'comp.graphics', 'sci.space']\n",
      "2588 documentos\n",
      "3 categorías\n",
      "\n"
     ]
    }
   ],
   "source": [
    "# Cargamos las categorías\n",
    "categories = ['talk.religion.misc',\n",
    "              'comp.graphics',\n",
    "              'sci.space']\n",
    "\n",
    "print(\"Cargando categorías:\")\n",
    "print(categories)\n",
    "\n",
    "dataset = fetch_20newsgroups(subset='all', categories=categories,\n",
    "                             shuffle=True, random_state=42)\n",
    "\n",
    "print(\"%d documentos\" % len(dataset.data))\n",
    "print(\"%d categorías\" % len(dataset.target_names))\n",
    "print()\n",
    "\n",
    "labels = dataset.target\n",
    "true_k = np.unique(labels).shape[0] # Cantidad de labels que tenemos"
   ]
  },
  {
   "cell_type": "code",
   "execution_count": 15,
   "metadata": {},
   "outputs": [
    {
     "name": "stdout",
     "output_type": "stream",
     "text": [
      "n_samples: 2588, n_features: 10000\n"
     ]
    }
   ],
   "source": [
    "# Vectorizamos el texto con TfidfVectorizer\n",
    "vectorizer = TfidfVectorizer(max_df=0.5, max_features=10000,\n",
    "                             min_df=2, stop_words='english',\n",
    "                             use_idf=True)\n",
    "\n",
    "X = vectorizer.fit_transform(dataset.data)\n",
    "\n",
    "print(\"n_samples: %d, n_features: %d\" % X.shape)"
   ]
  },
  {
   "cell_type": "markdown",
   "metadata": {},
   "source": [
    "TruncatedSVD\n",
    "\n",
    "https://scikit-learn.org/stable/modules/generated/sklearn.decomposition.TruncatedSVD.html\n",
    "\n",
    "Dimensionality reduction using truncated SVD (aka LSA).\n",
    "\n",
    "This transformer performs linear dimensionality reduction by means of truncated singular value decomposition (SVD). Contrary to PCA, this estimator does not center the data before computing the singular value decomposition. This means it can work with scipy.sparse matrices efficiently.\n",
    "\n",
    "In particular, truncated SVD works on term count/tf-idf matrices as returned by the vectorizers in sklearn.feature_extraction.text. In that context, it is known as latent semantic analysis (LSA)."
   ]
  },
  {
   "cell_type": "code",
   "execution_count": 16,
   "metadata": {},
   "outputs": [],
   "source": [
    "# Armamos el pipeline porque el TruncatedSVD no devuelve los datos normalizados\n",
    "# (va a ser importante normalizar para la etapa posterior)\n",
    "svd = TruncatedSVD(100,random_state = 1) \n",
    "normalizer = Normalizer(copy=False)\n",
    "lsa = make_pipeline(svd, normalizer)\n",
    "X = lsa.fit_transform(X)"
   ]
  },
  {
   "cell_type": "code",
   "execution_count": 17,
   "metadata": {},
   "outputs": [
    {
     "data": {
      "text/plain": [
       "(2588, 100)"
      ]
     },
     "execution_count": 17,
     "metadata": {},
     "output_type": "execute_result"
    }
   ],
   "source": [
    "X.shape"
   ]
  },
  {
   "cell_type": "code",
   "execution_count": 18,
   "metadata": {},
   "outputs": [
    {
     "data": {
      "image/png": "[encoded data removed]",
      "text/plain": [
       "<Figure size 432x288 with 1 Axes>"
      ]
     },
     "metadata": {
      "needs_background": "light"
     },
     "output_type": "display_data"
    }
   ],
   "source": [
    "# Visualizamos la reducción de dimensiones\n",
    "plt.figure()\n",
    "plt.scatter(X[:, 0], X[:, 1], c=labels)\n",
    "plt.xlabel('Dimensión 1')\n",
    "plt.ylabel('Dimensión 2')\n",
    "plt.axis([0, 0.75, -0.6, 0.8])\n",
    "plt.show()"
   ]
  },
  {
   "cell_type": "code",
   "execution_count": 19,
   "metadata": {},
   "outputs": [
    {
     "data": {
      "text/plain": [
       "KMeans(algorithm='auto', copy_x=True, init='k-means++', max_iter=100,\n",
       "       n_clusters=3, n_init=10, n_jobs=None, precompute_distances='auto',\n",
       "       random_state=1, tol=0.0001, verbose=0)"
      ]
     },
     "execution_count": 19,
     "metadata": {},
     "output_type": "execute_result"
    }
   ],
   "source": [
    "# Clusterizamos con KMeans\n",
    "from sklearn.cluster import KMeans\n",
    "km = KMeans(n_clusters=true_k, max_iter=100, n_init=10, random_state = 1)\n",
    "km.fit(X)"
   ]
  },
  {
   "cell_type": "code",
   "execution_count": 20,
   "metadata": {},
   "outputs": [
    {
     "name": "stdout",
     "output_type": "stream",
     "text": [
      "Ranking de términos por tópico:\n",
      "Tópico  0: god com jesus christian people sandvik don bible article koresh\n",
      "Tópico  1: graphics university thanks image com files help 3d computer posting\n",
      "Tópico  2: space nasa access henry com digex gov pat toronto shuttle\n"
     ]
    }
   ],
   "source": [
    "# Los centroides están mapeados en el espacio de dimensiones reducidas\n",
    "# Hacemos la transformación inversa para ver el peso de los features originales (10000 dim)\n",
    "original_space_centroids = svd.inverse_transform(km.cluster_centers_)\n",
    "\n",
    "# La función argsort nos da los índices ordenados\n",
    "order_centroids = original_space_centroids.argsort()[:, ::-1]\n",
    "\n",
    "# Imprimimos los términos más \"pesados\" (frecuentes) para cada categoría\n",
    "# Con los índices ordenados, llamamos a la descripción de las palabras que construyó el Vectorizer()\n",
    "terms = vectorizer.get_feature_names()\n",
    "\n",
    "print(\"Ranking de términos por tópico:\")\n",
    "\n",
    "for i in range(true_k):\n",
    "    print(\"Tópico  %d:\" % i, end='')\n",
    "    for ind in order_centroids[i, :10]:\n",
    "        print(' %s' % terms[ind], end='')\n",
    "    print()\n",
    "\n",
    "# Nos quedamos con los 10 índices ordenados más importantes en cada tópico\n",
    "# Los tópicos parecen tener sentido: Tópico 0(religion), Tópico 1(gráficos) y Tópico 2(espacio)"
   ]
  },
  {
   "cell_type": "code",
   "execution_count": null,
   "metadata": {},
   "outputs": [],
   "source": []
  }
 ],
 "metadata": {
  "kernelspec": {
   "display_name": "Python 3",
   "language": "python",
   "name": "python3"
  },
  "language_info": {
   "codemirror_mode": {
    "name": "ipython",
    "version": 3
   },
   "file_extension": ".py",
   "mimetype": "text/x-python",
   "name": "python",
   "nbconvert_exporter": "python",
   "pygments_lexer": "ipython3",
   "version": "3.6.6"
  }
 },
 "nbformat": 4,
 "nbformat_minor": 2
}
