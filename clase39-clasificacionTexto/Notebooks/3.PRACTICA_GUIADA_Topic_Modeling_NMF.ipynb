{
 "cells": [
  {
   "cell_type": "markdown",
   "metadata": {},
   "source": [
    "# PRACTICA GUIADA: Topic Modeling con Non-Negative Matrix Factorization (NMF)"
   ]
  },
  {
   "cell_type": "markdown",
   "metadata": {},
   "source": [
    "Es un grupo de algoritmos en análisis multivariado y álgebra lineal donde una matriz V se factoriza en (generalmente) dos matrices W y H, con la propiedad de que las tres matrices no tienen elementos negativos. \n",
    "\n",
    "Dado que el problema no es exactamente solucionable en general, comúnmente se aproxima numéricamente."
   ]
  },
  {
   "cell_type": "code",
   "execution_count": 1,
   "metadata": {},
   "outputs": [],
   "source": [
    "import ast\n",
    "import numpy as np\n",
    "from sklearn.decomposition import NMF"
   ]
  },
  {
   "cell_type": "code",
   "execution_count": 2,
   "metadata": {},
   "outputs": [],
   "source": [
    "# Carga de datos\n",
    "fp = open('../Data/todasLasNoticias2008.txt','r')\n",
    "data = fp.read()\n",
    "fp.close()"
   ]
  },
  {
   "cell_type": "code",
   "execution_count": 3,
   "metadata": {},
   "outputs": [
    {
     "data": {
      "text/plain": [
       "str"
      ]
     },
     "execution_count": 3,
     "metadata": {},
     "output_type": "execute_result"
    }
   ],
   "source": [
    "type(data)"
   ]
  },
  {
   "cell_type": "code",
   "execution_count": 4,
   "metadata": {},
   "outputs": [
    {
     "name": "stdout",
     "output_type": "stream",
     "text": [
      "Cantidad de notas: 5808\n"
     ]
    }
   ],
   "source": [
    "# https://docs.python.org/3/library/ast.html\n",
    "notes = ast.literal_eval(data)\n",
    "\n",
    "# Imprime cantidad de notas \n",
    "print('Cantidad de notas:',len(notes))"
   ]
  },
  {
   "cell_type": "code",
   "execution_count": 5,
   "metadata": {},
   "outputs": [
    {
     "data": {
      "text/plain": [
       "list"
      ]
     },
     "execution_count": 5,
     "metadata": {},
     "output_type": "execute_result"
    }
   ],
   "source": [
    "type(notes)"
   ]
  },
  {
   "cell_type": "code",
   "execution_count": 6,
   "metadata": {},
   "outputs": [
    {
     "data": {
      "text/plain": [
       "{'url': 'https://www.nytimes.com/2008/09/04/nyregion/04schley.html',\n",
       " 'text': ['To the Editor:',\n",
       "  'Re “Bush Says McCain Is Choice to Lead in Time of Danger” (front page, Sept. 3):',\n",
       "  'Seeing President Bush (at a safe distance) and Senator Joseph I. Lieberman speaking to the Republican convention dispels any doubt that Senator John McCain, the prospective nominee for president on the Republican ticket, is running for President Bush’s third term.',\n",
       "  'Katrina, the economy, windfall profits for the oil industry as gas prices spiral out of control and eavesdropping on Americans — but it is the war in Iraq that is Mr. Bush’s albatross and everlasting legacy, which Mr. McCain supports at our peril and which the electorate will be voting on in November.',\n",
       "  'Morris Roth',\n",
       "  'Fort Lee, N.J., Sept. 3, 2008',\n",
       "  '\\x95',\n",
       "  'To the Editor:',\n",
       "  'Yes, we live in dangerous times, but the person we need to lead the country at such times is one who knows his geography and understands the complexities of the world, one who listens and explores all possibilities before jumping to war.',\n",
       "  'President Bush’s advice to always “stay on the offense” does not keep our country safe; it increases fear at home and anger abroad. The person we need is one who can decrease the tension, one who is willing to talk with those who disagree with our policies, and one who can raise our stature in the world so that we once again enjoy respect for the power of our morals, not the power of weapons. Carol Delaney',\n",
       "  'Providence, R.I., Sept. 3, 2008',\n",
       "  '\\x95',\n",
       "  'To the Editor:',\n",
       "  'In his farewell speech to the Republican convention made at the comfortable distance (for everyone) from his White House office, President Bush once again fell back on the Republicans’ tried and true mantra: Be afraid, be very afraid.',\n",
       "  'He reminded the audience of the “dangerous world” in which we live, saying we must stay on the offensive and understand the lessons of Sept. 11. Never mind that the Bush administration continues to pour (divert) billions of dollars each month into Iraq while our school system is in financial straits; our roads and bridges are crumbling; health care is out of reach for many Americans, not to mention the energy crisis or simply having a home to live in.',\n",
       "  'What this country should fear most is becoming a second-rate nation and losing the respect of the rest of the world. Our next president must address these real issues head-on and stop the hemorrhaging of our nation’s resources and taxpayer money overseas.',\n",
       "  'Jim Anderson',\n",
       "  'Beverly Hills, Calif., Sept. 3, 2008',\n",
       "  '\\x95',\n",
       "  'To the Editor:',\n",
       "  'Re “Palin Start: Politics Not as Usual” (front page, Sept. 3), about Sarah Palin’s tenure as mayor of Wasilla, Alaska:',\n",
       "  'Actually, stumbles in early office (or last week, for that matter) aside, it’s refreshing to know that Sarah Palin has actually run something in an executive capacity.',\n",
       "  'That is far more comforting than the Democrats’ top of the ticket, Barack Obama, who has never served in an executive capacity, spent his first election methodically working on disqualifying potential primary opponents (unlike Ms. Palin, who beat opponents on “wedge issues”), and spent his years in office preening, posturing and embellishing his life story.',\n",
       "  'I sure know which outstanding basketball player I’d rely upon in a local, national or international political crisis.',\n",
       "  'Kip Dellinger',\n",
       "  'West Los Angeles, Sept. 3, 2008',\n",
       "  '\\x95',\n",
       "  'To the Editor:',\n",
       "  'I would normally agree with your statement, “The fact that Ms. Palin’s 17-year-old daughter is pregnant is irrelevant to her candidacy” (“Candidate McCain’s Big Decision,” editorial, Sept. 3). Indeed, it ',\n",
       "  'be irrelevant. In this case, however, Sarah Palin is running under the flag of “family values.”',\n",
       "  'What little we have in the way of a public record gives strong indication that she would use her high government office as a base from which to impose her views of morality and religion on her fellow citizens.',\n",
       "  'Reports indicate that as mayor of Wasilla, Alaska, Ms. Palin considered the idea of banning certain books from the public library on moral grounds (“Palin Start: Politics Not as Usual,” front page, Sept. 3). Since Ms. Palin would have government intervene in the private morality of Americans, her personal morality and her practice of “family values” are very much relevant to the decision that the voters will need to make in November.  Sol Glasner',\n",
       "  'Chevy Chase, Md., Sept. 3, 2008',\n",
       "  'To the Editor:',\n",
       "  'America is facing one of its most important presidential elections ever (“Life of Her Party,” by Maureen Dowd, column, Sept. 3). John McCain’s selection of Gov. Sarah Palin of Alaska as his running mate has turned his campaign into a tear-jerking soap opera. He realized that he needed to do something to add some excitement to his dull, unexciting campaign, so he picked Ms. Palin.',\n",
       "  'Did Mr. McCain put the country first by selecting someone so unqualified to be president? In pandering to the religious right, he shows that he is not his own man, the person he was in the 2000 presidential campaign. John McCain’s judgment is declining; he is no longer a maverick.  Paul L. Whiteley Sr.',\n",
       "  'Louisville, Ky., Sept. 3, 2008',\n",
       "  '\\x95',\n",
       "  'To the Editor:',\n",
       "  'Garry Wills’s Sept. 3 Op-Ed article, “McCain’s McGovern Moment,” mistreats Senator George McGovern, whose error in 1972 was more understandable than Senator John McCain’s so far appears to be.',\n",
       "  'A last-minute vice-presidential pick at a contested convention was still the norm in 1972, but the McCain campaign had the good fortune of several months to vet prospects.',\n",
       "  'Thomas Eagleton was a senator and a national figure, recommended to Mr. McGovern by several fellow senators; Gov. Sarah Palin of Alaska was little known outside her own state, and Republicans in Washington seemed to possess scant information about her before last Friday.',\n",
       "  'Mr. McGovern was unaware of one explosive secret about Mr. Eagleton; Mr. McCain appears not to have known many odd things that are still emerging in the press about Ms. Palin.',\n",
       "  'Bruce Miroff',\n",
       "  'Delmar, N.Y., Sept. 3, 2008',\n",
       "  '\\x95',\n",
       "  'To the Editor:',\n",
       "  'Re “What the Palin Pick Says” (column, Sept. 2):',\n",
       "  'Thanks to David Brooks for his description of the myriad complexities a president must confront, and for pointing out the possible shortcomings of Senator John McCain and Gov. Sarah Palin when it comes to dealing with complex problems.',\n",
       "  'But I disagree with his portrayal of Mr. McCain and Ms. Palin as tending to “lead life as a string of virtuous crusades.”',\n",
       "  'Better schools, universal health care, the right to a fair trial, the death penalty, and narrowing the gap between the rich and the poor are among the most crucial moral issues the country faces today, yet they have received scant attention from the Republican candidates.',\n",
       "  'At this stage of the campaign, it is Barack Obama, with his message of community service, inclusiveness and compassion, who seems best able to provide the moral leadership that the Bush administration, for all its religiosity, failed to provide.',\n",
       "  'Rachelle Marshall',\n",
       "  'Stanford, Calif., Sept. 2, 2008'],\n",
       " 'category': 'obama',\n",
       " 'date': ['2015-01-21T08:05:05-05:00'],\n",
       " 'title': ['From Bush to McCain: The Handoff']}"
      ]
     },
     "execution_count": 6,
     "metadata": {},
     "output_type": "execute_result"
    }
   ],
   "source": [
    "notes[0]"
   ]
  },
  {
   "cell_type": "code",
   "execution_count": 7,
   "metadata": {},
   "outputs": [],
   "source": [
    "# Agrego información del Medio en la nota (Innecesario por ahora)\n",
    "# y normalizo el texto\n",
    "for note in notes:\n",
    "\n",
    "    if 'foxnews' in note['url']:\n",
    "        note['media_name'] = 'Fox News'\n",
    "    elif 'nytimes' in note['url']:\n",
    "        note['media_name'] = 'NYTimes'\n",
    "    elif 'breitbart' in note['url']:\n",
    "        note['media_name'] = 'Breitbart'\n",
    "    else:\n",
    "        pass\n",
    "\n",
    "    note['text'] = ' '.join(note['text'])\n",
    "    note['title'] = ' '.join(note['title'])"
   ]
  },
  {
   "cell_type": "code",
   "execution_count": 8,
   "metadata": {},
   "outputs": [
    {
     "data": {
      "text/plain": [
       "{'url': 'https://www.nytimes.com/2008/09/04/nyregion/04schley.html',\n",
       " 'text': 'To the Editor: Re “Bush Says McCain Is Choice to Lead in Time of Danger” (front page, Sept. 3): Seeing President Bush (at a safe distance) and Senator Joseph I. Lieberman speaking to the Republican convention dispels any doubt that Senator John McCain, the prospective nominee for president on the Republican ticket, is running for President Bush’s third term. Katrina, the economy, windfall profits for the oil industry as gas prices spiral out of control and eavesdropping on Americans — but it is the war in Iraq that is Mr. Bush’s albatross and everlasting legacy, which Mr. McCain supports at our peril and which the electorate will be voting on in November. Morris Roth Fort Lee, N.J., Sept. 3, 2008 \\x95 To the Editor: Yes, we live in dangerous times, but the person we need to lead the country at such times is one who knows his geography and understands the complexities of the world, one who listens and explores all possibilities before jumping to war. President Bush’s advice to always “stay on the offense” does not keep our country safe; it increases fear at home and anger abroad. The person we need is one who can decrease the tension, one who is willing to talk with those who disagree with our policies, and one who can raise our stature in the world so that we once again enjoy respect for the power of our morals, not the power of weapons. Carol Delaney Providence, R.I., Sept. 3, 2008 \\x95 To the Editor: In his farewell speech to the Republican convention made at the comfortable distance (for everyone) from his White House office, President Bush once again fell back on the Republicans’ tried and true mantra: Be afraid, be very afraid. He reminded the audience of the “dangerous world” in which we live, saying we must stay on the offensive and understand the lessons of Sept. 11. Never mind that the Bush administration continues to pour (divert) billions of dollars each month into Iraq while our school system is in financial straits; our roads and bridges are crumbling; health care is out of reach for many Americans, not to mention the energy crisis or simply having a home to live in. What this country should fear most is becoming a second-rate nation and losing the respect of the rest of the world. Our next president must address these real issues head-on and stop the hemorrhaging of our nation’s resources and taxpayer money overseas. Jim Anderson Beverly Hills, Calif., Sept. 3, 2008 \\x95 To the Editor: Re “Palin Start: Politics Not as Usual” (front page, Sept. 3), about Sarah Palin’s tenure as mayor of Wasilla, Alaska: Actually, stumbles in early office (or last week, for that matter) aside, it’s refreshing to know that Sarah Palin has actually run something in an executive capacity. That is far more comforting than the Democrats’ top of the ticket, Barack Obama, who has never served in an executive capacity, spent his first election methodically working on disqualifying potential primary opponents (unlike Ms. Palin, who beat opponents on “wedge issues”), and spent his years in office preening, posturing and embellishing his life story. I sure know which outstanding basketball player I’d rely upon in a local, national or international political crisis. Kip Dellinger West Los Angeles, Sept. 3, 2008 \\x95 To the Editor: I would normally agree with your statement, “The fact that Ms. Palin’s 17-year-old daughter is pregnant is irrelevant to her candidacy” (“Candidate McCain’s Big Decision,” editorial, Sept. 3). Indeed, it  be irrelevant. In this case, however, Sarah Palin is running under the flag of “family values.” What little we have in the way of a public record gives strong indication that she would use her high government office as a base from which to impose her views of morality and religion on her fellow citizens. Reports indicate that as mayor of Wasilla, Alaska, Ms. Palin considered the idea of banning certain books from the public library on moral grounds (“Palin Start: Politics Not as Usual,” front page, Sept. 3). Since Ms. Palin would have government intervene in the private morality of Americans, her personal morality and her practice of “family values” are very much relevant to the decision that the voters will need to make in November.  Sol Glasner Chevy Chase, Md., Sept. 3, 2008 To the Editor: America is facing one of its most important presidential elections ever (“Life of Her Party,” by Maureen Dowd, column, Sept. 3). John McCain’s selection of Gov. Sarah Palin of Alaska as his running mate has turned his campaign into a tear-jerking soap opera. He realized that he needed to do something to add some excitement to his dull, unexciting campaign, so he picked Ms. Palin. Did Mr. McCain put the country first by selecting someone so unqualified to be president? In pandering to the religious right, he shows that he is not his own man, the person he was in the 2000 presidential campaign. John McCain’s judgment is declining; he is no longer a maverick.  Paul L. Whiteley Sr. Louisville, Ky., Sept. 3, 2008 \\x95 To the Editor: Garry Wills’s Sept. 3 Op-Ed article, “McCain’s McGovern Moment,” mistreats Senator George McGovern, whose error in 1972 was more understandable than Senator John McCain’s so far appears to be. A last-minute vice-presidential pick at a contested convention was still the norm in 1972, but the McCain campaign had the good fortune of several months to vet prospects. Thomas Eagleton was a senator and a national figure, recommended to Mr. McGovern by several fellow senators; Gov. Sarah Palin of Alaska was little known outside her own state, and Republicans in Washington seemed to possess scant information about her before last Friday. Mr. McGovern was unaware of one explosive secret about Mr. Eagleton; Mr. McCain appears not to have known many odd things that are still emerging in the press about Ms. Palin. Bruce Miroff Delmar, N.Y., Sept. 3, 2008 \\x95 To the Editor: Re “What the Palin Pick Says” (column, Sept. 2): Thanks to David Brooks for his description of the myriad complexities a president must confront, and for pointing out the possible shortcomings of Senator John McCain and Gov. Sarah Palin when it comes to dealing with complex problems. But I disagree with his portrayal of Mr. McCain and Ms. Palin as tending to “lead life as a string of virtuous crusades.” Better schools, universal health care, the right to a fair trial, the death penalty, and narrowing the gap between the rich and the poor are among the most crucial moral issues the country faces today, yet they have received scant attention from the Republican candidates. At this stage of the campaign, it is Barack Obama, with his message of community service, inclusiveness and compassion, who seems best able to provide the moral leadership that the Bush administration, for all its religiosity, failed to provide. Rachelle Marshall Stanford, Calif., Sept. 2, 2008',\n",
       " 'category': 'obama',\n",
       " 'date': ['2015-01-21T08:05:05-05:00'],\n",
       " 'title': 'From Bush to McCain: The Handoff',\n",
       " 'media_name': 'NYTimes'}"
      ]
     },
     "execution_count": 8,
     "metadata": {},
     "output_type": "execute_result"
    }
   ],
   "source": [
    "notes[0]"
   ]
  },
  {
   "cell_type": "code",
   "execution_count": 9,
   "metadata": {},
   "outputs": [],
   "source": [
    "# Preparo lista de textos a analizar\n",
    "texts = []\n",
    "for note in notes:\n",
    "    texts.append(' '.join([note['title'], note['text']]))"
   ]
  },
  {
   "cell_type": "code",
   "execution_count": 10,
   "metadata": {},
   "outputs": [],
   "source": [
    "# Análisis Tf-idf y NMF\n",
    "from sklearn.feature_extraction import text\n",
    "from sklearn.feature_extraction.text import CountVectorizer\n",
    "from sklearn.feature_extraction.text import TfidfTransformer"
   ]
  },
  {
   "cell_type": "code",
   "execution_count": 11,
   "metadata": {},
   "outputs": [],
   "source": [
    "stop_words_extra = [\"host\",\"play\",\"episode\",\"play\",\"series\",\"kelly\",\"returns\",\"husband\",\"access\",\"book\",\"kind\",\"asked\",\"page\",\n",
    "                    \"event\",\"twitter\",\"long\",\"point\",\"women\",\"men\",\"man\",\"woman\",\"30\",\"board\",\"chelsea\",\"street\",\"band\",\"swing\",\n",
    "                    \"45\",\"speeches\",\"wrote\",\"44\",\"staff\",\"speech\",\"things\",\"lot\",\"days\",\"according\",\"including\",\"need\",\"come\",\n",
    "                    \"does\",\"man\",\"monday\",\"great\",\"today\",\"big\",\"washington\",\"question\",\"left\",\"group\",\"politics\",\"change\",\"end\",\n",
    "                    \"little\",\"old\",\"better\",\"woman\",\"senate\",\"office\",\"won\",\"help\",\"let\",\"believe\",\"questions\",\"wednesday\",\n",
    "                    \"fact\",\"press\",\"issue\",\"early\",\"far\",\"real\",\"street\",\"talk\",\"use\",\"trying\",\"used\",\"home\",\"issues\",\"nominee\",\n",
    "                    \"donald\",\"republican\",\"et\",\"trumps\",\"hillary\",\"rally\",\"democratic\",\"dont\",\"ryan\",\"hes\",\"clintons\",\"fox\",\n",
    "                    \"hold\",\"thats\",\"im\",\"gop\",\"fox\",\"news\",\"000\",\"poll\",\"polls\",\"points\",\"johnson\",\"florida\",\"margin\",\"race\",\n",
    "                    \"voting\",\"votes\",\"lead\",\"stein\",\"likely\",\"carolina\",\"north\",\"error\",\"electoral\",\"margin\",\"polling\",\"ads\",\n",
    "                    \"october\",\"electorate\",\"utah\",\"august\",\"48\",\"mitt\",\"seats\",\"49\",\"recent\",\"district\",\"fraud\",\"2016\",\"et\",\n",
    "                    \"romney\",\"tuesday\",\"seven\",\"38\",\"director\",\"compared\",\"november\",\"weeks\",\"hillary\",\"clintons\",\"pollsters\",\n",
    "                    \"leaning\",\"september\",\"final\",\"hold\",\"rep\",\"new\",\"whites\",\"average\",\"270\",\"close\",\"map\",\"hes\",\"37\",\"ad\",\n",
    "                    \"senator\",\"competitive\",\"gov\",\"2008\",\"tied\",\"pollster\",\"36\",\"national\",\"polls\",\"voter\",\"registration\",\n",
    "                    \"partys\",\"chance\",\"50\",\"incumbent\",\"campaigns\",\"edge\",\"committee\",\"friday\",\"convention\",\"sept\",\"july\",\n",
    "                    \"georgia\",\"key\",\"breitbart\",\"seat\",\"data\",\"roughly\",\"cnn\",\"51\",\"challenger\",\"ticket\",\"favorable\",\"vs\",\n",
    "                    \"maine\",\"missouri\",\"trailing\",\"52\",\"battleground\",\"state\",\"13\",\"40\",\"indiana\",\"bernie\",\"31\",\"clintons\",\n",
    "                    \"anthony\",\"weiner\",\"don\",\"white\",\"york\",\"new\",\"york\",\"want\",\"americans\",\"world\",\"good\",\"saying\",\"times\",\n",
    "                    \"polls\",\"supporters\",\"look\",\"work\",\"00\",\"siriusxm\",\"125\",\"weekdays\",\"patriot\",\"125\",\"weekdays\",\"airs\",\n",
    "                    \"siriusxm\",\"airs\",\"eastern\",\"et\",\"thats\",\"continued\",\"added\",\"polls\",\"hes\",\"dont\",\"listen\",\"trumps\",\"hold\",\n",
    "                    \"breitbart\",\"news\",\"gop\",\"rally\",\"poll\",\"polling\",\"pointing\",\"points\",\"win\",\"shes\",\"im\",\"thing\",\"oh\",\n",
    "                    \"theres\",\"want\",\"class\",\"votes\",\"mr\",\"mr trump\",\"mrs\",\"mrs clinton\",\"percent\",\"voters\",\"obama\",\"party\",\n",
    "                    \"debate\",\"states\",\"think\",\"american\",\"vote\",\"going\",'trump','clinton',\"you\",\"know\",\"going\",\"to\",\"video\",\n",
    "                    \"clip\",\"williams\",\"mean\",\"you\",\"re\",\"ve\",\"yes\",\"got\",\"we\",\"re\",\"really\",\"this\",\"is\",\"letserver\",\"the\",\n",
    "                    \"clinton\",\"podesta\",\"debate\",\"ms\",\"republicans\",\"going\",\"to\",\"democrats\",\"media\",\"government\",\"million\",\n",
    "                    \"america\",\"candidates\",\"the\",\"united\",\"states\",\"says\",\"this\",\"is\",\"city\",\"pollstheater\",\"west\",\"sunday\",\n",
    "                    \"saturday\",\"brooklyn\",\"avenue\",\"city\",\"night\",\"the\",\"debate\",\"pence\",\"mike\",\"she\",\"said\",\"aug\",\"park\",\n",
    "                    \"music\",\"museum\",\"manhattanstreet\",\"city\",\"theater\",\"west\",\"government\",\"economic\",\"brooklyn\",\"the\",\"city\",\n",
    "                    \"mrs\",\"mr\",\"re\",\"pence\",\"debate\",\"kaine\",\"mr\",\"pence\",\"the\",\"debate\",\"mr\",\"kaine\",\"mike\",\"pence\",\"mike\",\n",
    "                    \"vice\",\"vice\",\"presidential\",\"plan\",\"debates\",\"policy\",\"running\",\"mate\"]\n",
    "\n",
    "stop_words = text.ENGLISH_STOP_WORDS.union(stop_words_extra)"
   ]
  },
  {
   "cell_type": "code",
   "execution_count": 12,
   "metadata": {},
   "outputs": [],
   "source": [
    "# Generamos los vectores de las notas\n",
    "count_vect = CountVectorizer(ngram_range = (1,3), max_df = 0.2, min_df = 0.01,stop_words=stop_words, lowercase=True)\n",
    "x_counts = count_vect.fit_transform(texts)"
   ]
  },
  {
   "cell_type": "code",
   "execution_count": 13,
   "metadata": {},
   "outputs": [],
   "source": [
    "# Generamos la matriz con valorización tf-idf\n",
    "tfidf_transformer = TfidfTransformer(norm = 'l2')\n",
    "x_tfidf = tfidf_transformer.fit_transform(x_counts)"
   ]
  },
  {
   "cell_type": "code",
   "execution_count": 14,
   "metadata": {},
   "outputs": [
    {
     "data": {
      "text/plain": [
       "(5808, 2413)"
      ]
     },
     "execution_count": 14,
     "metadata": {},
     "output_type": "execute_result"
    }
   ],
   "source": [
    "x_tfidf.shape"
   ]
  },
  {
   "cell_type": "code",
   "execution_count": 15,
   "metadata": {},
   "outputs": [],
   "source": [
    "# Imponemos el número de  tópicos\n",
    "dim = 6"
   ]
  },
  {
   "cell_type": "code",
   "execution_count": 16,
   "metadata": {},
   "outputs": [],
   "source": [
    "# Realizamos la descomposición NMF\n",
    "nmf = NMF(n_components = dim)\n",
    "nmf_array = nmf.fit_transform(x_tfidf)"
   ]
  },
  {
   "cell_type": "code",
   "execution_count": 17,
   "metadata": {},
   "outputs": [
    {
     "name": "stdout",
     "output_type": "stream",
     "text": [
      "Matriz de documentos por tópicos: (5808, 6)\n",
      "Matriz de tópicos por términos: (6, 2413)\n"
     ]
    }
   ],
   "source": [
    "# Chequeamos los shapes de las matrices resultantes\n",
    "print('Matriz de documentos por tópicos:', nmf_array.shape)\n",
    "print('Matriz de tópicos por términos:', nmf.components_.shape)"
   ]
  },
  {
   "cell_type": "code",
   "execution_count": 18,
   "metadata": {},
   "outputs": [],
   "source": [
    "# Labels de cada nota\n",
    "labels = [np.argmax(x) for x in nmf_array]"
   ]
  },
  {
   "cell_type": "code",
   "execution_count": 19,
   "metadata": {},
   "outputs": [],
   "source": [
    "# Componentes y nombre de los feautures\n",
    "components = [nmf.components_[i] for i in range(len(nmf.components_))]\n",
    "features = count_vect.get_feature_names()\n",
    "\n",
    "for j in range(len(components)):\n",
    "\n",
    "    comp = components[j]\n",
    "\n",
    "    prior_features = sorted(features, key = lambda x: comp[features.index(x)], reverse = True)\n",
    "\n",
    "    # Guardamos en archivos los features de cada componente ordenados por prioridad y \n",
    "    # las notas asociadas a cada tópico.\n",
    "    fp = open('NMFComponent{}.txt'.format(j), 'a')\n",
    "    for k in prior_features:\n",
    "        fp.write('{}, '.format(k))\n",
    "    fp.close()\n",
    "        \n",
    "    fp = open('NMFNotes{}.txt'.format(j),'a')\n",
    "    for k in range(len(labels)):\n",
    "        if labels[k] == j:\n",
    "            fp.write('{}, '.format(k))\n",
    "            \n",
    "    fp.close()"
   ]
  },
  {
   "cell_type": "code",
   "execution_count": null,
   "metadata": {},
   "outputs": [],
   "source": []
  }
 ],
 "metadata": {
  "kernelspec": {
   "display_name": "Python 3",
   "language": "python",
   "name": "python3"
  },
  "language_info": {
   "codemirror_mode": {
    "name": "ipython",
    "version": 3
   },
   "file_extension": ".py",
   "mimetype": "text/x-python",
   "name": "python",
   "nbconvert_exporter": "python",
   "pygments_lexer": "ipython3",
   "version": "3.6.7"
  }
 },
 "nbformat": 4,
 "nbformat_minor": 2
}
