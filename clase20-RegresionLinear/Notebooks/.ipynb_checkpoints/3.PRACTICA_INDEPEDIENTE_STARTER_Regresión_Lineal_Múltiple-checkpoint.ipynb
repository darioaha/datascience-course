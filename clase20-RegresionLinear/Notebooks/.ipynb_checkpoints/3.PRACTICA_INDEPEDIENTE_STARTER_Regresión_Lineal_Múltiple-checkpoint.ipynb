{
 "cells": [
  {
   "cell_type": "markdown",
   "metadata": {
    "colab_type": "text",
    "id": "HXCJlrSOyhgz"
   },
   "source": [
    "# PRACTICA INDEPEDIENTE "
   ]
  },
  {
   "cell_type": "code",
   "execution_count": 2,
   "metadata": {
    "colab": {},
    "colab_type": "code",
    "id": "EZjhGeiEEEv1"
   },
   "outputs": [],
   "source": [
    "# Leemos los datos y seteamos el datetime como índice.\n",
    "import numpy as np\n",
    "import pandas as pd\n",
    "\n",
    "bikes = pd.read_csv('../Data/bikeshare.csv', index_col='datetime', parse_dates=True)"
   ]
  },
  {
   "cell_type": "code",
   "execution_count": 18,
   "metadata": {},
   "outputs": [
    {
     "data": {
      "text/html": [
       "<div>\n",
       "<style scoped>\n",
       "    .dataframe tbody tr th:only-of-type {\n",
       "        vertical-align: middle;\n",
       "    }\n",
       "\n",
       "    .dataframe tbody tr th {\n",
       "        vertical-align: top;\n",
       "    }\n",
       "\n",
       "    .dataframe thead th {\n",
       "        text-align: right;\n",
       "    }\n",
       "</style>\n",
       "<table border=\"1\" class=\"dataframe\">\n",
       "  <thead>\n",
       "    <tr style=\"text-align: right;\">\n",
       "      <th></th>\n",
       "      <th>season</th>\n",
       "      <th>holiday</th>\n",
       "      <th>workingday</th>\n",
       "      <th>weather</th>\n",
       "      <th>temp</th>\n",
       "      <th>atemp</th>\n",
       "      <th>humidity</th>\n",
       "      <th>windspeed</th>\n",
       "      <th>casual</th>\n",
       "      <th>registered</th>\n",
       "      <th>total</th>\n",
       "    </tr>\n",
       "    <tr>\n",
       "      <th>datetime</th>\n",
       "      <th></th>\n",
       "      <th></th>\n",
       "      <th></th>\n",
       "      <th></th>\n",
       "      <th></th>\n",
       "      <th></th>\n",
       "      <th></th>\n",
       "      <th></th>\n",
       "      <th></th>\n",
       "      <th></th>\n",
       "      <th></th>\n",
       "    </tr>\n",
       "  </thead>\n",
       "  <tbody>\n",
       "    <tr>\n",
       "      <th>2012-06-14 04:00:00</th>\n",
       "      <td>2</td>\n",
       "      <td>0</td>\n",
       "      <td>1</td>\n",
       "      <td>2</td>\n",
       "      <td>24.6</td>\n",
       "      <td>31.06</td>\n",
       "      <td>56</td>\n",
       "      <td>16.9979</td>\n",
       "      <td>0</td>\n",
       "      <td>6</td>\n",
       "      <td>6</td>\n",
       "    </tr>\n",
       "  </tbody>\n",
       "</table>\n",
       "</div>"
      ],
      "text/plain": [
       "                     season  holiday  workingday  weather  temp  atemp  \\\n",
       "datetime                                                                 \n",
       "2012-06-14 04:00:00       2        0           1        2  24.6  31.06   \n",
       "\n",
       "                     humidity  windspeed  casual  registered  total  \n",
       "datetime                                                             \n",
       "2012-06-14 04:00:00        56    16.9979       0           6      6  "
      ]
     },
     "execution_count": 18,
     "metadata": {},
     "output_type": "execute_result"
    }
   ],
   "source": [
    "# Dado que \"count\" es un método de pandas, es conviente renombrar la columna:\n",
    "\n",
    "bikes.rename(columns={'count':'total'}, inplace=True)\n",
    "bikes.sample(1)"
   ]
  },
  {
   "cell_type": "code",
   "execution_count": 20,
   "metadata": {},
   "outputs": [
    {
     "data": {
      "text/plain": [
       "DatetimeIndex(['2011-01-01 00:00:00', '2011-01-01 01:00:00',\n",
       "               '2011-01-01 02:00:00', '2011-01-01 03:00:00',\n",
       "               '2011-01-01 04:00:00', '2011-01-01 05:00:00',\n",
       "               '2011-01-01 06:00:00', '2011-01-01 07:00:00',\n",
       "               '2011-01-01 08:00:00', '2011-01-01 09:00:00',\n",
       "               ...\n",
       "               '2012-12-19 14:00:00', '2012-12-19 15:00:00',\n",
       "               '2012-12-19 16:00:00', '2012-12-19 17:00:00',\n",
       "               '2012-12-19 18:00:00', '2012-12-19 19:00:00',\n",
       "               '2012-12-19 20:00:00', '2012-12-19 21:00:00',\n",
       "               '2012-12-19 22:00:00', '2012-12-19 23:00:00'],\n",
       "              dtype='datetime64[ns]', name='datetime', length=10886, freq=None)"
      ]
     },
     "execution_count": 20,
     "metadata": {},
     "output_type": "execute_result"
    }
   ],
   "source": [
    "bikes.index"
   ]
  },
  {
   "cell_type": "markdown",
   "metadata": {
    "colab_type": "text",
    "id": "RJVewrG7yhlY"
   },
   "source": [
    "##  Adicionales"
   ]
  },
  {
   "cell_type": "markdown",
   "metadata": {
    "colab_type": "text",
    "id": "TuzPr7CbyhlZ"
   },
   "source": [
    "### Ingeniería de features\n",
    "\n",
    "Vea si puede crear las siguientes features:\n",
    "\n",
    "- ** hora: ** como una sola feature numérica (de 0 a 23)\n",
    "- ** hora: ** como una feature categórica (use 23 variables dummy)\n",
    "- ** día: ** como una sola feature categórica (día = 1 de 7am a 8pm y día = 0 de lo contrario)\n"
   ]
  },
  {
   "cell_type": "code",
   "execution_count": 34,
   "metadata": {
    "colab": {},
    "colab_type": "code",
    "id": "ffWmH48Iyhla"
   },
   "outputs": [
    {
     "name": "stdout",
     "output_type": "stream",
     "text": [
      "Int64Index([ 0,  1,  2,  3,  4,  5,  6,  7,  8,  9,\n",
      "            ...\n",
      "            14, 15, 16, 17, 18, 19, 20, 21, 22, 23],\n",
      "           dtype='int64', name='datetime', length=10886)\n",
      "Int64Index([ 0,  1,  2,  3,  4,  5,  6,  7,  8,  9,\n",
      "            ...\n",
      "            14, 15, 16, 17, 18, 19, 20, 21, 22, 23],\n",
      "           dtype='int64', name='datetime', length=10886)\n",
      "Int64Index([ 0,  1,  2,  3,  4,  5,  6,  7,  8,  9,\n",
      "            ...\n",
      "            14, 15, 16, 17, 18, 19, 20, 21, 22, 23],\n",
      "           dtype='int64', name='datetime', length=10886)\n",
      "Int64Index([ 0,  1,  2,  3,  4,  5,  6,  7,  8,  9,\n",
      "            ...\n",
      "            14, 15, 16, 17, 18, 19, 20, 21, 22, 23],\n",
      "           dtype='int64', name='datetime', length=10886)\n",
      "Int64Index([ 0,  1,  2,  3,  4,  5,  6,  7,  8,  9,\n",
      "            ...\n",
      "            14, 15, 16, 17, 18, 19, 20, 21, 22, 23],\n",
      "           dtype='int64', name='datetime', length=10886)\n",
      "Int64Index([ 0,  1,  2,  3,  4,  5,  6,  7,  8,  9,\n",
      "            ...\n",
      "            14, 15, 16, 17, 18, 19, 20, 21, 22, 23],\n",
      "           dtype='int64', name='datetime', length=10886)\n",
      "Int64Index([ 0,  1,  2,  3,  4,  5,  6,  7,  8,  9,\n",
      "            ...\n",
      "            14, 15, 16, 17, 18, 19, 20, 21, 22, 23],\n",
      "           dtype='int64', name='datetime', length=10886)\n",
      "Int64Index([ 0,  1,  2,  3,  4,  5,  6,  7,  8,  9,\n",
      "            ...\n",
      "            14, 15, 16, 17, 18, 19, 20, 21, 22, 23],\n",
      "           dtype='int64', name='datetime', length=10886)\n",
      "Int64Index([ 0,  1,  2,  3,  4,  5,  6,  7,  8,  9,\n",
      "            ...\n",
      "            14, 15, 16, 17, 18, 19, 20, 21, 22, 23],\n",
      "           dtype='int64', name='datetime', length=10886)\n",
      "Int64Index([ 0,  1,  2,  3,  4,  5,  6,  7,  8,  9,\n",
      "            ...\n",
      "            14, 15, 16, 17, 18, 19, 20, 21, 22, 23],\n",
      "           dtype='int64', name='datetime', length=10886)\n",
      "Int64Index([ 0,  1,  2,  3,  4,  5,  6,  7,  8,  9,\n",
      "            ...\n",
      "            14, 15, 16, 17, 18, 19, 20, 21, 22, 23],\n",
      "           dtype='int64', name='datetime', length=10886)\n"
     ]
    },
    {
     "data": {
      "text/plain": [
       "season        None\n",
       "holiday       None\n",
       "workingday    None\n",
       "weather       None\n",
       "temp          None\n",
       "atemp         None\n",
       "humidity      None\n",
       "windspeed     None\n",
       "casual        None\n",
       "registered    None\n",
       "total         None\n",
       "dtype: object"
      ]
     },
     "execution_count": 34,
     "metadata": {},
     "output_type": "execute_result"
    }
   ],
   "source": [
    "# hora como variable numérica\n",
    "import datetime\n",
    "\n",
    "# >>> datetime.datetime.strptime('12/31/13 00:12', \"%m/%j/%y %H:%M\")\n",
    "\n",
    "def string_to_dt(row):\n",
    "    print(row.index.hour)\n",
    "#     return datetime.datetime.strptime(row.index, \"%Y-%m-%j %H:%M:%S\")\n",
    "    \n",
    "bikes.apply(string_to_dt)\n",
    "# def buscar_reemplazar_place_column(row,column_name,df_base):\n",
    "#     if row[column_name]:\n",
    "#         idx = df_base.index[df_base.nombre == row[column_name]]\n",
    "#         return int(idx.data[0])\n",
    "    \n",
    "    \n",
    "    \n",
    "# datetime_obj = datetime.datetime.strptime('2012-05-06 05:00:00', \"%Y-%m-%j %H:%M:%S\")\n",
    "\n",
    "# datetime.datetime.strptime('2012-05-06', \"%y-%m-%j %H:%M:%S\")"
   ]
  },
  {
   "cell_type": "code",
   "execution_count": null,
   "metadata": {
    "colab": {},
    "colab_type": "code",
    "id": "TDzXzmouyhlj"
   },
   "outputs": [],
   "source": [
    "# hora como categorica\n",
    "\n"
   ]
  },
  {
   "cell_type": "code",
   "execution_count": null,
   "metadata": {
    "colab": {},
    "colab_type": "code",
    "id": "3UR0uSuTyhlz"
   },
   "outputs": [],
   "source": [
    "# días como categórica\n"
   ]
  },
  {
   "cell_type": "markdown",
   "metadata": {},
   "source": [
    "##### A continuación, pruebe utilizar cada una de las tres features con `train_test_rmse` para ver cuál funciona mejor!"
   ]
  },
  {
   "cell_type": "code",
   "execution_count": null,
   "metadata": {},
   "outputs": [],
   "source": [
    "from sklearn.linear_model import LinearRegression\n",
    "from sklearn import metrics"
   ]
  },
  {
   "cell_type": "code",
   "execution_count": null,
   "metadata": {
    "colab": {},
    "colab_type": "code",
    "id": "Pc3WRoxpyhmL"
   },
   "outputs": [],
   "source": [
    "# Definimos una función que acepta una lista de features, hace el split entre train y test,\n",
    "# reservando un 25% de las observaciones para testeo, y devuelve la prueba RMSE.\n",
    "\n",
    "from sklearn.model_selection import train_test_split\n",
    "\n",
    "def train_test_rmse(feature_cols):\n",
    "    X = bikes[feature_cols]\n",
    "    y = bikes.total\n",
    "    # Como estamos trabajando con observaciones ordenadas en el tiempo, ponemos\n",
    "    # shuffle=False para evitar data leakage\n",
    "    X_train, X_test, y_train, y_test = train_test_split(X, y, shuffle=False)\n",
    "    linreg = LinearRegression()\n",
    "    linreg.fit(X_train, y_train)\n",
    "    y_pred = linreg.predict(X_test)\n",
    "    return np.sqrt(metrics.mean_squared_error(y_test, y_pred))"
   ]
  },
  {
   "cell_type": "code",
   "execution_count": null,
   "metadata": {
    "colab": {},
    "colab_type": "code",
    "id": "TokEMFf7yhmS"
   },
   "outputs": [],
   "source": []
  },
  {
   "cell_type": "code",
   "execution_count": null,
   "metadata": {
    "colab": {},
    "colab_type": "code",
    "id": "f6erPo-cyhmZ"
   },
   "outputs": [],
   "source": []
  },
  {
   "cell_type": "code",
   "execution_count": null,
   "metadata": {
    "colab": {},
    "colab_type": "code",
    "id": "lZkXfgr8yhme"
   },
   "outputs": [],
   "source": []
  },
  {
   "cell_type": "markdown",
   "metadata": {
    "colab_type": "text",
    "id": "WubYIZYByhmv"
   },
   "source": [
    "### Crear y comparar modelos con variables cuadráticas\n",
    "\n",
    "¿Con cuales variables probaría? "
   ]
  },
  {
   "cell_type": "code",
   "execution_count": null,
   "metadata": {
    "colab": {},
    "colab_type": "code",
    "id": "5tjMNJT1yhmx"
   },
   "outputs": [],
   "source": []
  },
  {
   "cell_type": "code",
   "execution_count": null,
   "metadata": {
    "colab": {},
    "colab_type": "code",
    "id": "NnpyNOpyyhm1"
   },
   "outputs": [],
   "source": []
  },
  {
   "cell_type": "code",
   "execution_count": null,
   "metadata": {
    "colab": {},
    "colab_type": "code",
    "id": "gfEToNIuyhm3"
   },
   "outputs": [],
   "source": []
  },
  {
   "cell_type": "code",
   "execution_count": null,
   "metadata": {},
   "outputs": [],
   "source": []
  }
 ],
 "metadata": {
  "colab": {
   "collapsed_sections": [],
   "name": "4.PRACTICA_INDEPEDIENTE_Regresión_Lineal_Múltiple.ipynb",
   "provenance": [],
   "version": "0.3.2"
  },
  "kernelspec": {
   "display_name": "Python 3",
   "language": "python",
   "name": "python3"
  },
  "language_info": {
   "codemirror_mode": {
    "name": "ipython",
    "version": 3
   },
   "file_extension": ".py",
   "mimetype": "text/x-python",
   "name": "python",
   "nbconvert_exporter": "python",
   "pygments_lexer": "ipython3",
   "version": "3.6.8"
  }
 },
 "nbformat": 4,
 "nbformat_minor": 1
}
