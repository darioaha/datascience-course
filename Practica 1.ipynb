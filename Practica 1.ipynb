{
 "cells": [
  {
   "cell_type": "code",
   "execution_count": 41,
   "metadata": {},
   "outputs": [
    {
     "name": "stdout",
     "output_type": "stream",
     "text": [
      "--------------------------\n",
      "--------------------------\n",
      "--------------------------\n"
     ]
    }
   ],
   "source": [
    "class Movie:\n",
    "    name = \"\"\n",
    "    imdb = \"\"\n",
    "    category = \"\"\n",
    "    def __init__(self,name,imdb,category):\n",
    "        self.name = name\n",
    "        self.imdb = imdb\n",
    "        self.category = category\n",
    "\n",
    "categories = (\"action\",\"sci-fi\")\n",
    "action,scifi = categories\n",
    "movie1 = Movie(\"Deadpool\",7,action)\n",
    "movie2 = Movie(\"Star Wars\",9,scifi)\n",
    "movie3 = Movie(\"X-Men\",8,scifi)\n",
    "movie4 = Movie(\"Rambo\",9,action)\n",
    "\n",
    "movies = []\n",
    "movies.append(movie1);\n",
    "movies.append(movie2);\n",
    "movies.insert(0,movie3);\n",
    "movies.append(movie4);\n",
    "\n",
    "#Esto no me salio\n",
    "list_movies = list(enumerate(movies))\n",
    "for mov in list_movies[0:3]:\n",
    "    tuple(mov)\n",
    "    print(\"--------------------------\")\n"
   ]
  },
  {
   "cell_type": "code",
   "execution_count": null,
   "metadata": {},
   "outputs": [],
   "source": []
  }
 ],
 "metadata": {
  "kernelspec": {
   "display_name": "Python 3",
   "language": "python",
   "name": "python3"
  },
  "language_info": {
   "codemirror_mode": {
    "name": "ipython",
    "version": 3
   },
   "file_extension": ".py",
   "mimetype": "text/x-python",
   "name": "python",
   "nbconvert_exporter": "python",
   "pygments_lexer": "ipython3",
   "version": "3.6.6"
  }
 },
 "nbformat": 4,
 "nbformat_minor": 2
}
