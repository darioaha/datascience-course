{
 "cells": [
  {
   "cell_type": "markdown",
   "metadata": {
    "colab_type": "text",
    "id": "BxkdWpkBtg_v"
   },
   "source": [
    "# Geopandas - Lab"
   ]
  },
  {
   "cell_type": "code",
   "execution_count": null,
   "metadata": {
    "colab": {},
    "colab_type": "code",
    "id": "7GLU1bHmtg_w"
   },
   "outputs": [],
   "source": [
    "%matplotlib inline\n",
    "\n",
    "import pandas as pd\n",
    "import geopandas\n",
    "import shapely.wkt\n",
    "from shapely.geometry import Point\n",
    "\n",
    "pd.options.display.max_rows = 10"
   ]
  },
  {
   "cell_type": "code",
   "execution_count": null,
   "metadata": {
    "colab": {},
    "colab_type": "code",
    "id": "9VMsVCw-tg_3"
   },
   "outputs": [],
   "source": [
    "import fiona\n",
    "import rtree"
   ]
  },
  {
   "cell_type": "markdown",
   "metadata": {
    "colab_type": "text",
    "id": "bBHcnf-Ytg_9"
   },
   "source": [
    "### Importamos los barrios"
   ]
  },
  {
   "cell_type": "code",
   "execution_count": null,
   "metadata": {
    "colab": {},
    "colab_type": "code",
    "id": "10OJhoTUtg_-"
   },
   "outputs": [],
   "source": [
    "barrios = pd.read_csv(\"barrios.csv\", encoding='latin1')"
   ]
  },
  {
   "cell_type": "code",
   "execution_count": null,
   "metadata": {
    "colab": {},
    "colab_type": "code",
    "id": "4TnuAZZuthAC",
    "outputId": "b628b772-27fa-40da-9284-15c102a1ca7c"
   },
   "outputs": [],
   "source": [
    "barrios.head()"
   ]
  },
  {
   "cell_type": "markdown",
   "metadata": {
    "colab_type": "text",
    "id": "NpFsw6i3thAM"
   },
   "source": [
    "### Importamos las comisarías"
   ]
  },
  {
   "cell_type": "code",
   "execution_count": null,
   "metadata": {
    "colab": {},
    "colab_type": "code",
    "id": "z1aUjhFYthAN"
   },
   "outputs": [],
   "source": [
    "comisarias = pd.read_csv(\"comisarias.csv\", encoding = \"latin1\")"
   ]
  },
  {
   "cell_type": "code",
   "execution_count": null,
   "metadata": {
    "colab": {},
    "colab_type": "code",
    "id": "sBXLzXn5thAS",
    "outputId": "c45cbc1c-888e-4fc6-e4c7-56ea486e8a74"
   },
   "outputs": [],
   "source": [
    "comisarias"
   ]
  },
  {
   "cell_type": "markdown",
   "metadata": {
    "colab_type": "text",
    "id": "z_t5DBoxthAY"
   },
   "source": [
    "### Creamos los objetos geográficos"
   ]
  },
  {
   "cell_type": "markdown",
   "metadata": {
    "colab_type": "text",
    "id": "2AuBU9N-thAZ"
   },
   "source": [
    "Comenzamos generando los objetos geográficos- Para ello construya los GeoDataFrame tanto de los barrios como de las comisarías."
   ]
  },
  {
   "cell_type": "markdown",
   "metadata": {
    "colab_type": "text",
    "id": "OfOK_u1vthAb"
   },
   "source": [
    "Tenga presente que en el caso de las comisarías será necesario convertir las columnas de caracteres a números, para ello deberá:\n",
    "- Reemplazar las \",\" por \".\"\n",
    "- Convertir el dtype de object a numeric"
   ]
  },
  {
   "cell_type": "markdown",
   "metadata": {
    "colab_type": "text",
    "id": "6FChZvCEthAc"
   },
   "source": [
    "### Barrios"
   ]
  },
  {
   "cell_type": "code",
   "execution_count": null,
   "metadata": {
    "colab": {},
    "colab_type": "code",
    "id": "IhknKtyQthAe"
   },
   "outputs": [],
   "source": [
    "def from_wkt(df, wkt_column):\n",
    "    \n",
    "    df[\"coordinates\"]= df[wkt_column].apply(shapely.wkt.loads)\n",
    "    gdf = geopandas.GeoDataFrame(barrios, geometry='coordinates')\n",
    "    return gdf"
   ]
  },
  {
   "cell_type": "code",
   "execution_count": null,
   "metadata": {
    "colab": {},
    "colab_type": "code",
    "id": "BVe4Mra-thAl"
   },
   "outputs": [],
   "source": [
    "barrios = from_wkt(barrios, \"WKT\")"
   ]
  },
  {
   "cell_type": "code",
   "execution_count": null,
   "metadata": {
    "colab": {},
    "colab_type": "code",
    "id": "_6N_O0G5thAs",
    "outputId": "98ac70d1-0576-4bea-82f2-144bdca973d3"
   },
   "outputs": [],
   "source": [
    "type(barrios)"
   ]
  },
  {
   "cell_type": "markdown",
   "metadata": {
    "colab_type": "text",
    "id": "hXCZslNrthA0"
   },
   "source": [
    "### Comisarías"
   ]
  },
  {
   "cell_type": "code",
   "execution_count": null,
   "metadata": {
    "colab": {},
    "colab_type": "code",
    "id": "5ohase_EthA1"
   },
   "outputs": [],
   "source": [
    "comisarias[\"X\"] = comisarias[\"X\"].str.replace(\",\",\".\").apply(pd.to_numeric)\n",
    "comisarias[\"Y\"] = comisarias[\"Y\"].str.replace(\",\",\".\").apply(pd.to_numeric)"
   ]
  },
  {
   "cell_type": "code",
   "execution_count": null,
   "metadata": {
    "colab": {},
    "colab_type": "code",
    "id": "7DVzNkbQthA6"
   },
   "outputs": [],
   "source": [
    "def from_x_y(df, x, y):\n",
    "    gdf = geopandas.GeoDataFrame(df.drop([x, y], axis=1),\n",
    "                                crs={'init': 'epsg:4326'},\n",
    "                                geometry=[Point(xy) for xy in zip(df[x], df[y])])\n",
    "    return gdf"
   ]
  },
  {
   "cell_type": "code",
   "execution_count": null,
   "metadata": {
    "colab": {},
    "colab_type": "code",
    "id": "azwWsgVvthBD"
   },
   "outputs": [],
   "source": [
    "comisarias = from_x_y(comisarias, \"X\", \"Y\")"
   ]
  },
  {
   "cell_type": "code",
   "execution_count": null,
   "metadata": {
    "colab": {},
    "colab_type": "code",
    "id": "bgjLN6SSthBJ",
    "outputId": "a20add65-5441-44e9-bc70-e78d923f0713"
   },
   "outputs": [],
   "source": [
    "type(comisarias)"
   ]
  },
  {
   "cell_type": "markdown",
   "metadata": {
    "colab_type": "text",
    "id": "vRw5PwONthBQ"
   },
   "source": [
    "## Visualización"
   ]
  },
  {
   "cell_type": "markdown",
   "metadata": {
    "colab_type": "text",
    "id": "gD3LCs_rthBS"
   },
   "source": [
    "Genere una visualización empleando folium donde veamos las dos capas geográficas."
   ]
  },
  {
   "cell_type": "code",
   "execution_count": null,
   "metadata": {
    "colab": {},
    "colab_type": "code",
    "id": "2wncvYQdthBT",
    "outputId": "dded413c-2630-4cf5-e4de-05425b6aca73"
   },
   "outputs": [],
   "source": [
    "import folium\n",
    "m = folium.Map([-34.606359, -58.443863], zoom_start=12, tiles=\"OpenStreetMap\")\n",
    "folium.GeoJson(barrios.to_json()).add_to(m)\n",
    "folium.GeoJson(comisarias.to_json()).add_to(m)\n",
    "m"
   ]
  },
  {
   "cell_type": "markdown",
   "metadata": {
    "colab_type": "text",
    "id": "GHG_YCpPthBa"
   },
   "source": [
    "¿Hay muchos barrios que no tienen comisarías? ¿Hay barrios que tienen muchas comisarías?"
   ]
  },
  {
   "cell_type": "markdown",
   "metadata": {
    "colab_type": "text",
    "id": "TkbvlGjythBc"
   },
   "source": [
    "## Spatial joins"
   ]
  },
  {
   "cell_type": "markdown",
   "metadata": {
    "colab_type": "text",
    "id": "ZZRp3QTuthBe"
   },
   "source": [
    "Para poder responder esta pregunta necesitamos saber en qué barrio se encuentra cada comisaría. Para ello vamos a realizar un join espacial usando \"geopandas.sjoin\". Léase la documentación sobre \"spatial joins\" en el siguiente link:\n",
    "http://geopandas.org/mergingdata.html"
   ]
  },
  {
   "cell_type": "markdown",
   "metadata": {
    "colab_type": "text",
    "id": "-jSflq_QthBf"
   },
   "source": [
    "Luego, será necesario sumar la cantidad de comisarías por barrio."
   ]
  },
  {
   "cell_type": "code",
   "execution_count": null,
   "metadata": {
    "colab": {},
    "colab_type": "code",
    "id": "WLbBXyIRthBg",
    "outputId": "85e678db-c872-4597-8823-b2ee31b7887c"
   },
   "outputs": [],
   "source": [
    "result=geopandas.sjoin(barrios, comisarias, how = \"left\")"
   ]
  },
  {
   "cell_type": "code",
   "execution_count": null,
   "metadata": {},
   "outputs": [],
   "source": [
    "print(barrios.crs, comisarias.crs)"
   ]
  },
  {
   "cell_type": "code",
   "execution_count": null,
   "metadata": {},
   "outputs": [],
   "source": [
    "barrios.crs = {'init': 'epsg:4326'}"
   ]
  },
  {
   "cell_type": "code",
   "execution_count": null,
   "metadata": {
    "colab": {},
    "colab_type": "code",
    "id": "WLbBXyIRthBg",
    "outputId": "85e678db-c872-4597-8823-b2ee31b7887c"
   },
   "outputs": [],
   "source": [
    "result=geopandas.sjoin(barrios, comisarias, how = \"left\")"
   ]
  },
  {
   "cell_type": "code",
   "execution_count": null,
   "metadata": {},
   "outputs": [],
   "source": [
    "result"
   ]
  },
  {
   "cell_type": "code",
   "execution_count": null,
   "metadata": {
    "colab": {},
    "colab_type": "code",
    "id": "o9-AurVsthBl"
   },
   "outputs": [],
   "source": [
    "comisarias_barrio = result.groupby(\"BARRIO\").count()[\"NOMBRE\"].sort_values(ascending=False)"
   ]
  },
  {
   "cell_type": "code",
   "execution_count": null,
   "metadata": {
    "colab": {},
    "colab_type": "code",
    "id": "GKvGwBuqthBq",
    "outputId": "fa9332fa-24f4-4988-e975-d2552f83bae4"
   },
   "outputs": [],
   "source": [
    "comisarias_barrio.head(10)"
   ]
  },
  {
   "cell_type": "code",
   "execution_count": null,
   "metadata": {
    "colab": {},
    "colab_type": "code",
    "id": "kRV3SGOMthBy",
    "outputId": "373d2672-909a-4294-8db8-a5316cf34136"
   },
   "outputs": [],
   "source": [
    "comisarias_barrio.tail(10)"
   ]
  },
  {
   "cell_type": "markdown",
   "metadata": {
    "colab_type": "text",
    "id": "MfOd_e--thB2"
   },
   "source": [
    "## Áreas lejanas"
   ]
  },
  {
   "cell_type": "markdown",
   "metadata": {
    "colab_type": "text",
    "id": "k5sLKcgethB4"
   },
   "source": [
    "Vemos varios barrios que no tienen ninguna comisaría, y otros con muchas. Tomemos el centroide de los barrios sin comisarías y veamos a qué distancia se encuentra la comisaría más cercana en cada caso."
   ]
  },
  {
   "cell_type": "markdown",
   "metadata": {
    "colab_type": "text",
    "id": "T0WlaBaythB5"
   },
   "source": [
    "Primero, generemos una función que nos permita setear el crs en 4326y luego transforme el mismo a gkba."
   ]
  },
  {
   "cell_type": "code",
   "execution_count": null,
   "metadata": {
    "colab": {},
    "colab_type": "code",
    "id": "RTeVRoRnthB7"
   },
   "outputs": [],
   "source": [
    "def to_gkba(geodf):\n",
    "    geodf.crs = {'init' :'epsg:4326'}\n",
    "    new_geodf = geodf.to_crs(crs = \"+proj=tmerc +lat_0=-34.629269 +lon_0=-58.4633 +k=0.9999980000000001 +x_0=100000 +y_0=100000 +ellps=intl +units=m +no_defs\")\n",
    "    return new_geodf"
   ]
  },
  {
   "cell_type": "code",
   "execution_count": null,
   "metadata": {
    "colab": {},
    "colab_type": "code",
    "id": "NAbtjzR2thCC"
   },
   "outputs": [],
   "source": [
    "barrios_gkba = to_gkba(barrios)"
   ]
  },
  {
   "cell_type": "code",
   "execution_count": null,
   "metadata": {
    "colab": {},
    "colab_type": "code",
    "id": "opy2wzXXthCH"
   },
   "outputs": [],
   "source": [
    "comisarias_gkba = to_gkba(comisarias)"
   ]
  },
  {
   "cell_type": "markdown",
   "metadata": {
    "colab_type": "text",
    "id": "CkOBwDqzthCK"
   },
   "source": [
    "Segundo, generemos una función que dado un polígono, el nombre de un barrio, un conjunto de puntos y un parámetro k, haga un subset y se quede sólo con ese barrio, genere un centroide a partir del polígono y devuelva la distancia de los k puntos más cercanos. "
   ]
  },
  {
   "cell_type": "code",
   "execution_count": null,
   "metadata": {
    "colab": {},
    "colab_type": "code",
    "id": "uncjTjt7thCM"
   },
   "outputs": [],
   "source": [
    "def nearest_point(barrio, geodf, points,k):\n",
    "    geodf = geodf[geodf[\"BARRIO\"]==barrio]\n",
    "    from shapely.geometry import Point\n",
    "    centroid = geodf.centroid\n",
    "    centroid = Point(centroid.geometry.x, centroid.geometry.y)\n",
    "    distances = [ (i, pt.distance(centroid))  for i, pt in enumerate(points.geometry)]\n",
    "    dist = [dist for i, dist in distances]\n",
    "    dist.sort()\n",
    "    closest = dist[0:k]\n",
    "    return closest"
   ]
  },
  {
   "cell_type": "markdown",
   "metadata": {
    "colab_type": "text",
    "id": "Trq7E3xKthCV"
   },
   "source": [
    "Apliquemos la función al subconjunto de barrios que no tienen comisarías."
   ]
  },
  {
   "cell_type": "code",
   "execution_count": null,
   "metadata": {
    "colab": {},
    "colab_type": "code",
    "id": "1rH9nX_SthCX"
   },
   "outputs": [],
   "source": [
    "barrios_sin_comisarias = comisarias_barrio.index[comisarias_barrio==0]"
   ]
  },
  {
   "cell_type": "code",
   "execution_count": null,
   "metadata": {},
   "outputs": [],
   "source": [
    "barrios_sin_comisarias"
   ]
  },
  {
   "cell_type": "code",
   "execution_count": null,
   "metadata": {
    "colab": {},
    "colab_type": "code",
    "id": "5UsvQVvhthCk",
    "outputId": "f9a881bb-f0b7-4e3b-b003-115ae1d75efd"
   },
   "outputs": [],
   "source": [
    "[(barrio, nearest_point(barrio,barrios_gkba, comisarias_gkba, 1)) for barrio in barrios_sin_comisarias]"
   ]
  },
  {
   "cell_type": "code",
   "execution_count": null,
   "metadata": {},
   "outputs": [],
   "source": []
  }
 ],
 "metadata": {
  "colab": {
   "name": "3.PRACTICA_LAB_GEOPANDAS_SOLUTION.ipynb",
   "provenance": [],
   "version": "0.3.2"
  },
  "kernelspec": {
   "display_name": "Python 3",
   "language": "python",
   "name": "python3"
  },
  "language_info": {
   "codemirror_mode": {
    "name": "ipython",
    "version": 3
   },
   "file_extension": ".py",
   "mimetype": "text/x-python",
   "name": "python",
   "nbconvert_exporter": "python",
   "pygments_lexer": "ipython3",
   "version": "3.7.3"
  }
 },
 "nbformat": 4,
 "nbformat_minor": 1
}
