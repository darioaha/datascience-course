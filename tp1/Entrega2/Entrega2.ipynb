{
 "cells": [
  {
   "cell_type": "code",
   "execution_count": 1,
   "metadata": {},
   "outputs": [],
   "source": [
    "import pandas as pd\n",
    "import numpy as np\n",
    "import numpy as np\n",
    "import re\n",
    "import seaborn as sns\n",
    "from scipy import stats\n",
    "import math\n",
    "import operator\n",
    "import plotly\n",
    "import plotly.plotly as py\n",
    "import plotly.tools as tls\n",
    "import plotly.graph_objs as go\n",
    "from plotly.graph_objs import *\n",
    "from plotly.offline import init_notebook_mode, iplot, plot\n",
    "%matplotlib inline\n",
    "from matplotlib import pyplot as plt\n",
    "plt.rcParams['figure.figsize'] = 10, 10\n",
    "from sklearn.model_selection import train_test_split, KFold, cross_val_score\n",
    "from sklearn.linear_model import LinearRegression, Lasso, LassoCV, Ridge, RidgeCV, ElasticNetCV\n",
    "from sklearn.preprocessing import PolynomialFeatures, StandardScaler\n",
    "from sklearn.metrics import mean_squared_error, r2_score\n",
    "import feather"
   ]
  },
  {
   "cell_type": "markdown",
   "metadata": {},
   "source": [
    "#### Comenzaremos con los siguientes pasos:\n",
    "    * Cargar el dataset \"limpio\"\n",
    "    * Eliminar columnas que no vamos a utilizar\n",
    "    * Eliminar registros nulos en cero y valores \"raros\" que encontremos"
   ]
  },
  {
   "cell_type": "code",
   "execution_count": 2,
   "metadata": {},
   "outputs": [
    {
     "data": {
      "text/html": [
       "<div>\n",
       "<style scoped>\n",
       "    .dataframe tbody tr th:only-of-type {\n",
       "        vertical-align: middle;\n",
       "    }\n",
       "\n",
       "    .dataframe tbody tr th {\n",
       "        vertical-align: top;\n",
       "    }\n",
       "\n",
       "    .dataframe thead th {\n",
       "        text-align: right;\n",
       "    }\n",
       "</style>\n",
       "<table border=\"1\" class=\"dataframe\">\n",
       "  <thead>\n",
       "    <tr style=\"text-align: right;\">\n",
       "      <th></th>\n",
       "      <th>property_type</th>\n",
       "      <th>lat-lon</th>\n",
       "      <th>lat</th>\n",
       "      <th>lon</th>\n",
       "      <th>price</th>\n",
       "      <th>price_aprox_usd</th>\n",
       "      <th>surface_total_in_m2</th>\n",
       "      <th>surface_covered_in_m2</th>\n",
       "      <th>price_usd_per_m2</th>\n",
       "      <th>price_per_m2</th>\n",
       "      <th>ambientes</th>\n",
       "      <th>provincia</th>\n",
       "      <th>partido</th>\n",
       "      <th>localidad</th>\n",
       "      <th>condicion</th>\n",
       "      <th>price_aprox_usd_levels</th>\n",
       "      <th>geonames_id</th>\n",
       "    </tr>\n",
       "  </thead>\n",
       "  <tbody>\n",
       "    <tr>\n",
       "      <th>52903</th>\n",
       "      <td>1</td>\n",
       "      <td>-34.533425,-58.468499</td>\n",
       "      <td>-34.533425</td>\n",
       "      <td>-58.468499</td>\n",
       "      <td>650000.0</td>\n",
       "      <td>650000.0</td>\n",
       "      <td>160.645595</td>\n",
       "      <td>127.0</td>\n",
       "      <td>5118.110236</td>\n",
       "      <td>5118.110236</td>\n",
       "      <td>5.0</td>\n",
       "      <td>0.0</td>\n",
       "      <td>9.0</td>\n",
       "      <td>244.0</td>\n",
       "      <td>NaN</td>\n",
       "      <td>5</td>\n",
       "      <td>3.495544e+06</td>\n",
       "    </tr>\n",
       "  </tbody>\n",
       "</table>\n",
       "</div>"
      ],
      "text/plain": [
       "       property_type                lat-lon        lat        lon     price  \\\n",
       "52903              1  -34.533425,-58.468499 -34.533425 -58.468499  650000.0   \n",
       "\n",
       "       price_aprox_usd  surface_total_in_m2  surface_covered_in_m2  \\\n",
       "52903         650000.0           160.645595                  127.0   \n",
       "\n",
       "       price_usd_per_m2  price_per_m2  ambientes  provincia  partido  \\\n",
       "52903       5118.110236   5118.110236        5.0        0.0      9.0   \n",
       "\n",
       "       localidad  condicion price_aprox_usd_levels   geonames_id  \n",
       "52903      244.0        NaN                      5  3.495544e+06  "
      ]
     },
     "execution_count": 2,
     "metadata": {},
     "output_type": "execute_result"
    }
   ],
   "source": [
    "### Cargar dataset \"limpio\"\n",
    "df = feather.read_dataframe(\"Data/principal.feather\")\n",
    "df.sample(1)"
   ]
  },
  {
   "cell_type": "markdown",
   "metadata": {},
   "source": [
    "#### Eliminamos columnas que no vamos a utilizar"
   ]
  },
  {
   "cell_type": "code",
   "execution_count": 3,
   "metadata": {},
   "outputs": [
    {
     "name": "stdout",
     "output_type": "stream",
     "text": [
      "Cantidad de registros: 121220\n"
     ]
    },
    {
     "data": {
      "text/html": [
       "<div>\n",
       "<style scoped>\n",
       "    .dataframe tbody tr th:only-of-type {\n",
       "        vertical-align: middle;\n",
       "    }\n",
       "\n",
       "    .dataframe tbody tr th {\n",
       "        vertical-align: top;\n",
       "    }\n",
       "\n",
       "    .dataframe thead th {\n",
       "        text-align: right;\n",
       "    }\n",
       "</style>\n",
       "<table border=\"1\" class=\"dataframe\">\n",
       "  <thead>\n",
       "    <tr style=\"text-align: right;\">\n",
       "      <th></th>\n",
       "      <th>property_type</th>\n",
       "      <th>price_aprox_usd</th>\n",
       "      <th>surface_total_in_m2</th>\n",
       "      <th>surface_covered_in_m2</th>\n",
       "      <th>ambientes</th>\n",
       "      <th>partido</th>\n",
       "    </tr>\n",
       "  </thead>\n",
       "  <tbody>\n",
       "    <tr>\n",
       "      <th>113375</th>\n",
       "      <td>1</td>\n",
       "      <td>104000.0</td>\n",
       "      <td>33.0</td>\n",
       "      <td>30.0</td>\n",
       "      <td>2.0</td>\n",
       "      <td>134.0</td>\n",
       "    </tr>\n",
       "  </tbody>\n",
       "</table>\n",
       "</div>"
      ],
      "text/plain": [
       "        property_type  price_aprox_usd  surface_total_in_m2  \\\n",
       "113375              1         104000.0                 33.0   \n",
       "\n",
       "        surface_covered_in_m2  ambientes  partido  \n",
       "113375                   30.0        2.0    134.0  "
      ]
     },
     "execution_count": 3,
     "metadata": {},
     "output_type": "execute_result"
    }
   ],
   "source": [
    "to_drop = [\n",
    "            'price_usd_per_m2', \n",
    "            'price_per_m2', \n",
    "            'price',\n",
    "            'provincia',\n",
    "            'localidad',\n",
    "            'condicion',\n",
    "            'geonames_id', \n",
    "            'lat-lon',\n",
    "            'lat','lon',\n",
    "            'price_aprox_usd_levels',\n",
    "]\n",
    "\n",
    "df.drop(columns=to_drop, inplace=True) #aplicar drop\n",
    "print(\"Cantidad de registros:\",len(df))\n",
    "df.sample(1)"
   ]
  },
  {
   "cell_type": "markdown",
   "metadata": {},
   "source": [
    "#### Eliminamos nulos de las columnas principales"
   ]
  },
  {
   "cell_type": "code",
   "execution_count": 4,
   "metadata": {},
   "outputs": [
    {
     "data": {
      "text/plain": [
       "(70827, 6)"
      ]
     },
     "execution_count": 4,
     "metadata": {},
     "output_type": "execute_result"
    }
   ],
   "source": [
    "columnas_principales = ['price_aprox_usd','surface_total_in_m2', 'ambientes','surface_covered_in_m2','partido']\n",
    "df = df.dropna(axis =0 , how = 'any', subset = columnas_principales)\n",
    "df.shape"
   ]
  },
  {
   "cell_type": "code",
   "execution_count": 5,
   "metadata": {},
   "outputs": [
    {
     "data": {
      "text/plain": [
       "property_type            0\n",
       "price_aprox_usd          0\n",
       "surface_total_in_m2      0\n",
       "surface_covered_in_m2    0\n",
       "ambientes                0\n",
       "partido                  0\n",
       "dtype: int64"
      ]
     },
     "execution_count": 5,
     "metadata": {},
     "output_type": "execute_result"
    }
   ],
   "source": [
    "df.isnull().sum()"
   ]
  },
  {
   "cell_type": "code",
   "execution_count": 6,
   "metadata": {},
   "outputs": [],
   "source": [
    "# quito ambientes nulos y valores muy altos\n",
    "mask_ambientes = (df.ambientes > 0)&(df.ambientes < 100)\n",
    "df = df[mask_ambientes]\n",
    "mask_price = (df.price_aprox_usd > 500)\n",
    "df = df[mask_price]"
   ]
  },
  {
   "cell_type": "code",
   "execution_count": 7,
   "metadata": {},
   "outputs": [
    {
     "data": {
      "text/html": [
       "<div>\n",
       "<style scoped>\n",
       "    .dataframe tbody tr th:only-of-type {\n",
       "        vertical-align: middle;\n",
       "    }\n",
       "\n",
       "    .dataframe tbody tr th {\n",
       "        vertical-align: top;\n",
       "    }\n",
       "\n",
       "    .dataframe thead th {\n",
       "        text-align: right;\n",
       "    }\n",
       "</style>\n",
       "<table border=\"1\" class=\"dataframe\">\n",
       "  <thead>\n",
       "    <tr style=\"text-align: right;\">\n",
       "      <th></th>\n",
       "      <th>property_type</th>\n",
       "      <th>price_aprox_usd</th>\n",
       "      <th>surface_total_in_m2</th>\n",
       "      <th>surface_covered_in_m2</th>\n",
       "      <th>ambientes</th>\n",
       "      <th>partido</th>\n",
       "    </tr>\n",
       "  </thead>\n",
       "  <tbody>\n",
       "    <tr>\n",
       "      <th>count</th>\n",
       "      <td>70779.000000</td>\n",
       "      <td>70779.000000</td>\n",
       "      <td>70779.000000</td>\n",
       "      <td>70779.000000</td>\n",
       "      <td>70779.000000</td>\n",
       "      <td>70779.000000</td>\n",
       "    </tr>\n",
       "    <tr>\n",
       "      <th>mean</th>\n",
       "      <td>1.244366</td>\n",
       "      <td>189294.475022</td>\n",
       "      <td>130.879125</td>\n",
       "      <td>89.827943</td>\n",
       "      <td>3.208466</td>\n",
       "      <td>106.375945</td>\n",
       "    </tr>\n",
       "    <tr>\n",
       "      <th>std</th>\n",
       "      <td>0.561983</td>\n",
       "      <td>141711.520153</td>\n",
       "      <td>164.309526</td>\n",
       "      <td>80.186458</td>\n",
       "      <td>1.552800</td>\n",
       "      <td>119.843960</td>\n",
       "    </tr>\n",
       "    <tr>\n",
       "      <th>min</th>\n",
       "      <td>0.000000</td>\n",
       "      <td>1000.000000</td>\n",
       "      <td>0.000000</td>\n",
       "      <td>0.000000</td>\n",
       "      <td>1.000000</td>\n",
       "      <td>0.000000</td>\n",
       "    </tr>\n",
       "    <tr>\n",
       "      <th>25%</th>\n",
       "      <td>1.000000</td>\n",
       "      <td>90000.000000</td>\n",
       "      <td>45.000000</td>\n",
       "      <td>40.000000</td>\n",
       "      <td>2.000000</td>\n",
       "      <td>14.000000</td>\n",
       "    </tr>\n",
       "    <tr>\n",
       "      <th>50%</th>\n",
       "      <td>1.000000</td>\n",
       "      <td>140000.000000</td>\n",
       "      <td>73.512268</td>\n",
       "      <td>63.000000</td>\n",
       "      <td>3.000000</td>\n",
       "      <td>50.000000</td>\n",
       "    </tr>\n",
       "    <tr>\n",
       "      <th>75%</th>\n",
       "      <td>2.000000</td>\n",
       "      <td>240000.000000</td>\n",
       "      <td>152.906751</td>\n",
       "      <td>119.000000</td>\n",
       "      <td>4.000000</td>\n",
       "      <td>154.000000</td>\n",
       "    </tr>\n",
       "    <tr>\n",
       "      <th>max</th>\n",
       "      <td>3.000000</td>\n",
       "      <td>815000.000000</td>\n",
       "      <td>1490.000000</td>\n",
       "      <td>485.000000</td>\n",
       "      <td>72.000000</td>\n",
       "      <td>538.000000</td>\n",
       "    </tr>\n",
       "  </tbody>\n",
       "</table>\n",
       "</div>"
      ],
      "text/plain": [
       "       property_type  price_aprox_usd  surface_total_in_m2  \\\n",
       "count   70779.000000     70779.000000         70779.000000   \n",
       "mean        1.244366    189294.475022           130.879125   \n",
       "std         0.561983    141711.520153           164.309526   \n",
       "min         0.000000      1000.000000             0.000000   \n",
       "25%         1.000000     90000.000000            45.000000   \n",
       "50%         1.000000    140000.000000            73.512268   \n",
       "75%         2.000000    240000.000000           152.906751   \n",
       "max         3.000000    815000.000000          1490.000000   \n",
       "\n",
       "       surface_covered_in_m2     ambientes       partido  \n",
       "count           70779.000000  70779.000000  70779.000000  \n",
       "mean               89.827943      3.208466    106.375945  \n",
       "std                80.186458      1.552800    119.843960  \n",
       "min                 0.000000      1.000000      0.000000  \n",
       "25%                40.000000      2.000000     14.000000  \n",
       "50%                63.000000      3.000000     50.000000  \n",
       "75%               119.000000      4.000000    154.000000  \n",
       "max               485.000000     72.000000    538.000000  "
      ]
     },
     "execution_count": 7,
     "metadata": {},
     "output_type": "execute_result"
    }
   ],
   "source": [
    "df.describe()"
   ]
  },
  {
   "cell_type": "markdown",
   "metadata": {},
   "source": [
    "### Analisis de relacion entre variables\n",
    "**Vamos a crear nuevas variables para evaluar la matriz de correlacion y seleccionar las que den mejor valor contr price_aprox_usd**"
   ]
  },
  {
   "cell_type": "code",
   "execution_count": 8,
   "metadata": {},
   "outputs": [
    {
     "data": {
      "text/html": [
       "<div>\n",
       "<style scoped>\n",
       "    .dataframe tbody tr th:only-of-type {\n",
       "        vertical-align: middle;\n",
       "    }\n",
       "\n",
       "    .dataframe tbody tr th {\n",
       "        vertical-align: top;\n",
       "    }\n",
       "\n",
       "    .dataframe thead th {\n",
       "        text-align: right;\n",
       "    }\n",
       "</style>\n",
       "<table border=\"1\" class=\"dataframe\">\n",
       "  <thead>\n",
       "    <tr style=\"text-align: right;\">\n",
       "      <th></th>\n",
       "      <th>property_type</th>\n",
       "      <th>price_aprox_usd</th>\n",
       "      <th>surface_total_in_m2</th>\n",
       "      <th>surface_covered_in_m2</th>\n",
       "      <th>ambientes</th>\n",
       "      <th>partido</th>\n",
       "      <th>surface_by_amb</th>\n",
       "      <th>surface_by_add</th>\n",
       "      <th>surface_covered_prop</th>\n",
       "      <th>surface_total_prop_cov</th>\n",
       "      <th>surface_cov_complete</th>\n",
       "      <th>new_rel1</th>\n",
       "      <th>new_rel2</th>\n",
       "      <th>new_rel3</th>\n",
       "      <th>new_rel4</th>\n",
       "      <th>new_rel5</th>\n",
       "      <th>new_rel6</th>\n",
       "    </tr>\n",
       "  </thead>\n",
       "  <tbody>\n",
       "    <tr>\n",
       "      <th>49803</th>\n",
       "      <td>0</td>\n",
       "      <td>159894.56</td>\n",
       "      <td>70.0</td>\n",
       "      <td>53.0</td>\n",
       "      <td>3.0</td>\n",
       "      <td>405.0</td>\n",
       "      <td>23.333333</td>\n",
       "      <td>123.0</td>\n",
       "      <td>0.757143</td>\n",
       "      <td>1.320755</td>\n",
       "      <td>53.0</td>\n",
       "      <td>126.0</td>\n",
       "      <td>54.320755</td>\n",
       "      <td>18.106918</td>\n",
       "      <td>17.666667</td>\n",
       "      <td>53.440252</td>\n",
       "      <td>18.987421</td>\n",
       "    </tr>\n",
       "  </tbody>\n",
       "</table>\n",
       "</div>"
      ],
      "text/plain": [
       "       property_type  price_aprox_usd  surface_total_in_m2  \\\n",
       "49803              0        159894.56                 70.0   \n",
       "\n",
       "       surface_covered_in_m2  ambientes  partido  surface_by_amb  \\\n",
       "49803                   53.0        3.0    405.0       23.333333   \n",
       "\n",
       "       surface_by_add  surface_covered_prop  surface_total_prop_cov  \\\n",
       "49803           123.0              0.757143                1.320755   \n",
       "\n",
       "       surface_cov_complete  new_rel1   new_rel2   new_rel3   new_rel4  \\\n",
       "49803                  53.0     126.0  54.320755  18.106918  17.666667   \n",
       "\n",
       "        new_rel5   new_rel6  \n",
       "49803  53.440252  18.987421  "
      ]
     },
     "execution_count": 8,
     "metadata": {},
     "output_type": "execute_result"
    }
   ],
   "source": [
    "# vamos probando  el efecto entre varias combinaciones\n",
    "df['surface_by_amb'] = df.surface_total_in_m2/df.ambientes\n",
    "df['surface_by_add'] = df.surface_total_in_m2+df.surface_covered_in_m2\n",
    "df['surface_covered_prop'] = df.surface_covered_in_m2/df.surface_total_in_m2\n",
    "df['surface_total_prop_cov'] = df.surface_total_in_m2/df.surface_covered_in_m2\n",
    "df['surface_cov_complete'] = df.surface_covered_in_m2.fillna(df.surface_total_in_m2)\n",
    "df['new_rel1'] = (df.surface_total_in_m2+df.surface_covered_in_m2)+df.ambientes\n",
    "df['new_rel2'] = df.surface_cov_complete+df.surface_total_prop_cov\n",
    "df['new_rel3'] = (df.surface_cov_complete+df.surface_total_prop_cov)/df.ambientes\n",
    "df['new_rel4'] = (df.surface_cov_complete/df.ambientes)\n",
    "df['new_rel5'] = (df.surface_cov_complete+df.surface_total_prop_cov/df.ambientes)\n",
    "df['new_rel6'] = ((df.surface_cov_complete/df.ambientes)+df.surface_total_prop_cov)\n",
    "df.sample(1)"
   ]
  },
  {
   "cell_type": "markdown",
   "metadata": {},
   "source": [
    "#### Matriz de correlacion"
   ]
  },
  {
   "cell_type": "code",
   "execution_count": 9,
   "metadata": {},
   "outputs": [
    {
     "data": {
      "image/png": "[encoded data removed]",
      "text/plain": [
       "<Figure size 1080x1080 with 2 Axes>"
      ]
     },
     "metadata": {},
     "output_type": "display_data"
    }
   ],
   "source": [
    "fig, ax = plt.subplots(figsize=(15,15))       \n",
    "sns.heatmap(df.corr() , square=True, annot=True, ax=ax);"
   ]
  },
  {
   "cell_type": "markdown",
   "metadata": {},
   "source": [
    "##### En la matriz observamos que los valores con mayor valor para precio son:\n",
    "    * new_rel2.61\n",
    "    * new_rel5 =.61\n",
    "    * surface_cov_in_m2 = .60\n",
    "##### Vamos a entrenar un modelo utilizando new_rel2 y new_rel5"
   ]
  },
  {
   "cell_type": "code",
   "execution_count": 10,
   "metadata": {},
   "outputs": [
    {
     "name": "stderr",
     "output_type": "stream",
     "text": [
      "/opt/conda/lib/python3.6/site-packages/numpy/core/fromnumeric.py:83: RuntimeWarning:\n",
      "\n",
      "invalid value encountered in reduce\n",
      "\n",
      "/opt/conda/lib/python3.6/site-packages/numpy/linalg/linalg.py:1876: RuntimeWarning:\n",
      "\n",
      "invalid value encountered in greater\n",
      "\n"
     ]
    },
    {
     "data": {
      "text/plain": [
       "<matplotlib.axes._subplots.AxesSubplot at 0x7f19870622e8>"
      ]
     },
     "execution_count": 10,
     "metadata": {},
     "output_type": "execute_result"
    },
    {
     "data": {
      "image/png": "[encoded data removed]",
      "text/plain": [
       "<Figure size 432x288 with 1 Axes>"
      ]
     },
     "metadata": {},
     "output_type": "display_data"
    }
   ],
   "source": [
    "#reviso relación entre new_rel2 y price_aprox_usd\n",
    "sns.regplot(df.new_rel2,df.price_aprox_usd, order=1, ci=None, scatter_kws={'color':'r', 's':1})\n",
    "# ಠ ʖ̯ ͡ಠ"
   ]
  },
  {
   "cell_type": "markdown",
   "metadata": {},
   "source": [
    "#### Analisis de variables para crear train y test data\n",
    "Analizamos valores en new_rel2 y new_rel5"
   ]
  },
  {
   "cell_type": "code",
   "execution_count": 11,
   "metadata": {},
   "outputs": [
    {
     "data": {
      "text/html": [
       "<div>\n",
       "<style scoped>\n",
       "    .dataframe tbody tr th:only-of-type {\n",
       "        vertical-align: middle;\n",
       "    }\n",
       "\n",
       "    .dataframe tbody tr th {\n",
       "        vertical-align: top;\n",
       "    }\n",
       "\n",
       "    .dataframe thead th {\n",
       "        text-align: right;\n",
       "    }\n",
       "</style>\n",
       "<table border=\"1\" class=\"dataframe\">\n",
       "  <thead>\n",
       "    <tr style=\"text-align: right;\">\n",
       "      <th></th>\n",
       "      <th>property_type</th>\n",
       "      <th>price_aprox_usd</th>\n",
       "      <th>surface_total_in_m2</th>\n",
       "      <th>surface_covered_in_m2</th>\n",
       "      <th>ambientes</th>\n",
       "      <th>partido</th>\n",
       "      <th>surface_by_amb</th>\n",
       "      <th>surface_by_add</th>\n",
       "      <th>surface_covered_prop</th>\n",
       "      <th>surface_total_prop_cov</th>\n",
       "      <th>surface_cov_complete</th>\n",
       "      <th>new_rel1</th>\n",
       "      <th>new_rel2</th>\n",
       "      <th>new_rel3</th>\n",
       "      <th>new_rel4</th>\n",
       "      <th>new_rel5</th>\n",
       "      <th>new_rel6</th>\n",
       "    </tr>\n",
       "  </thead>\n",
       "  <tbody>\n",
       "    <tr>\n",
       "      <th>count</th>\n",
       "      <td>70779.000000</td>\n",
       "      <td>70779.000000</td>\n",
       "      <td>70779.000000</td>\n",
       "      <td>70779.000000</td>\n",
       "      <td>70779.000000</td>\n",
       "      <td>70779.000000</td>\n",
       "      <td>70779.000000</td>\n",
       "      <td>70779.000000</td>\n",
       "      <td>7.077800e+04</td>\n",
       "      <td>7.077800e+04</td>\n",
       "      <td>70779.000000</td>\n",
       "      <td>70779.000000</td>\n",
       "      <td>7.077800e+04</td>\n",
       "      <td>7.077800e+04</td>\n",
       "      <td>70779.000000</td>\n",
       "      <td>7.077800e+04</td>\n",
       "      <td>7.077800e+04</td>\n",
       "    </tr>\n",
       "    <tr>\n",
       "      <th>mean</th>\n",
       "      <td>1.244366</td>\n",
       "      <td>189294.475022</td>\n",
       "      <td>130.879125</td>\n",
       "      <td>89.827943</td>\n",
       "      <td>3.208466</td>\n",
       "      <td>106.375945</td>\n",
       "      <td>42.351036</td>\n",
       "      <td>220.707068</td>\n",
       "      <td>inf</td>\n",
       "      <td>inf</td>\n",
       "      <td>89.827943</td>\n",
       "      <td>223.915534</td>\n",
       "      <td>inf</td>\n",
       "      <td>inf</td>\n",
       "      <td>29.437607</td>\n",
       "      <td>inf</td>\n",
       "      <td>inf</td>\n",
       "    </tr>\n",
       "    <tr>\n",
       "      <th>std</th>\n",
       "      <td>0.561983</td>\n",
       "      <td>141711.520153</td>\n",
       "      <td>164.309526</td>\n",
       "      <td>80.186458</td>\n",
       "      <td>1.552800</td>\n",
       "      <td>119.843960</td>\n",
       "      <td>57.541111</td>\n",
       "      <td>223.876610</td>\n",
       "      <td>NaN</td>\n",
       "      <td>NaN</td>\n",
       "      <td>80.186458</td>\n",
       "      <td>224.446881</td>\n",
       "      <td>NaN</td>\n",
       "      <td>NaN</td>\n",
       "      <td>28.083610</td>\n",
       "      <td>NaN</td>\n",
       "      <td>NaN</td>\n",
       "    </tr>\n",
       "    <tr>\n",
       "      <th>min</th>\n",
       "      <td>0.000000</td>\n",
       "      <td>1000.000000</td>\n",
       "      <td>0.000000</td>\n",
       "      <td>0.000000</td>\n",
       "      <td>1.000000</td>\n",
       "      <td>0.000000</td>\n",
       "      <td>0.000000</td>\n",
       "      <td>0.000000</td>\n",
       "      <td>0.000000e+00</td>\n",
       "      <td>0.000000e+00</td>\n",
       "      <td>0.000000</td>\n",
       "      <td>2.000000</td>\n",
       "      <td>1.000000e+00</td>\n",
       "      <td>1.428571e-01</td>\n",
       "      <td>0.000000</td>\n",
       "      <td>1.000000e+00</td>\n",
       "      <td>4.000000e-01</td>\n",
       "    </tr>\n",
       "    <tr>\n",
       "      <th>25%</th>\n",
       "      <td>1.000000</td>\n",
       "      <td>90000.000000</td>\n",
       "      <td>45.000000</td>\n",
       "      <td>40.000000</td>\n",
       "      <td>2.000000</td>\n",
       "      <td>14.000000</td>\n",
       "      <td>17.760554</td>\n",
       "      <td>87.000000</td>\n",
       "      <td>7.223250e-01</td>\n",
       "      <td>1.000000e+00</td>\n",
       "      <td>40.000000</td>\n",
       "      <td>89.000000</td>\n",
       "      <td>4.239024e+01</td>\n",
       "      <td>1.668707e+01</td>\n",
       "      <td>15.750000</td>\n",
       "      <td>4.069221e+01</td>\n",
       "      <td>1.817647e+01</td>\n",
       "    </tr>\n",
       "    <tr>\n",
       "      <th>50%</th>\n",
       "      <td>1.000000</td>\n",
       "      <td>140000.000000</td>\n",
       "      <td>73.512268</td>\n",
       "      <td>63.000000</td>\n",
       "      <td>3.000000</td>\n",
       "      <td>50.000000</td>\n",
       "      <td>26.666667</td>\n",
       "      <td>139.538201</td>\n",
       "      <td>8.729833e-01</td>\n",
       "      <td>1.145497e+00</td>\n",
       "      <td>63.000000</td>\n",
       "      <td>142.000000</td>\n",
       "      <td>6.600758e+01</td>\n",
       "      <td>2.353036e+01</td>\n",
       "      <td>22.500000</td>\n",
       "      <td>6.433333e+01</td>\n",
       "      <td>2.487786e+01</td>\n",
       "    </tr>\n",
       "    <tr>\n",
       "      <th>75%</th>\n",
       "      <td>2.000000</td>\n",
       "      <td>240000.000000</td>\n",
       "      <td>152.906751</td>\n",
       "      <td>119.000000</td>\n",
       "      <td>4.000000</td>\n",
       "      <td>154.000000</td>\n",
       "      <td>45.000000</td>\n",
       "      <td>276.320965</td>\n",
       "      <td>1.000000e+00</td>\n",
       "      <td>1.384418e+00</td>\n",
       "      <td>119.000000</td>\n",
       "      <td>281.000000</td>\n",
       "      <td>1.211667e+02</td>\n",
       "      <td>3.600000e+01</td>\n",
       "      <td>34.750000</td>\n",
       "      <td>1.200312e+02</td>\n",
       "      <td>3.801304e+01</td>\n",
       "    </tr>\n",
       "    <tr>\n",
       "      <th>max</th>\n",
       "      <td>3.000000</td>\n",
       "      <td>815000.000000</td>\n",
       "      <td>1490.000000</td>\n",
       "      <td>485.000000</td>\n",
       "      <td>72.000000</td>\n",
       "      <td>538.000000</td>\n",
       "      <td>1354.000000</td>\n",
       "      <td>1916.000000</td>\n",
       "      <td>inf</td>\n",
       "      <td>inf</td>\n",
       "      <td>485.000000</td>\n",
       "      <td>1921.000000</td>\n",
       "      <td>inf</td>\n",
       "      <td>inf</td>\n",
       "      <td>480.000000</td>\n",
       "      <td>inf</td>\n",
       "      <td>inf</td>\n",
       "    </tr>\n",
       "  </tbody>\n",
       "</table>\n",
       "</div>"
      ],
      "text/plain": [
       "       property_type  price_aprox_usd  surface_total_in_m2  \\\n",
       "count   70779.000000     70779.000000         70779.000000   \n",
       "mean        1.244366    189294.475022           130.879125   \n",
       "std         0.561983    141711.520153           164.309526   \n",
       "min         0.000000      1000.000000             0.000000   \n",
       "25%         1.000000     90000.000000            45.000000   \n",
       "50%         1.000000    140000.000000            73.512268   \n",
       "75%         2.000000    240000.000000           152.906751   \n",
       "max         3.000000    815000.000000          1490.000000   \n",
       "\n",
       "       surface_covered_in_m2     ambientes       partido  surface_by_amb  \\\n",
       "count           70779.000000  70779.000000  70779.000000    70779.000000   \n",
       "mean               89.827943      3.208466    106.375945       42.351036   \n",
       "std                80.186458      1.552800    119.843960       57.541111   \n",
       "min                 0.000000      1.000000      0.000000        0.000000   \n",
       "25%                40.000000      2.000000     14.000000       17.760554   \n",
       "50%                63.000000      3.000000     50.000000       26.666667   \n",
       "75%               119.000000      4.000000    154.000000       45.000000   \n",
       "max               485.000000     72.000000    538.000000     1354.000000   \n",
       "\n",
       "       surface_by_add  surface_covered_prop  surface_total_prop_cov  \\\n",
       "count    70779.000000          7.077800e+04            7.077800e+04   \n",
       "mean       220.707068                   inf                     inf   \n",
       "std        223.876610                   NaN                     NaN   \n",
       "min          0.000000          0.000000e+00            0.000000e+00   \n",
       "25%         87.000000          7.223250e-01            1.000000e+00   \n",
       "50%        139.538201          8.729833e-01            1.145497e+00   \n",
       "75%        276.320965          1.000000e+00            1.384418e+00   \n",
       "max       1916.000000                   inf                     inf   \n",
       "\n",
       "       surface_cov_complete      new_rel1      new_rel2      new_rel3  \\\n",
       "count          70779.000000  70779.000000  7.077800e+04  7.077800e+04   \n",
       "mean              89.827943    223.915534           inf           inf   \n",
       "std               80.186458    224.446881           NaN           NaN   \n",
       "min                0.000000      2.000000  1.000000e+00  1.428571e-01   \n",
       "25%               40.000000     89.000000  4.239024e+01  1.668707e+01   \n",
       "50%               63.000000    142.000000  6.600758e+01  2.353036e+01   \n",
       "75%              119.000000    281.000000  1.211667e+02  3.600000e+01   \n",
       "max              485.000000   1921.000000           inf           inf   \n",
       "\n",
       "           new_rel4      new_rel5      new_rel6  \n",
       "count  70779.000000  7.077800e+04  7.077800e+04  \n",
       "mean      29.437607           inf           inf  \n",
       "std       28.083610           NaN           NaN  \n",
       "min        0.000000  1.000000e+00  4.000000e-01  \n",
       "25%       15.750000  4.069221e+01  1.817647e+01  \n",
       "50%       22.500000  6.433333e+01  2.487786e+01  \n",
       "75%       34.750000  1.200312e+02  3.801304e+01  \n",
       "max      480.000000           inf           inf  "
      ]
     },
     "execution_count": 11,
     "metadata": {},
     "output_type": "execute_result"
    }
   ],
   "source": [
    "df.describe()"
   ]
  },
  {
   "cell_type": "code",
   "execution_count": 12,
   "metadata": {},
   "outputs": [
    {
     "name": "stdout",
     "output_type": "stream",
     "text": [
      "Cantidad de registros: 70771\n"
     ]
    },
    {
     "data": {
      "text/html": [
       "<div>\n",
       "<style scoped>\n",
       "    .dataframe tbody tr th:only-of-type {\n",
       "        vertical-align: middle;\n",
       "    }\n",
       "\n",
       "    .dataframe tbody tr th {\n",
       "        vertical-align: top;\n",
       "    }\n",
       "\n",
       "    .dataframe thead th {\n",
       "        text-align: right;\n",
       "    }\n",
       "</style>\n",
       "<table border=\"1\" class=\"dataframe\">\n",
       "  <thead>\n",
       "    <tr style=\"text-align: right;\">\n",
       "      <th></th>\n",
       "      <th>property_type</th>\n",
       "      <th>price_aprox_usd</th>\n",
       "      <th>surface_total_in_m2</th>\n",
       "      <th>surface_covered_in_m2</th>\n",
       "      <th>ambientes</th>\n",
       "      <th>partido</th>\n",
       "      <th>surface_by_amb</th>\n",
       "      <th>surface_by_add</th>\n",
       "      <th>surface_covered_prop</th>\n",
       "      <th>surface_total_prop_cov</th>\n",
       "      <th>surface_cov_complete</th>\n",
       "      <th>new_rel1</th>\n",
       "      <th>new_rel2</th>\n",
       "      <th>new_rel3</th>\n",
       "      <th>new_rel4</th>\n",
       "      <th>new_rel5</th>\n",
       "      <th>new_rel6</th>\n",
       "    </tr>\n",
       "  </thead>\n",
       "  <tbody>\n",
       "    <tr>\n",
       "      <th>count</th>\n",
       "      <td>70771.000000</td>\n",
       "      <td>70771.000000</td>\n",
       "      <td>70771.000000</td>\n",
       "      <td>70771.000000</td>\n",
       "      <td>70771.000000</td>\n",
       "      <td>70771.000000</td>\n",
       "      <td>70771.000000</td>\n",
       "      <td>70771.000000</td>\n",
       "      <td>70665.000000</td>\n",
       "      <td>70771.000000</td>\n",
       "      <td>70771.000000</td>\n",
       "      <td>70771.000000</td>\n",
       "      <td>70771.000000</td>\n",
       "      <td>70771.000000</td>\n",
       "      <td>70771.000000</td>\n",
       "      <td>70771.000000</td>\n",
       "      <td>70771.000000</td>\n",
       "    </tr>\n",
       "    <tr>\n",
       "      <th>mean</th>\n",
       "      <td>1.244394</td>\n",
       "      <td>189303.113529</td>\n",
       "      <td>130.888352</td>\n",
       "      <td>89.838098</td>\n",
       "      <td>3.208546</td>\n",
       "      <td>106.369431</td>\n",
       "      <td>42.353669</td>\n",
       "      <td>220.726450</td>\n",
       "      <td>3.356698</td>\n",
       "      <td>4.156468</td>\n",
       "      <td>89.838098</td>\n",
       "      <td>223.934996</td>\n",
       "      <td>93.994565</td>\n",
       "      <td>31.233980</td>\n",
       "      <td>29.440935</td>\n",
       "      <td>91.631142</td>\n",
       "      <td>33.597402</td>\n",
       "    </tr>\n",
       "    <tr>\n",
       "      <th>std</th>\n",
       "      <td>0.562009</td>\n",
       "      <td>141717.007156</td>\n",
       "      <td>164.316331</td>\n",
       "      <td>80.185302</td>\n",
       "      <td>1.552861</td>\n",
       "      <td>119.849085</td>\n",
       "      <td>57.543767</td>\n",
       "      <td>223.881703</td>\n",
       "      <td>14.577685</td>\n",
       "      <td>22.736329</td>\n",
       "      <td>80.185302</td>\n",
       "      <td>224.451959</td>\n",
       "      <td>80.383922</td>\n",
       "      <td>30.375350</td>\n",
       "      <td>28.083453</td>\n",
       "      <td>79.981476</td>\n",
       "      <td>33.846498</td>\n",
       "    </tr>\n",
       "    <tr>\n",
       "      <th>min</th>\n",
       "      <td>0.000000</td>\n",
       "      <td>1000.000000</td>\n",
       "      <td>0.000000</td>\n",
       "      <td>1.000000</td>\n",
       "      <td>1.000000</td>\n",
       "      <td>0.000000</td>\n",
       "      <td>0.000000</td>\n",
       "      <td>1.000000</td>\n",
       "      <td>0.000806</td>\n",
       "      <td>0.000000</td>\n",
       "      <td>1.000000</td>\n",
       "      <td>2.000000</td>\n",
       "      <td>1.000000</td>\n",
       "      <td>0.142857</td>\n",
       "      <td>0.090909</td>\n",
       "      <td>1.000000</td>\n",
       "      <td>0.400000</td>\n",
       "    </tr>\n",
       "    <tr>\n",
       "      <th>25%</th>\n",
       "      <td>1.000000</td>\n",
       "      <td>90000.000000</td>\n",
       "      <td>45.000000</td>\n",
       "      <td>40.000000</td>\n",
       "      <td>2.000000</td>\n",
       "      <td>14.000000</td>\n",
       "      <td>17.760554</td>\n",
       "      <td>87.000000</td>\n",
       "      <td>0.722325</td>\n",
       "      <td>1.000000</td>\n",
       "      <td>40.000000</td>\n",
       "      <td>89.000000</td>\n",
       "      <td>42.387331</td>\n",
       "      <td>16.687075</td>\n",
       "      <td>15.750000</td>\n",
       "      <td>40.690407</td>\n",
       "      <td>18.176471</td>\n",
       "    </tr>\n",
       "    <tr>\n",
       "      <th>50%</th>\n",
       "      <td>1.000000</td>\n",
       "      <td>140000.000000</td>\n",
       "      <td>73.559193</td>\n",
       "      <td>63.000000</td>\n",
       "      <td>3.000000</td>\n",
       "      <td>50.000000</td>\n",
       "      <td>26.666667</td>\n",
       "      <td>139.583058</td>\n",
       "      <td>0.872727</td>\n",
       "      <td>1.145455</td>\n",
       "      <td>63.000000</td>\n",
       "      <td>142.000000</td>\n",
       "      <td>66.000000</td>\n",
       "      <td>23.523810</td>\n",
       "      <td>22.500000</td>\n",
       "      <td>64.333333</td>\n",
       "      <td>24.877209</td>\n",
       "    </tr>\n",
       "    <tr>\n",
       "      <th>75%</th>\n",
       "      <td>2.000000</td>\n",
       "      <td>240000.000000</td>\n",
       "      <td>152.906751</td>\n",
       "      <td>119.000000</td>\n",
       "      <td>4.000000</td>\n",
       "      <td>154.000000</td>\n",
       "      <td>45.000000</td>\n",
       "      <td>276.498431</td>\n",
       "      <td>1.000000</td>\n",
       "      <td>1.384418</td>\n",
       "      <td>119.000000</td>\n",
       "      <td>281.000000</td>\n",
       "      <td>121.166667</td>\n",
       "      <td>36.000000</td>\n",
       "      <td>34.750000</td>\n",
       "      <td>120.008333</td>\n",
       "      <td>38.000000</td>\n",
       "    </tr>\n",
       "    <tr>\n",
       "      <th>max</th>\n",
       "      <td>3.000000</td>\n",
       "      <td>815000.000000</td>\n",
       "      <td>1490.000000</td>\n",
       "      <td>485.000000</td>\n",
       "      <td>72.000000</td>\n",
       "      <td>538.000000</td>\n",
       "      <td>1354.000000</td>\n",
       "      <td>1916.000000</td>\n",
       "      <td>480.000000</td>\n",
       "      <td>1240.000000</td>\n",
       "      <td>485.000000</td>\n",
       "      <td>1921.000000</td>\n",
       "      <td>1241.000000</td>\n",
       "      <td>1241.000000</td>\n",
       "      <td>480.000000</td>\n",
       "      <td>1241.000000</td>\n",
       "      <td>1241.000000</td>\n",
       "    </tr>\n",
       "  </tbody>\n",
       "</table>\n",
       "</div>"
      ],
      "text/plain": [
       "       property_type  price_aprox_usd  surface_total_in_m2  \\\n",
       "count   70771.000000     70771.000000         70771.000000   \n",
       "mean        1.244394    189303.113529           130.888352   \n",
       "std         0.562009    141717.007156           164.316331   \n",
       "min         0.000000      1000.000000             0.000000   \n",
       "25%         1.000000     90000.000000            45.000000   \n",
       "50%         1.000000    140000.000000            73.559193   \n",
       "75%         2.000000    240000.000000           152.906751   \n",
       "max         3.000000    815000.000000          1490.000000   \n",
       "\n",
       "       surface_covered_in_m2     ambientes       partido  surface_by_amb  \\\n",
       "count           70771.000000  70771.000000  70771.000000    70771.000000   \n",
       "mean               89.838098      3.208546    106.369431       42.353669   \n",
       "std                80.185302      1.552861    119.849085       57.543767   \n",
       "min                 1.000000      1.000000      0.000000        0.000000   \n",
       "25%                40.000000      2.000000     14.000000       17.760554   \n",
       "50%                63.000000      3.000000     50.000000       26.666667   \n",
       "75%               119.000000      4.000000    154.000000       45.000000   \n",
       "max               485.000000     72.000000    538.000000     1354.000000   \n",
       "\n",
       "       surface_by_add  surface_covered_prop  surface_total_prop_cov  \\\n",
       "count    70771.000000          70665.000000            70771.000000   \n",
       "mean       220.726450              3.356698                4.156468   \n",
       "std        223.881703             14.577685               22.736329   \n",
       "min          1.000000              0.000806                0.000000   \n",
       "25%         87.000000              0.722325                1.000000   \n",
       "50%        139.583058              0.872727                1.145455   \n",
       "75%        276.498431              1.000000                1.384418   \n",
       "max       1916.000000            480.000000             1240.000000   \n",
       "\n",
       "       surface_cov_complete      new_rel1      new_rel2      new_rel3  \\\n",
       "count          70771.000000  70771.000000  70771.000000  70771.000000   \n",
       "mean              89.838098    223.934996     93.994565     31.233980   \n",
       "std               80.185302    224.451959     80.383922     30.375350   \n",
       "min                1.000000      2.000000      1.000000      0.142857   \n",
       "25%               40.000000     89.000000     42.387331     16.687075   \n",
       "50%               63.000000    142.000000     66.000000     23.523810   \n",
       "75%              119.000000    281.000000    121.166667     36.000000   \n",
       "max              485.000000   1921.000000   1241.000000   1241.000000   \n",
       "\n",
       "           new_rel4      new_rel5      new_rel6  \n",
       "count  70771.000000  70771.000000  70771.000000  \n",
       "mean      29.440935     91.631142     33.597402  \n",
       "std       28.083453     79.981476     33.846498  \n",
       "min        0.090909      1.000000      0.400000  \n",
       "25%       15.750000     40.690407     18.176471  \n",
       "50%       22.500000     64.333333     24.877209  \n",
       "75%       34.750000    120.008333     38.000000  \n",
       "max      480.000000   1241.000000   1241.000000  "
      ]
     },
     "execution_count": 12,
     "metadata": {},
     "output_type": "execute_result"
    }
   ],
   "source": [
    "# Por alguna razon existen valores infinitos: Los eliminamos\n",
    "df = df.replace([np.inf, -np.inf], np.nan).dropna(subset=[\"new_rel2\",\"new_rel5\"], how=\"all\")\n",
    "print(\"Cantidad de registros:\",len(df))\n",
    "df.describe()"
   ]
  },
  {
   "cell_type": "markdown",
   "metadata": {},
   "source": [
    "### Eliminamos los campos que no vamos a utilizar"
   ]
  },
  {
   "cell_type": "code",
   "execution_count": 15,
   "metadata": {},
   "outputs": [
    {
     "data": {
      "text/html": [
       "<div>\n",
       "<style scoped>\n",
       "    .dataframe tbody tr th:only-of-type {\n",
       "        vertical-align: middle;\n",
       "    }\n",
       "\n",
       "    .dataframe tbody tr th {\n",
       "        vertical-align: top;\n",
       "    }\n",
       "\n",
       "    .dataframe thead th {\n",
       "        text-align: right;\n",
       "    }\n",
       "</style>\n",
       "<table border=\"1\" class=\"dataframe\">\n",
       "  <thead>\n",
       "    <tr style=\"text-align: right;\">\n",
       "      <th></th>\n",
       "      <th>property_type</th>\n",
       "      <th>price_aprox_usd</th>\n",
       "      <th>partido</th>\n",
       "      <th>new_rel2</th>\n",
       "      <th>new_rel5</th>\n",
       "    </tr>\n",
       "  </thead>\n",
       "  <tbody>\n",
       "    <tr>\n",
       "      <th>32548</th>\n",
       "      <td>1</td>\n",
       "      <td>135000.0</td>\n",
       "      <td>9.0</td>\n",
       "      <td>76.0</td>\n",
       "      <td>75.2</td>\n",
       "    </tr>\n",
       "  </tbody>\n",
       "</table>\n",
       "</div>"
      ],
      "text/plain": [
       "       property_type  price_aprox_usd  partido  new_rel2  new_rel5\n",
       "32548              1         135000.0      9.0      76.0      75.2"
      ]
     },
     "execution_count": 15,
     "metadata": {},
     "output_type": "execute_result"
    }
   ],
   "source": [
    "#  Rompo todas las columnas que no voy a utilizar\n",
    "# ◔̯◔\n",
    "to_drop = [\n",
    "            'new_rel1', 'new_rel3', 'new_rel4', 'new_rel6', \n",
    "            'surface_by_amb','surface_by_add',\n",
    "            'surface_covered_prop','surface_total_prop_cov',\n",
    "            'surface_cov_complete','ambientes',\n",
    "            'surface_covered_in_m2',\n",
    "            'surface_total_in_m2',\n",
    "#             'property_type',\n",
    "] \n",
    "df.drop(columns=to_drop, inplace=True) #aplicar drop\n",
    "df.sample(1)"
   ]
  },
  {
   "cell_type": "code",
   "execution_count": 16,
   "metadata": {},
   "outputs": [
    {
     "data": {
      "text/html": [
       "<div>\n",
       "<style scoped>\n",
       "    .dataframe tbody tr th:only-of-type {\n",
       "        vertical-align: middle;\n",
       "    }\n",
       "\n",
       "    .dataframe tbody tr th {\n",
       "        vertical-align: top;\n",
       "    }\n",
       "\n",
       "    .dataframe thead th {\n",
       "        text-align: right;\n",
       "    }\n",
       "</style>\n",
       "<table border=\"1\" class=\"dataframe\">\n",
       "  <thead>\n",
       "    <tr style=\"text-align: right;\">\n",
       "      <th></th>\n",
       "      <th>property_type</th>\n",
       "      <th>price_aprox_usd</th>\n",
       "      <th>partido</th>\n",
       "      <th>new_rel2</th>\n",
       "      <th>new_rel5</th>\n",
       "    </tr>\n",
       "  </thead>\n",
       "  <tbody>\n",
       "    <tr>\n",
       "      <th>count</th>\n",
       "      <td>70771.000000</td>\n",
       "      <td>70771.000000</td>\n",
       "      <td>70771.000000</td>\n",
       "      <td>70771.000000</td>\n",
       "      <td>70771.000000</td>\n",
       "    </tr>\n",
       "    <tr>\n",
       "      <th>mean</th>\n",
       "      <td>1.244394</td>\n",
       "      <td>189303.113529</td>\n",
       "      <td>106.369431</td>\n",
       "      <td>93.994565</td>\n",
       "      <td>91.631142</td>\n",
       "    </tr>\n",
       "    <tr>\n",
       "      <th>std</th>\n",
       "      <td>0.562009</td>\n",
       "      <td>141717.007156</td>\n",
       "      <td>119.849085</td>\n",
       "      <td>80.383922</td>\n",
       "      <td>79.981476</td>\n",
       "    </tr>\n",
       "    <tr>\n",
       "      <th>min</th>\n",
       "      <td>0.000000</td>\n",
       "      <td>1000.000000</td>\n",
       "      <td>0.000000</td>\n",
       "      <td>1.000000</td>\n",
       "      <td>1.000000</td>\n",
       "    </tr>\n",
       "    <tr>\n",
       "      <th>25%</th>\n",
       "      <td>1.000000</td>\n",
       "      <td>90000.000000</td>\n",
       "      <td>14.000000</td>\n",
       "      <td>42.387331</td>\n",
       "      <td>40.690407</td>\n",
       "    </tr>\n",
       "    <tr>\n",
       "      <th>50%</th>\n",
       "      <td>1.000000</td>\n",
       "      <td>140000.000000</td>\n",
       "      <td>50.000000</td>\n",
       "      <td>66.000000</td>\n",
       "      <td>64.333333</td>\n",
       "    </tr>\n",
       "    <tr>\n",
       "      <th>75%</th>\n",
       "      <td>2.000000</td>\n",
       "      <td>240000.000000</td>\n",
       "      <td>154.000000</td>\n",
       "      <td>121.166667</td>\n",
       "      <td>120.008333</td>\n",
       "    </tr>\n",
       "    <tr>\n",
       "      <th>max</th>\n",
       "      <td>3.000000</td>\n",
       "      <td>815000.000000</td>\n",
       "      <td>538.000000</td>\n",
       "      <td>1241.000000</td>\n",
       "      <td>1241.000000</td>\n",
       "    </tr>\n",
       "  </tbody>\n",
       "</table>\n",
       "</div>"
      ],
      "text/plain": [
       "       property_type  price_aprox_usd       partido      new_rel2  \\\n",
       "count   70771.000000     70771.000000  70771.000000  70771.000000   \n",
       "mean        1.244394    189303.113529    106.369431     93.994565   \n",
       "std         0.562009    141717.007156    119.849085     80.383922   \n",
       "min         0.000000      1000.000000      0.000000      1.000000   \n",
       "25%         1.000000     90000.000000     14.000000     42.387331   \n",
       "50%         1.000000    140000.000000     50.000000     66.000000   \n",
       "75%         2.000000    240000.000000    154.000000    121.166667   \n",
       "max         3.000000    815000.000000    538.000000   1241.000000   \n",
       "\n",
       "           new_rel5  \n",
       "count  70771.000000  \n",
       "mean      91.631142  \n",
       "std       79.981476  \n",
       "min        1.000000  \n",
       "25%       40.690407  \n",
       "50%       64.333333  \n",
       "75%      120.008333  \n",
       "max     1241.000000  "
      ]
     },
     "execution_count": 16,
     "metadata": {},
     "output_type": "execute_result"
    }
   ],
   "source": [
    "df.describe()"
   ]
  },
  {
   "cell_type": "code",
   "execution_count": 17,
   "metadata": {},
   "outputs": [
    {
     "name": "stdout",
     "output_type": "stream",
     "text": [
      "(69998, 17)\n",
      "(70771, 5)\n"
     ]
    }
   ],
   "source": [
    "# Elimino nulos en todas las columas\n",
    "columnas_principales_train = ['price_aprox_usd','partido','new_rel2','new_rel5']\n",
    "df = df.dropna(axis =0 , how = 'any', subset = columnas_principales_train)\n",
    "print(df_train.shape)\n",
    "# Elimino un cero de la columna price\n",
    "df = df[df.price_aprox_usd>0]\n",
    "print(df.shape)"
   ]
  },
  {
   "cell_type": "markdown",
   "metadata": {},
   "source": [
    "#### Plot Pairwaise"
   ]
  },
  {
   "cell_type": "code",
   "execution_count": null,
   "metadata": {},
   "outputs": [
    {
     "name": "stderr",
     "output_type": "stream",
     "text": [
      "/opt/conda/lib/python3.6/site-packages/scipy/stats/stats.py:1713: FutureWarning:\n",
      "\n",
      "Using a non-tuple sequence for multidimensional indexing is deprecated; use `arr[tuple(seq)]` instead of `arr[seq]`. In the future this will be interpreted as an array index, `arr[np.array(seq)]`, which will result either in an error or a different result.\n",
      "\n",
      "/opt/conda/lib/python3.6/site-packages/statsmodels/nonparametric/kde.py:488: RuntimeWarning:\n",
      "\n",
      "invalid value encountered in true_divide\n",
      "\n",
      "/opt/conda/lib/python3.6/site-packages/statsmodels/nonparametric/kdetools.py:34: RuntimeWarning:\n",
      "\n",
      "invalid value encountered in double_scalars\n",
      "\n",
      "/opt/conda/lib/python3.6/site-packages/numpy/core/fromnumeric.py:83: RuntimeWarning:\n",
      "\n",
      "invalid value encountered in reduce\n",
      "\n",
      "/opt/conda/lib/python3.6/site-packages/statsmodels/nonparametric/kde.py:448: RuntimeWarning:\n",
      "\n",
      "invalid value encountered in greater\n",
      "\n",
      "/opt/conda/lib/python3.6/site-packages/statsmodels/nonparametric/kde.py:448: RuntimeWarning:\n",
      "\n",
      "invalid value encountered in less\n",
      "\n"
     ]
    }
   ],
   "source": [
    "# !!! Tarda unos minutos\n",
    "g = sns.pairplot(df_train, hue=\"property_type\")"
   ]
  },
  {
   "cell_type": "markdown",
   "metadata": {},
   "source": [
    "#### Crear dummies para las siguientes categoricas:\n",
    "    * partido\n",
    "    * property_type"
   ]
  },
  {
   "cell_type": "code",
   "execution_count": null,
   "metadata": {},
   "outputs": [],
   "source": [
    "#### *partido\n",
    "df = pd.concat([df_train, pd.get_dummies(data = df['partido'], prefix= 'dum_part')], axis = 1)\n",
    "#### *property_type\n",
    "df = pd.concat([df_train, pd.get_dummies(data = df['property_type'], prefix= 'dum_tprop')], axis = 1)"
   ]
  },
  {
   "cell_type": "markdown",
   "metadata": {},
   "source": [
    "##### Dropeamos columnas pasadas a dummies"
   ]
  },
  {
   "cell_type": "code",
   "execution_count": 255,
   "metadata": {},
   "outputs": [
    {
     "data": {
      "text/html": [
       "<div>\n",
       "<style scoped>\n",
       "    .dataframe tbody tr th:only-of-type {\n",
       "        vertical-align: middle;\n",
       "    }\n",
       "\n",
       "    .dataframe tbody tr th {\n",
       "        vertical-align: top;\n",
       "    }\n",
       "\n",
       "    .dataframe thead th {\n",
       "        text-align: right;\n",
       "    }\n",
       "</style>\n",
       "<table border=\"1\" class=\"dataframe\">\n",
       "  <thead>\n",
       "    <tr style=\"text-align: right;\">\n",
       "      <th></th>\n",
       "      <th>price_aprox_usd</th>\n",
       "      <th>new_rel2</th>\n",
       "      <th>new_rel5</th>\n",
       "      <th>dum_part_0.0</th>\n",
       "      <th>dum_part_1.0</th>\n",
       "      <th>dum_part_2.0</th>\n",
       "      <th>dum_part_3.0</th>\n",
       "      <th>dum_part_4.0</th>\n",
       "      <th>dum_part_5.0</th>\n",
       "      <th>dum_part_6.0</th>\n",
       "      <th>...</th>\n",
       "      <th>dum_part_525.0</th>\n",
       "      <th>dum_part_528.0</th>\n",
       "      <th>dum_part_529.0</th>\n",
       "      <th>dum_part_534.0</th>\n",
       "      <th>dum_part_535.0</th>\n",
       "      <th>dum_part_538.0</th>\n",
       "      <th>dum_tprop_0</th>\n",
       "      <th>dum_tprop_1</th>\n",
       "      <th>dum_tprop_2</th>\n",
       "      <th>dum_tprop_3</th>\n",
       "    </tr>\n",
       "  </thead>\n",
       "  <tbody>\n",
       "    <tr>\n",
       "      <th>27260</th>\n",
       "      <td>610000.0</td>\n",
       "      <td>203.5</td>\n",
       "      <td>201.166667</td>\n",
       "      <td>0</td>\n",
       "      <td>0</td>\n",
       "      <td>0</td>\n",
       "      <td>0</td>\n",
       "      <td>0</td>\n",
       "      <td>0</td>\n",
       "      <td>0</td>\n",
       "      <td>...</td>\n",
       "      <td>0</td>\n",
       "      <td>0</td>\n",
       "      <td>0</td>\n",
       "      <td>0</td>\n",
       "      <td>0</td>\n",
       "      <td>0</td>\n",
       "      <td>0</td>\n",
       "      <td>0</td>\n",
       "      <td>1</td>\n",
       "      <td>0</td>\n",
       "    </tr>\n",
       "  </tbody>\n",
       "</table>\n",
       "<p>1 rows × 369 columns</p>\n",
       "</div>"
      ],
      "text/plain": [
       "       price_aprox_usd  new_rel2    new_rel5  dum_part_0.0  dum_part_1.0  \\\n",
       "27260         610000.0     203.5  201.166667             0             0   \n",
       "\n",
       "       dum_part_2.0  dum_part_3.0  dum_part_4.0  dum_part_5.0  dum_part_6.0  \\\n",
       "27260             0             0             0             0             0   \n",
       "\n",
       "          ...       dum_part_525.0  dum_part_528.0  dum_part_529.0  \\\n",
       "27260     ...                    0               0               0   \n",
       "\n",
       "       dum_part_534.0  dum_part_535.0  dum_part_538.0  dum_tprop_0  \\\n",
       "27260               0               0               0            0   \n",
       "\n",
       "       dum_tprop_1  dum_tprop_2  dum_tprop_3  \n",
       "27260            0            1            0  \n",
       "\n",
       "[1 rows x 369 columns]"
      ]
     },
     "execution_count": 255,
     "metadata": {},
     "output_type": "execute_result"
    }
   ],
   "source": [
    "to_drop = [\n",
    "            'partido', \n",
    "            'property_type',\n",
    "] \n",
    "df.drop(columns=to_drop, inplace=True) #aplicar drop\n",
    "df.sample(1)"
   ]
  },
  {
   "cell_type": "markdown",
   "metadata": {},
   "source": [
    "### Probamos score de modelos de regresion lineal combinando nuestras variables\n",
    "***Pruebo score del modelo con las siguientes combinaciones:***\n",
    "    * new_rel2, property_type y partido\n",
    "    * new_rel5, property_type y partido\n",
    "    * new_rel2, new_rel5, property_type y partido\n",
    "\n",
    "A continuación no se muestran todos los resultados, pero al final se puede ver el score para cada test realizado:"
   ]
  },
  {
   "cell_type": "code",
   "execution_count": 256,
   "metadata": {},
   "outputs": [
    {
     "data": {
      "text/html": [
       "<div>\n",
       "<style scoped>\n",
       "    .dataframe tbody tr th:only-of-type {\n",
       "        vertical-align: middle;\n",
       "    }\n",
       "\n",
       "    .dataframe tbody tr th {\n",
       "        vertical-align: top;\n",
       "    }\n",
       "\n",
       "    .dataframe thead th {\n",
       "        text-align: right;\n",
       "    }\n",
       "</style>\n",
       "<table border=\"1\" class=\"dataframe\">\n",
       "  <thead>\n",
       "    <tr style=\"text-align: right;\">\n",
       "      <th></th>\n",
       "      <th>new_rel2</th>\n",
       "      <th>dum_part_0.0</th>\n",
       "      <th>dum_part_1.0</th>\n",
       "      <th>dum_part_2.0</th>\n",
       "      <th>dum_part_3.0</th>\n",
       "      <th>dum_part_4.0</th>\n",
       "      <th>dum_part_5.0</th>\n",
       "      <th>dum_part_6.0</th>\n",
       "      <th>dum_part_7.0</th>\n",
       "      <th>dum_part_8.0</th>\n",
       "      <th>...</th>\n",
       "      <th>dum_part_525.0</th>\n",
       "      <th>dum_part_528.0</th>\n",
       "      <th>dum_part_529.0</th>\n",
       "      <th>dum_part_534.0</th>\n",
       "      <th>dum_part_535.0</th>\n",
       "      <th>dum_part_538.0</th>\n",
       "      <th>dum_tprop_0</th>\n",
       "      <th>dum_tprop_1</th>\n",
       "      <th>dum_tprop_2</th>\n",
       "      <th>dum_tprop_3</th>\n",
       "    </tr>\n",
       "  </thead>\n",
       "  <tbody>\n",
       "    <tr>\n",
       "      <th>38495</th>\n",
       "      <td>91.066667</td>\n",
       "      <td>0</td>\n",
       "      <td>0</td>\n",
       "      <td>0</td>\n",
       "      <td>0</td>\n",
       "      <td>0</td>\n",
       "      <td>0</td>\n",
       "      <td>0</td>\n",
       "      <td>0</td>\n",
       "      <td>0</td>\n",
       "      <td>...</td>\n",
       "      <td>0</td>\n",
       "      <td>0</td>\n",
       "      <td>0</td>\n",
       "      <td>0</td>\n",
       "      <td>0</td>\n",
       "      <td>0</td>\n",
       "      <td>0</td>\n",
       "      <td>1</td>\n",
       "      <td>0</td>\n",
       "      <td>0</td>\n",
       "    </tr>\n",
       "    <tr>\n",
       "      <th>1098</th>\n",
       "      <td>66.000000</td>\n",
       "      <td>0</td>\n",
       "      <td>0</td>\n",
       "      <td>0</td>\n",
       "      <td>0</td>\n",
       "      <td>0</td>\n",
       "      <td>0</td>\n",
       "      <td>0</td>\n",
       "      <td>0</td>\n",
       "      <td>0</td>\n",
       "      <td>...</td>\n",
       "      <td>0</td>\n",
       "      <td>0</td>\n",
       "      <td>0</td>\n",
       "      <td>0</td>\n",
       "      <td>0</td>\n",
       "      <td>0</td>\n",
       "      <td>1</td>\n",
       "      <td>0</td>\n",
       "      <td>0</td>\n",
       "      <td>0</td>\n",
       "    </tr>\n",
       "  </tbody>\n",
       "</table>\n",
       "<p>2 rows × 367 columns</p>\n",
       "</div>"
      ],
      "text/plain": [
       "        new_rel2  dum_part_0.0  dum_part_1.0  dum_part_2.0  dum_part_3.0  \\\n",
       "38495  91.066667             0             0             0             0   \n",
       "1098   66.000000             0             0             0             0   \n",
       "\n",
       "       dum_part_4.0  dum_part_5.0  dum_part_6.0  dum_part_7.0  dum_part_8.0  \\\n",
       "38495             0             0             0             0             0   \n",
       "1098              0             0             0             0             0   \n",
       "\n",
       "          ...       dum_part_525.0  dum_part_528.0  dum_part_529.0  \\\n",
       "38495     ...                    0               0               0   \n",
       "1098      ...                    0               0               0   \n",
       "\n",
       "       dum_part_534.0  dum_part_535.0  dum_part_538.0  dum_tprop_0  \\\n",
       "38495               0               0               0            0   \n",
       "1098                0               0               0            1   \n",
       "\n",
       "       dum_tprop_1  dum_tprop_2  dum_tprop_3  \n",
       "38495            1            0            0  \n",
       "1098             0            0            0  \n",
       "\n",
       "[2 rows x 367 columns]"
      ]
     },
     "execution_count": 256,
     "metadata": {},
     "output_type": "execute_result"
    }
   ],
   "source": [
    "#Test1: Solo new_rel2\n",
    "X = df_train.drop(['price_aprox_usd','new_rel5'], axis = 1)\n",
    "#Test2: Solo new_rel5\n",
    "# X = df_train.drop(['price_aprox_usd','new_rel2'], axis = 1)\n",
    "#Test3: new_rel2 y new_rel5\n",
    "# X = df_train.drop(['price_aprox_usd'], axis = 1)\n",
    "y = df_train['price_aprox_usd']\n",
    "\n",
    "# Train y Test\n",
    "X_train, X_test, y_train, y_test = train_test_split(X, y, test_size=0.25, random_state=1)\n",
    "X.sample(2)"
   ]
  },
  {
   "cell_type": "markdown",
   "metadata": {},
   "source": [
    "#### Regresion linear: Aplico training sobre las variables seleccionadas"
   ]
  },
  {
   "cell_type": "code",
   "execution_count": 234,
   "metadata": {},
   "outputs": [
    {
     "name": "stdout",
     "output_type": "stream",
     "text": [
      "Model Score: 0.5368434879610611\n"
     ]
    }
   ],
   "source": [
    "lm = LinearRegression()\n",
    "\n",
    "model = lm.fit(X_train, y_train)\n",
    "predictions = lm.predict(X_train)\n",
    "model_score = model.score(X_test, y_test)\n",
    "print('Model Score:',model_score)"
   ]
  },
  {
   "cell_type": "markdown",
   "metadata": {},
   "source": [
    "##### Resultado:\n",
    "Todas las pruebas se hacen probando con **dummies** en **property_types** y **partido**\n",
    " * score con **new_rel2**: 0.5368434879610611\n",
    " * score con **new_rel5**: 0.5344155375650685\n",
    " * score con **new_rel2** y **new_rel5**: 0.5304537942097489\n",
    " \n",
    " ***Conclusión: Como el mejor score lo obtuvimos new_rel2 seguimos con esta variable (new_rel2 y new_rel5 juntas no son considerablemente mejores)***\n",
    " "
   ]
  },
  {
   "cell_type": "code",
   "execution_count": 79,
   "metadata": {},
   "outputs": [],
   "source": [
    "#### Divido variable independiente price de x\n",
    "price=df_train.price_aprox_usd\n",
    "x = df_train.drop(columns=['price_aprox_usd'])\n",
    "info = df_train.drop(columns=['price_aprox_usd'])"
   ]
  },
  {
   "cell_type": "code",
   "execution_count": 81,
   "metadata": {},
   "outputs": [
    {
     "data": {
      "text/html": [
       "<div>\n",
       "<style scoped>\n",
       "    .dataframe tbody tr th:only-of-type {\n",
       "        vertical-align: middle;\n",
       "    }\n",
       "\n",
       "    .dataframe tbody tr th {\n",
       "        vertical-align: top;\n",
       "    }\n",
       "\n",
       "    .dataframe thead th {\n",
       "        text-align: right;\n",
       "    }\n",
       "</style>\n",
       "<table border=\"1\" class=\"dataframe\">\n",
       "  <thead>\n",
       "    <tr style=\"text-align: right;\">\n",
       "      <th></th>\n",
       "      <th>new_rel2</th>\n",
       "      <th>new_rel5</th>\n",
       "      <th>dum_part_0.0</th>\n",
       "      <th>dum_part_1.0</th>\n",
       "      <th>dum_part_2.0</th>\n",
       "      <th>dum_part_3.0</th>\n",
       "      <th>dum_part_4.0</th>\n",
       "      <th>dum_part_5.0</th>\n",
       "      <th>dum_part_6.0</th>\n",
       "      <th>dum_part_7.0</th>\n",
       "      <th>...</th>\n",
       "      <th>dum_part_525.0</th>\n",
       "      <th>dum_part_528.0</th>\n",
       "      <th>dum_part_529.0</th>\n",
       "      <th>dum_part_534.0</th>\n",
       "      <th>dum_part_535.0</th>\n",
       "      <th>dum_part_538.0</th>\n",
       "      <th>dum_tprop_0</th>\n",
       "      <th>dum_tprop_1</th>\n",
       "      <th>dum_tprop_2</th>\n",
       "      <th>dum_tprop_3</th>\n",
       "    </tr>\n",
       "  </thead>\n",
       "  <tbody>\n",
       "    <tr>\n",
       "      <th>count</th>\n",
       "      <td>53156.000000</td>\n",
       "      <td>53156.000000</td>\n",
       "      <td>53156.000000</td>\n",
       "      <td>53156.000000</td>\n",
       "      <td>53156.000000</td>\n",
       "      <td>53156.000000</td>\n",
       "      <td>53156.000000</td>\n",
       "      <td>53156.000000</td>\n",
       "      <td>53156.000000</td>\n",
       "      <td>53156.000000</td>\n",
       "      <td>...</td>\n",
       "      <td>53156.000000</td>\n",
       "      <td>53156.000000</td>\n",
       "      <td>53156.000000</td>\n",
       "      <td>53156.000000</td>\n",
       "      <td>53156.000000</td>\n",
       "      <td>53156.000000</td>\n",
       "      <td>53156.000000</td>\n",
       "      <td>53156.000000</td>\n",
       "      <td>53156.000000</td>\n",
       "      <td>53156.000000</td>\n",
       "    </tr>\n",
       "    <tr>\n",
       "      <th>mean</th>\n",
       "      <td>93.830535</td>\n",
       "      <td>91.456105</td>\n",
       "      <td>0.015332</td>\n",
       "      <td>0.017627</td>\n",
       "      <td>0.001336</td>\n",
       "      <td>0.003537</td>\n",
       "      <td>0.024212</td>\n",
       "      <td>0.010385</td>\n",
       "      <td>0.027391</td>\n",
       "      <td>0.012285</td>\n",
       "      <td>...</td>\n",
       "      <td>0.000113</td>\n",
       "      <td>0.000207</td>\n",
       "      <td>0.000038</td>\n",
       "      <td>0.001185</td>\n",
       "      <td>0.000038</td>\n",
       "      <td>0.000169</td>\n",
       "      <td>0.060633</td>\n",
       "      <td>0.639721</td>\n",
       "      <td>0.294868</td>\n",
       "      <td>0.004778</td>\n",
       "    </tr>\n",
       "    <tr>\n",
       "      <th>std</th>\n",
       "      <td>80.153288</td>\n",
       "      <td>79.779816</td>\n",
       "      <td>0.122872</td>\n",
       "      <td>0.131594</td>\n",
       "      <td>0.036523</td>\n",
       "      <td>0.059366</td>\n",
       "      <td>0.153707</td>\n",
       "      <td>0.101375</td>\n",
       "      <td>0.163222</td>\n",
       "      <td>0.110154</td>\n",
       "      <td>...</td>\n",
       "      <td>0.010624</td>\n",
       "      <td>0.014384</td>\n",
       "      <td>0.006134</td>\n",
       "      <td>0.034407</td>\n",
       "      <td>0.006134</td>\n",
       "      <td>0.013011</td>\n",
       "      <td>0.238658</td>\n",
       "      <td>0.480086</td>\n",
       "      <td>0.455988</td>\n",
       "      <td>0.068961</td>\n",
       "    </tr>\n",
       "    <tr>\n",
       "      <th>min</th>\n",
       "      <td>1.000000</td>\n",
       "      <td>1.000000</td>\n",
       "      <td>0.000000</td>\n",
       "      <td>0.000000</td>\n",
       "      <td>0.000000</td>\n",
       "      <td>0.000000</td>\n",
       "      <td>0.000000</td>\n",
       "      <td>0.000000</td>\n",
       "      <td>0.000000</td>\n",
       "      <td>0.000000</td>\n",
       "      <td>...</td>\n",
       "      <td>0.000000</td>\n",
       "      <td>0.000000</td>\n",
       "      <td>0.000000</td>\n",
       "      <td>0.000000</td>\n",
       "      <td>0.000000</td>\n",
       "      <td>0.000000</td>\n",
       "      <td>0.000000</td>\n",
       "      <td>0.000000</td>\n",
       "      <td>0.000000</td>\n",
       "      <td>0.000000</td>\n",
       "    </tr>\n",
       "    <tr>\n",
       "      <th>25%</th>\n",
       "      <td>42.444695</td>\n",
       "      <td>40.688605</td>\n",
       "      <td>0.000000</td>\n",
       "      <td>0.000000</td>\n",
       "      <td>0.000000</td>\n",
       "      <td>0.000000</td>\n",
       "      <td>0.000000</td>\n",
       "      <td>0.000000</td>\n",
       "      <td>0.000000</td>\n",
       "      <td>0.000000</td>\n",
       "      <td>...</td>\n",
       "      <td>0.000000</td>\n",
       "      <td>0.000000</td>\n",
       "      <td>0.000000</td>\n",
       "      <td>0.000000</td>\n",
       "      <td>0.000000</td>\n",
       "      <td>0.000000</td>\n",
       "      <td>0.000000</td>\n",
       "      <td>0.000000</td>\n",
       "      <td>0.000000</td>\n",
       "      <td>0.000000</td>\n",
       "    </tr>\n",
       "    <tr>\n",
       "      <th>50%</th>\n",
       "      <td>66.000000</td>\n",
       "      <td>64.265625</td>\n",
       "      <td>0.000000</td>\n",
       "      <td>0.000000</td>\n",
       "      <td>0.000000</td>\n",
       "      <td>0.000000</td>\n",
       "      <td>0.000000</td>\n",
       "      <td>0.000000</td>\n",
       "      <td>0.000000</td>\n",
       "      <td>0.000000</td>\n",
       "      <td>...</td>\n",
       "      <td>0.000000</td>\n",
       "      <td>0.000000</td>\n",
       "      <td>0.000000</td>\n",
       "      <td>0.000000</td>\n",
       "      <td>0.000000</td>\n",
       "      <td>0.000000</td>\n",
       "      <td>0.000000</td>\n",
       "      <td>1.000000</td>\n",
       "      <td>0.000000</td>\n",
       "      <td>0.000000</td>\n",
       "    </tr>\n",
       "    <tr>\n",
       "      <th>75%</th>\n",
       "      <td>121.083333</td>\n",
       "      <td>120.004167</td>\n",
       "      <td>0.000000</td>\n",
       "      <td>0.000000</td>\n",
       "      <td>0.000000</td>\n",
       "      <td>0.000000</td>\n",
       "      <td>0.000000</td>\n",
       "      <td>0.000000</td>\n",
       "      <td>0.000000</td>\n",
       "      <td>0.000000</td>\n",
       "      <td>...</td>\n",
       "      <td>0.000000</td>\n",
       "      <td>0.000000</td>\n",
       "      <td>0.000000</td>\n",
       "      <td>0.000000</td>\n",
       "      <td>0.000000</td>\n",
       "      <td>0.000000</td>\n",
       "      <td>0.000000</td>\n",
       "      <td>1.000000</td>\n",
       "      <td>1.000000</td>\n",
       "      <td>0.000000</td>\n",
       "    </tr>\n",
       "    <tr>\n",
       "      <th>max</th>\n",
       "      <td>1061.000000</td>\n",
       "      <td>1061.000000</td>\n",
       "      <td>1.000000</td>\n",
       "      <td>1.000000</td>\n",
       "      <td>1.000000</td>\n",
       "      <td>1.000000</td>\n",
       "      <td>1.000000</td>\n",
       "      <td>1.000000</td>\n",
       "      <td>1.000000</td>\n",
       "      <td>1.000000</td>\n",
       "      <td>...</td>\n",
       "      <td>1.000000</td>\n",
       "      <td>1.000000</td>\n",
       "      <td>1.000000</td>\n",
       "      <td>1.000000</td>\n",
       "      <td>1.000000</td>\n",
       "      <td>1.000000</td>\n",
       "      <td>1.000000</td>\n",
       "      <td>1.000000</td>\n",
       "      <td>1.000000</td>\n",
       "      <td>1.000000</td>\n",
       "    </tr>\n",
       "  </tbody>\n",
       "</table>\n",
       "<p>8 rows × 368 columns</p>\n",
       "</div>"
      ],
      "text/plain": [
       "           new_rel2      new_rel5  dum_part_0.0  dum_part_1.0  dum_part_2.0  \\\n",
       "count  53156.000000  53156.000000  53156.000000  53156.000000  53156.000000   \n",
       "mean      93.830535     91.456105      0.015332      0.017627      0.001336   \n",
       "std       80.153288     79.779816      0.122872      0.131594      0.036523   \n",
       "min        1.000000      1.000000      0.000000      0.000000      0.000000   \n",
       "25%       42.444695     40.688605      0.000000      0.000000      0.000000   \n",
       "50%       66.000000     64.265625      0.000000      0.000000      0.000000   \n",
       "75%      121.083333    120.004167      0.000000      0.000000      0.000000   \n",
       "max     1061.000000   1061.000000      1.000000      1.000000      1.000000   \n",
       "\n",
       "       dum_part_3.0  dum_part_4.0  dum_part_5.0  dum_part_6.0  dum_part_7.0  \\\n",
       "count  53156.000000  53156.000000  53156.000000  53156.000000  53156.000000   \n",
       "mean       0.003537      0.024212      0.010385      0.027391      0.012285   \n",
       "std        0.059366      0.153707      0.101375      0.163222      0.110154   \n",
       "min        0.000000      0.000000      0.000000      0.000000      0.000000   \n",
       "25%        0.000000      0.000000      0.000000      0.000000      0.000000   \n",
       "50%        0.000000      0.000000      0.000000      0.000000      0.000000   \n",
       "75%        0.000000      0.000000      0.000000      0.000000      0.000000   \n",
       "max        1.000000      1.000000      1.000000      1.000000      1.000000   \n",
       "\n",
       "           ...       dum_part_525.0  dum_part_528.0  dum_part_529.0  \\\n",
       "count      ...         53156.000000    53156.000000    53156.000000   \n",
       "mean       ...             0.000113        0.000207        0.000038   \n",
       "std        ...             0.010624        0.014384        0.006134   \n",
       "min        ...             0.000000        0.000000        0.000000   \n",
       "25%        ...             0.000000        0.000000        0.000000   \n",
       "50%        ...             0.000000        0.000000        0.000000   \n",
       "75%        ...             0.000000        0.000000        0.000000   \n",
       "max        ...             1.000000        1.000000        1.000000   \n",
       "\n",
       "       dum_part_534.0  dum_part_535.0  dum_part_538.0   dum_tprop_0  \\\n",
       "count    53156.000000    53156.000000    53156.000000  53156.000000   \n",
       "mean         0.001185        0.000038        0.000169      0.060633   \n",
       "std          0.034407        0.006134        0.013011      0.238658   \n",
       "min          0.000000        0.000000        0.000000      0.000000   \n",
       "25%          0.000000        0.000000        0.000000      0.000000   \n",
       "50%          0.000000        0.000000        0.000000      0.000000   \n",
       "75%          0.000000        0.000000        0.000000      0.000000   \n",
       "max          1.000000        1.000000        1.000000      1.000000   \n",
       "\n",
       "        dum_tprop_1   dum_tprop_2   dum_tprop_3  \n",
       "count  53156.000000  53156.000000  53156.000000  \n",
       "mean       0.639721      0.294868      0.004778  \n",
       "std        0.480086      0.455988      0.068961  \n",
       "min        0.000000      0.000000      0.000000  \n",
       "25%        0.000000      0.000000      0.000000  \n",
       "50%        1.000000      0.000000      0.000000  \n",
       "75%        1.000000      1.000000      0.000000  \n",
       "max        1.000000      1.000000      1.000000  \n",
       "\n",
       "[8 rows x 368 columns]"
      ]
     },
     "execution_count": 81,
     "metadata": {},
     "output_type": "execute_result"
    }
   ],
   "source": [
    "x.describe()"
   ]
  },
  {
   "cell_type": "markdown",
   "metadata": {},
   "source": [
    "### Analisis de model score agrupando por Partido\n",
    "Los pasos que vamos a realizar son los siguientes:\n",
    "* Obtener df_train original\n",
    "* Eliminar columnas que no utilizamos, nulos y precios en cero\n",
    "* Evaluamos algunos casos, para ello vamos a elegir los partidos que mas registros tienen\n",
    "* Con la columna new_rel2 evaluamos el model score sobre cada partido seleccionado"
   ]
  },
  {
   "cell_type": "markdown",
   "metadata": {},
   "source": [
    "###### En la siguiente ejecucion se obtiene el dataset de train inicial, se eliminan columnas y valores en nulo o cero"
   ]
  },
  {
   "cell_type": "code",
   "execution_count": 111,
   "metadata": {},
   "outputs": [
    {
     "name": "stdout",
     "output_type": "stream",
     "text": [
      "(53156, 5)\n",
      "(53156, 5)\n"
     ]
    },
    {
     "data": {
      "text/html": [
       "<div>\n",
       "<style scoped>\n",
       "    .dataframe tbody tr th:only-of-type {\n",
       "        vertical-align: middle;\n",
       "    }\n",
       "\n",
       "    .dataframe tbody tr th {\n",
       "        vertical-align: top;\n",
       "    }\n",
       "\n",
       "    .dataframe thead th {\n",
       "        text-align: right;\n",
       "    }\n",
       "</style>\n",
       "<table border=\"1\" class=\"dataframe\">\n",
       "  <thead>\n",
       "    <tr style=\"text-align: right;\">\n",
       "      <th></th>\n",
       "      <th>property_type</th>\n",
       "      <th>price_aprox_usd</th>\n",
       "      <th>partido</th>\n",
       "      <th>new_rel2</th>\n",
       "      <th>new_rel5</th>\n",
       "    </tr>\n",
       "  </thead>\n",
       "  <tbody>\n",
       "    <tr>\n",
       "      <th>13670</th>\n",
       "      <td>1</td>\n",
       "      <td>205000.0</td>\n",
       "      <td>9.0</td>\n",
       "      <td>51.14</td>\n",
       "      <td>50.57</td>\n",
       "    </tr>\n",
       "  </tbody>\n",
       "</table>\n",
       "</div>"
      ],
      "text/plain": [
       "       property_type  price_aprox_usd  partido  new_rel2  new_rel5\n",
       "13670              1         205000.0      9.0     51.14     50.57"
      ]
     },
     "execution_count": 111,
     "metadata": {},
     "output_type": "execute_result"
    }
   ],
   "source": [
    "#<<Checkpoint: train_test_data>>: cargo resultados en feather (Instalacion:  conda install -c conda-forge feather-format)\n",
    "#load training dataset\n",
    "def reset_train_data():\n",
    "    df_train = feather.read_dataframe('Data/train.feather')\n",
    "    #  Rompo todas las columnas que no voy a utilizar\n",
    "    to_drop = [\n",
    "                'new_rel1', 'new_rel3', 'new_rel4', 'new_rel6', \n",
    "                'surface_by_amb','surface_by_add',\n",
    "                'surface_covered_prop','surface_total_prop_cov',\n",
    "                'surface_cov_complete','ambientes',\n",
    "                'surface_covered_in_m2',\n",
    "                'surface_total_in_m2',\n",
    "    #             'property_type',\n",
    "    ] \n",
    "    df_train.drop(columns=to_drop, inplace=True) #aplicar drop\n",
    "    # Elimino nulos en todas las columas\n",
    "    columnas_principales_train = ['price_aprox_usd','partido','new_rel2','new_rel5']\n",
    "    df_train = df_train.dropna(axis =0 , how = 'any', subset = columnas_principales_train)\n",
    "    # Elimino un cero de la columna price\n",
    "    df_train = df_train[df_train.price_aprox_usd>0]\n",
    "    return df_train\n",
    "\n",
    "df_train = reset_train_data()\n",
    "print(df_train.shape)\n",
    "df_train.sample(1)"
   ]
  },
  {
   "cell_type": "markdown",
   "metadata": {},
   "source": [
    "###### Reviso que partidos tienen mayor cantidad de datos para realizar un training por partido\n",
    "* Vamos a evaluar las 6 localidades con mas registros"
   ]
  },
  {
   "cell_type": "code",
   "execution_count": 196,
   "metadata": {},
   "outputs": [
    {
     "data": {
      "text/plain": [
       "50.0     4484\n",
       "8.0      4264\n",
       "234.0    3016\n",
       "9.0      2111\n",
       "154.0    1947\n",
       "506.0    1810\n",
       "Name: partido, dtype: int64"
      ]
     },
     "execution_count": 196,
     "metadata": {},
     "output_type": "execute_result"
    }
   ],
   "source": [
    "df_train['partido'].value_counts(ascending=False).head(6)"
   ]
  },
  {
   "cell_type": "markdown",
   "metadata": {},
   "source": [
    "****(Opcional)Recupero algunos partidos para saber a que hacen referencia****\n",
    "* Vamos a evaluar las 6 localidades con mas registros"
   ]
  },
  {
   "cell_type": "code",
   "execution_count": 113,
   "metadata": {},
   "outputs": [
    {
     "name": "stdout",
     "output_type": "stream",
     "text": [
      " 50 es:  mar del plata\n",
      "  8 es:  tigre\n",
      "234 es:  córdoba\n"
     ]
    }
   ],
   "source": [
    "df_partidos = feather.read_dataframe('Data/partidos.feather')\n",
    "print(\" 50 es: \",df_partidos.iloc[50].nombre)\n",
    "print(\"  8 es: \",df_partidos.iloc[8].nombre)\n",
    "print(\"234 es: \",df_partidos.iloc[234].nombre)\n"
   ]
  },
  {
   "cell_type": "markdown",
   "metadata": {},
   "source": [
    "****Funcion para generar dummies dado un dataset y un column_name****\n",
    "* Se elimina la columna original"
   ]
  },
  {
   "cell_type": "code",
   "execution_count": null,
   "metadata": {},
   "outputs": [],
   "source": [
    "def dummies_creator(df_in,column_name):\n",
    "    prefix_name=\"dum_\"+column_name\n",
    "    df_in = pd.concat([df_in, pd.get_dummies(data = df_in[column_name], prefix= prefix_name)], axis = 1)\n",
    "    # Elimino la columna utilizada\n",
    "    to_drop = [column_name] \n",
    "    df_in.drop(columns=to_drop, inplace=True) #aplicar drop\n",
    "    return df_in"
   ]
  },
  {
   "cell_type": "markdown",
   "metadata": {},
   "source": [
    "****Funcion para dividir datos por una columna y un valor especifico****\n",
    "* Se elimina la columna mediante la cual se fragmentaron los datos"
   ]
  },
  {
   "cell_type": "code",
   "execution_count": 339,
   "metadata": {},
   "outputs": [],
   "source": [
    "def chunk_df_by_column(df_in,column_name,column_value):\n",
    "    df_chunked = df_in[df_in[column_name] == column_value]\n",
    "    print(column_name,\"=>\", column_value,\"- cantidad de registros:\", len(df_chunked))\n",
    "    to_drop = [column_name] \n",
    "    df_chunked.drop(columns=to_drop, inplace=True) #aplicar drop\n",
    "    return df_chunked\n",
    "\n",
    "#testeo  las funciones\n",
    "# df_train_50 = chunk_df_by_column(df_train,\"partido\",50)\n",
    "# # Generamos Dummies para:\n",
    "# # #### *property_type\n",
    "# df_train_50 = dummies_creator(df_train_50,\"property_type\")\n",
    "# df_train_50.sample(1)"
   ]
  },
  {
   "cell_type": "markdown",
   "metadata": {},
   "source": [
    "****Funcion que evalua el model score de df_train****\n",
    "* Tiene hardcodeados las columnas que se deben eliminar para generer X e y"
   ]
  },
  {
   "cell_type": "code",
   "execution_count": 145,
   "metadata": {},
   "outputs": [
    {
     "name": "stdout",
     "output_type": "stream",
     "text": [
      "Model Score: 0.47483386298994823\n"
     ]
    }
   ],
   "source": [
    "def lreg_score(df_in):\n",
    "    X = df_in.drop(['price_aprox_usd','new_rel5'], axis = 1)\n",
    "    y = df_in['price_aprox_usd']\n",
    "    X_train, X_test, y_train, y_test = train_test_split(X, y, test_size=0.25, random_state=1)\n",
    "    lm = LinearRegression()\n",
    "    model = lm.fit(X_train, y_train)\n",
    "    predictions = lm.predict(X_train)\n",
    "    model_score = model.score(X_test, y_test)\n",
    "    print('Model Score:',model_score)\n",
    "    \n",
    "lreg_score(df_train_50)"
   ]
  },
  {
   "cell_type": "markdown",
   "metadata": {},
   "source": [
    "****En la siguiente ejecucion se itera un conjunto de partidos y se evalua su model score****\n",
    "* Se utilizan las funciones anteriormente mencionadas para ejecutar este paso\n",
    "***"
   ]
  },
  {
   "cell_type": "code",
   "execution_count": 164,
   "metadata": {},
   "outputs": [
    {
     "data": {
      "text/markdown": [
       "<span style='color:blue'>Evaluando Regresion en partido: 50</span>"
      ],
      "text/plain": [
       "<IPython.core.display.Markdown object>"
      ]
     },
     "metadata": {},
     "output_type": "display_data"
    },
    {
     "name": "stdout",
     "output_type": "stream",
     "text": [
      "partido => 50 - cantidad de registros: 4484\n",
      "Model Score: 0.47483386298994823\n"
     ]
    },
    {
     "data": {
      "text/markdown": [
       "<span style='color:blue'>Evaluando Regresion en partido: 8</span>"
      ],
      "text/plain": [
       "<IPython.core.display.Markdown object>"
      ]
     },
     "metadata": {},
     "output_type": "display_data"
    },
    {
     "name": "stdout",
     "output_type": "stream",
     "text": [
      "partido => 8 - cantidad de registros: 4264\n",
      "Model Score: 0.5977259672067188\n"
     ]
    },
    {
     "data": {
      "text/markdown": [
       "<span style='color:blue'>Evaluando Regresion en partido: 234</span>"
      ],
      "text/plain": [
       "<IPython.core.display.Markdown object>"
      ]
     },
     "metadata": {},
     "output_type": "display_data"
    },
    {
     "name": "stdout",
     "output_type": "stream",
     "text": [
      "partido => 234 - cantidad de registros: 3016\n",
      "Model Score: 0.2985351234401761\n"
     ]
    },
    {
     "data": {
      "text/markdown": [
       "<span style='color:blue'>Evaluando Regresion en partido: 9</span>"
      ],
      "text/plain": [
       "<IPython.core.display.Markdown object>"
      ]
     },
     "metadata": {},
     "output_type": "display_data"
    },
    {
     "name": "stdout",
     "output_type": "stream",
     "text": [
      "partido => 9 - cantidad de registros: 2111\n",
      "Model Score: 0.5204222429372234\n"
     ]
    },
    {
     "data": {
      "text/markdown": [
       "<span style='color:blue'>Evaluando Regresion en partido: 154</span>"
      ],
      "text/plain": [
       "<IPython.core.display.Markdown object>"
      ]
     },
     "metadata": {},
     "output_type": "display_data"
    },
    {
     "name": "stdout",
     "output_type": "stream",
     "text": [
      "partido => 154 - cantidad de registros: 1947\n",
      "Model Score: 0.4362105909677873\n"
     ]
    },
    {
     "data": {
      "text/markdown": [
       "<span style='color:blue'>Evaluando Regresion en partido: 506</span>"
      ],
      "text/plain": [
       "<IPython.core.display.Markdown object>"
      ]
     },
     "metadata": {},
     "output_type": "display_data"
    },
    {
     "name": "stdout",
     "output_type": "stream",
     "text": [
      "partido => 506 - cantidad de registros: 1810\n",
      "Model Score: 0.3689523819631578\n"
     ]
    }
   ],
   "source": [
    "from IPython.display import Markdown, display\n",
    "def printmd(string):\n",
    "    display(Markdown(string))\n",
    "\n",
    "array_partidos = [50,8,234,9,154,506]\n",
    "for val in array_partidos:\n",
    "    printmd(\"<span style='color:blue'>Evaluando Regresion en partido: \"+str(val)+\"</span>\")\n",
    "    df_train_aux = chunk_df_by_column(df_train,\"partido\",val)\n",
    "    df_train_aux = dummies_creator(df_train_aux,\"property_type\")\n",
    "    lreg_score(df_train_aux)"
   ]
  },
  {
   "cell_type": "markdown",
   "metadata": {},
   "source": [
    "| <span style='color:brown;font-weight:bold;aling:center;font-size:15px'>Resultado</span> |    |\n",
    "|------|------|\n",
    "| !!!  |<span style='color:crimson;font-size:13px'>De dividir por partido no se obtiene una mejora significativa, si bien en algunos partidos puede dar un resultado mejor</span>|"
   ]
  },
  {
   "cell_type": "markdown",
   "metadata": {},
   "source": [
    "### Analisis de model score agrupando por property_type\n",
    "Los pasos que vamos a realizar son los siguientes:\n",
    "* Obtener df_train original\n",
    "* Eliminar columnas que no utilizamos, nulos y precios en cero\n",
    "* Con la columna new_rel2 evaluamos el model score sobre cada partido seleccionado"
   ]
  },
  {
   "cell_type": "markdown",
   "metadata": {},
   "source": [
    "#### Reseteo df_train"
   ]
  },
  {
   "cell_type": "code",
   "execution_count": 170,
   "metadata": {},
   "outputs": [
    {
     "name": "stdout",
     "output_type": "stream",
     "text": [
      "(53156, 5)\n",
      "(53156, 5)\n"
     ]
    },
    {
     "data": {
      "text/html": [
       "<div>\n",
       "<style scoped>\n",
       "    .dataframe tbody tr th:only-of-type {\n",
       "        vertical-align: middle;\n",
       "    }\n",
       "\n",
       "    .dataframe tbody tr th {\n",
       "        vertical-align: top;\n",
       "    }\n",
       "\n",
       "    .dataframe thead th {\n",
       "        text-align: right;\n",
       "    }\n",
       "</style>\n",
       "<table border=\"1\" class=\"dataframe\">\n",
       "  <thead>\n",
       "    <tr style=\"text-align: right;\">\n",
       "      <th></th>\n",
       "      <th>property_type</th>\n",
       "      <th>price_aprox_usd</th>\n",
       "      <th>partido</th>\n",
       "      <th>new_rel2</th>\n",
       "      <th>new_rel5</th>\n",
       "    </tr>\n",
       "  </thead>\n",
       "  <tbody>\n",
       "    <tr>\n",
       "      <th>39834</th>\n",
       "      <td>2</td>\n",
       "      <td>80000.0</td>\n",
       "      <td>13.0</td>\n",
       "      <td>101.998839</td>\n",
       "      <td>100.99942</td>\n",
       "    </tr>\n",
       "  </tbody>\n",
       "</table>\n",
       "</div>"
      ],
      "text/plain": [
       "       property_type  price_aprox_usd  partido    new_rel2   new_rel5\n",
       "39834              2          80000.0     13.0  101.998839  100.99942"
      ]
     },
     "execution_count": 170,
     "metadata": {},
     "output_type": "execute_result"
    }
   ],
   "source": [
    "#load training dataset\n",
    "df_train = reset_train_data()\n",
    "print(df_train.shape)\n",
    "df_train.sample(1)"
   ]
  },
  {
   "cell_type": "code",
   "execution_count": 174,
   "metadata": {},
   "outputs": [
    {
     "data": {
      "text/plain": [
       "array([0, 1, 2, 3])"
      ]
     },
     "execution_count": 174,
     "metadata": {},
     "output_type": "execute_result"
    }
   ],
   "source": [
    "df_train.property_type.unique()"
   ]
  },
  {
   "cell_type": "markdown",
   "metadata": {},
   "source": [
    " **Vamos a realizar las acciones de agrupamiento y evaluacion reutilizando las funciones de los pasos anteriores**\n",
    " \n",
    "     - property_type"
   ]
  },
  {
   "cell_type": "code",
   "execution_count": 178,
   "metadata": {},
   "outputs": [
    {
     "name": "stdout",
     "output_type": "stream",
     "text": [
      "property_type => 0 - cantidad de registros: 3223\n"
     ]
    },
    {
     "data": {
      "text/html": [
       "<div>\n",
       "<style scoped>\n",
       "    .dataframe tbody tr th:only-of-type {\n",
       "        vertical-align: middle;\n",
       "    }\n",
       "\n",
       "    .dataframe tbody tr th {\n",
       "        vertical-align: top;\n",
       "    }\n",
       "\n",
       "    .dataframe thead th {\n",
       "        text-align: right;\n",
       "    }\n",
       "</style>\n",
       "<table border=\"1\" class=\"dataframe\">\n",
       "  <thead>\n",
       "    <tr style=\"text-align: right;\">\n",
       "      <th></th>\n",
       "      <th>price_aprox_usd</th>\n",
       "      <th>new_rel2</th>\n",
       "      <th>new_rel5</th>\n",
       "      <th>dum_partido_0.0</th>\n",
       "      <th>dum_partido_1.0</th>\n",
       "      <th>dum_partido_2.0</th>\n",
       "      <th>dum_partido_3.0</th>\n",
       "      <th>dum_partido_4.0</th>\n",
       "      <th>dum_partido_5.0</th>\n",
       "      <th>dum_partido_6.0</th>\n",
       "      <th>...</th>\n",
       "      <th>dum_partido_405.0</th>\n",
       "      <th>dum_partido_406.0</th>\n",
       "      <th>dum_partido_408.0</th>\n",
       "      <th>dum_partido_415.0</th>\n",
       "      <th>dum_partido_418.0</th>\n",
       "      <th>dum_partido_445.0</th>\n",
       "      <th>dum_partido_505.0</th>\n",
       "      <th>dum_partido_506.0</th>\n",
       "      <th>dum_partido_514.0</th>\n",
       "      <th>dum_partido_534.0</th>\n",
       "    </tr>\n",
       "  </thead>\n",
       "  <tbody>\n",
       "    <tr>\n",
       "      <th>48663</th>\n",
       "      <td>97000.0</td>\n",
       "      <td>43.268262</td>\n",
       "      <td>42.317065</td>\n",
       "      <td>0</td>\n",
       "      <td>0</td>\n",
       "      <td>0</td>\n",
       "      <td>0</td>\n",
       "      <td>0</td>\n",
       "      <td>0</td>\n",
       "      <td>0</td>\n",
       "      <td>...</td>\n",
       "      <td>0</td>\n",
       "      <td>0</td>\n",
       "      <td>0</td>\n",
       "      <td>0</td>\n",
       "      <td>0</td>\n",
       "      <td>0</td>\n",
       "      <td>0</td>\n",
       "      <td>1</td>\n",
       "      <td>0</td>\n",
       "      <td>0</td>\n",
       "    </tr>\n",
       "  </tbody>\n",
       "</table>\n",
       "<p>1 rows × 127 columns</p>\n",
       "</div>"
      ],
      "text/plain": [
       "       price_aprox_usd   new_rel2   new_rel5  dum_partido_0.0  \\\n",
       "48663          97000.0  43.268262  42.317065                0   \n",
       "\n",
       "       dum_partido_1.0  dum_partido_2.0  dum_partido_3.0  dum_partido_4.0  \\\n",
       "48663                0                0                0                0   \n",
       "\n",
       "       dum_partido_5.0  dum_partido_6.0        ...          dum_partido_405.0  \\\n",
       "48663                0                0        ...                          0   \n",
       "\n",
       "       dum_partido_406.0  dum_partido_408.0  dum_partido_415.0  \\\n",
       "48663                  0                  0                  0   \n",
       "\n",
       "       dum_partido_418.0  dum_partido_445.0  dum_partido_505.0  \\\n",
       "48663                  0                  0                  0   \n",
       "\n",
       "       dum_partido_506.0  dum_partido_514.0  dum_partido_534.0  \n",
       "48663                  1                  0                  0  \n",
       "\n",
       "[1 rows x 127 columns]"
      ]
     },
     "execution_count": 178,
     "metadata": {},
     "output_type": "execute_result"
    }
   ],
   "source": [
    "df_train_aux = chunk_df_by_column(df_train,\"property_type\",0)\n",
    "df_train_aux = dummies_creator(df_train_aux,\"partido\")\n",
    "df_train_aux.sample(1)"
   ]
  },
  {
   "cell_type": "code",
   "execution_count": 179,
   "metadata": {},
   "outputs": [
    {
     "data": {
      "text/markdown": [
       "<span style='color:blue'>Evaluando Regresion en property_type: 0</span>"
      ],
      "text/plain": [
       "<IPython.core.display.Markdown object>"
      ]
     },
     "metadata": {},
     "output_type": "display_data"
    },
    {
     "name": "stdout",
     "output_type": "stream",
     "text": [
      "property_type => 0 - cantidad de registros: 3223\n",
      "Model Score: -1.2675649553059269e+17\n"
     ]
    },
    {
     "data": {
      "text/markdown": [
       "<span style='color:blue'>Evaluando Regresion en property_type: 1</span>"
      ],
      "text/plain": [
       "<IPython.core.display.Markdown object>"
      ]
     },
     "metadata": {},
     "output_type": "display_data"
    },
    {
     "name": "stdout",
     "output_type": "stream",
     "text": [
      "property_type => 1 - cantidad de registros: 34005\n",
      "Model Score: -1599742595701422.5\n"
     ]
    },
    {
     "data": {
      "text/markdown": [
       "<span style='color:blue'>Evaluando Regresion en property_type: 2</span>"
      ],
      "text/plain": [
       "<IPython.core.display.Markdown object>"
      ]
     },
     "metadata": {},
     "output_type": "display_data"
    },
    {
     "name": "stdout",
     "output_type": "stream",
     "text": [
      "property_type => 2 - cantidad de registros: 15674\n",
      "Model Score: -4680843721216245.0\n"
     ]
    },
    {
     "data": {
      "text/markdown": [
       "<span style='color:blue'>Evaluando Regresion en property_type: 3</span>"
      ],
      "text/plain": [
       "<IPython.core.display.Markdown object>"
      ]
     },
     "metadata": {},
     "output_type": "display_data"
    },
    {
     "name": "stdout",
     "output_type": "stream",
     "text": [
      "property_type => 3 - cantidad de registros: 254\n",
      "Model Score: -8.208343339040609e+19\n"
     ]
    }
   ],
   "source": [
    "array_property_types = [0, 1, 2, 3]\n",
    "for val in array_property_types:\n",
    "    printmd(\"<span style='color:blue'>Evaluando Regresion en property_type: \"+str(val)+\"</span>\")\n",
    "    df_train_aux = chunk_df_by_column(df_train,\"property_type\",val)\n",
    "    df_train_aux = dummies_creator(df_train_aux,\"partido\")\n",
    "    lreg_score(df_train_aux)"
   ]
  },
  {
   "cell_type": "markdown",
   "metadata": {},
   "source": [
    "| <span style='color:brown;font-weight:bold;aling:center;font-size:15px'>Resultado</span> |    |\n",
    "|------|------|\n",
    "| !!!  |<span style='color:crimson;font-size:13px'>Los resultados obtenidos no mejoran el puntaje del modelo</span>|"
   ]
  },
  {
   "cell_type": "markdown",
   "metadata": {},
   "source": [
    "### Analisis de model score agrupando por provincia\n",
    "Los pasos que vamos a realizar son los siguientes:\n",
    "* Reset de df_train\n",
    "* Reincorporo la columna provincias\n",
    "* Con la columna new_rel2 evaluamos el model score sobre cada provincia seleccionada"
   ]
  },
  {
   "cell_type": "markdown",
   "metadata": {},
   "source": [
    "#### Reseteo df_train"
   ]
  },
  {
   "cell_type": "code",
   "execution_count": 194,
   "metadata": {},
   "outputs": [
    {
     "name": "stdout",
     "output_type": "stream",
     "text": [
      "(53156, 5)\n",
      "(53156, 5)\n"
     ]
    },
    {
     "data": {
      "text/html": [
       "<div>\n",
       "<style scoped>\n",
       "    .dataframe tbody tr th:only-of-type {\n",
       "        vertical-align: middle;\n",
       "    }\n",
       "\n",
       "    .dataframe tbody tr th {\n",
       "        vertical-align: top;\n",
       "    }\n",
       "\n",
       "    .dataframe thead th {\n",
       "        text-align: right;\n",
       "    }\n",
       "</style>\n",
       "<table border=\"1\" class=\"dataframe\">\n",
       "  <thead>\n",
       "    <tr style=\"text-align: right;\">\n",
       "      <th></th>\n",
       "      <th>property_type</th>\n",
       "      <th>price_aprox_usd</th>\n",
       "      <th>partido</th>\n",
       "      <th>new_rel2</th>\n",
       "      <th>new_rel5</th>\n",
       "    </tr>\n",
       "  </thead>\n",
       "  <tbody>\n",
       "    <tr>\n",
       "      <th>8172</th>\n",
       "      <td>1</td>\n",
       "      <td>87000.0</td>\n",
       "      <td>143.0</td>\n",
       "      <td>66.0</td>\n",
       "      <td>65.333333</td>\n",
       "    </tr>\n",
       "  </tbody>\n",
       "</table>\n",
       "</div>"
      ],
      "text/plain": [
       "      property_type  price_aprox_usd  partido  new_rel2   new_rel5\n",
       "8172              1          87000.0    143.0      66.0  65.333333"
      ]
     },
     "execution_count": 194,
     "metadata": {},
     "output_type": "execute_result"
    }
   ],
   "source": [
    "#load training dataset\n",
    "df_train = reset_train_data()\n",
    "print(df_train.shape)\n",
    "df_train.sample(1)"
   ]
  },
  {
   "cell_type": "markdown",
   "metadata": {},
   "source": [
    "#### Reincorporo la columna provincia"
   ]
  },
  {
   "cell_type": "code",
   "execution_count": 195,
   "metadata": {},
   "outputs": [
    {
     "name": "stdout",
     "output_type": "stream",
     "text": [
      "cant_reg antes:  53156\n",
      "cant_reg luego:  53156\n"
     ]
    },
    {
     "data": {
      "text/html": [
       "<div>\n",
       "<style scoped>\n",
       "    .dataframe tbody tr th:only-of-type {\n",
       "        vertical-align: middle;\n",
       "    }\n",
       "\n",
       "    .dataframe tbody tr th {\n",
       "        vertical-align: top;\n",
       "    }\n",
       "\n",
       "    .dataframe thead th {\n",
       "        text-align: right;\n",
       "    }\n",
       "</style>\n",
       "<table border=\"1\" class=\"dataframe\">\n",
       "  <thead>\n",
       "    <tr style=\"text-align: right;\">\n",
       "      <th></th>\n",
       "      <th>property_type</th>\n",
       "      <th>price_aprox_usd</th>\n",
       "      <th>partido</th>\n",
       "      <th>new_rel2</th>\n",
       "      <th>new_rel5</th>\n",
       "      <th>provincia</th>\n",
       "    </tr>\n",
       "  </thead>\n",
       "  <tbody>\n",
       "    <tr>\n",
       "      <th>50167</th>\n",
       "      <td>1</td>\n",
       "      <td>295000.0</td>\n",
       "      <td>133.0</td>\n",
       "      <td>141.000000</td>\n",
       "      <td>140.200000</td>\n",
       "      <td>0.0</td>\n",
       "    </tr>\n",
       "    <tr>\n",
       "      <th>7425</th>\n",
       "      <td>1</td>\n",
       "      <td>91000.0</td>\n",
       "      <td>144.0</td>\n",
       "      <td>42.146341</td>\n",
       "      <td>41.573171</td>\n",
       "      <td>2.0</td>\n",
       "    </tr>\n",
       "  </tbody>\n",
       "</table>\n",
       "</div>"
      ],
      "text/plain": [
       "       property_type  price_aprox_usd  partido    new_rel2    new_rel5  \\\n",
       "50167              1         295000.0    133.0  141.000000  140.200000   \n",
       "7425               1          91000.0    144.0   42.146341   41.573171   \n",
       "\n",
       "       provincia  \n",
       "50167        0.0  \n",
       "7425         2.0  "
      ]
     },
     "execution_count": 195,
     "metadata": {},
     "output_type": "execute_result"
    }
   ],
   "source": [
    "### Cargar dataset inicial\n",
    "df_principal = feather.read_dataframe(\"Data/principal.feather\")\n",
    "df_principal.sample(1)\n",
    "df_principal_provincias = df_principal.provincia\n",
    "df_train = df_train.merge(pd.DataFrame(df_principal_provincias), left_index=True, right_index=True)\n",
    "columnas_principales_train = ['price_aprox_usd','partido','new_rel2','new_rel5','provincia']\n",
    "print(\"cant_reg antes: \",len(df_train))\n",
    "df_train = df_train.dropna(axis =0 , how = 'any', subset = columnas_principales_train)\n",
    "print(\"cant_reg luego: \",len(df_train))\n",
    "df_train.sample(2)"
   ]
  },
  {
   "cell_type": "markdown",
   "metadata": {},
   "source": [
    "#### Reviso que partido tiene mayor cantidad de datos para realizar un training por provincia"
   ]
  },
  {
   "cell_type": "code",
   "execution_count": 197,
   "metadata": {},
   "outputs": [
    {
     "data": {
      "text/plain": [
       "5.0     14018\n",
       "0.0     12134\n",
       "3.0      6396\n",
       "1.0      5823\n",
       "24.0     3989\n",
       "2.0      3784\n",
       "Name: provincia, dtype: int64"
      ]
     },
     "execution_count": 197,
     "metadata": {},
     "output_type": "execute_result"
    }
   ],
   "source": [
    "df_train['provincia'].value_counts(ascending=False).head(6)"
   ]
  },
  {
   "cell_type": "markdown",
   "metadata": {},
   "source": [
    "****(Opcional)Recupero algunas provincias para saber a que hacen referencia****"
   ]
  },
  {
   "cell_type": "code",
   "execution_count": 199,
   "metadata": {},
   "outputs": [
    {
     "name": "stdout",
     "output_type": "stream",
     "text": [
      "5 es:  capital federal\n",
      "0 es:  bs.as. g.b.a. zona norte\n",
      "3 es:  buenos aires costa atlántica\n",
      "1 es:  bs.as. g.b.a. zona oeste\n"
     ]
    }
   ],
   "source": [
    "df_provincias = feather.read_dataframe('Data/provincias.feather')\n",
    "print(\"5 es: \",df_provincias.iloc[5].nombre)\n",
    "print(\"0 es: \",df_provincias.iloc[0].nombre)\n",
    "print(\"3 es: \",df_provincias.iloc[3].nombre)\n",
    "print(\"1 es: \",df_provincias.iloc[1].nombre)"
   ]
  },
  {
   "cell_type": "markdown",
   "metadata": {},
   "source": [
    "****En la siguiente ejecucion se itera un conjunto de provincias y se evalua su model score****\n",
    "* Se utilizan las funciones anteriormente mencionadas para ejecutar este paso"
   ]
  },
  {
   "cell_type": "code",
   "execution_count": 202,
   "metadata": {},
   "outputs": [
    {
     "data": {
      "text/markdown": [
       "<span style='color:blue'>Evaluando Regresion en provincia: 5</span>"
      ],
      "text/plain": [
       "<IPython.core.display.Markdown object>"
      ]
     },
     "metadata": {},
     "output_type": "display_data"
    },
    {
     "name": "stdout",
     "output_type": "stream",
     "text": [
      "provincia => 5 - cantidad de registros: 14018\n",
      "Model Score: -254279756823236.1\n"
     ]
    },
    {
     "data": {
      "text/markdown": [
       "<span style='color:blue'>Evaluando Regresion en provincia: 0</span>"
      ],
      "text/plain": [
       "<IPython.core.display.Markdown object>"
      ]
     },
     "metadata": {},
     "output_type": "display_data"
    },
    {
     "name": "stdout",
     "output_type": "stream",
     "text": [
      "provincia => 0 - cantidad de registros: 12134\n",
      "Model Score: -4500925259866578.0\n"
     ]
    },
    {
     "data": {
      "text/markdown": [
       "<span style='color:blue'>Evaluando Regresion en provincia: 3</span>"
      ],
      "text/plain": [
       "<IPython.core.display.Markdown object>"
      ]
     },
     "metadata": {},
     "output_type": "display_data"
    },
    {
     "name": "stdout",
     "output_type": "stream",
     "text": [
      "provincia => 3 - cantidad de registros: 6396\n",
      "Model Score: -4399173637111825.5\n"
     ]
    },
    {
     "data": {
      "text/markdown": [
       "<span style='color:blue'>Evaluando Regresion en provincia: 1</span>"
      ],
      "text/plain": [
       "<IPython.core.display.Markdown object>"
      ]
     },
     "metadata": {},
     "output_type": "display_data"
    },
    {
     "name": "stdout",
     "output_type": "stream",
     "text": [
      "provincia => 1 - cantidad de registros: 5823\n",
      "Model Score: -163734667146396.12\n"
     ]
    },
    {
     "data": {
      "text/markdown": [
       "<span style='color:blue'>Evaluando Regresion en provincia: 24</span>"
      ],
      "text/plain": [
       "<IPython.core.display.Markdown object>"
      ]
     },
     "metadata": {},
     "output_type": "display_data"
    },
    {
     "name": "stdout",
     "output_type": "stream",
     "text": [
      "provincia => 24 - cantidad de registros: 3989\n",
      "Model Score: -28826580150279.77\n"
     ]
    },
    {
     "data": {
      "text/markdown": [
       "<span style='color:blue'>Evaluando Regresion en provincia: 2</span>"
      ],
      "text/plain": [
       "<IPython.core.display.Markdown object>"
      ]
     },
     "metadata": {},
     "output_type": "display_data"
    },
    {
     "name": "stdout",
     "output_type": "stream",
     "text": [
      "provincia => 2 - cantidad de registros: 3784\n",
      "Model Score: -179526209848384.8\n"
     ]
    }
   ],
   "source": [
    "from IPython.display import Markdown, display\n",
    "def printmd(string):\n",
    "    display(Markdown(string))\n",
    "\n",
    "array_provincias = [5,0,3,1,24,2]\n",
    "for val in array_provincias:\n",
    "    printmd(\"<span style='color:blue'>Evaluando Regresion en provincia: \"+str(val)+\"</span>\")\n",
    "    df_train_aux = chunk_df_by_column(df_train,\"provincia\",val)\n",
    "    df_train_aux = dummies_creator(df_train_aux,\"partido\")\n",
    "    df_train_aux = dummies_creator(df_train_aux,\"property_type\")\n",
    "    lreg_score(df_train_aux)"
   ]
  },
  {
   "cell_type": "markdown",
   "metadata": {},
   "source": [
    "| <span style='color:brown;font-weight:bold;aling:center;font-size:15px'>Resultado</span> |    |\n",
    "|------|------|\n",
    "| !!!  |<span style='color:crimson;font-size:13px'>Los resultados obtenidos no mejoran el puntaje del modelo</span>|"
   ]
  },
  {
   "cell_type": "markdown",
   "metadata": {},
   "source": [
    "# Que Hago?"
   ]
  },
  {
   "cell_type": "markdown",
   "metadata": {},
   "source": [
    "##### Reseteo df_train"
   ]
  },
  {
   "cell_type": "code",
   "execution_count": 346,
   "metadata": {},
   "outputs": [
    {
     "name": "stdout",
     "output_type": "stream",
     "text": [
      "(53156, 5)\n",
      "(53156, 5)\n"
     ]
    },
    {
     "data": {
      "text/html": [
       "<div>\n",
       "<style scoped>\n",
       "    .dataframe tbody tr th:only-of-type {\n",
       "        vertical-align: middle;\n",
       "    }\n",
       "\n",
       "    .dataframe tbody tr th {\n",
       "        vertical-align: top;\n",
       "    }\n",
       "\n",
       "    .dataframe thead th {\n",
       "        text-align: right;\n",
       "    }\n",
       "</style>\n",
       "<table border=\"1\" class=\"dataframe\">\n",
       "  <thead>\n",
       "    <tr style=\"text-align: right;\">\n",
       "      <th></th>\n",
       "      <th>property_type</th>\n",
       "      <th>price_aprox_usd</th>\n",
       "      <th>partido</th>\n",
       "      <th>new_rel2</th>\n",
       "      <th>new_rel5</th>\n",
       "    </tr>\n",
       "  </thead>\n",
       "  <tbody>\n",
       "    <tr>\n",
       "      <th>36517</th>\n",
       "      <td>1</td>\n",
       "      <td>93994.0</td>\n",
       "      <td>134.0</td>\n",
       "      <td>29.142857</td>\n",
       "      <td>29.142857</td>\n",
       "    </tr>\n",
       "  </tbody>\n",
       "</table>\n",
       "</div>"
      ],
      "text/plain": [
       "       property_type  price_aprox_usd  partido   new_rel2   new_rel5\n",
       "36517              1          93994.0    134.0  29.142857  29.142857"
      ]
     },
     "execution_count": 346,
     "metadata": {},
     "output_type": "execute_result"
    }
   ],
   "source": [
    "#load training dataset\n",
    "df_train = reset_train_data()\n",
    "print(df_train.shape)\n",
    "df_train.sample(1)"
   ]
  },
  {
   "cell_type": "markdown",
   "metadata": {},
   "source": [
    "#### Reincorporo provincia"
   ]
  },
  {
   "cell_type": "code",
   "execution_count": 341,
   "metadata": {},
   "outputs": [
    {
     "name": "stdout",
     "output_type": "stream",
     "text": [
      "cant_reg luego:  53156\n"
     ]
    },
    {
     "data": {
      "text/html": [
       "<div>\n",
       "<style scoped>\n",
       "    .dataframe tbody tr th:only-of-type {\n",
       "        vertical-align: middle;\n",
       "    }\n",
       "\n",
       "    .dataframe tbody tr th {\n",
       "        vertical-align: top;\n",
       "    }\n",
       "\n",
       "    .dataframe thead th {\n",
       "        text-align: right;\n",
       "    }\n",
       "</style>\n",
       "<table border=\"1\" class=\"dataframe\">\n",
       "  <thead>\n",
       "    <tr style=\"text-align: right;\">\n",
       "      <th></th>\n",
       "      <th>property_type</th>\n",
       "      <th>price_aprox_usd</th>\n",
       "      <th>partido</th>\n",
       "      <th>new_rel2</th>\n",
       "      <th>new_rel5</th>\n",
       "      <th>provincia</th>\n",
       "    </tr>\n",
       "  </thead>\n",
       "  <tbody>\n",
       "    <tr>\n",
       "      <th>27670</th>\n",
       "      <td>1</td>\n",
       "      <td>124672.0</td>\n",
       "      <td>168.0</td>\n",
       "      <td>47.108696</td>\n",
       "      <td>46.554348</td>\n",
       "      <td>10.0</td>\n",
       "    </tr>\n",
       "  </tbody>\n",
       "</table>\n",
       "</div>"
      ],
      "text/plain": [
       "       property_type  price_aprox_usd  partido   new_rel2   new_rel5  \\\n",
       "27670              1         124672.0    168.0  47.108696  46.554348   \n",
       "\n",
       "       provincia  \n",
       "27670       10.0  "
      ]
     },
     "execution_count": 341,
     "metadata": {},
     "output_type": "execute_result"
    }
   ],
   "source": [
    "### Cargar dataset inicial\n",
    "# df_principal = feather.read_dataframe(\"Data/principal.feather\")\n",
    "# df_principal.sample(1)\n",
    "# df_principal_provincias = df_principal.provincia\n",
    "# df_train = df_train.merge(pd.DataFrame(df_principal_provincias), left_index=True, right_index=True)\n",
    "# columnas_principales_train = ['price_aprox_usd','partido','new_rel2','new_rel5','provincia']\n",
    "# df_train = df_train.dropna(axis =0 , how = 'any', subset = columnas_principales_train)\n",
    "# print(\"cant_reg luego: \",len(df_train))\n",
    "# df_train.sample(1)"
   ]
  },
  {
   "cell_type": "markdown",
   "metadata": {},
   "source": [
    "#### Verificar este paso --------------------------DIVIDIR EN CAPITAL----------------------------------------------------------"
   ]
  },
  {
   "cell_type": "code",
   "execution_count": 345,
   "metadata": {},
   "outputs": [],
   "source": [
    "# Recuperar provincias y realizar chunk solo para capital federal\n",
    "#### Solo evaluaremos para capital federal [5]:\n",
    "# df_train = chunk_df_by_column(df_train,\"provincia\",5)\n",
    "# print(len(df_train))\n",
    "# df_train.sample(1)"
   ]
  },
  {
   "cell_type": "markdown",
   "metadata": {},
   "source": [
    "#### Genero dummies y datos de train y test\n",
    "- Se genera X_train, X_test, y_train, y_test"
   ]
  },
  {
   "cell_type": "code",
   "execution_count": 347,
   "metadata": {},
   "outputs": [
    {
     "name": "stdout",
     "output_type": "stream",
     "text": [
      "X_train count: 39867 X_test count: 13289\n"
     ]
    }
   ],
   "source": [
    "#### *partido dummies\n",
    "df_train = dummies_creator(df_train,\"partido\")\n",
    "#### *property_type dummies\n",
    "df_train = dummies_creator(df_train,\"property_type\")\n",
    "### Cargar\n",
    "X = df_train.drop(['price_aprox_usd','new_rel5'], axis = 1)\n",
    "y = df_train['price_aprox_usd']\n",
    "# Train y Test\n",
    "X_train, X_test, y_train, y_test = train_test_split(X, y, test_size=0.25, random_state=1)\n",
    "print(\"X_train count:\",len(X_train),\"X_test count:\",len(X_test))"
   ]
  },
  {
   "cell_type": "markdown",
   "metadata": {},
   "source": [
    "#### Vuelvo a probar Linear Reggression simple para verificar que los datos esten ok"
   ]
  },
  {
   "cell_type": "code",
   "execution_count": 348,
   "metadata": {},
   "outputs": [
    {
     "name": "stdout",
     "output_type": "stream",
     "text": [
      "Model Score: 0.5368434879610611\n"
     ]
    }
   ],
   "source": [
    "def lreg_simple_score(X_train, X_test, y_train, y_test):\n",
    "    lm = LinearRegression()\n",
    "    model = lm.fit(X_train, y_train)\n",
    "#     predictions = lm.predict(X_train)\n",
    "    model_score = model.score(X_test, y_test)\n",
    "    print('Model Score:',model_score)\n",
    "    return model\n",
    "    \n",
    "model_regl = lreg_simple_score(X_train, X_test, y_train, y_test)"
   ]
  },
  {
   "cell_type": "markdown",
   "metadata": {},
   "source": [
    "#### Regresion Ridge (Sin normalizar features)"
   ]
  },
  {
   "cell_type": "code",
   "execution_count": 312,
   "metadata": {},
   "outputs": [
    {
     "name": "stdout",
     "output_type": "stream",
     "text": [
      "Model Score(RidgeCV): 0.5375864840760587\n",
      "Best alpha (RidgeCV): 1.0083\n"
     ]
    }
   ],
   "source": [
    "#definimos CV con un random antes de hacer cada particion\n",
    "CVL = KFold(n_splits=5, shuffle=True)\n",
    "def lreg_ridgecv_score(X_train, X_test, y_train, y_test, alfas_ridge):\n",
    "    lm_ridge =  RidgeCV(alphas= alfas_ridge, cv=CVL, normalize=False, fit_intercept = True)\n",
    "    model_ridge = lm_ridge.fit(X_train, y_train)\n",
    "#     predictions_ridge = lm_ridge.predict(X_train)\n",
    "    model_score_ridge = model_ridge.score(X_test, y_test)\n",
    "    print('Model Score(RidgeCV):', model_score_ridge)\n",
    "    print('Best alpha (RidgeCV):', model_ridge.alpha_)\n",
    "    return model_ridge\n",
    "\n",
    "c_values = np.linspace(0.8, 1.2, 10)\n",
    "alfas_ridge = [1.0083]\n",
    "model_ridge_cv = lreg_ridgecv_score(X_train, X_test, y_train, y_test, alfas_ridge)"
   ]
  },
  {
   "cell_type": "markdown",
   "metadata": {},
   "source": [
    "#### Evalúo con Elastic Net. Para ello debo tener normalizadas las features"
   ]
  },
  {
   "cell_type": "markdown",
   "metadata": {},
   "source": [
    "### Elastic Net\n",
    "***La siguiente funcion lreg_elastic_score permite obtener un model con elastic net e imprimir su score***"
   ]
  },
  {
   "cell_type": "code",
   "execution_count": 313,
   "metadata": {},
   "outputs": [],
   "source": [
    "def lreg_elastic_score(X_train, X_test, y_train, y_test):\n",
    "    lm_elastic =  ElasticNetCV(l1_ratio= [.1, .5, .7, .9, .95, .99, 1],cv = 5)\n",
    "    model_elastic = lm_elastic.fit(X_train, y_train)\n",
    "    predictions_en = lm_elastic.predict(X_train)\n",
    "    model_score_elastic = model_elastic.score(X_test, y_test)\n",
    "    print('Model Score(Elastic):', model_score_elastic)"
   ]
  },
  {
   "cell_type": "markdown",
   "metadata": {},
   "source": [
    "#### Normalizacion de variables en df_train"
   ]
  },
  {
   "cell_type": "code",
   "execution_count": 317,
   "metadata": {},
   "outputs": [
    {
     "name": "stdout",
     "output_type": "stream",
     "text": [
      "Media:  4.348770349548861e-17 - Desvio: 1.0000000000000004\n"
     ]
    }
   ],
   "source": [
    "# Normalizamos las variables con standard scaler\n",
    "std_scaler = StandardScaler()\n",
    "X_train_norm = std_scaler.fit_transform(X_train)\n",
    "X_test_norm = std_scaler.fit_transform(X_test)\n",
    "X_train_mean = np.mean(X_train_norm[:,1])\n",
    "X_train_std = np.std(X_train_norm[:,1])\n",
    "print(\"Media: \",X_train_mean,\"- Desvio:\",X_train_std)"
   ]
  },
  {
   "cell_type": "code",
   "execution_count": 318,
   "metadata": {},
   "outputs": [
    {
     "name": "stdout",
     "output_type": "stream",
     "text": [
      "Model Score(Elastic): 0.536288276692237\n"
     ]
    }
   ],
   "source": [
    "lreg_elastic_score(X_train_norm, X_test_norm, y_train, y_test)"
   ]
  },
  {
   "cell_type": "code",
   "execution_count": 270,
   "metadata": {},
   "outputs": [
    {
     "name": "stdout",
     "output_type": "stream",
     "text": [
      "Model Score: 0.5368434879610611\n"
     ]
    }
   ],
   "source": []
  },
  {
   "cell_type": "code",
   "execution_count": null,
   "metadata": {},
   "outputs": [],
   "source": [
    "y_pred = model.predict(X_train)\n",
    "np.sqrt(mean_squared_error(y, y_pred))"
   ]
  }
 ],
 "metadata": {
  "kernelspec": {
   "display_name": "Python 3",
   "language": "python",
   "name": "python3"
  },
  "language_info": {
   "codemirror_mode": {
    "name": "ipython",
    "version": 3
   },
   "file_extension": ".py",
   "mimetype": "text/x-python",
   "name": "python",
   "nbconvert_exporter": "python",
   "pygments_lexer": "ipython3",
   "version": "3.6.8"
  }
 },
 "nbformat": 4,
 "nbformat_minor": 2
}
