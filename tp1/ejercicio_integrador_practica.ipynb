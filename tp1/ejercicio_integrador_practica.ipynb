{
 "cells": [
  {
   "cell_type": "code",
   "execution_count": 2,
   "metadata": {},
   "outputs": [],
   "source": [
    "import pandas as pd\n",
    "import numpy as np"
   ]
  },
  {
   "cell_type": "code",
   "execution_count": 3,
   "metadata": {},
   "outputs": [],
   "source": [
    "df = pd.read_csv(\"Data/properatti.csv\")\n",
    "#df.head()"
   ]
  },
  {
   "cell_type": "markdown",
   "metadata": {},
   "source": [
    "Me quedo solo con los registros completos de este dataframe"
   ]
  },
  {
   "cell_type": "code",
   "execution_count": 5,
   "metadata": {},
   "outputs": [],
   "source": [
    "#COMPLETAR para calcular df_completes\n",
    "df_completes = df.dropna()"
   ]
  },
  {
   "cell_type": "code",
   "execution_count": 6,
   "metadata": {},
   "outputs": [
    {
     "data": {
      "text/plain": [
       "(598, 26)"
      ]
     },
     "execution_count": 6,
     "metadata": {},
     "output_type": "execute_result"
    }
   ],
   "source": [
    "df_completes.shape"
   ]
  },
  {
   "cell_type": "markdown",
   "metadata": {},
   "source": [
    "Veo qué variables tengo en el dataframe y de que tipo son:"
   ]
  },
  {
   "cell_type": "code",
   "execution_count": 8,
   "metadata": {},
   "outputs": [
    {
     "data": {
      "text/plain": [
       "Index(['Unnamed: 0', 'operation', 'property_type', 'place_name',\n",
       "       'place_with_parent_names', 'country_name', 'state_name', 'geonames_id',\n",
       "       'lat-lon', 'lat', 'lon', 'price', 'currency',\n",
       "       'price_aprox_local_currency', 'price_aprox_usd', 'surface_total_in_m2',\n",
       "       'surface_covered_in_m2', 'price_usd_per_m2', 'price_per_m2', 'floor',\n",
       "       'rooms', 'expenses', 'properati_url', 'description', 'title',\n",
       "       'image_thumbnail'],\n",
       "      dtype='object')"
      ]
     },
     "execution_count": 8,
     "metadata": {},
     "output_type": "execute_result"
    }
   ],
   "source": [
    "#COMPLETAR PARA OBTENER ESTA SALIDA\n",
    "df_completes.columns"
   ]
  },
  {
   "cell_type": "code",
   "execution_count": 10,
   "metadata": {},
   "outputs": [
    {
     "data": {
      "text/plain": [
       "Unnamed: 0                      int64\n",
       "operation                      object\n",
       "property_type                  object\n",
       "place_name                     object\n",
       "place_with_parent_names        object\n",
       "country_name                   object\n",
       "state_name                     object\n",
       "geonames_id                   float64\n",
       "lat-lon                        object\n",
       "lat                           float64\n",
       "lon                           float64\n",
       "price                         float64\n",
       "currency                       object\n",
       "price_aprox_local_currency    float64\n",
       "price_aprox_usd               float64\n",
       "surface_total_in_m2           float64\n",
       "surface_covered_in_m2         float64\n",
       "price_usd_per_m2              float64\n",
       "price_per_m2                  float64\n",
       "floor                         float64\n",
       "rooms                         float64\n",
       "expenses                      float64\n",
       "properati_url                  object\n",
       "description                    object\n",
       "title                          object\n",
       "image_thumbnail                object\n",
       "dtype: object"
      ]
     },
     "execution_count": 10,
     "metadata": {},
     "output_type": "execute_result"
    }
   ],
   "source": [
    "#COMPLETAR PARA OBTENER ESTA SALIDA (tipos de cada una de las variables del dataframe)\n",
    "df_completes.dtypes\n"
   ]
  },
  {
   "cell_type": "markdown",
   "metadata": {},
   "source": [
    "Bokeh"
   ]
  },
  {
   "cell_type": "code",
   "execution_count": 11,
   "metadata": {},
   "outputs": [
    {
     "data": {
      "text/html": [
       "\n",
       "    <div class=\"bk-root\">\n",
       "        <a href=\"https://bokeh.pydata.org\" target=\"_blank\" class=\"bk-logo bk-logo-small bk-logo-notebook\"></a>\n",
       "        <span id=\"1001\">Loading BokehJS ...</span>\n",
       "    </div>"
      ]
     },
     "metadata": {},
     "output_type": "display_data"
    },
    {
     "data": {
      "application/javascript": [
       "\n",
       "(function(root) {\n",
       "  function now() {\n",
       "    return new Date();\n",
       "  }\n",
       "\n",
       "  var force = true;\n",
       "\n",
       "  if (typeof (root._bokeh_onload_callbacks) === \"undefined\" || force === true) {\n",
       "    root._bokeh_onload_callbacks = [];\n",
       "    root._bokeh_is_loading = undefined;\n",
       "  }\n",
       "\n",
       "  var JS_MIME_TYPE = 'application/javascript';\n",
       "  var HTML_MIME_TYPE = 'text/html';\n",
       "  var EXEC_MIME_TYPE = 'application/vnd.bokehjs_exec.v0+json';\n",
       "  var CLASS_NAME = 'output_bokeh rendered_html';\n",
       "\n",
       "  /**\n",
       "   * Render data to the DOM node\n",
       "   */\n",
       "  function render(props, node) {\n",
       "    var script = document.createElement(\"script\");\n",
       "    node.appendChild(script);\n",
       "  }\n",
       "\n",
       "  /**\n",
       "   * Handle when an output is cleared or removed\n",
       "   */\n",
       "  function handleClearOutput(event, handle) {\n",
       "    var cell = handle.cell;\n",
       "\n",
       "    var id = cell.output_area._bokeh_element_id;\n",
       "    var server_id = cell.output_area._bokeh_server_id;\n",
       "    // Clean up Bokeh references\n",
       "    if (id != null && id in Bokeh.index) {\n",
       "      Bokeh.index[id].model.document.clear();\n",
       "      delete Bokeh.index[id];\n",
       "    }\n",
       "\n",
       "    if (server_id !== undefined) {\n",
       "      // Clean up Bokeh references\n",
       "      var cmd = \"from bokeh.io.state import curstate; print(curstate().uuid_to_server['\" + server_id + \"'].get_sessions()[0].document.roots[0]._id)\";\n",
       "      cell.notebook.kernel.execute(cmd, {\n",
       "        iopub: {\n",
       "          output: function(msg) {\n",
       "            var id = msg.content.text.trim();\n",
       "            if (id in Bokeh.index) {\n",
       "              Bokeh.index[id].model.document.clear();\n",
       "              delete Bokeh.index[id];\n",
       "            }\n",
       "          }\n",
       "        }\n",
       "      });\n",
       "      // Destroy server and session\n",
       "      var cmd = \"import bokeh.io.notebook as ion; ion.destroy_server('\" + server_id + \"')\";\n",
       "      cell.notebook.kernel.execute(cmd);\n",
       "    }\n",
       "  }\n",
       "\n",
       "  /**\n",
       "   * Handle when a new output is added\n",
       "   */\n",
       "  function handleAddOutput(event, handle) {\n",
       "    var output_area = handle.output_area;\n",
       "    var output = handle.output;\n",
       "\n",
       "    // limit handleAddOutput to display_data with EXEC_MIME_TYPE content only\n",
       "    if ((output.output_type != \"display_data\") || (!output.data.hasOwnProperty(EXEC_MIME_TYPE))) {\n",
       "      return\n",
       "    }\n",
       "\n",
       "    var toinsert = output_area.element.find(\".\" + CLASS_NAME.split(' ')[0]);\n",
       "\n",
       "    if (output.metadata[EXEC_MIME_TYPE][\"id\"] !== undefined) {\n",
       "      toinsert[toinsert.length - 1].firstChild.textContent = output.data[JS_MIME_TYPE];\n",
       "      // store reference to embed id on output_area\n",
       "      output_area._bokeh_element_id = output.metadata[EXEC_MIME_TYPE][\"id\"];\n",
       "    }\n",
       "    if (output.metadata[EXEC_MIME_TYPE][\"server_id\"] !== undefined) {\n",
       "      var bk_div = document.createElement(\"div\");\n",
       "      bk_div.innerHTML = output.data[HTML_MIME_TYPE];\n",
       "      var script_attrs = bk_div.children[0].attributes;\n",
       "      for (var i = 0; i < script_attrs.length; i++) {\n",
       "        toinsert[toinsert.length - 1].firstChild.setAttribute(script_attrs[i].name, script_attrs[i].value);\n",
       "      }\n",
       "      // store reference to server id on output_area\n",
       "      output_area._bokeh_server_id = output.metadata[EXEC_MIME_TYPE][\"server_id\"];\n",
       "    }\n",
       "  }\n",
       "\n",
       "  function register_renderer(events, OutputArea) {\n",
       "\n",
       "    function append_mime(data, metadata, element) {\n",
       "      // create a DOM node to render to\n",
       "      var toinsert = this.create_output_subarea(\n",
       "        metadata,\n",
       "        CLASS_NAME,\n",
       "        EXEC_MIME_TYPE\n",
       "      );\n",
       "      this.keyboard_manager.register_events(toinsert);\n",
       "      // Render to node\n",
       "      var props = {data: data, metadata: metadata[EXEC_MIME_TYPE]};\n",
       "      render(props, toinsert[toinsert.length - 1]);\n",
       "      element.append(toinsert);\n",
       "      return toinsert\n",
       "    }\n",
       "\n",
       "    /* Handle when an output is cleared or removed */\n",
       "    events.on('clear_output.CodeCell', handleClearOutput);\n",
       "    events.on('delete.Cell', handleClearOutput);\n",
       "\n",
       "    /* Handle when a new output is added */\n",
       "    events.on('output_added.OutputArea', handleAddOutput);\n",
       "\n",
       "    /**\n",
       "     * Register the mime type and append_mime function with output_area\n",
       "     */\n",
       "    OutputArea.prototype.register_mime_type(EXEC_MIME_TYPE, append_mime, {\n",
       "      /* Is output safe? */\n",
       "      safe: true,\n",
       "      /* Index of renderer in `output_area.display_order` */\n",
       "      index: 0\n",
       "    });\n",
       "  }\n",
       "\n",
       "  // register the mime type if in Jupyter Notebook environment and previously unregistered\n",
       "  if (root.Jupyter !== undefined) {\n",
       "    var events = require('base/js/events');\n",
       "    var OutputArea = require('notebook/js/outputarea').OutputArea;\n",
       "\n",
       "    if (OutputArea.prototype.mime_types().indexOf(EXEC_MIME_TYPE) == -1) {\n",
       "      register_renderer(events, OutputArea);\n",
       "    }\n",
       "  }\n",
       "\n",
       "  \n",
       "  if (typeof (root._bokeh_timeout) === \"undefined\" || force === true) {\n",
       "    root._bokeh_timeout = Date.now() + 5000;\n",
       "    root._bokeh_failed_load = false;\n",
       "  }\n",
       "\n",
       "  var NB_LOAD_WARNING = {'data': {'text/html':\n",
       "     \"<div style='background-color: #fdd'>\\n\"+\n",
       "     \"<p>\\n\"+\n",
       "     \"BokehJS does not appear to have successfully loaded. If loading BokehJS from CDN, this \\n\"+\n",
       "     \"may be due to a slow or bad network connection. Possible fixes:\\n\"+\n",
       "     \"</p>\\n\"+\n",
       "     \"<ul>\\n\"+\n",
       "     \"<li>re-rerun `output_notebook()` to attempt to load from CDN again, or</li>\\n\"+\n",
       "     \"<li>use INLINE resources instead, as so:</li>\\n\"+\n",
       "     \"</ul>\\n\"+\n",
       "     \"<code>\\n\"+\n",
       "     \"from bokeh.resources import INLINE\\n\"+\n",
       "     \"output_notebook(resources=INLINE)\\n\"+\n",
       "     \"</code>\\n\"+\n",
       "     \"</div>\"}};\n",
       "\n",
       "  function display_loaded() {\n",
       "    var el = document.getElementById(\"1001\");\n",
       "    if (el != null) {\n",
       "      el.textContent = \"BokehJS is loading...\";\n",
       "    }\n",
       "    if (root.Bokeh !== undefined) {\n",
       "      if (el != null) {\n",
       "        el.textContent = \"BokehJS \" + root.Bokeh.version + \" successfully loaded.\";\n",
       "      }\n",
       "    } else if (Date.now() < root._bokeh_timeout) {\n",
       "      setTimeout(display_loaded, 100)\n",
       "    }\n",
       "  }\n",
       "\n",
       "\n",
       "  function run_callbacks() {\n",
       "    try {\n",
       "      root._bokeh_onload_callbacks.forEach(function(callback) { callback() });\n",
       "    }\n",
       "    finally {\n",
       "      delete root._bokeh_onload_callbacks\n",
       "    }\n",
       "    console.info(\"Bokeh: all callbacks have finished\");\n",
       "  }\n",
       "\n",
       "  function load_libs(js_urls, callback) {\n",
       "    root._bokeh_onload_callbacks.push(callback);\n",
       "    if (root._bokeh_is_loading > 0) {\n",
       "      console.log(\"Bokeh: BokehJS is being loaded, scheduling callback at\", now());\n",
       "      return null;\n",
       "    }\n",
       "    if (js_urls == null || js_urls.length === 0) {\n",
       "      run_callbacks();\n",
       "      return null;\n",
       "    }\n",
       "    console.log(\"Bokeh: BokehJS not loaded, scheduling load and callback at\", now());\n",
       "    root._bokeh_is_loading = js_urls.length;\n",
       "    for (var i = 0; i < js_urls.length; i++) {\n",
       "      var url = js_urls[i];\n",
       "      var s = document.createElement('script');\n",
       "      s.src = url;\n",
       "      s.async = false;\n",
       "      s.onreadystatechange = s.onload = function() {\n",
       "        root._bokeh_is_loading--;\n",
       "        if (root._bokeh_is_loading === 0) {\n",
       "          console.log(\"Bokeh: all BokehJS libraries loaded\");\n",
       "          run_callbacks()\n",
       "        }\n",
       "      };\n",
       "      s.onerror = function() {\n",
       "        console.warn(\"failed to load library \" + url);\n",
       "      };\n",
       "      console.log(\"Bokeh: injecting script tag for BokehJS library: \", url);\n",
       "      document.getElementsByTagName(\"head\")[0].appendChild(s);\n",
       "    }\n",
       "  };var element = document.getElementById(\"1001\");\n",
       "  if (element == null) {\n",
       "    console.log(\"Bokeh: ERROR: autoload.js configured with elementid '1001' but no matching script tag was found. \")\n",
       "    return false;\n",
       "  }\n",
       "\n",
       "  var js_urls = [\"https://cdn.pydata.org/bokeh/release/bokeh-1.0.3.min.js\", \"https://cdn.pydata.org/bokeh/release/bokeh-widgets-1.0.3.min.js\", \"https://cdn.pydata.org/bokeh/release/bokeh-tables-1.0.3.min.js\", \"https://cdn.pydata.org/bokeh/release/bokeh-gl-1.0.3.min.js\"];\n",
       "\n",
       "  var inline_js = [\n",
       "    function(Bokeh) {\n",
       "      Bokeh.set_log_level(\"info\");\n",
       "    },\n",
       "    \n",
       "    function(Bokeh) {\n",
       "      \n",
       "    },\n",
       "    function(Bokeh) {\n",
       "      console.log(\"Bokeh: injecting CSS: https://cdn.pydata.org/bokeh/release/bokeh-1.0.3.min.css\");\n",
       "      Bokeh.embed.inject_css(\"https://cdn.pydata.org/bokeh/release/bokeh-1.0.3.min.css\");\n",
       "      console.log(\"Bokeh: injecting CSS: https://cdn.pydata.org/bokeh/release/bokeh-widgets-1.0.3.min.css\");\n",
       "      Bokeh.embed.inject_css(\"https://cdn.pydata.org/bokeh/release/bokeh-widgets-1.0.3.min.css\");\n",
       "      console.log(\"Bokeh: injecting CSS: https://cdn.pydata.org/bokeh/release/bokeh-tables-1.0.3.min.css\");\n",
       "      Bokeh.embed.inject_css(\"https://cdn.pydata.org/bokeh/release/bokeh-tables-1.0.3.min.css\");\n",
       "    }\n",
       "  ];\n",
       "\n",
       "  function run_inline_js() {\n",
       "    \n",
       "    if ((root.Bokeh !== undefined) || (force === true)) {\n",
       "      for (var i = 0; i < inline_js.length; i++) {\n",
       "        inline_js[i].call(root, root.Bokeh);\n",
       "      }if (force === true) {\n",
       "        display_loaded();\n",
       "      }} else if (Date.now() < root._bokeh_timeout) {\n",
       "      setTimeout(run_inline_js, 100);\n",
       "    } else if (!root._bokeh_failed_load) {\n",
       "      console.log(\"Bokeh: BokehJS failed to load within specified timeout.\");\n",
       "      root._bokeh_failed_load = true;\n",
       "    } else if (force !== true) {\n",
       "      var cell = $(document.getElementById(\"1001\")).parents('.cell').data().cell;\n",
       "      cell.output_area.append_execute_result(NB_LOAD_WARNING)\n",
       "    }\n",
       "\n",
       "  }\n",
       "\n",
       "  if (root._bokeh_is_loading === 0) {\n",
       "    console.log(\"Bokeh: BokehJS loaded, going straight to plotting\");\n",
       "    run_inline_js();\n",
       "  } else {\n",
       "    load_libs(js_urls, function() {\n",
       "      console.log(\"Bokeh: BokehJS plotting callback run at\", now());\n",
       "      run_inline_js();\n",
       "    });\n",
       "  }\n",
       "}(window));"
      ],
      "application/vnd.bokehjs_load.v0+json": "\n(function(root) {\n  function now() {\n    return new Date();\n  }\n\n  var force = true;\n\n  if (typeof (root._bokeh_onload_callbacks) === \"undefined\" || force === true) {\n    root._bokeh_onload_callbacks = [];\n    root._bokeh_is_loading = undefined;\n  }\n\n  \n\n  \n  if (typeof (root._bokeh_timeout) === \"undefined\" || force === true) {\n    root._bokeh_timeout = Date.now() + 5000;\n    root._bokeh_failed_load = false;\n  }\n\n  var NB_LOAD_WARNING = {'data': {'text/html':\n     \"<div style='background-color: #fdd'>\\n\"+\n     \"<p>\\n\"+\n     \"BokehJS does not appear to have successfully loaded. If loading BokehJS from CDN, this \\n\"+\n     \"may be due to a slow or bad network connection. Possible fixes:\\n\"+\n     \"</p>\\n\"+\n     \"<ul>\\n\"+\n     \"<li>re-rerun `output_notebook()` to attempt to load from CDN again, or</li>\\n\"+\n     \"<li>use INLINE resources instead, as so:</li>\\n\"+\n     \"</ul>\\n\"+\n     \"<code>\\n\"+\n     \"from bokeh.resources import INLINE\\n\"+\n     \"output_notebook(resources=INLINE)\\n\"+\n     \"</code>\\n\"+\n     \"</div>\"}};\n\n  function display_loaded() {\n    var el = document.getElementById(\"1001\");\n    if (el != null) {\n      el.textContent = \"BokehJS is loading...\";\n    }\n    if (root.Bokeh !== undefined) {\n      if (el != null) {\n        el.textContent = \"BokehJS \" + root.Bokeh.version + \" successfully loaded.\";\n      }\n    } else if (Date.now() < root._bokeh_timeout) {\n      setTimeout(display_loaded, 100)\n    }\n  }\n\n\n  function run_callbacks() {\n    try {\n      root._bokeh_onload_callbacks.forEach(function(callback) { callback() });\n    }\n    finally {\n      delete root._bokeh_onload_callbacks\n    }\n    console.info(\"Bokeh: all callbacks have finished\");\n  }\n\n  function load_libs(js_urls, callback) {\n    root._bokeh_onload_callbacks.push(callback);\n    if (root._bokeh_is_loading > 0) {\n      console.log(\"Bokeh: BokehJS is being loaded, scheduling callback at\", now());\n      return null;\n    }\n    if (js_urls == null || js_urls.length === 0) {\n      run_callbacks();\n      return null;\n    }\n    console.log(\"Bokeh: BokehJS not loaded, scheduling load and callback at\", now());\n    root._bokeh_is_loading = js_urls.length;\n    for (var i = 0; i < js_urls.length; i++) {\n      var url = js_urls[i];\n      var s = document.createElement('script');\n      s.src = url;\n      s.async = false;\n      s.onreadystatechange = s.onload = function() {\n        root._bokeh_is_loading--;\n        if (root._bokeh_is_loading === 0) {\n          console.log(\"Bokeh: all BokehJS libraries loaded\");\n          run_callbacks()\n        }\n      };\n      s.onerror = function() {\n        console.warn(\"failed to load library \" + url);\n      };\n      console.log(\"Bokeh: injecting script tag for BokehJS library: \", url);\n      document.getElementsByTagName(\"head\")[0].appendChild(s);\n    }\n  };var element = document.getElementById(\"1001\");\n  if (element == null) {\n    console.log(\"Bokeh: ERROR: autoload.js configured with elementid '1001' but no matching script tag was found. \")\n    return false;\n  }\n\n  var js_urls = [\"https://cdn.pydata.org/bokeh/release/bokeh-1.0.3.min.js\", \"https://cdn.pydata.org/bokeh/release/bokeh-widgets-1.0.3.min.js\", \"https://cdn.pydata.org/bokeh/release/bokeh-tables-1.0.3.min.js\", \"https://cdn.pydata.org/bokeh/release/bokeh-gl-1.0.3.min.js\"];\n\n  var inline_js = [\n    function(Bokeh) {\n      Bokeh.set_log_level(\"info\");\n    },\n    \n    function(Bokeh) {\n      \n    },\n    function(Bokeh) {\n      console.log(\"Bokeh: injecting CSS: https://cdn.pydata.org/bokeh/release/bokeh-1.0.3.min.css\");\n      Bokeh.embed.inject_css(\"https://cdn.pydata.org/bokeh/release/bokeh-1.0.3.min.css\");\n      console.log(\"Bokeh: injecting CSS: https://cdn.pydata.org/bokeh/release/bokeh-widgets-1.0.3.min.css\");\n      Bokeh.embed.inject_css(\"https://cdn.pydata.org/bokeh/release/bokeh-widgets-1.0.3.min.css\");\n      console.log(\"Bokeh: injecting CSS: https://cdn.pydata.org/bokeh/release/bokeh-tables-1.0.3.min.css\");\n      Bokeh.embed.inject_css(\"https://cdn.pydata.org/bokeh/release/bokeh-tables-1.0.3.min.css\");\n    }\n  ];\n\n  function run_inline_js() {\n    \n    if ((root.Bokeh !== undefined) || (force === true)) {\n      for (var i = 0; i < inline_js.length; i++) {\n        inline_js[i].call(root, root.Bokeh);\n      }if (force === true) {\n        display_loaded();\n      }} else if (Date.now() < root._bokeh_timeout) {\n      setTimeout(run_inline_js, 100);\n    } else if (!root._bokeh_failed_load) {\n      console.log(\"Bokeh: BokehJS failed to load within specified timeout.\");\n      root._bokeh_failed_load = true;\n    } else if (force !== true) {\n      var cell = $(document.getElementById(\"1001\")).parents('.cell').data().cell;\n      cell.output_area.append_execute_result(NB_LOAD_WARNING)\n    }\n\n  }\n\n  if (root._bokeh_is_loading === 0) {\n    console.log(\"Bokeh: BokehJS loaded, going straight to plotting\");\n    run_inline_js();\n  } else {\n    load_libs(js_urls, function() {\n      console.log(\"Bokeh: BokehJS plotting callback run at\", now());\n      run_inline_js();\n    });\n  }\n}(window));"
     },
     "metadata": {},
     "output_type": "display_data"
    }
   ],
   "source": [
    "from bokeh.plotting import figure \n",
    "from bokeh.io import output_notebook, show\n",
    "from bokeh.layouts import gridplot\n",
    "\n",
    "output_notebook()"
   ]
  },
  {
   "cell_type": "markdown",
   "metadata": {},
   "source": [
    "Defino estilos que voy a reusar en varios gráficos de Bokeh:"
   ]
  },
  {
   "cell_type": "code",
   "execution_count": 12,
   "metadata": {},
   "outputs": [],
   "source": [
    "options = {'plot_width': 450,\n",
    "           'plot_height': 450,\n",
    "           'tools': 'pan, wheel_zoom, box_zoom, box_select, lasso_select, reset'}\n",
    "\n",
    "options_circle = {'size': 7, \n",
    "                  'color': \"firebrick\", \n",
    "                  'alpha': 0.5}"
   ]
  },
  {
   "cell_type": "markdown",
   "metadata": {},
   "source": [
    "Veo cómo se relacionan las variables surface_total_in_m2 y surface_covered_in_m2 usando un scatter plot (circle)"
   ]
  },
  {
   "cell_type": "code",
   "execution_count": 13,
   "metadata": {},
   "outputs": [
    {
     "ename": "AttributeError",
     "evalue": "unexpected attribute 'sie' to Circle, similar attributes are size",
     "output_type": "error",
     "traceback": [
      "\u001b[0;31m---------------------------------------------------------------------------\u001b[0m",
      "\u001b[0;31mAttributeError\u001b[0m                            Traceback (most recent call last)",
      "\u001b[0;32m<ipython-input-13-af1dc0073220>\u001b[0m in \u001b[0;36m<module>\u001b[0;34m()\u001b[0m\n\u001b[1;32m      4\u001b[0m \u001b[0;31m#COMPLETAR PARA OBTENER ESTE GRAFICO\u001b[0m\u001b[0;34m\u001b[0m\u001b[0;34m\u001b[0m\u001b[0;34m\u001b[0m\u001b[0m\n\u001b[1;32m      5\u001b[0m \u001b[0mr\u001b[0m\u001b[0;34m=\u001b[0m \u001b[0mfigure\u001b[0m\u001b[0;34m(\u001b[0m\u001b[0mwidth\u001b[0m\u001b[0;34m=\u001b[0m\u001b[0;36m500\u001b[0m\u001b[0;34m,\u001b[0m\u001b[0mheight\u001b[0m\u001b[0;34m=\u001b[0m\u001b[0;36m500\u001b[0m\u001b[0;34m)\u001b[0m\u001b[0;34m\u001b[0m\u001b[0;34m\u001b[0m\u001b[0m\n\u001b[0;32m----> 6\u001b[0;31m \u001b[0mr\u001b[0m\u001b[0;34m.\u001b[0m\u001b[0mcircle\u001b[0m\u001b[0;34m(\u001b[0m\u001b[0mx\u001b[0m\u001b[0;34m,\u001b[0m\u001b[0my\u001b[0m\u001b[0;34m,\u001b[0m\u001b[0msie\u001b[0m\u001b[0;34m=\u001b[0m\u001b[0;36m7\u001b[0m\u001b[0;34m,\u001b[0m\u001b[0mcolor\u001b[0m\u001b[0;34m=\u001b[0m\u001b[0;34m\"firebrick\"\u001b[0m\u001b[0;34m,\u001b[0m\u001b[0malpha\u001b[0m\u001b[0;34m=\u001b[0m\u001b[0;36m5\u001b[0m\u001b[0;34m)\u001b[0m\u001b[0;34m\u001b[0m\u001b[0;34m\u001b[0m\u001b[0m\n\u001b[0m",
      "\u001b[0;32mfakesource\u001b[0m in \u001b[0;36mcircle\u001b[0;34m(self, x, y, **kwargs)\u001b[0m\n",
      "\u001b[0;32m/opt/conda/lib/python3.6/site-packages/bokeh/plotting/helpers.py\u001b[0m in \u001b[0;36mfunc\u001b[0;34m(self, **kwargs)\u001b[0m\n\u001b[1;32m    819\u001b[0m             \u001b[0mmglyph_ca\u001b[0m \u001b[0;34m=\u001b[0m \u001b[0;32mNone\u001b[0m\u001b[0;34m\u001b[0m\u001b[0;34m\u001b[0m\u001b[0m\n\u001b[1;32m    820\u001b[0m \u001b[0;34m\u001b[0m\u001b[0m\n\u001b[0;32m--> 821\u001b[0;31m         \u001b[0mglyph\u001b[0m \u001b[0;34m=\u001b[0m \u001b[0m_make_glyph\u001b[0m\u001b[0;34m(\u001b[0m\u001b[0mglyphclass\u001b[0m\u001b[0;34m,\u001b[0m \u001b[0mkwargs\u001b[0m\u001b[0;34m,\u001b[0m \u001b[0mglyph_ca\u001b[0m\u001b[0;34m)\u001b[0m\u001b[0;34m\u001b[0m\u001b[0;34m\u001b[0m\u001b[0m\n\u001b[0m\u001b[1;32m    822\u001b[0m         \u001b[0mnsglyph\u001b[0m \u001b[0;34m=\u001b[0m \u001b[0m_make_glyph\u001b[0m\u001b[0;34m(\u001b[0m\u001b[0mglyphclass\u001b[0m\u001b[0;34m,\u001b[0m \u001b[0mkwargs\u001b[0m\u001b[0;34m,\u001b[0m \u001b[0mnsglyph_ca\u001b[0m\u001b[0;34m)\u001b[0m\u001b[0;34m\u001b[0m\u001b[0;34m\u001b[0m\u001b[0m\n\u001b[1;32m    823\u001b[0m         \u001b[0msglyph\u001b[0m \u001b[0;34m=\u001b[0m \u001b[0m_make_glyph\u001b[0m\u001b[0;34m(\u001b[0m\u001b[0mglyphclass\u001b[0m\u001b[0;34m,\u001b[0m \u001b[0mkwargs\u001b[0m\u001b[0;34m,\u001b[0m \u001b[0msglyph_ca\u001b[0m\u001b[0;34m)\u001b[0m\u001b[0;34m\u001b[0m\u001b[0;34m\u001b[0m\u001b[0m\n",
      "\u001b[0;32m/opt/conda/lib/python3.6/site-packages/bokeh/plotting/helpers.py\u001b[0m in \u001b[0;36m_make_glyph\u001b[0;34m(glyphclass, kws, extra)\u001b[0m\n\u001b[1;32m    360\u001b[0m     \u001b[0mkws\u001b[0m \u001b[0;34m=\u001b[0m \u001b[0mkws\u001b[0m\u001b[0;34m.\u001b[0m\u001b[0mcopy\u001b[0m\u001b[0;34m(\u001b[0m\u001b[0;34m)\u001b[0m\u001b[0;34m\u001b[0m\u001b[0;34m\u001b[0m\u001b[0m\n\u001b[1;32m    361\u001b[0m     \u001b[0mkws\u001b[0m\u001b[0;34m.\u001b[0m\u001b[0mupdate\u001b[0m\u001b[0;34m(\u001b[0m\u001b[0mextra\u001b[0m\u001b[0;34m)\u001b[0m\u001b[0;34m\u001b[0m\u001b[0;34m\u001b[0m\u001b[0m\n\u001b[0;32m--> 362\u001b[0;31m     \u001b[0;32mreturn\u001b[0m \u001b[0mglyphclass\u001b[0m\u001b[0;34m(\u001b[0m\u001b[0;34m**\u001b[0m\u001b[0mkws\u001b[0m\u001b[0;34m)\u001b[0m\u001b[0;34m\u001b[0m\u001b[0;34m\u001b[0m\u001b[0m\n\u001b[0m\u001b[1;32m    363\u001b[0m \u001b[0;34m\u001b[0m\u001b[0m\n\u001b[1;32m    364\u001b[0m \u001b[0;34m\u001b[0m\u001b[0m\n",
      "\u001b[0;32m/opt/conda/lib/python3.6/site-packages/bokeh/model.py\u001b[0m in \u001b[0;36m__init__\u001b[0;34m(self, **kwargs)\u001b[0m\n\u001b[1;32m    259\u001b[0m         \u001b[0mself\u001b[0m\u001b[0;34m.\u001b[0m\u001b[0m_document\u001b[0m \u001b[0;34m=\u001b[0m \u001b[0;32mNone\u001b[0m\u001b[0;34m\u001b[0m\u001b[0;34m\u001b[0m\u001b[0m\n\u001b[1;32m    260\u001b[0m         \u001b[0mself\u001b[0m\u001b[0;34m.\u001b[0m\u001b[0m_temp_document\u001b[0m \u001b[0;34m=\u001b[0m \u001b[0;32mNone\u001b[0m\u001b[0;34m\u001b[0m\u001b[0;34m\u001b[0m\u001b[0m\n\u001b[0;32m--> 261\u001b[0;31m         \u001b[0msuper\u001b[0m\u001b[0;34m(\u001b[0m\u001b[0mModel\u001b[0m\u001b[0;34m,\u001b[0m \u001b[0mself\u001b[0m\u001b[0;34m)\u001b[0m\u001b[0;34m.\u001b[0m\u001b[0m__init__\u001b[0m\u001b[0;34m(\u001b[0m\u001b[0;34m**\u001b[0m\u001b[0mkwargs\u001b[0m\u001b[0;34m)\u001b[0m\u001b[0;34m\u001b[0m\u001b[0;34m\u001b[0m\u001b[0m\n\u001b[0m\u001b[1;32m    262\u001b[0m         \u001b[0mdefault_theme\u001b[0m\u001b[0;34m.\u001b[0m\u001b[0mapply_to_model\u001b[0m\u001b[0;34m(\u001b[0m\u001b[0mself\u001b[0m\u001b[0;34m)\u001b[0m\u001b[0;34m\u001b[0m\u001b[0;34m\u001b[0m\u001b[0m\n\u001b[1;32m    263\u001b[0m \u001b[0;34m\u001b[0m\u001b[0m\n",
      "\u001b[0;32m/opt/conda/lib/python3.6/site-packages/bokeh/core/has_props.py\u001b[0m in \u001b[0;36m__init__\u001b[0;34m(self, **properties)\u001b[0m\n\u001b[1;32m    252\u001b[0m \u001b[0;34m\u001b[0m\u001b[0m\n\u001b[1;32m    253\u001b[0m         \u001b[0;32mfor\u001b[0m \u001b[0mname\u001b[0m\u001b[0;34m,\u001b[0m \u001b[0mvalue\u001b[0m \u001b[0;32min\u001b[0m \u001b[0mproperties\u001b[0m\u001b[0;34m.\u001b[0m\u001b[0mitems\u001b[0m\u001b[0;34m(\u001b[0m\u001b[0;34m)\u001b[0m\u001b[0;34m:\u001b[0m\u001b[0;34m\u001b[0m\u001b[0;34m\u001b[0m\u001b[0m\n\u001b[0;32m--> 254\u001b[0;31m             \u001b[0msetattr\u001b[0m\u001b[0;34m(\u001b[0m\u001b[0mself\u001b[0m\u001b[0;34m,\u001b[0m \u001b[0mname\u001b[0m\u001b[0;34m,\u001b[0m \u001b[0mvalue\u001b[0m\u001b[0;34m)\u001b[0m\u001b[0;34m\u001b[0m\u001b[0;34m\u001b[0m\u001b[0m\n\u001b[0m\u001b[1;32m    255\u001b[0m \u001b[0;34m\u001b[0m\u001b[0m\n\u001b[1;32m    256\u001b[0m     \u001b[0;32mdef\u001b[0m \u001b[0m__setattr__\u001b[0m\u001b[0;34m(\u001b[0m\u001b[0mself\u001b[0m\u001b[0;34m,\u001b[0m \u001b[0mname\u001b[0m\u001b[0;34m,\u001b[0m \u001b[0mvalue\u001b[0m\u001b[0;34m)\u001b[0m\u001b[0;34m:\u001b[0m\u001b[0;34m\u001b[0m\u001b[0;34m\u001b[0m\u001b[0m\n",
      "\u001b[0;32m/opt/conda/lib/python3.6/site-packages/bokeh/core/has_props.py\u001b[0m in \u001b[0;36m__setattr__\u001b[0;34m(self, name, value)\u001b[0m\n\u001b[1;32m    287\u001b[0m \u001b[0;34m\u001b[0m\u001b[0m\n\u001b[1;32m    288\u001b[0m             raise AttributeError(\"unexpected attribute '%s' to %s, %s attributes are %s\" %\n\u001b[0;32m--> 289\u001b[0;31m                 (name, self.__class__.__name__, text, nice_join(matches)))\n\u001b[0m\u001b[1;32m    290\u001b[0m \u001b[0;34m\u001b[0m\u001b[0m\n\u001b[1;32m    291\u001b[0m     \u001b[0;32mdef\u001b[0m \u001b[0m__str__\u001b[0m\u001b[0;34m(\u001b[0m\u001b[0mself\u001b[0m\u001b[0;34m)\u001b[0m\u001b[0;34m:\u001b[0m\u001b[0;34m\u001b[0m\u001b[0;34m\u001b[0m\u001b[0m\n",
      "\u001b[0;31mAttributeError\u001b[0m: unexpected attribute 'sie' to Circle, similar attributes are size"
     ]
    }
   ],
   "source": [
    "x = df_completes.surface_total_in_m2\n",
    "y = df_completes.surface_covered_in_m2\n",
    "\n",
    "#COMPLETAR PARA OBTENER ESTE GRAFICO\n",
    "r= figure(width=500,height=500)\n",
    "r.circle(x,y,sie=7,color=\"firebrick\",alpha=5)\n",
    "\n"
   ]
  },
  {
   "cell_type": "markdown",
   "metadata": {},
   "source": [
    "Veo cómo se relacionan las variables surface_total_in_m2 y price"
   ]
  },
  {
   "cell_type": "code",
   "execution_count": 27,
   "metadata": {},
   "outputs": [
    {
     "data": {
      "text/html": [
       "\n",
       "\n",
       "\n",
       "\n",
       "\n",
       "\n",
       "  <div class=\"bk-root\" id=\"3faecc32-c2bb-421b-ba77-72a7eb29db83\" data-root-id=\"1145\"></div>\n"
      ]
     },
     "metadata": {},
     "output_type": "display_data"
    },
    {
     "data": {
      "application/javascript": [
       "(function(root) {\n",
       "  function embed_document(root) {\n",
       "    \n",
       "  var docs_json = {\"9e461db5-13f1-4e11-936b-7ae17979bfa2\":{\"roots\":{\"references\":[{\"attributes\":{\"below\":[{\"id\":\"1156\",\"type\":\"LinearAxis\"}],\"center\":[{\"id\":\"1160\",\"type\":\"Grid\"},{\"id\":\"1165\",\"type\":\"Grid\"}],\"left\":[{\"id\":\"1161\",\"type\":\"LinearAxis\"}],\"plot_height\":450,\"plot_width\":450,\"renderers\":[{\"id\":\"1182\",\"type\":\"GlyphRenderer\"}],\"title\":{\"id\":\"1146\",\"type\":\"Title\"},\"toolbar\":{\"id\":\"1172\",\"type\":\"Toolbar\"},\"x_range\":{\"id\":\"1148\",\"type\":\"DataRange1d\"},\"x_scale\":{\"id\":\"1152\",\"type\":\"LinearScale\"},\"y_range\":{\"id\":\"1150\",\"type\":\"DataRange1d\"},\"y_scale\":{\"id\":\"1154\",\"type\":\"LinearScale\"}},\"id\":\"1145\",\"subtype\":\"Figure\",\"type\":\"Plot\"},{\"attributes\":{\"text\":\"surface_total_in_m2 vs price\"},\"id\":\"1146\",\"type\":\"Title\"},{\"attributes\":{\"active_drag\":\"auto\",\"active_inspect\":\"auto\",\"active_multi\":null,\"active_scroll\":\"auto\",\"active_tap\":\"auto\",\"tools\":[{\"id\":\"1166\",\"type\":\"PanTool\"},{\"id\":\"1167\",\"type\":\"WheelZoomTool\"},{\"id\":\"1168\",\"type\":\"BoxZoomTool\"},{\"id\":\"1169\",\"type\":\"BoxSelectTool\"},{\"id\":\"1170\",\"type\":\"LassoSelectTool\"},{\"id\":\"1171\",\"type\":\"ResetTool\"}]},\"id\":\"1172\",\"type\":\"Toolbar\"},{\"attributes\":{\"bottom_units\":\"screen\",\"fill_alpha\":{\"value\":0.5},\"fill_color\":{\"value\":\"lightgrey\"},\"left_units\":\"screen\",\"level\":\"overlay\",\"line_alpha\":{\"value\":1.0},\"line_color\":{\"value\":\"black\"},\"line_dash\":[4,4],\"line_width\":{\"value\":2},\"render_mode\":\"css\",\"right_units\":\"screen\",\"top_units\":\"screen\"},\"id\":\"1200\",\"type\":\"BoxAnnotation\"},{\"attributes\":{},\"id\":\"1166\",\"type\":\"PanTool\"},{\"attributes\":{\"callback\":null,\"data\":{\"x\":{\"__ndarray__\":\"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\",\"dtype\":\"float64\",\"shape\":[598]},\"y\":{\"__ndarray__\":\"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\",\"dtype\":\"float64\",\"shape\":[598]}},\"selected\":{\"id\":\"1203\",\"type\":\"Selection\"},\"selection_policy\":{\"id\":\"1202\",\"type\":\"UnionRenderers\"}},\"id\":\"1179\",\"type\":\"ColumnDataSource\"},{\"attributes\":{\"fill_alpha\":{\"value\":0.5},\"fill_color\":{\"value\":\"lightgrey\"},\"level\":\"overlay\",\"line_alpha\":{\"value\":1.0},\"line_color\":{\"value\":\"black\"},\"line_dash\":[4,4],\"line_width\":{\"value\":2},\"xs_units\":\"screen\",\"ys_units\":\"screen\"},\"id\":\"1201\",\"type\":\"PolyAnnotation\"},{\"attributes\":{},\"id\":\"1202\",\"type\":\"UnionRenderers\"},{\"attributes\":{\"callback\":null},\"id\":\"1150\",\"type\":\"DataRange1d\"},{\"attributes\":{\"callback\":null},\"id\":\"1148\",\"type\":\"DataRange1d\"},{\"attributes\":{},\"id\":\"1203\",\"type\":\"Selection\"},{\"attributes\":{},\"id\":\"1195\",\"type\":\"BasicTickFormatter\"},{\"attributes\":{},\"id\":\"1197\",\"type\":\"BasicTickFormatter\"},{\"attributes\":{\"axis_label\":\"surface_total_in_m2\",\"formatter\":{\"id\":\"1195\",\"type\":\"BasicTickFormatter\"},\"ticker\":{\"id\":\"1157\",\"type\":\"BasicTicker\"}},\"id\":\"1156\",\"type\":\"LinearAxis\"},{\"attributes\":{\"dimension\":1,\"ticker\":{\"id\":\"1162\",\"type\":\"BasicTicker\"}},\"id\":\"1165\",\"type\":\"Grid\"},{\"attributes\":{},\"id\":\"1154\",\"type\":\"LinearScale\"},{\"attributes\":{},\"id\":\"1167\",\"type\":\"WheelZoomTool\"},{\"attributes\":{\"fill_alpha\":{\"value\":0.1},\"fill_color\":{\"value\":\"#1f77b4\"},\"line_alpha\":{\"value\":0.1},\"line_color\":{\"value\":\"#1f77b4\"},\"size\":{\"units\":\"screen\",\"value\":7},\"x\":{\"field\":\"x\"},\"y\":{\"field\":\"y\"}},\"id\":\"1181\",\"type\":\"Circle\"},{\"attributes\":{},\"id\":\"1152\",\"type\":\"LinearScale\"},{\"attributes\":{\"fill_alpha\":{\"value\":0.5},\"fill_color\":{\"value\":\"firebrick\"},\"line_alpha\":{\"value\":0.5},\"line_color\":{\"value\":\"firebrick\"},\"size\":{\"units\":\"screen\",\"value\":7},\"x\":{\"field\":\"x\"},\"y\":{\"field\":\"y\"}},\"id\":\"1180\",\"type\":\"Circle\"},{\"attributes\":{},\"id\":\"1171\",\"type\":\"ResetTool\"},{\"attributes\":{\"ticker\":{\"id\":\"1157\",\"type\":\"BasicTicker\"}},\"id\":\"1160\",\"type\":\"Grid\"},{\"attributes\":{\"axis_label\":\"price\",\"formatter\":{\"id\":\"1197\",\"type\":\"BasicTickFormatter\"},\"ticker\":{\"id\":\"1162\",\"type\":\"BasicTicker\"}},\"id\":\"1161\",\"type\":\"LinearAxis\"},{\"attributes\":{\"overlay\":{\"id\":\"1199\",\"type\":\"BoxAnnotation\"}},\"id\":\"1168\",\"type\":\"BoxZoomTool\"},{\"attributes\":{},\"id\":\"1157\",\"type\":\"BasicTicker\"},{\"attributes\":{\"data_source\":{\"id\":\"1179\",\"type\":\"ColumnDataSource\"},\"glyph\":{\"id\":\"1180\",\"type\":\"Circle\"},\"hover_glyph\":null,\"muted_glyph\":null,\"nonselection_glyph\":{\"id\":\"1181\",\"type\":\"Circle\"},\"selection_glyph\":null,\"view\":{\"id\":\"1183\",\"type\":\"CDSView\"}},\"id\":\"1182\",\"type\":\"GlyphRenderer\"},{\"attributes\":{\"bottom_units\":\"screen\",\"fill_alpha\":{\"value\":0.5},\"fill_color\":{\"value\":\"lightgrey\"},\"left_units\":\"screen\",\"level\":\"overlay\",\"line_alpha\":{\"value\":1.0},\"line_color\":{\"value\":\"black\"},\"line_dash\":[4,4],\"line_width\":{\"value\":2},\"render_mode\":\"css\",\"right_units\":\"screen\",\"top_units\":\"screen\"},\"id\":\"1199\",\"type\":\"BoxAnnotation\"},{\"attributes\":{},\"id\":\"1162\",\"type\":\"BasicTicker\"},{\"attributes\":{\"callback\":null,\"overlay\":{\"id\":\"1200\",\"type\":\"BoxAnnotation\"}},\"id\":\"1169\",\"type\":\"BoxSelectTool\"},{\"attributes\":{\"callback\":null,\"overlay\":{\"id\":\"1201\",\"type\":\"PolyAnnotation\"}},\"id\":\"1170\",\"type\":\"LassoSelectTool\"},{\"attributes\":{\"source\":{\"id\":\"1179\",\"type\":\"ColumnDataSource\"}},\"id\":\"1183\",\"type\":\"CDSView\"}],\"root_ids\":[\"1145\"]},\"title\":\"Bokeh Application\",\"version\":\"1.2.0\"}};\n",
       "  var render_items = [{\"docid\":\"9e461db5-13f1-4e11-936b-7ae17979bfa2\",\"roots\":{\"1145\":\"3faecc32-c2bb-421b-ba77-72a7eb29db83\"}}];\n",
       "  root.Bokeh.embed.embed_items_notebook(docs_json, render_items);\n",
       "\n",
       "  }\n",
       "  if (root.Bokeh !== undefined) {\n",
       "    embed_document(root);\n",
       "  } else {\n",
       "    var attempts = 0;\n",
       "    var timer = setInterval(function(root) {\n",
       "      if (root.Bokeh !== undefined) {\n",
       "        embed_document(root);\n",
       "        clearInterval(timer);\n",
       "      }\n",
       "      attempts++;\n",
       "      if (attempts > 100) {\n",
       "        console.log(\"Bokeh: ERROR: Unable to run BokehJS code because BokehJS library is missing\");\n",
       "        clearInterval(timer);\n",
       "      }\n",
       "    }, 10, root)\n",
       "  }\n",
       "})(window);"
      ],
      "application/vnd.bokehjs_exec.v0+json": ""
     },
     "metadata": {
      "application/vnd.bokehjs_exec.v0+json": {
       "id": "1145"
      }
     },
     "output_type": "display_data"
    }
   ],
   "source": [
    "x = df_completes.surface_total_in_m2\n",
    "y = df_completes.price\n",
    "\n",
    "#COMPLETAR PARA OBTENER ESTE GRAFICO\n",
    "\n"
   ]
  },
  {
   "cell_type": "markdown",
   "metadata": {},
   "source": [
    "Quiero ver la relación anterior para valores de surface_total_in_m2 < 200 y price <  8E5   "
   ]
  },
  {
   "cell_type": "code",
   "execution_count": 28,
   "metadata": {},
   "outputs": [
    {
     "data": {
      "text/plain": [
       "(586, 26)"
      ]
     },
     "execution_count": 28,
     "metadata": {},
     "output_type": "execute_result"
    }
   ],
   "source": [
    "\n",
    "\n",
    "\n",
    "#COMPLETAR PARA OBTENER EL DATAFRAME QUE CUMPLE LAS CONDICIONES DE ARRIBA, EL RESULTADO SE GUARDA ENLA VARIABLE df_completes_l200\n",
    "\n",
    "\n",
    "\n",
    "\n",
    "df_completes_l200.shape\n"
   ]
  },
  {
   "cell_type": "code",
   "execution_count": 29,
   "metadata": {},
   "outputs": [
    {
     "data": {
      "text/html": [
       "\n",
       "\n",
       "\n",
       "\n",
       "\n",
       "\n",
       "  <div class=\"bk-root\" id=\"47b3df13-4eb5-4ef6-b14b-bd1570302759\" data-root-id=\"1264\"></div>\n"
      ]
     },
     "metadata": {},
     "output_type": "display_data"
    },
    {
     "data": {
      "application/javascript": [
       "(function(root) {\n",
       "  function embed_document(root) {\n",
       "    \n",
       "  var docs_json = {\"3bacf76d-90ae-4c21-9f0e-c52209feed17\":{\"roots\":{\"references\":[{\"attributes\":{\"below\":[{\"id\":\"1275\",\"type\":\"LinearAxis\"}],\"center\":[{\"id\":\"1279\",\"type\":\"Grid\"},{\"id\":\"1284\",\"type\":\"Grid\"}],\"left\":[{\"id\":\"1280\",\"type\":\"LinearAxis\"}],\"plot_height\":450,\"plot_width\":450,\"renderers\":[{\"id\":\"1301\",\"type\":\"GlyphRenderer\"}],\"title\":{\"id\":\"1265\",\"type\":\"Title\"},\"toolbar\":{\"id\":\"1291\",\"type\":\"Toolbar\"},\"x_range\":{\"id\":\"1267\",\"type\":\"DataRange1d\"},\"x_scale\":{\"id\":\"1271\",\"type\":\"LinearScale\"},\"y_range\":{\"id\":\"1269\",\"type\":\"DataRange1d\"},\"y_scale\":{\"id\":\"1273\",\"type\":\"LinearScale\"}},\"id\":\"1264\",\"subtype\":\"Figure\",\"type\":\"Plot\"},{\"attributes\":{\"data_source\":{\"id\":\"1298\",\"type\":\"ColumnDataSource\"},\"glyph\":{\"id\":\"1299\",\"type\":\"Circle\"},\"hover_glyph\":null,\"muted_glyph\":null,\"nonselection_glyph\":{\"id\":\"1300\",\"type\":\"Circle\"},\"selection_glyph\":null,\"view\":{\"id\":\"1302\",\"type\":\"CDSView\"}},\"id\":\"1301\",\"type\":\"GlyphRenderer\"},{\"attributes\":{\"callback\":null,\"data\":{\"x\":{\"__ndarray__\":\"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\",\"dtype\":\"float64\",\"shape\":[586]},\"y\":{\"__ndarray__\":\"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\",\"dtype\":\"float64\",\"shape\":[586]}},\"selected\":{\"id\":\"1332\",\"type\":\"Selection\"},\"selection_policy\":{\"id\":\"1331\",\"type\":\"UnionRenderers\"}},\"id\":\"1298\",\"type\":\"ColumnDataSource\"},{\"attributes\":{\"ticker\":{\"id\":\"1276\",\"type\":\"BasicTicker\"}},\"id\":\"1279\",\"type\":\"Grid\"},{\"attributes\":{},\"id\":\"1276\",\"type\":\"BasicTicker\"},{\"attributes\":{\"axis_label\":\"surface_total_in_m2 (less than 200)\",\"formatter\":{\"id\":\"1324\",\"type\":\"BasicTickFormatter\"},\"ticker\":{\"id\":\"1276\",\"type\":\"BasicTicker\"}},\"id\":\"1275\",\"type\":\"LinearAxis\"},{\"attributes\":{\"callback\":null},\"id\":\"1269\",\"type\":\"DataRange1d\"},{\"attributes\":{},\"id\":\"1290\",\"type\":\"ResetTool\"},{\"attributes\":{},\"id\":\"1271\",\"type\":\"LinearScale\"},{\"attributes\":{\"callback\":null},\"id\":\"1267\",\"type\":\"DataRange1d\"},{\"attributes\":{\"fill_alpha\":{\"value\":0.1},\"fill_color\":{\"value\":\"#1f77b4\"},\"line_alpha\":{\"value\":0.1},\"line_color\":{\"value\":\"#1f77b4\"},\"size\":{\"units\":\"screen\",\"value\":7},\"x\":{\"field\":\"x\"},\"y\":{\"field\":\"y\"}},\"id\":\"1300\",\"type\":\"Circle\"},{\"attributes\":{\"axis_label\":\"price (less than 800.000)\",\"formatter\":{\"id\":\"1326\",\"type\":\"BasicTickFormatter\"},\"ticker\":{\"id\":\"1281\",\"type\":\"BasicTicker\"}},\"id\":\"1280\",\"type\":\"LinearAxis\"},{\"attributes\":{},\"id\":\"1281\",\"type\":\"BasicTicker\"},{\"attributes\":{\"bottom_units\":\"screen\",\"fill_alpha\":{\"value\":0.5},\"fill_color\":{\"value\":\"lightgrey\"},\"left_units\":\"screen\",\"level\":\"overlay\",\"line_alpha\":{\"value\":1.0},\"line_color\":{\"value\":\"black\"},\"line_dash\":[4,4],\"line_width\":{\"value\":2},\"render_mode\":\"css\",\"right_units\":\"screen\",\"top_units\":\"screen\"},\"id\":\"1329\",\"type\":\"BoxAnnotation\"},{\"attributes\":{},\"id\":\"1326\",\"type\":\"BasicTickFormatter\"},{\"attributes\":{},\"id\":\"1332\",\"type\":\"Selection\"},{\"attributes\":{\"active_drag\":\"auto\",\"active_inspect\":\"auto\",\"active_multi\":null,\"active_scroll\":\"auto\",\"active_tap\":\"auto\",\"tools\":[{\"id\":\"1285\",\"type\":\"PanTool\"},{\"id\":\"1286\",\"type\":\"WheelZoomTool\"},{\"id\":\"1287\",\"type\":\"BoxZoomTool\"},{\"id\":\"1288\",\"type\":\"BoxSelectTool\"},{\"id\":\"1289\",\"type\":\"LassoSelectTool\"},{\"id\":\"1290\",\"type\":\"ResetTool\"}]},\"id\":\"1291\",\"type\":\"Toolbar\"},{\"attributes\":{\"source\":{\"id\":\"1298\",\"type\":\"ColumnDataSource\"}},\"id\":\"1302\",\"type\":\"CDSView\"},{\"attributes\":{},\"id\":\"1273\",\"type\":\"LinearScale\"},{\"attributes\":{\"dimension\":1,\"ticker\":{\"id\":\"1281\",\"type\":\"BasicTicker\"}},\"id\":\"1284\",\"type\":\"Grid\"},{\"attributes\":{\"callback\":null,\"overlay\":{\"id\":\"1330\",\"type\":\"PolyAnnotation\"}},\"id\":\"1289\",\"type\":\"LassoSelectTool\"},{\"attributes\":{},\"id\":\"1324\",\"type\":\"BasicTickFormatter\"},{\"attributes\":{\"bottom_units\":\"screen\",\"fill_alpha\":{\"value\":0.5},\"fill_color\":{\"value\":\"lightgrey\"},\"left_units\":\"screen\",\"level\":\"overlay\",\"line_alpha\":{\"value\":1.0},\"line_color\":{\"value\":\"black\"},\"line_dash\":[4,4],\"line_width\":{\"value\":2},\"render_mode\":\"css\",\"right_units\":\"screen\",\"top_units\":\"screen\"},\"id\":\"1328\",\"type\":\"BoxAnnotation\"},{\"attributes\":{},\"id\":\"1285\",\"type\":\"PanTool\"},{\"attributes\":{\"text\":\"surface_total_in_m2 vs price\"},\"id\":\"1265\",\"type\":\"Title\"},{\"attributes\":{},\"id\":\"1331\",\"type\":\"UnionRenderers\"},{\"attributes\":{\"callback\":null,\"overlay\":{\"id\":\"1329\",\"type\":\"BoxAnnotation\"}},\"id\":\"1288\",\"type\":\"BoxSelectTool\"},{\"attributes\":{\"fill_alpha\":{\"value\":0.5},\"fill_color\":{\"value\":\"lightgrey\"},\"level\":\"overlay\",\"line_alpha\":{\"value\":1.0},\"line_color\":{\"value\":\"black\"},\"line_dash\":[4,4],\"line_width\":{\"value\":2},\"xs_units\":\"screen\",\"ys_units\":\"screen\"},\"id\":\"1330\",\"type\":\"PolyAnnotation\"},{\"attributes\":{\"overlay\":{\"id\":\"1328\",\"type\":\"BoxAnnotation\"}},\"id\":\"1287\",\"type\":\"BoxZoomTool\"},{\"attributes\":{},\"id\":\"1286\",\"type\":\"WheelZoomTool\"},{\"attributes\":{\"fill_alpha\":{\"value\":0.5},\"fill_color\":{\"value\":\"firebrick\"},\"line_alpha\":{\"value\":0.5},\"line_color\":{\"value\":\"firebrick\"},\"size\":{\"units\":\"screen\",\"value\":7},\"x\":{\"field\":\"x\"},\"y\":{\"field\":\"y\"}},\"id\":\"1299\",\"type\":\"Circle\"}],\"root_ids\":[\"1264\"]},\"title\":\"Bokeh Application\",\"version\":\"1.2.0\"}};\n",
       "  var render_items = [{\"docid\":\"3bacf76d-90ae-4c21-9f0e-c52209feed17\",\"roots\":{\"1264\":\"47b3df13-4eb5-4ef6-b14b-bd1570302759\"}}];\n",
       "  root.Bokeh.embed.embed_items_notebook(docs_json, render_items);\n",
       "\n",
       "  }\n",
       "  if (root.Bokeh !== undefined) {\n",
       "    embed_document(root);\n",
       "  } else {\n",
       "    var attempts = 0;\n",
       "    var timer = setInterval(function(root) {\n",
       "      if (root.Bokeh !== undefined) {\n",
       "        embed_document(root);\n",
       "        clearInterval(timer);\n",
       "      }\n",
       "      attempts++;\n",
       "      if (attempts > 100) {\n",
       "        console.log(\"Bokeh: ERROR: Unable to run BokehJS code because BokehJS library is missing\");\n",
       "        clearInterval(timer);\n",
       "      }\n",
       "    }, 10, root)\n",
       "  }\n",
       "})(window);"
      ],
      "application/vnd.bokehjs_exec.v0+json": ""
     },
     "metadata": {
      "application/vnd.bokehjs_exec.v0+json": {
       "id": "1264"
      }
     },
     "output_type": "display_data"
    }
   ],
   "source": [
    "x = df_completes_l200.surface_total_in_m2\n",
    "y = df_completes_l200.price\n",
    "\n",
    "#COMPLETAR PARA OBTENER ESTE GRAFICO\n",
    "\n",
    "\n"
   ]
  },
  {
   "cell_type": "markdown",
   "metadata": {},
   "source": [
    "Armo una grilla con esos graficos"
   ]
  },
  {
   "cell_type": "code",
   "execution_count": 30,
   "metadata": {},
   "outputs": [
    {
     "data": {
      "text/html": [
       "\n",
       "\n",
       "\n",
       "\n",
       "\n",
       "\n",
       "  <div class=\"bk-root\" id=\"0a897603-62f1-4e44-ae1e-3b2929ed1e2a\" data-root-id=\"1429\"></div>\n"
      ]
     },
     "metadata": {},
     "output_type": "display_data"
    },
    {
     "data": {
      "application/javascript": [
       "(function(root) {\n",
       "  function embed_document(root) {\n",
       "    \n",
       "  var docs_json = {\"799b5465-bf94-4270-a5de-a7a4f16e2b56\":{\"roots\":{\"references\":[{\"attributes\":{\"children\":[{\"id\":\"1428\",\"type\":\"ToolbarBox\"},{\"id\":\"1426\",\"type\":\"GridBox\"}]},\"id\":\"1429\",\"type\":\"Row\"},{\"attributes\":{\"data_source\":{\"id\":\"1298\",\"type\":\"ColumnDataSource\"},\"glyph\":{\"id\":\"1299\",\"type\":\"Circle\"},\"hover_glyph\":null,\"muted_glyph\":null,\"nonselection_glyph\":{\"id\":\"1300\",\"type\":\"Circle\"},\"selection_glyph\":null,\"view\":{\"id\":\"1302\",\"type\":\"CDSView\"}},\"id\":\"1301\",\"type\":\"GlyphRenderer\"},{\"attributes\":{\"bottom_units\":\"screen\",\"fill_alpha\":{\"value\":0.5},\"fill_color\":{\"value\":\"lightgrey\"},\"left_units\":\"screen\",\"level\":\"overlay\",\"line_alpha\":{\"value\":1.0},\"line_color\":{\"value\":\"black\"},\"line_dash\":[4,4],\"line_width\":{\"value\":2},\"render_mode\":\"css\",\"right_units\":\"screen\",\"top_units\":\"screen\"},\"id\":\"1081\",\"type\":\"BoxAnnotation\"},{\"attributes\":{\"callback\":null,\"overlay\":{\"id\":\"1201\",\"type\":\"PolyAnnotation\"}},\"id\":\"1170\",\"type\":\"LassoSelectTool\"},{\"attributes\":{\"fill_alpha\":{\"value\":0.5},\"fill_color\":{\"value\":\"lightgrey\"},\"level\":\"overlay\",\"line_alpha\":{\"value\":1.0},\"line_color\":{\"value\":\"black\"},\"line_dash\":[4,4],\"line_width\":{\"value\":2},\"xs_units\":\"screen\",\"ys_units\":\"screen\"},\"id\":\"1082\",\"type\":\"PolyAnnotation\"},{\"attributes\":{},\"id\":\"1290\",\"type\":\"ResetTool\"},{\"attributes\":{},\"id\":\"1083\",\"type\":\"UnionRenderers\"},{\"attributes\":{},\"id\":\"1084\",\"type\":\"Selection\"},{\"attributes\":{\"fill_alpha\":{\"value\":0.1},\"fill_color\":{\"value\":\"#1f77b4\"},\"line_alpha\":{\"value\":0.1},\"line_color\":{\"value\":\"#1f77b4\"},\"size\":{\"units\":\"screen\",\"value\":7},\"x\":{\"field\":\"x\"},\"y\":{\"field\":\"y\"}},\"id\":\"1300\",\"type\":\"Circle\"},{\"attributes\":{\"bottom_units\":\"screen\",\"fill_alpha\":{\"value\":0.5},\"fill_color\":{\"value\":\"lightgrey\"},\"left_units\":\"screen\",\"level\":\"overlay\",\"line_alpha\":{\"value\":1.0},\"line_color\":{\"value\":\"black\"},\"line_dash\":[4,4],\"line_width\":{\"value\":2},\"render_mode\":\"css\",\"right_units\":\"screen\",\"top_units\":\"screen\"},\"id\":\"1329\",\"type\":\"BoxAnnotation\"},{\"attributes\":{},\"id\":\"1326\",\"type\":\"BasicTickFormatter\"},{\"attributes\":{},\"id\":\"1332\",\"type\":\"Selection\"},{\"attributes\":{},\"id\":\"1197\",\"type\":\"BasicTickFormatter\"},{\"attributes\":{\"source\":{\"id\":\"1298\",\"type\":\"ColumnDataSource\"}},\"id\":\"1302\",\"type\":\"CDSView\"},{\"attributes\":{\"fill_alpha\":{\"value\":0.1},\"fill_color\":{\"value\":\"#1f77b4\"},\"line_alpha\":{\"value\":0.1},\"line_color\":{\"value\":\"#1f77b4\"},\"size\":{\"units\":\"screen\",\"value\":7},\"x\":{\"field\":\"x\"},\"y\":{\"field\":\"y\"}},\"id\":\"1181\",\"type\":\"Circle\"},{\"attributes\":{},\"id\":\"1324\",\"type\":\"BasicTickFormatter\"},{\"attributes\":{\"bottom_units\":\"screen\",\"fill_alpha\":{\"value\":0.5},\"fill_color\":{\"value\":\"lightgrey\"},\"left_units\":\"screen\",\"level\":\"overlay\",\"line_alpha\":{\"value\":1.0},\"line_color\":{\"value\":\"black\"},\"line_dash\":[4,4],\"line_width\":{\"value\":2},\"render_mode\":\"css\",\"right_units\":\"screen\",\"top_units\":\"screen\"},\"id\":\"1328\",\"type\":\"BoxAnnotation\"},{\"attributes\":{},\"id\":\"1171\",\"type\":\"ResetTool\"},{\"attributes\":{},\"id\":\"1331\",\"type\":\"UnionRenderers\"},{\"attributes\":{\"fill_alpha\":{\"value\":0.5},\"fill_color\":{\"value\":\"lightgrey\"},\"level\":\"overlay\",\"line_alpha\":{\"value\":1.0},\"line_color\":{\"value\":\"black\"},\"line_dash\":[4,4],\"line_width\":{\"value\":2},\"xs_units\":\"screen\",\"ys_units\":\"screen\"},\"id\":\"1330\",\"type\":\"PolyAnnotation\"},{\"attributes\":{\"data_source\":{\"id\":\"1179\",\"type\":\"ColumnDataSource\"},\"glyph\":{\"id\":\"1180\",\"type\":\"Circle\"},\"hover_glyph\":null,\"muted_glyph\":null,\"nonselection_glyph\":{\"id\":\"1181\",\"type\":\"Circle\"},\"selection_glyph\":null,\"view\":{\"id\":\"1183\",\"type\":\"CDSView\"}},\"id\":\"1182\",\"type\":\"GlyphRenderer\"},{\"attributes\":{\"bottom_units\":\"screen\",\"fill_alpha\":{\"value\":0.5},\"fill_color\":{\"value\":\"lightgrey\"},\"left_units\":\"screen\",\"level\":\"overlay\",\"line_alpha\":{\"value\":1.0},\"line_color\":{\"value\":\"black\"},\"line_dash\":[4,4],\"line_width\":{\"value\":2},\"render_mode\":\"css\",\"right_units\":\"screen\",\"top_units\":\"screen\"},\"id\":\"1199\",\"type\":\"BoxAnnotation\"},{\"attributes\":{\"source\":{\"id\":\"1179\",\"type\":\"ColumnDataSource\"}},\"id\":\"1183\",\"type\":\"CDSView\"},{\"attributes\":{\"text\":\"surface_total_in_m2 vs price\"},\"id\":\"1146\",\"type\":\"Title\"},{\"attributes\":{\"bottom_units\":\"screen\",\"fill_alpha\":{\"value\":0.5},\"fill_color\":{\"value\":\"lightgrey\"},\"left_units\":\"screen\",\"level\":\"overlay\",\"line_alpha\":{\"value\":1.0},\"line_color\":{\"value\":\"black\"},\"line_dash\":[4,4],\"line_width\":{\"value\":2},\"render_mode\":\"css\",\"right_units\":\"screen\",\"top_units\":\"screen\"},\"id\":\"1200\",\"type\":\"BoxAnnotation\"},{\"attributes\":{\"callback\":null,\"data\":{\"x\":{\"__ndarray__\":\"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\",\"dtype\":\"float64\",\"shape\":[598]},\"y\":{\"__ndarray__\":\"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\",\"dtype\":\"float64\",\"shape\":[598]}},\"selected\":{\"id\":\"1203\",\"type\":\"Selection\"},\"selection_policy\":{\"id\":\"1202\",\"type\":\"UnionRenderers\"}},\"id\":\"1179\",\"type\":\"ColumnDataSource\"},{\"attributes\":{\"fill_alpha\":{\"value\":0.5},\"fill_color\":{\"value\":\"lightgrey\"},\"level\":\"overlay\",\"line_alpha\":{\"value\":1.0},\"line_color\":{\"value\":\"black\"},\"line_dash\":[4,4],\"line_width\":{\"value\":2},\"xs_units\":\"screen\",\"ys_units\":\"screen\"},\"id\":\"1201\",\"type\":\"PolyAnnotation\"},{\"attributes\":{},\"id\":\"1202\",\"type\":\"UnionRenderers\"},{\"attributes\":{\"callback\":null},\"id\":\"1150\",\"type\":\"DataRange1d\"},{\"attributes\":{\"callback\":null},\"id\":\"1148\",\"type\":\"DataRange1d\"},{\"attributes\":{},\"id\":\"1203\",\"type\":\"Selection\"},{\"attributes\":{},\"id\":\"1195\",\"type\":\"BasicTickFormatter\"},{\"attributes\":{\"toolbar\":{\"id\":\"1427\",\"type\":\"ProxyToolbar\"},\"toolbar_location\":\"left\"},\"id\":\"1428\",\"type\":\"ToolbarBox\"},{\"attributes\":{\"below\":[{\"id\":\"1156\",\"type\":\"LinearAxis\"}],\"center\":[{\"id\":\"1160\",\"type\":\"Grid\"},{\"id\":\"1165\",\"type\":\"Grid\"}],\"left\":[{\"id\":\"1161\",\"type\":\"LinearAxis\"}],\"plot_height\":450,\"plot_width\":450,\"renderers\":[{\"id\":\"1182\",\"type\":\"GlyphRenderer\"}],\"title\":{\"id\":\"1146\",\"type\":\"Title\"},\"toolbar\":{\"id\":\"1172\",\"type\":\"Toolbar\"},\"toolbar_location\":null,\"x_range\":{\"id\":\"1148\",\"type\":\"DataRange1d\"},\"x_scale\":{\"id\":\"1152\",\"type\":\"LinearScale\"},\"y_range\":{\"id\":\"1150\",\"type\":\"DataRange1d\"},\"y_scale\":{\"id\":\"1154\",\"type\":\"LinearScale\"}},\"id\":\"1145\",\"subtype\":\"Figure\",\"type\":\"Plot\"},{\"attributes\":{\"axis_label\":\"surface_total_in_m2\",\"formatter\":{\"id\":\"1195\",\"type\":\"BasicTickFormatter\"},\"ticker\":{\"id\":\"1157\",\"type\":\"BasicTicker\"}},\"id\":\"1156\",\"type\":\"LinearAxis\"},{\"attributes\":{},\"id\":\"1154\",\"type\":\"LinearScale\"},{\"attributes\":{},\"id\":\"1152\",\"type\":\"LinearScale\"},{\"attributes\":{\"ticker\":{\"id\":\"1157\",\"type\":\"BasicTicker\"}},\"id\":\"1160\",\"type\":\"Grid\"},{\"attributes\":{},\"id\":\"1157\",\"type\":\"BasicTicker\"},{\"attributes\":{},\"id\":\"1162\",\"type\":\"BasicTicker\"},{\"attributes\":{\"tools\":[{\"id\":\"1057\",\"type\":\"PanTool\"},{\"id\":\"1058\",\"type\":\"WheelZoomTool\"},{\"id\":\"1059\",\"type\":\"BoxZoomTool\"},{\"id\":\"1060\",\"type\":\"BoxSelectTool\"},{\"id\":\"1061\",\"type\":\"LassoSelectTool\"},{\"id\":\"1062\",\"type\":\"ResetTool\"},{\"id\":\"1166\",\"type\":\"PanTool\"},{\"id\":\"1167\",\"type\":\"WheelZoomTool\"},{\"id\":\"1168\",\"type\":\"BoxZoomTool\"},{\"id\":\"1169\",\"type\":\"BoxSelectTool\"},{\"id\":\"1170\",\"type\":\"LassoSelectTool\"},{\"id\":\"1171\",\"type\":\"ResetTool\"},{\"id\":\"1285\",\"type\":\"PanTool\"},{\"id\":\"1286\",\"type\":\"WheelZoomTool\"},{\"id\":\"1287\",\"type\":\"BoxZoomTool\"},{\"id\":\"1288\",\"type\":\"BoxSelectTool\"},{\"id\":\"1289\",\"type\":\"LassoSelectTool\"},{\"id\":\"1290\",\"type\":\"ResetTool\"}]},\"id\":\"1427\",\"type\":\"ProxyToolbar\"},{\"attributes\":{\"axis_label\":\"price\",\"formatter\":{\"id\":\"1197\",\"type\":\"BasicTickFormatter\"},\"ticker\":{\"id\":\"1162\",\"type\":\"BasicTicker\"}},\"id\":\"1161\",\"type\":\"LinearAxis\"},{\"attributes\":{\"children\":[[{\"id\":\"1036\",\"subtype\":\"Figure\",\"type\":\"Plot\"},0,0],[{\"id\":\"1145\",\"subtype\":\"Figure\",\"type\":\"Plot\"},0,1],[{\"id\":\"1264\",\"subtype\":\"Figure\",\"type\":\"Plot\"},1,0]]},\"id\":\"1426\",\"type\":\"GridBox\"},{\"attributes\":{\"callback\":null,\"data\":{\"x\":{\"__ndarray__\":\"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\",\"dtype\":\"float64\",\"shape\":[586]},\"y\":{\"__ndarray__\":\"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\",\"dtype\":\"float64\",\"shape\":[586]}},\"selected\":{\"id\":\"1332\",\"type\":\"Selection\"},\"selection_policy\":{\"id\":\"1331\",\"type\":\"UnionRenderers\"}},\"id\":\"1298\",\"type\":\"ColumnDataSource\"},{\"attributes\":{\"below\":[{\"id\":\"1275\",\"type\":\"LinearAxis\"}],\"center\":[{\"id\":\"1279\",\"type\":\"Grid\"},{\"id\":\"1284\",\"type\":\"Grid\"}],\"left\":[{\"id\":\"1280\",\"type\":\"LinearAxis\"}],\"plot_height\":450,\"plot_width\":450,\"renderers\":[{\"id\":\"1301\",\"type\":\"GlyphRenderer\"}],\"title\":{\"id\":\"1265\",\"type\":\"Title\"},\"toolbar\":{\"id\":\"1291\",\"type\":\"Toolbar\"},\"toolbar_location\":null,\"x_range\":{\"id\":\"1267\",\"type\":\"DataRange1d\"},\"x_scale\":{\"id\":\"1271\",\"type\":\"LinearScale\"},\"y_range\":{\"id\":\"1269\",\"type\":\"DataRange1d\"},\"y_scale\":{\"id\":\"1273\",\"type\":\"LinearScale\"}},\"id\":\"1264\",\"subtype\":\"Figure\",\"type\":\"Plot\"},{\"attributes\":{},\"id\":\"1166\",\"type\":\"PanTool\"},{\"attributes\":{},\"id\":\"1273\",\"type\":\"LinearScale\"},{\"attributes\":{\"fill_alpha\":{\"value\":0.5},\"fill_color\":{\"value\":\"firebrick\"},\"line_alpha\":{\"value\":0.5},\"line_color\":{\"value\":\"firebrick\"},\"size\":{\"units\":\"screen\",\"value\":7},\"x\":{\"field\":\"x\"},\"y\":{\"field\":\"y\"}},\"id\":\"1071\",\"type\":\"Circle\"},{\"attributes\":{\"callback\":null},\"id\":\"1041\",\"type\":\"DataRange1d\"},{\"attributes\":{\"dimension\":1,\"ticker\":{\"id\":\"1162\",\"type\":\"BasicTicker\"}},\"id\":\"1165\",\"type\":\"Grid\"},{\"attributes\":{},\"id\":\"1043\",\"type\":\"LinearScale\"},{\"attributes\":{},\"id\":\"1076\",\"type\":\"BasicTickFormatter\"},{\"attributes\":{\"text\":\"surface_total_in_m2 vs price\"},\"id\":\"1265\",\"type\":\"Title\"},{\"attributes\":{\"overlay\":{\"id\":\"1199\",\"type\":\"BoxAnnotation\"}},\"id\":\"1168\",\"type\":\"BoxZoomTool\"},{\"attributes\":{\"fill_alpha\":{\"value\":0.1},\"fill_color\":{\"value\":\"#1f77b4\"},\"line_alpha\":{\"value\":0.1},\"line_color\":{\"value\":\"#1f77b4\"},\"size\":{\"units\":\"screen\",\"value\":7},\"x\":{\"field\":\"x\"},\"y\":{\"field\":\"y\"}},\"id\":\"1072\",\"type\":\"Circle\"},{\"attributes\":{\"below\":[{\"id\":\"1047\",\"type\":\"LinearAxis\"}],\"center\":[{\"id\":\"1051\",\"type\":\"Grid\"},{\"id\":\"1056\",\"type\":\"Grid\"}],\"left\":[{\"id\":\"1052\",\"type\":\"LinearAxis\"}],\"plot_height\":450,\"plot_width\":450,\"renderers\":[{\"id\":\"1073\",\"type\":\"GlyphRenderer\"}],\"title\":{\"id\":\"1037\",\"type\":\"Title\"},\"toolbar\":{\"id\":\"1063\",\"type\":\"Toolbar\"},\"toolbar_location\":null,\"x_range\":{\"id\":\"1039\",\"type\":\"DataRange1d\"},\"x_scale\":{\"id\":\"1043\",\"type\":\"LinearScale\"},\"y_range\":{\"id\":\"1041\",\"type\":\"DataRange1d\"},\"y_scale\":{\"id\":\"1045\",\"type\":\"LinearScale\"}},\"id\":\"1036\",\"subtype\":\"Figure\",\"type\":\"Plot\"},{\"attributes\":{\"text\":\"surface_total_in_m2 vs surface_covered_in_m2\"},\"id\":\"1037\",\"type\":\"Title\"},{\"attributes\":{\"callback\":null},\"id\":\"1039\",\"type\":\"DataRange1d\"},{\"attributes\":{\"callback\":null,\"overlay\":{\"id\":\"1081\",\"type\":\"BoxAnnotation\"}},\"id\":\"1060\",\"type\":\"BoxSelectTool\"},{\"attributes\":{\"axis_label\":\"surface_covered_in_m2\",\"formatter\":{\"id\":\"1078\",\"type\":\"BasicTickFormatter\"},\"ticker\":{\"id\":\"1053\",\"type\":\"BasicTicker\"}},\"id\":\"1052\",\"type\":\"LinearAxis\"},{\"attributes\":{\"ticker\":{\"id\":\"1276\",\"type\":\"BasicTicker\"}},\"id\":\"1279\",\"type\":\"Grid\"},{\"attributes\":{\"active_drag\":\"auto\",\"active_inspect\":\"auto\",\"active_multi\":null,\"active_scroll\":\"auto\",\"active_tap\":\"auto\",\"tools\":[{\"id\":\"1166\",\"type\":\"PanTool\"},{\"id\":\"1167\",\"type\":\"WheelZoomTool\"},{\"id\":\"1168\",\"type\":\"BoxZoomTool\"},{\"id\":\"1169\",\"type\":\"BoxSelectTool\"},{\"id\":\"1170\",\"type\":\"LassoSelectTool\"},{\"id\":\"1171\",\"type\":\"ResetTool\"}]},\"id\":\"1172\",\"type\":\"Toolbar\"},{\"attributes\":{},\"id\":\"1053\",\"type\":\"BasicTicker\"},{\"attributes\":{\"axis_label\":\"surface_total_in_m2\",\"formatter\":{\"id\":\"1076\",\"type\":\"BasicTickFormatter\"},\"ticker\":{\"id\":\"1048\",\"type\":\"BasicTicker\"}},\"id\":\"1047\",\"type\":\"LinearAxis\"},{\"attributes\":{},\"id\":\"1276\",\"type\":\"BasicTicker\"},{\"attributes\":{\"axis_label\":\"surface_total_in_m2 (less than 200)\",\"formatter\":{\"id\":\"1324\",\"type\":\"BasicTickFormatter\"},\"ticker\":{\"id\":\"1276\",\"type\":\"BasicTicker\"}},\"id\":\"1275\",\"type\":\"LinearAxis\"},{\"attributes\":{\"callback\":null,\"data\":{\"x\":{\"__ndarray__\":\"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\",\"dtype\":\"float64\",\"shape\":[598]},\"y\":{\"__ndarray__\":\"AAAAAAAAPkAAAAAAAABKQAAAAAAAAEpAAAAAAAAASkAAAAAAAABKQAAAAAAAAEpAAAAAAAAAT0AAAAAAAABMQAAAAAAAgEpAAAAAAADgYUAAAAAAAOBhQAAAAAAAgERAAAAAAAAAOUAAAAAAAAA9QAAAAAAAgFtAAAAAAACASUAAAAAAAIBDQAAAAAAAAFJAAAAAAAAAR0AAAAAAAABHQAAAAAAAAEdAAAAAAAAAR0AAAAAAAABHQAAAAAAAAEdAAAAAAAAAR0AAAAAAAABHQAAAAAAAAEdAAAAAAAAAR0AAAAAAAABHQAAAAAAAAEdAAAAAAAAASUAAAAAAAABDQAAAAAAAgFtAAAAAAACAUkAAAAAAAEBSQAAAAAAAAEBAAAAAAAAAR0AAAAAAAMBiQAAAAAAAwFlAAAAAAADAW0AAAAAAAMBbQAAAAAAAwFtAAAAAAADAW0AAAAAAAIBhQAAAAAAAgGFAAAAAAACAYUAAAAAAAIBhQAAAAAAAAERAAAAAAAAAREAAAAAAAIBQQAAAAAAAgFBAAAAAAADAXEAAAAAAAABNQAAAAAAAAENAAAAAAADAYkAAAAAAAIBDQAAAAAAAwFpAAAAAAABAUkAAAAAAAABTQAAAAAAAAERAAAAAAACARkAAAAAAAIBLQAAAAAAAgFRAAAAAAAAAVUAAAAAAAABOQAAAAAAAgGZAAAAAAAAAN0AAAAAAAIBIQAAAAAAAAENAAAAAAAAATkAAAAAAAABDQAAAAAAAgEJAAAAAAAAAP0AAAAAAAABEQAAAAAAAAFpAAAAAAAAAQ0AAAAAAAIBHQAAAAAAAgFBAAAAAAACATUAAAAAAAAA8QAAAAAAAADxAAAAAAADAUEAAAAAAAEBQQAAAAAAAwFVAAAAAAACASUAAAAAAAEBQQAAAAAAAAEtAAAAAAACAU0AAAAAAAABLQAAAAAAAAD5AAAAAAAAARUAAAAAAAABEQAAAAAAAgENAAAAAAAAANUAAAAAAAEBZQAAAAAAAgEJAAAAAAAAARUAAAAAAAIBJQAAAAAAAAD5AAAAAAAAAPkAAAAAAAABZQAAAAAAAADtAAAAAAACAQUAAAAAAAAA9QAAAAAAAAD1AAAAAAACAQ0AAAAAAAABBQAAAAAAAAD9AAAAAAACAQ0AAAAAAAIBDQAAAAAAAgENAAAAAAACAQ0AAAAAAAAA+QAAAAAAAAF1AAAAAAACAUUAAAAAAAIBQQAAAAAAAAEJAAAAAAAAAXkAAAAAAAIBWQAAAAAAAgFZAAAAAAAAATEAAAAAAAABEQAAAAAAAgFFAAAAAAAAAOEAAAAAAAABDQAAAAAAAAERAAAAAAACAQUAAAAAAAAA7QAAAAAAAgEpAAAAAAAAAP0AAAAAAAABCQAAAAAAAAEdAAAAAAAAASkAAAAAAAABCQAAAAAAAAEtAAAAAAACAWEAAAAAAAIBJQAAAAAAAADpAAAAAAACAUUAAAAAAAIBAQAAAAAAAABRAAAAAAACAS0AAAAAAAABAQAAAAAAAwGNAAAAAAADAaUAAAAAAAIBhQAAAAAAAgGNAAAAAAACAWUAAAAAAAIBjQAAAAAAAgFlAAAAAAACAWUAAAAAAAIBjQAAAAAAAgGNAAAAAAACAWUAAAAAAAIBQQAAAAAAAgEBAAAAAAAAAREAAAAAAAMBSQAAAAAAAwFJAAAAAAAAAPEAAAAAAAAA4QAAAAAAAAEZAAAAAAACASUAAAAAAACBiQAAAAAAAAERAAAAAAAAAREAAAAAAAABEQAAAAAAAgEZAAAAAAAAAREAAAAAAAABEQAAAAAAAAERAAAAAAAAAREAAAAAAAABEQAAAAAAAgERAAAAAAAAAWUAAAAAAAIBMQAAAAAAAgEFAAAAAAAAAQUAAAAAAAABCQAAAAAAAgEZAAAAAAACARkAAAAAAAIBRQAAAAAAAgFFAAAAAAAAAR0AAAAAAAABHQAAAAAAAAFJAAAAAAADAV0AAAAAAAABMQAAAAAAAgFVAAAAAAAAAQ0AAAAAAAAA+QAAAAAAAgERAAAAAAAAATkAAAAAAAIBbQAAAAAAAAEZAAAAAAAAAREAAAAAAAIBDQAAAAAAAgERAAAAAAAAAQEAAAAAAAABAQAAAAAAAgEFAAAAAAACAV0AAAAAAAIBAQAAAAAAAAFJAAAAAAAAAUkAAAAAAAABSQAAAAAAAAFJAAAAAAACARUAAAAAAAIBFQAAAAAAAgFZAAAAAAACAVkAAAAAAAIBWQAAAAAAAgFZAAAAAAAAAXEAAAAAAAABcQAAAAAAAgFZAAAAAAACAVkAAAAAAAIBWQAAAAAAAgFZAAAAAAAAANEAAAAAAAAA0QAAAAAAAAEVAAAAAAADAV0AAAAAAAEBRQAAAAAAAIGtAAAAAAAAAVEAAAAAAAABEQAAAAAAAAFRAAAAAAAAAVEAAAAAAAABSQAAAAAAAwFBAAAAAAABAUEAAAAAAAIBpQAAAAAAAAERAAAAAAACASEAAAAAAAIBIQAAAAAAAgEdAAAAAAAAAUkAAAAAAAABJQAAAAAAAgERAAAAAAAAASEAAAAAAAABFQAAAAAAAAEVAAAAAAACAREAAAAAAAABIQAAAAAAAgFhAAAAAAAAAQ0AAAAAAAIBYQAAAAAAAQFNAAAAAAAAAUUAAAAAAAABDQAAAAAAAAE5AAAAAAAAAREAAAAAAAIBxQAAAAAAAAE1AAAAAAAAAWkAAAAAAAAA/QAAAAAAAAEBAAAAAAADgdUAAAAAAAEBaQAAAAAAAAE5AAAAAAAAAW0AAAAAAAFBxQAAAAAAAAERAAAAAAABAUEAAAAAAAABUQAAAAAAAAFRAAAAAAAAAOkAAAAAAAIBLQAAAAAAAYGVAAAAAAAAAS0AAAAAAAABCQAAAAAAAAEZAAAAAAAAAPkAAAAAAAABTQAAAAAAAADtAAAAAAADAXEAAAAAAAAA7QAAAAAAAAE9AAAAAAAAAT0AAAAAAAABPQAAAAAAAAE9AAAAAAAAASkAAAAAAAABRQAAAAAAAAFFAAAAAAAAAUUAAAAAAAABRQAAAAAAAAEpAAAAAAAAATkAAAAAAAMBQQAAAAAAAAF9AAAAAAAAAREAAAAAAAABcQAAAAAAAgGFAAAAAAACATkAAAAAAAIBbQAAAAAAAgFNAAAAAAACAR0AAAAAAAEBRQAAAAAAAgElAAAAAAAAAQ0AAAAAAAEBYQAAAAAAAAEBAAAAAAABAXkAAAAAAAABDQAAAAAAAAEBAAAAAAAAARUAAAAAAAIBHQAAAAAAAAE5AAAAAAAAAQkAAAAAAACBkQAAAAAAAAEBAAAAAAAAASkAAAAAAAIBVQAAAAAAAAFtAAAAAAAAAW0AAAAAAAABbQAAAAAAAAEFAAAAAAABAUEAAAAAAAEBeQAAAAAAAwF5AAAAAAACAUkAAAAAAAABMQAAAAAAAgElAAAAAAACAQ0AAAAAAAIBGQAAAAAAAgEZAAAAAAAAASUAAAAAAAABkQAAAAAAAAEBAAAAAAAAAQEAAAAAAAABSQAAAAAAAgElAAAAAAABAVUAAAAAAAIBBQAAAAAAAQFJAAAAAAAAAVkAAAAAAAABEQAAAAAAAAElAAAAAAAAAPkAAAAAAAAA+QAAAAAAAgFBAAAAAAAAAP0AAAAAAAABDQAAAAAAAgEFAAAAAAABAWUAAAAAAAKBhQAAAAAAAAEZAAAAAAACAT0AAAAAAAABEQAAAAAAAgENAAAAAAAAAP0AAAAAAAABFQAAAAAAAQFBAAAAAAABgZUAAAAAAAGBlQAAAAAAAAElAAAAAAACAR0AAAAAAAEBUQAAAAAAAYGVAAAAAAAAASEAAAAAAAABPQAAAAAAAgEVAAAAAAACASUAAAAAAAABEQAAAAAAAAEZAAAAAAAAARkAAAAAAAABGQAAAAAAAAEZAAAAAAAAASEAAAAAAAABIQAAAAAAAgE1AAAAAAACATUAAAAAAAIBNQAAAAAAAgE1AAAAAAACATUAAAAAAAIBNQAAAAAAAgE1AAAAAAAAAPEAAAAAAAAA8QAAAAAAAADxAAAAAAAAAPEAAAAAAAABIQAAAAAAAgFNAAAAAAAAAPkAAAAAAAABeQAAAAAAAAD9AAAAAAAAASUAAAAAAAAA+QAAAAAAAAENAAAAAAAAAQ0AAAAAAAAA/QAAAAAAAAD9AAAAAAACAQEAAAAAAAABAQAAAAAAAAE5AAAAAAACAQEAAAAAAAAA+QAAAAAAAAD5AAAAAAAAARUAAAAAAAABFQAAAAAAAgFJAAAAAAACAS0AAAAAAAEBUQAAAAAAAADlAAAAAAAAAUEAAAAAAAABJQAAAAAAAgENAAAAAAACAVEAAAAAAAABJQAAAAAAAgFZAAAAAAABAUUAAAAAAAAA7QAAAAAAAAE5AAAAAAADAUEAAAAAAAIBAQAAAAAAAgEBAAAAAAAAAVEAAAAAAAABTQAAAAAAAgEZAAAAAAADAVkAAAAAAAAA+QAAAAAAAAEVAAAAAAACAW0AAAAAAAABDQAAAAAAAAENAAAAAAACAU0AAAAAAAABNQAAAAAAAgEJAAAAAAACAUEAAAAAAAIBZQAAAAAAAgFBAAAAAAADAUUAAAAAAAAAxQAAAAAAAAERAAAAAAABAUEAAAAAAAIBRQAAAAAAAwFFAAAAAAABAUEAAAAAAAABSQAAAAAAAADxAAAAAAACAUEAAAAAAAIBbQAAAAAAAAEBAAAAAAACAVkAAAAAAAIBCQAAAAAAAEHZAAAAAAAAQdkAAAAAAABB2QAAAAAAAgENAAAAAAACAVkAAAAAAAIBMQAAAAAAAAFJAAAAAAACAS0AAAAAAAIBZQAAAAAAAgEtAAAAAAAAAQUAAAAAAAABBQAAAAAAAgFZAAAAAAACAVkAAAAAAAMBcQAAAAAAAQFVAAAAAAACAS0AAAAAAAMBQQAAAAAAAgFFAAAAAAACARkAAAAAAAIBGQAAAAAAAAERAAAAAAACgYEAAAAAAAIBIQAAAAAAAAFdAAAAAAAAAYEAAAAAAAIBFQAAAAAAAAEJAAAAAAAAAQ0AAAAAAAABDQAAAAAAAAE1AAAAAAAAARUAAAAAAAABIQAAAAAAAADdAAAAAAAAATkAAAAAAAABJQAAAAAAAIGNAAAAAAACAXkAAAAAAAABMQAAAAAAAgEdAAAAAAAAAQkAAAAAAAABGQAAAAAAAAEVAAAAAAAAARkAAAAAAAABGQAAAAAAAgF1AAAAAAADAYkAAAAAAAAA9QAAAAAAAwF1AAAAAAAAAUUAAAAAAAAA/QAAAAAAAAFRAAAAAAAAANEAAAAAAAIBeQAAAAAAAgF5AAAAAAADAUEAAAAAAAIBeQAAAAAAAwFBAAAAAAADAUEAAAAAAAMBQQAAAAAAAgFZAAAAAAACAVkAAAAAAAIBQQAAAAAAAQFJAAAAAAACAQkAAAAAAAOBkQAAAAAAAgEBAAAAAAAAAPkAAAAAAAABLQAAAAAAAgENAAAAAAACAQEAAAAAAAABJQAAAAAAAAENAAAAAAAAAREAAAAAAAABEQAAAAAAAQFhAAAAAAAAAQ0AAAAAAAABDQAAAAAAAgElAAAAAAAAATEAAAAAAAEBfQAAAAAAAgEVAAAAAAAAAT0AAAAAAAABMQAAAAAAAQFlAAAAAAACATEAAAAAAAIBFQAAAAAAAwFJAAAAAAABgY0AAAAAAAABPQAAAAAAAAElAAAAAAADAWEAAAAAAAAA6QAAAAAAAgEhAAAAAAAAASkAAAAAAAABEQAAAAAAAAERAAAAAAAAAREAAAAAAAIBCQAAAAAAAgExAAAAAAACAQUAAAAAAAIBBQAAAAAAAgEFAAAAAAAAAPEAAAAAAAIBBQAAAAAAAAFNAAAAAAAAAQkAAAAAAAIBFQAAAAAAAAElAAAAAAAAAXkAAAAAAAIBLQAAAAAAAgEtAAAAAAAAAS0AAAAAAAABLQAAAAAAAAEtAAAAAAAAAS0AAAAAAAABLQAAAAAAAAEtAAAAAAAAAUUAAAAAAAIBGQAAAAAAAgEJAAAAAAACAQEAAAAAAAIBMQAAAAAAAgEVAAAAAAAAgYkAAAAAAACBiQAAAAAAAAFFAAAAAAACARkAAAAAAAABJQAAAAAAAwFlAAAAAAACAR0AAAAAAAIBGQAAAAAAAgEZAAAAAAAAATUAAAAAAAABFQAAAAAAAgFBAAAAAAACARkAAAAAAAIBGQAAAAAAAgEdAAAAAAACAR0AAAAAAAIBJQAAAAAAAAEVAAAAAAAAAREAAAAAAAABZQAAAAAAAADxAAAAAAAAATkAAAAAAAIBAQAAAAAAAgElAAAAAAACASEAAAAAAAABDQAAAAAAAgFJAAAAAAAAATUA=\",\"dtype\":\"float64\",\"shape\":[598]}},\"selected\":{\"id\":\"1084\",\"type\":\"Selection\"},\"selection_policy\":{\"id\":\"1083\",\"type\":\"UnionRenderers\"}},\"id\":\"1070\",\"type\":\"ColumnDataSource\"},{\"attributes\":{\"callback\":null},\"id\":\"1269\",\"type\":\"DataRange1d\"},{\"attributes\":{},\"id\":\"1048\",\"type\":\"BasicTicker\"},{\"attributes\":{\"ticker\":{\"id\":\"1048\",\"type\":\"BasicTicker\"}},\"id\":\"1051\",\"type\":\"Grid\"},{\"attributes\":{},\"id\":\"1045\",\"type\":\"LinearScale\"},{\"attributes\":{},\"id\":\"1271\",\"type\":\"LinearScale\"},{\"attributes\":{\"callback\":null},\"id\":\"1267\",\"type\":\"DataRange1d\"},{\"attributes\":{\"dimension\":1,\"ticker\":{\"id\":\"1053\",\"type\":\"BasicTicker\"}},\"id\":\"1056\",\"type\":\"Grid\"},{\"attributes\":{\"axis_label\":\"price (less than 800.000)\",\"formatter\":{\"id\":\"1326\",\"type\":\"BasicTickFormatter\"},\"ticker\":{\"id\":\"1281\",\"type\":\"BasicTicker\"}},\"id\":\"1280\",\"type\":\"LinearAxis\"},{\"attributes\":{},\"id\":\"1058\",\"type\":\"WheelZoomTool\"},{\"attributes\":{},\"id\":\"1281\",\"type\":\"BasicTicker\"},{\"attributes\":{\"active_drag\":\"auto\",\"active_inspect\":\"auto\",\"active_multi\":null,\"active_scroll\":\"auto\",\"active_tap\":\"auto\",\"tools\":[{\"id\":\"1285\",\"type\":\"PanTool\"},{\"id\":\"1286\",\"type\":\"WheelZoomTool\"},{\"id\":\"1287\",\"type\":\"BoxZoomTool\"},{\"id\":\"1288\",\"type\":\"BoxSelectTool\"},{\"id\":\"1289\",\"type\":\"LassoSelectTool\"},{\"id\":\"1290\",\"type\":\"ResetTool\"}]},\"id\":\"1291\",\"type\":\"Toolbar\"},{\"attributes\":{\"overlay\":{\"id\":\"1080\",\"type\":\"BoxAnnotation\"}},\"id\":\"1059\",\"type\":\"BoxZoomTool\"},{\"attributes\":{},\"id\":\"1057\",\"type\":\"PanTool\"},{\"attributes\":{\"dimension\":1,\"ticker\":{\"id\":\"1281\",\"type\":\"BasicTicker\"}},\"id\":\"1284\",\"type\":\"Grid\"},{\"attributes\":{},\"id\":\"1078\",\"type\":\"BasicTickFormatter\"},{\"attributes\":{},\"id\":\"1062\",\"type\":\"ResetTool\"},{\"attributes\":{\"callback\":null,\"overlay\":{\"id\":\"1330\",\"type\":\"PolyAnnotation\"}},\"id\":\"1289\",\"type\":\"LassoSelectTool\"},{\"attributes\":{},\"id\":\"1167\",\"type\":\"WheelZoomTool\"},{\"attributes\":{},\"id\":\"1285\",\"type\":\"PanTool\"},{\"attributes\":{\"fill_alpha\":{\"value\":0.5},\"fill_color\":{\"value\":\"firebrick\"},\"line_alpha\":{\"value\":0.5},\"line_color\":{\"value\":\"firebrick\"},\"size\":{\"units\":\"screen\",\"value\":7},\"x\":{\"field\":\"x\"},\"y\":{\"field\":\"y\"}},\"id\":\"1180\",\"type\":\"Circle\"},{\"attributes\":{\"active_drag\":\"auto\",\"active_inspect\":\"auto\",\"active_multi\":null,\"active_scroll\":\"auto\",\"active_tap\":\"auto\",\"tools\":[{\"id\":\"1057\",\"type\":\"PanTool\"},{\"id\":\"1058\",\"type\":\"WheelZoomTool\"},{\"id\":\"1059\",\"type\":\"BoxZoomTool\"},{\"id\":\"1060\",\"type\":\"BoxSelectTool\"},{\"id\":\"1061\",\"type\":\"LassoSelectTool\"},{\"id\":\"1062\",\"type\":\"ResetTool\"}]},\"id\":\"1063\",\"type\":\"Toolbar\"},{\"attributes\":{\"callback\":null,\"overlay\":{\"id\":\"1082\",\"type\":\"PolyAnnotation\"}},\"id\":\"1061\",\"type\":\"LassoSelectTool\"},{\"attributes\":{\"callback\":null,\"overlay\":{\"id\":\"1329\",\"type\":\"BoxAnnotation\"}},\"id\":\"1288\",\"type\":\"BoxSelectTool\"},{\"attributes\":{\"data_source\":{\"id\":\"1070\",\"type\":\"ColumnDataSource\"},\"glyph\":{\"id\":\"1071\",\"type\":\"Circle\"},\"hover_glyph\":null,\"muted_glyph\":null,\"nonselection_glyph\":{\"id\":\"1072\",\"type\":\"Circle\"},\"selection_glyph\":null,\"view\":{\"id\":\"1074\",\"type\":\"CDSView\"}},\"id\":\"1073\",\"type\":\"GlyphRenderer\"},{\"attributes\":{\"overlay\":{\"id\":\"1328\",\"type\":\"BoxAnnotation\"}},\"id\":\"1287\",\"type\":\"BoxZoomTool\"},{\"attributes\":{\"source\":{\"id\":\"1070\",\"type\":\"ColumnDataSource\"}},\"id\":\"1074\",\"type\":\"CDSView\"},{\"attributes\":{},\"id\":\"1286\",\"type\":\"WheelZoomTool\"},{\"attributes\":{\"callback\":null,\"overlay\":{\"id\":\"1200\",\"type\":\"BoxAnnotation\"}},\"id\":\"1169\",\"type\":\"BoxSelectTool\"},{\"attributes\":{\"fill_alpha\":{\"value\":0.5},\"fill_color\":{\"value\":\"firebrick\"},\"line_alpha\":{\"value\":0.5},\"line_color\":{\"value\":\"firebrick\"},\"size\":{\"units\":\"screen\",\"value\":7},\"x\":{\"field\":\"x\"},\"y\":{\"field\":\"y\"}},\"id\":\"1299\",\"type\":\"Circle\"},{\"attributes\":{\"bottom_units\":\"screen\",\"fill_alpha\":{\"value\":0.5},\"fill_color\":{\"value\":\"lightgrey\"},\"left_units\":\"screen\",\"level\":\"overlay\",\"line_alpha\":{\"value\":1.0},\"line_color\":{\"value\":\"black\"},\"line_dash\":[4,4],\"line_width\":{\"value\":2},\"render_mode\":\"css\",\"right_units\":\"screen\",\"top_units\":\"screen\"},\"id\":\"1080\",\"type\":\"BoxAnnotation\"}],\"root_ids\":[\"1429\"]},\"title\":\"Bokeh Application\",\"version\":\"1.2.0\"}};\n",
       "  var render_items = [{\"docid\":\"799b5465-bf94-4270-a5de-a7a4f16e2b56\",\"roots\":{\"1429\":\"0a897603-62f1-4e44-ae1e-3b2929ed1e2a\"}}];\n",
       "  root.Bokeh.embed.embed_items_notebook(docs_json, render_items);\n",
       "\n",
       "  }\n",
       "  if (root.Bokeh !== undefined) {\n",
       "    embed_document(root);\n",
       "  } else {\n",
       "    var attempts = 0;\n",
       "    var timer = setInterval(function(root) {\n",
       "      if (root.Bokeh !== undefined) {\n",
       "        embed_document(root);\n",
       "        clearInterval(timer);\n",
       "      }\n",
       "      attempts++;\n",
       "      if (attempts > 100) {\n",
       "        console.log(\"Bokeh: ERROR: Unable to run BokehJS code because BokehJS library is missing\");\n",
       "        clearInterval(timer);\n",
       "      }\n",
       "    }, 10, root)\n",
       "  }\n",
       "})(window);"
      ],
      "application/vnd.bokehjs_exec.v0+json": ""
     },
     "metadata": {
      "application/vnd.bokehjs_exec.v0+json": {
       "id": "1429"
      }
     },
     "output_type": "display_data"
    }
   ],
   "source": [
    "\n",
    "#COMPLETAR PARA OBTENER ESTE GRAFICO (ARMAR LA GRILLA UBICANDO LOS GRAFICOS CREADOS EN LOS PASOS ANTERIORES)\n",
    "\n",
    "\n",
    "show(grid)"
   ]
  },
  {
   "cell_type": "markdown",
   "metadata": {},
   "source": [
    "# Plotly"
   ]
  },
  {
   "cell_type": "code",
   "execution_count": 14,
   "metadata": {},
   "outputs": [],
   "source": [
    "import plotly\n",
    "import plotly.plotly as py\n",
    "import plotly.tools as tls\n",
    "import plotly.graph_objs as go\n",
    "from plotly.graph_objs import *\n",
    "from plotly.offline import init_notebook_mode, iplot, plot"
   ]
  },
  {
   "cell_type": "code",
   "execution_count": 15,
   "metadata": {},
   "outputs": [],
   "source": [
    "usuario = 'darosk88' # usuario\n",
    "key_api = 'IwJDuVuB7d5zNGKw0zxJ' # key_api\n",
    "plotly.tools.set_credentials_file(username = usuario, api_key = key_api)"
   ]
  },
  {
   "cell_type": "markdown",
   "metadata": {},
   "source": [
    "Elijo una variable categórica para graficar: state_name. Cuento cuantas propiedades publicadas hay por estado"
   ]
  },
  {
   "cell_type": "code",
   "execution_count": 16,
   "metadata": {},
   "outputs": [
    {
     "name": "stdout",
     "output_type": "stream",
     "text": [
      "['Buenos Aires Costa Atlántica' 'Capital Federal'\n",
      " 'Bs.As. G.B.A. Zona Oeste' 'Bs.As. G.B.A. Zona Norte'\n",
      " 'Bs.As. G.B.A. Zona Sur' 'Río Negro' 'Córdoba']\n"
     ]
    }
   ],
   "source": [
    "#x_data = df_completes.property_type.unique()\n",
    "#x_data = df_completes.place_name.unique()\n",
    "x_data = df_completes.state_name.unique()\n",
    "print(x_data)"
   ]
  },
  {
   "cell_type": "code",
   "execution_count": 31,
   "metadata": {},
   "outputs": [
    {
     "data": {
      "text/plain": [
       "Index(['Bs.As. G.B.A. Zona Norte', 'Bs.As. G.B.A. Zona Oeste',\n",
       "       'Bs.As. G.B.A. Zona Sur', 'Buenos Aires Costa Atlántica',\n",
       "       'Capital Federal', 'Córdoba', 'Río Negro'],\n",
       "      dtype='object', name='state_name')"
      ]
     },
     "execution_count": 31,
     "metadata": {},
     "output_type": "execute_result"
    }
   ],
   "source": [
    "#groupby\n",
    "df_grouped_state = df_completes.groupby('state_name')\n",
    "df_grouped_count = df_grouped_state.agg({\"operation\": \"count\"})\n",
    "df_grouped_count = df_grouped_count.rename(index=str, columns={\"operation\": \"cantidad\"}) #renombro la columna por cantidad\n"
   ]
  },
  {
   "cell_type": "code",
   "execution_count": 32,
   "metadata": {},
   "outputs": [
    {
     "name": "stdout",
     "output_type": "stream",
     "text": [
      "state_name\n",
      "Bs.As. G.B.A. Zona Norte         3.34\n",
      "Bs.As. G.B.A. Zona Oeste        12.54\n",
      "Bs.As. G.B.A. Zona Sur           1.67\n",
      "Buenos Aires Costa Atlántica     5.52\n",
      "Capital Federal                 76.42\n",
      "Córdoba                          0.33\n",
      "Río Negro                        0.17\n",
      "Name: cantidad, dtype: float64\n"
     ]
    },
    {
     "data": {
      "text/plain": [
       "['3.34 % market share',\n",
       " '12.54 % market share',\n",
       " '1.67 % market share',\n",
       " '5.52 % market share',\n",
       " '76.42 % market share',\n",
       " '0.33 % market share',\n",
       " '0.17 % market share']"
      ]
     },
     "execution_count": 32,
     "metadata": {},
     "output_type": "execute_result"
    }
   ],
   "source": [
    "y_data = df_grouped_count.cantidad\n",
    "x_data = df_grouped_count.index\n",
    "market_share_perc = 100* y_data / sum(y_data)\n",
    "market_share_perc = np.round(market_share_perc, 2)\n",
    "print(market_share_perc)\n",
    "\n",
    "plot_text = [str(x) +' % market share' for x in market_share_perc]\n",
    "plot_text"
   ]
  },
  {
   "cell_type": "code",
   "execution_count": 33,
   "metadata": {},
   "outputs": [
    {
     "name": "stdout",
     "output_type": "stream",
     "text": [
      "High five! You successfully sent some data to your account on plotly. View your plot in your browser at https://plot.ly/~darosk88/0 or inside your plot.ly account where it is named 'text-hover-bar'\n"
     ]
    },
    {
     "data": {
      "text/html": [
       "<iframe id=\"igraph\" scrolling=\"no\" style=\"border:none;\" seamless=\"seamless\" src=\"https://plot.ly/~darosk88/0.embed\" height=\"525px\" width=\"100%\"></iframe>"
      ],
      "text/plain": [
       "<plotly.tools.PlotlyDisplay object>"
      ]
     },
     "execution_count": 33,
     "metadata": {},
     "output_type": "execute_result"
    }
   ],
   "source": [
    "trace0 = go.Bar(x = x_data,\n",
    "                y= y_data,\n",
    "                text=plot_text,\n",
    "                marker=dict(color=['rgb(158,202,225)','rgb(111,202,135)', 'rgb(158,60,225)', \\\n",
    "                                  'rgb(158,202,225)','rgb(111,202,135)', 'rgb(158,60,225)', \\\n",
    "                                  'rgb(158,202,225)'],\n",
    "                            line=dict(color='rgb(8,48,107)',\n",
    "                                      width=1.5)),\n",
    "                opacity=0.6)\n",
    "\n",
    "data = [trace0]\n",
    "layout = go.Layout(title='Cantidad de propiedades por estado (solo registros completos)')\n",
    "\n",
    "fig = go.Figure(data=data, layout=layout)\n",
    "py.iplot(fig, filename='text-hover-bar')"
   ]
  },
  {
   "cell_type": "markdown",
   "metadata": {},
   "source": [
    "# Geopandas"
   ]
  },
  {
   "cell_type": "code",
   "execution_count": 34,
   "metadata": {},
   "outputs": [],
   "source": [
    "%matplotlib inline\n",
    "\n",
    "import pandas as pd\n",
    "import geopandas\n",
    "import fiona\n",
    "import rtree\n",
    "import folium\n",
    "\n",
    "# Setteo el tamaño default de los plots\n",
    "import matplotlib\n",
    "matplotlib.rcParams['figure.figsize'] = (5, 5)\n",
    "\n",
    "pd.options.display.max_rows = 10"
   ]
  },
  {
   "cell_type": "markdown",
   "metadata": {},
   "source": [
    "Grafico las propiedades de los registros completos del dataframe en los barrios definidos en el dataframe barrios"
   ]
  },
  {
   "cell_type": "code",
   "execution_count": 35,
   "metadata": {},
   "outputs": [
    {
     "data": {
      "text/html": [
       "<div>\n",
       "<style scoped>\n",
       "    .dataframe tbody tr th:only-of-type {\n",
       "        vertical-align: middle;\n",
       "    }\n",
       "\n",
       "    .dataframe tbody tr th {\n",
       "        vertical-align: top;\n",
       "    }\n",
       "\n",
       "    .dataframe thead th {\n",
       "        text-align: right;\n",
       "    }\n",
       "</style>\n",
       "<table border=\"1\" class=\"dataframe\">\n",
       "  <thead>\n",
       "    <tr style=\"text-align: right;\">\n",
       "      <th></th>\n",
       "      <th>WKT</th>\n",
       "      <th>BARRIO</th>\n",
       "      <th>COMUNA</th>\n",
       "      <th>PERIMETRO</th>\n",
       "      <th>AREA</th>\n",
       "    </tr>\n",
       "  </thead>\n",
       "  <tbody>\n",
       "    <tr>\n",
       "      <th>0</th>\n",
       "      <td>POLYGON ((-58.4528200492791 -34.5959886570639,...</td>\n",
       "      <td>CHACARITA</td>\n",
       "      <td>15.0</td>\n",
       "      <td>7725.695228</td>\n",
       "      <td>3.118101e+06</td>\n",
       "    </tr>\n",
       "    <tr>\n",
       "      <th>1</th>\n",
       "      <td>POLYGON ((-58.4655768128541 -34.5965577078058,...</td>\n",
       "      <td>PATERNAL</td>\n",
       "      <td>15.0</td>\n",
       "      <td>7087.513295</td>\n",
       "      <td>2.229829e+06</td>\n",
       "    </tr>\n",
       "    <tr>\n",
       "      <th>2</th>\n",
       "      <td>POLYGON ((-58.4237529813037 -34.5978273383243,...</td>\n",
       "      <td>VILLA CRESPO</td>\n",
       "      <td>15.0</td>\n",
       "      <td>8132.699348</td>\n",
       "      <td>3.613584e+06</td>\n",
       "    </tr>\n",
       "    <tr>\n",
       "      <th>3</th>\n",
       "      <td>POLYGON ((-58.4946097568899 -34.6148652395239,...</td>\n",
       "      <td>VILLA DEL PARQUE</td>\n",
       "      <td>11.0</td>\n",
       "      <td>7705.389797</td>\n",
       "      <td>3.399596e+06</td>\n",
       "    </tr>\n",
       "    <tr>\n",
       "      <th>4</th>\n",
       "      <td>POLYGON ((-58.4128700313089 -34.6141162515854,...</td>\n",
       "      <td>ALMAGRO</td>\n",
       "      <td>5.0</td>\n",
       "      <td>8537.901368</td>\n",
       "      <td>4.050752e+06</td>\n",
       "    </tr>\n",
       "  </tbody>\n",
       "</table>\n",
       "</div>"
      ],
      "text/plain": [
       "                                                 WKT            BARRIO  \\\n",
       "0  POLYGON ((-58.4528200492791 -34.5959886570639,...         CHACARITA   \n",
       "1  POLYGON ((-58.4655768128541 -34.5965577078058,...          PATERNAL   \n",
       "2  POLYGON ((-58.4237529813037 -34.5978273383243,...      VILLA CRESPO   \n",
       "3  POLYGON ((-58.4946097568899 -34.6148652395239,...  VILLA DEL PARQUE   \n",
       "4  POLYGON ((-58.4128700313089 -34.6141162515854,...           ALMAGRO   \n",
       "\n",
       "   COMUNA    PERIMETRO          AREA  \n",
       "0    15.0  7725.695228  3.118101e+06  \n",
       "1    15.0  7087.513295  2.229829e+06  \n",
       "2    15.0  8132.699348  3.613584e+06  \n",
       "3    11.0  7705.389797  3.399596e+06  \n",
       "4     5.0  8537.901368  4.050752e+06  "
      ]
     },
     "execution_count": 35,
     "metadata": {},
     "output_type": "execute_result"
    }
   ],
   "source": [
    "barrios = pd.read_csv(\"Data/barrios.csv\", encoding='latin1')\n",
    "barrios.head()"
   ]
  },
  {
   "cell_type": "code",
   "execution_count": 52,
   "metadata": {},
   "outputs": [],
   "source": [
    "import shapely.wkt #Para explorar un poco el DataFrame\n",
    "\n",
    "def from_wkt(df, wkt_column):\n",
    "#     import shapely.wkt\n",
    "    df[\"coordinates\"]= df[wkt_column].apply(shapely.wkt.loads)\n",
    "    gdf = geopandas.GeoDataFrame(df, geometry='coordinates')\n",
    "    return gdf\n",
    "\n",
    "barrios_geo = from_wkt(barrios, \"WKT\")"
   ]
  },
  {
   "cell_type": "code",
   "execution_count": 36,
   "metadata": {},
   "outputs": [
    {
     "data": {
      "text/plain": [
       "96       -56.677483\n",
       "691      -58.472006\n",
       "692      -58.472006\n",
       "693      -58.472129\n",
       "694      -58.471989\n",
       "            ...    \n",
       "113200   -58.442528\n",
       "113201   -58.384326\n",
       "116148   -58.403646\n",
       "117105   -58.400427\n",
       "119551   -58.557932\n",
       "Name: lon, Length: 598, dtype: float64"
      ]
     },
     "execution_count": 36,
     "metadata": {},
     "output_type": "execute_result"
    }
   ],
   "source": [
    "df_completes['lat-lon']\n",
    "df_completes['lat']\n",
    "df_completes['lon']"
   ]
  },
  {
   "cell_type": "code",
   "execution_count": 44,
   "metadata": {},
   "outputs": [],
   "source": [
    "import matplotlib.pyplot as plt\n",
    "from shapely.geometry import Point\n",
    "\n",
    "def from_x_y(df, x, y):\n",
    "    gdf = geopandas.GeoDataFrame(df.drop([x, y], axis=1),\n",
    "                                crs={'init': 'epsg:4326'},\n",
    "                                geometry=[Point(xy) for xy in zip(df[x], df[y])])\n",
    "    return gdf"
   ]
  },
  {
   "cell_type": "code",
   "execution_count": 46,
   "metadata": {},
   "outputs": [],
   "source": [
    "df_completes_CABA = df_completes[df_completes.state_name == 'Capital Federal']\n",
    "df_completes_CABA.columns\n",
    "#COMPLETAR PARA CREAR EL GeoDataFrame PROPIEDADES\n",
    "propiedades = from_x_y(df_completes_CABA,\"lon\",\"lat\")"
   ]
  },
  {
   "cell_type": "code",
   "execution_count": 47,
   "metadata": {},
   "outputs": [
    {
     "ename": "NameError",
     "evalue": "name 'barrios_geo' is not defined",
     "output_type": "error",
     "traceback": [
      "\u001b[0;31m---------------------------------------------------------------------------\u001b[0m",
      "\u001b[0;31mNameError\u001b[0m                                 Traceback (most recent call last)",
      "\u001b[0;32m<ipython-input-47-eea272351a2c>\u001b[0m in \u001b[0;36m<module>\u001b[0;34m()\u001b[0m\n\u001b[1;32m      1\u001b[0m \u001b[0mfig\u001b[0m\u001b[0;34m,\u001b[0m \u001b[0max\u001b[0m \u001b[0;34m=\u001b[0m \u001b[0mplt\u001b[0m\u001b[0;34m.\u001b[0m\u001b[0msubplots\u001b[0m\u001b[0;34m(\u001b[0m\u001b[0;34m)\u001b[0m\u001b[0;34m\u001b[0m\u001b[0;34m\u001b[0m\u001b[0m\n\u001b[1;32m      2\u001b[0m \u001b[0max\u001b[0m\u001b[0;34m.\u001b[0m\u001b[0mset_aspect\u001b[0m\u001b[0;34m(\u001b[0m\u001b[0;34m'equal'\u001b[0m\u001b[0;34m)\u001b[0m\u001b[0;34m\u001b[0m\u001b[0;34m\u001b[0m\u001b[0m\n\u001b[0;32m----> 3\u001b[0;31m \u001b[0mbarrios_geo\u001b[0m\u001b[0;34m.\u001b[0m\u001b[0mplot\u001b[0m\u001b[0;34m(\u001b[0m\u001b[0max\u001b[0m\u001b[0;34m=\u001b[0m\u001b[0max\u001b[0m\u001b[0;34m,\u001b[0m \u001b[0mcolor\u001b[0m\u001b[0;34m=\u001b[0m\u001b[0;34m'white'\u001b[0m\u001b[0;34m,\u001b[0m \u001b[0medgecolor\u001b[0m\u001b[0;34m=\u001b[0m\u001b[0;34m'black'\u001b[0m\u001b[0;34m)\u001b[0m\u001b[0;34m\u001b[0m\u001b[0;34m\u001b[0m\u001b[0m\n\u001b[0m\u001b[1;32m      4\u001b[0m \u001b[0mpropiedades\u001b[0m\u001b[0;34m.\u001b[0m\u001b[0mplot\u001b[0m\u001b[0;34m(\u001b[0m\u001b[0max\u001b[0m\u001b[0;34m=\u001b[0m\u001b[0max\u001b[0m\u001b[0;34m,\u001b[0m \u001b[0mmarker\u001b[0m\u001b[0;34m=\u001b[0m\u001b[0;34m'o'\u001b[0m\u001b[0;34m,\u001b[0m \u001b[0mcolor\u001b[0m\u001b[0;34m=\u001b[0m\u001b[0;34m'red'\u001b[0m\u001b[0;34m,\u001b[0m \u001b[0mmarkersize\u001b[0m\u001b[0;34m=\u001b[0m\u001b[0;36m25\u001b[0m\u001b[0;34m)\u001b[0m\u001b[0;34m\u001b[0m\u001b[0;34m\u001b[0m\u001b[0m\n\u001b[1;32m      5\u001b[0m \u001b[0mplt\u001b[0m\u001b[0;34m.\u001b[0m\u001b[0mshow\u001b[0m\u001b[0;34m(\u001b[0m\u001b[0;34m)\u001b[0m\u001b[0;34m;\u001b[0m\u001b[0;34m\u001b[0m\u001b[0;34m\u001b[0m\u001b[0m\n",
      "\u001b[0;31mNameError\u001b[0m: name 'barrios_geo' is not defined"
     ]
    },
    {
     "data": {
      "image/png": "[encoded data removed]",
      "text/plain": [
       "<Figure size 432x288 with 1 Axes>"
      ]
     },
     "metadata": {},
     "output_type": "display_data"
    }
   ],
   "source": [
    "fig, ax = plt.subplots()\n",
    "ax.set_aspect('equal')\n",
    "barrios_geo.plot(ax=ax, color='white', edgecolor='black')\n",
    "propiedades.plot(ax=ax, marker='o', color='red', markersize=25)\n",
    "plt.show();"
   ]
  },
  {
   "cell_type": "markdown",
   "metadata": {},
   "source": [
    "# Cómo liberar memoria"
   ]
  },
  {
   "cell_type": "code",
   "execution_count": 18,
   "metadata": {},
   "outputs": [
    {
     "name": "stdout",
     "output_type": "stream",
     "text": [
      "Empty DataFrame\n",
      "Columns: []\n",
      "Index: []\n"
     ]
    },
    {
     "data": {
      "text/plain": [
       "245"
      ]
     },
     "execution_count": 18,
     "metadata": {},
     "output_type": "execute_result"
    }
   ],
   "source": [
    "dataframe_to_delete = pd.DataFrame()\n",
    "print(dataframe_to_delete)\n",
    "\n",
    "del dataframe_to_delete\n",
    "#print(dataframe_to_delete)\n",
    "\n",
    "import gc\n",
    "gc.collect()\n",
    "# The number of unreachable objects found is returned.\n",
    "# It's really the sum of two numbers: the number of objects that were identified as garbage and actually freed, \n",
    "# plus the number of objects that were identified as garbage but could not be freed"
   ]
  }
 ],
 "metadata": {
  "kernelspec": {
   "display_name": "Python 3",
   "language": "python",
   "name": "python3"
  },
  "language_info": {
   "codemirror_mode": {
    "name": "ipython",
    "version": 3
   },
   "file_extension": ".py",
   "mimetype": "text/x-python",
   "name": "python",
   "nbconvert_exporter": "python",
   "pygments_lexer": "ipython3",
   "version": "3.6.8"
  }
 },
 "nbformat": 4,
 "nbformat_minor": 2
}
