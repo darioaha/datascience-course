{
 "cells": [
  {
   "cell_type": "code",
   "execution_count": 1,
   "metadata": {},
   "outputs": [],
   "source": [
    "import pandas as pd\n",
    "import numpy as np\n",
    "import numpy as np\n",
    "import matplotlib as mpl\n",
    "import matplotlib.pyplot as plt"
   ]
  },
  {
   "cell_type": "code",
   "execution_count": 69,
   "metadata": {},
   "outputs": [],
   "source": [
    "df = pd.read_csv(\"Data/properatti.csv\", sep = \",\")"
   ]
  },
  {
   "cell_type": "code",
   "execution_count": 70,
   "metadata": {},
   "outputs": [
    {
     "name": "stdout",
     "output_type": "stream",
     "text": [
      "Cantidad de precios USD nulos 1:  52603\n",
      "----Cantidad a reemplazar:  21437\n",
      "Result ==> Cantidad de precios USD nulos luego:  31166\n"
     ]
    },
    {
     "data": {
      "text/plain": [
       "Unnamed: 0                                                                   68\n",
       "operation                                                                  sell\n",
       "property_type                                                         apartment\n",
       "place_name                                                        Mar del Plata\n",
       "place_with_parent_names       |Argentina|Buenos Aires Costa Atlántica|Mar de...\n",
       "country_name                                                          Argentina\n",
       "state_name                                         Buenos Aires Costa Atlántica\n",
       "geonames_id                                                         3.43086e+06\n",
       "lat-lon                                                  -38.034794,-57.5416872\n",
       "lat                                                                    -38.0348\n",
       "lon                                                                    -57.5417\n",
       "price                                                                    235000\n",
       "currency                                                                    USD\n",
       "price_aprox_local_currency                                          4.14646e+06\n",
       "price_aprox_usd                                                          235000\n",
       "surface_total_in_m2                                                         NaN\n",
       "surface_covered_in_m2                                                        72\n",
       "price_usd_per_m2                                                        3263.89\n",
       "price_per_m2                                                            3263.89\n",
       "floor                                                                       NaN\n",
       "rooms                                                                         2\n",
       "expenses                                                                    NaN\n",
       "properati_url                 http://www.properati.com.ar/15bx4_venta_depart...\n",
       "description                   Cocina integrada con barra ,  horno y anafe .T...\n",
       "title                         EXCELENTE DEPARTAMENTO CON VISTA AL MAR Y AL GOLF\n",
       "image_thumbnail               https://thumbs4.properati.com/2/-WPR2ibAcpGmjF...\n",
       "Name: 68, dtype: object"
      ]
     },
     "execution_count": 70,
     "metadata": {},
     "output_type": "execute_result"
    }
   ],
   "source": [
    "# 1. Completar el precio por metro cuadrado en dolares mediante el valor de precio por metro cuadrado cuando el currency es usd\n",
    "# https://gitlab.com/dsdh/properatti/issues/5\n",
    "#uniques = df.currency.unique()\n",
    "#uniques\n",
    "print(\"Cantidad de precios USD nulos 1: \",len(df[df.price_usd_per_m2.isnull()==True]))\n",
    "# condicion dolar 'USD'\n",
    "usd = 'USD'; cond_currency_usd = (df.currency == usd)\n",
    "# condicion dolar 'USD'\n",
    "cond_notusdprice_m2 = df.price_usd_per_m2.isnull()\n",
    "# condicion price_per_m2 definido\n",
    "cond_price_m2 = df.price_per_m2.notnull()\n",
    "#mascara\n",
    "mask_price_1 = cond_currency_usd & cond_notusdprice_m2 & cond_price_m2\n",
    "df_price = df[mask_price_1 == True]\n",
    "\n",
    "print(\"----Cantidad a reemplazar: \",len(df_price))\n",
    "df.price_usd_per_m2.update(df_price.price_per_m2)\n",
    "print(\"Result ==> Cantidad de precios USD nulos luego: \",len(df[df.price_usd_per_m2.isnull()==True]))\n",
    "\n",
    "#ejemplo\n",
    "df.iloc[68]"
   ]
  },
  {
   "cell_type": "code",
   "execution_count": 72,
   "metadata": {},
   "outputs": [
    {
     "name": "stdout",
     "output_type": "stream",
     "text": [
      "Cantidad de precios USD nulos 2:  28295\n",
      "----Cantidad a reemplazar:  0\n",
      "Result ==> Cantidad de precios USD nulos luego:  28295\n"
     ]
    },
    {
     "data": {
      "text/plain": [
       "0         False\n",
       "1         False\n",
       "2         False\n",
       "3         False\n",
       "4         False\n",
       "5         False\n",
       "6         False\n",
       "7         False\n",
       "8         False\n",
       "9         False\n",
       "10        False\n",
       "11        False\n",
       "12        False\n",
       "13        False\n",
       "14        False\n",
       "15        False\n",
       "16        False\n",
       "17        False\n",
       "18        False\n",
       "19        False\n",
       "20        False\n",
       "21        False\n",
       "22        False\n",
       "23        False\n",
       "24        False\n",
       "25        False\n",
       "26        False\n",
       "27        False\n",
       "28        False\n",
       "29        False\n",
       "          ...  \n",
       "121190    False\n",
       "121191    False\n",
       "121192    False\n",
       "121193    False\n",
       "121194    False\n",
       "121195    False\n",
       "121196    False\n",
       "121197    False\n",
       "121198    False\n",
       "121199    False\n",
       "121200    False\n",
       "121201    False\n",
       "121202    False\n",
       "121203    False\n",
       "121204    False\n",
       "121205    False\n",
       "121206    False\n",
       "121207    False\n",
       "121208    False\n",
       "121209    False\n",
       "121210    False\n",
       "121211    False\n",
       "121212    False\n",
       "121213    False\n",
       "121214    False\n",
       "121215    False\n",
       "121216    False\n",
       "121217    False\n",
       "121218    False\n",
       "121219    False\n",
       "Length: 121220, dtype: bool"
      ]
     },
     "execution_count": 72,
     "metadata": {},
     "output_type": "execute_result"
    }
   ],
   "source": [
    "# 2. Calcular precio por metro cuadrado a partir de superficie\n",
    "# https://gitlab.com/dsdh/properatti/issues/2\n",
    "print(\"Cantidad de precios USD nulos 2: \",len(df[df.price_usd_per_m2.isnull()==True]))\n",
    "# condicion en mask1\n",
    "mask1 = (df.price_usd_per_m2.isnull())& (df.surface_covered_in_m2.notnull()) & (df.price_aprox_usd.notnull())\n",
    "df1 = df[mask1]\n",
    "\n",
    "print(\"----Cantidad a reemplazar: \",len(df1))\n",
    "# Tal vez deberia hacerse la superficie total no la cubierta\n",
    "x = df1.price_aprox_usd/df1.surface_covered_in_m2\n",
    "df.price_usd_per_m2.update(x)\n",
    "print(\"Result ==> Cantidad de precios USD nulos luego: \",len(df[df.price_usd_per_m2.isnull()==True]))\n",
    "\n",
    "#ejemplo\n",
    "df.iloc[154]"
   ]
  },
  {
   "cell_type": "code",
   "execution_count": 65,
   "metadata": {},
   "outputs": [
    {
     "data": {
      "text/plain": [
       "28295"
      ]
     },
     "execution_count": 65,
     "metadata": {},
     "output_type": "execute_result"
    }
   ],
   "source": [
    "#\n",
    "\n"
   ]
  },
  {
   "cell_type": "code",
   "execution_count": 33,
   "metadata": {},
   "outputs": [
    {
     "data": {
      "text/plain": [
       "array(['USD', nan, 'ARS', 'PEN', 'UYU'], dtype=object)"
      ]
     },
     "execution_count": 33,
     "metadata": {},
     "output_type": "execute_result"
    }
   ],
   "source": [
    "\n",
    "\n",
    "\n",
    "\n",
    "\n",
    "\n"
   ]
  },
  {
   "cell_type": "code",
   "execution_count": 8,
   "metadata": {},
   "outputs": [
    {
     "data": {
      "text/plain": [
       "Unnamed: 0                         0\n",
       "operation                          0\n",
       "property_type                      0\n",
       "place_name                        23\n",
       "place_with_parent_names            0\n",
       "country_name                       0\n",
       "state_name                         0\n",
       "geonames_id                    18717\n",
       "lat-lon                        51550\n",
       "lat                            51550\n",
       "lon                            51550\n",
       "price                          20410\n",
       "currency                       20411\n",
       "price_aprox_local_currency     20410\n",
       "price_aprox_usd                20410\n",
       "surface_total_in_m2            39328\n",
       "surface_covered_in_m2          19907\n",
       "price_usd_per_m2               52603\n",
       "price_per_m2                   33562\n",
       "floor                         113321\n",
       "rooms                          73830\n",
       "expenses                      106958\n",
       "properati_url                      0\n",
       "description                        2\n",
       "title                              0\n",
       "image_thumbnail                 3112\n",
       "dtype: int64"
      ]
     },
     "execution_count": 8,
     "metadata": {},
     "output_type": "execute_result"
    }
   ],
   "source": [
    "df.isnull().sum()"
   ]
  },
  {
   "cell_type": "code",
   "execution_count": null,
   "metadata": {},
   "outputs": [],
   "source": [
    "# 1\n",
    "# Relacion entre precio, cantidad de \n",
    "#         habitaciones y metros cuadrados cubiertos: Para saber en que punto tiene incidencia la cantidad de habitaciones"
   ]
  },
  {
   "cell_type": "code",
   "execution_count": null,
   "metadata": {},
   "outputs": [],
   "source": [
    "# 2\n",
    "# Relacion entre cantidad de metros cubiertos y no cubiertos"
   ]
  },
  {
   "cell_type": "code",
   "execution_count": null,
   "metadata": {},
   "outputs": [],
   "source": [
    "# 3\n",
    "# Cuantos registros en price_per_m2 podemos cubrir calculando el valor \n",
    "#    total (price_aprox_usd) / metros cuadrados total (surface_total_in_m2)"
   ]
  }
 ],
 "metadata": {
  "kernelspec": {
   "display_name": "Python 3",
   "language": "python",
   "name": "python3"
  },
  "language_info": {
   "codemirror_mode": {
    "name": "ipython",
    "version": 3
   },
   "file_extension": ".py",
   "mimetype": "text/x-python",
   "name": "python",
   "nbconvert_exporter": "python",
   "pygments_lexer": "ipython3",
   "version": "3.6.6"
  }
 },
 "nbformat": 4,
 "nbformat_minor": 2
}
