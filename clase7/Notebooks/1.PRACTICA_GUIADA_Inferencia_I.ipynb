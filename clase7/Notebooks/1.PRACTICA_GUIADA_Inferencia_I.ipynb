{
 "cells": [
  {
   "cell_type": "markdown",
   "metadata": {
    "colab_type": "text",
    "id": "XGX6kRp2cAsM"
   },
   "source": [
    "# PRACTICA GUIADA: Nociones de Estadística Inferencial\n",
    "\n",
    "## Introducción\n",
    "\n",
    "La idea de esta práctica es \n",
    "Observemos la distribución de los [Klout Scores](https://klout.com/corp/score) que se adjunta en el archivo `klouts_scores.csv`.\n",
    "\n",
    "Imagine que tomamos como población las 1048 observaciones de Klout scores con las que contamos. \n",
    "\n",
    "\n",
    "## 1. Aproximando una distribución muestral de medias\n",
    "\n",
    "### Consignas\n",
    "\n",
    "1. Obtenemos una muestra de tamaño 5 y tomamos el promedio. Repetimos este paso 1000 veces para poder hacer un histograma de las medias. \n",
    "2. Obtenemos una muestra de tamaño  10 y tomamos el promedio. Repetimos este paso 1000 veces.\n",
    "3. Obtenemos una muestra de tamaño 100 y tomamos el promedio. Repetimos este paso 1000 veces.\n",
    "4. ¿Qué observa sobre el histograma de la media a medida que vamos aumentando el tamaño muestral?\n",
    "5. ¿Qué observa acerca del valor de las medias de las diferentes distribuciones muestrales en relación a la media poblacional?\n",
    "6. ¿Qué sucede con el desvío estándar? "
   ]
  },
  {
   "cell_type": "code",
   "execution_count": 1,
   "metadata": {
    "colab": {
     "autoexec": {
      "startup": false,
      "wait_interval": 0
     }
    },
    "colab_type": "code",
    "id": "CxGVA2_ecAsN"
   },
   "outputs": [],
   "source": [
    "import pandas as pd\n",
    "import numpy as np\n",
    "import scipy.stats as st\n",
    "import matplotlib.pyplot as plt\n",
    "%matplotlib inline"
   ]
  },
  {
   "cell_type": "code",
   "execution_count": 2,
   "metadata": {
    "colab": {
     "autoexec": {
      "startup": false,
      "wait_interval": 0
     }
    },
    "colab_type": "code",
    "id": "sYOFRjSPcAsU"
   },
   "outputs": [],
   "source": [
    "df = pd.read_csv('../Data/klout_scores.csv', header=None, decimal=\",\")\n",
    "df.columns = ['k_score']"
   ]
  },
  {
   "cell_type": "markdown",
   "metadata": {
    "colab_type": "text",
    "id": "v1lJmX2ScAsb"
   },
   "source": [
    "Definimos una función para hacer el sampling y calcular la media para una muestra de tamamaño n."
   ]
  },
  {
   "cell_type": "code",
   "execution_count": 3,
   "metadata": {
    "colab": {
     "autoexec": {
      "startup": false,
      "wait_interval": 0
     }
    },
    "colab_type": "code",
    "id": "WDjp-Rc3cAsd"
   },
   "outputs": [],
   "source": [
    "def sampling(df, n, r = False):\n",
    "    index = np.random.choice(range(0,len(df)), size = n, replace = r)\n",
    "    samp_array = np.array(df.iloc[index,])\n",
    "    return(samp_array)\n",
    "\n",
    "\n",
    "def samp_mean(df, n_i):\n",
    "    means = []\n",
    "    for reps in range(0,1000):\n",
    "        s_ = sampling(df, n_i, r = True)\n",
    "        m_ = s_.mean()\n",
    "        means.append(m_)\n",
    "    return(means)\n"
   ]
  },
  {
   "cell_type": "code",
   "execution_count": 4,
   "metadata": {},
   "outputs": [
    {
     "data": {
      "text/html": [
       "<div>\n",
       "<style scoped>\n",
       "    .dataframe tbody tr th:only-of-type {\n",
       "        vertical-align: middle;\n",
       "    }\n",
       "\n",
       "    .dataframe tbody tr th {\n",
       "        vertical-align: top;\n",
       "    }\n",
       "\n",
       "    .dataframe thead th {\n",
       "        text-align: right;\n",
       "    }\n",
       "</style>\n",
       "<table border=\"1\" class=\"dataframe\">\n",
       "  <thead>\n",
       "    <tr style=\"text-align: right;\">\n",
       "      <th></th>\n",
       "      <th>k_score</th>\n",
       "    </tr>\n",
       "  </thead>\n",
       "  <tbody>\n",
       "    <tr>\n",
       "      <th>0</th>\n",
       "      <td>25.104179</td>\n",
       "    </tr>\n",
       "    <tr>\n",
       "      <th>1</th>\n",
       "      <td>60.908747</td>\n",
       "    </tr>\n",
       "    <tr>\n",
       "      <th>2</th>\n",
       "      <td>23.222238</td>\n",
       "    </tr>\n",
       "    <tr>\n",
       "      <th>3</th>\n",
       "      <td>51.553491</td>\n",
       "    </tr>\n",
       "    <tr>\n",
       "      <th>4</th>\n",
       "      <td>22.629690</td>\n",
       "    </tr>\n",
       "  </tbody>\n",
       "</table>\n",
       "</div>"
      ],
      "text/plain": [
       "     k_score\n",
       "0  25.104179\n",
       "1  60.908747\n",
       "2  23.222238\n",
       "3  51.553491\n",
       "4  22.629690"
      ]
     },
     "execution_count": 4,
     "metadata": {},
     "output_type": "execute_result"
    }
   ],
   "source": [
    "# Exploramos el DataFrame:\n",
    "\n",
    "df.head()"
   ]
  },
  {
   "cell_type": "code",
   "execution_count": 5,
   "metadata": {},
   "outputs": [
    {
     "data": {
      "text/html": [
       "<div>\n",
       "<style scoped>\n",
       "    .dataframe tbody tr th:only-of-type {\n",
       "        vertical-align: middle;\n",
       "    }\n",
       "\n",
       "    .dataframe tbody tr th {\n",
       "        vertical-align: top;\n",
       "    }\n",
       "\n",
       "    .dataframe thead th {\n",
       "        text-align: right;\n",
       "    }\n",
       "</style>\n",
       "<table border=\"1\" class=\"dataframe\">\n",
       "  <thead>\n",
       "    <tr style=\"text-align: right;\">\n",
       "      <th></th>\n",
       "      <th>k_score</th>\n",
       "    </tr>\n",
       "  </thead>\n",
       "  <tbody>\n",
       "    <tr>\n",
       "      <th>count</th>\n",
       "      <td>1048.000000</td>\n",
       "    </tr>\n",
       "    <tr>\n",
       "      <th>mean</th>\n",
       "      <td>37.719055</td>\n",
       "    </tr>\n",
       "    <tr>\n",
       "      <th>std</th>\n",
       "      <td>16.044315</td>\n",
       "    </tr>\n",
       "    <tr>\n",
       "      <th>min</th>\n",
       "      <td>10.000000</td>\n",
       "    </tr>\n",
       "    <tr>\n",
       "      <th>25%</th>\n",
       "      <td>23.174620</td>\n",
       "    </tr>\n",
       "    <tr>\n",
       "      <th>50%</th>\n",
       "      <td>41.094683</td>\n",
       "    </tr>\n",
       "    <tr>\n",
       "      <th>75%</th>\n",
       "      <td>50.284432</td>\n",
       "    </tr>\n",
       "    <tr>\n",
       "      <th>max</th>\n",
       "      <td>87.247529</td>\n",
       "    </tr>\n",
       "  </tbody>\n",
       "</table>\n",
       "</div>"
      ],
      "text/plain": [
       "           k_score\n",
       "count  1048.000000\n",
       "mean     37.719055\n",
       "std      16.044315\n",
       "min      10.000000\n",
       "25%      23.174620\n",
       "50%      41.094683\n",
       "75%      50.284432\n",
       "max      87.247529"
      ]
     },
     "execution_count": 5,
     "metadata": {},
     "output_type": "execute_result"
    }
   ],
   "source": [
    "# Obtenemos las principales medidas descriptivas:\n",
    "\n",
    "df.describe()"
   ]
  },
  {
   "cell_type": "code",
   "execution_count": 6,
   "metadata": {},
   "outputs": [
    {
     "data": {
      "image/png": "[encoded data removed]",
      "text/plain": [
       "<Figure size 432x288 with 1 Axes>"
      ]
     },
     "metadata": {
      "needs_background": "light"
     },
     "output_type": "display_data"
    }
   ],
   "source": [
    "# Visualizamos la distribución de los scores Klout. Vemos que su distribución es bimodal \n",
    "df.plot.hist(bins=50);"
   ]
  },
  {
   "cell_type": "code",
   "execution_count": 7,
   "metadata": {
    "colab": {
     "autoexec": {
      "startup": false,
      "wait_interval": 0
     }
    },
    "colab_type": "code",
    "id": "3_VhCThlcAsh"
   },
   "outputs": [
    {
     "data": {
      "image/png": "[encoded data removed]",
      "text/plain": [
       "<Figure size 720x720 with 4 Axes>"
      ]
     },
     "metadata": {
      "needs_background": "light"
     },
     "output_type": "display_data"
    }
   ],
   "source": [
    "m = []\n",
    "n_s = [5,10,100,10400]\n",
    "plt.figure(figsize=(10,10))\n",
    "for i in range(len(n_s)):\n",
    "    \n",
    "    mm = samp_mean(df, n_s[i])    \n",
    "    \n",
    "    plt.subplot(('22' + str(i+1)))\n",
    "    \n",
    "    plt.hist(mm)\n",
    "    \n",
    "    plt.xlim((0,60))\n",
    "    \n",
    "    plt.title('n=' + str(n_s[i]) + ' - ' + 'Media=' + str(np.mean(mm)))\n",
    "    "
   ]
  },
  {
   "cell_type": "markdown",
   "metadata": {
    "colab_type": "text",
    "id": "RPTzpzMkcAsn"
   },
   "source": [
    "## 2. Calculando un intervalo de confianza con `scipy`"
   ]
  },
  {
   "cell_type": "markdown",
   "metadata": {
    "colab_type": "text",
    "id": "NdcIeisscAso"
   },
   "source": [
    "### Consignas\n",
    "\n",
    "1. Ahora, extraiga una muestra de la población de tamaño n=200. \n",
    "2. A continuación, calcule un intervalo de confianza del 95% para la media poblacional"
   ]
  },
  {
   "cell_type": "code",
   "execution_count": 8,
   "metadata": {
    "colab": {
     "autoexec": {
      "startup": false,
      "wait_interval": 0
     }
    },
    "colab_type": "code",
    "id": "IMYCed5WcAsp"
   },
   "outputs": [],
   "source": [
    "#Extraemos la muestra \n",
    "sample = sampling(df,200)"
   ]
  },
  {
   "cell_type": "code",
   "execution_count": 9,
   "metadata": {},
   "outputs": [
    {
     "data": {
      "text/plain": [
       "array([[19.71264037],\n",
       "       [24.67416492],\n",
       "       [17.91381043],\n",
       "       [40.37544427],\n",
       "       [29.31439039],\n",
       "       [66.59710971],\n",
       "       [59.99034026],\n",
       "       [53.44145707],\n",
       "       [49.70149333],\n",
       "       [13.9632455 ],\n",
       "       [63.96324954],\n",
       "       [16.72102885],\n",
       "       [15.76151589],\n",
       "       [25.01137488],\n",
       "       [56.22534076],\n",
       "       [47.68969982],\n",
       "       [44.69614508],\n",
       "       [63.97113292],\n",
       "       [12.01085146],\n",
       "       [28.86099649],\n",
       "       [56.70408567],\n",
       "       [51.64524827],\n",
       "       [43.18299568],\n",
       "       [16.40995647],\n",
       "       [40.87938196],\n",
       "       [53.30779866],\n",
       "       [13.23209985],\n",
       "       [26.85291427],\n",
       "       [41.36937863],\n",
       "       [13.26495186],\n",
       "       [18.24407031],\n",
       "       [18.06758466],\n",
       "       [11.58053927],\n",
       "       [48.28467538],\n",
       "       [13.19412275],\n",
       "       [67.83517438],\n",
       "       [58.26605087],\n",
       "       [11.74494404],\n",
       "       [19.17850599],\n",
       "       [50.48984678],\n",
       "       [50.64197496],\n",
       "       [59.41168479],\n",
       "       [14.70959318],\n",
       "       [33.30457065],\n",
       "       [72.34148601],\n",
       "       [23.72087306],\n",
       "       [23.08912771],\n",
       "       [49.12718419],\n",
       "       [54.14180412],\n",
       "       [41.77282296],\n",
       "       [19.38544008],\n",
       "       [60.20085242],\n",
       "       [63.0979194 ],\n",
       "       [49.03984556],\n",
       "       [60.46878163],\n",
       "       [44.95684858],\n",
       "       [14.06515837],\n",
       "       [31.38720636],\n",
       "       [11.06990754],\n",
       "       [56.5304106 ],\n",
       "       [41.53533502],\n",
       "       [57.09889244],\n",
       "       [16.50442058],\n",
       "       [41.82282134],\n",
       "       [61.45644541],\n",
       "       [33.43555446],\n",
       "       [55.55120007],\n",
       "       [40.56246421],\n",
       "       [46.16543094],\n",
       "       [26.67518949],\n",
       "       [32.45011531],\n",
       "       [15.38377623],\n",
       "       [27.79611731],\n",
       "       [15.0157153 ],\n",
       "       [16.26706784],\n",
       "       [48.81060587],\n",
       "       [27.33880719],\n",
       "       [22.27682734],\n",
       "       [17.47793205],\n",
       "       [24.34246894],\n",
       "       [22.13182541],\n",
       "       [49.02291381],\n",
       "       [15.27569551],\n",
       "       [40.65376001],\n",
       "       [25.5283272 ],\n",
       "       [23.98313938],\n",
       "       [17.74808672],\n",
       "       [20.56592404],\n",
       "       [26.64211015],\n",
       "       [36.86770007],\n",
       "       [33.1776303 ],\n",
       "       [50.1709539 ],\n",
       "       [28.38472055],\n",
       "       [19.00304649],\n",
       "       [69.67208586],\n",
       "       [12.41263533],\n",
       "       [51.47421848],\n",
       "       [22.84809796],\n",
       "       [49.90297065],\n",
       "       [15.21163604],\n",
       "       [51.22858192],\n",
       "       [24.29817044],\n",
       "       [61.96314438],\n",
       "       [43.3708913 ],\n",
       "       [37.10545563],\n",
       "       [52.65557959],\n",
       "       [60.436156  ],\n",
       "       [21.15531793],\n",
       "       [13.43422311],\n",
       "       [19.60836298],\n",
       "       [55.35459706],\n",
       "       [40.94636934],\n",
       "       [39.92977268],\n",
       "       [17.6618537 ],\n",
       "       [13.30162717],\n",
       "       [60.01827201],\n",
       "       [16.04233376],\n",
       "       [21.93818572],\n",
       "       [51.59388224],\n",
       "       [53.23411249],\n",
       "       [44.58893905],\n",
       "       [54.29385689],\n",
       "       [13.34426333],\n",
       "       [33.54862304],\n",
       "       [13.13950746],\n",
       "       [13.92222836],\n",
       "       [14.95621542],\n",
       "       [48.61893625],\n",
       "       [44.04645786],\n",
       "       [43.22951017],\n",
       "       [16.02014174],\n",
       "       [47.29377613],\n",
       "       [43.12861339],\n",
       "       [41.59960687],\n",
       "       [34.63835594],\n",
       "       [54.58003911],\n",
       "       [49.42255057],\n",
       "       [44.89507426],\n",
       "       [42.45669292],\n",
       "       [66.2864658 ],\n",
       "       [49.2289119 ],\n",
       "       [47.69261657],\n",
       "       [19.65258563],\n",
       "       [40.15170066],\n",
       "       [59.95651441],\n",
       "       [44.74788553],\n",
       "       [14.95365783],\n",
       "       [13.60415675],\n",
       "       [42.49968712],\n",
       "       [48.16911522],\n",
       "       [41.1460564 ],\n",
       "       [23.08378926],\n",
       "       [33.96243809],\n",
       "       [31.4985488 ],\n",
       "       [47.08736172],\n",
       "       [46.78970707],\n",
       "       [52.7051741 ],\n",
       "       [17.76446057],\n",
       "       [18.31902049],\n",
       "       [14.44265381],\n",
       "       [15.7174851 ],\n",
       "       [23.37604079],\n",
       "       [39.01289282],\n",
       "       [12.91298717],\n",
       "       [62.37865279],\n",
       "       [43.73085451],\n",
       "       [50.76833008],\n",
       "       [43.60428787],\n",
       "       [38.41801004],\n",
       "       [44.3999963 ],\n",
       "       [41.57528449],\n",
       "       [36.25178475],\n",
       "       [66.22107334],\n",
       "       [43.00340015],\n",
       "       [42.9982764 ],\n",
       "       [59.43237344],\n",
       "       [44.9916693 ],\n",
       "       [15.94474229],\n",
       "       [36.67577959],\n",
       "       [32.05198297],\n",
       "       [55.14907005],\n",
       "       [14.45312751],\n",
       "       [31.60922025],\n",
       "       [16.36894314],\n",
       "       [16.93219325],\n",
       "       [21.27945921],\n",
       "       [30.50200223],\n",
       "       [44.7444399 ],\n",
       "       [24.09710835],\n",
       "       [45.75478519],\n",
       "       [55.82044013],\n",
       "       [45.07337621],\n",
       "       [12.91745921],\n",
       "       [45.89697698],\n",
       "       [37.22027195],\n",
       "       [55.17981843],\n",
       "       [34.95324669],\n",
       "       [36.58133368],\n",
       "       [39.08533769],\n",
       "       [43.45436426]])"
      ]
     },
     "execution_count": 9,
     "metadata": {},
     "output_type": "execute_result"
    }
   ],
   "source": [
    "sample"
   ]
  },
  {
   "cell_type": "code",
   "execution_count": 10,
   "metadata": {
    "colab": {
     "autoexec": {
      "startup": false,
      "wait_interval": 0
     }
    },
    "colab_type": "code",
    "id": "BNAPlUXtcAsw"
   },
   "outputs": [
    {
     "data": {
      "text/plain": [
       "(34.140004304390025, 38.68719149048898)"
      ]
     },
     "execution_count": 10,
     "metadata": {},
     "output_type": "execute_result"
    }
   ],
   "source": [
    "# Calculamos los estadísticos para utilizar\n",
    "mean, sigma, n = np.mean(sample), np.std(sample), len(sample)\n",
    "\n",
    "# Calculamos el intervalo de confianza de una aproximación normal con el método de scipy\n",
    "st.norm.interval(0.95, loc=mean, scale = sigma/np.sqrt(n) )"
   ]
  },
  {
   "cell_type": "code",
   "execution_count": 11,
   "metadata": {
    "colab": {
     "autoexec": {
      "startup": false,
      "wait_interval": 0
     }
    },
    "colab_type": "code",
    "id": "IMt1Vf4CcAs1"
   },
   "outputs": [
    {
     "data": {
      "text/plain": [
       "(34.139962525806524, 38.68723326907248)"
      ]
     },
     "execution_count": 11,
     "metadata": {},
     "output_type": "execute_result"
    }
   ],
   "source": [
    "# Podemos calcularlo a mano... en base a la fórmula vista en las slides\n",
    "\n",
    "mean - 1.96 * sigma/np.sqrt(n), mean + 1.96*sigma/np.sqrt(n)"
   ]
  },
  {
   "cell_type": "code",
   "execution_count": 12,
   "metadata": {},
   "outputs": [
    {
     "data": {
      "text/plain": [
       "(34.12609271870044, 38.70110307617856)"
      ]
     },
     "execution_count": 12,
     "metadata": {},
     "output_type": "execute_result"
    }
   ],
   "source": [
    "# Podemos usar la T-Student:\n",
    "\n",
    "st.t.interval(0.95, n-1,  loc=mean, scale=sigma/(np.sqrt(n)))"
   ]
  },
  {
   "cell_type": "code",
   "execution_count": 13,
   "metadata": {},
   "outputs": [
    {
     "data": {
      "text/plain": [
       "(34.12609271870044, 38.70110307617856)"
      ]
     },
     "execution_count": 13,
     "metadata": {},
     "output_type": "execute_result"
    }
   ],
   "source": [
    "# Podemos calcularlo a mano:\n",
    "\n",
    "EI = mean + st.t.ppf(0.025, n-1)* sigma/(np.sqrt(n))\n",
    "ES = mean + st.t.ppf(0.975, n-1)* sigma/(np.sqrt(n))\n",
    "\n",
    "IC = (EI, ES)\n",
    "IC"
   ]
  },
  {
   "cell_type": "code",
   "execution_count": 14,
   "metadata": {},
   "outputs": [
    {
     "data": {
      "text/plain": [
       "0.025000000000135667"
      ]
     },
     "execution_count": 14,
     "metadata": {},
     "output_type": "execute_result"
    }
   ],
   "source": [
    "# ppf(q, df, loc=0, scale=1)\tPercent point function. Inversa de la cdf \n",
    "#(cumulative density function) \n",
    "\n",
    "st.t.cdf(st.t.ppf(0.025, n-1), n-1)"
   ]
  },
  {
   "cell_type": "code",
   "execution_count": 15,
   "metadata": {},
   "outputs": [
    {
     "data": {
      "text/plain": [
       "0.9749999999998643"
      ]
     },
     "execution_count": 15,
     "metadata": {},
     "output_type": "execute_result"
    }
   ],
   "source": [
    "st.t.cdf(st.t.ppf(0.975, n-1), n-1)"
   ]
  }
 ],
 "metadata": {
  "colab": {
   "collapsed_sections": [],
   "default_view": {},
   "name": "PRACTICA_GUIADA_1_Inferencia.ipynb",
   "provenance": [],
   "version": "0.3.2",
   "views": {}
  },
  "kernelspec": {
   "display_name": "Python 3",
   "language": "python",
   "name": "python3"
  },
  "language_info": {
   "codemirror_mode": {
    "name": "ipython",
    "version": 3
   },
   "file_extension": ".py",
   "mimetype": "text/x-python",
   "name": "python",
   "nbconvert_exporter": "python",
   "pygments_lexer": "ipython3",
   "version": "3.7.3"
  }
 },
 "nbformat": 4,
 "nbformat_minor": 1
}
