{
 "cells": [
  {
   "cell_type": "markdown",
   "metadata": {
    "colab_type": "text",
    "id": "XGX6kRp2cAsM"
   },
   "source": [
    "# PRACTICA GUIADA: Nociones de Estadística Inferencial\n",
    "\n",
    "## Introducción\n",
    "\n",
    "La idea de esta práctica es \n",
    "Observemos la distribución de los [Klout Scores](https://klout.com/corp/score) que se adjunta en el archivo `klouts_scores.csv`.\n",
    "\n",
    "Imagine que tomamos como población las 1048 observaciones de Klout scores con las que contamos. \n",
    "\n",
    "\n",
    "## 1. Aproximando una distribución muestral de medias\n",
    "\n",
    "### Consignas\n",
    "\n",
    "1. Obtenemos una muestra de tamaño 5 y tomamos el promedio. Repetimos este paso 1000 veces para poder hacer un histograma de las medias. \n",
    "2. Obtenemos una muestra de tamaño  10 y tomamos el promedio. Repetimos este paso 1000 veces.\n",
    "3. Obtenemos una muestra de tamaño 100 y tomamos el promedio. Repetimos este paso 1000 veces.\n",
    "4. ¿Qué observa sobre el histograma de la media a medida que vamos aumentando el tamaño muestral?\n",
    "5. ¿Qué observa acerca del valor de las medias de las diferentes distribuciones muestrales en relación a la media poblacional?\n",
    "6. ¿Qué sucede con el desvío estándar? "
   ]
  },
  {
   "cell_type": "code",
   "execution_count": 1,
   "metadata": {
    "colab": {
     "autoexec": {
      "startup": false,
      "wait_interval": 0
     }
    },
    "colab_type": "code",
    "id": "CxGVA2_ecAsN"
   },
   "outputs": [],
   "source": [
    "import pandas as pd\n",
    "import numpy as np\n",
    "import scipy.stats as st\n",
    "import matplotlib.pyplot as plt\n",
    "%matplotlib inline"
   ]
  },
  {
   "cell_type": "code",
   "execution_count": 2,
   "metadata": {
    "colab": {
     "autoexec": {
      "startup": false,
      "wait_interval": 0
     }
    },
    "colab_type": "code",
    "id": "sYOFRjSPcAsU"
   },
   "outputs": [],
   "source": [
    "df = pd.read_csv('../Data/klout_scores.csv', header=None, decimal=\",\")\n",
    "df.columns = ['k_score']"
   ]
  },
  {
   "cell_type": "markdown",
   "metadata": {
    "colab_type": "text",
    "id": "v1lJmX2ScAsb"
   },
   "source": [
    "Definimos una función para hacer el sampling y calcular la media para una muestra de tamamaño n."
   ]
  },
  {
   "cell_type": "code",
   "execution_count": 4,
   "metadata": {
    "colab": {
     "autoexec": {
      "startup": false,
      "wait_interval": 0
     }
    },
    "colab_type": "code",
    "id": "WDjp-Rc3cAsd"
   },
   "outputs": [],
   "source": [
    "def sampling(df, n, r = False):\n",
    "    index = np.random.choice(range(0,len(df)), size = n, replace = r)\n",
    "    samp_array = np.array(df.iloc[index,])\n",
    "    return(samp_array)\n",
    "\n",
    "\n",
    "def samp_mean(df, n_i):\n",
    "    means = []\n",
    "    for reps in range(0,1000):\n",
    "        s_ = sampling(df, n_i, r = True)\n",
    "        m_ = s_.mean()\n",
    "        means.append(m_)\n",
    "    return(means)\n"
   ]
  },
  {
   "cell_type": "code",
   "execution_count": 5,
   "metadata": {},
   "outputs": [
    {
     "data": {
      "text/html": [
       "<div>\n",
       "<style scoped>\n",
       "    .dataframe tbody tr th:only-of-type {\n",
       "        vertical-align: middle;\n",
       "    }\n",
       "\n",
       "    .dataframe tbody tr th {\n",
       "        vertical-align: top;\n",
       "    }\n",
       "\n",
       "    .dataframe thead th {\n",
       "        text-align: right;\n",
       "    }\n",
       "</style>\n",
       "<table border=\"1\" class=\"dataframe\">\n",
       "  <thead>\n",
       "    <tr style=\"text-align: right;\">\n",
       "      <th></th>\n",
       "      <th>k_score</th>\n",
       "    </tr>\n",
       "  </thead>\n",
       "  <tbody>\n",
       "    <tr>\n",
       "      <th>0</th>\n",
       "      <td>25.104179</td>\n",
       "    </tr>\n",
       "    <tr>\n",
       "      <th>1</th>\n",
       "      <td>60.908747</td>\n",
       "    </tr>\n",
       "    <tr>\n",
       "      <th>2</th>\n",
       "      <td>23.222238</td>\n",
       "    </tr>\n",
       "    <tr>\n",
       "      <th>3</th>\n",
       "      <td>51.553491</td>\n",
       "    </tr>\n",
       "    <tr>\n",
       "      <th>4</th>\n",
       "      <td>22.629690</td>\n",
       "    </tr>\n",
       "  </tbody>\n",
       "</table>\n",
       "</div>"
      ],
      "text/plain": [
       "     k_score\n",
       "0  25.104179\n",
       "1  60.908747\n",
       "2  23.222238\n",
       "3  51.553491\n",
       "4  22.629690"
      ]
     },
     "execution_count": 5,
     "metadata": {},
     "output_type": "execute_result"
    }
   ],
   "source": [
    "# Exploramos el DataFrame:\n",
    "\n",
    "df.head()"
   ]
  },
  {
   "cell_type": "code",
   "execution_count": 6,
   "metadata": {},
   "outputs": [
    {
     "data": {
      "text/html": [
       "<div>\n",
       "<style scoped>\n",
       "    .dataframe tbody tr th:only-of-type {\n",
       "        vertical-align: middle;\n",
       "    }\n",
       "\n",
       "    .dataframe tbody tr th {\n",
       "        vertical-align: top;\n",
       "    }\n",
       "\n",
       "    .dataframe thead th {\n",
       "        text-align: right;\n",
       "    }\n",
       "</style>\n",
       "<table border=\"1\" class=\"dataframe\">\n",
       "  <thead>\n",
       "    <tr style=\"text-align: right;\">\n",
       "      <th></th>\n",
       "      <th>k_score</th>\n",
       "    </tr>\n",
       "  </thead>\n",
       "  <tbody>\n",
       "    <tr>\n",
       "      <th>count</th>\n",
       "      <td>1048.000000</td>\n",
       "    </tr>\n",
       "    <tr>\n",
       "      <th>mean</th>\n",
       "      <td>37.719055</td>\n",
       "    </tr>\n",
       "    <tr>\n",
       "      <th>std</th>\n",
       "      <td>16.044315</td>\n",
       "    </tr>\n",
       "    <tr>\n",
       "      <th>min</th>\n",
       "      <td>10.000000</td>\n",
       "    </tr>\n",
       "    <tr>\n",
       "      <th>25%</th>\n",
       "      <td>23.174620</td>\n",
       "    </tr>\n",
       "    <tr>\n",
       "      <th>50%</th>\n",
       "      <td>41.094683</td>\n",
       "    </tr>\n",
       "    <tr>\n",
       "      <th>75%</th>\n",
       "      <td>50.284432</td>\n",
       "    </tr>\n",
       "    <tr>\n",
       "      <th>max</th>\n",
       "      <td>87.247529</td>\n",
       "    </tr>\n",
       "  </tbody>\n",
       "</table>\n",
       "</div>"
      ],
      "text/plain": [
       "           k_score\n",
       "count  1048.000000\n",
       "mean     37.719055\n",
       "std      16.044315\n",
       "min      10.000000\n",
       "25%      23.174620\n",
       "50%      41.094683\n",
       "75%      50.284432\n",
       "max      87.247529"
      ]
     },
     "execution_count": 6,
     "metadata": {},
     "output_type": "execute_result"
    }
   ],
   "source": [
    "# Obtenemos las principales medidas descriptivas:\n",
    "\n",
    "df.describe()"
   ]
  },
  {
   "cell_type": "code",
   "execution_count": 8,
   "metadata": {},
   "outputs": [
    {
     "data": {
      "image/png": "[encoded data removed]",
      "text/plain": [
       "<Figure size 432x288 with 1 Axes>"
      ]
     },
     "metadata": {},
     "output_type": "display_data"
    }
   ],
   "source": [
    "# Visualizamos la distribución de los scores Klout. Vemos que su distribución es bimodal \n",
    "df.plot.hist(bins=50);"
   ]
  },
  {
   "cell_type": "code",
   "execution_count": 10,
   "metadata": {
    "colab": {
     "autoexec": {
      "startup": false,
      "wait_interval": 0
     }
    },
    "colab_type": "code",
    "id": "3_VhCThlcAsh"
   },
   "outputs": [
    {
     "data": {
      "image/png": "[encoded data removed]",
      "text/plain": [
       "<Figure size 720x720 with 4 Axes>"
      ]
     },
     "metadata": {},
     "output_type": "display_data"
    }
   ],
   "source": [
    "m = []\n",
    "n_s = [5,10,100,10400]\n",
    "plt.figure(figsize=(10,10))\n",
    "for i in range(len(n_s)):\n",
    "    \n",
    "    mm = samp_mean(df, n_s[i])    \n",
    "    \n",
    "    plt.subplot(('22' + str(i+1)))\n",
    "    \n",
    "    plt.hist(mm)\n",
    "    \n",
    "    plt.xlim((0,60))\n",
    "    \n",
    "    plt.title('n=' + str(n_s[i]) + ' - ' + 'Media=' + str(np.mean(mm)))\n",
    "    "
   ]
  },
  {
   "cell_type": "markdown",
   "metadata": {
    "colab_type": "text",
    "id": "RPTzpzMkcAsn"
   },
   "source": [
    "## 2. Calculando un intervalo de confianza con `scipy`"
   ]
  },
  {
   "cell_type": "markdown",
   "metadata": {
    "colab_type": "text",
    "id": "NdcIeisscAso"
   },
   "source": [
    "### Consignas\n",
    "\n",
    "1. Ahora, extraiga una muestra de la población de tamaño n=200. \n",
    "2. A continuación, calcule un intervalo de confianza del 95% para la media poblacional"
   ]
  },
  {
   "cell_type": "code",
   "execution_count": 13,
   "metadata": {
    "colab": {
     "autoexec": {
      "startup": false,
      "wait_interval": 0
     }
    },
    "colab_type": "code",
    "id": "IMYCed5WcAsp"
   },
   "outputs": [],
   "source": [
    "#Extraemos la muestra \n",
    "sample = sampling(df,200)"
   ]
  },
  {
   "cell_type": "code",
   "execution_count": 14,
   "metadata": {},
   "outputs": [
    {
     "data": {
      "text/plain": [
       "array([[58.95486516],\n",
       "       [54.87422452],\n",
       "       [50.12324988],\n",
       "       [38.14987176],\n",
       "       [26.50516895],\n",
       "       [45.85130936],\n",
       "       [57.8383515 ],\n",
       "       [44.68938392],\n",
       "       [31.92656313],\n",
       "       [13.24425152],\n",
       "       [26.63873933],\n",
       "       [49.43952454],\n",
       "       [61.45644541],\n",
       "       [30.50200223],\n",
       "       [44.7555931 ],\n",
       "       [44.98962378],\n",
       "       [52.1967592 ],\n",
       "       [52.16664368],\n",
       "       [44.04645786],\n",
       "       [50.07522653],\n",
       "       [39.9455748 ],\n",
       "       [13.50630128],\n",
       "       [46.23170058],\n",
       "       [69.22716797],\n",
       "       [50.01131336],\n",
       "       [53.18396893],\n",
       "       [53.00747476],\n",
       "       [28.96425464],\n",
       "       [53.65700721],\n",
       "       [12.75918661],\n",
       "       [43.71902359],\n",
       "       [20.38503297],\n",
       "       [27.35804942],\n",
       "       [46.95044837],\n",
       "       [41.42335437],\n",
       "       [41.1508883 ],\n",
       "       [25.58035061],\n",
       "       [19.04970753],\n",
       "       [12.24242271],\n",
       "       [26.85291427],\n",
       "       [13.54093465],\n",
       "       [56.85239594],\n",
       "       [54.14180412],\n",
       "       [72.34148601],\n",
       "       [52.55310616],\n",
       "       [41.92448109],\n",
       "       [49.21799145],\n",
       "       [22.9458295 ],\n",
       "       [26.58586636],\n",
       "       [22.50988417],\n",
       "       [32.45733265],\n",
       "       [52.73731623],\n",
       "       [46.8367035 ],\n",
       "       [44.33400829],\n",
       "       [48.81060587],\n",
       "       [46.84118138],\n",
       "       [22.78947155],\n",
       "       [64.46902062],\n",
       "       [56.88678953],\n",
       "       [34.84723885],\n",
       "       [48.61893625],\n",
       "       [19.17850599],\n",
       "       [54.91434388],\n",
       "       [49.7274957 ],\n",
       "       [29.39676653],\n",
       "       [18.50704212],\n",
       "       [46.53982686],\n",
       "       [54.16369541],\n",
       "       [53.33809913],\n",
       "       [27.33694528],\n",
       "       [10.        ],\n",
       "       [31.55203034],\n",
       "       [45.93944764],\n",
       "       [23.38866821],\n",
       "       [45.41926482],\n",
       "       [56.13889404],\n",
       "       [14.06515837],\n",
       "       [14.03403049],\n",
       "       [46.62680561],\n",
       "       [31.4985488 ],\n",
       "       [33.67810287],\n",
       "       [18.17581227],\n",
       "       [51.99112955],\n",
       "       [23.17819337],\n",
       "       [50.09670052],\n",
       "       [36.70388195],\n",
       "       [13.17296837],\n",
       "       [13.13950746],\n",
       "       [13.06551341],\n",
       "       [46.78970707],\n",
       "       [47.69261657],\n",
       "       [27.79611731],\n",
       "       [20.24625062],\n",
       "       [40.34313667],\n",
       "       [50.79930668],\n",
       "       [17.63986618],\n",
       "       [23.24165821],\n",
       "       [23.37604079],\n",
       "       [55.32780302],\n",
       "       [55.14907005],\n",
       "       [46.52226075],\n",
       "       [52.49924632],\n",
       "       [57.0022362 ],\n",
       "       [65.22017435],\n",
       "       [19.38544008],\n",
       "       [23.76397036],\n",
       "       [26.37158799],\n",
       "       [51.03673034],\n",
       "       [40.63273089],\n",
       "       [58.17835847],\n",
       "       [48.12117428],\n",
       "       [59.63868783],\n",
       "       [67.3339023 ],\n",
       "       [28.85695698],\n",
       "       [24.67416492],\n",
       "       [32.23063309],\n",
       "       [48.40714053],\n",
       "       [34.22207899],\n",
       "       [18.85691325],\n",
       "       [25.5283272 ],\n",
       "       [18.28897939],\n",
       "       [40.45979461],\n",
       "       [47.68969982],\n",
       "       [34.3743097 ],\n",
       "       [55.95989554],\n",
       "       [18.06758466],\n",
       "       [41.27900225],\n",
       "       [21.07289964],\n",
       "       [33.49457291],\n",
       "       [57.08017033],\n",
       "       [22.25951953],\n",
       "       [16.23456756],\n",
       "       [43.73677268],\n",
       "       [53.1656567 ],\n",
       "       [11.58053927],\n",
       "       [58.86527596],\n",
       "       [49.33344048],\n",
       "       [53.41741571],\n",
       "       [51.26241241],\n",
       "       [44.33082093],\n",
       "       [59.71107495],\n",
       "       [61.45584717],\n",
       "       [42.73689587],\n",
       "       [32.83940138],\n",
       "       [16.40668894],\n",
       "       [61.84997611],\n",
       "       [53.44145707],\n",
       "       [58.25464045],\n",
       "       [28.38472055],\n",
       "       [49.44794676],\n",
       "       [32.81714659],\n",
       "       [50.12260858],\n",
       "       [19.65258563],\n",
       "       [16.36894314],\n",
       "       [22.43009931],\n",
       "       [41.08848679],\n",
       "       [23.81335987],\n",
       "       [20.57068008],\n",
       "       [13.29057526],\n",
       "       [13.47247566],\n",
       "       [23.22223768],\n",
       "       [54.29385689],\n",
       "       [49.21921773],\n",
       "       [11.74494404],\n",
       "       [45.94620353],\n",
       "       [16.72102885],\n",
       "       [41.9434534 ],\n",
       "       [34.9734798 ],\n",
       "       [36.67577959],\n",
       "       [28.27028223],\n",
       "       [36.07938929],\n",
       "       [25.696023  ],\n",
       "       [38.19681737],\n",
       "       [14.5864787 ],\n",
       "       [44.43755457],\n",
       "       [26.67518949],\n",
       "       [13.23209985],\n",
       "       [61.66634725],\n",
       "       [13.30707901],\n",
       "       [28.45163729],\n",
       "       [43.00340015],\n",
       "       [36.69052054],\n",
       "       [26.16048929],\n",
       "       [55.43927174],\n",
       "       [40.1759009 ],\n",
       "       [56.57657428],\n",
       "       [17.13590802],\n",
       "       [49.71961179],\n",
       "       [47.35728049],\n",
       "       [39.78967845],\n",
       "       [38.90686986],\n",
       "       [24.35397529],\n",
       "       [34.38070703],\n",
       "       [41.49765213],\n",
       "       [45.66606758],\n",
       "       [10.        ],\n",
       "       [12.86750612],\n",
       "       [42.82041813],\n",
       "       [25.74345212],\n",
       "       [13.88475911]])"
      ]
     },
     "execution_count": 14,
     "metadata": {},
     "output_type": "execute_result"
    }
   ],
   "source": [
    "sample"
   ]
  },
  {
   "cell_type": "code",
   "execution_count": 17,
   "metadata": {
    "colab": {
     "autoexec": {
      "startup": false,
      "wait_interval": 0
     }
    },
    "colab_type": "code",
    "id": "BNAPlUXtcAsw"
   },
   "outputs": [
    {
     "data": {
      "text/plain": [
       "(35.431777235297986, 39.721648083836016)"
      ]
     },
     "execution_count": 17,
     "metadata": {},
     "output_type": "execute_result"
    }
   ],
   "source": [
    "# Calculamos los estadísticos para utilizar\n",
    "mean, sigma, n = np.mean(sample), np.std(sample), len(sample)\n",
    "\n",
    "# Calculamos el intervalo de confianza de una aproximación normal con el método de scipy\n",
    "st.norm.interval(0.95, loc=mean, scale = sigma/np.sqrt(n) )"
   ]
  },
  {
   "cell_type": "code",
   "execution_count": 18,
   "metadata": {
    "colab": {
     "autoexec": {
      "startup": false,
      "wait_interval": 0
     }
    },
    "colab_type": "code",
    "id": "IMt1Vf4CcAs1"
   },
   "outputs": [
    {
     "data": {
      "text/plain": [
       "(35.43173782088197, 39.72168749825203)"
      ]
     },
     "execution_count": 18,
     "metadata": {},
     "output_type": "execute_result"
    }
   ],
   "source": [
    "# Podemos calcularlo a mano... en base a la fórmula vista en las slides\n",
    "\n",
    "mean - 1.96 * sigma/np.sqrt(n), mean + 1.96*sigma/np.sqrt(n)"
   ]
  },
  {
   "cell_type": "code",
   "execution_count": 19,
   "metadata": {},
   "outputs": [
    {
     "data": {
      "text/plain": [
       "(35.4186528787531, 39.7347724403809)"
      ]
     },
     "execution_count": 19,
     "metadata": {},
     "output_type": "execute_result"
    }
   ],
   "source": [
    "# Podemos usar la T-Student:\n",
    "\n",
    "st.t.interval(0.95, n-1,  loc=mean, scale=sigma/(np.sqrt(n)))"
   ]
  },
  {
   "cell_type": "code",
   "execution_count": 13,
   "metadata": {},
   "outputs": [
    {
     "data": {
      "text/plain": [
       "(34.12609271870044, 38.70110307617856)"
      ]
     },
     "execution_count": 13,
     "metadata": {},
     "output_type": "execute_result"
    }
   ],
   "source": [
    "# Podemos calcularlo a mano:\n",
    "\n",
    "EI = mean + st.t.ppf(0.025, n-1)* sigma/(np.sqrt(n))\n",
    "ES = mean + st.t.ppf(0.975, n-1)* sigma/(np.sqrt(n))\n",
    "\n",
    "IC = (EI, ES)\n",
    "IC"
   ]
  },
  {
   "cell_type": "code",
   "execution_count": 14,
   "metadata": {},
   "outputs": [
    {
     "data": {
      "text/plain": [
       "0.025000000000135667"
      ]
     },
     "execution_count": 14,
     "metadata": {},
     "output_type": "execute_result"
    }
   ],
   "source": [
    "# ppf(q, df, loc=0, scale=1)\tPercent point function. Inversa de la cdf \n",
    "#(cumulative density function) \n",
    "\n",
    "st.t.cdf(st.t.ppf(0.025, n-1), n-1)"
   ]
  },
  {
   "cell_type": "code",
   "execution_count": 15,
   "metadata": {},
   "outputs": [
    {
     "data": {
      "text/plain": [
       "0.9749999999998643"
      ]
     },
     "execution_count": 15,
     "metadata": {},
     "output_type": "execute_result"
    }
   ],
   "source": [
    "st.t.cdf(st.t.ppf(0.975, n-1), n-1)"
   ]
  }
 ],
 "metadata": {
  "colab": {
   "collapsed_sections": [],
   "default_view": {},
   "name": "PRACTICA_GUIADA_1_Inferencia.ipynb",
   "provenance": [],
   "version": "0.3.2",
   "views": {}
  },
  "kernelspec": {
   "display_name": "Python 3",
   "language": "python",
   "name": "python3"
  },
  "language_info": {
   "codemirror_mode": {
    "name": "ipython",
    "version": 3
   },
   "file_extension": ".py",
   "mimetype": "text/x-python",
   "name": "python",
   "nbconvert_exporter": "python",
   "pygments_lexer": "ipython3",
   "version": "3.6.6"
  }
 },
 "nbformat": 4,
 "nbformat_minor": 1
}
