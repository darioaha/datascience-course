{
 "cells": [
  {
   "cell_type": "markdown",
   "metadata": {
    "colab_type": "text",
    "id": "l0X86ZWN3uTg"
   },
   "source": [
    "## PRACTICA GUIADA\n",
    "\n",
    "### PARTE I: Limpieza y transformación de datos"
   ]
  },
  {
   "cell_type": "markdown",
   "metadata": {
    "colab_type": "text",
    "id": "dgI3NCCa3uTi"
   },
   "source": [
    "Esta práctica se propone brindar un catálogo de métodos y funciones en Pandas y Pyhton que podrán ser útiles a la hora de encarar tareas de limpieza de datos. \n",
    "\n",
    "En general, podemos identificar seis tipos de tareas u operaciones que aplicamos a los datos en la etapa de limpieza.\n",
    "\n",
    "1. Estandarización de categorías (homogeneización)\n",
    "2. Resolución de problemas de formato\n",
    "3. Asignación de formatos adecuados (dtype)\n",
    "4. Corrección de valores erróneos\n",
    "5. Completar datos faltantes (missing data imputation)\n",
    "6. Organización correcta del dataset (tidy data)\n",
    "\n",
    "Las funciones y métodos presentados abarcan una o varias de estas operaciones."
   ]
  },
  {
   "cell_type": "markdown",
   "metadata": {
    "colab_type": "text",
    "id": "JPB2kAmY3uTk"
   },
   "source": [
    "### Remover duplicados"
   ]
  },
  {
   "cell_type": "code",
   "execution_count": null,
   "metadata": {
    "colab": {
     "autoexec": {
      "startup": false,
      "wait_interval": 0
     }
    },
    "colab_type": "code",
    "id": "k9HHDo2x3uTm"
   },
   "outputs": [],
   "source": [
    "import pandas as pd\n",
    "import numpy as np"
   ]
  },
  {
   "cell_type": "code",
   "execution_count": null,
   "metadata": {
    "colab": {
     "autoexec": {
      "startup": false,
      "wait_interval": 0
     }
    },
    "colab_type": "code",
    "id": "MzMloiaz3uTt",
    "outputId": "82fedd6a-2382-474c-f050-53aa52945f52"
   },
   "outputs": [],
   "source": [
    "data = pd.DataFrame({'k1': ['one'] * 3 + ['two'] * 4,\n",
    "                  'k2': [1, 1, 2, 3, 3, 4, 4]})\n",
    "data"
   ]
  },
  {
   "cell_type": "markdown",
   "metadata": {
    "colab_type": "text",
    "id": "gsD0HFNI3uT2"
   },
   "source": [
    "* `duplicated()` devuelve un booleano identificando los casos duplicados.\n",
    "* `drop_duplicates()` devuelve el `DataFrame` sin los casos duplicados"
   ]
  },
  {
   "cell_type": "code",
   "execution_count": null,
   "metadata": {
    "colab": {
     "autoexec": {
      "startup": false,
      "wait_interval": 0
     }
    },
    "colab_type": "code",
    "id": "WqkDdeRe3uT4",
    "outputId": "e1943018-84f0-4076-d50f-a190514f8d4f"
   },
   "outputs": [],
   "source": [
    "data.duplicated()"
   ]
  },
  {
   "cell_type": "code",
   "execution_count": null,
   "metadata": {},
   "outputs": [],
   "source": [
    "# Podemos definir algunos parámetros:\n",
    "\n",
    "data.duplicated(['k1'],keep='last')"
   ]
  },
  {
   "cell_type": "code",
   "execution_count": null,
   "metadata": {
    "colab": {
     "autoexec": {
      "startup": false,
      "wait_interval": 0
     }
    },
    "colab_type": "code",
    "id": "swngbaux3uT-",
    "outputId": "cf610ace-ef4e-4a04-8070-5b87a2df7768"
   },
   "outputs": [],
   "source": [
    "data.drop_duplicates()"
   ]
  },
  {
   "cell_type": "code",
   "execution_count": null,
   "metadata": {
    "colab": {
     "autoexec": {
      "startup": false,
      "wait_interval": 0
     }
    },
    "colab_type": "code",
    "id": "kDG9Muzj3uUE",
    "outputId": "2cf160c4-3392-447d-b5c2-0bed744c0e2f"
   },
   "outputs": [],
   "source": [
    "data[~data.duplicated()] == data.drop_duplicates()"
   ]
  },
  {
   "cell_type": "markdown",
   "metadata": {
    "colab_type": "text",
    "id": "H-zKQmG93uUL"
   },
   "source": [
    "* Se puede utilizar `drop_duplicates()` para eliminar duplicados en una sola columna o en un set de columnas."
   ]
  },
  {
   "cell_type": "code",
   "execution_count": null,
   "metadata": {
    "colab": {
     "autoexec": {
      "startup": false,
      "wait_interval": 0
     }
    },
    "colab_type": "code",
    "id": "qZ48On3l3uUT",
    "outputId": "cef4626d-0621-4bb3-c6fa-1b2aab43b4d5"
   },
   "outputs": [],
   "source": [
    "data['k3'] = range(7)\n",
    "data"
   ]
  },
  {
   "cell_type": "code",
   "execution_count": null,
   "metadata": {},
   "outputs": [],
   "source": [
    "data.drop_duplicates(['k1'])"
   ]
  },
  {
   "cell_type": "code",
   "execution_count": null,
   "metadata": {
    "colab": {
     "autoexec": {
      "startup": false,
      "wait_interval": 0
     }
    },
    "colab_type": "code",
    "id": "tOoRIUJi3uUe",
    "outputId": "e3a09076-d2d3-497b-fa50-7e45acdfdc66"
   },
   "outputs": [],
   "source": [
    "data.drop_duplicates(['k1', 'k2'])"
   ]
  },
  {
   "cell_type": "markdown",
   "metadata": {
    "colab_type": "text",
    "id": "ja3M0tQc3uUk"
   },
   "source": [
    "### Mapear y transformar los datos\n",
    "A partir de un diccionario, se puede crear una nueva columna para un Dataframe donde las claves del mismo se vinculen con una de las series y los valores formen parte de la nueva columna."
   ]
  },
  {
   "cell_type": "code",
   "execution_count": null,
   "metadata": {},
   "outputs": [],
   "source": [
    "data = pd.DataFrame({'platos': ['panceta', 'bondiola', 'panceta', 'Pastrami',\n",
    "                           'pavita', 'Panceta', 'pastrami', 'jamon crudo',\n",
    "                           'nova lox'],\n",
    "                  'peso': [4, 3, 12, 6, 7.5, 8, 3, 5, 6]})\n",
    "data"
   ]
  },
  {
   "cell_type": "code",
   "execution_count": null,
   "metadata": {
    "colab": {
     "autoexec": {
      "startup": false,
      "wait_interval": 0
     }
    },
    "colab_type": "code",
    "id": "W_bCzwvx3uUs",
    "outputId": "4f6edf4e-7373-4994-fbdf-380a69a94f79"
   },
   "outputs": [],
   "source": [
    "data.platos.unique()"
   ]
  },
  {
   "cell_type": "markdown",
   "metadata": {
    "colab_type": "text",
    "id": "BRBJpa6R3uVQ"
   },
   "source": [
    "* La idea es ahora poder asignar a cada `plato` un determinado `animal`. Una opción es hacerlo con los métodos `.map()` o `.apply()`.\n",
    "\n",
    "Repaso:\n",
    "\n",
    "    1)  pd.DataFrame.apply: Opera sobre filas o columnas completas\n",
    "    2)  pd.DataFrame.applymap: Opera sobre cada uno de los elementos del Dataframe\n",
    "    3)  pd.Series.apply: Opera sobre cada uno de los elementos de la Serie. \n",
    "    4)  pd.Series.map: Opera sobre cada uno de los elementos de la Serie, muy similar a Series.apply. Una diferencia importante es que map puede recibir una serie o un diccionario, además de una función."
   ]
  },
  {
   "cell_type": "code",
   "execution_count": null,
   "metadata": {
    "colab": {
     "autoexec": {
      "startup": false,
      "wait_interval": 0
     }
    },
    "colab_type": "code",
    "id": "7whi1ZRw3uVT"
   },
   "outputs": [],
   "source": [
    "plato_a_animal = {\n",
    "  'panceta': 'cerdo',\n",
    "  'bondiola': 'cerdo',\n",
    "  'pastrami': 'vaca',\n",
    "  'pavita': 'pavo',\n",
    "  'jamon crudo': 'cerdo',\n",
    "  'nova lox': 'salmon'\n",
    "}"
   ]
  },
  {
   "cell_type": "code",
   "execution_count": null,
   "metadata": {
    "colab": {
     "autoexec": {
      "startup": false,
      "wait_interval": 0
     }
    },
    "colab_type": "code",
    "id": "KUhYC9c33uVd",
    "outputId": "ca576af0-d597-4cbc-a28b-8b1a84e44612"
   },
   "outputs": [],
   "source": [
    "data['platos'] = data['platos'].map(str.lower)\n",
    "data['animal'] = data['platos'].map(plato_a_animal)\n",
    "data"
   ]
  },
  {
   "cell_type": "markdown",
   "metadata": {
    "colab_type": "text",
    "id": "qNWRV11T3uVn"
   },
   "source": [
    "* Podríamos también pasar una función que haga todo en un solo paso:"
   ]
  },
  {
   "cell_type": "code",
   "execution_count": null,
   "metadata": {
    "colab": {
     "autoexec": {
      "startup": false,
      "wait_interval": 0
     }
    },
    "colab_type": "code",
    "id": "98YlCB8X3uVq",
    "outputId": "40f222f7-58e0-4bc0-9016-01c09ef8e280"
   },
   "outputs": [],
   "source": [
    "data['platos'].map(lambda x: plato_a_animal[x.lower()])"
   ]
  },
  {
   "cell_type": "markdown",
   "metadata": {},
   "source": [
    "* En este caso, funciona también con Series.apply():"
   ]
  },
  {
   "cell_type": "code",
   "execution_count": null,
   "metadata": {},
   "outputs": [],
   "source": [
    "data['platos'].apply(lambda x: plato_a_animal[x.lower()])"
   ]
  },
  {
   "cell_type": "markdown",
   "metadata": {
    "colab_type": "text",
    "id": "hyhvO3Rk3uVz"
   },
   "source": [
    "### Reemplazar valores\n",
    "El método data.replace() ofrece varias formas de efectuar reemplazos sobre una serie de Pandas:\n",
    "    1- Un valor viejo por un valor nuevo.\n",
    "    2- Una lista de valores viejos por un valor nuevo.\n",
    "    3- Una lista de valores viejos por una lista de valores nuevos.\n",
    "    4- Un diccionario que mapee valores nuevos y viejos."
   ]
  },
  {
   "cell_type": "code",
   "execution_count": null,
   "metadata": {
    "colab": {
     "autoexec": {
      "startup": false,
      "wait_interval": 0
     }
    },
    "colab_type": "code",
    "id": "QW1SKvf93uV0",
    "outputId": "a95a9a4c-229f-422b-a520-8ab443b99ad1"
   },
   "outputs": [],
   "source": [
    "data = pd.Series([1., -999., 2., -999., -1000., 3.])\n",
    "data"
   ]
  },
  {
   "cell_type": "code",
   "execution_count": null,
   "metadata": {
    "colab": {
     "autoexec": {
      "startup": false,
      "wait_interval": 0
     }
    },
    "colab_type": "code",
    "id": "0mZVT1s83uV5",
    "outputId": "94a9ada3-cf4b-4f31-87d9-3e5e34d8b373"
   },
   "outputs": [],
   "source": [
    "data.replace(-999, np.nan)"
   ]
  },
  {
   "cell_type": "code",
   "execution_count": null,
   "metadata": {
    "colab": {
     "autoexec": {
      "startup": false,
      "wait_interval": 0
     }
    },
    "colab_type": "code",
    "id": "nMSBHEyw3uV-",
    "outputId": "e98dffbd-423e-4344-ed54-3d097eabceb1"
   },
   "outputs": [],
   "source": [
    "data.replace([-999, -1000], np.nan)"
   ]
  },
  {
   "cell_type": "markdown",
   "metadata": {
    "colab_type": "text",
    "id": "dzdXcsZz3uWD"
   },
   "source": [
    "* Podemos hacer `replace` diferentes usando una lista de listas..."
   ]
  },
  {
   "cell_type": "code",
   "execution_count": null,
   "metadata": {
    "colab": {
     "autoexec": {
      "startup": false,
      "wait_interval": 0
     }
    },
    "colab_type": "code",
    "id": "bjT1Nas83uWE",
    "outputId": "4c4cdbae-fe24-43cc-f96d-4bc23921a17f"
   },
   "outputs": [],
   "source": [
    "data.replace([-999, -1000], [0, np.nan])"
   ]
  },
  {
   "cell_type": "markdown",
   "metadata": {
    "colab_type": "text",
    "id": "w-sMt6bC3uWJ"
   },
   "source": [
    "* ... O usando un `dict` "
   ]
  },
  {
   "cell_type": "code",
   "execution_count": null,
   "metadata": {
    "colab": {
     "autoexec": {
      "startup": false,
      "wait_interval": 0
     }
    },
    "colab_type": "code",
    "id": "HtAePaLG3uWL",
    "outputId": "a4c57410-9223-444b-f657-b43c63a0496e"
   },
   "outputs": [],
   "source": [
    "data.replace({-999: np.nan, -1000: 0})"
   ]
  },
  {
   "cell_type": "code",
   "execution_count": null,
   "metadata": {},
   "outputs": [],
   "source": [
    "df = pd.DataFrame({'A': [0, 1, 2, 3, 4],\n",
    "                    'B': [5, 6, 7, 8, 9],\n",
    "                   'C': ['a', 'b', 'c', 'd', 'e']})\n",
    "\n",
    "df"
   ]
  },
  {
   "cell_type": "code",
   "execution_count": null,
   "metadata": {},
   "outputs": [],
   "source": [
    "df.replace(0, 5)"
   ]
  },
  {
   "cell_type": "code",
   "execution_count": null,
   "metadata": {},
   "outputs": [],
   "source": [
    "df.replace([0, 1, 2, 3], 4)"
   ]
  },
  {
   "cell_type": "code",
   "execution_count": null,
   "metadata": {},
   "outputs": [],
   "source": [
    "df.replace({'A': 0, 'B': 5}, 100)"
   ]
  },
  {
   "cell_type": "markdown",
   "metadata": {},
   "source": [
    "Se pueden usar expresiones regulares:"
   ]
  },
  {
   "cell_type": "code",
   "execution_count": null,
   "metadata": {},
   "outputs": [],
   "source": [
    "df_re = pd.DataFrame({'A': ['bat', 'foo', 'bait'],\n",
    "                      'B': ['abc', 'bar', 'xyz']})\n",
    "\n",
    "df_re"
   ]
  },
  {
   "cell_type": "code",
   "execution_count": null,
   "metadata": {},
   "outputs": [],
   "source": [
    "df_re.replace(to_replace=r'^ba.$', value='new', regex=True)"
   ]
  },
  {
   "cell_type": "code",
   "execution_count": null,
   "metadata": {},
   "outputs": [],
   "source": [
    "df_re.replace(to_replace=r'^ba.+$', value='new', regex=True)"
   ]
  },
  {
   "cell_type": "code",
   "execution_count": null,
   "metadata": {},
   "outputs": [],
   "source": [
    "df_re.replace({'A': r'^ba.$'}, 'new', regex=True)"
   ]
  },
  {
   "cell_type": "code",
   "execution_count": null,
   "metadata": {},
   "outputs": [],
   "source": [
    "df_re.replace(regex={r'^ba.$': 'new', 'foo': 'xyz'})"
   ]
  },
  {
   "cell_type": "markdown",
   "metadata": {
    "colab_type": "text",
    "id": "5CyAdmsx3uWR"
   },
   "source": [
    "### Renombrar índices de los ejes"
   ]
  },
  {
   "cell_type": "code",
   "execution_count": null,
   "metadata": {
    "colab": {
     "autoexec": {
      "startup": false,
      "wait_interval": 0
     }
    },
    "colab_type": "code",
    "id": "EJs0S35E3uWR",
    "outputId": "5ab13b25-a9c7-4c11-8abb-2c26f617e9aa"
   },
   "outputs": [],
   "source": [
    "data = pd.DataFrame(np.arange(12).reshape((3, 4)),\n",
    "                 index=['Buenos Aires', 'Cordoba', 'Mendoza'],\n",
    "                 columns=['uno', 'dos', 'tres', 'cuatro'])\n",
    "data"
   ]
  },
  {
   "cell_type": "code",
   "execution_count": null,
   "metadata": {
    "colab": {
     "autoexec": {
      "startup": false,
      "wait_interval": 0
     }
    },
    "colab_type": "code",
    "id": "XfrPTKRS3uWW",
    "outputId": "da4a822b-ff4d-4f31-8c34-641b2da4d15b"
   },
   "outputs": [],
   "source": [
    "data.index = data.index.map(str.upper)\n",
    "data"
   ]
  },
  {
   "cell_type": "code",
   "execution_count": null,
   "metadata": {
    "colab": {
     "autoexec": {
      "startup": false,
      "wait_interval": 0
     }
    },
    "colab_type": "code",
    "id": "FG6j5bP63uWe",
    "outputId": "e415c827-ccbf-4e97-da09-0a140d6b2fca"
   },
   "outputs": [],
   "source": [
    "data.rename(index=str.title, columns=str.upper)\n",
    "\n",
    "# https://pandas.pydata.org/pandas-docs/stable/generated/pandas.Series.str.title.html"
   ]
  },
  {
   "cell_type": "code",
   "execution_count": null,
   "metadata": {
    "colab": {
     "autoexec": {
      "startup": false,
      "wait_interval": 0
     }
    },
    "colab_type": "code",
    "id": "7JjBn3SL3uWr",
    "outputId": "b9eef0d4-443f-4233-ef92-c941f274e1bf"
   },
   "outputs": [],
   "source": [
    "data"
   ]
  },
  {
   "cell_type": "code",
   "execution_count": null,
   "metadata": {
    "colab": {
     "autoexec": {
      "startup": false,
      "wait_interval": 0
     }
    },
    "colab_type": "code",
    "id": "QZgNG2y53uWx",
    "outputId": "82b18c41-902a-477a-df57-47eb2620372c"
   },
   "outputs": [],
   "source": [
    "data.rename(index={'CORDOBA': 'SANTA FE'},\n",
    "            columns={'tres': 'ocho'})"
   ]
  },
  {
   "cell_type": "code",
   "execution_count": null,
   "metadata": {
    "colab": {
     "autoexec": {
      "startup": false,
      "wait_interval": 0
     }
    },
    "colab_type": "code",
    "id": "jiFqhrwa3uW1",
    "outputId": "cde6f257-6f43-4991-b2d7-3866cb5550ee"
   },
   "outputs": [],
   "source": [
    "data"
   ]
  },
  {
   "cell_type": "code",
   "execution_count": null,
   "metadata": {
    "colab": {
     "autoexec": {
      "startup": false,
      "wait_interval": 0
     }
    },
    "colab_type": "code",
    "id": "UPWJo9Is3uW7",
    "outputId": "cbd85a85-1256-4957-bcd2-149a38076390"
   },
   "outputs": [],
   "source": [
    "data.rename(index={'CORDOBA': 'SANTA FE'}, inplace=True)\n",
    "data"
   ]
  },
  {
   "cell_type": "markdown",
   "metadata": {
    "colab_type": "text",
    "id": "mUQ0pdxG3uXB"
   },
   "source": [
    "### Discretizar y binarizar variables\n",
    "El proceso de transformar una variable numérica en categórica se llama discretización. "
   ]
  },
  {
   "cell_type": "code",
   "execution_count": null,
   "metadata": {
    "colab": {
     "autoexec": {
      "startup": false,
      "wait_interval": 0
     }
    },
    "colab_type": "code",
    "id": "0froUzY73uXC"
   },
   "outputs": [],
   "source": [
    "ages = [26, 22, 25, 27, 21, 23, 37, 31, 61, 45, 41, 32, 25, 60]"
   ]
  },
  {
   "cell_type": "markdown",
   "metadata": {
    "colab_type": "text",
    "id": "hmZcIvko3uXG"
   },
   "source": [
    "* El método `cut` devuelve el intervalo semi-cerrado al que pertenece cada entrada"
   ]
  },
  {
   "cell_type": "code",
   "execution_count": null,
   "metadata": {
    "colab": {
     "autoexec": {
      "startup": false,
      "wait_interval": 0
     }
    },
    "colab_type": "code",
    "id": "M85vUtQg3uXI",
    "outputId": "b4a145d6-b863-4315-ea46-5410d6c09faa"
   },
   "outputs": [],
   "source": [
    "# Defino los valores de corte\n",
    "bins = [18, 25, 35, 60, 100]\n",
    "\n",
    "# Obtengo una lista de intervalos\n",
    "cats = pd.cut(ages, bins)\n",
    "cats"
   ]
  },
  {
   "cell_type": "code",
   "execution_count": null,
   "metadata": {
    "colab": {
     "autoexec": {
      "startup": false,
      "wait_interval": 0
     }
    },
    "colab_type": "code",
    "id": "av8Pv4IH3uXN",
    "outputId": "84750a19-6877-4721-e88c-2a74e0b82191"
   },
   "outputs": [],
   "source": [
    "type(cats)"
   ]
  },
  {
   "cell_type": "markdown",
   "metadata": {
    "colab_type": "text",
    "id": "qPWRgr0H3uXU"
   },
   "source": [
    "* El atributo `codes` representa el indice en la lista 'cats'  del intervalo al que pertenece cada entrada"
   ]
  },
  {
   "cell_type": "code",
   "execution_count": null,
   "metadata": {
    "colab": {
     "autoexec": {
      "startup": false,
      "wait_interval": 0
     }
    },
    "colab_type": "code",
    "id": "z7h3gy9P3uXU",
    "outputId": "fe9a05fa-712b-4997-e506-ce088e0755d7"
   },
   "outputs": [],
   "source": [
    "cats.codes"
   ]
  },
  {
   "cell_type": "code",
   "execution_count": null,
   "metadata": {
    "colab": {
     "autoexec": {
      "startup": false,
      "wait_interval": 0
     }
    },
    "colab_type": "code",
    "id": "RGdrBwHl3uXc",
    "outputId": "fd0656bc-fce3-4f98-cd25-95d843d5c763"
   },
   "outputs": [],
   "source": [
    "pd.value_counts(cats)"
   ]
  },
  {
   "cell_type": "code",
   "execution_count": null,
   "metadata": {
    "colab": {
     "autoexec": {
      "startup": false,
      "wait_interval": 0
     }
    },
    "colab_type": "code",
    "id": "j6_49iZv3uXi",
    "outputId": "0471aac1-a63f-44ae-9eb0-65856e11f33e"
   },
   "outputs": [],
   "source": [
    "pd.value_counts(cats.codes)"
   ]
  },
  {
   "cell_type": "code",
   "execution_count": null,
   "metadata": {
    "colab": {
     "autoexec": {
      "startup": false,
      "wait_interval": 0
     }
    },
    "colab_type": "code",
    "id": "lWokYbF93uXn",
    "outputId": "7f608715-e6ed-4f26-f0b4-d3539a97386a"
   },
   "outputs": [],
   "source": [
    "# Podemos modificar la inclusión del valor de corte en los intervalos\n",
    "pd.cut(ages, [18, 26, 36, 61, 100], right=False)"
   ]
  },
  {
   "cell_type": "code",
   "execution_count": null,
   "metadata": {
    "colab": {
     "autoexec": {
      "startup": false,
      "wait_interval": 0
     }
    },
    "colab_type": "code",
    "id": "6rkHb4DB3uXr",
    "outputId": "e22a6217-a627-42f9-ce36-f7f524771d4c"
   },
   "outputs": [],
   "source": [
    "# Podemos asignar etiquetas a las categorías\n",
    "group_names = ['Joven', 'Joven Adulto', 'Adulto', 'Senior']\n",
    "cats.categories = group_names\n",
    "cats"
   ]
  },
  {
   "cell_type": "code",
   "execution_count": null,
   "metadata": {},
   "outputs": [],
   "source": [
    "cats.value_counts()"
   ]
  },
  {
   "cell_type": "markdown",
   "metadata": {
    "colab_type": "text",
    "id": "PNVUXvSF3uXv"
   },
   "source": [
    "* También es posible asignar nombres (etiquetas) a los intervalos generados. Puede hacerse a partir del parámetro `labels=`"
   ]
  },
  {
   "cell_type": "code",
   "execution_count": null,
   "metadata": {
    "colab": {
     "autoexec": {
      "startup": false,
      "wait_interval": 0
     }
    },
    "colab_type": "code",
    "id": "pc03vmdh3uX4",
    "outputId": "d48f8912-7717-4e26-ed65-688c903955a7"
   },
   "outputs": [],
   "source": [
    "pd.cut(ages, [18, 25, 35, 60, 100], labels=['Joven', 'Joven Adulto', 'Adulto', 'Senior'])"
   ]
  },
  {
   "cell_type": "markdown",
   "metadata": {
    "colab_type": "text",
    "id": "sQI7NSGt3uYC"
   },
   "source": [
    "* Qué sucede con el órden de las etiquetas?"
   ]
  },
  {
   "cell_type": "code",
   "execution_count": null,
   "metadata": {
    "colab": {
     "autoexec": {
      "startup": false,
      "wait_interval": 0
     }
    },
    "colab_type": "code",
    "id": "mYbUwHzg3uYD"
   },
   "outputs": [],
   "source": [
    "serie_ages = pd.cut(ages, bins, labels=group_names)\n",
    "serie_ages.value_counts()"
   ]
  },
  {
   "cell_type": "markdown",
   "metadata": {
    "colab_type": "text",
    "id": "JRYTTXNG3uYK"
   },
   "source": [
    "### Cuantiles en lugar de intervalos preestablecidos"
   ]
  },
  {
   "cell_type": "code",
   "execution_count": null,
   "metadata": {
    "colab": {
     "autoexec": {
      "startup": false,
      "wait_interval": 0
     }
    },
    "colab_type": "code",
    "id": "dAQfJbUW3uYL",
    "outputId": "47c897b9-c5bd-4060-ca7d-61de9af0687c"
   },
   "outputs": [],
   "source": [
    "# Divido en cuantiles, en este caso 10\n",
    "data = np.random.randn(1000)\n",
    "qcats = pd.qcut(data, 5) \n",
    "qcats"
   ]
  },
  {
   "cell_type": "code",
   "execution_count": null,
   "metadata": {
    "colab": {
     "autoexec": {
      "startup": false,
      "wait_interval": 0
     }
    },
    "colab_type": "code",
    "id": "LM8GT7aZ3uYW",
    "outputId": "a45853d3-3a75-48d9-c8da-dec1b6293a95"
   },
   "outputs": [],
   "source": [
    "qcats.value_counts()"
   ]
  },
  {
   "cell_type": "markdown",
   "metadata": {
    "colab_type": "text",
    "id": "OK-6-tAC3uYc"
   },
   "source": [
    "### Detectar y filtrar outliers\n",
    "No existe un criterio que sea válido en todos los casos para identificar los outliers. El criterio de mayor que el tercer cuartil más 1.5 veces el rango intercuartil o menor que el primer cuartil menos 1.5 veces el rango intercuartil surge de la distribución normal. En esa distribución el 99.7% de la población se encuentra en el rango definido por la media (poblacional) más menos 3 veces el desvío estándar (poblacional)\n"
   ]
  },
  {
   "cell_type": "code",
   "execution_count": null,
   "metadata": {
    "colab": {
     "autoexec": {
      "startup": false,
      "wait_interval": 0
     }
    },
    "colab_type": "code",
    "id": "1ks8ygRp3uYd",
    "outputId": "56e9c08a-9b96-4298-cb45-f461747037c0"
   },
   "outputs": [],
   "source": [
    "np.random.seed(12345)\n",
    "data = pd.DataFrame(np.random.randn(1000, 4))\n",
    "data.sample(5)"
   ]
  },
  {
   "cell_type": "code",
   "execution_count": null,
   "metadata": {
    "colab": {
     "autoexec": {
      "startup": false,
      "wait_interval": 0
     }
    },
    "colab_type": "code",
    "id": "MI60nqFE3uYl",
    "outputId": "7f8b1cb1-aefc-416a-9cd6-7649641c2b5b"
   },
   "outputs": [],
   "source": [
    "data.describe()"
   ]
  },
  {
   "cell_type": "code",
   "execution_count": null,
   "metadata": {
    "colab": {
     "autoexec": {
      "startup": false,
      "wait_interval": 0
     }
    },
    "colab_type": "code",
    "id": "4JNWvJbN3uYo"
   },
   "outputs": [],
   "source": [
    "col = data[3]\n",
    "col[np.abs(col) > 3]\n",
    "#en este caso la media poblacional es 0 y el desvío es 1 entonces el criterio mencionado anteriormente \n",
    "# marcaría como outliers a los valores mayores que 3 o menores que -3\n",
    "#col[np.abs(col) > 3 * np.std(col)]"
   ]
  },
  {
   "cell_type": "code",
   "execution_count": null,
   "metadata": {
    "colab": {
     "autoexec": {
      "startup": false,
      "wait_interval": 0
     }
    },
    "colab_type": "code",
    "id": "NiMl26Yc3uYt",
    "outputId": "833af907-2091-418d-bccb-57f73b3aebca"
   },
   "outputs": [],
   "source": [
    "# Listamos aquellos que no son outliers\n",
    "data[~(np.abs(data) > 3).any(axis=1)].head()"
   ]
  },
  {
   "cell_type": "code",
   "execution_count": null,
   "metadata": {},
   "outputs": [],
   "source": [
    "len(data[~(np.abs(data) > 3).any(axis=1)])"
   ]
  },
  {
   "cell_type": "code",
   "execution_count": null,
   "metadata": {
    "colab": {
     "autoexec": {
      "startup": false,
      "wait_interval": 0
     }
    },
    "colab_type": "code",
    "id": "H_DIVmZ_3uYy",
    "outputId": "1671d2f5-c6cf-4a44-ff08-6c742aa1b43d"
   },
   "outputs": [],
   "source": [
    "# Listamos las filas que tienen elementos que están en los extremos de la distribución\n",
    "data[(np.abs(data) > 3).any(1)]"
   ]
  },
  {
   "cell_type": "code",
   "execution_count": null,
   "metadata": {
    "colab": {
     "autoexec": {
      "startup": false,
      "wait_interval": 0
     }
    },
    "colab_type": "code",
    "id": "jHjWejWS3uY2",
    "outputId": "86e52c22-d145-4155-e176-3bd110fc6e1e"
   },
   "outputs": [],
   "source": [
    "# Acota el rango de la muestra\n",
    "# Convierte los valores extremos a esos puntos de referencia\n",
    " \n",
    "data[np.abs(data) > 3] = np.sign(data) * 3\n",
    "data.describe()"
   ]
  },
  {
   "cell_type": "markdown",
   "metadata": {
    "colab_type": "text",
    "id": "ZxFCDDlZ3uY6"
   },
   "source": [
    "### PARTE II: Variables categóricas y Dummies\n",
    "Pandas cuenta con el método pd.get_dummies() que recibe una Serie o una lista de Series y realiza el one hot encoding.\n",
    "\n",
    "Recordemos que una variable con k categorías se puede representar con k-1 variables.\n",
    "\n",
    "Por eso un parámetro clave de pd.get_dummies es drop_first = True que genera k-1 categorías en lugar de k."
   ]
  },
  {
   "cell_type": "code",
   "execution_count": null,
   "metadata": {
    "colab": {
     "autoexec": {
      "startup": false,
      "wait_interval": 0
     }
    },
    "colab_type": "code",
    "id": "HVP7l2Ik3uY7",
    "outputId": "e3f5bfa8-cc07-4392-fa38-947f686d8f3a"
   },
   "outputs": [],
   "source": [
    "df = pd.DataFrame({'cat_producto': ['b', 'b', 'a', 'c', 'a', 'b'],\n",
    "                'cod_venta': np.arange(100, 112, 2)})\n",
    "df"
   ]
  },
  {
   "cell_type": "code",
   "execution_count": null,
   "metadata": {
    "colab": {
     "autoexec": {
      "startup": false,
      "wait_interval": 0
     }
    },
    "colab_type": "code",
    "id": "-koT6S9M3uY_",
    "outputId": "d4e939c9-ecf6-48ca-e016-c5e05f593ab3"
   },
   "outputs": [],
   "source": [
    "pd.get_dummies(df['cat_producto'])"
   ]
  },
  {
   "cell_type": "code",
   "execution_count": null,
   "metadata": {
    "colab": {
     "autoexec": {
      "startup": false,
      "wait_interval": 0
     }
    },
    "colab_type": "code",
    "id": "EyEWPFY03uZD",
    "outputId": "22142301-6fad-4e64-d4b5-daf421dd5dad"
   },
   "outputs": [],
   "source": [
    "# Agregamos un prefijo para identificar la categoría\n",
    "pd.get_dummies(df['cat_producto'], prefix='cat_producto')\n",
    "                        "
   ]
  },
  {
   "cell_type": "code",
   "execution_count": null,
   "metadata": {},
   "outputs": [],
   "source": [
    "dummies = pd.get_dummies(df['cat_producto'], prefix='cat_producto',\n",
    "                         drop_first=True)\n",
    "dummies"
   ]
  },
  {
   "cell_type": "code",
   "execution_count": null,
   "metadata": {
    "colab": {
     "autoexec": {
      "startup": false,
      "wait_interval": 0
     }
    },
    "colab_type": "code",
    "id": "QRs8bct33uZI",
    "outputId": "8a92b2b2-68a4-45ed-b593-94d48e01bdc8"
   },
   "outputs": [],
   "source": [
    "# Concatenamos la columna cod_venta\n",
    "df_with_dummy = df[['cod_venta']].join(dummies)\n",
    "df_with_dummy"
   ]
  },
  {
   "cell_type": "markdown",
   "metadata": {
    "colab_type": "text",
    "id": "JkV3-tXz3uZM"
   },
   "source": [
    "## Manipulación de strings"
   ]
  },
  {
   "cell_type": "markdown",
   "metadata": {
    "colab_type": "text",
    "id": "jvJt63eV3uZO"
   },
   "source": [
    "### String object methods"
   ]
  },
  {
   "cell_type": "markdown",
   "metadata": {
    "colab_type": "text",
    "id": "FJ65LB7l3uZS"
   },
   "source": [
    "* `split()` toma un string, lo divide en función de un delimitador (`sep`) y devuelve una lista"
   ]
  },
  {
   "cell_type": "code",
   "execution_count": null,
   "metadata": {
    "colab": {
     "autoexec": {
      "startup": false,
      "wait_interval": 0
     }
    },
    "colab_type": "code",
    "id": "RhdoFheQ3uZT",
    "outputId": "83f43365-cdf1-4e71-9d45-567cbe412746"
   },
   "outputs": [],
   "source": [
    "val = 'a,b,  guido, asjd, kle'\n",
    "val.split(',')"
   ]
  },
  {
   "cell_type": "markdown",
   "metadata": {
    "colab_type": "text",
    "id": "Wfaq8Z2Y3uZV"
   },
   "source": [
    "* `strip()` toma un string y devuelve un string sin los espacios iniciales y finales."
   ]
  },
  {
   "cell_type": "code",
   "execution_count": null,
   "metadata": {},
   "outputs": [],
   "source": [
    "# Ejemplos:\n",
    "\n",
    "texto = \"   Este es el primer ejemplo....wow!!!   \";\n",
    "print(texto.strip())\n",
    "\n",
    "texto1 = \"0000000Este es el segundo ejemplo....wow!!!0000000\";\n",
    "print(texto1.strip( '0' ))"
   ]
  },
  {
   "cell_type": "code",
   "execution_count": null,
   "metadata": {
    "colab": {
     "autoexec": {
      "startup": false,
      "wait_interval": 0
     }
    },
    "colab_type": "code",
    "id": "IKHN-08Y3uZW",
    "outputId": "b3b90dbc-e607-456b-cb36-ca95e50cd238"
   },
   "outputs": [],
   "source": [
    "pieces = [x.strip() for x in val.split(',')]\n",
    "pieces"
   ]
  },
  {
   "cell_type": "markdown",
   "metadata": {
    "colab_type": "text",
    "id": "0UTTIk_u3uZn"
   },
   "source": [
    "* `find()` devuelve el índice más bajo dentro de un string en el cual un substring es encontrado. Devuelve -1 si no la encuentra"
   ]
  },
  {
   "cell_type": "code",
   "execution_count": null,
   "metadata": {
    "colab": {
     "autoexec": {
      "startup": false,
      "wait_interval": 0
     }
    },
    "colab_type": "code",
    "id": "RXAdPz5Z3uZp",
    "outputId": "42b012c7-1d88-455a-d455-14f5c159b703"
   },
   "outputs": [],
   "source": [
    "val.find(':')"
   ]
  },
  {
   "cell_type": "code",
   "execution_count": null,
   "metadata": {},
   "outputs": [],
   "source": [
    "val.find('b')"
   ]
  },
  {
   "cell_type": "markdown",
   "metadata": {
    "colab_type": "text",
    "id": "-qhhQlo23uZr"
   },
   "source": [
    "* `index()` es similar, pero devuelve un `ValueError` cuando no encuentra el substring buscado"
   ]
  },
  {
   "cell_type": "code",
   "execution_count": null,
   "metadata": {
    "colab": {
     "autoexec": {
      "startup": false,
      "wait_interval": 0
     }
    },
    "colab_type": "code",
    "id": "kMb3Dd963uZs",
    "outputId": "1c71d705-d320-46af-d06e-93c7de9e63bf"
   },
   "outputs": [],
   "source": [
    "val.index(',')"
   ]
  },
  {
   "cell_type": "code",
   "execution_count": null,
   "metadata": {},
   "outputs": [],
   "source": [
    "# Genera un error si no encuentra el substring\n",
    "\n",
    "try:\n",
    "    val.index(':')\n",
    "except:\n",
    "    print(\"Error, substring no encontrado!\")"
   ]
  },
  {
   "cell_type": "markdown",
   "metadata": {
    "colab_type": "text",
    "id": "-YmKvAAN3uZ4"
   },
   "source": [
    "* `count()` cuenta la ocurrencia de un substring determinado en un string mayor."
   ]
  },
  {
   "cell_type": "code",
   "execution_count": null,
   "metadata": {
    "colab": {
     "autoexec": {
      "startup": false,
      "wait_interval": 0
     }
    },
    "colab_type": "code",
    "id": "mjT0qp8r3uZ5",
    "outputId": "5f170afa-a325-4364-9a1f-6e937f1adeac"
   },
   "outputs": [],
   "source": [
    "val.count(',')"
   ]
  },
  {
   "cell_type": "markdown",
   "metadata": {
    "colab_type": "text",
    "id": "rCPXToOS3uZ-"
   },
   "source": [
    "* `replace()` reemplaza un substring por otro."
   ]
  },
  {
   "cell_type": "code",
   "execution_count": null,
   "metadata": {
    "colab": {
     "autoexec": {
      "startup": false,
      "wait_interval": 0
     }
    },
    "colab_type": "code",
    "id": "DG6ChQ-w3uZ_",
    "outputId": "46ca0963-ad03-4812-8d7a-3d3a75b79f37"
   },
   "outputs": [],
   "source": [
    "val.replace(',', ';')"
   ]
  },
  {
   "cell_type": "markdown",
   "metadata": {
    "colab_type": "text",
    "id": "rxtF4_OE3uaC"
   },
   "source": [
    "### Funciones vectorizadas para strings en Pandas"
   ]
  },
  {
   "cell_type": "code",
   "execution_count": null,
   "metadata": {
    "colab": {
     "autoexec": {
      "startup": false,
      "wait_interval": 0
     }
    },
    "colab_type": "code",
    "id": "MZ4Po0jc3uaC"
   },
   "outputs": [],
   "source": [
    "import re\n",
    "data = {'Dave': 'dave@google.com', 'Steve': 'steve@gmail.com',\n",
    "        'Rob': 'rob@gmail.com', 'Wes': np.nan}\n",
    "\n",
    "data = pd.Series(data)"
   ]
  },
  {
   "cell_type": "code",
   "execution_count": null,
   "metadata": {
    "colab": {
     "autoexec": {
      "startup": false,
      "wait_interval": 0
     }
    },
    "colab_type": "code",
    "id": "bRLhrNNS3uaF",
    "outputId": "925a8a1c-976a-4bbe-ff61-61193e357a99"
   },
   "outputs": [],
   "source": [
    "data"
   ]
  },
  {
   "cell_type": "code",
   "execution_count": null,
   "metadata": {
    "colab": {
     "autoexec": {
      "startup": false,
      "wait_interval": 0
     }
    },
    "colab_type": "code",
    "id": "_rx-AHYC3uaJ",
    "outputId": "134df876-7df0-4605-ee34-2c078c8d2a1f"
   },
   "outputs": [],
   "source": [
    "data.isnull()"
   ]
  },
  {
   "cell_type": "code",
   "execution_count": null,
   "metadata": {
    "colab": {
     "autoexec": {
      "startup": false,
      "wait_interval": 0
     }
    },
    "colab_type": "code",
    "id": "_nPtooJj3uaO"
   },
   "outputs": [],
   "source": [
    "pattern = r'\\w+'"
   ]
  },
  {
   "cell_type": "code",
   "execution_count": null,
   "metadata": {
    "colab": {
     "autoexec": {
      "startup": false,
      "wait_interval": 0
     }
    },
    "colab_type": "code",
    "id": "uNlp9Cbp3uaZ",
    "outputId": "d01c5c51-2ba6-4bc7-f927-963b20b74d5d"
   },
   "outputs": [],
   "source": [
    "data.str.findall(pattern, flags=re.IGNORECASE)[0][-1]"
   ]
  },
  {
   "cell_type": "code",
   "execution_count": null,
   "metadata": {
    "colab": {
     "autoexec": {
      "startup": false,
      "wait_interval": 0
     }
    },
    "colab_type": "code",
    "id": "mtb7melN3uag",
    "outputId": "1bdfb2c9-b877-4240-99d0-ec0e3afcb28e"
   },
   "outputs": [],
   "source": [
    "matches = data.str.match(pattern, flags=re.IGNORECASE)\n",
    "matches"
   ]
  },
  {
   "cell_type": "markdown",
   "metadata": {
    "colab_type": "text",
    "id": "Q1X_QBVs3uap"
   },
   "source": [
    "### Ejemplo: Dataset movies"
   ]
  },
  {
   "cell_type": "code",
   "execution_count": null,
   "metadata": {
    "colab": {
     "autoexec": {
      "startup": false,
      "wait_interval": 0
     }
    },
    "colab_type": "code",
    "id": "4yaWX38O3uau",
    "outputId": "6cb58151-a8e6-4381-b014-d29d273fc45d"
   },
   "outputs": [],
   "source": [
    "mnames = ['movie_id', 'title', 'genres']\n",
    "movies = pd.read_csv('movies.csv', header=None,\n",
    "                        names=mnames, encoding=\"latin9\", sep=';')\n",
    "movies[:10]"
   ]
  },
  {
   "cell_type": "code",
   "execution_count": null,
   "metadata": {
    "colab": {
     "autoexec": {
      "startup": false,
      "wait_interval": 0
     }
    },
    "colab_type": "code",
    "id": "MApVK9YX3uaw",
    "outputId": "d067d384-98de-40cd-f47d-949749646fd3"
   },
   "outputs": [],
   "source": [
    "lista = [sublista.split('|') for sublista in movies.genres]\n",
    "lista[:10]"
   ]
  },
  {
   "cell_type": "code",
   "execution_count": null,
   "metadata": {
    "colab": {
     "autoexec": {
      "startup": false,
      "wait_interval": 0
     }
    },
    "colab_type": "code",
    "id": "-3a4jB_83ua2",
    "outputId": "66720e7b-a69c-41e5-ee3a-7ec71054dcfe"
   },
   "outputs": [],
   "source": [
    "# Aplanamos la lista anterior\n",
    "genres = sorted(set([item for s in lista for item in s]))\n",
    "genres"
   ]
  },
  {
   "cell_type": "code",
   "execution_count": null,
   "metadata": {
    "colab": {
     "autoexec": {
      "startup": false,
      "wait_interval": 0
     }
    },
    "colab_type": "code",
    "id": "6BsCodEs3ua4",
    "outputId": "fd29e612-9e9a-44c9-d27e-10af12308beb"
   },
   "outputs": [],
   "source": [
    "# Creamos un DataFrame vacío para asociar los géneros correspondientes a cada película\n",
    "dummies = pd.DataFrame(np.zeros((len(movies), len(genres)), dtype=int), columns=genres)\n",
    "dummies.head()"
   ]
  },
  {
   "cell_type": "code",
   "execution_count": null,
   "metadata": {
    "colab": {
     "autoexec": {
      "startup": false,
      "wait_interval": 0
     }
    },
    "colab_type": "code",
    "id": "BseWc5gB3ua8"
   },
   "outputs": [],
   "source": [
    "# Codifica las categorías como dummies. Escribe un 1 donde corresponde\n",
    "for i, gen in enumerate(movies.genres):\n",
    "    dummies.loc[i, gen.split('|')] = 1"
   ]
  },
  {
   "cell_type": "code",
   "execution_count": null,
   "metadata": {
    "colab": {
     "autoexec": {
      "startup": false,
      "wait_interval": 0
     }
    },
    "colab_type": "code",
    "id": "bLxQ64sZ3ua-",
    "outputId": "6811c3f5-a863-4541-e85f-f5cfc7833b11"
   },
   "outputs": [],
   "source": [
    "dummies.head()"
   ]
  },
  {
   "cell_type": "code",
   "execution_count": null,
   "metadata": {
    "colab": {
     "autoexec": {
      "startup": false,
      "wait_interval": 0
     }
    },
    "colab_type": "code",
    "id": "x5D0V63b3ubE",
    "outputId": "640647b5-50e1-4323-edc8-b72e62a85ae7"
   },
   "outputs": [],
   "source": [
    "movies_final = movies.join(dummies.add_prefix('Genre_'))\n",
    "movies_final.head()"
   ]
  },
  {
   "cell_type": "code",
   "execution_count": null,
   "metadata": {},
   "outputs": [],
   "source": []
  }
 ],
 "metadata": {
  "colab": {
   "collapsed_sections": [],
   "default_view": {},
   "name": "1.PRACTICA_GUIADA_Data_Wrangling.ipynb",
   "provenance": [],
   "version": "0.3.2",
   "views": {}
  },
  "kernelspec": {
   "display_name": "Python 3",
   "language": "python",
   "name": "python3"
  },
  "language_info": {
   "codemirror_mode": {
    "name": "ipython",
    "version": 3
   },
   "file_extension": ".py",
   "mimetype": "text/x-python",
   "name": "python",
   "nbconvert_exporter": "python",
   "pygments_lexer": "ipython3",
   "version": "3.6.8"
  }
 },
 "nbformat": 4,
 "nbformat_minor": 1
}
