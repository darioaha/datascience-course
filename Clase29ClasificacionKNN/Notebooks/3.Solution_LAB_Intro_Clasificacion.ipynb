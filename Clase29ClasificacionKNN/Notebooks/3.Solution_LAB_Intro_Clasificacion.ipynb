{
 "cells": [
  {
   "cell_type": "markdown",
   "metadata": {
    "colab_type": "text",
    "id": "4agcTzFlKW5g"
   },
   "source": [
    "# LAB: KNN \n",
    "\n",
    "## 1. Introducción\n",
    "\n",
    "El objetivo de este LAB es clasificar si un determinado tipo de vino es de alta o baja calidad. Para eso usaremos un dataset que contiene un set amplio de features vinculados a diversas características del vino, tales como acidez, azúclar, densidad, ph, si es tinto, etc.Para llevar a cabo esta tarea ,como input vamos a usar las features de cada vino"
   ]
  },
  {
   "cell_type": "code",
   "execution_count": null,
   "metadata": {
    "colab": {},
    "colab_type": "code",
    "id": "Lj5-mgwWKW5i",
    "outputId": "35a03f31-8c26-4f77-b8b7-63a7c97152d3"
   },
   "outputs": [],
   "source": [
    "import pandas as pd\n",
    "import seaborn as sns\n",
    "import numpy as np\n",
    "from sklearn.model_selection import cross_val_score\n",
    "from sklearn.neighbors import KNeighborsClassifier\n",
    "from sklearn.metrics import confusion_matrix, accuracy_score\n",
    "\n",
    "import matplotlib.pyplot as plt\n",
    "%matplotlib inline\n",
    "\n",
    "\n",
    "df = pd.read_csv(\"../Data/wine.csv\")\n",
    "df.head()"
   ]
  },
  {
   "cell_type": "code",
   "execution_count": null,
   "metadata": {
    "colab": {},
    "colab_type": "code",
    "id": "6FVVjUAfKW5w",
    "outputId": "f10e4b29-f680-49c3-f59a-63527cca8975"
   },
   "outputs": [],
   "source": [
    "df.columns"
   ]
  },
  {
   "cell_type": "code",
   "execution_count": null,
   "metadata": {},
   "outputs": [],
   "source": [
    "df.shape"
   ]
  },
  {
   "cell_type": "code",
   "execution_count": null,
   "metadata": {},
   "outputs": [],
   "source": [
    "df['high_quality'].value_counts(normalize=True)"
   ]
  },
  {
   "cell_type": "markdown",
   "metadata": {
    "colab_type": "text",
    "id": "PJNxujhqKW6I"
   },
   "source": [
    "## 2. Clasificando los vinos de alta calidad\n",
    "- En el conjunto de datos, la calidad esta expresada en una columna numerica. Si quisieramos resolver un problema de regresión podríamos tratar de predecir dicho valor.\n",
    "    \n",
    "- Dado que vamos a resolver un problema de clasificación, vamos a predecir \"high quality\" como una variable binaria que toma valores 0 ó 1."
   ]
  },
  {
   "cell_type": "markdown",
   "metadata": {
    "colab_type": "text",
    "id": "cTTdbkz8KW6K"
   },
   "source": [
    "### 2.1 Realizar un modelo de K-Nearest Neighbors\n",
    "\n",
    "- Construir la matriz de features.\n",
    "- Construir la variable target: `high_quality`\n",
    "- Seleccionar los atribiutos que podrian ser los mejores para el modelo\n",
    "- Evaluar la accuracy del modelo mediante Cross-Validation\n",
    "- Experimentar con diferentes valores para el hiperparámetro K y evaluar la performance\n",
    "- ¿Es necesario estandarizamos las variables?\n",
    "\n",
    "** Pista:** pueden tratar de generar una función que evalúe diferentes valores del hiperparámetro K."
   ]
  },
  {
   "cell_type": "code",
   "execution_count": null,
   "metadata": {
    "colab": {},
    "colab_type": "code",
    "id": "6XPcCWdXKW6L"
   },
   "outputs": [],
   "source": [
    "from sklearn.model_selection import KFold\n",
    "\n",
    "def scores_knn(X,y,start,stop,step):\n",
    "    \n",
    "    # Voy a querer graficar los distintos valores del score de cross validation en función del hiperparámetro n_neighbors\n",
    "    # Para esto voy a generar una lista de diccionarios que después se puede convertir fácilmente en DataFrame\n",
    "    # Lista de Diccionarios\n",
    "    \n",
    "    scores_para_df = []\n",
    "    \n",
    "    # range(1,40,5) son los posibles valores de n_neighbors que quiero explorar. Son todos los enteros desde el 1\n",
    "    # hasta el 40 en saltos de a 5. (Start,Stop,Step)\n",
    "    \n",
    "    for i in range(start,stop,step):\n",
    "        # En cada iteración instanciamos el modelo con un hiperparámetro distinto\n",
    "        \n",
    "        model = KNeighborsClassifier(n_neighbors=i)\n",
    "\n",
    "        # cross_val_scores nos devuelve un array de 5 resultados, uno por cada partición que hizo automáticamente CV  \n",
    "        \n",
    "        kf = KFold(n_splits=10, shuffle=True, random_state=10)\n",
    "        \n",
    "        cv_scores = cross_val_score(model, X, y, cv=kf)\n",
    "\n",
    "        # Para cada valor de n_neighbours, creo un diccionario con el valor de n_neighbours y la media y el desvío de los scores.\n",
    "        \n",
    "        dict_row_score = {'score_medio':np.mean(cv_scores),'score_std':np.std(cv_scores),'n_neighbours':i}\n",
    "\n",
    "        # Guardo cada uno en la lista de diccionarios\n",
    "        \n",
    "        scores_para_df.append(dict_row_score)\n",
    "        \n",
    "    df_scores = pd.DataFrame(scores_para_df)\n",
    "    df_scores['limite_inferior'] = df_scores['score_medio'] - df_scores['score_std']\n",
    "    df_scores['limite_superior'] = df_scores['score_medio'] + df_scores['score_std']\n",
    "    return df_scores"
   ]
  },
  {
   "cell_type": "code",
   "execution_count": null,
   "metadata": {
    "colab": {},
    "colab_type": "code",
    "id": "WCbnFy7bKW6P"
   },
   "outputs": [],
   "source": [
    "# Construimos la matriz de features, subseteando el DataFrame para que no contenga el campo high_quality (es nuestro target)\n",
    "\n",
    "X = df[['fixed_acidity', 'volatile_acidity', 'citric_acid', 'residual_sugar',\n",
    "       'chlorides', 'free_sulfur_dioxide', 'total_sulfur_dioxide', 'density',\n",
    "       'pH', 'sulphates', 'alcohol']]\n",
    "y = df['high_quality']\n",
    "\n",
    "from sklearn.model_selection import train_test_split\n",
    "X_train, X_test, y_train, y_test = train_test_split(X,y, stratify=y)\n",
    "\n",
    "# Estandarizar\n",
    "from sklearn.preprocessing import StandardScaler\n",
    "scaler = StandardScaler()\n",
    "X_train = scaler.fit_transform(X_train)\n",
    "X_test = scaler.transform(X_test)"
   ]
  },
  {
   "cell_type": "code",
   "execution_count": null,
   "metadata": {},
   "outputs": [],
   "source": [
    "df_scores= scores_knn(X_train, y_train, 1, 21, 1)"
   ]
  },
  {
   "cell_type": "code",
   "execution_count": null,
   "metadata": {
    "colab": {},
    "colab_type": "code",
    "id": "MaAg2oUJKW6w",
    "outputId": "bba64a63-138b-4176-b410-8938f51f90c1"
   },
   "outputs": [],
   "source": [
    "# En este caso, la estandarización ayuda algo porque las variables estaban en unidades muy distintas.\n",
    "\n",
    "import matplotlib.pyplot as plt\n",
    "%matplotlib inline\n",
    "\n",
    "plt.plot(df_scores['n_neighbours'],df_scores['limite_inferior'],color='r')\n",
    "plt.plot(df_scores['n_neighbours'],df_scores['score_medio'],color='b')\n",
    "plt.plot(df_scores['n_neighbours'],df_scores['limite_superior'],color='r')\n",
    "plt.ylim(0.7, 1);"
   ]
  },
  {
   "cell_type": "code",
   "execution_count": null,
   "metadata": {},
   "outputs": [],
   "source": [
    "df_scores.loc[df_scores.score_medio == df_scores.score_medio.max()]"
   ]
  },
  {
   "cell_type": "code",
   "execution_count": null,
   "metadata": {},
   "outputs": [],
   "source": [
    "best_k = df_scores.loc[df_scores.score_medio ==\\\n",
    "                               df_scores.score_medio.max(),'n_neighbours'].values\n",
    "best_k = best_k[0]\n",
    "best_k"
   ]
  },
  {
   "cell_type": "code",
   "execution_count": null,
   "metadata": {},
   "outputs": [],
   "source": [
    "# Elegimos el modelo óptimo que nos había indicado cross validation\n",
    "model = KNeighborsClassifier(n_neighbors=best_k)\n",
    "\n",
    "# Lo ajustamos sobre datos de entrenamiento\n",
    "model.fit(X_train,y_train)"
   ]
  },
  {
   "cell_type": "code",
   "execution_count": null,
   "metadata": {},
   "outputs": [],
   "source": [
    "y_pred = model.predict(X_test)"
   ]
  },
  {
   "cell_type": "code",
   "execution_count": null,
   "metadata": {},
   "outputs": [],
   "source": [
    "# Obtenemos la matriz de confusión\n",
    "confusion_matrix(y_test, y_pred)"
   ]
  },
  {
   "cell_type": "code",
   "execution_count": null,
   "metadata": {},
   "outputs": [],
   "source": [
    "# Computamos el accuracy score:\n",
    "\n",
    "accuracy_score(y_test, y_pred)"
   ]
  }
 ],
 "metadata": {
  "colab": {
   "collapsed_sections": [],
   "name": "Solution_LAB_Intro_Clasificacion.ipynb",
   "provenance": [],
   "version": "0.3.2"
  },
  "kernelspec": {
   "display_name": "Python 3",
   "language": "python",
   "name": "python3"
  },
  "language_info": {
   "codemirror_mode": {
    "name": "ipython",
    "version": 3
   },
   "file_extension": ".py",
   "mimetype": "text/x-python",
   "name": "python",
   "nbconvert_exporter": "python",
   "pygments_lexer": "ipython3",
   "version": "3.6.7"
  }
 },
 "nbformat": 4,
 "nbformat_minor": 1
}
