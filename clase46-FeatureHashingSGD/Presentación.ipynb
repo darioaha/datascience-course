{
 "cells": [
  {
   "cell_type": "markdown",
   "metadata": {
    "slideshow": {
     "slide_type": "slide"
    }
   },
   "source": [
    "<h1 style=\"text-align: center;\">Descenso de gradientes estocástico (SGD)</h1>\n",
    "<br>\n",
    "<p style=\"text-align: center;\">Carlos Pita</p>\n",
    "<p style=\"text-align: center;\">Digital House</p>\n",
    "<p style=\"text-align: center;\">Julio 2019</p>"
   ]
  },
  {
   "cell_type": "markdown",
   "metadata": {
    "slideshow": {
     "slide_type": "slide"
    }
   },
   "source": [
    "## Elementos del problema\n",
    "\n",
    "* Muestra aleatoria $z_1, \\dots, z_n = (x_1, y_1), \\dots, (x_n, y_n)$.\n",
    "* Función de pérdida $l(\\hat{y}, y)$ donde $\\hat{y}$ es nuestra predicción.\n",
    "* Familia de soluciones posibles $f_w$, *i.e.* funciones indexadas por parámetros $w \\in W$.\n",
    "\n",
    "Querríamos encontrar $w^\\star$ tal que minimice la pérdida esperada $E(f_{w^\\star}) = \\mathbb{E}_Z(l(f_{w^\\star}(X), Y))$ sobre la distribución de $Z = (X, Y)$.\n",
    "\n",
    "Como desconocemos esa distribución, buscamos $f_{w_n}$ aproximando la esperanza por el promedio muestral $E(f_{w_n}) = \\frac{\\sum_{i=1}^n l(f_{w_n}(x_i), y_i)}{n}$."
   ]
  },
  {
   "cell_type": "markdown",
   "metadata": {
    "slideshow": {
     "slide_type": "slide"
    }
   },
   "source": [
    "## Descenso de gradientes (GD)\n",
    "\n",
    "Si $l$ es diferenciable, podemos buscar $w^\\star$ mediante descenso de gradientes:\n",
    "\n",
    "$$\n",
    "w_{t+1} = w_t - \\eta_t \\frac{\\partial\\left({\\sum_{i=1}^n  l(f_w(x_i), y_i)}\\right)}{\\partial w}\n",
    "        = w_t - \\eta_t \\sum_{i=1}^n \\frac{\\partial{l(f_w(x_i), y_i)}}{\\partial w}\n",
    "$$\n",
    "\n",
    "para alguna agenda decreciente de tasas de aprendizaje $\\eta_1,\\dots,\\eta_t,\\dots$."
   ]
  },
  {
   "cell_type": "markdown",
   "metadata": {
    "slideshow": {
     "slide_type": "slide"
    }
   },
   "source": [
    "## Descenso de gradientes estocástico (SGD)\n",
    "\n",
    "En la expresión\n",
    "\n",
    "$$\\sum_{i=1}^n \\frac{\\partial{l(f_w(x_i), y_i)}}{\\partial w}$$\n",
    "\n",
    "es necesario calcular un gradiente por cada observación de la muestra.\n",
    "\n",
    "La dirección de descenso \"balancea\" entonces las pérdidas de todas las observaciones.\n",
    "\n",
    "Esto es bueno, pero puede ser muy caro computar $n$ gradientes en cada descenso."
   ]
  },
  {
   "cell_type": "markdown",
   "metadata": {
    "slideshow": {
     "slide_type": "slide"
    }
   },
   "source": [
    "## Descenso de gradientes estocástico (SGD)\n",
    "\n",
    "Una idea es tomar una observación al azar y descender para intentar reducir su pérdida, ignorando las demás. En este sentido el descenso es aleatorio o estocástico.\n",
    "\n",
    "$$\n",
    "w_{t+1} = w_t - \\eta_t \\frac{\\partial{l(f_w(x_k), y_k)}}{\\partial w}\n",
    "$$\n",
    "\n",
    "con $k = \\text{random}({1,\\dots,n})$.\n",
    "\n",
    "La intuición es que si en cada paso mejoramos una observación al azar, después de cierta cantidad de pasos vamos a haber mejorado, en promedio, los tipos de observación más frecuentes o representativos.\n",
    "\n",
    "Esto es \"barato\" y puede funcionar razonablemente bien para un número enorme de observaciones. De hecho, vamos a ver que en un sentido es independiente de la cantidad total de datos."
   ]
  },
  {
   "cell_type": "markdown",
   "metadata": {
    "slideshow": {
     "slide_type": "slide"
    }
   },
   "source": [
    "## Descenso de gradientes estocástico (SGD)\n",
    "\n",
    "Scikit ofrece dos implementaciones de estimadores SGD `en sklearn.linear_model`, que a su vez implementan distinas funciones de pérdida. Algunos ejemplos:\n",
    "* `SGDClassifier`\n",
    "    * `loss=\"hinge\"`: support vector machine (SVM) lineal. Es el default.\n",
    "    * `loss=\"log\"`: regresión logística.\n",
    "* `SGDRegressor`\n",
    "    * `loss=\"squared_loss\"`: mínimos cuadrados ordinarios (OLS). Es el default.\n",
    "    * `loss=\"huber\"`: regresión robusta frente a outliers.\n",
    "\n",
    "Internamente todos estos estimadores comparten la misma implementación. Esto demuestra la flexibilidad y simplicidad del enfoque SGD.\n",
    "\n",
    "```python\n",
    "from sklearn.linear_model import SGDClassifier\n",
    "\n",
    "reglog = SGDClassifier(loss=\"log\")\n",
    "```"
   ]
  },
  {
   "cell_type": "markdown",
   "metadata": {
    "slideshow": {
     "slide_type": "slide"
    }
   },
   "source": [
    "## Análisis de convergencia\n",
    "\n",
    "La situación es ahora:\n",
    "\n",
    "1. Cada iteración es $n$ veces más barata de computar.\n",
    "2. Cada iteración usa la información de $n$ veces menos observaciones.\n",
    "3. Cada iteración remuestrea la muestra introduciendo así un nuevo componente de ruido.\n",
    "\n",
    "Ganamos o perdimos? Para responderlo tenemos que comparar la convergencia de GD y SDG."
   ]
  },
  {
   "cell_type": "markdown",
   "metadata": {
    "slideshow": {
     "slide_type": "slide"
    }
   },
   "source": [
    "## Análisis de convergencia\n",
    "\n",
    "Siendo $f^\\star$ el verdadero (y desconocido!) modelo, vamos a descomponer en tres partes el error relativo debido a que lo estimamos optimizando iterativamente sobre $f_w$ con $w \\in W$, dada una muestra de tamaño $n$:\n",
    "\n",
    "$$\n",
    "E(f_{w_n}) - E(f^\\star) = err_{app} + err_{est} + err_{opt}\n",
    "$$\n",
    "donde:\n",
    "* $err_{app}$ es el error de aproximación, que solo podemos reducir ampliando la familia $W$.\n",
    "* $err_{est}$ es el error de estimación, que reducimos aumentando el tamaño de muestra $n$.\n",
    "* $err_{opt}$ es el error de optimización, que reducimos aumentando el número de iteraciones del optimizador $t$."
   ]
  },
  {
   "cell_type": "markdown",
   "metadata": {
    "slideshow": {
     "slide_type": "slide"
    }
   },
   "source": [
    "## Análisis de convergencia\n",
    "\n",
    "Considerando fijo $err_{app}$ (es decir, considerando fija la familia $W$), buscamos un balance óptimo entre $err_{est}$ y $err_{opt}$.\n",
    "\n",
    "Pero tenemos restricciones:\n",
    "* $N$ es el tamaño máximo de muestra (no tenemos más datos).\n",
    "* $T$ es el tiempo máximo de ejecución (no tenemos más tiempo / capacidad de cómputo).\n",
    "\n",
    "Con esto presente podemos distinguir entre dos tipos de problemas de aprendizaje:\n",
    "* A pequeña escala: la restricción activa es $N$ (\"sobra el tiempo\").\n",
    "* A gran escala: la restricción activa es $T$ (\"sobran los datos\")."
   ]
  },
  {
   "cell_type": "markdown",
   "metadata": {
    "slideshow": {
     "slide_type": "slide"
    }
   },
   "source": [
    "## Análisis de convergencia\n",
    "\n",
    "Sea $\\rho = err_{est} + err_{opt}$, la siguiente tabla compara el número de iteraciones y el tiempo total asintóticos para conseguir un determinado $\\rho$ en GD *vs.* SGD:\n",
    "\n",
    "<table>\n",
    "    <thead><tr><th></th><th>GD</th><th>SGD</th></tr></thead>\n",
    "    <tbody>\n",
    "    <tr><td><b>Tiempo por iteración</b></td>\n",
    "        <td style=\"width:200px\">n</td>\n",
    "        <td style=\"width:200px\">1</td></tr>\n",
    "    <tr><td><b>Número de iteraciones</b></td>\n",
    "        <td>$O(log(1/\\rho))$</td>\n",
    "        <td>$O(1/\\rho)$</td></tr>\n",
    "    <tr><td><b>Tiempo total</b></td>\n",
    "        <td>$O(n\\,log(1/\\rho))$</td>\n",
    "        <td>$O(1/\\rho)$</td></tr>\n",
    "    </tbody>\n",
    "</table>\n",
    "\n",
    "Podemos ver que el tiempo asintótico total para reducir $\\rho$ es logarítmicamente menor en GD pero, por otro lado, en SGD no depende del tamaño de la muestra $n$.\n",
    "\n",
    "Por ejemplo, si tenemos 1,000,000 observaciones y queremos aumentar la precisión en 100, necesitamos alrededor de $20 \\approx 100/\\log(100)$ veces más iteraciones en SGD, pero cada iteración de GD lleva 1,000,000 pasos más. No tiene mucho sentido esperar tanto para descender! "
   ]
  },
  {
   "cell_type": "markdown",
   "metadata": {
    "slideshow": {
     "slide_type": "slide"
    }
   },
   "source": [
    "## Tasa de aprendizaje\n",
    "\n",
    "Si bien las condiciones sobre la tasa de aprendizaje que garantizan convergencia teórica son bastante laxas, en la práctica la velocidad de convergencia es un problema importante.\n",
    "\n",
    "Como para cualquier algoritmo de descenso de gradientes, es fundamental normalizar primero las features. Así evitamos que algunos features monopolicen el descenso por cuestiones de escala.\n",
    "\n",
    "La tasa debe ser decreciente (o pequeña y constante, si estamos dispuestos a tolerar cierta divergencia irreductible), pero:\n",
    "* Si decrece demasiado rápido puede frenar el descenso lejos del óptimo.\n",
    "* Si decrece demasiado lento puede hacer oscilar al optimizador alrededor del óptimo."
   ]
  },
  {
   "cell_type": "markdown",
   "metadata": {
    "slideshow": {
     "slide_type": "slide"
    }
   },
   "source": [
    "## Tasa de aprendizaje\n",
    "\n",
    "Existen técnicas adaptativas como AdaGrad que resuelven el problema anterior computando progresivamente una tasa de aprendizaje óptima para cada feature, al precio de uno o dos hiperparámetros globales. Estas técnicas son *muy efectivas*.\n",
    "\n",
    "La oferta de Scikit es más tradicional:\n",
    "* `learning_rate=constant`: $\\eta$ = `eta0`.\n",
    "* `learning_rate=optimal` (default para clasificación): $\\eta$ = `1 / (alpha * (t + t_0))`, con `t_0` seleccionado mediante una heurística propuesta por Léon Bottou.\n",
    "* `learning_rate=invscaling` (default para regresión): $\\eta$ = `eta0 / pow(t, power_t)`. Por default, `power_t=0.5`.\n",
    "* `learning_rate=adaptive`: $\\eta$ arranca en `eta0` y se va reduciendo paulatinamente si después de `n_iter_no_change` no hay mejoras.\n",
    "\n",
    "**YMMV**"
   ]
  },
  {
   "cell_type": "markdown",
   "metadata": {
    "slideshow": {
     "slide_type": "slide"
    }
   },
   "source": [
    "## Aprendizaje online\n",
    "\n",
    "Supongamos que nuestra muestra no está completamente dada de antemano, sino que es producida gradualmente por un proceso generador aleatorio (por ejemplo, transacciones en un mercado).\n",
    "\n",
    "Si este proceso genera observaciones independientes entre sí, el modelo es el mismo que antes, solo que ahora lo pensamos diferente: en lugar de muestrear una por una las observaciones ya dadas, las recibimos al azar de la \"naturaleza\". \n",
    "\n",
    "Por lo tanto SGD se puede aplicar a procesos \"ongoing\". A esta situación la llamamos *aprendizaje online* (no tiene nada que ver con que este online en Internet!).\n",
    "\n",
    "```python\n",
    "x, y = next_observation()\n",
    "reglog.partial_fit(x, y)\n",
    "x, y = next_observation()\n",
    "reglog.partial_fit(x, y)\n",
    "```"
   ]
  },
  {
   "cell_type": "markdown",
   "metadata": {
    "slideshow": {
     "slide_type": "slide"
    }
   },
   "source": [
    "## Aprendizaje online\n",
    "\n",
    "Recordemos que SGD está calculando el gradiente para una observación a la vez. Esto es muy rápido pero los descensos se pierden de \"balancear\" la pérdida de distintas observaciones.\n",
    "\n",
    "Podemos mejorar la performance considerando varias observaciones al mismo tiempo. Por ejemplo, si nuestro dataset contiene billones (o infinitos!) datos, agruparlos de a 1000 apenas modifica la performance del algoritmo, pero puede acelerar significativamente su convergencia.\n",
    "\n",
    "A estos paquetes de observaciones los llamamos *minibatches*.\n",
    "\n",
    "Desde el punto de vista de Scikit, no cambia mucho:\n",
    "\n",
    "```python\n",
    "X, y = next_minibatch()\n",
    "reglog.partial_fit(X, y)\n",
    "X, y = next_minibatch()\n",
    "reglog.partial_fit(X, y)\n",
    "```"
   ]
  },
  {
   "cell_type": "markdown",
   "metadata": {
    "slideshow": {
     "slide_type": "slide"
    }
   },
   "source": [
    "## Validación Progresiva\n",
    "\n",
    "Cuando hacemos aprendizaje online existe un \"truco\" para estimar el error de generalización. En cierto sentido, es similar a lo que hacíamos con LOOCV (leave one out cross-validation).\n",
    "\n",
    "Cada vez que recibimos una nueva obervación $z_{t+1} = x_{t+1}, y_{t+1}$ podemos, antes de efectuar el update $w_t \\rightarrow w_{t+1}$, computar la pérdida $l(f_{w_t}(x_{t+1}), y_{t+1})$.\n",
    "\n",
    "De esta forma generamos una secuencia de estimaciones del error esperado. Podemos guardar únicamente una media móvil, o media y varianza móviles, o toda la secuencia.\n",
    "\n",
    "```python\n",
    "x, y = next_observation()\n",
    "loss_sum += log_loss(y, reglog.predict(x))\n",
    "loss_n += 1\n",
    "print(\"Average loss:\", loss_sum / loss_n)\n",
    "reglog.partial_fit(x, y)\n",
    "```\n",
    "\n",
    "Notar que, al principio, el estimador aun ha aprendido de pocas observaciones. Es conveniente \"esperar un poco\" antes de empezar a computar la media móvil. Asimismo, es conveniente que esta media móvil tenga \"memoria limitada\" (por ejemplo, una caída exponencial)."
   ]
  },
  {
   "cell_type": "markdown",
   "metadata": {
    "slideshow": {
     "slide_type": "slide"
    }
   },
   "source": [
    "## Regularización\n",
    "\n",
    "La penalización $L_2$ es continuamente diferenciable y agregarla a la función de pérdida no presenta mayores problemas.\n",
    "\n",
    "La penalización $L_1$ no es diferenciable en el 0. Pero incluso si usáramos subgradientes, en el mejor de los casos fluctuaríamos entre coeficientes casi nulos, pero nunca -excepto de causalidad- exactamente nulos.\n",
    "\n",
    "Existen heurísticas obvias pero *malas*: truncar a 0 por debajo de cierto threshold, o truncar si un coeficiente cambia de signo. Cada vez que truncamos *acumulamos errores* de una iteración a otra.\n",
    "\n",
    "La estrategia que usa Scikit es truncar usando la penalización $L_1$ acumulada (sin truncar). Otro enfoque, que proviene de la literatura de optimización convexa online (OCO), consiste en reformular el descenso como un problema llamado Follow the Regularized Leader - Proximal (FTRL-P), que regulariza en cada paso la secuencia completa de gradientes hasta el momento, en lugar de cada descenso."
   ]
  },
  {
   "attachments": {
    "Penalidades.png": {
     "image/png": "[encoded data removed]"
    }
   },
   "cell_type": "markdown",
   "metadata": {
    "slideshow": {
     "slide_type": "slide"
    }
   },
   "source": [
    "## Regularización\n",
    "\n",
    "Scikit implementa ElasticNet, una combinación ponderada entre $L_1$ y $L_2$. La combinación es controlada por dos hiperparámetros:\n",
    "* `l1_ratio` se mueve entre 0 y 1, con 0 correspondiendo a solo Ridge y 1 a solo Lasso.\n",
    "* `alpha` controla el nivel de regularización (sea Ridge, Lasso o una combinación entre ambas).\n",
    "\n",
    "La siguiente figura muestra las curvas de nivel de radio 1 para las distintas penalizaciones:\n",
    "\n",
    "![Penalidades.png](attachment:Penalidades.png)"
   ]
  },
  {
   "cell_type": "markdown",
   "metadata": {
    "slideshow": {
     "slide_type": "slide"
    }
   },
   "source": [
    "## Bibliografía\n",
    "\n",
    "* Bottou \"Large-Scale Machine Learning with Stochastic Gradient Descent\" [Link](https://leon.bottou.org/publications/pdf/compstat-2010.pdf)\n",
    "* Bottou, Bousquet \"The Tradeoffs of Large Scale Learning\" [Link](https://papers.nips.cc/paper/3323-the-tradeoffs-of-large-scale-learning.pdf)\n",
    "* Duchi, Hazan, Singer. “Adaptive subgradient methods for online learning and stochastic optimization” [Link](http://www.jmlr.org/papers/volume12/duchi11a/duchi11a.pdf)\n",
    "* McMahan “A unified view of regularized dual averaging and mirror descent with implicit updates” [Link](http://www.jmlr.org/proceedings/papers/v15/mcmahan11b/mcmahan11b.pdf)\n",
    "* McMahan et al. “Ad click prediction: a view from the trenches” [Link](https://www.eecs.tufts.edu/~dsculley/papers/ad-click-prediction.pdf)\n",
    "* Tsuruoka \"Stochastic Gradient Descent Training for L1-regularized Log-linear Models with Cumulative Penalty\" [Link](https://www.aclweb.org/anthology/P09-1054)\n",
    "* Scikit User Guide \"SGD\" [Link](https://scikit-learn.org/stable/modules/sgd.html)\n"
   ]
  },
  {
   "cell_type": "code",
   "execution_count": null,
   "metadata": {},
   "outputs": [],
   "source": []
  }
 ],
 "metadata": {
  "celltoolbar": "Edit Metadata",
  "kernelspec": {
   "display_name": "Python 3",
   "language": "python",
   "name": "python3"
  },
  "language_info": {
   "codemirror_mode": {
    "name": "ipython",
    "version": 3
   },
   "file_extension": ".py",
   "mimetype": "text/x-python",
   "name": "python",
   "nbconvert_exporter": "python",
   "pygments_lexer": "ipython3",
   "version": "3.6.7"
  }
 },
 "nbformat": 4,
 "nbformat_minor": 2
}
