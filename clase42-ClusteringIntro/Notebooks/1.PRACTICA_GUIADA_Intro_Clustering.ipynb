{
 "cells": [
  {
   "cell_type": "markdown",
   "metadata": {
    "colab_type": "text",
    "id": "dnXLhblwRaou"
   },
   "source": [
    "# Práctica Guiada: Clustering\n",
    "\n",
    "## 1. Preparando los datos"
   ]
  },
  {
   "cell_type": "markdown",
   "metadata": {
    "colab_type": "text",
    "id": "wj5aL_OwRaoy"
   },
   "source": [
    "# <center>\n",
    "<img src='https://encrypted-tbn0.gstatic.com/images?q=tbn:ANd9GcR_z4GT2bY3HmLtHlRmRVm1oygMgUUvz6o8ryX3vAMo65iIftAD'>\n"
   ]
  },
  {
   "cell_type": "markdown",
   "metadata": {
    "colab_type": "text",
    "id": "X-mnDCEARaoz"
   },
   "source": [
    "### Introducción\n",
    "\n",
    "**Objetivo:** Realizar una análisis de clustering a partir del algoritmo _k-means_ utilizando el viejo y ya ampliamente conocido dataset de _iris_"
   ]
  },
  {
   "cell_type": "markdown",
   "metadata": {
    "colab_type": "text",
    "id": "mPiGR0OERao2"
   },
   "source": [
    "Primero vamos a importar las librerías necesarias:"
   ]
  },
  {
   "cell_type": "code",
   "execution_count": 1,
   "metadata": {
    "colab": {},
    "colab_type": "code",
    "id": "zF7yQpbDRao3"
   },
   "outputs": [],
   "source": [
    "%matplotlib inline\n",
    "\n",
    "import pandas as pd\n",
    "import numpy as np\n",
    "from sklearn import cluster\n",
    "from sklearn import metrics\n",
    "from sklearn.metrics import pairwise_distances\n",
    "from sklearn import cluster, datasets\n",
    "import matplotlib.pyplot as plt\n",
    "import matplotlib\n",
    "matplotlib.style.use('ggplot')"
   ]
  },
  {
   "cell_type": "markdown",
   "metadata": {
    "colab_type": "text",
    "id": "CZdq9384Rao_"
   },
   "source": [
    "Usaremos **Scikit-Learn** para nuestro análisis"
   ]
  },
  {
   "cell_type": "code",
   "execution_count": 2,
   "metadata": {
    "colab": {},
    "colab_type": "code",
    "id": "C-vBfCZwRapB"
   },
   "outputs": [],
   "source": [
    "#Importamos IRIS data set\n",
    "iris_dataset = datasets.load_iris()"
   ]
  },
  {
   "cell_type": "markdown",
   "metadata": {
    "colab_type": "text",
    "id": "wK_KlXL0RapG"
   },
   "source": [
    "Dado que este dataset ya está \"formateado\" del modo que `sklearn` necesita, es posible utilizar los métodos que tiene este objeto para ver la información:"
   ]
  },
  {
   "cell_type": "code",
   "execution_count": 3,
   "metadata": {
    "colab": {
     "base_uri": "https://localhost:8080/",
     "height": 2567
    },
    "colab_type": "code",
    "executionInfo": {
     "elapsed": 1119,
     "status": "ok",
     "timestamp": 1539064287516,
     "user": {
      "displayName": "Pablo Roccatagliata",
      "photoUrl": "",
      "userId": "16888717367980038363"
     },
     "user_tz": 180
    },
    "id": "ZY7z2Rt9RapI",
    "outputId": "094664c3-c0db-455b-a826-5f08f541b32f"
   },
   "outputs": [
    {
     "data": {
      "text/plain": [
       "array([[5.1, 3.5, 1.4, 0.2],\n",
       "       [4.9, 3. , 1.4, 0.2],\n",
       "       [4.7, 3.2, 1.3, 0.2],\n",
       "       [4.6, 3.1, 1.5, 0.2],\n",
       "       [5. , 3.6, 1.4, 0.2],\n",
       "       [5.4, 3.9, 1.7, 0.4],\n",
       "       [4.6, 3.4, 1.4, 0.3],\n",
       "       [5. , 3.4, 1.5, 0.2],\n",
       "       [4.4, 2.9, 1.4, 0.2],\n",
       "       [4.9, 3.1, 1.5, 0.1],\n",
       "       [5.4, 3.7, 1.5, 0.2],\n",
       "       [4.8, 3.4, 1.6, 0.2],\n",
       "       [4.8, 3. , 1.4, 0.1],\n",
       "       [4.3, 3. , 1.1, 0.1],\n",
       "       [5.8, 4. , 1.2, 0.2],\n",
       "       [5.7, 4.4, 1.5, 0.4],\n",
       "       [5.4, 3.9, 1.3, 0.4],\n",
       "       [5.1, 3.5, 1.4, 0.3],\n",
       "       [5.7, 3.8, 1.7, 0.3],\n",
       "       [5.1, 3.8, 1.5, 0.3],\n",
       "       [5.4, 3.4, 1.7, 0.2],\n",
       "       [5.1, 3.7, 1.5, 0.4],\n",
       "       [4.6, 3.6, 1. , 0.2],\n",
       "       [5.1, 3.3, 1.7, 0.5],\n",
       "       [4.8, 3.4, 1.9, 0.2],\n",
       "       [5. , 3. , 1.6, 0.2],\n",
       "       [5. , 3.4, 1.6, 0.4],\n",
       "       [5.2, 3.5, 1.5, 0.2],\n",
       "       [5.2, 3.4, 1.4, 0.2],\n",
       "       [4.7, 3.2, 1.6, 0.2],\n",
       "       [4.8, 3.1, 1.6, 0.2],\n",
       "       [5.4, 3.4, 1.5, 0.4],\n",
       "       [5.2, 4.1, 1.5, 0.1],\n",
       "       [5.5, 4.2, 1.4, 0.2],\n",
       "       [4.9, 3.1, 1.5, 0.2],\n",
       "       [5. , 3.2, 1.2, 0.2],\n",
       "       [5.5, 3.5, 1.3, 0.2],\n",
       "       [4.9, 3.6, 1.4, 0.1],\n",
       "       [4.4, 3. , 1.3, 0.2],\n",
       "       [5.1, 3.4, 1.5, 0.2],\n",
       "       [5. , 3.5, 1.3, 0.3],\n",
       "       [4.5, 2.3, 1.3, 0.3],\n",
       "       [4.4, 3.2, 1.3, 0.2],\n",
       "       [5. , 3.5, 1.6, 0.6],\n",
       "       [5.1, 3.8, 1.9, 0.4],\n",
       "       [4.8, 3. , 1.4, 0.3],\n",
       "       [5.1, 3.8, 1.6, 0.2],\n",
       "       [4.6, 3.2, 1.4, 0.2],\n",
       "       [5.3, 3.7, 1.5, 0.2],\n",
       "       [5. , 3.3, 1.4, 0.2],\n",
       "       [7. , 3.2, 4.7, 1.4],\n",
       "       [6.4, 3.2, 4.5, 1.5],\n",
       "       [6.9, 3.1, 4.9, 1.5],\n",
       "       [5.5, 2.3, 4. , 1.3],\n",
       "       [6.5, 2.8, 4.6, 1.5],\n",
       "       [5.7, 2.8, 4.5, 1.3],\n",
       "       [6.3, 3.3, 4.7, 1.6],\n",
       "       [4.9, 2.4, 3.3, 1. ],\n",
       "       [6.6, 2.9, 4.6, 1.3],\n",
       "       [5.2, 2.7, 3.9, 1.4],\n",
       "       [5. , 2. , 3.5, 1. ],\n",
       "       [5.9, 3. , 4.2, 1.5],\n",
       "       [6. , 2.2, 4. , 1. ],\n",
       "       [6.1, 2.9, 4.7, 1.4],\n",
       "       [5.6, 2.9, 3.6, 1.3],\n",
       "       [6.7, 3.1, 4.4, 1.4],\n",
       "       [5.6, 3. , 4.5, 1.5],\n",
       "       [5.8, 2.7, 4.1, 1. ],\n",
       "       [6.2, 2.2, 4.5, 1.5],\n",
       "       [5.6, 2.5, 3.9, 1.1],\n",
       "       [5.9, 3.2, 4.8, 1.8],\n",
       "       [6.1, 2.8, 4. , 1.3],\n",
       "       [6.3, 2.5, 4.9, 1.5],\n",
       "       [6.1, 2.8, 4.7, 1.2],\n",
       "       [6.4, 2.9, 4.3, 1.3],\n",
       "       [6.6, 3. , 4.4, 1.4],\n",
       "       [6.8, 2.8, 4.8, 1.4],\n",
       "       [6.7, 3. , 5. , 1.7],\n",
       "       [6. , 2.9, 4.5, 1.5],\n",
       "       [5.7, 2.6, 3.5, 1. ],\n",
       "       [5.5, 2.4, 3.8, 1.1],\n",
       "       [5.5, 2.4, 3.7, 1. ],\n",
       "       [5.8, 2.7, 3.9, 1.2],\n",
       "       [6. , 2.7, 5.1, 1.6],\n",
       "       [5.4, 3. , 4.5, 1.5],\n",
       "       [6. , 3.4, 4.5, 1.6],\n",
       "       [6.7, 3.1, 4.7, 1.5],\n",
       "       [6.3, 2.3, 4.4, 1.3],\n",
       "       [5.6, 3. , 4.1, 1.3],\n",
       "       [5.5, 2.5, 4. , 1.3],\n",
       "       [5.5, 2.6, 4.4, 1.2],\n",
       "       [6.1, 3. , 4.6, 1.4],\n",
       "       [5.8, 2.6, 4. , 1.2],\n",
       "       [5. , 2.3, 3.3, 1. ],\n",
       "       [5.6, 2.7, 4.2, 1.3],\n",
       "       [5.7, 3. , 4.2, 1.2],\n",
       "       [5.7, 2.9, 4.2, 1.3],\n",
       "       [6.2, 2.9, 4.3, 1.3],\n",
       "       [5.1, 2.5, 3. , 1.1],\n",
       "       [5.7, 2.8, 4.1, 1.3],\n",
       "       [6.3, 3.3, 6. , 2.5],\n",
       "       [5.8, 2.7, 5.1, 1.9],\n",
       "       [7.1, 3. , 5.9, 2.1],\n",
       "       [6.3, 2.9, 5.6, 1.8],\n",
       "       [6.5, 3. , 5.8, 2.2],\n",
       "       [7.6, 3. , 6.6, 2.1],\n",
       "       [4.9, 2.5, 4.5, 1.7],\n",
       "       [7.3, 2.9, 6.3, 1.8],\n",
       "       [6.7, 2.5, 5.8, 1.8],\n",
       "       [7.2, 3.6, 6.1, 2.5],\n",
       "       [6.5, 3.2, 5.1, 2. ],\n",
       "       [6.4, 2.7, 5.3, 1.9],\n",
       "       [6.8, 3. , 5.5, 2.1],\n",
       "       [5.7, 2.5, 5. , 2. ],\n",
       "       [5.8, 2.8, 5.1, 2.4],\n",
       "       [6.4, 3.2, 5.3, 2.3],\n",
       "       [6.5, 3. , 5.5, 1.8],\n",
       "       [7.7, 3.8, 6.7, 2.2],\n",
       "       [7.7, 2.6, 6.9, 2.3],\n",
       "       [6. , 2.2, 5. , 1.5],\n",
       "       [6.9, 3.2, 5.7, 2.3],\n",
       "       [5.6, 2.8, 4.9, 2. ],\n",
       "       [7.7, 2.8, 6.7, 2. ],\n",
       "       [6.3, 2.7, 4.9, 1.8],\n",
       "       [6.7, 3.3, 5.7, 2.1],\n",
       "       [7.2, 3.2, 6. , 1.8],\n",
       "       [6.2, 2.8, 4.8, 1.8],\n",
       "       [6.1, 3. , 4.9, 1.8],\n",
       "       [6.4, 2.8, 5.6, 2.1],\n",
       "       [7.2, 3. , 5.8, 1.6],\n",
       "       [7.4, 2.8, 6.1, 1.9],\n",
       "       [7.9, 3.8, 6.4, 2. ],\n",
       "       [6.4, 2.8, 5.6, 2.2],\n",
       "       [6.3, 2.8, 5.1, 1.5],\n",
       "       [6.1, 2.6, 5.6, 1.4],\n",
       "       [7.7, 3. , 6.1, 2.3],\n",
       "       [6.3, 3.4, 5.6, 2.4],\n",
       "       [6.4, 3.1, 5.5, 1.8],\n",
       "       [6. , 3. , 4.8, 1.8],\n",
       "       [6.9, 3.1, 5.4, 2.1],\n",
       "       [6.7, 3.1, 5.6, 2.4],\n",
       "       [6.9, 3.1, 5.1, 2.3],\n",
       "       [5.8, 2.7, 5.1, 1.9],\n",
       "       [6.8, 3.2, 5.9, 2.3],\n",
       "       [6.7, 3.3, 5.7, 2.5],\n",
       "       [6.7, 3. , 5.2, 2.3],\n",
       "       [6.3, 2.5, 5. , 1.9],\n",
       "       [6.5, 3. , 5.2, 2. ],\n",
       "       [6.2, 3.4, 5.4, 2.3],\n",
       "       [5.9, 3. , 5.1, 1.8]])"
      ]
     },
     "execution_count": 3,
     "metadata": {},
     "output_type": "execute_result"
    }
   ],
   "source": [
    "iris_dataset.data"
   ]
  },
  {
   "cell_type": "code",
   "execution_count": 4,
   "metadata": {
    "colab": {},
    "colab_type": "code",
    "id": "s_nlrGOzRapR"
   },
   "outputs": [
    {
     "data": {
      "text/plain": [
       "['sepal length (cm)',\n",
       " 'sepal width (cm)',\n",
       " 'petal length (cm)',\n",
       " 'petal width (cm)']"
      ]
     },
     "execution_count": 4,
     "metadata": {},
     "output_type": "execute_result"
    }
   ],
   "source": [
    "iris_dataset.feature_names"
   ]
  },
  {
   "cell_type": "code",
   "execution_count": 5,
   "metadata": {
    "colab": {},
    "colab_type": "code",
    "id": "le3ZQ7kLRapX"
   },
   "outputs": [],
   "source": [
    "y = iris_dataset.target"
   ]
  },
  {
   "cell_type": "code",
   "execution_count": 6,
   "metadata": {
    "colab": {
     "base_uri": "https://localhost:8080/",
     "height": 136
    },
    "colab_type": "code",
    "executionInfo": {
     "elapsed": 684,
     "status": "ok",
     "timestamp": 1539064388776,
     "user": {
      "displayName": "Pablo Roccatagliata",
      "photoUrl": "",
      "userId": "16888717367980038363"
     },
     "user_tz": 180
    },
    "id": "CPxKP7xJRapc",
    "outputId": "5c75b20b-f3f3-444b-db75-ec74124d2eb4"
   },
   "outputs": [
    {
     "data": {
      "text/plain": [
       "array([0, 0, 0, 0, 0, 0, 0, 0, 0, 0, 0, 0, 0, 0, 0, 0, 0, 0, 0, 0, 0, 0,\n",
       "       0, 0, 0, 0, 0, 0, 0, 0, 0, 0, 0, 0, 0, 0, 0, 0, 0, 0, 0, 0, 0, 0,\n",
       "       0, 0, 0, 0, 0, 0, 1, 1, 1, 1, 1, 1, 1, 1, 1, 1, 1, 1, 1, 1, 1, 1,\n",
       "       1, 1, 1, 1, 1, 1, 1, 1, 1, 1, 1, 1, 1, 1, 1, 1, 1, 1, 1, 1, 1, 1,\n",
       "       1, 1, 1, 1, 1, 1, 1, 1, 1, 1, 1, 1, 2, 2, 2, 2, 2, 2, 2, 2, 2, 2,\n",
       "       2, 2, 2, 2, 2, 2, 2, 2, 2, 2, 2, 2, 2, 2, 2, 2, 2, 2, 2, 2, 2, 2,\n",
       "       2, 2, 2, 2, 2, 2, 2, 2, 2, 2, 2, 2, 2, 2, 2, 2, 2, 2])"
      ]
     },
     "execution_count": 6,
     "metadata": {},
     "output_type": "execute_result"
    }
   ],
   "source": [
    "y"
   ]
  },
  {
   "cell_type": "code",
   "execution_count": 7,
   "metadata": {},
   "outputs": [
    {
     "data": {
      "text/plain": [
       "array(['setosa', 'versicolor', 'virginica'], dtype='<U10')"
      ]
     },
     "execution_count": 7,
     "metadata": {},
     "output_type": "execute_result"
    }
   ],
   "source": [
    "iris_dataset.target_names"
   ]
  },
  {
   "cell_type": "code",
   "execution_count": 8,
   "metadata": {
    "colab": {
     "base_uri": "https://localhost:8080/",
     "height": 204
    },
    "colab_type": "code",
    "executionInfo": {
     "elapsed": 713,
     "status": "ok",
     "timestamp": 1539064307694,
     "user": {
      "displayName": "Pablo Roccatagliata",
      "photoUrl": "",
      "userId": "16888717367980038363"
     },
     "user_tz": 180
    },
    "id": "j2NRIJdURapl",
    "outputId": "9e3c3e9f-9b34-41ca-feb2-eb99a2bfc961"
   },
   "outputs": [
    {
     "data": {
      "text/html": [
       "<div>\n",
       "<style scoped>\n",
       "    .dataframe tbody tr th:only-of-type {\n",
       "        vertical-align: middle;\n",
       "    }\n",
       "\n",
       "    .dataframe tbody tr th {\n",
       "        vertical-align: top;\n",
       "    }\n",
       "\n",
       "    .dataframe thead th {\n",
       "        text-align: right;\n",
       "    }\n",
       "</style>\n",
       "<table border=\"1\" class=\"dataframe\">\n",
       "  <thead>\n",
       "    <tr style=\"text-align: right;\">\n",
       "      <th></th>\n",
       "      <th>SepalLength</th>\n",
       "      <th>SepalWidth</th>\n",
       "      <th>PetalLength</th>\n",
       "      <th>PetalWidth</th>\n",
       "    </tr>\n",
       "  </thead>\n",
       "  <tbody>\n",
       "    <tr>\n",
       "      <th>0</th>\n",
       "      <td>5.1</td>\n",
       "      <td>3.5</td>\n",
       "      <td>1.4</td>\n",
       "      <td>0.2</td>\n",
       "    </tr>\n",
       "    <tr>\n",
       "      <th>1</th>\n",
       "      <td>4.9</td>\n",
       "      <td>3.0</td>\n",
       "      <td>1.4</td>\n",
       "      <td>0.2</td>\n",
       "    </tr>\n",
       "    <tr>\n",
       "      <th>2</th>\n",
       "      <td>4.7</td>\n",
       "      <td>3.2</td>\n",
       "      <td>1.3</td>\n",
       "      <td>0.2</td>\n",
       "    </tr>\n",
       "    <tr>\n",
       "      <th>3</th>\n",
       "      <td>4.6</td>\n",
       "      <td>3.1</td>\n",
       "      <td>1.5</td>\n",
       "      <td>0.2</td>\n",
       "    </tr>\n",
       "    <tr>\n",
       "      <th>4</th>\n",
       "      <td>5.0</td>\n",
       "      <td>3.6</td>\n",
       "      <td>1.4</td>\n",
       "      <td>0.2</td>\n",
       "    </tr>\n",
       "  </tbody>\n",
       "</table>\n",
       "</div>"
      ],
      "text/plain": [
       "   SepalLength  SepalWidth  PetalLength  PetalWidth\n",
       "0          5.1         3.5          1.4         0.2\n",
       "1          4.9         3.0          1.4         0.2\n",
       "2          4.7         3.2          1.3         0.2\n",
       "3          4.6         3.1          1.5         0.2\n",
       "4          5.0         3.6          1.4         0.2"
      ]
     },
     "execution_count": 8,
     "metadata": {},
     "output_type": "execute_result"
    }
   ],
   "source": [
    "#Armamos las primeras cuatro columnas\n",
    "df = pd.DataFrame(iris_dataset.data,  columns=['SepalLength', 'SepalWidth', 'PetalLength', 'PetalWidth'])\n",
    "\n",
    "#Revisamos las primeras filas\n",
    "df.head(n=5)"
   ]
  },
  {
   "cell_type": "markdown",
   "metadata": {
    "colab_type": "text",
    "id": "vEq1NRvlRapx"
   },
   "source": [
    "Ahora vamos a plotear los datos para ver las distribuciones:"
   ]
  },
  {
   "cell_type": "code",
   "execution_count": 9,
   "metadata": {
    "colab": {
     "base_uri": "https://localhost:8080/",
     "height": 300
    },
    "colab_type": "code",
    "executionInfo": {
     "elapsed": 739,
     "status": "ok",
     "timestamp": 1539064313178,
     "user": {
      "displayName": "Pablo Roccatagliata",
      "photoUrl": "",
      "userId": "16888717367980038363"
     },
     "user_tz": 180
    },
    "id": "cc2oeX73Rapy",
    "outputId": "322c5457-42e7-4e7b-efb4-973b93766631",
    "scrolled": true
   },
   "outputs": [
    {
     "data": {
      "image/png": "[encoded data removed]",
      "text/plain": [
       "<Figure size 432x288 with 1 Axes>"
      ]
     },
     "metadata": {
      "needs_background": "light"
     },
     "output_type": "display_data"
    }
   ],
   "source": [
    "df.plot(kind='scatter',x='PetalLength',y='SepalWidth');"
   ]
  },
  {
   "cell_type": "markdown",
   "metadata": {
    "colab_type": "text",
    "id": "QCv4dFAvRap4"
   },
   "source": [
    "Si ejecutamos este gráfico varias veces usando combinaciones de factores diferentes - podemos ver que independientemente de los factores que tracemos, parece que hay dos grupos distintos emergentes - esto nos ayudará con la siguiente parte de nuestro análisis: ejecutar la prueba k-means"
   ]
  },
  {
   "cell_type": "code",
   "execution_count": 10,
   "metadata": {
    "colab": {
     "base_uri": "https://localhost:8080/",
     "height": 298
    },
    "colab_type": "code",
    "executionInfo": {
     "elapsed": 803,
     "status": "ok",
     "timestamp": 1539064317418,
     "user": {
      "displayName": "Pablo Roccatagliata",
      "photoUrl": "",
      "userId": "16888717367980038363"
     },
     "user_tz": 180
    },
    "id": "A82wox3jRap6",
    "outputId": "218a01d6-b5fa-402f-8611-92fdfa3bc081"
   },
   "outputs": [
    {
     "data": {
      "image/png": "[encoded data removed]",
      "text/plain": [
       "<Figure size 432x288 with 1 Axes>"
      ]
     },
     "metadata": {
      "needs_background": "light"
     },
     "output_type": "display_data"
    }
   ],
   "source": [
    "df.plot(kind='scatter',x='PetalLength',y='PetalWidth');"
   ]
  },
  {
   "cell_type": "code",
   "execution_count": 11,
   "metadata": {
    "colab": {
     "base_uri": "https://localhost:8080/",
     "height": 300
    },
    "colab_type": "code",
    "executionInfo": {
     "elapsed": 1630,
     "status": "ok",
     "timestamp": 1539064319239,
     "user": {
      "displayName": "Pablo Roccatagliata",
      "photoUrl": "",
      "userId": "16888717367980038363"
     },
     "user_tz": 180
    },
    "id": "KHGURTSsRap_",
    "outputId": "a6b7cf57-568d-4fa0-97e4-4a6fde3caf0e"
   },
   "outputs": [
    {
     "data": {
      "image/png": "[encoded data removed]",
      "text/plain": [
       "<Figure size 432x288 with 1 Axes>"
      ]
     },
     "metadata": {
      "needs_background": "light"
     },
     "output_type": "display_data"
    }
   ],
   "source": [
    "df.plot(kind='scatter',x='SepalLength',y='SepalWidth');"
   ]
  },
  {
   "cell_type": "markdown",
   "metadata": {
    "colab_type": "text",
    "id": "A_8x8CEtRaqF"
   },
   "source": [
    "## 2. Implementando el clustering"
   ]
  },
  {
   "cell_type": "markdown",
   "metadata": {
    "colab_type": "text",
    "id": "9-NW972PRaqG"
   },
   "source": [
    "#### Antes de realizar la prueba de k-means, todavía hay algunas transformaciones que hacer:"
   ]
  },
  {
   "cell_type": "markdown",
   "metadata": {
    "colab_type": "text",
    "id": "WkvSq57TV7TO"
   },
   "source": [
    "¿Necesitamos normalizar? ¿Pueden tener escalas distintas los features que se usan para calcular distancias?"
   ]
  },
  {
   "cell_type": "code",
   "execution_count": 12,
   "metadata": {
    "colab": {},
    "colab_type": "code",
    "id": "EZxHM1QeS_hq"
   },
   "outputs": [],
   "source": [
    "from sklearn.preprocessing import StandardScaler\n",
    "scaler = StandardScaler()\n",
    "\n",
    "X = scaler.fit_transform(df)"
   ]
  },
  {
   "cell_type": "markdown",
   "metadata": {
    "colab_type": "text",
    "id": "LsVY8xy1RaqO"
   },
   "source": [
    "Vamos a establecer __k=2__ dado el comportamiento que vimos arriba en nuestros gráficos."
   ]
  },
  {
   "cell_type": "code",
   "execution_count": 13,
   "metadata": {
    "colab": {
     "base_uri": "https://localhost:8080/",
     "height": 68
    },
    "colab_type": "code",
    "executionInfo": {
     "elapsed": 669,
     "status": "ok",
     "timestamp": 1539064327833,
     "user": {
      "displayName": "Pablo Roccatagliata",
      "photoUrl": "",
      "userId": "16888717367980038363"
     },
     "user_tz": 180
    },
    "id": "pvyiLoCPRaqP",
    "outputId": "86e04a49-d970-4e45-9ac0-837329d3cc90"
   },
   "outputs": [
    {
     "data": {
      "text/plain": [
       "KMeans(algorithm='auto', copy_x=True, init='k-means++', max_iter=300,\n",
       "       n_clusters=2, n_init=10, n_jobs=None, precompute_distances='auto',\n",
       "       random_state=0, tol=0.0001, verbose=0)"
      ]
     },
     "execution_count": 13,
     "metadata": {},
     "output_type": "execute_result"
    }
   ],
   "source": [
    "k = 2\n",
    "\n",
    "#Como siempre, suele ser una buena práctica fijar la semilla\n",
    "kmeans = cluster.KMeans(n_clusters=k, random_state=0) \n",
    "\n",
    "kmeans.fit(X)"
   ]
  },
  {
   "cell_type": "markdown",
   "metadata": {
    "colab_type": "text",
    "id": "sIRtdKpqRaqX"
   },
   "source": [
    "Podemos llamar a los atributos del modelo para obtener las ubicaciones de los centroides y sus etiquetas:"
   ]
  },
  {
   "cell_type": "code",
   "execution_count": 14,
   "metadata": {
    "colab": {},
    "colab_type": "code",
    "id": "TtABuZsCRaqY"
   },
   "outputs": [],
   "source": [
    "labels = kmeans.labels_\n",
    "centroids = kmeans.cluster_centers_"
   ]
  },
  {
   "cell_type": "code",
   "execution_count": 15,
   "metadata": {},
   "outputs": [
    {
     "data": {
      "text/plain": [
       "array([0, 0, 0, 0, 0, 0, 0, 0, 0, 0, 0, 0, 0, 0, 0, 0, 0, 0, 0, 0, 0, 0,\n",
       "       0, 0, 0, 0, 0, 0, 0, 0, 0, 0, 0, 0, 0, 0, 0, 0, 0, 0, 0, 0, 0, 0,\n",
       "       0, 0, 0, 0, 0, 0, 1, 1, 1, 1, 1, 1, 1, 1, 1, 1, 1, 1, 1, 1, 1, 1,\n",
       "       1, 1, 1, 1, 1, 1, 1, 1, 1, 1, 1, 1, 1, 1, 1, 1, 1, 1, 1, 1, 1, 1,\n",
       "       1, 1, 1, 1, 1, 1, 1, 1, 1, 1, 1, 1, 1, 1, 1, 1, 1, 1, 1, 1, 1, 1,\n",
       "       1, 1, 1, 1, 1, 1, 1, 1, 1, 1, 1, 1, 1, 1, 1, 1, 1, 1, 1, 1, 1, 1,\n",
       "       1, 1, 1, 1, 1, 1, 1, 1, 1, 1, 1, 1, 1, 1, 1, 1, 1, 1])"
      ]
     },
     "execution_count": 15,
     "metadata": {},
     "output_type": "execute_result"
    }
   ],
   "source": [
    "labels"
   ]
  },
  {
   "cell_type": "code",
   "execution_count": 16,
   "metadata": {},
   "outputs": [
    {
     "data": {
      "text/plain": [
       "array([[-1.01457897,  0.85326268, -1.30498732, -1.25489349],\n",
       "       [ 0.50728948, -0.42663134,  0.65249366,  0.62744675]])"
      ]
     },
     "execution_count": 16,
     "metadata": {},
     "output_type": "execute_result"
    }
   ],
   "source": [
    "centroids"
   ]
  },
  {
   "cell_type": "markdown",
   "metadata": {},
   "source": [
    "Otra forma de obtener las etiquetas es utilizar el método **fit_predict()**:"
   ]
  },
  {
   "cell_type": "code",
   "execution_count": 17,
   "metadata": {},
   "outputs": [
    {
     "data": {
      "text/plain": [
       "array([0, 0, 0, 0, 0, 0, 0, 0, 0, 0, 0, 0, 0, 0, 0, 0, 0, 0, 0, 0, 0, 0,\n",
       "       0, 0, 0, 0, 0, 0, 0, 0, 0, 0, 0, 0, 0, 0, 0, 0, 0, 0, 0, 0, 0, 0,\n",
       "       0, 0, 0, 0, 0, 0, 1, 1, 1, 1, 1, 1, 1, 1, 1, 1, 1, 1, 1, 1, 1, 1,\n",
       "       1, 1, 1, 1, 1, 1, 1, 1, 1, 1, 1, 1, 1, 1, 1, 1, 1, 1, 1, 1, 1, 1,\n",
       "       1, 1, 1, 1, 1, 1, 1, 1, 1, 1, 1, 1, 1, 1, 1, 1, 1, 1, 1, 1, 1, 1,\n",
       "       1, 1, 1, 1, 1, 1, 1, 1, 1, 1, 1, 1, 1, 1, 1, 1, 1, 1, 1, 1, 1, 1,\n",
       "       1, 1, 1, 1, 1, 1, 1, 1, 1, 1, 1, 1, 1, 1, 1, 1, 1, 1])"
      ]
     },
     "execution_count": 17,
     "metadata": {},
     "output_type": "execute_result"
    }
   ],
   "source": [
    "labels2 = kmeans.fit_predict(X)\n",
    "labels2"
   ]
  },
  {
   "cell_type": "markdown",
   "metadata": {},
   "source": [
    "Con el método **fit_transform()** obtenemos las distancias de cada observación con los clusters:"
   ]
  },
  {
   "cell_type": "code",
   "execution_count": 18,
   "metadata": {},
   "outputs": [
    {
     "data": {
      "text/plain": [
       "array([[0.21295824, 3.43773228],\n",
       "       [0.99604549, 3.24901374],\n",
       "       [0.65198444, 3.48248472],\n",
       "       [0.9034561 , 3.44287155],\n",
       "       [0.40215457, 3.59060418],\n",
       "       [1.21154793, 3.58224168],\n",
       "       [0.50244932, 3.57551603],\n",
       "       [0.09132468, 3.36719825],\n",
       "       [1.42174651, 3.58330956],\n",
       "       [0.78993078, 3.32419403],\n",
       "       [0.78999385, 3.49947517],\n",
       "       [0.27618123, 3.45268733],\n",
       "       [1.03497888, 3.39109439],\n",
       "       [1.33482453, 3.83688169],\n",
       "       [1.63865558, 3.90736864],\n",
       "       [2.39898792, 4.40507073],\n",
       "       [1.20748818, 3.70306633],\n",
       "       [0.21618828, 3.36509083],\n",
       "       [1.20986655, 3.41002536],\n",
       "       [0.86706182, 3.68431046],\n",
       "       [0.50401564, 3.1086123 ],\n",
       "       [0.66826437, 3.49057539],\n",
       "       [0.68658071, 3.94555207],\n",
       "       [0.47945627, 2.94445446],\n",
       "       [0.36345425, 3.36293379],\n",
       "       [0.99023912, 3.11941041],\n",
       "       [0.22683089, 3.18865387],\n",
       "       [0.2947186 , 3.35681272],\n",
       "       [0.25361098, 3.29831965],\n",
       "       [0.65019824, 3.38494088],\n",
       "       [0.80138328, 3.27402262],\n",
       "       [0.52309257, 3.02274561],\n",
       "       [1.57658655, 4.2069039 ],\n",
       "       [1.87652483, 4.23598507],\n",
       "       [0.76858489, 3.24367769],\n",
       "       [0.54896332, 3.33467897],\n",
       "       [0.63079314, 3.3042179 ],\n",
       "       [0.45982568, 3.7157107 ],\n",
       "       [1.2336976 , 3.62664106],\n",
       "       [0.14580827, 3.31393132],\n",
       "       [0.20261743, 3.45101032],\n",
       "       [2.67055552, 3.71123182],\n",
       "       [0.90927099, 3.6926683 ],\n",
       "       [0.50081008, 3.15674211],\n",
       "       [0.92159916, 3.50514961],\n",
       "       [1.01946042, 3.23674732],\n",
       "       [0.86953764, 3.72175762],\n",
       "       [0.72275914, 3.51728356],\n",
       "       [0.72324305, 3.53753019],\n",
       "       [0.30295342, 3.32486482],\n",
       "       [3.43619989, 1.23102408],\n",
       "       [2.97232682, 0.83962828],\n",
       "       [3.51850037, 0.9626826 ],\n",
       "       [3.33264308, 1.75965353],\n",
       "       [3.35747592, 0.44108312],\n",
       "       [2.77550662, 0.88847864],\n",
       "       [3.01808184, 0.99826808],\n",
       "       [2.77360088, 2.3513996 ],\n",
       "       [3.21148368, 0.6686518 ],\n",
       "       [2.66294828, 1.5071684 ],\n",
       "       [3.62389817, 2.79249004],\n",
       "       [2.70011145, 0.70278417],\n",
       "       [3.53658932, 1.88433636],\n",
       "       [2.98813829, 0.43403261],\n",
       "       [2.32311723, 1.20147254],\n",
       "       [3.14311522, 0.8785371 ],\n",
       "       [2.68234835, 0.91496269],\n",
       "       [2.63954211, 1.21318035],\n",
       "       [3.97369206, 1.58288803],\n",
       "       [2.87494798, 1.5094787 ],\n",
       "       [3.03853641, 0.8903705 ],\n",
       "       [2.8022861 , 0.7590349 ],\n",
       "       [3.68305664, 0.88831769],\n",
       "       [2.96833851, 0.68723992],\n",
       "       [2.9760862 , 0.62905658],\n",
       "       [3.13002382, 0.6850193 ],\n",
       "       [3.56679427, 0.76683904],\n",
       "       [3.5903606 , 0.61018925],\n",
       "       [2.93839428, 0.46027988],\n",
       "       [2.58203512, 1.51201051],\n",
       "       [2.99796537, 1.7329342 ],\n",
       "       [2.92597852, 1.81512655],\n",
       "       [2.68907313, 1.09071757],\n",
       "       [3.42215998, 0.52888029],\n",
       "       [2.62771445, 1.13342556],\n",
       "       [2.75915071, 1.28114432],\n",
       "       [3.30075052, 0.79025687],\n",
       "       [3.73017167, 1.43651   ],\n",
       "       [2.37943811, 1.08860528],\n",
       "       [2.98789866, 1.4477289 ],\n",
       "       [2.89079656, 1.31142208],\n",
       "       [2.86642713, 0.5362739 ],\n",
       "       [2.86642575, 1.16755121],\n",
       "       [2.96966239, 2.38685041],\n",
       "       [2.77003779, 1.09825495],\n",
       "       [2.38255534, 1.05078032],\n",
       "       [2.55559903, 0.93479822],\n",
       "       [2.8455521 , 0.61106143],\n",
       "       [2.56987887, 2.11285123],\n",
       "       [2.64007308, 0.97262974],\n",
       "       [4.24274589, 1.59245819],\n",
       "       [3.57067982, 0.75447778],\n",
       "       [4.44150237, 1.32231342],\n",
       "       [3.69480186, 0.4341759 ],\n",
       "       [4.11613683, 0.95075434],\n",
       "       [5.03326801, 1.98839789],\n",
       "       [3.3503222 , 1.87378329],\n",
       "       [4.577021  , 1.49680441],\n",
       "       [4.363498  , 1.14008676],\n",
       "       [4.79334275, 2.39524225],\n",
       "       [3.62749566, 0.92049271],\n",
       "       [3.89360823, 0.56728827],\n",
       "       [4.1132966 , 0.9681184 ],\n",
       "       [3.82688169, 1.17548388],\n",
       "       [3.91538879, 1.1230499 ],\n",
       "       [3.89835633, 1.15016312],\n",
       "       [3.70128288, 0.55732212],\n",
       "       [5.18341242, 3.01908438],\n",
       "       [5.58136629, 2.32101503],\n",
       "       [4.02615768, 1.59695833],\n",
       "       [4.31907679, 1.43039728],\n",
       "       [3.4288432 , 0.92346565],\n",
       "       [5.19031307, 2.07002726],\n",
       "       [3.64273089, 0.43074465],\n",
       "       [4.00723617, 1.32948154],\n",
       "       [4.2637671 , 1.50835309],\n",
       "       [3.45930032, 0.25176528],\n",
       "       [3.27575645, 0.3898768 ],\n",
       "       [4.05342943, 0.72285591],\n",
       "       [4.1585729 , 1.28326804],\n",
       "       [4.71100584, 1.57362632],\n",
       "       [5.12224641, 3.06684911],\n",
       "       [4.13401784, 0.82872247],\n",
       "       [3.39830644, 0.30890262],\n",
       "       [3.63719075, 0.84744227],\n",
       "       [5.08776655, 2.0634874 ],\n",
       "       [4.00416552, 1.5947556 ],\n",
       "       [3.58815834, 0.66637174],\n",
       "       [3.19454679, 0.46676791],\n",
       "       [4.09907253, 1.12401426],\n",
       "       [4.28416057, 1.27316864],\n",
       "       [4.17402084, 1.24896168],\n",
       "       [3.57067982, 0.75447778],\n",
       "       [4.32128686, 1.41028457],\n",
       "       [4.3480018 , 1.62249395],\n",
       "       [4.1240495 , 1.03492732],\n",
       "       [3.97564407, 0.90841568],\n",
       "       [3.7539635 , 0.61627738],\n",
       "       [3.7969924 , 1.49547454],\n",
       "       [3.25638099, 0.56392756]])"
      ]
     },
     "execution_count": 18,
     "metadata": {},
     "output_type": "execute_result"
    }
   ],
   "source": [
    "dist = kmeans.fit_transform(X)\n",
    "dist"
   ]
  },
  {
   "cell_type": "markdown",
   "metadata": {
    "colab_type": "text",
    "id": "VDazYakvRaqc"
   },
   "source": [
    "## 3. Visualizando los clusters"
   ]
  },
  {
   "cell_type": "code",
   "execution_count": 19,
   "metadata": {},
   "outputs": [
    {
     "data": {
      "image/png": "[encoded data removed]",
      "text/plain": [
       "<Figure size 864x864 with 4 Axes>"
      ]
     },
     "metadata": {
      "needs_background": "light"
     },
     "output_type": "display_data"
    }
   ],
   "source": [
    "plt.figure(figsize=(12, 12))\n",
    "\n",
    "ax1=plt.subplot(221)\n",
    "#puntos\n",
    "ax1.scatter(X[:, 0], X[:, 1], c=labels,alpha=0.5,s=30)\n",
    "#centroides\n",
    "ax1.scatter(centroids[0][0],centroids[0][1], c='g',s=200,marker=u'^')\n",
    "ax1.scatter(centroids[1][0],centroids[1][1], c='g',s=200,marker=u'^')\n",
    "\n",
    "ax1.set_xlabel('SepalLength')\n",
    "ax1.set_ylabel('Sepal width')\n",
    "\n",
    "ax2=plt.subplot(222)\n",
    "#puntos\n",
    "ax2.scatter(X[:, 0], X[:, 2], c=labels,alpha=0.5,s=30)\n",
    "#centroides\n",
    "ax2.scatter(centroids[0][0],centroids[0][2], c='g',s=200,marker=u'^')\n",
    "ax2.scatter(centroids[1][0],centroids[1][2], c='g',s=200,marker=u'^')\n",
    "\n",
    "ax2.set_xlabel('SepalLength')\n",
    "ax2.set_ylabel('PetalLength')\n",
    "\n",
    "ax3=plt.subplot(223)\n",
    "#puntos\n",
    "ax3.scatter(X[:, 0], X[:, 3], c=labels,alpha=0.5,s=30)\n",
    "#centroides\n",
    "ax3.scatter(centroids[0][0],centroids[0][3], c='g',s=200,marker=u'^')\n",
    "ax3.scatter(centroids[1][0],centroids[1][3], c='g',s=200,marker=u'^')\n",
    "\n",
    "ax3.set_xlabel('SepalLength')\n",
    "ax3.set_ylabel('PetalWidth')\n",
    "\n",
    "ax4=plt.subplot(224)\n",
    "#puntos\n",
    "ax4.scatter(X[:, 1], X[:, 3], c=labels,alpha=0.5,s=30)\n",
    "#centroides\n",
    "ax4.scatter(centroids[0][1],centroids[0][3], c='g',s=200,marker=u'^')\n",
    "ax4.scatter(centroids[1][1],centroids[1][3], c='g',s=200,marker=u'^')\n",
    "\n",
    "ax4.set_xlabel('SepalWidth')\n",
    "ax4.set_ylabel('PetalWidth');"
   ]
  },
  {
   "cell_type": "markdown",
   "metadata": {
    "colab_type": "text",
    "id": "UVbdqGIeRaqj"
   },
   "source": [
    "## 4. Evaluando los clusters"
   ]
  },
  {
   "cell_type": "markdown",
   "metadata": {
    "colab_type": "text",
    "id": "3yzh8vm6Raqk"
   },
   "source": [
    "Ahora, usemos algunas de las medidas que vimos recién para evaluar los clusters que construimos."
   ]
  },
  {
   "cell_type": "code",
   "execution_count": 20,
   "metadata": {
    "colab": {},
    "colab_type": "code",
    "id": "6_oXr__9Raql"
   },
   "outputs": [],
   "source": [
    "import sklearn.metrics as sm"
   ]
  },
  {
   "cell_type": "markdown",
   "metadata": {
    "colab_type": "text",
    "id": "hxxsNIarRaqw"
   },
   "source": [
    "### 4.1 Validación Externa"
   ]
  },
  {
   "cell_type": "markdown",
   "metadata": {
    "colab_type": "text",
    "id": "CuswUQv0Raqz"
   },
   "source": [
    "En este caso (poco habitual) tenemos una variable externa (la especie de la flor) que \"coincide\" con los clusters -conceptualmente hablando-. Habitualmente, quizás podamos encontrar alguna de alguna variable a la que podemos considerar como altamente correlacionada con nuestros clusters y que podamos usar como fuente de validación externa de nuestro clustering."
   ]
  },
  {
   "cell_type": "markdown",
   "metadata": {
    "colab_type": "text",
    "id": "qHKp-K1wRaq1"
   },
   "source": [
    "#### 4.1.1 Accuracy"
   ]
  },
  {
   "cell_type": "code",
   "execution_count": 21,
   "metadata": {
    "colab": {
     "base_uri": "https://localhost:8080/",
     "height": 34
    },
    "colab_type": "code",
    "executionInfo": {
     "elapsed": 657,
     "status": "ok",
     "timestamp": 1539064394971,
     "user": {
      "displayName": "Pablo Roccatagliata",
      "photoUrl": "",
      "userId": "16888717367980038363"
     },
     "user_tz": 180
    },
    "id": "SFjFT-0iRaq3",
    "outputId": "62e08673-8512-4056-98a0-acbb874b6194"
   },
   "outputs": [
    {
     "data": {
      "text/plain": [
       "0.6666666666666666"
      ]
     },
     "execution_count": 21,
     "metadata": {},
     "output_type": "execute_result"
    }
   ],
   "source": [
    "sm.accuracy_score(y, labels)"
   ]
  },
  {
   "cell_type": "markdown",
   "metadata": {
    "colab_type": "text",
    "id": "1JgTZrbTRarF"
   },
   "source": [
    "#### 4.1.2 Classification Report"
   ]
  },
  {
   "cell_type": "code",
   "execution_count": 22,
   "metadata": {
    "colab": {
     "base_uri": "https://localhost:8080/",
     "height": 207
    },
    "colab_type": "code",
    "executionInfo": {
     "elapsed": 731,
     "status": "ok",
     "timestamp": 1539064398738,
     "user": {
      "displayName": "Pablo Roccatagliata",
      "photoUrl": "",
      "userId": "16888717367980038363"
     },
     "user_tz": 180
    },
    "id": "VvH4ApxMRarJ",
    "outputId": "43a929eb-8bd8-4f2e-f396-bd7fe9d34c8b"
   },
   "outputs": [
    {
     "name": "stdout",
     "output_type": "stream",
     "text": [
      "              precision    recall  f1-score   support\n",
      "\n",
      "           0       1.00      1.00      1.00        50\n",
      "           1       0.50      1.00      0.67        50\n",
      "           2       0.00      0.00      0.00        50\n",
      "\n",
      "    accuracy                           0.67       150\n",
      "   macro avg       0.50      0.67      0.56       150\n",
      "weighted avg       0.50      0.67      0.56       150\n",
      "\n"
     ]
    },
    {
     "name": "stderr",
     "output_type": "stream",
     "text": [
      "C:\\Users\\mbeati\\AppData\\Local\\Continuum\\anaconda3\\envs\\dsdh2\\lib\\site-packages\\sklearn\\metrics\\classification.py:1437: UndefinedMetricWarning: Precision and F-score are ill-defined and being set to 0.0 in labels with no predicted samples.\n",
      "  'precision', 'predicted', average, warn_for)\n"
     ]
    }
   ],
   "source": [
    "print(sm.classification_report(y, labels))"
   ]
  },
  {
   "cell_type": "markdown",
   "metadata": {
    "colab_type": "text",
    "id": "-DNo_chtRarQ"
   },
   "source": [
    "#### 4.1.3 Confusion Matrix"
   ]
  },
  {
   "cell_type": "code",
   "execution_count": 23,
   "metadata": {
    "colab": {
     "base_uri": "https://localhost:8080/",
     "height": 68
    },
    "colab_type": "code",
    "executionInfo": {
     "elapsed": 1056,
     "status": "ok",
     "timestamp": 1539064402000,
     "user": {
      "displayName": "Pablo Roccatagliata",
      "photoUrl": "",
      "userId": "16888717367980038363"
     },
     "user_tz": 180
    },
    "id": "cEmVs6QyRarS",
    "outputId": "7c4213f4-c7a6-4f00-9db1-320a931f57e9"
   },
   "outputs": [
    {
     "name": "stdout",
     "output_type": "stream",
     "text": [
      "[[50  0  0]\n",
      " [ 0 50  0]\n",
      " [ 0 50  0]]\n"
     ]
    }
   ],
   "source": [
    "print(sm.confusion_matrix(y, labels))"
   ]
  },
  {
   "cell_type": "markdown",
   "metadata": {
    "colab_type": "text",
    "id": "OQoQqW4dRarW"
   },
   "source": [
    "### 4.2 Validación Interna"
   ]
  },
  {
   "cell_type": "markdown",
   "metadata": {
    "colab_type": "text",
    "id": "h0B7jdjaRarX"
   },
   "source": [
    "#### 4.2.1 Silhouette Score "
   ]
  },
  {
   "cell_type": "code",
   "execution_count": 24,
   "metadata": {
    "colab": {
     "base_uri": "https://localhost:8080/",
     "height": 34
    },
    "colab_type": "code",
    "executionInfo": {
     "elapsed": 1547,
     "status": "ok",
     "timestamp": 1539064403725,
     "user": {
      "displayName": "Pablo Roccatagliata",
      "photoUrl": "",
      "userId": "16888717367980038363"
     },
     "user_tz": 180
    },
    "id": "Yh13XL9ZRarY",
    "outputId": "50ad6424-43b6-4be9-b663-71e1d0917101"
   },
   "outputs": [
    {
     "data": {
      "text/plain": [
       "0.5817500491982808"
      ]
     },
     "execution_count": 24,
     "metadata": {},
     "output_type": "execute_result"
    }
   ],
   "source": [
    "sm.silhouette_score(X, labels, metric='euclidean')"
   ]
  },
  {
   "cell_type": "markdown",
   "metadata": {
    "colab_type": "text",
    "id": "NRcVaZJSRard"
   },
   "source": [
    "#### 4.2.2 Calinsky-Harabaz Index"
   ]
  },
  {
   "cell_type": "code",
   "execution_count": 25,
   "metadata": {
    "colab": {
     "base_uri": "https://localhost:8080/",
     "height": 34
    },
    "colab_type": "code",
    "executionInfo": {
     "elapsed": 671,
     "status": "ok",
     "timestamp": 1539064404677,
     "user": {
      "displayName": "Pablo Roccatagliata",
      "photoUrl": "",
      "userId": "16888717367980038363"
     },
     "user_tz": 180
    },
    "id": "YCl4M1uERare",
    "outputId": "cc5dfa38-0806-4946-fb61-8e4d1e9927e7"
   },
   "outputs": [
    {
     "data": {
      "text/plain": [
       "251.34933946458108"
      ]
     },
     "execution_count": 25,
     "metadata": {},
     "output_type": "execute_result"
    }
   ],
   "source": [
    "sm.calinski_harabasz_score(X, labels)  "
   ]
  },
  {
   "cell_type": "markdown",
   "metadata": {
    "colab_type": "text",
    "id": "YejK-QUARarj"
   },
   "source": [
    "#### Definiendo la cantidad de clusters:"
   ]
  },
  {
   "cell_type": "code",
   "execution_count": 26,
   "metadata": {},
   "outputs": [
    {
     "name": "stdout",
     "output_type": "stream",
     "text": [
      "K=  [(2, 0.6666666666666666, 0.5817500491982808, 251.34933946458108)]\n",
      "K=  [(3, 0.24, 0.45994823920518635, 241.90440170183157)]\n",
      "K=  [(4, 0.26666666666666666, 0.3850454053045392, 206.68060327399542)]\n",
      "K=  [(5, 0.18, 0.3459012795948779, 202.95152531739166)]\n",
      "K=  [(6, 0.4533333333333333, 0.32203661257077404, 187.14011028654735)]\n",
      "K=  [(7, 0.34, 0.3276942451516975, 177.48032675981423)]\n",
      "K=  [(8, 0.3, 0.3406168966939047, 174.4125778094569)]\n"
     ]
    }
   ],
   "source": [
    "evaluation = []\n",
    "for k in range(2,9):\n",
    "    \n",
    "    #Como siempre, suele ser una buena práctica fijar la semilla\n",
    "    kmeans = cluster.KMeans(n_clusters=k, random_state=0) \n",
    "    kmeans.fit(X)\n",
    "    labels = kmeans.labels_\n",
    "    centroids = kmeans.cluster_centers_\n",
    "    accuracy = sm.accuracy_score(y, labels)\n",
    "    silhouette = sm.silhouette_score(X, labels, metric='euclidean')\n",
    "    calinsky = sm.calinski_harabasz_score(X, labels)      \n",
    "    evaluation = [(k, accuracy, silhouette, calinsky)]\n",
    "    print(\"K= \", evaluation)"
   ]
  },
  {
   "cell_type": "markdown",
   "metadata": {},
   "source": [
    "Sabemos que debería dar mejor con k=3. ¿Por qué no lo vemos?"
   ]
  },
  {
   "cell_type": "code",
   "execution_count": 27,
   "metadata": {},
   "outputs": [],
   "source": [
    "#Como siempre, suele ser una buena práctica fijar la semilla\n",
    "kmeans = cluster.KMeans(n_clusters=3, random_state=0) \n",
    "kmeans.fit(X)\n",
    "labels = kmeans.labels_"
   ]
  },
  {
   "cell_type": "code",
   "execution_count": 28,
   "metadata": {},
   "outputs": [
    {
     "data": {
      "text/plain": [
       "array([1, 1, 1, 1, 1, 1, 1, 1, 1, 1, 1, 1, 1, 1, 1, 1, 1, 1, 1, 1, 1, 1,\n",
       "       1, 1, 1, 1, 1, 1, 1, 1, 1, 1, 1, 1, 1, 1, 1, 1, 1, 1, 1, 1, 1, 1,\n",
       "       1, 1, 1, 1, 1, 1, 2, 2, 2, 0, 0, 0, 2, 0, 0, 0, 0, 0, 0, 0, 0, 2,\n",
       "       0, 0, 0, 0, 2, 0, 0, 0, 0, 2, 2, 2, 0, 0, 0, 0, 0, 0, 0, 2, 2, 0,\n",
       "       0, 0, 0, 0, 0, 0, 0, 0, 0, 0, 0, 0, 2, 0, 2, 2, 2, 2, 0, 2, 2, 2,\n",
       "       2, 2, 2, 0, 0, 2, 2, 2, 2, 0, 2, 0, 2, 0, 2, 2, 0, 2, 2, 2, 2, 2,\n",
       "       2, 0, 0, 2, 2, 2, 0, 2, 2, 2, 0, 2, 2, 2, 0, 2, 2, 0])"
      ]
     },
     "execution_count": 28,
     "metadata": {},
     "output_type": "execute_result"
    }
   ],
   "source": [
    "labels"
   ]
  },
  {
   "cell_type": "code",
   "execution_count": 29,
   "metadata": {},
   "outputs": [
    {
     "name": "stdout",
     "output_type": "stream",
     "text": [
      "              precision    recall  f1-score   support\n",
      "\n",
      "           0       0.00      0.00      0.00        50\n",
      "           1       0.00      0.00      0.00        50\n",
      "           2       0.77      0.72      0.74        50\n",
      "\n",
      "    accuracy                           0.24       150\n",
      "   macro avg       0.26      0.24      0.25       150\n",
      "weighted avg       0.26      0.24      0.25       150\n",
      "\n"
     ]
    }
   ],
   "source": [
    "print(sm.classification_report(y, labels))"
   ]
  },
  {
   "cell_type": "code",
   "execution_count": 30,
   "metadata": {},
   "outputs": [
    {
     "name": "stdout",
     "output_type": "stream",
     "text": [
      "[[ 0 50  0]\n",
      " [39  0 11]\n",
      " [14  0 36]]\n"
     ]
    }
   ],
   "source": [
    "print(sm.confusion_matrix(y, labels))"
   ]
  },
  {
   "cell_type": "markdown",
   "metadata": {},
   "source": [
    "El problema es que están invertidas las etiquetas. Kmeans no sabe en qué orden tenemos las clases en el dataset de iris. Lo tenemos que corregir a mano."
   ]
  },
  {
   "cell_type": "code",
   "execution_count": 31,
   "metadata": {},
   "outputs": [
    {
     "data": {
      "text/plain": [
       "array([1, 1, 1, 1, 1, 1, 1, 1, 1, 1, 1, 1, 1, 1, 1, 1, 1, 1, 1, 1, 1, 1,\n",
       "       1, 1, 1, 1, 1, 1, 1, 1, 1, 1, 1, 1, 1, 1, 1, 1, 1, 1, 1, 1, 1, 1,\n",
       "       1, 1, 1, 1, 1, 1, 2, 2, 2, 0, 0, 0, 2, 0, 0, 0, 0, 0, 0, 0, 0, 2,\n",
       "       0, 0, 0, 0, 2, 0, 0, 0, 0, 2, 2, 2, 0, 0, 0, 0, 0, 0, 0, 2, 2, 0,\n",
       "       0, 0, 0, 0, 0, 0, 0, 0, 0, 0, 0, 0, 2, 0, 2, 2, 2, 2, 0, 2, 2, 2,\n",
       "       2, 2, 2, 0, 0, 2, 2, 2, 2, 0, 2, 0, 2, 0, 2, 2, 0, 2, 2, 2, 2, 2,\n",
       "       2, 0, 0, 2, 2, 2, 0, 2, 2, 2, 0, 2, 2, 2, 0, 2, 2, 0])"
      ]
     },
     "execution_count": 31,
     "metadata": {},
     "output_type": "execute_result"
    }
   ],
   "source": [
    "labels"
   ]
  },
  {
   "cell_type": "code",
   "execution_count": 32,
   "metadata": {},
   "outputs": [],
   "source": [
    "predY = np.choose(labels, [1, 0, 2]).astype(np.int64)"
   ]
  },
  {
   "cell_type": "code",
   "execution_count": 33,
   "metadata": {},
   "outputs": [
    {
     "data": {
      "text/plain": [
       "array([0, 0, 0, 0, 0, 0, 0, 0, 0, 0, 0, 0, 0, 0, 0, 0, 0, 0, 0, 0, 0, 0,\n",
       "       0, 0, 0, 0, 0, 0, 0, 0, 0, 0, 0, 0, 0, 0, 0, 0, 0, 0, 0, 0, 0, 0,\n",
       "       0, 0, 0, 0, 0, 0, 2, 2, 2, 1, 1, 1, 2, 1, 1, 1, 1, 1, 1, 1, 1, 2,\n",
       "       1, 1, 1, 1, 2, 1, 1, 1, 1, 2, 2, 2, 1, 1, 1, 1, 1, 1, 1, 2, 2, 1,\n",
       "       1, 1, 1, 1, 1, 1, 1, 1, 1, 1, 1, 1, 2, 1, 2, 2, 2, 2, 1, 2, 2, 2,\n",
       "       2, 2, 2, 1, 1, 2, 2, 2, 2, 1, 2, 1, 2, 1, 2, 2, 1, 2, 2, 2, 2, 2,\n",
       "       2, 1, 1, 2, 2, 2, 1, 2, 2, 2, 1, 2, 2, 2, 1, 2, 2, 1], dtype=int64)"
      ]
     },
     "execution_count": 33,
     "metadata": {},
     "output_type": "execute_result"
    }
   ],
   "source": [
    "predY"
   ]
  },
  {
   "cell_type": "code",
   "execution_count": 34,
   "metadata": {},
   "outputs": [
    {
     "name": "stdout",
     "output_type": "stream",
     "text": [
      "[[50  0  0]\n",
      " [ 0 39 11]\n",
      " [ 0 14 36]]\n"
     ]
    }
   ],
   "source": [
    "print(sm.confusion_matrix(y, predY))"
   ]
  },
  {
   "cell_type": "code",
   "execution_count": 35,
   "metadata": {},
   "outputs": [
    {
     "name": "stdout",
     "output_type": "stream",
     "text": [
      "              precision    recall  f1-score   support\n",
      "\n",
      "           0       1.00      1.00      1.00        50\n",
      "           1       0.74      0.78      0.76        50\n",
      "           2       0.77      0.72      0.74        50\n",
      "\n",
      "    accuracy                           0.83       150\n",
      "   macro avg       0.83      0.83      0.83       150\n",
      "weighted avg       0.83      0.83      0.83       150\n",
      "\n"
     ]
    }
   ],
   "source": [
    "print(sm.classification_report(y, predY))"
   ]
  },
  {
   "cell_type": "code",
   "execution_count": 36,
   "metadata": {},
   "outputs": [
    {
     "data": {
      "text/plain": [
       "0.8333333333333334"
      ]
     },
     "execution_count": 36,
     "metadata": {},
     "output_type": "execute_result"
    }
   ],
   "source": [
    "sm.accuracy_score(y, predY)"
   ]
  },
  {
   "cell_type": "markdown",
   "metadata": {},
   "source": [
    "Obviamente, las métricas de validación interna no cambian:"
   ]
  },
  {
   "cell_type": "code",
   "execution_count": 37,
   "metadata": {},
   "outputs": [
    {
     "data": {
      "text/plain": [
       "0.45994823920518635"
      ]
     },
     "execution_count": 37,
     "metadata": {},
     "output_type": "execute_result"
    }
   ],
   "source": [
    "sm.silhouette_score(X, predY, metric='euclidean')"
   ]
  },
  {
   "cell_type": "code",
   "execution_count": 38,
   "metadata": {},
   "outputs": [
    {
     "data": {
      "text/plain": [
       "241.90440170183157"
      ]
     },
     "execution_count": 38,
     "metadata": {},
     "output_type": "execute_result"
    }
   ],
   "source": [
    "sm.calinski_harabasz_score(X, predY)  "
   ]
  },
  {
   "cell_type": "code",
   "execution_count": null,
   "metadata": {},
   "outputs": [],
   "source": []
  }
 ],
 "metadata": {
  "colab": {
   "collapsed_sections": [],
   "name": "1.PRACTICA_GUIADA_Intro_Clustering.ipynb",
   "provenance": [],
   "version": "0.3.2"
  },
  "kernelspec": {
   "display_name": "Python 3",
   "language": "python",
   "name": "python3"
  },
  "language_info": {
   "codemirror_mode": {
    "name": "ipython",
    "version": 3
   },
   "file_extension": ".py",
   "mimetype": "text/x-python",
   "name": "python",
   "nbconvert_exporter": "python",
   "pygments_lexer": "ipython3",
   "version": "3.6.7"
  }
 },
 "nbformat": 4,
 "nbformat_minor": 1
}
