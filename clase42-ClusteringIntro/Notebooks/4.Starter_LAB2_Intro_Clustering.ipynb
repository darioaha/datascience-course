{
 "cells": [
  {
   "cell_type": "markdown",
   "metadata": {},
   "source": [
    "\n",
    "# LAB: Introducción al Clustering. K-Means Clustering \n",
    "\n",
    "\n",
    "# ![](https://encrypted-tbn0.gstatic.com/images?q=tbn:ANd9GcR_z4GT2bY3HmLtHlRmRVm1oygMgUUvz6o8ryX3vAMo65iIftAD) \n",
    "\n",
    "## Introducción\n",
    "\n",
    "A esta altura ya sabemos lo que es un proceso de Clusterización, como preparar los datos para realizarlo y como evaluar el análisis de K-Means. Ahora es el momento de poner a prueba nuestras habilidades. Para esta sesión de laboratorio vamos a completar un proceso completo de K-Means usando Python.\n",
    "\n",
    "Vamos a aplicar K-means al mismo dataset de dígitos de la clase pasada. La idea es tratar de identificar dígitos similares sin utilizar la información de la etiqueta oringinal. Esto podría ser similar a la extracción de información \"nueva\" de un dataset desconocido del cual no tenemos ninguna información previa.\n",
    "\n",
    "Vamos a empezar cargando los datos de dígitos y estimando los clusters. Recordemos que el dataset consiste en 1797 muestras con 65 features (donde cada columna es el brillo de in pixel en una imagen 8x8).\n",
    "\n",
    "### Ejercicio\n",
    "\n",
    "### Requerimientos\n",
    "\n",
    "- Importar los datos\n",
    "- Realizar una proceso de K-Means para extraer información de los dígitos.\n",
    "    - Usar Scikit-Learn\n",
    "- Encontrar el \"Silhouette Score\" para elvaluar los cluster de análisis.\n",
    "\n",
    "\n",
    "**Bonus:**\n",
    "- Encontrar el k óptimo\n",
    "- Encontrar los centroides. (Hint: Usar Scikit!)\n",
    "\n",
    "\n",
    "### Fuentes adicionales\n",
    "\n",
    "- Un link de [K-Means Documentation](http://scikit-learn.org/stable/modules/generated/sklearn.cluster.KMeans.html)\n",
    "- Sobre Silhouette Score [Silhouette Score Documentation](http://scikit-learn.org/stable/modules/generated/sklearn.metrics.silhouette_score.html)"
   ]
  },
  {
   "cell_type": "markdown",
   "metadata": {},
   "source": [
    "===================================================================================================================="
   ]
  },
  {
   "cell_type": "markdown",
   "metadata": {},
   "source": [
    "## _COMENCEMOS!!!!_\n",
    "\n",
    "**Sección I: Importar la Data**"
   ]
  },
  {
   "cell_type": "markdown",
   "metadata": {},
   "source": [
    "Importar paquetes y leer el archivo"
   ]
  },
  {
   "cell_type": "code",
   "execution_count": 3,
   "metadata": {
    "collapsed": true
   },
   "outputs": [],
   "source": [
    "%matplotlib inline\n",
    "import matplotlib.pyplot as plt\n",
    "import seaborn as sns; sns.set()  # for plot styling\n",
    "import numpy as np\n",
    "from sklearn.cluster import KMeans"
   ]
  },
  {
   "cell_type": "code",
   "execution_count": 4,
   "metadata": {
    "collapsed": false
   },
   "outputs": [
    {
     "data": {
      "text/plain": [
       "(1797, 64)"
      ]
     },
     "execution_count": 4,
     "metadata": {},
     "output_type": "execute_result"
    }
   ],
   "source": [
    "from sklearn.datasets import load_digits\n",
    "digits = load_digits()\n",
    "digits.data.shape"
   ]
  },
  {
   "cell_type": "code",
   "execution_count": null,
   "metadata": {
    "collapsed": true
   },
   "outputs": [],
   "source": []
  },
  {
   "cell_type": "markdown",
   "metadata": {},
   "source": [
    "Veamos que los centros de los clusters tienen 65 dimensiones y podrían ser interpretados como un dígito \"típico\" dentro del cluster. Si los ploteamos..."
   ]
  },
  {
   "cell_type": "code",
   "execution_count": 6,
   "metadata": {
    "collapsed": false
   },
   "outputs": [
    {
     "data": {
      "image/png": "[encoded data removed]",
      "text/plain": [
       "<matplotlib.figure.Figure at 0x7fe5d5885f50>"
      ]
     },
     "metadata": {},
     "output_type": "display_data"
    }
   ],
   "source": [
    "fig, ax = plt.subplots(2, 5, figsize=(8, 3))\n",
    "centers = kmeans.cluster_centers_.reshape(10, 8, 8)\n",
    "for axi, center in zip(ax.flat, centers):\n",
    "    axi.set(xticks=[], yticks=[])\n",
    "    axi.imshow(center, interpolation='nearest', cmap=plt.cm.binary)"
   ]
  },
  {
   "cell_type": "markdown",
   "metadata": {},
   "source": [
    "Es muy interesante notar que aún sin las etiquetas el algoritmo parece poder encontrar clusters cuyos centros son dígitos reconocibles. Quizás el 1 y el 8 sean la excepción.\n",
    "\n",
    "Dado que K-means no conoce nada acerca de la identidad del cluster. Las etiquetas 0-9 pueden estar permutadas. Podemos arreglar esto matcheando cada cluster aprendido con las verdaderas etiquetas."
   ]
  },
  {
   "cell_type": "code",
   "execution_count": 7,
   "metadata": {
    "collapsed": true
   },
   "outputs": [],
   "source": [
    "from scipy.stats import mode\n",
    "\n",
    "labels = np.zeros_like(clusters)\n",
    "for i in range(10):\n",
    "    mask = (clusters == i)\n",
    "    labels[mask] = mode(digits.target[mask])[0]"
   ]
  },
  {
   "cell_type": "markdown",
   "metadata": {},
   "source": [
    "Ahora podemos chequear que tan preciso fue nuestro clustering no supervisado encontrando dígitos similares:"
   ]
  },
  {
   "cell_type": "code",
   "execution_count": null,
   "metadata": {
    "collapsed": true
   },
   "outputs": [],
   "source": []
  },
  {
   "cell_type": "markdown",
   "metadata": {},
   "source": [
    "Con solamente un algoritmo K-means y con un dataset de imágenes sin etiquetas logamos un accuracy de casi el 80%. Veamos ahora la matriz de confusión:"
   ]
  },
  {
   "cell_type": "code",
   "execution_count": null,
   "metadata": {
    "collapsed": true
   },
   "outputs": [],
   "source": []
  },
  {
   "cell_type": "markdown",
   "metadata": {},
   "source": [
    "El mayor punto de confusión, como podemos ver es el de los 8 y los 1. Pero es interesante notar cómo solamente usando K-Means es posible construir un clasificador de dígitos bastante preciso sin información de las etiquetas."
   ]
  },
  {
   "cell_type": "code",
   "execution_count": null,
   "metadata": {
    "collapsed": true
   },
   "outputs": [],
   "source": []
  }
 ],
 "metadata": {
  "anaconda-cloud": {},
  "kernelspec": {
   "display_name": "Python 2",
   "language": "python",
   "name": "python2"
  },
  "language_info": {
   "codemirror_mode": {
    "name": "ipython",
    "version": 2
   },
   "file_extension": ".py",
   "mimetype": "text/x-python",
   "name": "python",
   "nbconvert_exporter": "python",
   "pygments_lexer": "ipython2",
   "version": "2.7.13"
  }
 },
 "nbformat": 4,
 "nbformat_minor": 0
}
