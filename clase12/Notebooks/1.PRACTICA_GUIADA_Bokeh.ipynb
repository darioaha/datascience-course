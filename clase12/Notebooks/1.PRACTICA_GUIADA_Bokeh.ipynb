{
 "cells": [
  {
   "cell_type": "markdown",
   "metadata": {
    "colab_type": "text",
    "id": "Z7M5WxCp-cSC"
   },
   "source": [
    "# Bokeh"
   ]
  },
  {
   "cell_type": "markdown",
   "metadata": {
    "colab_type": "text",
    "id": "3tE8ZmiO-fd9"
   },
   "source": [
    "Bokeh es una biblioteca de visualización interactiva de Python que se dirige a navegadores web modernos para su presentación. Su objetivo es proporcionar una construcción elegante y concisa de gráficos novedosos al estilo de D3.js y ampliar esta capacidad con interactividad de alto rendimiento en conjuntos de datos de gran tamaño o de streamming. Bokeh puede ayudar a cualquiera que desee crear trazados interactivos, cuadros de mando y aplicaciones de datos de manera rápida y fácil."
   ]
  },
  {
   "cell_type": "markdown",
   "metadata": {
    "colab_type": "text",
    "id": "3MXzarCn-o_D"
   },
   "source": [
    "## Ejemplo simple\n",
    "Aquí hay un primer ejemplo simple. Primero importaremos la función de figura de `bokeh.plotting`, lo que nos permitirá crear todo tipo de tramas interesantes fácilmente. También importamos las funciones `show()` y `ouptut_notebook()`  de  `bokeh.io`; estas nos permiten mostrar nuestros resultados en línea en la notebook."
   ]
  },
  {
   "cell_type": "code",
   "execution_count": null,
   "metadata": {
    "colab": {},
    "colab_type": "code",
    "id": "jX8bHFpNEui5"
   },
   "outputs": [],
   "source": [
    "#!pip install bokeh"
   ]
  },
  {
   "cell_type": "code",
   "execution_count": null,
   "metadata": {
    "colab": {},
    "colab_type": "code",
    "id": "wtGVSOny9_gS"
   },
   "outputs": [],
   "source": [
    "from bokeh.plotting import figure \n",
    "from bokeh.io import output_notebook, show\n",
    "import pandas as pd\n",
    "import numpy as np"
   ]
  },
  {
   "cell_type": "markdown",
   "metadata": {
    "colab_type": "text",
    "id": "s2odog-6_7u3"
   },
   "source": [
    "A continuación, le diremos a Bokeh que muestre sus gráficos directamente en la notebook ejecutando `output_notebook()`. Esto hará que todo el JavaScript y los datos sean insertados directamente en el HTML de la notebook. Alternativamente, Bokeh también puede mostrar directamente en archivos HTML o usar un servidor, como veremos más adelante."
   ]
  },
  {
   "cell_type": "code",
   "execution_count": null,
   "metadata": {
    "colab": {},
    "colab_type": "code",
    "id": "PgFVuuXc9_gd"
   },
   "outputs": [],
   "source": [
    "output_notebook()"
   ]
  },
  {
   "cell_type": "markdown",
   "metadata": {
    "colab_type": "text",
    "id": "-l1JetbYAPRV"
   },
   "source": [
    "Importamos NumPy y generamos algunos datos"
   ]
  },
  {
   "cell_type": "code",
   "execution_count": null,
   "metadata": {
    "colab": {},
    "colab_type": "code",
    "id": "rM5U3hhe9_gp"
   },
   "outputs": [],
   "source": [
    "from numpy import cos, linspace\n",
    "x = np.linspace(-15, 15, 200)\n",
    "y = x*cos(x)"
   ]
  },
  {
   "cell_type": "markdown",
   "metadata": {
    "colab_type": "text",
    "id": "76lTwT4KAZ7t"
   },
   "source": [
    "Ahora llamaremos a la función `figure` de Bokeh para crear un plot  `p`. Luego llamamos al método  `circle()` del plot para representar un círculo rojo en cada uno de los puntos en x e y.\n",
    "\n",
    "Podemos interactuar de inmediato con el plot\n",
    "\n",
    "*haga clic y arrastre alrededor de la trama.\n",
    "*la rueda del mouse se acercará y alejará (después de habilitarla en la barra de herramientas)\n",
    "\n",
    "La siguiente barra de herramientas es la predeterminada que está disponible para todos los gráficos. Se puede configurar más a través del keyword argument `tools`\n",
    "\n",
    "\n",
    "\n"
   ]
  },
  {
   "cell_type": "code",
   "execution_count": null,
   "metadata": {
    "colab": {},
    "colab_type": "code",
    "id": "E1uCY2oR9_gx"
   },
   "outputs": [],
   "source": [
    "p = figure(width=500, height=500)\n",
    "p.circle(x, y, size=7, color=\"firebrick\", alpha=0.5)\n",
    "show(p)"
   ]
  },
  {
   "cell_type": "markdown",
   "metadata": {
    "colab_type": "text",
    "id": "0BTmoShaBXzR"
   },
   "source": [
    "## Bar Plot "
   ]
  },
  {
   "cell_type": "markdown",
   "metadata": {
    "colab_type": "text",
    "id": "VmEFQh1GBlWP"
   },
   "source": [
    "El modelo de display de Bokeh se basa en la composición de primitivas gráficas que están ligadas a series de datos. Esto es similar en espíritu a Protovis y D3, y diferente de la mayoría de las otras bibliotecas de trazado de Python.\n",
    "\n",
    "Un ejemplo un poco más sofisticado demuestra esta idea.\n",
    "\n",
    "Bokeh se importa con un pequeño conjunto de \"datos de muestra\" interesantes en el paquete  `bokeh.sampledata` . Cargaremos algunos datos históricos de kilometraje del automóvil."
   ]
  },
  {
   "cell_type": "code",
   "execution_count": null,
   "metadata": {
    "colab": {},
    "colab_type": "code",
    "id": "IRujJ76x9_g5"
   },
   "outputs": [],
   "source": [
    "from bokeh.sampledata.autompg import autompg\n",
    "autompg.sample(5)"
   ]
  },
  {
   "cell_type": "code",
   "execution_count": null,
   "metadata": {
    "colab": {},
    "colab_type": "code",
    "id": "_h4BUBEPEukL"
   },
   "outputs": [],
   "source": [
    "df_mpg_group = autompg.groupby(\"yr\")[\"mpg\"].agg(['mean', 'std'])\n",
    "df_mpg_group.head()"
   ]
  },
  {
   "cell_type": "code",
   "execution_count": null,
   "metadata": {
    "colab": {},
    "colab_type": "code",
    "id": "CDwSj2WLEukW"
   },
   "outputs": [],
   "source": [
    "df_mpg_group.reset_index(inplace = True)\n",
    "df_mpg_group"
   ]
  },
  {
   "cell_type": "markdown",
   "metadata": {
    "colab_type": "text",
    "id": "15B5LzrjGLiG"
   },
   "source": [
    "\n",
    "Para cada año, queremos trazar la distribución de MPG dentro de ese año."
   ]
  },
  {
   "cell_type": "code",
   "execution_count": null,
   "metadata": {
    "colab": {},
    "colab_type": "code",
    "id": "PD5-0Epv9_hE"
   },
   "outputs": [],
   "source": [
    "p = figure(title=\"MPG Por Año (Japón y USA)\")\n",
    "\n",
    "p.vbar(x      = df_mpg_group['yr'],\n",
    "       bottom = df_mpg_group['mean'] - df_mpg_group['std'],\n",
    "       top    = df_mpg_group['mean'] + df_mpg_group['std'],\n",
    "       width=0.8,\n",
    "       fill_alpha=0.2,\n",
    "       line_color=None, legend=\"MPG 1 desvío\")\n",
    "\n",
    "p.circle(x = autompg.loc[autompg.origin==3, \"yr\"],\n",
    "         y = autompg.loc[autompg.origin==3, \"mpg\"],\n",
    "         size=10,\n",
    "         alpha=0.5,\n",
    "         color=\"red\",\n",
    "         legend=\"Japanese\")\n",
    "\n",
    "p.triangle(x = autompg.loc[autompg.origin==1, \"yr\"],\n",
    "           y = autompg.loc[autompg.origin==1, \"mpg\"],\n",
    "           size=10,\n",
    "           alpha=0.3,\n",
    "           color=\"blue\",\n",
    "           legend=\"American\")\n",
    "\n",
    "p.legend.location = \"top_left\"\n",
    "p.title.text_font_size = '16pt'\n",
    "p.title.text_color = 'blue'\n",
    "\n",
    "show(p)"
   ]
  },
  {
   "cell_type": "markdown",
   "metadata": {
    "colab_type": "text",
    "id": "BNMn0b8yHHAM"
   },
   "source": [
    "## Linked Brushing\n",
    "Para vincular plots al nivel  de datos, podemos envolver de manera explícita los datos en un \n",
    "`ColumnDataSource`. Esto nos permite hacer referencia a columnas por nombre.\n",
    "\n",
    "Podemos usar una herramienta de \"selección\" para seleccionar puntos en un plot, y los puntos vinculados en los otros plots resaltarán."
   ]
  },
  {
   "cell_type": "code",
   "execution_count": null,
   "metadata": {
    "colab": {},
    "colab_type": "code",
    "id": "_SBMWmem9_hL"
   },
   "outputs": [],
   "source": [
    "from bokeh.models import ColumnDataSource\n",
    "from bokeh.layouts import gridplot\n",
    "\n",
    "data_bokeh = ColumnDataSource(autompg)\n",
    "\n",
    "options = {'plot_width': 300,\n",
    "           'plot_height': 300,\n",
    "           'tools': 'pan, wheel_zoom, box_zoom, box_select, lasso_select, reset'}\n",
    "\n",
    "p1 = figure(title=\"MPG por Año\", x_axis_label = \"Año\", y_axis_label = \"MPG\", **options)\n",
    "p1.circle(\"yr\", \"mpg\", color = \"blue\", source = data_bokeh)\n",
    "\n",
    "p2 = figure(title=\"HP vs. Desplazamiento\", x_axis_label = \"HP\", y_axis_label = \"Desplazamiento\", **options)\n",
    "p2.cross(\"hp\", \"displ\", color = \"green\", source = data_bokeh)\n",
    "\n",
    "p3 = figure(title=\"MPG vs. Desplazamiento\", x_axis_label = \"MPG\", y_axis_label = \"Desplazamiento\", **options)\n",
    "p3.diamond(\"mpg\", \"displ\", size = \"cyl\", line_color=\"red\", fill_color = None, source = data_bokeh)\n",
    "\n",
    "p4 = figure(title=\"Aceleración vs. Desplazamiento\", x_axis_label = \"Aceleración\", y_axis_label = \"Desplazamiento\",  **options)\n",
    "p4.triangle(\"accel\", \"displ\", color = \"yellow\", source = data_bokeh)\n",
    "\n",
    "p = gridplot([[p1, p2], [p3, p4]] , toolbar_location=\"right\")\n",
    "\n",
    "show(p)"
   ]
  },
  {
   "cell_type": "markdown",
   "metadata": {
    "colab_type": "text",
    "id": "vL3WTYCGH7dO"
   },
   "source": [
    "## Standalone HTML\n",
    "\n",
    "Además de funcionar bien en la notebook, Bokeh también puede guardar plots en sus propios archivos HTML. Aquí está el ejemplo del diagrama de barra desde arriba, pero guardado en su propio archivo independiente. En esta ocasión, en lugar de utilizar `output_notebook()`, usaremos `output_file()`\n",
    "\n",
    "Ahora, cuando llamamos a `show()`, también se abre una nueva pestaña del navegador con el gráfico. Si sólo quisiéramos guardar el archivo, usaríamos `save()` en su lugar."
   ]
  },
  {
   "cell_type": "code",
   "execution_count": null,
   "metadata": {
    "colab": {},
    "colab_type": "code",
    "id": "Pil-L9Ag9_hV"
   },
   "outputs": [],
   "source": [
    "from bokeh.plotting import output_file, save\n",
    "\n",
    "output_file(\"barplot.html\")\n",
    "p = figure(title=\"MPG Por Año (Japón y USA)\")\n",
    "\n",
    "p.vbar(x      = df_mpg_group['yr'],\n",
    "       bottom = df_mpg_group['mean'] - df_mpg_group['std'],\n",
    "       top    = df_mpg_group['mean'] + df_mpg_group['std'],\n",
    "       width=0.8,\n",
    "       fill_alpha=0.2,\n",
    "       line_color=None, legend=\"MPG 1 desvío\")\n",
    "\n",
    "p.circle(x = autompg.loc[autompg.origin==1, \"yr\"],\n",
    "         y = autompg.loc[autompg.origin==1, \"mpg\"],\n",
    "         size=10,\n",
    "         alpha=0.5,\n",
    "         color=\"red\",\n",
    "         legend=\"Japanese\")\n",
    "\n",
    "p.triangle(x = autompg.loc[autompg.origin==2, \"yr\"],\n",
    "           y = autompg.loc[autompg.origin==2, \"mpg\"],\n",
    "           size=10,\n",
    "           alpha=0.3,\n",
    "           color=\"blue\",\n",
    "           legend=\"American\")\n",
    "\n",
    "p.legend.location = \"top_left\"\n",
    "\n",
    "show(p)"
   ]
  },
  {
   "cell_type": "markdown",
   "metadata": {
    "colab_type": "text",
    "id": "quBSWkEMIyBc"
   },
   "source": [
    "## Bokeh Applications\n",
    "\n",
    "Bokeh también tiene un componente de [servidor](https://bokeh.pydata.org/en/latest/docs/user_guide/server.html#userguide-server) que se puede usar para crear aplicaciones web interactivas que conectan fácilmente la poderosa constelación de herramientas PyData con [sofisticadas visualizaciones de Bokeh](https://bokeh.pydata.org/en/latest/docs/gallery.html#gallery-server-examples)."
   ]
  },
  {
   "cell_type": "code",
   "execution_count": null,
   "metadata": {
    "colab": {},
    "colab_type": "code",
    "id": "3xXzpqADEulK"
   },
   "outputs": [],
   "source": []
  }
 ],
 "metadata": {
  "colab": {
   "collapsed_sections": [],
   "name": "1.PRACTICA_GUIADA_Bokeh.ipynb",
   "provenance": [],
   "version": "0.3.2"
  },
  "kernelspec": {
   "display_name": "Python 3",
   "language": "python",
   "name": "python3"
  },
  "language_info": {
   "codemirror_mode": {
    "name": "ipython",
    "version": 3
   },
   "file_extension": ".py",
   "mimetype": "text/x-python",
   "name": "python",
   "nbconvert_exporter": "python",
   "pygments_lexer": "ipython3",
   "version": "3.6.8"
  }
 },
 "nbformat": 4,
 "nbformat_minor": 1
}
