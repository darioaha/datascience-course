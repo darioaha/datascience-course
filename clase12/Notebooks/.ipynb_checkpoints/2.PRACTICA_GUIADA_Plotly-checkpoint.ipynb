{
 "cells": [
  {
   "cell_type": "markdown",
   "metadata": {
    "colab_type": "text",
    "id": "QiP5lcbLEayn"
   },
   "source": [
    "# Plotly"
   ]
  },
  {
   "cell_type": "markdown",
   "metadata": {
    "colab_type": "text",
    "id": "u-JQp5q9FytO"
   },
   "source": [
    "## Introducción"
   ]
  },
  {
   "cell_type": "markdown",
   "metadata": {
    "colab_type": "text",
    "id": "cLiIG0n6Egd_"
   },
   "source": [
    "Plotly ofrece un servicio web para hostear gráficos. Es necesario crearse una cuenta para empezar. Los gráficos se guardan dentro de su cuenta de Plotly en línea. El alojamiento público es gratuito, para alojamiento privado tienen planes pagos.\n",
    "\n",
    "Existen 3 niveles diferentes de privacidad:\n",
    "\n",
    "* **Público**: cualquiera puede ver este gráfico. Aparecerá en su perfil y puede aparecer en los motores de búsqueda. No necesita iniciar sesión en Plotly para ver este cuadro.\n",
    "\n",
    "* **Privado**: sólo el usuario puede ver este plot. No aparecerá en el feed de Plotly, su perfil o los motores de búsqueda. Debe haber iniciado sesión en Plotly para ver este gráfico. Puede compartir este gráfico de forma privada con otros usuarios de Plotly en su cuenta de Plotly en línea y deberán iniciar sesión para ver este gráfico.\n",
    "\n",
    "* **Secreto**: cualquier persona con este enlace secreto puede ver esta tabla. \n",
    "\n",
    "Para cambiar esta configuración:\n",
    "\n",
    "``` python \n",
    "import plotly\n",
    "plotly.tools.set_config_file(world_readable=False,\n",
    "                             sharing='private') ```"
   ]
  },
  {
   "cell_type": "code",
   "execution_count": null,
   "metadata": {
    "colab": {},
    "colab_type": "code",
    "id": "d7oMvntEbAZ9"
   },
   "outputs": [],
   "source": [
    "# !pip install plotly"
   ]
  },
  {
   "cell_type": "code",
   "execution_count": 1,
   "metadata": {
    "colab": {},
    "colab_type": "code",
    "id": "fIBfdq5zB0PL"
   },
   "outputs": [],
   "source": [
    "import plotly\n",
    "import plotly.plotly as py\n",
    "import plotly.tools as tls\n",
    "import plotly.graph_objs as go\n",
    "from plotly.graph_objs import *\n",
    "from plotly.offline import init_notebook_mode, iplot, plot\n",
    "\n",
    "import numpy as np\n",
    "import pandas as pd"
   ]
  },
  {
   "cell_type": "markdown",
   "metadata": {
    "colab_type": "text",
    "id": "dF_xSZTlB0PH"
   },
   "source": [
    "Para poder generar los gráficos de plotly es necesario obtener una cuenta en <a href=\"https://plot.ly/settings/api#/\" target=\"_blank\">plot.ly</a>"
   ]
  },
  {
   "cell_type": "code",
   "execution_count": 2,
   "metadata": {
    "colab": {},
    "colab_type": "code",
    "id": "i8XbN7G6KG-f"
   },
   "outputs": [
    {
     "ename": "SyntaxError",
     "evalue": "invalid syntax (<ipython-input-2-052d5a498686>, line 1)",
     "output_type": "error",
     "traceback": [
      "\u001b[0;36m  File \u001b[0;32m\"<ipython-input-2-052d5a498686>\"\u001b[0;36m, line \u001b[0;32m1\u001b[0m\n\u001b[0;31m    usuario = # usuario\u001b[0m\n\u001b[0m                       ^\u001b[0m\n\u001b[0;31mSyntaxError\u001b[0m\u001b[0;31m:\u001b[0m invalid syntax\n"
     ]
    }
   ],
   "source": [
    "usuario = # usuario\n",
    "key_api = # contraseña\n",
    "plotly.tools.set_credentials_file(username = usuario, api_key = key_api)"
   ]
  },
  {
   "cell_type": "markdown",
   "metadata": {
    "colab_type": "text",
    "id": "lJ_do8eZHQdk"
   },
   "source": [
    "### Plots online"
   ]
  },
  {
   "cell_type": "markdown",
   "metadata": {
    "colab_type": "text",
    "id": "4VTOHaX3F4uQ"
   },
   "source": [
    "Al graficar en línea, el plot y los datos se guardarán en su cuenta en la nube. Hay dos métodos para  plotear en línea: `py.plot()` y `py.iplot()`. Ambas opciones crean una URL única para la trama y la guardan en su cuenta de Plotly.\n",
    "\n",
    "Utilice `py.plot()` para devolver la URL única y, opcionalmente, abra la URL.\n",
    "\n",
    "Utilice  `py.iplot()` cuando trabaje en un cuaderno de Jupyter para visualizar el gráfico en la notebook."
   ]
  },
  {
   "cell_type": "code",
   "execution_count": 3,
   "metadata": {
    "colab": {
     "base_uri": "https://localhost:8080/",
     "height": 34
    },
    "colab_type": "code",
    "executionInfo": {
     "elapsed": 2367,
     "status": "ok",
     "timestamp": 1553544452475,
     "user": {
      "displayName": "Julián Ansaldo",
      "photoUrl": "https://lh6.googleusercontent.com/-jtDAH592MC0/AAAAAAAAAAI/AAAAAAAAAJk/8QGj_6WeMY8/s64/photo.jpg",
      "userId": "10643095115217147090"
     },
     "user_tz": 180
    },
    "id": "KWBVggRXGUyP",
    "outputId": "2329ac3d-67eb-4e65-f310-b92b001f6aab"
   },
   "outputs": [
    {
     "name": "stdout",
     "output_type": "stream",
     "text": [
      "Aw, snap! We didn't get a username with your request.\n",
      "\n",
      "Don't have an account? https://plot.ly/api_signup\n",
      "\n",
      "Questions? accounts@plot.ly\n"
     ]
    },
    {
     "data": {
      "text/plain": [
       "''"
      ]
     },
     "execution_count": 3,
     "metadata": {},
     "output_type": "execute_result"
    }
   ],
   "source": [
    "trace0 = go.Scatter(x = [1, 2, 3, 4],\n",
    "                    y = [10, 15, 13, 17])\n",
    "\n",
    "trace1 = go.Scatter(x = [1, 2, 3, 4],\n",
    "                    y = [16, 5, 11, 9])\n",
    "\n",
    "data = [trace0, trace1]\n",
    "\n",
    "py.plot(data, filename = 'basic-line', auto_open = True)"
   ]
  },
  {
   "cell_type": "markdown",
   "metadata": {
    "colab_type": "text",
    "id": "SgGmvO-NHUF7"
   },
   "source": [
    "### Plots offline"
   ]
  },
  {
   "cell_type": "markdown",
   "metadata": {
    "colab_type": "text",
    "id": "bsV6VMk_HWG0"
   },
   "source": [
    "Plotly Offline le permite crear gráficos offline y guardarlos localmente. También hay dos métodos para graficar offline:  `plotly.offline.plot()`  y `plotly.offline.iplot()`\n",
    "\n",
    "Use `plotly.offline.plot()` para crear un HTML que se guarda localmente y se abre dentro de su navegador web.\n",
    "Use `plotly.offline.iplot()` cuando trabaje offline en un Jupyter Notebook para visualizar el plot  en la notebook. "
   ]
  },
  {
   "cell_type": "code",
   "execution_count": null,
   "metadata": {
    "colab": {
     "base_uri": "https://localhost:8080/",
     "height": 34
    },
    "colab_type": "code",
    "executionInfo": {
     "elapsed": 1165,
     "status": "ok",
     "timestamp": 1553543859965,
     "user": {
      "displayName": "Julián Ansaldo",
      "photoUrl": "https://lh6.googleusercontent.com/-jtDAH592MC0/AAAAAAAAAAI/AAAAAAAAAJk/8QGj_6WeMY8/s64/photo.jpg",
      "userId": "10643095115217147090"
     },
     "user_tz": 180
    },
    "id": "_x4m1iXiH7YD",
    "outputId": "b925c2f9-e96d-4089-a289-da75c0f9bf4c"
   },
   "outputs": [],
   "source": [
    "plotly.offline.plot({\"data\": [go.Scatter(x = [1, 2, 3, 4], y = [4, 3, 2, 1])],\n",
    "                     \"layout\": go.Layout(title = \"hello, world\")},\\\n",
    "                      filename='hello world 1')"
   ]
  },
  {
   "cell_type": "code",
   "execution_count": null,
   "metadata": {
    "colab": {
     "base_uri": "https://localhost:8080/",
     "height": 542,
     "output_embedded_package_id": "13OmJBSOZyR8K0_4b_Qz_LjdMEwfMStUa"
    },
    "colab_type": "code",
    "executionInfo": {
     "elapsed": 5270,
     "status": "ok",
     "timestamp": 1553544187152,
     "user": {
      "displayName": "Julián Ansaldo",
      "photoUrl": "https://lh6.googleusercontent.com/-jtDAH592MC0/AAAAAAAAAAI/AAAAAAAAAJk/8QGj_6WeMY8/s64/photo.jpg",
      "userId": "10643095115217147090"
     },
     "user_tz": 180
    },
    "id": "k11IvU7LH9Vy",
    "outputId": "92199126-619c-4f47-a985-760686932c1c",
    "scrolled": false
   },
   "outputs": [],
   "source": [
    "init_notebook_mode()\n",
    "\n",
    "iplot({\"data\": [go.Scatter(x = [1, 2, 3, 4], y = [4, 3, 2, 1])],\n",
    "       \"layout\": go.Layout(title = \"hello, world\")})"
   ]
  },
  {
   "cell_type": "markdown",
   "metadata": {
    "colab_type": "text",
    "id": "eOBEqi-TFkUy"
   },
   "source": [
    "## Algunos ejemplos sencillos"
   ]
  },
  {
   "cell_type": "markdown",
   "metadata": {
    "colab_type": "text",
    "id": "xon4mQmTJCiJ"
   },
   "source": [
    "### Bar Chart"
   ]
  },
  {
   "cell_type": "code",
   "execution_count": null,
   "metadata": {
    "colab": {
     "base_uri": "https://localhost:8080/",
     "height": 546
    },
    "colab_type": "code",
    "executionInfo": {
     "elapsed": 3063,
     "status": "ok",
     "timestamp": 1553544443244,
     "user": {
      "displayName": "Julián Ansaldo",
      "photoUrl": "https://lh6.googleusercontent.com/-jtDAH592MC0/AAAAAAAAAAI/AAAAAAAAAJk/8QGj_6WeMY8/s64/photo.jpg",
      "userId": "10643095115217147090"
     },
     "user_tz": 180
    },
    "id": "sWud7pkjL9fC",
    "outputId": "fc998009-eb0d-41bc-e0a1-99109af330a8"
   },
   "outputs": [],
   "source": [
    "data = [go.Bar(x=['data scientist ', 'data engineer', 'software engineer'],\n",
    "               y=[20, 14, 23])]\n",
    "\n",
    "py.iplot(data, filename='basic-bar')"
   ]
  },
  {
   "cell_type": "markdown",
   "metadata": {
    "colab_type": "text",
    "id": "ltdhWYgGMXlK"
   },
   "source": [
    "### Bar Chart agrupado \n"
   ]
  },
  {
   "cell_type": "code",
   "execution_count": null,
   "metadata": {
    "colab": {
     "base_uri": "https://localhost:8080/",
     "height": 546
    },
    "colab_type": "code",
    "executionInfo": {
     "elapsed": 2611,
     "status": "ok",
     "timestamp": 1553544462520,
     "user": {
      "displayName": "Julián Ansaldo",
      "photoUrl": "https://lh6.googleusercontent.com/-jtDAH592MC0/AAAAAAAAAAI/AAAAAAAAAJk/8QGj_6WeMY8/s64/photo.jpg",
      "userId": "10643095115217147090"
     },
     "user_tz": 180
    },
    "id": "7Rte5X7WMgIH",
    "outputId": "9c67c7f9-fba2-411d-e891-5a5d96fd35eb"
   },
   "outputs": [],
   "source": [
    "trace1 = go.Bar(x=['data sciencetist ', 'data engineer', 'software engineer'],\n",
    "                y=[20, 14, 23],\n",
    "                name='Buenos Aires')\n",
    "\n",
    "trace2 = go.Bar(x=['data sciencetist ', 'data engineer', 'software engineer'],\n",
    "                y=[12, 18, 29],\n",
    "                name='NY')\n",
    "\n",
    "data = [trace1, trace2]\n",
    "\n",
    "layout = go.Layout(barmode = 'group')\n",
    "\n",
    "fig = go.Figure(data = data, layout = layout)\n",
    "py.iplot(fig, filename = 'grouped-bar')"
   ]
  },
  {
   "cell_type": "markdown",
   "metadata": {
    "colab_type": "text",
    "id": "6wWqCwcXM-o5"
   },
   "source": [
    "### Stacked Bar Chart "
   ]
  },
  {
   "cell_type": "code",
   "execution_count": null,
   "metadata": {
    "colab": {
     "base_uri": "https://localhost:8080/",
     "height": 546
    },
    "colab_type": "code",
    "executionInfo": {
     "elapsed": 2790,
     "status": "ok",
     "timestamp": 1553544475193,
     "user": {
      "displayName": "Julián Ansaldo",
      "photoUrl": "https://lh6.googleusercontent.com/-jtDAH592MC0/AAAAAAAAAAI/AAAAAAAAAJk/8QGj_6WeMY8/s64/photo.jpg",
      "userId": "10643095115217147090"
     },
     "user_tz": 180
    },
    "id": "6eDX6o0YNB4L",
    "outputId": "800079ee-c280-48b6-df99-2112e3292a5b"
   },
   "outputs": [],
   "source": [
    "trace1 = go.Bar(x=['data sciencetist ', 'data engineer', 'software engineer'],\n",
    "                y=[20, 14, 23],\n",
    "                name='Buenos Aires')\n",
    "\n",
    "trace2 = go.Bar(x=['data sciencetist ', 'data engineer', 'software engineer'],\n",
    "                y=[12, 18, 29],\n",
    "                name='NY')\n",
    "\n",
    "data = [trace1, trace2]\n",
    "\n",
    "layout = go.Layout(barmode='stack')\n",
    "\n",
    "fig = go.Figure(data=data, layout=layout)\n",
    "py.iplot(fig, filename='stacked-bar')"
   ]
  },
  {
   "cell_type": "markdown",
   "metadata": {
    "colab_type": "text",
    "id": "m9lQPCvvNXGY"
   },
   "source": [
    "### Bar Chart con Hover text"
   ]
  },
  {
   "cell_type": "code",
   "execution_count": null,
   "metadata": {
    "colab": {
     "base_uri": "https://localhost:8080/",
     "height": 546
    },
    "colab_type": "code",
    "executionInfo": {
     "elapsed": 2453,
     "status": "ok",
     "timestamp": 1553544577574,
     "user": {
      "displayName": "Julián Ansaldo",
      "photoUrl": "https://lh6.googleusercontent.com/-jtDAH592MC0/AAAAAAAAAAI/AAAAAAAAAJk/8QGj_6WeMY8/s64/photo.jpg",
      "userId": "10643095115217147090"
     },
     "user_tz": 180
    },
    "id": "2HBtP3J-Nbyk",
    "outputId": "cacd21de-1950-4336-dac3-226d7a932221"
   },
   "outputs": [],
   "source": [
    "trace0 = go.Bar(x=['Producto A', 'Producto B', 'Producto C'],\n",
    "                y=[20, 14, 23],\n",
    "                text=['27% market share', '24% market share', '19% market share'],\n",
    "                marker=dict(color=['rgb(158,202,225)','rgb(111,202,135)', 'rgb(158,60,225)'],\n",
    "                            line=dict(color='rgb(8,48,107)',\n",
    "                                      width=1.5)),\n",
    "                opacity=0.6)\n",
    "\n",
    "data = [trace0]\n",
    "layout = go.Layout(title='Reporte de ventas - Febrero 2019')\n",
    "\n",
    "fig = go.Figure(data=data, layout=layout)\n",
    "py.iplot(fig, filename='text-hover-bar')"
   ]
  },
  {
   "cell_type": "markdown",
   "metadata": {
    "colab_type": "text",
    "id": "6VH5cU8xNdsU"
   },
   "source": [
    "### Waterfall bar Chart"
   ]
  },
  {
   "cell_type": "code",
   "execution_count": null,
   "metadata": {
    "colab": {
     "base_uri": "https://localhost:8080/",
     "height": 546
    },
    "colab_type": "code",
    "executionInfo": {
     "elapsed": 2946,
     "status": "ok",
     "timestamp": 1553544584057,
     "user": {
      "displayName": "Julián Ansaldo",
      "photoUrl": "https://lh6.googleusercontent.com/-jtDAH592MC0/AAAAAAAAAAI/AAAAAAAAAJk/8QGj_6WeMY8/s64/photo.jpg",
      "userId": "10643095115217147090"
     },
     "user_tz": 180
    },
    "id": "t_zDkBpZOUIX",
    "outputId": "885d415a-69a9-45fc-9412-d5b27863f915",
    "scrolled": false
   },
   "outputs": [],
   "source": [
    "x_data = ['Ingresos por<br>producto', 'Ingresos por<br>servicios',\n",
    "          'Ingresos<br>totales', 'Costos<br>fijos',\n",
    "          'Costos<br>variables', 'Costos<br>totales', 'Total']\n",
    "\n",
    "y_data = [400, 660, 660, 660, 545, 660, 340]\n",
    "\n",
    "text = ['$430K', '$260K', '$690K', '$-120K', '$-200K', '$-320K', '$370K']\n",
    "\n",
    "# Base\n",
    "trace0 = go.Bar( x = x_data,\n",
    "                 y = [0, 430, 0, 690, 570, 690, 0],\n",
    "                 marker = {'color' : 'rgba(1,1,1, 0)'} )\n",
    "\n",
    "# Ingresos\n",
    "trace1 = go.Bar( x = x_data,\n",
    "                 y = [430, 260, 690, 0, 0, 0, 0],\n",
    "                 marker = {'color':'rgba(55, 128, 191, 0.7)',\n",
    "                           'line' : {'color':'rgba(55, 128, 191, 1.0)', 'width':2} } )\n",
    "# Costos\n",
    "trace2 = go.Bar( x = x_data ,\n",
    "                 y = [0, 0, 0, -120, -200, -320, 0],\n",
    "                 marker = { 'color':'rgba(219, 64, 82, 0.7)',\n",
    "                            'line' : { 'color':'rgba(219, 64, 82, 1.0)', 'width':2} } )\n",
    "# Ganancias\n",
    "trace3 = go.Bar( x = x_data,\n",
    "                 y = [0, 0, 0, 0, 0, 0, 370],\n",
    "                 marker = { 'color':'rgba(50, 171, 96, 0.7)',\n",
    "                            'line' : {'color':'rgba(50, 171, 96, 1.0)', 'width':2 } } )\n",
    "\n",
    "\n",
    "data = [trace0, trace1, trace2, trace3]\n",
    "\n",
    "layout = go.Layout( title  = 'Ganancia anual - 2018',\n",
    "                    barmode  = 'stack',\n",
    "                    paper_bgcolor = 'rgba(245, 246, 249, 1)',\n",
    "                    plot_bgcolor  = 'rgba(235, 236, 239, 1)',\n",
    "                    showlegend = False )\n",
    "\n",
    "annotations = []\n",
    "\n",
    "for i in range(0, 7):\n",
    "    \n",
    "    annotations.append({'x' : x_data[i],\n",
    "                        'y' : y_data[i],\n",
    "                        'showarrow':False,\n",
    "                        'text' : text[i],\n",
    "                        'font': { 'family':'Arial',\n",
    "                                  'size'  : 14,\n",
    "                                  'color' :'rgba(245, 246, 249, 1)'} })\n",
    "    \n",
    "layout['annotations'] = annotations\n",
    "\n",
    "fig = go.Figure(data=data, layout=layout)\n",
    "py.iplot(fig, filename='waterfall-bar-profit')"
   ]
  },
  {
   "cell_type": "markdown",
   "metadata": {
    "colab_type": "text",
    "id": "VLde5YaemYzl"
   },
   "source": [
    "## 3D Visualización de ADN"
   ]
  },
  {
   "cell_type": "markdown",
   "metadata": {
    "colab_type": "text",
    "id": "zKYmdkY5LsH4"
   },
   "source": [
    "Datos disponibles en https://www.wwpdb.org/."
   ]
  },
  {
   "cell_type": "code",
   "execution_count": null,
   "metadata": {
    "colab": {},
    "colab_type": "code",
    "id": "cbXvcrh-mfxu"
   },
   "outputs": [],
   "source": [
    "with open('265d.pdb') as f:\n",
    "    data = [x.split()[6:9] + [x.split()[-1]] for x in f.readlines() if 'ATOM' ==  x.split()[0]]"
   ]
  },
  {
   "cell_type": "code",
   "execution_count": null,
   "metadata": {
    "colab": {
     "base_uri": "https://localhost:8080/",
     "height": 187
    },
    "colab_type": "code",
    "executionInfo": {
     "elapsed": 1076,
     "status": "ok",
     "timestamp": 1553544896340,
     "user": {
      "displayName": "Julián Ansaldo",
      "photoUrl": "https://lh6.googleusercontent.com/-jtDAH592MC0/AAAAAAAAAAI/AAAAAAAAAJk/8QGj_6WeMY8/s64/photo.jpg",
      "userId": "10643095115217147090"
     },
     "user_tz": 180
    },
    "id": "NLPnIUGdKHAc",
    "outputId": "5df7d9ae-dbd8-4d09-af21-8cef9990c4dc"
   },
   "outputs": [],
   "source": [
    "data[0:10]"
   ]
  },
  {
   "cell_type": "code",
   "execution_count": null,
   "metadata": {},
   "outputs": [],
   "source": [
    "x = np.array(data)[:,0].astype(float)\n",
    "y = np.array(data)[:,1].astype(float)\n",
    "z = np.array(data)[:,2].astype(float)"
   ]
  },
  {
   "cell_type": "code",
   "execution_count": null,
   "metadata": {
    "colab": {},
    "colab_type": "code",
    "id": "pfdbmMSMm2Og"
   },
   "outputs": [],
   "source": [
    "trace1 = go.Scatter3d(x = x,\n",
    "                      y = y,\n",
    "                      z = z,\n",
    "                      mode = 'markers',\n",
    "                      marker = dict(size = 2,\n",
    "                                    color = z, # Los colores se definen en función de la variable z\n",
    "                                    colorscale = 'Viridis', # Elegimos una escala de colores\n",
    "                                    opacity = 0.8))"
   ]
  },
  {
   "cell_type": "code",
   "execution_count": null,
   "metadata": {
    "colab": {
     "base_uri": "https://localhost:8080/",
     "height": 546
    },
    "colab_type": "code",
    "executionInfo": {
     "elapsed": 2698,
     "status": "ok",
     "timestamp": 1553545085310,
     "user": {
      "displayName": "Julián Ansaldo",
      "photoUrl": "https://lh6.googleusercontent.com/-jtDAH592MC0/AAAAAAAAAAI/AAAAAAAAAJk/8QGj_6WeMY8/s64/photo.jpg",
      "userId": "10643095115217147090"
     },
     "user_tz": 180
    },
    "id": "XtfN6pyFnAgn",
    "outputId": "6b7fd5b6-15c5-4f17-c650-174ab35471c8",
    "scrolled": false
   },
   "outputs": [],
   "source": [
    "data = [trace1]\n",
    "\n",
    "layout = go.Layout(margin = dict(l=0,\n",
    "                                 r=0,\n",
    "                                 b=0,\n",
    "                                 t=0))\n",
    "\n",
    "fig = go.Figure(data = data, layout = layout)\n",
    "py.iplot(fig, filename = '3d-scatter-colorscale')"
   ]
  },
  {
   "cell_type": "markdown",
   "metadata": {
    "colab_type": "text",
    "id": "Bd0bGu2vB0R7"
   },
   "source": [
    "## Gráfico de burbujas"
   ]
  },
  {
   "cell_type": "markdown",
   "metadata": {
    "colab_type": "text",
    "id": "xKvoP6TOB0Pk"
   },
   "source": [
    "### Carga de datos\n",
    "\n",
    "Los datos informan sobre la expectativa de vida, el producto interno bruto per cápita y la población, por año, continente y país."
   ]
  },
  {
   "cell_type": "code",
   "execution_count": null,
   "metadata": {
    "colab": {
     "base_uri": "https://localhost:8080/",
     "height": 204
    },
    "colab_type": "code",
    "executionInfo": {
     "elapsed": 1221,
     "status": "ok",
     "timestamp": 1553545848660,
     "user": {
      "displayName": "Julián Ansaldo",
      "photoUrl": "https://lh6.googleusercontent.com/-jtDAH592MC0/AAAAAAAAAAI/AAAAAAAAAJk/8QGj_6WeMY8/s64/photo.jpg",
      "userId": "10643095115217147090"
     },
     "user_tz": 180
    },
    "id": "f4F-tR8kB0Pl",
    "outputId": "e1a55476-8f44-4a88-9bf4-1e37f44997f3"
   },
   "outputs": [],
   "source": [
    "df = pd.read_csv('gapminderDataFiveYear.txt', sep='\\t')\n",
    "\n",
    "df.sample(5)"
   ]
  },
  {
   "cell_type": "markdown",
   "metadata": {
    "colab_type": "text",
    "id": "3iWudwv8B0Px"
   },
   "source": [
    "### Explicación"
   ]
  },
  {
   "cell_type": "markdown",
   "metadata": {
    "colab_type": "text",
    "id": "cLjZEZtNB0Pz"
   },
   "source": [
    "* Expectativa de vida versus PIB per cápita para un año específico para todos los países en el dataset, completando las  keys `y`  `x` keys en `Scatter`.\n",
    "\n",
    "* El tamaño de los marcadores es creciente en función del tamaño de la población (¡las bubbles!), con la `size` key en el objeto  `Marker`  vinculado al  `marker` en `Scatter`.\n",
    "\n",
    "* Los colores del marcado corresponden a diferentes continentes con la clave `'color'` key en el objeto marcador  `Marker`  vinculado al  `marker` en `Scatter`.\n",
    "\n",
    "Finalmente, para asegurarnos de que cada burbuja sea visible, modificamos la opaciddad de cada marcador.  Esto se hace linkeando la key  `opacity` en `Marker` a un valor entre 0 y 1."
   ]
  },
  {
   "cell_type": "code",
   "execution_count": null,
   "metadata": {
    "colab": {},
    "colab_type": "code",
    "id": "fFauIiZBB0QA"
   },
   "outputs": [],
   "source": [
    "# Filtramos para el año 2007\n",
    "df_year = df[df['year'] == 2007] "
   ]
  },
  {
   "cell_type": "markdown",
   "metadata": {
    "colab_type": "text",
    "id": "0pcJovAhLDk7"
   },
   "source": [
    "Se definen los colores por continente"
   ]
  },
  {
   "cell_type": "code",
   "execution_count": null,
   "metadata": {
    "colab": {},
    "colab_type": "code",
    "id": "n-GKY3VHB0QI"
   },
   "outputs": [],
   "source": [
    "colors = {\"Asia\"    :'#1f77b4',\n",
    "          \"Europe\"  :'#ff7f0e',\n",
    "          \"Africa\"  :'#2ca02c',\n",
    "          \"Americas\":'#d62728',\n",
    "          \"Oceania\" :'#9467bd' }"
   ]
  },
  {
   "cell_type": "markdown",
   "metadata": {
    "colab_type": "text",
    "id": "DY56dgZ5B0QQ"
   },
   "source": [
    "### Notar sizes"
   ]
  },
  {
   "cell_type": "code",
   "execution_count": null,
   "metadata": {
    "colab": {},
    "colab_type": "code",
    "id": "7bxiMW8bB0QW"
   },
   "outputs": [],
   "source": [
    "sizemode = 'area'\n",
    "sizeref = df_year['pop'].max() / 1e2 ** 2\n",
    "\n",
    "# Definimos una función generadora de  anotaciones (devuelve un objeto Scatter)\n",
    "def make_trace(X, continent, sizes, color):\n",
    "    \n",
    "    valor_x  = X['gdpPercap']\n",
    "    valor_y  = X['lifeExp']\n",
    "    \n",
    "    marcador = Marker(color = color, size = sizes,\n",
    "                      sizeref = sizeref, sizemode = sizemode,\n",
    "                      opacity=0.6, line=Line(width=0.0))\n",
    "    \n",
    "    scatt = Scatter(x = valor_x,\n",
    "                    y = valor_y,\n",
    "                    name = continent,\n",
    "                    mode = 'markers',\n",
    "                    marker = marcador)\n",
    "    \n",
    "    return scatt"
   ]
  },
  {
   "cell_type": "markdown",
   "metadata": {
    "colab_type": "text",
    "id": "Nud3NBWiB0Qc"
   },
   "source": [
    "### Se carga el objeto data"
   ]
  },
  {
   "cell_type": "code",
   "execution_count": null,
   "metadata": {
    "colab": {
     "base_uri": "https://localhost:8080/",
     "height": 323
    },
    "colab_type": "code",
    "executionInfo": {
     "elapsed": 1085,
     "status": "ok",
     "timestamp": 1553545862786,
     "user": {
      "displayName": "Julián Ansaldo",
      "photoUrl": "https://lh6.googleusercontent.com/-jtDAH592MC0/AAAAAAAAAAI/AAAAAAAAAJk/8QGj_6WeMY8/s64/photo.jpg",
      "userId": "10643095115217147090"
     },
     "user_tz": 180
    },
    "id": "-ya_idoPB0Qe",
    "outputId": "c4fd46e3-d6fa-45e2-ef65-d550ec0a9c00"
   },
   "outputs": [],
   "source": [
    "data = []\n",
    "\n",
    "for continente, df_continente in df_year.groupby('continent'):\n",
    "    \n",
    "    # serie que contiene la poblacion\n",
    "    sizes = df_continente['pop']\n",
    "    \n",
    "    # diccionario con los colores de continente\n",
    "    color = colors[continente]\n",
    "    \n",
    "    data.append(make_trace(df_continente, continente, sizes, color))                     "
   ]
  },
  {
   "cell_type": "code",
   "execution_count": null,
   "metadata": {
    "colab": {
     "base_uri": "https://localhost:8080/",
     "height": 289
    },
    "colab_type": "code",
    "executionInfo": {
     "elapsed": 1169,
     "status": "ok",
     "timestamp": 1553545867416,
     "user": {
      "displayName": "Julián Ansaldo",
      "photoUrl": "https://lh6.googleusercontent.com/-jtDAH592MC0/AAAAAAAAAAI/AAAAAAAAAJk/8QGj_6WeMY8/s64/photo.jpg",
      "userId": "10643095115217147090"
     },
     "user_tz": 180
    },
    "id": "8s6JdU2wB0Ql",
    "outputId": "8cc71318-762a-4f47-89c8-28dbcf6d18ce"
   },
   "outputs": [],
   "source": [
    "title = \"Grafico de burbujas - 2007\"\n",
    "x_title = \"Producto interno bruto per cápita [USD]\"\n",
    "y_title = \"Expectativa de vida [años]\"\n",
    "\n",
    "# Zeroline = marca una linea en los ejes en cero\n",
    "axis_style = { 'zeroline'  : False,\n",
    "               'gridcolor' :'#FFFFFF',\n",
    "               'ticks'     :'outside',\n",
    "               'ticklen'   : 8,\n",
    "               'tickwidth' : 1.5 }\n",
    "\n",
    "# Inicializamos una capa\n",
    "layout = Layout(title = title,\n",
    "                plot_bgcolor='#EFECEA',\n",
    "                xaxis = XAxis(axis_style, title=x_title),\n",
    "                yaxis = YAxis(axis_style, title=y_title))"
   ]
  },
  {
   "cell_type": "markdown",
   "metadata": {
    "colab_type": "text",
    "id": "zSUJXpbOB0Qs"
   },
   "source": [
    "### Se empaquetan las instancias de data y  layout en el objeto `Figure` "
   ]
  },
  {
   "cell_type": "code",
   "execution_count": null,
   "metadata": {},
   "outputs": [],
   "source": [
    "plotly.tools.set_config_file(world_readable=True,\n",
    "                             sharing='public')"
   ]
  },
  {
   "cell_type": "code",
   "execution_count": null,
   "metadata": {
    "colab": {
     "base_uri": "https://localhost:8080/",
     "height": 546
    },
    "colab_type": "code",
    "executionInfo": {
     "elapsed": 2785,
     "status": "ok",
     "timestamp": 1553545924515,
     "user": {
      "displayName": "Julián Ansaldo",
      "photoUrl": "https://lh6.googleusercontent.com/-jtDAH592MC0/AAAAAAAAAAI/AAAAAAAAAJk/8QGj_6WeMY8/s64/photo.jpg",
      "userId": "10643095115217147090"
     },
     "user_tz": 180
    },
    "id": "-4sQKk1MB0Qu",
    "outputId": "2b647229-fe49-4a70-ee08-a7ef03dc88cd"
   },
   "outputs": [],
   "source": [
    "fig = Figure(data = data, layout = layout)\n",
    "py.iplot(fig, filename='grafico_burbujas')"
   ]
  },
  {
   "cell_type": "markdown",
   "metadata": {
    "colab_type": "text",
    "id": "RjDiS8a-B0Q1"
   },
   "source": [
    "### Axis types"
   ]
  },
  {
   "cell_type": "markdown",
   "metadata": {
    "colab_type": "text",
    "id": "yqJu3vKpB0Q2"
   },
   "source": [
    "Más generalmente, Plotly permite a los usuarios elegir entre diferentes *exponent format* con las claves  `'exponentformat'`  en `XAxis` y `YAxis`. Los valores disponibles para  `'exponentformat'` son:\n",
    "\n",
    "* `'none'`, para ningún exponente,\n",
    "* `'e'`,  para lower-case exponent form, . `1000` es mostrado como `1e-3`,\n",
    "* `'E'`, para upper-case exponent form,  `1000` es mostrado  como `1E-3`,\n",
    "* `'power'`, para potencias de $10$ ,  `1000` es mostrado como $10^3$,\n",
    "* `'SI'`, prefijos del Sistema Internacional  `10,000` es `10k` y 1 billon es `1G`,\n",
    "* `'B'`, para prefijos alternativos, 1 billon es `1B`.\n",
    "\n",
    "La key `'showexponent'`, también en `XAxis` y `YAxis`, determina qué ticks labels son mostradas en exponent form. Los usos disponibles para `'showexponent'` son:\n",
    "\n",
    "* `'none'`, para ningún exponente,\n",
    "* `'all'`, para exponentes en todas las  tick labels,\n",
    "* `'first'`, para exponente sólo en la primera tick label,\n",
    "* `'last'`, para exponente sólo en la última tick label.\n",
    "\n",
    "En el próximo gráfico, seteamos todos los exponentes a `'power'`.\n",
    "\n",
    "Además, como la relación entre PIB per cápita y expectativa de vida parece ser logarítmica, reploteamos nuestro primer **bubble chart** usando log x-axis mediante la key `type`. "
   ]
  },
  {
   "cell_type": "markdown",
   "metadata": {
    "colab_type": "text",
    "id": "TueCEVBkB0RA"
   },
   "source": [
    "Por lo que cambiar el tipo del eje es tan fácil como agregar un par key-value en `XAxis` (o `YAxis`). "
   ]
  },
  {
   "cell_type": "markdown",
   "metadata": {
    "colab_type": "text",
    "id": "sAii7gsKB0RB"
   },
   "source": [
    "### Hover-mode options"
   ]
  },
  {
   "cell_type": "markdown",
   "metadata": {
    "colab_type": "text",
    "id": "Gf35d0-wB0RF"
   },
   "source": [
    "Agregemos un poco de hover text (la key  `'text'`  en `Scatter`) y cambiando el *hover mode* del plot"
   ]
  },
  {
   "cell_type": "markdown",
   "metadata": {
    "colab_type": "text",
    "id": "69fRDuULB0RV"
   },
   "source": [
    "Por default, cuando nos posamos sobre un data point, Plotly imprime el valor de la variable y su valor x sobre este eje. El comportamiento por default corresponde a `'hovermode':'x'` definido en `Layout`. En contraste, con  `'hovermode':'y'`,  Plotly imprime los valores de x cerca del cursor y los valores de y en este último eje.\n",
    "\n",
    "Alternativamente, cuando `'hovermode'` es seteado a `'closest'`, se muestra la información de los data points más cercanos al lugar donde se encuentra el cursor. Plotly imprime esta información dentro de la misma caja de texto como el texto linkeado a la key `'text'` (si está definida) en el objeto trace en cuestión."
   ]
  },
  {
   "cell_type": "code",
   "execution_count": null,
   "metadata": {
    "colab": {},
    "colab_type": "code",
    "id": "7jDTUMlUB0RH",
    "scrolled": true
   },
   "outputs": [],
   "source": [
    "help(Layout)"
   ]
  },
  {
   "cell_type": "code",
   "execution_count": null,
   "metadata": {
    "colab": {
     "base_uri": "https://localhost:8080/",
     "height": 425
    },
    "colab_type": "code",
    "executionInfo": {
     "elapsed": 1057,
     "status": "ok",
     "timestamp": 1553546052708,
     "user": {
      "displayName": "Julián Ansaldo",
      "photoUrl": "https://lh6.googleusercontent.com/-jtDAH592MC0/AAAAAAAAAAI/AAAAAAAAAJk/8QGj_6WeMY8/s64/photo.jpg",
      "userId": "10643095115217147090"
     },
     "user_tz": 180
    },
    "id": "5ysQNtaSB0RW",
    "outputId": "05673ea5-8af5-4f84-f678-5e9b4cd34974"
   },
   "outputs": [],
   "source": [
    "# Update de la key de 'xaxis', la seteamos a tipo logarítmico y con formato power exponent\n",
    "fig['layout']['xaxis'].update({'type':'log',\n",
    "                               'exponentformat':'power',\n",
    "                               'showexponent':'all'})\n",
    "\n",
    "# Update del objeto layout\n",
    "fig['layout'].update({'hovermode' :'closest',\n",
    "                      'showlegend': True,\n",
    "                      'autosize'  : False,\n",
    "                      'width'     : 650,\n",
    "                      'height'    : 500});"
   ]
  },
  {
   "cell_type": "markdown",
   "metadata": {
    "colab_type": "text",
    "id": "2-HFppoYB0Re"
   },
   "source": [
    "Vamos a actualizar cada objeto trace para que que haya un texto que presente los valores de todas las variables del dataset a medida que nos acercamos. "
   ]
  },
  {
   "cell_type": "code",
   "execution_count": null,
   "metadata": {
    "colab": {},
    "colab_type": "code",
    "id": "mf1T8s5LB0Ri"
   },
   "outputs": [],
   "source": [
    "def make_text(data_fr):\n",
    "    return 'País: %s\\\n",
    "    <br>Expectativa de vida: %s años\\\n",
    "    <br>PIB per cápita: USD %s\\\n",
    "    <br>Población: %s millones'\\\n",
    "    % (data_fr['country'], data_fr['lifeExp'], data_fr['gdpPercap'], data_fr['pop']/1e6)     \n",
    "    \n",
    "# Se agrupa el dataframe por continentes\n",
    "for traza, (continente, df_continente) in enumerate(df_year.groupby('continent')):\n",
    "    \n",
    "    texto = df_continente.apply(make_text, axis = 1).tolist()\n",
    "    \n",
    "    fig['data'][traza].update(text = texto)"
   ]
  },
  {
   "cell_type": "markdown",
   "metadata": {
    "colab_type": "text",
    "id": "RuYOH6aNB0Ro"
   },
   "source": [
    "El método `apply()` de los dataframes loopea por cada fila (con `axis=1`) y llama  a a una función, en nuestro caso  `make_text()`.\n",
    "\n",
    "Antes de enviar el objeto figura  a Plotly  agregamos una anotación citando la fuente de datos"
   ]
  },
  {
   "cell_type": "code",
   "execution_count": null,
   "metadata": {
    "colab": {
     "base_uri": "https://localhost:8080/",
     "height": 1003
    },
    "colab_type": "code",
    "executionInfo": {
     "elapsed": 1141,
     "status": "ok",
     "timestamp": 1553546182011,
     "user": {
      "displayName": "Julián Ansaldo",
      "photoUrl": "https://lh6.googleusercontent.com/-jtDAH592MC0/AAAAAAAAAAI/AAAAAAAAAJk/8QGj_6WeMY8/s64/photo.jpg",
      "userId": "10643095115217147090"
     },
     "user_tz": 180
    },
    "id": "FPM65MvGB0Rr",
    "outputId": "2a9796d0-b3d7-44ef-d90c-f3f93bd54047"
   },
   "outputs": [],
   "source": [
    "# Se cita la fuente\n",
    "anot = {'text'      :'Data source: GapMinder 2007',\n",
    "        'showarrow' : False,\n",
    "        'xref'      :'paper',\n",
    "        'yref'      :'paper',\n",
    "        'x'         : 0.02,\n",
    "        'y'         : 0.98,\n",
    "        'font'      : Font(size=14),\n",
    "        'bgcolor'   :'#FFFFFF',\n",
    "        'borderpad' : 4 }\n",
    "\n",
    "anot_object = Annotation(anot)\n",
    "\n",
    "fig['layout'].update({'annotations' : Annotations([anot_object])})  \n",
    "\n",
    "title = \"Gráfico de burbujas - 2007\"\n",
    "fig['layout'].update(title = title);"
   ]
  },
  {
   "cell_type": "code",
   "execution_count": null,
   "metadata": {
    "colab": {
     "base_uri": "https://localhost:8080/",
     "height": 521
    },
    "colab_type": "code",
    "executionInfo": {
     "elapsed": 2793,
     "status": "ok",
     "timestamp": 1553546215900,
     "user": {
      "displayName": "Julián Ansaldo",
      "photoUrl": "https://lh6.googleusercontent.com/-jtDAH592MC0/AAAAAAAAAAI/AAAAAAAAAJk/8QGj_6WeMY8/s64/photo.jpg",
      "userId": "10643095115217147090"
     },
     "user_tz": 180
    },
    "id": "kiBDY_f8B0Rz",
    "outputId": "92c7ef85-cff0-4c0f-bc65-6ec8495c1fb2"
   },
   "outputs": [],
   "source": [
    "# (@) Enviar a Plotly y mostrar en notebook\n",
    "py.iplot(fig, filename='s3_life-gdp-log')    "
   ]
  },
  {
   "cell_type": "markdown",
   "metadata": {
    "colab_type": "text",
    "id": "bnZJ3bgOFtTy"
   },
   "source": [
    "# Bonus\n",
    "## Un ejemplo más complejo..."
   ]
  },
  {
   "cell_type": "markdown",
   "metadata": {
    "colab_type": "text",
    "id": "dTg1tugfB0R8"
   },
   "source": [
    "\n",
    "Aunque pudimos incorporar mucha información en nuestros dos primeros gráficos de burbujas, solo se pudo mostrar el valor de un año. Nuestra próximo gráfico mostrará la evolución temporal de la variable del PIB per cápita en el conjunto de datos de GapMinder utilizando un * pequeño múltiplo*.\n",
    "\n",
    "Un pequeño múltiplo es una serie de gráficos o diagramas similares trazados como subtramas que les permiten ser fácilmente comparados entre sí. En nuestro caso, habrá una subtrama por país. Cada subtrama mostrará el PIB per cápita en función del tiempo, donde el tamaño de cada punto de datos será una función de la esperanza de vida de ese año.\n",
    "\n",
    "Primero, encontramos los años de inicio y finalización, así como la cantidad de países en el conjunto de datos:"
   ]
  },
  {
   "cell_type": "code",
   "execution_count": null,
   "metadata": {
    "colab": {
     "base_uri": "https://localhost:8080/",
     "height": 34
    },
    "colab_type": "code",
    "executionInfo": {
     "elapsed": 1071,
     "status": "ok",
     "timestamp": 1553546475455,
     "user": {
      "displayName": "Julián Ansaldo",
      "photoUrl": "https://lh6.googleusercontent.com/-jtDAH592MC0/AAAAAAAAAAI/AAAAAAAAAJk/8QGj_6WeMY8/s64/photo.jpg",
      "userId": "10643095115217147090"
     },
     "user_tz": 180
    },
    "id": "umBkyC9tB0R8",
    "outputId": "1538a6a7-f384-437b-e665-99e08dd40a8a"
   },
   "outputs": [],
   "source": [
    "# Año de inicio, de fin, y cantidad de años en el dataset \n",
    "df['year'].min(), df['year'].max(), len(df['year'].unique())"
   ]
  },
  {
   "cell_type": "code",
   "execution_count": null,
   "metadata": {
    "colab": {
     "base_uri": "https://localhost:8080/",
     "height": 34
    },
    "colab_type": "code",
    "executionInfo": {
     "elapsed": 1143,
     "status": "ok",
     "timestamp": 1553546508240,
     "user": {
      "displayName": "Julián Ansaldo",
      "photoUrl": "https://lh6.googleusercontent.com/-jtDAH592MC0/AAAAAAAAAAI/AAAAAAAAAJk/8QGj_6WeMY8/s64/photo.jpg",
      "userId": "10643095115217147090"
     },
     "user_tz": 180
    },
    "id": "yppJyA3nB0SE",
    "outputId": "a60be281-620d-4c85-e79f-6ffae4e73a9d"
   },
   "outputs": [],
   "source": [
    "N_country = df['country'].unique().shape[0]\n",
    "\n",
    "N_rowcol = int(round(np.sqrt(N_country)))   \n",
    "\n",
    "N_country, N_rowcol"
   ]
  },
  {
   "cell_type": "markdown",
   "metadata": {
    "colab_type": "text",
    "id": "ifzu0eqhB0SK"
   },
   "source": [
    "\n",
    "Hay 142 países en el dataset, por lo tanto, al elegir tener un pequeño múltiplo cuadrado para la estética, necesitamos una grilla de subplots de 12 por 12 para incluir a todos los países. En consecuencia, habrá 2 subplots vacíos.\n",
    "\n",
    "A continuación, generamos una grilla de subplot de 12 por 12 con ejes x e y compartidos usando `make_subplots()`:"
   ]
  },
  {
   "cell_type": "code",
   "execution_count": null,
   "metadata": {
    "colab": {
     "base_uri": "https://localhost:8080/",
     "height": 275
    },
    "colab_type": "code",
    "executionInfo": {
     "elapsed": 1100,
     "status": "ok",
     "timestamp": 1553546520157,
     "user": {
      "displayName": "Julián Ansaldo",
      "photoUrl": "https://lh6.googleusercontent.com/-jtDAH592MC0/AAAAAAAAAAI/AAAAAAAAAJk/8QGj_6WeMY8/s64/photo.jpg",
      "userId": "10643095115217147090"
     },
     "user_tz": 180
    },
    "id": "mmz4EIcMB0SM",
    "outputId": "eea41658-c72a-4469-87a6-9f74d18bfba7"
   },
   "outputs": [],
   "source": [
    "# Generamos objeto figura con 144 axes (12 rows x 12 columns)\n",
    "fig = tls.make_subplots( rows = N_rowcol,\n",
    "                         cols = N_rowcol,\n",
    "                         shared_xaxes = True,\n",
    "                         shared_yaxes = True )"
   ]
  },
  {
   "cell_type": "markdown",
   "metadata": {
    "colab_type": "text",
    "id": "-ICC84ORB0SR"
   },
   "source": [
    "De forma predeterminada, `make_subplots()` genera subplots de ejes en filas empezando desde la esquina superior izquierda de la gráfica."
   ]
  },
  {
   "cell_type": "markdown",
   "metadata": {
    "colab_type": "text",
    "id": "3_mwLQ2yB0SS"
   },
   "source": [
    "A continuación, definimos una función generadora de anotaciones. El color de cada burbuja está determinado por el continente y el texto emergente se agrega usando `make_text()`:"
   ]
  },
  {
   "cell_type": "code",
   "execution_count": null,
   "metadata": {
    "colab": {},
    "colab_type": "code",
    "id": "d30kR2ZMB0SS"
   },
   "outputs": [],
   "source": [
    "sizemode = 'diameter'\n",
    "sizeref = df['lifeExp'].max() / 30\n",
    "\n",
    "# Definimos una función generadora de anotaciones (retorna un objeto scatter)\n",
    "def make_Scatter_gdp(i, j, x , y, color, sizes, name, text):\n",
    "    \n",
    "    mark = Marker( color    = color,\n",
    "                   size     = sizes,\n",
    "                   sizeref  = sizeref,\n",
    "                   sizemode = sizemode,\n",
    "                   opacity  = 0.6 )\n",
    "    \n",
    "    scatt = Scatter(x      = x,\n",
    "                    y      = y,\n",
    "                    name   = name,\n",
    "                    text   = text,\n",
    "                    mode   = 'markers',\n",
    "                    marker = mark,\n",
    "                    xaxis  = 'x{}'.format(i),\n",
    "                    yaxis  = 'y{}'.format(j))\n",
    "\n",
    "    return scatt"
   ]
  },
  {
   "cell_type": "markdown",
   "metadata": {
    "colab_type": "text",
    "id": "cuo7jeYZB0SW"
   },
   "source": [
    "\n",
    "Para tratar de limitar la cantidad de información redundante en el gráfico, solo los subplots en el lado izquierdo de la grilla de subplots tendrán los ejes y etiquetados y solo las subplots en la fila inferior de la grilla de los subplots tendrán ejes x etiquetadas.\n",
    "\n",
    "Además, para una mejor comparación entre países, todas las subplots tendrán el mismo rango de ejes. Entonces, tengamos una idea del rango en el PIB per cápita en el conjunto de datos:"
   ]
  },
  {
   "cell_type": "code",
   "execution_count": null,
   "metadata": {
    "colab": {
     "base_uri": "https://localhost:8080/",
     "height": 34
    },
    "colab_type": "code",
    "executionInfo": {
     "elapsed": 1087,
     "status": "ok",
     "timestamp": 1553546594041,
     "user": {
      "displayName": "Julián Ansaldo",
      "photoUrl": "https://lh6.googleusercontent.com/-jtDAH592MC0/AAAAAAAAAAI/AAAAAAAAAJk/8QGj_6WeMY8/s64/photo.jpg",
      "userId": "10643095115217147090"
     },
     "user_tz": 180
    },
    "id": "ahbcLoYAB0SW",
    "outputId": "4a84181e-e654-4452-fa78-a263f1d860e5"
   },
   "outputs": [],
   "source": [
    "df['gdpPercap'].min(), df['gdpPercap'].max()"
   ]
  },
  {
   "cell_type": "markdown",
   "metadata": {
    "colab_type": "text",
    "id": "5Pkz4zYaB0Sf"
   },
   "source": [
    "Luego, definimos diccionarios de estilo para los objetos del eje $x$ e $y$  y los pegamos en el objeto figura:"
   ]
  },
  {
   "cell_type": "code",
   "execution_count": null,
   "metadata": {
    "colab": {},
    "colab_type": "code",
    "id": "RFnIt48uB0Sh"
   },
   "outputs": [],
   "source": [
    "# Para todos los ejes y\n",
    "yaxis_style = { 'type'    : 'log',\n",
    "                'range'   : [np.log10(90), np.log10(5e5)],\n",
    "                'title'   : 'PIB per cápita', # título del eje y\n",
    "                'ticks'   : 'outside',\n",
    "                'showline': True,\n",
    "                'showgrid': False,\n",
    "                'zeroline': False }\n",
    "\n",
    "xaxis_style = { 'range'    : [1950, 2010],\n",
    "                'title'    : 'Año',\n",
    "                'ticks'    : 'outside',\n",
    "                'showline' : True,\n",
    "                'showgrid' : False,\n",
    "                'zeroline' : False }\n",
    "\n",
    "# Pegamos los dicccionarios de estilo en el objeto figura\n",
    "for i in range(N_rowcol):\n",
    "    \n",
    "    yaxis_splt = fig['layout']['yaxis{}'.format(i+1)]\n",
    "    yaxis_splt.update(yaxis_style)\n",
    "    \n",
    "    xaxis_splt = fig['layout']['xaxis{}'.format(i+1)]\n",
    "    xaxis_splt.update(xaxis_style)"
   ]
  },
  {
   "cell_type": "markdown",
   "metadata": {
    "colab_type": "text",
    "id": "sn2pqXD8B0Si"
   },
   "source": [
    "\n",
    "Ahora, creamos una función de generación de anotaciones para etiquetar los subplots con el nombre de cada país:"
   ]
  },
  {
   "cell_type": "code",
   "execution_count": null,
   "metadata": {
    "colab": {},
    "colab_type": "code",
    "id": "hBbSMOdVB0Sj"
   },
   "outputs": [],
   "source": [
    "# Definimos una función generadora de anotaciones, para etiquetar cada subplot\n",
    "def make_splt_anno(i, j, country):\n",
    "    if len(country) > 14:\n",
    "        country = country[0:14] + '.'  # Trunca el nombre del país si es muy largo\n",
    "    \n",
    "    annot = Annotation( { 'xref'     : 'x{}'.format(i),\n",
    "                          'yref'     : 'y{}'.format(j),\n",
    "                          'x'        :  1955,\n",
    "                          'xanchor'  : 'left',\n",
    "                          'y'        : np.log10(2.5e5),\n",
    "                          'text'     : country,\n",
    "                          'showarrow': False,\n",
    "                          'align'    : 'center',\n",
    "                          'font'     : Font(size=14) } )\n",
    "    \n",
    "    return annot"
   ]
  },
  {
   "cell_type": "markdown",
   "metadata": {
    "colab_type": "text",
    "id": "uWM0mbhvB0Sl"
   },
   "source": [
    "Agregamos algunas  keys al objeto `layout`:"
   ]
  },
  {
   "cell_type": "code",
   "execution_count": null,
   "metadata": {
    "colab": {
     "base_uri": "https://localhost:8080/",
     "height": 306
    },
    "colab_type": "code",
    "executionInfo": {
     "elapsed": 1155,
     "status": "ok",
     "timestamp": 1553546672101,
     "user": {
      "displayName": "Julián Ansaldo",
      "photoUrl": "https://lh6.googleusercontent.com/-jtDAH592MC0/AAAAAAAAAAI/AAAAAAAAAJk/8QGj_6WeMY8/s64/photo.jpg",
      "userId": "10643095115217147090"
     },
     "user_tz": 180
    },
    "id": "MM36mrC6B0Sm",
    "outputId": "fccd0aca-03bf-4406-f48c-5d39f6c36cdf",
    "scrolled": true
   },
   "outputs": [],
   "source": [
    "width  = 2000\n",
    "height = 1800\n",
    "\n",
    "title = \"PIB per cápita desde 1952 a 2007 en dólares del año 2000\"\n",
    "\n",
    "fig['layout'].update( {'title'     : {'text':title, 'font':Font(size=30)},\n",
    "                       'showlegend': False,\n",
    "                       'autosize'  : False,\n",
    "                       'width'     : width,\n",
    "                       'height'    : height } );"
   ]
  },
  {
   "cell_type": "markdown",
   "metadata": {
    "colab_type": "text",
    "id": "3exJpI0YB0So"
   },
   "source": [
    "Ahora, recorremos todos los países en el dataframe y completamos el objeto de datos y actualizamos el estilo de cada eje:"
   ]
  },
  {
   "cell_type": "code",
   "execution_count": null,
   "metadata": {
    "colab": {},
    "colab_type": "code",
    "id": "SyJsc5ssB0Sq"
   },
   "outputs": [],
   "source": [
    "i = 1\n",
    "j = 1\n",
    "annot = []\n",
    "\n",
    "for country, sub_df in df.groupby('country'):\n",
    "    \n",
    "    x = sub_df['year'].values \n",
    "    y = sub_df['gdpPercap'].values \n",
    "   \n",
    "    sizes     = sub_df['lifeExp'].values \n",
    "    continent = sub_df['continent'].values[0]\n",
    "    \n",
    "    color = colors[continent]\n",
    "    text = sub_df.apply(make_text, axis=1).tolist()\n",
    "    country = country\n",
    "    \n",
    "    scatt = make_Scatter_gdp(i, j, x, y, color, sizes, continent,  text)\n",
    "    \n",
    "    fig.add_trace(scatt)\n",
    "    annot.append(make_splt_anno(i, j, country))\n",
    "    \n",
    "    if i == 12:\n",
    "        j += 1\n",
    "        i = 1\n",
    "    else:\n",
    "        i += 1\n",
    "        \n",
    "width  = 2000\n",
    "height = 1800\n",
    "\n",
    "title = \"PIB per cápita desde 1952 a 2007 en dólares del año 2000\"\n",
    "\n",
    "fig['layout'].update( {'title'     : {'text':title, 'font':Font(size=30)},\n",
    "                       'showlegend': False,\n",
    "                       'autosize'  : False,\n",
    "                       'width'     : width,\n",
    "                       'height'    : height } )\n",
    "\n",
    "# Key inicialización de 'annotations'\n",
    "fig['layout']['annotations'] = Annotations(annot)"
   ]
  },
  {
   "cell_type": "markdown",
   "metadata": {
    "colab_type": "text",
    "id": "N563KW1AB0Su"
   },
   "source": [
    "\n",
    "Ahora estamos listos para enviar el objeto figura a Plotly y ver los resultados:"
   ]
  },
  {
   "cell_type": "code",
   "execution_count": null,
   "metadata": {
    "colab": {},
    "colab_type": "code",
    "id": "1cySb2_1B0Sv",
    "scrolled": false
   },
   "outputs": [],
   "source": [
    "py.iplot(fig, filename='s3_small-multiples', width=width, height=height)"
   ]
  },
  {
   "cell_type": "code",
   "execution_count": null,
   "metadata": {
    "colab": {},
    "colab_type": "code",
    "id": "yv3A0ecHKHAp"
   },
   "outputs": [],
   "source": []
  }
 ],
 "metadata": {
  "colab": {
   "collapsed_sections": [],
   "name": "2.PRACTICA_GUIADA_Plotly.ipynb",
   "provenance": [],
   "version": "0.3.2"
  },
  "kernelspec": {
   "display_name": "Python 3",
   "language": "python",
   "name": "python3"
  },
  "language_info": {
   "codemirror_mode": {
    "name": "ipython",
    "version": 3
   },
   "file_extension": ".py",
   "mimetype": "text/x-python",
   "name": "python",
   "nbconvert_exporter": "python",
   "pygments_lexer": "ipython3",
   "version": "3.6.6"
  }
 },
 "nbformat": 4,
 "nbformat_minor": 1
}
