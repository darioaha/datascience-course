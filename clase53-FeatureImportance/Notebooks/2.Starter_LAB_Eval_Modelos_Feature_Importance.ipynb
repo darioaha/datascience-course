{
 "cells": [
  {
   "cell_type": "markdown",
   "metadata": {
    "colab_type": "text",
    "id": "A6meDFNz4d4A"
   },
   "source": [
    "# LAB: Comparación de modelos\n",
    "\n",
    "En este lab vamos a comparar el rendimiento de todos los modelos que hemos aprendido hasta ahora, utilizando el dataset de evaluación de autos."
   ]
  },
  {
   "cell_type": "markdown",
   "metadata": {
    "colab_type": "text",
    "id": "V_H3QRGJ4d4E"
   },
   "source": [
    "## 1. Preparación de los datos\n",
    "\n",
    "El [dataset de evaluación de autos](https://archive.ics.uci.edu/ml/machine-learning-databases/car/) está en la carpeta datasets. Ya debería estar familiarizado con el mismo.\n",
    "\n",
    "1. Leer los datos en un dataframe de pandas\n",
    "- Codificar adecuadamente los features categóricos: definir un mapeo que preserve el orden (asignando números más pequeños a palabras que indiquen cantidades más pequeñas)\n",
    "- Separar los features de la variable objetivo en X e y"
   ]
  },
  {
   "cell_type": "code",
   "execution_count": 0,
   "metadata": {
    "colab": {},
    "colab_type": "code",
    "id": "AzFlmnAt4d4I"
   },
   "outputs": [],
   "source": []
  },
  {
   "cell_type": "markdown",
   "metadata": {
    "colab_type": "text",
    "id": "ExZol0ij4d4N"
   },
   "source": [
    "## 2. Preparación útil\n",
    "\n",
    "Dado que vamos a comparar varios modelos, resulta conveniente  escribir funciones auxiliares.\n",
    "\n",
    "1. Separar X e y entre entrenamiento / prueba, usando el 30% como set de prueba, y asignando `random_state=42`\n",
    "    - Asegurar de que los datos son mezclados y estratificados\n",
    "2. Definir una función llamada `evaluate_model`, que entrene el modelo con el set de entrenamiento y lo evalué con el set de prueba. Y que calcule:\n",
    "    - accuracy score\n",
    "    - confusion matrix\n",
    "    - classification report\n",
    "3. Inicializar un diccionario global para almacenar los distintos modelos, para su posterior uso.\n"
   ]
  },
  {
   "cell_type": "code",
   "execution_count": 0,
   "metadata": {
    "colab": {},
    "colab_type": "code",
    "id": "QzdeEvp34d4N"
   },
   "outputs": [],
   "source": []
  },
  {
   "cell_type": "markdown",
   "metadata": {
    "colab_type": "text",
    "id": "4X0JUXN04d4S"
   },
   "source": [
    "## 3.a KNN\n",
    "\n",
    "Comenzar con `KNeighborsClassifier`.\n",
    "\n",
    "1. Inicializar un modelo KNN\n",
    "- Evaluar su rendimiento con la función definida previamente\n",
    "- Buscar el valor óptimo de K mediante Grid Search\n",
    "    - Tener cuidado en cómo realizar la validación cruzada en Grid Search"
   ]
  },
  {
   "cell_type": "code",
   "execution_count": 0,
   "metadata": {
    "colab": {},
    "colab_type": "code",
    "id": "Mn8wb8o24d4T"
   },
   "outputs": [],
   "source": []
  },
  {
   "cell_type": "markdown",
   "metadata": {
    "colab_type": "text",
    "id": "NH6Kg6Q24d4Z"
   },
   "source": [
    "## 3.b Bagging + KNN\n",
    "\n",
    "Habiendo encontrado el K óptimo, vamos a meter `KNeighborsClassifier` en un BaggingClassifier y ver si la puntuación mejora.\n",
    "\n",
    "1. Usar el modelo KNN en un Bagging Classifier\n",
    "- Evaluar el rendimiento\n",
    "- Hacer un Grid Search sólo en los parámetros del Bagging Classifier"
   ]
  },
  {
   "cell_type": "code",
   "execution_count": 0,
   "metadata": {
    "colab": {},
    "colab_type": "code",
    "id": "ahQzuzBu4d4b"
   },
   "outputs": [],
   "source": []
  },
  {
   "cell_type": "markdown",
   "metadata": {
    "colab_type": "text",
    "id": "FwiLs_3p4d4g"
   },
   "source": [
    "## 4. Regresión Logística\n",
    "\n",
    "Ahora veamos si la regresión logística funciona mejor\n",
    "\n",
    "1. Inicializar una Regresión Logística y evaluarla\n",
    "- Buscar los parámetros óptimos con Grid Search\n",
    "- Ver si Bagging mejora el resultado"
   ]
  },
  {
   "cell_type": "code",
   "execution_count": 0,
   "metadata": {
    "colab": {},
    "colab_type": "code",
    "id": "2D1NPQAY4d4i"
   },
   "outputs": [],
   "source": []
  },
  {
   "cell_type": "markdown",
   "metadata": {
    "colab_type": "text",
    "id": "pw0-qIVF4d4m"
   },
   "source": [
    "## 5. Árboles de decisión\n",
    "\n",
    "Comprobemos como rinden los Árboles de Decisión\n",
    "\n",
    "1. Inicializar un árbol de decisión y evaluarlo\n",
    "- Buscar los parámetros óptimos con Grid Search\n",
    "- Ver si Bagging mejora el resultado"
   ]
  },
  {
   "cell_type": "code",
   "execution_count": 0,
   "metadata": {
    "colab": {},
    "colab_type": "code",
    "id": "FNLPb3BS4d4n"
   },
   "outputs": [],
   "source": []
  },
  {
   "cell_type": "markdown",
   "metadata": {
    "colab_type": "text",
    "id": "npS1hxll4d4q"
   },
   "source": [
    "## 6. Support Vector Machines\n",
    "\n",
    "Analicemos como funciona SVM\n",
    "\n",
    "1. Inicializar un SVM y evaluarlo\n",
    "- Buscar los parámetros óptimos con Grid Search\n",
    "- Ver si Bagging mejora el resultado"
   ]
  },
  {
   "cell_type": "code",
   "execution_count": 0,
   "metadata": {
    "colab": {},
    "colab_type": "code",
    "id": "VXAr1eUv4d4s"
   },
   "outputs": [],
   "source": []
  },
  {
   "cell_type": "markdown",
   "metadata": {
    "colab_type": "text",
    "id": "lF5g7_wX4d4u"
   },
   "source": [
    "## 7. Random Forest & Extra Trees\n",
    "\n",
    "Ahora veamos por último como funcionan Random Forest y Extra Trees\n",
    "\n",
    "1. Inicializar RF y ET y evaluarlos\n",
    "- Buscar los parámetros óptimos con Grid Search"
   ]
  },
  {
   "cell_type": "code",
   "execution_count": 0,
   "metadata": {
    "colab": {},
    "colab_type": "code",
    "id": "Kmfd3NkP4d4w"
   },
   "outputs": [],
   "source": []
  },
  {
   "cell_type": "markdown",
   "metadata": {
    "colab_type": "text",
    "id": "mANBjciF4d4y"
   },
   "source": [
    "## 8. Comparación de modelos\n",
    "\n",
    "Vamos a comparar los resultados de los diferentes modelos.\n",
    "\n",
    "1. Haga un gráfico de barras de los resultados de los mejores modelos. ¿Cuál es el ganador?\n",
    "- Volver a evaluar todos los modelos usando una validación cruzada estratificada de 3-fold\n",
    "- Hacer un gráfico de barras, mostrando el valor medio y desvío del resultado de la validación cruzada. ¿Es el mismo ganador?\n"
   ]
  },
  {
   "cell_type": "code",
   "execution_count": 0,
   "metadata": {
    "colab": {},
    "colab_type": "code",
    "id": "zLKyBTv94d4y"
   },
   "outputs": [],
   "source": []
  },
  {
   "cell_type": "markdown",
   "metadata": {
    "colab_type": "text",
    "id": "QlsQhqiw4d41"
   },
   "source": [
    "## Extra\n",
    "\n",
    "Hemos codificado los datos utilizando un mapa que preservaba el orden.\n",
    "¿Cómo cambiarían los resultados si codificamos los datos categóricos utilizando `pd.get_dummies` o `OneHotEncoder` para codificarlos como variables binarias?\n",
    "\n",
    "1. Repetir el análisis para este escenario. ¿Es mejor?\n",
    "- Experimentar con otros modelos u otros parámetros, ¿puedes obtener el mejor resultado de la clase?"
   ]
  },
  {
   "cell_type": "code",
   "execution_count": 0,
   "metadata": {
    "colab": {},
    "colab_type": "code",
    "id": "3_E-Xnl54d41"
   },
   "outputs": [],
   "source": []
  }
 ],
 "metadata": {
  "colab": {
   "name": "2.Starter_LAB_Eval_Modelos_Feature_Importance.ipynb",
   "provenance": [],
   "version": "0.3.2"
  },
  "kernelspec": {
   "display_name": "Python 3",
   "language": "python",
   "name": "python3"
  },
  "language_info": {
   "codemirror_mode": {
    "name": "ipython",
    "version": 3
   },
   "file_extension": ".py",
   "mimetype": "text/x-python",
   "name": "python",
   "nbconvert_exporter": "python",
   "pygments_lexer": "ipython3",
   "version": "3.6.7"
  }
 },
 "nbformat": 4,
 "nbformat_minor": 1
}
